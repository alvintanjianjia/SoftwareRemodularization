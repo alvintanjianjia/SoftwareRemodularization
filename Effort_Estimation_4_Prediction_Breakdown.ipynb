{
 "cells": [
  {
   "cell_type": "code",
   "execution_count": 1,
   "metadata": {},
   "outputs": [],
   "source": [
    "import json\n",
    "import pandas as pd\n",
    "import numpy as np\n",
    "import networkx as nx\n",
    "import os\n",
    "import shutil\n",
    "import subprocess\n",
    "from scipy.cluster.hierarchy import dendrogram, linkage\n",
    "from matplotlib import pyplot as plt\n",
    "from sklearn.feature_extraction.text import TfidfVectorizer\n",
    "from sklearn.cluster import KMeans\n",
    "from sklearn.metrics import adjusted_rand_score\n",
    "from sklearn import preprocessing\n",
    "from sklearn.cluster import AgglomerativeClustering\n",
    "from zipfile import ZipFile\n",
    "from filecmp import dircmp\n",
    "import h2o"
   ]
  },
  {
   "cell_type": "code",
   "execution_count": 6,
   "metadata": {},
   "outputs": [],
   "source": [
    "project_refactoring_data_agg = pd.read_csv('test_effort_model.csv')"
   ]
  },
  {
   "cell_type": "code",
   "execution_count": 7,
   "metadata": {},
   "outputs": [
    {
     "data": {
      "text/html": [
       "<div>\n",
       "<style scoped>\n",
       "    .dataframe tbody tr th:only-of-type {\n",
       "        vertical-align: middle;\n",
       "    }\n",
       "\n",
       "    .dataframe tbody tr th {\n",
       "        vertical-align: top;\n",
       "    }\n",
       "\n",
       "    .dataframe thead th {\n",
       "        text-align: right;\n",
       "    }\n",
       "</style>\n",
       "<table border=\"1\" class=\"dataframe\">\n",
       "  <thead>\n",
       "    <tr style=\"text-align: right;\">\n",
       "      <th></th>\n",
       "      <th>sha</th>\n",
       "      <th>name</th>\n",
       "      <th>email</th>\n",
       "      <th>date</th>\n",
       "      <th>login</th>\n",
       "      <th>message</th>\n",
       "      <th>parent_sha</th>\n",
       "      <th>parent_date</th>\n",
       "      <th>time_taken</th>\n",
       "      <th>contains_refactoring</th>\n",
       "      <th>...</th>\n",
       "      <th>num_dependency_std</th>\n",
       "      <th>num_line_affected_mean</th>\n",
       "      <th>num_line_affected_min</th>\n",
       "      <th>num_line_affected_max</th>\n",
       "      <th>num_line_affected_std</th>\n",
       "      <th>actual_num_of_classes_touched_mean</th>\n",
       "      <th>actual_num_of_classes_touched_min</th>\n",
       "      <th>actual_num_of_classes_touched_max</th>\n",
       "      <th>actual_num_of_classes_touched_std</th>\n",
       "      <th>time_taken_final</th>\n",
       "    </tr>\n",
       "  </thead>\n",
       "  <tbody>\n",
       "    <tr>\n",
       "      <th>0</th>\n",
       "      <td>6ad1e4fe77445e8689f6d3975b26e52165c9c3e6</td>\n",
       "      <td>Bin Fan</td>\n",
       "      <td>fanbin103@gmail.com</td>\n",
       "      <td>2021-08-04 02:49:16</td>\n",
       "      <td>apc999</td>\n",
       "      <td>Fix IndexOutOfBoundsException on async cache\\n...</td>\n",
       "      <td>df5dcab8bc308dfd2bf650a895865b13120a9866</td>\n",
       "      <td>2021-08-03 16:07:28</td>\n",
       "      <td>10.0</td>\n",
       "      <td>1</td>\n",
       "      <td>...</td>\n",
       "      <td>0.000000</td>\n",
       "      <td>764.000000</td>\n",
       "      <td>764</td>\n",
       "      <td>764</td>\n",
       "      <td>0.000</td>\n",
       "      <td>9.0</td>\n",
       "      <td>9</td>\n",
       "      <td>9</td>\n",
       "      <td>0.000000</td>\n",
       "      <td>10.0</td>\n",
       "    </tr>\n",
       "    <tr>\n",
       "      <th>1</th>\n",
       "      <td>8647c6162423b851dda8d10edf4686473d2e95cc</td>\n",
       "      <td>Zac Blanco</td>\n",
       "      <td>zac@alluxio.com</td>\n",
       "      <td>2021-07-15 21:54:27</td>\n",
       "      <td>ZacBlanco</td>\n",
       "      <td>Update and improve conformance of S3 API\\n\\n##...</td>\n",
       "      <td>79a5e5c78b7dfcdbf8edbd928a2ff59c904d08f8</td>\n",
       "      <td>2021-07-15 18:38:50</td>\n",
       "      <td>3.0</td>\n",
       "      <td>1</td>\n",
       "      <td>...</td>\n",
       "      <td>0.000000</td>\n",
       "      <td>275.000000</td>\n",
       "      <td>275</td>\n",
       "      <td>275</td>\n",
       "      <td>0.000</td>\n",
       "      <td>6.0</td>\n",
       "      <td>6</td>\n",
       "      <td>6</td>\n",
       "      <td>0.000000</td>\n",
       "      <td>3.0</td>\n",
       "    </tr>\n",
       "    <tr>\n",
       "      <th>2</th>\n",
       "      <td>3ce52983e6f50bfb7880b5a2cb13a18e4272170b</td>\n",
       "      <td>Zhan Yuan</td>\n",
       "      <td>yuanzhanhku@gmail.com</td>\n",
       "      <td>2021-07-12 06:39:42</td>\n",
       "      <td>yuanzhanhku</td>\n",
       "      <td>Add CacheContext to URIStatus to enable per-re...</td>\n",
       "      <td>cf79c7837c57c83c1b99a1dab53fec25deb2069d</td>\n",
       "      <td>2021-07-10 20:58:13</td>\n",
       "      <td>33.0</td>\n",
       "      <td>1</td>\n",
       "      <td>...</td>\n",
       "      <td>0.000000</td>\n",
       "      <td>115.000000</td>\n",
       "      <td>115</td>\n",
       "      <td>115</td>\n",
       "      <td>0.000</td>\n",
       "      <td>4.5</td>\n",
       "      <td>3</td>\n",
       "      <td>6</td>\n",
       "      <td>2.121320</td>\n",
       "      <td>33.0</td>\n",
       "    </tr>\n",
       "    <tr>\n",
       "      <th>3</th>\n",
       "      <td>a4dc54f7dc0333da096aa779dbaa79060c90d1ad</td>\n",
       "      <td>kqhzz</td>\n",
       "      <td>kuangqinghuazz@163.com</td>\n",
       "      <td>2021-06-09 18:09:26</td>\n",
       "      <td>kuszz</td>\n",
       "      <td>Deprecate leader command\\n\\nFix #13512\\n\\npr-l...</td>\n",
       "      <td>1356c0b35fd753d1081665b2c8f6b25da62bf2e8</td>\n",
       "      <td>2021-06-09 02:31:45</td>\n",
       "      <td>15.0</td>\n",
       "      <td>1</td>\n",
       "      <td>...</td>\n",
       "      <td>0.000000</td>\n",
       "      <td>61.000000</td>\n",
       "      <td>61</td>\n",
       "      <td>61</td>\n",
       "      <td>0.000</td>\n",
       "      <td>2.0</td>\n",
       "      <td>2</td>\n",
       "      <td>2</td>\n",
       "      <td>0.000000</td>\n",
       "      <td>15.0</td>\n",
       "    </tr>\n",
       "    <tr>\n",
       "      <th>4</th>\n",
       "      <td>7fb84094a6075bcef5a103b40adcac4b26b724ca</td>\n",
       "      <td>Jiacheng Liu</td>\n",
       "      <td>jiacheliu3@gmail.com</td>\n",
       "      <td>2021-05-29 00:37:05</td>\n",
       "      <td>jiacheliu3</td>\n",
       "      <td>Refactor MasterWorkerInfo\\n\\nCurrently all the...</td>\n",
       "      <td>220237085593d731756e24249bcf88a4d6ea5710</td>\n",
       "      <td>2021-05-28 23:28:46</td>\n",
       "      <td>1.0</td>\n",
       "      <td>1</td>\n",
       "      <td>...</td>\n",
       "      <td>93.543216</td>\n",
       "      <td>458.666667</td>\n",
       "      <td>24</td>\n",
       "      <td>1245</td>\n",
       "      <td>682.248</td>\n",
       "      <td>35.0</td>\n",
       "      <td>1</td>\n",
       "      <td>54</td>\n",
       "      <td>29.512709</td>\n",
       "      <td>1.0</td>\n",
       "    </tr>\n",
       "  </tbody>\n",
       "</table>\n",
       "<p>5 rows × 189 columns</p>\n",
       "</div>"
      ],
      "text/plain": [
       "                                        sha          name  \\\n",
       "0  6ad1e4fe77445e8689f6d3975b26e52165c9c3e6       Bin Fan   \n",
       "1  8647c6162423b851dda8d10edf4686473d2e95cc    Zac Blanco   \n",
       "2  3ce52983e6f50bfb7880b5a2cb13a18e4272170b     Zhan Yuan   \n",
       "3  a4dc54f7dc0333da096aa779dbaa79060c90d1ad         kqhzz   \n",
       "4  7fb84094a6075bcef5a103b40adcac4b26b724ca  Jiacheng Liu   \n",
       "\n",
       "                    email                 date        login  \\\n",
       "0     fanbin103@gmail.com  2021-08-04 02:49:16       apc999   \n",
       "1         zac@alluxio.com  2021-07-15 21:54:27    ZacBlanco   \n",
       "2   yuanzhanhku@gmail.com  2021-07-12 06:39:42  yuanzhanhku   \n",
       "3  kuangqinghuazz@163.com  2021-06-09 18:09:26        kuszz   \n",
       "4    jiacheliu3@gmail.com  2021-05-29 00:37:05   jiacheliu3   \n",
       "\n",
       "                                             message  \\\n",
       "0  Fix IndexOutOfBoundsException on async cache\\n...   \n",
       "1  Update and improve conformance of S3 API\\n\\n##...   \n",
       "2  Add CacheContext to URIStatus to enable per-re...   \n",
       "3  Deprecate leader command\\n\\nFix #13512\\n\\npr-l...   \n",
       "4  Refactor MasterWorkerInfo\\n\\nCurrently all the...   \n",
       "\n",
       "                                 parent_sha          parent_date  time_taken  \\\n",
       "0  df5dcab8bc308dfd2bf650a895865b13120a9866  2021-08-03 16:07:28        10.0   \n",
       "1  79a5e5c78b7dfcdbf8edbd928a2ff59c904d08f8  2021-07-15 18:38:50         3.0   \n",
       "2  cf79c7837c57c83c1b99a1dab53fec25deb2069d  2021-07-10 20:58:13        33.0   \n",
       "3  1356c0b35fd753d1081665b2c8f6b25da62bf2e8  2021-06-09 02:31:45        15.0   \n",
       "4  220237085593d731756e24249bcf88a4d6ea5710  2021-05-28 23:28:46         1.0   \n",
       "\n",
       "   contains_refactoring  ...  num_dependency_std  num_line_affected_mean  \\\n",
       "0                     1  ...            0.000000              764.000000   \n",
       "1                     1  ...            0.000000              275.000000   \n",
       "2                     1  ...            0.000000              115.000000   \n",
       "3                     1  ...            0.000000               61.000000   \n",
       "4                     1  ...           93.543216              458.666667   \n",
       "\n",
       "   num_line_affected_min  num_line_affected_max num_line_affected_std  \\\n",
       "0                    764                    764                 0.000   \n",
       "1                    275                    275                 0.000   \n",
       "2                    115                    115                 0.000   \n",
       "3                     61                     61                 0.000   \n",
       "4                     24                   1245               682.248   \n",
       "\n",
       "  actual_num_of_classes_touched_mean  actual_num_of_classes_touched_min  \\\n",
       "0                                9.0                                  9   \n",
       "1                                6.0                                  6   \n",
       "2                                4.5                                  3   \n",
       "3                                2.0                                  2   \n",
       "4                               35.0                                  1   \n",
       "\n",
       "   actual_num_of_classes_touched_max  actual_num_of_classes_touched_std  \\\n",
       "0                                  9                           0.000000   \n",
       "1                                  6                           0.000000   \n",
       "2                                  6                           2.121320   \n",
       "3                                  2                           0.000000   \n",
       "4                                 54                          29.512709   \n",
       "\n",
       "   time_taken_final  \n",
       "0              10.0  \n",
       "1               3.0  \n",
       "2              33.0  \n",
       "3              15.0  \n",
       "4               1.0  \n",
       "\n",
       "[5 rows x 189 columns]"
      ]
     },
     "execution_count": 7,
     "metadata": {},
     "output_type": "execute_result"
    }
   ],
   "source": [
    "project_refactoring_data_agg.head()"
   ]
  },
  {
   "cell_type": "code",
   "execution_count": 4,
   "metadata": {},
   "outputs": [
    {
     "name": "stdout",
     "output_type": "stream",
     "text": [
      "Checking whether there is an H2O instance running at http://localhost:54321 . connected.\n"
     ]
    },
    {
     "data": {
      "text/html": [
       "<div style=\"overflow:auto\"><table style=\"width:50%\"><tr><td>H2O_cluster_uptime:</td>\n",
       "<td>3 mins 11 secs</td></tr>\n",
       "<tr><td>H2O_cluster_timezone:</td>\n",
       "<td>Asia/Kuala_Lumpur</td></tr>\n",
       "<tr><td>H2O_data_parsing_timezone:</td>\n",
       "<td>UTC</td></tr>\n",
       "<tr><td>H2O_cluster_version:</td>\n",
       "<td>3.32.1.7</td></tr>\n",
       "<tr><td>H2O_cluster_version_age:</td>\n",
       "<td>3 months and 2 days </td></tr>\n",
       "<tr><td>H2O_cluster_name:</td>\n",
       "<td>H2O_from_python_tanji_k06gu1</td></tr>\n",
       "<tr><td>H2O_cluster_total_nodes:</td>\n",
       "<td>1</td></tr>\n",
       "<tr><td>H2O_cluster_free_memory:</td>\n",
       "<td>7.984 Gb</td></tr>\n",
       "<tr><td>H2O_cluster_total_cores:</td>\n",
       "<td>12</td></tr>\n",
       "<tr><td>H2O_cluster_allowed_cores:</td>\n",
       "<td>4</td></tr>\n",
       "<tr><td>H2O_cluster_status:</td>\n",
       "<td>locked, healthy</td></tr>\n",
       "<tr><td>H2O_connection_url:</td>\n",
       "<td>http://localhost:54321</td></tr>\n",
       "<tr><td>H2O_connection_proxy:</td>\n",
       "<td>{\"http\": null, \"https\": null}</td></tr>\n",
       "<tr><td>H2O_internal_security:</td>\n",
       "<td>False</td></tr>\n",
       "<tr><td>H2O_API_Extensions:</td>\n",
       "<td>Amazon S3, Algos, AutoML, Core V3, TargetEncoder, Core V4</td></tr>\n",
       "<tr><td>Python_version:</td>\n",
       "<td>3.7.3 final</td></tr></table></div>"
      ],
      "text/plain": [
       "--------------------------  ---------------------------------------------------------\n",
       "H2O_cluster_uptime:         3 mins 11 secs\n",
       "H2O_cluster_timezone:       Asia/Kuala_Lumpur\n",
       "H2O_data_parsing_timezone:  UTC\n",
       "H2O_cluster_version:        3.32.1.7\n",
       "H2O_cluster_version_age:    3 months and 2 days\n",
       "H2O_cluster_name:           H2O_from_python_tanji_k06gu1\n",
       "H2O_cluster_total_nodes:    1\n",
       "H2O_cluster_free_memory:    7.984 Gb\n",
       "H2O_cluster_total_cores:    12\n",
       "H2O_cluster_allowed_cores:  4\n",
       "H2O_cluster_status:         locked, healthy\n",
       "H2O_connection_url:         http://localhost:54321\n",
       "H2O_connection_proxy:       {\"http\": null, \"https\": null}\n",
       "H2O_internal_security:      False\n",
       "H2O_API_Extensions:         Amazon S3, Algos, AutoML, Core V3, TargetEncoder, Core V4\n",
       "Python_version:             3.7.3 final\n",
       "--------------------------  ---------------------------------------------------------"
      ]
     },
     "metadata": {},
     "output_type": "display_data"
    }
   ],
   "source": [
    "h2o.init()"
   ]
  },
  {
   "cell_type": "code",
   "execution_count": 5,
   "metadata": {},
   "outputs": [],
   "source": [
    "model_path = \"models/EffortEstimationModelv2/GBM_grid__1_AutoML_20211125_154317_model_2\"\n",
    "saved_model = h2o.load_model(model_path)"
   ]
  },
  {
   "cell_type": "code",
   "execution_count": 8,
   "metadata": {},
   "outputs": [
    {
     "name": "stdout",
     "output_type": "stream",
     "text": [
      "Parse progress: |█████████████████████████████████████████████████████████| 100%\n"
     ]
    }
   ],
   "source": [
    "prediction_df = h2o.H2OFrame(project_refactoring_data_agg)"
   ]
  },
  {
   "cell_type": "code",
   "execution_count": 9,
   "metadata": {},
   "outputs": [
    {
     "name": "stdout",
     "output_type": "stream",
     "text": [
      "gbm prediction progress: |████████████████████████████████████████████████| 100%\n"
     ]
    }
   ],
   "source": [
    "preds = saved_model.predict(prediction_df)"
   ]
  },
  {
   "cell_type": "code",
   "execution_count": 13,
   "metadata": {},
   "outputs": [
    {
     "data": {
      "text/html": [
       "<div>\n",
       "<style scoped>\n",
       "    .dataframe tbody tr th:only-of-type {\n",
       "        vertical-align: middle;\n",
       "    }\n",
       "\n",
       "    .dataframe tbody tr th {\n",
       "        vertical-align: top;\n",
       "    }\n",
       "\n",
       "    .dataframe thead th {\n",
       "        text-align: right;\n",
       "    }\n",
       "</style>\n",
       "<table border=\"1\" class=\"dataframe\">\n",
       "  <thead>\n",
       "    <tr style=\"text-align: right;\">\n",
       "      <th></th>\n",
       "      <th>predict</th>\n",
       "    </tr>\n",
       "  </thead>\n",
       "  <tbody>\n",
       "    <tr>\n",
       "      <th>0</th>\n",
       "      <td>7.919424</td>\n",
       "    </tr>\n",
       "    <tr>\n",
       "      <th>1</th>\n",
       "      <td>6.570847</td>\n",
       "    </tr>\n",
       "    <tr>\n",
       "      <th>2</th>\n",
       "      <td>18.004282</td>\n",
       "    </tr>\n",
       "    <tr>\n",
       "      <th>3</th>\n",
       "      <td>32.488578</td>\n",
       "    </tr>\n",
       "    <tr>\n",
       "      <th>4</th>\n",
       "      <td>5.651252</td>\n",
       "    </tr>\n",
       "    <tr>\n",
       "      <th>...</th>\n",
       "      <td>...</td>\n",
       "    </tr>\n",
       "    <tr>\n",
       "      <th>361</th>\n",
       "      <td>9.956820</td>\n",
       "    </tr>\n",
       "    <tr>\n",
       "      <th>362</th>\n",
       "      <td>4.604260</td>\n",
       "    </tr>\n",
       "    <tr>\n",
       "      <th>363</th>\n",
       "      <td>9.324087</td>\n",
       "    </tr>\n",
       "    <tr>\n",
       "      <th>364</th>\n",
       "      <td>1.708048</td>\n",
       "    </tr>\n",
       "    <tr>\n",
       "      <th>365</th>\n",
       "      <td>16.382376</td>\n",
       "    </tr>\n",
       "  </tbody>\n",
       "</table>\n",
       "<p>366 rows × 1 columns</p>\n",
       "</div>"
      ],
      "text/plain": [
       "       predict\n",
       "0     7.919424\n",
       "1     6.570847\n",
       "2    18.004282\n",
       "3    32.488578\n",
       "4     5.651252\n",
       "..         ...\n",
       "361   9.956820\n",
       "362   4.604260\n",
       "363   9.324087\n",
       "364   1.708048\n",
       "365  16.382376\n",
       "\n",
       "[366 rows x 1 columns]"
      ]
     },
     "execution_count": 13,
     "metadata": {},
     "output_type": "execute_result"
    }
   ],
   "source": [
    "preds = preds.as_data_frame()\n",
    "preds"
   ]
  },
  {
   "cell_type": "code",
   "execution_count": 18,
   "metadata": {},
   "outputs": [],
   "source": [
    "preds['actual_time_taken'] = project_refactoring_data_agg['time_taken']"
   ]
  },
  {
   "cell_type": "code",
   "execution_count": 20,
   "metadata": {},
   "outputs": [
    {
     "data": {
      "text/html": [
       "<div>\n",
       "<style scoped>\n",
       "    .dataframe tbody tr th:only-of-type {\n",
       "        vertical-align: middle;\n",
       "    }\n",
       "\n",
       "    .dataframe tbody tr th {\n",
       "        vertical-align: top;\n",
       "    }\n",
       "\n",
       "    .dataframe thead th {\n",
       "        text-align: right;\n",
       "    }\n",
       "</style>\n",
       "<table border=\"1\" class=\"dataframe\">\n",
       "  <thead>\n",
       "    <tr style=\"text-align: right;\">\n",
       "      <th></th>\n",
       "      <th>predict</th>\n",
       "      <th>actual_time_taken</th>\n",
       "    </tr>\n",
       "  </thead>\n",
       "  <tbody>\n",
       "    <tr>\n",
       "      <th>0</th>\n",
       "      <td>7.919424</td>\n",
       "      <td>10.0</td>\n",
       "    </tr>\n",
       "    <tr>\n",
       "      <th>1</th>\n",
       "      <td>6.570847</td>\n",
       "      <td>3.0</td>\n",
       "    </tr>\n",
       "    <tr>\n",
       "      <th>2</th>\n",
       "      <td>18.004282</td>\n",
       "      <td>33.0</td>\n",
       "    </tr>\n",
       "    <tr>\n",
       "      <th>3</th>\n",
       "      <td>32.488578</td>\n",
       "      <td>15.0</td>\n",
       "    </tr>\n",
       "    <tr>\n",
       "      <th>4</th>\n",
       "      <td>5.651252</td>\n",
       "      <td>1.0</td>\n",
       "    </tr>\n",
       "    <tr>\n",
       "      <th>...</th>\n",
       "      <td>...</td>\n",
       "      <td>...</td>\n",
       "    </tr>\n",
       "    <tr>\n",
       "      <th>361</th>\n",
       "      <td>9.956820</td>\n",
       "      <td>146.0</td>\n",
       "    </tr>\n",
       "    <tr>\n",
       "      <th>362</th>\n",
       "      <td>4.604260</td>\n",
       "      <td>1.0</td>\n",
       "    </tr>\n",
       "    <tr>\n",
       "      <th>363</th>\n",
       "      <td>9.324087</td>\n",
       "      <td>1.0</td>\n",
       "    </tr>\n",
       "    <tr>\n",
       "      <th>364</th>\n",
       "      <td>1.708048</td>\n",
       "      <td>1.0</td>\n",
       "    </tr>\n",
       "    <tr>\n",
       "      <th>365</th>\n",
       "      <td>16.382376</td>\n",
       "      <td>52.0</td>\n",
       "    </tr>\n",
       "  </tbody>\n",
       "</table>\n",
       "<p>366 rows × 2 columns</p>\n",
       "</div>"
      ],
      "text/plain": [
       "       predict  actual_time_taken\n",
       "0     7.919424               10.0\n",
       "1     6.570847                3.0\n",
       "2    18.004282               33.0\n",
       "3    32.488578               15.0\n",
       "4     5.651252                1.0\n",
       "..         ...                ...\n",
       "361   9.956820              146.0\n",
       "362   4.604260                1.0\n",
       "363   9.324087                1.0\n",
       "364   1.708048                1.0\n",
       "365  16.382376               52.0\n",
       "\n",
       "[366 rows x 2 columns]"
      ]
     },
     "execution_count": 20,
     "metadata": {},
     "output_type": "execute_result"
    }
   ],
   "source": [
    "preds"
   ]
  },
  {
   "cell_type": "code",
   "execution_count": 21,
   "metadata": {},
   "outputs": [],
   "source": [
    "def plotGraph(y_test,y_pred,regressorName):\n",
    "    if max(y_test) >= max(y_pred):\n",
    "        my_range = int(max(y_test))\n",
    "    else:\n",
    "        my_range = int(max(y_pred))\n",
    "    plt.scatter(range(len(y_test)), y_test, color='blue')\n",
    "    plt.scatter(range(len(y_pred)), y_pred, color='red')\n",
    "    plt.title(regressorName)\n",
    "    plt.show()\n",
    "    return"
   ]
  },
  {
   "cell_type": "code",
   "execution_count": 25,
   "metadata": {},
   "outputs": [
    {
     "data": {
      "image/png": "[encoded data removed]",
      "text/plain": [
       "<Figure size 432x288 with 1 Axes>"
      ]
     },
     "metadata": {
      "needs_background": "light"
     },
     "output_type": "display_data"
    }
   ],
   "source": [
    "plotGraph(preds['actual_time_taken'],preds['predict'],'test')"
   ]
  },
  {
   "cell_type": "code",
   "execution_count": 19,
   "metadata": {},
   "outputs": [
    {
     "data": {
      "text/plain": [
       "[<matplotlib.lines.Line2D at 0x20cdfafb128>,\n",
       " <matplotlib.lines.Line2D at 0x20ce1b6fb00>]"
      ]
     },
     "execution_count": 19,
     "metadata": {},
     "output_type": "execute_result"
    },
    {
     "data": {
      "image/png": "[encoded data removed]",
      "text/plain": [
       "<Figure size 432x288 with 1 Axes>"
      ]
     },
     "metadata": {
      "needs_background": "light"
     },
     "output_type": "display_data"
    }
   ],
   "source": [
    "plt.plot(preds)"
   ]
  },
  {
   "cell_type": "code",
   "execution_count": 15,
   "metadata": {},
   "outputs": [
    {
     "data": {
      "text/plain": [
       "<matplotlib.collections.PathCollection at 0x20ce0b87048>"
      ]
     },
     "execution_count": 15,
     "metadata": {},
     "output_type": "execute_result"
    },
    {
     "data": {
      "image/png": "[encoded data removed]",
      "text/plain": [
       "<Figure size 432x288 with 1 Axes>"
      ]
     },
     "metadata": {
      "needs_background": "light"
     },
     "output_type": "display_data"
    }
   ],
   "source": [
    "plt.scatter(preds,project_refactoring_data_agg['time_taken'])"
   ]
  },
  {
   "cell_type": "code",
   "execution_count": 16,
   "metadata": {},
   "outputs": [
    {
     "data": {
      "text/plain": [
       "(366, 1)"
      ]
     },
     "execution_count": 16,
     "metadata": {},
     "output_type": "execute_result"
    }
   ],
   "source": [
    "preds.shape"
   ]
  },
  {
   "cell_type": "code",
   "execution_count": 17,
   "metadata": {},
   "outputs": [
    {
     "data": {
      "text/plain": [
       "366"
      ]
     },
     "execution_count": 17,
     "metadata": {},
     "output_type": "execute_result"
    }
   ],
   "source": [
    "len(project_refactoring_data_agg)"
   ]
  },
  {
   "cell_type": "code",
   "execution_count": null,
   "metadata": {},
   "outputs": [],
   "source": []
  }
 ],
 "metadata": {
  "kernelspec": {
   "display_name": "Python 3",
   "language": "python",
   "name": "python3"
  },
  "language_info": {
   "codemirror_mode": {
    "name": "ipython",
    "version": 3
   },
   "file_extension": ".py",
   "mimetype": "text/x-python",
   "name": "python",
   "nbconvert_exporter": "python",
   "pygments_lexer": "ipython3",
   "version": "3.7.3"
  }
 },
 "nbformat": 4,
 "nbformat_minor": 2
}
