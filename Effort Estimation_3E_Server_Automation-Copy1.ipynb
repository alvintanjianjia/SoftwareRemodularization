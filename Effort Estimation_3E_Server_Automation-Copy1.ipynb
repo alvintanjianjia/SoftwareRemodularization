{
 "cells": [
  {
   "cell_type": "code",
   "execution_count": 1,
   "metadata": {},
   "outputs": [],
   "source": [
    "import pandas as pd"
   ]
  },
  {
   "cell_type": "code",
   "execution_count": 6,
   "metadata": {},
   "outputs": [
    {
     "data": {
      "text/html": [
       "<div>\n",
       "<style scoped>\n",
       "    .dataframe tbody tr th:only-of-type {\n",
       "        vertical-align: middle;\n",
       "    }\n",
       "\n",
       "    .dataframe tbody tr th {\n",
       "        vertical-align: top;\n",
       "    }\n",
       "\n",
       "    .dataframe thead th {\n",
       "        text-align: right;\n",
       "    }\n",
       "</style>\n",
       "<table border=\"1\" class=\"dataframe\">\n",
       "  <thead>\n",
       "    <tr style=\"text-align: right;\">\n",
       "      <th></th>\n",
       "      <th>project_name</th>\n",
       "      <th>project_link</th>\n",
       "      <th>0</th>\n",
       "    </tr>\n",
       "  </thead>\n",
       "  <tbody>\n",
       "    <tr>\n",
       "      <th>0</th>\n",
       "      <td>Alluxio</td>\n",
       "      <td>https://github.com/Alluxio/alluxio</td>\n",
       "      <td>12</td>\n",
       "    </tr>\n",
       "    <tr>\n",
       "      <th>1</th>\n",
       "      <td>Assertj-core</td>\n",
       "      <td>https://github.com/assertj/assertj-core</td>\n",
       "      <td>12</td>\n",
       "    </tr>\n",
       "    <tr>\n",
       "      <th>2</th>\n",
       "      <td>Atmosphere</td>\n",
       "      <td>https://github.com/Atmosphere/atmosphere</td>\n",
       "      <td>12</td>\n",
       "    </tr>\n",
       "    <tr>\n",
       "      <th>3</th>\n",
       "      <td>AxonFramework</td>\n",
       "      <td>https://github.com/AxonFramework/AxonFramework</td>\n",
       "      <td>12</td>\n",
       "    </tr>\n",
       "    <tr>\n",
       "      <th>4</th>\n",
       "      <td>Beam</td>\n",
       "      <td>https://github.com/apache/beam</td>\n",
       "      <td>12</td>\n",
       "    </tr>\n",
       "    <tr>\n",
       "      <th>5</th>\n",
       "      <td>Byte-buddy</td>\n",
       "      <td>https://github.com/raphw/byte-buddy</td>\n",
       "      <td>12</td>\n",
       "    </tr>\n",
       "    <tr>\n",
       "      <th>6</th>\n",
       "      <td>Camel</td>\n",
       "      <td>https://github.com/apache/camel</td>\n",
       "      <td>12</td>\n",
       "    </tr>\n",
       "    <tr>\n",
       "      <th>7</th>\n",
       "      <td>Cas</td>\n",
       "      <td>https://github.com/apereo/cas</td>\n",
       "      <td>12</td>\n",
       "    </tr>\n",
       "    <tr>\n",
       "      <th>8</th>\n",
       "      <td>Cassandra</td>\n",
       "      <td>https://github.com/apache/cassandra</td>\n",
       "      <td>12</td>\n",
       "    </tr>\n",
       "    <tr>\n",
       "      <th>9</th>\n",
       "      <td>Cxf</td>\n",
       "      <td>https://github.com/apache/cxf</td>\n",
       "      <td>12</td>\n",
       "    </tr>\n",
       "    <tr>\n",
       "      <th>10</th>\n",
       "      <td>Dbeaver</td>\n",
       "      <td>https://github.com/dbeaver/dbeaver</td>\n",
       "      <td>12</td>\n",
       "    </tr>\n",
       "    <tr>\n",
       "      <th>11</th>\n",
       "      <td>Eclim</td>\n",
       "      <td>https://github.com/ervandew/eclim</td>\n",
       "      <td>12</td>\n",
       "    </tr>\n",
       "    <tr>\n",
       "      <th>12</th>\n",
       "      <td>Guacamole-client</td>\n",
       "      <td>https://github.com/apache/guacamole-client</td>\n",
       "      <td>12</td>\n",
       "    </tr>\n",
       "    <tr>\n",
       "      <th>13</th>\n",
       "      <td>Hadoop</td>\n",
       "      <td>https://github.com/apache/hadoop</td>\n",
       "      <td>12</td>\n",
       "    </tr>\n",
       "    <tr>\n",
       "      <th>14</th>\n",
       "      <td>Hawtio</td>\n",
       "      <td>https://github.com/hawtio/hawtio</td>\n",
       "      <td>12</td>\n",
       "    </tr>\n",
       "    <tr>\n",
       "      <th>15</th>\n",
       "      <td>Okhttp</td>\n",
       "      <td>https://github.com/square/okhttp</td>\n",
       "      <td>12</td>\n",
       "    </tr>\n",
       "    <tr>\n",
       "      <th>16</th>\n",
       "      <td>Openapi-generator</td>\n",
       "      <td>https://github.com/OpenAPITools/openapi-generator</td>\n",
       "      <td>12</td>\n",
       "    </tr>\n",
       "    <tr>\n",
       "      <th>17</th>\n",
       "      <td>Orientdb</td>\n",
       "      <td>https://github.com/orientechnologies/orientdb</td>\n",
       "      <td>12</td>\n",
       "    </tr>\n",
       "    <tr>\n",
       "      <th>18</th>\n",
       "      <td>Redisson</td>\n",
       "      <td>https://github.com/redisson/redisson</td>\n",
       "      <td>12</td>\n",
       "    </tr>\n",
       "    <tr>\n",
       "      <th>19</th>\n",
       "      <td>Rest-assured</td>\n",
       "      <td>https://github.com/rest-assured/rest-assured</td>\n",
       "      <td>12</td>\n",
       "    </tr>\n",
       "    <tr>\n",
       "      <th>20</th>\n",
       "      <td>Spotbugs</td>\n",
       "      <td>https://github.com/spotbugs/spotbugs</td>\n",
       "      <td>12</td>\n",
       "    </tr>\n",
       "    <tr>\n",
       "      <th>21</th>\n",
       "      <td>Spring-framework</td>\n",
       "      <td>https://github.com/spring-projects/spring-fram...</td>\n",
       "      <td>12</td>\n",
       "    </tr>\n",
       "    <tr>\n",
       "      <th>22</th>\n",
       "      <td>Spring-security</td>\n",
       "      <td>https://github.com/spring-projects/spring-secu...</td>\n",
       "      <td>12</td>\n",
       "    </tr>\n",
       "    <tr>\n",
       "      <th>23</th>\n",
       "      <td>Storm</td>\n",
       "      <td>https://github.com/apache/storm</td>\n",
       "      <td>12</td>\n",
       "    </tr>\n",
       "    <tr>\n",
       "      <th>24</th>\n",
       "      <td>Testcontainers-java</td>\n",
       "      <td>https://github.com/testcontainers/testcontaine...</td>\n",
       "      <td>12</td>\n",
       "    </tr>\n",
       "    <tr>\n",
       "      <th>25</th>\n",
       "      <td>Tika</td>\n",
       "      <td>https://github.com/apache/tika</td>\n",
       "      <td>12</td>\n",
       "    </tr>\n",
       "    <tr>\n",
       "      <th>26</th>\n",
       "      <td>Traccar</td>\n",
       "      <td>https://github.com/traccar/traccar</td>\n",
       "      <td>12</td>\n",
       "    </tr>\n",
       "    <tr>\n",
       "      <th>27</th>\n",
       "      <td>karaf</td>\n",
       "      <td>https://github.com/apache/karaf</td>\n",
       "      <td>12</td>\n",
       "    </tr>\n",
       "  </tbody>\n",
       "</table>\n",
       "</div>"
      ],
      "text/plain": [
       "           project_name                                       project_link   0\n",
       "0               Alluxio                 https://github.com/Alluxio/alluxio  12\n",
       "1          Assertj-core            https://github.com/assertj/assertj-core  12\n",
       "2            Atmosphere           https://github.com/Atmosphere/atmosphere  12\n",
       "3         AxonFramework     https://github.com/AxonFramework/AxonFramework  12\n",
       "4                  Beam                     https://github.com/apache/beam  12\n",
       "5            Byte-buddy                https://github.com/raphw/byte-buddy  12\n",
       "6                 Camel                    https://github.com/apache/camel  12\n",
       "7                   Cas                      https://github.com/apereo/cas  12\n",
       "8             Cassandra                https://github.com/apache/cassandra  12\n",
       "9                   Cxf                      https://github.com/apache/cxf  12\n",
       "10              Dbeaver                 https://github.com/dbeaver/dbeaver  12\n",
       "11                Eclim                  https://github.com/ervandew/eclim  12\n",
       "12     Guacamole-client         https://github.com/apache/guacamole-client  12\n",
       "13               Hadoop                   https://github.com/apache/hadoop  12\n",
       "14               Hawtio                   https://github.com/hawtio/hawtio  12\n",
       "15               Okhttp                   https://github.com/square/okhttp  12\n",
       "16    Openapi-generator  https://github.com/OpenAPITools/openapi-generator  12\n",
       "17             Orientdb      https://github.com/orientechnologies/orientdb  12\n",
       "18             Redisson               https://github.com/redisson/redisson  12\n",
       "19         Rest-assured       https://github.com/rest-assured/rest-assured  12\n",
       "20             Spotbugs               https://github.com/spotbugs/spotbugs  12\n",
       "21     Spring-framework  https://github.com/spring-projects/spring-fram...  12\n",
       "22      Spring-security  https://github.com/spring-projects/spring-secu...  12\n",
       "23                Storm                    https://github.com/apache/storm  12\n",
       "24  Testcontainers-java  https://github.com/testcontainers/testcontaine...  12\n",
       "25                 Tika                     https://github.com/apache/tika  12\n",
       "26              Traccar                 https://github.com/traccar/traccar  12\n",
       "27                karaf                    https://github.com/apache/karaf  12"
      ]
     },
     "execution_count": 6,
     "metadata": {},
     "output_type": "execute_result"
    }
   ],
   "source": [
    "github_links = pd.read_csv('C:/Users/tanji/Desktop/SoftwareRemodularization/volatile_projects_complete_links_limit10_filtered.csv')\n",
    "github_links = github_links.groupby(['project_name', 'project_link']).size().reset_index()\n",
    "github_links"
   ]
  },
  {
   "cell_type": "code",
   "execution_count": 7,
   "metadata": {},
   "outputs": [],
   "source": [
    "#github_links = github_links.tail(4)"
   ]
  },
  {
   "cell_type": "code",
   "execution_count": 8,
   "metadata": {},
   "outputs": [
    {
     "data": {
      "text/html": [
       "<div>\n",
       "<style scoped>\n",
       "    .dataframe tbody tr th:only-of-type {\n",
       "        vertical-align: middle;\n",
       "    }\n",
       "\n",
       "    .dataframe tbody tr th {\n",
       "        vertical-align: top;\n",
       "    }\n",
       "\n",
       "    .dataframe thead th {\n",
       "        text-align: right;\n",
       "    }\n",
       "</style>\n",
       "<table border=\"1\" class=\"dataframe\">\n",
       "  <thead>\n",
       "    <tr style=\"text-align: right;\">\n",
       "      <th></th>\n",
       "      <th>project_name</th>\n",
       "      <th>project_link</th>\n",
       "      <th>0</th>\n",
       "    </tr>\n",
       "  </thead>\n",
       "  <tbody>\n",
       "    <tr>\n",
       "      <th>0</th>\n",
       "      <td>Alluxio</td>\n",
       "      <td>https://github.com/Alluxio/alluxio</td>\n",
       "      <td>12</td>\n",
       "    </tr>\n",
       "    <tr>\n",
       "      <th>1</th>\n",
       "      <td>Assertj-core</td>\n",
       "      <td>https://github.com/assertj/assertj-core</td>\n",
       "      <td>12</td>\n",
       "    </tr>\n",
       "    <tr>\n",
       "      <th>2</th>\n",
       "      <td>Atmosphere</td>\n",
       "      <td>https://github.com/Atmosphere/atmosphere</td>\n",
       "      <td>12</td>\n",
       "    </tr>\n",
       "    <tr>\n",
       "      <th>3</th>\n",
       "      <td>AxonFramework</td>\n",
       "      <td>https://github.com/AxonFramework/AxonFramework</td>\n",
       "      <td>12</td>\n",
       "    </tr>\n",
       "    <tr>\n",
       "      <th>4</th>\n",
       "      <td>Beam</td>\n",
       "      <td>https://github.com/apache/beam</td>\n",
       "      <td>12</td>\n",
       "    </tr>\n",
       "    <tr>\n",
       "      <th>5</th>\n",
       "      <td>Byte-buddy</td>\n",
       "      <td>https://github.com/raphw/byte-buddy</td>\n",
       "      <td>12</td>\n",
       "    </tr>\n",
       "    <tr>\n",
       "      <th>6</th>\n",
       "      <td>Camel</td>\n",
       "      <td>https://github.com/apache/camel</td>\n",
       "      <td>12</td>\n",
       "    </tr>\n",
       "    <tr>\n",
       "      <th>7</th>\n",
       "      <td>Cas</td>\n",
       "      <td>https://github.com/apereo/cas</td>\n",
       "      <td>12</td>\n",
       "    </tr>\n",
       "    <tr>\n",
       "      <th>8</th>\n",
       "      <td>Cassandra</td>\n",
       "      <td>https://github.com/apache/cassandra</td>\n",
       "      <td>12</td>\n",
       "    </tr>\n",
       "    <tr>\n",
       "      <th>9</th>\n",
       "      <td>Cxf</td>\n",
       "      <td>https://github.com/apache/cxf</td>\n",
       "      <td>12</td>\n",
       "    </tr>\n",
       "    <tr>\n",
       "      <th>10</th>\n",
       "      <td>Dbeaver</td>\n",
       "      <td>https://github.com/dbeaver/dbeaver</td>\n",
       "      <td>12</td>\n",
       "    </tr>\n",
       "    <tr>\n",
       "      <th>11</th>\n",
       "      <td>Eclim</td>\n",
       "      <td>https://github.com/ervandew/eclim</td>\n",
       "      <td>12</td>\n",
       "    </tr>\n",
       "    <tr>\n",
       "      <th>12</th>\n",
       "      <td>Guacamole-client</td>\n",
       "      <td>https://github.com/apache/guacamole-client</td>\n",
       "      <td>12</td>\n",
       "    </tr>\n",
       "    <tr>\n",
       "      <th>13</th>\n",
       "      <td>Hadoop</td>\n",
       "      <td>https://github.com/apache/hadoop</td>\n",
       "      <td>12</td>\n",
       "    </tr>\n",
       "    <tr>\n",
       "      <th>14</th>\n",
       "      <td>Hawtio</td>\n",
       "      <td>https://github.com/hawtio/hawtio</td>\n",
       "      <td>12</td>\n",
       "    </tr>\n",
       "    <tr>\n",
       "      <th>15</th>\n",
       "      <td>Okhttp</td>\n",
       "      <td>https://github.com/square/okhttp</td>\n",
       "      <td>12</td>\n",
       "    </tr>\n",
       "    <tr>\n",
       "      <th>16</th>\n",
       "      <td>Openapi-generator</td>\n",
       "      <td>https://github.com/OpenAPITools/openapi-generator</td>\n",
       "      <td>12</td>\n",
       "    </tr>\n",
       "    <tr>\n",
       "      <th>17</th>\n",
       "      <td>Orientdb</td>\n",
       "      <td>https://github.com/orientechnologies/orientdb</td>\n",
       "      <td>12</td>\n",
       "    </tr>\n",
       "    <tr>\n",
       "      <th>18</th>\n",
       "      <td>Redisson</td>\n",
       "      <td>https://github.com/redisson/redisson</td>\n",
       "      <td>12</td>\n",
       "    </tr>\n",
       "    <tr>\n",
       "      <th>19</th>\n",
       "      <td>Rest-assured</td>\n",
       "      <td>https://github.com/rest-assured/rest-assured</td>\n",
       "      <td>12</td>\n",
       "    </tr>\n",
       "    <tr>\n",
       "      <th>20</th>\n",
       "      <td>Spotbugs</td>\n",
       "      <td>https://github.com/spotbugs/spotbugs</td>\n",
       "      <td>12</td>\n",
       "    </tr>\n",
       "    <tr>\n",
       "      <th>21</th>\n",
       "      <td>Spring-framework</td>\n",
       "      <td>https://github.com/spring-projects/spring-fram...</td>\n",
       "      <td>12</td>\n",
       "    </tr>\n",
       "    <tr>\n",
       "      <th>22</th>\n",
       "      <td>Spring-security</td>\n",
       "      <td>https://github.com/spring-projects/spring-secu...</td>\n",
       "      <td>12</td>\n",
       "    </tr>\n",
       "    <tr>\n",
       "      <th>23</th>\n",
       "      <td>Storm</td>\n",
       "      <td>https://github.com/apache/storm</td>\n",
       "      <td>12</td>\n",
       "    </tr>\n",
       "    <tr>\n",
       "      <th>24</th>\n",
       "      <td>Testcontainers-java</td>\n",
       "      <td>https://github.com/testcontainers/testcontaine...</td>\n",
       "      <td>12</td>\n",
       "    </tr>\n",
       "    <tr>\n",
       "      <th>25</th>\n",
       "      <td>Tika</td>\n",
       "      <td>https://github.com/apache/tika</td>\n",
       "      <td>12</td>\n",
       "    </tr>\n",
       "    <tr>\n",
       "      <th>26</th>\n",
       "      <td>Traccar</td>\n",
       "      <td>https://github.com/traccar/traccar</td>\n",
       "      <td>12</td>\n",
       "    </tr>\n",
       "    <tr>\n",
       "      <th>27</th>\n",
       "      <td>karaf</td>\n",
       "      <td>https://github.com/apache/karaf</td>\n",
       "      <td>12</td>\n",
       "    </tr>\n",
       "  </tbody>\n",
       "</table>\n",
       "</div>"
      ],
      "text/plain": [
       "           project_name                                       project_link   0\n",
       "0               Alluxio                 https://github.com/Alluxio/alluxio  12\n",
       "1          Assertj-core            https://github.com/assertj/assertj-core  12\n",
       "2            Atmosphere           https://github.com/Atmosphere/atmosphere  12\n",
       "3         AxonFramework     https://github.com/AxonFramework/AxonFramework  12\n",
       "4                  Beam                     https://github.com/apache/beam  12\n",
       "5            Byte-buddy                https://github.com/raphw/byte-buddy  12\n",
       "6                 Camel                    https://github.com/apache/camel  12\n",
       "7                   Cas                      https://github.com/apereo/cas  12\n",
       "8             Cassandra                https://github.com/apache/cassandra  12\n",
       "9                   Cxf                      https://github.com/apache/cxf  12\n",
       "10              Dbeaver                 https://github.com/dbeaver/dbeaver  12\n",
       "11                Eclim                  https://github.com/ervandew/eclim  12\n",
       "12     Guacamole-client         https://github.com/apache/guacamole-client  12\n",
       "13               Hadoop                   https://github.com/apache/hadoop  12\n",
       "14               Hawtio                   https://github.com/hawtio/hawtio  12\n",
       "15               Okhttp                   https://github.com/square/okhttp  12\n",
       "16    Openapi-generator  https://github.com/OpenAPITools/openapi-generator  12\n",
       "17             Orientdb      https://github.com/orientechnologies/orientdb  12\n",
       "18             Redisson               https://github.com/redisson/redisson  12\n",
       "19         Rest-assured       https://github.com/rest-assured/rest-assured  12\n",
       "20             Spotbugs               https://github.com/spotbugs/spotbugs  12\n",
       "21     Spring-framework  https://github.com/spring-projects/spring-fram...  12\n",
       "22      Spring-security  https://github.com/spring-projects/spring-secu...  12\n",
       "23                Storm                    https://github.com/apache/storm  12\n",
       "24  Testcontainers-java  https://github.com/testcontainers/testcontaine...  12\n",
       "25                 Tika                     https://github.com/apache/tika  12\n",
       "26              Traccar                 https://github.com/traccar/traccar  12\n",
       "27                karaf                    https://github.com/apache/karaf  12"
      ]
     },
     "execution_count": 8,
     "metadata": {},
     "output_type": "execute_result"
    }
   ],
   "source": [
    "github_links"
   ]
  },
  {
   "cell_type": "code",
   "execution_count": 9,
   "metadata": {
    "scrolled": true
   },
   "outputs": [
    {
     "name": "stdout",
     "output_type": "stream",
     "text": [
      "Alluxio\n",
      "https://github.com/Alluxio/alluxio\n",
      "alluxio\n",
      "Alluxio\n"
     ]
    },
    {
     "data": {
      "application/vnd.jupyter.widget-view+json": {
       "model_id": "a659e35973af4ae5baf8cc93b5458aa6",
       "version_major": 2,
       "version_minor": 0
      },
      "text/plain": [
       "Executing:   0%|          | 0/28 [00:00<?, ?cell/s]"
      ]
     },
     "metadata": {},
     "output_type": "display_data"
    },
    {
     "name": "stdout",
     "output_type": "stream",
     "text": [
      "Assertj-core\n",
      "https://github.com/assertj/assertj-core\n",
      "assertj-core\n",
      "assertj\n"
     ]
    },
    {
     "data": {
      "application/vnd.jupyter.widget-view+json": {
       "model_id": "e8487197d0fe4156b5bd69f32a19526a",
       "version_major": 2,
       "version_minor": 0
      },
      "text/plain": [
       "Executing:   0%|          | 0/28 [00:00<?, ?cell/s]"
      ]
     },
     "metadata": {},
     "output_type": "display_data"
    },
    {
     "name": "stdout",
     "output_type": "stream",
     "text": [
      "Atmosphere\n",
      "https://github.com/Atmosphere/atmosphere\n",
      "atmosphere\n",
      "Atmosphere\n"
     ]
    },
    {
     "data": {
      "application/vnd.jupyter.widget-view+json": {
       "model_id": "854fbfedfec34762b0e363693df5eb62",
       "version_major": 2,
       "version_minor": 0
      },
      "text/plain": [
       "Executing:   0%|          | 0/28 [00:00<?, ?cell/s]"
      ]
     },
     "metadata": {},
     "output_type": "display_data"
    },
    {
     "name": "stdout",
     "output_type": "stream",
     "text": [
      "AxonFramework\n",
      "https://github.com/AxonFramework/AxonFramework\n",
      "AxonFramework\n",
      "AxonFramework\n"
     ]
    },
    {
     "data": {
      "application/vnd.jupyter.widget-view+json": {
       "model_id": "f018a85f324e40fa979433149df6950d",
       "version_major": 2,
       "version_minor": 0
      },
      "text/plain": [
       "Executing:   0%|          | 0/28 [00:00<?, ?cell/s]"
      ]
     },
     "metadata": {},
     "output_type": "display_data"
    },
    {
     "name": "stdout",
     "output_type": "stream",
     "text": [
      "Beam\n",
      "https://github.com/apache/beam\n",
      "beam\n",
      "apache\n"
     ]
    },
    {
     "data": {
      "application/vnd.jupyter.widget-view+json": {
       "model_id": "acf973017b78451e8457ad3dba526f54",
       "version_major": 2,
       "version_minor": 0
      },
      "text/plain": [
       "Executing:   0%|          | 0/28 [00:00<?, ?cell/s]"
      ]
     },
     "metadata": {},
     "output_type": "display_data"
    },
    {
     "name": "stdout",
     "output_type": "stream",
     "text": [
      "Byte-buddy\n",
      "https://github.com/raphw/byte-buddy\n",
      "byte-buddy\n",
      "raphw\n"
     ]
    },
    {
     "data": {
      "application/vnd.jupyter.widget-view+json": {
       "model_id": "fdf55d9becb14474a9fa87b3440f6bb2",
       "version_major": 2,
       "version_minor": 0
      },
      "text/plain": [
       "Executing:   0%|          | 0/28 [00:00<?, ?cell/s]"
      ]
     },
     "metadata": {},
     "output_type": "display_data"
    },
    {
     "name": "stdout",
     "output_type": "stream",
     "text": [
      "Camel\n",
      "https://github.com/apache/camel\n",
      "camel\n",
      "apache\n"
     ]
    },
    {
     "data": {
      "application/vnd.jupyter.widget-view+json": {
       "model_id": "1a830b097cf74dbaa384bc92194e8f7a",
       "version_major": 2,
       "version_minor": 0
      },
      "text/plain": [
       "Executing:   0%|          | 0/28 [00:00<?, ?cell/s]"
      ]
     },
     "metadata": {},
     "output_type": "display_data"
    },
    {
     "name": "stdout",
     "output_type": "stream",
     "text": [
      "Cas\n",
      "https://github.com/apereo/cas\n",
      "cas\n",
      "apereo\n"
     ]
    },
    {
     "data": {
      "application/vnd.jupyter.widget-view+json": {
       "model_id": "2fe637322fb94c1da6a0bfab2cb2352e",
       "version_major": 2,
       "version_minor": 0
      },
      "text/plain": [
       "Executing:   0%|          | 0/28 [00:00<?, ?cell/s]"
      ]
     },
     "metadata": {},
     "output_type": "display_data"
    },
    {
     "name": "stdout",
     "output_type": "stream",
     "text": [
      "Cassandra\n",
      "https://github.com/apache/cassandra\n",
      "cassandra\n",
      "apache\n"
     ]
    },
    {
     "data": {
      "application/vnd.jupyter.widget-view+json": {
       "model_id": "0a3f744680bd4e30bd3df866b8e1f5f5",
       "version_major": 2,
       "version_minor": 0
      },
      "text/plain": [
       "Executing:   0%|          | 0/28 [00:00<?, ?cell/s]"
      ]
     },
     "metadata": {},
     "output_type": "display_data"
    },
    {
     "name": "stdout",
     "output_type": "stream",
     "text": [
      "Cxf\n",
      "https://github.com/apache/cxf\n",
      "cxf\n",
      "apache\n"
     ]
    },
    {
     "data": {
      "application/vnd.jupyter.widget-view+json": {
       "model_id": "7ca6a2474ef74bcfae3a0c48f79ed547",
       "version_major": 2,
       "version_minor": 0
      },
      "text/plain": [
       "Executing:   0%|          | 0/28 [00:00<?, ?cell/s]"
      ]
     },
     "metadata": {},
     "output_type": "display_data"
    },
    {
     "name": "stdout",
     "output_type": "stream",
     "text": [
      "Dbeaver\n",
      "https://github.com/dbeaver/dbeaver\n",
      "dbeaver\n",
      "dbeaver\n"
     ]
    },
    {
     "data": {
      "application/vnd.jupyter.widget-view+json": {
       "model_id": "83c3b20297b74597b7b32330efcf9312",
       "version_major": 2,
       "version_minor": 0
      },
      "text/plain": [
       "Executing:   0%|          | 0/28 [00:00<?, ?cell/s]"
      ]
     },
     "metadata": {},
     "output_type": "display_data"
    },
    {
     "name": "stdout",
     "output_type": "stream",
     "text": [
      "Eclim\n",
      "https://github.com/ervandew/eclim\n",
      "eclim\n",
      "ervandew\n"
     ]
    },
    {
     "data": {
      "application/vnd.jupyter.widget-view+json": {
       "model_id": "9968ab14392944f9b2ac2e1087ba121c",
       "version_major": 2,
       "version_minor": 0
      },
      "text/plain": [
       "Executing:   0%|          | 0/28 [00:00<?, ?cell/s]"
      ]
     },
     "metadata": {},
     "output_type": "display_data"
    },
    {
     "name": "stdout",
     "output_type": "stream",
     "text": [
      "Guacamole-client\n",
      "https://github.com/apache/guacamole-client\n",
      "guacamole-client\n",
      "apache\n"
     ]
    },
    {
     "data": {
      "application/vnd.jupyter.widget-view+json": {
       "model_id": "f52b8d9c2a844c3a8c1ac1241d99bc30",
       "version_major": 2,
       "version_minor": 0
      },
      "text/plain": [
       "Executing:   0%|          | 0/28 [00:00<?, ?cell/s]"
      ]
     },
     "metadata": {},
     "output_type": "display_data"
    },
    {
     "name": "stdout",
     "output_type": "stream",
     "text": [
      "Hadoop\n",
      "https://github.com/apache/hadoop\n",
      "hadoop\n",
      "apache\n"
     ]
    },
    {
     "data": {
      "application/vnd.jupyter.widget-view+json": {
       "model_id": "87493f4bfccf4955a6e312e3f975ca7d",
       "version_major": 2,
       "version_minor": 0
      },
      "text/plain": [
       "Executing:   0%|          | 0/28 [00:00<?, ?cell/s]"
      ]
     },
     "metadata": {},
     "output_type": "display_data"
    },
    {
     "name": "stdout",
     "output_type": "stream",
     "text": [
      "Hawtio\n",
      "https://github.com/hawtio/hawtio\n",
      "hawtio\n",
      "hawtio\n"
     ]
    },
    {
     "data": {
      "application/vnd.jupyter.widget-view+json": {
       "model_id": "255e1f61864e45a3af81962a6907c311",
       "version_major": 2,
       "version_minor": 0
      },
      "text/plain": [
       "Executing:   0%|          | 0/28 [00:00<?, ?cell/s]"
      ]
     },
     "metadata": {},
     "output_type": "display_data"
    },
    {
     "name": "stdout",
     "output_type": "stream",
     "text": [
      "Okhttp\n",
      "https://github.com/square/okhttp\n",
      "okhttp\n",
      "square\n"
     ]
    },
    {
     "data": {
      "application/vnd.jupyter.widget-view+json": {
       "model_id": "6ebad9c6853b47428d6c9986f5683f2b",
       "version_major": 2,
       "version_minor": 0
      },
      "text/plain": [
       "Executing:   0%|          | 0/28 [00:00<?, ?cell/s]"
      ]
     },
     "metadata": {},
     "output_type": "display_data"
    },
    {
     "name": "stdout",
     "output_type": "stream",
     "text": [
      "Openapi-generator\n",
      "https://github.com/OpenAPITools/openapi-generator\n",
      "openapi-generator\n",
      "OpenAPITools\n"
     ]
    },
    {
     "data": {
      "application/vnd.jupyter.widget-view+json": {
       "model_id": "436cde3339114c568a16e4af0c434723",
       "version_major": 2,
       "version_minor": 0
      },
      "text/plain": [
       "Executing:   0%|          | 0/28 [00:00<?, ?cell/s]"
      ]
     },
     "metadata": {},
     "output_type": "display_data"
    },
    {
     "name": "stdout",
     "output_type": "stream",
     "text": [
      "Orientdb\n",
      "https://github.com/orientechnologies/orientdb\n",
      "orientdb\n",
      "orientechnologies\n"
     ]
    },
    {
     "data": {
      "application/vnd.jupyter.widget-view+json": {
       "model_id": "bf549e688d154a43ad41b706830598c3",
       "version_major": 2,
       "version_minor": 0
      },
      "text/plain": [
       "Executing:   0%|          | 0/28 [00:00<?, ?cell/s]"
      ]
     },
     "metadata": {},
     "output_type": "display_data"
    },
    {
     "name": "stdout",
     "output_type": "stream",
     "text": [
      "Redisson\n",
      "https://github.com/redisson/redisson\n",
      "redisson\n",
      "redisson\n"
     ]
    },
    {
     "data": {
      "application/vnd.jupyter.widget-view+json": {
       "model_id": "2c9c2a1d8541425c9c74e19a769f671d",
       "version_major": 2,
       "version_minor": 0
      },
      "text/plain": [
       "Executing:   0%|          | 0/28 [00:00<?, ?cell/s]"
      ]
     },
     "metadata": {},
     "output_type": "display_data"
    },
    {
     "name": "stdout",
     "output_type": "stream",
     "text": [
      "Rest-assured\n",
      "https://github.com/rest-assured/rest-assured\n",
      "rest-assured\n",
      "rest-assured\n"
     ]
    },
    {
     "data": {
      "application/vnd.jupyter.widget-view+json": {
       "model_id": "3f95850b6fba4062acabcba3199e3b29",
       "version_major": 2,
       "version_minor": 0
      },
      "text/plain": [
       "Executing:   0%|          | 0/28 [00:00<?, ?cell/s]"
      ]
     },
     "metadata": {},
     "output_type": "display_data"
    },
    {
     "name": "stdout",
     "output_type": "stream",
     "text": [
      "Spotbugs\n",
      "https://github.com/spotbugs/spotbugs\n",
      "spotbugs\n",
      "spotbugs\n",
      "Spring-framework\n",
      "https://github.com/spring-projects/spring-framework\n",
      "spring-framework\n",
      "spring-projects\n"
     ]
    },
    {
     "data": {
      "application/vnd.jupyter.widget-view+json": {
       "model_id": "91eff120f9b74df2b5aefc183118d1bb",
       "version_major": 2,
       "version_minor": 0
      },
      "text/plain": [
       "Executing:   0%|          | 0/28 [00:00<?, ?cell/s]"
      ]
     },
     "metadata": {},
     "output_type": "display_data"
    },
    {
     "name": "stdout",
     "output_type": "stream",
     "text": [
      "Spring-security\n",
      "https://github.com/spring-projects/spring-security\n",
      "spring-security\n",
      "spring-projects\n"
     ]
    },
    {
     "data": {
      "application/vnd.jupyter.widget-view+json": {
       "model_id": "6832f9980c9c49e38968714195fb98e4",
       "version_major": 2,
       "version_minor": 0
      },
      "text/plain": [
       "Executing:   0%|          | 0/28 [00:00<?, ?cell/s]"
      ]
     },
     "metadata": {},
     "output_type": "display_data"
    },
    {
     "name": "stdout",
     "output_type": "stream",
     "text": [
      "Storm\n",
      "https://github.com/apache/storm\n",
      "storm\n",
      "apache\n"
     ]
    },
    {
     "data": {
      "application/vnd.jupyter.widget-view+json": {
       "model_id": "8fc62d8063a54486ad2e407249a71ac3",
       "version_major": 2,
       "version_minor": 0
      },
      "text/plain": [
       "Executing:   0%|          | 0/28 [00:00<?, ?cell/s]"
      ]
     },
     "metadata": {},
     "output_type": "display_data"
    },
    {
     "name": "stdout",
     "output_type": "stream",
     "text": [
      "Testcontainers-java\n",
      "https://github.com/testcontainers/testcontainers-java\n",
      "testcontainers-java\n",
      "testcontainers\n",
      "Tika\n",
      "https://github.com/apache/tika\n",
      "tika\n",
      "apache\n"
     ]
    },
    {
     "data": {
      "application/vnd.jupyter.widget-view+json": {
       "model_id": "c39e1ef08a604332a84b7d1aea1b10be",
       "version_major": 2,
       "version_minor": 0
      },
      "text/plain": [
       "Executing:   0%|          | 0/28 [00:00<?, ?cell/s]"
      ]
     },
     "metadata": {},
     "output_type": "display_data"
    },
    {
     "name": "stdout",
     "output_type": "stream",
     "text": [
      "Traccar\n",
      "https://github.com/traccar/traccar\n",
      "traccar\n",
      "traccar\n"
     ]
    },
    {
     "data": {
      "application/vnd.jupyter.widget-view+json": {
       "model_id": "417fd34940ac42bc95de8b0b0d479b87",
       "version_major": 2,
       "version_minor": 0
      },
      "text/plain": [
       "Executing:   0%|          | 0/28 [00:00<?, ?cell/s]"
      ]
     },
     "metadata": {},
     "output_type": "display_data"
    },
    {
     "name": "stdout",
     "output_type": "stream",
     "text": [
      "karaf\n",
      "https://github.com/apache/karaf\n",
      "karaf\n",
      "apache\n"
     ]
    },
    {
     "data": {
      "application/vnd.jupyter.widget-view+json": {
       "model_id": "f970f5475a9f429eab016dc3a8ce89c4",
       "version_major": 2,
       "version_minor": 0
      },
      "text/plain": [
       "Executing:   0%|          | 0/28 [00:00<?, ?cell/s]"
      ]
     },
     "metadata": {},
     "output_type": "display_data"
    }
   ],
   "source": [
    "import papermill as pm\n",
    "\n",
    "excluded_projects = ['Spotbugs','Testcontainers-java']\n",
    "\n",
    "for row in github_links.iterrows():\n",
    "    \n",
    "    print(row[1]['project_name'])\n",
    "    print(row[1]['project_link'])\n",
    "    print(row[1]['project_link'].split('/')[-1])\n",
    "    print(row[1]['project_link'].split('/')[-2])\n",
    "    project_name = row[1]['project_name']\n",
    "    project_owner = row[1]['project_link'].split('/')[-2]\n",
    "    project_name_short = row[1]['project_link'].split('/')[-1]\n",
    "    if project_name not in excluded_projects:\n",
    "        pm.execute_notebook(\n",
    "           'Effort Estimation_3E_Server.ipynb',\n",
    "           'Automation_Output.ipynb',\n",
    "           parameters = dict(project_name=project_name, project_owner=project_owner, project_name_short=project_name_short)\n",
    "        )\n",
    "    "
   ]
  },
  {
   "cell_type": "raw",
   "metadata": {},
   "source": [
    "import papermill as pm\n",
    "\n",
    "\n",
    "for element in leftover_arr:\n",
    "    print('Currently running: ' + element)\n",
    "    pm.execute_notebook(\n",
    "       'Effort Estimation_3D_Server.ipynb',\n",
    "       'Automation_Output.ipynb',\n",
    "       parameters = dict(project_name=element, commit_project_name=element)\n",
    "    )\n",
    "    "
   ]
  },
  {
   "cell_type": "code",
   "execution_count": null,
   "metadata": {},
   "outputs": [],
   "source": []
  }
 ],
 "metadata": {
  "kernelspec": {
   "display_name": "Python 3",
   "language": "python",
   "name": "python3"
  },
  "language_info": {
   "codemirror_mode": {
    "name": "ipython",
    "version": 3
   },
   "file_extension": ".py",
   "mimetype": "text/x-python",
   "name": "python",
   "nbconvert_exporter": "python",
   "pygments_lexer": "ipython3",
   "version": "3.7.3"
  }
 },
 "nbformat": 4,
 "nbformat_minor": 2
}
