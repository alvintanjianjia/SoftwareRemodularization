{
 "cells": [
  {
   "cell_type": "code",
   "execution_count": 1,
   "metadata": {},
   "outputs": [],
   "source": [
    "import json\n",
    "import pandas as pd\n",
    "import numpy as np\n",
    "import networkx as nx\n",
    "import jellyfish\n",
    "import os\n",
    "import shutil\n",
    "import subprocess\n",
    "import requests\n",
    "from github import Github\n",
    "from git import Repo\n",
    "from scipy.cluster.hierarchy import dendrogram, linkage\n",
    "from matplotlib import pyplot as plt\n",
    "from sklearn.feature_extraction.text import TfidfVectorizer\n",
    "from sklearn.cluster import KMeans\n",
    "from sklearn.metrics import adjusted_rand_score\n",
    "from sklearn import preprocessing\n",
    "from sklearn.cluster import AgglomerativeClustering\n",
    "from zipfile import ZipFile\n",
    "from filecmp import dircmp\n",
    "import configparser\n",
    "import h2o\n",
    "import scipy as sp"
   ]
  },
  {
   "cell_type": "markdown",
   "metadata": {},
   "source": [
    "## Result Gathering"
   ]
  },
  {
   "cell_type": "code",
   "execution_count": 2,
   "metadata": {},
   "outputs": [
    {
     "name": "stdout",
     "output_type": "stream",
     "text": [
      "Alluxio.csv\n",
      "Assertj-core.csv\n",
      "Atmosphere.csv\n",
      "AxonFramework.csv\n",
      "Beam.csv\n",
      "Byte-buddy.csv\n",
      "Camel.csv\n",
      "Cas.csv\n",
      "Cassandra.csv\n",
      "Cxf.csv\n",
      "Dbeaver.csv\n",
      "Eclim.csv\n",
      "Guacamole-client.csv\n",
      "Hadoop.csv\n",
      "Hawtio.csv\n",
      "karaf.csv\n",
      "Okhttp.csv\n",
      "Openapi-generator.csv\n",
      "Orientdb.csv\n",
      "Redisson.csv\n",
      "Rest-assured.csv\n",
      "Spring-framework.csv\n",
      "Spring-security.csv\n",
      "Storm.csv\n",
      "Tika.csv\n",
      "Traccar.csv\n"
     ]
    }
   ],
   "source": [
    "main_df = None\n",
    "directory = \"Effort_Estimation_Results_3E/\"\n",
    "for filename in os.listdir(directory):\n",
    "    print(filename)\n",
    "    if main_df is None:\n",
    "        main_df = pd.read_csv(os.path.join(directory, filename))\n",
    "        main_df['project_name'] = filename.replace('.csv', '')\n",
    "    else:\n",
    "        temp_df = pd.read_csv(os.path.join(directory, filename))\n",
    "        temp_df['project_name'] = filename.replace('.csv', '')\n",
    "        frames = [main_df, temp_df]\n",
    "        main_df = pd.concat(frames)"
   ]
  },
  {
   "cell_type": "code",
   "execution_count": 53,
   "metadata": {},
   "outputs": [
    {
     "data": {
      "text/html": [
       "<div>\n",
       "<style scoped>\n",
       "    .dataframe tbody tr th:only-of-type {\n",
       "        vertical-align: middle;\n",
       "    }\n",
       "\n",
       "    .dataframe tbody tr th {\n",
       "        vertical-align: top;\n",
       "    }\n",
       "\n",
       "    .dataframe thead th {\n",
       "        text-align: right;\n",
       "    }\n",
       "</style>\n",
       "<table border=\"1\" class=\"dataframe\">\n",
       "  <thead>\n",
       "    <tr style=\"text-align: right;\">\n",
       "      <th></th>\n",
       "      <th>kmean_label</th>\n",
       "      <th>time_taken_mean</th>\n",
       "      <th>time_taken_min</th>\n",
       "      <th>time_taken_max</th>\n",
       "      <th>time_taken_q10</th>\n",
       "      <th>time_taken_q20</th>\n",
       "      <th>time_taken_q25</th>\n",
       "      <th>time_taken_q30</th>\n",
       "      <th>time_taken_q40</th>\n",
       "      <th>time_taken_q50</th>\n",
       "      <th>...</th>\n",
       "      <th>actual_num_of_classes_touched_mean</th>\n",
       "      <th>actual_num_of_classes_touched_min</th>\n",
       "      <th>actual_num_of_classes_touched_max</th>\n",
       "      <th>actual_num_of_classes_touched_std</th>\n",
       "      <th>commit_line_changed</th>\n",
       "      <th>refactoring_perc</th>\n",
       "      <th>refactoring_perc_time_taken</th>\n",
       "      <th>cocomoII_time_taken</th>\n",
       "      <th>cocomoII_refactoring_perc_time_taken</th>\n",
       "      <th>time_taken_final</th>\n",
       "    </tr>\n",
       "  </thead>\n",
       "  <tbody>\n",
       "    <tr>\n",
       "      <th>29</th>\n",
       "      <td>12</td>\n",
       "      <td>27.087805</td>\n",
       "      <td>1.0</td>\n",
       "      <td>165.0</td>\n",
       "      <td>1.0</td>\n",
       "      <td>2.0</td>\n",
       "      <td>2.0</td>\n",
       "      <td>3.0</td>\n",
       "      <td>5.6</td>\n",
       "      <td>15.0</td>\n",
       "      <td>...</td>\n",
       "      <td>61.000000</td>\n",
       "      <td>57</td>\n",
       "      <td>65</td>\n",
       "      <td>4.000000</td>\n",
       "      <td>641</td>\n",
       "      <td>0.201248</td>\n",
       "      <td>1.811232</td>\n",
       "      <td>331.67904</td>\n",
       "      <td>6.674976</td>\n",
       "      <td>3.4</td>\n",
       "    </tr>\n",
       "    <tr>\n",
       "      <th>31</th>\n",
       "      <td>12</td>\n",
       "      <td>27.087805</td>\n",
       "      <td>1.0</td>\n",
       "      <td>165.0</td>\n",
       "      <td>1.0</td>\n",
       "      <td>2.0</td>\n",
       "      <td>2.0</td>\n",
       "      <td>3.0</td>\n",
       "      <td>5.6</td>\n",
       "      <td>15.0</td>\n",
       "      <td>...</td>\n",
       "      <td>1.500000</td>\n",
       "      <td>1</td>\n",
       "      <td>2</td>\n",
       "      <td>0.577350</td>\n",
       "      <td>199</td>\n",
       "      <td>0.115578</td>\n",
       "      <td>1.964824</td>\n",
       "      <td>102.97056</td>\n",
       "      <td>1.190112</td>\n",
       "      <td>11.4</td>\n",
       "    </tr>\n",
       "    <tr>\n",
       "      <th>32</th>\n",
       "      <td>12</td>\n",
       "      <td>27.087805</td>\n",
       "      <td>1.0</td>\n",
       "      <td>165.0</td>\n",
       "      <td>1.0</td>\n",
       "      <td>2.0</td>\n",
       "      <td>2.0</td>\n",
       "      <td>3.0</td>\n",
       "      <td>5.6</td>\n",
       "      <td>15.0</td>\n",
       "      <td>...</td>\n",
       "      <td>6.727273</td>\n",
       "      <td>1</td>\n",
       "      <td>13</td>\n",
       "      <td>3.743971</td>\n",
       "      <td>427</td>\n",
       "      <td>0.081967</td>\n",
       "      <td>1.000000</td>\n",
       "      <td>220.94688</td>\n",
       "      <td>1.811040</td>\n",
       "      <td>0.0</td>\n",
       "    </tr>\n",
       "    <tr>\n",
       "      <th>38</th>\n",
       "      <td>12</td>\n",
       "      <td>27.087805</td>\n",
       "      <td>1.0</td>\n",
       "      <td>165.0</td>\n",
       "      <td>1.0</td>\n",
       "      <td>2.0</td>\n",
       "      <td>2.0</td>\n",
       "      <td>3.0</td>\n",
       "      <td>5.6</td>\n",
       "      <td>15.0</td>\n",
       "      <td>...</td>\n",
       "      <td>2.000000</td>\n",
       "      <td>1</td>\n",
       "      <td>3</td>\n",
       "      <td>1.154701</td>\n",
       "      <td>616</td>\n",
       "      <td>0.116883</td>\n",
       "      <td>1.000000</td>\n",
       "      <td>318.74304</td>\n",
       "      <td>3.725568</td>\n",
       "      <td>1.0</td>\n",
       "    </tr>\n",
       "    <tr>\n",
       "      <th>42</th>\n",
       "      <td>12</td>\n",
       "      <td>27.087805</td>\n",
       "      <td>1.0</td>\n",
       "      <td>165.0</td>\n",
       "      <td>1.0</td>\n",
       "      <td>2.0</td>\n",
       "      <td>2.0</td>\n",
       "      <td>3.0</td>\n",
       "      <td>5.6</td>\n",
       "      <td>15.0</td>\n",
       "      <td>...</td>\n",
       "      <td>17.500000</td>\n",
       "      <td>3</td>\n",
       "      <td>32</td>\n",
       "      <td>16.743158</td>\n",
       "      <td>635</td>\n",
       "      <td>0.286614</td>\n",
       "      <td>7.738583</td>\n",
       "      <td>328.57440</td>\n",
       "      <td>9.417408</td>\n",
       "      <td>6.0</td>\n",
       "    </tr>\n",
       "    <tr>\n",
       "      <th>43</th>\n",
       "      <td>12</td>\n",
       "      <td>27.087805</td>\n",
       "      <td>1.0</td>\n",
       "      <td>165.0</td>\n",
       "      <td>1.0</td>\n",
       "      <td>2.0</td>\n",
       "      <td>2.0</td>\n",
       "      <td>3.0</td>\n",
       "      <td>5.6</td>\n",
       "      <td>15.0</td>\n",
       "      <td>...</td>\n",
       "      <td>3.769231</td>\n",
       "      <td>1</td>\n",
       "      <td>7</td>\n",
       "      <td>1.964427</td>\n",
       "      <td>615</td>\n",
       "      <td>0.053659</td>\n",
       "      <td>1.000000</td>\n",
       "      <td>318.22560</td>\n",
       "      <td>1.707552</td>\n",
       "      <td>0.0</td>\n",
       "    </tr>\n",
       "    <tr>\n",
       "      <th>1</th>\n",
       "      <td>6</td>\n",
       "      <td>24.474860</td>\n",
       "      <td>1.0</td>\n",
       "      <td>167.0</td>\n",
       "      <td>1.0</td>\n",
       "      <td>2.0</td>\n",
       "      <td>4.0</td>\n",
       "      <td>5.0</td>\n",
       "      <td>10.0</td>\n",
       "      <td>16.0</td>\n",
       "      <td>...</td>\n",
       "      <td>2.000000</td>\n",
       "      <td>1</td>\n",
       "      <td>3</td>\n",
       "      <td>0.866025</td>\n",
       "      <td>16</td>\n",
       "      <td>0.750000</td>\n",
       "      <td>18.750000</td>\n",
       "      <td>8.27904</td>\n",
       "      <td>0.620928</td>\n",
       "      <td>5.0</td>\n",
       "    </tr>\n",
       "    <tr>\n",
       "      <th>2</th>\n",
       "      <td>6</td>\n",
       "      <td>24.474860</td>\n",
       "      <td>1.0</td>\n",
       "      <td>167.0</td>\n",
       "      <td>1.0</td>\n",
       "      <td>2.0</td>\n",
       "      <td>4.0</td>\n",
       "      <td>5.0</td>\n",
       "      <td>10.0</td>\n",
       "      <td>16.0</td>\n",
       "      <td>...</td>\n",
       "      <td>5.500000</td>\n",
       "      <td>1</td>\n",
       "      <td>10</td>\n",
       "      <td>2.946898</td>\n",
       "      <td>1696</td>\n",
       "      <td>0.004127</td>\n",
       "      <td>1.000000</td>\n",
       "      <td>877.57824</td>\n",
       "      <td>0.362208</td>\n",
       "      <td>9.0</td>\n",
       "    </tr>\n",
       "    <tr>\n",
       "      <th>4</th>\n",
       "      <td>7</td>\n",
       "      <td>27.645283</td>\n",
       "      <td>1.0</td>\n",
       "      <td>157.0</td>\n",
       "      <td>2.0</td>\n",
       "      <td>4.0</td>\n",
       "      <td>5.0</td>\n",
       "      <td>8.2</td>\n",
       "      <td>13.0</td>\n",
       "      <td>17.0</td>\n",
       "      <td>...</td>\n",
       "      <td>1.000000</td>\n",
       "      <td>1</td>\n",
       "      <td>1</td>\n",
       "      <td>0.000000</td>\n",
       "      <td>4</td>\n",
       "      <td>1.000000</td>\n",
       "      <td>93.000000</td>\n",
       "      <td>2.06976</td>\n",
       "      <td>0.206976</td>\n",
       "      <td>19.4</td>\n",
       "    </tr>\n",
       "    <tr>\n",
       "      <th>5</th>\n",
       "      <td>14</td>\n",
       "      <td>22.417476</td>\n",
       "      <td>1.0</td>\n",
       "      <td>144.0</td>\n",
       "      <td>1.0</td>\n",
       "      <td>4.0</td>\n",
       "      <td>6.0</td>\n",
       "      <td>8.0</td>\n",
       "      <td>12.0</td>\n",
       "      <td>16.0</td>\n",
       "      <td>...</td>\n",
       "      <td>3.000000</td>\n",
       "      <td>3</td>\n",
       "      <td>3</td>\n",
       "      <td>0.000000</td>\n",
       "      <td>63</td>\n",
       "      <td>1.000000</td>\n",
       "      <td>22.000000</td>\n",
       "      <td>32.59872</td>\n",
       "      <td>3.259872</td>\n",
       "      <td>2.0</td>\n",
       "    </tr>\n",
       "  </tbody>\n",
       "</table>\n",
       "<p>10 rows × 205 columns</p>\n",
       "</div>"
      ],
      "text/plain": [
       "    kmean_label  time_taken_mean  time_taken_min  time_taken_max  \\\n",
       "29           12        27.087805             1.0           165.0   \n",
       "31           12        27.087805             1.0           165.0   \n",
       "32           12        27.087805             1.0           165.0   \n",
       "38           12        27.087805             1.0           165.0   \n",
       "42           12        27.087805             1.0           165.0   \n",
       "43           12        27.087805             1.0           165.0   \n",
       "1             6        24.474860             1.0           167.0   \n",
       "2             6        24.474860             1.0           167.0   \n",
       "4             7        27.645283             1.0           157.0   \n",
       "5            14        22.417476             1.0           144.0   \n",
       "\n",
       "    time_taken_q10  time_taken_q20  time_taken_q25  time_taken_q30  \\\n",
       "29             1.0             2.0             2.0             3.0   \n",
       "31             1.0             2.0             2.0             3.0   \n",
       "32             1.0             2.0             2.0             3.0   \n",
       "38             1.0             2.0             2.0             3.0   \n",
       "42             1.0             2.0             2.0             3.0   \n",
       "43             1.0             2.0             2.0             3.0   \n",
       "1              1.0             2.0             4.0             5.0   \n",
       "2              1.0             2.0             4.0             5.0   \n",
       "4              2.0             4.0             5.0             8.2   \n",
       "5              1.0             4.0             6.0             8.0   \n",
       "\n",
       "    time_taken_q40  time_taken_q50  ...  actual_num_of_classes_touched_mean  \\\n",
       "29             5.6            15.0  ...                           61.000000   \n",
       "31             5.6            15.0  ...                            1.500000   \n",
       "32             5.6            15.0  ...                            6.727273   \n",
       "38             5.6            15.0  ...                            2.000000   \n",
       "42             5.6            15.0  ...                           17.500000   \n",
       "43             5.6            15.0  ...                            3.769231   \n",
       "1             10.0            16.0  ...                            2.000000   \n",
       "2             10.0            16.0  ...                            5.500000   \n",
       "4             13.0            17.0  ...                            1.000000   \n",
       "5             12.0            16.0  ...                            3.000000   \n",
       "\n",
       "    actual_num_of_classes_touched_min  actual_num_of_classes_touched_max  \\\n",
       "29                                 57                                 65   \n",
       "31                                  1                                  2   \n",
       "32                                  1                                 13   \n",
       "38                                  1                                  3   \n",
       "42                                  3                                 32   \n",
       "43                                  1                                  7   \n",
       "1                                   1                                  3   \n",
       "2                                   1                                 10   \n",
       "4                                   1                                  1   \n",
       "5                                   3                                  3   \n",
       "\n",
       "    actual_num_of_classes_touched_std  commit_line_changed refactoring_perc  \\\n",
       "29                           4.000000                  641         0.201248   \n",
       "31                           0.577350                  199         0.115578   \n",
       "32                           3.743971                  427         0.081967   \n",
       "38                           1.154701                  616         0.116883   \n",
       "42                          16.743158                  635         0.286614   \n",
       "43                           1.964427                  615         0.053659   \n",
       "1                            0.866025                   16         0.750000   \n",
       "2                            2.946898                 1696         0.004127   \n",
       "4                            0.000000                    4         1.000000   \n",
       "5                            0.000000                   63         1.000000   \n",
       "\n",
       "   refactoring_perc_time_taken cocomoII_time_taken  \\\n",
       "29                    1.811232           331.67904   \n",
       "31                    1.964824           102.97056   \n",
       "32                    1.000000           220.94688   \n",
       "38                    1.000000           318.74304   \n",
       "42                    7.738583           328.57440   \n",
       "43                    1.000000           318.22560   \n",
       "1                    18.750000             8.27904   \n",
       "2                     1.000000           877.57824   \n",
       "4                    93.000000             2.06976   \n",
       "5                    22.000000            32.59872   \n",
       "\n",
       "   cocomoII_refactoring_perc_time_taken time_taken_final  \n",
       "29                             6.674976              3.4  \n",
       "31                             1.190112             11.4  \n",
       "32                             1.811040              0.0  \n",
       "38                             3.725568              1.0  \n",
       "42                             9.417408              6.0  \n",
       "43                             1.707552              0.0  \n",
       "1                              0.620928              5.0  \n",
       "2                              0.362208              9.0  \n",
       "4                              0.206976             19.4  \n",
       "5                              3.259872              2.0  \n",
       "\n",
       "[10 rows x 205 columns]"
      ]
     },
     "execution_count": 53,
     "metadata": {},
     "output_type": "execute_result"
    }
   ],
   "source": [
    "main_df.tail(10)"
   ]
  },
  {
   "cell_type": "code",
   "execution_count": 4,
   "metadata": {},
   "outputs": [
    {
     "name": "stdout",
     "output_type": "stream",
     "text": [
      "kmean_label\n",
      "time_taken_mean\n",
      "time_taken_min\n",
      "time_taken_max\n",
      "time_taken_q10\n",
      "time_taken_q20\n",
      "time_taken_q25\n",
      "time_taken_q30\n",
      "time_taken_q40\n",
      "time_taken_q50\n",
      "time_taken_q60\n",
      "time_taken_q70\n",
      "time_taken_q75\n",
      "time_taken_q80\n",
      "time_taken_q90\n",
      "sha\n",
      "name\n",
      "email\n",
      "date\n",
      "login\n",
      "message\n",
      "parent_sha\n",
      "parent_date\n",
      "time_taken\n",
      "contains_refactoring\n",
      "project_name\n",
      "commit_compared_with\n",
      "cbo_mean\n",
      "cbo_min\n",
      "cbo_max\n",
      "cbo_std\n",
      "wmc_mean\n",
      "wmc_min\n",
      "wmc_max\n",
      "wmc_std\n",
      "dit_mean\n",
      "dit_min\n",
      "dit_max\n",
      "dit_std\n",
      "rfc_mean\n",
      "rfc_min\n",
      "rfc_max\n",
      "rfc_std\n",
      "lcom_mean\n",
      "lcom_min\n",
      "lcom_max\n",
      "lcom_std\n",
      "totalMethods_mean\n",
      "totalMethods_min\n",
      "totalMethods_max\n",
      "totalMethods_std\n",
      "staticMethods_mean\n",
      "staticMethods_min\n",
      "staticMethods_max\n",
      "staticMethods_std\n",
      "publicMethods_mean\n",
      "publicMethods_min\n",
      "publicMethods_max\n",
      "publicMethods_std\n",
      "privateMethods_mean\n",
      "privateMethods_min\n",
      "privateMethods_max\n",
      "privateMethods_std\n",
      "protectedMethods_mean\n",
      "protectedMethods_min\n",
      "protectedMethods_max\n",
      "protectedMethods_std\n",
      "defaultMethods_mean\n",
      "defaultMethods_min\n",
      "defaultMethods_max\n",
      "defaultMethods_std\n",
      "abstractMethods_mean\n",
      "abstractMethods_min\n",
      "abstractMethods_max\n",
      "abstractMethods_std\n",
      "finalMethods_mean\n",
      "finalMethods_min\n",
      "finalMethods_max\n",
      "finalMethods_std\n",
      "synchronizedMethods_mean\n",
      "synchronizedMethods_min\n",
      "synchronizedMethods_max\n",
      "synchronizedMethods_std\n",
      "totalFields_mean\n",
      "totalFields_min\n",
      "totalFields_max\n",
      "totalFields_std\n",
      "staticFields_mean\n",
      "staticFields_min\n",
      "staticFields_max\n",
      "staticFields_std\n",
      "publicFields_mean\n",
      "publicFields_min\n",
      "publicFields_max\n",
      "publicFields_std\n",
      "privateFields_mean\n",
      "privateFields_min\n",
      "privateFields_max\n",
      "privateFields_std\n",
      "protectedFields_mean\n",
      "protectedFields_min\n",
      "protectedFields_max\n",
      "protectedFields_std\n",
      "defaultFields_mean\n",
      "defaultFields_min\n",
      "defaultFields_max\n",
      "defaultFields_std\n",
      "finalFields_mean\n",
      "finalFields_min\n",
      "finalFields_max\n",
      "finalFields_std\n",
      "synchronizedFields_mean\n",
      "synchronizedFields_min\n",
      "synchronizedFields_max\n",
      "synchronizedFields_std\n",
      "nosi_mean\n",
      "nosi_min\n",
      "nosi_max\n",
      "nosi_std\n",
      "loc_mean\n",
      "loc_min\n",
      "loc_max\n",
      "loc_std\n",
      "returnQty_mean\n",
      "returnQty_min\n",
      "returnQty_max\n",
      "returnQty_std\n",
      "loopQty_mean\n",
      "loopQty_min\n",
      "loopQty_max\n",
      "loopQty_std\n",
      "comparisonsQty_mean\n",
      "comparisonsQty_min\n",
      "comparisonsQty_max\n",
      "comparisonsQty_std\n",
      "tryCatchQty_mean\n",
      "tryCatchQty_min\n",
      "tryCatchQty_max\n",
      "tryCatchQty_std\n",
      "parenthesizedExpsQty_mean\n",
      "parenthesizedExpsQty_min\n",
      "parenthesizedExpsQty_max\n",
      "parenthesizedExpsQty_std\n",
      "stringLiteralsQty_mean\n",
      "stringLiteralsQty_min\n",
      "stringLiteralsQty_max\n",
      "stringLiteralsQty_std\n",
      "numbersQty_mean\n",
      "numbersQty_min\n",
      "numbersQty_max\n",
      "numbersQty_std\n",
      "assignmentsQty_mean\n",
      "assignmentsQty_min\n",
      "assignmentsQty_max\n",
      "assignmentsQty_std\n",
      "mathOperationsQty_mean\n",
      "mathOperationsQty_min\n",
      "mathOperationsQty_max\n",
      "mathOperationsQty_std\n",
      "variablesQty_mean\n",
      "variablesQty_min\n",
      "variablesQty_max\n",
      "variablesQty_std\n",
      "maxNestedBlocks_mean\n",
      "maxNestedBlocks_min\n",
      "maxNestedBlocks_max\n",
      "maxNestedBlocks_std\n",
      "anonymousClassesQty_mean\n",
      "anonymousClassesQty_min\n",
      "anonymousClassesQty_max\n",
      "anonymousClassesQty_std\n",
      "subClassesQty_mean\n",
      "subClassesQty_min\n",
      "subClassesQty_max\n",
      "subClassesQty_std\n",
      "lambdasQty_mean\n",
      "lambdasQty_min\n",
      "lambdasQty_max\n",
      "lambdasQty_std\n",
      "uniqueWordsQty_mean\n",
      "uniqueWordsQty_min\n",
      "uniqueWordsQty_max\n",
      "uniqueWordsQty_std\n",
      "modifiers_mean\n",
      "modifiers_min\n",
      "modifiers_max\n",
      "modifiers_std\n",
      "num_dependency_mean\n",
      "num_dependency_min\n",
      "num_dependency_max\n",
      "num_dependency_std\n",
      "num_line_affected_mean\n",
      "num_line_affected_min\n",
      "num_line_affected_max\n",
      "num_line_affected_std\n",
      "actual_num_of_classes_touched_mean\n",
      "actual_num_of_classes_touched_min\n",
      "actual_num_of_classes_touched_max\n",
      "actual_num_of_classes_touched_std\n",
      "commit_line_changed\n",
      "refactoring_perc\n",
      "refactoring_perc_time_taken\n",
      "cocomoII_time_taken\n"
     ]
    }
   ],
   "source": [
    "for column in main_df:\n",
    "    print(column)"
   ]
  },
  {
   "cell_type": "code",
   "execution_count": 51,
   "metadata": {},
   "outputs": [],
   "source": [
    "main_df['cocomoII_refactoring_perc_time_taken'] = main_df['cocomoII_time_taken'] * main_df['refactoring_perc'] * 0.1"
   ]
  },
  {
   "cell_type": "code",
   "execution_count": 9,
   "metadata": {},
   "outputs": [
    {
     "data": {
      "text/html": [
       "<div>\n",
       "<style scoped>\n",
       "    .dataframe tbody tr th:only-of-type {\n",
       "        vertical-align: middle;\n",
       "    }\n",
       "\n",
       "    .dataframe tbody tr th {\n",
       "        vertical-align: top;\n",
       "    }\n",
       "\n",
       "    .dataframe thead th {\n",
       "        text-align: right;\n",
       "    }\n",
       "</style>\n",
       "<table border=\"1\" class=\"dataframe\">\n",
       "  <thead>\n",
       "    <tr style=\"text-align: right;\">\n",
       "      <th></th>\n",
       "      <th>kmean_label</th>\n",
       "      <th>time_taken_mean</th>\n",
       "      <th>time_taken_min</th>\n",
       "      <th>time_taken_max</th>\n",
       "      <th>time_taken_q10</th>\n",
       "      <th>time_taken_q20</th>\n",
       "      <th>time_taken_q25</th>\n",
       "      <th>time_taken_q30</th>\n",
       "      <th>time_taken_q40</th>\n",
       "      <th>time_taken_q50</th>\n",
       "      <th>...</th>\n",
       "      <th>num_line_affected_std</th>\n",
       "      <th>actual_num_of_classes_touched_mean</th>\n",
       "      <th>actual_num_of_classes_touched_min</th>\n",
       "      <th>actual_num_of_classes_touched_max</th>\n",
       "      <th>actual_num_of_classes_touched_std</th>\n",
       "      <th>commit_line_changed</th>\n",
       "      <th>refactoring_perc</th>\n",
       "      <th>refactoring_perc_time_taken</th>\n",
       "      <th>cocomoII_time_taken</th>\n",
       "      <th>cocomoII_refactoring_perc_time_taken</th>\n",
       "    </tr>\n",
       "  </thead>\n",
       "  <tbody>\n",
       "    <tr>\n",
       "      <th>0</th>\n",
       "      <td>5</td>\n",
       "      <td>12.712987</td>\n",
       "      <td>1.0</td>\n",
       "      <td>166.0</td>\n",
       "      <td>1.0</td>\n",
       "      <td>1.0</td>\n",
       "      <td>2.0</td>\n",
       "      <td>2.0</td>\n",
       "      <td>3.0</td>\n",
       "      <td>5.0</td>\n",
       "      <td>...</td>\n",
       "      <td>NaN</td>\n",
       "      <td>2.000000</td>\n",
       "      <td>2</td>\n",
       "      <td>2</td>\n",
       "      <td>NaN</td>\n",
       "      <td>8</td>\n",
       "      <td>1.000000</td>\n",
       "      <td>15.000000</td>\n",
       "      <td>4.13952</td>\n",
       "      <td>4.13952</td>\n",
       "    </tr>\n",
       "    <tr>\n",
       "      <th>1</th>\n",
       "      <td>5</td>\n",
       "      <td>12.712987</td>\n",
       "      <td>1.0</td>\n",
       "      <td>166.0</td>\n",
       "      <td>1.0</td>\n",
       "      <td>1.0</td>\n",
       "      <td>2.0</td>\n",
       "      <td>2.0</td>\n",
       "      <td>3.0</td>\n",
       "      <td>5.0</td>\n",
       "      <td>...</td>\n",
       "      <td>NaN</td>\n",
       "      <td>1.000000</td>\n",
       "      <td>1</td>\n",
       "      <td>1</td>\n",
       "      <td>NaN</td>\n",
       "      <td>346</td>\n",
       "      <td>0.225434</td>\n",
       "      <td>1.000000</td>\n",
       "      <td>179.03424</td>\n",
       "      <td>40.36032</td>\n",
       "    </tr>\n",
       "    <tr>\n",
       "      <th>2</th>\n",
       "      <td>5</td>\n",
       "      <td>12.712987</td>\n",
       "      <td>1.0</td>\n",
       "      <td>166.0</td>\n",
       "      <td>1.0</td>\n",
       "      <td>1.0</td>\n",
       "      <td>2.0</td>\n",
       "      <td>2.0</td>\n",
       "      <td>3.0</td>\n",
       "      <td>5.0</td>\n",
       "      <td>...</td>\n",
       "      <td>0.000000</td>\n",
       "      <td>1.500000</td>\n",
       "      <td>1</td>\n",
       "      <td>2</td>\n",
       "      <td>0.707107</td>\n",
       "      <td>35</td>\n",
       "      <td>1.000000</td>\n",
       "      <td>1.000000</td>\n",
       "      <td>18.11040</td>\n",
       "      <td>18.11040</td>\n",
       "    </tr>\n",
       "    <tr>\n",
       "      <th>3</th>\n",
       "      <td>5</td>\n",
       "      <td>12.712987</td>\n",
       "      <td>1.0</td>\n",
       "      <td>166.0</td>\n",
       "      <td>1.0</td>\n",
       "      <td>1.0</td>\n",
       "      <td>2.0</td>\n",
       "      <td>2.0</td>\n",
       "      <td>3.0</td>\n",
       "      <td>5.0</td>\n",
       "      <td>...</td>\n",
       "      <td>228.672586</td>\n",
       "      <td>7.833333</td>\n",
       "      <td>1</td>\n",
       "      <td>13</td>\n",
       "      <td>4.018895</td>\n",
       "      <td>194</td>\n",
       "      <td>0.185567</td>\n",
       "      <td>3.711340</td>\n",
       "      <td>100.38336</td>\n",
       "      <td>18.62784</td>\n",
       "    </tr>\n",
       "    <tr>\n",
       "      <th>4</th>\n",
       "      <td>5</td>\n",
       "      <td>12.712987</td>\n",
       "      <td>1.0</td>\n",
       "      <td>166.0</td>\n",
       "      <td>1.0</td>\n",
       "      <td>1.0</td>\n",
       "      <td>2.0</td>\n",
       "      <td>2.0</td>\n",
       "      <td>3.0</td>\n",
       "      <td>5.0</td>\n",
       "      <td>...</td>\n",
       "      <td>63.592452</td>\n",
       "      <td>37.000000</td>\n",
       "      <td>1</td>\n",
       "      <td>136</td>\n",
       "      <td>50.585661</td>\n",
       "      <td>1938</td>\n",
       "      <td>0.004128</td>\n",
       "      <td>1.000000</td>\n",
       "      <td>1002.79872</td>\n",
       "      <td>4.13952</td>\n",
       "    </tr>\n",
       "    <tr>\n",
       "      <th>5</th>\n",
       "      <td>5</td>\n",
       "      <td>12.712987</td>\n",
       "      <td>1.0</td>\n",
       "      <td>166.0</td>\n",
       "      <td>1.0</td>\n",
       "      <td>1.0</td>\n",
       "      <td>2.0</td>\n",
       "      <td>2.0</td>\n",
       "      <td>3.0</td>\n",
       "      <td>5.0</td>\n",
       "      <td>...</td>\n",
       "      <td>0.000000</td>\n",
       "      <td>1.500000</td>\n",
       "      <td>1</td>\n",
       "      <td>2</td>\n",
       "      <td>0.707107</td>\n",
       "      <td>371</td>\n",
       "      <td>0.865229</td>\n",
       "      <td>1.000000</td>\n",
       "      <td>191.97024</td>\n",
       "      <td>166.09824</td>\n",
       "    </tr>\n",
       "    <tr>\n",
       "      <th>6</th>\n",
       "      <td>5</td>\n",
       "      <td>12.712987</td>\n",
       "      <td>1.0</td>\n",
       "      <td>166.0</td>\n",
       "      <td>1.0</td>\n",
       "      <td>1.0</td>\n",
       "      <td>2.0</td>\n",
       "      <td>2.0</td>\n",
       "      <td>3.0</td>\n",
       "      <td>5.0</td>\n",
       "      <td>...</td>\n",
       "      <td>NaN</td>\n",
       "      <td>1.000000</td>\n",
       "      <td>1</td>\n",
       "      <td>1</td>\n",
       "      <td>NaN</td>\n",
       "      <td>175</td>\n",
       "      <td>0.274286</td>\n",
       "      <td>1.097143</td>\n",
       "      <td>90.55200</td>\n",
       "      <td>24.83712</td>\n",
       "    </tr>\n",
       "    <tr>\n",
       "      <th>7</th>\n",
       "      <td>7</td>\n",
       "      <td>19.062947</td>\n",
       "      <td>1.0</td>\n",
       "      <td>167.0</td>\n",
       "      <td>1.0</td>\n",
       "      <td>2.0</td>\n",
       "      <td>2.0</td>\n",
       "      <td>3.0</td>\n",
       "      <td>4.0</td>\n",
       "      <td>8.0</td>\n",
       "      <td>...</td>\n",
       "      <td>682.248000</td>\n",
       "      <td>35.000000</td>\n",
       "      <td>1</td>\n",
       "      <td>54</td>\n",
       "      <td>29.512709</td>\n",
       "      <td>2162</td>\n",
       "      <td>0.011101</td>\n",
       "      <td>1.000000</td>\n",
       "      <td>1118.70528</td>\n",
       "      <td>12.41856</td>\n",
       "    </tr>\n",
       "    <tr>\n",
       "      <th>8</th>\n",
       "      <td>7</td>\n",
       "      <td>19.062947</td>\n",
       "      <td>1.0</td>\n",
       "      <td>167.0</td>\n",
       "      <td>1.0</td>\n",
       "      <td>2.0</td>\n",
       "      <td>2.0</td>\n",
       "      <td>3.0</td>\n",
       "      <td>4.0</td>\n",
       "      <td>8.0</td>\n",
       "      <td>...</td>\n",
       "      <td>0.000000</td>\n",
       "      <td>4.000000</td>\n",
       "      <td>4</td>\n",
       "      <td>4</td>\n",
       "      <td>0.000000</td>\n",
       "      <td>142</td>\n",
       "      <td>1.000000</td>\n",
       "      <td>1.000000</td>\n",
       "      <td>73.47648</td>\n",
       "      <td>73.47648</td>\n",
       "    </tr>\n",
       "    <tr>\n",
       "      <th>9</th>\n",
       "      <td>10</td>\n",
       "      <td>14.676329</td>\n",
       "      <td>1.0</td>\n",
       "      <td>166.0</td>\n",
       "      <td>1.0</td>\n",
       "      <td>2.0</td>\n",
       "      <td>2.0</td>\n",
       "      <td>2.0</td>\n",
       "      <td>4.0</td>\n",
       "      <td>7.0</td>\n",
       "      <td>...</td>\n",
       "      <td>NaN</td>\n",
       "      <td>9.000000</td>\n",
       "      <td>9</td>\n",
       "      <td>9</td>\n",
       "      <td>NaN</td>\n",
       "      <td>202</td>\n",
       "      <td>1.000000</td>\n",
       "      <td>10.000000</td>\n",
       "      <td>104.52288</td>\n",
       "      <td>104.52288</td>\n",
       "    </tr>\n",
       "  </tbody>\n",
       "</table>\n",
       "<p>10 rows × 204 columns</p>\n",
       "</div>"
      ],
      "text/plain": [
       "   kmean_label  time_taken_mean  time_taken_min  time_taken_max  \\\n",
       "0            5        12.712987             1.0           166.0   \n",
       "1            5        12.712987             1.0           166.0   \n",
       "2            5        12.712987             1.0           166.0   \n",
       "3            5        12.712987             1.0           166.0   \n",
       "4            5        12.712987             1.0           166.0   \n",
       "5            5        12.712987             1.0           166.0   \n",
       "6            5        12.712987             1.0           166.0   \n",
       "7            7        19.062947             1.0           167.0   \n",
       "8            7        19.062947             1.0           167.0   \n",
       "9           10        14.676329             1.0           166.0   \n",
       "\n",
       "   time_taken_q10  time_taken_q20  time_taken_q25  time_taken_q30  \\\n",
       "0             1.0             1.0             2.0             2.0   \n",
       "1             1.0             1.0             2.0             2.0   \n",
       "2             1.0             1.0             2.0             2.0   \n",
       "3             1.0             1.0             2.0             2.0   \n",
       "4             1.0             1.0             2.0             2.0   \n",
       "5             1.0             1.0             2.0             2.0   \n",
       "6             1.0             1.0             2.0             2.0   \n",
       "7             1.0             2.0             2.0             3.0   \n",
       "8             1.0             2.0             2.0             3.0   \n",
       "9             1.0             2.0             2.0             2.0   \n",
       "\n",
       "   time_taken_q40  time_taken_q50  ...  num_line_affected_std  \\\n",
       "0             3.0             5.0  ...                    NaN   \n",
       "1             3.0             5.0  ...                    NaN   \n",
       "2             3.0             5.0  ...               0.000000   \n",
       "3             3.0             5.0  ...             228.672586   \n",
       "4             3.0             5.0  ...              63.592452   \n",
       "5             3.0             5.0  ...               0.000000   \n",
       "6             3.0             5.0  ...                    NaN   \n",
       "7             4.0             8.0  ...             682.248000   \n",
       "8             4.0             8.0  ...               0.000000   \n",
       "9             4.0             7.0  ...                    NaN   \n",
       "\n",
       "   actual_num_of_classes_touched_mean  actual_num_of_classes_touched_min  \\\n",
       "0                            2.000000                                  2   \n",
       "1                            1.000000                                  1   \n",
       "2                            1.500000                                  1   \n",
       "3                            7.833333                                  1   \n",
       "4                           37.000000                                  1   \n",
       "5                            1.500000                                  1   \n",
       "6                            1.000000                                  1   \n",
       "7                           35.000000                                  1   \n",
       "8                            4.000000                                  4   \n",
       "9                            9.000000                                  9   \n",
       "\n",
       "   actual_num_of_classes_touched_max  actual_num_of_classes_touched_std  \\\n",
       "0                                  2                                NaN   \n",
       "1                                  1                                NaN   \n",
       "2                                  2                           0.707107   \n",
       "3                                 13                           4.018895   \n",
       "4                                136                          50.585661   \n",
       "5                                  2                           0.707107   \n",
       "6                                  1                                NaN   \n",
       "7                                 54                          29.512709   \n",
       "8                                  4                           0.000000   \n",
       "9                                  9                                NaN   \n",
       "\n",
       "  commit_line_changed refactoring_perc refactoring_perc_time_taken  \\\n",
       "0                   8         1.000000                   15.000000   \n",
       "1                 346         0.225434                    1.000000   \n",
       "2                  35         1.000000                    1.000000   \n",
       "3                 194         0.185567                    3.711340   \n",
       "4                1938         0.004128                    1.000000   \n",
       "5                 371         0.865229                    1.000000   \n",
       "6                 175         0.274286                    1.097143   \n",
       "7                2162         0.011101                    1.000000   \n",
       "8                 142         1.000000                    1.000000   \n",
       "9                 202         1.000000                   10.000000   \n",
       "\n",
       "  cocomoII_time_taken cocomoII_refactoring_perc_time_taken  \n",
       "0             4.13952                              4.13952  \n",
       "1           179.03424                             40.36032  \n",
       "2            18.11040                             18.11040  \n",
       "3           100.38336                             18.62784  \n",
       "4          1002.79872                              4.13952  \n",
       "5           191.97024                            166.09824  \n",
       "6            90.55200                             24.83712  \n",
       "7          1118.70528                             12.41856  \n",
       "8            73.47648                             73.47648  \n",
       "9           104.52288                            104.52288  \n",
       "\n",
       "[10 rows x 204 columns]"
      ]
     },
     "execution_count": 9,
     "metadata": {},
     "output_type": "execute_result"
    }
   ],
   "source": [
    "main_df.head(10)"
   ]
  },
  {
   "cell_type": "code",
   "execution_count": 10,
   "metadata": {},
   "outputs": [
    {
     "data": {
      "text/plain": [
       "775"
      ]
     },
     "execution_count": 10,
     "metadata": {},
     "output_type": "execute_result"
    }
   ],
   "source": [
    "len(main_df)"
   ]
  },
  {
   "cell_type": "code",
   "execution_count": 11,
   "metadata": {},
   "outputs": [],
   "source": [
    "def plotGraph(y_test,y_pred,regressorName):\n",
    "    if max(y_test) >= max(y_pred):\n",
    "        my_range = int(max(y_test))\n",
    "    else:\n",
    "        my_range = int(max(y_pred))\n",
    "    plt.scatter(range(len(y_test)), y_test, color='blue', label='y_test')\n",
    "    plt.scatter(range(len(y_pred)), y_pred, color='red', label='y_pred')\n",
    "    plt.title(regressorName)\n",
    "    plt.legend(loc=\"upper left\")\n",
    "    plt.show()\n",
    "    return"
   ]
  },
  {
   "cell_type": "code",
   "execution_count": 56,
   "metadata": {},
   "outputs": [
    {
     "data": {
      "image/png": "[encoded data removed]",
      "text/plain": [
       "<Figure size 432x288 with 1 Axes>"
      ]
     },
     "metadata": {
      "needs_background": "light"
     },
     "output_type": "display_data"
    }
   ],
   "source": [
    "plotGraph(main_df['cocomoII_refactoring_perc_time_taken'], main_df['refactoring_perc_time_taken'],' test')"
   ]
  },
  {
   "cell_type": "code",
   "execution_count": 13,
   "metadata": {},
   "outputs": [
    {
     "data": {
      "image/png": "[encoded data removed]",
      "text/plain": [
       "<Figure size 432x288 with 1 Axes>"
      ]
     },
     "metadata": {
      "needs_background": "light"
     },
     "output_type": "display_data"
    }
   ],
   "source": [
    "plotGraph(main_df['cocomoII_time_taken'], main_df['refactoring_perc_time_taken'],' test')"
   ]
  },
  {
   "cell_type": "code",
   "execution_count": 14,
   "metadata": {},
   "outputs": [],
   "source": [
    "def get_final_time_taken(row):\n",
    "    if row['time_taken'] > row['time_taken_q90']:\n",
    "        return row['time_taken'] - row['time_taken_q90']\n",
    "    elif row['time_taken'] > row['time_taken_q80']:\n",
    "        return row['time_taken'] - row['time_taken_q80']\n",
    "    elif row['time_taken'] > row['time_taken_q60']:\n",
    "        return row['time_taken'] - row['time_taken_q60']\n",
    "    elif row['time_taken'] > row['time_taken_q40']:\n",
    "        return row['time_taken'] - row['time_taken_q40']\n",
    "    elif row['time_taken'] > row['time_taken_q20']:\n",
    "        return row['time_taken'] - row['time_taken_q20']"
   ]
  },
  {
   "cell_type": "code",
   "execution_count": 15,
   "metadata": {},
   "outputs": [],
   "source": [
    "main_df['time_taken_final'] = main_df.apply(lambda row: get_final_time_taken(row), axis=1)\n",
    "\n"
   ]
  },
  {
   "cell_type": "code",
   "execution_count": 16,
   "metadata": {},
   "outputs": [
    {
     "data": {
      "image/png": "[encoded data removed]",
      "text/plain": [
       "<Figure size 432x288 with 1 Axes>"
      ]
     },
     "metadata": {
      "needs_background": "light"
     },
     "output_type": "display_data"
    }
   ],
   "source": [
    "plotGraph(main_df['time_taken_final'], main_df['time_taken_mean'],' test')"
   ]
  },
  {
   "cell_type": "code",
   "execution_count": 17,
   "metadata": {},
   "outputs": [
    {
     "data": {
      "text/plain": [
       "{'whiskers': [<matplotlib.lines.Line2D at 0x271081e0908>,\n",
       "  <matplotlib.lines.Line2D at 0x271081e0c88>],\n",
       " 'caps': [<matplotlib.lines.Line2D at 0x271081f0048>,\n",
       "  <matplotlib.lines.Line2D at 0x271081f03c8>],\n",
       " 'boxes': [<matplotlib.lines.Line2D at 0x271081e07b8>],\n",
       " 'medians': [<matplotlib.lines.Line2D at 0x271081f0748>],\n",
       " 'fliers': [<matplotlib.lines.Line2D at 0x271081f0ac8>],\n",
       " 'means': []}"
      ]
     },
     "execution_count": 17,
     "metadata": {},
     "output_type": "execute_result"
    },
    {
     "data": {
      "image/png": "[encoded data removed]",
      "text/plain": [
       "<Figure size 432x288 with 1 Axes>"
      ]
     },
     "metadata": {
      "needs_background": "light"
     },
     "output_type": "display_data"
    }
   ],
   "source": [
    "plt.boxplot(main_df['refactoring_perc_time_taken'])"
   ]
  },
  {
   "cell_type": "code",
   "execution_count": 18,
   "metadata": {},
   "outputs": [
    {
     "data": {
      "text/plain": [
       "{'whiskers': [<matplotlib.lines.Line2D at 0x27108252940>,\n",
       "  <matplotlib.lines.Line2D at 0x27108252cc0>],\n",
       " 'caps': [<matplotlib.lines.Line2D at 0x2710825e080>,\n",
       "  <matplotlib.lines.Line2D at 0x2710825e400>],\n",
       " 'boxes': [<matplotlib.lines.Line2D at 0x271082527f0>],\n",
       " 'medians': [<matplotlib.lines.Line2D at 0x2710825e780>],\n",
       " 'fliers': [<matplotlib.lines.Line2D at 0x2710825eb00>],\n",
       " 'means': []}"
      ]
     },
     "execution_count": 18,
     "metadata": {},
     "output_type": "execute_result"
    },
    {
     "data": {
      "image/png": "[encoded data removed]",
      "text/plain": [
       "<Figure size 432x288 with 1 Axes>"
      ]
     },
     "metadata": {
      "needs_background": "light"
     },
     "output_type": "display_data"
    }
   ],
   "source": [
    "plt.boxplot(main_df['cocomoII_time_taken'])"
   ]
  },
  {
   "cell_type": "code",
   "execution_count": 55,
   "metadata": {},
   "outputs": [],
   "source": [
    "main_df = main_df[main_df['cocomoII_refactoring_perc_time_taken'] >= 2]\n",
    "main_df = main_df[main_df['cocomoII_refactoring_perc_time_taken'] <= 40]\n",
    "\n",
    "main_df = main_df[main_df['refactoring_perc_time_taken'] >= 2]\n",
    "main_df = main_df[main_df['refactoring_perc_time_taken'] <= 40]\n",
    "\n",
    "#main_df = main_df[main_df['refactoring_perc_time_taken'] <= 24]\n",
    "#main_df = main_df[main_df['time_taken_final'] <= 60]\n",
    "#main_df = main_df[main_df['time_taken_final'] > 2]"
   ]
  },
  {
   "cell_type": "code",
   "execution_count": 40,
   "metadata": {},
   "outputs": [
    {
     "data": {
      "text/plain": [
       "{'whiskers': [<matplotlib.lines.Line2D at 0x2710b875d30>,\n",
       "  <matplotlib.lines.Line2D at 0x2710b8810f0>],\n",
       " 'caps': [<matplotlib.lines.Line2D at 0x2710b881470>,\n",
       "  <matplotlib.lines.Line2D at 0x2710b8817f0>],\n",
       " 'boxes': [<matplotlib.lines.Line2D at 0x2710b875be0>],\n",
       " 'medians': [<matplotlib.lines.Line2D at 0x2710b881b70>],\n",
       " 'fliers': [<matplotlib.lines.Line2D at 0x2710b881ef0>],\n",
       " 'means': []}"
      ]
     },
     "execution_count": 40,
     "metadata": {},
     "output_type": "execute_result"
    },
    {
     "data": {
      "image/png": "[encoded data removed]",
      "text/plain": [
       "<Figure size 432x288 with 1 Axes>"
      ]
     },
     "metadata": {
      "needs_background": "light"
     },
     "output_type": "display_data"
    }
   ],
   "source": [
    "plt.boxplot(main_df['cocomoII_refactoring_perc_time_taken'])"
   ]
  },
  {
   "cell_type": "code",
   "execution_count": 41,
   "metadata": {},
   "outputs": [
    {
     "data": {
      "text/plain": [
       "2.06976      8\n",
       "89.51712     6\n",
       "6.20928      5\n",
       "20.18016     5\n",
       "75.02880     5\n",
       "            ..\n",
       "99.86592     1\n",
       "82.79040     1\n",
       "100.90080    1\n",
       "113.83680    1\n",
       "431.02752    1\n",
       "Name: cocomoII_time_taken, Length: 394, dtype: int64"
      ]
     },
     "execution_count": 41,
     "metadata": {},
     "output_type": "execute_result"
    }
   ],
   "source": [
    "main_df['cocomoII_time_taken'].value_counts()"
   ]
  },
  {
   "cell_type": "code",
   "execution_count": 42,
   "metadata": {},
   "outputs": [
    {
     "data": {
      "text/plain": [
       "{'whiskers': [<matplotlib.lines.Line2D at 0x2710b91cb00>,\n",
       "  <matplotlib.lines.Line2D at 0x2710b91ce80>],\n",
       " 'caps': [<matplotlib.lines.Line2D at 0x2710b927240>,\n",
       "  <matplotlib.lines.Line2D at 0x2710b9275c0>],\n",
       " 'boxes': [<matplotlib.lines.Line2D at 0x2710b91c9b0>],\n",
       " 'medians': [<matplotlib.lines.Line2D at 0x2710b927940>],\n",
       " 'fliers': [<matplotlib.lines.Line2D at 0x2710b927cc0>],\n",
       " 'means': []}"
      ]
     },
     "execution_count": 42,
     "metadata": {},
     "output_type": "execute_result"
    },
    {
     "data": {
      "image/png": "[encoded data removed]",
      "text/plain": [
       "<Figure size 432x288 with 1 Axes>"
      ]
     },
     "metadata": {
      "needs_background": "light"
     },
     "output_type": "display_data"
    }
   ],
   "source": [
    "plt.boxplot(main_df['cocomoII_time_taken'])"
   ]
  },
  {
   "cell_type": "code",
   "execution_count": 43,
   "metadata": {},
   "outputs": [],
   "source": [
    "main_df = main_df.fillna(0)"
   ]
  },
  {
   "cell_type": "code",
   "execution_count": 44,
   "metadata": {},
   "outputs": [
    {
     "data": {
      "text/html": [
       "<div>\n",
       "<style scoped>\n",
       "    .dataframe tbody tr th:only-of-type {\n",
       "        vertical-align: middle;\n",
       "    }\n",
       "\n",
       "    .dataframe tbody tr th {\n",
       "        vertical-align: top;\n",
       "    }\n",
       "\n",
       "    .dataframe thead th {\n",
       "        text-align: right;\n",
       "    }\n",
       "</style>\n",
       "<table border=\"1\" class=\"dataframe\">\n",
       "  <thead>\n",
       "    <tr style=\"text-align: right;\">\n",
       "      <th></th>\n",
       "      <th>kmean_label</th>\n",
       "      <th>time_taken_mean</th>\n",
       "      <th>time_taken_min</th>\n",
       "      <th>time_taken_max</th>\n",
       "      <th>time_taken_q10</th>\n",
       "      <th>time_taken_q20</th>\n",
       "      <th>time_taken_q25</th>\n",
       "      <th>time_taken_q30</th>\n",
       "      <th>time_taken_q40</th>\n",
       "      <th>time_taken_q50</th>\n",
       "      <th>...</th>\n",
       "      <th>actual_num_of_classes_touched_mean</th>\n",
       "      <th>actual_num_of_classes_touched_min</th>\n",
       "      <th>actual_num_of_classes_touched_max</th>\n",
       "      <th>actual_num_of_classes_touched_std</th>\n",
       "      <th>commit_line_changed</th>\n",
       "      <th>refactoring_perc</th>\n",
       "      <th>refactoring_perc_time_taken</th>\n",
       "      <th>cocomoII_time_taken</th>\n",
       "      <th>cocomoII_refactoring_perc_time_taken</th>\n",
       "      <th>time_taken_final</th>\n",
       "    </tr>\n",
       "  </thead>\n",
       "  <tbody>\n",
       "    <tr>\n",
       "      <th>0</th>\n",
       "      <td>5</td>\n",
       "      <td>12.712987</td>\n",
       "      <td>1.0</td>\n",
       "      <td>166.0</td>\n",
       "      <td>1.0</td>\n",
       "      <td>1.0</td>\n",
       "      <td>2.0</td>\n",
       "      <td>2.0</td>\n",
       "      <td>3.0</td>\n",
       "      <td>5.0</td>\n",
       "      <td>...</td>\n",
       "      <td>2.000000</td>\n",
       "      <td>2</td>\n",
       "      <td>2</td>\n",
       "      <td>0.000000</td>\n",
       "      <td>8</td>\n",
       "      <td>1.000000</td>\n",
       "      <td>15.000000</td>\n",
       "      <td>4.13952</td>\n",
       "      <td>4.13952</td>\n",
       "      <td>7.0</td>\n",
       "    </tr>\n",
       "    <tr>\n",
       "      <th>1</th>\n",
       "      <td>5</td>\n",
       "      <td>12.712987</td>\n",
       "      <td>1.0</td>\n",
       "      <td>166.0</td>\n",
       "      <td>1.0</td>\n",
       "      <td>1.0</td>\n",
       "      <td>2.0</td>\n",
       "      <td>2.0</td>\n",
       "      <td>3.0</td>\n",
       "      <td>5.0</td>\n",
       "      <td>...</td>\n",
       "      <td>1.000000</td>\n",
       "      <td>1</td>\n",
       "      <td>1</td>\n",
       "      <td>0.000000</td>\n",
       "      <td>346</td>\n",
       "      <td>0.225434</td>\n",
       "      <td>1.000000</td>\n",
       "      <td>179.03424</td>\n",
       "      <td>40.36032</td>\n",
       "      <td>0.0</td>\n",
       "    </tr>\n",
       "    <tr>\n",
       "      <th>2</th>\n",
       "      <td>5</td>\n",
       "      <td>12.712987</td>\n",
       "      <td>1.0</td>\n",
       "      <td>166.0</td>\n",
       "      <td>1.0</td>\n",
       "      <td>1.0</td>\n",
       "      <td>2.0</td>\n",
       "      <td>2.0</td>\n",
       "      <td>3.0</td>\n",
       "      <td>5.0</td>\n",
       "      <td>...</td>\n",
       "      <td>1.500000</td>\n",
       "      <td>1</td>\n",
       "      <td>2</td>\n",
       "      <td>0.707107</td>\n",
       "      <td>35</td>\n",
       "      <td>1.000000</td>\n",
       "      <td>1.000000</td>\n",
       "      <td>18.11040</td>\n",
       "      <td>18.11040</td>\n",
       "      <td>0.0</td>\n",
       "    </tr>\n",
       "    <tr>\n",
       "      <th>3</th>\n",
       "      <td>5</td>\n",
       "      <td>12.712987</td>\n",
       "      <td>1.0</td>\n",
       "      <td>166.0</td>\n",
       "      <td>1.0</td>\n",
       "      <td>1.0</td>\n",
       "      <td>2.0</td>\n",
       "      <td>2.0</td>\n",
       "      <td>3.0</td>\n",
       "      <td>5.0</td>\n",
       "      <td>...</td>\n",
       "      <td>7.833333</td>\n",
       "      <td>1</td>\n",
       "      <td>13</td>\n",
       "      <td>4.018895</td>\n",
       "      <td>194</td>\n",
       "      <td>0.185567</td>\n",
       "      <td>3.711340</td>\n",
       "      <td>100.38336</td>\n",
       "      <td>18.62784</td>\n",
       "      <td>1.0</td>\n",
       "    </tr>\n",
       "    <tr>\n",
       "      <th>6</th>\n",
       "      <td>5</td>\n",
       "      <td>12.712987</td>\n",
       "      <td>1.0</td>\n",
       "      <td>166.0</td>\n",
       "      <td>1.0</td>\n",
       "      <td>1.0</td>\n",
       "      <td>2.0</td>\n",
       "      <td>2.0</td>\n",
       "      <td>3.0</td>\n",
       "      <td>5.0</td>\n",
       "      <td>...</td>\n",
       "      <td>1.000000</td>\n",
       "      <td>1</td>\n",
       "      <td>1</td>\n",
       "      <td>0.000000</td>\n",
       "      <td>175</td>\n",
       "      <td>0.274286</td>\n",
       "      <td>1.097143</td>\n",
       "      <td>90.55200</td>\n",
       "      <td>24.83712</td>\n",
       "      <td>1.0</td>\n",
       "    </tr>\n",
       "    <tr>\n",
       "      <th>...</th>\n",
       "      <td>...</td>\n",
       "      <td>...</td>\n",
       "      <td>...</td>\n",
       "      <td>...</td>\n",
       "      <td>...</td>\n",
       "      <td>...</td>\n",
       "      <td>...</td>\n",
       "      <td>...</td>\n",
       "      <td>...</td>\n",
       "      <td>...</td>\n",
       "      <td>...</td>\n",
       "      <td>...</td>\n",
       "      <td>...</td>\n",
       "      <td>...</td>\n",
       "      <td>...</td>\n",
       "      <td>...</td>\n",
       "      <td>...</td>\n",
       "      <td>...</td>\n",
       "      <td>...</td>\n",
       "      <td>...</td>\n",
       "      <td>...</td>\n",
       "    </tr>\n",
       "    <tr>\n",
       "      <th>43</th>\n",
       "      <td>12</td>\n",
       "      <td>27.087805</td>\n",
       "      <td>1.0</td>\n",
       "      <td>165.0</td>\n",
       "      <td>1.0</td>\n",
       "      <td>2.0</td>\n",
       "      <td>2.0</td>\n",
       "      <td>3.0</td>\n",
       "      <td>5.6</td>\n",
       "      <td>15.0</td>\n",
       "      <td>...</td>\n",
       "      <td>3.769231</td>\n",
       "      <td>1</td>\n",
       "      <td>7</td>\n",
       "      <td>1.964427</td>\n",
       "      <td>615</td>\n",
       "      <td>0.053659</td>\n",
       "      <td>1.000000</td>\n",
       "      <td>318.22560</td>\n",
       "      <td>17.07552</td>\n",
       "      <td>0.0</td>\n",
       "    </tr>\n",
       "    <tr>\n",
       "      <th>1</th>\n",
       "      <td>6</td>\n",
       "      <td>24.474860</td>\n",
       "      <td>1.0</td>\n",
       "      <td>167.0</td>\n",
       "      <td>1.0</td>\n",
       "      <td>2.0</td>\n",
       "      <td>4.0</td>\n",
       "      <td>5.0</td>\n",
       "      <td>10.0</td>\n",
       "      <td>16.0</td>\n",
       "      <td>...</td>\n",
       "      <td>2.000000</td>\n",
       "      <td>1</td>\n",
       "      <td>3</td>\n",
       "      <td>0.866025</td>\n",
       "      <td>16</td>\n",
       "      <td>0.750000</td>\n",
       "      <td>18.750000</td>\n",
       "      <td>8.27904</td>\n",
       "      <td>6.20928</td>\n",
       "      <td>5.0</td>\n",
       "    </tr>\n",
       "    <tr>\n",
       "      <th>2</th>\n",
       "      <td>6</td>\n",
       "      <td>24.474860</td>\n",
       "      <td>1.0</td>\n",
       "      <td>167.0</td>\n",
       "      <td>1.0</td>\n",
       "      <td>2.0</td>\n",
       "      <td>4.0</td>\n",
       "      <td>5.0</td>\n",
       "      <td>10.0</td>\n",
       "      <td>16.0</td>\n",
       "      <td>...</td>\n",
       "      <td>5.500000</td>\n",
       "      <td>1</td>\n",
       "      <td>10</td>\n",
       "      <td>2.946898</td>\n",
       "      <td>1696</td>\n",
       "      <td>0.004127</td>\n",
       "      <td>1.000000</td>\n",
       "      <td>877.57824</td>\n",
       "      <td>3.62208</td>\n",
       "      <td>9.0</td>\n",
       "    </tr>\n",
       "    <tr>\n",
       "      <th>4</th>\n",
       "      <td>7</td>\n",
       "      <td>27.645283</td>\n",
       "      <td>1.0</td>\n",
       "      <td>157.0</td>\n",
       "      <td>2.0</td>\n",
       "      <td>4.0</td>\n",
       "      <td>5.0</td>\n",
       "      <td>8.2</td>\n",
       "      <td>13.0</td>\n",
       "      <td>17.0</td>\n",
       "      <td>...</td>\n",
       "      <td>1.000000</td>\n",
       "      <td>1</td>\n",
       "      <td>1</td>\n",
       "      <td>0.000000</td>\n",
       "      <td>4</td>\n",
       "      <td>1.000000</td>\n",
       "      <td>93.000000</td>\n",
       "      <td>2.06976</td>\n",
       "      <td>2.06976</td>\n",
       "      <td>19.4</td>\n",
       "    </tr>\n",
       "    <tr>\n",
       "      <th>5</th>\n",
       "      <td>14</td>\n",
       "      <td>22.417476</td>\n",
       "      <td>1.0</td>\n",
       "      <td>144.0</td>\n",
       "      <td>1.0</td>\n",
       "      <td>4.0</td>\n",
       "      <td>6.0</td>\n",
       "      <td>8.0</td>\n",
       "      <td>12.0</td>\n",
       "      <td>16.0</td>\n",
       "      <td>...</td>\n",
       "      <td>3.000000</td>\n",
       "      <td>3</td>\n",
       "      <td>3</td>\n",
       "      <td>0.000000</td>\n",
       "      <td>63</td>\n",
       "      <td>1.000000</td>\n",
       "      <td>22.000000</td>\n",
       "      <td>32.59872</td>\n",
       "      <td>32.59872</td>\n",
       "      <td>2.0</td>\n",
       "    </tr>\n",
       "  </tbody>\n",
       "</table>\n",
       "<p>596 rows × 205 columns</p>\n",
       "</div>"
      ],
      "text/plain": [
       "    kmean_label  time_taken_mean  time_taken_min  time_taken_max  \\\n",
       "0             5        12.712987             1.0           166.0   \n",
       "1             5        12.712987             1.0           166.0   \n",
       "2             5        12.712987             1.0           166.0   \n",
       "3             5        12.712987             1.0           166.0   \n",
       "6             5        12.712987             1.0           166.0   \n",
       "..          ...              ...             ...             ...   \n",
       "43           12        27.087805             1.0           165.0   \n",
       "1             6        24.474860             1.0           167.0   \n",
       "2             6        24.474860             1.0           167.0   \n",
       "4             7        27.645283             1.0           157.0   \n",
       "5            14        22.417476             1.0           144.0   \n",
       "\n",
       "    time_taken_q10  time_taken_q20  time_taken_q25  time_taken_q30  \\\n",
       "0              1.0             1.0             2.0             2.0   \n",
       "1              1.0             1.0             2.0             2.0   \n",
       "2              1.0             1.0             2.0             2.0   \n",
       "3              1.0             1.0             2.0             2.0   \n",
       "6              1.0             1.0             2.0             2.0   \n",
       "..             ...             ...             ...             ...   \n",
       "43             1.0             2.0             2.0             3.0   \n",
       "1              1.0             2.0             4.0             5.0   \n",
       "2              1.0             2.0             4.0             5.0   \n",
       "4              2.0             4.0             5.0             8.2   \n",
       "5              1.0             4.0             6.0             8.0   \n",
       "\n",
       "    time_taken_q40  time_taken_q50  ...  actual_num_of_classes_touched_mean  \\\n",
       "0              3.0             5.0  ...                            2.000000   \n",
       "1              3.0             5.0  ...                            1.000000   \n",
       "2              3.0             5.0  ...                            1.500000   \n",
       "3              3.0             5.0  ...                            7.833333   \n",
       "6              3.0             5.0  ...                            1.000000   \n",
       "..             ...             ...  ...                                 ...   \n",
       "43             5.6            15.0  ...                            3.769231   \n",
       "1             10.0            16.0  ...                            2.000000   \n",
       "2             10.0            16.0  ...                            5.500000   \n",
       "4             13.0            17.0  ...                            1.000000   \n",
       "5             12.0            16.0  ...                            3.000000   \n",
       "\n",
       "    actual_num_of_classes_touched_min  actual_num_of_classes_touched_max  \\\n",
       "0                                   2                                  2   \n",
       "1                                   1                                  1   \n",
       "2                                   1                                  2   \n",
       "3                                   1                                 13   \n",
       "6                                   1                                  1   \n",
       "..                                ...                                ...   \n",
       "43                                  1                                  7   \n",
       "1                                   1                                  3   \n",
       "2                                   1                                 10   \n",
       "4                                   1                                  1   \n",
       "5                                   3                                  3   \n",
       "\n",
       "    actual_num_of_classes_touched_std  commit_line_changed refactoring_perc  \\\n",
       "0                            0.000000                    8         1.000000   \n",
       "1                            0.000000                  346         0.225434   \n",
       "2                            0.707107                   35         1.000000   \n",
       "3                            4.018895                  194         0.185567   \n",
       "6                            0.000000                  175         0.274286   \n",
       "..                                ...                  ...              ...   \n",
       "43                           1.964427                  615         0.053659   \n",
       "1                            0.866025                   16         0.750000   \n",
       "2                            2.946898                 1696         0.004127   \n",
       "4                            0.000000                    4         1.000000   \n",
       "5                            0.000000                   63         1.000000   \n",
       "\n",
       "   refactoring_perc_time_taken cocomoII_time_taken  \\\n",
       "0                    15.000000             4.13952   \n",
       "1                     1.000000           179.03424   \n",
       "2                     1.000000            18.11040   \n",
       "3                     3.711340           100.38336   \n",
       "6                     1.097143            90.55200   \n",
       "..                         ...                 ...   \n",
       "43                    1.000000           318.22560   \n",
       "1                    18.750000             8.27904   \n",
       "2                     1.000000           877.57824   \n",
       "4                    93.000000             2.06976   \n",
       "5                    22.000000            32.59872   \n",
       "\n",
       "   cocomoII_refactoring_perc_time_taken time_taken_final  \n",
       "0                               4.13952              7.0  \n",
       "1                              40.36032              0.0  \n",
       "2                              18.11040              0.0  \n",
       "3                              18.62784              1.0  \n",
       "6                              24.83712              1.0  \n",
       "..                                  ...              ...  \n",
       "43                             17.07552              0.0  \n",
       "1                               6.20928              5.0  \n",
       "2                               3.62208              9.0  \n",
       "4                               2.06976             19.4  \n",
       "5                              32.59872              2.0  \n",
       "\n",
       "[596 rows x 205 columns]"
      ]
     },
     "execution_count": 44,
     "metadata": {},
     "output_type": "execute_result"
    }
   ],
   "source": [
    "main_df"
   ]
  },
  {
   "cell_type": "code",
   "execution_count": 45,
   "metadata": {},
   "outputs": [
    {
     "data": {
      "text/plain": [
       "(array([195., 156.,  92.,  48.,  28.,  28.,  10.,  18.,  14.,   7.]),\n",
       " array([ 2.06976 , 11.694144, 21.318528, 30.942912, 40.567296, 50.19168 ,\n",
       "        59.816064, 69.440448, 79.064832, 88.689216, 98.3136  ]),\n",
       " <a list of 10 Patch objects>)"
      ]
     },
     "execution_count": 45,
     "metadata": {},
     "output_type": "execute_result"
    },
    {
     "data": {
      "image/png": "[encoded data removed]",
      "text/plain": [
       "<Figure size 432x288 with 1 Axes>"
      ]
     },
     "metadata": {
      "needs_background": "light"
     },
     "output_type": "display_data"
    }
   ],
   "source": [
    "plt.hist(main_df['cocomoII_refactoring_perc_time_taken'])"
   ]
  },
  {
   "cell_type": "code",
   "execution_count": 46,
   "metadata": {},
   "outputs": [
    {
     "data": {
      "text/plain": [
       "(array([49., 55., 39., 52., 53., 27., 41., 35., 24., 30., 19., 19., 18.,\n",
       "        14.,  8.,  8.,  9.,  6.,  5.,  8.,  7.,  8.,  6.,  7.,  4.,  2.,\n",
       "         3.,  1.,  5.,  3.,  8.,  2.,  4.,  4.,  2.,  4.,  2.,  2.,  2.,\n",
       "         1.]),\n",
       " array([ 2.06976 ,  4.475856,  6.881952,  9.288048, 11.694144, 14.10024 ,\n",
       "        16.506336, 18.912432, 21.318528, 23.724624, 26.13072 , 28.536816,\n",
       "        30.942912, 33.349008, 35.755104, 38.1612  , 40.567296, 42.973392,\n",
       "        45.379488, 47.785584, 50.19168 , 52.597776, 55.003872, 57.409968,\n",
       "        59.816064, 62.22216 , 64.628256, 67.034352, 69.440448, 71.846544,\n",
       "        74.25264 , 76.658736, 79.064832, 81.470928, 83.877024, 86.28312 ,\n",
       "        88.689216, 91.095312, 93.501408, 95.907504, 98.3136  ]),\n",
       " <a list of 40 Patch objects>)"
      ]
     },
     "execution_count": 46,
     "metadata": {},
     "output_type": "execute_result"
    },
    {
     "data": {
      "image/png": "[encoded data removed]",
      "text/plain": [
       "<Figure size 432x288 with 1 Axes>"
      ]
     },
     "metadata": {
      "needs_background": "light"
     },
     "output_type": "display_data"
    }
   ],
   "source": [
    "plt.hist(main_df['cocomoII_refactoring_perc_time_taken'],bins=40)"
   ]
  },
  {
   "cell_type": "code",
   "execution_count": 48,
   "metadata": {},
   "outputs": [
    {
     "data": {
      "text/plain": [
       "[<matplotlib.lines.Line2D at 0x2710bb4d780>]"
      ]
     },
     "execution_count": 48,
     "metadata": {},
     "output_type": "execute_result"
    },
    {
     "data": {
      "image/png": "[encoded data removed]",
      "text/plain": [
       "<Figure size 432x288 with 1 Axes>"
      ]
     },
     "metadata": {
      "needs_background": "light"
     },
     "output_type": "display_data"
    }
   ],
   "source": [
    "s, loc, scale = sp.stats.lognorm.fit(main_df['cocomoII_refactoring_perc_time_taken'], floc=0)\n",
    "estimated_mu = np.log(scale)\n",
    "estimated_sigma = s\n",
    "\n",
    "\n",
    "plt.hist(main_df['cocomoII_refactoring_perc_time_taken'], bins=15, density=True, color='c', alpha=0.75)\n",
    "xmin = main_df['cocomoII_refactoring_perc_time_taken'].min()\n",
    "xmin = 0\n",
    "xmax = main_df['cocomoII_refactoring_perc_time_taken'].max()\n",
    "x = np.linspace(xmin, xmax, 100)\n",
    "pdf = sp.stats.lognorm.pdf(x, s, scale=scale)\n",
    "plt.plot(x, pdf, 'k')"
   ]
  },
  {
   "cell_type": "code",
   "execution_count": 38,
   "metadata": {},
   "outputs": [
    {
     "data": {
      "text/plain": [
       "[<matplotlib.lines.Line2D at 0x2710b8014e0>]"
      ]
     },
     "execution_count": 38,
     "metadata": {},
     "output_type": "execute_result"
    },
    {
     "data": {
      "image/png": "[encoded data removed]",
      "text/plain": [
       "<Figure size 432x288 with 1 Axes>"
      ]
     },
     "metadata": {
      "needs_background": "light"
     },
     "output_type": "display_data"
    }
   ],
   "source": [
    "s, loc, scale = sp.stats.lognorm.fit(main_df['cocomoII_time_taken'], floc=0)\n",
    "estimated_mu = np.log(scale)\n",
    "estimated_sigma = s\n",
    "\n",
    "\n",
    "plt.hist(main_df['cocomoII_time_taken'], bins=5, density=True, color='c', alpha=0.75)\n",
    "xmin = main_df['cocomoII_time_taken'].min()\n",
    "xmin = 0\n",
    "xmax = main_df['refactoring_perc_time_taken'].max()\n",
    "x = np.linspace(xmin, xmax, 100)\n",
    "pdf = sp.stats.lognorm.pdf(x, s, scale=scale)\n",
    "plt.plot(x, pdf, 'k')"
   ]
  },
  {
   "cell_type": "code",
   "execution_count": 30,
   "metadata": {},
   "outputs": [
    {
     "data": {
      "text/plain": [
       "[<matplotlib.lines.Line2D at 0x25b173f2128>]"
      ]
     },
     "execution_count": 30,
     "metadata": {},
     "output_type": "execute_result"
    },
    {
     "data": {
      "image/png": "[encoded data removed]",
      "text/plain": [
       "<Figure size 432x288 with 1 Axes>"
      ]
     },
     "metadata": {
      "needs_background": "light"
     },
     "output_type": "display_data"
    }
   ],
   "source": [
    "logdata = np.log(main_df['cocomoII_time_taken'])\n",
    "plt.hist(logdata, bins=10, density=True, color='c', alpha=0.75)\n",
    "xmin = logdata.min()\n",
    "xmax = logdata.max()\n",
    "x = np.linspace(xmin, xmax, 100)\n",
    "pdf = sp.stats.norm.pdf(x, loc=estimated_mu, scale=estimated_sigma)\n",
    "plt.plot(x, pdf, 'k')"
   ]
  },
  {
   "cell_type": "code",
   "execution_count": 151,
   "metadata": {},
   "outputs": [
    {
     "data": {
      "text/plain": [
       "243"
      ]
     },
     "execution_count": 151,
     "metadata": {},
     "output_type": "execute_result"
    }
   ],
   "source": [
    "len(main_df)"
   ]
  },
  {
   "cell_type": "code",
   "execution_count": 152,
   "metadata": {},
   "outputs": [],
   "source": [
    "main_df.to_csv('test_effort_model.csv', index=False)"
   ]
  },
  {
   "cell_type": "markdown",
   "metadata": {},
   "source": [
    "## EDA (Run only if absolutely necessary on minimum features)"
   ]
  },
  {
   "cell_type": "code",
   "execution_count": 153,
   "metadata": {
    "scrolled": false
   },
   "outputs": [],
   "source": [
    "#from pandas_profiling import ProfileReport\n",
    "\n",
    "#profile = ProfileReport(main_df, title=\"Pandas Profiling Report\",explorative=True)\n",
    "#profile"
   ]
  },
  {
   "cell_type": "code",
   "execution_count": 33,
   "metadata": {},
   "outputs": [
    {
     "name": "stdout",
     "output_type": "stream",
     "text": [
      "kmean_label\n",
      "time_taken_mean\n",
      "time_taken_min\n",
      "time_taken_max\n",
      "time_taken_q10\n",
      "time_taken_q20\n",
      "time_taken_q25\n",
      "time_taken_q30\n",
      "time_taken_q40\n",
      "time_taken_q50\n",
      "time_taken_q60\n",
      "time_taken_q70\n",
      "time_taken_q75\n",
      "time_taken_q80\n",
      "time_taken_q90\n",
      "sha\n",
      "name\n",
      "email\n",
      "date\n",
      "login\n",
      "message\n",
      "parent_sha\n",
      "parent_date\n",
      "time_taken\n",
      "contains_refactoring\n",
      "project_name\n",
      "commit_compared_with\n",
      "cbo_mean\n",
      "cbo_min\n",
      "cbo_max\n",
      "cbo_std\n",
      "wmc_mean\n",
      "wmc_min\n",
      "wmc_max\n",
      "wmc_std\n",
      "dit_mean\n",
      "dit_min\n",
      "dit_max\n",
      "dit_std\n",
      "rfc_mean\n",
      "rfc_min\n",
      "rfc_max\n",
      "rfc_std\n",
      "lcom_mean\n",
      "lcom_min\n",
      "lcom_max\n",
      "lcom_std\n",
      "totalMethods_mean\n",
      "totalMethods_min\n",
      "totalMethods_max\n",
      "totalMethods_std\n",
      "staticMethods_mean\n",
      "staticMethods_min\n",
      "staticMethods_max\n",
      "staticMethods_std\n",
      "publicMethods_mean\n",
      "publicMethods_min\n",
      "publicMethods_max\n",
      "publicMethods_std\n",
      "privateMethods_mean\n",
      "privateMethods_min\n",
      "privateMethods_max\n",
      "privateMethods_std\n",
      "protectedMethods_mean\n",
      "protectedMethods_min\n",
      "protectedMethods_max\n",
      "protectedMethods_std\n",
      "defaultMethods_mean\n",
      "defaultMethods_min\n",
      "defaultMethods_max\n",
      "defaultMethods_std\n",
      "abstractMethods_mean\n",
      "abstractMethods_min\n",
      "abstractMethods_max\n",
      "abstractMethods_std\n",
      "finalMethods_mean\n",
      "finalMethods_min\n",
      "finalMethods_max\n",
      "finalMethods_std\n",
      "synchronizedMethods_mean\n",
      "synchronizedMethods_min\n",
      "synchronizedMethods_max\n",
      "synchronizedMethods_std\n",
      "totalFields_mean\n",
      "totalFields_min\n",
      "totalFields_max\n",
      "totalFields_std\n",
      "staticFields_mean\n",
      "staticFields_min\n",
      "staticFields_max\n",
      "staticFields_std\n",
      "publicFields_mean\n",
      "publicFields_min\n",
      "publicFields_max\n",
      "publicFields_std\n",
      "privateFields_mean\n",
      "privateFields_min\n",
      "privateFields_max\n",
      "privateFields_std\n",
      "protectedFields_mean\n",
      "protectedFields_min\n",
      "protectedFields_max\n",
      "protectedFields_std\n",
      "defaultFields_mean\n",
      "defaultFields_min\n",
      "defaultFields_max\n",
      "defaultFields_std\n",
      "finalFields_mean\n",
      "finalFields_min\n",
      "finalFields_max\n",
      "finalFields_std\n",
      "synchronizedFields_mean\n",
      "synchronizedFields_min\n",
      "synchronizedFields_max\n",
      "synchronizedFields_std\n",
      "nosi_mean\n",
      "nosi_min\n",
      "nosi_max\n",
      "nosi_std\n",
      "loc_mean\n",
      "loc_min\n",
      "loc_max\n",
      "loc_std\n",
      "returnQty_mean\n",
      "returnQty_min\n",
      "returnQty_max\n",
      "returnQty_std\n",
      "loopQty_mean\n",
      "loopQty_min\n",
      "loopQty_max\n",
      "loopQty_std\n",
      "comparisonsQty_mean\n",
      "comparisonsQty_min\n",
      "comparisonsQty_max\n",
      "comparisonsQty_std\n",
      "tryCatchQty_mean\n",
      "tryCatchQty_min\n",
      "tryCatchQty_max\n",
      "tryCatchQty_std\n",
      "parenthesizedExpsQty_mean\n",
      "parenthesizedExpsQty_min\n",
      "parenthesizedExpsQty_max\n",
      "parenthesizedExpsQty_std\n",
      "stringLiteralsQty_mean\n",
      "stringLiteralsQty_min\n",
      "stringLiteralsQty_max\n",
      "stringLiteralsQty_std\n",
      "numbersQty_mean\n",
      "numbersQty_min\n",
      "numbersQty_max\n",
      "numbersQty_std\n",
      "assignmentsQty_mean\n",
      "assignmentsQty_min\n",
      "assignmentsQty_max\n",
      "assignmentsQty_std\n",
      "mathOperationsQty_mean\n",
      "mathOperationsQty_min\n",
      "mathOperationsQty_max\n",
      "mathOperationsQty_std\n",
      "variablesQty_mean\n",
      "variablesQty_min\n",
      "variablesQty_max\n",
      "variablesQty_std\n",
      "maxNestedBlocks_mean\n",
      "maxNestedBlocks_min\n",
      "maxNestedBlocks_max\n",
      "maxNestedBlocks_std\n",
      "anonymousClassesQty_mean\n",
      "anonymousClassesQty_min\n",
      "anonymousClassesQty_max\n",
      "anonymousClassesQty_std\n",
      "subClassesQty_mean\n",
      "subClassesQty_min\n",
      "subClassesQty_max\n",
      "subClassesQty_std\n",
      "lambdasQty_mean\n",
      "lambdasQty_min\n",
      "lambdasQty_max\n",
      "lambdasQty_std\n",
      "uniqueWordsQty_mean\n",
      "uniqueWordsQty_min\n",
      "uniqueWordsQty_max\n",
      "uniqueWordsQty_std\n",
      "modifiers_mean\n",
      "modifiers_min\n",
      "modifiers_max\n",
      "modifiers_std\n",
      "num_dependency_mean\n",
      "num_dependency_min\n",
      "num_dependency_max\n",
      "num_dependency_std\n",
      "num_line_affected_mean\n",
      "num_line_affected_min\n",
      "num_line_affected_max\n",
      "num_line_affected_std\n",
      "actual_num_of_classes_touched_mean\n",
      "actual_num_of_classes_touched_min\n",
      "actual_num_of_classes_touched_max\n",
      "actual_num_of_classes_touched_std\n",
      "commit_line_changed\n",
      "refactoring_perc\n",
      "refactoring_perc_time_taken\n",
      "cocomoII_time_taken\n",
      "time_taken_final\n"
     ]
    }
   ],
   "source": [
    "for columns in main_df.columns:\n",
    "    print(columns)"
   ]
  },
  {
   "cell_type": "markdown",
   "metadata": {},
   "source": [
    "### Only taking mean for num_dependency and num_line_affected since there is only one"
   ]
  },
  {
   "cell_type": "code",
   "execution_count": 34,
   "metadata": {},
   "outputs": [],
   "source": [
    "final_col = []\n",
    "column_to_skip = ['sha',\n",
    "'name','email','login',\n",
    "'date','message',\n",
    "'parent_sha','parent_date',\n",
    "'time_taken','contains_refactoring',\n",
    "'kmean_label','time_taken_mean',\n",
    "'time_taken_min',\n",
    "'time_taken_max',\n",
    "'time_taken_q10',\n",
    "'time_taken_q20',\n",
    "'time_taken_q25',\n",
    "'time_taken_q30',\n",
    "'time_taken_q40',\n",
    "'time_taken_q50',\n",
    "'time_taken_q60',\n",
    "'time_taken_q70',\n",
    "'time_taken_q75',\n",
    "'time_taken_q80',\n",
    "'time_taken_q90',\n",
    "'project_name','commit_compared_with',\n",
    "'actual_num_of_classes_touched_mean',\n",
    " 'actual_num_of_classes_touched_min',\n",
    " 'actual_num_of_classes_touched_max',\n",
    " 'actual_num_of_classes_touched_std',\n",
    "'num_dependency_min',\n",
    "'num_dependency_max',\n",
    "'num_dependency_std',\n",
    "'num_line_affected_min',\n",
    "'num_line_affected_max',\n",
    "'num_line_affected_std', 'time_taken_final',\n",
    "'commit_line_changed',\n",
    "'refactoring_perc',\n",
    " 'refactoring_perc_time_taken'\n",
    " ]\n",
    "for element in main_df.columns:\n",
    "    #print(\"'\" + element + \"',\")\n",
    "    if element not in column_to_skip:\n",
    "        final_col.append(element)"
   ]
  },
  {
   "cell_type": "code",
   "execution_count": 35,
   "metadata": {},
   "outputs": [
    {
     "data": {
      "text/plain": [
       "['cbo_mean',\n",
       " 'cbo_min',\n",
       " 'cbo_max',\n",
       " 'cbo_std',\n",
       " 'wmc_mean',\n",
       " 'wmc_min',\n",
       " 'wmc_max',\n",
       " 'wmc_std',\n",
       " 'dit_mean',\n",
       " 'dit_min',\n",
       " 'dit_max',\n",
       " 'dit_std',\n",
       " 'rfc_mean',\n",
       " 'rfc_min',\n",
       " 'rfc_max',\n",
       " 'rfc_std',\n",
       " 'lcom_mean',\n",
       " 'lcom_min',\n",
       " 'lcom_max',\n",
       " 'lcom_std',\n",
       " 'totalMethods_mean',\n",
       " 'totalMethods_min',\n",
       " 'totalMethods_max',\n",
       " 'totalMethods_std',\n",
       " 'staticMethods_mean',\n",
       " 'staticMethods_min',\n",
       " 'staticMethods_max',\n",
       " 'staticMethods_std',\n",
       " 'publicMethods_mean',\n",
       " 'publicMethods_min',\n",
       " 'publicMethods_max',\n",
       " 'publicMethods_std',\n",
       " 'privateMethods_mean',\n",
       " 'privateMethods_min',\n",
       " 'privateMethods_max',\n",
       " 'privateMethods_std',\n",
       " 'protectedMethods_mean',\n",
       " 'protectedMethods_min',\n",
       " 'protectedMethods_max',\n",
       " 'protectedMethods_std',\n",
       " 'defaultMethods_mean',\n",
       " 'defaultMethods_min',\n",
       " 'defaultMethods_max',\n",
       " 'defaultMethods_std',\n",
       " 'abstractMethods_mean',\n",
       " 'abstractMethods_min',\n",
       " 'abstractMethods_max',\n",
       " 'abstractMethods_std',\n",
       " 'finalMethods_mean',\n",
       " 'finalMethods_min',\n",
       " 'finalMethods_max',\n",
       " 'finalMethods_std',\n",
       " 'synchronizedMethods_mean',\n",
       " 'synchronizedMethods_min',\n",
       " 'synchronizedMethods_max',\n",
       " 'synchronizedMethods_std',\n",
       " 'totalFields_mean',\n",
       " 'totalFields_min',\n",
       " 'totalFields_max',\n",
       " 'totalFields_std',\n",
       " 'staticFields_mean',\n",
       " 'staticFields_min',\n",
       " 'staticFields_max',\n",
       " 'staticFields_std',\n",
       " 'publicFields_mean',\n",
       " 'publicFields_min',\n",
       " 'publicFields_max',\n",
       " 'publicFields_std',\n",
       " 'privateFields_mean',\n",
       " 'privateFields_min',\n",
       " 'privateFields_max',\n",
       " 'privateFields_std',\n",
       " 'protectedFields_mean',\n",
       " 'protectedFields_min',\n",
       " 'protectedFields_max',\n",
       " 'protectedFields_std',\n",
       " 'defaultFields_mean',\n",
       " 'defaultFields_min',\n",
       " 'defaultFields_max',\n",
       " 'defaultFields_std',\n",
       " 'finalFields_mean',\n",
       " 'finalFields_min',\n",
       " 'finalFields_max',\n",
       " 'finalFields_std',\n",
       " 'synchronizedFields_mean',\n",
       " 'synchronizedFields_min',\n",
       " 'synchronizedFields_max',\n",
       " 'synchronizedFields_std',\n",
       " 'nosi_mean',\n",
       " 'nosi_min',\n",
       " 'nosi_max',\n",
       " 'nosi_std',\n",
       " 'loc_mean',\n",
       " 'loc_min',\n",
       " 'loc_max',\n",
       " 'loc_std',\n",
       " 'returnQty_mean',\n",
       " 'returnQty_min',\n",
       " 'returnQty_max',\n",
       " 'returnQty_std',\n",
       " 'loopQty_mean',\n",
       " 'loopQty_min',\n",
       " 'loopQty_max',\n",
       " 'loopQty_std',\n",
       " 'comparisonsQty_mean',\n",
       " 'comparisonsQty_min',\n",
       " 'comparisonsQty_max',\n",
       " 'comparisonsQty_std',\n",
       " 'tryCatchQty_mean',\n",
       " 'tryCatchQty_min',\n",
       " 'tryCatchQty_max',\n",
       " 'tryCatchQty_std',\n",
       " 'parenthesizedExpsQty_mean',\n",
       " 'parenthesizedExpsQty_min',\n",
       " 'parenthesizedExpsQty_max',\n",
       " 'parenthesizedExpsQty_std',\n",
       " 'stringLiteralsQty_mean',\n",
       " 'stringLiteralsQty_min',\n",
       " 'stringLiteralsQty_max',\n",
       " 'stringLiteralsQty_std',\n",
       " 'numbersQty_mean',\n",
       " 'numbersQty_min',\n",
       " 'numbersQty_max',\n",
       " 'numbersQty_std',\n",
       " 'assignmentsQty_mean',\n",
       " 'assignmentsQty_min',\n",
       " 'assignmentsQty_max',\n",
       " 'assignmentsQty_std',\n",
       " 'mathOperationsQty_mean',\n",
       " 'mathOperationsQty_min',\n",
       " 'mathOperationsQty_max',\n",
       " 'mathOperationsQty_std',\n",
       " 'variablesQty_mean',\n",
       " 'variablesQty_min',\n",
       " 'variablesQty_max',\n",
       " 'variablesQty_std',\n",
       " 'maxNestedBlocks_mean',\n",
       " 'maxNestedBlocks_min',\n",
       " 'maxNestedBlocks_max',\n",
       " 'maxNestedBlocks_std',\n",
       " 'anonymousClassesQty_mean',\n",
       " 'anonymousClassesQty_min',\n",
       " 'anonymousClassesQty_max',\n",
       " 'anonymousClassesQty_std',\n",
       " 'subClassesQty_mean',\n",
       " 'subClassesQty_min',\n",
       " 'subClassesQty_max',\n",
       " 'subClassesQty_std',\n",
       " 'lambdasQty_mean',\n",
       " 'lambdasQty_min',\n",
       " 'lambdasQty_max',\n",
       " 'lambdasQty_std',\n",
       " 'uniqueWordsQty_mean',\n",
       " 'uniqueWordsQty_min',\n",
       " 'uniqueWordsQty_max',\n",
       " 'uniqueWordsQty_std',\n",
       " 'modifiers_mean',\n",
       " 'modifiers_min',\n",
       " 'modifiers_max',\n",
       " 'modifiers_std',\n",
       " 'num_dependency_mean',\n",
       " 'num_line_affected_mean',\n",
       " 'cocomoII_time_taken']"
      ]
     },
     "execution_count": 35,
     "metadata": {},
     "output_type": "execute_result"
    }
   ],
   "source": [
    "final_col"
   ]
  },
  {
   "cell_type": "code",
   "execution_count": 36,
   "metadata": {},
   "outputs": [],
   "source": [
    "X_col = final_col.copy()\n",
    "X_col.remove('cocomoII_time_taken')\n",
    "Y_col = ['cocomoII_time_taken']\n",
    "\n",
    "X = main_df[X_col]\n",
    "y = main_df[Y_col]\n",
    "final_df = main_df[final_col]"
   ]
  },
  {
   "cell_type": "code",
   "execution_count": 37,
   "metadata": {},
   "outputs": [
    {
     "data": {
      "text/html": [
       "<div>\n",
       "<style scoped>\n",
       "    .dataframe tbody tr th:only-of-type {\n",
       "        vertical-align: middle;\n",
       "    }\n",
       "\n",
       "    .dataframe tbody tr th {\n",
       "        vertical-align: top;\n",
       "    }\n",
       "\n",
       "    .dataframe thead th {\n",
       "        text-align: right;\n",
       "    }\n",
       "</style>\n",
       "<table border=\"1\" class=\"dataframe\">\n",
       "  <thead>\n",
       "    <tr style=\"text-align: right;\">\n",
       "      <th></th>\n",
       "      <th>cbo_mean</th>\n",
       "      <th>cbo_min</th>\n",
       "      <th>cbo_max</th>\n",
       "      <th>cbo_std</th>\n",
       "      <th>wmc_mean</th>\n",
       "      <th>wmc_min</th>\n",
       "      <th>wmc_max</th>\n",
       "      <th>wmc_std</th>\n",
       "      <th>dit_mean</th>\n",
       "      <th>dit_min</th>\n",
       "      <th>...</th>\n",
       "      <th>uniqueWordsQty_mean</th>\n",
       "      <th>uniqueWordsQty_min</th>\n",
       "      <th>uniqueWordsQty_max</th>\n",
       "      <th>uniqueWordsQty_std</th>\n",
       "      <th>modifiers_mean</th>\n",
       "      <th>modifiers_min</th>\n",
       "      <th>modifiers_max</th>\n",
       "      <th>modifiers_std</th>\n",
       "      <th>num_dependency_mean</th>\n",
       "      <th>num_line_affected_mean</th>\n",
       "    </tr>\n",
       "  </thead>\n",
       "  <tbody>\n",
       "    <tr>\n",
       "      <th>0</th>\n",
       "      <td>11.00</td>\n",
       "      <td>11.0</td>\n",
       "      <td>11.0</td>\n",
       "      <td>0.000000</td>\n",
       "      <td>8.000000</td>\n",
       "      <td>8.0</td>\n",
       "      <td>8.0</td>\n",
       "      <td>0.000000</td>\n",
       "      <td>2.0</td>\n",
       "      <td>2.0</td>\n",
       "      <td>...</td>\n",
       "      <td>58.000000</td>\n",
       "      <td>58.0</td>\n",
       "      <td>58.0</td>\n",
       "      <td>0.000000</td>\n",
       "      <td>17.0</td>\n",
       "      <td>17.0</td>\n",
       "      <td>17.0</td>\n",
       "      <td>0.0</td>\n",
       "      <td>85.000000</td>\n",
       "      <td>61.000000</td>\n",
       "    </tr>\n",
       "    <tr>\n",
       "      <th>1</th>\n",
       "      <td>12.00</td>\n",
       "      <td>12.0</td>\n",
       "      <td>12.0</td>\n",
       "      <td>0.000000</td>\n",
       "      <td>8.000000</td>\n",
       "      <td>8.0</td>\n",
       "      <td>8.0</td>\n",
       "      <td>0.000000</td>\n",
       "      <td>1.0</td>\n",
       "      <td>1.0</td>\n",
       "      <td>...</td>\n",
       "      <td>68.000000</td>\n",
       "      <td>68.0</td>\n",
       "      <td>68.0</td>\n",
       "      <td>0.000000</td>\n",
       "      <td>17.0</td>\n",
       "      <td>17.0</td>\n",
       "      <td>17.0</td>\n",
       "      <td>0.0</td>\n",
       "      <td>3.000000</td>\n",
       "      <td>78.000000</td>\n",
       "    </tr>\n",
       "    <tr>\n",
       "      <th>2</th>\n",
       "      <td>30.00</td>\n",
       "      <td>30.0</td>\n",
       "      <td>30.0</td>\n",
       "      <td>0.000000</td>\n",
       "      <td>29.000000</td>\n",
       "      <td>29.0</td>\n",
       "      <td>29.0</td>\n",
       "      <td>0.000000</td>\n",
       "      <td>1.0</td>\n",
       "      <td>1.0</td>\n",
       "      <td>...</td>\n",
       "      <td>103.000000</td>\n",
       "      <td>103.0</td>\n",
       "      <td>103.0</td>\n",
       "      <td>0.000000</td>\n",
       "      <td>1.0</td>\n",
       "      <td>1.0</td>\n",
       "      <td>1.0</td>\n",
       "      <td>0.0</td>\n",
       "      <td>78.000000</td>\n",
       "      <td>322.000000</td>\n",
       "    </tr>\n",
       "    <tr>\n",
       "      <th>3</th>\n",
       "      <td>23.25</td>\n",
       "      <td>5.0</td>\n",
       "      <td>63.0</td>\n",
       "      <td>20.780782</td>\n",
       "      <td>20.666667</td>\n",
       "      <td>4.0</td>\n",
       "      <td>64.0</td>\n",
       "      <td>21.993112</td>\n",
       "      <td>2.0</td>\n",
       "      <td>1.0</td>\n",
       "      <td>...</td>\n",
       "      <td>121.333333</td>\n",
       "      <td>37.0</td>\n",
       "      <td>320.0</td>\n",
       "      <td>98.919006</td>\n",
       "      <td>1.0</td>\n",
       "      <td>1.0</td>\n",
       "      <td>1.0</td>\n",
       "      <td>0.0</td>\n",
       "      <td>57.583333</td>\n",
       "      <td>222.666667</td>\n",
       "    </tr>\n",
       "    <tr>\n",
       "      <th>5</th>\n",
       "      <td>25.00</td>\n",
       "      <td>25.0</td>\n",
       "      <td>25.0</td>\n",
       "      <td>0.000000</td>\n",
       "      <td>32.000000</td>\n",
       "      <td>32.0</td>\n",
       "      <td>32.0</td>\n",
       "      <td>0.000000</td>\n",
       "      <td>1.0</td>\n",
       "      <td>1.0</td>\n",
       "      <td>...</td>\n",
       "      <td>166.000000</td>\n",
       "      <td>166.0</td>\n",
       "      <td>166.0</td>\n",
       "      <td>0.000000</td>\n",
       "      <td>1025.0</td>\n",
       "      <td>1025.0</td>\n",
       "      <td>1025.0</td>\n",
       "      <td>0.0</td>\n",
       "      <td>51.000000</td>\n",
       "      <td>321.000000</td>\n",
       "    </tr>\n",
       "  </tbody>\n",
       "</table>\n",
       "<p>5 rows × 162 columns</p>\n",
       "</div>"
      ],
      "text/plain": [
       "   cbo_mean  cbo_min  cbo_max    cbo_std   wmc_mean  wmc_min  wmc_max  \\\n",
       "0     11.00     11.0     11.0   0.000000   8.000000      8.0      8.0   \n",
       "1     12.00     12.0     12.0   0.000000   8.000000      8.0      8.0   \n",
       "2     30.00     30.0     30.0   0.000000  29.000000     29.0     29.0   \n",
       "3     23.25      5.0     63.0  20.780782  20.666667      4.0     64.0   \n",
       "5     25.00     25.0     25.0   0.000000  32.000000     32.0     32.0   \n",
       "\n",
       "     wmc_std  dit_mean  dit_min  ...  uniqueWordsQty_mean  uniqueWordsQty_min  \\\n",
       "0   0.000000       2.0      2.0  ...            58.000000                58.0   \n",
       "1   0.000000       1.0      1.0  ...            68.000000                68.0   \n",
       "2   0.000000       1.0      1.0  ...           103.000000               103.0   \n",
       "3  21.993112       2.0      1.0  ...           121.333333                37.0   \n",
       "5   0.000000       1.0      1.0  ...           166.000000               166.0   \n",
       "\n",
       "   uniqueWordsQty_max  uniqueWordsQty_std  modifiers_mean  modifiers_min  \\\n",
       "0                58.0            0.000000            17.0           17.0   \n",
       "1                68.0            0.000000            17.0           17.0   \n",
       "2               103.0            0.000000             1.0            1.0   \n",
       "3               320.0           98.919006             1.0            1.0   \n",
       "5               166.0            0.000000          1025.0         1025.0   \n",
       "\n",
       "   modifiers_max  modifiers_std  num_dependency_mean  num_line_affected_mean  \n",
       "0           17.0            0.0            85.000000               61.000000  \n",
       "1           17.0            0.0             3.000000               78.000000  \n",
       "2            1.0            0.0            78.000000              322.000000  \n",
       "3            1.0            0.0            57.583333              222.666667  \n",
       "5         1025.0            0.0            51.000000              321.000000  \n",
       "\n",
       "[5 rows x 162 columns]"
      ]
     },
     "execution_count": 37,
     "metadata": {},
     "output_type": "execute_result"
    }
   ],
   "source": [
    "X.head()"
   ]
  },
  {
   "cell_type": "code",
   "execution_count": 38,
   "metadata": {},
   "outputs": [
    {
     "data": {
      "text/html": [
       "<div>\n",
       "<style scoped>\n",
       "    .dataframe tbody tr th:only-of-type {\n",
       "        vertical-align: middle;\n",
       "    }\n",
       "\n",
       "    .dataframe tbody tr th {\n",
       "        vertical-align: top;\n",
       "    }\n",
       "\n",
       "    .dataframe thead th {\n",
       "        text-align: right;\n",
       "    }\n",
       "</style>\n",
       "<table border=\"1\" class=\"dataframe\">\n",
       "  <thead>\n",
       "    <tr style=\"text-align: right;\">\n",
       "      <th></th>\n",
       "      <th>cocomoII_time_taken</th>\n",
       "    </tr>\n",
       "  </thead>\n",
       "  <tbody>\n",
       "    <tr>\n",
       "      <th>0</th>\n",
       "      <td>4.13952</td>\n",
       "    </tr>\n",
       "    <tr>\n",
       "      <th>1</th>\n",
       "      <td>179.03424</td>\n",
       "    </tr>\n",
       "    <tr>\n",
       "      <th>2</th>\n",
       "      <td>18.11040</td>\n",
       "    </tr>\n",
       "    <tr>\n",
       "      <th>3</th>\n",
       "      <td>100.38336</td>\n",
       "    </tr>\n",
       "    <tr>\n",
       "      <th>5</th>\n",
       "      <td>191.97024</td>\n",
       "    </tr>\n",
       "  </tbody>\n",
       "</table>\n",
       "</div>"
      ],
      "text/plain": [
       "   cocomoII_time_taken\n",
       "0              4.13952\n",
       "1            179.03424\n",
       "2             18.11040\n",
       "3            100.38336\n",
       "5            191.97024"
      ]
     },
     "execution_count": 38,
     "metadata": {},
     "output_type": "execute_result"
    }
   ],
   "source": [
    "y.head()"
   ]
  },
  {
   "cell_type": "code",
   "execution_count": 39,
   "metadata": {},
   "outputs": [],
   "source": [
    "from sklearn.model_selection import train_test_split\n",
    "X_train, X_test, y_train, y_test = train_test_split(X, y, test_size=0.33, random_state=16)"
   ]
  },
  {
   "cell_type": "code",
   "execution_count": 40,
   "metadata": {},
   "outputs": [
    {
     "name": "stdout",
     "output_type": "stream",
     "text": [
      "Checking whether there is an H2O instance running at http://localhost:54321 ..... not found.\n",
      "Attempting to start a local H2O server...\n",
      "; Java HotSpot(TM) 64-Bit Server VM (build 12.0.1+12, mixed mode, sharing)\n",
      "  Starting server from C:\\ProgramData\\Anaconda3\\lib\\site-packages\\h2o\\backend\\bin\\h2o.jar\n",
      "  Ice root: C:\\Users\\tanji\\AppData\\Local\\Temp\\tmp8x4y24l9\n",
      "  JVM stdout: C:\\Users\\tanji\\AppData\\Local\\Temp\\tmp8x4y24l9\\h2o_tanji_started_from_python.out\n",
      "  JVM stderr: C:\\Users\\tanji\\AppData\\Local\\Temp\\tmp8x4y24l9\\h2o_tanji_started_from_python.err\n",
      "  Server is running at http://127.0.0.1:54321\n",
      "Connecting to H2O server at http://127.0.0.1:54321 ... successful.\n",
      "Warning: Your H2O cluster version is too old (4 months and 11 days)! Please download and install the latest version from http://h2o.ai/download/\n"
     ]
    },
    {
     "data": {
      "text/html": [
       "<div style=\"overflow:auto\"><table style=\"width:50%\"><tr><td>H2O_cluster_uptime:</td>\n",
       "<td>02 secs</td></tr>\n",
       "<tr><td>H2O_cluster_timezone:</td>\n",
       "<td>Asia/Kuala_Lumpur</td></tr>\n",
       "<tr><td>H2O_data_parsing_timezone:</td>\n",
       "<td>UTC</td></tr>\n",
       "<tr><td>H2O_cluster_version:</td>\n",
       "<td>3.32.1.7</td></tr>\n",
       "<tr><td>H2O_cluster_version_age:</td>\n",
       "<td>4 months and 11 days !!!</td></tr>\n",
       "<tr><td>H2O_cluster_name:</td>\n",
       "<td>H2O_from_python_tanji_60ijya</td></tr>\n",
       "<tr><td>H2O_cluster_total_nodes:</td>\n",
       "<td>1</td></tr>\n",
       "<tr><td>H2O_cluster_free_memory:</td>\n",
       "<td>7.984 Gb</td></tr>\n",
       "<tr><td>H2O_cluster_total_cores:</td>\n",
       "<td>12</td></tr>\n",
       "<tr><td>H2O_cluster_allowed_cores:</td>\n",
       "<td>4</td></tr>\n",
       "<tr><td>H2O_cluster_status:</td>\n",
       "<td>accepting new members, healthy</td></tr>\n",
       "<tr><td>H2O_connection_url:</td>\n",
       "<td>http://127.0.0.1:54321</td></tr>\n",
       "<tr><td>H2O_connection_proxy:</td>\n",
       "<td>{\"http\": null, \"https\": null}</td></tr>\n",
       "<tr><td>H2O_internal_security:</td>\n",
       "<td>False</td></tr>\n",
       "<tr><td>H2O_API_Extensions:</td>\n",
       "<td>Amazon S3, Algos, AutoML, Core V3, TargetEncoder, Core V4</td></tr>\n",
       "<tr><td>Python_version:</td>\n",
       "<td>3.7.3 final</td></tr></table></div>"
      ],
      "text/plain": [
       "--------------------------  ---------------------------------------------------------\n",
       "H2O_cluster_uptime:         02 secs\n",
       "H2O_cluster_timezone:       Asia/Kuala_Lumpur\n",
       "H2O_data_parsing_timezone:  UTC\n",
       "H2O_cluster_version:        3.32.1.7\n",
       "H2O_cluster_version_age:    4 months and 11 days !!!\n",
       "H2O_cluster_name:           H2O_from_python_tanji_60ijya\n",
       "H2O_cluster_total_nodes:    1\n",
       "H2O_cluster_free_memory:    7.984 Gb\n",
       "H2O_cluster_total_cores:    12\n",
       "H2O_cluster_allowed_cores:  4\n",
       "H2O_cluster_status:         accepting new members, healthy\n",
       "H2O_connection_url:         http://127.0.0.1:54321\n",
       "H2O_connection_proxy:       {\"http\": null, \"https\": null}\n",
       "H2O_internal_security:      False\n",
       "H2O_API_Extensions:         Amazon S3, Algos, AutoML, Core V3, TargetEncoder, Core V4\n",
       "Python_version:             3.7.3 final\n",
       "--------------------------  ---------------------------------------------------------"
      ]
     },
     "metadata": {},
     "output_type": "display_data"
    }
   ],
   "source": [
    "h2o.init(nthreads=4)"
   ]
  },
  {
   "cell_type": "code",
   "execution_count": 42,
   "metadata": {},
   "outputs": [
    {
     "name": "stdout",
     "output_type": "stream",
     "text": [
      "Parse progress: |█████████████████████████████████████████████████████████| 100%\n"
     ]
    }
   ],
   "source": [
    "from h2o.automl import H2OAutoML\n",
    "\n",
    "full = h2o.H2OFrame(final_df)\n",
    "train,test = full.split_frame(ratios=[.7])\n",
    "\n",
    "\n",
    "x = train.columns\n",
    "y = \"cocomoII_time_taken\"\n",
    "x.remove(y)\n",
    "\n"
   ]
  },
  {
   "cell_type": "code",
   "execution_count": 43,
   "metadata": {},
   "outputs": [
    {
     "data": {
      "text/plain": [
       "{'cbo_mean': 'real',\n",
       " 'cbo_min': 'int',\n",
       " 'cbo_max': 'int',\n",
       " 'cbo_std': 'real',\n",
       " 'wmc_mean': 'real',\n",
       " 'wmc_min': 'int',\n",
       " 'wmc_max': 'int',\n",
       " 'wmc_std': 'real',\n",
       " 'dit_mean': 'real',\n",
       " 'dit_min': 'int',\n",
       " 'dit_max': 'int',\n",
       " 'dit_std': 'real',\n",
       " 'rfc_mean': 'real',\n",
       " 'rfc_min': 'int',\n",
       " 'rfc_max': 'int',\n",
       " 'rfc_std': 'real',\n",
       " 'lcom_mean': 'real',\n",
       " 'lcom_min': 'int',\n",
       " 'lcom_max': 'int',\n",
       " 'lcom_std': 'real',\n",
       " 'totalMethods_mean': 'real',\n",
       " 'totalMethods_min': 'int',\n",
       " 'totalMethods_max': 'int',\n",
       " 'totalMethods_std': 'real',\n",
       " 'staticMethods_mean': 'real',\n",
       " 'staticMethods_min': 'int',\n",
       " 'staticMethods_max': 'int',\n",
       " 'staticMethods_std': 'real',\n",
       " 'publicMethods_mean': 'real',\n",
       " 'publicMethods_min': 'int',\n",
       " 'publicMethods_max': 'int',\n",
       " 'publicMethods_std': 'real',\n",
       " 'privateMethods_mean': 'real',\n",
       " 'privateMethods_min': 'int',\n",
       " 'privateMethods_max': 'int',\n",
       " 'privateMethods_std': 'real',\n",
       " 'protectedMethods_mean': 'real',\n",
       " 'protectedMethods_min': 'int',\n",
       " 'protectedMethods_max': 'int',\n",
       " 'protectedMethods_std': 'real',\n",
       " 'defaultMethods_mean': 'real',\n",
       " 'defaultMethods_min': 'int',\n",
       " 'defaultMethods_max': 'int',\n",
       " 'defaultMethods_std': 'real',\n",
       " 'abstractMethods_mean': 'real',\n",
       " 'abstractMethods_min': 'int',\n",
       " 'abstractMethods_max': 'int',\n",
       " 'abstractMethods_std': 'real',\n",
       " 'finalMethods_mean': 'real',\n",
       " 'finalMethods_min': 'int',\n",
       " 'finalMethods_max': 'int',\n",
       " 'finalMethods_std': 'real',\n",
       " 'synchronizedMethods_mean': 'real',\n",
       " 'synchronizedMethods_min': 'int',\n",
       " 'synchronizedMethods_max': 'int',\n",
       " 'synchronizedMethods_std': 'real',\n",
       " 'totalFields_mean': 'real',\n",
       " 'totalFields_min': 'int',\n",
       " 'totalFields_max': 'int',\n",
       " 'totalFields_std': 'real',\n",
       " 'staticFields_mean': 'real',\n",
       " 'staticFields_min': 'int',\n",
       " 'staticFields_max': 'int',\n",
       " 'staticFields_std': 'real',\n",
       " 'publicFields_mean': 'real',\n",
       " 'publicFields_min': 'int',\n",
       " 'publicFields_max': 'int',\n",
       " 'publicFields_std': 'real',\n",
       " 'privateFields_mean': 'real',\n",
       " 'privateFields_min': 'int',\n",
       " 'privateFields_max': 'int',\n",
       " 'privateFields_std': 'real',\n",
       " 'protectedFields_mean': 'real',\n",
       " 'protectedFields_min': 'int',\n",
       " 'protectedFields_max': 'int',\n",
       " 'protectedFields_std': 'real',\n",
       " 'defaultFields_mean': 'int',\n",
       " 'defaultFields_min': 'int',\n",
       " 'defaultFields_max': 'int',\n",
       " 'defaultFields_std': 'int',\n",
       " 'finalFields_mean': 'real',\n",
       " 'finalFields_min': 'int',\n",
       " 'finalFields_max': 'int',\n",
       " 'finalFields_std': 'real',\n",
       " 'synchronizedFields_mean': 'int',\n",
       " 'synchronizedFields_min': 'int',\n",
       " 'synchronizedFields_max': 'int',\n",
       " 'synchronizedFields_std': 'int',\n",
       " 'nosi_mean': 'real',\n",
       " 'nosi_min': 'int',\n",
       " 'nosi_max': 'int',\n",
       " 'nosi_std': 'real',\n",
       " 'loc_mean': 'real',\n",
       " 'loc_min': 'int',\n",
       " 'loc_max': 'int',\n",
       " 'loc_std': 'real',\n",
       " 'returnQty_mean': 'real',\n",
       " 'returnQty_min': 'int',\n",
       " 'returnQty_max': 'int',\n",
       " 'returnQty_std': 'real',\n",
       " 'loopQty_mean': 'real',\n",
       " 'loopQty_min': 'int',\n",
       " 'loopQty_max': 'int',\n",
       " 'loopQty_std': 'real',\n",
       " 'comparisonsQty_mean': 'real',\n",
       " 'comparisonsQty_min': 'int',\n",
       " 'comparisonsQty_max': 'int',\n",
       " 'comparisonsQty_std': 'real',\n",
       " 'tryCatchQty_mean': 'real',\n",
       " 'tryCatchQty_min': 'int',\n",
       " 'tryCatchQty_max': 'int',\n",
       " 'tryCatchQty_std': 'real',\n",
       " 'parenthesizedExpsQty_mean': 'real',\n",
       " 'parenthesizedExpsQty_min': 'int',\n",
       " 'parenthesizedExpsQty_max': 'int',\n",
       " 'parenthesizedExpsQty_std': 'real',\n",
       " 'stringLiteralsQty_mean': 'real',\n",
       " 'stringLiteralsQty_min': 'int',\n",
       " 'stringLiteralsQty_max': 'int',\n",
       " 'stringLiteralsQty_std': 'real',\n",
       " 'numbersQty_mean': 'real',\n",
       " 'numbersQty_min': 'int',\n",
       " 'numbersQty_max': 'int',\n",
       " 'numbersQty_std': 'real',\n",
       " 'assignmentsQty_mean': 'real',\n",
       " 'assignmentsQty_min': 'int',\n",
       " 'assignmentsQty_max': 'int',\n",
       " 'assignmentsQty_std': 'real',\n",
       " 'mathOperationsQty_mean': 'real',\n",
       " 'mathOperationsQty_min': 'int',\n",
       " 'mathOperationsQty_max': 'int',\n",
       " 'mathOperationsQty_std': 'real',\n",
       " 'variablesQty_mean': 'real',\n",
       " 'variablesQty_min': 'int',\n",
       " 'variablesQty_max': 'int',\n",
       " 'variablesQty_std': 'real',\n",
       " 'maxNestedBlocks_mean': 'real',\n",
       " 'maxNestedBlocks_min': 'int',\n",
       " 'maxNestedBlocks_max': 'int',\n",
       " 'maxNestedBlocks_std': 'real',\n",
       " 'anonymousClassesQty_mean': 'real',\n",
       " 'anonymousClassesQty_min': 'int',\n",
       " 'anonymousClassesQty_max': 'int',\n",
       " 'anonymousClassesQty_std': 'real',\n",
       " 'subClassesQty_mean': 'real',\n",
       " 'subClassesQty_min': 'int',\n",
       " 'subClassesQty_max': 'int',\n",
       " 'subClassesQty_std': 'real',\n",
       " 'lambdasQty_mean': 'real',\n",
       " 'lambdasQty_min': 'int',\n",
       " 'lambdasQty_max': 'int',\n",
       " 'lambdasQty_std': 'real',\n",
       " 'uniqueWordsQty_mean': 'real',\n",
       " 'uniqueWordsQty_min': 'int',\n",
       " 'uniqueWordsQty_max': 'int',\n",
       " 'uniqueWordsQty_std': 'real',\n",
       " 'modifiers_mean': 'real',\n",
       " 'modifiers_min': 'int',\n",
       " 'modifiers_max': 'int',\n",
       " 'modifiers_std': 'real',\n",
       " 'num_dependency_mean': 'real',\n",
       " 'num_line_affected_mean': 'real'}"
      ]
     },
     "execution_count": 43,
     "metadata": {},
     "output_type": "execute_result"
    }
   ],
   "source": [
    "train[x].types"
   ]
  },
  {
   "cell_type": "code",
   "execution_count": 44,
   "metadata": {},
   "outputs": [
    {
     "data": {
      "text/plain": [
       "{'cocomoII_time_taken': 'real'}"
      ]
     },
     "execution_count": 44,
     "metadata": {},
     "output_type": "execute_result"
    }
   ],
   "source": [
    "train[y].types"
   ]
  },
  {
   "cell_type": "code",
   "execution_count": 45,
   "metadata": {},
   "outputs": [
    {
     "name": "stdout",
     "output_type": "stream",
     "text": [
      "AutoML progress: |████████████████████████████████████████████████████████| 100%\n"
     ]
    }
   ],
   "source": [
    "aml = H2OAutoML(max_models=10, seed=16, exclude_algos=['XGBoost', 'GLM'], exploitation_ratio=0.1)\n",
    "#aml = H2OAutoML(max_models=10, seed=1, include_algos=['GLM'])\n",
    "aml.train(x=x, y=y, training_frame=train)"
   ]
  },
  {
   "cell_type": "code",
   "execution_count": 46,
   "metadata": {},
   "outputs": [
    {
     "data": {
      "text/html": [
       "<table>\n",
       "<thead>\n",
       "<tr><th>model_id                                           </th><th style=\"text-align: right;\">  mean_residual_deviance</th><th style=\"text-align: right;\">   rmse</th><th style=\"text-align: right;\">    mse</th><th style=\"text-align: right;\">    mae</th><th style=\"text-align: right;\">    rmsle</th></tr>\n",
       "</thead>\n",
       "<tbody>\n",
       "<tr><td>StackedEnsemble_BestOfFamily_AutoML_20220114_105936</td><td style=\"text-align: right;\">                 39832  </td><td style=\"text-align: right;\">199.58 </td><td style=\"text-align: right;\">39832  </td><td style=\"text-align: right;\">142.946</td><td style=\"text-align: right;\">  1.37602</td></tr>\n",
       "<tr><td>StackedEnsemble_AllModels_AutoML_20220114_105936   </td><td style=\"text-align: right;\">                 40182.2</td><td style=\"text-align: right;\">200.455</td><td style=\"text-align: right;\">40182.2</td><td style=\"text-align: right;\">142.995</td><td style=\"text-align: right;\">  1.3757 </td></tr>\n",
       "<tr><td>GBM_4_AutoML_20220114_105936                       </td><td style=\"text-align: right;\">                 40600.5</td><td style=\"text-align: right;\">201.496</td><td style=\"text-align: right;\">40600.5</td><td style=\"text-align: right;\">142.276</td><td style=\"text-align: right;\">  1.36614</td></tr>\n",
       "<tr><td>DRF_1_AutoML_20220114_105936                       </td><td style=\"text-align: right;\">                 41033.8</td><td style=\"text-align: right;\">202.568</td><td style=\"text-align: right;\">41033.8</td><td style=\"text-align: right;\">144.664</td><td style=\"text-align: right;\">  1.36642</td></tr>\n",
       "<tr><td>GBM_5_AutoML_20220114_105936                       </td><td style=\"text-align: right;\">                 41365.1</td><td style=\"text-align: right;\">203.384</td><td style=\"text-align: right;\">41365.1</td><td style=\"text-align: right;\">146.615</td><td style=\"text-align: right;\">  1.39525</td></tr>\n",
       "<tr><td>GBM_grid__1_AutoML_20220114_105936_model_1         </td><td style=\"text-align: right;\">                 41572  </td><td style=\"text-align: right;\">203.892</td><td style=\"text-align: right;\">41572  </td><td style=\"text-align: right;\">146.336</td><td style=\"text-align: right;\">  1.38709</td></tr>\n",
       "<tr><td>GBM_2_AutoML_20220114_105936                       </td><td style=\"text-align: right;\">                 41990.5</td><td style=\"text-align: right;\">204.916</td><td style=\"text-align: right;\">41990.5</td><td style=\"text-align: right;\">143.689</td><td style=\"text-align: right;\">  1.368  </td></tr>\n",
       "<tr><td>XRT_1_AutoML_20220114_105936                       </td><td style=\"text-align: right;\">                 42030.6</td><td style=\"text-align: right;\">205.014</td><td style=\"text-align: right;\">42030.6</td><td style=\"text-align: right;\">147.075</td><td style=\"text-align: right;\">  1.37115</td></tr>\n",
       "<tr><td>GBM_3_AutoML_20220114_105936                       </td><td style=\"text-align: right;\">                 42307.1</td><td style=\"text-align: right;\">205.687</td><td style=\"text-align: right;\">42307.1</td><td style=\"text-align: right;\">144.385</td><td style=\"text-align: right;\">  1.37158</td></tr>\n",
       "<tr><td>GBM_1_AutoML_20220114_105936                       </td><td style=\"text-align: right;\">                 43243  </td><td style=\"text-align: right;\">207.949</td><td style=\"text-align: right;\">43243  </td><td style=\"text-align: right;\">146.518</td><td style=\"text-align: right;\">  1.36501</td></tr>\n",
       "<tr><td>DeepLearning_1_AutoML_20220114_105936              </td><td style=\"text-align: right;\">                 54814  </td><td style=\"text-align: right;\">234.124</td><td style=\"text-align: right;\">54814  </td><td style=\"text-align: right;\">156.187</td><td style=\"text-align: right;\">nan      </td></tr>\n",
       "<tr><td>DeepLearning_grid__1_AutoML_20220114_105936_model_1</td><td style=\"text-align: right;\">                 57035.4</td><td style=\"text-align: right;\">238.821</td><td style=\"text-align: right;\">57035.4</td><td style=\"text-align: right;\">162.43 </td><td style=\"text-align: right;\">nan      </td></tr>\n",
       "</tbody>\n",
       "</table>"
      ]
     },
     "metadata": {},
     "output_type": "display_data"
    },
    {
     "data": {
      "text/plain": []
     },
     "execution_count": 46,
     "metadata": {},
     "output_type": "execute_result"
    }
   ],
   "source": [
    "lb = aml.leaderboard\n",
    "lb.head(rows=lb.nrows)"
   ]
  },
  {
   "cell_type": "code",
   "execution_count": 47,
   "metadata": {},
   "outputs": [],
   "source": [
    "model = h2o.get_model(lb[0,'model_id'])"
   ]
  },
  {
   "cell_type": "code",
   "execution_count": 48,
   "metadata": {
    "scrolled": true
   },
   "outputs": [
    {
     "name": "stdout",
     "output_type": "stream",
     "text": [
      "Model Details\n",
      "=============\n",
      "H2OStackedEnsembleEstimator :  Stacked Ensemble\n",
      "Model Key:  StackedEnsemble_BestOfFamily_AutoML_20220114_105936\n",
      "\n",
      "No model summary for this model\n",
      "\n",
      "ModelMetricsRegressionGLM: stackedensemble\n",
      "** Reported on train data. **\n",
      "\n",
      "MSE: 14101.367922320875\n",
      "RMSE: 118.7491807227354\n",
      "MAE: 84.70236855820887\n",
      "RMSLE: 1.090903425880476\n",
      "R^2: 0.675779383405176\n",
      "Mean Residual Deviance: 14101.367922320875\n",
      "Null degrees of freedom: 469\n",
      "Residual degrees of freedom: 467\n",
      "Null deviance: 20441768.91987511\n",
      "Residual deviance: 6627642.923490811\n",
      "AIC: 5832.194952303539\n",
      "\n",
      "ModelMetricsRegressionGLM: stackedensemble\n",
      "** Reported on cross-validation data. **\n",
      "\n",
      "MSE: 39832.02389624136\n",
      "RMSE: 199.57961793790807\n",
      "MAE: 142.94616217209258\n",
      "RMSLE: 1.3760176318030473\n",
      "R^2: 0.08417655513993527\n",
      "Mean Residual Deviance: 39832.02389624136\n",
      "Null degrees of freedom: 469\n",
      "Residual degrees of freedom: 466\n",
      "Null deviance: 20555328.94829811\n",
      "Residual deviance: 18721051.231233437\n",
      "AIC: 6322.242670688745\n"
     ]
    },
    {
     "data": {
      "text/plain": []
     },
     "execution_count": 48,
     "metadata": {},
     "output_type": "execute_result"
    }
   ],
   "source": [
    "model"
   ]
  },
  {
   "cell_type": "code",
   "execution_count": 49,
   "metadata": {},
   "outputs": [
    {
     "name": "stdout",
     "output_type": "stream",
     "text": [
      "stackedensemble prediction progress: |████████████████████████████████████| 100%\n"
     ]
    }
   ],
   "source": [
    "preds = model.predict(test)"
   ]
  },
  {
   "cell_type": "code",
   "execution_count": 50,
   "metadata": {},
   "outputs": [
    {
     "data": {
      "text/html": [
       "<table>\n",
       "<thead>\n",
       "<tr><th style=\"text-align: right;\">  predict</th></tr>\n",
       "</thead>\n",
       "<tbody>\n",
       "<tr><td style=\"text-align: right;\">  252.77 </td></tr>\n",
       "<tr><td style=\"text-align: right;\">  277.786</td></tr>\n",
       "<tr><td style=\"text-align: right;\">  198.46 </td></tr>\n",
       "<tr><td style=\"text-align: right;\">  290.919</td></tr>\n",
       "<tr><td style=\"text-align: right;\">  221.386</td></tr>\n",
       "<tr><td style=\"text-align: right;\">  258.525</td></tr>\n",
       "<tr><td style=\"text-align: right;\">  192.003</td></tr>\n",
       "<tr><td style=\"text-align: right;\">  156.289</td></tr>\n",
       "<tr><td style=\"text-align: right;\">  159.542</td></tr>\n",
       "<tr><td style=\"text-align: right;\">  179.151</td></tr>\n",
       "</tbody>\n",
       "</table>"
      ]
     },
     "metadata": {},
     "output_type": "display_data"
    },
    {
     "data": {
      "text/plain": []
     },
     "execution_count": 50,
     "metadata": {},
     "output_type": "execute_result"
    }
   ],
   "source": [
    "preds"
   ]
  },
  {
   "cell_type": "code",
   "execution_count": 51,
   "metadata": {
    "scrolled": true
   },
   "outputs": [
    {
     "data": {
      "text/plain": [
       "195.374695    1\n",
       "73.489836     1\n",
       "114.847334    1\n",
       "315.500177    1\n",
       "125.953043    1\n",
       "             ..\n",
       "123.068791    1\n",
       "187.793899    1\n",
       "181.195496    1\n",
       "149.823881    1\n",
       "178.826164    1\n",
       "Name: predict, Length: 215, dtype: int64"
      ]
     },
     "execution_count": 51,
     "metadata": {},
     "output_type": "execute_result"
    }
   ],
   "source": [
    "pd_preds = preds.as_data_frame()\n",
    "pd_preds['predict'].value_counts()"
   ]
  },
  {
   "cell_type": "code",
   "execution_count": 52,
   "metadata": {},
   "outputs": [
    {
     "data": {
      "text/html": [
       "<table>\n",
       "<thead>\n",
       "<tr><th style=\"text-align: right;\">  cbo_mean</th><th style=\"text-align: right;\">  cbo_min</th><th style=\"text-align: right;\">  cbo_max</th><th style=\"text-align: right;\">  cbo_std</th><th style=\"text-align: right;\">  wmc_mean</th><th style=\"text-align: right;\">  wmc_min</th><th style=\"text-align: right;\">  wmc_max</th><th style=\"text-align: right;\">  wmc_std</th><th style=\"text-align: right;\">  dit_mean</th><th style=\"text-align: right;\">  dit_min</th><th style=\"text-align: right;\">  dit_max</th><th style=\"text-align: right;\">  dit_std</th><th style=\"text-align: right;\">  rfc_mean</th><th style=\"text-align: right;\">  rfc_min</th><th style=\"text-align: right;\">  rfc_max</th><th style=\"text-align: right;\">  rfc_std</th><th style=\"text-align: right;\">  lcom_mean</th><th style=\"text-align: right;\">  lcom_min</th><th style=\"text-align: right;\">  lcom_max</th><th style=\"text-align: right;\">  lcom_std</th><th style=\"text-align: right;\">  totalMethods_mean</th><th style=\"text-align: right;\">  totalMethods_min</th><th style=\"text-align: right;\">  totalMethods_max</th><th style=\"text-align: right;\">  totalMethods_std</th><th style=\"text-align: right;\">  staticMethods_mean</th><th style=\"text-align: right;\">  staticMethods_min</th><th style=\"text-align: right;\">  staticMethods_max</th><th style=\"text-align: right;\">  staticMethods_std</th><th style=\"text-align: right;\">  publicMethods_mean</th><th style=\"text-align: right;\">  publicMethods_min</th><th style=\"text-align: right;\">  publicMethods_max</th><th style=\"text-align: right;\">  publicMethods_std</th><th style=\"text-align: right;\">  privateMethods_mean</th><th style=\"text-align: right;\">  privateMethods_min</th><th style=\"text-align: right;\">  privateMethods_max</th><th style=\"text-align: right;\">  privateMethods_std</th><th style=\"text-align: right;\">  protectedMethods_mean</th><th style=\"text-align: right;\">  protectedMethods_min</th><th style=\"text-align: right;\">  protectedMethods_max</th><th style=\"text-align: right;\">  protectedMethods_std</th><th style=\"text-align: right;\">  defaultMethods_mean</th><th style=\"text-align: right;\">  defaultMethods_min</th><th style=\"text-align: right;\">  defaultMethods_max</th><th style=\"text-align: right;\">  defaultMethods_std</th><th style=\"text-align: right;\">  abstractMethods_mean</th><th style=\"text-align: right;\">  abstractMethods_min</th><th style=\"text-align: right;\">  abstractMethods_max</th><th style=\"text-align: right;\">  abstractMethods_std</th><th style=\"text-align: right;\">  finalMethods_mean</th><th style=\"text-align: right;\">  finalMethods_min</th><th style=\"text-align: right;\">  finalMethods_max</th><th style=\"text-align: right;\">  finalMethods_std</th><th style=\"text-align: right;\">  synchronizedMethods_mean</th><th style=\"text-align: right;\">  synchronizedMethods_min</th><th style=\"text-align: right;\">  synchronizedMethods_max</th><th style=\"text-align: right;\">  synchronizedMethods_std</th><th style=\"text-align: right;\">  totalFields_mean</th><th style=\"text-align: right;\">  totalFields_min</th><th style=\"text-align: right;\">  totalFields_max</th><th style=\"text-align: right;\">  totalFields_std</th><th style=\"text-align: right;\">  staticFields_mean</th><th style=\"text-align: right;\">  staticFields_min</th><th style=\"text-align: right;\">  staticFields_max</th><th style=\"text-align: right;\">  staticFields_std</th><th style=\"text-align: right;\">  publicFields_mean</th><th style=\"text-align: right;\">  publicFields_min</th><th style=\"text-align: right;\">  publicFields_max</th><th style=\"text-align: right;\">  publicFields_std</th><th style=\"text-align: right;\">  privateFields_mean</th><th style=\"text-align: right;\">  privateFields_min</th><th style=\"text-align: right;\">  privateFields_max</th><th style=\"text-align: right;\">  privateFields_std</th><th style=\"text-align: right;\">  protectedFields_mean</th><th style=\"text-align: right;\">  protectedFields_min</th><th style=\"text-align: right;\">  protectedFields_max</th><th style=\"text-align: right;\">  protectedFields_std</th><th style=\"text-align: right;\">  defaultFields_mean</th><th style=\"text-align: right;\">  defaultFields_min</th><th style=\"text-align: right;\">  defaultFields_max</th><th style=\"text-align: right;\">  defaultFields_std</th><th style=\"text-align: right;\">  finalFields_mean</th><th style=\"text-align: right;\">  finalFields_min</th><th style=\"text-align: right;\">  finalFields_max</th><th style=\"text-align: right;\">  finalFields_std</th><th style=\"text-align: right;\">  synchronizedFields_mean</th><th style=\"text-align: right;\">  synchronizedFields_min</th><th style=\"text-align: right;\">  synchronizedFields_max</th><th style=\"text-align: right;\">  synchronizedFields_std</th><th style=\"text-align: right;\">  nosi_mean</th><th style=\"text-align: right;\">  nosi_min</th><th style=\"text-align: right;\">  nosi_max</th><th style=\"text-align: right;\">  nosi_std</th><th style=\"text-align: right;\">  loc_mean</th><th style=\"text-align: right;\">  loc_min</th><th style=\"text-align: right;\">  loc_max</th><th style=\"text-align: right;\">  loc_std</th><th style=\"text-align: right;\">  returnQty_mean</th><th style=\"text-align: right;\">  returnQty_min</th><th style=\"text-align: right;\">  returnQty_max</th><th style=\"text-align: right;\">  returnQty_std</th><th style=\"text-align: right;\">  loopQty_mean</th><th style=\"text-align: right;\">  loopQty_min</th><th style=\"text-align: right;\">  loopQty_max</th><th style=\"text-align: right;\">  loopQty_std</th><th style=\"text-align: right;\">  comparisonsQty_mean</th><th style=\"text-align: right;\">  comparisonsQty_min</th><th style=\"text-align: right;\">  comparisonsQty_max</th><th style=\"text-align: right;\">  comparisonsQty_std</th><th style=\"text-align: right;\">  tryCatchQty_mean</th><th style=\"text-align: right;\">  tryCatchQty_min</th><th style=\"text-align: right;\">  tryCatchQty_max</th><th style=\"text-align: right;\">  tryCatchQty_std</th><th style=\"text-align: right;\">  parenthesizedExpsQty_mean</th><th style=\"text-align: right;\">  parenthesizedExpsQty_min</th><th style=\"text-align: right;\">  parenthesizedExpsQty_max</th><th style=\"text-align: right;\">  parenthesizedExpsQty_std</th><th style=\"text-align: right;\">  stringLiteralsQty_mean</th><th style=\"text-align: right;\">  stringLiteralsQty_min</th><th style=\"text-align: right;\">  stringLiteralsQty_max</th><th style=\"text-align: right;\">  stringLiteralsQty_std</th><th style=\"text-align: right;\">  numbersQty_mean</th><th style=\"text-align: right;\">  numbersQty_min</th><th style=\"text-align: right;\">  numbersQty_max</th><th style=\"text-align: right;\">  numbersQty_std</th><th style=\"text-align: right;\">  assignmentsQty_mean</th><th style=\"text-align: right;\">  assignmentsQty_min</th><th style=\"text-align: right;\">  assignmentsQty_max</th><th style=\"text-align: right;\">  assignmentsQty_std</th><th style=\"text-align: right;\">  mathOperationsQty_mean</th><th style=\"text-align: right;\">  mathOperationsQty_min</th><th style=\"text-align: right;\">  mathOperationsQty_max</th><th style=\"text-align: right;\">  mathOperationsQty_std</th><th style=\"text-align: right;\">  variablesQty_mean</th><th style=\"text-align: right;\">  variablesQty_min</th><th style=\"text-align: right;\">  variablesQty_max</th><th style=\"text-align: right;\">  variablesQty_std</th><th style=\"text-align: right;\">  maxNestedBlocks_mean</th><th style=\"text-align: right;\">  maxNestedBlocks_min</th><th style=\"text-align: right;\">  maxNestedBlocks_max</th><th style=\"text-align: right;\">  maxNestedBlocks_std</th><th style=\"text-align: right;\">  anonymousClassesQty_mean</th><th style=\"text-align: right;\">  anonymousClassesQty_min</th><th style=\"text-align: right;\">  anonymousClassesQty_max</th><th style=\"text-align: right;\">  anonymousClassesQty_std</th><th style=\"text-align: right;\">  subClassesQty_mean</th><th style=\"text-align: right;\">  subClassesQty_min</th><th style=\"text-align: right;\">  subClassesQty_max</th><th style=\"text-align: right;\">  subClassesQty_std</th><th style=\"text-align: right;\">  lambdasQty_mean</th><th style=\"text-align: right;\">  lambdasQty_min</th><th style=\"text-align: right;\">  lambdasQty_max</th><th style=\"text-align: right;\">  lambdasQty_std</th><th style=\"text-align: right;\">  uniqueWordsQty_mean</th><th style=\"text-align: right;\">  uniqueWordsQty_min</th><th style=\"text-align: right;\">  uniqueWordsQty_max</th><th style=\"text-align: right;\">  uniqueWordsQty_std</th><th style=\"text-align: right;\">  modifiers_mean</th><th style=\"text-align: right;\">  modifiers_min</th><th style=\"text-align: right;\">  modifiers_max</th><th style=\"text-align: right;\">  modifiers_std</th><th style=\"text-align: right;\">  num_dependency_mean</th><th style=\"text-align: right;\">  num_line_affected_mean</th><th style=\"text-align: right;\">  cocomoII_time_taken</th></tr>\n",
       "</thead>\n",
       "<tbody>\n",
       "<tr><td style=\"text-align: right;\">  11      </td><td style=\"text-align: right;\">       11</td><td style=\"text-align: right;\">       11</td><td style=\"text-align: right;\">  0      </td><td style=\"text-align: right;\">   8      </td><td style=\"text-align: right;\">        8</td><td style=\"text-align: right;\">        8</td><td style=\"text-align: right;\">  0      </td><td style=\"text-align: right;\">   2      </td><td style=\"text-align: right;\">        2</td><td style=\"text-align: right;\">        2</td><td style=\"text-align: right;\">  0      </td><td style=\"text-align: right;\">    9     </td><td style=\"text-align: right;\">        9</td><td style=\"text-align: right;\">        9</td><td style=\"text-align: right;\">  0      </td><td style=\"text-align: right;\">   15      </td><td style=\"text-align: right;\">        15</td><td style=\"text-align: right;\">        15</td><td style=\"text-align: right;\">   0      </td><td style=\"text-align: right;\">            6      </td><td style=\"text-align: right;\">                 6</td><td style=\"text-align: right;\">                 6</td><td style=\"text-align: right;\">           0      </td><td style=\"text-align: right;\">            0       </td><td style=\"text-align: right;\">                  0</td><td style=\"text-align: right;\">                  0</td><td style=\"text-align: right;\">           0       </td><td style=\"text-align: right;\">            6       </td><td style=\"text-align: right;\">                  6</td><td style=\"text-align: right;\">                  6</td><td style=\"text-align: right;\">           0       </td><td style=\"text-align: right;\">             0       </td><td style=\"text-align: right;\">                   0</td><td style=\"text-align: right;\">                   0</td><td style=\"text-align: right;\">            0       </td><td style=\"text-align: right;\">               0       </td><td style=\"text-align: right;\">                     0</td><td style=\"text-align: right;\">                     0</td><td style=\"text-align: right;\">               0      </td><td style=\"text-align: right;\">                    0</td><td style=\"text-align: right;\">                   0</td><td style=\"text-align: right;\">                   0</td><td style=\"text-align: right;\">                   0</td><td style=\"text-align: right;\">                     0</td><td style=\"text-align: right;\">                    0</td><td style=\"text-align: right;\">                    0</td><td style=\"text-align: right;\">                    0</td><td style=\"text-align: right;\">           0       </td><td style=\"text-align: right;\">                 0</td><td style=\"text-align: right;\">                 0</td><td style=\"text-align: right;\">          0       </td><td style=\"text-align: right;\">                         0</td><td style=\"text-align: right;\">                        0</td><td style=\"text-align: right;\">                        0</td><td style=\"text-align: right;\">                        0</td><td style=\"text-align: right;\">           0      </td><td style=\"text-align: right;\">                0</td><td style=\"text-align: right;\">                0</td><td style=\"text-align: right;\">          0      </td><td style=\"text-align: right;\">            0      </td><td style=\"text-align: right;\">                 0</td><td style=\"text-align: right;\">                 0</td><td style=\"text-align: right;\">           0      </td><td style=\"text-align: right;\">            0      </td><td style=\"text-align: right;\">                 0</td><td style=\"text-align: right;\">                 0</td><td style=\"text-align: right;\">           0      </td><td style=\"text-align: right;\">             0      </td><td style=\"text-align: right;\">                  0</td><td style=\"text-align: right;\">                  0</td><td style=\"text-align: right;\">            0      </td><td style=\"text-align: right;\">                     0</td><td style=\"text-align: right;\">                    0</td><td style=\"text-align: right;\">                    0</td><td style=\"text-align: right;\">                    0</td><td style=\"text-align: right;\">                   0</td><td style=\"text-align: right;\">                  0</td><td style=\"text-align: right;\">                  0</td><td style=\"text-align: right;\">                  0</td><td style=\"text-align: right;\">           0      </td><td style=\"text-align: right;\">                0</td><td style=\"text-align: right;\">                0</td><td style=\"text-align: right;\">          0      </td><td style=\"text-align: right;\">                        0</td><td style=\"text-align: right;\">                       0</td><td style=\"text-align: right;\">                       0</td><td style=\"text-align: right;\">                       0</td><td style=\"text-align: right;\">    2      </td><td style=\"text-align: right;\">         2</td><td style=\"text-align: right;\">         2</td><td style=\"text-align: right;\">   0      </td><td style=\"text-align: right;\">   63     </td><td style=\"text-align: right;\">       63</td><td style=\"text-align: right;\">       63</td><td style=\"text-align: right;\">  0      </td><td style=\"text-align: right;\">        4       </td><td style=\"text-align: right;\">              4</td><td style=\"text-align: right;\">              4</td><td style=\"text-align: right;\">       0       </td><td style=\"text-align: right;\">       0      </td><td style=\"text-align: right;\">            0</td><td style=\"text-align: right;\">            0</td><td style=\"text-align: right;\">      0      </td><td style=\"text-align: right;\">                    0</td><td style=\"text-align: right;\">                   0</td><td style=\"text-align: right;\">                   0</td><td style=\"text-align: right;\">             0      </td><td style=\"text-align: right;\">                 3</td><td style=\"text-align: right;\">                3</td><td style=\"text-align: right;\">                3</td><td style=\"text-align: right;\">           0     </td><td style=\"text-align: right;\">                   0       </td><td style=\"text-align: right;\">                         0</td><td style=\"text-align: right;\">                         0</td><td style=\"text-align: right;\">                  0       </td><td style=\"text-align: right;\">                 6      </td><td style=\"text-align: right;\">                      6</td><td style=\"text-align: right;\">                      6</td><td style=\"text-align: right;\">                0      </td><td style=\"text-align: right;\">          2      </td><td style=\"text-align: right;\">               2</td><td style=\"text-align: right;\">               2</td><td style=\"text-align: right;\">          0     </td><td style=\"text-align: right;\">              4      </td><td style=\"text-align: right;\">                   4</td><td style=\"text-align: right;\">                   4</td><td style=\"text-align: right;\">             0      </td><td style=\"text-align: right;\">                 0      </td><td style=\"text-align: right;\">                      0</td><td style=\"text-align: right;\">                      0</td><td style=\"text-align: right;\">                0      </td><td style=\"text-align: right;\">            4      </td><td style=\"text-align: right;\">                 4</td><td style=\"text-align: right;\">                 4</td><td style=\"text-align: right;\">           0      </td><td style=\"text-align: right;\">              3       </td><td style=\"text-align: right;\">                    3</td><td style=\"text-align: right;\">                    3</td><td style=\"text-align: right;\">             0       </td><td style=\"text-align: right;\">                  0       </td><td style=\"text-align: right;\">                        0</td><td style=\"text-align: right;\">                        0</td><td style=\"text-align: right;\">                 0       </td><td style=\"text-align: right;\">            0       </td><td style=\"text-align: right;\">                  0</td><td style=\"text-align: right;\">                  0</td><td style=\"text-align: right;\">           0       </td><td style=\"text-align: right;\">         1       </td><td style=\"text-align: right;\">               1</td><td style=\"text-align: right;\">               1</td><td style=\"text-align: right;\">        0       </td><td style=\"text-align: right;\">              58     </td><td style=\"text-align: right;\">                  58</td><td style=\"text-align: right;\">                  58</td><td style=\"text-align: right;\">              0     </td><td style=\"text-align: right;\">       17       </td><td style=\"text-align: right;\">             17</td><td style=\"text-align: right;\">             17</td><td style=\"text-align: right;\">       0       </td><td style=\"text-align: right;\">              85     </td><td style=\"text-align: right;\">                 61     </td><td style=\"text-align: right;\">              4.13952</td></tr>\n",
       "<tr><td style=\"text-align: right;\">  12      </td><td style=\"text-align: right;\">       12</td><td style=\"text-align: right;\">       12</td><td style=\"text-align: right;\">  0      </td><td style=\"text-align: right;\">   8      </td><td style=\"text-align: right;\">        8</td><td style=\"text-align: right;\">        8</td><td style=\"text-align: right;\">  0      </td><td style=\"text-align: right;\">   1      </td><td style=\"text-align: right;\">        1</td><td style=\"text-align: right;\">        1</td><td style=\"text-align: right;\">  0      </td><td style=\"text-align: right;\">   16     </td><td style=\"text-align: right;\">       16</td><td style=\"text-align: right;\">       16</td><td style=\"text-align: right;\">  0      </td><td style=\"text-align: right;\">    0      </td><td style=\"text-align: right;\">         0</td><td style=\"text-align: right;\">         0</td><td style=\"text-align: right;\">   0      </td><td style=\"text-align: right;\">            2      </td><td style=\"text-align: right;\">                 2</td><td style=\"text-align: right;\">                 2</td><td style=\"text-align: right;\">           0      </td><td style=\"text-align: right;\">            0       </td><td style=\"text-align: right;\">                  0</td><td style=\"text-align: right;\">                  0</td><td style=\"text-align: right;\">           0       </td><td style=\"text-align: right;\">            2       </td><td style=\"text-align: right;\">                  2</td><td style=\"text-align: right;\">                  2</td><td style=\"text-align: right;\">           0       </td><td style=\"text-align: right;\">             0       </td><td style=\"text-align: right;\">                   0</td><td style=\"text-align: right;\">                   0</td><td style=\"text-align: right;\">            0       </td><td style=\"text-align: right;\">               0       </td><td style=\"text-align: right;\">                     0</td><td style=\"text-align: right;\">                     0</td><td style=\"text-align: right;\">               0      </td><td style=\"text-align: right;\">                    0</td><td style=\"text-align: right;\">                   0</td><td style=\"text-align: right;\">                   0</td><td style=\"text-align: right;\">                   0</td><td style=\"text-align: right;\">                     0</td><td style=\"text-align: right;\">                    0</td><td style=\"text-align: right;\">                    0</td><td style=\"text-align: right;\">                    0</td><td style=\"text-align: right;\">           0       </td><td style=\"text-align: right;\">                 0</td><td style=\"text-align: right;\">                 0</td><td style=\"text-align: right;\">          0       </td><td style=\"text-align: right;\">                         0</td><td style=\"text-align: right;\">                        0</td><td style=\"text-align: right;\">                        0</td><td style=\"text-align: right;\">                        0</td><td style=\"text-align: right;\">          10      </td><td style=\"text-align: right;\">               10</td><td style=\"text-align: right;\">               10</td><td style=\"text-align: right;\">          0      </td><td style=\"text-align: right;\">            5      </td><td style=\"text-align: right;\">                 5</td><td style=\"text-align: right;\">                 5</td><td style=\"text-align: right;\">           0      </td><td style=\"text-align: right;\">            2      </td><td style=\"text-align: right;\">                 2</td><td style=\"text-align: right;\">                 2</td><td style=\"text-align: right;\">           0      </td><td style=\"text-align: right;\">             8      </td><td style=\"text-align: right;\">                  8</td><td style=\"text-align: right;\">                  8</td><td style=\"text-align: right;\">            0      </td><td style=\"text-align: right;\">                     0</td><td style=\"text-align: right;\">                    0</td><td style=\"text-align: right;\">                    0</td><td style=\"text-align: right;\">                    0</td><td style=\"text-align: right;\">                   0</td><td style=\"text-align: right;\">                  0</td><td style=\"text-align: right;\">                  0</td><td style=\"text-align: right;\">                  0</td><td style=\"text-align: right;\">          10      </td><td style=\"text-align: right;\">               10</td><td style=\"text-align: right;\">               10</td><td style=\"text-align: right;\">          0      </td><td style=\"text-align: right;\">                        0</td><td style=\"text-align: right;\">                       0</td><td style=\"text-align: right;\">                       0</td><td style=\"text-align: right;\">                       0</td><td style=\"text-align: right;\">    4      </td><td style=\"text-align: right;\">         4</td><td style=\"text-align: right;\">         4</td><td style=\"text-align: right;\">   0      </td><td style=\"text-align: right;\">   80     </td><td style=\"text-align: right;\">       80</td><td style=\"text-align: right;\">       80</td><td style=\"text-align: right;\">  0      </td><td style=\"text-align: right;\">        0       </td><td style=\"text-align: right;\">              0</td><td style=\"text-align: right;\">              0</td><td style=\"text-align: right;\">       0       </td><td style=\"text-align: right;\">       0      </td><td style=\"text-align: right;\">            0</td><td style=\"text-align: right;\">            0</td><td style=\"text-align: right;\">      0      </td><td style=\"text-align: right;\">                    0</td><td style=\"text-align: right;\">                   0</td><td style=\"text-align: right;\">                   0</td><td style=\"text-align: right;\">             0      </td><td style=\"text-align: right;\">                 0</td><td style=\"text-align: right;\">                0</td><td style=\"text-align: right;\">                0</td><td style=\"text-align: right;\">           0     </td><td style=\"text-align: right;\">                   0       </td><td style=\"text-align: right;\">                         0</td><td style=\"text-align: right;\">                         0</td><td style=\"text-align: right;\">                  0       </td><td style=\"text-align: right;\">                 3      </td><td style=\"text-align: right;\">                      3</td><td style=\"text-align: right;\">                      3</td><td style=\"text-align: right;\">                0      </td><td style=\"text-align: right;\">          2      </td><td style=\"text-align: right;\">               2</td><td style=\"text-align: right;\">               2</td><td style=\"text-align: right;\">          0     </td><td style=\"text-align: right;\">             16      </td><td style=\"text-align: right;\">                  16</td><td style=\"text-align: right;\">                  16</td><td style=\"text-align: right;\">             0      </td><td style=\"text-align: right;\">                 0      </td><td style=\"text-align: right;\">                      0</td><td style=\"text-align: right;\">                      0</td><td style=\"text-align: right;\">                0      </td><td style=\"text-align: right;\">           16      </td><td style=\"text-align: right;\">                16</td><td style=\"text-align: right;\">                16</td><td style=\"text-align: right;\">           0      </td><td style=\"text-align: right;\">              1       </td><td style=\"text-align: right;\">                    1</td><td style=\"text-align: right;\">                    1</td><td style=\"text-align: right;\">             0       </td><td style=\"text-align: right;\">                  2       </td><td style=\"text-align: right;\">                        2</td><td style=\"text-align: right;\">                        2</td><td style=\"text-align: right;\">                 0       </td><td style=\"text-align: right;\">            0       </td><td style=\"text-align: right;\">                  0</td><td style=\"text-align: right;\">                  0</td><td style=\"text-align: right;\">           0       </td><td style=\"text-align: right;\">         0       </td><td style=\"text-align: right;\">               0</td><td style=\"text-align: right;\">               0</td><td style=\"text-align: right;\">        0       </td><td style=\"text-align: right;\">              68     </td><td style=\"text-align: right;\">                  68</td><td style=\"text-align: right;\">                  68</td><td style=\"text-align: right;\">              0     </td><td style=\"text-align: right;\">       17       </td><td style=\"text-align: right;\">             17</td><td style=\"text-align: right;\">             17</td><td style=\"text-align: right;\">       0       </td><td style=\"text-align: right;\">               3     </td><td style=\"text-align: right;\">                 78     </td><td style=\"text-align: right;\">            179.034  </td></tr>\n",
       "<tr><td style=\"text-align: right;\">  25      </td><td style=\"text-align: right;\">       25</td><td style=\"text-align: right;\">       25</td><td style=\"text-align: right;\">  0      </td><td style=\"text-align: right;\">  32      </td><td style=\"text-align: right;\">       32</td><td style=\"text-align: right;\">       32</td><td style=\"text-align: right;\">  0      </td><td style=\"text-align: right;\">   1      </td><td style=\"text-align: right;\">        1</td><td style=\"text-align: right;\">        1</td><td style=\"text-align: right;\">  0      </td><td style=\"text-align: right;\">   65     </td><td style=\"text-align: right;\">       65</td><td style=\"text-align: right;\">       65</td><td style=\"text-align: right;\">  0      </td><td style=\"text-align: right;\">    9      </td><td style=\"text-align: right;\">         9</td><td style=\"text-align: right;\">         9</td><td style=\"text-align: right;\">   0      </td><td style=\"text-align: right;\">           23      </td><td style=\"text-align: right;\">                23</td><td style=\"text-align: right;\">                23</td><td style=\"text-align: right;\">           0      </td><td style=\"text-align: right;\">            1       </td><td style=\"text-align: right;\">                  1</td><td style=\"text-align: right;\">                  1</td><td style=\"text-align: right;\">           0       </td><td style=\"text-align: right;\">           18       </td><td style=\"text-align: right;\">                 18</td><td style=\"text-align: right;\">                 18</td><td style=\"text-align: right;\">           0       </td><td style=\"text-align: right;\">             4       </td><td style=\"text-align: right;\">                   4</td><td style=\"text-align: right;\">                   4</td><td style=\"text-align: right;\">            0       </td><td style=\"text-align: right;\">               0       </td><td style=\"text-align: right;\">                     0</td><td style=\"text-align: right;\">                     0</td><td style=\"text-align: right;\">               0      </td><td style=\"text-align: right;\">                    0</td><td style=\"text-align: right;\">                   0</td><td style=\"text-align: right;\">                   0</td><td style=\"text-align: right;\">                   0</td><td style=\"text-align: right;\">                     3</td><td style=\"text-align: right;\">                    3</td><td style=\"text-align: right;\">                    3</td><td style=\"text-align: right;\">                    0</td><td style=\"text-align: right;\">           0       </td><td style=\"text-align: right;\">                 0</td><td style=\"text-align: right;\">                 0</td><td style=\"text-align: right;\">          0       </td><td style=\"text-align: right;\">                         0</td><td style=\"text-align: right;\">                        0</td><td style=\"text-align: right;\">                        0</td><td style=\"text-align: right;\">                        0</td><td style=\"text-align: right;\">           7      </td><td style=\"text-align: right;\">                7</td><td style=\"text-align: right;\">                7</td><td style=\"text-align: right;\">          0      </td><td style=\"text-align: right;\">            3      </td><td style=\"text-align: right;\">                 3</td><td style=\"text-align: right;\">                 3</td><td style=\"text-align: right;\">           0      </td><td style=\"text-align: right;\">            1      </td><td style=\"text-align: right;\">                 1</td><td style=\"text-align: right;\">                 1</td><td style=\"text-align: right;\">           0      </td><td style=\"text-align: right;\">             4      </td><td style=\"text-align: right;\">                  4</td><td style=\"text-align: right;\">                  4</td><td style=\"text-align: right;\">            0      </td><td style=\"text-align: right;\">                     2</td><td style=\"text-align: right;\">                    2</td><td style=\"text-align: right;\">                    2</td><td style=\"text-align: right;\">                    0</td><td style=\"text-align: right;\">                   0</td><td style=\"text-align: right;\">                  0</td><td style=\"text-align: right;\">                  0</td><td style=\"text-align: right;\">                  0</td><td style=\"text-align: right;\">           4      </td><td style=\"text-align: right;\">                4</td><td style=\"text-align: right;\">                4</td><td style=\"text-align: right;\">          0      </td><td style=\"text-align: right;\">                        0</td><td style=\"text-align: right;\">                       0</td><td style=\"text-align: right;\">                       0</td><td style=\"text-align: right;\">                       0</td><td style=\"text-align: right;\">   46      </td><td style=\"text-align: right;\">        46</td><td style=\"text-align: right;\">        46</td><td style=\"text-align: right;\">   0      </td><td style=\"text-align: right;\">  265     </td><td style=\"text-align: right;\">      265</td><td style=\"text-align: right;\">      265</td><td style=\"text-align: right;\">  0      </td><td style=\"text-align: right;\">        6       </td><td style=\"text-align: right;\">              6</td><td style=\"text-align: right;\">              6</td><td style=\"text-align: right;\">       0       </td><td style=\"text-align: right;\">       0      </td><td style=\"text-align: right;\">            0</td><td style=\"text-align: right;\">            0</td><td style=\"text-align: right;\">      0      </td><td style=\"text-align: right;\">                    0</td><td style=\"text-align: right;\">                   0</td><td style=\"text-align: right;\">                   0</td><td style=\"text-align: right;\">             0      </td><td style=\"text-align: right;\">                10</td><td style=\"text-align: right;\">               10</td><td style=\"text-align: right;\">               10</td><td style=\"text-align: right;\">           0     </td><td style=\"text-align: right;\">                   0       </td><td style=\"text-align: right;\">                         0</td><td style=\"text-align: right;\">                         0</td><td style=\"text-align: right;\">                  0       </td><td style=\"text-align: right;\">                80      </td><td style=\"text-align: right;\">                     80</td><td style=\"text-align: right;\">                     80</td><td style=\"text-align: right;\">                0      </td><td style=\"text-align: right;\">         14      </td><td style=\"text-align: right;\">              14</td><td style=\"text-align: right;\">              14</td><td style=\"text-align: right;\">          0     </td><td style=\"text-align: right;\">             49      </td><td style=\"text-align: right;\">                  49</td><td style=\"text-align: right;\">                  49</td><td style=\"text-align: right;\">             0      </td><td style=\"text-align: right;\">                32      </td><td style=\"text-align: right;\">                     32</td><td style=\"text-align: right;\">                     32</td><td style=\"text-align: right;\">                0      </td><td style=\"text-align: right;\">           48      </td><td style=\"text-align: right;\">                48</td><td style=\"text-align: right;\">                48</td><td style=\"text-align: right;\">           0      </td><td style=\"text-align: right;\">              2       </td><td style=\"text-align: right;\">                    2</td><td style=\"text-align: right;\">                    2</td><td style=\"text-align: right;\">             0       </td><td style=\"text-align: right;\">                  0       </td><td style=\"text-align: right;\">                        0</td><td style=\"text-align: right;\">                        0</td><td style=\"text-align: right;\">                 0       </td><td style=\"text-align: right;\">            0       </td><td style=\"text-align: right;\">                  0</td><td style=\"text-align: right;\">                  0</td><td style=\"text-align: right;\">           0       </td><td style=\"text-align: right;\">         1       </td><td style=\"text-align: right;\">               1</td><td style=\"text-align: right;\">               1</td><td style=\"text-align: right;\">        0       </td><td style=\"text-align: right;\">             166     </td><td style=\"text-align: right;\">                 166</td><td style=\"text-align: right;\">                 166</td><td style=\"text-align: right;\">              0     </td><td style=\"text-align: right;\">     1025       </td><td style=\"text-align: right;\">           1025</td><td style=\"text-align: right;\">           1025</td><td style=\"text-align: right;\">       0       </td><td style=\"text-align: right;\">              51     </td><td style=\"text-align: right;\">                321     </td><td style=\"text-align: right;\">            191.97   </td></tr>\n",
       "<tr><td style=\"text-align: right;\">   8      </td><td style=\"text-align: right;\">        8</td><td style=\"text-align: right;\">        8</td><td style=\"text-align: right;\">  0      </td><td style=\"text-align: right;\">   8      </td><td style=\"text-align: right;\">        8</td><td style=\"text-align: right;\">        8</td><td style=\"text-align: right;\">  0      </td><td style=\"text-align: right;\">   1      </td><td style=\"text-align: right;\">        1</td><td style=\"text-align: right;\">        1</td><td style=\"text-align: right;\">  0      </td><td style=\"text-align: right;\">    4     </td><td style=\"text-align: right;\">        4</td><td style=\"text-align: right;\">        4</td><td style=\"text-align: right;\">  0      </td><td style=\"text-align: right;\">   15      </td><td style=\"text-align: right;\">        15</td><td style=\"text-align: right;\">        15</td><td style=\"text-align: right;\">   0      </td><td style=\"text-align: right;\">            6      </td><td style=\"text-align: right;\">                 6</td><td style=\"text-align: right;\">                 6</td><td style=\"text-align: right;\">           0      </td><td style=\"text-align: right;\">            1       </td><td style=\"text-align: right;\">                  1</td><td style=\"text-align: right;\">                  1</td><td style=\"text-align: right;\">           0       </td><td style=\"text-align: right;\">            0       </td><td style=\"text-align: right;\">                  0</td><td style=\"text-align: right;\">                  0</td><td style=\"text-align: right;\">           0       </td><td style=\"text-align: right;\">             0       </td><td style=\"text-align: right;\">                   0</td><td style=\"text-align: right;\">                   0</td><td style=\"text-align: right;\">            0       </td><td style=\"text-align: right;\">               0       </td><td style=\"text-align: right;\">                     0</td><td style=\"text-align: right;\">                     0</td><td style=\"text-align: right;\">               0      </td><td style=\"text-align: right;\">                    0</td><td style=\"text-align: right;\">                   0</td><td style=\"text-align: right;\">                   0</td><td style=\"text-align: right;\">                   0</td><td style=\"text-align: right;\">                     0</td><td style=\"text-align: right;\">                    0</td><td style=\"text-align: right;\">                    0</td><td style=\"text-align: right;\">                    0</td><td style=\"text-align: right;\">           0       </td><td style=\"text-align: right;\">                 0</td><td style=\"text-align: right;\">                 0</td><td style=\"text-align: right;\">          0       </td><td style=\"text-align: right;\">                         0</td><td style=\"text-align: right;\">                        0</td><td style=\"text-align: right;\">                        0</td><td style=\"text-align: right;\">                        0</td><td style=\"text-align: right;\">           0      </td><td style=\"text-align: right;\">                0</td><td style=\"text-align: right;\">                0</td><td style=\"text-align: right;\">          0      </td><td style=\"text-align: right;\">            0      </td><td style=\"text-align: right;\">                 0</td><td style=\"text-align: right;\">                 0</td><td style=\"text-align: right;\">           0      </td><td style=\"text-align: right;\">            0      </td><td style=\"text-align: right;\">                 0</td><td style=\"text-align: right;\">                 0</td><td style=\"text-align: right;\">           0      </td><td style=\"text-align: right;\">             0      </td><td style=\"text-align: right;\">                  0</td><td style=\"text-align: right;\">                  0</td><td style=\"text-align: right;\">            0      </td><td style=\"text-align: right;\">                     0</td><td style=\"text-align: right;\">                    0</td><td style=\"text-align: right;\">                    0</td><td style=\"text-align: right;\">                    0</td><td style=\"text-align: right;\">                   0</td><td style=\"text-align: right;\">                  0</td><td style=\"text-align: right;\">                  0</td><td style=\"text-align: right;\">                  0</td><td style=\"text-align: right;\">           0      </td><td style=\"text-align: right;\">                0</td><td style=\"text-align: right;\">                0</td><td style=\"text-align: right;\">          0      </td><td style=\"text-align: right;\">                        0</td><td style=\"text-align: right;\">                       0</td><td style=\"text-align: right;\">                       0</td><td style=\"text-align: right;\">                       0</td><td style=\"text-align: right;\">    1      </td><td style=\"text-align: right;\">         1</td><td style=\"text-align: right;\">         1</td><td style=\"text-align: right;\">   0      </td><td style=\"text-align: right;\">   28     </td><td style=\"text-align: right;\">       28</td><td style=\"text-align: right;\">       28</td><td style=\"text-align: right;\">  0      </td><td style=\"text-align: right;\">        2       </td><td style=\"text-align: right;\">              2</td><td style=\"text-align: right;\">              2</td><td style=\"text-align: right;\">       0       </td><td style=\"text-align: right;\">       0      </td><td style=\"text-align: right;\">            0</td><td style=\"text-align: right;\">            0</td><td style=\"text-align: right;\">      0      </td><td style=\"text-align: right;\">                    0</td><td style=\"text-align: right;\">                   0</td><td style=\"text-align: right;\">                   0</td><td style=\"text-align: right;\">             0      </td><td style=\"text-align: right;\">                 0</td><td style=\"text-align: right;\">                0</td><td style=\"text-align: right;\">                0</td><td style=\"text-align: right;\">           0     </td><td style=\"text-align: right;\">                   0       </td><td style=\"text-align: right;\">                         0</td><td style=\"text-align: right;\">                         0</td><td style=\"text-align: right;\">                  0       </td><td style=\"text-align: right;\">                 0      </td><td style=\"text-align: right;\">                      0</td><td style=\"text-align: right;\">                      0</td><td style=\"text-align: right;\">                0      </td><td style=\"text-align: right;\">          0      </td><td style=\"text-align: right;\">               0</td><td style=\"text-align: right;\">               0</td><td style=\"text-align: right;\">          0     </td><td style=\"text-align: right;\">              2      </td><td style=\"text-align: right;\">                   2</td><td style=\"text-align: right;\">                   2</td><td style=\"text-align: right;\">             0      </td><td style=\"text-align: right;\">                 0      </td><td style=\"text-align: right;\">                      0</td><td style=\"text-align: right;\">                      0</td><td style=\"text-align: right;\">                0      </td><td style=\"text-align: right;\">            2      </td><td style=\"text-align: right;\">                 2</td><td style=\"text-align: right;\">                 2</td><td style=\"text-align: right;\">           0      </td><td style=\"text-align: right;\">              1       </td><td style=\"text-align: right;\">                    1</td><td style=\"text-align: right;\">                    1</td><td style=\"text-align: right;\">             0       </td><td style=\"text-align: right;\">                  0       </td><td style=\"text-align: right;\">                        0</td><td style=\"text-align: right;\">                        0</td><td style=\"text-align: right;\">                 0       </td><td style=\"text-align: right;\">            0       </td><td style=\"text-align: right;\">                  0</td><td style=\"text-align: right;\">                  0</td><td style=\"text-align: right;\">           0       </td><td style=\"text-align: right;\">         0       </td><td style=\"text-align: right;\">               0</td><td style=\"text-align: right;\">               0</td><td style=\"text-align: right;\">        0       </td><td style=\"text-align: right;\">              50     </td><td style=\"text-align: right;\">                  50</td><td style=\"text-align: right;\">                  50</td><td style=\"text-align: right;\">              0     </td><td style=\"text-align: right;\">        1       </td><td style=\"text-align: right;\">              1</td><td style=\"text-align: right;\">              1</td><td style=\"text-align: right;\">       0       </td><td style=\"text-align: right;\">             642     </td><td style=\"text-align: right;\">                 48     </td><td style=\"text-align: right;\">             90.552  </td></tr>\n",
       "<tr><td style=\"text-align: right;\">   4      </td><td style=\"text-align: right;\">        4</td><td style=\"text-align: right;\">        4</td><td style=\"text-align: right;\">  0      </td><td style=\"text-align: right;\">  15      </td><td style=\"text-align: right;\">       15</td><td style=\"text-align: right;\">       15</td><td style=\"text-align: right;\">  0      </td><td style=\"text-align: right;\">   1      </td><td style=\"text-align: right;\">        1</td><td style=\"text-align: right;\">        1</td><td style=\"text-align: right;\">  0      </td><td style=\"text-align: right;\">    6     </td><td style=\"text-align: right;\">        6</td><td style=\"text-align: right;\">        6</td><td style=\"text-align: right;\">  0      </td><td style=\"text-align: right;\">   18      </td><td style=\"text-align: right;\">        18</td><td style=\"text-align: right;\">        18</td><td style=\"text-align: right;\">   0      </td><td style=\"text-align: right;\">           12      </td><td style=\"text-align: right;\">                12</td><td style=\"text-align: right;\">                12</td><td style=\"text-align: right;\">           0      </td><td style=\"text-align: right;\">            1       </td><td style=\"text-align: right;\">                  1</td><td style=\"text-align: right;\">                  1</td><td style=\"text-align: right;\">           0       </td><td style=\"text-align: right;\">           11       </td><td style=\"text-align: right;\">                 11</td><td style=\"text-align: right;\">                 11</td><td style=\"text-align: right;\">           0       </td><td style=\"text-align: right;\">             0       </td><td style=\"text-align: right;\">                   0</td><td style=\"text-align: right;\">                   0</td><td style=\"text-align: right;\">            0       </td><td style=\"text-align: right;\">               1       </td><td style=\"text-align: right;\">                     1</td><td style=\"text-align: right;\">                     1</td><td style=\"text-align: right;\">               0      </td><td style=\"text-align: right;\">                    0</td><td style=\"text-align: right;\">                   0</td><td style=\"text-align: right;\">                   0</td><td style=\"text-align: right;\">                   0</td><td style=\"text-align: right;\">                     0</td><td style=\"text-align: right;\">                    0</td><td style=\"text-align: right;\">                    0</td><td style=\"text-align: right;\">                    0</td><td style=\"text-align: right;\">           0       </td><td style=\"text-align: right;\">                 0</td><td style=\"text-align: right;\">                 0</td><td style=\"text-align: right;\">          0       </td><td style=\"text-align: right;\">                         0</td><td style=\"text-align: right;\">                        0</td><td style=\"text-align: right;\">                        0</td><td style=\"text-align: right;\">                        0</td><td style=\"text-align: right;\">           3      </td><td style=\"text-align: right;\">                3</td><td style=\"text-align: right;\">                3</td><td style=\"text-align: right;\">          0      </td><td style=\"text-align: right;\">            0      </td><td style=\"text-align: right;\">                 0</td><td style=\"text-align: right;\">                 0</td><td style=\"text-align: right;\">           0      </td><td style=\"text-align: right;\">            0      </td><td style=\"text-align: right;\">                 0</td><td style=\"text-align: right;\">                 0</td><td style=\"text-align: right;\">           0      </td><td style=\"text-align: right;\">             3      </td><td style=\"text-align: right;\">                  3</td><td style=\"text-align: right;\">                  3</td><td style=\"text-align: right;\">            0      </td><td style=\"text-align: right;\">                     0</td><td style=\"text-align: right;\">                    0</td><td style=\"text-align: right;\">                    0</td><td style=\"text-align: right;\">                    0</td><td style=\"text-align: right;\">                   0</td><td style=\"text-align: right;\">                  0</td><td style=\"text-align: right;\">                  0</td><td style=\"text-align: right;\">                  0</td><td style=\"text-align: right;\">           0      </td><td style=\"text-align: right;\">                0</td><td style=\"text-align: right;\">                0</td><td style=\"text-align: right;\">          0      </td><td style=\"text-align: right;\">                        0</td><td style=\"text-align: right;\">                       0</td><td style=\"text-align: right;\">                       0</td><td style=\"text-align: right;\">                       0</td><td style=\"text-align: right;\">    4      </td><td style=\"text-align: right;\">         4</td><td style=\"text-align: right;\">         4</td><td style=\"text-align: right;\">   0      </td><td style=\"text-align: right;\">   64     </td><td style=\"text-align: right;\">       64</td><td style=\"text-align: right;\">       64</td><td style=\"text-align: right;\">  0      </td><td style=\"text-align: right;\">       12       </td><td style=\"text-align: right;\">             12</td><td style=\"text-align: right;\">             12</td><td style=\"text-align: right;\">       0       </td><td style=\"text-align: right;\">       0      </td><td style=\"text-align: right;\">            0</td><td style=\"text-align: right;\">            0</td><td style=\"text-align: right;\">      0      </td><td style=\"text-align: right;\">                    2</td><td style=\"text-align: right;\">                   2</td><td style=\"text-align: right;\">                   2</td><td style=\"text-align: right;\">             0      </td><td style=\"text-align: right;\">                 0</td><td style=\"text-align: right;\">                0</td><td style=\"text-align: right;\">                0</td><td style=\"text-align: right;\">           0     </td><td style=\"text-align: right;\">                   0       </td><td style=\"text-align: right;\">                         0</td><td style=\"text-align: right;\">                         0</td><td style=\"text-align: right;\">                  0       </td><td style=\"text-align: right;\">                 3      </td><td style=\"text-align: right;\">                      3</td><td style=\"text-align: right;\">                      3</td><td style=\"text-align: right;\">                0      </td><td style=\"text-align: right;\">          0      </td><td style=\"text-align: right;\">               0</td><td style=\"text-align: right;\">               0</td><td style=\"text-align: right;\">          0     </td><td style=\"text-align: right;\">              7      </td><td style=\"text-align: right;\">                   7</td><td style=\"text-align: right;\">                   7</td><td style=\"text-align: right;\">             0      </td><td style=\"text-align: right;\">                 0      </td><td style=\"text-align: right;\">                      0</td><td style=\"text-align: right;\">                      0</td><td style=\"text-align: right;\">                0      </td><td style=\"text-align: right;\">            4      </td><td style=\"text-align: right;\">                 4</td><td style=\"text-align: right;\">                 4</td><td style=\"text-align: right;\">           0      </td><td style=\"text-align: right;\">              1       </td><td style=\"text-align: right;\">                    1</td><td style=\"text-align: right;\">                    1</td><td style=\"text-align: right;\">             0       </td><td style=\"text-align: right;\">                  0       </td><td style=\"text-align: right;\">                        0</td><td style=\"text-align: right;\">                        0</td><td style=\"text-align: right;\">                 0       </td><td style=\"text-align: right;\">            0       </td><td style=\"text-align: right;\">                  0</td><td style=\"text-align: right;\">                  0</td><td style=\"text-align: right;\">           0       </td><td style=\"text-align: right;\">         0       </td><td style=\"text-align: right;\">               0</td><td style=\"text-align: right;\">               0</td><td style=\"text-align: right;\">        0       </td><td style=\"text-align: right;\">             108     </td><td style=\"text-align: right;\">                 108</td><td style=\"text-align: right;\">                 108</td><td style=\"text-align: right;\">              0     </td><td style=\"text-align: right;\">        1       </td><td style=\"text-align: right;\">              1</td><td style=\"text-align: right;\">              1</td><td style=\"text-align: right;\">       0       </td><td style=\"text-align: right;\">             371     </td><td style=\"text-align: right;\">                115     </td><td style=\"text-align: right;\">            206.976  </td></tr>\n",
       "<tr><td style=\"text-align: right;\">  15.1429 </td><td style=\"text-align: right;\">        9</td><td style=\"text-align: right;\">       23</td><td style=\"text-align: right;\">  4.74091</td><td style=\"text-align: right;\">   9.71429</td><td style=\"text-align: right;\">        3</td><td style=\"text-align: right;\">       41</td><td style=\"text-align: right;\"> 13.9608 </td><td style=\"text-align: right;\">   1.71429</td><td style=\"text-align: right;\">        1</td><td style=\"text-align: right;\">        2</td><td style=\"text-align: right;\">  0.48795</td><td style=\"text-align: right;\">   19.4286</td><td style=\"text-align: right;\">       11</td><td style=\"text-align: right;\">       36</td><td style=\"text-align: right;\">  9.65845</td><td style=\"text-align: right;\">   37.1429 </td><td style=\"text-align: right;\">         0</td><td style=\"text-align: right;\">       256</td><td style=\"text-align: right;\">  96.5184 </td><td style=\"text-align: right;\">            5.57143</td><td style=\"text-align: right;\">                 1</td><td style=\"text-align: right;\">                24</td><td style=\"text-align: right;\">           8.18244</td><td style=\"text-align: right;\">            0.142857</td><td style=\"text-align: right;\">                  0</td><td style=\"text-align: right;\">                  1</td><td style=\"text-align: right;\">           0.377964</td><td style=\"text-align: right;\">            5.14286 </td><td style=\"text-align: right;\">                  1</td><td style=\"text-align: right;\">                 23</td><td style=\"text-align: right;\">           7.90419 </td><td style=\"text-align: right;\">             0.428571</td><td style=\"text-align: right;\">                   0</td><td style=\"text-align: right;\">                   2</td><td style=\"text-align: right;\">            0.786796</td><td style=\"text-align: right;\">               0       </td><td style=\"text-align: right;\">                     0</td><td style=\"text-align: right;\">                     0</td><td style=\"text-align: right;\">               0      </td><td style=\"text-align: right;\">                    0</td><td style=\"text-align: right;\">                   0</td><td style=\"text-align: right;\">                   0</td><td style=\"text-align: right;\">                   0</td><td style=\"text-align: right;\">                     0</td><td style=\"text-align: right;\">                    0</td><td style=\"text-align: right;\">                    0</td><td style=\"text-align: right;\">                    0</td><td style=\"text-align: right;\">           0.142857</td><td style=\"text-align: right;\">                 0</td><td style=\"text-align: right;\">                 1</td><td style=\"text-align: right;\">          0.377964</td><td style=\"text-align: right;\">                         0</td><td style=\"text-align: right;\">                        0</td><td style=\"text-align: right;\">                        0</td><td style=\"text-align: right;\">                        0</td><td style=\"text-align: right;\">           4.57143</td><td style=\"text-align: right;\">                2</td><td style=\"text-align: right;\">                9</td><td style=\"text-align: right;\">          2.87849</td><td style=\"text-align: right;\">            2.57143</td><td style=\"text-align: right;\">                 0</td><td style=\"text-align: right;\">                 6</td><td style=\"text-align: right;\">           2.37045</td><td style=\"text-align: right;\">            1.71429</td><td style=\"text-align: right;\">                 1</td><td style=\"text-align: right;\">                 3</td><td style=\"text-align: right;\">           0.95119</td><td style=\"text-align: right;\">             2.85714</td><td style=\"text-align: right;\">                  1</td><td style=\"text-align: right;\">                  6</td><td style=\"text-align: right;\">            2.1157 </td><td style=\"text-align: right;\">                     0</td><td style=\"text-align: right;\">                    0</td><td style=\"text-align: right;\">                    0</td><td style=\"text-align: right;\">                    0</td><td style=\"text-align: right;\">                   0</td><td style=\"text-align: right;\">                  0</td><td style=\"text-align: right;\">                  0</td><td style=\"text-align: right;\">                  0</td><td style=\"text-align: right;\">           1.57143</td><td style=\"text-align: right;\">                0</td><td style=\"text-align: right;\">                5</td><td style=\"text-align: right;\">          1.81265</td><td style=\"text-align: right;\">                        0</td><td style=\"text-align: right;\">                       0</td><td style=\"text-align: right;\">                       0</td><td style=\"text-align: right;\">                       0</td><td style=\"text-align: right;\">    6.85714</td><td style=\"text-align: right;\">         0</td><td style=\"text-align: right;\">        14</td><td style=\"text-align: right;\">   5.17779</td><td style=\"text-align: right;\">   98.7143</td><td style=\"text-align: right;\">       44</td><td style=\"text-align: right;\">      258</td><td style=\"text-align: right;\"> 77.0167 </td><td style=\"text-align: right;\">        0.142857</td><td style=\"text-align: right;\">              0</td><td style=\"text-align: right;\">              1</td><td style=\"text-align: right;\">       0.377964</td><td style=\"text-align: right;\">       2.42857</td><td style=\"text-align: right;\">            0</td><td style=\"text-align: right;\">            6</td><td style=\"text-align: right;\">      1.98806</td><td style=\"text-align: right;\">                    0</td><td style=\"text-align: right;\">                   0</td><td style=\"text-align: right;\">                   0</td><td style=\"text-align: right;\">             0      </td><td style=\"text-align: right;\">                 0</td><td style=\"text-align: right;\">                0</td><td style=\"text-align: right;\">                0</td><td style=\"text-align: right;\">           0     </td><td style=\"text-align: right;\">                   0.285714</td><td style=\"text-align: right;\">                         0</td><td style=\"text-align: right;\">                         2</td><td style=\"text-align: right;\">                  0.755929</td><td style=\"text-align: right;\">                 7.71429</td><td style=\"text-align: right;\">                      0</td><td style=\"text-align: right;\">                     33</td><td style=\"text-align: right;\">               11.4414 </td><td style=\"text-align: right;\">          8.85714</td><td style=\"text-align: right;\">               0</td><td style=\"text-align: right;\">              32</td><td style=\"text-align: right;\">         10.6682</td><td style=\"text-align: right;\">             17      </td><td style=\"text-align: right;\">                   6</td><td style=\"text-align: right;\">                  47</td><td style=\"text-align: right;\">            14.7309 </td><td style=\"text-align: right;\">                 6.28571</td><td style=\"text-align: right;\">                      0</td><td style=\"text-align: right;\">                     26</td><td style=\"text-align: right;\">                9.06852</td><td style=\"text-align: right;\">           14.7143 </td><td style=\"text-align: right;\">                 6</td><td style=\"text-align: right;\">                36</td><td style=\"text-align: right;\">          11.1163 </td><td style=\"text-align: right;\">              1       </td><td style=\"text-align: right;\">                    0</td><td style=\"text-align: right;\">                    2</td><td style=\"text-align: right;\">             0.57735 </td><td style=\"text-align: right;\">                  0.285714</td><td style=\"text-align: right;\">                        0</td><td style=\"text-align: right;\">                        2</td><td style=\"text-align: right;\">                 0.755929</td><td style=\"text-align: right;\">            0.428571</td><td style=\"text-align: right;\">                  0</td><td style=\"text-align: right;\">                  2</td><td style=\"text-align: right;\">           0.786796</td><td style=\"text-align: right;\">         0.142857</td><td style=\"text-align: right;\">               0</td><td style=\"text-align: right;\">               1</td><td style=\"text-align: right;\">        0.377964</td><td style=\"text-align: right;\">              78.4286</td><td style=\"text-align: right;\">                  39</td><td style=\"text-align: right;\">                 162</td><td style=\"text-align: right;\">             51.9803</td><td style=\"text-align: right;\">        7.85714 </td><td style=\"text-align: right;\">              1</td><td style=\"text-align: right;\">             17</td><td style=\"text-align: right;\">       8.55236 </td><td style=\"text-align: right;\">              46.8571</td><td style=\"text-align: right;\">                103     </td><td style=\"text-align: right;\">              7.24416</td></tr>\n",
       "<tr><td style=\"text-align: right;\">  33.6667 </td><td style=\"text-align: right;\">       28</td><td style=\"text-align: right;\">       45</td><td style=\"text-align: right;\">  9.81495</td><td style=\"text-align: right;\">  34      </td><td style=\"text-align: right;\">       16</td><td style=\"text-align: right;\">       43</td><td style=\"text-align: right;\"> 15.5885 </td><td style=\"text-align: right;\">   1.33333</td><td style=\"text-align: right;\">        1</td><td style=\"text-align: right;\">        2</td><td style=\"text-align: right;\">  0.57735</td><td style=\"text-align: right;\">   49.3333</td><td style=\"text-align: right;\">       24</td><td style=\"text-align: right;\">       62</td><td style=\"text-align: right;\"> 21.9393 </td><td style=\"text-align: right;\">    9.66667</td><td style=\"text-align: right;\">         3</td><td style=\"text-align: right;\">        23</td><td style=\"text-align: right;\">  11.547  </td><td style=\"text-align: right;\">           13.6667 </td><td style=\"text-align: right;\">                11</td><td style=\"text-align: right;\">                15</td><td style=\"text-align: right;\">           2.3094 </td><td style=\"text-align: right;\">            0       </td><td style=\"text-align: right;\">                  0</td><td style=\"text-align: right;\">                  0</td><td style=\"text-align: right;\">           0       </td><td style=\"text-align: right;\">            6.66667 </td><td style=\"text-align: right;\">                  5</td><td style=\"text-align: right;\">                 10</td><td style=\"text-align: right;\">           2.88675 </td><td style=\"text-align: right;\">             5.66667 </td><td style=\"text-align: right;\">                   1</td><td style=\"text-align: right;\">                   8</td><td style=\"text-align: right;\">            4.04145 </td><td style=\"text-align: right;\">               0.666667</td><td style=\"text-align: right;\">                     0</td><td style=\"text-align: right;\">                     1</td><td style=\"text-align: right;\">               0.57735</td><td style=\"text-align: right;\">                    0</td><td style=\"text-align: right;\">                   0</td><td style=\"text-align: right;\">                   0</td><td style=\"text-align: right;\">                   0</td><td style=\"text-align: right;\">                     0</td><td style=\"text-align: right;\">                    0</td><td style=\"text-align: right;\">                    0</td><td style=\"text-align: right;\">                    0</td><td style=\"text-align: right;\">           0       </td><td style=\"text-align: right;\">                 0</td><td style=\"text-align: right;\">                 0</td><td style=\"text-align: right;\">          0       </td><td style=\"text-align: right;\">                         0</td><td style=\"text-align: right;\">                        0</td><td style=\"text-align: right;\">                        0</td><td style=\"text-align: right;\">                        0</td><td style=\"text-align: right;\">          11.6667 </td><td style=\"text-align: right;\">                7</td><td style=\"text-align: right;\">               14</td><td style=\"text-align: right;\">          4.04145</td><td style=\"text-align: right;\">            4.66667</td><td style=\"text-align: right;\">                 2</td><td style=\"text-align: right;\">                 6</td><td style=\"text-align: right;\">           2.3094 </td><td style=\"text-align: right;\">            0      </td><td style=\"text-align: right;\">                 0</td><td style=\"text-align: right;\">                 0</td><td style=\"text-align: right;\">           0      </td><td style=\"text-align: right;\">            11.6667 </td><td style=\"text-align: right;\">                  7</td><td style=\"text-align: right;\">                 14</td><td style=\"text-align: right;\">            4.04145</td><td style=\"text-align: right;\">                     0</td><td style=\"text-align: right;\">                    0</td><td style=\"text-align: right;\">                    0</td><td style=\"text-align: right;\">                    0</td><td style=\"text-align: right;\">                   0</td><td style=\"text-align: right;\">                  0</td><td style=\"text-align: right;\">                  0</td><td style=\"text-align: right;\">                  0</td><td style=\"text-align: right;\">          10.3333 </td><td style=\"text-align: right;\">                7</td><td style=\"text-align: right;\">               12</td><td style=\"text-align: right;\">          2.88675</td><td style=\"text-align: right;\">                        0</td><td style=\"text-align: right;\">                       0</td><td style=\"text-align: right;\">                       0</td><td style=\"text-align: right;\">                       0</td><td style=\"text-align: right;\">   15.3333 </td><td style=\"text-align: right;\">        15</td><td style=\"text-align: right;\">        16</td><td style=\"text-align: right;\">   0.57735</td><td style=\"text-align: right;\">  369.667 </td><td style=\"text-align: right;\">      163</td><td style=\"text-align: right;\">      473</td><td style=\"text-align: right;\">178.979  </td><td style=\"text-align: right;\">        8       </td><td style=\"text-align: right;\">              8</td><td style=\"text-align: right;\">              8</td><td style=\"text-align: right;\">       0       </td><td style=\"text-align: right;\">       0      </td><td style=\"text-align: right;\">            0</td><td style=\"text-align: right;\">            0</td><td style=\"text-align: right;\">      0      </td><td style=\"text-align: right;\">                    6</td><td style=\"text-align: right;\">                   0</td><td style=\"text-align: right;\">                   9</td><td style=\"text-align: right;\">             5.19615</td><td style=\"text-align: right;\">                 5</td><td style=\"text-align: right;\">                1</td><td style=\"text-align: right;\">                7</td><td style=\"text-align: right;\">           3.4641</td><td style=\"text-align: right;\">                   0       </td><td style=\"text-align: right;\">                         0</td><td style=\"text-align: right;\">                         0</td><td style=\"text-align: right;\">                  0       </td><td style=\"text-align: right;\">                11      </td><td style=\"text-align: right;\">                      9</td><td style=\"text-align: right;\">                     12</td><td style=\"text-align: right;\">                1.73205</td><td style=\"text-align: right;\">          2.66667</td><td style=\"text-align: right;\">               0</td><td style=\"text-align: right;\">               4</td><td style=\"text-align: right;\">          2.3094</td><td style=\"text-align: right;\">             24      </td><td style=\"text-align: right;\">                  18</td><td style=\"text-align: right;\">                  27</td><td style=\"text-align: right;\">             5.19615</td><td style=\"text-align: right;\">                 2      </td><td style=\"text-align: right;\">                      0</td><td style=\"text-align: right;\">                      3</td><td style=\"text-align: right;\">                1.73205</td><td style=\"text-align: right;\">           22.6667 </td><td style=\"text-align: right;\">                16</td><td style=\"text-align: right;\">                26</td><td style=\"text-align: right;\">           5.7735 </td><td style=\"text-align: right;\">              2.66667 </td><td style=\"text-align: right;\">                    2</td><td style=\"text-align: right;\">                    3</td><td style=\"text-align: right;\">             0.57735 </td><td style=\"text-align: right;\">                  0       </td><td style=\"text-align: right;\">                        0</td><td style=\"text-align: right;\">                        0</td><td style=\"text-align: right;\">                 0       </td><td style=\"text-align: right;\">            0.666667</td><td style=\"text-align: right;\">                  0</td><td style=\"text-align: right;\">                  1</td><td style=\"text-align: right;\">           0.57735 </td><td style=\"text-align: right;\">         4       </td><td style=\"text-align: right;\">               4</td><td style=\"text-align: right;\">               4</td><td style=\"text-align: right;\">        0       </td><td style=\"text-align: right;\">             232.667 </td><td style=\"text-align: right;\">                 100</td><td style=\"text-align: right;\">                 299</td><td style=\"text-align: right;\">            114.893 </td><td style=\"text-align: right;\">        1       </td><td style=\"text-align: right;\">              1</td><td style=\"text-align: right;\">              1</td><td style=\"text-align: right;\">       0       </td><td style=\"text-align: right;\">              29.3333</td><td style=\"text-align: right;\">                476.667 </td><td style=\"text-align: right;\">            950.02   </td></tr>\n",
       "<tr><td style=\"text-align: right;\">   3      </td><td style=\"text-align: right;\">        3</td><td style=\"text-align: right;\">        3</td><td style=\"text-align: right;\">  0      </td><td style=\"text-align: right;\">   5      </td><td style=\"text-align: right;\">        5</td><td style=\"text-align: right;\">        5</td><td style=\"text-align: right;\">  0      </td><td style=\"text-align: right;\">   1      </td><td style=\"text-align: right;\">        1</td><td style=\"text-align: right;\">        1</td><td style=\"text-align: right;\">  0      </td><td style=\"text-align: right;\">    5     </td><td style=\"text-align: right;\">        5</td><td style=\"text-align: right;\">        5</td><td style=\"text-align: right;\">  0      </td><td style=\"text-align: right;\">    2      </td><td style=\"text-align: right;\">         2</td><td style=\"text-align: right;\">         2</td><td style=\"text-align: right;\">   0      </td><td style=\"text-align: right;\">            5      </td><td style=\"text-align: right;\">                 5</td><td style=\"text-align: right;\">                 5</td><td style=\"text-align: right;\">           0      </td><td style=\"text-align: right;\">            0       </td><td style=\"text-align: right;\">                  0</td><td style=\"text-align: right;\">                  0</td><td style=\"text-align: right;\">           0       </td><td style=\"text-align: right;\">            5       </td><td style=\"text-align: right;\">                  5</td><td style=\"text-align: right;\">                  5</td><td style=\"text-align: right;\">           0       </td><td style=\"text-align: right;\">             0       </td><td style=\"text-align: right;\">                   0</td><td style=\"text-align: right;\">                   0</td><td style=\"text-align: right;\">            0       </td><td style=\"text-align: right;\">               0       </td><td style=\"text-align: right;\">                     0</td><td style=\"text-align: right;\">                     0</td><td style=\"text-align: right;\">               0      </td><td style=\"text-align: right;\">                    0</td><td style=\"text-align: right;\">                   0</td><td style=\"text-align: right;\">                   0</td><td style=\"text-align: right;\">                   0</td><td style=\"text-align: right;\">                     0</td><td style=\"text-align: right;\">                    0</td><td style=\"text-align: right;\">                    0</td><td style=\"text-align: right;\">                    0</td><td style=\"text-align: right;\">           0       </td><td style=\"text-align: right;\">                 0</td><td style=\"text-align: right;\">                 0</td><td style=\"text-align: right;\">          0       </td><td style=\"text-align: right;\">                         0</td><td style=\"text-align: right;\">                        0</td><td style=\"text-align: right;\">                        0</td><td style=\"text-align: right;\">                        0</td><td style=\"text-align: right;\">           4      </td><td style=\"text-align: right;\">                4</td><td style=\"text-align: right;\">                4</td><td style=\"text-align: right;\">          0      </td><td style=\"text-align: right;\">            0      </td><td style=\"text-align: right;\">                 0</td><td style=\"text-align: right;\">                 0</td><td style=\"text-align: right;\">           0      </td><td style=\"text-align: right;\">            0      </td><td style=\"text-align: right;\">                 0</td><td style=\"text-align: right;\">                 0</td><td style=\"text-align: right;\">           0      </td><td style=\"text-align: right;\">             4      </td><td style=\"text-align: right;\">                  4</td><td style=\"text-align: right;\">                  4</td><td style=\"text-align: right;\">            0      </td><td style=\"text-align: right;\">                     0</td><td style=\"text-align: right;\">                    0</td><td style=\"text-align: right;\">                    0</td><td style=\"text-align: right;\">                    0</td><td style=\"text-align: right;\">                   0</td><td style=\"text-align: right;\">                  0</td><td style=\"text-align: right;\">                  0</td><td style=\"text-align: right;\">                  0</td><td style=\"text-align: right;\">           4      </td><td style=\"text-align: right;\">                4</td><td style=\"text-align: right;\">                4</td><td style=\"text-align: right;\">          0      </td><td style=\"text-align: right;\">                        0</td><td style=\"text-align: right;\">                       0</td><td style=\"text-align: right;\">                       0</td><td style=\"text-align: right;\">                       0</td><td style=\"text-align: right;\">    5      </td><td style=\"text-align: right;\">         5</td><td style=\"text-align: right;\">         5</td><td style=\"text-align: right;\">   0      </td><td style=\"text-align: right;\">   33     </td><td style=\"text-align: right;\">       33</td><td style=\"text-align: right;\">       33</td><td style=\"text-align: right;\">  0      </td><td style=\"text-align: right;\">        0       </td><td style=\"text-align: right;\">              0</td><td style=\"text-align: right;\">              0</td><td style=\"text-align: right;\">       0       </td><td style=\"text-align: right;\">       0      </td><td style=\"text-align: right;\">            0</td><td style=\"text-align: right;\">            0</td><td style=\"text-align: right;\">      0      </td><td style=\"text-align: right;\">                    0</td><td style=\"text-align: right;\">                   0</td><td style=\"text-align: right;\">                   0</td><td style=\"text-align: right;\">             0      </td><td style=\"text-align: right;\">                 0</td><td style=\"text-align: right;\">                0</td><td style=\"text-align: right;\">                0</td><td style=\"text-align: right;\">           0     </td><td style=\"text-align: right;\">                   0       </td><td style=\"text-align: right;\">                         0</td><td style=\"text-align: right;\">                         0</td><td style=\"text-align: right;\">                  0       </td><td style=\"text-align: right;\">                 0      </td><td style=\"text-align: right;\">                      0</td><td style=\"text-align: right;\">                      0</td><td style=\"text-align: right;\">                0      </td><td style=\"text-align: right;\">          0      </td><td style=\"text-align: right;\">               0</td><td style=\"text-align: right;\">               0</td><td style=\"text-align: right;\">          0     </td><td style=\"text-align: right;\">              4      </td><td style=\"text-align: right;\">                   4</td><td style=\"text-align: right;\">                   4</td><td style=\"text-align: right;\">             0      </td><td style=\"text-align: right;\">                 0      </td><td style=\"text-align: right;\">                      0</td><td style=\"text-align: right;\">                      0</td><td style=\"text-align: right;\">                0      </td><td style=\"text-align: right;\">            4      </td><td style=\"text-align: right;\">                 4</td><td style=\"text-align: right;\">                 4</td><td style=\"text-align: right;\">           0      </td><td style=\"text-align: right;\">              0       </td><td style=\"text-align: right;\">                    0</td><td style=\"text-align: right;\">                    0</td><td style=\"text-align: right;\">             0       </td><td style=\"text-align: right;\">                  0       </td><td style=\"text-align: right;\">                        0</td><td style=\"text-align: right;\">                        0</td><td style=\"text-align: right;\">                 0       </td><td style=\"text-align: right;\">            0       </td><td style=\"text-align: right;\">                  0</td><td style=\"text-align: right;\">                  0</td><td style=\"text-align: right;\">           0       </td><td style=\"text-align: right;\">         1       </td><td style=\"text-align: right;\">               1</td><td style=\"text-align: right;\">               1</td><td style=\"text-align: right;\">        0       </td><td style=\"text-align: right;\">              38     </td><td style=\"text-align: right;\">                  38</td><td style=\"text-align: right;\">                  38</td><td style=\"text-align: right;\">              0     </td><td style=\"text-align: right;\">       16       </td><td style=\"text-align: right;\">             16</td><td style=\"text-align: right;\">             16</td><td style=\"text-align: right;\">       0       </td><td style=\"text-align: right;\">              23     </td><td style=\"text-align: right;\">                 47     </td><td style=\"text-align: right;\">             91.0694 </td></tr>\n",
       "<tr><td style=\"text-align: right;\">   4.42857</td><td style=\"text-align: right;\">        2</td><td style=\"text-align: right;\">        9</td><td style=\"text-align: right;\">  2.50713</td><td style=\"text-align: right;\">   1.28571</td><td style=\"text-align: right;\">        0</td><td style=\"text-align: right;\">        3</td><td style=\"text-align: right;\">  1.38013</td><td style=\"text-align: right;\">   1.71429</td><td style=\"text-align: right;\">        1</td><td style=\"text-align: right;\">        2</td><td style=\"text-align: right;\">  0.48795</td><td style=\"text-align: right;\">    2     </td><td style=\"text-align: right;\">        0</td><td style=\"text-align: right;\">        5</td><td style=\"text-align: right;\">  2.23607</td><td style=\"text-align: right;\">    1      </td><td style=\"text-align: right;\">         0</td><td style=\"text-align: right;\">         3</td><td style=\"text-align: right;\">   1.41421</td><td style=\"text-align: right;\">            1.28571</td><td style=\"text-align: right;\">                 0</td><td style=\"text-align: right;\">                 3</td><td style=\"text-align: right;\">           1.38013</td><td style=\"text-align: right;\">            0       </td><td style=\"text-align: right;\">                  0</td><td style=\"text-align: right;\">                  0</td><td style=\"text-align: right;\">           0       </td><td style=\"text-align: right;\">            0.857143</td><td style=\"text-align: right;\">                  0</td><td style=\"text-align: right;\">                  3</td><td style=\"text-align: right;\">           1.21499 </td><td style=\"text-align: right;\">             0       </td><td style=\"text-align: right;\">                   0</td><td style=\"text-align: right;\">                   0</td><td style=\"text-align: right;\">            0       </td><td style=\"text-align: right;\">               0       </td><td style=\"text-align: right;\">                     0</td><td style=\"text-align: right;\">                     0</td><td style=\"text-align: right;\">               0      </td><td style=\"text-align: right;\">                    0</td><td style=\"text-align: right;\">                   0</td><td style=\"text-align: right;\">                   0</td><td style=\"text-align: right;\">                   0</td><td style=\"text-align: right;\">                     0</td><td style=\"text-align: right;\">                    0</td><td style=\"text-align: right;\">                    0</td><td style=\"text-align: right;\">                    0</td><td style=\"text-align: right;\">           0       </td><td style=\"text-align: right;\">                 0</td><td style=\"text-align: right;\">                 0</td><td style=\"text-align: right;\">          0       </td><td style=\"text-align: right;\">                         0</td><td style=\"text-align: right;\">                        0</td><td style=\"text-align: right;\">                        0</td><td style=\"text-align: right;\">                        0</td><td style=\"text-align: right;\">           0      </td><td style=\"text-align: right;\">                0</td><td style=\"text-align: right;\">                0</td><td style=\"text-align: right;\">          0      </td><td style=\"text-align: right;\">            0      </td><td style=\"text-align: right;\">                 0</td><td style=\"text-align: right;\">                 0</td><td style=\"text-align: right;\">           0      </td><td style=\"text-align: right;\">            0      </td><td style=\"text-align: right;\">                 0</td><td style=\"text-align: right;\">                 0</td><td style=\"text-align: right;\">           0      </td><td style=\"text-align: right;\">             0      </td><td style=\"text-align: right;\">                  0</td><td style=\"text-align: right;\">                  0</td><td style=\"text-align: right;\">            0      </td><td style=\"text-align: right;\">                     0</td><td style=\"text-align: right;\">                    0</td><td style=\"text-align: right;\">                    0</td><td style=\"text-align: right;\">                    0</td><td style=\"text-align: right;\">                   0</td><td style=\"text-align: right;\">                  0</td><td style=\"text-align: right;\">                  0</td><td style=\"text-align: right;\">                  0</td><td style=\"text-align: right;\">           0      </td><td style=\"text-align: right;\">                0</td><td style=\"text-align: right;\">                0</td><td style=\"text-align: right;\">          0      </td><td style=\"text-align: right;\">                        0</td><td style=\"text-align: right;\">                       0</td><td style=\"text-align: right;\">                       0</td><td style=\"text-align: right;\">                       0</td><td style=\"text-align: right;\">    2.42857</td><td style=\"text-align: right;\">         0</td><td style=\"text-align: right;\">         9</td><td style=\"text-align: right;\">   3.30944</td><td style=\"text-align: right;\">   13.2857</td><td style=\"text-align: right;\">        4</td><td style=\"text-align: right;\">       28</td><td style=\"text-align: right;\">  9.72478</td><td style=\"text-align: right;\">        0.142857</td><td style=\"text-align: right;\">              0</td><td style=\"text-align: right;\">              1</td><td style=\"text-align: right;\">       0.377964</td><td style=\"text-align: right;\">       0      </td><td style=\"text-align: right;\">            0</td><td style=\"text-align: right;\">            0</td><td style=\"text-align: right;\">      0      </td><td style=\"text-align: right;\">                    0</td><td style=\"text-align: right;\">                   0</td><td style=\"text-align: right;\">                   0</td><td style=\"text-align: right;\">             0      </td><td style=\"text-align: right;\">                 0</td><td style=\"text-align: right;\">                0</td><td style=\"text-align: right;\">                0</td><td style=\"text-align: right;\">           0     </td><td style=\"text-align: right;\">                   0       </td><td style=\"text-align: right;\">                         0</td><td style=\"text-align: right;\">                         0</td><td style=\"text-align: right;\">                  0       </td><td style=\"text-align: right;\">                 2      </td><td style=\"text-align: right;\">                      0</td><td style=\"text-align: right;\">                      7</td><td style=\"text-align: right;\">                2.76887</td><td style=\"text-align: right;\">          0      </td><td style=\"text-align: right;\">               0</td><td style=\"text-align: right;\">               0</td><td style=\"text-align: right;\">          0     </td><td style=\"text-align: right;\">              1.57143</td><td style=\"text-align: right;\">                   0</td><td style=\"text-align: right;\">                   6</td><td style=\"text-align: right;\">             2.29907</td><td style=\"text-align: right;\">                 0      </td><td style=\"text-align: right;\">                      0</td><td style=\"text-align: right;\">                      0</td><td style=\"text-align: right;\">                0      </td><td style=\"text-align: right;\">            1.57143</td><td style=\"text-align: right;\">                 0</td><td style=\"text-align: right;\">                 6</td><td style=\"text-align: right;\">           2.29907</td><td style=\"text-align: right;\">             -0.428571</td><td style=\"text-align: right;\">                   -1</td><td style=\"text-align: right;\">                    0</td><td style=\"text-align: right;\">             0.534522</td><td style=\"text-align: right;\">                  0       </td><td style=\"text-align: right;\">                        0</td><td style=\"text-align: right;\">                        0</td><td style=\"text-align: right;\">                 0       </td><td style=\"text-align: right;\">            0       </td><td style=\"text-align: right;\">                  0</td><td style=\"text-align: right;\">                  0</td><td style=\"text-align: right;\">           0       </td><td style=\"text-align: right;\">         0.428571</td><td style=\"text-align: right;\">               0</td><td style=\"text-align: right;\">               3</td><td style=\"text-align: right;\">        1.13389 </td><td style=\"text-align: right;\">              26.1429</td><td style=\"text-align: right;\">                  14</td><td style=\"text-align: right;\">                  46</td><td style=\"text-align: right;\">             10.1559</td><td style=\"text-align: right;\">        0.857143</td><td style=\"text-align: right;\">              0</td><td style=\"text-align: right;\">              1</td><td style=\"text-align: right;\">       0.377964</td><td style=\"text-align: right;\">              24.5714</td><td style=\"text-align: right;\">                 23.2857</td><td style=\"text-align: right;\">             17.0755 </td></tr>\n",
       "<tr><td style=\"text-align: right;\">  20      </td><td style=\"text-align: right;\">       16</td><td style=\"text-align: right;\">       24</td><td style=\"text-align: right;\">  5.65685</td><td style=\"text-align: right;\">  18      </td><td style=\"text-align: right;\">       17</td><td style=\"text-align: right;\">       19</td><td style=\"text-align: right;\">  1.41421</td><td style=\"text-align: right;\">   3      </td><td style=\"text-align: right;\">        3</td><td style=\"text-align: right;\">        3</td><td style=\"text-align: right;\">  0      </td><td style=\"text-align: right;\">   38     </td><td style=\"text-align: right;\">       36</td><td style=\"text-align: right;\">       40</td><td style=\"text-align: right;\">  2.82843</td><td style=\"text-align: right;\">  153.5    </td><td style=\"text-align: right;\">       136</td><td style=\"text-align: right;\">       171</td><td style=\"text-align: right;\">  24.7487 </td><td style=\"text-align: right;\">           18      </td><td style=\"text-align: right;\">                17</td><td style=\"text-align: right;\">                19</td><td style=\"text-align: right;\">           1.41421</td><td style=\"text-align: right;\">            6       </td><td style=\"text-align: right;\">                  5</td><td style=\"text-align: right;\">                  7</td><td style=\"text-align: right;\">           1.41421 </td><td style=\"text-align: right;\">           11.5     </td><td style=\"text-align: right;\">                 11</td><td style=\"text-align: right;\">                 12</td><td style=\"text-align: right;\">           0.707107</td><td style=\"text-align: right;\">             5.5     </td><td style=\"text-align: right;\">                   4</td><td style=\"text-align: right;\">                   7</td><td style=\"text-align: right;\">            2.12132 </td><td style=\"text-align: right;\">               0       </td><td style=\"text-align: right;\">                     0</td><td style=\"text-align: right;\">                     0</td><td style=\"text-align: right;\">               0      </td><td style=\"text-align: right;\">                    0</td><td style=\"text-align: right;\">                   0</td><td style=\"text-align: right;\">                   0</td><td style=\"text-align: right;\">                   0</td><td style=\"text-align: right;\">                     0</td><td style=\"text-align: right;\">                    0</td><td style=\"text-align: right;\">                    0</td><td style=\"text-align: right;\">                    0</td><td style=\"text-align: right;\">           0       </td><td style=\"text-align: right;\">                 0</td><td style=\"text-align: right;\">                 0</td><td style=\"text-align: right;\">          0       </td><td style=\"text-align: right;\">                         0</td><td style=\"text-align: right;\">                        0</td><td style=\"text-align: right;\">                        0</td><td style=\"text-align: right;\">                        0</td><td style=\"text-align: right;\">           0      </td><td style=\"text-align: right;\">                0</td><td style=\"text-align: right;\">                0</td><td style=\"text-align: right;\">          0      </td><td style=\"text-align: right;\">            0      </td><td style=\"text-align: right;\">                 0</td><td style=\"text-align: right;\">                 0</td><td style=\"text-align: right;\">           0      </td><td style=\"text-align: right;\">            0      </td><td style=\"text-align: right;\">                 0</td><td style=\"text-align: right;\">                 0</td><td style=\"text-align: right;\">           0      </td><td style=\"text-align: right;\">             0      </td><td style=\"text-align: right;\">                  0</td><td style=\"text-align: right;\">                  0</td><td style=\"text-align: right;\">            0      </td><td style=\"text-align: right;\">                     0</td><td style=\"text-align: right;\">                    0</td><td style=\"text-align: right;\">                    0</td><td style=\"text-align: right;\">                    0</td><td style=\"text-align: right;\">                   0</td><td style=\"text-align: right;\">                  0</td><td style=\"text-align: right;\">                  0</td><td style=\"text-align: right;\">                  0</td><td style=\"text-align: right;\">           0      </td><td style=\"text-align: right;\">                0</td><td style=\"text-align: right;\">                0</td><td style=\"text-align: right;\">          0      </td><td style=\"text-align: right;\">                        0</td><td style=\"text-align: right;\">                       0</td><td style=\"text-align: right;\">                       0</td><td style=\"text-align: right;\">                       0</td><td style=\"text-align: right;\">   47      </td><td style=\"text-align: right;\">        35</td><td style=\"text-align: right;\">        59</td><td style=\"text-align: right;\">  16.9706 </td><td style=\"text-align: right;\">  315     </td><td style=\"text-align: right;\">      240</td><td style=\"text-align: right;\">      390</td><td style=\"text-align: right;\">106.066  </td><td style=\"text-align: right;\">        6       </td><td style=\"text-align: right;\">              5</td><td style=\"text-align: right;\">              7</td><td style=\"text-align: right;\">       1.41421 </td><td style=\"text-align: right;\">       0      </td><td style=\"text-align: right;\">            0</td><td style=\"text-align: right;\">            0</td><td style=\"text-align: right;\">      0      </td><td style=\"text-align: right;\">                    0</td><td style=\"text-align: right;\">                   0</td><td style=\"text-align: right;\">                   0</td><td style=\"text-align: right;\">             0      </td><td style=\"text-align: right;\">                 0</td><td style=\"text-align: right;\">                0</td><td style=\"text-align: right;\">                0</td><td style=\"text-align: right;\">           0     </td><td style=\"text-align: right;\">                   1       </td><td style=\"text-align: right;\">                         0</td><td style=\"text-align: right;\">                         2</td><td style=\"text-align: right;\">                  1.41421 </td><td style=\"text-align: right;\">               105.5    </td><td style=\"text-align: right;\">                     62</td><td style=\"text-align: right;\">                    149</td><td style=\"text-align: right;\">               61.5183 </td><td style=\"text-align: right;\">         47.5    </td><td style=\"text-align: right;\">               9</td><td style=\"text-align: right;\">              86</td><td style=\"text-align: right;\">         54.4472</td><td style=\"text-align: right;\">            146.5    </td><td style=\"text-align: right;\">                  82</td><td style=\"text-align: right;\">                 211</td><td style=\"text-align: right;\">            91.2168 </td><td style=\"text-align: right;\">                 0      </td><td style=\"text-align: right;\">                      0</td><td style=\"text-align: right;\">                      0</td><td style=\"text-align: right;\">                0      </td><td style=\"text-align: right;\">           48      </td><td style=\"text-align: right;\">                32</td><td style=\"text-align: right;\">                64</td><td style=\"text-align: right;\">          22.6274 </td><td style=\"text-align: right;\">              0       </td><td style=\"text-align: right;\">                    0</td><td style=\"text-align: right;\">                    0</td><td style=\"text-align: right;\">             0       </td><td style=\"text-align: right;\">                  0       </td><td style=\"text-align: right;\">                        0</td><td style=\"text-align: right;\">                        0</td><td style=\"text-align: right;\">                 0       </td><td style=\"text-align: right;\">            0       </td><td style=\"text-align: right;\">                  0</td><td style=\"text-align: right;\">                  0</td><td style=\"text-align: right;\">           0       </td><td style=\"text-align: right;\">         0       </td><td style=\"text-align: right;\">               0</td><td style=\"text-align: right;\">               0</td><td style=\"text-align: right;\">        0       </td><td style=\"text-align: right;\">             114.5   </td><td style=\"text-align: right;\">                  97</td><td style=\"text-align: right;\">                 132</td><td style=\"text-align: right;\">             24.7487</td><td style=\"text-align: right;\">        1       </td><td style=\"text-align: right;\">              1</td><td style=\"text-align: right;\">              1</td><td style=\"text-align: right;\">       0       </td><td style=\"text-align: right;\">               9.5   </td><td style=\"text-align: right;\">                272.5   </td><td style=\"text-align: right;\">            270.621  </td></tr>\n",
       "</tbody>\n",
       "</table>"
      ]
     },
     "metadata": {},
     "output_type": "display_data"
    },
    {
     "data": {
      "text/plain": []
     },
     "execution_count": 52,
     "metadata": {},
     "output_type": "execute_result"
    }
   ],
   "source": [
    "train"
   ]
  },
  {
   "cell_type": "code",
   "execution_count": 53,
   "metadata": {},
   "outputs": [
    {
     "data": {
      "text/plain": [
       "{'whiskers': [<matplotlib.lines.Line2D at 0x25b17856400>,\n",
       "  <matplotlib.lines.Line2D at 0x25b178567b8>],\n",
       " 'caps': [<matplotlib.lines.Line2D at 0x25b17856b38>,\n",
       "  <matplotlib.lines.Line2D at 0x25b17856eb8>],\n",
       " 'boxes': [<matplotlib.lines.Line2D at 0x25b178562b0>],\n",
       " 'medians': [<matplotlib.lines.Line2D at 0x25b1785c278>],\n",
       " 'fliers': [<matplotlib.lines.Line2D at 0x25b1785c5f8>],\n",
       " 'means': []}"
      ]
     },
     "execution_count": 53,
     "metadata": {},
     "output_type": "execute_result"
    },
    {
     "data": {
      "image/png": "[encoded data removed]",
      "text/plain": [
       "<Figure size 432x288 with 1 Axes>"
      ]
     },
     "metadata": {
      "needs_background": "light"
     },
     "output_type": "display_data"
    }
   ],
   "source": [
    "pd_train = train.as_data_frame()\n",
    "plt.boxplot(pd_train['cocomoII_time_taken'])"
   ]
  },
  {
   "cell_type": "code",
   "execution_count": 174,
   "metadata": {},
   "outputs": [
    {
     "data": {
      "text/plain": [
       "10.584362139917696"
      ]
     },
     "execution_count": 174,
     "metadata": {},
     "output_type": "execute_result"
    }
   ],
   "source": [
    "main_df['actual_num_of_classes_touched_max'].mean()"
   ]
  },
  {
   "cell_type": "code",
   "execution_count": 175,
   "metadata": {},
   "outputs": [
    {
     "data": {
      "text/plain": [
       "243"
      ]
     },
     "execution_count": 175,
     "metadata": {},
     "output_type": "execute_result"
    }
   ],
   "source": [
    "len(main_df['actual_num_of_classes_touched_max'])"
   ]
  },
  {
   "cell_type": "code",
   "execution_count": 176,
   "metadata": {},
   "outputs": [
    {
     "data": {
      "text/plain": [
       "243"
      ]
     },
     "execution_count": 176,
     "metadata": {},
     "output_type": "execute_result"
    }
   ],
   "source": [
    "len(main_df[main_df['actual_num_of_classes_touched_max'] < 1000])"
   ]
  },
  {
   "cell_type": "code",
   "execution_count": 177,
   "metadata": {},
   "outputs": [
    {
     "data": {
      "text/plain": [
       "241"
      ]
     },
     "execution_count": 177,
     "metadata": {},
     "output_type": "execute_result"
    }
   ],
   "source": [
    "len(main_df[main_df['actual_num_of_classes_touched_max'] < 100])"
   ]
  },
  {
   "cell_type": "code",
   "execution_count": 178,
   "metadata": {},
   "outputs": [
    {
     "data": {
      "text/plain": [
       "234"
      ]
     },
     "execution_count": 178,
     "metadata": {},
     "output_type": "execute_result"
    }
   ],
   "source": [
    "len(main_df[main_df['actual_num_of_classes_touched_max'] < 50])"
   ]
  },
  {
   "cell_type": "code",
   "execution_count": 179,
   "metadata": {},
   "outputs": [
    {
     "data": {
      "text/plain": [
       "206"
      ]
     },
     "execution_count": 179,
     "metadata": {},
     "output_type": "execute_result"
    }
   ],
   "source": [
    "len(main_df[main_df['actual_num_of_classes_touched_max'] < 20])"
   ]
  },
  {
   "cell_type": "code",
   "execution_count": 180,
   "metadata": {},
   "outputs": [
    {
     "data": {
      "text/plain": [
       "166"
      ]
     },
     "execution_count": 180,
     "metadata": {},
     "output_type": "execute_result"
    }
   ],
   "source": [
    "len(main_df[main_df['actual_num_of_classes_touched_max'] < 10])"
   ]
  },
  {
   "cell_type": "code",
   "execution_count": 181,
   "metadata": {},
   "outputs": [
    {
     "data": {
      "text/plain": [
       "{'whiskers': [<matplotlib.lines.Line2D at 0x23523831780>,\n",
       "  <matplotlib.lines.Line2D at 0x23523831b38>],\n",
       " 'caps': [<matplotlib.lines.Line2D at 0x23523831eb8>,\n",
       "  <matplotlib.lines.Line2D at 0x2352383c278>],\n",
       " 'boxes': [<matplotlib.lines.Line2D at 0x23523831630>],\n",
       " 'medians': [<matplotlib.lines.Line2D at 0x2352383c5f8>],\n",
       " 'fliers': [<matplotlib.lines.Line2D at 0x2352383c978>],\n",
       " 'means': []}"
      ]
     },
     "execution_count": 181,
     "metadata": {},
     "output_type": "execute_result"
    },
    {
     "data": {
      "image/png": "[encoded data removed]",
      "text/plain": [
       "<Figure size 432x288 with 1 Axes>"
      ]
     },
     "metadata": {
      "needs_background": "light"
     },
     "output_type": "display_data"
    }
   ],
   "source": [
    "plt.boxplot(main_df['actual_num_of_classes_touched_max'])"
   ]
  },
  {
   "cell_type": "code",
   "execution_count": 182,
   "metadata": {},
   "outputs": [],
   "source": [
    "main_df_num_of_classes_without_outliers = main_df[main_df['actual_num_of_classes_touched_max'] < 1000]"
   ]
  },
  {
   "cell_type": "code",
   "execution_count": 183,
   "metadata": {},
   "outputs": [
    {
     "data": {
      "text/plain": [
       "{'whiskers': [<matplotlib.lines.Line2D at 0x23523889550>,\n",
       "  <matplotlib.lines.Line2D at 0x23523889908>],\n",
       " 'caps': [<matplotlib.lines.Line2D at 0x23523889c88>,\n",
       "  <matplotlib.lines.Line2D at 0x23523894048>],\n",
       " 'boxes': [<matplotlib.lines.Line2D at 0x23523889400>],\n",
       " 'medians': [<matplotlib.lines.Line2D at 0x235238943c8>],\n",
       " 'fliers': [<matplotlib.lines.Line2D at 0x23523894748>],\n",
       " 'means': []}"
      ]
     },
     "execution_count": 183,
     "metadata": {},
     "output_type": "execute_result"
    },
    {
     "data": {
      "image/png": "[encoded data removed]",
      "text/plain": [
       "<Figure size 432x288 with 1 Axes>"
      ]
     },
     "metadata": {
      "needs_background": "light"
     },
     "output_type": "display_data"
    }
   ],
   "source": [
    "plt.boxplot(main_df_num_of_classes_without_outliers['actual_num_of_classes_touched_max'])"
   ]
  },
  {
   "cell_type": "code",
   "execution_count": 184,
   "metadata": {},
   "outputs": [
    {
     "data": {
      "text/plain": [
       "{'whiskers': [<matplotlib.lines.Line2D at 0x235238e5780>,\n",
       "  <matplotlib.lines.Line2D at 0x235238e5b38>],\n",
       " 'caps': [<matplotlib.lines.Line2D at 0x235238e5eb8>,\n",
       "  <matplotlib.lines.Line2D at 0x235238e5f98>],\n",
       " 'boxes': [<matplotlib.lines.Line2D at 0x235238e5630>],\n",
       " 'medians': [<matplotlib.lines.Line2D at 0x235238f1588>],\n",
       " 'fliers': [<matplotlib.lines.Line2D at 0x235238f18d0>],\n",
       " 'means': []}"
      ]
     },
     "execution_count": 184,
     "metadata": {},
     "output_type": "execute_result"
    },
    {
     "data": {
      "image/png": "[encoded data removed]",
      "text/plain": [
       "<Figure size 432x288 with 1 Axes>"
      ]
     },
     "metadata": {
      "needs_background": "light"
     },
     "output_type": "display_data"
    }
   ],
   "source": [
    "main_df_num_of_classes_without_outliers = main_df[main_df['actual_num_of_classes_touched_max'] < 100]\n",
    "plt.boxplot(main_df_num_of_classes_without_outliers['actual_num_of_classes_touched_max'])"
   ]
  },
  {
   "cell_type": "code",
   "execution_count": 185,
   "metadata": {},
   "outputs": [],
   "source": [
    "pd_test = test.as_data_frame()\n",
    "pd_preds['actual_time_taken'] = pd_test['refactoring_perc_time_taken']"
   ]
  },
  {
   "cell_type": "code",
   "execution_count": 186,
   "metadata": {
    "scrolled": true
   },
   "outputs": [
    {
     "data": {
      "text/html": [
       "<div>\n",
       "<style scoped>\n",
       "    .dataframe tbody tr th:only-of-type {\n",
       "        vertical-align: middle;\n",
       "    }\n",
       "\n",
       "    .dataframe tbody tr th {\n",
       "        vertical-align: top;\n",
       "    }\n",
       "\n",
       "    .dataframe thead th {\n",
       "        text-align: right;\n",
       "    }\n",
       "</style>\n",
       "<table border=\"1\" class=\"dataframe\">\n",
       "  <thead>\n",
       "    <tr style=\"text-align: right;\">\n",
       "      <th></th>\n",
       "      <th>predict</th>\n",
       "      <th>actual_time_taken</th>\n",
       "    </tr>\n",
       "  </thead>\n",
       "  <tbody>\n",
       "    <tr>\n",
       "      <th>0</th>\n",
       "      <td>7.633855</td>\n",
       "      <td>15.000000</td>\n",
       "    </tr>\n",
       "    <tr>\n",
       "      <th>1</th>\n",
       "      <td>9.313968</td>\n",
       "      <td>10.000000</td>\n",
       "    </tr>\n",
       "    <tr>\n",
       "      <th>2</th>\n",
       "      <td>7.595525</td>\n",
       "      <td>5.340909</td>\n",
       "    </tr>\n",
       "    <tr>\n",
       "      <th>3</th>\n",
       "      <td>8.650755</td>\n",
       "      <td>5.478927</td>\n",
       "    </tr>\n",
       "    <tr>\n",
       "      <th>4</th>\n",
       "      <td>7.315348</td>\n",
       "      <td>11.273423</td>\n",
       "    </tr>\n",
       "    <tr>\n",
       "      <th>...</th>\n",
       "      <td>...</td>\n",
       "      <td>...</td>\n",
       "    </tr>\n",
       "    <tr>\n",
       "      <th>66</th>\n",
       "      <td>4.439499</td>\n",
       "      <td>17.814433</td>\n",
       "    </tr>\n",
       "    <tr>\n",
       "      <th>67</th>\n",
       "      <td>7.224448</td>\n",
       "      <td>6.947368</td>\n",
       "    </tr>\n",
       "    <tr>\n",
       "      <th>68</th>\n",
       "      <td>7.186694</td>\n",
       "      <td>2.579845</td>\n",
       "    </tr>\n",
       "    <tr>\n",
       "      <th>69</th>\n",
       "      <td>6.419956</td>\n",
       "      <td>18.750000</td>\n",
       "    </tr>\n",
       "    <tr>\n",
       "      <th>70</th>\n",
       "      <td>7.244031</td>\n",
       "      <td>17.405607</td>\n",
       "    </tr>\n",
       "  </tbody>\n",
       "</table>\n",
       "<p>71 rows × 2 columns</p>\n",
       "</div>"
      ],
      "text/plain": [
       "     predict  actual_time_taken\n",
       "0   7.633855          15.000000\n",
       "1   9.313968          10.000000\n",
       "2   7.595525           5.340909\n",
       "3   8.650755           5.478927\n",
       "4   7.315348          11.273423\n",
       "..       ...                ...\n",
       "66  4.439499          17.814433\n",
       "67  7.224448           6.947368\n",
       "68  7.186694           2.579845\n",
       "69  6.419956          18.750000\n",
       "70  7.244031          17.405607\n",
       "\n",
       "[71 rows x 2 columns]"
      ]
     },
     "execution_count": 186,
     "metadata": {},
     "output_type": "execute_result"
    }
   ],
   "source": [
    "pd_preds"
   ]
  },
  {
   "cell_type": "code",
   "execution_count": 187,
   "metadata": {},
   "outputs": [
    {
     "data": {
      "text/plain": [
       "{'whiskers': [<matplotlib.lines.Line2D at 0x2352394d358>,\n",
       "  <matplotlib.lines.Line2D at 0x2352394d710>],\n",
       " 'caps': [<matplotlib.lines.Line2D at 0x2352394da90>,\n",
       "  <matplotlib.lines.Line2D at 0x2352394de10>],\n",
       " 'boxes': [<matplotlib.lines.Line2D at 0x2352394d240>],\n",
       " 'medians': [<matplotlib.lines.Line2D at 0x235239581d0>],\n",
       " 'fliers': [<matplotlib.lines.Line2D at 0x23523958550>],\n",
       " 'means': []}"
      ]
     },
     "execution_count": 187,
     "metadata": {},
     "output_type": "execute_result"
    },
    {
     "data": {
      "image/png": "[encoded data removed]",
      "text/plain": [
       "<Figure size 432x288 with 1 Axes>"
      ]
     },
     "metadata": {
      "needs_background": "light"
     },
     "output_type": "display_data"
    }
   ],
   "source": [
    "plt.boxplot(pd_preds['predict'])"
   ]
  },
  {
   "cell_type": "code",
   "execution_count": 188,
   "metadata": {},
   "outputs": [
    {
     "data": {
      "text/plain": [
       "{'whiskers': [<matplotlib.lines.Line2D at 0x235239b15c0>,\n",
       "  <matplotlib.lines.Line2D at 0x235239b1978>],\n",
       " 'caps': [<matplotlib.lines.Line2D at 0x235239b1cf8>,\n",
       "  <matplotlib.lines.Line2D at 0x235239be0b8>],\n",
       " 'boxes': [<matplotlib.lines.Line2D at 0x235239b14a8>],\n",
       " 'medians': [<matplotlib.lines.Line2D at 0x235239be438>],\n",
       " 'fliers': [<matplotlib.lines.Line2D at 0x235239be7b8>],\n",
       " 'means': []}"
      ]
     },
     "execution_count": 188,
     "metadata": {},
     "output_type": "execute_result"
    },
    {
     "data": {
      "image/png": "[encoded data removed]",
      "text/plain": [
       "<Figure size 432x288 with 1 Axes>"
      ]
     },
     "metadata": {
      "needs_background": "light"
     },
     "output_type": "display_data"
    }
   ],
   "source": [
    "plt.boxplot(pd_preds['actual_time_taken'])"
   ]
  },
  {
   "cell_type": "code",
   "execution_count": 189,
   "metadata": {},
   "outputs": [
    {
     "data": {
      "image/png": "[encoded data removed]",
      "text/plain": [
       "<Figure size 432x288 with 1 Axes>"
      ]
     },
     "metadata": {
      "needs_background": "light"
     },
     "output_type": "display_data"
    }
   ],
   "source": [
    "plotGraph(pd_preds['predict'], pd_preds['actual_time_taken'],' test')"
   ]
  },
  {
   "cell_type": "code",
   "execution_count": 190,
   "metadata": {},
   "outputs": [],
   "source": [
    "# save the model\n",
    "model_path = h2o.save_model(model=model, path=\"models/EffortEstimationModelv2\", force=True)"
   ]
  },
  {
   "cell_type": "markdown",
   "metadata": {},
   "source": [
    "Documentation at the following\n",
    "\n",
    "https://docs.h2o.ai/h2o/latest-stable/h2o-py/docs/_modules/h2o/explanation/_explain.html"
   ]
  },
  {
   "cell_type": "code",
   "execution_count": 191,
   "metadata": {
    "scrolled": false
   },
   "outputs": [
    {
     "data": {
      "text/html": [
       "<h1>Variable Importance</h1>"
      ],
      "text/markdown": [
       "\n",
       "\n",
       "# Variable Importance"
      ],
      "text/plain": [
       "\n",
       "\n",
       "# Variable Importance"
      ]
     },
     "metadata": {},
     "output_type": "display_data"
    },
    {
     "data": {
      "text/html": [
       "<blockquote>The variable importance plot shows the relative importance of the most important variables in the model.</blockquote>"
      ],
      "text/markdown": [
       "\n",
       "> The variable importance plot shows the relative importance of the most important variables in the model."
      ],
      "text/plain": [
       "\n",
       "> The variable importance plot shows the relative importance of the most important variables in the model."
      ]
     },
     "metadata": {},
     "output_type": "display_data"
    },
    {
     "data": {
      "image/png": "[encoded data removed]",
      "text/plain": [
       "<Figure size 1152x648 with 1 Axes>"
      ]
     },
     "metadata": {
      "needs_background": "light"
     },
     "output_type": "display_data"
    },
    {
     "name": "stdout",
     "output_type": "stream",
     "text": [
      "\n",
      "\n"
     ]
    },
    {
     "data": {
      "text/html": [
       "<h1>SHAP Summary</h1>"
      ],
      "text/markdown": [
       "\n",
       "\n",
       "# SHAP Summary"
      ],
      "text/plain": [
       "\n",
       "\n",
       "# SHAP Summary"
      ]
     },
     "metadata": {},
     "output_type": "display_data"
    },
    {
     "data": {
      "text/html": [
       "<blockquote>SHAP summary plot shows the contribution of the features for each instance (row of data). The sum of the feature contributions and the bias term is equal to the raw prediction of the model, i.e., prediction before applying inverse link function.</blockquote>"
      ],
      "text/markdown": [
       "\n",
       "> SHAP summary plot shows the contribution of the features for each instance (row of data). The sum of the feature contributions and the bias term is equal to the raw prediction of the model, i.e., prediction before applying inverse link function."
      ],
      "text/plain": [
       "\n",
       "> SHAP summary plot shows the contribution of the features for each instance (row of data). The sum of the feature contributions and the bias term is equal to the raw prediction of the model, i.e., prediction before applying inverse link function."
      ]
     },
     "metadata": {},
     "output_type": "display_data"
    },
    {
     "data": {
      "image/png": "[encoded data removed]",
      "text/plain": [
       "<Figure size 1152x648 with 2 Axes>"
      ]
     },
     "metadata": {
      "needs_background": "light"
     },
     "output_type": "display_data"
    },
    {
     "name": "stdout",
     "output_type": "stream",
     "text": [
      "\n",
      "\n"
     ]
    },
    {
     "data": {
      "text/html": [
       "<h1>Variable Importance</h1>"
      ],
      "text/markdown": [
       "\n",
       "\n",
       "# Variable Importance"
      ],
      "text/plain": [
       "\n",
       "\n",
       "# Variable Importance"
      ]
     },
     "metadata": {},
     "output_type": "display_data"
    },
    {
     "data": {
      "text/html": [
       "<blockquote>The variable importance plot shows the relative importance of the most important variables in the model.</blockquote>"
      ],
      "text/markdown": [
       "\n",
       "> The variable importance plot shows the relative importance of the most important variables in the model."
      ],
      "text/plain": [
       "\n",
       "> The variable importance plot shows the relative importance of the most important variables in the model."
      ]
     },
     "metadata": {},
     "output_type": "display_data"
    },
    {
     "data": {
      "image/png": "[encoded data removed]",
      "text/plain": [
       "<Figure size 1152x648 with 1 Axes>"
      ]
     },
     "metadata": {},
     "output_type": "display_data"
    },
    {
     "data": {
      "text/html": [
       "<h1>SHAP Summary</h1>"
      ],
      "text/markdown": [
       "\n",
       "\n",
       "# SHAP Summary"
      ],
      "text/plain": [
       "\n",
       "\n",
       "# SHAP Summary"
      ]
     },
     "metadata": {},
     "output_type": "display_data"
    },
    {
     "data": {
      "text/html": [
       "<blockquote>SHAP summary plot shows the contribution of the features for each instance (row of data). The sum of the feature contributions and the bias term is equal to the raw prediction of the model, i.e., prediction before applying inverse link function.</blockquote>"
      ],
      "text/markdown": [
       "\n",
       "> SHAP summary plot shows the contribution of the features for each instance (row of data). The sum of the feature contributions and the bias term is equal to the raw prediction of the model, i.e., prediction before applying inverse link function."
      ],
      "text/plain": [
       "\n",
       "> SHAP summary plot shows the contribution of the features for each instance (row of data). The sum of the feature contributions and the bias term is equal to the raw prediction of the model, i.e., prediction before applying inverse link function."
      ]
     },
     "metadata": {},
     "output_type": "display_data"
    },
    {
     "data": {
      "image/png": "[encoded data removed]",
      "text/plain": [
       "<Figure size 1152x648 with 2 Axes>"
      ]
     },
     "metadata": {},
     "output_type": "display_data"
    }
   ],
   "source": [
    "aml.explain(test, include_explanations=[\"varimp\",'shap_summary'])"
   ]
  },
  {
   "cell_type": "code",
   "execution_count": null,
   "metadata": {},
   "outputs": [],
   "source": []
  },
  {
   "cell_type": "code",
   "execution_count": 65,
   "metadata": {
    "scrolled": false
   },
   "outputs": [],
   "source": [
    "#aml.explain_row(test, row_index=0)"
   ]
  },
  {
   "cell_type": "code",
   "execution_count": 192,
   "metadata": {},
   "outputs": [
    {
     "name": "stderr",
     "output_type": "stream",
     "text": [
      "C:\\ProgramData\\Anaconda3\\lib\\site-packages\\ipykernel_launcher.py:1: H2ODeprecationWarning: Deprecated, use ``h2o.cluster().shutdown()``.\n",
      "  \"\"\"Entry point for launching an IPython kernel.\n"
     ]
    },
    {
     "name": "stdout",
     "output_type": "stream",
     "text": [
      "H2O session _sid_a322 closed.\n"
     ]
    }
   ],
   "source": [
    "#h2o.shutdown()"
   ]
  },
  {
   "cell_type": "code",
   "execution_count": null,
   "metadata": {},
   "outputs": [],
   "source": []
  },
  {
   "cell_type": "code",
   "execution_count": null,
   "metadata": {},
   "outputs": [],
   "source": []
  }
 ],
 "metadata": {
  "kernelspec": {
   "display_name": "Python 3",
   "language": "python",
   "name": "python3"
  },
  "language_info": {
   "codemirror_mode": {
    "name": "ipython",
    "version": 3
   },
   "file_extension": ".py",
   "mimetype": "text/x-python",
   "name": "python",
   "nbconvert_exporter": "python",
   "pygments_lexer": "ipython3",
   "version": "3.7.3"
  }
 },
 "nbformat": 4,
 "nbformat_minor": 2
}
