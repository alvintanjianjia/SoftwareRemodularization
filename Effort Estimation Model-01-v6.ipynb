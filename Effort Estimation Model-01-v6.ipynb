{
 "cells": [
  {
   "cell_type": "code",
   "execution_count": 794,
   "metadata": {},
   "outputs": [],
   "source": [
    "import json\n",
    "import pandas as pd\n",
    "import numpy as np\n",
    "import networkx as nx\n",
    "import jellyfish\n",
    "import os\n",
    "import shutil\n",
    "import subprocess\n",
    "import requests\n",
    "from github import Github\n",
    "from git import Repo\n",
    "from scipy.cluster.hierarchy import dendrogram, linkage\n",
    "from matplotlib import pyplot as plt\n",
    "from sklearn.feature_extraction.text import TfidfVectorizer\n",
    "from sklearn.cluster import KMeans\n",
    "from sklearn.metrics import adjusted_rand_score\n",
    "from sklearn import preprocessing\n",
    "from sklearn.cluster import AgglomerativeClustering\n",
    "from zipfile import ZipFile\n",
    "from filecmp import dircmp\n",
    "import configparser\n",
    "import h2o\n",
    "import scipy as sp"
   ]
  },
  {
   "cell_type": "markdown",
   "metadata": {},
   "source": [
    "## Result Gathering"
   ]
  },
  {
   "cell_type": "code",
   "execution_count": 795,
   "metadata": {},
   "outputs": [
    {
     "name": "stdout",
     "output_type": "stream",
     "text": [
      "Alluxio.csv\n",
      "Assertj-core.csv\n",
      "Atmosphere.csv\n",
      "AxonFramework.csv\n",
      "Beam.csv\n",
      "Byte-buddy.csv\n",
      "Camel.csv\n",
      "Cas.csv\n",
      "Cassandra.csv\n",
      "Cxf.csv\n",
      "Dbeaver.csv\n",
      "Eclim.csv\n",
      "Guacamole-client.csv\n",
      "Hadoop.csv\n",
      "Hawtio.csv\n",
      "karaf.csv\n",
      "Okhttp.csv\n",
      "Openapi-generator.csv\n",
      "Orientdb.csv\n",
      "Redisson.csv\n",
      "Rest-assured.csv\n",
      "Spring-framework.csv\n",
      "Spring-security.csv\n",
      "Storm.csv\n",
      "Tika.csv\n",
      "Traccar.csv\n"
     ]
    }
   ],
   "source": [
    "main_df = None\n",
    "directory = \"Effort_Estimation_Results_3E_v2/\"\n",
    "for filename in os.listdir(directory):\n",
    "    print(filename)\n",
    "    if main_df is None:\n",
    "        main_df = pd.read_csv(os.path.join(directory, filename))\n",
    "        main_df['project_name'] = filename.replace('.csv', '')\n",
    "    else:\n",
    "        temp_df = pd.read_csv(os.path.join(directory, filename))\n",
    "        temp_df['project_name'] = filename.replace('.csv', '')\n",
    "        frames = [main_df, temp_df]\n",
    "        main_df = pd.concat(frames)"
   ]
  },
  {
   "cell_type": "code",
   "execution_count": 796,
   "metadata": {},
   "outputs": [
    {
     "data": {
      "text/html": [
       "<div>\n",
       "<style scoped>\n",
       "    .dataframe tbody tr th:only-of-type {\n",
       "        vertical-align: middle;\n",
       "    }\n",
       "\n",
       "    .dataframe tbody tr th {\n",
       "        vertical-align: top;\n",
       "    }\n",
       "\n",
       "    .dataframe thead th {\n",
       "        text-align: right;\n",
       "    }\n",
       "</style>\n",
       "<table border=\"1\" class=\"dataframe\">\n",
       "  <thead>\n",
       "    <tr style=\"text-align: right;\">\n",
       "      <th></th>\n",
       "      <th>kmean_label</th>\n",
       "      <th>time_taken_mean</th>\n",
       "      <th>time_taken_min</th>\n",
       "      <th>time_taken_max</th>\n",
       "      <th>time_taken_q10</th>\n",
       "      <th>time_taken_q20</th>\n",
       "      <th>time_taken_q25</th>\n",
       "      <th>time_taken_q30</th>\n",
       "      <th>time_taken_q40</th>\n",
       "      <th>time_taken_q50</th>\n",
       "      <th>...</th>\n",
       "      <th>actual_num_of_classes_touched_min</th>\n",
       "      <th>actual_num_of_classes_touched_max</th>\n",
       "      <th>actual_num_of_classes_touched_std</th>\n",
       "      <th>commit_line_changed</th>\n",
       "      <th>refactoring_perc</th>\n",
       "      <th>refactoring_perc_time_taken</th>\n",
       "      <th>cocomoII_time_taken</th>\n",
       "      <th>geneticP_time_taken</th>\n",
       "      <th>softwareMaintenance_time_taken</th>\n",
       "      <th>fuzzy_time_taken</th>\n",
       "    </tr>\n",
       "  </thead>\n",
       "  <tbody>\n",
       "    <tr>\n",
       "      <th>0</th>\n",
       "      <td>5</td>\n",
       "      <td>12.712987</td>\n",
       "      <td>1.0</td>\n",
       "      <td>166.0</td>\n",
       "      <td>1.0</td>\n",
       "      <td>1.0</td>\n",
       "      <td>2.0</td>\n",
       "      <td>2.0</td>\n",
       "      <td>3.0</td>\n",
       "      <td>5.0</td>\n",
       "      <td>...</td>\n",
       "      <td>2</td>\n",
       "      <td>2</td>\n",
       "      <td>NaN</td>\n",
       "      <td>8</td>\n",
       "      <td>1.000000</td>\n",
       "      <td>15.00000</td>\n",
       "      <td>4.13952</td>\n",
       "      <td>2.477916</td>\n",
       "      <td>12.48</td>\n",
       "      <td>42.435515</td>\n",
       "    </tr>\n",
       "    <tr>\n",
       "      <th>1</th>\n",
       "      <td>5</td>\n",
       "      <td>12.712987</td>\n",
       "      <td>1.0</td>\n",
       "      <td>166.0</td>\n",
       "      <td>1.0</td>\n",
       "      <td>1.0</td>\n",
       "      <td>2.0</td>\n",
       "      <td>2.0</td>\n",
       "      <td>3.0</td>\n",
       "      <td>5.0</td>\n",
       "      <td>...</td>\n",
       "      <td>1</td>\n",
       "      <td>1</td>\n",
       "      <td>NaN</td>\n",
       "      <td>346</td>\n",
       "      <td>0.225434</td>\n",
       "      <td>1.00000</td>\n",
       "      <td>179.03424</td>\n",
       "      <td>107.076009</td>\n",
       "      <td>2229.76</td>\n",
       "      <td>519.589347</td>\n",
       "    </tr>\n",
       "    <tr>\n",
       "      <th>2</th>\n",
       "      <td>5</td>\n",
       "      <td>12.712987</td>\n",
       "      <td>1.0</td>\n",
       "      <td>166.0</td>\n",
       "      <td>1.0</td>\n",
       "      <td>1.0</td>\n",
       "      <td>2.0</td>\n",
       "      <td>2.0</td>\n",
       "      <td>3.0</td>\n",
       "      <td>5.0</td>\n",
       "      <td>...</td>\n",
       "      <td>1</td>\n",
       "      <td>2</td>\n",
       "      <td>0.707107</td>\n",
       "      <td>35</td>\n",
       "      <td>1.000000</td>\n",
       "      <td>1.00000</td>\n",
       "      <td>18.11040</td>\n",
       "      <td>10.840124</td>\n",
       "      <td>189.60</td>\n",
       "      <td>113.234791</td>\n",
       "    </tr>\n",
       "    <tr>\n",
       "      <th>3</th>\n",
       "      <td>5</td>\n",
       "      <td>12.712987</td>\n",
       "      <td>1.0</td>\n",
       "      <td>166.0</td>\n",
       "      <td>1.0</td>\n",
       "      <td>1.0</td>\n",
       "      <td>2.0</td>\n",
       "      <td>2.0</td>\n",
       "      <td>3.0</td>\n",
       "      <td>5.0</td>\n",
       "      <td>...</td>\n",
       "      <td>1</td>\n",
       "      <td>13</td>\n",
       "      <td>4.018895</td>\n",
       "      <td>194</td>\n",
       "      <td>0.185567</td>\n",
       "      <td>3.71134</td>\n",
       "      <td>100.38336</td>\n",
       "      <td>60.060503</td>\n",
       "      <td>1232.64</td>\n",
       "      <td>353.641141</td>\n",
       "    </tr>\n",
       "    <tr>\n",
       "      <th>4</th>\n",
       "      <td>5</td>\n",
       "      <td>12.712987</td>\n",
       "      <td>1.0</td>\n",
       "      <td>166.0</td>\n",
       "      <td>1.0</td>\n",
       "      <td>1.0</td>\n",
       "      <td>2.0</td>\n",
       "      <td>2.0</td>\n",
       "      <td>3.0</td>\n",
       "      <td>5.0</td>\n",
       "      <td>...</td>\n",
       "      <td>1</td>\n",
       "      <td>136</td>\n",
       "      <td>50.585661</td>\n",
       "      <td>1938</td>\n",
       "      <td>0.004128</td>\n",
       "      <td>1.00000</td>\n",
       "      <td>1002.79872</td>\n",
       "      <td>597.273303</td>\n",
       "      <td>12673.28</td>\n",
       "      <td>1634.048307</td>\n",
       "    </tr>\n",
       "  </tbody>\n",
       "</table>\n",
       "<p>5 rows × 206 columns</p>\n",
       "</div>"
      ],
      "text/plain": [
       "   kmean_label  time_taken_mean  time_taken_min  time_taken_max  \\\n",
       "0            5        12.712987             1.0           166.0   \n",
       "1            5        12.712987             1.0           166.0   \n",
       "2            5        12.712987             1.0           166.0   \n",
       "3            5        12.712987             1.0           166.0   \n",
       "4            5        12.712987             1.0           166.0   \n",
       "\n",
       "   time_taken_q10  time_taken_q20  time_taken_q25  time_taken_q30  \\\n",
       "0             1.0             1.0             2.0             2.0   \n",
       "1             1.0             1.0             2.0             2.0   \n",
       "2             1.0             1.0             2.0             2.0   \n",
       "3             1.0             1.0             2.0             2.0   \n",
       "4             1.0             1.0             2.0             2.0   \n",
       "\n",
       "   time_taken_q40  time_taken_q50  ...  actual_num_of_classes_touched_min  \\\n",
       "0             3.0             5.0  ...                                  2   \n",
       "1             3.0             5.0  ...                                  1   \n",
       "2             3.0             5.0  ...                                  1   \n",
       "3             3.0             5.0  ...                                  1   \n",
       "4             3.0             5.0  ...                                  1   \n",
       "\n",
       "   actual_num_of_classes_touched_max  actual_num_of_classes_touched_std  \\\n",
       "0                                  2                                NaN   \n",
       "1                                  1                                NaN   \n",
       "2                                  2                           0.707107   \n",
       "3                                 13                           4.018895   \n",
       "4                                136                          50.585661   \n",
       "\n",
       "   commit_line_changed  refactoring_perc refactoring_perc_time_taken  \\\n",
       "0                    8          1.000000                    15.00000   \n",
       "1                  346          0.225434                     1.00000   \n",
       "2                   35          1.000000                     1.00000   \n",
       "3                  194          0.185567                     3.71134   \n",
       "4                 1938          0.004128                     1.00000   \n",
       "\n",
       "  cocomoII_time_taken geneticP_time_taken softwareMaintenance_time_taken  \\\n",
       "0             4.13952            2.477916                          12.48   \n",
       "1           179.03424          107.076009                        2229.76   \n",
       "2            18.11040           10.840124                         189.60   \n",
       "3           100.38336           60.060503                        1232.64   \n",
       "4          1002.79872          597.273303                       12673.28   \n",
       "\n",
       "  fuzzy_time_taken  \n",
       "0        42.435515  \n",
       "1       519.589347  \n",
       "2       113.234791  \n",
       "3       353.641141  \n",
       "4      1634.048307  \n",
       "\n",
       "[5 rows x 206 columns]"
      ]
     },
     "execution_count": 796,
     "metadata": {},
     "output_type": "execute_result"
    }
   ],
   "source": [
    "main_df.head()"
   ]
  },
  {
   "cell_type": "code",
   "execution_count": 797,
   "metadata": {},
   "outputs": [
    {
     "name": "stdout",
     "output_type": "stream",
     "text": [
      "kmean_label\n",
      "time_taken_mean\n",
      "time_taken_min\n",
      "time_taken_max\n",
      "time_taken_q10\n",
      "time_taken_q20\n",
      "time_taken_q25\n",
      "time_taken_q30\n",
      "time_taken_q40\n",
      "time_taken_q50\n",
      "time_taken_q60\n",
      "time_taken_q70\n",
      "time_taken_q75\n",
      "time_taken_q80\n",
      "time_taken_q90\n",
      "sha\n",
      "name\n",
      "email\n",
      "date\n",
      "login\n",
      "message\n",
      "parent_sha\n",
      "parent_date\n",
      "time_taken\n",
      "contains_refactoring\n",
      "project_name\n",
      "commit_compared_with\n",
      "cbo_mean\n",
      "cbo_min\n",
      "cbo_max\n",
      "cbo_std\n",
      "wmc_mean\n",
      "wmc_min\n",
      "wmc_max\n",
      "wmc_std\n",
      "dit_mean\n",
      "dit_min\n",
      "dit_max\n",
      "dit_std\n",
      "rfc_mean\n",
      "rfc_min\n",
      "rfc_max\n",
      "rfc_std\n",
      "lcom_mean\n",
      "lcom_min\n",
      "lcom_max\n",
      "lcom_std\n",
      "totalMethods_mean\n",
      "totalMethods_min\n",
      "totalMethods_max\n",
      "totalMethods_std\n",
      "staticMethods_mean\n",
      "staticMethods_min\n",
      "staticMethods_max\n",
      "staticMethods_std\n",
      "publicMethods_mean\n",
      "publicMethods_min\n",
      "publicMethods_max\n",
      "publicMethods_std\n",
      "privateMethods_mean\n",
      "privateMethods_min\n",
      "privateMethods_max\n",
      "privateMethods_std\n",
      "protectedMethods_mean\n",
      "protectedMethods_min\n",
      "protectedMethods_max\n",
      "protectedMethods_std\n",
      "defaultMethods_mean\n",
      "defaultMethods_min\n",
      "defaultMethods_max\n",
      "defaultMethods_std\n",
      "abstractMethods_mean\n",
      "abstractMethods_min\n",
      "abstractMethods_max\n",
      "abstractMethods_std\n",
      "finalMethods_mean\n",
      "finalMethods_min\n",
      "finalMethods_max\n",
      "finalMethods_std\n",
      "synchronizedMethods_mean\n",
      "synchronizedMethods_min\n",
      "synchronizedMethods_max\n",
      "synchronizedMethods_std\n",
      "totalFields_mean\n",
      "totalFields_min\n",
      "totalFields_max\n",
      "totalFields_std\n",
      "staticFields_mean\n",
      "staticFields_min\n",
      "staticFields_max\n",
      "staticFields_std\n",
      "publicFields_mean\n",
      "publicFields_min\n",
      "publicFields_max\n",
      "publicFields_std\n",
      "privateFields_mean\n",
      "privateFields_min\n",
      "privateFields_max\n",
      "privateFields_std\n",
      "protectedFields_mean\n",
      "protectedFields_min\n",
      "protectedFields_max\n",
      "protectedFields_std\n",
      "defaultFields_mean\n",
      "defaultFields_min\n",
      "defaultFields_max\n",
      "defaultFields_std\n",
      "finalFields_mean\n",
      "finalFields_min\n",
      "finalFields_max\n",
      "finalFields_std\n",
      "synchronizedFields_mean\n",
      "synchronizedFields_min\n",
      "synchronizedFields_max\n",
      "synchronizedFields_std\n",
      "nosi_mean\n",
      "nosi_min\n",
      "nosi_max\n",
      "nosi_std\n",
      "loc_mean\n",
      "loc_min\n",
      "loc_max\n",
      "loc_std\n",
      "returnQty_mean\n",
      "returnQty_min\n",
      "returnQty_max\n",
      "returnQty_std\n",
      "loopQty_mean\n",
      "loopQty_min\n",
      "loopQty_max\n",
      "loopQty_std\n",
      "comparisonsQty_mean\n",
      "comparisonsQty_min\n",
      "comparisonsQty_max\n",
      "comparisonsQty_std\n",
      "tryCatchQty_mean\n",
      "tryCatchQty_min\n",
      "tryCatchQty_max\n",
      "tryCatchQty_std\n",
      "parenthesizedExpsQty_mean\n",
      "parenthesizedExpsQty_min\n",
      "parenthesizedExpsQty_max\n",
      "parenthesizedExpsQty_std\n",
      "stringLiteralsQty_mean\n",
      "stringLiteralsQty_min\n",
      "stringLiteralsQty_max\n",
      "stringLiteralsQty_std\n",
      "numbersQty_mean\n",
      "numbersQty_min\n",
      "numbersQty_max\n",
      "numbersQty_std\n",
      "assignmentsQty_mean\n",
      "assignmentsQty_min\n",
      "assignmentsQty_max\n",
      "assignmentsQty_std\n",
      "mathOperationsQty_mean\n",
      "mathOperationsQty_min\n",
      "mathOperationsQty_max\n",
      "mathOperationsQty_std\n",
      "variablesQty_mean\n",
      "variablesQty_min\n",
      "variablesQty_max\n",
      "variablesQty_std\n",
      "maxNestedBlocks_mean\n",
      "maxNestedBlocks_min\n",
      "maxNestedBlocks_max\n",
      "maxNestedBlocks_std\n",
      "anonymousClassesQty_mean\n",
      "anonymousClassesQty_min\n",
      "anonymousClassesQty_max\n",
      "anonymousClassesQty_std\n",
      "subClassesQty_mean\n",
      "subClassesQty_min\n",
      "subClassesQty_max\n",
      "subClassesQty_std\n",
      "lambdasQty_mean\n",
      "lambdasQty_min\n",
      "lambdasQty_max\n",
      "lambdasQty_std\n",
      "uniqueWordsQty_mean\n",
      "uniqueWordsQty_min\n",
      "uniqueWordsQty_max\n",
      "uniqueWordsQty_std\n",
      "modifiers_mean\n",
      "modifiers_min\n",
      "modifiers_max\n",
      "modifiers_std\n",
      "num_dependency_mean\n",
      "num_dependency_min\n",
      "num_dependency_max\n",
      "num_dependency_std\n",
      "num_line_affected_mean\n",
      "num_line_affected_min\n",
      "num_line_affected_max\n",
      "num_line_affected_std\n",
      "actual_num_of_classes_touched_mean\n",
      "actual_num_of_classes_touched_min\n",
      "actual_num_of_classes_touched_max\n",
      "actual_num_of_classes_touched_std\n",
      "commit_line_changed\n",
      "refactoring_perc\n",
      "refactoring_perc_time_taken\n",
      "cocomoII_time_taken\n",
      "geneticP_time_taken\n",
      "softwareMaintenance_time_taken\n",
      "fuzzy_time_taken\n"
     ]
    }
   ],
   "source": [
    "for column in main_df:\n",
    "    print(column)"
   ]
  },
  {
   "cell_type": "code",
   "execution_count": 798,
   "metadata": {},
   "outputs": [
    {
     "data": {
      "text/plain": [
       "775"
      ]
     },
     "execution_count": 798,
     "metadata": {},
     "output_type": "execute_result"
    }
   ],
   "source": [
    "len(main_df)"
   ]
  },
  {
   "cell_type": "code",
   "execution_count": 799,
   "metadata": {},
   "outputs": [
    {
     "data": {
      "text/plain": [
       "1.000000     384\n",
       "2.000000      23\n",
       "3.000000      11\n",
       "11.000000      6\n",
       "5.000000       6\n",
       "            ... \n",
       "19.059569      1\n",
       "1.123596       1\n",
       "2.547895       1\n",
       "41.632653      1\n",
       "2.103896       1\n",
       "Name: refactoring_perc_time_taken, Length: 314, dtype: int64"
      ]
     },
     "execution_count": 799,
     "metadata": {},
     "output_type": "execute_result"
    }
   ],
   "source": [
    "main_df['refactoring_perc_time_taken'].value_counts()"
   ]
  },
  {
   "cell_type": "code",
   "execution_count": 800,
   "metadata": {},
   "outputs": [],
   "source": [
    "def plotGraph(y_test,y_pred,y_test_str,y_pred_str,regressorName):\n",
    "    if max(y_test) >= max(y_pred):\n",
    "        my_range = int(max(y_test))\n",
    "    else:\n",
    "        my_range = int(max(y_pred))\n",
    "        \n",
    "    plt.figure(figsize=(15,15))\n",
    "    plt.scatter(range(len(y_test)), y_test, color='blue', label=y_test_str)\n",
    "    plt.scatter(range(len(y_pred)), y_pred, color='red', label=y_pred_str)\n",
    "    plt.title(regressorName)\n",
    "    plt.legend(loc=\"upper left\")\n",
    "    plt.show()\n",
    "    return"
   ]
  },
  {
   "cell_type": "code",
   "execution_count": 801,
   "metadata": {},
   "outputs": [
    {
     "data": {
      "image/png": "[encoded data removed]",
      "text/plain": [
       "<Figure size 1080x1080 with 1 Axes>"
      ]
     },
     "metadata": {
      "needs_background": "light"
     },
     "output_type": "display_data"
    }
   ],
   "source": [
    "plotGraph(main_df['time_taken'], main_df['refactoring_perc_time_taken'],'time_taken','refactoring_perc_time_taken','test')"
   ]
  },
  {
   "cell_type": "code",
   "execution_count": 802,
   "metadata": {},
   "outputs": [],
   "source": [
    "def get_final_time_taken(row):\n",
    "    if row['time_taken'] > row['time_taken_q90']:\n",
    "        return row['time_taken'] - row['time_taken_q90']\n",
    "    elif row['time_taken'] > row['time_taken_q80']:\n",
    "        return row['time_taken'] - row['time_taken_q80']\n",
    "    elif row['time_taken'] > row['time_taken_q60']:\n",
    "        return row['time_taken'] - row['time_taken_q60']\n",
    "    elif row['time_taken'] > row['time_taken_q40']:\n",
    "        return row['time_taken'] - row['time_taken_q40']\n",
    "    elif row['time_taken'] > row['time_taken_q20']:\n",
    "        return row['time_taken'] - row['time_taken_q20']"
   ]
  },
  {
   "cell_type": "code",
   "execution_count": 803,
   "metadata": {},
   "outputs": [],
   "source": [
    "main_df['time_taken_final'] = main_df.apply(lambda row: get_final_time_taken(row), axis=1)\n",
    "\n"
   ]
  },
  {
   "cell_type": "code",
   "execution_count": 804,
   "metadata": {},
   "outputs": [],
   "source": [
    "#plotGraph(main_df['time_taken_final'], main_df['time_taken_mean'],' test')"
   ]
  },
  {
   "cell_type": "code",
   "execution_count": 805,
   "metadata": {},
   "outputs": [
    {
     "data": {
      "text/plain": [
       "{'whiskers': [<matplotlib.lines.Line2D at 0x1f7efb3cda0>,\n",
       "  <matplotlib.lines.Line2D at 0x1f7efb37128>],\n",
       " 'caps': [<matplotlib.lines.Line2D at 0x1f7efb374a8>,\n",
       "  <matplotlib.lines.Line2D at 0x1f7efb37828>],\n",
       " 'boxes': [<matplotlib.lines.Line2D at 0x1f7efb3cc50>],\n",
       " 'medians': [<matplotlib.lines.Line2D at 0x1f7efb37ba8>],\n",
       " 'fliers': [<matplotlib.lines.Line2D at 0x1f7efb37f28>],\n",
       " 'means': []}"
      ]
     },
     "execution_count": 805,
     "metadata": {},
     "output_type": "execute_result"
    },
    {
     "data": {
      "image/png": "[encoded data removed]",
      "text/plain": [
       "<Figure size 432x288 with 1 Axes>"
      ]
     },
     "metadata": {
      "needs_background": "light"
     },
     "output_type": "display_data"
    }
   ],
   "source": [
    "plt.boxplot(main_df['refactoring_perc_time_taken'])"
   ]
  },
  {
   "cell_type": "code",
   "execution_count": 806,
   "metadata": {},
   "outputs": [],
   "source": [
    "main_df = main_df[main_df['refactoring_perc_time_taken'] >= 2]\n",
    "main_df = main_df[main_df['refactoring_perc_time_taken'] <= 40]\n",
    "#main_df = main_df[main_df['refactoring_perc_time_taken'] <= 20]\n",
    "\n",
    "#main_df = main_df[main_df['time_taken_final'] <= 60]\n",
    "#main_df = main_df[main_df['time_taken_final'] > 2]"
   ]
  },
  {
   "cell_type": "code",
   "execution_count": 807,
   "metadata": {},
   "outputs": [
    {
     "data": {
      "text/plain": [
       "{'whiskers': [<matplotlib.lines.Line2D at 0x1f7f06466d8>,\n",
       "  <matplotlib.lines.Line2D at 0x1f7f0646a20>],\n",
       " 'caps': [<matplotlib.lines.Line2D at 0x1f7f0646da0>,\n",
       "  <matplotlib.lines.Line2D at 0x1f7f0679160>],\n",
       " 'boxes': [<matplotlib.lines.Line2D at 0x1f7f0646588>],\n",
       " 'medians': [<matplotlib.lines.Line2D at 0x1f7f06794e0>],\n",
       " 'fliers': [<matplotlib.lines.Line2D at 0x1f7f0679860>],\n",
       " 'means': []}"
      ]
     },
     "execution_count": 807,
     "metadata": {},
     "output_type": "execute_result"
    },
    {
     "data": {
      "image/png": "[encoded data removed]",
      "text/plain": [
       "<Figure size 432x288 with 1 Axes>"
      ]
     },
     "metadata": {
      "needs_background": "light"
     },
     "output_type": "display_data"
    }
   ],
   "source": [
    "plt.boxplot(main_df['refactoring_perc_time_taken'])"
   ]
  },
  {
   "cell_type": "code",
   "execution_count": 808,
   "metadata": {},
   "outputs": [
    {
     "data": {
      "text/plain": [
       "1.0     43\n",
       "2.0     26\n",
       "6.0     17\n",
       "4.0     17\n",
       "7.0     15\n",
       "        ..\n",
       "50.6     1\n",
       "21.4     1\n",
       "43.4     1\n",
       "8.4      1\n",
       "19.0     1\n",
       "Name: time_taken_final, Length: 70, dtype: int64"
      ]
     },
     "execution_count": 808,
     "metadata": {},
     "output_type": "execute_result"
    }
   ],
   "source": [
    "main_df['time_taken_final'].value_counts()"
   ]
  },
  {
   "cell_type": "code",
   "execution_count": 809,
   "metadata": {},
   "outputs": [
    {
     "data": {
      "text/plain": [
       "{'whiskers': [<matplotlib.lines.Line2D at 0x1f7efb918d0>,\n",
       "  <matplotlib.lines.Line2D at 0x1f7efb91c18>],\n",
       " 'caps': [<matplotlib.lines.Line2D at 0x1f7efb91f98>,\n",
       "  <matplotlib.lines.Line2D at 0x1f7efb9c358>],\n",
       " 'boxes': [<matplotlib.lines.Line2D at 0x1f7efb91780>],\n",
       " 'medians': [<matplotlib.lines.Line2D at 0x1f7efb9c6d8>],\n",
       " 'fliers': [<matplotlib.lines.Line2D at 0x1f7efb9ca58>],\n",
       " 'means': []}"
      ]
     },
     "execution_count": 809,
     "metadata": {},
     "output_type": "execute_result"
    },
    {
     "data": {
      "image/png": "[encoded data removed]",
      "text/plain": [
       "<Figure size 432x288 with 1 Axes>"
      ]
     },
     "metadata": {
      "needs_background": "light"
     },
     "output_type": "display_data"
    }
   ],
   "source": [
    "plt.boxplot(main_df['time_taken_final'])"
   ]
  },
  {
   "cell_type": "code",
   "execution_count": 810,
   "metadata": {},
   "outputs": [],
   "source": [
    "main_df = main_df.fillna(0)"
   ]
  },
  {
   "cell_type": "code",
   "execution_count": 811,
   "metadata": {},
   "outputs": [
    {
     "data": {
      "text/html": [
       "<div>\n",
       "<style scoped>\n",
       "    .dataframe tbody tr th:only-of-type {\n",
       "        vertical-align: middle;\n",
       "    }\n",
       "\n",
       "    .dataframe tbody tr th {\n",
       "        vertical-align: top;\n",
       "    }\n",
       "\n",
       "    .dataframe thead th {\n",
       "        text-align: right;\n",
       "    }\n",
       "</style>\n",
       "<table border=\"1\" class=\"dataframe\">\n",
       "  <thead>\n",
       "    <tr style=\"text-align: right;\">\n",
       "      <th></th>\n",
       "      <th>kmean_label</th>\n",
       "      <th>time_taken_mean</th>\n",
       "      <th>time_taken_min</th>\n",
       "      <th>time_taken_max</th>\n",
       "      <th>time_taken_q10</th>\n",
       "      <th>time_taken_q20</th>\n",
       "      <th>time_taken_q25</th>\n",
       "      <th>time_taken_q30</th>\n",
       "      <th>time_taken_q40</th>\n",
       "      <th>time_taken_q50</th>\n",
       "      <th>...</th>\n",
       "      <th>actual_num_of_classes_touched_max</th>\n",
       "      <th>actual_num_of_classes_touched_std</th>\n",
       "      <th>commit_line_changed</th>\n",
       "      <th>refactoring_perc</th>\n",
       "      <th>refactoring_perc_time_taken</th>\n",
       "      <th>cocomoII_time_taken</th>\n",
       "      <th>geneticP_time_taken</th>\n",
       "      <th>softwareMaintenance_time_taken</th>\n",
       "      <th>fuzzy_time_taken</th>\n",
       "      <th>time_taken_final</th>\n",
       "    </tr>\n",
       "  </thead>\n",
       "  <tbody>\n",
       "    <tr>\n",
       "      <th>0</th>\n",
       "      <td>5</td>\n",
       "      <td>12.712987</td>\n",
       "      <td>1.0</td>\n",
       "      <td>166.0</td>\n",
       "      <td>1.0</td>\n",
       "      <td>1.0</td>\n",
       "      <td>2.0</td>\n",
       "      <td>2.0</td>\n",
       "      <td>3.0</td>\n",
       "      <td>5.0</td>\n",
       "      <td>...</td>\n",
       "      <td>2</td>\n",
       "      <td>0.000000</td>\n",
       "      <td>8</td>\n",
       "      <td>1.000000</td>\n",
       "      <td>15.000000</td>\n",
       "      <td>4.13952</td>\n",
       "      <td>2.477916</td>\n",
       "      <td>12.48</td>\n",
       "      <td>42.435515</td>\n",
       "      <td>7.0</td>\n",
       "    </tr>\n",
       "    <tr>\n",
       "      <th>3</th>\n",
       "      <td>5</td>\n",
       "      <td>12.712987</td>\n",
       "      <td>1.0</td>\n",
       "      <td>166.0</td>\n",
       "      <td>1.0</td>\n",
       "      <td>1.0</td>\n",
       "      <td>2.0</td>\n",
       "      <td>2.0</td>\n",
       "      <td>3.0</td>\n",
       "      <td>5.0</td>\n",
       "      <td>...</td>\n",
       "      <td>13</td>\n",
       "      <td>4.018895</td>\n",
       "      <td>194</td>\n",
       "      <td>0.185567</td>\n",
       "      <td>3.711340</td>\n",
       "      <td>100.38336</td>\n",
       "      <td>60.060503</td>\n",
       "      <td>1232.64</td>\n",
       "      <td>353.641141</td>\n",
       "      <td>1.0</td>\n",
       "    </tr>\n",
       "    <tr>\n",
       "      <th>9</th>\n",
       "      <td>10</td>\n",
       "      <td>14.676329</td>\n",
       "      <td>1.0</td>\n",
       "      <td>166.0</td>\n",
       "      <td>1.0</td>\n",
       "      <td>2.0</td>\n",
       "      <td>2.0</td>\n",
       "      <td>2.0</td>\n",
       "      <td>4.0</td>\n",
       "      <td>7.0</td>\n",
       "      <td>...</td>\n",
       "      <td>9</td>\n",
       "      <td>0.000000</td>\n",
       "      <td>202</td>\n",
       "      <td>1.000000</td>\n",
       "      <td>10.000000</td>\n",
       "      <td>104.52288</td>\n",
       "      <td>62.535928</td>\n",
       "      <td>1285.12</td>\n",
       "      <td>363.273145</td>\n",
       "      <td>6.0</td>\n",
       "    </tr>\n",
       "    <tr>\n",
       "      <th>11</th>\n",
       "      <td>10</td>\n",
       "      <td>14.676329</td>\n",
       "      <td>1.0</td>\n",
       "      <td>166.0</td>\n",
       "      <td>1.0</td>\n",
       "      <td>2.0</td>\n",
       "      <td>2.0</td>\n",
       "      <td>2.0</td>\n",
       "      <td>4.0</td>\n",
       "      <td>7.0</td>\n",
       "      <td>...</td>\n",
       "      <td>6</td>\n",
       "      <td>2.121320</td>\n",
       "      <td>400</td>\n",
       "      <td>0.287500</td>\n",
       "      <td>9.487500</td>\n",
       "      <td>206.97600</td>\n",
       "      <td>123.769958</td>\n",
       "      <td>2584.00</td>\n",
       "      <td>572.195617</td>\n",
       "      <td>12.0</td>\n",
       "    </tr>\n",
       "    <tr>\n",
       "      <th>12</th>\n",
       "      <td>10</td>\n",
       "      <td>14.676329</td>\n",
       "      <td>1.0</td>\n",
       "      <td>166.0</td>\n",
       "      <td>1.0</td>\n",
       "      <td>2.0</td>\n",
       "      <td>2.0</td>\n",
       "      <td>2.0</td>\n",
       "      <td>4.0</td>\n",
       "      <td>7.0</td>\n",
       "      <td>...</td>\n",
       "      <td>7</td>\n",
       "      <td>2.160247</td>\n",
       "      <td>14</td>\n",
       "      <td>1.000000</td>\n",
       "      <td>2.000000</td>\n",
       "      <td>7.24416</td>\n",
       "      <td>4.336286</td>\n",
       "      <td>51.84</td>\n",
       "      <td>61.567253</td>\n",
       "      <td>0.0</td>\n",
       "    </tr>\n",
       "    <tr>\n",
       "      <th>...</th>\n",
       "      <td>...</td>\n",
       "      <td>...</td>\n",
       "      <td>...</td>\n",
       "      <td>...</td>\n",
       "      <td>...</td>\n",
       "      <td>...</td>\n",
       "      <td>...</td>\n",
       "      <td>...</td>\n",
       "      <td>...</td>\n",
       "      <td>...</td>\n",
       "      <td>...</td>\n",
       "      <td>...</td>\n",
       "      <td>...</td>\n",
       "      <td>...</td>\n",
       "      <td>...</td>\n",
       "      <td>...</td>\n",
       "      <td>...</td>\n",
       "      <td>...</td>\n",
       "      <td>...</td>\n",
       "      <td>...</td>\n",
       "      <td>...</td>\n",
       "    </tr>\n",
       "    <tr>\n",
       "      <th>40</th>\n",
       "      <td>12</td>\n",
       "      <td>27.087805</td>\n",
       "      <td>1.0</td>\n",
       "      <td>165.0</td>\n",
       "      <td>1.0</td>\n",
       "      <td>2.0</td>\n",
       "      <td>2.0</td>\n",
       "      <td>3.0</td>\n",
       "      <td>5.6</td>\n",
       "      <td>15.0</td>\n",
       "      <td>...</td>\n",
       "      <td>17</td>\n",
       "      <td>0.000000</td>\n",
       "      <td>714</td>\n",
       "      <td>0.288515</td>\n",
       "      <td>6.347339</td>\n",
       "      <td>369.45216</td>\n",
       "      <td>220.749445</td>\n",
       "      <td>4643.84</td>\n",
       "      <td>841.170325</td>\n",
       "      <td>1.0</td>\n",
       "    </tr>\n",
       "    <tr>\n",
       "      <th>42</th>\n",
       "      <td>12</td>\n",
       "      <td>27.087805</td>\n",
       "      <td>1.0</td>\n",
       "      <td>165.0</td>\n",
       "      <td>1.0</td>\n",
       "      <td>2.0</td>\n",
       "      <td>2.0</td>\n",
       "      <td>3.0</td>\n",
       "      <td>5.6</td>\n",
       "      <td>15.0</td>\n",
       "      <td>...</td>\n",
       "      <td>32</td>\n",
       "      <td>16.743158</td>\n",
       "      <td>635</td>\n",
       "      <td>0.286614</td>\n",
       "      <td>7.738583</td>\n",
       "      <td>328.57440</td>\n",
       "      <td>196.365047</td>\n",
       "      <td>4125.60</td>\n",
       "      <td>778.070877</td>\n",
       "      <td>6.0</td>\n",
       "    </tr>\n",
       "    <tr>\n",
       "      <th>1</th>\n",
       "      <td>6</td>\n",
       "      <td>24.474860</td>\n",
       "      <td>1.0</td>\n",
       "      <td>167.0</td>\n",
       "      <td>1.0</td>\n",
       "      <td>2.0</td>\n",
       "      <td>4.0</td>\n",
       "      <td>5.0</td>\n",
       "      <td>10.0</td>\n",
       "      <td>16.0</td>\n",
       "      <td>...</td>\n",
       "      <td>3</td>\n",
       "      <td>0.866025</td>\n",
       "      <td>16</td>\n",
       "      <td>0.750000</td>\n",
       "      <td>18.750000</td>\n",
       "      <td>8.27904</td>\n",
       "      <td>4.955729</td>\n",
       "      <td>64.96</td>\n",
       "      <td>67.284406</td>\n",
       "      <td>5.0</td>\n",
       "    </tr>\n",
       "    <tr>\n",
       "      <th>3</th>\n",
       "      <td>6</td>\n",
       "      <td>24.474860</td>\n",
       "      <td>1.0</td>\n",
       "      <td>167.0</td>\n",
       "      <td>1.0</td>\n",
       "      <td>2.0</td>\n",
       "      <td>4.0</td>\n",
       "      <td>5.0</td>\n",
       "      <td>10.0</td>\n",
       "      <td>16.0</td>\n",
       "      <td>...</td>\n",
       "      <td>1</td>\n",
       "      <td>0.000000</td>\n",
       "      <td>535</td>\n",
       "      <td>0.725234</td>\n",
       "      <td>17.405607</td>\n",
       "      <td>276.83040</td>\n",
       "      <td>165.484354</td>\n",
       "      <td>3469.60</td>\n",
       "      <td>694.272395</td>\n",
       "      <td>4.0</td>\n",
       "    </tr>\n",
       "    <tr>\n",
       "      <th>5</th>\n",
       "      <td>14</td>\n",
       "      <td>22.417476</td>\n",
       "      <td>1.0</td>\n",
       "      <td>144.0</td>\n",
       "      <td>1.0</td>\n",
       "      <td>4.0</td>\n",
       "      <td>6.0</td>\n",
       "      <td>8.0</td>\n",
       "      <td>12.0</td>\n",
       "      <td>16.0</td>\n",
       "      <td>...</td>\n",
       "      <td>3</td>\n",
       "      <td>0.000000</td>\n",
       "      <td>63</td>\n",
       "      <td>1.000000</td>\n",
       "      <td>22.000000</td>\n",
       "      <td>32.59872</td>\n",
       "      <td>19.510808</td>\n",
       "      <td>373.28</td>\n",
       "      <td>167.392539</td>\n",
       "      <td>2.0</td>\n",
       "    </tr>\n",
       "  </tbody>\n",
       "</table>\n",
       "<p>263 rows × 207 columns</p>\n",
       "</div>"
      ],
      "text/plain": [
       "    kmean_label  time_taken_mean  time_taken_min  time_taken_max  \\\n",
       "0             5        12.712987             1.0           166.0   \n",
       "3             5        12.712987             1.0           166.0   \n",
       "9            10        14.676329             1.0           166.0   \n",
       "11           10        14.676329             1.0           166.0   \n",
       "12           10        14.676329             1.0           166.0   \n",
       "..          ...              ...             ...             ...   \n",
       "40           12        27.087805             1.0           165.0   \n",
       "42           12        27.087805             1.0           165.0   \n",
       "1             6        24.474860             1.0           167.0   \n",
       "3             6        24.474860             1.0           167.0   \n",
       "5            14        22.417476             1.0           144.0   \n",
       "\n",
       "    time_taken_q10  time_taken_q20  time_taken_q25  time_taken_q30  \\\n",
       "0              1.0             1.0             2.0             2.0   \n",
       "3              1.0             1.0             2.0             2.0   \n",
       "9              1.0             2.0             2.0             2.0   \n",
       "11             1.0             2.0             2.0             2.0   \n",
       "12             1.0             2.0             2.0             2.0   \n",
       "..             ...             ...             ...             ...   \n",
       "40             1.0             2.0             2.0             3.0   \n",
       "42             1.0             2.0             2.0             3.0   \n",
       "1              1.0             2.0             4.0             5.0   \n",
       "3              1.0             2.0             4.0             5.0   \n",
       "5              1.0             4.0             6.0             8.0   \n",
       "\n",
       "    time_taken_q40  time_taken_q50  ...  actual_num_of_classes_touched_max  \\\n",
       "0              3.0             5.0  ...                                  2   \n",
       "3              3.0             5.0  ...                                 13   \n",
       "9              4.0             7.0  ...                                  9   \n",
       "11             4.0             7.0  ...                                  6   \n",
       "12             4.0             7.0  ...                                  7   \n",
       "..             ...             ...  ...                                ...   \n",
       "40             5.6            15.0  ...                                 17   \n",
       "42             5.6            15.0  ...                                 32   \n",
       "1             10.0            16.0  ...                                  3   \n",
       "3             10.0            16.0  ...                                  1   \n",
       "5             12.0            16.0  ...                                  3   \n",
       "\n",
       "    actual_num_of_classes_touched_std  commit_line_changed  refactoring_perc  \\\n",
       "0                            0.000000                    8          1.000000   \n",
       "3                            4.018895                  194          0.185567   \n",
       "9                            0.000000                  202          1.000000   \n",
       "11                           2.121320                  400          0.287500   \n",
       "12                           2.160247                   14          1.000000   \n",
       "..                                ...                  ...               ...   \n",
       "40                           0.000000                  714          0.288515   \n",
       "42                          16.743158                  635          0.286614   \n",
       "1                            0.866025                   16          0.750000   \n",
       "3                            0.000000                  535          0.725234   \n",
       "5                            0.000000                   63          1.000000   \n",
       "\n",
       "    refactoring_perc_time_taken cocomoII_time_taken geneticP_time_taken  \\\n",
       "0                     15.000000             4.13952            2.477916   \n",
       "3                      3.711340           100.38336           60.060503   \n",
       "9                     10.000000           104.52288           62.535928   \n",
       "11                     9.487500           206.97600          123.769958   \n",
       "12                     2.000000             7.24416            4.336286   \n",
       "..                          ...                 ...                 ...   \n",
       "40                     6.347339           369.45216          220.749445   \n",
       "42                     7.738583           328.57440          196.365047   \n",
       "1                     18.750000             8.27904            4.955729   \n",
       "3                     17.405607           276.83040          165.484354   \n",
       "5                     22.000000            32.59872           19.510808   \n",
       "\n",
       "   softwareMaintenance_time_taken fuzzy_time_taken time_taken_final  \n",
       "0                           12.48        42.435515              7.0  \n",
       "3                         1232.64       353.641141              1.0  \n",
       "9                         1285.12       363.273145              6.0  \n",
       "11                        2584.00       572.195617             12.0  \n",
       "12                          51.84        61.567253              0.0  \n",
       "..                            ...              ...              ...  \n",
       "40                        4643.84       841.170325              1.0  \n",
       "42                        4125.60       778.070877              6.0  \n",
       "1                           64.96        67.284406              5.0  \n",
       "3                         3469.60       694.272395              4.0  \n",
       "5                          373.28       167.392539              2.0  \n",
       "\n",
       "[263 rows x 207 columns]"
      ]
     },
     "execution_count": 811,
     "metadata": {},
     "output_type": "execute_result"
    }
   ],
   "source": [
    "main_df"
   ]
  },
  {
   "cell_type": "code",
   "execution_count": 812,
   "metadata": {},
   "outputs": [
    {
     "data": {
      "text/plain": [
       "(array([137.,  32.,  30.,  18.,  18.,  11.,   3.,   2.,   7.,   5.]),\n",
       " array([ 2. ,  5.8,  9.6, 13.4, 17.2, 21. , 24.8, 28.6, 32.4, 36.2, 40. ]),\n",
       " <a list of 10 Patch objects>)"
      ]
     },
     "execution_count": 812,
     "metadata": {},
     "output_type": "execute_result"
    },
    {
     "data": {
      "image/png": "[encoded data removed]",
      "text/plain": [
       "<Figure size 432x288 with 1 Axes>"
      ]
     },
     "metadata": {
      "needs_background": "light"
     },
     "output_type": "display_data"
    }
   ],
   "source": [
    "plt.hist(main_df['refactoring_perc_time_taken'])"
   ]
  },
  {
   "cell_type": "code",
   "execution_count": 813,
   "metadata": {},
   "outputs": [
    {
     "data": {
      "text/plain": [
       "(array([52., 35., 30., 20.,  7.,  8.,  9.,  8.,  8., 10.,  4.,  8.,  6.,\n",
       "         5.,  2.,  5.,  7.,  4.,  2.,  5.,  4.,  2.,  2.,  3.,  1.,  0.,\n",
       "         2.,  0.,  0.,  2.,  0.,  0.,  2.,  2.,  2.,  1.,  2.,  1.,  1.,\n",
       "         1.]),\n",
       " array([ 2.  ,  2.95,  3.9 ,  4.85,  5.8 ,  6.75,  7.7 ,  8.65,  9.6 ,\n",
       "        10.55, 11.5 , 12.45, 13.4 , 14.35, 15.3 , 16.25, 17.2 , 18.15,\n",
       "        19.1 , 20.05, 21.  , 21.95, 22.9 , 23.85, 24.8 , 25.75, 26.7 ,\n",
       "        27.65, 28.6 , 29.55, 30.5 , 31.45, 32.4 , 33.35, 34.3 , 35.25,\n",
       "        36.2 , 37.15, 38.1 , 39.05, 40.  ]),\n",
       " <a list of 40 Patch objects>)"
      ]
     },
     "execution_count": 813,
     "metadata": {},
     "output_type": "execute_result"
    },
    {
     "data": {
      "image/png": "[encoded data removed]",
      "text/plain": [
       "<Figure size 432x288 with 1 Axes>"
      ]
     },
     "metadata": {
      "needs_background": "light"
     },
     "output_type": "display_data"
    }
   ],
   "source": [
    "plt.hist(main_df['refactoring_perc_time_taken'],bins=40)"
   ]
  },
  {
   "cell_type": "code",
   "execution_count": 814,
   "metadata": {},
   "outputs": [
    {
     "data": {
      "text/plain": [
       "[<matplotlib.lines.Line2D at 0x1f7efe9a5f8>]"
      ]
     },
     "execution_count": 814,
     "metadata": {},
     "output_type": "execute_result"
    },
    {
     "data": {
      "image/png": "[encoded data removed]",
      "text/plain": [
       "<Figure size 432x288 with 1 Axes>"
      ]
     },
     "metadata": {
      "needs_background": "light"
     },
     "output_type": "display_data"
    }
   ],
   "source": [
    "s, loc, scale = sp.stats.lognorm.fit(main_df['refactoring_perc_time_taken'], floc=0)\n",
    "estimated_mu = np.log(scale)\n",
    "estimated_sigma = s\n",
    "\n",
    "\n",
    "plt.hist(main_df['refactoring_perc_time_taken'], bins=15, density=True, color='c', alpha=0.75)\n",
    "xmin = main_df['refactoring_perc_time_taken'].min()\n",
    "xmin = 0\n",
    "xmax = main_df['refactoring_perc_time_taken'].max()\n",
    "x = np.linspace(xmin, xmax, 100)\n",
    "pdf = sp.stats.lognorm.pdf(x, s, scale=scale)\n",
    "plt.plot(x, pdf, 'k')"
   ]
  },
  {
   "cell_type": "code",
   "execution_count": 815,
   "metadata": {},
   "outputs": [
    {
     "data": {
      "text/plain": [
       "[<matplotlib.lines.Line2D at 0x1f7eff28cf8>]"
      ]
     },
     "execution_count": 815,
     "metadata": {},
     "output_type": "execute_result"
    },
    {
     "data": {
      "image/png": "[encoded data removed]",
      "text/plain": [
       "<Figure size 432x288 with 1 Axes>"
      ]
     },
     "metadata": {
      "needs_background": "light"
     },
     "output_type": "display_data"
    }
   ],
   "source": [
    "s, loc, scale = sp.stats.lognorm.fit(main_df['refactoring_perc_time_taken'], floc=0)\n",
    "estimated_mu = np.log(scale)\n",
    "estimated_sigma = s\n",
    "\n",
    "\n",
    "plt.hist(main_df['refactoring_perc_time_taken'], bins=40, density=True, color='c', alpha=0.75)\n",
    "xmin = main_df['refactoring_perc_time_taken'].min()\n",
    "xmin = 0\n",
    "xmax = main_df['refactoring_perc_time_taken'].max()\n",
    "x = np.linspace(xmin, xmax, 100)\n",
    "pdf = sp.stats.lognorm.pdf(x, s, scale=scale)\n",
    "plt.plot(x, pdf, 'k')"
   ]
  },
  {
   "cell_type": "code",
   "execution_count": 816,
   "metadata": {},
   "outputs": [
    {
     "data": {
      "text/plain": [
       "[<matplotlib.lines.Line2D at 0x1f7f00034a8>]"
      ]
     },
     "execution_count": 816,
     "metadata": {},
     "output_type": "execute_result"
    },
    {
     "data": {
      "image/png": "[encoded data removed]",
      "text/plain": [
       "<Figure size 432x288 with 1 Axes>"
      ]
     },
     "metadata": {
      "needs_background": "light"
     },
     "output_type": "display_data"
    }
   ],
   "source": [
    "logdata = np.log(main_df['refactoring_perc_time_taken'])\n",
    "plt.hist(logdata, bins=10, density=True, color='c', alpha=0.75)\n",
    "xmin = logdata.min()\n",
    "xmax = logdata.max()\n",
    "x = np.linspace(xmin, xmax, 100)\n",
    "pdf = sp.stats.norm.pdf(x, loc=estimated_mu, scale=estimated_sigma)\n",
    "plt.plot(x, pdf, 'k')"
   ]
  },
  {
   "cell_type": "code",
   "execution_count": 817,
   "metadata": {},
   "outputs": [
    {
     "data": {
      "text/plain": [
       "263"
      ]
     },
     "execution_count": 817,
     "metadata": {},
     "output_type": "execute_result"
    }
   ],
   "source": [
    "len(main_df)"
   ]
  },
  {
   "cell_type": "code",
   "execution_count": 818,
   "metadata": {},
   "outputs": [],
   "source": [
    "main_df.to_csv('test_effort_model.csv', index=False)"
   ]
  },
  {
   "cell_type": "markdown",
   "metadata": {},
   "source": [
    "## EDA (Run only if absolutely necessary on minimum features)"
   ]
  },
  {
   "cell_type": "code",
   "execution_count": 819,
   "metadata": {
    "scrolled": false
   },
   "outputs": [],
   "source": [
    "#from pandas_profiling import ProfileReport\n",
    "\n",
    "#profile = ProfileReport(main_df, title=\"Pandas Profiling Report\",explorative=True)\n",
    "#profile"
   ]
  },
  {
   "cell_type": "code",
   "execution_count": 820,
   "metadata": {},
   "outputs": [
    {
     "name": "stdout",
     "output_type": "stream",
     "text": [
      "kmean_label\n",
      "time_taken_mean\n",
      "time_taken_min\n",
      "time_taken_max\n",
      "time_taken_q10\n",
      "time_taken_q20\n",
      "time_taken_q25\n",
      "time_taken_q30\n",
      "time_taken_q40\n",
      "time_taken_q50\n",
      "time_taken_q60\n",
      "time_taken_q70\n",
      "time_taken_q75\n",
      "time_taken_q80\n",
      "time_taken_q90\n",
      "sha\n",
      "name\n",
      "email\n",
      "date\n",
      "login\n",
      "message\n",
      "parent_sha\n",
      "parent_date\n",
      "time_taken\n",
      "contains_refactoring\n",
      "project_name\n",
      "commit_compared_with\n",
      "cbo_mean\n",
      "cbo_min\n",
      "cbo_max\n",
      "cbo_std\n",
      "wmc_mean\n",
      "wmc_min\n",
      "wmc_max\n",
      "wmc_std\n",
      "dit_mean\n",
      "dit_min\n",
      "dit_max\n",
      "dit_std\n",
      "rfc_mean\n",
      "rfc_min\n",
      "rfc_max\n",
      "rfc_std\n",
      "lcom_mean\n",
      "lcom_min\n",
      "lcom_max\n",
      "lcom_std\n",
      "totalMethods_mean\n",
      "totalMethods_min\n",
      "totalMethods_max\n",
      "totalMethods_std\n",
      "staticMethods_mean\n",
      "staticMethods_min\n",
      "staticMethods_max\n",
      "staticMethods_std\n",
      "publicMethods_mean\n",
      "publicMethods_min\n",
      "publicMethods_max\n",
      "publicMethods_std\n",
      "privateMethods_mean\n",
      "privateMethods_min\n",
      "privateMethods_max\n",
      "privateMethods_std\n",
      "protectedMethods_mean\n",
      "protectedMethods_min\n",
      "protectedMethods_max\n",
      "protectedMethods_std\n",
      "defaultMethods_mean\n",
      "defaultMethods_min\n",
      "defaultMethods_max\n",
      "defaultMethods_std\n",
      "abstractMethods_mean\n",
      "abstractMethods_min\n",
      "abstractMethods_max\n",
      "abstractMethods_std\n",
      "finalMethods_mean\n",
      "finalMethods_min\n",
      "finalMethods_max\n",
      "finalMethods_std\n",
      "synchronizedMethods_mean\n",
      "synchronizedMethods_min\n",
      "synchronizedMethods_max\n",
      "synchronizedMethods_std\n",
      "totalFields_mean\n",
      "totalFields_min\n",
      "totalFields_max\n",
      "totalFields_std\n",
      "staticFields_mean\n",
      "staticFields_min\n",
      "staticFields_max\n",
      "staticFields_std\n",
      "publicFields_mean\n",
      "publicFields_min\n",
      "publicFields_max\n",
      "publicFields_std\n",
      "privateFields_mean\n",
      "privateFields_min\n",
      "privateFields_max\n",
      "privateFields_std\n",
      "protectedFields_mean\n",
      "protectedFields_min\n",
      "protectedFields_max\n",
      "protectedFields_std\n",
      "defaultFields_mean\n",
      "defaultFields_min\n",
      "defaultFields_max\n",
      "defaultFields_std\n",
      "finalFields_mean\n",
      "finalFields_min\n",
      "finalFields_max\n",
      "finalFields_std\n",
      "synchronizedFields_mean\n",
      "synchronizedFields_min\n",
      "synchronizedFields_max\n",
      "synchronizedFields_std\n",
      "nosi_mean\n",
      "nosi_min\n",
      "nosi_max\n",
      "nosi_std\n",
      "loc_mean\n",
      "loc_min\n",
      "loc_max\n",
      "loc_std\n",
      "returnQty_mean\n",
      "returnQty_min\n",
      "returnQty_max\n",
      "returnQty_std\n",
      "loopQty_mean\n",
      "loopQty_min\n",
      "loopQty_max\n",
      "loopQty_std\n",
      "comparisonsQty_mean\n",
      "comparisonsQty_min\n",
      "comparisonsQty_max\n",
      "comparisonsQty_std\n",
      "tryCatchQty_mean\n",
      "tryCatchQty_min\n",
      "tryCatchQty_max\n",
      "tryCatchQty_std\n",
      "parenthesizedExpsQty_mean\n",
      "parenthesizedExpsQty_min\n",
      "parenthesizedExpsQty_max\n",
      "parenthesizedExpsQty_std\n",
      "stringLiteralsQty_mean\n",
      "stringLiteralsQty_min\n",
      "stringLiteralsQty_max\n",
      "stringLiteralsQty_std\n",
      "numbersQty_mean\n",
      "numbersQty_min\n",
      "numbersQty_max\n",
      "numbersQty_std\n",
      "assignmentsQty_mean\n",
      "assignmentsQty_min\n",
      "assignmentsQty_max\n",
      "assignmentsQty_std\n",
      "mathOperationsQty_mean\n",
      "mathOperationsQty_min\n",
      "mathOperationsQty_max\n",
      "mathOperationsQty_std\n",
      "variablesQty_mean\n",
      "variablesQty_min\n",
      "variablesQty_max\n",
      "variablesQty_std\n",
      "maxNestedBlocks_mean\n",
      "maxNestedBlocks_min\n",
      "maxNestedBlocks_max\n",
      "maxNestedBlocks_std\n",
      "anonymousClassesQty_mean\n",
      "anonymousClassesQty_min\n",
      "anonymousClassesQty_max\n",
      "anonymousClassesQty_std\n",
      "subClassesQty_mean\n",
      "subClassesQty_min\n",
      "subClassesQty_max\n",
      "subClassesQty_std\n",
      "lambdasQty_mean\n",
      "lambdasQty_min\n",
      "lambdasQty_max\n",
      "lambdasQty_std\n",
      "uniqueWordsQty_mean\n",
      "uniqueWordsQty_min\n",
      "uniqueWordsQty_max\n",
      "uniqueWordsQty_std\n",
      "modifiers_mean\n",
      "modifiers_min\n",
      "modifiers_max\n",
      "modifiers_std\n",
      "num_dependency_mean\n",
      "num_dependency_min\n",
      "num_dependency_max\n",
      "num_dependency_std\n",
      "num_line_affected_mean\n",
      "num_line_affected_min\n",
      "num_line_affected_max\n",
      "num_line_affected_std\n",
      "actual_num_of_classes_touched_mean\n",
      "actual_num_of_classes_touched_min\n",
      "actual_num_of_classes_touched_max\n",
      "actual_num_of_classes_touched_std\n",
      "commit_line_changed\n",
      "refactoring_perc\n",
      "refactoring_perc_time_taken\n",
      "cocomoII_time_taken\n",
      "geneticP_time_taken\n",
      "softwareMaintenance_time_taken\n",
      "fuzzy_time_taken\n",
      "time_taken_final\n"
     ]
    }
   ],
   "source": [
    "for columns in main_df.columns:\n",
    "    print(columns)"
   ]
  },
  {
   "cell_type": "markdown",
   "metadata": {},
   "source": [
    "### Only taking mean for num_dependency and num_line_affected since there is only one"
   ]
  },
  {
   "cell_type": "code",
   "execution_count": 821,
   "metadata": {},
   "outputs": [],
   "source": [
    "final_col = []\n",
    "column_to_skip = ['sha',\n",
    "'name','email','login',\n",
    "'date','message',\n",
    "'parent_sha','parent_date',\n",
    "'time_taken','contains_refactoring',\n",
    "'kmean_label','time_taken_mean',\n",
    "'time_taken_min',\n",
    "'time_taken_max',\n",
    "'time_taken_q10',\n",
    "'time_taken_q20',\n",
    "'time_taken_q25',\n",
    "'time_taken_q30',\n",
    "'time_taken_q40',\n",
    "'time_taken_q50',\n",
    "'time_taken_q60',\n",
    "'time_taken_q70',\n",
    "'time_taken_q75',\n",
    "'time_taken_q80',\n",
    "'time_taken_q90',\n",
    "'project_name','commit_compared_with',\n",
    "'actual_num_of_classes_touched_mean',\n",
    " 'actual_num_of_classes_touched_min',\n",
    " 'actual_num_of_classes_touched_max',\n",
    " 'actual_num_of_classes_touched_std',\n",
    "'num_dependency_min',\n",
    "'num_dependency_max',\n",
    "'num_dependency_std',\n",
    "'num_line_affected_min',\n",
    "'num_line_affected_max',\n",
    "'num_line_affected_std', 'time_taken_final',\n",
    "'commit_line_changed',\n",
    "'refactoring_perc',\n",
    " 'cocomoII_time_taken',\n",
    "'geneticP_time_taken',\n",
    "'softwareMaintenance_time_taken',\n",
    "'fuzzy_time_taken',\n",
    "'time_taken_final'\n",
    " ]\n",
    "for element in main_df.columns:\n",
    "    #print(\"'\" + element + \"',\")\n",
    "    if element not in column_to_skip:\n",
    "        final_col.append(element)"
   ]
  },
  {
   "cell_type": "code",
   "execution_count": 822,
   "metadata": {},
   "outputs": [
    {
     "data": {
      "text/plain": [
       "['cbo_mean',\n",
       " 'cbo_min',\n",
       " 'cbo_max',\n",
       " 'cbo_std',\n",
       " 'wmc_mean',\n",
       " 'wmc_min',\n",
       " 'wmc_max',\n",
       " 'wmc_std',\n",
       " 'dit_mean',\n",
       " 'dit_min',\n",
       " 'dit_max',\n",
       " 'dit_std',\n",
       " 'rfc_mean',\n",
       " 'rfc_min',\n",
       " 'rfc_max',\n",
       " 'rfc_std',\n",
       " 'lcom_mean',\n",
       " 'lcom_min',\n",
       " 'lcom_max',\n",
       " 'lcom_std',\n",
       " 'totalMethods_mean',\n",
       " 'totalMethods_min',\n",
       " 'totalMethods_max',\n",
       " 'totalMethods_std',\n",
       " 'staticMethods_mean',\n",
       " 'staticMethods_min',\n",
       " 'staticMethods_max',\n",
       " 'staticMethods_std',\n",
       " 'publicMethods_mean',\n",
       " 'publicMethods_min',\n",
       " 'publicMethods_max',\n",
       " 'publicMethods_std',\n",
       " 'privateMethods_mean',\n",
       " 'privateMethods_min',\n",
       " 'privateMethods_max',\n",
       " 'privateMethods_std',\n",
       " 'protectedMethods_mean',\n",
       " 'protectedMethods_min',\n",
       " 'protectedMethods_max',\n",
       " 'protectedMethods_std',\n",
       " 'defaultMethods_mean',\n",
       " 'defaultMethods_min',\n",
       " 'defaultMethods_max',\n",
       " 'defaultMethods_std',\n",
       " 'abstractMethods_mean',\n",
       " 'abstractMethods_min',\n",
       " 'abstractMethods_max',\n",
       " 'abstractMethods_std',\n",
       " 'finalMethods_mean',\n",
       " 'finalMethods_min',\n",
       " 'finalMethods_max',\n",
       " 'finalMethods_std',\n",
       " 'synchronizedMethods_mean',\n",
       " 'synchronizedMethods_min',\n",
       " 'synchronizedMethods_max',\n",
       " 'synchronizedMethods_std',\n",
       " 'totalFields_mean',\n",
       " 'totalFields_min',\n",
       " 'totalFields_max',\n",
       " 'totalFields_std',\n",
       " 'staticFields_mean',\n",
       " 'staticFields_min',\n",
       " 'staticFields_max',\n",
       " 'staticFields_std',\n",
       " 'publicFields_mean',\n",
       " 'publicFields_min',\n",
       " 'publicFields_max',\n",
       " 'publicFields_std',\n",
       " 'privateFields_mean',\n",
       " 'privateFields_min',\n",
       " 'privateFields_max',\n",
       " 'privateFields_std',\n",
       " 'protectedFields_mean',\n",
       " 'protectedFields_min',\n",
       " 'protectedFields_max',\n",
       " 'protectedFields_std',\n",
       " 'defaultFields_mean',\n",
       " 'defaultFields_min',\n",
       " 'defaultFields_max',\n",
       " 'defaultFields_std',\n",
       " 'finalFields_mean',\n",
       " 'finalFields_min',\n",
       " 'finalFields_max',\n",
       " 'finalFields_std',\n",
       " 'synchronizedFields_mean',\n",
       " 'synchronizedFields_min',\n",
       " 'synchronizedFields_max',\n",
       " 'synchronizedFields_std',\n",
       " 'nosi_mean',\n",
       " 'nosi_min',\n",
       " 'nosi_max',\n",
       " 'nosi_std',\n",
       " 'loc_mean',\n",
       " 'loc_min',\n",
       " 'loc_max',\n",
       " 'loc_std',\n",
       " 'returnQty_mean',\n",
       " 'returnQty_min',\n",
       " 'returnQty_max',\n",
       " 'returnQty_std',\n",
       " 'loopQty_mean',\n",
       " 'loopQty_min',\n",
       " 'loopQty_max',\n",
       " 'loopQty_std',\n",
       " 'comparisonsQty_mean',\n",
       " 'comparisonsQty_min',\n",
       " 'comparisonsQty_max',\n",
       " 'comparisonsQty_std',\n",
       " 'tryCatchQty_mean',\n",
       " 'tryCatchQty_min',\n",
       " 'tryCatchQty_max',\n",
       " 'tryCatchQty_std',\n",
       " 'parenthesizedExpsQty_mean',\n",
       " 'parenthesizedExpsQty_min',\n",
       " 'parenthesizedExpsQty_max',\n",
       " 'parenthesizedExpsQty_std',\n",
       " 'stringLiteralsQty_mean',\n",
       " 'stringLiteralsQty_min',\n",
       " 'stringLiteralsQty_max',\n",
       " 'stringLiteralsQty_std',\n",
       " 'numbersQty_mean',\n",
       " 'numbersQty_min',\n",
       " 'numbersQty_max',\n",
       " 'numbersQty_std',\n",
       " 'assignmentsQty_mean',\n",
       " 'assignmentsQty_min',\n",
       " 'assignmentsQty_max',\n",
       " 'assignmentsQty_std',\n",
       " 'mathOperationsQty_mean',\n",
       " 'mathOperationsQty_min',\n",
       " 'mathOperationsQty_max',\n",
       " 'mathOperationsQty_std',\n",
       " 'variablesQty_mean',\n",
       " 'variablesQty_min',\n",
       " 'variablesQty_max',\n",
       " 'variablesQty_std',\n",
       " 'maxNestedBlocks_mean',\n",
       " 'maxNestedBlocks_min',\n",
       " 'maxNestedBlocks_max',\n",
       " 'maxNestedBlocks_std',\n",
       " 'anonymousClassesQty_mean',\n",
       " 'anonymousClassesQty_min',\n",
       " 'anonymousClassesQty_max',\n",
       " 'anonymousClassesQty_std',\n",
       " 'subClassesQty_mean',\n",
       " 'subClassesQty_min',\n",
       " 'subClassesQty_max',\n",
       " 'subClassesQty_std',\n",
       " 'lambdasQty_mean',\n",
       " 'lambdasQty_min',\n",
       " 'lambdasQty_max',\n",
       " 'lambdasQty_std',\n",
       " 'uniqueWordsQty_mean',\n",
       " 'uniqueWordsQty_min',\n",
       " 'uniqueWordsQty_max',\n",
       " 'uniqueWordsQty_std',\n",
       " 'modifiers_mean',\n",
       " 'modifiers_min',\n",
       " 'modifiers_max',\n",
       " 'modifiers_std',\n",
       " 'num_dependency_mean',\n",
       " 'num_line_affected_mean',\n",
       " 'refactoring_perc_time_taken']"
      ]
     },
     "execution_count": 822,
     "metadata": {},
     "output_type": "execute_result"
    }
   ],
   "source": [
    "final_col"
   ]
  },
  {
   "cell_type": "code",
   "execution_count": 823,
   "metadata": {},
   "outputs": [],
   "source": [
    "X_col = final_col.copy()\n",
    "X_col.remove('refactoring_perc_time_taken')\n",
    "Y_col = ['refactoring_perc_time_taken']\n",
    "\n",
    "X = main_df[X_col]\n",
    "y = main_df[Y_col]\n",
    "final_df = main_df[final_col]"
   ]
  },
  {
   "cell_type": "code",
   "execution_count": 824,
   "metadata": {},
   "outputs": [
    {
     "data": {
      "text/html": [
       "<div>\n",
       "<style scoped>\n",
       "    .dataframe tbody tr th:only-of-type {\n",
       "        vertical-align: middle;\n",
       "    }\n",
       "\n",
       "    .dataframe tbody tr th {\n",
       "        vertical-align: top;\n",
       "    }\n",
       "\n",
       "    .dataframe thead th {\n",
       "        text-align: right;\n",
       "    }\n",
       "</style>\n",
       "<table border=\"1\" class=\"dataframe\">\n",
       "  <thead>\n",
       "    <tr style=\"text-align: right;\">\n",
       "      <th></th>\n",
       "      <th>cbo_mean</th>\n",
       "      <th>cbo_min</th>\n",
       "      <th>cbo_max</th>\n",
       "      <th>cbo_std</th>\n",
       "      <th>wmc_mean</th>\n",
       "      <th>wmc_min</th>\n",
       "      <th>wmc_max</th>\n",
       "      <th>wmc_std</th>\n",
       "      <th>dit_mean</th>\n",
       "      <th>dit_min</th>\n",
       "      <th>...</th>\n",
       "      <th>uniqueWordsQty_mean</th>\n",
       "      <th>uniqueWordsQty_min</th>\n",
       "      <th>uniqueWordsQty_max</th>\n",
       "      <th>uniqueWordsQty_std</th>\n",
       "      <th>modifiers_mean</th>\n",
       "      <th>modifiers_min</th>\n",
       "      <th>modifiers_max</th>\n",
       "      <th>modifiers_std</th>\n",
       "      <th>num_dependency_mean</th>\n",
       "      <th>num_line_affected_mean</th>\n",
       "    </tr>\n",
       "  </thead>\n",
       "  <tbody>\n",
       "    <tr>\n",
       "      <th>0</th>\n",
       "      <td>11.000000</td>\n",
       "      <td>11.0</td>\n",
       "      <td>11.0</td>\n",
       "      <td>0.000000</td>\n",
       "      <td>8.000000</td>\n",
       "      <td>8.0</td>\n",
       "      <td>8.0</td>\n",
       "      <td>0.000000</td>\n",
       "      <td>2.000000</td>\n",
       "      <td>2.0</td>\n",
       "      <td>...</td>\n",
       "      <td>58.000000</td>\n",
       "      <td>58.0</td>\n",
       "      <td>58.0</td>\n",
       "      <td>0.000000</td>\n",
       "      <td>17.000000</td>\n",
       "      <td>17.0</td>\n",
       "      <td>17.0</td>\n",
       "      <td>0.00000</td>\n",
       "      <td>85.000000</td>\n",
       "      <td>61.000000</td>\n",
       "    </tr>\n",
       "    <tr>\n",
       "      <th>3</th>\n",
       "      <td>23.250000</td>\n",
       "      <td>5.0</td>\n",
       "      <td>63.0</td>\n",
       "      <td>20.780782</td>\n",
       "      <td>20.666667</td>\n",
       "      <td>4.0</td>\n",
       "      <td>64.0</td>\n",
       "      <td>21.993112</td>\n",
       "      <td>2.000000</td>\n",
       "      <td>1.0</td>\n",
       "      <td>...</td>\n",
       "      <td>121.333333</td>\n",
       "      <td>37.0</td>\n",
       "      <td>320.0</td>\n",
       "      <td>98.919006</td>\n",
       "      <td>1.000000</td>\n",
       "      <td>1.0</td>\n",
       "      <td>1.0</td>\n",
       "      <td>0.00000</td>\n",
       "      <td>57.583333</td>\n",
       "      <td>222.666667</td>\n",
       "    </tr>\n",
       "    <tr>\n",
       "      <th>9</th>\n",
       "      <td>38.000000</td>\n",
       "      <td>38.0</td>\n",
       "      <td>38.0</td>\n",
       "      <td>0.000000</td>\n",
       "      <td>57.000000</td>\n",
       "      <td>57.0</td>\n",
       "      <td>57.0</td>\n",
       "      <td>0.000000</td>\n",
       "      <td>1.000000</td>\n",
       "      <td>1.0</td>\n",
       "      <td>...</td>\n",
       "      <td>279.000000</td>\n",
       "      <td>279.0</td>\n",
       "      <td>279.0</td>\n",
       "      <td>0.000000</td>\n",
       "      <td>17.000000</td>\n",
       "      <td>17.0</td>\n",
       "      <td>17.0</td>\n",
       "      <td>0.00000</td>\n",
       "      <td>322.000000</td>\n",
       "      <td>764.000000</td>\n",
       "    </tr>\n",
       "    <tr>\n",
       "      <th>11</th>\n",
       "      <td>4.000000</td>\n",
       "      <td>4.0</td>\n",
       "      <td>4.0</td>\n",
       "      <td>0.000000</td>\n",
       "      <td>15.000000</td>\n",
       "      <td>15.0</td>\n",
       "      <td>15.0</td>\n",
       "      <td>0.000000</td>\n",
       "      <td>1.000000</td>\n",
       "      <td>1.0</td>\n",
       "      <td>...</td>\n",
       "      <td>108.000000</td>\n",
       "      <td>108.0</td>\n",
       "      <td>108.0</td>\n",
       "      <td>0.000000</td>\n",
       "      <td>1.000000</td>\n",
       "      <td>1.0</td>\n",
       "      <td>1.0</td>\n",
       "      <td>0.00000</td>\n",
       "      <td>371.000000</td>\n",
       "      <td>115.000000</td>\n",
       "    </tr>\n",
       "    <tr>\n",
       "      <th>12</th>\n",
       "      <td>15.142857</td>\n",
       "      <td>9.0</td>\n",
       "      <td>23.0</td>\n",
       "      <td>4.740906</td>\n",
       "      <td>9.714286</td>\n",
       "      <td>3.0</td>\n",
       "      <td>41.0</td>\n",
       "      <td>13.960830</td>\n",
       "      <td>1.714286</td>\n",
       "      <td>1.0</td>\n",
       "      <td>...</td>\n",
       "      <td>78.428571</td>\n",
       "      <td>39.0</td>\n",
       "      <td>162.0</td>\n",
       "      <td>51.980308</td>\n",
       "      <td>7.857143</td>\n",
       "      <td>1.0</td>\n",
       "      <td>17.0</td>\n",
       "      <td>8.55236</td>\n",
       "      <td>46.857143</td>\n",
       "      <td>103.000000</td>\n",
       "    </tr>\n",
       "  </tbody>\n",
       "</table>\n",
       "<p>5 rows × 162 columns</p>\n",
       "</div>"
      ],
      "text/plain": [
       "     cbo_mean  cbo_min  cbo_max    cbo_std   wmc_mean  wmc_min  wmc_max  \\\n",
       "0   11.000000     11.0     11.0   0.000000   8.000000      8.0      8.0   \n",
       "3   23.250000      5.0     63.0  20.780782  20.666667      4.0     64.0   \n",
       "9   38.000000     38.0     38.0   0.000000  57.000000     57.0     57.0   \n",
       "11   4.000000      4.0      4.0   0.000000  15.000000     15.0     15.0   \n",
       "12  15.142857      9.0     23.0   4.740906   9.714286      3.0     41.0   \n",
       "\n",
       "      wmc_std  dit_mean  dit_min  ...  uniqueWordsQty_mean  \\\n",
       "0    0.000000  2.000000      2.0  ...            58.000000   \n",
       "3   21.993112  2.000000      1.0  ...           121.333333   \n",
       "9    0.000000  1.000000      1.0  ...           279.000000   \n",
       "11   0.000000  1.000000      1.0  ...           108.000000   \n",
       "12  13.960830  1.714286      1.0  ...            78.428571   \n",
       "\n",
       "    uniqueWordsQty_min  uniqueWordsQty_max  uniqueWordsQty_std  \\\n",
       "0                 58.0                58.0            0.000000   \n",
       "3                 37.0               320.0           98.919006   \n",
       "9                279.0               279.0            0.000000   \n",
       "11               108.0               108.0            0.000000   \n",
       "12                39.0               162.0           51.980308   \n",
       "\n",
       "    modifiers_mean  modifiers_min  modifiers_max  modifiers_std  \\\n",
       "0        17.000000           17.0           17.0        0.00000   \n",
       "3         1.000000            1.0            1.0        0.00000   \n",
       "9        17.000000           17.0           17.0        0.00000   \n",
       "11        1.000000            1.0            1.0        0.00000   \n",
       "12        7.857143            1.0           17.0        8.55236   \n",
       "\n",
       "    num_dependency_mean  num_line_affected_mean  \n",
       "0             85.000000               61.000000  \n",
       "3             57.583333              222.666667  \n",
       "9            322.000000              764.000000  \n",
       "11           371.000000              115.000000  \n",
       "12            46.857143              103.000000  \n",
       "\n",
       "[5 rows x 162 columns]"
      ]
     },
     "execution_count": 824,
     "metadata": {},
     "output_type": "execute_result"
    }
   ],
   "source": [
    "X.head()"
   ]
  },
  {
   "cell_type": "code",
   "execution_count": 825,
   "metadata": {},
   "outputs": [
    {
     "data": {
      "text/html": [
       "<div>\n",
       "<style scoped>\n",
       "    .dataframe tbody tr th:only-of-type {\n",
       "        vertical-align: middle;\n",
       "    }\n",
       "\n",
       "    .dataframe tbody tr th {\n",
       "        vertical-align: top;\n",
       "    }\n",
       "\n",
       "    .dataframe thead th {\n",
       "        text-align: right;\n",
       "    }\n",
       "</style>\n",
       "<table border=\"1\" class=\"dataframe\">\n",
       "  <thead>\n",
       "    <tr style=\"text-align: right;\">\n",
       "      <th></th>\n",
       "      <th>refactoring_perc_time_taken</th>\n",
       "    </tr>\n",
       "  </thead>\n",
       "  <tbody>\n",
       "    <tr>\n",
       "      <th>0</th>\n",
       "      <td>15.00000</td>\n",
       "    </tr>\n",
       "    <tr>\n",
       "      <th>3</th>\n",
       "      <td>3.71134</td>\n",
       "    </tr>\n",
       "    <tr>\n",
       "      <th>9</th>\n",
       "      <td>10.00000</td>\n",
       "    </tr>\n",
       "    <tr>\n",
       "      <th>11</th>\n",
       "      <td>9.48750</td>\n",
       "    </tr>\n",
       "    <tr>\n",
       "      <th>12</th>\n",
       "      <td>2.00000</td>\n",
       "    </tr>\n",
       "  </tbody>\n",
       "</table>\n",
       "</div>"
      ],
      "text/plain": [
       "    refactoring_perc_time_taken\n",
       "0                      15.00000\n",
       "3                       3.71134\n",
       "9                      10.00000\n",
       "11                      9.48750\n",
       "12                      2.00000"
      ]
     },
     "execution_count": 825,
     "metadata": {},
     "output_type": "execute_result"
    }
   ],
   "source": [
    "y.head()"
   ]
  },
  {
   "cell_type": "markdown",
   "metadata": {},
   "source": [
    "## Feature Engineering"
   ]
  },
  {
   "cell_type": "code",
   "execution_count": 826,
   "metadata": {},
   "outputs": [],
   "source": [
    "from sklearn.preprocessing import MinMaxScaler\n",
    "\n",
    "def standardize_function(X_train):\n",
    "\n",
    "    df_scaled = pd.DataFrame(MinMaxScaler().fit_transform(X_train), columns = X_train.columns)\n",
    "\n",
    "    return df_scaled\n",
    "\n",
    "X = standardize_function(X)"
   ]
  },
  {
   "cell_type": "code",
   "execution_count": 827,
   "metadata": {},
   "outputs": [],
   "source": [
    "## Normalization\n",
    "#from sklearn.preprocessing import StandardScaler\n",
    "#X = StandardScaler().fit_transform(X)\n",
    "#X =(X - X.mean()) / X.std()"
   ]
  },
  {
   "cell_type": "code",
   "execution_count": 828,
   "metadata": {},
   "outputs": [
    {
     "data": {
      "text/html": [
       "<div>\n",
       "<style scoped>\n",
       "    .dataframe tbody tr th:only-of-type {\n",
       "        vertical-align: middle;\n",
       "    }\n",
       "\n",
       "    .dataframe tbody tr th {\n",
       "        vertical-align: top;\n",
       "    }\n",
       "\n",
       "    .dataframe thead th {\n",
       "        text-align: right;\n",
       "    }\n",
       "</style>\n",
       "<table border=\"1\" class=\"dataframe\">\n",
       "  <thead>\n",
       "    <tr style=\"text-align: right;\">\n",
       "      <th></th>\n",
       "      <th>cbo_mean</th>\n",
       "      <th>cbo_min</th>\n",
       "      <th>cbo_max</th>\n",
       "      <th>cbo_std</th>\n",
       "      <th>wmc_mean</th>\n",
       "      <th>wmc_min</th>\n",
       "      <th>wmc_max</th>\n",
       "      <th>wmc_std</th>\n",
       "      <th>dit_mean</th>\n",
       "      <th>dit_min</th>\n",
       "      <th>...</th>\n",
       "      <th>uniqueWordsQty_mean</th>\n",
       "      <th>uniqueWordsQty_min</th>\n",
       "      <th>uniqueWordsQty_max</th>\n",
       "      <th>uniqueWordsQty_std</th>\n",
       "      <th>modifiers_mean</th>\n",
       "      <th>modifiers_min</th>\n",
       "      <th>modifiers_max</th>\n",
       "      <th>modifiers_std</th>\n",
       "      <th>num_dependency_mean</th>\n",
       "      <th>num_line_affected_mean</th>\n",
       "    </tr>\n",
       "  </thead>\n",
       "  <tbody>\n",
       "    <tr>\n",
       "      <th>0</th>\n",
       "      <td>0.082090</td>\n",
       "      <td>0.082090</td>\n",
       "      <td>0.082090</td>\n",
       "      <td>0.000000</td>\n",
       "      <td>0.029412</td>\n",
       "      <td>0.029630</td>\n",
       "      <td>0.029197</td>\n",
       "      <td>0.000000</td>\n",
       "      <td>0.090909</td>\n",
       "      <td>0.090909</td>\n",
       "      <td>...</td>\n",
       "      <td>0.056452</td>\n",
       "      <td>0.066210</td>\n",
       "      <td>0.056387</td>\n",
       "      <td>0.000000</td>\n",
       "      <td>0.016585</td>\n",
       "      <td>0.016585</td>\n",
       "      <td>0.016585</td>\n",
       "      <td>0.000000</td>\n",
       "      <td>0.090381</td>\n",
       "      <td>0.023315</td>\n",
       "    </tr>\n",
       "    <tr>\n",
       "      <th>1</th>\n",
       "      <td>0.173507</td>\n",
       "      <td>0.037313</td>\n",
       "      <td>0.470149</td>\n",
       "      <td>0.344912</td>\n",
       "      <td>0.075980</td>\n",
       "      <td>0.014815</td>\n",
       "      <td>0.233577</td>\n",
       "      <td>0.208745</td>\n",
       "      <td>0.090909</td>\n",
       "      <td>0.000000</td>\n",
       "      <td>...</td>\n",
       "      <td>0.129416</td>\n",
       "      <td>0.042237</td>\n",
       "      <td>0.357883</td>\n",
       "      <td>0.453770</td>\n",
       "      <td>0.000976</td>\n",
       "      <td>0.000976</td>\n",
       "      <td>0.000976</td>\n",
       "      <td>0.000000</td>\n",
       "      <td>0.060526</td>\n",
       "      <td>0.091847</td>\n",
       "    </tr>\n",
       "    <tr>\n",
       "      <th>2</th>\n",
       "      <td>0.283582</td>\n",
       "      <td>0.283582</td>\n",
       "      <td>0.283582</td>\n",
       "      <td>0.000000</td>\n",
       "      <td>0.209559</td>\n",
       "      <td>0.211111</td>\n",
       "      <td>0.208029</td>\n",
       "      <td>0.000000</td>\n",
       "      <td>0.000000</td>\n",
       "      <td>0.000000</td>\n",
       "      <td>...</td>\n",
       "      <td>0.311060</td>\n",
       "      <td>0.318493</td>\n",
       "      <td>0.310702</td>\n",
       "      <td>0.000000</td>\n",
       "      <td>0.016585</td>\n",
       "      <td>0.016585</td>\n",
       "      <td>0.016585</td>\n",
       "      <td>0.000000</td>\n",
       "      <td>0.348457</td>\n",
       "      <td>0.321323</td>\n",
       "    </tr>\n",
       "    <tr>\n",
       "      <th>3</th>\n",
       "      <td>0.029851</td>\n",
       "      <td>0.029851</td>\n",
       "      <td>0.029851</td>\n",
       "      <td>0.000000</td>\n",
       "      <td>0.055147</td>\n",
       "      <td>0.055556</td>\n",
       "      <td>0.054745</td>\n",
       "      <td>0.000000</td>\n",
       "      <td>0.000000</td>\n",
       "      <td>0.000000</td>\n",
       "      <td>...</td>\n",
       "      <td>0.114055</td>\n",
       "      <td>0.123288</td>\n",
       "      <td>0.113924</td>\n",
       "      <td>0.000000</td>\n",
       "      <td>0.000976</td>\n",
       "      <td>0.000976</td>\n",
       "      <td>0.000976</td>\n",
       "      <td>0.000000</td>\n",
       "      <td>0.401815</td>\n",
       "      <td>0.046206</td>\n",
       "    </tr>\n",
       "    <tr>\n",
       "      <th>4</th>\n",
       "      <td>0.113006</td>\n",
       "      <td>0.067164</td>\n",
       "      <td>0.171642</td>\n",
       "      <td>0.078688</td>\n",
       "      <td>0.035714</td>\n",
       "      <td>0.011111</td>\n",
       "      <td>0.149635</td>\n",
       "      <td>0.132507</td>\n",
       "      <td>0.064935</td>\n",
       "      <td>0.000000</td>\n",
       "      <td>...</td>\n",
       "      <td>0.079987</td>\n",
       "      <td>0.044521</td>\n",
       "      <td>0.176064</td>\n",
       "      <td>0.238449</td>\n",
       "      <td>0.007666</td>\n",
       "      <td>0.000976</td>\n",
       "      <td>0.016585</td>\n",
       "      <td>0.015248</td>\n",
       "      <td>0.048846</td>\n",
       "      <td>0.041119</td>\n",
       "    </tr>\n",
       "    <tr>\n",
       "      <th>...</th>\n",
       "      <td>...</td>\n",
       "      <td>...</td>\n",
       "      <td>...</td>\n",
       "      <td>...</td>\n",
       "      <td>...</td>\n",
       "      <td>...</td>\n",
       "      <td>...</td>\n",
       "      <td>...</td>\n",
       "      <td>...</td>\n",
       "      <td>...</td>\n",
       "      <td>...</td>\n",
       "      <td>...</td>\n",
       "      <td>...</td>\n",
       "      <td>...</td>\n",
       "      <td>...</td>\n",
       "      <td>...</td>\n",
       "      <td>...</td>\n",
       "      <td>...</td>\n",
       "      <td>...</td>\n",
       "      <td>...</td>\n",
       "      <td>...</td>\n",
       "    </tr>\n",
       "    <tr>\n",
       "      <th>258</th>\n",
       "      <td>0.082090</td>\n",
       "      <td>0.082090</td>\n",
       "      <td>0.082090</td>\n",
       "      <td>0.000000</td>\n",
       "      <td>0.113971</td>\n",
       "      <td>0.114815</td>\n",
       "      <td>0.113139</td>\n",
       "      <td>0.000000</td>\n",
       "      <td>0.000000</td>\n",
       "      <td>0.000000</td>\n",
       "      <td>...</td>\n",
       "      <td>0.107143</td>\n",
       "      <td>0.116438</td>\n",
       "      <td>0.107020</td>\n",
       "      <td>0.000000</td>\n",
       "      <td>0.000000</td>\n",
       "      <td>0.000000</td>\n",
       "      <td>0.000000</td>\n",
       "      <td>0.000000</td>\n",
       "      <td>0.067514</td>\n",
       "      <td>0.084782</td>\n",
       "    </tr>\n",
       "    <tr>\n",
       "      <th>259</th>\n",
       "      <td>0.093284</td>\n",
       "      <td>0.089552</td>\n",
       "      <td>0.097015</td>\n",
       "      <td>0.009583</td>\n",
       "      <td>0.112132</td>\n",
       "      <td>0.081481</td>\n",
       "      <td>0.142336</td>\n",
       "      <td>0.093157</td>\n",
       "      <td>0.045455</td>\n",
       "      <td>0.000000</td>\n",
       "      <td>...</td>\n",
       "      <td>0.221774</td>\n",
       "      <td>0.158676</td>\n",
       "      <td>0.276180</td>\n",
       "      <td>0.209799</td>\n",
       "      <td>0.000488</td>\n",
       "      <td>0.000000</td>\n",
       "      <td>0.000976</td>\n",
       "      <td>0.001029</td>\n",
       "      <td>0.048457</td>\n",
       "      <td>0.123145</td>\n",
       "    </tr>\n",
       "    <tr>\n",
       "      <th>260</th>\n",
       "      <td>0.052239</td>\n",
       "      <td>0.014925</td>\n",
       "      <td>0.119403</td>\n",
       "      <td>0.112264</td>\n",
       "      <td>0.041667</td>\n",
       "      <td>0.003704</td>\n",
       "      <td>0.127737</td>\n",
       "      <td>0.147803</td>\n",
       "      <td>0.181818</td>\n",
       "      <td>0.090909</td>\n",
       "      <td>...</td>\n",
       "      <td>0.025986</td>\n",
       "      <td>0.014840</td>\n",
       "      <td>0.070196</td>\n",
       "      <td>0.118808</td>\n",
       "      <td>0.000976</td>\n",
       "      <td>0.000976</td>\n",
       "      <td>0.000976</td>\n",
       "      <td>0.000000</td>\n",
       "      <td>0.138294</td>\n",
       "      <td>0.018511</td>\n",
       "    </tr>\n",
       "    <tr>\n",
       "      <th>261</th>\n",
       "      <td>0.029851</td>\n",
       "      <td>0.029851</td>\n",
       "      <td>0.029851</td>\n",
       "      <td>0.000000</td>\n",
       "      <td>0.010110</td>\n",
       "      <td>0.007407</td>\n",
       "      <td>0.010949</td>\n",
       "      <td>0.004746</td>\n",
       "      <td>0.090909</td>\n",
       "      <td>0.090909</td>\n",
       "      <td>...</td>\n",
       "      <td>0.027650</td>\n",
       "      <td>0.037671</td>\n",
       "      <td>0.027618</td>\n",
       "      <td>0.000000</td>\n",
       "      <td>0.000976</td>\n",
       "      <td>0.000976</td>\n",
       "      <td>0.000976</td>\n",
       "      <td>0.000000</td>\n",
       "      <td>0.044646</td>\n",
       "      <td>0.161933</td>\n",
       "    </tr>\n",
       "    <tr>\n",
       "      <th>262</th>\n",
       "      <td>0.119403</td>\n",
       "      <td>0.119403</td>\n",
       "      <td>0.119403</td>\n",
       "      <td>0.000000</td>\n",
       "      <td>0.044118</td>\n",
       "      <td>0.044444</td>\n",
       "      <td>0.043796</td>\n",
       "      <td>0.000000</td>\n",
       "      <td>0.000000</td>\n",
       "      <td>0.000000</td>\n",
       "      <td>...</td>\n",
       "      <td>0.047235</td>\n",
       "      <td>0.057078</td>\n",
       "      <td>0.047181</td>\n",
       "      <td>0.000000</td>\n",
       "      <td>0.000976</td>\n",
       "      <td>0.000976</td>\n",
       "      <td>0.000976</td>\n",
       "      <td>0.000000</td>\n",
       "      <td>0.032668</td>\n",
       "      <td>0.027554</td>\n",
       "    </tr>\n",
       "  </tbody>\n",
       "</table>\n",
       "<p>263 rows × 162 columns</p>\n",
       "</div>"
      ],
      "text/plain": [
       "     cbo_mean   cbo_min   cbo_max   cbo_std  wmc_mean   wmc_min   wmc_max  \\\n",
       "0    0.082090  0.082090  0.082090  0.000000  0.029412  0.029630  0.029197   \n",
       "1    0.173507  0.037313  0.470149  0.344912  0.075980  0.014815  0.233577   \n",
       "2    0.283582  0.283582  0.283582  0.000000  0.209559  0.211111  0.208029   \n",
       "3    0.029851  0.029851  0.029851  0.000000  0.055147  0.055556  0.054745   \n",
       "4    0.113006  0.067164  0.171642  0.078688  0.035714  0.011111  0.149635   \n",
       "..        ...       ...       ...       ...       ...       ...       ...   \n",
       "258  0.082090  0.082090  0.082090  0.000000  0.113971  0.114815  0.113139   \n",
       "259  0.093284  0.089552  0.097015  0.009583  0.112132  0.081481  0.142336   \n",
       "260  0.052239  0.014925  0.119403  0.112264  0.041667  0.003704  0.127737   \n",
       "261  0.029851  0.029851  0.029851  0.000000  0.010110  0.007407  0.010949   \n",
       "262  0.119403  0.119403  0.119403  0.000000  0.044118  0.044444  0.043796   \n",
       "\n",
       "      wmc_std  dit_mean   dit_min  ...  uniqueWordsQty_mean  \\\n",
       "0    0.000000  0.090909  0.090909  ...             0.056452   \n",
       "1    0.208745  0.090909  0.000000  ...             0.129416   \n",
       "2    0.000000  0.000000  0.000000  ...             0.311060   \n",
       "3    0.000000  0.000000  0.000000  ...             0.114055   \n",
       "4    0.132507  0.064935  0.000000  ...             0.079987   \n",
       "..        ...       ...       ...  ...                  ...   \n",
       "258  0.000000  0.000000  0.000000  ...             0.107143   \n",
       "259  0.093157  0.045455  0.000000  ...             0.221774   \n",
       "260  0.147803  0.181818  0.090909  ...             0.025986   \n",
       "261  0.004746  0.090909  0.090909  ...             0.027650   \n",
       "262  0.000000  0.000000  0.000000  ...             0.047235   \n",
       "\n",
       "     uniqueWordsQty_min  uniqueWordsQty_max  uniqueWordsQty_std  \\\n",
       "0              0.066210            0.056387            0.000000   \n",
       "1              0.042237            0.357883            0.453770   \n",
       "2              0.318493            0.310702            0.000000   \n",
       "3              0.123288            0.113924            0.000000   \n",
       "4              0.044521            0.176064            0.238449   \n",
       "..                  ...                 ...                 ...   \n",
       "258            0.116438            0.107020            0.000000   \n",
       "259            0.158676            0.276180            0.209799   \n",
       "260            0.014840            0.070196            0.118808   \n",
       "261            0.037671            0.027618            0.000000   \n",
       "262            0.057078            0.047181            0.000000   \n",
       "\n",
       "     modifiers_mean  modifiers_min  modifiers_max  modifiers_std  \\\n",
       "0          0.016585       0.016585       0.016585       0.000000   \n",
       "1          0.000976       0.000976       0.000976       0.000000   \n",
       "2          0.016585       0.016585       0.016585       0.000000   \n",
       "3          0.000976       0.000976       0.000976       0.000000   \n",
       "4          0.007666       0.000976       0.016585       0.015248   \n",
       "..              ...            ...            ...            ...   \n",
       "258        0.000000       0.000000       0.000000       0.000000   \n",
       "259        0.000488       0.000000       0.000976       0.001029   \n",
       "260        0.000976       0.000976       0.000976       0.000000   \n",
       "261        0.000976       0.000976       0.000976       0.000000   \n",
       "262        0.000976       0.000976       0.000976       0.000000   \n",
       "\n",
       "     num_dependency_mean  num_line_affected_mean  \n",
       "0               0.090381                0.023315  \n",
       "1               0.060526                0.091847  \n",
       "2               0.348457                0.321323  \n",
       "3               0.401815                0.046206  \n",
       "4               0.048846                0.041119  \n",
       "..                   ...                     ...  \n",
       "258             0.067514                0.084782  \n",
       "259             0.048457                0.123145  \n",
       "260             0.138294                0.018511  \n",
       "261             0.044646                0.161933  \n",
       "262             0.032668                0.027554  \n",
       "\n",
       "[263 rows x 162 columns]"
      ]
     },
     "execution_count": 828,
     "metadata": {},
     "output_type": "execute_result"
    }
   ],
   "source": [
    "X"
   ]
  },
  {
   "cell_type": "code",
   "execution_count": 829,
   "metadata": {},
   "outputs": [
    {
     "name": "stdout",
     "output_type": "stream",
     "text": [
      "[0.28579269 0.11116752 0.10080521 0.07444072 0.04602827 0.03375043\n",
      " 0.02853118 0.02553282 0.02313821 0.02137025 0.01749974 0.01523414\n",
      " 0.0143323  0.01368161 0.01292823 0.01105074 0.01062336 0.00972954\n",
      " 0.00933592 0.00844205 0.00807734 0.00767533 0.0075259  0.00705297\n",
      " 0.00667073 0.00628493 0.00584542 0.00570063 0.00526798 0.00503128\n",
      " 0.0045672  0.00411965 0.00370036 0.00351376 0.00312768 0.002876\n",
      " 0.0028621  0.002643   0.00252621 0.00234082]\n"
     ]
    },
    {
     "data": {
      "text/plain": [
       "[<matplotlib.lines.Line2D at 0x1f7f00930f0>]"
      ]
     },
     "execution_count": 829,
     "metadata": {},
     "output_type": "execute_result"
    },
    {
     "data": {
      "image/png": "[encoded data removed]",
      "text/plain": [
       "<Figure size 720x720 with 1 Axes>"
      ]
     },
     "metadata": {
      "needs_background": "light"
     },
     "output_type": "display_data"
    }
   ],
   "source": [
    "from sklearn.decomposition import PCA\n",
    "pca2 = PCA()\n",
    "pca2.fit(X) # fit the dataset into pca model\n",
    "\n",
    "print(pca.explained_variance_ratio_) # this attribute shows how much variance is explained by each of the seven individual component\n",
    "\n",
    "\n",
    "plt.figure(figsize= (10, 10)) # size of the chart(size of the vectors)\n",
    "cumulativeValue = pca2.explained_variance_ratio_.cumsum() # get the cumulative sum\n",
    "\n",
    "plt.plot(range(1,163), cumulativeValue, marker = 'o', linestyle=\"--\")"
   ]
  },
  {
   "cell_type": "code",
   "execution_count": 830,
   "metadata": {},
   "outputs": [],
   "source": [
    "from sklearn.decomposition import PCA\n",
    "\n",
    "pca = PCA(n_components=40)\n",
    "X = pca.fit_transform(X)\n"
   ]
  },
  {
   "cell_type": "code",
   "execution_count": 831,
   "metadata": {},
   "outputs": [
    {
     "data": {
      "text/plain": [
       "array([[-0.36958739, -0.14664479, -0.0590693 , ..., -0.04739205,\n",
       "         0.02044988, -0.01131443],\n",
       "       [ 0.64143072,  0.59123897,  1.44472565, ..., -0.02116651,\n",
       "         0.08641744,  0.00465009],\n",
       "       [ 1.7830786 , -0.37889614, -0.23713469, ...,  0.01489143,\n",
       "        -0.11661527,  0.0497018 ],\n",
       "       ...,\n",
       "       [-0.29477917,  0.10150106,  0.40967566, ...,  0.08657175,\n",
       "        -0.03523301, -0.00958971],\n",
       "       [-0.56356543, -0.21371304, -0.02933622, ..., -0.0099933 ,\n",
       "        -0.01227204,  0.02034417],\n",
       "       [-0.12080182, -0.06566057, -0.01801856, ...,  0.19831878,\n",
       "        -0.32218084,  0.378403  ]])"
      ]
     },
     "execution_count": 831,
     "metadata": {},
     "output_type": "execute_result"
    }
   ],
   "source": [
    "X"
   ]
  },
  {
   "cell_type": "code",
   "execution_count": 832,
   "metadata": {},
   "outputs": [],
   "source": [
    "X = pd.DataFrame(X)"
   ]
  },
  {
   "cell_type": "code",
   "execution_count": 833,
   "metadata": {},
   "outputs": [
    {
     "data": {
      "text/html": [
       "<div>\n",
       "<style scoped>\n",
       "    .dataframe tbody tr th:only-of-type {\n",
       "        vertical-align: middle;\n",
       "    }\n",
       "\n",
       "    .dataframe tbody tr th {\n",
       "        vertical-align: top;\n",
       "    }\n",
       "\n",
       "    .dataframe thead th {\n",
       "        text-align: right;\n",
       "    }\n",
       "</style>\n",
       "<table border=\"1\" class=\"dataframe\">\n",
       "  <thead>\n",
       "    <tr style=\"text-align: right;\">\n",
       "      <th></th>\n",
       "      <th>0</th>\n",
       "      <th>1</th>\n",
       "      <th>2</th>\n",
       "      <th>3</th>\n",
       "      <th>4</th>\n",
       "      <th>5</th>\n",
       "      <th>6</th>\n",
       "      <th>7</th>\n",
       "      <th>8</th>\n",
       "      <th>9</th>\n",
       "      <th>...</th>\n",
       "      <th>30</th>\n",
       "      <th>31</th>\n",
       "      <th>32</th>\n",
       "      <th>33</th>\n",
       "      <th>34</th>\n",
       "      <th>35</th>\n",
       "      <th>36</th>\n",
       "      <th>37</th>\n",
       "      <th>38</th>\n",
       "      <th>39</th>\n",
       "    </tr>\n",
       "  </thead>\n",
       "  <tbody>\n",
       "    <tr>\n",
       "      <th>0</th>\n",
       "      <td>-0.369587</td>\n",
       "      <td>-0.146645</td>\n",
       "      <td>-0.059069</td>\n",
       "      <td>0.142298</td>\n",
       "      <td>-0.186287</td>\n",
       "      <td>-0.016231</td>\n",
       "      <td>0.088987</td>\n",
       "      <td>0.038198</td>\n",
       "      <td>-0.056280</td>\n",
       "      <td>0.003022</td>\n",
       "      <td>...</td>\n",
       "      <td>0.030716</td>\n",
       "      <td>-0.061634</td>\n",
       "      <td>-0.054686</td>\n",
       "      <td>0.023481</td>\n",
       "      <td>0.053790</td>\n",
       "      <td>-0.012902</td>\n",
       "      <td>-0.046284</td>\n",
       "      <td>-0.047392</td>\n",
       "      <td>0.020450</td>\n",
       "      <td>-0.011314</td>\n",
       "    </tr>\n",
       "    <tr>\n",
       "      <th>1</th>\n",
       "      <td>0.641431</td>\n",
       "      <td>0.591239</td>\n",
       "      <td>1.444726</td>\n",
       "      <td>-0.063915</td>\n",
       "      <td>0.435441</td>\n",
       "      <td>-0.522784</td>\n",
       "      <td>0.124503</td>\n",
       "      <td>-0.253877</td>\n",
       "      <td>0.200225</td>\n",
       "      <td>0.326805</td>\n",
       "      <td>...</td>\n",
       "      <td>0.370541</td>\n",
       "      <td>0.127187</td>\n",
       "      <td>0.314624</td>\n",
       "      <td>-0.007809</td>\n",
       "      <td>-0.074782</td>\n",
       "      <td>0.212515</td>\n",
       "      <td>-0.180593</td>\n",
       "      <td>-0.021167</td>\n",
       "      <td>0.086417</td>\n",
       "      <td>0.004650</td>\n",
       "    </tr>\n",
       "    <tr>\n",
       "      <th>2</th>\n",
       "      <td>1.783079</td>\n",
       "      <td>-0.378896</td>\n",
       "      <td>-0.237135</td>\n",
       "      <td>0.234493</td>\n",
       "      <td>-0.622470</td>\n",
       "      <td>0.562071</td>\n",
       "      <td>-0.395407</td>\n",
       "      <td>-0.461056</td>\n",
       "      <td>1.143412</td>\n",
       "      <td>0.744999</td>\n",
       "      <td>...</td>\n",
       "      <td>-0.146888</td>\n",
       "      <td>-0.151358</td>\n",
       "      <td>-0.095712</td>\n",
       "      <td>0.002315</td>\n",
       "      <td>0.007944</td>\n",
       "      <td>0.210481</td>\n",
       "      <td>-0.023757</td>\n",
       "      <td>0.014891</td>\n",
       "      <td>-0.116615</td>\n",
       "      <td>0.049702</td>\n",
       "    </tr>\n",
       "    <tr>\n",
       "      <th>3</th>\n",
       "      <td>-0.305579</td>\n",
       "      <td>-0.112850</td>\n",
       "      <td>-0.038026</td>\n",
       "      <td>0.238846</td>\n",
       "      <td>-0.195626</td>\n",
       "      <td>0.011399</td>\n",
       "      <td>-0.135445</td>\n",
       "      <td>-0.008003</td>\n",
       "      <td>0.069334</td>\n",
       "      <td>-0.028441</td>\n",
       "      <td>...</td>\n",
       "      <td>0.017243</td>\n",
       "      <td>0.179659</td>\n",
       "      <td>-0.050089</td>\n",
       "      <td>-0.089140</td>\n",
       "      <td>-0.063801</td>\n",
       "      <td>0.085239</td>\n",
       "      <td>0.010215</td>\n",
       "      <td>-0.036691</td>\n",
       "      <td>0.025821</td>\n",
       "      <td>-0.038755</td>\n",
       "    </tr>\n",
       "    <tr>\n",
       "      <th>4</th>\n",
       "      <td>-0.023681</td>\n",
       "      <td>0.164775</td>\n",
       "      <td>0.574354</td>\n",
       "      <td>-0.013395</td>\n",
       "      <td>0.068631</td>\n",
       "      <td>0.166226</td>\n",
       "      <td>0.075642</td>\n",
       "      <td>-0.143550</td>\n",
       "      <td>0.078045</td>\n",
       "      <td>0.212355</td>\n",
       "      <td>...</td>\n",
       "      <td>-0.092822</td>\n",
       "      <td>0.090775</td>\n",
       "      <td>0.032895</td>\n",
       "      <td>-0.014052</td>\n",
       "      <td>0.009668</td>\n",
       "      <td>0.166266</td>\n",
       "      <td>-0.283725</td>\n",
       "      <td>-0.146590</td>\n",
       "      <td>0.175517</td>\n",
       "      <td>-0.218950</td>\n",
       "    </tr>\n",
       "  </tbody>\n",
       "</table>\n",
       "<p>5 rows × 40 columns</p>\n",
       "</div>"
      ],
      "text/plain": [
       "         0         1         2         3         4         5         6   \\\n",
       "0 -0.369587 -0.146645 -0.059069  0.142298 -0.186287 -0.016231  0.088987   \n",
       "1  0.641431  0.591239  1.444726 -0.063915  0.435441 -0.522784  0.124503   \n",
       "2  1.783079 -0.378896 -0.237135  0.234493 -0.622470  0.562071 -0.395407   \n",
       "3 -0.305579 -0.112850 -0.038026  0.238846 -0.195626  0.011399 -0.135445   \n",
       "4 -0.023681  0.164775  0.574354 -0.013395  0.068631  0.166226  0.075642   \n",
       "\n",
       "         7         8         9   ...        30        31        32        33  \\\n",
       "0  0.038198 -0.056280  0.003022  ...  0.030716 -0.061634 -0.054686  0.023481   \n",
       "1 -0.253877  0.200225  0.326805  ...  0.370541  0.127187  0.314624 -0.007809   \n",
       "2 -0.461056  1.143412  0.744999  ... -0.146888 -0.151358 -0.095712  0.002315   \n",
       "3 -0.008003  0.069334 -0.028441  ...  0.017243  0.179659 -0.050089 -0.089140   \n",
       "4 -0.143550  0.078045  0.212355  ... -0.092822  0.090775  0.032895 -0.014052   \n",
       "\n",
       "         34        35        36        37        38        39  \n",
       "0  0.053790 -0.012902 -0.046284 -0.047392  0.020450 -0.011314  \n",
       "1 -0.074782  0.212515 -0.180593 -0.021167  0.086417  0.004650  \n",
       "2  0.007944  0.210481 -0.023757  0.014891 -0.116615  0.049702  \n",
       "3 -0.063801  0.085239  0.010215 -0.036691  0.025821 -0.038755  \n",
       "4  0.009668  0.166266 -0.283725 -0.146590  0.175517 -0.218950  \n",
       "\n",
       "[5 rows x 40 columns]"
      ]
     },
     "execution_count": 833,
     "metadata": {},
     "output_type": "execute_result"
    }
   ],
   "source": [
    "X.head()"
   ]
  },
  {
   "cell_type": "code",
   "execution_count": 834,
   "metadata": {},
   "outputs": [
    {
     "data": {
      "text/html": [
       "<div>\n",
       "<style scoped>\n",
       "    .dataframe tbody tr th:only-of-type {\n",
       "        vertical-align: middle;\n",
       "    }\n",
       "\n",
       "    .dataframe tbody tr th {\n",
       "        vertical-align: top;\n",
       "    }\n",
       "\n",
       "    .dataframe thead th {\n",
       "        text-align: right;\n",
       "    }\n",
       "</style>\n",
       "<table border=\"1\" class=\"dataframe\">\n",
       "  <thead>\n",
       "    <tr style=\"text-align: right;\">\n",
       "      <th></th>\n",
       "      <th>refactoring_perc_time_taken</th>\n",
       "    </tr>\n",
       "  </thead>\n",
       "  <tbody>\n",
       "    <tr>\n",
       "      <th>0</th>\n",
       "      <td>15.00000</td>\n",
       "    </tr>\n",
       "    <tr>\n",
       "      <th>3</th>\n",
       "      <td>3.71134</td>\n",
       "    </tr>\n",
       "    <tr>\n",
       "      <th>9</th>\n",
       "      <td>10.00000</td>\n",
       "    </tr>\n",
       "    <tr>\n",
       "      <th>11</th>\n",
       "      <td>9.48750</td>\n",
       "    </tr>\n",
       "    <tr>\n",
       "      <th>12</th>\n",
       "      <td>2.00000</td>\n",
       "    </tr>\n",
       "  </tbody>\n",
       "</table>\n",
       "</div>"
      ],
      "text/plain": [
       "    refactoring_perc_time_taken\n",
       "0                      15.00000\n",
       "3                       3.71134\n",
       "9                      10.00000\n",
       "11                      9.48750\n",
       "12                      2.00000"
      ]
     },
     "execution_count": 834,
     "metadata": {},
     "output_type": "execute_result"
    }
   ],
   "source": [
    "y.head()"
   ]
  },
  {
   "cell_type": "code",
   "execution_count": 835,
   "metadata": {},
   "outputs": [
    {
     "data": {
      "text/plain": [
       "263"
      ]
     },
     "execution_count": 835,
     "metadata": {},
     "output_type": "execute_result"
    }
   ],
   "source": [
    "len(y)"
   ]
  },
  {
   "cell_type": "code",
   "execution_count": 836,
   "metadata": {},
   "outputs": [
    {
     "data": {
      "text/plain": [
       "263"
      ]
     },
     "execution_count": 836,
     "metadata": {},
     "output_type": "execute_result"
    }
   ],
   "source": [
    "len(X)"
   ]
  },
  {
   "cell_type": "code",
   "execution_count": 837,
   "metadata": {},
   "outputs": [
    {
     "data": {
      "text/plain": [
       "263"
      ]
     },
     "execution_count": 837,
     "metadata": {},
     "output_type": "execute_result"
    }
   ],
   "source": [
    "len(main_df)"
   ]
  },
  {
   "cell_type": "code",
   "execution_count": 838,
   "metadata": {},
   "outputs": [],
   "source": [
    "X.reset_index(drop=True, inplace=True)\n",
    "y.reset_index(drop=True, inplace=True)\n",
    "final_h20_frame = pd.concat([X,y],axis=1)"
   ]
  },
  {
   "cell_type": "code",
   "execution_count": 839,
   "metadata": {},
   "outputs": [
    {
     "data": {
      "text/html": [
       "<div>\n",
       "<style scoped>\n",
       "    .dataframe tbody tr th:only-of-type {\n",
       "        vertical-align: middle;\n",
       "    }\n",
       "\n",
       "    .dataframe tbody tr th {\n",
       "        vertical-align: top;\n",
       "    }\n",
       "\n",
       "    .dataframe thead th {\n",
       "        text-align: right;\n",
       "    }\n",
       "</style>\n",
       "<table border=\"1\" class=\"dataframe\">\n",
       "  <thead>\n",
       "    <tr style=\"text-align: right;\">\n",
       "      <th></th>\n",
       "      <th>0</th>\n",
       "      <th>1</th>\n",
       "      <th>2</th>\n",
       "      <th>3</th>\n",
       "      <th>4</th>\n",
       "      <th>5</th>\n",
       "      <th>6</th>\n",
       "      <th>7</th>\n",
       "      <th>8</th>\n",
       "      <th>9</th>\n",
       "      <th>...</th>\n",
       "      <th>31</th>\n",
       "      <th>32</th>\n",
       "      <th>33</th>\n",
       "      <th>34</th>\n",
       "      <th>35</th>\n",
       "      <th>36</th>\n",
       "      <th>37</th>\n",
       "      <th>38</th>\n",
       "      <th>39</th>\n",
       "      <th>refactoring_perc_time_taken</th>\n",
       "    </tr>\n",
       "  </thead>\n",
       "  <tbody>\n",
       "    <tr>\n",
       "      <th>0</th>\n",
       "      <td>-0.369587</td>\n",
       "      <td>-0.146645</td>\n",
       "      <td>-0.059069</td>\n",
       "      <td>0.142298</td>\n",
       "      <td>-0.186287</td>\n",
       "      <td>-0.016231</td>\n",
       "      <td>0.088987</td>\n",
       "      <td>0.038198</td>\n",
       "      <td>-0.056280</td>\n",
       "      <td>0.003022</td>\n",
       "      <td>...</td>\n",
       "      <td>-0.061634</td>\n",
       "      <td>-0.054686</td>\n",
       "      <td>0.023481</td>\n",
       "      <td>0.053790</td>\n",
       "      <td>-0.012902</td>\n",
       "      <td>-0.046284</td>\n",
       "      <td>-0.047392</td>\n",
       "      <td>0.020450</td>\n",
       "      <td>-0.011314</td>\n",
       "      <td>15.00000</td>\n",
       "    </tr>\n",
       "    <tr>\n",
       "      <th>1</th>\n",
       "      <td>0.641431</td>\n",
       "      <td>0.591239</td>\n",
       "      <td>1.444726</td>\n",
       "      <td>-0.063915</td>\n",
       "      <td>0.435441</td>\n",
       "      <td>-0.522784</td>\n",
       "      <td>0.124503</td>\n",
       "      <td>-0.253877</td>\n",
       "      <td>0.200225</td>\n",
       "      <td>0.326805</td>\n",
       "      <td>...</td>\n",
       "      <td>0.127187</td>\n",
       "      <td>0.314624</td>\n",
       "      <td>-0.007809</td>\n",
       "      <td>-0.074782</td>\n",
       "      <td>0.212515</td>\n",
       "      <td>-0.180593</td>\n",
       "      <td>-0.021167</td>\n",
       "      <td>0.086417</td>\n",
       "      <td>0.004650</td>\n",
       "      <td>3.71134</td>\n",
       "    </tr>\n",
       "    <tr>\n",
       "      <th>2</th>\n",
       "      <td>1.783079</td>\n",
       "      <td>-0.378896</td>\n",
       "      <td>-0.237135</td>\n",
       "      <td>0.234493</td>\n",
       "      <td>-0.622470</td>\n",
       "      <td>0.562071</td>\n",
       "      <td>-0.395407</td>\n",
       "      <td>-0.461056</td>\n",
       "      <td>1.143412</td>\n",
       "      <td>0.744999</td>\n",
       "      <td>...</td>\n",
       "      <td>-0.151358</td>\n",
       "      <td>-0.095712</td>\n",
       "      <td>0.002315</td>\n",
       "      <td>0.007944</td>\n",
       "      <td>0.210481</td>\n",
       "      <td>-0.023757</td>\n",
       "      <td>0.014891</td>\n",
       "      <td>-0.116615</td>\n",
       "      <td>0.049702</td>\n",
       "      <td>10.00000</td>\n",
       "    </tr>\n",
       "    <tr>\n",
       "      <th>3</th>\n",
       "      <td>-0.305579</td>\n",
       "      <td>-0.112850</td>\n",
       "      <td>-0.038026</td>\n",
       "      <td>0.238846</td>\n",
       "      <td>-0.195626</td>\n",
       "      <td>0.011399</td>\n",
       "      <td>-0.135445</td>\n",
       "      <td>-0.008003</td>\n",
       "      <td>0.069334</td>\n",
       "      <td>-0.028441</td>\n",
       "      <td>...</td>\n",
       "      <td>0.179659</td>\n",
       "      <td>-0.050089</td>\n",
       "      <td>-0.089140</td>\n",
       "      <td>-0.063801</td>\n",
       "      <td>0.085239</td>\n",
       "      <td>0.010215</td>\n",
       "      <td>-0.036691</td>\n",
       "      <td>0.025821</td>\n",
       "      <td>-0.038755</td>\n",
       "      <td>9.48750</td>\n",
       "    </tr>\n",
       "    <tr>\n",
       "      <th>4</th>\n",
       "      <td>-0.023681</td>\n",
       "      <td>0.164775</td>\n",
       "      <td>0.574354</td>\n",
       "      <td>-0.013395</td>\n",
       "      <td>0.068631</td>\n",
       "      <td>0.166226</td>\n",
       "      <td>0.075642</td>\n",
       "      <td>-0.143550</td>\n",
       "      <td>0.078045</td>\n",
       "      <td>0.212355</td>\n",
       "      <td>...</td>\n",
       "      <td>0.090775</td>\n",
       "      <td>0.032895</td>\n",
       "      <td>-0.014052</td>\n",
       "      <td>0.009668</td>\n",
       "      <td>0.166266</td>\n",
       "      <td>-0.283725</td>\n",
       "      <td>-0.146590</td>\n",
       "      <td>0.175517</td>\n",
       "      <td>-0.218950</td>\n",
       "      <td>2.00000</td>\n",
       "    </tr>\n",
       "  </tbody>\n",
       "</table>\n",
       "<p>5 rows × 41 columns</p>\n",
       "</div>"
      ],
      "text/plain": [
       "          0         1         2         3         4         5         6  \\\n",
       "0 -0.369587 -0.146645 -0.059069  0.142298 -0.186287 -0.016231  0.088987   \n",
       "1  0.641431  0.591239  1.444726 -0.063915  0.435441 -0.522784  0.124503   \n",
       "2  1.783079 -0.378896 -0.237135  0.234493 -0.622470  0.562071 -0.395407   \n",
       "3 -0.305579 -0.112850 -0.038026  0.238846 -0.195626  0.011399 -0.135445   \n",
       "4 -0.023681  0.164775  0.574354 -0.013395  0.068631  0.166226  0.075642   \n",
       "\n",
       "          7         8         9  ...        31        32        33        34  \\\n",
       "0  0.038198 -0.056280  0.003022  ... -0.061634 -0.054686  0.023481  0.053790   \n",
       "1 -0.253877  0.200225  0.326805  ...  0.127187  0.314624 -0.007809 -0.074782   \n",
       "2 -0.461056  1.143412  0.744999  ... -0.151358 -0.095712  0.002315  0.007944   \n",
       "3 -0.008003  0.069334 -0.028441  ...  0.179659 -0.050089 -0.089140 -0.063801   \n",
       "4 -0.143550  0.078045  0.212355  ...  0.090775  0.032895 -0.014052  0.009668   \n",
       "\n",
       "         35        36        37        38        39  \\\n",
       "0 -0.012902 -0.046284 -0.047392  0.020450 -0.011314   \n",
       "1  0.212515 -0.180593 -0.021167  0.086417  0.004650   \n",
       "2  0.210481 -0.023757  0.014891 -0.116615  0.049702   \n",
       "3  0.085239  0.010215 -0.036691  0.025821 -0.038755   \n",
       "4  0.166266 -0.283725 -0.146590  0.175517 -0.218950   \n",
       "\n",
       "   refactoring_perc_time_taken  \n",
       "0                     15.00000  \n",
       "1                      3.71134  \n",
       "2                     10.00000  \n",
       "3                      9.48750  \n",
       "4                      2.00000  \n",
       "\n",
       "[5 rows x 41 columns]"
      ]
     },
     "execution_count": 839,
     "metadata": {},
     "output_type": "execute_result"
    }
   ],
   "source": [
    "final_h20_frame.head()"
   ]
  },
  {
   "cell_type": "code",
   "execution_count": 840,
   "metadata": {},
   "outputs": [
    {
     "data": {
      "text/html": [
       "<div>\n",
       "<style scoped>\n",
       "    .dataframe tbody tr th:only-of-type {\n",
       "        vertical-align: middle;\n",
       "    }\n",
       "\n",
       "    .dataframe tbody tr th {\n",
       "        vertical-align: top;\n",
       "    }\n",
       "\n",
       "    .dataframe thead th {\n",
       "        text-align: right;\n",
       "    }\n",
       "</style>\n",
       "<table border=\"1\" class=\"dataframe\">\n",
       "  <thead>\n",
       "    <tr style=\"text-align: right;\">\n",
       "      <th></th>\n",
       "      <th>0</th>\n",
       "      <th>1</th>\n",
       "      <th>2</th>\n",
       "      <th>3</th>\n",
       "      <th>4</th>\n",
       "      <th>5</th>\n",
       "      <th>6</th>\n",
       "      <th>7</th>\n",
       "      <th>8</th>\n",
       "      <th>9</th>\n",
       "      <th>...</th>\n",
       "      <th>30</th>\n",
       "      <th>31</th>\n",
       "      <th>32</th>\n",
       "      <th>33</th>\n",
       "      <th>34</th>\n",
       "      <th>35</th>\n",
       "      <th>36</th>\n",
       "      <th>37</th>\n",
       "      <th>38</th>\n",
       "      <th>39</th>\n",
       "    </tr>\n",
       "  </thead>\n",
       "  <tbody>\n",
       "    <tr>\n",
       "      <th>0</th>\n",
       "      <td>-0.369587</td>\n",
       "      <td>-0.146645</td>\n",
       "      <td>-0.059069</td>\n",
       "      <td>0.142298</td>\n",
       "      <td>-0.186287</td>\n",
       "      <td>-0.016231</td>\n",
       "      <td>0.088987</td>\n",
       "      <td>0.038198</td>\n",
       "      <td>-0.056280</td>\n",
       "      <td>0.003022</td>\n",
       "      <td>...</td>\n",
       "      <td>0.030716</td>\n",
       "      <td>-0.061634</td>\n",
       "      <td>-0.054686</td>\n",
       "      <td>0.023481</td>\n",
       "      <td>0.053790</td>\n",
       "      <td>-0.012902</td>\n",
       "      <td>-0.046284</td>\n",
       "      <td>-0.047392</td>\n",
       "      <td>0.020450</td>\n",
       "      <td>-0.011314</td>\n",
       "    </tr>\n",
       "    <tr>\n",
       "      <th>1</th>\n",
       "      <td>0.641431</td>\n",
       "      <td>0.591239</td>\n",
       "      <td>1.444726</td>\n",
       "      <td>-0.063915</td>\n",
       "      <td>0.435441</td>\n",
       "      <td>-0.522784</td>\n",
       "      <td>0.124503</td>\n",
       "      <td>-0.253877</td>\n",
       "      <td>0.200225</td>\n",
       "      <td>0.326805</td>\n",
       "      <td>...</td>\n",
       "      <td>0.370541</td>\n",
       "      <td>0.127187</td>\n",
       "      <td>0.314624</td>\n",
       "      <td>-0.007809</td>\n",
       "      <td>-0.074782</td>\n",
       "      <td>0.212515</td>\n",
       "      <td>-0.180593</td>\n",
       "      <td>-0.021167</td>\n",
       "      <td>0.086417</td>\n",
       "      <td>0.004650</td>\n",
       "    </tr>\n",
       "    <tr>\n",
       "      <th>2</th>\n",
       "      <td>1.783079</td>\n",
       "      <td>-0.378896</td>\n",
       "      <td>-0.237135</td>\n",
       "      <td>0.234493</td>\n",
       "      <td>-0.622470</td>\n",
       "      <td>0.562071</td>\n",
       "      <td>-0.395407</td>\n",
       "      <td>-0.461056</td>\n",
       "      <td>1.143412</td>\n",
       "      <td>0.744999</td>\n",
       "      <td>...</td>\n",
       "      <td>-0.146888</td>\n",
       "      <td>-0.151358</td>\n",
       "      <td>-0.095712</td>\n",
       "      <td>0.002315</td>\n",
       "      <td>0.007944</td>\n",
       "      <td>0.210481</td>\n",
       "      <td>-0.023757</td>\n",
       "      <td>0.014891</td>\n",
       "      <td>-0.116615</td>\n",
       "      <td>0.049702</td>\n",
       "    </tr>\n",
       "    <tr>\n",
       "      <th>3</th>\n",
       "      <td>-0.305579</td>\n",
       "      <td>-0.112850</td>\n",
       "      <td>-0.038026</td>\n",
       "      <td>0.238846</td>\n",
       "      <td>-0.195626</td>\n",
       "      <td>0.011399</td>\n",
       "      <td>-0.135445</td>\n",
       "      <td>-0.008003</td>\n",
       "      <td>0.069334</td>\n",
       "      <td>-0.028441</td>\n",
       "      <td>...</td>\n",
       "      <td>0.017243</td>\n",
       "      <td>0.179659</td>\n",
       "      <td>-0.050089</td>\n",
       "      <td>-0.089140</td>\n",
       "      <td>-0.063801</td>\n",
       "      <td>0.085239</td>\n",
       "      <td>0.010215</td>\n",
       "      <td>-0.036691</td>\n",
       "      <td>0.025821</td>\n",
       "      <td>-0.038755</td>\n",
       "    </tr>\n",
       "    <tr>\n",
       "      <th>4</th>\n",
       "      <td>-0.023681</td>\n",
       "      <td>0.164775</td>\n",
       "      <td>0.574354</td>\n",
       "      <td>-0.013395</td>\n",
       "      <td>0.068631</td>\n",
       "      <td>0.166226</td>\n",
       "      <td>0.075642</td>\n",
       "      <td>-0.143550</td>\n",
       "      <td>0.078045</td>\n",
       "      <td>0.212355</td>\n",
       "      <td>...</td>\n",
       "      <td>-0.092822</td>\n",
       "      <td>0.090775</td>\n",
       "      <td>0.032895</td>\n",
       "      <td>-0.014052</td>\n",
       "      <td>0.009668</td>\n",
       "      <td>0.166266</td>\n",
       "      <td>-0.283725</td>\n",
       "      <td>-0.146590</td>\n",
       "      <td>0.175517</td>\n",
       "      <td>-0.218950</td>\n",
       "    </tr>\n",
       "  </tbody>\n",
       "</table>\n",
       "<p>5 rows × 40 columns</p>\n",
       "</div>"
      ],
      "text/plain": [
       "         0         1         2         3         4         5         6   \\\n",
       "0 -0.369587 -0.146645 -0.059069  0.142298 -0.186287 -0.016231  0.088987   \n",
       "1  0.641431  0.591239  1.444726 -0.063915  0.435441 -0.522784  0.124503   \n",
       "2  1.783079 -0.378896 -0.237135  0.234493 -0.622470  0.562071 -0.395407   \n",
       "3 -0.305579 -0.112850 -0.038026  0.238846 -0.195626  0.011399 -0.135445   \n",
       "4 -0.023681  0.164775  0.574354 -0.013395  0.068631  0.166226  0.075642   \n",
       "\n",
       "         7         8         9   ...        30        31        32        33  \\\n",
       "0  0.038198 -0.056280  0.003022  ...  0.030716 -0.061634 -0.054686  0.023481   \n",
       "1 -0.253877  0.200225  0.326805  ...  0.370541  0.127187  0.314624 -0.007809   \n",
       "2 -0.461056  1.143412  0.744999  ... -0.146888 -0.151358 -0.095712  0.002315   \n",
       "3 -0.008003  0.069334 -0.028441  ...  0.017243  0.179659 -0.050089 -0.089140   \n",
       "4 -0.143550  0.078045  0.212355  ... -0.092822  0.090775  0.032895 -0.014052   \n",
       "\n",
       "         34        35        36        37        38        39  \n",
       "0  0.053790 -0.012902 -0.046284 -0.047392  0.020450 -0.011314  \n",
       "1 -0.074782  0.212515 -0.180593 -0.021167  0.086417  0.004650  \n",
       "2  0.007944  0.210481 -0.023757  0.014891 -0.116615  0.049702  \n",
       "3 -0.063801  0.085239  0.010215 -0.036691  0.025821 -0.038755  \n",
       "4  0.009668  0.166266 -0.283725 -0.146590  0.175517 -0.218950  \n",
       "\n",
       "[5 rows x 40 columns]"
      ]
     },
     "execution_count": 840,
     "metadata": {},
     "output_type": "execute_result"
    }
   ],
   "source": [
    "X.head()"
   ]
  },
  {
   "cell_type": "code",
   "execution_count": 841,
   "metadata": {},
   "outputs": [],
   "source": [
    "from sklearn.model_selection import train_test_split\n",
    "X_train, X_test, y_train, y_test = train_test_split(X, y, test_size=0.33, random_state=16)"
   ]
  },
  {
   "cell_type": "code",
   "execution_count": 694,
   "metadata": {},
   "outputs": [
    {
     "name": "stdout",
     "output_type": "stream",
     "text": [
      "Checking whether there is an H2O instance running at http://localhost:54321 . connected.\n",
      "Warning: Your H2O cluster version is too old (5 months and 4 days)! Please download and install the latest version from http://h2o.ai/download/\n"
     ]
    },
    {
     "data": {
      "text/html": [
       "<div style=\"overflow:auto\"><table style=\"width:50%\"><tr><td>H2O_cluster_uptime:</td>\n",
       "<td>1 hour 40 mins</td></tr>\n",
       "<tr><td>H2O_cluster_timezone:</td>\n",
       "<td>Asia/Kuala_Lumpur</td></tr>\n",
       "<tr><td>H2O_data_parsing_timezone:</td>\n",
       "<td>UTC</td></tr>\n",
       "<tr><td>H2O_cluster_version:</td>\n",
       "<td>3.32.1.7</td></tr>\n",
       "<tr><td>H2O_cluster_version_age:</td>\n",
       "<td>5 months and 4 days !!!</td></tr>\n",
       "<tr><td>H2O_cluster_name:</td>\n",
       "<td>H2O_from_python_tanji_tndn4a</td></tr>\n",
       "<tr><td>H2O_cluster_total_nodes:</td>\n",
       "<td>1</td></tr>\n",
       "<tr><td>H2O_cluster_free_memory:</td>\n",
       "<td>7.906 Gb</td></tr>\n",
       "<tr><td>H2O_cluster_total_cores:</td>\n",
       "<td>12</td></tr>\n",
       "<tr><td>H2O_cluster_allowed_cores:</td>\n",
       "<td>4</td></tr>\n",
       "<tr><td>H2O_cluster_status:</td>\n",
       "<td>locked, healthy</td></tr>\n",
       "<tr><td>H2O_connection_url:</td>\n",
       "<td>http://localhost:54321</td></tr>\n",
       "<tr><td>H2O_connection_proxy:</td>\n",
       "<td>{\"http\": null, \"https\": null}</td></tr>\n",
       "<tr><td>H2O_internal_security:</td>\n",
       "<td>False</td></tr>\n",
       "<tr><td>H2O_API_Extensions:</td>\n",
       "<td>Amazon S3, Algos, AutoML, Core V3, TargetEncoder, Core V4</td></tr>\n",
       "<tr><td>Python_version:</td>\n",
       "<td>3.7.3 final</td></tr></table></div>"
      ],
      "text/plain": [
       "--------------------------  ---------------------------------------------------------\n",
       "H2O_cluster_uptime:         1 hour 40 mins\n",
       "H2O_cluster_timezone:       Asia/Kuala_Lumpur\n",
       "H2O_data_parsing_timezone:  UTC\n",
       "H2O_cluster_version:        3.32.1.7\n",
       "H2O_cluster_version_age:    5 months and 4 days !!!\n",
       "H2O_cluster_name:           H2O_from_python_tanji_tndn4a\n",
       "H2O_cluster_total_nodes:    1\n",
       "H2O_cluster_free_memory:    7.906 Gb\n",
       "H2O_cluster_total_cores:    12\n",
       "H2O_cluster_allowed_cores:  4\n",
       "H2O_cluster_status:         locked, healthy\n",
       "H2O_connection_url:         http://localhost:54321\n",
       "H2O_connection_proxy:       {\"http\": null, \"https\": null}\n",
       "H2O_internal_security:      False\n",
       "H2O_API_Extensions:         Amazon S3, Algos, AutoML, Core V3, TargetEncoder, Core V4\n",
       "Python_version:             3.7.3 final\n",
       "--------------------------  ---------------------------------------------------------"
      ]
     },
     "metadata": {},
     "output_type": "display_data"
    }
   ],
   "source": [
    "h2o.init(nthreads=4)"
   ]
  },
  {
   "cell_type": "code",
   "execution_count": 842,
   "metadata": {},
   "outputs": [
    {
     "name": "stdout",
     "output_type": "stream",
     "text": [
      "Parse progress: |█████████████████████████████████████████████████████████| 100%\n"
     ]
    }
   ],
   "source": [
    "from h2o.automl import H2OAutoML\n",
    "\n",
    "full = h2o.H2OFrame(final_h20_frame)\n",
    "train,test = full.split_frame(ratios=[.7])\n",
    "\n",
    "\n",
    "x = train.columns\n",
    "y = \"refactoring_perc_time_taken\"\n",
    "x.remove(y)\n",
    "\n"
   ]
  },
  {
   "cell_type": "code",
   "execution_count": 843,
   "metadata": {},
   "outputs": [
    {
     "data": {
      "text/plain": [
       "{'0': 'real',\n",
       " '1': 'real',\n",
       " '2': 'real',\n",
       " '3': 'real',\n",
       " '4': 'real',\n",
       " '5': 'real',\n",
       " '6': 'real',\n",
       " '7': 'real',\n",
       " '8': 'real',\n",
       " '9': 'real',\n",
       " '10': 'real',\n",
       " '11': 'real',\n",
       " '12': 'real',\n",
       " '13': 'real',\n",
       " '14': 'real',\n",
       " '15': 'real',\n",
       " '16': 'real',\n",
       " '17': 'real',\n",
       " '18': 'real',\n",
       " '19': 'real',\n",
       " '20': 'real',\n",
       " '21': 'real',\n",
       " '22': 'real',\n",
       " '23': 'real',\n",
       " '24': 'real',\n",
       " '25': 'real',\n",
       " '26': 'real',\n",
       " '27': 'real',\n",
       " '28': 'real',\n",
       " '29': 'real',\n",
       " '30': 'real',\n",
       " '31': 'real',\n",
       " '32': 'real',\n",
       " '33': 'real',\n",
       " '34': 'real',\n",
       " '35': 'real',\n",
       " '36': 'real',\n",
       " '37': 'real',\n",
       " '38': 'real',\n",
       " '39': 'real'}"
      ]
     },
     "execution_count": 843,
     "metadata": {},
     "output_type": "execute_result"
    }
   ],
   "source": [
    "train[x].types"
   ]
  },
  {
   "cell_type": "code",
   "execution_count": 844,
   "metadata": {},
   "outputs": [
    {
     "data": {
      "text/plain": [
       "{'refactoring_perc_time_taken': 'real'}"
      ]
     },
     "execution_count": 844,
     "metadata": {},
     "output_type": "execute_result"
    }
   ],
   "source": [
    "train[y].types"
   ]
  },
  {
   "cell_type": "code",
   "execution_count": 845,
   "metadata": {},
   "outputs": [
    {
     "name": "stdout",
     "output_type": "stream",
     "text": [
      "AutoML progress: |███████\n",
      "20:27:28.29: Skipping training of model GBM_5_AutoML_20220206_202721 due to exception: water.exceptions.H2OModelBuilderIllegalArgumentException: Illegal argument(s) for GBM model: GBM_5_AutoML_20220206_202721.  Details: ERRR on field: _min_rows: The dataset size is too small to split for min_rows=100.0: must have at least 200.0 (weighted) rows, but have only 177.0.\n",
      "\n",
      "\n",
      "█████████████████████████████████████████████████| 100%\n"
     ]
    }
   ],
   "source": [
    "aml = H2OAutoML(max_models=16, seed=16, exclude_algos=['XGBoost'], exploitation_ratio=0.1)\n",
    "#aml = H2OAutoML(max_models=10, seed=1, include_algos=['GLM'])\n",
    "aml.train(x=x, y=y, training_frame=train)"
   ]
  },
  {
   "cell_type": "code",
   "execution_count": 846,
   "metadata": {},
   "outputs": [
    {
     "data": {
      "text/html": [
       "<table>\n",
       "<thead>\n",
       "<tr><th>model_id                                                       </th><th style=\"text-align: right;\">  mean_residual_deviance</th><th style=\"text-align: right;\">    rmse</th><th style=\"text-align: right;\">     mse</th><th style=\"text-align: right;\">    mae</th><th style=\"text-align: right;\">     rmsle</th></tr>\n",
       "</thead>\n",
       "<tbody>\n",
       "<tr><td>GLM_1_AutoML_20220206_202721                                   </td><td style=\"text-align: right;\">                 72.5155</td><td style=\"text-align: right;\"> 8.5156 </td><td style=\"text-align: right;\"> 72.5155</td><td style=\"text-align: right;\">6.6325 </td><td style=\"text-align: right;\">  0.786103</td></tr>\n",
       "<tr><td>GBM_lr_annealing_selection__AutoML_20220206_202721_select_model</td><td style=\"text-align: right;\">                 76.3971</td><td style=\"text-align: right;\"> 8.74054</td><td style=\"text-align: right;\"> 76.3971</td><td style=\"text-align: right;\">6.66085</td><td style=\"text-align: right;\">  0.793593</td></tr>\n",
       "<tr><td>StackedEnsemble_AllModels_AutoML_20220206_202721               </td><td style=\"text-align: right;\">                 77.3685</td><td style=\"text-align: right;\"> 8.79593</td><td style=\"text-align: right;\"> 77.3685</td><td style=\"text-align: right;\">6.82188</td><td style=\"text-align: right;\">  0.800755</td></tr>\n",
       "<tr><td>StackedEnsemble_BestOfFamily_AutoML_20220206_202721            </td><td style=\"text-align: right;\">                 77.7764</td><td style=\"text-align: right;\"> 8.81909</td><td style=\"text-align: right;\"> 77.7764</td><td style=\"text-align: right;\">6.83361</td><td style=\"text-align: right;\">  0.803761</td></tr>\n",
       "<tr><td>GBM_4_AutoML_20220206_202721                                   </td><td style=\"text-align: right;\">                 79.9043</td><td style=\"text-align: right;\"> 8.93892</td><td style=\"text-align: right;\"> 79.9043</td><td style=\"text-align: right;\">6.77755</td><td style=\"text-align: right;\">  0.806918</td></tr>\n",
       "<tr><td>GBM_grid__1_AutoML_20220206_202721_model_2                     </td><td style=\"text-align: right;\">                 81.2092</td><td style=\"text-align: right;\"> 9.01161</td><td style=\"text-align: right;\"> 81.2092</td><td style=\"text-align: right;\">6.99954</td><td style=\"text-align: right;\">  0.814822</td></tr>\n",
       "<tr><td>GBM_grid__1_AutoML_20220206_202721_model_3                     </td><td style=\"text-align: right;\">                 81.5284</td><td style=\"text-align: right;\"> 9.02931</td><td style=\"text-align: right;\"> 81.5284</td><td style=\"text-align: right;\">7.07391</td><td style=\"text-align: right;\">  0.822167</td></tr>\n",
       "<tr><td>GBM_3_AutoML_20220206_202721                                   </td><td style=\"text-align: right;\">                 81.9541</td><td style=\"text-align: right;\"> 9.05285</td><td style=\"text-align: right;\"> 81.9541</td><td style=\"text-align: right;\">6.87165</td><td style=\"text-align: right;\">  0.814913</td></tr>\n",
       "<tr><td>GBM_2_AutoML_20220206_202721                                   </td><td style=\"text-align: right;\">                 83.2539</td><td style=\"text-align: right;\"> 9.12436</td><td style=\"text-align: right;\"> 83.2539</td><td style=\"text-align: right;\">7.03583</td><td style=\"text-align: right;\">  0.825404</td></tr>\n",
       "<tr><td>DeepLearning_grid__3_AutoML_20220206_202721_model_1            </td><td style=\"text-align: right;\">                 83.6629</td><td style=\"text-align: right;\"> 9.14675</td><td style=\"text-align: right;\"> 83.6629</td><td style=\"text-align: right;\">6.84289</td><td style=\"text-align: right;\">nan       </td></tr>\n",
       "<tr><td>DRF_1_AutoML_20220206_202721                                   </td><td style=\"text-align: right;\">                 86.0728</td><td style=\"text-align: right;\"> 9.27754</td><td style=\"text-align: right;\"> 86.0728</td><td style=\"text-align: right;\">7.35856</td><td style=\"text-align: right;\">  0.855314</td></tr>\n",
       "<tr><td>XRT_1_AutoML_20220206_202721                                   </td><td style=\"text-align: right;\">                 86.2114</td><td style=\"text-align: right;\"> 9.28501</td><td style=\"text-align: right;\"> 86.2114</td><td style=\"text-align: right;\">7.29987</td><td style=\"text-align: right;\">  0.858236</td></tr>\n",
       "<tr><td>DeepLearning_grid__2_AutoML_20220206_202721_model_1            </td><td style=\"text-align: right;\">                 86.9436</td><td style=\"text-align: right;\"> 9.32436</td><td style=\"text-align: right;\"> 86.9436</td><td style=\"text-align: right;\">7.21014</td><td style=\"text-align: right;\">  0.871752</td></tr>\n",
       "<tr><td>GBM_1_AutoML_20220206_202721                                   </td><td style=\"text-align: right;\">                 90.7298</td><td style=\"text-align: right;\"> 9.52522</td><td style=\"text-align: right;\"> 90.7298</td><td style=\"text-align: right;\">7.40689</td><td style=\"text-align: right;\">  0.863226</td></tr>\n",
       "<tr><td>DeepLearning_grid__2_AutoML_20220206_202721_model_2            </td><td style=\"text-align: right;\">                 92.1089</td><td style=\"text-align: right;\"> 9.59734</td><td style=\"text-align: right;\"> 92.1089</td><td style=\"text-align: right;\">7.14987</td><td style=\"text-align: right;\">nan       </td></tr>\n",
       "<tr><td>DeepLearning_1_AutoML_20220206_202721                          </td><td style=\"text-align: right;\">                 92.2555</td><td style=\"text-align: right;\"> 9.60497</td><td style=\"text-align: right;\"> 92.2555</td><td style=\"text-align: right;\">7.42604</td><td style=\"text-align: right;\">nan       </td></tr>\n",
       "<tr><td>DeepLearning_grid__1_AutoML_20220206_202721_model_1            </td><td style=\"text-align: right;\">                108.555 </td><td style=\"text-align: right;\">10.419  </td><td style=\"text-align: right;\">108.555 </td><td style=\"text-align: right;\">8.17817</td><td style=\"text-align: right;\">nan       </td></tr>\n",
       "<tr><td>DeepLearning_grid__1_AutoML_20220206_202721_model_2            </td><td style=\"text-align: right;\">                110.767 </td><td style=\"text-align: right;\">10.5246 </td><td style=\"text-align: right;\">110.767 </td><td style=\"text-align: right;\">7.76357</td><td style=\"text-align: right;\">nan       </td></tr>\n",
       "</tbody>\n",
       "</table>"
      ]
     },
     "metadata": {},
     "output_type": "display_data"
    },
    {
     "data": {
      "text/plain": []
     },
     "execution_count": 846,
     "metadata": {},
     "output_type": "execute_result"
    }
   ],
   "source": [
    "lb = aml.leaderboard\n",
    "lb.head(rows=lb.nrows)"
   ]
  },
  {
   "cell_type": "code",
   "execution_count": 873,
   "metadata": {},
   "outputs": [],
   "source": [
    "model = h2o.get_model(lb[1,'model_id'])"
   ]
  },
  {
   "cell_type": "code",
   "execution_count": 874,
   "metadata": {
    "scrolled": true
   },
   "outputs": [
    {
     "name": "stdout",
     "output_type": "stream",
     "text": [
      "Model Details\n",
      "=============\n",
      "H2OGradientBoostingEstimator :  Gradient Boosting Machine\n",
      "Model Key:  GBM_lr_annealing_selection__AutoML_20220206_202721_select_model\n",
      "\n",
      "\n",
      "Model Summary: \n"
     ]
    },
    {
     "data": {
      "text/html": [
       "<div>\n",
       "<style scoped>\n",
       "    .dataframe tbody tr th:only-of-type {\n",
       "        vertical-align: middle;\n",
       "    }\n",
       "\n",
       "    .dataframe tbody tr th {\n",
       "        vertical-align: top;\n",
       "    }\n",
       "\n",
       "    .dataframe thead th {\n",
       "        text-align: right;\n",
       "    }\n",
       "</style>\n",
       "<table border=\"1\" class=\"dataframe\">\n",
       "  <thead>\n",
       "    <tr style=\"text-align: right;\">\n",
       "      <th></th>\n",
       "      <th></th>\n",
       "      <th>number_of_trees</th>\n",
       "      <th>number_of_internal_trees</th>\n",
       "      <th>model_size_in_bytes</th>\n",
       "      <th>min_depth</th>\n",
       "      <th>max_depth</th>\n",
       "      <th>mean_depth</th>\n",
       "      <th>min_leaves</th>\n",
       "      <th>max_leaves</th>\n",
       "      <th>mean_leaves</th>\n",
       "    </tr>\n",
       "  </thead>\n",
       "  <tbody>\n",
       "    <tr>\n",
       "      <th>0</th>\n",
       "      <td></td>\n",
       "      <td>33.0</td>\n",
       "      <td>33.0</td>\n",
       "      <td>3936.0</td>\n",
       "      <td>2.0</td>\n",
       "      <td>5.0</td>\n",
       "      <td>3.39394</td>\n",
       "      <td>4.0</td>\n",
       "      <td>6.0</td>\n",
       "      <td>4.878788</td>\n",
       "    </tr>\n",
       "  </tbody>\n",
       "</table>\n",
       "</div>"
      ],
      "text/plain": [
       "     number_of_trees  number_of_internal_trees  model_size_in_bytes  \\\n",
       "0               33.0                      33.0               3936.0   \n",
       "\n",
       "   min_depth  max_depth  mean_depth  min_leaves  max_leaves  mean_leaves  \n",
       "0        2.0        5.0     3.39394         4.0         6.0     4.878788  "
      ]
     },
     "metadata": {},
     "output_type": "display_data"
    },
    {
     "name": "stdout",
     "output_type": "stream",
     "text": [
      "\n",
      "\n",
      "ModelMetricsRegression: gbm\n",
      "** Reported on train data. **\n",
      "\n",
      "MSE: 39.82801886395658\n",
      "RMSE: 6.310944371800197\n",
      "MAE: 4.768075757780991\n",
      "RMSLE: 0.5943132172992295\n",
      "Mean Residual Deviance: 39.82801886395658\n",
      "\n",
      "ModelMetricsRegression: gbm\n",
      "** Reported on cross-validation data. **\n",
      "\n",
      "MSE: 76.39705984969578\n",
      "RMSE: 8.740541164578758\n",
      "MAE: 6.660850379287007\n",
      "RMSLE: 0.7935929097041727\n",
      "Mean Residual Deviance: 76.39705984969578\n",
      "\n",
      "Cross-Validation Metrics Summary: \n"
     ]
    },
    {
     "data": {
      "text/html": [
       "<div>\n",
       "<style scoped>\n",
       "    .dataframe tbody tr th:only-of-type {\n",
       "        vertical-align: middle;\n",
       "    }\n",
       "\n",
       "    .dataframe tbody tr th {\n",
       "        vertical-align: top;\n",
       "    }\n",
       "\n",
       "    .dataframe thead th {\n",
       "        text-align: right;\n",
       "    }\n",
       "</style>\n",
       "<table border=\"1\" class=\"dataframe\">\n",
       "  <thead>\n",
       "    <tr style=\"text-align: right;\">\n",
       "      <th></th>\n",
       "      <th></th>\n",
       "      <th>mean</th>\n",
       "      <th>sd</th>\n",
       "      <th>cv_1_valid</th>\n",
       "      <th>cv_2_valid</th>\n",
       "      <th>cv_3_valid</th>\n",
       "      <th>cv_4_valid</th>\n",
       "      <th>cv_5_valid</th>\n",
       "    </tr>\n",
       "  </thead>\n",
       "  <tbody>\n",
       "    <tr>\n",
       "      <th>0</th>\n",
       "      <td>mae</td>\n",
       "      <td>6.664957</td>\n",
       "      <td>0.61611253</td>\n",
       "      <td>6.0415416</td>\n",
       "      <td>6.5614715</td>\n",
       "      <td>6.136715</td>\n",
       "      <td>7.454223</td>\n",
       "      <td>7.130834</td>\n",
       "    </tr>\n",
       "    <tr>\n",
       "      <th>1</th>\n",
       "      <td>mean_residual_deviance</td>\n",
       "      <td>76.534355</td>\n",
       "      <td>17.236164</td>\n",
       "      <td>54.175873</td>\n",
       "      <td>74.59107</td>\n",
       "      <td>83.41383</td>\n",
       "      <td>100.827034</td>\n",
       "      <td>69.66398</td>\n",
       "    </tr>\n",
       "    <tr>\n",
       "      <th>2</th>\n",
       "      <td>mse</td>\n",
       "      <td>76.534355</td>\n",
       "      <td>17.236164</td>\n",
       "      <td>54.175873</td>\n",
       "      <td>74.59107</td>\n",
       "      <td>83.41383</td>\n",
       "      <td>100.827034</td>\n",
       "      <td>69.66398</td>\n",
       "    </tr>\n",
       "    <tr>\n",
       "      <th>3</th>\n",
       "      <td>r2</td>\n",
       "      <td>-0.037364833</td>\n",
       "      <td>0.07562299</td>\n",
       "      <td>-0.08251117</td>\n",
       "      <td>-0.043537874</td>\n",
       "      <td>-0.03714624</td>\n",
       "      <td>-0.1105397</td>\n",
       "      <td>0.08691082</td>\n",
       "    </tr>\n",
       "    <tr>\n",
       "      <th>4</th>\n",
       "      <td>residual_deviance</td>\n",
       "      <td>76.534355</td>\n",
       "      <td>17.236164</td>\n",
       "      <td>54.175873</td>\n",
       "      <td>74.59107</td>\n",
       "      <td>83.41383</td>\n",
       "      <td>100.827034</td>\n",
       "      <td>69.66398</td>\n",
       "    </tr>\n",
       "    <tr>\n",
       "      <th>5</th>\n",
       "      <td>rmse</td>\n",
       "      <td>8.703584</td>\n",
       "      <td>0.98868144</td>\n",
       "      <td>7.360426</td>\n",
       "      <td>8.636612</td>\n",
       "      <td>9.133118</td>\n",
       "      <td>10.041266</td>\n",
       "      <td>8.346496</td>\n",
       "    </tr>\n",
       "    <tr>\n",
       "      <th>6</th>\n",
       "      <td>rmsle</td>\n",
       "      <td>0.7919831</td>\n",
       "      <td>0.065468974</td>\n",
       "      <td>0.78951794</td>\n",
       "      <td>0.6948742</td>\n",
       "      <td>0.7723</td>\n",
       "      <td>0.8413658</td>\n",
       "      <td>0.8618577</td>\n",
       "    </tr>\n",
       "  </tbody>\n",
       "</table>\n",
       "</div>"
      ],
      "text/plain": [
       "                                   mean           sd   cv_1_valid  \\\n",
       "0                     mae      6.664957   0.61611253    6.0415416   \n",
       "1  mean_residual_deviance     76.534355    17.236164    54.175873   \n",
       "2                     mse     76.534355    17.236164    54.175873   \n",
       "3                      r2  -0.037364833   0.07562299  -0.08251117   \n",
       "4       residual_deviance     76.534355    17.236164    54.175873   \n",
       "5                    rmse      8.703584   0.98868144     7.360426   \n",
       "6                   rmsle     0.7919831  0.065468974   0.78951794   \n",
       "\n",
       "     cv_2_valid   cv_3_valid  cv_4_valid  cv_5_valid  \n",
       "0     6.5614715     6.136715    7.454223    7.130834  \n",
       "1      74.59107     83.41383  100.827034    69.66398  \n",
       "2      74.59107     83.41383  100.827034    69.66398  \n",
       "3  -0.043537874  -0.03714624  -0.1105397  0.08691082  \n",
       "4      74.59107     83.41383  100.827034    69.66398  \n",
       "5      8.636612     9.133118   10.041266    8.346496  \n",
       "6     0.6948742       0.7723   0.8413658   0.8618577  "
      ]
     },
     "metadata": {},
     "output_type": "display_data"
    },
    {
     "name": "stdout",
     "output_type": "stream",
     "text": [
      "\n",
      "Scoring History: \n"
     ]
    },
    {
     "data": {
      "text/html": [
       "<div>\n",
       "<style scoped>\n",
       "    .dataframe tbody tr th:only-of-type {\n",
       "        vertical-align: middle;\n",
       "    }\n",
       "\n",
       "    .dataframe tbody tr th {\n",
       "        vertical-align: top;\n",
       "    }\n",
       "\n",
       "    .dataframe thead th {\n",
       "        text-align: right;\n",
       "    }\n",
       "</style>\n",
       "<table border=\"1\" class=\"dataframe\">\n",
       "  <thead>\n",
       "    <tr style=\"text-align: right;\">\n",
       "      <th></th>\n",
       "      <th></th>\n",
       "      <th>timestamp</th>\n",
       "      <th>duration</th>\n",
       "      <th>number_of_trees</th>\n",
       "      <th>training_rmse</th>\n",
       "      <th>training_mae</th>\n",
       "      <th>training_deviance</th>\n",
       "    </tr>\n",
       "  </thead>\n",
       "  <tbody>\n",
       "    <tr>\n",
       "      <th>0</th>\n",
       "      <td></td>\n",
       "      <td>2022-02-06 20:32:04</td>\n",
       "      <td>0.140 sec</td>\n",
       "      <td>0.0</td>\n",
       "      <td>8.634822</td>\n",
       "      <td>6.734870</td>\n",
       "      <td>74.560151</td>\n",
       "    </tr>\n",
       "    <tr>\n",
       "      <th>1</th>\n",
       "      <td></td>\n",
       "      <td>2022-02-06 20:32:04</td>\n",
       "      <td>0.146 sec</td>\n",
       "      <td>5.0</td>\n",
       "      <td>8.039725</td>\n",
       "      <td>6.237046</td>\n",
       "      <td>64.637174</td>\n",
       "    </tr>\n",
       "    <tr>\n",
       "      <th>2</th>\n",
       "      <td></td>\n",
       "      <td>2022-02-06 20:32:04</td>\n",
       "      <td>0.152 sec</td>\n",
       "      <td>10.0</td>\n",
       "      <td>7.604226</td>\n",
       "      <td>5.912142</td>\n",
       "      <td>57.824260</td>\n",
       "    </tr>\n",
       "    <tr>\n",
       "      <th>3</th>\n",
       "      <td></td>\n",
       "      <td>2022-02-06 20:32:04</td>\n",
       "      <td>0.157 sec</td>\n",
       "      <td>15.0</td>\n",
       "      <td>7.214464</td>\n",
       "      <td>5.572975</td>\n",
       "      <td>52.048488</td>\n",
       "    </tr>\n",
       "    <tr>\n",
       "      <th>4</th>\n",
       "      <td></td>\n",
       "      <td>2022-02-06 20:32:04</td>\n",
       "      <td>0.163 sec</td>\n",
       "      <td>20.0</td>\n",
       "      <td>6.948750</td>\n",
       "      <td>5.338612</td>\n",
       "      <td>48.285123</td>\n",
       "    </tr>\n",
       "    <tr>\n",
       "      <th>5</th>\n",
       "      <td></td>\n",
       "      <td>2022-02-06 20:32:04</td>\n",
       "      <td>0.169 sec</td>\n",
       "      <td>25.0</td>\n",
       "      <td>6.653867</td>\n",
       "      <td>5.052228</td>\n",
       "      <td>44.273945</td>\n",
       "    </tr>\n",
       "    <tr>\n",
       "      <th>6</th>\n",
       "      <td></td>\n",
       "      <td>2022-02-06 20:32:04</td>\n",
       "      <td>0.175 sec</td>\n",
       "      <td>30.0</td>\n",
       "      <td>6.477671</td>\n",
       "      <td>4.856627</td>\n",
       "      <td>41.960218</td>\n",
       "    </tr>\n",
       "    <tr>\n",
       "      <th>7</th>\n",
       "      <td></td>\n",
       "      <td>2022-02-06 20:32:04</td>\n",
       "      <td>0.178 sec</td>\n",
       "      <td>33.0</td>\n",
       "      <td>6.310944</td>\n",
       "      <td>4.768076</td>\n",
       "      <td>39.828019</td>\n",
       "    </tr>\n",
       "  </tbody>\n",
       "</table>\n",
       "</div>"
      ],
      "text/plain": [
       "               timestamp    duration  number_of_trees  training_rmse  \\\n",
       "0    2022-02-06 20:32:04   0.140 sec              0.0       8.634822   \n",
       "1    2022-02-06 20:32:04   0.146 sec              5.0       8.039725   \n",
       "2    2022-02-06 20:32:04   0.152 sec             10.0       7.604226   \n",
       "3    2022-02-06 20:32:04   0.157 sec             15.0       7.214464   \n",
       "4    2022-02-06 20:32:04   0.163 sec             20.0       6.948750   \n",
       "5    2022-02-06 20:32:04   0.169 sec             25.0       6.653867   \n",
       "6    2022-02-06 20:32:04   0.175 sec             30.0       6.477671   \n",
       "7    2022-02-06 20:32:04   0.178 sec             33.0       6.310944   \n",
       "\n",
       "   training_mae  training_deviance  \n",
       "0      6.734870          74.560151  \n",
       "1      6.237046          64.637174  \n",
       "2      5.912142          57.824260  \n",
       "3      5.572975          52.048488  \n",
       "4      5.338612          48.285123  \n",
       "5      5.052228          44.273945  \n",
       "6      4.856627          41.960218  \n",
       "7      4.768076          39.828019  "
      ]
     },
     "metadata": {},
     "output_type": "display_data"
    },
    {
     "name": "stdout",
     "output_type": "stream",
     "text": [
      "\n",
      "Variable Importances: \n"
     ]
    },
    {
     "data": {
      "text/html": [
       "<div>\n",
       "<style scoped>\n",
       "    .dataframe tbody tr th:only-of-type {\n",
       "        vertical-align: middle;\n",
       "    }\n",
       "\n",
       "    .dataframe tbody tr th {\n",
       "        vertical-align: top;\n",
       "    }\n",
       "\n",
       "    .dataframe thead th {\n",
       "        text-align: right;\n",
       "    }\n",
       "</style>\n",
       "<table border=\"1\" class=\"dataframe\">\n",
       "  <thead>\n",
       "    <tr style=\"text-align: right;\">\n",
       "      <th></th>\n",
       "      <th>variable</th>\n",
       "      <th>relative_importance</th>\n",
       "      <th>scaled_importance</th>\n",
       "      <th>percentage</th>\n",
       "    </tr>\n",
       "  </thead>\n",
       "  <tbody>\n",
       "    <tr>\n",
       "      <th>0</th>\n",
       "      <td>38</td>\n",
       "      <td>2465.568115</td>\n",
       "      <td>1.000000</td>\n",
       "      <td>0.062881</td>\n",
       "    </tr>\n",
       "    <tr>\n",
       "      <th>1</th>\n",
       "      <td>4</td>\n",
       "      <td>2461.700928</td>\n",
       "      <td>0.998432</td>\n",
       "      <td>0.062782</td>\n",
       "    </tr>\n",
       "    <tr>\n",
       "      <th>2</th>\n",
       "      <td>16</td>\n",
       "      <td>2368.463379</td>\n",
       "      <td>0.960616</td>\n",
       "      <td>0.060404</td>\n",
       "    </tr>\n",
       "    <tr>\n",
       "      <th>3</th>\n",
       "      <td>13</td>\n",
       "      <td>2319.977051</td>\n",
       "      <td>0.940950</td>\n",
       "      <td>0.059168</td>\n",
       "    </tr>\n",
       "    <tr>\n",
       "      <th>4</th>\n",
       "      <td>3</td>\n",
       "      <td>2128.514893</td>\n",
       "      <td>0.863296</td>\n",
       "      <td>0.054285</td>\n",
       "    </tr>\n",
       "    <tr>\n",
       "      <th>5</th>\n",
       "      <td>20</td>\n",
       "      <td>1994.307373</td>\n",
       "      <td>0.808863</td>\n",
       "      <td>0.050862</td>\n",
       "    </tr>\n",
       "    <tr>\n",
       "      <th>6</th>\n",
       "      <td>19</td>\n",
       "      <td>1952.325806</td>\n",
       "      <td>0.791836</td>\n",
       "      <td>0.049791</td>\n",
       "    </tr>\n",
       "    <tr>\n",
       "      <th>7</th>\n",
       "      <td>22</td>\n",
       "      <td>1893.519043</td>\n",
       "      <td>0.767985</td>\n",
       "      <td>0.048292</td>\n",
       "    </tr>\n",
       "    <tr>\n",
       "      <th>8</th>\n",
       "      <td>35</td>\n",
       "      <td>1748.438110</td>\n",
       "      <td>0.709142</td>\n",
       "      <td>0.044591</td>\n",
       "    </tr>\n",
       "    <tr>\n",
       "      <th>9</th>\n",
       "      <td>5</td>\n",
       "      <td>1596.273926</td>\n",
       "      <td>0.647426</td>\n",
       "      <td>0.040711</td>\n",
       "    </tr>\n",
       "    <tr>\n",
       "      <th>10</th>\n",
       "      <td>25</td>\n",
       "      <td>1534.295288</td>\n",
       "      <td>0.622289</td>\n",
       "      <td>0.039130</td>\n",
       "    </tr>\n",
       "    <tr>\n",
       "      <th>11</th>\n",
       "      <td>37</td>\n",
       "      <td>1450.182007</td>\n",
       "      <td>0.588174</td>\n",
       "      <td>0.036985</td>\n",
       "    </tr>\n",
       "    <tr>\n",
       "      <th>12</th>\n",
       "      <td>36</td>\n",
       "      <td>1421.508179</td>\n",
       "      <td>0.576544</td>\n",
       "      <td>0.036254</td>\n",
       "    </tr>\n",
       "    <tr>\n",
       "      <th>13</th>\n",
       "      <td>9</td>\n",
       "      <td>1166.668213</td>\n",
       "      <td>0.473184</td>\n",
       "      <td>0.029754</td>\n",
       "    </tr>\n",
       "    <tr>\n",
       "      <th>14</th>\n",
       "      <td>30</td>\n",
       "      <td>1035.443848</td>\n",
       "      <td>0.419962</td>\n",
       "      <td>0.026408</td>\n",
       "    </tr>\n",
       "    <tr>\n",
       "      <th>15</th>\n",
       "      <td>2</td>\n",
       "      <td>952.196594</td>\n",
       "      <td>0.386198</td>\n",
       "      <td>0.024284</td>\n",
       "    </tr>\n",
       "    <tr>\n",
       "      <th>16</th>\n",
       "      <td>6</td>\n",
       "      <td>880.428162</td>\n",
       "      <td>0.357089</td>\n",
       "      <td>0.022454</td>\n",
       "    </tr>\n",
       "    <tr>\n",
       "      <th>17</th>\n",
       "      <td>29</td>\n",
       "      <td>867.229492</td>\n",
       "      <td>0.351736</td>\n",
       "      <td>0.022117</td>\n",
       "    </tr>\n",
       "    <tr>\n",
       "      <th>18</th>\n",
       "      <td>26</td>\n",
       "      <td>841.885620</td>\n",
       "      <td>0.341457</td>\n",
       "      <td>0.021471</td>\n",
       "    </tr>\n",
       "    <tr>\n",
       "      <th>19</th>\n",
       "      <td>8</td>\n",
       "      <td>756.912537</td>\n",
       "      <td>0.306993</td>\n",
       "      <td>0.019304</td>\n",
       "    </tr>\n",
       "  </tbody>\n",
       "</table>\n",
       "</div>"
      ],
      "text/plain": [
       "   variable  relative_importance  scaled_importance  percentage\n",
       "0        38          2465.568115           1.000000    0.062881\n",
       "1         4          2461.700928           0.998432    0.062782\n",
       "2        16          2368.463379           0.960616    0.060404\n",
       "3        13          2319.977051           0.940950    0.059168\n",
       "4         3          2128.514893           0.863296    0.054285\n",
       "5        20          1994.307373           0.808863    0.050862\n",
       "6        19          1952.325806           0.791836    0.049791\n",
       "7        22          1893.519043           0.767985    0.048292\n",
       "8        35          1748.438110           0.709142    0.044591\n",
       "9         5          1596.273926           0.647426    0.040711\n",
       "10       25          1534.295288           0.622289    0.039130\n",
       "11       37          1450.182007           0.588174    0.036985\n",
       "12       36          1421.508179           0.576544    0.036254\n",
       "13        9          1166.668213           0.473184    0.029754\n",
       "14       30          1035.443848           0.419962    0.026408\n",
       "15        2           952.196594           0.386198    0.024284\n",
       "16        6           880.428162           0.357089    0.022454\n",
       "17       29           867.229492           0.351736    0.022117\n",
       "18       26           841.885620           0.341457    0.021471\n",
       "19        8           756.912537           0.306993    0.019304"
      ]
     },
     "metadata": {},
     "output_type": "display_data"
    },
    {
     "name": "stdout",
     "output_type": "stream",
     "text": [
      "\n",
      "See the whole table with table.as_data_frame()\n"
     ]
    },
    {
     "data": {
      "text/plain": []
     },
     "execution_count": 874,
     "metadata": {},
     "output_type": "execute_result"
    }
   ],
   "source": [
    "model"
   ]
  },
  {
   "cell_type": "code",
   "execution_count": 875,
   "metadata": {},
   "outputs": [
    {
     "name": "stdout",
     "output_type": "stream",
     "text": [
      "gbm prediction progress: |████████████████████████████████████████████████| 100%\n"
     ]
    }
   ],
   "source": [
    "preds = model.predict(test)"
   ]
  },
  {
   "cell_type": "code",
   "execution_count": 876,
   "metadata": {},
   "outputs": [
    {
     "data": {
      "text/html": [
       "<table>\n",
       "<thead>\n",
       "<tr><th style=\"text-align: right;\">  predict</th></tr>\n",
       "</thead>\n",
       "<tbody>\n",
       "<tr><td style=\"text-align: right;\">  9.60507</td></tr>\n",
       "<tr><td style=\"text-align: right;\"> 17.2769 </td></tr>\n",
       "<tr><td style=\"text-align: right;\">  9.63858</td></tr>\n",
       "<tr><td style=\"text-align: right;\"> 10.3956 </td></tr>\n",
       "<tr><td style=\"text-align: right;\">  9.20024</td></tr>\n",
       "<tr><td style=\"text-align: right;\"> 11.103  </td></tr>\n",
       "<tr><td style=\"text-align: right;\"> 10.2865 </td></tr>\n",
       "<tr><td style=\"text-align: right;\"> 11.6719 </td></tr>\n",
       "<tr><td style=\"text-align: right;\"> 11.3391 </td></tr>\n",
       "<tr><td style=\"text-align: right;\">  9.79068</td></tr>\n",
       "</tbody>\n",
       "</table>"
      ]
     },
     "metadata": {},
     "output_type": "display_data"
    },
    {
     "data": {
      "text/plain": []
     },
     "execution_count": 876,
     "metadata": {},
     "output_type": "execute_result"
    }
   ],
   "source": [
    "preds"
   ]
  },
  {
   "cell_type": "code",
   "execution_count": 877,
   "metadata": {
    "scrolled": true
   },
   "outputs": [
    {
     "data": {
      "text/plain": [
       "8.043489     1\n",
       "11.195037    1\n",
       "11.783174    1\n",
       "13.374498    1\n",
       "9.035132     1\n",
       "            ..\n",
       "7.493006     1\n",
       "8.609497     1\n",
       "13.986437    1\n",
       "9.183696     1\n",
       "7.831347     1\n",
       "Name: predict, Length: 86, dtype: int64"
      ]
     },
     "execution_count": 877,
     "metadata": {},
     "output_type": "execute_result"
    }
   ],
   "source": [
    "pd_preds = preds.as_data_frame()\n",
    "pd_preds['predict'].value_counts()"
   ]
  },
  {
   "cell_type": "code",
   "execution_count": 878,
   "metadata": {},
   "outputs": [
    {
     "data": {
      "text/html": [
       "<table>\n",
       "<thead>\n",
       "<tr><th style=\"text-align: right;\">         0</th><th style=\"text-align: right;\">        1</th><th style=\"text-align: right;\">         2</th><th style=\"text-align: right;\">         3</th><th style=\"text-align: right;\">         4</th><th style=\"text-align: right;\">         5</th><th style=\"text-align: right;\">          6</th><th style=\"text-align: right;\">          7</th><th style=\"text-align: right;\">          8</th><th style=\"text-align: right;\">          9</th><th style=\"text-align: right;\">         10</th><th style=\"text-align: right;\">        11</th><th style=\"text-align: right;\">         12</th><th style=\"text-align: right;\">        13</th><th style=\"text-align: right;\">         14</th><th style=\"text-align: right;\">         15</th><th style=\"text-align: right;\">         16</th><th style=\"text-align: right;\">         17</th><th style=\"text-align: right;\">         18</th><th style=\"text-align: right;\">         19</th><th style=\"text-align: right;\">         20</th><th style=\"text-align: right;\">        21</th><th style=\"text-align: right;\">         22</th><th style=\"text-align: right;\">        23</th><th style=\"text-align: right;\">         24</th><th style=\"text-align: right;\">         25</th><th style=\"text-align: right;\">         26</th><th style=\"text-align: right;\">         27</th><th style=\"text-align: right;\">         28</th><th style=\"text-align: right;\">        29</th><th style=\"text-align: right;\">         30</th><th style=\"text-align: right;\">         31</th><th style=\"text-align: right;\">        32</th><th style=\"text-align: right;\">         33</th><th style=\"text-align: right;\">         34</th><th style=\"text-align: right;\">         35</th><th style=\"text-align: right;\">         36</th><th style=\"text-align: right;\">         37</th><th style=\"text-align: right;\">        38</th><th style=\"text-align: right;\">         39</th><th style=\"text-align: right;\">  refactoring_perc_time_taken</th></tr>\n",
       "</thead>\n",
       "<tbody>\n",
       "<tr><td style=\"text-align: right;\">-0.369587 </td><td style=\"text-align: right;\">-0.146645</td><td style=\"text-align: right;\">-0.0590693</td><td style=\"text-align: right;\"> 0.142298 </td><td style=\"text-align: right;\">-0.186287 </td><td style=\"text-align: right;\">-0.0162308</td><td style=\"text-align: right;\"> 0.0889868 </td><td style=\"text-align: right;\"> 0.0381976 </td><td style=\"text-align: right;\">-0.0562805 </td><td style=\"text-align: right;\"> 0.00302174</td><td style=\"text-align: right;\"> 0.00313469</td><td style=\"text-align: right;\">-0.0534581</td><td style=\"text-align: right;\">-0.265786  </td><td style=\"text-align: right;\">-0.0460633</td><td style=\"text-align: right;\">-0.0551663 </td><td style=\"text-align: right;\">-0.0424004 </td><td style=\"text-align: right;\">-0.0142035 </td><td style=\"text-align: right;\"> 0.0128443 </td><td style=\"text-align: right;\"> 0.0675391 </td><td style=\"text-align: right;\">-0.245914  </td><td style=\"text-align: right;\">-0.104736  </td><td style=\"text-align: right;\">-0.0766595</td><td style=\"text-align: right;\">-0.0771164 </td><td style=\"text-align: right;\"> 0.0840306</td><td style=\"text-align: right;\">-0.0433431 </td><td style=\"text-align: right;\"> 0.108764  </td><td style=\"text-align: right;\"> 0.0368969 </td><td style=\"text-align: right;\"> 0.0348922 </td><td style=\"text-align: right;\"> 0.0270392 </td><td style=\"text-align: right;\"> 0.0117261</td><td style=\"text-align: right;\"> 0.030716  </td><td style=\"text-align: right;\">-0.0616339 </td><td style=\"text-align: right;\">-0.0546858</td><td style=\"text-align: right;\"> 0.0234812 </td><td style=\"text-align: right;\"> 0.0537903 </td><td style=\"text-align: right;\">-0.0129024 </td><td style=\"text-align: right;\">-0.0462837 </td><td style=\"text-align: right;\">-0.0473921 </td><td style=\"text-align: right;\"> 0.0204499</td><td style=\"text-align: right;\">-0.0113144 </td><td style=\"text-align: right;\">                     15      </td></tr>\n",
       "<tr><td style=\"text-align: right;\"> 1.78308  </td><td style=\"text-align: right;\">-0.378896</td><td style=\"text-align: right;\">-0.237135 </td><td style=\"text-align: right;\"> 0.234493 </td><td style=\"text-align: right;\">-0.62247  </td><td style=\"text-align: right;\"> 0.562071 </td><td style=\"text-align: right;\">-0.395407  </td><td style=\"text-align: right;\">-0.461056  </td><td style=\"text-align: right;\"> 1.14341   </td><td style=\"text-align: right;\"> 0.744999  </td><td style=\"text-align: right;\">-0.0228709 </td><td style=\"text-align: right;\">-0.28982  </td><td style=\"text-align: right;\"> 0.995764  </td><td style=\"text-align: right;\">-0.612009 </td><td style=\"text-align: right;\">-0.191317  </td><td style=\"text-align: right;\"> 0.462518  </td><td style=\"text-align: right;\"> 0.527036  </td><td style=\"text-align: right;\">-0.484139  </td><td style=\"text-align: right;\"> 0.104786  </td><td style=\"text-align: right;\">-0.332816  </td><td style=\"text-align: right;\">-0.226806  </td><td style=\"text-align: right;\">-0.104539 </td><td style=\"text-align: right;\"> 0.149674  </td><td style=\"text-align: right;\">-0.0246158</td><td style=\"text-align: right;\">-0.103018  </td><td style=\"text-align: right;\"> 0.159453  </td><td style=\"text-align: right;\">-0.373078  </td><td style=\"text-align: right;\"> 0.478431  </td><td style=\"text-align: right;\">-0.128314  </td><td style=\"text-align: right;\"> 0.535944 </td><td style=\"text-align: right;\">-0.146888  </td><td style=\"text-align: right;\">-0.151358  </td><td style=\"text-align: right;\">-0.0957121</td><td style=\"text-align: right;\"> 0.00231474</td><td style=\"text-align: right;\"> 0.00794356</td><td style=\"text-align: right;\"> 0.210481  </td><td style=\"text-align: right;\">-0.0237567 </td><td style=\"text-align: right;\"> 0.0148914 </td><td style=\"text-align: right;\">-0.116615 </td><td style=\"text-align: right;\"> 0.0497018 </td><td style=\"text-align: right;\">                     10      </td></tr>\n",
       "<tr><td style=\"text-align: right;\">-0.0236812</td><td style=\"text-align: right;\"> 0.164775</td><td style=\"text-align: right;\"> 0.574354 </td><td style=\"text-align: right;\">-0.0133949</td><td style=\"text-align: right;\"> 0.0686307</td><td style=\"text-align: right;\"> 0.166226 </td><td style=\"text-align: right;\"> 0.0756424 </td><td style=\"text-align: right;\">-0.14355   </td><td style=\"text-align: right;\"> 0.0780455 </td><td style=\"text-align: right;\"> 0.212355  </td><td style=\"text-align: right;\">-0.122596  </td><td style=\"text-align: right;\"> 0.0482638</td><td style=\"text-align: right;\">-0.11259   </td><td style=\"text-align: right;\">-0.156994 </td><td style=\"text-align: right;\"> 0.113399  </td><td style=\"text-align: right;\"> 0.133932  </td><td style=\"text-align: right;\">-0.120376  </td><td style=\"text-align: right;\">-0.0722656 </td><td style=\"text-align: right;\"> 0.656033  </td><td style=\"text-align: right;\"> 0.596587  </td><td style=\"text-align: right;\">-0.368171  </td><td style=\"text-align: right;\"> 0.172911 </td><td style=\"text-align: right;\">-0.0478551 </td><td style=\"text-align: right;\"> 0.120974 </td><td style=\"text-align: right;\"> 0.526029  </td><td style=\"text-align: right;\"> 0.107397  </td><td style=\"text-align: right;\">-0.0318123 </td><td style=\"text-align: right;\"> 0.0364958 </td><td style=\"text-align: right;\"> 0.0244741 </td><td style=\"text-align: right;\"> 0.145897 </td><td style=\"text-align: right;\">-0.0928216 </td><td style=\"text-align: right;\"> 0.0907749 </td><td style=\"text-align: right;\"> 0.0328951</td><td style=\"text-align: right;\">-0.0140523 </td><td style=\"text-align: right;\"> 0.0096683 </td><td style=\"text-align: right;\"> 0.166266  </td><td style=\"text-align: right;\">-0.283725  </td><td style=\"text-align: right;\">-0.14659   </td><td style=\"text-align: right;\"> 0.175517 </td><td style=\"text-align: right;\">-0.21895   </td><td style=\"text-align: right;\">                      2      </td></tr>\n",
       "<tr><td style=\"text-align: right;\">-0.468981 </td><td style=\"text-align: right;\">-0.146387</td><td style=\"text-align: right;\">-0.0327336</td><td style=\"text-align: right;\"> 0.154991 </td><td style=\"text-align: right;\"> 0.0926157</td><td style=\"text-align: right;\"> 0.0025226</td><td style=\"text-align: right;\">-0.117763  </td><td style=\"text-align: right;\">-0.112408  </td><td style=\"text-align: right;\"> 0.0530316 </td><td style=\"text-align: right;\"> 0.0339402 </td><td style=\"text-align: right;\">-0.0304056 </td><td style=\"text-align: right;\">-0.0128136</td><td style=\"text-align: right;\"> 0.0744735 </td><td style=\"text-align: right;\">-0.0162867</td><td style=\"text-align: right;\">-0.00323674</td><td style=\"text-align: right;\"> 0.00956647</td><td style=\"text-align: right;\">-0.0815945 </td><td style=\"text-align: right;\"> 0.0421991 </td><td style=\"text-align: right;\"> 0.0196373 </td><td style=\"text-align: right;\"> 0.0517846 </td><td style=\"text-align: right;\"> 0.0765656 </td><td style=\"text-align: right;\">-0.0106101</td><td style=\"text-align: right;\">-0.0262338 </td><td style=\"text-align: right;\">-0.033026 </td><td style=\"text-align: right;\">-0.0623843 </td><td style=\"text-align: right;\">-0.0223339 </td><td style=\"text-align: right;\">-0.00388837</td><td style=\"text-align: right;\"> 0.0510841 </td><td style=\"text-align: right;\"> 0.0311135 </td><td style=\"text-align: right;\">-0.0630426</td><td style=\"text-align: right;\"> 0.0465132 </td><td style=\"text-align: right;\">-0.028193  </td><td style=\"text-align: right;\"> 0.0254306</td><td style=\"text-align: right;\">-0.00556856</td><td style=\"text-align: right;\"> 0.0141126 </td><td style=\"text-align: right;\"> 0.04099   </td><td style=\"text-align: right;\"> 0.00212882</td><td style=\"text-align: right;\"> 0.00428838</td><td style=\"text-align: right;\">-0.0323242</td><td style=\"text-align: right;\"> 0.0182683 </td><td style=\"text-align: right;\">                      5.34091</td></tr>\n",
       "<tr><td style=\"text-align: right;\">-0.423652 </td><td style=\"text-align: right;\">-0.160857</td><td style=\"text-align: right;\">-0.0314702</td><td style=\"text-align: right;\"> 0.114277 </td><td style=\"text-align: right;\">-0.202046 </td><td style=\"text-align: right;\"> 0.0490404</td><td style=\"text-align: right;\">-0.10539   </td><td style=\"text-align: right;\">-0.00153383</td><td style=\"text-align: right;\"> 0.0172216 </td><td style=\"text-align: right;\">-0.117564  </td><td style=\"text-align: right;\"> 0.014681  </td><td style=\"text-align: right;\">-0.0377562</td><td style=\"text-align: right;\">-0.0860738 </td><td style=\"text-align: right;\"> 0.0229729</td><td style=\"text-align: right;\">-0.0382422 </td><td style=\"text-align: right;\"> 0.00243979</td><td style=\"text-align: right;\">-0.0221183 </td><td style=\"text-align: right;\">-0.0250018 </td><td style=\"text-align: right;\"> 0.0316441 </td><td style=\"text-align: right;\">-0.0227116 </td><td style=\"text-align: right;\">-0.0288912 </td><td style=\"text-align: right;\">-0.0149839</td><td style=\"text-align: right;\">-0.00573898</td><td style=\"text-align: right;\">-0.034791 </td><td style=\"text-align: right;\">-0.0144664 </td><td style=\"text-align: right;\"> 0.0327515 </td><td style=\"text-align: right;\">-0.010935  </td><td style=\"text-align: right;\"> 0.0196837 </td><td style=\"text-align: right;\"> 0.0427093 </td><td style=\"text-align: right;\">-0.0666997</td><td style=\"text-align: right;\"> 0.0240308 </td><td style=\"text-align: right;\">-0.0819973 </td><td style=\"text-align: right;\">-0.0261984</td><td style=\"text-align: right;\">-0.00708185</td><td style=\"text-align: right;\">-0.017237  </td><td style=\"text-align: right;\"> 0.0537276 </td><td style=\"text-align: right;\">-0.0402233 </td><td style=\"text-align: right;\">-0.0393762 </td><td style=\"text-align: right;\">-0.0625368</td><td style=\"text-align: right;\">-0.0220545 </td><td style=\"text-align: right;\">                      5.47893</td></tr>\n",
       "<tr><td style=\"text-align: right;\"> 0.510559 </td><td style=\"text-align: right;\">-0.145329</td><td style=\"text-align: right;\"> 0.422547 </td><td style=\"text-align: right;\">-0.422917 </td><td style=\"text-align: right;\">-0.351168 </td><td style=\"text-align: right;\"> 0.148344 </td><td style=\"text-align: right;\">-0.130063  </td><td style=\"text-align: right;\"> 0.166139  </td><td style=\"text-align: right;\"> 0.0246007 </td><td style=\"text-align: right;\"> 0.235991  </td><td style=\"text-align: right;\"> 0.327504  </td><td style=\"text-align: right;\"> 0.487188 </td><td style=\"text-align: right;\"> 0.00337429</td><td style=\"text-align: right;\"> 0.265129 </td><td style=\"text-align: right;\">-0.0885501 </td><td style=\"text-align: right;\"> 0.0654889 </td><td style=\"text-align: right;\"> 0.00119322</td><td style=\"text-align: right;\"> 0.0850801 </td><td style=\"text-align: right;\">-0.114308  </td><td style=\"text-align: right;\"> 0.32658   </td><td style=\"text-align: right;\"> 0.486603  </td><td style=\"text-align: right;\">-0.155562 </td><td style=\"text-align: right;\">-0.0280675 </td><td style=\"text-align: right;\"> 0.0213453</td><td style=\"text-align: right;\">-0.00843436</td><td style=\"text-align: right;\"> 0.341137  </td><td style=\"text-align: right;\"> 0.0466464 </td><td style=\"text-align: right;\">-0.351685  </td><td style=\"text-align: right;\"> 0.356972  </td><td style=\"text-align: right;\"> 0.222457 </td><td style=\"text-align: right;\">-0.206273  </td><td style=\"text-align: right;\">-0.182543  </td><td style=\"text-align: right;\">-0.430988 </td><td style=\"text-align: right;\">-0.0872218 </td><td style=\"text-align: right;\"> 0.153403  </td><td style=\"text-align: right;\">-0.162127  </td><td style=\"text-align: right;\">-0.363679  </td><td style=\"text-align: right;\"> 0.0841633 </td><td style=\"text-align: right;\">-0.100327 </td><td style=\"text-align: right;\"> 0.104595  </td><td style=\"text-align: right;\">                     11.2734 </td></tr>\n",
       "<tr><td style=\"text-align: right;\"> 0.0490666</td><td style=\"text-align: right;\">-0.185778</td><td style=\"text-align: right;\"> 0.267436 </td><td style=\"text-align: right;\">-0.363537 </td><td style=\"text-align: right;\">-0.12216  </td><td style=\"text-align: right;\"> 0.0463008</td><td style=\"text-align: right;\"> 0.00476987</td><td style=\"text-align: right;\"> 0.270706  </td><td style=\"text-align: right;\">-0.0450941 </td><td style=\"text-align: right;\"> 0.20892   </td><td style=\"text-align: right;\"> 0.129568  </td><td style=\"text-align: right;\"> 0.0999162</td><td style=\"text-align: right;\">-0.00812381</td><td style=\"text-align: right;\"> 0.171213 </td><td style=\"text-align: right;\">-0.0739855 </td><td style=\"text-align: right;\">-0.0273892 </td><td style=\"text-align: right;\">-0.0738144 </td><td style=\"text-align: right;\">-0.0418051 </td><td style=\"text-align: right;\">-0.0834457 </td><td style=\"text-align: right;\"> 0.187359  </td><td style=\"text-align: right;\">-0.00312967</td><td style=\"text-align: right;\"> 0.0523201</td><td style=\"text-align: right;\">-0.0511368 </td><td style=\"text-align: right;\">-0.0308061</td><td style=\"text-align: right;\">-0.128919  </td><td style=\"text-align: right;\"> 0.139385  </td><td style=\"text-align: right;\">-0.139267  </td><td style=\"text-align: right;\"> 0.104198  </td><td style=\"text-align: right;\"> 0.00997128</td><td style=\"text-align: right;\"> 0.0315881</td><td style=\"text-align: right;\"> 0.0135577 </td><td style=\"text-align: right;\"> 0.0100412 </td><td style=\"text-align: right;\">-0.0374345</td><td style=\"text-align: right;\"> 0.0721505 </td><td style=\"text-align: right;\">-0.0984987 </td><td style=\"text-align: right;\"> 0.0922491 </td><td style=\"text-align: right;\"> 0.00702483</td><td style=\"text-align: right;\">-0.0085245 </td><td style=\"text-align: right;\"> 0.0331088</td><td style=\"text-align: right;\"> 0.0305066 </td><td style=\"text-align: right;\">                     27.154  </td></tr>\n",
       "<tr><td style=\"text-align: right;\">-0.404102 </td><td style=\"text-align: right;\">-0.275177</td><td style=\"text-align: right;\">-0.0569207</td><td style=\"text-align: right;\">-0.0946206</td><td style=\"text-align: right;\">-0.0903089</td><td style=\"text-align: right;\"> 0.067429 </td><td style=\"text-align: right;\">-0.0496402 </td><td style=\"text-align: right;\">-0.117525  </td><td style=\"text-align: right;\">-0.0643227 </td><td style=\"text-align: right;\">-0.105709  </td><td style=\"text-align: right;\">-0.00287532</td><td style=\"text-align: right;\"> 0.0798787</td><td style=\"text-align: right;\"> 0.0423494 </td><td style=\"text-align: right;\"> 0.0472533</td><td style=\"text-align: right;\">-0.0488442 </td><td style=\"text-align: right;\">-0.0771119 </td><td style=\"text-align: right;\">-0.0349925 </td><td style=\"text-align: right;\"> 0.0241455 </td><td style=\"text-align: right;\">-0.00675931</td><td style=\"text-align: right;\">-0.00885211</td><td style=\"text-align: right;\"> 0.00127104</td><td style=\"text-align: right;\"> 0.0806825</td><td style=\"text-align: right;\">-0.0873874 </td><td style=\"text-align: right;\">-0.0125663</td><td style=\"text-align: right;\"> 0.0263898 </td><td style=\"text-align: right;\">-0.0428022 </td><td style=\"text-align: right;\"> 0.0476422 </td><td style=\"text-align: right;\">-0.0554054 </td><td style=\"text-align: right;\">-0.072327  </td><td style=\"text-align: right;\">-0.0457592</td><td style=\"text-align: right;\">-0.0216848 </td><td style=\"text-align: right;\">-0.00624665</td><td style=\"text-align: right;\"> 0.0948699</td><td style=\"text-align: right;\"> 0.0398912 </td><td style=\"text-align: right;\"> 0.0186146 </td><td style=\"text-align: right;\">-0.0785374 </td><td style=\"text-align: right;\"> 0.00126022</td><td style=\"text-align: right;\"> 0.025106  </td><td style=\"text-align: right;\"> 0.0112103</td><td style=\"text-align: right;\"> 0.0398039 </td><td style=\"text-align: right;\">                      4.78661</td></tr>\n",
       "<tr><td style=\"text-align: right;\">-0.603714 </td><td style=\"text-align: right;\">-0.188802</td><td style=\"text-align: right;\">-0.0487808</td><td style=\"text-align: right;\"> 0.0360018</td><td style=\"text-align: right;\"> 0.009927 </td><td style=\"text-align: right;\"> 0.0734103</td><td style=\"text-align: right;\"> 0.0100286 </td><td style=\"text-align: right;\"> 0.237342  </td><td style=\"text-align: right;\">-0.0884904 </td><td style=\"text-align: right;\"> 0.091248  </td><td style=\"text-align: right;\">-0.075112  </td><td style=\"text-align: right;\"> 0.0416007</td><td style=\"text-align: right;\"> 0.0583225 </td><td style=\"text-align: right;\">-0.0220884</td><td style=\"text-align: right;\"> 0.0225005 </td><td style=\"text-align: right;\"> 0.025209  </td><td style=\"text-align: right;\">-0.0648981 </td><td style=\"text-align: right;\"> 0.0381028 </td><td style=\"text-align: right;\">-0.0961831 </td><td style=\"text-align: right;\">-0.0157283 </td><td style=\"text-align: right;\"> 0.00352062</td><td style=\"text-align: right;\">-0.0422187</td><td style=\"text-align: right;\">-0.0258034 </td><td style=\"text-align: right;\"> 0.0171434</td><td style=\"text-align: right;\"> 0.0675659 </td><td style=\"text-align: right;\">-0.00751249</td><td style=\"text-align: right;\">-0.0175758 </td><td style=\"text-align: right;\"> 0.0276188 </td><td style=\"text-align: right;\"> 0.0414816 </td><td style=\"text-align: right;\"> 0.072575 </td><td style=\"text-align: right;\">-0.00486863</td><td style=\"text-align: right;\"> 0.0349864 </td><td style=\"text-align: right;\"> 0.0131688</td><td style=\"text-align: right;\"> 0.0201669 </td><td style=\"text-align: right;\"> 0.0433685 </td><td style=\"text-align: right;\">-0.00210328</td><td style=\"text-align: right;\"> 0.0163676 </td><td style=\"text-align: right;\">-0.0184166 </td><td style=\"text-align: right;\"> 0.0435271</td><td style=\"text-align: right;\"> 0.0262536 </td><td style=\"text-align: right;\">                      3.39474</td></tr>\n",
       "<tr><td style=\"text-align: right;\">-0.593585 </td><td style=\"text-align: right;\"> 1.0992  </td><td style=\"text-align: right;\">-0.906541 </td><td style=\"text-align: right;\">-0.486836 </td><td style=\"text-align: right;\">-0.0784226</td><td style=\"text-align: right;\">-0.151048 </td><td style=\"text-align: right;\">-0.326643  </td><td style=\"text-align: right;\">-0.046294  </td><td style=\"text-align: right;\"> 0.00128499</td><td style=\"text-align: right;\"> 0.101337  </td><td style=\"text-align: right;\">-0.0958143 </td><td style=\"text-align: right;\"> 0.143956 </td><td style=\"text-align: right;\">-0.0439604 </td><td style=\"text-align: right;\">-0.0898125</td><td style=\"text-align: right;\"> 0.0282434 </td><td style=\"text-align: right;\">-0.17838   </td><td style=\"text-align: right;\"> 0.0335006 </td><td style=\"text-align: right;\">-0.00556309</td><td style=\"text-align: right;\">-0.0111888 </td><td style=\"text-align: right;\"> 0.062249  </td><td style=\"text-align: right;\"> 0.0406856 </td><td style=\"text-align: right;\">-0.165892 </td><td style=\"text-align: right;\"> 0.0525921 </td><td style=\"text-align: right;\"> 0.0883829</td><td style=\"text-align: right;\"> 0.0384324 </td><td style=\"text-align: right;\">-0.00933957</td><td style=\"text-align: right;\">-0.0788059 </td><td style=\"text-align: right;\"> 0.00756705</td><td style=\"text-align: right;\">-0.108882  </td><td style=\"text-align: right;\"> 0.0216431</td><td style=\"text-align: right;\">-0.00127007</td><td style=\"text-align: right;\"> 0.0524264 </td><td style=\"text-align: right;\"> 0.0567082</td><td style=\"text-align: right;\"> 0.0432506 </td><td style=\"text-align: right;\"> 0.07347   </td><td style=\"text-align: right;\">-0.0841343 </td><td style=\"text-align: right;\"> 0.00448289</td><td style=\"text-align: right;\">-0.0138728 </td><td style=\"text-align: right;\"> 0.0121536</td><td style=\"text-align: right;\"> 0.00148762</td><td style=\"text-align: right;\">                      4.46269</td></tr>\n",
       "</tbody>\n",
       "</table>"
      ]
     },
     "metadata": {},
     "output_type": "display_data"
    },
    {
     "data": {
      "text/plain": []
     },
     "execution_count": 878,
     "metadata": {},
     "output_type": "execute_result"
    }
   ],
   "source": [
    "train"
   ]
  },
  {
   "cell_type": "code",
   "execution_count": 879,
   "metadata": {},
   "outputs": [
    {
     "data": {
      "text/plain": [
       "{'whiskers': [<matplotlib.lines.Line2D at 0x1f7f2343048>,\n",
       "  <matplotlib.lines.Line2D at 0x1f7f23433c8>],\n",
       " 'caps': [<matplotlib.lines.Line2D at 0x1f7f2343748>,\n",
       "  <matplotlib.lines.Line2D at 0x1f7f2343ac8>],\n",
       " 'boxes': [<matplotlib.lines.Line2D at 0x1f7f2336eb8>],\n",
       " 'medians': [<matplotlib.lines.Line2D at 0x1f7f2343e48>],\n",
       " 'fliers': [<matplotlib.lines.Line2D at 0x1f7f234b208>],\n",
       " 'means': []}"
      ]
     },
     "execution_count": 879,
     "metadata": {},
     "output_type": "execute_result"
    },
    {
     "data": {
      "image/png": "[encoded data removed]",
      "text/plain": [
       "<Figure size 432x288 with 1 Axes>"
      ]
     },
     "metadata": {
      "needs_background": "light"
     },
     "output_type": "display_data"
    }
   ],
   "source": [
    "pd_train = train.as_data_frame()\n",
    "plt.boxplot(pd_train['refactoring_perc_time_taken'])"
   ]
  },
  {
   "cell_type": "code",
   "execution_count": 880,
   "metadata": {},
   "outputs": [
    {
     "data": {
      "text/plain": [
       "10.083650190114069"
      ]
     },
     "execution_count": 880,
     "metadata": {},
     "output_type": "execute_result"
    }
   ],
   "source": [
    "main_df['actual_num_of_classes_touched_max'].mean()"
   ]
  },
  {
   "cell_type": "code",
   "execution_count": 881,
   "metadata": {},
   "outputs": [
    {
     "data": {
      "text/plain": [
       "263"
      ]
     },
     "execution_count": 881,
     "metadata": {},
     "output_type": "execute_result"
    }
   ],
   "source": [
    "len(main_df['actual_num_of_classes_touched_max'])"
   ]
  },
  {
   "cell_type": "code",
   "execution_count": 882,
   "metadata": {},
   "outputs": [
    {
     "data": {
      "text/plain": [
       "263"
      ]
     },
     "execution_count": 882,
     "metadata": {},
     "output_type": "execute_result"
    }
   ],
   "source": [
    "len(main_df[main_df['actual_num_of_classes_touched_max'] < 1000])"
   ]
  },
  {
   "cell_type": "code",
   "execution_count": 883,
   "metadata": {},
   "outputs": [
    {
     "data": {
      "text/plain": [
       "261"
      ]
     },
     "execution_count": 883,
     "metadata": {},
     "output_type": "execute_result"
    }
   ],
   "source": [
    "len(main_df[main_df['actual_num_of_classes_touched_max'] < 100])"
   ]
  },
  {
   "cell_type": "code",
   "execution_count": 884,
   "metadata": {},
   "outputs": [
    {
     "data": {
      "text/plain": [
       "254"
      ]
     },
     "execution_count": 884,
     "metadata": {},
     "output_type": "execute_result"
    }
   ],
   "source": [
    "len(main_df[main_df['actual_num_of_classes_touched_max'] < 50])"
   ]
  },
  {
   "cell_type": "code",
   "execution_count": 885,
   "metadata": {},
   "outputs": [
    {
     "data": {
      "text/plain": [
       "226"
      ]
     },
     "execution_count": 885,
     "metadata": {},
     "output_type": "execute_result"
    }
   ],
   "source": [
    "len(main_df[main_df['actual_num_of_classes_touched_max'] < 20])"
   ]
  },
  {
   "cell_type": "code",
   "execution_count": 886,
   "metadata": {},
   "outputs": [
    {
     "data": {
      "text/plain": [
       "184"
      ]
     },
     "execution_count": 886,
     "metadata": {},
     "output_type": "execute_result"
    }
   ],
   "source": [
    "len(main_df[main_df['actual_num_of_classes_touched_max'] < 10])"
   ]
  },
  {
   "cell_type": "code",
   "execution_count": 887,
   "metadata": {},
   "outputs": [
    {
     "data": {
      "text/plain": [
       "{'whiskers': [<matplotlib.lines.Line2D at 0x1f7f23760f0>,\n",
       "  <matplotlib.lines.Line2D at 0x1f7f2376c50>],\n",
       " 'caps': [<matplotlib.lines.Line2D at 0x1f7f2376fd0>,\n",
       "  <matplotlib.lines.Line2D at 0x1f7f268c390>],\n",
       " 'boxes': [<matplotlib.lines.Line2D at 0x1f7f23768d0>],\n",
       " 'medians': [<matplotlib.lines.Line2D at 0x1f7f268c710>],\n",
       " 'fliers': [<matplotlib.lines.Line2D at 0x1f7f268ca90>],\n",
       " 'means': []}"
      ]
     },
     "execution_count": 887,
     "metadata": {},
     "output_type": "execute_result"
    },
    {
     "data": {
      "image/png": "[encoded data removed]",
      "text/plain": [
       "<Figure size 432x288 with 1 Axes>"
      ]
     },
     "metadata": {
      "needs_background": "light"
     },
     "output_type": "display_data"
    }
   ],
   "source": [
    "plt.boxplot(main_df['actual_num_of_classes_touched_max'])"
   ]
  },
  {
   "cell_type": "code",
   "execution_count": 888,
   "metadata": {},
   "outputs": [],
   "source": [
    "main_df_num_of_classes_without_outliers = main_df[main_df['actual_num_of_classes_touched_max'] < 1000]"
   ]
  },
  {
   "cell_type": "code",
   "execution_count": 889,
   "metadata": {},
   "outputs": [
    {
     "data": {
      "text/plain": [
       "{'whiskers': [<matplotlib.lines.Line2D at 0x1f7f26e2048>,\n",
       "  <matplotlib.lines.Line2D at 0x1f7f26e2390>],\n",
       " 'caps': [<matplotlib.lines.Line2D at 0x1f7f26e2710>,\n",
       "  <matplotlib.lines.Line2D at 0x1f7f26e2a90>],\n",
       " 'boxes': [<matplotlib.lines.Line2D at 0x1f7f26d5eb8>],\n",
       " 'medians': [<matplotlib.lines.Line2D at 0x1f7f26e2e10>],\n",
       " 'fliers': [<matplotlib.lines.Line2D at 0x1f7f26ed1d0>],\n",
       " 'means': []}"
      ]
     },
     "execution_count": 889,
     "metadata": {},
     "output_type": "execute_result"
    },
    {
     "data": {
      "image/png": "[encoded data removed]",
      "text/plain": [
       "<Figure size 432x288 with 1 Axes>"
      ]
     },
     "metadata": {
      "needs_background": "light"
     },
     "output_type": "display_data"
    }
   ],
   "source": [
    "plt.boxplot(main_df_num_of_classes_without_outliers['actual_num_of_classes_touched_max'])"
   ]
  },
  {
   "cell_type": "code",
   "execution_count": 890,
   "metadata": {},
   "outputs": [
    {
     "data": {
      "text/plain": [
       "{'whiskers': [<matplotlib.lines.Line2D at 0x1f7f273f940>,\n",
       "  <matplotlib.lines.Line2D at 0x1f7f273fcc0>],\n",
       " 'caps': [<matplotlib.lines.Line2D at 0x1f7f274b080>,\n",
       "  <matplotlib.lines.Line2D at 0x1f7f274b400>],\n",
       " 'boxes': [<matplotlib.lines.Line2D at 0x1f7f273f7f0>],\n",
       " 'medians': [<matplotlib.lines.Line2D at 0x1f7f274b780>],\n",
       " 'fliers': [<matplotlib.lines.Line2D at 0x1f7f274bb00>],\n",
       " 'means': []}"
      ]
     },
     "execution_count": 890,
     "metadata": {},
     "output_type": "execute_result"
    },
    {
     "data": {
      "image/png": "[encoded data removed]",
      "text/plain": [
       "<Figure size 432x288 with 1 Axes>"
      ]
     },
     "metadata": {
      "needs_background": "light"
     },
     "output_type": "display_data"
    }
   ],
   "source": [
    "main_df_num_of_classes_without_outliers = main_df[main_df['actual_num_of_classes_touched_max'] < 100]\n",
    "plt.boxplot(main_df_num_of_classes_without_outliers['actual_num_of_classes_touched_max'])"
   ]
  },
  {
   "cell_type": "code",
   "execution_count": 891,
   "metadata": {},
   "outputs": [],
   "source": [
    "pd_test = test.as_data_frame()\n",
    "pd_preds['actual_time_taken'] = pd_test['refactoring_perc_time_taken']"
   ]
  },
  {
   "cell_type": "code",
   "execution_count": 892,
   "metadata": {
    "scrolled": true
   },
   "outputs": [
    {
     "data": {
      "text/html": [
       "<div>\n",
       "<style scoped>\n",
       "    .dataframe tbody tr th:only-of-type {\n",
       "        vertical-align: middle;\n",
       "    }\n",
       "\n",
       "    .dataframe tbody tr th {\n",
       "        vertical-align: top;\n",
       "    }\n",
       "\n",
       "    .dataframe thead th {\n",
       "        text-align: right;\n",
       "    }\n",
       "</style>\n",
       "<table border=\"1\" class=\"dataframe\">\n",
       "  <thead>\n",
       "    <tr style=\"text-align: right;\">\n",
       "      <th></th>\n",
       "      <th>predict</th>\n",
       "      <th>actual_time_taken</th>\n",
       "    </tr>\n",
       "  </thead>\n",
       "  <tbody>\n",
       "    <tr>\n",
       "      <th>0</th>\n",
       "      <td>9.605070</td>\n",
       "      <td>3.711340</td>\n",
       "    </tr>\n",
       "    <tr>\n",
       "      <th>1</th>\n",
       "      <td>17.276934</td>\n",
       "      <td>9.487500</td>\n",
       "    </tr>\n",
       "    <tr>\n",
       "      <th>2</th>\n",
       "      <td>9.638578</td>\n",
       "      <td>18.000000</td>\n",
       "    </tr>\n",
       "    <tr>\n",
       "      <th>3</th>\n",
       "      <td>10.395561</td>\n",
       "      <td>8.813559</td>\n",
       "    </tr>\n",
       "    <tr>\n",
       "      <th>4</th>\n",
       "      <td>9.200240</td>\n",
       "      <td>17.000000</td>\n",
       "    </tr>\n",
       "    <tr>\n",
       "      <th>...</th>\n",
       "      <td>...</td>\n",
       "      <td>...</td>\n",
       "    </tr>\n",
       "    <tr>\n",
       "      <th>81</th>\n",
       "      <td>8.435012</td>\n",
       "      <td>2.579845</td>\n",
       "    </tr>\n",
       "    <tr>\n",
       "      <th>82</th>\n",
       "      <td>15.239013</td>\n",
       "      <td>4.263158</td>\n",
       "    </tr>\n",
       "    <tr>\n",
       "      <th>83</th>\n",
       "      <td>10.629422</td>\n",
       "      <td>6.347339</td>\n",
       "    </tr>\n",
       "    <tr>\n",
       "      <th>84</th>\n",
       "      <td>7.917166</td>\n",
       "      <td>18.750000</td>\n",
       "    </tr>\n",
       "    <tr>\n",
       "      <th>85</th>\n",
       "      <td>7.589738</td>\n",
       "      <td>22.000000</td>\n",
       "    </tr>\n",
       "  </tbody>\n",
       "</table>\n",
       "<p>86 rows × 2 columns</p>\n",
       "</div>"
      ],
      "text/plain": [
       "      predict  actual_time_taken\n",
       "0    9.605070           3.711340\n",
       "1   17.276934           9.487500\n",
       "2    9.638578          18.000000\n",
       "3   10.395561           8.813559\n",
       "4    9.200240          17.000000\n",
       "..        ...                ...\n",
       "81   8.435012           2.579845\n",
       "82  15.239013           4.263158\n",
       "83  10.629422           6.347339\n",
       "84   7.917166          18.750000\n",
       "85   7.589738          22.000000\n",
       "\n",
       "[86 rows x 2 columns]"
      ]
     },
     "execution_count": 892,
     "metadata": {},
     "output_type": "execute_result"
    }
   ],
   "source": [
    "pd_preds"
   ]
  },
  {
   "cell_type": "code",
   "execution_count": 893,
   "metadata": {},
   "outputs": [
    {
     "data": {
      "text/plain": [
       "{'whiskers': [<matplotlib.lines.Line2D at 0x1f7f279a908>,\n",
       "  <matplotlib.lines.Line2D at 0x1f7f279ac88>],\n",
       " 'caps': [<matplotlib.lines.Line2D at 0x1f7f27a9048>,\n",
       "  <matplotlib.lines.Line2D at 0x1f7f27a93c8>],\n",
       " 'boxes': [<matplotlib.lines.Line2D at 0x1f7f279a7b8>],\n",
       " 'medians': [<matplotlib.lines.Line2D at 0x1f7f27a9748>],\n",
       " 'fliers': [<matplotlib.lines.Line2D at 0x1f7f27a9ac8>],\n",
       " 'means': []}"
      ]
     },
     "execution_count": 893,
     "metadata": {},
     "output_type": "execute_result"
    },
    {
     "data": {
      "image/png": "[encoded data removed]",
      "text/plain": [
       "<Figure size 432x288 with 1 Axes>"
      ]
     },
     "metadata": {
      "needs_background": "light"
     },
     "output_type": "display_data"
    }
   ],
   "source": [
    "plt.boxplot(pd_preds['predict'])"
   ]
  },
  {
   "cell_type": "code",
   "execution_count": 894,
   "metadata": {},
   "outputs": [
    {
     "data": {
      "text/plain": [
       "{'whiskers': [<matplotlib.lines.Line2D at 0x1f7f2806588>,\n",
       "  <matplotlib.lines.Line2D at 0x1f7f2806908>],\n",
       " 'caps': [<matplotlib.lines.Line2D at 0x1f7f2806c88>,\n",
       "  <matplotlib.lines.Line2D at 0x1f7f2810048>],\n",
       " 'boxes': [<matplotlib.lines.Line2D at 0x1f7f2806438>],\n",
       " 'medians': [<matplotlib.lines.Line2D at 0x1f7f28103c8>],\n",
       " 'fliers': [<matplotlib.lines.Line2D at 0x1f7f2810748>],\n",
       " 'means': []}"
      ]
     },
     "execution_count": 894,
     "metadata": {},
     "output_type": "execute_result"
    },
    {
     "data": {
      "image/png": "[encoded data removed]",
      "text/plain": [
       "<Figure size 432x288 with 1 Axes>"
      ]
     },
     "metadata": {
      "needs_background": "light"
     },
     "output_type": "display_data"
    }
   ],
   "source": [
    "plt.boxplot(pd_preds['actual_time_taken'])"
   ]
  },
  {
   "cell_type": "code",
   "execution_count": 895,
   "metadata": {},
   "outputs": [
    {
     "data": {
      "image/png": "[encoded data removed]",
      "text/plain": [
       "<Figure size 1080x1080 with 1 Axes>"
      ]
     },
     "metadata": {
      "needs_background": "light"
     },
     "output_type": "display_data"
    }
   ],
   "source": [
    "plotGraph(pd_preds['predict'], pd_preds['actual_time_taken'],'predict','actual_time_taken',' test')"
   ]
  },
  {
   "cell_type": "code",
   "execution_count": 896,
   "metadata": {},
   "outputs": [],
   "source": [
    "visualization = pd_preds[pd_preds['predict'] <= 20]\n",
    "visualization = pd_preds[pd_preds['actual_time_taken'] <= 20]\n"
   ]
  },
  {
   "cell_type": "code",
   "execution_count": 897,
   "metadata": {},
   "outputs": [
    {
     "data": {
      "image/png": "[encoded data removed]",
      "text/plain": [
       "<Figure size 1080x1080 with 1 Axes>"
      ]
     },
     "metadata": {
      "needs_background": "light"
     },
     "output_type": "display_data"
    }
   ],
   "source": [
    "plotGraph(visualization['predict'], visualization['actual_time_taken'],'predict','actual_time_taken',' test')"
   ]
  },
  {
   "cell_type": "code",
   "execution_count": 898,
   "metadata": {},
   "outputs": [],
   "source": [
    "# save the model\n",
    "model_path = h2o.save_model(model=model, path=\"models/EffortEstimationModelv2\", force=True)"
   ]
  },
  {
   "cell_type": "markdown",
   "metadata": {},
   "source": [
    "Documentation at the following\n",
    "\n",
    "https://docs.h2o.ai/h2o/latest-stable/h2o-py/docs/_modules/h2o/explanation/_explain.html"
   ]
  },
  {
   "cell_type": "code",
   "execution_count": 899,
   "metadata": {
    "scrolled": true
   },
   "outputs": [
    {
     "data": {
      "text/html": [
       "<h1>Variable Importance</h1>"
      ],
      "text/markdown": [
       "\n",
       "\n",
       "# Variable Importance"
      ],
      "text/plain": [
       "\n",
       "\n",
       "# Variable Importance"
      ]
     },
     "metadata": {},
     "output_type": "display_data"
    },
    {
     "data": {
      "text/html": [
       "<blockquote>The variable importance plot shows the relative importance of the most important variables in the model.</blockquote>"
      ],
      "text/markdown": [
       "\n",
       "> The variable importance plot shows the relative importance of the most important variables in the model."
      ],
      "text/plain": [
       "\n",
       "> The variable importance plot shows the relative importance of the most important variables in the model."
      ]
     },
     "metadata": {},
     "output_type": "display_data"
    },
    {
     "data": {
      "image/png": "[encoded data removed]",
      "text/plain": [
       "<Figure size 1152x648 with 1 Axes>"
      ]
     },
     "metadata": {
      "needs_background": "light"
     },
     "output_type": "display_data"
    },
    {
     "name": "stdout",
     "output_type": "stream",
     "text": [
      "\n",
      "\n"
     ]
    },
    {
     "data": {
      "text/html": [
       "<h1>SHAP Summary</h1>"
      ],
      "text/markdown": [
       "\n",
       "\n",
       "# SHAP Summary"
      ],
      "text/plain": [
       "\n",
       "\n",
       "# SHAP Summary"
      ]
     },
     "metadata": {},
     "output_type": "display_data"
    },
    {
     "data": {
      "text/html": [
       "<blockquote>SHAP summary plot shows the contribution of the features for each instance (row of data). The sum of the feature contributions and the bias term is equal to the raw prediction of the model, i.e., prediction before applying inverse link function.</blockquote>"
      ],
      "text/markdown": [
       "\n",
       "> SHAP summary plot shows the contribution of the features for each instance (row of data). The sum of the feature contributions and the bias term is equal to the raw prediction of the model, i.e., prediction before applying inverse link function."
      ],
      "text/plain": [
       "\n",
       "> SHAP summary plot shows the contribution of the features for each instance (row of data). The sum of the feature contributions and the bias term is equal to the raw prediction of the model, i.e., prediction before applying inverse link function."
      ]
     },
     "metadata": {},
     "output_type": "display_data"
    },
    {
     "data": {
      "image/png": "[encoded data removed]",
      "text/plain": [
       "<Figure size 1152x648 with 2 Axes>"
      ]
     },
     "metadata": {
      "needs_background": "light"
     },
     "output_type": "display_data"
    },
    {
     "name": "stdout",
     "output_type": "stream",
     "text": [
      "\n",
      "\n"
     ]
    },
    {
     "data": {
      "text/html": [
       "<h1>Variable Importance</h1>"
      ],
      "text/markdown": [
       "\n",
       "\n",
       "# Variable Importance"
      ],
      "text/plain": [
       "\n",
       "\n",
       "# Variable Importance"
      ]
     },
     "metadata": {},
     "output_type": "display_data"
    },
    {
     "data": {
      "text/html": [
       "<blockquote>The variable importance plot shows the relative importance of the most important variables in the model.</blockquote>"
      ],
      "text/markdown": [
       "\n",
       "> The variable importance plot shows the relative importance of the most important variables in the model."
      ],
      "text/plain": [
       "\n",
       "> The variable importance plot shows the relative importance of the most important variables in the model."
      ]
     },
     "metadata": {},
     "output_type": "display_data"
    },
    {
     "data": {
      "image/png": "[encoded data removed]",
      "text/plain": [
       "<Figure size 1152x648 with 1 Axes>"
      ]
     },
     "metadata": {},
     "output_type": "display_data"
    },
    {
     "data": {
      "text/html": [
       "<h1>SHAP Summary</h1>"
      ],
      "text/markdown": [
       "\n",
       "\n",
       "# SHAP Summary"
      ],
      "text/plain": [
       "\n",
       "\n",
       "# SHAP Summary"
      ]
     },
     "metadata": {},
     "output_type": "display_data"
    },
    {
     "data": {
      "text/html": [
       "<blockquote>SHAP summary plot shows the contribution of the features for each instance (row of data). The sum of the feature contributions and the bias term is equal to the raw prediction of the model, i.e., prediction before applying inverse link function.</blockquote>"
      ],
      "text/markdown": [
       "\n",
       "> SHAP summary plot shows the contribution of the features for each instance (row of data). The sum of the feature contributions and the bias term is equal to the raw prediction of the model, i.e., prediction before applying inverse link function."
      ],
      "text/plain": [
       "\n",
       "> SHAP summary plot shows the contribution of the features for each instance (row of data). The sum of the feature contributions and the bias term is equal to the raw prediction of the model, i.e., prediction before applying inverse link function."
      ]
     },
     "metadata": {},
     "output_type": "display_data"
    },
    {
     "data": {
      "image/png": "[encoded data removed]",
      "text/plain": [
       "<Figure size 1152x648 with 2 Axes>"
      ]
     },
     "metadata": {},
     "output_type": "display_data"
    }
   ],
   "source": [
    "aml.explain(test, include_explanations=[\"varimp\",'shap_summary'])"
   ]
  },
  {
   "cell_type": "code",
   "execution_count": 900,
   "metadata": {},
   "outputs": [],
   "source": [
    "## Test calling of model\n",
    "\n",
    "model_path = \"models/EffortEstimationModelv2/GBM_lr_annealing_selection__AutoML_20220206_202721_select_model\"\n",
    "saved_model = h2o.load_model(model_path)"
   ]
  },
  {
   "cell_type": "code",
   "execution_count": 902,
   "metadata": {},
   "outputs": [
    {
     "name": "stdout",
     "output_type": "stream",
     "text": [
      "gbm prediction progress: |████████████████████████████████████████████████| 100%\n"
     ]
    }
   ],
   "source": [
    "preds_read_model = model.predict(test)\n",
    "pd_preds_read_model = preds_read_model.as_data_frame()\n",
    "pd_preds_read_model['actual_time_taken'] = pd_test['refactoring_perc_time_taken']"
   ]
  },
  {
   "cell_type": "code",
   "execution_count": 903,
   "metadata": {},
   "outputs": [
    {
     "data": {
      "image/png": "[encoded data removed]",
      "text/plain": [
       "<Figure size 1080x1080 with 1 Axes>"
      ]
     },
     "metadata": {
      "needs_background": "light"
     },
     "output_type": "display_data"
    }
   ],
   "source": [
    "plotGraph(pd_preds_read_model['predict'], pd_preds_read_model['actual_time_taken'],'predict','actual_time_taken',' test')"
   ]
  },
  {
   "cell_type": "code",
   "execution_count": null,
   "metadata": {
    "scrolled": false
   },
   "outputs": [],
   "source": [
    "#aml.explain_row(test, row_index=0)"
   ]
  },
  {
   "cell_type": "code",
   "execution_count": null,
   "metadata": {},
   "outputs": [],
   "source": [
    "#h2o.shutdown()"
   ]
  },
  {
   "cell_type": "code",
   "execution_count": null,
   "metadata": {},
   "outputs": [],
   "source": []
  },
  {
   "cell_type": "code",
   "execution_count": null,
   "metadata": {},
   "outputs": [],
   "source": []
  }
 ],
 "metadata": {
  "kernelspec": {
   "display_name": "Python 3",
   "language": "python",
   "name": "python3"
  },
  "language_info": {
   "codemirror_mode": {
    "name": "ipython",
    "version": 3
   },
   "file_extension": ".py",
   "mimetype": "text/x-python",
   "name": "python",
   "nbconvert_exporter": "python",
   "pygments_lexer": "ipython3",
   "version": "3.7.3"
  }
 },
 "nbformat": 4,
 "nbformat_minor": 2
}
