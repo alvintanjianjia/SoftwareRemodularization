{
 "cells": [
  {
   "cell_type": "code",
   "execution_count": 1,
   "metadata": {},
   "outputs": [],
   "source": [
    "import json\n",
    "import pandas as pd\n",
    "import numpy as np\n",
    "import networkx as nx\n",
    "import jellyfish\n",
    "import os\n",
    "import shutil\n",
    "import subprocess\n",
    "import requests\n",
    "from github import Github\n",
    "from git import Repo\n",
    "from scipy.cluster.hierarchy import dendrogram, linkage\n",
    "from matplotlib import pyplot as plt\n",
    "from sklearn.feature_extraction.text import TfidfVectorizer\n",
    "from sklearn.cluster import KMeans\n",
    "from sklearn.metrics import adjusted_rand_score\n",
    "from sklearn import preprocessing\n",
    "from sklearn.cluster import AgglomerativeClustering\n",
    "from zipfile import ZipFile\n",
    "from filecmp import dircmp\n",
    "import configparser\n",
    "import h2o"
   ]
  },
  {
   "cell_type": "markdown",
   "metadata": {},
   "source": [
    "## Result Gathering"
   ]
  },
  {
   "cell_type": "code",
   "execution_count": 95,
   "metadata": {},
   "outputs": [
    {
     "name": "stdout",
     "output_type": "stream",
     "text": [
      "Alluxio.csv\n",
      "Assertj-core.csv\n",
      "Atmosphere.csv\n",
      "AxonFramework.csv\n",
      "Beam.csv\n",
      "Byte-buddy.csv\n",
      "Camel.csv\n",
      "Cxf.csv\n",
      "Dbeaver.csv\n",
      "Hadoop.csv\n",
      "Okhttp.csv\n",
      "Redisson.csv\n"
     ]
    }
   ],
   "source": [
    "main_df = None\n",
    "directory = \"Effort_Estimation_Results_v4/\"\n",
    "for filename in os.listdir(directory):\n",
    "    print(filename)\n",
    "    if main_df is None:\n",
    "        main_df = pd.read_csv(os.path.join(directory, filename))\n",
    "        main_df['project_name'] = filename.replace('.csv', '')\n",
    "    else:\n",
    "        temp_df = pd.read_csv(os.path.join(directory, filename))\n",
    "        temp_df['project_name'] = filename.replace('.csv', '')\n",
    "        frames = [main_df, temp_df]\n",
    "        main_df = pd.concat(frames)"
   ]
  },
  {
   "cell_type": "code",
   "execution_count": 96,
   "metadata": {},
   "outputs": [
    {
     "data": {
      "text/html": [
       "<div>\n",
       "<style scoped>\n",
       "    .dataframe tbody tr th:only-of-type {\n",
       "        vertical-align: middle;\n",
       "    }\n",
       "\n",
       "    .dataframe tbody tr th {\n",
       "        vertical-align: top;\n",
       "    }\n",
       "\n",
       "    .dataframe thead th {\n",
       "        text-align: right;\n",
       "    }\n",
       "</style>\n",
       "<table border=\"1\" class=\"dataframe\">\n",
       "  <thead>\n",
       "    <tr style=\"text-align: right;\">\n",
       "      <th></th>\n",
       "      <th>kmean_label</th>\n",
       "      <th>time_taken_mean</th>\n",
       "      <th>time_taken_min</th>\n",
       "      <th>time_taken_max</th>\n",
       "      <th>time_taken_q10</th>\n",
       "      <th>time_taken_q20</th>\n",
       "      <th>time_taken_q25</th>\n",
       "      <th>time_taken_q30</th>\n",
       "      <th>time_taken_q40</th>\n",
       "      <th>time_taken_q50</th>\n",
       "      <th>...</th>\n",
       "      <th>num_dependency_max</th>\n",
       "      <th>num_dependency_std</th>\n",
       "      <th>num_line_affected_mean</th>\n",
       "      <th>num_line_affected_min</th>\n",
       "      <th>num_line_affected_max</th>\n",
       "      <th>num_line_affected_std</th>\n",
       "      <th>actual_num_of_classes_touched_mean</th>\n",
       "      <th>actual_num_of_classes_touched_min</th>\n",
       "      <th>actual_num_of_classes_touched_max</th>\n",
       "      <th>actual_num_of_classes_touched_std</th>\n",
       "    </tr>\n",
       "  </thead>\n",
       "  <tbody>\n",
       "    <tr>\n",
       "      <th>0</th>\n",
       "      <td>3</td>\n",
       "      <td>19.225678</td>\n",
       "      <td>1.0</td>\n",
       "      <td>167.0</td>\n",
       "      <td>1.0</td>\n",
       "      <td>2.0</td>\n",
       "      <td>2.0</td>\n",
       "      <td>3.0</td>\n",
       "      <td>4.0</td>\n",
       "      <td>7.0</td>\n",
       "      <td>...</td>\n",
       "      <td>177.0</td>\n",
       "      <td>93.543216</td>\n",
       "      <td>458.666667</td>\n",
       "      <td>24</td>\n",
       "      <td>1245</td>\n",
       "      <td>682.248</td>\n",
       "      <td>35.0</td>\n",
       "      <td>1</td>\n",
       "      <td>54</td>\n",
       "      <td>29.512709</td>\n",
       "    </tr>\n",
       "    <tr>\n",
       "      <th>1</th>\n",
       "      <td>3</td>\n",
       "      <td>19.225678</td>\n",
       "      <td>1.0</td>\n",
       "      <td>167.0</td>\n",
       "      <td>1.0</td>\n",
       "      <td>2.0</td>\n",
       "      <td>2.0</td>\n",
       "      <td>3.0</td>\n",
       "      <td>4.0</td>\n",
       "      <td>7.0</td>\n",
       "      <td>...</td>\n",
       "      <td>95.0</td>\n",
       "      <td>41.719300</td>\n",
       "      <td>242.000000</td>\n",
       "      <td>242</td>\n",
       "      <td>242</td>\n",
       "      <td>0.000</td>\n",
       "      <td>4.0</td>\n",
       "      <td>4</td>\n",
       "      <td>4</td>\n",
       "      <td>0.000000</td>\n",
       "    </tr>\n",
       "    <tr>\n",
       "      <th>2</th>\n",
       "      <td>6</td>\n",
       "      <td>12.820546</td>\n",
       "      <td>1.0</td>\n",
       "      <td>166.0</td>\n",
       "      <td>1.0</td>\n",
       "      <td>1.0</td>\n",
       "      <td>2.0</td>\n",
       "      <td>2.0</td>\n",
       "      <td>3.0</td>\n",
       "      <td>5.0</td>\n",
       "      <td>...</td>\n",
       "      <td>85.0</td>\n",
       "      <td>NaN</td>\n",
       "      <td>61.000000</td>\n",
       "      <td>61</td>\n",
       "      <td>61</td>\n",
       "      <td>NaN</td>\n",
       "      <td>2.0</td>\n",
       "      <td>2</td>\n",
       "      <td>2</td>\n",
       "      <td>NaN</td>\n",
       "    </tr>\n",
       "    <tr>\n",
       "      <th>3</th>\n",
       "      <td>6</td>\n",
       "      <td>12.820546</td>\n",
       "      <td>1.0</td>\n",
       "      <td>166.0</td>\n",
       "      <td>1.0</td>\n",
       "      <td>1.0</td>\n",
       "      <td>2.0</td>\n",
       "      <td>2.0</td>\n",
       "      <td>3.0</td>\n",
       "      <td>5.0</td>\n",
       "      <td>...</td>\n",
       "      <td>3.0</td>\n",
       "      <td>NaN</td>\n",
       "      <td>78.000000</td>\n",
       "      <td>78</td>\n",
       "      <td>78</td>\n",
       "      <td>NaN</td>\n",
       "      <td>1.0</td>\n",
       "      <td>1</td>\n",
       "      <td>1</td>\n",
       "      <td>NaN</td>\n",
       "    </tr>\n",
       "    <tr>\n",
       "      <th>4</th>\n",
       "      <td>6</td>\n",
       "      <td>12.820546</td>\n",
       "      <td>1.0</td>\n",
       "      <td>166.0</td>\n",
       "      <td>1.0</td>\n",
       "      <td>1.0</td>\n",
       "      <td>2.0</td>\n",
       "      <td>2.0</td>\n",
       "      <td>3.0</td>\n",
       "      <td>5.0</td>\n",
       "      <td>...</td>\n",
       "      <td>78.0</td>\n",
       "      <td>0.000000</td>\n",
       "      <td>322.000000</td>\n",
       "      <td>322</td>\n",
       "      <td>322</td>\n",
       "      <td>0.000</td>\n",
       "      <td>1.5</td>\n",
       "      <td>1</td>\n",
       "      <td>2</td>\n",
       "      <td>0.707107</td>\n",
       "    </tr>\n",
       "  </tbody>\n",
       "</table>\n",
       "<p>5 rows × 199 columns</p>\n",
       "</div>"
      ],
      "text/plain": [
       "   kmean_label  time_taken_mean  time_taken_min  time_taken_max  \\\n",
       "0            3        19.225678             1.0           167.0   \n",
       "1            3        19.225678             1.0           167.0   \n",
       "2            6        12.820546             1.0           166.0   \n",
       "3            6        12.820546             1.0           166.0   \n",
       "4            6        12.820546             1.0           166.0   \n",
       "\n",
       "   time_taken_q10  time_taken_q20  time_taken_q25  time_taken_q30  \\\n",
       "0             1.0             2.0             2.0             3.0   \n",
       "1             1.0             2.0             2.0             3.0   \n",
       "2             1.0             1.0             2.0             2.0   \n",
       "3             1.0             1.0             2.0             2.0   \n",
       "4             1.0             1.0             2.0             2.0   \n",
       "\n",
       "   time_taken_q40  time_taken_q50  ...  num_dependency_max  \\\n",
       "0             4.0             7.0  ...               177.0   \n",
       "1             4.0             7.0  ...                95.0   \n",
       "2             3.0             5.0  ...                85.0   \n",
       "3             3.0             5.0  ...                 3.0   \n",
       "4             3.0             5.0  ...                78.0   \n",
       "\n",
       "   num_dependency_std  num_line_affected_mean  num_line_affected_min  \\\n",
       "0           93.543216              458.666667                     24   \n",
       "1           41.719300              242.000000                    242   \n",
       "2                 NaN               61.000000                     61   \n",
       "3                 NaN               78.000000                     78   \n",
       "4            0.000000              322.000000                    322   \n",
       "\n",
       "   num_line_affected_max num_line_affected_std  \\\n",
       "0                   1245               682.248   \n",
       "1                    242                 0.000   \n",
       "2                     61                   NaN   \n",
       "3                     78                   NaN   \n",
       "4                    322                 0.000   \n",
       "\n",
       "  actual_num_of_classes_touched_mean actual_num_of_classes_touched_min  \\\n",
       "0                               35.0                                 1   \n",
       "1                                4.0                                 4   \n",
       "2                                2.0                                 2   \n",
       "3                                1.0                                 1   \n",
       "4                                1.5                                 1   \n",
       "\n",
       "  actual_num_of_classes_touched_max actual_num_of_classes_touched_std  \n",
       "0                                54                         29.512709  \n",
       "1                                 4                          0.000000  \n",
       "2                                 2                               NaN  \n",
       "3                                 1                               NaN  \n",
       "4                                 2                          0.707107  \n",
       "\n",
       "[5 rows x 199 columns]"
      ]
     },
     "execution_count": 96,
     "metadata": {},
     "output_type": "execute_result"
    }
   ],
   "source": [
    "main_df.head()"
   ]
  },
  {
   "cell_type": "code",
   "execution_count": 97,
   "metadata": {},
   "outputs": [
    {
     "data": {
      "text/plain": [
       "366"
      ]
     },
     "execution_count": 97,
     "metadata": {},
     "output_type": "execute_result"
    }
   ],
   "source": [
    "len(main_df)"
   ]
  },
  {
   "cell_type": "code",
   "execution_count": 98,
   "metadata": {},
   "outputs": [],
   "source": [
    "def plotGraph(y_test,y_pred,regressorName):\n",
    "    if max(y_test) >= max(y_pred):\n",
    "        my_range = int(max(y_test))\n",
    "    else:\n",
    "        my_range = int(max(y_pred))\n",
    "    plt.scatter(range(len(y_test)), y_test, color='blue')\n",
    "    plt.scatter(range(len(y_pred)), y_pred, color='red')\n",
    "    plt.title(regressorName)\n",
    "    plt.show()\n",
    "    return"
   ]
  },
  {
   "cell_type": "code",
   "execution_count": 99,
   "metadata": {},
   "outputs": [
    {
     "data": {
      "image/png": "[encoded data removed]",
      "text/plain": [
       "<Figure size 432x288 with 1 Axes>"
      ]
     },
     "metadata": {
      "needs_background": "light"
     },
     "output_type": "display_data"
    }
   ],
   "source": [
    "plotGraph(main_df['time_taken'], main_df['time_taken_mean'],' test')"
   ]
  },
  {
   "cell_type": "code",
   "execution_count": 100,
   "metadata": {},
   "outputs": [],
   "source": [
    "def get_final_time_taken(row):\n",
    "    if row['time_taken'] > row['time_taken_q90']:\n",
    "        return row['time_taken'] - row['time_taken_q90']\n",
    "    elif row['time_taken'] > row['time_taken_q80']:\n",
    "        return row['time_taken'] - row['time_taken_q80']\n",
    "    elif row['time_taken'] > row['time_taken_q60']:\n",
    "        return row['time_taken'] - row['time_taken_q60']\n",
    "    elif row['time_taken'] > row['time_taken_q40']:\n",
    "        return row['time_taken'] - row['time_taken_q40']\n",
    "    elif row['time_taken'] > row['time_taken_q20']:\n",
    "        return row['time_taken'] - row['time_taken_q20']"
   ]
  },
  {
   "cell_type": "code",
   "execution_count": 101,
   "metadata": {},
   "outputs": [],
   "source": [
    "main_df['time_taken_final'] = main_df.apply(lambda row: get_final_time_taken(row), axis=1)\n",
    "\n"
   ]
  },
  {
   "cell_type": "code",
   "execution_count": 103,
   "metadata": {},
   "outputs": [
    {
     "data": {
      "image/png": "[encoded data removed]",
      "text/plain": [
       "<Figure size 432x288 with 1 Axes>"
      ]
     },
     "metadata": {
      "needs_background": "light"
     },
     "output_type": "display_data"
    }
   ],
   "source": [
    "plotGraph(main_df['time_taken_final'], main_df['time_taken_mean'],' test')"
   ]
  },
  {
   "cell_type": "code",
   "execution_count": 107,
   "metadata": {},
   "outputs": [],
   "source": [
    "main_df = main_df[main_df['time_taken_final'] <= 60]\n",
    "main_df = main_df[main_df['time_taken_final'] > 2]"
   ]
  },
  {
   "cell_type": "code",
   "execution_count": 108,
   "metadata": {},
   "outputs": [
    {
     "data": {
      "text/plain": [
       "7.0     19\n",
       "3.0     14\n",
       "5.0     12\n",
       "4.0      8\n",
       "9.0      7\n",
       "        ..\n",
       "7.4      1\n",
       "12.4     1\n",
       "2.6      1\n",
       "17.6     1\n",
       "35.6     1\n",
       "Name: time_taken_final, Length: 88, dtype: int64"
      ]
     },
     "execution_count": 108,
     "metadata": {},
     "output_type": "execute_result"
    }
   ],
   "source": [
    "main_df['time_taken_final'].value_counts()"
   ]
  },
  {
   "cell_type": "code",
   "execution_count": 109,
   "metadata": {},
   "outputs": [
    {
     "data": {
      "text/plain": [
       "{'whiskers': [<matplotlib.lines.Line2D at 0x1983eac3fd0>,\n",
       "  <matplotlib.lines.Line2D at 0x1983ead23c8>],\n",
       " 'caps': [<matplotlib.lines.Line2D at 0x1983ead2748>,\n",
       "  <matplotlib.lines.Line2D at 0x1983ead2ac8>],\n",
       " 'boxes': [<matplotlib.lines.Line2D at 0x1983eac3e80>],\n",
       " 'medians': [<matplotlib.lines.Line2D at 0x1983ead2e48>],\n",
       " 'fliers': [<matplotlib.lines.Line2D at 0x1983eadb208>],\n",
       " 'means': []}"
      ]
     },
     "execution_count": 109,
     "metadata": {},
     "output_type": "execute_result"
    },
    {
     "data": {
      "image/png": "[encoded data removed]",
      "text/plain": [
       "<Figure size 432x288 with 1 Axes>"
      ]
     },
     "metadata": {
      "needs_background": "light"
     },
     "output_type": "display_data"
    }
   ],
   "source": [
    "plt.boxplot(main_df['time_taken_final'])"
   ]
  },
  {
   "cell_type": "code",
   "execution_count": 110,
   "metadata": {},
   "outputs": [],
   "source": [
    "main_df = main_df.fillna(0)"
   ]
  },
  {
   "cell_type": "code",
   "execution_count": 143,
   "metadata": {},
   "outputs": [
    {
     "data": {
      "text/html": [
       "<div>\n",
       "<style scoped>\n",
       "    .dataframe tbody tr th:only-of-type {\n",
       "        vertical-align: middle;\n",
       "    }\n",
       "\n",
       "    .dataframe tbody tr th {\n",
       "        vertical-align: top;\n",
       "    }\n",
       "\n",
       "    .dataframe thead th {\n",
       "        text-align: right;\n",
       "    }\n",
       "</style>\n",
       "<table border=\"1\" class=\"dataframe\">\n",
       "  <thead>\n",
       "    <tr style=\"text-align: right;\">\n",
       "      <th></th>\n",
       "      <th>kmean_label</th>\n",
       "      <th>time_taken_mean</th>\n",
       "      <th>time_taken_min</th>\n",
       "      <th>time_taken_max</th>\n",
       "      <th>time_taken_q10</th>\n",
       "      <th>time_taken_q20</th>\n",
       "      <th>time_taken_q25</th>\n",
       "      <th>time_taken_q30</th>\n",
       "      <th>time_taken_q40</th>\n",
       "      <th>time_taken_q50</th>\n",
       "      <th>...</th>\n",
       "      <th>num_dependency_std</th>\n",
       "      <th>num_line_affected_mean</th>\n",
       "      <th>num_line_affected_min</th>\n",
       "      <th>num_line_affected_max</th>\n",
       "      <th>num_line_affected_std</th>\n",
       "      <th>actual_num_of_classes_touched_mean</th>\n",
       "      <th>actual_num_of_classes_touched_min</th>\n",
       "      <th>actual_num_of_classes_touched_max</th>\n",
       "      <th>actual_num_of_classes_touched_std</th>\n",
       "      <th>time_taken_final</th>\n",
       "    </tr>\n",
       "  </thead>\n",
       "  <tbody>\n",
       "    <tr>\n",
       "      <th>2</th>\n",
       "      <td>6</td>\n",
       "      <td>12.820546</td>\n",
       "      <td>1.0</td>\n",
       "      <td>166.0</td>\n",
       "      <td>1.0</td>\n",
       "      <td>1.0</td>\n",
       "      <td>2.0</td>\n",
       "      <td>2.0</td>\n",
       "      <td>3.0</td>\n",
       "      <td>5.0</td>\n",
       "      <td>...</td>\n",
       "      <td>0.000000</td>\n",
       "      <td>61.00</td>\n",
       "      <td>61</td>\n",
       "      <td>61</td>\n",
       "      <td>0.000000</td>\n",
       "      <td>2.000000</td>\n",
       "      <td>2</td>\n",
       "      <td>2</td>\n",
       "      <td>0.000000</td>\n",
       "      <td>7.0</td>\n",
       "    </tr>\n",
       "    <tr>\n",
       "      <th>9</th>\n",
       "      <td>10</td>\n",
       "      <td>14.581832</td>\n",
       "      <td>1.0</td>\n",
       "      <td>152.0</td>\n",
       "      <td>1.0</td>\n",
       "      <td>1.2</td>\n",
       "      <td>2.0</td>\n",
       "      <td>2.0</td>\n",
       "      <td>4.0</td>\n",
       "      <td>6.0</td>\n",
       "      <td>...</td>\n",
       "      <td>0.000000</td>\n",
       "      <td>764.00</td>\n",
       "      <td>764</td>\n",
       "      <td>764</td>\n",
       "      <td>0.000000</td>\n",
       "      <td>9.000000</td>\n",
       "      <td>9</td>\n",
       "      <td>9</td>\n",
       "      <td>0.000000</td>\n",
       "      <td>6.0</td>\n",
       "    </tr>\n",
       "    <tr>\n",
       "      <th>11</th>\n",
       "      <td>10</td>\n",
       "      <td>14.581832</td>\n",
       "      <td>1.0</td>\n",
       "      <td>152.0</td>\n",
       "      <td>1.0</td>\n",
       "      <td>1.2</td>\n",
       "      <td>2.0</td>\n",
       "      <td>2.0</td>\n",
       "      <td>4.0</td>\n",
       "      <td>6.0</td>\n",
       "      <td>...</td>\n",
       "      <td>0.000000</td>\n",
       "      <td>115.00</td>\n",
       "      <td>115</td>\n",
       "      <td>115</td>\n",
       "      <td>0.000000</td>\n",
       "      <td>4.500000</td>\n",
       "      <td>3</td>\n",
       "      <td>6</td>\n",
       "      <td>2.121320</td>\n",
       "      <td>12.0</td>\n",
       "    </tr>\n",
       "    <tr>\n",
       "      <th>15</th>\n",
       "      <td>10</td>\n",
       "      <td>14.581832</td>\n",
       "      <td>1.0</td>\n",
       "      <td>152.0</td>\n",
       "      <td>1.0</td>\n",
       "      <td>1.2</td>\n",
       "      <td>2.0</td>\n",
       "      <td>2.0</td>\n",
       "      <td>4.0</td>\n",
       "      <td>6.0</td>\n",
       "      <td>...</td>\n",
       "      <td>0.000000</td>\n",
       "      <td>47.00</td>\n",
       "      <td>47</td>\n",
       "      <td>47</td>\n",
       "      <td>0.000000</td>\n",
       "      <td>9.333333</td>\n",
       "      <td>1</td>\n",
       "      <td>14</td>\n",
       "      <td>7.234178</td>\n",
       "      <td>8.0</td>\n",
       "    </tr>\n",
       "    <tr>\n",
       "      <th>0</th>\n",
       "      <td>1</td>\n",
       "      <td>46.327198</td>\n",
       "      <td>1.0</td>\n",
       "      <td>167.0</td>\n",
       "      <td>2.0</td>\n",
       "      <td>6.6</td>\n",
       "      <td>11.0</td>\n",
       "      <td>16.0</td>\n",
       "      <td>22.2</td>\n",
       "      <td>28.0</td>\n",
       "      <td>...</td>\n",
       "      <td>4.949747</td>\n",
       "      <td>119.50</td>\n",
       "      <td>64</td>\n",
       "      <td>175</td>\n",
       "      <td>78.488853</td>\n",
       "      <td>68.500000</td>\n",
       "      <td>59</td>\n",
       "      <td>78</td>\n",
       "      <td>13.435029</td>\n",
       "      <td>2.8</td>\n",
       "    </tr>\n",
       "    <tr>\n",
       "      <th>...</th>\n",
       "      <td>...</td>\n",
       "      <td>...</td>\n",
       "      <td>...</td>\n",
       "      <td>...</td>\n",
       "      <td>...</td>\n",
       "      <td>...</td>\n",
       "      <td>...</td>\n",
       "      <td>...</td>\n",
       "      <td>...</td>\n",
       "      <td>...</td>\n",
       "      <td>...</td>\n",
       "      <td>...</td>\n",
       "      <td>...</td>\n",
       "      <td>...</td>\n",
       "      <td>...</td>\n",
       "      <td>...</td>\n",
       "      <td>...</td>\n",
       "      <td>...</td>\n",
       "      <td>...</td>\n",
       "      <td>...</td>\n",
       "      <td>...</td>\n",
       "    </tr>\n",
       "    <tr>\n",
       "      <th>36</th>\n",
       "      <td>8</td>\n",
       "      <td>12.012698</td>\n",
       "      <td>1.0</td>\n",
       "      <td>167.0</td>\n",
       "      <td>1.0</td>\n",
       "      <td>1.0</td>\n",
       "      <td>2.0</td>\n",
       "      <td>2.0</td>\n",
       "      <td>3.0</td>\n",
       "      <td>4.0</td>\n",
       "      <td>...</td>\n",
       "      <td>0.000000</td>\n",
       "      <td>411.00</td>\n",
       "      <td>411</td>\n",
       "      <td>411</td>\n",
       "      <td>0.000000</td>\n",
       "      <td>1.000000</td>\n",
       "      <td>1</td>\n",
       "      <td>1</td>\n",
       "      <td>0.000000</td>\n",
       "      <td>47.4</td>\n",
       "    </tr>\n",
       "    <tr>\n",
       "      <th>1</th>\n",
       "      <td>6</td>\n",
       "      <td>24.722772</td>\n",
       "      <td>1.0</td>\n",
       "      <td>148.0</td>\n",
       "      <td>2.0</td>\n",
       "      <td>3.0</td>\n",
       "      <td>4.0</td>\n",
       "      <td>6.0</td>\n",
       "      <td>10.4</td>\n",
       "      <td>14.0</td>\n",
       "      <td>...</td>\n",
       "      <td>7.365460</td>\n",
       "      <td>366.75</td>\n",
       "      <td>128</td>\n",
       "      <td>907</td>\n",
       "      <td>362.783108</td>\n",
       "      <td>5.000000</td>\n",
       "      <td>2</td>\n",
       "      <td>8</td>\n",
       "      <td>2.581989</td>\n",
       "      <td>2.6</td>\n",
       "    </tr>\n",
       "    <tr>\n",
       "      <th>2</th>\n",
       "      <td>7</td>\n",
       "      <td>24.990354</td>\n",
       "      <td>1.0</td>\n",
       "      <td>167.0</td>\n",
       "      <td>1.0</td>\n",
       "      <td>2.0</td>\n",
       "      <td>3.0</td>\n",
       "      <td>5.0</td>\n",
       "      <td>8.0</td>\n",
       "      <td>12.0</td>\n",
       "      <td>...</td>\n",
       "      <td>157.684284</td>\n",
       "      <td>323.25</td>\n",
       "      <td>71</td>\n",
       "      <td>571</td>\n",
       "      <td>281.001038</td>\n",
       "      <td>20.750000</td>\n",
       "      <td>2</td>\n",
       "      <td>40</td>\n",
       "      <td>15.649814</td>\n",
       "      <td>4.0</td>\n",
       "    </tr>\n",
       "    <tr>\n",
       "      <th>6</th>\n",
       "      <td>11</td>\n",
       "      <td>23.121622</td>\n",
       "      <td>1.0</td>\n",
       "      <td>162.0</td>\n",
       "      <td>1.0</td>\n",
       "      <td>2.0</td>\n",
       "      <td>3.0</td>\n",
       "      <td>4.0</td>\n",
       "      <td>6.0</td>\n",
       "      <td>8.0</td>\n",
       "      <td>...</td>\n",
       "      <td>3.535534</td>\n",
       "      <td>24.00</td>\n",
       "      <td>15</td>\n",
       "      <td>33</td>\n",
       "      <td>12.727922</td>\n",
       "      <td>3.500000</td>\n",
       "      <td>1</td>\n",
       "      <td>6</td>\n",
       "      <td>3.535534</td>\n",
       "      <td>3.0</td>\n",
       "    </tr>\n",
       "    <tr>\n",
       "      <th>0</th>\n",
       "      <td>2</td>\n",
       "      <td>47.750000</td>\n",
       "      <td>3.0</td>\n",
       "      <td>165.0</td>\n",
       "      <td>8.2</td>\n",
       "      <td>19.4</td>\n",
       "      <td>20.5</td>\n",
       "      <td>21.9</td>\n",
       "      <td>24.4</td>\n",
       "      <td>34.0</td>\n",
       "      <td>...</td>\n",
       "      <td>0.000000</td>\n",
       "      <td>30.00</td>\n",
       "      <td>30</td>\n",
       "      <td>30</td>\n",
       "      <td>0.000000</td>\n",
       "      <td>7.000000</td>\n",
       "      <td>7</td>\n",
       "      <td>7</td>\n",
       "      <td>0.000000</td>\n",
       "      <td>6.0</td>\n",
       "    </tr>\n",
       "  </tbody>\n",
       "</table>\n",
       "<p>169 rows × 200 columns</p>\n",
       "</div>"
      ],
      "text/plain": [
       "    kmean_label  time_taken_mean  time_taken_min  time_taken_max  \\\n",
       "2             6        12.820546             1.0           166.0   \n",
       "9            10        14.581832             1.0           152.0   \n",
       "11           10        14.581832             1.0           152.0   \n",
       "15           10        14.581832             1.0           152.0   \n",
       "0             1        46.327198             1.0           167.0   \n",
       "..          ...              ...             ...             ...   \n",
       "36            8        12.012698             1.0           167.0   \n",
       "1             6        24.722772             1.0           148.0   \n",
       "2             7        24.990354             1.0           167.0   \n",
       "6            11        23.121622             1.0           162.0   \n",
       "0             2        47.750000             3.0           165.0   \n",
       "\n",
       "    time_taken_q10  time_taken_q20  time_taken_q25  time_taken_q30  \\\n",
       "2              1.0             1.0             2.0             2.0   \n",
       "9              1.0             1.2             2.0             2.0   \n",
       "11             1.0             1.2             2.0             2.0   \n",
       "15             1.0             1.2             2.0             2.0   \n",
       "0              2.0             6.6            11.0            16.0   \n",
       "..             ...             ...             ...             ...   \n",
       "36             1.0             1.0             2.0             2.0   \n",
       "1              2.0             3.0             4.0             6.0   \n",
       "2              1.0             2.0             3.0             5.0   \n",
       "6              1.0             2.0             3.0             4.0   \n",
       "0              8.2            19.4            20.5            21.9   \n",
       "\n",
       "    time_taken_q40  time_taken_q50  ...  num_dependency_std  \\\n",
       "2              3.0             5.0  ...            0.000000   \n",
       "9              4.0             6.0  ...            0.000000   \n",
       "11             4.0             6.0  ...            0.000000   \n",
       "15             4.0             6.0  ...            0.000000   \n",
       "0             22.2            28.0  ...            4.949747   \n",
       "..             ...             ...  ...                 ...   \n",
       "36             3.0             4.0  ...            0.000000   \n",
       "1             10.4            14.0  ...            7.365460   \n",
       "2              8.0            12.0  ...          157.684284   \n",
       "6              6.0             8.0  ...            3.535534   \n",
       "0             24.4            34.0  ...            0.000000   \n",
       "\n",
       "    num_line_affected_mean  num_line_affected_min  num_line_affected_max  \\\n",
       "2                    61.00                     61                     61   \n",
       "9                   764.00                    764                    764   \n",
       "11                  115.00                    115                    115   \n",
       "15                   47.00                     47                     47   \n",
       "0                   119.50                     64                    175   \n",
       "..                     ...                    ...                    ...   \n",
       "36                  411.00                    411                    411   \n",
       "1                   366.75                    128                    907   \n",
       "2                   323.25                     71                    571   \n",
       "6                    24.00                     15                     33   \n",
       "0                    30.00                     30                     30   \n",
       "\n",
       "    num_line_affected_std actual_num_of_classes_touched_mean  \\\n",
       "2                0.000000                           2.000000   \n",
       "9                0.000000                           9.000000   \n",
       "11               0.000000                           4.500000   \n",
       "15               0.000000                           9.333333   \n",
       "0               78.488853                          68.500000   \n",
       "..                    ...                                ...   \n",
       "36               0.000000                           1.000000   \n",
       "1              362.783108                           5.000000   \n",
       "2              281.001038                          20.750000   \n",
       "6               12.727922                           3.500000   \n",
       "0                0.000000                           7.000000   \n",
       "\n",
       "   actual_num_of_classes_touched_min actual_num_of_classes_touched_max  \\\n",
       "2                                  2                                 2   \n",
       "9                                  9                                 9   \n",
       "11                                 3                                 6   \n",
       "15                                 1                                14   \n",
       "0                                 59                                78   \n",
       "..                               ...                               ...   \n",
       "36                                 1                                 1   \n",
       "1                                  2                                 8   \n",
       "2                                  2                                40   \n",
       "6                                  1                                 6   \n",
       "0                                  7                                 7   \n",
       "\n",
       "   actual_num_of_classes_touched_std time_taken_final  \n",
       "2                           0.000000              7.0  \n",
       "9                           0.000000              6.0  \n",
       "11                          2.121320             12.0  \n",
       "15                          7.234178              8.0  \n",
       "0                          13.435029              2.8  \n",
       "..                               ...              ...  \n",
       "36                          0.000000             47.4  \n",
       "1                           2.581989              2.6  \n",
       "2                          15.649814              4.0  \n",
       "6                           3.535534              3.0  \n",
       "0                           0.000000              6.0  \n",
       "\n",
       "[169 rows x 200 columns]"
      ]
     },
     "execution_count": 143,
     "metadata": {},
     "output_type": "execute_result"
    }
   ],
   "source": [
    "main_df"
   ]
  },
  {
   "cell_type": "code",
   "execution_count": 112,
   "metadata": {},
   "outputs": [],
   "source": [
    "main_df.to_csv('test_effort_model.csv', index=False)"
   ]
  },
  {
   "cell_type": "markdown",
   "metadata": {},
   "source": [
    "## EDA (Run only if absolutely necessary on minimum features)"
   ]
  },
  {
   "cell_type": "code",
   "execution_count": 113,
   "metadata": {
    "scrolled": false
   },
   "outputs": [],
   "source": [
    "#from pandas_profiling import ProfileReport\n",
    "\n",
    "#profile = ProfileReport(main_df, title=\"Pandas Profiling Report\",explorative=True)\n",
    "#profile"
   ]
  },
  {
   "cell_type": "code",
   "execution_count": 114,
   "metadata": {},
   "outputs": [
    {
     "name": "stdout",
     "output_type": "stream",
     "text": [
      "kmean_label\n",
      "time_taken_mean\n",
      "time_taken_min\n",
      "time_taken_max\n",
      "time_taken_q10\n",
      "time_taken_q20\n",
      "time_taken_q25\n",
      "time_taken_q30\n",
      "time_taken_q40\n",
      "time_taken_q50\n",
      "time_taken_q60\n",
      "time_taken_q70\n",
      "time_taken_q75\n",
      "time_taken_q80\n",
      "time_taken_q90\n",
      "sha\n",
      "name\n",
      "email\n",
      "date\n",
      "login\n",
      "message\n",
      "parent_sha\n",
      "parent_date\n",
      "time_taken\n",
      "contains_refactoring\n",
      "project_name\n",
      "commit_compared_with\n",
      "cbo_mean\n",
      "cbo_min\n",
      "cbo_max\n",
      "cbo_std\n",
      "wmc_mean\n",
      "wmc_min\n",
      "wmc_max\n",
      "wmc_std\n",
      "dit_mean\n",
      "dit_min\n",
      "dit_max\n",
      "dit_std\n",
      "rfc_mean\n",
      "rfc_min\n",
      "rfc_max\n",
      "rfc_std\n",
      "lcom_mean\n",
      "lcom_min\n",
      "lcom_max\n",
      "lcom_std\n",
      "totalMethods_mean\n",
      "totalMethods_min\n",
      "totalMethods_max\n",
      "totalMethods_std\n",
      "staticMethods_mean\n",
      "staticMethods_min\n",
      "staticMethods_max\n",
      "staticMethods_std\n",
      "publicMethods_mean\n",
      "publicMethods_min\n",
      "publicMethods_max\n",
      "publicMethods_std\n",
      "privateMethods_mean\n",
      "privateMethods_min\n",
      "privateMethods_max\n",
      "privateMethods_std\n",
      "protectedMethods_mean\n",
      "protectedMethods_min\n",
      "protectedMethods_max\n",
      "protectedMethods_std\n",
      "defaultMethods_mean\n",
      "defaultMethods_min\n",
      "defaultMethods_max\n",
      "defaultMethods_std\n",
      "abstractMethods_mean\n",
      "abstractMethods_min\n",
      "abstractMethods_max\n",
      "abstractMethods_std\n",
      "finalMethods_mean\n",
      "finalMethods_min\n",
      "finalMethods_max\n",
      "finalMethods_std\n",
      "synchronizedMethods_mean\n",
      "synchronizedMethods_min\n",
      "synchronizedMethods_max\n",
      "synchronizedMethods_std\n",
      "totalFields_mean\n",
      "totalFields_min\n",
      "totalFields_max\n",
      "totalFields_std\n",
      "staticFields_mean\n",
      "staticFields_min\n",
      "staticFields_max\n",
      "staticFields_std\n",
      "publicFields_mean\n",
      "publicFields_min\n",
      "publicFields_max\n",
      "publicFields_std\n",
      "privateFields_mean\n",
      "privateFields_min\n",
      "privateFields_max\n",
      "privateFields_std\n",
      "protectedFields_mean\n",
      "protectedFields_min\n",
      "protectedFields_max\n",
      "protectedFields_std\n",
      "defaultFields_mean\n",
      "defaultFields_min\n",
      "defaultFields_max\n",
      "defaultFields_std\n",
      "finalFields_mean\n",
      "finalFields_min\n",
      "finalFields_max\n",
      "finalFields_std\n",
      "synchronizedFields_mean\n",
      "synchronizedFields_min\n",
      "synchronizedFields_max\n",
      "synchronizedFields_std\n",
      "nosi_mean\n",
      "nosi_min\n",
      "nosi_max\n",
      "nosi_std\n",
      "loc_mean\n",
      "loc_min\n",
      "loc_max\n",
      "loc_std\n",
      "returnQty_mean\n",
      "returnQty_min\n",
      "returnQty_max\n",
      "returnQty_std\n",
      "loopQty_mean\n",
      "loopQty_min\n",
      "loopQty_max\n",
      "loopQty_std\n",
      "comparisonsQty_mean\n",
      "comparisonsQty_min\n",
      "comparisonsQty_max\n",
      "comparisonsQty_std\n",
      "tryCatchQty_mean\n",
      "tryCatchQty_min\n",
      "tryCatchQty_max\n",
      "tryCatchQty_std\n",
      "parenthesizedExpsQty_mean\n",
      "parenthesizedExpsQty_min\n",
      "parenthesizedExpsQty_max\n",
      "parenthesizedExpsQty_std\n",
      "stringLiteralsQty_mean\n",
      "stringLiteralsQty_min\n",
      "stringLiteralsQty_max\n",
      "stringLiteralsQty_std\n",
      "numbersQty_mean\n",
      "numbersQty_min\n",
      "numbersQty_max\n",
      "numbersQty_std\n",
      "assignmentsQty_mean\n",
      "assignmentsQty_min\n",
      "assignmentsQty_max\n",
      "assignmentsQty_std\n",
      "mathOperationsQty_mean\n",
      "mathOperationsQty_min\n",
      "mathOperationsQty_max\n",
      "mathOperationsQty_std\n",
      "variablesQty_mean\n",
      "variablesQty_min\n",
      "variablesQty_max\n",
      "variablesQty_std\n",
      "maxNestedBlocks_mean\n",
      "maxNestedBlocks_min\n",
      "maxNestedBlocks_max\n",
      "maxNestedBlocks_std\n",
      "anonymousClassesQty_mean\n",
      "anonymousClassesQty_min\n",
      "anonymousClassesQty_max\n",
      "anonymousClassesQty_std\n",
      "subClassesQty_mean\n",
      "subClassesQty_min\n",
      "subClassesQty_max\n",
      "subClassesQty_std\n",
      "lambdasQty_mean\n",
      "lambdasQty_min\n",
      "lambdasQty_max\n",
      "lambdasQty_std\n",
      "uniqueWordsQty_mean\n",
      "uniqueWordsQty_min\n",
      "uniqueWordsQty_max\n",
      "uniqueWordsQty_std\n",
      "modifiers_mean\n",
      "modifiers_min\n",
      "modifiers_max\n",
      "modifiers_std\n",
      "num_dependency_mean\n",
      "num_dependency_min\n",
      "num_dependency_max\n",
      "num_dependency_std\n",
      "num_line_affected_mean\n",
      "num_line_affected_min\n",
      "num_line_affected_max\n",
      "num_line_affected_std\n",
      "actual_num_of_classes_touched_mean\n",
      "actual_num_of_classes_touched_min\n",
      "actual_num_of_classes_touched_max\n",
      "actual_num_of_classes_touched_std\n",
      "time_taken_final\n"
     ]
    }
   ],
   "source": [
    "for columns in main_df.columns:\n",
    "    print(columns)"
   ]
  },
  {
   "cell_type": "markdown",
   "metadata": {},
   "source": [
    "### Only taking mean for num_dependency and num_line_affected since there is only one"
   ]
  },
  {
   "cell_type": "code",
   "execution_count": 115,
   "metadata": {},
   "outputs": [],
   "source": [
    "final_col = []\n",
    "column_to_skip = ['sha',\n",
    "'name','email','login',\n",
    "'date','message',\n",
    "'parent_sha','parent_date',\n",
    "'time_taken','contains_refactoring',\n",
    "'kmean_label','time_taken_mean',\n",
    "'time_taken_min',\n",
    "'time_taken_max',\n",
    "'time_taken_q10',\n",
    "'time_taken_q20',\n",
    "'time_taken_q25',\n",
    "'time_taken_q30',\n",
    "'time_taken_q40',\n",
    "'time_taken_q50',\n",
    "'time_taken_q60',\n",
    "'time_taken_q70',\n",
    "'time_taken_q75',\n",
    "'time_taken_q80',\n",
    "'time_taken_q90',\n",
    "'project_name','commit_compared_with','actual_num_of_classes_touched_mean',\n",
    " 'actual_num_of_classes_touched_min',\n",
    " 'actual_num_of_classes_touched_max',\n",
    " 'actual_num_of_classes_touched_std',\n",
    "                 'num_dependency_min',\n",
    "                  'num_dependency_max',\n",
    "                  'num_dependency_std',\n",
    "                 'num_line_affected_min',\n",
    "                 'num_line_affected_max',\n",
    "                 'num_line_affected_std']\n",
    "for element in main_df.columns:\n",
    "    #print(\"'\" + element + \"',\")\n",
    "    if element not in column_to_skip:\n",
    "        final_col.append(element)"
   ]
  },
  {
   "cell_type": "code",
   "execution_count": 116,
   "metadata": {},
   "outputs": [
    {
     "data": {
      "text/plain": [
       "['cbo_mean',\n",
       " 'cbo_min',\n",
       " 'cbo_max',\n",
       " 'cbo_std',\n",
       " 'wmc_mean',\n",
       " 'wmc_min',\n",
       " 'wmc_max',\n",
       " 'wmc_std',\n",
       " 'dit_mean',\n",
       " 'dit_min',\n",
       " 'dit_max',\n",
       " 'dit_std',\n",
       " 'rfc_mean',\n",
       " 'rfc_min',\n",
       " 'rfc_max',\n",
       " 'rfc_std',\n",
       " 'lcom_mean',\n",
       " 'lcom_min',\n",
       " 'lcom_max',\n",
       " 'lcom_std',\n",
       " 'totalMethods_mean',\n",
       " 'totalMethods_min',\n",
       " 'totalMethods_max',\n",
       " 'totalMethods_std',\n",
       " 'staticMethods_mean',\n",
       " 'staticMethods_min',\n",
       " 'staticMethods_max',\n",
       " 'staticMethods_std',\n",
       " 'publicMethods_mean',\n",
       " 'publicMethods_min',\n",
       " 'publicMethods_max',\n",
       " 'publicMethods_std',\n",
       " 'privateMethods_mean',\n",
       " 'privateMethods_min',\n",
       " 'privateMethods_max',\n",
       " 'privateMethods_std',\n",
       " 'protectedMethods_mean',\n",
       " 'protectedMethods_min',\n",
       " 'protectedMethods_max',\n",
       " 'protectedMethods_std',\n",
       " 'defaultMethods_mean',\n",
       " 'defaultMethods_min',\n",
       " 'defaultMethods_max',\n",
       " 'defaultMethods_std',\n",
       " 'abstractMethods_mean',\n",
       " 'abstractMethods_min',\n",
       " 'abstractMethods_max',\n",
       " 'abstractMethods_std',\n",
       " 'finalMethods_mean',\n",
       " 'finalMethods_min',\n",
       " 'finalMethods_max',\n",
       " 'finalMethods_std',\n",
       " 'synchronizedMethods_mean',\n",
       " 'synchronizedMethods_min',\n",
       " 'synchronizedMethods_max',\n",
       " 'synchronizedMethods_std',\n",
       " 'totalFields_mean',\n",
       " 'totalFields_min',\n",
       " 'totalFields_max',\n",
       " 'totalFields_std',\n",
       " 'staticFields_mean',\n",
       " 'staticFields_min',\n",
       " 'staticFields_max',\n",
       " 'staticFields_std',\n",
       " 'publicFields_mean',\n",
       " 'publicFields_min',\n",
       " 'publicFields_max',\n",
       " 'publicFields_std',\n",
       " 'privateFields_mean',\n",
       " 'privateFields_min',\n",
       " 'privateFields_max',\n",
       " 'privateFields_std',\n",
       " 'protectedFields_mean',\n",
       " 'protectedFields_min',\n",
       " 'protectedFields_max',\n",
       " 'protectedFields_std',\n",
       " 'defaultFields_mean',\n",
       " 'defaultFields_min',\n",
       " 'defaultFields_max',\n",
       " 'defaultFields_std',\n",
       " 'finalFields_mean',\n",
       " 'finalFields_min',\n",
       " 'finalFields_max',\n",
       " 'finalFields_std',\n",
       " 'synchronizedFields_mean',\n",
       " 'synchronizedFields_min',\n",
       " 'synchronizedFields_max',\n",
       " 'synchronizedFields_std',\n",
       " 'nosi_mean',\n",
       " 'nosi_min',\n",
       " 'nosi_max',\n",
       " 'nosi_std',\n",
       " 'loc_mean',\n",
       " 'loc_min',\n",
       " 'loc_max',\n",
       " 'loc_std',\n",
       " 'returnQty_mean',\n",
       " 'returnQty_min',\n",
       " 'returnQty_max',\n",
       " 'returnQty_std',\n",
       " 'loopQty_mean',\n",
       " 'loopQty_min',\n",
       " 'loopQty_max',\n",
       " 'loopQty_std',\n",
       " 'comparisonsQty_mean',\n",
       " 'comparisonsQty_min',\n",
       " 'comparisonsQty_max',\n",
       " 'comparisonsQty_std',\n",
       " 'tryCatchQty_mean',\n",
       " 'tryCatchQty_min',\n",
       " 'tryCatchQty_max',\n",
       " 'tryCatchQty_std',\n",
       " 'parenthesizedExpsQty_mean',\n",
       " 'parenthesizedExpsQty_min',\n",
       " 'parenthesizedExpsQty_max',\n",
       " 'parenthesizedExpsQty_std',\n",
       " 'stringLiteralsQty_mean',\n",
       " 'stringLiteralsQty_min',\n",
       " 'stringLiteralsQty_max',\n",
       " 'stringLiteralsQty_std',\n",
       " 'numbersQty_mean',\n",
       " 'numbersQty_min',\n",
       " 'numbersQty_max',\n",
       " 'numbersQty_std',\n",
       " 'assignmentsQty_mean',\n",
       " 'assignmentsQty_min',\n",
       " 'assignmentsQty_max',\n",
       " 'assignmentsQty_std',\n",
       " 'mathOperationsQty_mean',\n",
       " 'mathOperationsQty_min',\n",
       " 'mathOperationsQty_max',\n",
       " 'mathOperationsQty_std',\n",
       " 'variablesQty_mean',\n",
       " 'variablesQty_min',\n",
       " 'variablesQty_max',\n",
       " 'variablesQty_std',\n",
       " 'maxNestedBlocks_mean',\n",
       " 'maxNestedBlocks_min',\n",
       " 'maxNestedBlocks_max',\n",
       " 'maxNestedBlocks_std',\n",
       " 'anonymousClassesQty_mean',\n",
       " 'anonymousClassesQty_min',\n",
       " 'anonymousClassesQty_max',\n",
       " 'anonymousClassesQty_std',\n",
       " 'subClassesQty_mean',\n",
       " 'subClassesQty_min',\n",
       " 'subClassesQty_max',\n",
       " 'subClassesQty_std',\n",
       " 'lambdasQty_mean',\n",
       " 'lambdasQty_min',\n",
       " 'lambdasQty_max',\n",
       " 'lambdasQty_std',\n",
       " 'uniqueWordsQty_mean',\n",
       " 'uniqueWordsQty_min',\n",
       " 'uniqueWordsQty_max',\n",
       " 'uniqueWordsQty_std',\n",
       " 'modifiers_mean',\n",
       " 'modifiers_min',\n",
       " 'modifiers_max',\n",
       " 'modifiers_std',\n",
       " 'num_dependency_mean',\n",
       " 'num_line_affected_mean',\n",
       " 'time_taken_final']"
      ]
     },
     "execution_count": 116,
     "metadata": {},
     "output_type": "execute_result"
    }
   ],
   "source": [
    "final_col"
   ]
  },
  {
   "cell_type": "code",
   "execution_count": 117,
   "metadata": {},
   "outputs": [],
   "source": [
    "X_col = final_col.copy()\n",
    "X_col.remove('time_taken_final')\n",
    "Y_col = ['time_taken_final']\n",
    "\n",
    "X = main_df[X_col]\n",
    "y = main_df[Y_col]\n",
    "final_df = main_df[final_col]"
   ]
  },
  {
   "cell_type": "code",
   "execution_count": 118,
   "metadata": {},
   "outputs": [
    {
     "data": {
      "text/html": [
       "<div>\n",
       "<style scoped>\n",
       "    .dataframe tbody tr th:only-of-type {\n",
       "        vertical-align: middle;\n",
       "    }\n",
       "\n",
       "    .dataframe tbody tr th {\n",
       "        vertical-align: top;\n",
       "    }\n",
       "\n",
       "    .dataframe thead th {\n",
       "        text-align: right;\n",
       "    }\n",
       "</style>\n",
       "<table border=\"1\" class=\"dataframe\">\n",
       "  <thead>\n",
       "    <tr style=\"text-align: right;\">\n",
       "      <th></th>\n",
       "      <th>cbo_mean</th>\n",
       "      <th>cbo_min</th>\n",
       "      <th>cbo_max</th>\n",
       "      <th>cbo_std</th>\n",
       "      <th>wmc_mean</th>\n",
       "      <th>wmc_min</th>\n",
       "      <th>wmc_max</th>\n",
       "      <th>wmc_std</th>\n",
       "      <th>dit_mean</th>\n",
       "      <th>dit_min</th>\n",
       "      <th>...</th>\n",
       "      <th>uniqueWordsQty_mean</th>\n",
       "      <th>uniqueWordsQty_min</th>\n",
       "      <th>uniqueWordsQty_max</th>\n",
       "      <th>uniqueWordsQty_std</th>\n",
       "      <th>modifiers_mean</th>\n",
       "      <th>modifiers_min</th>\n",
       "      <th>modifiers_max</th>\n",
       "      <th>modifiers_std</th>\n",
       "      <th>num_dependency_mean</th>\n",
       "      <th>num_line_affected_mean</th>\n",
       "    </tr>\n",
       "  </thead>\n",
       "  <tbody>\n",
       "    <tr>\n",
       "      <th>2</th>\n",
       "      <td>11.0</td>\n",
       "      <td>11.0</td>\n",
       "      <td>11.0</td>\n",
       "      <td>0.00000</td>\n",
       "      <td>8.0</td>\n",
       "      <td>8.0</td>\n",
       "      <td>8.0</td>\n",
       "      <td>0.000000</td>\n",
       "      <td>2.0</td>\n",
       "      <td>2.0</td>\n",
       "      <td>...</td>\n",
       "      <td>58.0</td>\n",
       "      <td>58.0</td>\n",
       "      <td>58.0</td>\n",
       "      <td>0.00000</td>\n",
       "      <td>17.0</td>\n",
       "      <td>17.0</td>\n",
       "      <td>17.0</td>\n",
       "      <td>0.0</td>\n",
       "      <td>85.0</td>\n",
       "      <td>61.0</td>\n",
       "    </tr>\n",
       "    <tr>\n",
       "      <th>9</th>\n",
       "      <td>38.0</td>\n",
       "      <td>38.0</td>\n",
       "      <td>38.0</td>\n",
       "      <td>0.00000</td>\n",
       "      <td>57.0</td>\n",
       "      <td>57.0</td>\n",
       "      <td>57.0</td>\n",
       "      <td>0.000000</td>\n",
       "      <td>1.0</td>\n",
       "      <td>1.0</td>\n",
       "      <td>...</td>\n",
       "      <td>279.0</td>\n",
       "      <td>279.0</td>\n",
       "      <td>279.0</td>\n",
       "      <td>0.00000</td>\n",
       "      <td>17.0</td>\n",
       "      <td>17.0</td>\n",
       "      <td>17.0</td>\n",
       "      <td>0.0</td>\n",
       "      <td>322.0</td>\n",
       "      <td>764.0</td>\n",
       "    </tr>\n",
       "    <tr>\n",
       "      <th>11</th>\n",
       "      <td>4.0</td>\n",
       "      <td>4.0</td>\n",
       "      <td>4.0</td>\n",
       "      <td>0.00000</td>\n",
       "      <td>15.0</td>\n",
       "      <td>15.0</td>\n",
       "      <td>15.0</td>\n",
       "      <td>0.000000</td>\n",
       "      <td>1.0</td>\n",
       "      <td>1.0</td>\n",
       "      <td>...</td>\n",
       "      <td>108.0</td>\n",
       "      <td>108.0</td>\n",
       "      <td>108.0</td>\n",
       "      <td>0.00000</td>\n",
       "      <td>1.0</td>\n",
       "      <td>1.0</td>\n",
       "      <td>1.0</td>\n",
       "      <td>0.0</td>\n",
       "      <td>371.0</td>\n",
       "      <td>115.0</td>\n",
       "    </tr>\n",
       "    <tr>\n",
       "      <th>15</th>\n",
       "      <td>3.0</td>\n",
       "      <td>3.0</td>\n",
       "      <td>3.0</td>\n",
       "      <td>0.00000</td>\n",
       "      <td>5.0</td>\n",
       "      <td>5.0</td>\n",
       "      <td>5.0</td>\n",
       "      <td>0.000000</td>\n",
       "      <td>1.0</td>\n",
       "      <td>1.0</td>\n",
       "      <td>...</td>\n",
       "      <td>38.0</td>\n",
       "      <td>38.0</td>\n",
       "      <td>38.0</td>\n",
       "      <td>0.00000</td>\n",
       "      <td>16.0</td>\n",
       "      <td>16.0</td>\n",
       "      <td>16.0</td>\n",
       "      <td>0.0</td>\n",
       "      <td>23.0</td>\n",
       "      <td>47.0</td>\n",
       "    </tr>\n",
       "    <tr>\n",
       "      <th>0</th>\n",
       "      <td>21.5</td>\n",
       "      <td>20.0</td>\n",
       "      <td>23.0</td>\n",
       "      <td>2.12132</td>\n",
       "      <td>9.0</td>\n",
       "      <td>6.0</td>\n",
       "      <td>12.0</td>\n",
       "      <td>4.242641</td>\n",
       "      <td>3.0</td>\n",
       "      <td>3.0</td>\n",
       "      <td>...</td>\n",
       "      <td>68.0</td>\n",
       "      <td>54.0</td>\n",
       "      <td>82.0</td>\n",
       "      <td>19.79899</td>\n",
       "      <td>0.0</td>\n",
       "      <td>0.0</td>\n",
       "      <td>0.0</td>\n",
       "      <td>0.0</td>\n",
       "      <td>12.5</td>\n",
       "      <td>119.5</td>\n",
       "    </tr>\n",
       "  </tbody>\n",
       "</table>\n",
       "<p>5 rows × 162 columns</p>\n",
       "</div>"
      ],
      "text/plain": [
       "    cbo_mean  cbo_min  cbo_max  cbo_std  wmc_mean  wmc_min  wmc_max   wmc_std  \\\n",
       "2       11.0     11.0     11.0  0.00000       8.0      8.0      8.0  0.000000   \n",
       "9       38.0     38.0     38.0  0.00000      57.0     57.0     57.0  0.000000   \n",
       "11       4.0      4.0      4.0  0.00000      15.0     15.0     15.0  0.000000   \n",
       "15       3.0      3.0      3.0  0.00000       5.0      5.0      5.0  0.000000   \n",
       "0       21.5     20.0     23.0  2.12132       9.0      6.0     12.0  4.242641   \n",
       "\n",
       "    dit_mean  dit_min  ...  uniqueWordsQty_mean  uniqueWordsQty_min  \\\n",
       "2        2.0      2.0  ...                 58.0                58.0   \n",
       "9        1.0      1.0  ...                279.0               279.0   \n",
       "11       1.0      1.0  ...                108.0               108.0   \n",
       "15       1.0      1.0  ...                 38.0                38.0   \n",
       "0        3.0      3.0  ...                 68.0                54.0   \n",
       "\n",
       "    uniqueWordsQty_max  uniqueWordsQty_std  modifiers_mean  modifiers_min  \\\n",
       "2                 58.0             0.00000            17.0           17.0   \n",
       "9                279.0             0.00000            17.0           17.0   \n",
       "11               108.0             0.00000             1.0            1.0   \n",
       "15                38.0             0.00000            16.0           16.0   \n",
       "0                 82.0            19.79899             0.0            0.0   \n",
       "\n",
       "    modifiers_max  modifiers_std  num_dependency_mean  num_line_affected_mean  \n",
       "2            17.0            0.0                 85.0                    61.0  \n",
       "9            17.0            0.0                322.0                   764.0  \n",
       "11            1.0            0.0                371.0                   115.0  \n",
       "15           16.0            0.0                 23.0                    47.0  \n",
       "0             0.0            0.0                 12.5                   119.5  \n",
       "\n",
       "[5 rows x 162 columns]"
      ]
     },
     "execution_count": 118,
     "metadata": {},
     "output_type": "execute_result"
    }
   ],
   "source": [
    "X.head()"
   ]
  },
  {
   "cell_type": "code",
   "execution_count": 119,
   "metadata": {},
   "outputs": [
    {
     "data": {
      "text/html": [
       "<div>\n",
       "<style scoped>\n",
       "    .dataframe tbody tr th:only-of-type {\n",
       "        vertical-align: middle;\n",
       "    }\n",
       "\n",
       "    .dataframe tbody tr th {\n",
       "        vertical-align: top;\n",
       "    }\n",
       "\n",
       "    .dataframe thead th {\n",
       "        text-align: right;\n",
       "    }\n",
       "</style>\n",
       "<table border=\"1\" class=\"dataframe\">\n",
       "  <thead>\n",
       "    <tr style=\"text-align: right;\">\n",
       "      <th></th>\n",
       "      <th>time_taken_final</th>\n",
       "    </tr>\n",
       "  </thead>\n",
       "  <tbody>\n",
       "    <tr>\n",
       "      <th>2</th>\n",
       "      <td>7.0</td>\n",
       "    </tr>\n",
       "    <tr>\n",
       "      <th>9</th>\n",
       "      <td>6.0</td>\n",
       "    </tr>\n",
       "    <tr>\n",
       "      <th>11</th>\n",
       "      <td>12.0</td>\n",
       "    </tr>\n",
       "    <tr>\n",
       "      <th>15</th>\n",
       "      <td>8.0</td>\n",
       "    </tr>\n",
       "    <tr>\n",
       "      <th>0</th>\n",
       "      <td>2.8</td>\n",
       "    </tr>\n",
       "  </tbody>\n",
       "</table>\n",
       "</div>"
      ],
      "text/plain": [
       "    time_taken_final\n",
       "2                7.0\n",
       "9                6.0\n",
       "11              12.0\n",
       "15               8.0\n",
       "0                2.8"
      ]
     },
     "execution_count": 119,
     "metadata": {},
     "output_type": "execute_result"
    }
   ],
   "source": [
    "y.head()"
   ]
  },
  {
   "cell_type": "code",
   "execution_count": 120,
   "metadata": {},
   "outputs": [],
   "source": [
    "from sklearn.model_selection import train_test_split\n",
    "X_train, X_test, y_train, y_test = train_test_split(X, y, test_size=0.33, random_state=16)"
   ]
  },
  {
   "cell_type": "code",
   "execution_count": 121,
   "metadata": {},
   "outputs": [
    {
     "name": "stdout",
     "output_type": "stream",
     "text": [
      "Checking whether there is an H2O instance running at http://localhost:54321 . connected.\n"
     ]
    },
    {
     "data": {
      "text/html": [
       "<div style=\"overflow:auto\"><table style=\"width:50%\"><tr><td>H2O_cluster_uptime:</td>\n",
       "<td>4 hours 52 mins</td></tr>\n",
       "<tr><td>H2O_cluster_timezone:</td>\n",
       "<td>Asia/Kuala_Lumpur</td></tr>\n",
       "<tr><td>H2O_data_parsing_timezone:</td>\n",
       "<td>UTC</td></tr>\n",
       "<tr><td>H2O_cluster_version:</td>\n",
       "<td>3.32.1.7</td></tr>\n",
       "<tr><td>H2O_cluster_version_age:</td>\n",
       "<td>3 months and 2 days </td></tr>\n",
       "<tr><td>H2O_cluster_name:</td>\n",
       "<td>H2O_from_python_tanji_k06gu1</td></tr>\n",
       "<tr><td>H2O_cluster_total_nodes:</td>\n",
       "<td>1</td></tr>\n",
       "<tr><td>H2O_cluster_free_memory:</td>\n",
       "<td>7.888 Gb</td></tr>\n",
       "<tr><td>H2O_cluster_total_cores:</td>\n",
       "<td>12</td></tr>\n",
       "<tr><td>H2O_cluster_allowed_cores:</td>\n",
       "<td>4</td></tr>\n",
       "<tr><td>H2O_cluster_status:</td>\n",
       "<td>locked, healthy</td></tr>\n",
       "<tr><td>H2O_connection_url:</td>\n",
       "<td>http://localhost:54321</td></tr>\n",
       "<tr><td>H2O_connection_proxy:</td>\n",
       "<td>{\"http\": null, \"https\": null}</td></tr>\n",
       "<tr><td>H2O_internal_security:</td>\n",
       "<td>False</td></tr>\n",
       "<tr><td>H2O_API_Extensions:</td>\n",
       "<td>Amazon S3, Algos, AutoML, Core V3, TargetEncoder, Core V4</td></tr>\n",
       "<tr><td>Python_version:</td>\n",
       "<td>3.7.3 final</td></tr></table></div>"
      ],
      "text/plain": [
       "--------------------------  ---------------------------------------------------------\n",
       "H2O_cluster_uptime:         4 hours 52 mins\n",
       "H2O_cluster_timezone:       Asia/Kuala_Lumpur\n",
       "H2O_data_parsing_timezone:  UTC\n",
       "H2O_cluster_version:        3.32.1.7\n",
       "H2O_cluster_version_age:    3 months and 2 days\n",
       "H2O_cluster_name:           H2O_from_python_tanji_k06gu1\n",
       "H2O_cluster_total_nodes:    1\n",
       "H2O_cluster_free_memory:    7.888 Gb\n",
       "H2O_cluster_total_cores:    12\n",
       "H2O_cluster_allowed_cores:  4\n",
       "H2O_cluster_status:         locked, healthy\n",
       "H2O_connection_url:         http://localhost:54321\n",
       "H2O_connection_proxy:       {\"http\": null, \"https\": null}\n",
       "H2O_internal_security:      False\n",
       "H2O_API_Extensions:         Amazon S3, Algos, AutoML, Core V3, TargetEncoder, Core V4\n",
       "Python_version:             3.7.3 final\n",
       "--------------------------  ---------------------------------------------------------"
      ]
     },
     "metadata": {},
     "output_type": "display_data"
    }
   ],
   "source": [
    "h2o.init(nthreads=4)"
   ]
  },
  {
   "cell_type": "code",
   "execution_count": 122,
   "metadata": {},
   "outputs": [
    {
     "name": "stdout",
     "output_type": "stream",
     "text": [
      "Parse progress: |█████████████████████████████████████████████████████████| 100%\n"
     ]
    }
   ],
   "source": [
    "from h2o.automl import H2OAutoML\n",
    "\n",
    "full = h2o.H2OFrame(final_df)\n",
    "train,test = full.split_frame(ratios=[.7])\n",
    "\n",
    "\n",
    "x = train.columns\n",
    "y = \"time_taken_final\"\n",
    "x.remove(y)\n",
    "\n"
   ]
  },
  {
   "cell_type": "code",
   "execution_count": 123,
   "metadata": {},
   "outputs": [
    {
     "data": {
      "text/plain": [
       "{'cbo_mean': 'real',\n",
       " 'cbo_min': 'int',\n",
       " 'cbo_max': 'int',\n",
       " 'cbo_std': 'real',\n",
       " 'wmc_mean': 'real',\n",
       " 'wmc_min': 'int',\n",
       " 'wmc_max': 'int',\n",
       " 'wmc_std': 'real',\n",
       " 'dit_mean': 'real',\n",
       " 'dit_min': 'int',\n",
       " 'dit_max': 'int',\n",
       " 'dit_std': 'real',\n",
       " 'rfc_mean': 'real',\n",
       " 'rfc_min': 'int',\n",
       " 'rfc_max': 'int',\n",
       " 'rfc_std': 'real',\n",
       " 'lcom_mean': 'real',\n",
       " 'lcom_min': 'int',\n",
       " 'lcom_max': 'int',\n",
       " 'lcom_std': 'real',\n",
       " 'totalMethods_mean': 'real',\n",
       " 'totalMethods_min': 'int',\n",
       " 'totalMethods_max': 'int',\n",
       " 'totalMethods_std': 'real',\n",
       " 'staticMethods_mean': 'real',\n",
       " 'staticMethods_min': 'int',\n",
       " 'staticMethods_max': 'int',\n",
       " 'staticMethods_std': 'real',\n",
       " 'publicMethods_mean': 'real',\n",
       " 'publicMethods_min': 'int',\n",
       " 'publicMethods_max': 'int',\n",
       " 'publicMethods_std': 'real',\n",
       " 'privateMethods_mean': 'real',\n",
       " 'privateMethods_min': 'int',\n",
       " 'privateMethods_max': 'int',\n",
       " 'privateMethods_std': 'real',\n",
       " 'protectedMethods_mean': 'real',\n",
       " 'protectedMethods_min': 'int',\n",
       " 'protectedMethods_max': 'int',\n",
       " 'protectedMethods_std': 'real',\n",
       " 'defaultMethods_mean': 'real',\n",
       " 'defaultMethods_min': 'int',\n",
       " 'defaultMethods_max': 'int',\n",
       " 'defaultMethods_std': 'real',\n",
       " 'abstractMethods_mean': 'real',\n",
       " 'abstractMethods_min': 'int',\n",
       " 'abstractMethods_max': 'int',\n",
       " 'abstractMethods_std': 'real',\n",
       " 'finalMethods_mean': 'real',\n",
       " 'finalMethods_min': 'int',\n",
       " 'finalMethods_max': 'int',\n",
       " 'finalMethods_std': 'real',\n",
       " 'synchronizedMethods_mean': 'real',\n",
       " 'synchronizedMethods_min': 'int',\n",
       " 'synchronizedMethods_max': 'int',\n",
       " 'synchronizedMethods_std': 'real',\n",
       " 'totalFields_mean': 'real',\n",
       " 'totalFields_min': 'int',\n",
       " 'totalFields_max': 'int',\n",
       " 'totalFields_std': 'real',\n",
       " 'staticFields_mean': 'real',\n",
       " 'staticFields_min': 'int',\n",
       " 'staticFields_max': 'int',\n",
       " 'staticFields_std': 'real',\n",
       " 'publicFields_mean': 'real',\n",
       " 'publicFields_min': 'int',\n",
       " 'publicFields_max': 'int',\n",
       " 'publicFields_std': 'real',\n",
       " 'privateFields_mean': 'real',\n",
       " 'privateFields_min': 'int',\n",
       " 'privateFields_max': 'int',\n",
       " 'privateFields_std': 'real',\n",
       " 'protectedFields_mean': 'real',\n",
       " 'protectedFields_min': 'int',\n",
       " 'protectedFields_max': 'int',\n",
       " 'protectedFields_std': 'real',\n",
       " 'defaultFields_mean': 'int',\n",
       " 'defaultFields_min': 'int',\n",
       " 'defaultFields_max': 'int',\n",
       " 'defaultFields_std': 'int',\n",
       " 'finalFields_mean': 'real',\n",
       " 'finalFields_min': 'int',\n",
       " 'finalFields_max': 'int',\n",
       " 'finalFields_std': 'real',\n",
       " 'synchronizedFields_mean': 'int',\n",
       " 'synchronizedFields_min': 'int',\n",
       " 'synchronizedFields_max': 'int',\n",
       " 'synchronizedFields_std': 'int',\n",
       " 'nosi_mean': 'real',\n",
       " 'nosi_min': 'int',\n",
       " 'nosi_max': 'int',\n",
       " 'nosi_std': 'real',\n",
       " 'loc_mean': 'real',\n",
       " 'loc_min': 'int',\n",
       " 'loc_max': 'int',\n",
       " 'loc_std': 'real',\n",
       " 'returnQty_mean': 'real',\n",
       " 'returnQty_min': 'int',\n",
       " 'returnQty_max': 'int',\n",
       " 'returnQty_std': 'real',\n",
       " 'loopQty_mean': 'real',\n",
       " 'loopQty_min': 'int',\n",
       " 'loopQty_max': 'int',\n",
       " 'loopQty_std': 'real',\n",
       " 'comparisonsQty_mean': 'real',\n",
       " 'comparisonsQty_min': 'int',\n",
       " 'comparisonsQty_max': 'int',\n",
       " 'comparisonsQty_std': 'real',\n",
       " 'tryCatchQty_mean': 'real',\n",
       " 'tryCatchQty_min': 'int',\n",
       " 'tryCatchQty_max': 'int',\n",
       " 'tryCatchQty_std': 'real',\n",
       " 'parenthesizedExpsQty_mean': 'real',\n",
       " 'parenthesizedExpsQty_min': 'int',\n",
       " 'parenthesizedExpsQty_max': 'int',\n",
       " 'parenthesizedExpsQty_std': 'real',\n",
       " 'stringLiteralsQty_mean': 'real',\n",
       " 'stringLiteralsQty_min': 'int',\n",
       " 'stringLiteralsQty_max': 'int',\n",
       " 'stringLiteralsQty_std': 'real',\n",
       " 'numbersQty_mean': 'real',\n",
       " 'numbersQty_min': 'int',\n",
       " 'numbersQty_max': 'int',\n",
       " 'numbersQty_std': 'real',\n",
       " 'assignmentsQty_mean': 'real',\n",
       " 'assignmentsQty_min': 'int',\n",
       " 'assignmentsQty_max': 'int',\n",
       " 'assignmentsQty_std': 'real',\n",
       " 'mathOperationsQty_mean': 'real',\n",
       " 'mathOperationsQty_min': 'int',\n",
       " 'mathOperationsQty_max': 'int',\n",
       " 'mathOperationsQty_std': 'real',\n",
       " 'variablesQty_mean': 'real',\n",
       " 'variablesQty_min': 'int',\n",
       " 'variablesQty_max': 'int',\n",
       " 'variablesQty_std': 'real',\n",
       " 'maxNestedBlocks_mean': 'real',\n",
       " 'maxNestedBlocks_min': 'int',\n",
       " 'maxNestedBlocks_max': 'int',\n",
       " 'maxNestedBlocks_std': 'real',\n",
       " 'anonymousClassesQty_mean': 'real',\n",
       " 'anonymousClassesQty_min': 'int',\n",
       " 'anonymousClassesQty_max': 'int',\n",
       " 'anonymousClassesQty_std': 'real',\n",
       " 'subClassesQty_mean': 'real',\n",
       " 'subClassesQty_min': 'int',\n",
       " 'subClassesQty_max': 'int',\n",
       " 'subClassesQty_std': 'real',\n",
       " 'lambdasQty_mean': 'real',\n",
       " 'lambdasQty_min': 'int',\n",
       " 'lambdasQty_max': 'int',\n",
       " 'lambdasQty_std': 'real',\n",
       " 'uniqueWordsQty_mean': 'real',\n",
       " 'uniqueWordsQty_min': 'int',\n",
       " 'uniqueWordsQty_max': 'int',\n",
       " 'uniqueWordsQty_std': 'real',\n",
       " 'modifiers_mean': 'real',\n",
       " 'modifiers_min': 'int',\n",
       " 'modifiers_max': 'int',\n",
       " 'modifiers_std': 'real',\n",
       " 'num_dependency_mean': 'real',\n",
       " 'num_line_affected_mean': 'real'}"
      ]
     },
     "execution_count": 123,
     "metadata": {},
     "output_type": "execute_result"
    }
   ],
   "source": [
    "train[x].types"
   ]
  },
  {
   "cell_type": "code",
   "execution_count": 124,
   "metadata": {},
   "outputs": [
    {
     "data": {
      "text/plain": [
       "{'time_taken_final': 'real'}"
      ]
     },
     "execution_count": 124,
     "metadata": {},
     "output_type": "execute_result"
    }
   ],
   "source": [
    "train[y].types"
   ]
  },
  {
   "cell_type": "code",
   "execution_count": 125,
   "metadata": {},
   "outputs": [
    {
     "name": "stdout",
     "output_type": "stream",
     "text": [
      "AutoML progress: |███████\n",
      "02:33:29.677: Skipping training of model GBM_5_AutoML_20211205_023323 due to exception: water.exceptions.H2OModelBuilderIllegalArgumentException: Illegal argument(s) for GBM model: GBM_5_AutoML_20211205_023323.  Details: ERRR on field: _min_rows: The dataset size is too small to split for min_rows=100.0: must have at least 200.0 (weighted) rows, but have only 117.0.\n",
      "\n",
      "\n",
      "█████████████████████████████████████████████████| 100%\n"
     ]
    }
   ],
   "source": [
    "aml = H2OAutoML(max_models=10, seed=16, exclude_algos=['XGBoost', 'GLM'], exploitation_ratio=0.1)\n",
    "#aml = H2OAutoML(max_models=10, seed=1, include_algos=['GLM'])\n",
    "aml.train(x=x, y=y, training_frame=train)"
   ]
  },
  {
   "cell_type": "code",
   "execution_count": 126,
   "metadata": {},
   "outputs": [
    {
     "data": {
      "text/html": [
       "<table>\n",
       "<thead>\n",
       "<tr><th>model_id                                           </th><th style=\"text-align: right;\">  mean_residual_deviance</th><th style=\"text-align: right;\">   rmse</th><th style=\"text-align: right;\">     mse</th><th style=\"text-align: right;\">    mae</th><th style=\"text-align: right;\">     rmsle</th></tr>\n",
       "</thead>\n",
       "<tbody>\n",
       "<tr><td>StackedEnsemble_AllModels_AutoML_20211205_023323   </td><td style=\"text-align: right;\">                 168.467</td><td style=\"text-align: right;\">12.9795</td><td style=\"text-align: right;\"> 168.467</td><td style=\"text-align: right;\">10.3551</td><td style=\"text-align: right;\">  0.811791</td></tr>\n",
       "<tr><td>DRF_1_AutoML_20211205_023323                       </td><td style=\"text-align: right;\">                 168.934</td><td style=\"text-align: right;\">12.9975</td><td style=\"text-align: right;\"> 168.934</td><td style=\"text-align: right;\">10.1108</td><td style=\"text-align: right;\">  0.807144</td></tr>\n",
       "<tr><td>StackedEnsemble_BestOfFamily_AutoML_20211205_023323</td><td style=\"text-align: right;\">                 169.686</td><td style=\"text-align: right;\">13.0264</td><td style=\"text-align: right;\"> 169.686</td><td style=\"text-align: right;\">10.3403</td><td style=\"text-align: right;\">  0.812443</td></tr>\n",
       "<tr><td>GBM_grid__1_AutoML_20211205_023323_model_2         </td><td style=\"text-align: right;\">                 174.088</td><td style=\"text-align: right;\">13.1942</td><td style=\"text-align: right;\"> 174.088</td><td style=\"text-align: right;\">10.2106</td><td style=\"text-align: right;\">  0.801768</td></tr>\n",
       "<tr><td>GBM_1_AutoML_20211205_023323                       </td><td style=\"text-align: right;\">                 176.14 </td><td style=\"text-align: right;\">13.2718</td><td style=\"text-align: right;\"> 176.14 </td><td style=\"text-align: right;\">10.2421</td><td style=\"text-align: right;\">  0.795388</td></tr>\n",
       "<tr><td>GBM_4_AutoML_20211205_023323                       </td><td style=\"text-align: right;\">                 176.301</td><td style=\"text-align: right;\">13.2779</td><td style=\"text-align: right;\"> 176.301</td><td style=\"text-align: right;\">10.4235</td><td style=\"text-align: right;\">  0.82786 </td></tr>\n",
       "<tr><td>GBM_3_AutoML_20211205_023323                       </td><td style=\"text-align: right;\">                 180.817</td><td style=\"text-align: right;\">13.4468</td><td style=\"text-align: right;\"> 180.817</td><td style=\"text-align: right;\">10.7252</td><td style=\"text-align: right;\">  0.852391</td></tr>\n",
       "<tr><td>XRT_1_AutoML_20211205_023323                       </td><td style=\"text-align: right;\">                 181.731</td><td style=\"text-align: right;\">13.4807</td><td style=\"text-align: right;\"> 181.731</td><td style=\"text-align: right;\">10.6738</td><td style=\"text-align: right;\">  0.840065</td></tr>\n",
       "<tr><td>GBM_2_AutoML_20211205_023323                       </td><td style=\"text-align: right;\">                 182.253</td><td style=\"text-align: right;\">13.5001</td><td style=\"text-align: right;\"> 182.253</td><td style=\"text-align: right;\">10.7936</td><td style=\"text-align: right;\">  0.852158</td></tr>\n",
       "<tr><td>GBM_grid__1_AutoML_20211205_023323_model_1         </td><td style=\"text-align: right;\">                 182.477</td><td style=\"text-align: right;\">13.5084</td><td style=\"text-align: right;\"> 182.477</td><td style=\"text-align: right;\">10.8274</td><td style=\"text-align: right;\">  0.857199</td></tr>\n",
       "<tr><td>DeepLearning_grid__1_AutoML_20211205_023323_model_1</td><td style=\"text-align: right;\">                 462.01 </td><td style=\"text-align: right;\">21.4944</td><td style=\"text-align: right;\"> 462.01 </td><td style=\"text-align: right;\">15.4615</td><td style=\"text-align: right;\">nan       </td></tr>\n",
       "<tr><td>DeepLearning_1_AutoML_20211205_023323              </td><td style=\"text-align: right;\">                5300.46 </td><td style=\"text-align: right;\">72.8043</td><td style=\"text-align: right;\">5300.46 </td><td style=\"text-align: right;\">21.0297</td><td style=\"text-align: right;\">nan       </td></tr>\n",
       "</tbody>\n",
       "</table>"
      ]
     },
     "metadata": {},
     "output_type": "display_data"
    },
    {
     "data": {
      "text/plain": []
     },
     "execution_count": 126,
     "metadata": {},
     "output_type": "execute_result"
    }
   ],
   "source": [
    "lb = aml.leaderboard\n",
    "lb.head(rows=lb.nrows)"
   ]
  },
  {
   "cell_type": "code",
   "execution_count": 127,
   "metadata": {},
   "outputs": [],
   "source": [
    "model = h2o.get_model(lb[0,'model_id'])"
   ]
  },
  {
   "cell_type": "code",
   "execution_count": 128,
   "metadata": {
    "scrolled": true
   },
   "outputs": [
    {
     "name": "stdout",
     "output_type": "stream",
     "text": [
      "Model Details\n",
      "=============\n",
      "H2OStackedEnsembleEstimator :  Stacked Ensemble\n",
      "Model Key:  StackedEnsemble_AllModels_AutoML_20211205_023323\n",
      "\n",
      "No model summary for this model\n",
      "\n",
      "ModelMetricsRegressionGLM: stackedensemble\n",
      "** Reported on train data. **\n",
      "\n",
      "MSE: 80.56491811371963\n",
      "RMSE: 8.975796238424735\n",
      "MAE: 7.2009679902647195\n",
      "RMSLE: 0.6017676906860303\n",
      "R^2: 0.52241118851467\n",
      "Mean Residual Deviance: 80.56491811371963\n",
      "Null degrees of freedom: 116\n",
      "Residual degrees of freedom: 111\n",
      "Null deviance: 19736.843059596547\n",
      "Residual deviance: 9426.095419305197\n",
      "AIC: 859.5520223579994\n",
      "\n",
      "ModelMetricsRegressionGLM: stackedensemble\n",
      "** Reported on cross-validation data. **\n",
      "\n",
      "MSE: 168.46660214552588\n",
      "RMSE: 12.979468484707912\n",
      "MAE: 10.355104856538361\n",
      "RMSLE: 0.8117907230428149\n",
      "R^2: 0.0013300307699032343\n",
      "Mean Residual Deviance: 168.46660214552588\n",
      "Null degrees of freedom: 116\n",
      "Residual degrees of freedom: 111\n",
      "Null deviance: 20009.65322487023\n",
      "Residual deviance: 19710.59245102653\n",
      "AIC: 945.859906995451\n"
     ]
    },
    {
     "data": {
      "text/plain": []
     },
     "execution_count": 128,
     "metadata": {},
     "output_type": "execute_result"
    }
   ],
   "source": [
    "model"
   ]
  },
  {
   "cell_type": "code",
   "execution_count": 129,
   "metadata": {},
   "outputs": [
    {
     "name": "stdout",
     "output_type": "stream",
     "text": [
      "stackedensemble prediction progress: |████████████████████████████████████| 100%\n"
     ]
    }
   ],
   "source": [
    "preds = model.predict(test)"
   ]
  },
  {
   "cell_type": "code",
   "execution_count": 130,
   "metadata": {},
   "outputs": [
    {
     "data": {
      "text/html": [
       "<table>\n",
       "<thead>\n",
       "<tr><th style=\"text-align: right;\">  predict</th></tr>\n",
       "</thead>\n",
       "<tbody>\n",
       "<tr><td style=\"text-align: right;\">  16.5844</td></tr>\n",
       "<tr><td style=\"text-align: right;\">  20.4663</td></tr>\n",
       "<tr><td style=\"text-align: right;\">  14.5345</td></tr>\n",
       "<tr><td style=\"text-align: right;\">  11.8399</td></tr>\n",
       "<tr><td style=\"text-align: right;\">  13.9217</td></tr>\n",
       "<tr><td style=\"text-align: right;\">  15.2367</td></tr>\n",
       "<tr><td style=\"text-align: right;\">  14.6979</td></tr>\n",
       "<tr><td style=\"text-align: right;\">  15.0205</td></tr>\n",
       "<tr><td style=\"text-align: right;\">  11.8685</td></tr>\n",
       "<tr><td style=\"text-align: right;\">  15.0096</td></tr>\n",
       "</tbody>\n",
       "</table>"
      ]
     },
     "metadata": {},
     "output_type": "display_data"
    },
    {
     "data": {
      "text/plain": []
     },
     "execution_count": 130,
     "metadata": {},
     "output_type": "execute_result"
    }
   ],
   "source": [
    "preds"
   ]
  },
  {
   "cell_type": "code",
   "execution_count": 131,
   "metadata": {
    "scrolled": true
   },
   "outputs": [
    {
     "data": {
      "text/plain": [
       "14.675300    1\n",
       "15.605937    1\n",
       "15.796652    1\n",
       "14.540254    1\n",
       "13.296382    1\n",
       "14.534497    1\n",
       "16.978731    1\n",
       "14.241284    1\n",
       "17.442457    1\n",
       "15.976524    1\n",
       "13.812352    1\n",
       "12.530216    1\n",
       "14.057606    1\n",
       "16.584359    1\n",
       "14.129609    1\n",
       "11.868525    1\n",
       "12.442793    1\n",
       "13.492521    1\n",
       "14.697919    1\n",
       "11.861107    1\n",
       "13.823358    1\n",
       "17.239134    1\n",
       "15.009647    1\n",
       "12.035568    1\n",
       "14.396086    1\n",
       "16.653424    1\n",
       "15.910997    1\n",
       "15.236683    1\n",
       "11.841764    1\n",
       "18.670180    1\n",
       "21.172120    1\n",
       "15.020462    1\n",
       "13.987410    1\n",
       "14.223704    1\n",
       "12.651542    1\n",
       "12.043219    1\n",
       "11.865943    1\n",
       "14.978183    1\n",
       "17.589703    1\n",
       "13.921729    1\n",
       "18.215266    1\n",
       "20.466325    1\n",
       "14.427684    1\n",
       "15.430013    1\n",
       "14.885811    1\n",
       "12.349282    1\n",
       "11.839860    1\n",
       "12.135410    1\n",
       "12.752347    1\n",
       "18.129427    1\n",
       "12.315859    1\n",
       "20.672428    1\n",
       "Name: predict, dtype: int64"
      ]
     },
     "execution_count": 131,
     "metadata": {},
     "output_type": "execute_result"
    }
   ],
   "source": [
    "pd_preds = preds.as_data_frame()\n",
    "pd_preds['predict'].value_counts()"
   ]
  },
  {
   "cell_type": "code",
   "execution_count": 132,
   "metadata": {},
   "outputs": [
    {
     "data": {
      "text/html": [
       "<table>\n",
       "<thead>\n",
       "<tr><th style=\"text-align: right;\">  cbo_mean</th><th style=\"text-align: right;\">  cbo_min</th><th style=\"text-align: right;\">  cbo_max</th><th style=\"text-align: right;\">  cbo_std</th><th style=\"text-align: right;\">  wmc_mean</th><th style=\"text-align: right;\">  wmc_min</th><th style=\"text-align: right;\">  wmc_max</th><th style=\"text-align: right;\">  wmc_std</th><th style=\"text-align: right;\">  dit_mean</th><th style=\"text-align: right;\">  dit_min</th><th style=\"text-align: right;\">  dit_max</th><th style=\"text-align: right;\">  dit_std</th><th style=\"text-align: right;\">  rfc_mean</th><th style=\"text-align: right;\">  rfc_min</th><th style=\"text-align: right;\">  rfc_max</th><th style=\"text-align: right;\">  rfc_std</th><th style=\"text-align: right;\">  lcom_mean</th><th style=\"text-align: right;\">  lcom_min</th><th style=\"text-align: right;\">  lcom_max</th><th style=\"text-align: right;\">  lcom_std</th><th style=\"text-align: right;\">  totalMethods_mean</th><th style=\"text-align: right;\">  totalMethods_min</th><th style=\"text-align: right;\">  totalMethods_max</th><th style=\"text-align: right;\">  totalMethods_std</th><th style=\"text-align: right;\">  staticMethods_mean</th><th style=\"text-align: right;\">  staticMethods_min</th><th style=\"text-align: right;\">  staticMethods_max</th><th style=\"text-align: right;\">  staticMethods_std</th><th style=\"text-align: right;\">  publicMethods_mean</th><th style=\"text-align: right;\">  publicMethods_min</th><th style=\"text-align: right;\">  publicMethods_max</th><th style=\"text-align: right;\">  publicMethods_std</th><th style=\"text-align: right;\">  privateMethods_mean</th><th style=\"text-align: right;\">  privateMethods_min</th><th style=\"text-align: right;\">  privateMethods_max</th><th style=\"text-align: right;\">  privateMethods_std</th><th style=\"text-align: right;\">  protectedMethods_mean</th><th style=\"text-align: right;\">  protectedMethods_min</th><th style=\"text-align: right;\">  protectedMethods_max</th><th style=\"text-align: right;\">  protectedMethods_std</th><th style=\"text-align: right;\">  defaultMethods_mean</th><th style=\"text-align: right;\">  defaultMethods_min</th><th style=\"text-align: right;\">  defaultMethods_max</th><th style=\"text-align: right;\">  defaultMethods_std</th><th style=\"text-align: right;\">  abstractMethods_mean</th><th style=\"text-align: right;\">  abstractMethods_min</th><th style=\"text-align: right;\">  abstractMethods_max</th><th style=\"text-align: right;\">  abstractMethods_std</th><th style=\"text-align: right;\">  finalMethods_mean</th><th style=\"text-align: right;\">  finalMethods_min</th><th style=\"text-align: right;\">  finalMethods_max</th><th style=\"text-align: right;\">  finalMethods_std</th><th style=\"text-align: right;\">  synchronizedMethods_mean</th><th style=\"text-align: right;\">  synchronizedMethods_min</th><th style=\"text-align: right;\">  synchronizedMethods_max</th><th style=\"text-align: right;\">  synchronizedMethods_std</th><th style=\"text-align: right;\">  totalFields_mean</th><th style=\"text-align: right;\">  totalFields_min</th><th style=\"text-align: right;\">  totalFields_max</th><th style=\"text-align: right;\">  totalFields_std</th><th style=\"text-align: right;\">  staticFields_mean</th><th style=\"text-align: right;\">  staticFields_min</th><th style=\"text-align: right;\">  staticFields_max</th><th style=\"text-align: right;\">  staticFields_std</th><th style=\"text-align: right;\">  publicFields_mean</th><th style=\"text-align: right;\">  publicFields_min</th><th style=\"text-align: right;\">  publicFields_max</th><th style=\"text-align: right;\">  publicFields_std</th><th style=\"text-align: right;\">  privateFields_mean</th><th style=\"text-align: right;\">  privateFields_min</th><th style=\"text-align: right;\">  privateFields_max</th><th style=\"text-align: right;\">  privateFields_std</th><th style=\"text-align: right;\">  protectedFields_mean</th><th style=\"text-align: right;\">  protectedFields_min</th><th style=\"text-align: right;\">  protectedFields_max</th><th style=\"text-align: right;\">  protectedFields_std</th><th style=\"text-align: right;\">  defaultFields_mean</th><th style=\"text-align: right;\">  defaultFields_min</th><th style=\"text-align: right;\">  defaultFields_max</th><th style=\"text-align: right;\">  defaultFields_std</th><th style=\"text-align: right;\">  finalFields_mean</th><th style=\"text-align: right;\">  finalFields_min</th><th style=\"text-align: right;\">  finalFields_max</th><th style=\"text-align: right;\">  finalFields_std</th><th style=\"text-align: right;\">  synchronizedFields_mean</th><th style=\"text-align: right;\">  synchronizedFields_min</th><th style=\"text-align: right;\">  synchronizedFields_max</th><th style=\"text-align: right;\">  synchronizedFields_std</th><th style=\"text-align: right;\">  nosi_mean</th><th style=\"text-align: right;\">  nosi_min</th><th style=\"text-align: right;\">  nosi_max</th><th style=\"text-align: right;\">  nosi_std</th><th style=\"text-align: right;\">  loc_mean</th><th style=\"text-align: right;\">  loc_min</th><th style=\"text-align: right;\">  loc_max</th><th style=\"text-align: right;\">  loc_std</th><th style=\"text-align: right;\">  returnQty_mean</th><th style=\"text-align: right;\">  returnQty_min</th><th style=\"text-align: right;\">  returnQty_max</th><th style=\"text-align: right;\">  returnQty_std</th><th style=\"text-align: right;\">  loopQty_mean</th><th style=\"text-align: right;\">  loopQty_min</th><th style=\"text-align: right;\">  loopQty_max</th><th style=\"text-align: right;\">  loopQty_std</th><th style=\"text-align: right;\">  comparisonsQty_mean</th><th style=\"text-align: right;\">  comparisonsQty_min</th><th style=\"text-align: right;\">  comparisonsQty_max</th><th style=\"text-align: right;\">  comparisonsQty_std</th><th style=\"text-align: right;\">  tryCatchQty_mean</th><th style=\"text-align: right;\">  tryCatchQty_min</th><th style=\"text-align: right;\">  tryCatchQty_max</th><th style=\"text-align: right;\">  tryCatchQty_std</th><th style=\"text-align: right;\">  parenthesizedExpsQty_mean</th><th style=\"text-align: right;\">  parenthesizedExpsQty_min</th><th style=\"text-align: right;\">  parenthesizedExpsQty_max</th><th style=\"text-align: right;\">  parenthesizedExpsQty_std</th><th style=\"text-align: right;\">  stringLiteralsQty_mean</th><th style=\"text-align: right;\">  stringLiteralsQty_min</th><th style=\"text-align: right;\">  stringLiteralsQty_max</th><th style=\"text-align: right;\">  stringLiteralsQty_std</th><th style=\"text-align: right;\">  numbersQty_mean</th><th style=\"text-align: right;\">  numbersQty_min</th><th style=\"text-align: right;\">  numbersQty_max</th><th style=\"text-align: right;\">  numbersQty_std</th><th style=\"text-align: right;\">  assignmentsQty_mean</th><th style=\"text-align: right;\">  assignmentsQty_min</th><th style=\"text-align: right;\">  assignmentsQty_max</th><th style=\"text-align: right;\">  assignmentsQty_std</th><th style=\"text-align: right;\">  mathOperationsQty_mean</th><th style=\"text-align: right;\">  mathOperationsQty_min</th><th style=\"text-align: right;\">  mathOperationsQty_max</th><th style=\"text-align: right;\">  mathOperationsQty_std</th><th style=\"text-align: right;\">  variablesQty_mean</th><th style=\"text-align: right;\">  variablesQty_min</th><th style=\"text-align: right;\">  variablesQty_max</th><th style=\"text-align: right;\">  variablesQty_std</th><th style=\"text-align: right;\">  maxNestedBlocks_mean</th><th style=\"text-align: right;\">  maxNestedBlocks_min</th><th style=\"text-align: right;\">  maxNestedBlocks_max</th><th style=\"text-align: right;\">  maxNestedBlocks_std</th><th style=\"text-align: right;\">  anonymousClassesQty_mean</th><th style=\"text-align: right;\">  anonymousClassesQty_min</th><th style=\"text-align: right;\">  anonymousClassesQty_max</th><th style=\"text-align: right;\">  anonymousClassesQty_std</th><th style=\"text-align: right;\">  subClassesQty_mean</th><th style=\"text-align: right;\">  subClassesQty_min</th><th style=\"text-align: right;\">  subClassesQty_max</th><th style=\"text-align: right;\">  subClassesQty_std</th><th style=\"text-align: right;\">  lambdasQty_mean</th><th style=\"text-align: right;\">  lambdasQty_min</th><th style=\"text-align: right;\">  lambdasQty_max</th><th style=\"text-align: right;\">  lambdasQty_std</th><th style=\"text-align: right;\">  uniqueWordsQty_mean</th><th style=\"text-align: right;\">  uniqueWordsQty_min</th><th style=\"text-align: right;\">  uniqueWordsQty_max</th><th style=\"text-align: right;\">  uniqueWordsQty_std</th><th style=\"text-align: right;\">  modifiers_mean</th><th style=\"text-align: right;\">  modifiers_min</th><th style=\"text-align: right;\">  modifiers_max</th><th style=\"text-align: right;\">  modifiers_std</th><th style=\"text-align: right;\">  num_dependency_mean</th><th style=\"text-align: right;\">  num_line_affected_mean</th><th style=\"text-align: right;\">  time_taken_final</th></tr>\n",
       "</thead>\n",
       "<tbody>\n",
       "<tr><td style=\"text-align: right;\">  38      </td><td style=\"text-align: right;\">       38</td><td style=\"text-align: right;\">       38</td><td style=\"text-align: right;\">  0      </td><td style=\"text-align: right;\">  57      </td><td style=\"text-align: right;\">       57</td><td style=\"text-align: right;\">       57</td><td style=\"text-align: right;\">  0      </td><td style=\"text-align: right;\">   1      </td><td style=\"text-align: right;\">        1</td><td style=\"text-align: right;\">        1</td><td style=\"text-align: right;\"> 0       </td><td style=\"text-align: right;\">   81     </td><td style=\"text-align: right;\">       81</td><td style=\"text-align: right;\">       81</td><td style=\"text-align: right;\">  0      </td><td style=\"text-align: right;\">     0     </td><td style=\"text-align: right;\">         0</td><td style=\"text-align: right;\">         0</td><td style=\"text-align: right;\">   0      </td><td style=\"text-align: right;\">           45      </td><td style=\"text-align: right;\">                45</td><td style=\"text-align: right;\">                45</td><td style=\"text-align: right;\">           0      </td><td style=\"text-align: right;\">            1       </td><td style=\"text-align: right;\">                  1</td><td style=\"text-align: right;\">                  1</td><td style=\"text-align: right;\">            0      </td><td style=\"text-align: right;\">           42       </td><td style=\"text-align: right;\">                 42</td><td style=\"text-align: right;\">                 42</td><td style=\"text-align: right;\">            0      </td><td style=\"text-align: right;\">             3       </td><td style=\"text-align: right;\">                   3</td><td style=\"text-align: right;\">                   3</td><td style=\"text-align: right;\">             0      </td><td style=\"text-align: right;\">                    0  </td><td style=\"text-align: right;\">                     0</td><td style=\"text-align: right;\">                     0</td><td style=\"text-align: right;\">              0       </td><td style=\"text-align: right;\">                    0</td><td style=\"text-align: right;\">                   0</td><td style=\"text-align: right;\">                   0</td><td style=\"text-align: right;\">                   0</td><td style=\"text-align: right;\">                     0</td><td style=\"text-align: right;\">                    0</td><td style=\"text-align: right;\">                    0</td><td style=\"text-align: right;\">                    0</td><td style=\"text-align: right;\">                  0</td><td style=\"text-align: right;\">                 0</td><td style=\"text-align: right;\">                 0</td><td style=\"text-align: right;\">                 0</td><td style=\"text-align: right;\">                         0</td><td style=\"text-align: right;\">                        0</td><td style=\"text-align: right;\">                        0</td><td style=\"text-align: right;\">                        0</td><td style=\"text-align: right;\">              12  </td><td style=\"text-align: right;\">               12</td><td style=\"text-align: right;\">               12</td><td style=\"text-align: right;\">          0      </td><td style=\"text-align: right;\">                1  </td><td style=\"text-align: right;\">                 1</td><td style=\"text-align: right;\">                 1</td><td style=\"text-align: right;\">          0       </td><td style=\"text-align: right;\">                  0</td><td style=\"text-align: right;\">                 0</td><td style=\"text-align: right;\">                 0</td><td style=\"text-align: right;\">                 0</td><td style=\"text-align: right;\">                12  </td><td style=\"text-align: right;\">                 12</td><td style=\"text-align: right;\">                 12</td><td style=\"text-align: right;\">            0      </td><td style=\"text-align: right;\">                     0</td><td style=\"text-align: right;\">                    0</td><td style=\"text-align: right;\">                    0</td><td style=\"text-align: right;\">                    0</td><td style=\"text-align: right;\">                   0</td><td style=\"text-align: right;\">                  0</td><td style=\"text-align: right;\">                  0</td><td style=\"text-align: right;\">                  0</td><td style=\"text-align: right;\">               5  </td><td style=\"text-align: right;\">                5</td><td style=\"text-align: right;\">                5</td><td style=\"text-align: right;\">          0      </td><td style=\"text-align: right;\">                        0</td><td style=\"text-align: right;\">                       0</td><td style=\"text-align: right;\">                       0</td><td style=\"text-align: right;\">                       0</td><td style=\"text-align: right;\">   32      </td><td style=\"text-align: right;\">        32</td><td style=\"text-align: right;\">        32</td><td style=\"text-align: right;\">   0      </td><td style=\"text-align: right;\">  576     </td><td style=\"text-align: right;\">      576</td><td style=\"text-align: right;\">      576</td><td style=\"text-align: right;\">  0      </td><td style=\"text-align: right;\">        2       </td><td style=\"text-align: right;\">              2</td><td style=\"text-align: right;\">              2</td><td style=\"text-align: right;\">       0       </td><td style=\"text-align: right;\">             6</td><td style=\"text-align: right;\">            6</td><td style=\"text-align: right;\">            6</td><td style=\"text-align: right;\">            0</td><td style=\"text-align: right;\">                    1</td><td style=\"text-align: right;\">                   1</td><td style=\"text-align: right;\">                   1</td><td style=\"text-align: right;\">                   0</td><td style=\"text-align: right;\">                 5</td><td style=\"text-align: right;\">                5</td><td style=\"text-align: right;\">                5</td><td style=\"text-align: right;\">                0</td><td style=\"text-align: right;\">                         26</td><td style=\"text-align: right;\">                        26</td><td style=\"text-align: right;\">                        26</td><td style=\"text-align: right;\">                         0</td><td style=\"text-align: right;\">                      13</td><td style=\"text-align: right;\">                     13</td><td style=\"text-align: right;\">                     13</td><td style=\"text-align: right;\">                0      </td><td style=\"text-align: right;\">         159     </td><td style=\"text-align: right;\">             159</td><td style=\"text-align: right;\">             159</td><td style=\"text-align: right;\">         0      </td><td style=\"text-align: right;\">            100      </td><td style=\"text-align: right;\">                 100</td><td style=\"text-align: right;\">                 100</td><td style=\"text-align: right;\">             0      </td><td style=\"text-align: right;\">                      85</td><td style=\"text-align: right;\">                     85</td><td style=\"text-align: right;\">                     85</td><td style=\"text-align: right;\">                0      </td><td style=\"text-align: right;\">           90      </td><td style=\"text-align: right;\">                90</td><td style=\"text-align: right;\">                90</td><td style=\"text-align: right;\">           0      </td><td style=\"text-align: right;\">              1       </td><td style=\"text-align: right;\">                    1</td><td style=\"text-align: right;\">                    1</td><td style=\"text-align: right;\">             0       </td><td style=\"text-align: right;\">                         2</td><td style=\"text-align: right;\">                        2</td><td style=\"text-align: right;\">                        2</td><td style=\"text-align: right;\">                  0      </td><td style=\"text-align: right;\">                   0</td><td style=\"text-align: right;\">                  0</td><td style=\"text-align: right;\">                  0</td><td style=\"text-align: right;\">                  0</td><td style=\"text-align: right;\">         2       </td><td style=\"text-align: right;\">               2</td><td style=\"text-align: right;\">               2</td><td style=\"text-align: right;\">         0      </td><td style=\"text-align: right;\">             279     </td><td style=\"text-align: right;\">                 279</td><td style=\"text-align: right;\">                 279</td><td style=\"text-align: right;\">              0     </td><td style=\"text-align: right;\">       17       </td><td style=\"text-align: right;\">             17</td><td style=\"text-align: right;\">             17</td><td style=\"text-align: right;\">       0       </td><td style=\"text-align: right;\">             322     </td><td style=\"text-align: right;\">                764     </td><td style=\"text-align: right;\">               6  </td></tr>\n",
       "<tr><td style=\"text-align: right;\">   4      </td><td style=\"text-align: right;\">        4</td><td style=\"text-align: right;\">        4</td><td style=\"text-align: right;\">  0      </td><td style=\"text-align: right;\">  15      </td><td style=\"text-align: right;\">       15</td><td style=\"text-align: right;\">       15</td><td style=\"text-align: right;\">  0      </td><td style=\"text-align: right;\">   1      </td><td style=\"text-align: right;\">        1</td><td style=\"text-align: right;\">        1</td><td style=\"text-align: right;\"> 0       </td><td style=\"text-align: right;\">    6     </td><td style=\"text-align: right;\">        6</td><td style=\"text-align: right;\">        6</td><td style=\"text-align: right;\">  0      </td><td style=\"text-align: right;\">    18     </td><td style=\"text-align: right;\">        18</td><td style=\"text-align: right;\">        18</td><td style=\"text-align: right;\">   0      </td><td style=\"text-align: right;\">           12      </td><td style=\"text-align: right;\">                12</td><td style=\"text-align: right;\">                12</td><td style=\"text-align: right;\">           0      </td><td style=\"text-align: right;\">            1       </td><td style=\"text-align: right;\">                  1</td><td style=\"text-align: right;\">                  1</td><td style=\"text-align: right;\">            0      </td><td style=\"text-align: right;\">           11       </td><td style=\"text-align: right;\">                 11</td><td style=\"text-align: right;\">                 11</td><td style=\"text-align: right;\">            0      </td><td style=\"text-align: right;\">             0       </td><td style=\"text-align: right;\">                   0</td><td style=\"text-align: right;\">                   0</td><td style=\"text-align: right;\">             0      </td><td style=\"text-align: right;\">                    1  </td><td style=\"text-align: right;\">                     1</td><td style=\"text-align: right;\">                     1</td><td style=\"text-align: right;\">              0       </td><td style=\"text-align: right;\">                    0</td><td style=\"text-align: right;\">                   0</td><td style=\"text-align: right;\">                   0</td><td style=\"text-align: right;\">                   0</td><td style=\"text-align: right;\">                     0</td><td style=\"text-align: right;\">                    0</td><td style=\"text-align: right;\">                    0</td><td style=\"text-align: right;\">                    0</td><td style=\"text-align: right;\">                  0</td><td style=\"text-align: right;\">                 0</td><td style=\"text-align: right;\">                 0</td><td style=\"text-align: right;\">                 0</td><td style=\"text-align: right;\">                         0</td><td style=\"text-align: right;\">                        0</td><td style=\"text-align: right;\">                        0</td><td style=\"text-align: right;\">                        0</td><td style=\"text-align: right;\">               3  </td><td style=\"text-align: right;\">                3</td><td style=\"text-align: right;\">                3</td><td style=\"text-align: right;\">          0      </td><td style=\"text-align: right;\">                0  </td><td style=\"text-align: right;\">                 0</td><td style=\"text-align: right;\">                 0</td><td style=\"text-align: right;\">          0       </td><td style=\"text-align: right;\">                  0</td><td style=\"text-align: right;\">                 0</td><td style=\"text-align: right;\">                 0</td><td style=\"text-align: right;\">                 0</td><td style=\"text-align: right;\">                 3  </td><td style=\"text-align: right;\">                  3</td><td style=\"text-align: right;\">                  3</td><td style=\"text-align: right;\">            0      </td><td style=\"text-align: right;\">                     0</td><td style=\"text-align: right;\">                    0</td><td style=\"text-align: right;\">                    0</td><td style=\"text-align: right;\">                    0</td><td style=\"text-align: right;\">                   0</td><td style=\"text-align: right;\">                  0</td><td style=\"text-align: right;\">                  0</td><td style=\"text-align: right;\">                  0</td><td style=\"text-align: right;\">               0  </td><td style=\"text-align: right;\">                0</td><td style=\"text-align: right;\">                0</td><td style=\"text-align: right;\">          0      </td><td style=\"text-align: right;\">                        0</td><td style=\"text-align: right;\">                       0</td><td style=\"text-align: right;\">                       0</td><td style=\"text-align: right;\">                       0</td><td style=\"text-align: right;\">    4      </td><td style=\"text-align: right;\">         4</td><td style=\"text-align: right;\">         4</td><td style=\"text-align: right;\">   0      </td><td style=\"text-align: right;\">   64     </td><td style=\"text-align: right;\">       64</td><td style=\"text-align: right;\">       64</td><td style=\"text-align: right;\">  0      </td><td style=\"text-align: right;\">       12       </td><td style=\"text-align: right;\">             12</td><td style=\"text-align: right;\">             12</td><td style=\"text-align: right;\">       0       </td><td style=\"text-align: right;\">             0</td><td style=\"text-align: right;\">            0</td><td style=\"text-align: right;\">            0</td><td style=\"text-align: right;\">            0</td><td style=\"text-align: right;\">                    2</td><td style=\"text-align: right;\">                   2</td><td style=\"text-align: right;\">                   2</td><td style=\"text-align: right;\">                   0</td><td style=\"text-align: right;\">                 0</td><td style=\"text-align: right;\">                0</td><td style=\"text-align: right;\">                0</td><td style=\"text-align: right;\">                0</td><td style=\"text-align: right;\">                          0</td><td style=\"text-align: right;\">                         0</td><td style=\"text-align: right;\">                         0</td><td style=\"text-align: right;\">                         0</td><td style=\"text-align: right;\">                       3</td><td style=\"text-align: right;\">                      3</td><td style=\"text-align: right;\">                      3</td><td style=\"text-align: right;\">                0      </td><td style=\"text-align: right;\">           0     </td><td style=\"text-align: right;\">               0</td><td style=\"text-align: right;\">               0</td><td style=\"text-align: right;\">         0      </td><td style=\"text-align: right;\">              7      </td><td style=\"text-align: right;\">                   7</td><td style=\"text-align: right;\">                   7</td><td style=\"text-align: right;\">             0      </td><td style=\"text-align: right;\">                       0</td><td style=\"text-align: right;\">                      0</td><td style=\"text-align: right;\">                      0</td><td style=\"text-align: right;\">                0      </td><td style=\"text-align: right;\">            4      </td><td style=\"text-align: right;\">                 4</td><td style=\"text-align: right;\">                 4</td><td style=\"text-align: right;\">           0      </td><td style=\"text-align: right;\">              1       </td><td style=\"text-align: right;\">                    1</td><td style=\"text-align: right;\">                    1</td><td style=\"text-align: right;\">             0       </td><td style=\"text-align: right;\">                         0</td><td style=\"text-align: right;\">                        0</td><td style=\"text-align: right;\">                        0</td><td style=\"text-align: right;\">                  0      </td><td style=\"text-align: right;\">                   0</td><td style=\"text-align: right;\">                  0</td><td style=\"text-align: right;\">                  0</td><td style=\"text-align: right;\">                  0</td><td style=\"text-align: right;\">         0       </td><td style=\"text-align: right;\">               0</td><td style=\"text-align: right;\">               0</td><td style=\"text-align: right;\">         0      </td><td style=\"text-align: right;\">             108     </td><td style=\"text-align: right;\">                 108</td><td style=\"text-align: right;\">                 108</td><td style=\"text-align: right;\">              0     </td><td style=\"text-align: right;\">        1       </td><td style=\"text-align: right;\">              1</td><td style=\"text-align: right;\">              1</td><td style=\"text-align: right;\">       0       </td><td style=\"text-align: right;\">             371     </td><td style=\"text-align: right;\">                115     </td><td style=\"text-align: right;\">              12  </td></tr>\n",
       "<tr><td style=\"text-align: right;\">   3      </td><td style=\"text-align: right;\">        3</td><td style=\"text-align: right;\">        3</td><td style=\"text-align: right;\">  0      </td><td style=\"text-align: right;\">   5      </td><td style=\"text-align: right;\">        5</td><td style=\"text-align: right;\">        5</td><td style=\"text-align: right;\">  0      </td><td style=\"text-align: right;\">   1      </td><td style=\"text-align: right;\">        1</td><td style=\"text-align: right;\">        1</td><td style=\"text-align: right;\"> 0       </td><td style=\"text-align: right;\">    5     </td><td style=\"text-align: right;\">        5</td><td style=\"text-align: right;\">        5</td><td style=\"text-align: right;\">  0      </td><td style=\"text-align: right;\">     2     </td><td style=\"text-align: right;\">         2</td><td style=\"text-align: right;\">         2</td><td style=\"text-align: right;\">   0      </td><td style=\"text-align: right;\">            5      </td><td style=\"text-align: right;\">                 5</td><td style=\"text-align: right;\">                 5</td><td style=\"text-align: right;\">           0      </td><td style=\"text-align: right;\">            0       </td><td style=\"text-align: right;\">                  0</td><td style=\"text-align: right;\">                  0</td><td style=\"text-align: right;\">            0      </td><td style=\"text-align: right;\">            5       </td><td style=\"text-align: right;\">                  5</td><td style=\"text-align: right;\">                  5</td><td style=\"text-align: right;\">            0      </td><td style=\"text-align: right;\">             0       </td><td style=\"text-align: right;\">                   0</td><td style=\"text-align: right;\">                   0</td><td style=\"text-align: right;\">             0      </td><td style=\"text-align: right;\">                    0  </td><td style=\"text-align: right;\">                     0</td><td style=\"text-align: right;\">                     0</td><td style=\"text-align: right;\">              0       </td><td style=\"text-align: right;\">                    0</td><td style=\"text-align: right;\">                   0</td><td style=\"text-align: right;\">                   0</td><td style=\"text-align: right;\">                   0</td><td style=\"text-align: right;\">                     0</td><td style=\"text-align: right;\">                    0</td><td style=\"text-align: right;\">                    0</td><td style=\"text-align: right;\">                    0</td><td style=\"text-align: right;\">                  0</td><td style=\"text-align: right;\">                 0</td><td style=\"text-align: right;\">                 0</td><td style=\"text-align: right;\">                 0</td><td style=\"text-align: right;\">                         0</td><td style=\"text-align: right;\">                        0</td><td style=\"text-align: right;\">                        0</td><td style=\"text-align: right;\">                        0</td><td style=\"text-align: right;\">               4  </td><td style=\"text-align: right;\">                4</td><td style=\"text-align: right;\">                4</td><td style=\"text-align: right;\">          0      </td><td style=\"text-align: right;\">                0  </td><td style=\"text-align: right;\">                 0</td><td style=\"text-align: right;\">                 0</td><td style=\"text-align: right;\">          0       </td><td style=\"text-align: right;\">                  0</td><td style=\"text-align: right;\">                 0</td><td style=\"text-align: right;\">                 0</td><td style=\"text-align: right;\">                 0</td><td style=\"text-align: right;\">                 4  </td><td style=\"text-align: right;\">                  4</td><td style=\"text-align: right;\">                  4</td><td style=\"text-align: right;\">            0      </td><td style=\"text-align: right;\">                     0</td><td style=\"text-align: right;\">                    0</td><td style=\"text-align: right;\">                    0</td><td style=\"text-align: right;\">                    0</td><td style=\"text-align: right;\">                   0</td><td style=\"text-align: right;\">                  0</td><td style=\"text-align: right;\">                  0</td><td style=\"text-align: right;\">                  0</td><td style=\"text-align: right;\">               4  </td><td style=\"text-align: right;\">                4</td><td style=\"text-align: right;\">                4</td><td style=\"text-align: right;\">          0      </td><td style=\"text-align: right;\">                        0</td><td style=\"text-align: right;\">                       0</td><td style=\"text-align: right;\">                       0</td><td style=\"text-align: right;\">                       0</td><td style=\"text-align: right;\">    5      </td><td style=\"text-align: right;\">         5</td><td style=\"text-align: right;\">         5</td><td style=\"text-align: right;\">   0      </td><td style=\"text-align: right;\">   33     </td><td style=\"text-align: right;\">       33</td><td style=\"text-align: right;\">       33</td><td style=\"text-align: right;\">  0      </td><td style=\"text-align: right;\">        0       </td><td style=\"text-align: right;\">              0</td><td style=\"text-align: right;\">              0</td><td style=\"text-align: right;\">       0       </td><td style=\"text-align: right;\">             0</td><td style=\"text-align: right;\">            0</td><td style=\"text-align: right;\">            0</td><td style=\"text-align: right;\">            0</td><td style=\"text-align: right;\">                    0</td><td style=\"text-align: right;\">                   0</td><td style=\"text-align: right;\">                   0</td><td style=\"text-align: right;\">                   0</td><td style=\"text-align: right;\">                 0</td><td style=\"text-align: right;\">                0</td><td style=\"text-align: right;\">                0</td><td style=\"text-align: right;\">                0</td><td style=\"text-align: right;\">                          0</td><td style=\"text-align: right;\">                         0</td><td style=\"text-align: right;\">                         0</td><td style=\"text-align: right;\">                         0</td><td style=\"text-align: right;\">                       0</td><td style=\"text-align: right;\">                      0</td><td style=\"text-align: right;\">                      0</td><td style=\"text-align: right;\">                0      </td><td style=\"text-align: right;\">           0     </td><td style=\"text-align: right;\">               0</td><td style=\"text-align: right;\">               0</td><td style=\"text-align: right;\">         0      </td><td style=\"text-align: right;\">              4      </td><td style=\"text-align: right;\">                   4</td><td style=\"text-align: right;\">                   4</td><td style=\"text-align: right;\">             0      </td><td style=\"text-align: right;\">                       0</td><td style=\"text-align: right;\">                      0</td><td style=\"text-align: right;\">                      0</td><td style=\"text-align: right;\">                0      </td><td style=\"text-align: right;\">            4      </td><td style=\"text-align: right;\">                 4</td><td style=\"text-align: right;\">                 4</td><td style=\"text-align: right;\">           0      </td><td style=\"text-align: right;\">              0       </td><td style=\"text-align: right;\">                    0</td><td style=\"text-align: right;\">                    0</td><td style=\"text-align: right;\">             0       </td><td style=\"text-align: right;\">                         0</td><td style=\"text-align: right;\">                        0</td><td style=\"text-align: right;\">                        0</td><td style=\"text-align: right;\">                  0      </td><td style=\"text-align: right;\">                   0</td><td style=\"text-align: right;\">                  0</td><td style=\"text-align: right;\">                  0</td><td style=\"text-align: right;\">                  0</td><td style=\"text-align: right;\">         1       </td><td style=\"text-align: right;\">               1</td><td style=\"text-align: right;\">               1</td><td style=\"text-align: right;\">         0      </td><td style=\"text-align: right;\">              38     </td><td style=\"text-align: right;\">                  38</td><td style=\"text-align: right;\">                  38</td><td style=\"text-align: right;\">              0     </td><td style=\"text-align: right;\">       16       </td><td style=\"text-align: right;\">             16</td><td style=\"text-align: right;\">             16</td><td style=\"text-align: right;\">       0       </td><td style=\"text-align: right;\">              23     </td><td style=\"text-align: right;\">                 47     </td><td style=\"text-align: right;\">               8  </td></tr>\n",
       "<tr><td style=\"text-align: right;\">  21.5    </td><td style=\"text-align: right;\">       20</td><td style=\"text-align: right;\">       23</td><td style=\"text-align: right;\">  2.12132</td><td style=\"text-align: right;\">   9      </td><td style=\"text-align: right;\">        6</td><td style=\"text-align: right;\">       12</td><td style=\"text-align: right;\">  4.24264</td><td style=\"text-align: right;\">   3      </td><td style=\"text-align: right;\">        3</td><td style=\"text-align: right;\">        3</td><td style=\"text-align: right;\"> 0       </td><td style=\"text-align: right;\">   25     </td><td style=\"text-align: right;\">       15</td><td style=\"text-align: right;\">       35</td><td style=\"text-align: right;\"> 14.1421 </td><td style=\"text-align: right;\">    37.5   </td><td style=\"text-align: right;\">        15</td><td style=\"text-align: right;\">        60</td><td style=\"text-align: right;\">  31.8198 </td><td style=\"text-align: right;\">            9      </td><td style=\"text-align: right;\">                 6</td><td style=\"text-align: right;\">                12</td><td style=\"text-align: right;\">           4.24264</td><td style=\"text-align: right;\">            3.5     </td><td style=\"text-align: right;\">                  0</td><td style=\"text-align: right;\">                  7</td><td style=\"text-align: right;\">            4.94975</td><td style=\"text-align: right;\">            0       </td><td style=\"text-align: right;\">                  0</td><td style=\"text-align: right;\">                  0</td><td style=\"text-align: right;\">            0      </td><td style=\"text-align: right;\">             3.5     </td><td style=\"text-align: right;\">                   0</td><td style=\"text-align: right;\">                   7</td><td style=\"text-align: right;\">             4.94975</td><td style=\"text-align: right;\">                    0.5</td><td style=\"text-align: right;\">                     0</td><td style=\"text-align: right;\">                     1</td><td style=\"text-align: right;\">              0.707107</td><td style=\"text-align: right;\">                    0</td><td style=\"text-align: right;\">                   0</td><td style=\"text-align: right;\">                   0</td><td style=\"text-align: right;\">                   0</td><td style=\"text-align: right;\">                     0</td><td style=\"text-align: right;\">                    0</td><td style=\"text-align: right;\">                    0</td><td style=\"text-align: right;\">                    0</td><td style=\"text-align: right;\">                  0</td><td style=\"text-align: right;\">                 0</td><td style=\"text-align: right;\">                 0</td><td style=\"text-align: right;\">                 0</td><td style=\"text-align: right;\">                         0</td><td style=\"text-align: right;\">                        0</td><td style=\"text-align: right;\">                        0</td><td style=\"text-align: right;\">                        0</td><td style=\"text-align: right;\">               2.5</td><td style=\"text-align: right;\">                1</td><td style=\"text-align: right;\">                4</td><td style=\"text-align: right;\">          2.12132</td><td style=\"text-align: right;\">                2.5</td><td style=\"text-align: right;\">                 1</td><td style=\"text-align: right;\">                 4</td><td style=\"text-align: right;\">          2.12132 </td><td style=\"text-align: right;\">                  0</td><td style=\"text-align: right;\">                 0</td><td style=\"text-align: right;\">                 0</td><td style=\"text-align: right;\">                 0</td><td style=\"text-align: right;\">                 2.5</td><td style=\"text-align: right;\">                  1</td><td style=\"text-align: right;\">                  4</td><td style=\"text-align: right;\">            2.12132</td><td style=\"text-align: right;\">                     0</td><td style=\"text-align: right;\">                    0</td><td style=\"text-align: right;\">                    0</td><td style=\"text-align: right;\">                    0</td><td style=\"text-align: right;\">                   0</td><td style=\"text-align: right;\">                  0</td><td style=\"text-align: right;\">                  0</td><td style=\"text-align: right;\">                  0</td><td style=\"text-align: right;\">               2.5</td><td style=\"text-align: right;\">                1</td><td style=\"text-align: right;\">                4</td><td style=\"text-align: right;\">          2.12132</td><td style=\"text-align: right;\">                        0</td><td style=\"text-align: right;\">                       0</td><td style=\"text-align: right;\">                       0</td><td style=\"text-align: right;\">                       0</td><td style=\"text-align: right;\">   43.5    </td><td style=\"text-align: right;\">        16</td><td style=\"text-align: right;\">        71</td><td style=\"text-align: right;\">  38.8909 </td><td style=\"text-align: right;\">  121     </td><td style=\"text-align: right;\">       60</td><td style=\"text-align: right;\">      182</td><td style=\"text-align: right;\"> 86.267  </td><td style=\"text-align: right;\">        3.5     </td><td style=\"text-align: right;\">              0</td><td style=\"text-align: right;\">              7</td><td style=\"text-align: right;\">       4.94975 </td><td style=\"text-align: right;\">             0</td><td style=\"text-align: right;\">            0</td><td style=\"text-align: right;\">            0</td><td style=\"text-align: right;\">            0</td><td style=\"text-align: right;\">                    0</td><td style=\"text-align: right;\">                   0</td><td style=\"text-align: right;\">                   0</td><td style=\"text-align: right;\">                   0</td><td style=\"text-align: right;\">                 0</td><td style=\"text-align: right;\">                0</td><td style=\"text-align: right;\">                0</td><td style=\"text-align: right;\">                0</td><td style=\"text-align: right;\">                          0</td><td style=\"text-align: right;\">                         0</td><td style=\"text-align: right;\">                         0</td><td style=\"text-align: right;\">                         0</td><td style=\"text-align: right;\">                      48</td><td style=\"text-align: right;\">                     10</td><td style=\"text-align: right;\">                     86</td><td style=\"text-align: right;\">               53.7401 </td><td style=\"text-align: right;\">           0     </td><td style=\"text-align: right;\">               0</td><td style=\"text-align: right;\">               0</td><td style=\"text-align: right;\">         0      </td><td style=\"text-align: right;\">             10      </td><td style=\"text-align: right;\">                   9</td><td style=\"text-align: right;\">                  11</td><td style=\"text-align: right;\">             1.41421</td><td style=\"text-align: right;\">                       0</td><td style=\"text-align: right;\">                      0</td><td style=\"text-align: right;\">                      0</td><td style=\"text-align: right;\">                0      </td><td style=\"text-align: right;\">           10      </td><td style=\"text-align: right;\">                 9</td><td style=\"text-align: right;\">                11</td><td style=\"text-align: right;\">           1.41421</td><td style=\"text-align: right;\">              0       </td><td style=\"text-align: right;\">                    0</td><td style=\"text-align: right;\">                    0</td><td style=\"text-align: right;\">             0       </td><td style=\"text-align: right;\">                         0</td><td style=\"text-align: right;\">                        0</td><td style=\"text-align: right;\">                        0</td><td style=\"text-align: right;\">                  0      </td><td style=\"text-align: right;\">                   0</td><td style=\"text-align: right;\">                  0</td><td style=\"text-align: right;\">                  0</td><td style=\"text-align: right;\">                  0</td><td style=\"text-align: right;\">         7       </td><td style=\"text-align: right;\">               4</td><td style=\"text-align: right;\">              10</td><td style=\"text-align: right;\">         4.24264</td><td style=\"text-align: right;\">              68     </td><td style=\"text-align: right;\">                  54</td><td style=\"text-align: right;\">                  82</td><td style=\"text-align: right;\">             19.799 </td><td style=\"text-align: right;\">        0       </td><td style=\"text-align: right;\">              0</td><td style=\"text-align: right;\">              0</td><td style=\"text-align: right;\">       0       </td><td style=\"text-align: right;\">              12.5   </td><td style=\"text-align: right;\">                119.5   </td><td style=\"text-align: right;\">               2.8</td></tr>\n",
       "<tr><td style=\"text-align: right;\">  11      </td><td style=\"text-align: right;\">       11</td><td style=\"text-align: right;\">       11</td><td style=\"text-align: right;\">  0      </td><td style=\"text-align: right;\">   6      </td><td style=\"text-align: right;\">        6</td><td style=\"text-align: right;\">        6</td><td style=\"text-align: right;\">  0      </td><td style=\"text-align: right;\">   3      </td><td style=\"text-align: right;\">        3</td><td style=\"text-align: right;\">        3</td><td style=\"text-align: right;\"> 0       </td><td style=\"text-align: right;\">   15     </td><td style=\"text-align: right;\">       15</td><td style=\"text-align: right;\">       15</td><td style=\"text-align: right;\">  0      </td><td style=\"text-align: right;\">    15     </td><td style=\"text-align: right;\">        15</td><td style=\"text-align: right;\">        15</td><td style=\"text-align: right;\">   0      </td><td style=\"text-align: right;\">            6      </td><td style=\"text-align: right;\">                 6</td><td style=\"text-align: right;\">                 6</td><td style=\"text-align: right;\">           0      </td><td style=\"text-align: right;\">            2       </td><td style=\"text-align: right;\">                  2</td><td style=\"text-align: right;\">                  2</td><td style=\"text-align: right;\">            0      </td><td style=\"text-align: right;\">            4       </td><td style=\"text-align: right;\">                  4</td><td style=\"text-align: right;\">                  4</td><td style=\"text-align: right;\">            0      </td><td style=\"text-align: right;\">             1       </td><td style=\"text-align: right;\">                   1</td><td style=\"text-align: right;\">                   1</td><td style=\"text-align: right;\">             0      </td><td style=\"text-align: right;\">                    0  </td><td style=\"text-align: right;\">                     0</td><td style=\"text-align: right;\">                     0</td><td style=\"text-align: right;\">              0       </td><td style=\"text-align: right;\">                    0</td><td style=\"text-align: right;\">                   0</td><td style=\"text-align: right;\">                   0</td><td style=\"text-align: right;\">                   0</td><td style=\"text-align: right;\">                     0</td><td style=\"text-align: right;\">                    0</td><td style=\"text-align: right;\">                    0</td><td style=\"text-align: right;\">                    0</td><td style=\"text-align: right;\">                  0</td><td style=\"text-align: right;\">                 0</td><td style=\"text-align: right;\">                 0</td><td style=\"text-align: right;\">                 0</td><td style=\"text-align: right;\">                         0</td><td style=\"text-align: right;\">                        0</td><td style=\"text-align: right;\">                        0</td><td style=\"text-align: right;\">                        0</td><td style=\"text-align: right;\">               0  </td><td style=\"text-align: right;\">                0</td><td style=\"text-align: right;\">                0</td><td style=\"text-align: right;\">          0      </td><td style=\"text-align: right;\">                0  </td><td style=\"text-align: right;\">                 0</td><td style=\"text-align: right;\">                 0</td><td style=\"text-align: right;\">          0       </td><td style=\"text-align: right;\">                  0</td><td style=\"text-align: right;\">                 0</td><td style=\"text-align: right;\">                 0</td><td style=\"text-align: right;\">                 0</td><td style=\"text-align: right;\">                 0  </td><td style=\"text-align: right;\">                  0</td><td style=\"text-align: right;\">                  0</td><td style=\"text-align: right;\">            0      </td><td style=\"text-align: right;\">                     0</td><td style=\"text-align: right;\">                    0</td><td style=\"text-align: right;\">                    0</td><td style=\"text-align: right;\">                    0</td><td style=\"text-align: right;\">                   0</td><td style=\"text-align: right;\">                  0</td><td style=\"text-align: right;\">                  0</td><td style=\"text-align: right;\">                  0</td><td style=\"text-align: right;\">               0  </td><td style=\"text-align: right;\">                0</td><td style=\"text-align: right;\">                0</td><td style=\"text-align: right;\">          0      </td><td style=\"text-align: right;\">                        0</td><td style=\"text-align: right;\">                       0</td><td style=\"text-align: right;\">                       0</td><td style=\"text-align: right;\">                       0</td><td style=\"text-align: right;\">   24      </td><td style=\"text-align: right;\">        24</td><td style=\"text-align: right;\">        24</td><td style=\"text-align: right;\">   0      </td><td style=\"text-align: right;\">  111     </td><td style=\"text-align: right;\">      111</td><td style=\"text-align: right;\">      111</td><td style=\"text-align: right;\">  0      </td><td style=\"text-align: right;\">        2       </td><td style=\"text-align: right;\">              2</td><td style=\"text-align: right;\">              2</td><td style=\"text-align: right;\">       0       </td><td style=\"text-align: right;\">             0</td><td style=\"text-align: right;\">            0</td><td style=\"text-align: right;\">            0</td><td style=\"text-align: right;\">            0</td><td style=\"text-align: right;\">                    0</td><td style=\"text-align: right;\">                   0</td><td style=\"text-align: right;\">                   0</td><td style=\"text-align: right;\">                   0</td><td style=\"text-align: right;\">                 0</td><td style=\"text-align: right;\">                0</td><td style=\"text-align: right;\">                0</td><td style=\"text-align: right;\">                0</td><td style=\"text-align: right;\">                          0</td><td style=\"text-align: right;\">                         0</td><td style=\"text-align: right;\">                         0</td><td style=\"text-align: right;\">                         0</td><td style=\"text-align: right;\">                      34</td><td style=\"text-align: right;\">                     34</td><td style=\"text-align: right;\">                     34</td><td style=\"text-align: right;\">                0      </td><td style=\"text-align: right;\">          30     </td><td style=\"text-align: right;\">              30</td><td style=\"text-align: right;\">              30</td><td style=\"text-align: right;\">         0      </td><td style=\"text-align: right;\">              8      </td><td style=\"text-align: right;\">                   8</td><td style=\"text-align: right;\">                   8</td><td style=\"text-align: right;\">             0      </td><td style=\"text-align: right;\">                       0</td><td style=\"text-align: right;\">                      0</td><td style=\"text-align: right;\">                      0</td><td style=\"text-align: right;\">                0      </td><td style=\"text-align: right;\">            8      </td><td style=\"text-align: right;\">                 8</td><td style=\"text-align: right;\">                 8</td><td style=\"text-align: right;\">           0      </td><td style=\"text-align: right;\">              0       </td><td style=\"text-align: right;\">                    0</td><td style=\"text-align: right;\">                    0</td><td style=\"text-align: right;\">             0       </td><td style=\"text-align: right;\">                         0</td><td style=\"text-align: right;\">                        0</td><td style=\"text-align: right;\">                        0</td><td style=\"text-align: right;\">                  0      </td><td style=\"text-align: right;\">                   2</td><td style=\"text-align: right;\">                  2</td><td style=\"text-align: right;\">                  2</td><td style=\"text-align: right;\">                  0</td><td style=\"text-align: right;\">         0       </td><td style=\"text-align: right;\">               0</td><td style=\"text-align: right;\">               0</td><td style=\"text-align: right;\">         0      </td><td style=\"text-align: right;\">              75     </td><td style=\"text-align: right;\">                  75</td><td style=\"text-align: right;\">                  75</td><td style=\"text-align: right;\">              0     </td><td style=\"text-align: right;\">        1       </td><td style=\"text-align: right;\">              1</td><td style=\"text-align: right;\">              1</td><td style=\"text-align: right;\">       0       </td><td style=\"text-align: right;\">              20     </td><td style=\"text-align: right;\">                 96     </td><td style=\"text-align: right;\">              25.6</td></tr>\n",
       "<tr><td style=\"text-align: right;\">   4.42857</td><td style=\"text-align: right;\">        2</td><td style=\"text-align: right;\">        9</td><td style=\"text-align: right;\">  2.50713</td><td style=\"text-align: right;\">   1.28571</td><td style=\"text-align: right;\">        0</td><td style=\"text-align: right;\">        3</td><td style=\"text-align: right;\">  1.38013</td><td style=\"text-align: right;\">   1.71429</td><td style=\"text-align: right;\">        1</td><td style=\"text-align: right;\">        2</td><td style=\"text-align: right;\"> 0.48795 </td><td style=\"text-align: right;\">    2     </td><td style=\"text-align: right;\">        0</td><td style=\"text-align: right;\">        5</td><td style=\"text-align: right;\">  2.23607</td><td style=\"text-align: right;\">     1     </td><td style=\"text-align: right;\">         0</td><td style=\"text-align: right;\">         3</td><td style=\"text-align: right;\">   1.41421</td><td style=\"text-align: right;\">            1.28571</td><td style=\"text-align: right;\">                 0</td><td style=\"text-align: right;\">                 3</td><td style=\"text-align: right;\">           1.38013</td><td style=\"text-align: right;\">            0       </td><td style=\"text-align: right;\">                  0</td><td style=\"text-align: right;\">                  0</td><td style=\"text-align: right;\">            0      </td><td style=\"text-align: right;\">            0.857143</td><td style=\"text-align: right;\">                  0</td><td style=\"text-align: right;\">                  3</td><td style=\"text-align: right;\">            1.21499</td><td style=\"text-align: right;\">             0       </td><td style=\"text-align: right;\">                   0</td><td style=\"text-align: right;\">                   0</td><td style=\"text-align: right;\">             0      </td><td style=\"text-align: right;\">                    0  </td><td style=\"text-align: right;\">                     0</td><td style=\"text-align: right;\">                     0</td><td style=\"text-align: right;\">              0       </td><td style=\"text-align: right;\">                    0</td><td style=\"text-align: right;\">                   0</td><td style=\"text-align: right;\">                   0</td><td style=\"text-align: right;\">                   0</td><td style=\"text-align: right;\">                     0</td><td style=\"text-align: right;\">                    0</td><td style=\"text-align: right;\">                    0</td><td style=\"text-align: right;\">                    0</td><td style=\"text-align: right;\">                  0</td><td style=\"text-align: right;\">                 0</td><td style=\"text-align: right;\">                 0</td><td style=\"text-align: right;\">                 0</td><td style=\"text-align: right;\">                         0</td><td style=\"text-align: right;\">                        0</td><td style=\"text-align: right;\">                        0</td><td style=\"text-align: right;\">                        0</td><td style=\"text-align: right;\">               0  </td><td style=\"text-align: right;\">                0</td><td style=\"text-align: right;\">                0</td><td style=\"text-align: right;\">          0      </td><td style=\"text-align: right;\">                0  </td><td style=\"text-align: right;\">                 0</td><td style=\"text-align: right;\">                 0</td><td style=\"text-align: right;\">          0       </td><td style=\"text-align: right;\">                  0</td><td style=\"text-align: right;\">                 0</td><td style=\"text-align: right;\">                 0</td><td style=\"text-align: right;\">                 0</td><td style=\"text-align: right;\">                 0  </td><td style=\"text-align: right;\">                  0</td><td style=\"text-align: right;\">                  0</td><td style=\"text-align: right;\">            0      </td><td style=\"text-align: right;\">                     0</td><td style=\"text-align: right;\">                    0</td><td style=\"text-align: right;\">                    0</td><td style=\"text-align: right;\">                    0</td><td style=\"text-align: right;\">                   0</td><td style=\"text-align: right;\">                  0</td><td style=\"text-align: right;\">                  0</td><td style=\"text-align: right;\">                  0</td><td style=\"text-align: right;\">               0  </td><td style=\"text-align: right;\">                0</td><td style=\"text-align: right;\">                0</td><td style=\"text-align: right;\">          0      </td><td style=\"text-align: right;\">                        0</td><td style=\"text-align: right;\">                       0</td><td style=\"text-align: right;\">                       0</td><td style=\"text-align: right;\">                       0</td><td style=\"text-align: right;\">    2.42857</td><td style=\"text-align: right;\">         0</td><td style=\"text-align: right;\">         9</td><td style=\"text-align: right;\">   3.30944</td><td style=\"text-align: right;\">   13.2857</td><td style=\"text-align: right;\">        4</td><td style=\"text-align: right;\">       28</td><td style=\"text-align: right;\">  9.72478</td><td style=\"text-align: right;\">        0.142857</td><td style=\"text-align: right;\">              0</td><td style=\"text-align: right;\">              1</td><td style=\"text-align: right;\">       0.377964</td><td style=\"text-align: right;\">             0</td><td style=\"text-align: right;\">            0</td><td style=\"text-align: right;\">            0</td><td style=\"text-align: right;\">            0</td><td style=\"text-align: right;\">                    0</td><td style=\"text-align: right;\">                   0</td><td style=\"text-align: right;\">                   0</td><td style=\"text-align: right;\">                   0</td><td style=\"text-align: right;\">                 0</td><td style=\"text-align: right;\">                0</td><td style=\"text-align: right;\">                0</td><td style=\"text-align: right;\">                0</td><td style=\"text-align: right;\">                          0</td><td style=\"text-align: right;\">                         0</td><td style=\"text-align: right;\">                         0</td><td style=\"text-align: right;\">                         0</td><td style=\"text-align: right;\">                       2</td><td style=\"text-align: right;\">                      0</td><td style=\"text-align: right;\">                      7</td><td style=\"text-align: right;\">                2.76887</td><td style=\"text-align: right;\">           0     </td><td style=\"text-align: right;\">               0</td><td style=\"text-align: right;\">               0</td><td style=\"text-align: right;\">         0      </td><td style=\"text-align: right;\">              1.57143</td><td style=\"text-align: right;\">                   0</td><td style=\"text-align: right;\">                   6</td><td style=\"text-align: right;\">             2.29907</td><td style=\"text-align: right;\">                       0</td><td style=\"text-align: right;\">                      0</td><td style=\"text-align: right;\">                      0</td><td style=\"text-align: right;\">                0      </td><td style=\"text-align: right;\">            1.57143</td><td style=\"text-align: right;\">                 0</td><td style=\"text-align: right;\">                 6</td><td style=\"text-align: right;\">           2.29907</td><td style=\"text-align: right;\">             -0.428571</td><td style=\"text-align: right;\">                   -1</td><td style=\"text-align: right;\">                    0</td><td style=\"text-align: right;\">             0.534522</td><td style=\"text-align: right;\">                         0</td><td style=\"text-align: right;\">                        0</td><td style=\"text-align: right;\">                        0</td><td style=\"text-align: right;\">                  0      </td><td style=\"text-align: right;\">                   0</td><td style=\"text-align: right;\">                  0</td><td style=\"text-align: right;\">                  0</td><td style=\"text-align: right;\">                  0</td><td style=\"text-align: right;\">         0.428571</td><td style=\"text-align: right;\">               0</td><td style=\"text-align: right;\">               3</td><td style=\"text-align: right;\">         1.13389</td><td style=\"text-align: right;\">              26.1429</td><td style=\"text-align: right;\">                  14</td><td style=\"text-align: right;\">                  46</td><td style=\"text-align: right;\">             10.1559</td><td style=\"text-align: right;\">        0.857143</td><td style=\"text-align: right;\">              0</td><td style=\"text-align: right;\">              1</td><td style=\"text-align: right;\">       0.377964</td><td style=\"text-align: right;\">              24.5714</td><td style=\"text-align: right;\">                 23.2857</td><td style=\"text-align: right;\">               4.6</td></tr>\n",
       "<tr><td style=\"text-align: right;\">   5      </td><td style=\"text-align: right;\">        5</td><td style=\"text-align: right;\">        5</td><td style=\"text-align: right;\">  0      </td><td style=\"text-align: right;\">  11      </td><td style=\"text-align: right;\">       11</td><td style=\"text-align: right;\">       11</td><td style=\"text-align: right;\">  0      </td><td style=\"text-align: right;\">   1      </td><td style=\"text-align: right;\">        1</td><td style=\"text-align: right;\">        1</td><td style=\"text-align: right;\"> 0       </td><td style=\"text-align: right;\">   14     </td><td style=\"text-align: right;\">       14</td><td style=\"text-align: right;\">       14</td><td style=\"text-align: right;\">  0      </td><td style=\"text-align: right;\">     0     </td><td style=\"text-align: right;\">         0</td><td style=\"text-align: right;\">         0</td><td style=\"text-align: right;\">   0      </td><td style=\"text-align: right;\">           10      </td><td style=\"text-align: right;\">                10</td><td style=\"text-align: right;\">                10</td><td style=\"text-align: right;\">           0      </td><td style=\"text-align: right;\">            1       </td><td style=\"text-align: right;\">                  1</td><td style=\"text-align: right;\">                  1</td><td style=\"text-align: right;\">            0      </td><td style=\"text-align: right;\">            9       </td><td style=\"text-align: right;\">                  9</td><td style=\"text-align: right;\">                  9</td><td style=\"text-align: right;\">            0      </td><td style=\"text-align: right;\">             1       </td><td style=\"text-align: right;\">                   1</td><td style=\"text-align: right;\">                   1</td><td style=\"text-align: right;\">             0      </td><td style=\"text-align: right;\">                    0  </td><td style=\"text-align: right;\">                     0</td><td style=\"text-align: right;\">                     0</td><td style=\"text-align: right;\">              0       </td><td style=\"text-align: right;\">                    0</td><td style=\"text-align: right;\">                   0</td><td style=\"text-align: right;\">                   0</td><td style=\"text-align: right;\">                   0</td><td style=\"text-align: right;\">                     0</td><td style=\"text-align: right;\">                    0</td><td style=\"text-align: right;\">                    0</td><td style=\"text-align: right;\">                    0</td><td style=\"text-align: right;\">                  0</td><td style=\"text-align: right;\">                 0</td><td style=\"text-align: right;\">                 0</td><td style=\"text-align: right;\">                 0</td><td style=\"text-align: right;\">                         0</td><td style=\"text-align: right;\">                        0</td><td style=\"text-align: right;\">                        0</td><td style=\"text-align: right;\">                        0</td><td style=\"text-align: right;\">               1  </td><td style=\"text-align: right;\">                1</td><td style=\"text-align: right;\">                1</td><td style=\"text-align: right;\">          0      </td><td style=\"text-align: right;\">                0  </td><td style=\"text-align: right;\">                 0</td><td style=\"text-align: right;\">                 0</td><td style=\"text-align: right;\">          0       </td><td style=\"text-align: right;\">                  0</td><td style=\"text-align: right;\">                 0</td><td style=\"text-align: right;\">                 0</td><td style=\"text-align: right;\">                 0</td><td style=\"text-align: right;\">                 0  </td><td style=\"text-align: right;\">                  0</td><td style=\"text-align: right;\">                  0</td><td style=\"text-align: right;\">            0      </td><td style=\"text-align: right;\">                     0</td><td style=\"text-align: right;\">                    0</td><td style=\"text-align: right;\">                    0</td><td style=\"text-align: right;\">                    0</td><td style=\"text-align: right;\">                   0</td><td style=\"text-align: right;\">                  0</td><td style=\"text-align: right;\">                  0</td><td style=\"text-align: right;\">                  0</td><td style=\"text-align: right;\">               0  </td><td style=\"text-align: right;\">                0</td><td style=\"text-align: right;\">                0</td><td style=\"text-align: right;\">          0      </td><td style=\"text-align: right;\">                        0</td><td style=\"text-align: right;\">                       0</td><td style=\"text-align: right;\">                       0</td><td style=\"text-align: right;\">                       0</td><td style=\"text-align: right;\">    5      </td><td style=\"text-align: right;\">         5</td><td style=\"text-align: right;\">         5</td><td style=\"text-align: right;\">   0      </td><td style=\"text-align: right;\">   53     </td><td style=\"text-align: right;\">       53</td><td style=\"text-align: right;\">       53</td><td style=\"text-align: right;\">  0      </td><td style=\"text-align: right;\">        8       </td><td style=\"text-align: right;\">              8</td><td style=\"text-align: right;\">              8</td><td style=\"text-align: right;\">       0       </td><td style=\"text-align: right;\">             1</td><td style=\"text-align: right;\">            1</td><td style=\"text-align: right;\">            1</td><td style=\"text-align: right;\">            0</td><td style=\"text-align: right;\">                    0</td><td style=\"text-align: right;\">                   0</td><td style=\"text-align: right;\">                   0</td><td style=\"text-align: right;\">                   0</td><td style=\"text-align: right;\">                 0</td><td style=\"text-align: right;\">                0</td><td style=\"text-align: right;\">                0</td><td style=\"text-align: right;\">                0</td><td style=\"text-align: right;\">                          1</td><td style=\"text-align: right;\">                         1</td><td style=\"text-align: right;\">                         1</td><td style=\"text-align: right;\">                         0</td><td style=\"text-align: right;\">                       3</td><td style=\"text-align: right;\">                      3</td><td style=\"text-align: right;\">                      3</td><td style=\"text-align: right;\">                0      </td><td style=\"text-align: right;\">           0     </td><td style=\"text-align: right;\">               0</td><td style=\"text-align: right;\">               0</td><td style=\"text-align: right;\">         0      </td><td style=\"text-align: right;\">              2      </td><td style=\"text-align: right;\">                   2</td><td style=\"text-align: right;\">                   2</td><td style=\"text-align: right;\">             0      </td><td style=\"text-align: right;\">                       0</td><td style=\"text-align: right;\">                      0</td><td style=\"text-align: right;\">                      0</td><td style=\"text-align: right;\">                0      </td><td style=\"text-align: right;\">            2      </td><td style=\"text-align: right;\">                 2</td><td style=\"text-align: right;\">                 2</td><td style=\"text-align: right;\">           0      </td><td style=\"text-align: right;\">              1       </td><td style=\"text-align: right;\">                    1</td><td style=\"text-align: right;\">                    1</td><td style=\"text-align: right;\">             0       </td><td style=\"text-align: right;\">                         0</td><td style=\"text-align: right;\">                        0</td><td style=\"text-align: right;\">                        0</td><td style=\"text-align: right;\">                  0      </td><td style=\"text-align: right;\">                   0</td><td style=\"text-align: right;\">                  0</td><td style=\"text-align: right;\">                  0</td><td style=\"text-align: right;\">                  0</td><td style=\"text-align: right;\">         0       </td><td style=\"text-align: right;\">               0</td><td style=\"text-align: right;\">               0</td><td style=\"text-align: right;\">         0      </td><td style=\"text-align: right;\">              46     </td><td style=\"text-align: right;\">                  46</td><td style=\"text-align: right;\">                  46</td><td style=\"text-align: right;\">              0     </td><td style=\"text-align: right;\">        1       </td><td style=\"text-align: right;\">              1</td><td style=\"text-align: right;\">              1</td><td style=\"text-align: right;\">       0       </td><td style=\"text-align: right;\">              16     </td><td style=\"text-align: right;\">                 65     </td><td style=\"text-align: right;\">              15.4</td></tr>\n",
       "<tr><td style=\"text-align: right;\">  26      </td><td style=\"text-align: right;\">       20</td><td style=\"text-align: right;\">       32</td><td style=\"text-align: right;\">  6      </td><td style=\"text-align: right;\">  11      </td><td style=\"text-align: right;\">        6</td><td style=\"text-align: right;\">       19</td><td style=\"text-align: right;\">  7      </td><td style=\"text-align: right;\">   3.66667</td><td style=\"text-align: right;\">        3</td><td style=\"text-align: right;\">        5</td><td style=\"text-align: right;\"> 1.1547  </td><td style=\"text-align: right;\">   23.3333</td><td style=\"text-align: right;\">       11</td><td style=\"text-align: right;\">       33</td><td style=\"text-align: right;\"> 11.2398 </td><td style=\"text-align: right;\">    71.3333</td><td style=\"text-align: right;\">        15</td><td style=\"text-align: right;\">       171</td><td style=\"text-align: right;\">  86.5583 </td><td style=\"text-align: right;\">           11      </td><td style=\"text-align: right;\">                 6</td><td style=\"text-align: right;\">                19</td><td style=\"text-align: right;\">           7      </td><td style=\"text-align: right;\">            0.666667</td><td style=\"text-align: right;\">                  0</td><td style=\"text-align: right;\">                  1</td><td style=\"text-align: right;\">            0.57735</td><td style=\"text-align: right;\">           10.3333  </td><td style=\"text-align: right;\">                  6</td><td style=\"text-align: right;\">                 18</td><td style=\"text-align: right;\">            6.65833</td><td style=\"text-align: right;\">             0.666667</td><td style=\"text-align: right;\">                   0</td><td style=\"text-align: right;\">                   1</td><td style=\"text-align: right;\">             0.57735</td><td style=\"text-align: right;\">                    0  </td><td style=\"text-align: right;\">                     0</td><td style=\"text-align: right;\">                     0</td><td style=\"text-align: right;\">              0       </td><td style=\"text-align: right;\">                    0</td><td style=\"text-align: right;\">                   0</td><td style=\"text-align: right;\">                   0</td><td style=\"text-align: right;\">                   0</td><td style=\"text-align: right;\">                     0</td><td style=\"text-align: right;\">                    0</td><td style=\"text-align: right;\">                    0</td><td style=\"text-align: right;\">                    0</td><td style=\"text-align: right;\">                  0</td><td style=\"text-align: right;\">                 0</td><td style=\"text-align: right;\">                 0</td><td style=\"text-align: right;\">                 0</td><td style=\"text-align: right;\">                         0</td><td style=\"text-align: right;\">                        0</td><td style=\"text-align: right;\">                        0</td><td style=\"text-align: right;\">                        0</td><td style=\"text-align: right;\">               0  </td><td style=\"text-align: right;\">                0</td><td style=\"text-align: right;\">                0</td><td style=\"text-align: right;\">          0      </td><td style=\"text-align: right;\">                0  </td><td style=\"text-align: right;\">                 0</td><td style=\"text-align: right;\">                 0</td><td style=\"text-align: right;\">          0       </td><td style=\"text-align: right;\">                  0</td><td style=\"text-align: right;\">                 0</td><td style=\"text-align: right;\">                 0</td><td style=\"text-align: right;\">                 0</td><td style=\"text-align: right;\">                 0  </td><td style=\"text-align: right;\">                  0</td><td style=\"text-align: right;\">                  0</td><td style=\"text-align: right;\">            0      </td><td style=\"text-align: right;\">                     0</td><td style=\"text-align: right;\">                    0</td><td style=\"text-align: right;\">                    0</td><td style=\"text-align: right;\">                    0</td><td style=\"text-align: right;\">                   0</td><td style=\"text-align: right;\">                  0</td><td style=\"text-align: right;\">                  0</td><td style=\"text-align: right;\">                  0</td><td style=\"text-align: right;\">               0  </td><td style=\"text-align: right;\">                0</td><td style=\"text-align: right;\">                0</td><td style=\"text-align: right;\">          0      </td><td style=\"text-align: right;\">                        0</td><td style=\"text-align: right;\">                       0</td><td style=\"text-align: right;\">                       0</td><td style=\"text-align: right;\">                       0</td><td style=\"text-align: right;\">   15.6667 </td><td style=\"text-align: right;\">         6</td><td style=\"text-align: right;\">        24</td><td style=\"text-align: right;\">   9.07377</td><td style=\"text-align: right;\">  179.333 </td><td style=\"text-align: right;\">      130</td><td style=\"text-align: right;\">      258</td><td style=\"text-align: right;\"> 68.8573 </td><td style=\"text-align: right;\">        0.666667</td><td style=\"text-align: right;\">              0</td><td style=\"text-align: right;\">              1</td><td style=\"text-align: right;\">       0.57735 </td><td style=\"text-align: right;\">             0</td><td style=\"text-align: right;\">            0</td><td style=\"text-align: right;\">            0</td><td style=\"text-align: right;\">            0</td><td style=\"text-align: right;\">                    0</td><td style=\"text-align: right;\">                   0</td><td style=\"text-align: right;\">                   0</td><td style=\"text-align: right;\">                   0</td><td style=\"text-align: right;\">                 0</td><td style=\"text-align: right;\">                0</td><td style=\"text-align: right;\">                0</td><td style=\"text-align: right;\">                0</td><td style=\"text-align: right;\">                          0</td><td style=\"text-align: right;\">                         0</td><td style=\"text-align: right;\">                         0</td><td style=\"text-align: right;\">                         0</td><td style=\"text-align: right;\">                      33</td><td style=\"text-align: right;\">                     25</td><td style=\"text-align: right;\">                     45</td><td style=\"text-align: right;\">               10.583  </td><td style=\"text-align: right;\">          24.6667</td><td style=\"text-align: right;\">              23</td><td style=\"text-align: right;\">              28</td><td style=\"text-align: right;\">         2.88675</td><td style=\"text-align: right;\">             67      </td><td style=\"text-align: right;\">                  55</td><td style=\"text-align: right;\">                  90</td><td style=\"text-align: right;\">            19.9249 </td><td style=\"text-align: right;\">                       0</td><td style=\"text-align: right;\">                      0</td><td style=\"text-align: right;\">                      0</td><td style=\"text-align: right;\">                0      </td><td style=\"text-align: right;\">           30.3333 </td><td style=\"text-align: right;\">                16</td><td style=\"text-align: right;\">                50</td><td style=\"text-align: right;\">          17.6163 </td><td style=\"text-align: right;\">              0       </td><td style=\"text-align: right;\">                    0</td><td style=\"text-align: right;\">                    0</td><td style=\"text-align: right;\">             0       </td><td style=\"text-align: right;\">                         0</td><td style=\"text-align: right;\">                        0</td><td style=\"text-align: right;\">                        0</td><td style=\"text-align: right;\">                  0      </td><td style=\"text-align: right;\">                   2</td><td style=\"text-align: right;\">                  0</td><td style=\"text-align: right;\">                  4</td><td style=\"text-align: right;\">                  2</td><td style=\"text-align: right;\">         0.333333</td><td style=\"text-align: right;\">               0</td><td style=\"text-align: right;\">               1</td><td style=\"text-align: right;\">         0.57735</td><td style=\"text-align: right;\">             118.333 </td><td style=\"text-align: right;\">                  89</td><td style=\"text-align: right;\">                 151</td><td style=\"text-align: right;\">             31.1341</td><td style=\"text-align: right;\">        1       </td><td style=\"text-align: right;\">              1</td><td style=\"text-align: right;\">              1</td><td style=\"text-align: right;\">       0       </td><td style=\"text-align: right;\">               9     </td><td style=\"text-align: right;\">                321     </td><td style=\"text-align: right;\">              37.6</td></tr>\n",
       "<tr><td style=\"text-align: right;\"> 132      </td><td style=\"text-align: right;\">      132</td><td style=\"text-align: right;\">      132</td><td style=\"text-align: right;\">  0      </td><td style=\"text-align: right;\"> 109      </td><td style=\"text-align: right;\">      109</td><td style=\"text-align: right;\">      109</td><td style=\"text-align: right;\">  0      </td><td style=\"text-align: right;\">   1      </td><td style=\"text-align: right;\">        1</td><td style=\"text-align: right;\">        1</td><td style=\"text-align: right;\"> 0       </td><td style=\"text-align: right;\">   51     </td><td style=\"text-align: right;\">       51</td><td style=\"text-align: right;\">       51</td><td style=\"text-align: right;\">  0      </td><td style=\"text-align: right;\">  5886     </td><td style=\"text-align: right;\">      5886</td><td style=\"text-align: right;\">      5886</td><td style=\"text-align: right;\">   0      </td><td style=\"text-align: right;\">          109      </td><td style=\"text-align: right;\">               109</td><td style=\"text-align: right;\">               109</td><td style=\"text-align: right;\">           0      </td><td style=\"text-align: right;\">          108       </td><td style=\"text-align: right;\">                108</td><td style=\"text-align: right;\">                108</td><td style=\"text-align: right;\">            0      </td><td style=\"text-align: right;\">          108       </td><td style=\"text-align: right;\">                108</td><td style=\"text-align: right;\">                108</td><td style=\"text-align: right;\">            0      </td><td style=\"text-align: right;\">             0       </td><td style=\"text-align: right;\">                   0</td><td style=\"text-align: right;\">                   0</td><td style=\"text-align: right;\">             0      </td><td style=\"text-align: right;\">                    1  </td><td style=\"text-align: right;\">                     1</td><td style=\"text-align: right;\">                     1</td><td style=\"text-align: right;\">              0       </td><td style=\"text-align: right;\">                    0</td><td style=\"text-align: right;\">                   0</td><td style=\"text-align: right;\">                   0</td><td style=\"text-align: right;\">                   0</td><td style=\"text-align: right;\">                     0</td><td style=\"text-align: right;\">                    0</td><td style=\"text-align: right;\">                    0</td><td style=\"text-align: right;\">                    0</td><td style=\"text-align: right;\">                  0</td><td style=\"text-align: right;\">                 0</td><td style=\"text-align: right;\">                 0</td><td style=\"text-align: right;\">                 0</td><td style=\"text-align: right;\">                         0</td><td style=\"text-align: right;\">                        0</td><td style=\"text-align: right;\">                        0</td><td style=\"text-align: right;\">                        0</td><td style=\"text-align: right;\">               0  </td><td style=\"text-align: right;\">                0</td><td style=\"text-align: right;\">                0</td><td style=\"text-align: right;\">          0      </td><td style=\"text-align: right;\">                0  </td><td style=\"text-align: right;\">                 0</td><td style=\"text-align: right;\">                 0</td><td style=\"text-align: right;\">          0       </td><td style=\"text-align: right;\">                  0</td><td style=\"text-align: right;\">                 0</td><td style=\"text-align: right;\">                 0</td><td style=\"text-align: right;\">                 0</td><td style=\"text-align: right;\">                 0  </td><td style=\"text-align: right;\">                  0</td><td style=\"text-align: right;\">                  0</td><td style=\"text-align: right;\">            0      </td><td style=\"text-align: right;\">                     0</td><td style=\"text-align: right;\">                    0</td><td style=\"text-align: right;\">                    0</td><td style=\"text-align: right;\">                    0</td><td style=\"text-align: right;\">                   0</td><td style=\"text-align: right;\">                  0</td><td style=\"text-align: right;\">                  0</td><td style=\"text-align: right;\">                  0</td><td style=\"text-align: right;\">               0  </td><td style=\"text-align: right;\">                0</td><td style=\"text-align: right;\">                0</td><td style=\"text-align: right;\">          0      </td><td style=\"text-align: right;\">                        0</td><td style=\"text-align: right;\">                       0</td><td style=\"text-align: right;\">                       0</td><td style=\"text-align: right;\">                       0</td><td style=\"text-align: right;\">   64      </td><td style=\"text-align: right;\">        64</td><td style=\"text-align: right;\">        64</td><td style=\"text-align: right;\">   0      </td><td style=\"text-align: right;\">  381     </td><td style=\"text-align: right;\">      381</td><td style=\"text-align: right;\">      381</td><td style=\"text-align: right;\">  0      </td><td style=\"text-align: right;\">       96       </td><td style=\"text-align: right;\">             96</td><td style=\"text-align: right;\">             96</td><td style=\"text-align: right;\">       0       </td><td style=\"text-align: right;\">             0</td><td style=\"text-align: right;\">            0</td><td style=\"text-align: right;\">            0</td><td style=\"text-align: right;\">            0</td><td style=\"text-align: right;\">                    0</td><td style=\"text-align: right;\">                   0</td><td style=\"text-align: right;\">                   0</td><td style=\"text-align: right;\">                   0</td><td style=\"text-align: right;\">                 0</td><td style=\"text-align: right;\">                0</td><td style=\"text-align: right;\">                0</td><td style=\"text-align: right;\">                0</td><td style=\"text-align: right;\">                          0</td><td style=\"text-align: right;\">                         0</td><td style=\"text-align: right;\">                         0</td><td style=\"text-align: right;\">                         0</td><td style=\"text-align: right;\">                       0</td><td style=\"text-align: right;\">                      0</td><td style=\"text-align: right;\">                      0</td><td style=\"text-align: right;\">                0      </td><td style=\"text-align: right;\">           0     </td><td style=\"text-align: right;\">               0</td><td style=\"text-align: right;\">               0</td><td style=\"text-align: right;\">         0      </td><td style=\"text-align: right;\">              0      </td><td style=\"text-align: right;\">                   0</td><td style=\"text-align: right;\">                   0</td><td style=\"text-align: right;\">             0      </td><td style=\"text-align: right;\">                       0</td><td style=\"text-align: right;\">                      0</td><td style=\"text-align: right;\">                      0</td><td style=\"text-align: right;\">                0      </td><td style=\"text-align: right;\">            0      </td><td style=\"text-align: right;\">                 0</td><td style=\"text-align: right;\">                 0</td><td style=\"text-align: right;\">           0      </td><td style=\"text-align: right;\">              0       </td><td style=\"text-align: right;\">                    0</td><td style=\"text-align: right;\">                    0</td><td style=\"text-align: right;\">             0       </td><td style=\"text-align: right;\">                         0</td><td style=\"text-align: right;\">                        0</td><td style=\"text-align: right;\">                        0</td><td style=\"text-align: right;\">                  0      </td><td style=\"text-align: right;\">                   0</td><td style=\"text-align: right;\">                  0</td><td style=\"text-align: right;\">                  0</td><td style=\"text-align: right;\">                  0</td><td style=\"text-align: right;\">         0       </td><td style=\"text-align: right;\">               0</td><td style=\"text-align: right;\">               0</td><td style=\"text-align: right;\">         0      </td><td style=\"text-align: right;\">             558     </td><td style=\"text-align: right;\">                 558</td><td style=\"text-align: right;\">                 558</td><td style=\"text-align: right;\">              0     </td><td style=\"text-align: right;\">        1       </td><td style=\"text-align: right;\">              1</td><td style=\"text-align: right;\">              1</td><td style=\"text-align: right;\">       0       </td><td style=\"text-align: right;\">              28     </td><td style=\"text-align: right;\">               1694     </td><td style=\"text-align: right;\">              20  </td></tr>\n",
       "<tr><td style=\"text-align: right;\">  38.5    </td><td style=\"text-align: right;\">        1</td><td style=\"text-align: right;\">       76</td><td style=\"text-align: right;\"> 53.033  </td><td style=\"text-align: right;\">   7      </td><td style=\"text-align: right;\">        1</td><td style=\"text-align: right;\">       13</td><td style=\"text-align: right;\">  8.48528</td><td style=\"text-align: right;\">   1.5    </td><td style=\"text-align: right;\">        1</td><td style=\"text-align: right;\">        2</td><td style=\"text-align: right;\"> 0.707107</td><td style=\"text-align: right;\">   71     </td><td style=\"text-align: right;\">        3</td><td style=\"text-align: right;\">      139</td><td style=\"text-align: right;\"> 96.1665 </td><td style=\"text-align: right;\">     0     </td><td style=\"text-align: right;\">         0</td><td style=\"text-align: right;\">         0</td><td style=\"text-align: right;\">   0      </td><td style=\"text-align: right;\">            7      </td><td style=\"text-align: right;\">                 1</td><td style=\"text-align: right;\">                13</td><td style=\"text-align: right;\">           8.48528</td><td style=\"text-align: right;\">            1       </td><td style=\"text-align: right;\">                  0</td><td style=\"text-align: right;\">                  2</td><td style=\"text-align: right;\">            1.41421</td><td style=\"text-align: right;\">            7       </td><td style=\"text-align: right;\">                  1</td><td style=\"text-align: right;\">                 13</td><td style=\"text-align: right;\">            8.48528</td><td style=\"text-align: right;\">             0       </td><td style=\"text-align: right;\">                   0</td><td style=\"text-align: right;\">                   0</td><td style=\"text-align: right;\">             0      </td><td style=\"text-align: right;\">                    0  </td><td style=\"text-align: right;\">                     0</td><td style=\"text-align: right;\">                     0</td><td style=\"text-align: right;\">              0       </td><td style=\"text-align: right;\">                    0</td><td style=\"text-align: right;\">                   0</td><td style=\"text-align: right;\">                   0</td><td style=\"text-align: right;\">                   0</td><td style=\"text-align: right;\">                     0</td><td style=\"text-align: right;\">                    0</td><td style=\"text-align: right;\">                    0</td><td style=\"text-align: right;\">                    0</td><td style=\"text-align: right;\">                  0</td><td style=\"text-align: right;\">                 0</td><td style=\"text-align: right;\">                 0</td><td style=\"text-align: right;\">                 0</td><td style=\"text-align: right;\">                         0</td><td style=\"text-align: right;\">                        0</td><td style=\"text-align: right;\">                        0</td><td style=\"text-align: right;\">                        0</td><td style=\"text-align: right;\">               4  </td><td style=\"text-align: right;\">                0</td><td style=\"text-align: right;\">                8</td><td style=\"text-align: right;\">          5.65685</td><td style=\"text-align: right;\">                0.5</td><td style=\"text-align: right;\">                 0</td><td style=\"text-align: right;\">                 1</td><td style=\"text-align: right;\">          0.707107</td><td style=\"text-align: right;\">                  0</td><td style=\"text-align: right;\">                 0</td><td style=\"text-align: right;\">                 0</td><td style=\"text-align: right;\">                 0</td><td style=\"text-align: right;\">                 4  </td><td style=\"text-align: right;\">                  0</td><td style=\"text-align: right;\">                  8</td><td style=\"text-align: right;\">            5.65685</td><td style=\"text-align: right;\">                     0</td><td style=\"text-align: right;\">                    0</td><td style=\"text-align: right;\">                    0</td><td style=\"text-align: right;\">                    0</td><td style=\"text-align: right;\">                   0</td><td style=\"text-align: right;\">                  0</td><td style=\"text-align: right;\">                  0</td><td style=\"text-align: right;\">                  0</td><td style=\"text-align: right;\">               0  </td><td style=\"text-align: right;\">                0</td><td style=\"text-align: right;\">                0</td><td style=\"text-align: right;\">          0      </td><td style=\"text-align: right;\">                        0</td><td style=\"text-align: right;\">                       0</td><td style=\"text-align: right;\">                       0</td><td style=\"text-align: right;\">                       0</td><td style=\"text-align: right;\">   22      </td><td style=\"text-align: right;\">         1</td><td style=\"text-align: right;\">        43</td><td style=\"text-align: right;\">  29.6985 </td><td style=\"text-align: right;\">  115     </td><td style=\"text-align: right;\">        9</td><td style=\"text-align: right;\">      221</td><td style=\"text-align: right;\">149.907  </td><td style=\"text-align: right;\">        0.5     </td><td style=\"text-align: right;\">              0</td><td style=\"text-align: right;\">              1</td><td style=\"text-align: right;\">       0.707107</td><td style=\"text-align: right;\">             0</td><td style=\"text-align: right;\">            0</td><td style=\"text-align: right;\">            0</td><td style=\"text-align: right;\">            0</td><td style=\"text-align: right;\">                    0</td><td style=\"text-align: right;\">                   0</td><td style=\"text-align: right;\">                   0</td><td style=\"text-align: right;\">                   0</td><td style=\"text-align: right;\">                 0</td><td style=\"text-align: right;\">                0</td><td style=\"text-align: right;\">                0</td><td style=\"text-align: right;\">                0</td><td style=\"text-align: right;\">                          0</td><td style=\"text-align: right;\">                         0</td><td style=\"text-align: right;\">                         0</td><td style=\"text-align: right;\">                         0</td><td style=\"text-align: right;\">                      27</td><td style=\"text-align: right;\">                      0</td><td style=\"text-align: right;\">                     54</td><td style=\"text-align: right;\">               38.1838 </td><td style=\"text-align: right;\">          47     </td><td style=\"text-align: right;\">               0</td><td style=\"text-align: right;\">              94</td><td style=\"text-align: right;\">        66.468  </td><td style=\"text-align: right;\">              9.5    </td><td style=\"text-align: right;\">                   2</td><td style=\"text-align: right;\">                  17</td><td style=\"text-align: right;\">            10.6066 </td><td style=\"text-align: right;\">                       1</td><td style=\"text-align: right;\">                      0</td><td style=\"text-align: right;\">                      2</td><td style=\"text-align: right;\">                1.41421</td><td style=\"text-align: right;\">            9.5    </td><td style=\"text-align: right;\">                 2</td><td style=\"text-align: right;\">                17</td><td style=\"text-align: right;\">          10.6066 </td><td style=\"text-align: right;\">              0       </td><td style=\"text-align: right;\">                    0</td><td style=\"text-align: right;\">                    0</td><td style=\"text-align: right;\">             0       </td><td style=\"text-align: right;\">                         2</td><td style=\"text-align: right;\">                        0</td><td style=\"text-align: right;\">                        4</td><td style=\"text-align: right;\">                  2.82843</td><td style=\"text-align: right;\">                   0</td><td style=\"text-align: right;\">                  0</td><td style=\"text-align: right;\">                  0</td><td style=\"text-align: right;\">                  0</td><td style=\"text-align: right;\">         3       </td><td style=\"text-align: right;\">               0</td><td style=\"text-align: right;\">               6</td><td style=\"text-align: right;\">         4.24264</td><td style=\"text-align: right;\">              68.5   </td><td style=\"text-align: right;\">                  23</td><td style=\"text-align: right;\">                 114</td><td style=\"text-align: right;\">             64.3467</td><td style=\"text-align: right;\">        1       </td><td style=\"text-align: right;\">              1</td><td style=\"text-align: right;\">              1</td><td style=\"text-align: right;\">       0       </td><td style=\"text-align: right;\">              97.5   </td><td style=\"text-align: right;\">                127.5   </td><td style=\"text-align: right;\">              35.6</td></tr>\n",
       "</tbody>\n",
       "</table>"
      ]
     },
     "metadata": {},
     "output_type": "display_data"
    },
    {
     "data": {
      "text/plain": []
     },
     "execution_count": 132,
     "metadata": {},
     "output_type": "execute_result"
    }
   ],
   "source": [
    "train"
   ]
  },
  {
   "cell_type": "code",
   "execution_count": 133,
   "metadata": {},
   "outputs": [
    {
     "data": {
      "text/plain": [
       "{'whiskers': [<matplotlib.lines.Line2D at 0x1983eea7358>,\n",
       "  <matplotlib.lines.Line2D at 0x1983eea7710>],\n",
       " 'caps': [<matplotlib.lines.Line2D at 0x1983eea7a90>,\n",
       "  <matplotlib.lines.Line2D at 0x1983eea7e10>],\n",
       " 'boxes': [<matplotlib.lines.Line2D at 0x1983eea7208>],\n",
       " 'medians': [<matplotlib.lines.Line2D at 0x1983eecd1d0>],\n",
       " 'fliers': [<matplotlib.lines.Line2D at 0x1983eecd550>],\n",
       " 'means': []}"
      ]
     },
     "execution_count": 133,
     "metadata": {},
     "output_type": "execute_result"
    },
    {
     "data": {
      "image/png": "[encoded data removed]",
      "text/plain": [
       "<Figure size 432x288 with 1 Axes>"
      ]
     },
     "metadata": {
      "needs_background": "light"
     },
     "output_type": "display_data"
    }
   ],
   "source": [
    "pd_train = train.as_data_frame()\n",
    "plt.boxplot(pd_train['time_taken_final'])"
   ]
  },
  {
   "cell_type": "code",
   "execution_count": 147,
   "metadata": {},
   "outputs": [
    {
     "data": {
      "text/plain": [
       "169"
      ]
     },
     "execution_count": 147,
     "metadata": {},
     "output_type": "execute_result"
    }
   ],
   "source": [
    "len(main_df['actual_num_of_classes_touched_max'])"
   ]
  },
  {
   "cell_type": "code",
   "execution_count": 149,
   "metadata": {},
   "outputs": [
    {
     "data": {
      "text/plain": [
       "166"
      ]
     },
     "execution_count": 149,
     "metadata": {},
     "output_type": "execute_result"
    }
   ],
   "source": [
    "len(main_df[main_df['actual_num_of_classes_touched_max'] < 1000])"
   ]
  },
  {
   "cell_type": "code",
   "execution_count": 150,
   "metadata": {},
   "outputs": [
    {
     "data": {
      "text/plain": [
       "155"
      ]
     },
     "execution_count": 150,
     "metadata": {},
     "output_type": "execute_result"
    }
   ],
   "source": [
    "len(main_df[main_df['actual_num_of_classes_touched_max'] < 100])"
   ]
  },
  {
   "cell_type": "code",
   "execution_count": 151,
   "metadata": {},
   "outputs": [
    {
     "data": {
      "text/plain": [
       "143"
      ]
     },
     "execution_count": 151,
     "metadata": {},
     "output_type": "execute_result"
    }
   ],
   "source": [
    "len(main_df[main_df['actual_num_of_classes_touched_max'] < 50])"
   ]
  },
  {
   "cell_type": "code",
   "execution_count": 152,
   "metadata": {},
   "outputs": [
    {
     "data": {
      "text/plain": [
       "126"
      ]
     },
     "execution_count": 152,
     "metadata": {},
     "output_type": "execute_result"
    }
   ],
   "source": [
    "len(main_df[main_df['actual_num_of_classes_touched_max'] < 20])"
   ]
  },
  {
   "cell_type": "code",
   "execution_count": 153,
   "metadata": {},
   "outputs": [
    {
     "data": {
      "text/plain": [
       "95"
      ]
     },
     "execution_count": 153,
     "metadata": {},
     "output_type": "execute_result"
    }
   ],
   "source": [
    "len(main_df[main_df['actual_num_of_classes_touched_max'] < 10])"
   ]
  },
  {
   "cell_type": "code",
   "execution_count": 142,
   "metadata": {},
   "outputs": [
    {
     "data": {
      "text/plain": [
       "{'whiskers': [<matplotlib.lines.Line2D at 0x19840230198>,\n",
       "  <matplotlib.lines.Line2D at 0x19840230550>],\n",
       " 'caps': [<matplotlib.lines.Line2D at 0x198402308d0>,\n",
       "  <matplotlib.lines.Line2D at 0x19840230c50>],\n",
       " 'boxes': [<matplotlib.lines.Line2D at 0x19840230048>],\n",
       " 'medians': [<matplotlib.lines.Line2D at 0x19840230f98>],\n",
       " 'fliers': [<matplotlib.lines.Line2D at 0x19840237320>],\n",
       " 'means': []}"
      ]
     },
     "execution_count": 142,
     "metadata": {},
     "output_type": "execute_result"
    },
    {
     "data": {
      "image/png": "[encoded data removed]",
      "text/plain": [
       "<Figure size 432x288 with 1 Axes>"
      ]
     },
     "metadata": {
      "needs_background": "light"
     },
     "output_type": "display_data"
    }
   ],
   "source": [
    "plt.boxplot(main_df['actual_num_of_classes_touched_max'])"
   ]
  },
  {
   "cell_type": "code",
   "execution_count": 144,
   "metadata": {},
   "outputs": [],
   "source": [
    "main_df_num_of_classes_without_outliers = main_df[main_df['actual_num_of_classes_touched_max'] < 1000]"
   ]
  },
  {
   "cell_type": "code",
   "execution_count": 145,
   "metadata": {},
   "outputs": [
    {
     "data": {
      "text/plain": [
       "{'whiskers': [<matplotlib.lines.Line2D at 0x1983bb6ee48>,\n",
       "  <matplotlib.lines.Line2D at 0x1983bb6e588>],\n",
       " 'caps': [<matplotlib.lines.Line2D at 0x19838689da0>,\n",
       "  <matplotlib.lines.Line2D at 0x19838689b38>],\n",
       " 'boxes': [<matplotlib.lines.Line2D at 0x1983bb6e3c8>],\n",
       " 'medians': [<matplotlib.lines.Line2D at 0x19838689358>],\n",
       " 'fliers': [<matplotlib.lines.Line2D at 0x19838689668>],\n",
       " 'means': []}"
      ]
     },
     "execution_count": 145,
     "metadata": {},
     "output_type": "execute_result"
    },
    {
     "data": {
      "image/png": "[encoded data removed]",
      "text/plain": [
       "<Figure size 432x288 with 1 Axes>"
      ]
     },
     "metadata": {
      "needs_background": "light"
     },
     "output_type": "display_data"
    }
   ],
   "source": [
    "plt.boxplot(main_df_num_of_classes_without_outliers['actual_num_of_classes_touched_max'])"
   ]
  },
  {
   "cell_type": "code",
   "execution_count": 146,
   "metadata": {},
   "outputs": [
    {
     "data": {
      "text/plain": [
       "{'whiskers': [<matplotlib.lines.Line2D at 0x1983854ac18>,\n",
       "  <matplotlib.lines.Line2D at 0x1983852cfd0>],\n",
       " 'caps': [<matplotlib.lines.Line2D at 0x1983852cf28>,\n",
       "  <matplotlib.lines.Line2D at 0x1983852c0f0>],\n",
       " 'boxes': [<matplotlib.lines.Line2D at 0x19838541e80>],\n",
       " 'medians': [<matplotlib.lines.Line2D at 0x1983852ccc0>],\n",
       " 'fliers': [<matplotlib.lines.Line2D at 0x198385cb358>],\n",
       " 'means': []}"
      ]
     },
     "execution_count": 146,
     "metadata": {},
     "output_type": "execute_result"
    },
    {
     "data": {
      "image/png": "[encoded data removed]",
      "text/plain": [
       "<Figure size 432x288 with 1 Axes>"
      ]
     },
     "metadata": {
      "needs_background": "light"
     },
     "output_type": "display_data"
    }
   ],
   "source": [
    "main_df_num_of_classes_without_outliers = main_df[main_df['actual_num_of_classes_touched_max'] < 100]\n",
    "plt.boxplot(main_df_num_of_classes_without_outliers['actual_num_of_classes_touched_max'])"
   ]
  },
  {
   "cell_type": "code",
   "execution_count": 134,
   "metadata": {},
   "outputs": [],
   "source": [
    "pd_test = test.as_data_frame()\n",
    "pd_preds['actual_time_taken'] = pd_test['time_taken_final']"
   ]
  },
  {
   "cell_type": "code",
   "execution_count": 135,
   "metadata": {
    "scrolled": true
   },
   "outputs": [
    {
     "data": {
      "text/html": [
       "<div>\n",
       "<style scoped>\n",
       "    .dataframe tbody tr th:only-of-type {\n",
       "        vertical-align: middle;\n",
       "    }\n",
       "\n",
       "    .dataframe tbody tr th {\n",
       "        vertical-align: top;\n",
       "    }\n",
       "\n",
       "    .dataframe thead th {\n",
       "        text-align: right;\n",
       "    }\n",
       "</style>\n",
       "<table border=\"1\" class=\"dataframe\">\n",
       "  <thead>\n",
       "    <tr style=\"text-align: right;\">\n",
       "      <th></th>\n",
       "      <th>predict</th>\n",
       "      <th>actual_time_taken</th>\n",
       "    </tr>\n",
       "  </thead>\n",
       "  <tbody>\n",
       "    <tr>\n",
       "      <th>0</th>\n",
       "      <td>16.584359</td>\n",
       "      <td>7.0</td>\n",
       "    </tr>\n",
       "    <tr>\n",
       "      <th>1</th>\n",
       "      <td>20.466325</td>\n",
       "      <td>8.0</td>\n",
       "    </tr>\n",
       "    <tr>\n",
       "      <th>2</th>\n",
       "      <td>14.534497</td>\n",
       "      <td>31.0</td>\n",
       "    </tr>\n",
       "    <tr>\n",
       "      <th>3</th>\n",
       "      <td>11.839860</td>\n",
       "      <td>25.6</td>\n",
       "    </tr>\n",
       "    <tr>\n",
       "      <th>4</th>\n",
       "      <td>13.921729</td>\n",
       "      <td>17.6</td>\n",
       "    </tr>\n",
       "    <tr>\n",
       "      <th>5</th>\n",
       "      <td>15.236683</td>\n",
       "      <td>5.0</td>\n",
       "    </tr>\n",
       "    <tr>\n",
       "      <th>6</th>\n",
       "      <td>14.697919</td>\n",
       "      <td>35.0</td>\n",
       "    </tr>\n",
       "    <tr>\n",
       "      <th>7</th>\n",
       "      <td>15.020462</td>\n",
       "      <td>2.8</td>\n",
       "    </tr>\n",
       "    <tr>\n",
       "      <th>8</th>\n",
       "      <td>11.868525</td>\n",
       "      <td>36.6</td>\n",
       "    </tr>\n",
       "    <tr>\n",
       "      <th>9</th>\n",
       "      <td>15.009647</td>\n",
       "      <td>3.0</td>\n",
       "    </tr>\n",
       "    <tr>\n",
       "      <th>10</th>\n",
       "      <td>14.241284</td>\n",
       "      <td>37.0</td>\n",
       "    </tr>\n",
       "    <tr>\n",
       "      <th>11</th>\n",
       "      <td>12.752347</td>\n",
       "      <td>7.4</td>\n",
       "    </tr>\n",
       "    <tr>\n",
       "      <th>12</th>\n",
       "      <td>11.841764</td>\n",
       "      <td>7.0</td>\n",
       "    </tr>\n",
       "    <tr>\n",
       "      <th>13</th>\n",
       "      <td>15.976524</td>\n",
       "      <td>39.6</td>\n",
       "    </tr>\n",
       "    <tr>\n",
       "      <th>14</th>\n",
       "      <td>14.427684</td>\n",
       "      <td>3.6</td>\n",
       "    </tr>\n",
       "    <tr>\n",
       "      <th>15</th>\n",
       "      <td>16.978731</td>\n",
       "      <td>13.0</td>\n",
       "    </tr>\n",
       "    <tr>\n",
       "      <th>16</th>\n",
       "      <td>14.978183</td>\n",
       "      <td>14.6</td>\n",
       "    </tr>\n",
       "    <tr>\n",
       "      <th>17</th>\n",
       "      <td>12.043219</td>\n",
       "      <td>10.4</td>\n",
       "    </tr>\n",
       "    <tr>\n",
       "      <th>18</th>\n",
       "      <td>14.396086</td>\n",
       "      <td>3.0</td>\n",
       "    </tr>\n",
       "    <tr>\n",
       "      <th>19</th>\n",
       "      <td>13.492521</td>\n",
       "      <td>43.0</td>\n",
       "    </tr>\n",
       "    <tr>\n",
       "      <th>20</th>\n",
       "      <td>16.653424</td>\n",
       "      <td>4.0</td>\n",
       "    </tr>\n",
       "    <tr>\n",
       "      <th>21</th>\n",
       "      <td>18.129427</td>\n",
       "      <td>4.1</td>\n",
       "    </tr>\n",
       "    <tr>\n",
       "      <th>22</th>\n",
       "      <td>20.672428</td>\n",
       "      <td>6.0</td>\n",
       "    </tr>\n",
       "    <tr>\n",
       "      <th>23</th>\n",
       "      <td>14.675300</td>\n",
       "      <td>9.0</td>\n",
       "    </tr>\n",
       "    <tr>\n",
       "      <th>24</th>\n",
       "      <td>13.987410</td>\n",
       "      <td>26.0</td>\n",
       "    </tr>\n",
       "    <tr>\n",
       "      <th>25</th>\n",
       "      <td>14.540254</td>\n",
       "      <td>33.0</td>\n",
       "    </tr>\n",
       "    <tr>\n",
       "      <th>26</th>\n",
       "      <td>13.823358</td>\n",
       "      <td>41.0</td>\n",
       "    </tr>\n",
       "    <tr>\n",
       "      <th>27</th>\n",
       "      <td>12.651542</td>\n",
       "      <td>9.6</td>\n",
       "    </tr>\n",
       "    <tr>\n",
       "      <th>28</th>\n",
       "      <td>13.296382</td>\n",
       "      <td>7.0</td>\n",
       "    </tr>\n",
       "    <tr>\n",
       "      <th>29</th>\n",
       "      <td>12.349282</td>\n",
       "      <td>9.0</td>\n",
       "    </tr>\n",
       "    <tr>\n",
       "      <th>30</th>\n",
       "      <td>13.812352</td>\n",
       "      <td>3.0</td>\n",
       "    </tr>\n",
       "    <tr>\n",
       "      <th>31</th>\n",
       "      <td>12.530216</td>\n",
       "      <td>3.0</td>\n",
       "    </tr>\n",
       "    <tr>\n",
       "      <th>32</th>\n",
       "      <td>14.057606</td>\n",
       "      <td>5.0</td>\n",
       "    </tr>\n",
       "    <tr>\n",
       "      <th>33</th>\n",
       "      <td>12.135410</td>\n",
       "      <td>8.6</td>\n",
       "    </tr>\n",
       "    <tr>\n",
       "      <th>34</th>\n",
       "      <td>14.885811</td>\n",
       "      <td>15.0</td>\n",
       "    </tr>\n",
       "    <tr>\n",
       "      <th>35</th>\n",
       "      <td>12.315859</td>\n",
       "      <td>15.0</td>\n",
       "    </tr>\n",
       "    <tr>\n",
       "      <th>36</th>\n",
       "      <td>17.442457</td>\n",
       "      <td>9.0</td>\n",
       "    </tr>\n",
       "    <tr>\n",
       "      <th>37</th>\n",
       "      <td>18.670180</td>\n",
       "      <td>3.0</td>\n",
       "    </tr>\n",
       "    <tr>\n",
       "      <th>38</th>\n",
       "      <td>15.796652</td>\n",
       "      <td>23.0</td>\n",
       "    </tr>\n",
       "    <tr>\n",
       "      <th>39</th>\n",
       "      <td>11.865943</td>\n",
       "      <td>5.0</td>\n",
       "    </tr>\n",
       "    <tr>\n",
       "      <th>40</th>\n",
       "      <td>12.442793</td>\n",
       "      <td>7.0</td>\n",
       "    </tr>\n",
       "    <tr>\n",
       "      <th>41</th>\n",
       "      <td>12.035568</td>\n",
       "      <td>7.0</td>\n",
       "    </tr>\n",
       "    <tr>\n",
       "      <th>42</th>\n",
       "      <td>17.589703</td>\n",
       "      <td>5.0</td>\n",
       "    </tr>\n",
       "    <tr>\n",
       "      <th>43</th>\n",
       "      <td>14.129609</td>\n",
       "      <td>11.0</td>\n",
       "    </tr>\n",
       "    <tr>\n",
       "      <th>44</th>\n",
       "      <td>15.430013</td>\n",
       "      <td>3.0</td>\n",
       "    </tr>\n",
       "    <tr>\n",
       "      <th>45</th>\n",
       "      <td>17.239134</td>\n",
       "      <td>10.0</td>\n",
       "    </tr>\n",
       "    <tr>\n",
       "      <th>46</th>\n",
       "      <td>21.172120</td>\n",
       "      <td>8.0</td>\n",
       "    </tr>\n",
       "    <tr>\n",
       "      <th>47</th>\n",
       "      <td>15.605937</td>\n",
       "      <td>13.0</td>\n",
       "    </tr>\n",
       "    <tr>\n",
       "      <th>48</th>\n",
       "      <td>18.215266</td>\n",
       "      <td>7.4</td>\n",
       "    </tr>\n",
       "    <tr>\n",
       "      <th>49</th>\n",
       "      <td>14.223704</td>\n",
       "      <td>4.0</td>\n",
       "    </tr>\n",
       "    <tr>\n",
       "      <th>50</th>\n",
       "      <td>11.861107</td>\n",
       "      <td>3.0</td>\n",
       "    </tr>\n",
       "    <tr>\n",
       "      <th>51</th>\n",
       "      <td>15.910997</td>\n",
       "      <td>6.0</td>\n",
       "    </tr>\n",
       "  </tbody>\n",
       "</table>\n",
       "</div>"
      ],
      "text/plain": [
       "      predict  actual_time_taken\n",
       "0   16.584359                7.0\n",
       "1   20.466325                8.0\n",
       "2   14.534497               31.0\n",
       "3   11.839860               25.6\n",
       "4   13.921729               17.6\n",
       "5   15.236683                5.0\n",
       "6   14.697919               35.0\n",
       "7   15.020462                2.8\n",
       "8   11.868525               36.6\n",
       "9   15.009647                3.0\n",
       "10  14.241284               37.0\n",
       "11  12.752347                7.4\n",
       "12  11.841764                7.0\n",
       "13  15.976524               39.6\n",
       "14  14.427684                3.6\n",
       "15  16.978731               13.0\n",
       "16  14.978183               14.6\n",
       "17  12.043219               10.4\n",
       "18  14.396086                3.0\n",
       "19  13.492521               43.0\n",
       "20  16.653424                4.0\n",
       "21  18.129427                4.1\n",
       "22  20.672428                6.0\n",
       "23  14.675300                9.0\n",
       "24  13.987410               26.0\n",
       "25  14.540254               33.0\n",
       "26  13.823358               41.0\n",
       "27  12.651542                9.6\n",
       "28  13.296382                7.0\n",
       "29  12.349282                9.0\n",
       "30  13.812352                3.0\n",
       "31  12.530216                3.0\n",
       "32  14.057606                5.0\n",
       "33  12.135410                8.6\n",
       "34  14.885811               15.0\n",
       "35  12.315859               15.0\n",
       "36  17.442457                9.0\n",
       "37  18.670180                3.0\n",
       "38  15.796652               23.0\n",
       "39  11.865943                5.0\n",
       "40  12.442793                7.0\n",
       "41  12.035568                7.0\n",
       "42  17.589703                5.0\n",
       "43  14.129609               11.0\n",
       "44  15.430013                3.0\n",
       "45  17.239134               10.0\n",
       "46  21.172120                8.0\n",
       "47  15.605937               13.0\n",
       "48  18.215266                7.4\n",
       "49  14.223704                4.0\n",
       "50  11.861107                3.0\n",
       "51  15.910997                6.0"
      ]
     },
     "execution_count": 135,
     "metadata": {},
     "output_type": "execute_result"
    }
   ],
   "source": [
    "pd_preds"
   ]
  },
  {
   "cell_type": "code",
   "execution_count": 136,
   "metadata": {},
   "outputs": [
    {
     "data": {
      "text/plain": [
       "{'whiskers': [<matplotlib.lines.Line2D at 0x1983feee128>,\n",
       "  <matplotlib.lines.Line2D at 0x1983feee4e0>],\n",
       " 'caps': [<matplotlib.lines.Line2D at 0x1983feee860>,\n",
       "  <matplotlib.lines.Line2D at 0x1983feeebe0>],\n",
       " 'boxes': [<matplotlib.lines.Line2D at 0x1983fedff98>],\n",
       " 'medians': [<matplotlib.lines.Line2D at 0x1983feeef28>],\n",
       " 'fliers': [<matplotlib.lines.Line2D at 0x1983fef72e8>],\n",
       " 'means': []}"
      ]
     },
     "execution_count": 136,
     "metadata": {},
     "output_type": "execute_result"
    },
    {
     "data": {
      "image/png": "[encoded data removed]",
      "text/plain": [
       "<Figure size 432x288 with 1 Axes>"
      ]
     },
     "metadata": {
      "needs_background": "light"
     },
     "output_type": "display_data"
    }
   ],
   "source": [
    "plt.boxplot(pd_preds['predict'])"
   ]
  },
  {
   "cell_type": "code",
   "execution_count": 137,
   "metadata": {},
   "outputs": [
    {
     "data": {
      "text/plain": [
       "{'whiskers': [<matplotlib.lines.Line2D at 0x1983ff477f0>,\n",
       "  <matplotlib.lines.Line2D at 0x1983ff47ba8>],\n",
       " 'caps': [<matplotlib.lines.Line2D at 0x1983ff47f28>,\n",
       "  <matplotlib.lines.Line2D at 0x1983ff522e8>],\n",
       " 'boxes': [<matplotlib.lines.Line2D at 0x1983ff476a0>],\n",
       " 'medians': [<matplotlib.lines.Line2D at 0x1983ff52668>],\n",
       " 'fliers': [<matplotlib.lines.Line2D at 0x1983ff529e8>],\n",
       " 'means': []}"
      ]
     },
     "execution_count": 137,
     "metadata": {},
     "output_type": "execute_result"
    },
    {
     "data": {
      "image/png": "[encoded data removed]",
      "text/plain": [
       "<Figure size 432x288 with 1 Axes>"
      ]
     },
     "metadata": {
      "needs_background": "light"
     },
     "output_type": "display_data"
    }
   ],
   "source": [
    "plt.boxplot(pd_preds['actual_time_taken'])"
   ]
  },
  {
   "cell_type": "code",
   "execution_count": 138,
   "metadata": {},
   "outputs": [
    {
     "data": {
      "image/png": "[encoded data removed]",
      "text/plain": [
       "<Figure size 432x288 with 1 Axes>"
      ]
     },
     "metadata": {
      "needs_background": "light"
     },
     "output_type": "display_data"
    }
   ],
   "source": [
    "plotGraph(pd_preds['predict'], pd_preds['actual_time_taken'],' test')"
   ]
  },
  {
   "cell_type": "code",
   "execution_count": 139,
   "metadata": {},
   "outputs": [],
   "source": [
    "# save the model\n",
    "model_path = h2o.save_model(model=model, path=\"models/EffortEstimationModelv2\", force=True)"
   ]
  },
  {
   "cell_type": "markdown",
   "metadata": {},
   "source": [
    "Documentation at the following\n",
    "\n",
    "https://docs.h2o.ai/h2o/latest-stable/h2o-py/docs/_modules/h2o/explanation/_explain.html"
   ]
  },
  {
   "cell_type": "code",
   "execution_count": 140,
   "metadata": {
    "scrolled": false
   },
   "outputs": [
    {
     "data": {
      "text/html": [
       "<h1>Variable Importance</h1>"
      ],
      "text/markdown": [
       "\n",
       "\n",
       "# Variable Importance"
      ],
      "text/plain": [
       "\n",
       "\n",
       "# Variable Importance"
      ]
     },
     "metadata": {},
     "output_type": "display_data"
    },
    {
     "data": {
      "text/html": [
       "<blockquote>The variable importance plot shows the relative importance of the most important variables in the model.</blockquote>"
      ],
      "text/markdown": [
       "\n",
       "> The variable importance plot shows the relative importance of the most important variables in the model."
      ],
      "text/plain": [
       "\n",
       "> The variable importance plot shows the relative importance of the most important variables in the model."
      ]
     },
     "metadata": {},
     "output_type": "display_data"
    },
    {
     "data": {
      "image/png": "[encoded data removed]",
      "text/plain": [
       "<Figure size 1152x648 with 1 Axes>"
      ]
     },
     "metadata": {
      "needs_background": "light"
     },
     "output_type": "display_data"
    },
    {
     "name": "stdout",
     "output_type": "stream",
     "text": [
      "\n",
      "\n"
     ]
    },
    {
     "data": {
      "text/html": [
       "<h1>SHAP Summary</h1>"
      ],
      "text/markdown": [
       "\n",
       "\n",
       "# SHAP Summary"
      ],
      "text/plain": [
       "\n",
       "\n",
       "# SHAP Summary"
      ]
     },
     "metadata": {},
     "output_type": "display_data"
    },
    {
     "data": {
      "text/html": [
       "<blockquote>SHAP summary plot shows the contribution of the features for each instance (row of data). The sum of the feature contributions and the bias term is equal to the raw prediction of the model, i.e., prediction before applying inverse link function.</blockquote>"
      ],
      "text/markdown": [
       "\n",
       "> SHAP summary plot shows the contribution of the features for each instance (row of data). The sum of the feature contributions and the bias term is equal to the raw prediction of the model, i.e., prediction before applying inverse link function."
      ],
      "text/plain": [
       "\n",
       "> SHAP summary plot shows the contribution of the features for each instance (row of data). The sum of the feature contributions and the bias term is equal to the raw prediction of the model, i.e., prediction before applying inverse link function."
      ]
     },
     "metadata": {},
     "output_type": "display_data"
    },
    {
     "data": {
      "image/png": "[encoded data removed]",
      "text/plain": [
       "<Figure size 1152x648 with 2 Axes>"
      ]
     },
     "metadata": {
      "needs_background": "light"
     },
     "output_type": "display_data"
    },
    {
     "name": "stdout",
     "output_type": "stream",
     "text": [
      "\n",
      "\n"
     ]
    },
    {
     "data": {
      "text/html": [
       "<h1>Variable Importance</h1>"
      ],
      "text/markdown": [
       "\n",
       "\n",
       "# Variable Importance"
      ],
      "text/plain": [
       "\n",
       "\n",
       "# Variable Importance"
      ]
     },
     "metadata": {},
     "output_type": "display_data"
    },
    {
     "data": {
      "text/html": [
       "<blockquote>The variable importance plot shows the relative importance of the most important variables in the model.</blockquote>"
      ],
      "text/markdown": [
       "\n",
       "> The variable importance plot shows the relative importance of the most important variables in the model."
      ],
      "text/plain": [
       "\n",
       "> The variable importance plot shows the relative importance of the most important variables in the model."
      ]
     },
     "metadata": {},
     "output_type": "display_data"
    },
    {
     "data": {
      "image/png": "[encoded data removed]",
      "text/plain": [
       "<Figure size 1152x648 with 1 Axes>"
      ]
     },
     "metadata": {},
     "output_type": "display_data"
    },
    {
     "data": {
      "text/html": [
       "<h1>SHAP Summary</h1>"
      ],
      "text/markdown": [
       "\n",
       "\n",
       "# SHAP Summary"
      ],
      "text/plain": [
       "\n",
       "\n",
       "# SHAP Summary"
      ]
     },
     "metadata": {},
     "output_type": "display_data"
    },
    {
     "data": {
      "text/html": [
       "<blockquote>SHAP summary plot shows the contribution of the features for each instance (row of data). The sum of the feature contributions and the bias term is equal to the raw prediction of the model, i.e., prediction before applying inverse link function.</blockquote>"
      ],
      "text/markdown": [
       "\n",
       "> SHAP summary plot shows the contribution of the features for each instance (row of data). The sum of the feature contributions and the bias term is equal to the raw prediction of the model, i.e., prediction before applying inverse link function."
      ],
      "text/plain": [
       "\n",
       "> SHAP summary plot shows the contribution of the features for each instance (row of data). The sum of the feature contributions and the bias term is equal to the raw prediction of the model, i.e., prediction before applying inverse link function."
      ]
     },
     "metadata": {},
     "output_type": "display_data"
    },
    {
     "data": {
      "image/png": "[encoded data removed]",
      "text/plain": [
       "<Figure size 1152x648 with 2 Axes>"
      ]
     },
     "metadata": {},
     "output_type": "display_data"
    }
   ],
   "source": [
    "aml.explain(test, include_explanations=[\"varimp\",'shap_summary'])"
   ]
  },
  {
   "cell_type": "code",
   "execution_count": null,
   "metadata": {},
   "outputs": [],
   "source": []
  },
  {
   "cell_type": "code",
   "execution_count": 65,
   "metadata": {
    "scrolled": false
   },
   "outputs": [],
   "source": [
    "#aml.explain_row(test, row_index=0)"
   ]
  },
  {
   "cell_type": "code",
   "execution_count": 66,
   "metadata": {},
   "outputs": [],
   "source": [
    "#h2o.shutdown()"
   ]
  },
  {
   "cell_type": "code",
   "execution_count": null,
   "metadata": {},
   "outputs": [],
   "source": []
  },
  {
   "cell_type": "code",
   "execution_count": null,
   "metadata": {},
   "outputs": [],
   "source": []
  }
 ],
 "metadata": {
  "kernelspec": {
   "display_name": "Python 3",
   "language": "python",
   "name": "python3"
  },
  "language_info": {
   "codemirror_mode": {
    "name": "ipython",
    "version": 3
   },
   "file_extension": ".py",
   "mimetype": "text/x-python",
   "name": "python",
   "nbconvert_exporter": "python",
   "pygments_lexer": "ipython3",
   "version": "3.7.3"
  }
 },
 "nbformat": 4,
 "nbformat_minor": 2
}
