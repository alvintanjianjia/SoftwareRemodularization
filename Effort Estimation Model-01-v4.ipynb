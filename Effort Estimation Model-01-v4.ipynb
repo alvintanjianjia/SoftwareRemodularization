{
 "cells": [
  {
   "cell_type": "code",
   "execution_count": 424,
   "metadata": {},
   "outputs": [],
   "source": [
    "import json\n",
    "import pandas as pd\n",
    "import numpy as np\n",
    "import networkx as nx\n",
    "import jellyfish\n",
    "import os\n",
    "import shutil\n",
    "import subprocess\n",
    "import requests\n",
    "from github import Github\n",
    "from git import Repo\n",
    "from scipy.cluster.hierarchy import dendrogram, linkage\n",
    "from matplotlib import pyplot as plt\n",
    "from sklearn.feature_extraction.text import TfidfVectorizer\n",
    "from sklearn.cluster import KMeans\n",
    "from sklearn.metrics import adjusted_rand_score\n",
    "from sklearn import preprocessing\n",
    "from sklearn.cluster import AgglomerativeClustering\n",
    "from zipfile import ZipFile\n",
    "from filecmp import dircmp\n",
    "import configparser\n",
    "import h2o"
   ]
  },
  {
   "cell_type": "markdown",
   "metadata": {},
   "source": [
    "## Result Gathering"
   ]
  },
  {
   "cell_type": "code",
   "execution_count": 438,
   "metadata": {},
   "outputs": [
    {
     "name": "stdout",
     "output_type": "stream",
     "text": [
      "Alluxio.csv\n",
      "Assertj-core.csv\n",
      "Atmosphere.csv\n",
      "AxonFramework.csv\n",
      "Beam.csv\n",
      "Byte-buddy.csv\n",
      "Camel.csv\n",
      "Cxf.csv\n",
      "Dbeaver.csv\n",
      "Hadoop.csv\n",
      "Okhttp.csv\n",
      "Redisson.csv\n"
     ]
    }
   ],
   "source": [
    "main_df = None\n",
    "directory = \"Effort_Estimation_Results_v5/\"\n",
    "for filename in os.listdir(directory):\n",
    "    print(filename)\n",
    "    if main_df is None:\n",
    "        main_df = pd.read_csv(os.path.join(directory, filename))\n",
    "        main_df['project_name'] = filename.replace('.csv', '')\n",
    "    else:\n",
    "        temp_df = pd.read_csv(os.path.join(directory, filename))\n",
    "        temp_df['project_name'] = filename.replace('.csv', '')\n",
    "        frames = [main_df, temp_df]\n",
    "        main_df = pd.concat(frames)"
   ]
  },
  {
   "cell_type": "code",
   "execution_count": 439,
   "metadata": {},
   "outputs": [
    {
     "data": {
      "text/html": [
       "<div>\n",
       "<style scoped>\n",
       "    .dataframe tbody tr th:only-of-type {\n",
       "        vertical-align: middle;\n",
       "    }\n",
       "\n",
       "    .dataframe tbody tr th {\n",
       "        vertical-align: top;\n",
       "    }\n",
       "\n",
       "    .dataframe thead th {\n",
       "        text-align: right;\n",
       "    }\n",
       "</style>\n",
       "<table border=\"1\" class=\"dataframe\">\n",
       "  <thead>\n",
       "    <tr style=\"text-align: right;\">\n",
       "      <th></th>\n",
       "      <th>kmean_label</th>\n",
       "      <th>time_taken_mean</th>\n",
       "      <th>time_taken_min</th>\n",
       "      <th>time_taken_max</th>\n",
       "      <th>time_taken_q10</th>\n",
       "      <th>time_taken_q20</th>\n",
       "      <th>time_taken_q25</th>\n",
       "      <th>time_taken_q30</th>\n",
       "      <th>time_taken_q40</th>\n",
       "      <th>time_taken_q50</th>\n",
       "      <th>...</th>\n",
       "      <th>num_line_affected_min</th>\n",
       "      <th>num_line_affected_max</th>\n",
       "      <th>num_line_affected_std</th>\n",
       "      <th>actual_num_of_classes_touched_mean</th>\n",
       "      <th>actual_num_of_classes_touched_min</th>\n",
       "      <th>actual_num_of_classes_touched_max</th>\n",
       "      <th>actual_num_of_classes_touched_std</th>\n",
       "      <th>commit_line_changed</th>\n",
       "      <th>refactoring_perc</th>\n",
       "      <th>refactoring_perc_time_taken</th>\n",
       "    </tr>\n",
       "  </thead>\n",
       "  <tbody>\n",
       "    <tr>\n",
       "      <th>0</th>\n",
       "      <td>3</td>\n",
       "      <td>19.225678</td>\n",
       "      <td>1.0</td>\n",
       "      <td>167.0</td>\n",
       "      <td>1.0</td>\n",
       "      <td>2.0</td>\n",
       "      <td>2.0</td>\n",
       "      <td>3.0</td>\n",
       "      <td>4.0</td>\n",
       "      <td>7.0</td>\n",
       "      <td>...</td>\n",
       "      <td>24</td>\n",
       "      <td>1245</td>\n",
       "      <td>682.248</td>\n",
       "      <td>35.0</td>\n",
       "      <td>1</td>\n",
       "      <td>54</td>\n",
       "      <td>29.512709</td>\n",
       "      <td>2162</td>\n",
       "      <td>0.011101</td>\n",
       "      <td>1.0</td>\n",
       "    </tr>\n",
       "    <tr>\n",
       "      <th>1</th>\n",
       "      <td>3</td>\n",
       "      <td>19.225678</td>\n",
       "      <td>1.0</td>\n",
       "      <td>167.0</td>\n",
       "      <td>1.0</td>\n",
       "      <td>2.0</td>\n",
       "      <td>2.0</td>\n",
       "      <td>3.0</td>\n",
       "      <td>4.0</td>\n",
       "      <td>7.0</td>\n",
       "      <td>...</td>\n",
       "      <td>242</td>\n",
       "      <td>242</td>\n",
       "      <td>0.000</td>\n",
       "      <td>4.0</td>\n",
       "      <td>4</td>\n",
       "      <td>4</td>\n",
       "      <td>0.000000</td>\n",
       "      <td>142</td>\n",
       "      <td>1.000000</td>\n",
       "      <td>1.0</td>\n",
       "    </tr>\n",
       "    <tr>\n",
       "      <th>2</th>\n",
       "      <td>6</td>\n",
       "      <td>12.820546</td>\n",
       "      <td>1.0</td>\n",
       "      <td>166.0</td>\n",
       "      <td>1.0</td>\n",
       "      <td>1.0</td>\n",
       "      <td>2.0</td>\n",
       "      <td>2.0</td>\n",
       "      <td>3.0</td>\n",
       "      <td>5.0</td>\n",
       "      <td>...</td>\n",
       "      <td>61</td>\n",
       "      <td>61</td>\n",
       "      <td>NaN</td>\n",
       "      <td>2.0</td>\n",
       "      <td>2</td>\n",
       "      <td>2</td>\n",
       "      <td>NaN</td>\n",
       "      <td>8</td>\n",
       "      <td>1.000000</td>\n",
       "      <td>15.0</td>\n",
       "    </tr>\n",
       "    <tr>\n",
       "      <th>3</th>\n",
       "      <td>6</td>\n",
       "      <td>12.820546</td>\n",
       "      <td>1.0</td>\n",
       "      <td>166.0</td>\n",
       "      <td>1.0</td>\n",
       "      <td>1.0</td>\n",
       "      <td>2.0</td>\n",
       "      <td>2.0</td>\n",
       "      <td>3.0</td>\n",
       "      <td>5.0</td>\n",
       "      <td>...</td>\n",
       "      <td>78</td>\n",
       "      <td>78</td>\n",
       "      <td>NaN</td>\n",
       "      <td>1.0</td>\n",
       "      <td>1</td>\n",
       "      <td>1</td>\n",
       "      <td>NaN</td>\n",
       "      <td>346</td>\n",
       "      <td>0.225434</td>\n",
       "      <td>1.0</td>\n",
       "    </tr>\n",
       "    <tr>\n",
       "      <th>4</th>\n",
       "      <td>6</td>\n",
       "      <td>12.820546</td>\n",
       "      <td>1.0</td>\n",
       "      <td>166.0</td>\n",
       "      <td>1.0</td>\n",
       "      <td>1.0</td>\n",
       "      <td>2.0</td>\n",
       "      <td>2.0</td>\n",
       "      <td>3.0</td>\n",
       "      <td>5.0</td>\n",
       "      <td>...</td>\n",
       "      <td>322</td>\n",
       "      <td>322</td>\n",
       "      <td>0.000</td>\n",
       "      <td>1.5</td>\n",
       "      <td>1</td>\n",
       "      <td>2</td>\n",
       "      <td>0.707107</td>\n",
       "      <td>35</td>\n",
       "      <td>1.000000</td>\n",
       "      <td>1.0</td>\n",
       "    </tr>\n",
       "  </tbody>\n",
       "</table>\n",
       "<p>5 rows × 202 columns</p>\n",
       "</div>"
      ],
      "text/plain": [
       "   kmean_label  time_taken_mean  time_taken_min  time_taken_max  \\\n",
       "0            3        19.225678             1.0           167.0   \n",
       "1            3        19.225678             1.0           167.0   \n",
       "2            6        12.820546             1.0           166.0   \n",
       "3            6        12.820546             1.0           166.0   \n",
       "4            6        12.820546             1.0           166.0   \n",
       "\n",
       "   time_taken_q10  time_taken_q20  time_taken_q25  time_taken_q30  \\\n",
       "0             1.0             2.0             2.0             3.0   \n",
       "1             1.0             2.0             2.0             3.0   \n",
       "2             1.0             1.0             2.0             2.0   \n",
       "3             1.0             1.0             2.0             2.0   \n",
       "4             1.0             1.0             2.0             2.0   \n",
       "\n",
       "   time_taken_q40  time_taken_q50  ...  num_line_affected_min  \\\n",
       "0             4.0             7.0  ...                     24   \n",
       "1             4.0             7.0  ...                    242   \n",
       "2             3.0             5.0  ...                     61   \n",
       "3             3.0             5.0  ...                     78   \n",
       "4             3.0             5.0  ...                    322   \n",
       "\n",
       "   num_line_affected_max  num_line_affected_std  \\\n",
       "0                   1245                682.248   \n",
       "1                    242                  0.000   \n",
       "2                     61                    NaN   \n",
       "3                     78                    NaN   \n",
       "4                    322                  0.000   \n",
       "\n",
       "   actual_num_of_classes_touched_mean  actual_num_of_classes_touched_min  \\\n",
       "0                                35.0                                  1   \n",
       "1                                 4.0                                  4   \n",
       "2                                 2.0                                  2   \n",
       "3                                 1.0                                  1   \n",
       "4                                 1.5                                  1   \n",
       "\n",
       "  actual_num_of_classes_touched_max actual_num_of_classes_touched_std  \\\n",
       "0                                54                         29.512709   \n",
       "1                                 4                          0.000000   \n",
       "2                                 2                               NaN   \n",
       "3                                 1                               NaN   \n",
       "4                                 2                          0.707107   \n",
       "\n",
       "  commit_line_changed refactoring_perc refactoring_perc_time_taken  \n",
       "0                2162         0.011101                         1.0  \n",
       "1                 142         1.000000                         1.0  \n",
       "2                   8         1.000000                        15.0  \n",
       "3                 346         0.225434                         1.0  \n",
       "4                  35         1.000000                         1.0  \n",
       "\n",
       "[5 rows x 202 columns]"
      ]
     },
     "execution_count": 439,
     "metadata": {},
     "output_type": "execute_result"
    }
   ],
   "source": [
    "main_df.head()"
   ]
  },
  {
   "cell_type": "code",
   "execution_count": 440,
   "metadata": {},
   "outputs": [
    {
     "name": "stdout",
     "output_type": "stream",
     "text": [
      "kmean_label\n",
      "time_taken_mean\n",
      "time_taken_min\n",
      "time_taken_max\n",
      "time_taken_q10\n",
      "time_taken_q20\n",
      "time_taken_q25\n",
      "time_taken_q30\n",
      "time_taken_q40\n",
      "time_taken_q50\n",
      "time_taken_q60\n",
      "time_taken_q70\n",
      "time_taken_q75\n",
      "time_taken_q80\n",
      "time_taken_q90\n",
      "sha\n",
      "name\n",
      "email\n",
      "date\n",
      "login\n",
      "message\n",
      "parent_sha\n",
      "parent_date\n",
      "time_taken\n",
      "contains_refactoring\n",
      "project_name\n",
      "commit_compared_with\n",
      "cbo_mean\n",
      "cbo_min\n",
      "cbo_max\n",
      "cbo_std\n",
      "wmc_mean\n",
      "wmc_min\n",
      "wmc_max\n",
      "wmc_std\n",
      "dit_mean\n",
      "dit_min\n",
      "dit_max\n",
      "dit_std\n",
      "rfc_mean\n",
      "rfc_min\n",
      "rfc_max\n",
      "rfc_std\n",
      "lcom_mean\n",
      "lcom_min\n",
      "lcom_max\n",
      "lcom_std\n",
      "totalMethods_mean\n",
      "totalMethods_min\n",
      "totalMethods_max\n",
      "totalMethods_std\n",
      "staticMethods_mean\n",
      "staticMethods_min\n",
      "staticMethods_max\n",
      "staticMethods_std\n",
      "publicMethods_mean\n",
      "publicMethods_min\n",
      "publicMethods_max\n",
      "publicMethods_std\n",
      "privateMethods_mean\n",
      "privateMethods_min\n",
      "privateMethods_max\n",
      "privateMethods_std\n",
      "protectedMethods_mean\n",
      "protectedMethods_min\n",
      "protectedMethods_max\n",
      "protectedMethods_std\n",
      "defaultMethods_mean\n",
      "defaultMethods_min\n",
      "defaultMethods_max\n",
      "defaultMethods_std\n",
      "abstractMethods_mean\n",
      "abstractMethods_min\n",
      "abstractMethods_max\n",
      "abstractMethods_std\n",
      "finalMethods_mean\n",
      "finalMethods_min\n",
      "finalMethods_max\n",
      "finalMethods_std\n",
      "synchronizedMethods_mean\n",
      "synchronizedMethods_min\n",
      "synchronizedMethods_max\n",
      "synchronizedMethods_std\n",
      "totalFields_mean\n",
      "totalFields_min\n",
      "totalFields_max\n",
      "totalFields_std\n",
      "staticFields_mean\n",
      "staticFields_min\n",
      "staticFields_max\n",
      "staticFields_std\n",
      "publicFields_mean\n",
      "publicFields_min\n",
      "publicFields_max\n",
      "publicFields_std\n",
      "privateFields_mean\n",
      "privateFields_min\n",
      "privateFields_max\n",
      "privateFields_std\n",
      "protectedFields_mean\n",
      "protectedFields_min\n",
      "protectedFields_max\n",
      "protectedFields_std\n",
      "defaultFields_mean\n",
      "defaultFields_min\n",
      "defaultFields_max\n",
      "defaultFields_std\n",
      "finalFields_mean\n",
      "finalFields_min\n",
      "finalFields_max\n",
      "finalFields_std\n",
      "synchronizedFields_mean\n",
      "synchronizedFields_min\n",
      "synchronizedFields_max\n",
      "synchronizedFields_std\n",
      "nosi_mean\n",
      "nosi_min\n",
      "nosi_max\n",
      "nosi_std\n",
      "loc_mean\n",
      "loc_min\n",
      "loc_max\n",
      "loc_std\n",
      "returnQty_mean\n",
      "returnQty_min\n",
      "returnQty_max\n",
      "returnQty_std\n",
      "loopQty_mean\n",
      "loopQty_min\n",
      "loopQty_max\n",
      "loopQty_std\n",
      "comparisonsQty_mean\n",
      "comparisonsQty_min\n",
      "comparisonsQty_max\n",
      "comparisonsQty_std\n",
      "tryCatchQty_mean\n",
      "tryCatchQty_min\n",
      "tryCatchQty_max\n",
      "tryCatchQty_std\n",
      "parenthesizedExpsQty_mean\n",
      "parenthesizedExpsQty_min\n",
      "parenthesizedExpsQty_max\n",
      "parenthesizedExpsQty_std\n",
      "stringLiteralsQty_mean\n",
      "stringLiteralsQty_min\n",
      "stringLiteralsQty_max\n",
      "stringLiteralsQty_std\n",
      "numbersQty_mean\n",
      "numbersQty_min\n",
      "numbersQty_max\n",
      "numbersQty_std\n",
      "assignmentsQty_mean\n",
      "assignmentsQty_min\n",
      "assignmentsQty_max\n",
      "assignmentsQty_std\n",
      "mathOperationsQty_mean\n",
      "mathOperationsQty_min\n",
      "mathOperationsQty_max\n",
      "mathOperationsQty_std\n",
      "variablesQty_mean\n",
      "variablesQty_min\n",
      "variablesQty_max\n",
      "variablesQty_std\n",
      "maxNestedBlocks_mean\n",
      "maxNestedBlocks_min\n",
      "maxNestedBlocks_max\n",
      "maxNestedBlocks_std\n",
      "anonymousClassesQty_mean\n",
      "anonymousClassesQty_min\n",
      "anonymousClassesQty_max\n",
      "anonymousClassesQty_std\n",
      "subClassesQty_mean\n",
      "subClassesQty_min\n",
      "subClassesQty_max\n",
      "subClassesQty_std\n",
      "lambdasQty_mean\n",
      "lambdasQty_min\n",
      "lambdasQty_max\n",
      "lambdasQty_std\n",
      "uniqueWordsQty_mean\n",
      "uniqueWordsQty_min\n",
      "uniqueWordsQty_max\n",
      "uniqueWordsQty_std\n",
      "modifiers_mean\n",
      "modifiers_min\n",
      "modifiers_max\n",
      "modifiers_std\n",
      "num_dependency_mean\n",
      "num_dependency_min\n",
      "num_dependency_max\n",
      "num_dependency_std\n",
      "num_line_affected_mean\n",
      "num_line_affected_min\n",
      "num_line_affected_max\n",
      "num_line_affected_std\n",
      "actual_num_of_classes_touched_mean\n",
      "actual_num_of_classes_touched_min\n",
      "actual_num_of_classes_touched_max\n",
      "actual_num_of_classes_touched_std\n",
      "commit_line_changed\n",
      "refactoring_perc\n",
      "refactoring_perc_time_taken\n"
     ]
    }
   ],
   "source": [
    "for column in main_df:\n",
    "    print(column)"
   ]
  },
  {
   "cell_type": "code",
   "execution_count": 441,
   "metadata": {},
   "outputs": [
    {
     "data": {
      "text/plain": [
       "366"
      ]
     },
     "execution_count": 441,
     "metadata": {},
     "output_type": "execute_result"
    }
   ],
   "source": [
    "len(main_df)"
   ]
  },
  {
   "cell_type": "code",
   "execution_count": 442,
   "metadata": {},
   "outputs": [],
   "source": [
    "def plotGraph(y_test,y_pred,regressorName):\n",
    "    if max(y_test) >= max(y_pred):\n",
    "        my_range = int(max(y_test))\n",
    "    else:\n",
    "        my_range = int(max(y_pred))\n",
    "    plt.scatter(range(len(y_test)), y_test, color='blue', label='y_test')\n",
    "    plt.scatter(range(len(y_pred)), y_pred, color='red', label='y_pred')\n",
    "    plt.title(regressorName)\n",
    "    plt.legend(loc=\"upper left\")\n",
    "    plt.show()\n",
    "    return"
   ]
  },
  {
   "cell_type": "code",
   "execution_count": 443,
   "metadata": {},
   "outputs": [
    {
     "data": {
      "image/png": "[encoded data removed]",
      "text/plain": [
       "<Figure size 432x288 with 1 Axes>"
      ]
     },
     "metadata": {
      "needs_background": "light"
     },
     "output_type": "display_data"
    }
   ],
   "source": [
    "plotGraph(main_df['time_taken'], main_df['refactoring_perc_time_taken'],' test')"
   ]
  },
  {
   "cell_type": "code",
   "execution_count": 444,
   "metadata": {},
   "outputs": [],
   "source": [
    "def get_final_time_taken(row):\n",
    "    if row['time_taken'] > row['time_taken_q90']:\n",
    "        return row['time_taken'] - row['time_taken_q90']\n",
    "    elif row['time_taken'] > row['time_taken_q80']:\n",
    "        return row['time_taken'] - row['time_taken_q80']\n",
    "    elif row['time_taken'] > row['time_taken_q60']:\n",
    "        return row['time_taken'] - row['time_taken_q60']\n",
    "    elif row['time_taken'] > row['time_taken_q40']:\n",
    "        return row['time_taken'] - row['time_taken_q40']\n",
    "    elif row['time_taken'] > row['time_taken_q20']:\n",
    "        return row['time_taken'] - row['time_taken_q20']"
   ]
  },
  {
   "cell_type": "code",
   "execution_count": 445,
   "metadata": {},
   "outputs": [],
   "source": [
    "main_df['time_taken_final'] = main_df.apply(lambda row: get_final_time_taken(row), axis=1)\n",
    "\n"
   ]
  },
  {
   "cell_type": "code",
   "execution_count": 446,
   "metadata": {},
   "outputs": [
    {
     "data": {
      "image/png": "[encoded data removed]",
      "text/plain": [
       "<Figure size 432x288 with 1 Axes>"
      ]
     },
     "metadata": {
      "needs_background": "light"
     },
     "output_type": "display_data"
    }
   ],
   "source": [
    "plotGraph(main_df['time_taken_final'], main_df['time_taken_mean'],' test')"
   ]
  },
  {
   "cell_type": "code",
   "execution_count": 447,
   "metadata": {},
   "outputs": [
    {
     "data": {
      "text/plain": [
       "{'whiskers': [<matplotlib.lines.Line2D at 0x11bd203cb00>,\n",
       "  <matplotlib.lines.Line2D at 0x11bd203ceb8>],\n",
       " 'caps': [<matplotlib.lines.Line2D at 0x11bd204c278>,\n",
       "  <matplotlib.lines.Line2D at 0x11bd204c5f8>],\n",
       " 'boxes': [<matplotlib.lines.Line2D at 0x11bd203c9b0>],\n",
       " 'medians': [<matplotlib.lines.Line2D at 0x11bd204c978>],\n",
       " 'fliers': [<matplotlib.lines.Line2D at 0x11bd204ccf8>],\n",
       " 'means': []}"
      ]
     },
     "execution_count": 447,
     "metadata": {},
     "output_type": "execute_result"
    },
    {
     "data": {
      "image/png": "[encoded data removed]",
      "text/plain": [
       "<Figure size 432x288 with 1 Axes>"
      ]
     },
     "metadata": {
      "needs_background": "light"
     },
     "output_type": "display_data"
    }
   ],
   "source": [
    "plt.boxplot(main_df['refactoring_perc_time_taken'])"
   ]
  },
  {
   "cell_type": "code",
   "execution_count": 452,
   "metadata": {},
   "outputs": [],
   "source": [
    "main_df = main_df[main_df['refactoring_perc_time_taken'] >= 2]\n",
    "main_df = main_df[main_df['refactoring_perc_time_taken'] <= 40]"
   ]
  },
  {
   "cell_type": "code",
   "execution_count": 453,
   "metadata": {},
   "outputs": [
    {
     "data": {
      "text/plain": [
       "{'whiskers': [<matplotlib.lines.Line2D at 0x11bd217b358>,\n",
       "  <matplotlib.lines.Line2D at 0x11bd217b710>],\n",
       " 'caps': [<matplotlib.lines.Line2D at 0x11bd217ba90>,\n",
       "  <matplotlib.lines.Line2D at 0x11bd217be10>],\n",
       " 'boxes': [<matplotlib.lines.Line2D at 0x11bd217b208>],\n",
       " 'medians': [<matplotlib.lines.Line2D at 0x11bd21c31d0>],\n",
       " 'fliers': [<matplotlib.lines.Line2D at 0x11bd21c3550>],\n",
       " 'means': []}"
      ]
     },
     "execution_count": 453,
     "metadata": {},
     "output_type": "execute_result"
    },
    {
     "data": {
      "image/png": "[encoded data removed]",
      "text/plain": [
       "<Figure size 432x288 with 1 Axes>"
      ]
     },
     "metadata": {
      "needs_background": "light"
     },
     "output_type": "display_data"
    }
   ],
   "source": [
    "plt.boxplot(main_df['refactoring_perc_time_taken'])"
   ]
  },
  {
   "cell_type": "code",
   "execution_count": 454,
   "metadata": {},
   "outputs": [],
   "source": [
    "main_df = main_df[main_df['time_taken_final'] <= 60]\n",
    "main_df = main_df[main_df['time_taken_final'] > 2]"
   ]
  },
  {
   "cell_type": "code",
   "execution_count": 455,
   "metadata": {},
   "outputs": [
    {
     "data": {
      "text/plain": [
       "7.0     12\n",
       "3.0      6\n",
       "5.0      5\n",
       "9.0      5\n",
       "8.0      4\n",
       "4.0      3\n",
       "6.0      3\n",
       "31.0     2\n",
       "2.8      2\n",
       "15.4     2\n",
       "8.2      2\n",
       "11.0     2\n",
       "39.6     2\n",
       "10.0     2\n",
       "15.0     1\n",
       "50.0     1\n",
       "41.0     1\n",
       "53.0     1\n",
       "13.0     1\n",
       "43.0     1\n",
       "31.4     1\n",
       "8.4      1\n",
       "14.4     1\n",
       "16.0     1\n",
       "18.0     1\n",
       "24.0     1\n",
       "12.0     1\n",
       "14.4     1\n",
       "35.6     1\n",
       "16.6     1\n",
       "47.4     1\n",
       "10.2     1\n",
       "2.6      1\n",
       "25.6     1\n",
       "6.2      1\n",
       "10.4     1\n",
       "26.6     1\n",
       "25.6     1\n",
       "8.8      1\n",
       "29.4     1\n",
       "37.6     1\n",
       "37.1     1\n",
       "24.6     1\n",
       "7.4      1\n",
       "27.6     1\n",
       "12.4     1\n",
       "3.6      1\n",
       "17.6     1\n",
       "4.1      1\n",
       "8.8      1\n",
       "2.4      1\n",
       "8.6      1\n",
       "6.2      1\n",
       "Name: time_taken_final, dtype: int64"
      ]
     },
     "execution_count": 455,
     "metadata": {},
     "output_type": "execute_result"
    }
   ],
   "source": [
    "main_df['time_taken_final'].value_counts()"
   ]
  },
  {
   "cell_type": "code",
   "execution_count": 456,
   "metadata": {},
   "outputs": [
    {
     "data": {
      "text/plain": [
       "{'whiskers': [<matplotlib.lines.Line2D at 0x11bd2221048>,\n",
       "  <matplotlib.lines.Line2D at 0x11bd2221400>],\n",
       " 'caps': [<matplotlib.lines.Line2D at 0x11bd2221780>,\n",
       "  <matplotlib.lines.Line2D at 0x11bd2221b00>],\n",
       " 'boxes': [<matplotlib.lines.Line2D at 0x11bd2210eb8>],\n",
       " 'medians': [<matplotlib.lines.Line2D at 0x11bd2221e80>],\n",
       " 'fliers': [<matplotlib.lines.Line2D at 0x11bd222b240>],\n",
       " 'means': []}"
      ]
     },
     "execution_count": 456,
     "metadata": {},
     "output_type": "execute_result"
    },
    {
     "data": {
      "image/png": "[encoded data removed]",
      "text/plain": [
       "<Figure size 432x288 with 1 Axes>"
      ]
     },
     "metadata": {
      "needs_background": "light"
     },
     "output_type": "display_data"
    }
   ],
   "source": [
    "plt.boxplot(main_df['time_taken_final'])"
   ]
  },
  {
   "cell_type": "code",
   "execution_count": 457,
   "metadata": {},
   "outputs": [],
   "source": [
    "main_df = main_df.fillna(0)"
   ]
  },
  {
   "cell_type": "code",
   "execution_count": 458,
   "metadata": {},
   "outputs": [
    {
     "data": {
      "text/html": [
       "<div>\n",
       "<style scoped>\n",
       "    .dataframe tbody tr th:only-of-type {\n",
       "        vertical-align: middle;\n",
       "    }\n",
       "\n",
       "    .dataframe tbody tr th {\n",
       "        vertical-align: top;\n",
       "    }\n",
       "\n",
       "    .dataframe thead th {\n",
       "        text-align: right;\n",
       "    }\n",
       "</style>\n",
       "<table border=\"1\" class=\"dataframe\">\n",
       "  <thead>\n",
       "    <tr style=\"text-align: right;\">\n",
       "      <th></th>\n",
       "      <th>kmean_label</th>\n",
       "      <th>time_taken_mean</th>\n",
       "      <th>time_taken_min</th>\n",
       "      <th>time_taken_max</th>\n",
       "      <th>time_taken_q10</th>\n",
       "      <th>time_taken_q20</th>\n",
       "      <th>time_taken_q25</th>\n",
       "      <th>time_taken_q30</th>\n",
       "      <th>time_taken_q40</th>\n",
       "      <th>time_taken_q50</th>\n",
       "      <th>...</th>\n",
       "      <th>num_line_affected_max</th>\n",
       "      <th>num_line_affected_std</th>\n",
       "      <th>actual_num_of_classes_touched_mean</th>\n",
       "      <th>actual_num_of_classes_touched_min</th>\n",
       "      <th>actual_num_of_classes_touched_max</th>\n",
       "      <th>actual_num_of_classes_touched_std</th>\n",
       "      <th>commit_line_changed</th>\n",
       "      <th>refactoring_perc</th>\n",
       "      <th>refactoring_perc_time_taken</th>\n",
       "      <th>time_taken_final</th>\n",
       "    </tr>\n",
       "  </thead>\n",
       "  <tbody>\n",
       "    <tr>\n",
       "      <th>2</th>\n",
       "      <td>6</td>\n",
       "      <td>12.820546</td>\n",
       "      <td>1.0</td>\n",
       "      <td>166.0</td>\n",
       "      <td>1.0</td>\n",
       "      <td>1.0</td>\n",
       "      <td>2.0</td>\n",
       "      <td>2.0</td>\n",
       "      <td>3.0</td>\n",
       "      <td>5.0</td>\n",
       "      <td>...</td>\n",
       "      <td>61</td>\n",
       "      <td>0.000000</td>\n",
       "      <td>2.000000</td>\n",
       "      <td>2</td>\n",
       "      <td>2</td>\n",
       "      <td>0.000000</td>\n",
       "      <td>8</td>\n",
       "      <td>1.000000</td>\n",
       "      <td>15.000000</td>\n",
       "      <td>7.0</td>\n",
       "    </tr>\n",
       "    <tr>\n",
       "      <th>9</th>\n",
       "      <td>10</td>\n",
       "      <td>14.581832</td>\n",
       "      <td>1.0</td>\n",
       "      <td>152.0</td>\n",
       "      <td>1.0</td>\n",
       "      <td>1.2</td>\n",
       "      <td>2.0</td>\n",
       "      <td>2.0</td>\n",
       "      <td>4.0</td>\n",
       "      <td>6.0</td>\n",
       "      <td>...</td>\n",
       "      <td>764</td>\n",
       "      <td>0.000000</td>\n",
       "      <td>9.000000</td>\n",
       "      <td>9</td>\n",
       "      <td>9</td>\n",
       "      <td>0.000000</td>\n",
       "      <td>202</td>\n",
       "      <td>1.000000</td>\n",
       "      <td>10.000000</td>\n",
       "      <td>6.0</td>\n",
       "    </tr>\n",
       "    <tr>\n",
       "      <th>11</th>\n",
       "      <td>10</td>\n",
       "      <td>14.581832</td>\n",
       "      <td>1.0</td>\n",
       "      <td>152.0</td>\n",
       "      <td>1.0</td>\n",
       "      <td>1.2</td>\n",
       "      <td>2.0</td>\n",
       "      <td>2.0</td>\n",
       "      <td>4.0</td>\n",
       "      <td>6.0</td>\n",
       "      <td>...</td>\n",
       "      <td>115</td>\n",
       "      <td>0.000000</td>\n",
       "      <td>4.500000</td>\n",
       "      <td>3</td>\n",
       "      <td>6</td>\n",
       "      <td>2.121320</td>\n",
       "      <td>400</td>\n",
       "      <td>0.287500</td>\n",
       "      <td>9.487500</td>\n",
       "      <td>12.0</td>\n",
       "    </tr>\n",
       "    <tr>\n",
       "      <th>15</th>\n",
       "      <td>10</td>\n",
       "      <td>14.581832</td>\n",
       "      <td>1.0</td>\n",
       "      <td>152.0</td>\n",
       "      <td>1.0</td>\n",
       "      <td>1.2</td>\n",
       "      <td>2.0</td>\n",
       "      <td>2.0</td>\n",
       "      <td>4.0</td>\n",
       "      <td>6.0</td>\n",
       "      <td>...</td>\n",
       "      <td>47</td>\n",
       "      <td>0.000000</td>\n",
       "      <td>9.333333</td>\n",
       "      <td>1</td>\n",
       "      <td>14</td>\n",
       "      <td>7.234178</td>\n",
       "      <td>176</td>\n",
       "      <td>0.267045</td>\n",
       "      <td>5.340909</td>\n",
       "      <td>8.0</td>\n",
       "    </tr>\n",
       "    <tr>\n",
       "      <th>0</th>\n",
       "      <td>1</td>\n",
       "      <td>46.327198</td>\n",
       "      <td>1.0</td>\n",
       "      <td>167.0</td>\n",
       "      <td>2.0</td>\n",
       "      <td>6.6</td>\n",
       "      <td>11.0</td>\n",
       "      <td>16.0</td>\n",
       "      <td>22.2</td>\n",
       "      <td>28.0</td>\n",
       "      <td>...</td>\n",
       "      <td>175</td>\n",
       "      <td>78.488853</td>\n",
       "      <td>68.500000</td>\n",
       "      <td>59</td>\n",
       "      <td>78</td>\n",
       "      <td>13.435029</td>\n",
       "      <td>780</td>\n",
       "      <td>0.082051</td>\n",
       "      <td>2.051282</td>\n",
       "      <td>2.8</td>\n",
       "    </tr>\n",
       "    <tr>\n",
       "      <th>...</th>\n",
       "      <td>...</td>\n",
       "      <td>...</td>\n",
       "      <td>...</td>\n",
       "      <td>...</td>\n",
       "      <td>...</td>\n",
       "      <td>...</td>\n",
       "      <td>...</td>\n",
       "      <td>...</td>\n",
       "      <td>...</td>\n",
       "      <td>...</td>\n",
       "      <td>...</td>\n",
       "      <td>...</td>\n",
       "      <td>...</td>\n",
       "      <td>...</td>\n",
       "      <td>...</td>\n",
       "      <td>...</td>\n",
       "      <td>...</td>\n",
       "      <td>...</td>\n",
       "      <td>...</td>\n",
       "      <td>...</td>\n",
       "      <td>...</td>\n",
       "    </tr>\n",
       "    <tr>\n",
       "      <th>31</th>\n",
       "      <td>8</td>\n",
       "      <td>12.012698</td>\n",
       "      <td>1.0</td>\n",
       "      <td>167.0</td>\n",
       "      <td>1.0</td>\n",
       "      <td>1.0</td>\n",
       "      <td>2.0</td>\n",
       "      <td>2.0</td>\n",
       "      <td>3.0</td>\n",
       "      <td>4.0</td>\n",
       "      <td>...</td>\n",
       "      <td>60</td>\n",
       "      <td>0.000000</td>\n",
       "      <td>8.250000</td>\n",
       "      <td>1</td>\n",
       "      <td>12</td>\n",
       "      <td>4.621379</td>\n",
       "      <td>158</td>\n",
       "      <td>0.379747</td>\n",
       "      <td>16.708861</td>\n",
       "      <td>14.4</td>\n",
       "    </tr>\n",
       "    <tr>\n",
       "      <th>33</th>\n",
       "      <td>8</td>\n",
       "      <td>12.012698</td>\n",
       "      <td>1.0</td>\n",
       "      <td>167.0</td>\n",
       "      <td>1.0</td>\n",
       "      <td>1.0</td>\n",
       "      <td>2.0</td>\n",
       "      <td>2.0</td>\n",
       "      <td>3.0</td>\n",
       "      <td>4.0</td>\n",
       "      <td>...</td>\n",
       "      <td>763</td>\n",
       "      <td>0.000000</td>\n",
       "      <td>2.000000</td>\n",
       "      <td>2</td>\n",
       "      <td>2</td>\n",
       "      <td>0.000000</td>\n",
       "      <td>38</td>\n",
       "      <td>1.000000</td>\n",
       "      <td>37.000000</td>\n",
       "      <td>7.4</td>\n",
       "    </tr>\n",
       "    <tr>\n",
       "      <th>36</th>\n",
       "      <td>8</td>\n",
       "      <td>12.012698</td>\n",
       "      <td>1.0</td>\n",
       "      <td>167.0</td>\n",
       "      <td>1.0</td>\n",
       "      <td>1.0</td>\n",
       "      <td>2.0</td>\n",
       "      <td>2.0</td>\n",
       "      <td>3.0</td>\n",
       "      <td>4.0</td>\n",
       "      <td>...</td>\n",
       "      <td>411</td>\n",
       "      <td>0.000000</td>\n",
       "      <td>1.000000</td>\n",
       "      <td>1</td>\n",
       "      <td>1</td>\n",
       "      <td>0.000000</td>\n",
       "      <td>871</td>\n",
       "      <td>0.471871</td>\n",
       "      <td>36.334099</td>\n",
       "      <td>47.4</td>\n",
       "    </tr>\n",
       "    <tr>\n",
       "      <th>1</th>\n",
       "      <td>6</td>\n",
       "      <td>24.722772</td>\n",
       "      <td>1.0</td>\n",
       "      <td>148.0</td>\n",
       "      <td>2.0</td>\n",
       "      <td>3.0</td>\n",
       "      <td>4.0</td>\n",
       "      <td>6.0</td>\n",
       "      <td>10.4</td>\n",
       "      <td>14.0</td>\n",
       "      <td>...</td>\n",
       "      <td>907</td>\n",
       "      <td>362.783108</td>\n",
       "      <td>5.000000</td>\n",
       "      <td>2</td>\n",
       "      <td>8</td>\n",
       "      <td>2.581989</td>\n",
       "      <td>55</td>\n",
       "      <td>1.000000</td>\n",
       "      <td>13.000000</td>\n",
       "      <td>2.6</td>\n",
       "    </tr>\n",
       "    <tr>\n",
       "      <th>0</th>\n",
       "      <td>2</td>\n",
       "      <td>47.750000</td>\n",
       "      <td>3.0</td>\n",
       "      <td>165.0</td>\n",
       "      <td>8.2</td>\n",
       "      <td>19.4</td>\n",
       "      <td>20.5</td>\n",
       "      <td>21.9</td>\n",
       "      <td>24.4</td>\n",
       "      <td>34.0</td>\n",
       "      <td>...</td>\n",
       "      <td>30</td>\n",
       "      <td>0.000000</td>\n",
       "      <td>7.000000</td>\n",
       "      <td>7</td>\n",
       "      <td>7</td>\n",
       "      <td>0.000000</td>\n",
       "      <td>378</td>\n",
       "      <td>0.079365</td>\n",
       "      <td>4.126984</td>\n",
       "      <td>6.0</td>\n",
       "    </tr>\n",
       "  </tbody>\n",
       "</table>\n",
       "<p>91 rows × 203 columns</p>\n",
       "</div>"
      ],
      "text/plain": [
       "    kmean_label  time_taken_mean  time_taken_min  time_taken_max  \\\n",
       "2             6        12.820546             1.0           166.0   \n",
       "9            10        14.581832             1.0           152.0   \n",
       "11           10        14.581832             1.0           152.0   \n",
       "15           10        14.581832             1.0           152.0   \n",
       "0             1        46.327198             1.0           167.0   \n",
       "..          ...              ...             ...             ...   \n",
       "31            8        12.012698             1.0           167.0   \n",
       "33            8        12.012698             1.0           167.0   \n",
       "36            8        12.012698             1.0           167.0   \n",
       "1             6        24.722772             1.0           148.0   \n",
       "0             2        47.750000             3.0           165.0   \n",
       "\n",
       "    time_taken_q10  time_taken_q20  time_taken_q25  time_taken_q30  \\\n",
       "2              1.0             1.0             2.0             2.0   \n",
       "9              1.0             1.2             2.0             2.0   \n",
       "11             1.0             1.2             2.0             2.0   \n",
       "15             1.0             1.2             2.0             2.0   \n",
       "0              2.0             6.6            11.0            16.0   \n",
       "..             ...             ...             ...             ...   \n",
       "31             1.0             1.0             2.0             2.0   \n",
       "33             1.0             1.0             2.0             2.0   \n",
       "36             1.0             1.0             2.0             2.0   \n",
       "1              2.0             3.0             4.0             6.0   \n",
       "0              8.2            19.4            20.5            21.9   \n",
       "\n",
       "    time_taken_q40  time_taken_q50  ...  num_line_affected_max  \\\n",
       "2              3.0             5.0  ...                     61   \n",
       "9              4.0             6.0  ...                    764   \n",
       "11             4.0             6.0  ...                    115   \n",
       "15             4.0             6.0  ...                     47   \n",
       "0             22.2            28.0  ...                    175   \n",
       "..             ...             ...  ...                    ...   \n",
       "31             3.0             4.0  ...                     60   \n",
       "33             3.0             4.0  ...                    763   \n",
       "36             3.0             4.0  ...                    411   \n",
       "1             10.4            14.0  ...                    907   \n",
       "0             24.4            34.0  ...                     30   \n",
       "\n",
       "    num_line_affected_std  actual_num_of_classes_touched_mean  \\\n",
       "2                0.000000                            2.000000   \n",
       "9                0.000000                            9.000000   \n",
       "11               0.000000                            4.500000   \n",
       "15               0.000000                            9.333333   \n",
       "0               78.488853                           68.500000   \n",
       "..                    ...                                 ...   \n",
       "31               0.000000                            8.250000   \n",
       "33               0.000000                            2.000000   \n",
       "36               0.000000                            1.000000   \n",
       "1              362.783108                            5.000000   \n",
       "0                0.000000                            7.000000   \n",
       "\n",
       "    actual_num_of_classes_touched_min  actual_num_of_classes_touched_max  \\\n",
       "2                                   2                                  2   \n",
       "9                                   9                                  9   \n",
       "11                                  3                                  6   \n",
       "15                                  1                                 14   \n",
       "0                                  59                                 78   \n",
       "..                                ...                                ...   \n",
       "31                                  1                                 12   \n",
       "33                                  2                                  2   \n",
       "36                                  1                                  1   \n",
       "1                                   2                                  8   \n",
       "0                                   7                                  7   \n",
       "\n",
       "   actual_num_of_classes_touched_std commit_line_changed refactoring_perc  \\\n",
       "2                           0.000000                   8         1.000000   \n",
       "9                           0.000000                 202         1.000000   \n",
       "11                          2.121320                 400         0.287500   \n",
       "15                          7.234178                 176         0.267045   \n",
       "0                          13.435029                 780         0.082051   \n",
       "..                               ...                 ...              ...   \n",
       "31                          4.621379                 158         0.379747   \n",
       "33                          0.000000                  38         1.000000   \n",
       "36                          0.000000                 871         0.471871   \n",
       "1                           2.581989                  55         1.000000   \n",
       "0                           0.000000                 378         0.079365   \n",
       "\n",
       "   refactoring_perc_time_taken time_taken_final  \n",
       "2                    15.000000              7.0  \n",
       "9                    10.000000              6.0  \n",
       "11                    9.487500             12.0  \n",
       "15                    5.340909              8.0  \n",
       "0                     2.051282              2.8  \n",
       "..                         ...              ...  \n",
       "31                   16.708861             14.4  \n",
       "33                   37.000000              7.4  \n",
       "36                   36.334099             47.4  \n",
       "1                    13.000000              2.6  \n",
       "0                     4.126984              6.0  \n",
       "\n",
       "[91 rows x 203 columns]"
      ]
     },
     "execution_count": 458,
     "metadata": {},
     "output_type": "execute_result"
    }
   ],
   "source": [
    "main_df"
   ]
  },
  {
   "cell_type": "code",
   "execution_count": 459,
   "metadata": {},
   "outputs": [],
   "source": [
    "main_df.to_csv('test_effort_model.csv', index=False)"
   ]
  },
  {
   "cell_type": "markdown",
   "metadata": {},
   "source": [
    "## EDA (Run only if absolutely necessary on minimum features)"
   ]
  },
  {
   "cell_type": "code",
   "execution_count": 460,
   "metadata": {
    "scrolled": false
   },
   "outputs": [],
   "source": [
    "#from pandas_profiling import ProfileReport\n",
    "\n",
    "#profile = ProfileReport(main_df, title=\"Pandas Profiling Report\",explorative=True)\n",
    "#profile"
   ]
  },
  {
   "cell_type": "code",
   "execution_count": 461,
   "metadata": {},
   "outputs": [
    {
     "name": "stdout",
     "output_type": "stream",
     "text": [
      "kmean_label\n",
      "time_taken_mean\n",
      "time_taken_min\n",
      "time_taken_max\n",
      "time_taken_q10\n",
      "time_taken_q20\n",
      "time_taken_q25\n",
      "time_taken_q30\n",
      "time_taken_q40\n",
      "time_taken_q50\n",
      "time_taken_q60\n",
      "time_taken_q70\n",
      "time_taken_q75\n",
      "time_taken_q80\n",
      "time_taken_q90\n",
      "sha\n",
      "name\n",
      "email\n",
      "date\n",
      "login\n",
      "message\n",
      "parent_sha\n",
      "parent_date\n",
      "time_taken\n",
      "contains_refactoring\n",
      "project_name\n",
      "commit_compared_with\n",
      "cbo_mean\n",
      "cbo_min\n",
      "cbo_max\n",
      "cbo_std\n",
      "wmc_mean\n",
      "wmc_min\n",
      "wmc_max\n",
      "wmc_std\n",
      "dit_mean\n",
      "dit_min\n",
      "dit_max\n",
      "dit_std\n",
      "rfc_mean\n",
      "rfc_min\n",
      "rfc_max\n",
      "rfc_std\n",
      "lcom_mean\n",
      "lcom_min\n",
      "lcom_max\n",
      "lcom_std\n",
      "totalMethods_mean\n",
      "totalMethods_min\n",
      "totalMethods_max\n",
      "totalMethods_std\n",
      "staticMethods_mean\n",
      "staticMethods_min\n",
      "staticMethods_max\n",
      "staticMethods_std\n",
      "publicMethods_mean\n",
      "publicMethods_min\n",
      "publicMethods_max\n",
      "publicMethods_std\n",
      "privateMethods_mean\n",
      "privateMethods_min\n",
      "privateMethods_max\n",
      "privateMethods_std\n",
      "protectedMethods_mean\n",
      "protectedMethods_min\n",
      "protectedMethods_max\n",
      "protectedMethods_std\n",
      "defaultMethods_mean\n",
      "defaultMethods_min\n",
      "defaultMethods_max\n",
      "defaultMethods_std\n",
      "abstractMethods_mean\n",
      "abstractMethods_min\n",
      "abstractMethods_max\n",
      "abstractMethods_std\n",
      "finalMethods_mean\n",
      "finalMethods_min\n",
      "finalMethods_max\n",
      "finalMethods_std\n",
      "synchronizedMethods_mean\n",
      "synchronizedMethods_min\n",
      "synchronizedMethods_max\n",
      "synchronizedMethods_std\n",
      "totalFields_mean\n",
      "totalFields_min\n",
      "totalFields_max\n",
      "totalFields_std\n",
      "staticFields_mean\n",
      "staticFields_min\n",
      "staticFields_max\n",
      "staticFields_std\n",
      "publicFields_mean\n",
      "publicFields_min\n",
      "publicFields_max\n",
      "publicFields_std\n",
      "privateFields_mean\n",
      "privateFields_min\n",
      "privateFields_max\n",
      "privateFields_std\n",
      "protectedFields_mean\n",
      "protectedFields_min\n",
      "protectedFields_max\n",
      "protectedFields_std\n",
      "defaultFields_mean\n",
      "defaultFields_min\n",
      "defaultFields_max\n",
      "defaultFields_std\n",
      "finalFields_mean\n",
      "finalFields_min\n",
      "finalFields_max\n",
      "finalFields_std\n",
      "synchronizedFields_mean\n",
      "synchronizedFields_min\n",
      "synchronizedFields_max\n",
      "synchronizedFields_std\n",
      "nosi_mean\n",
      "nosi_min\n",
      "nosi_max\n",
      "nosi_std\n",
      "loc_mean\n",
      "loc_min\n",
      "loc_max\n",
      "loc_std\n",
      "returnQty_mean\n",
      "returnQty_min\n",
      "returnQty_max\n",
      "returnQty_std\n",
      "loopQty_mean\n",
      "loopQty_min\n",
      "loopQty_max\n",
      "loopQty_std\n",
      "comparisonsQty_mean\n",
      "comparisonsQty_min\n",
      "comparisonsQty_max\n",
      "comparisonsQty_std\n",
      "tryCatchQty_mean\n",
      "tryCatchQty_min\n",
      "tryCatchQty_max\n",
      "tryCatchQty_std\n",
      "parenthesizedExpsQty_mean\n",
      "parenthesizedExpsQty_min\n",
      "parenthesizedExpsQty_max\n",
      "parenthesizedExpsQty_std\n",
      "stringLiteralsQty_mean\n",
      "stringLiteralsQty_min\n",
      "stringLiteralsQty_max\n",
      "stringLiteralsQty_std\n",
      "numbersQty_mean\n",
      "numbersQty_min\n",
      "numbersQty_max\n",
      "numbersQty_std\n",
      "assignmentsQty_mean\n",
      "assignmentsQty_min\n",
      "assignmentsQty_max\n",
      "assignmentsQty_std\n",
      "mathOperationsQty_mean\n",
      "mathOperationsQty_min\n",
      "mathOperationsQty_max\n",
      "mathOperationsQty_std\n",
      "variablesQty_mean\n",
      "variablesQty_min\n",
      "variablesQty_max\n",
      "variablesQty_std\n",
      "maxNestedBlocks_mean\n",
      "maxNestedBlocks_min\n",
      "maxNestedBlocks_max\n",
      "maxNestedBlocks_std\n",
      "anonymousClassesQty_mean\n",
      "anonymousClassesQty_min\n",
      "anonymousClassesQty_max\n",
      "anonymousClassesQty_std\n",
      "subClassesQty_mean\n",
      "subClassesQty_min\n",
      "subClassesQty_max\n",
      "subClassesQty_std\n",
      "lambdasQty_mean\n",
      "lambdasQty_min\n",
      "lambdasQty_max\n",
      "lambdasQty_std\n",
      "uniqueWordsQty_mean\n",
      "uniqueWordsQty_min\n",
      "uniqueWordsQty_max\n",
      "uniqueWordsQty_std\n",
      "modifiers_mean\n",
      "modifiers_min\n",
      "modifiers_max\n",
      "modifiers_std\n",
      "num_dependency_mean\n",
      "num_dependency_min\n",
      "num_dependency_max\n",
      "num_dependency_std\n",
      "num_line_affected_mean\n",
      "num_line_affected_min\n",
      "num_line_affected_max\n",
      "num_line_affected_std\n",
      "actual_num_of_classes_touched_mean\n",
      "actual_num_of_classes_touched_min\n",
      "actual_num_of_classes_touched_max\n",
      "actual_num_of_classes_touched_std\n",
      "commit_line_changed\n",
      "refactoring_perc\n",
      "refactoring_perc_time_taken\n",
      "time_taken_final\n"
     ]
    }
   ],
   "source": [
    "for columns in main_df.columns:\n",
    "    print(columns)"
   ]
  },
  {
   "cell_type": "markdown",
   "metadata": {},
   "source": [
    "### Only taking mean for num_dependency and num_line_affected since there is only one"
   ]
  },
  {
   "cell_type": "code",
   "execution_count": 462,
   "metadata": {},
   "outputs": [],
   "source": [
    "final_col = []\n",
    "column_to_skip = ['sha',\n",
    "'name','email','login',\n",
    "'date','message',\n",
    "'parent_sha','parent_date',\n",
    "'time_taken','contains_refactoring',\n",
    "'kmean_label','time_taken_mean',\n",
    "'time_taken_min',\n",
    "'time_taken_max',\n",
    "'time_taken_q10',\n",
    "'time_taken_q20',\n",
    "'time_taken_q25',\n",
    "'time_taken_q30',\n",
    "'time_taken_q40',\n",
    "'time_taken_q50',\n",
    "'time_taken_q60',\n",
    "'time_taken_q70',\n",
    "'time_taken_q75',\n",
    "'time_taken_q80',\n",
    "'time_taken_q90',\n",
    "'project_name','commit_compared_with',\n",
    "'actual_num_of_classes_touched_mean',\n",
    " 'actual_num_of_classes_touched_min',\n",
    " 'actual_num_of_classes_touched_max',\n",
    " 'actual_num_of_classes_touched_std',\n",
    "'num_dependency_min',\n",
    "'num_dependency_max',\n",
    "'num_dependency_std',\n",
    "'num_line_affected_min',\n",
    "'num_line_affected_max',\n",
    "'num_line_affected_std', 'time_taken_final',\n",
    "'commit_line_changed',\n",
    "'refactoring_perc'\n",
    " ]\n",
    "for element in main_df.columns:\n",
    "    #print(\"'\" + element + \"',\")\n",
    "    if element not in column_to_skip:\n",
    "        final_col.append(element)"
   ]
  },
  {
   "cell_type": "code",
   "execution_count": 463,
   "metadata": {},
   "outputs": [
    {
     "data": {
      "text/plain": [
       "['cbo_mean',\n",
       " 'cbo_min',\n",
       " 'cbo_max',\n",
       " 'cbo_std',\n",
       " 'wmc_mean',\n",
       " 'wmc_min',\n",
       " 'wmc_max',\n",
       " 'wmc_std',\n",
       " 'dit_mean',\n",
       " 'dit_min',\n",
       " 'dit_max',\n",
       " 'dit_std',\n",
       " 'rfc_mean',\n",
       " 'rfc_min',\n",
       " 'rfc_max',\n",
       " 'rfc_std',\n",
       " 'lcom_mean',\n",
       " 'lcom_min',\n",
       " 'lcom_max',\n",
       " 'lcom_std',\n",
       " 'totalMethods_mean',\n",
       " 'totalMethods_min',\n",
       " 'totalMethods_max',\n",
       " 'totalMethods_std',\n",
       " 'staticMethods_mean',\n",
       " 'staticMethods_min',\n",
       " 'staticMethods_max',\n",
       " 'staticMethods_std',\n",
       " 'publicMethods_mean',\n",
       " 'publicMethods_min',\n",
       " 'publicMethods_max',\n",
       " 'publicMethods_std',\n",
       " 'privateMethods_mean',\n",
       " 'privateMethods_min',\n",
       " 'privateMethods_max',\n",
       " 'privateMethods_std',\n",
       " 'protectedMethods_mean',\n",
       " 'protectedMethods_min',\n",
       " 'protectedMethods_max',\n",
       " 'protectedMethods_std',\n",
       " 'defaultMethods_mean',\n",
       " 'defaultMethods_min',\n",
       " 'defaultMethods_max',\n",
       " 'defaultMethods_std',\n",
       " 'abstractMethods_mean',\n",
       " 'abstractMethods_min',\n",
       " 'abstractMethods_max',\n",
       " 'abstractMethods_std',\n",
       " 'finalMethods_mean',\n",
       " 'finalMethods_min',\n",
       " 'finalMethods_max',\n",
       " 'finalMethods_std',\n",
       " 'synchronizedMethods_mean',\n",
       " 'synchronizedMethods_min',\n",
       " 'synchronizedMethods_max',\n",
       " 'synchronizedMethods_std',\n",
       " 'totalFields_mean',\n",
       " 'totalFields_min',\n",
       " 'totalFields_max',\n",
       " 'totalFields_std',\n",
       " 'staticFields_mean',\n",
       " 'staticFields_min',\n",
       " 'staticFields_max',\n",
       " 'staticFields_std',\n",
       " 'publicFields_mean',\n",
       " 'publicFields_min',\n",
       " 'publicFields_max',\n",
       " 'publicFields_std',\n",
       " 'privateFields_mean',\n",
       " 'privateFields_min',\n",
       " 'privateFields_max',\n",
       " 'privateFields_std',\n",
       " 'protectedFields_mean',\n",
       " 'protectedFields_min',\n",
       " 'protectedFields_max',\n",
       " 'protectedFields_std',\n",
       " 'defaultFields_mean',\n",
       " 'defaultFields_min',\n",
       " 'defaultFields_max',\n",
       " 'defaultFields_std',\n",
       " 'finalFields_mean',\n",
       " 'finalFields_min',\n",
       " 'finalFields_max',\n",
       " 'finalFields_std',\n",
       " 'synchronizedFields_mean',\n",
       " 'synchronizedFields_min',\n",
       " 'synchronizedFields_max',\n",
       " 'synchronizedFields_std',\n",
       " 'nosi_mean',\n",
       " 'nosi_min',\n",
       " 'nosi_max',\n",
       " 'nosi_std',\n",
       " 'loc_mean',\n",
       " 'loc_min',\n",
       " 'loc_max',\n",
       " 'loc_std',\n",
       " 'returnQty_mean',\n",
       " 'returnQty_min',\n",
       " 'returnQty_max',\n",
       " 'returnQty_std',\n",
       " 'loopQty_mean',\n",
       " 'loopQty_min',\n",
       " 'loopQty_max',\n",
       " 'loopQty_std',\n",
       " 'comparisonsQty_mean',\n",
       " 'comparisonsQty_min',\n",
       " 'comparisonsQty_max',\n",
       " 'comparisonsQty_std',\n",
       " 'tryCatchQty_mean',\n",
       " 'tryCatchQty_min',\n",
       " 'tryCatchQty_max',\n",
       " 'tryCatchQty_std',\n",
       " 'parenthesizedExpsQty_mean',\n",
       " 'parenthesizedExpsQty_min',\n",
       " 'parenthesizedExpsQty_max',\n",
       " 'parenthesizedExpsQty_std',\n",
       " 'stringLiteralsQty_mean',\n",
       " 'stringLiteralsQty_min',\n",
       " 'stringLiteralsQty_max',\n",
       " 'stringLiteralsQty_std',\n",
       " 'numbersQty_mean',\n",
       " 'numbersQty_min',\n",
       " 'numbersQty_max',\n",
       " 'numbersQty_std',\n",
       " 'assignmentsQty_mean',\n",
       " 'assignmentsQty_min',\n",
       " 'assignmentsQty_max',\n",
       " 'assignmentsQty_std',\n",
       " 'mathOperationsQty_mean',\n",
       " 'mathOperationsQty_min',\n",
       " 'mathOperationsQty_max',\n",
       " 'mathOperationsQty_std',\n",
       " 'variablesQty_mean',\n",
       " 'variablesQty_min',\n",
       " 'variablesQty_max',\n",
       " 'variablesQty_std',\n",
       " 'maxNestedBlocks_mean',\n",
       " 'maxNestedBlocks_min',\n",
       " 'maxNestedBlocks_max',\n",
       " 'maxNestedBlocks_std',\n",
       " 'anonymousClassesQty_mean',\n",
       " 'anonymousClassesQty_min',\n",
       " 'anonymousClassesQty_max',\n",
       " 'anonymousClassesQty_std',\n",
       " 'subClassesQty_mean',\n",
       " 'subClassesQty_min',\n",
       " 'subClassesQty_max',\n",
       " 'subClassesQty_std',\n",
       " 'lambdasQty_mean',\n",
       " 'lambdasQty_min',\n",
       " 'lambdasQty_max',\n",
       " 'lambdasQty_std',\n",
       " 'uniqueWordsQty_mean',\n",
       " 'uniqueWordsQty_min',\n",
       " 'uniqueWordsQty_max',\n",
       " 'uniqueWordsQty_std',\n",
       " 'modifiers_mean',\n",
       " 'modifiers_min',\n",
       " 'modifiers_max',\n",
       " 'modifiers_std',\n",
       " 'num_dependency_mean',\n",
       " 'num_line_affected_mean',\n",
       " 'refactoring_perc_time_taken']"
      ]
     },
     "execution_count": 463,
     "metadata": {},
     "output_type": "execute_result"
    }
   ],
   "source": [
    "final_col"
   ]
  },
  {
   "cell_type": "code",
   "execution_count": 464,
   "metadata": {},
   "outputs": [],
   "source": [
    "X_col = final_col.copy()\n",
    "X_col.remove('refactoring_perc_time_taken')\n",
    "Y_col = ['refactoring_perc_time_taken']\n",
    "\n",
    "X = main_df[X_col]\n",
    "y = main_df[Y_col]\n",
    "final_df = main_df[final_col]"
   ]
  },
  {
   "cell_type": "code",
   "execution_count": 465,
   "metadata": {},
   "outputs": [
    {
     "data": {
      "text/html": [
       "<div>\n",
       "<style scoped>\n",
       "    .dataframe tbody tr th:only-of-type {\n",
       "        vertical-align: middle;\n",
       "    }\n",
       "\n",
       "    .dataframe tbody tr th {\n",
       "        vertical-align: top;\n",
       "    }\n",
       "\n",
       "    .dataframe thead th {\n",
       "        text-align: right;\n",
       "    }\n",
       "</style>\n",
       "<table border=\"1\" class=\"dataframe\">\n",
       "  <thead>\n",
       "    <tr style=\"text-align: right;\">\n",
       "      <th></th>\n",
       "      <th>cbo_mean</th>\n",
       "      <th>cbo_min</th>\n",
       "      <th>cbo_max</th>\n",
       "      <th>cbo_std</th>\n",
       "      <th>wmc_mean</th>\n",
       "      <th>wmc_min</th>\n",
       "      <th>wmc_max</th>\n",
       "      <th>wmc_std</th>\n",
       "      <th>dit_mean</th>\n",
       "      <th>dit_min</th>\n",
       "      <th>...</th>\n",
       "      <th>uniqueWordsQty_mean</th>\n",
       "      <th>uniqueWordsQty_min</th>\n",
       "      <th>uniqueWordsQty_max</th>\n",
       "      <th>uniqueWordsQty_std</th>\n",
       "      <th>modifiers_mean</th>\n",
       "      <th>modifiers_min</th>\n",
       "      <th>modifiers_max</th>\n",
       "      <th>modifiers_std</th>\n",
       "      <th>num_dependency_mean</th>\n",
       "      <th>num_line_affected_mean</th>\n",
       "    </tr>\n",
       "  </thead>\n",
       "  <tbody>\n",
       "    <tr>\n",
       "      <th>2</th>\n",
       "      <td>11.0</td>\n",
       "      <td>11.0</td>\n",
       "      <td>11.0</td>\n",
       "      <td>0.00000</td>\n",
       "      <td>8.0</td>\n",
       "      <td>8.0</td>\n",
       "      <td>8.0</td>\n",
       "      <td>0.000000</td>\n",
       "      <td>2.0</td>\n",
       "      <td>2.0</td>\n",
       "      <td>...</td>\n",
       "      <td>58.0</td>\n",
       "      <td>58.0</td>\n",
       "      <td>58.0</td>\n",
       "      <td>0.00000</td>\n",
       "      <td>17.0</td>\n",
       "      <td>17.0</td>\n",
       "      <td>17.0</td>\n",
       "      <td>0.0</td>\n",
       "      <td>85.0</td>\n",
       "      <td>61.0</td>\n",
       "    </tr>\n",
       "    <tr>\n",
       "      <th>9</th>\n",
       "      <td>38.0</td>\n",
       "      <td>38.0</td>\n",
       "      <td>38.0</td>\n",
       "      <td>0.00000</td>\n",
       "      <td>57.0</td>\n",
       "      <td>57.0</td>\n",
       "      <td>57.0</td>\n",
       "      <td>0.000000</td>\n",
       "      <td>1.0</td>\n",
       "      <td>1.0</td>\n",
       "      <td>...</td>\n",
       "      <td>279.0</td>\n",
       "      <td>279.0</td>\n",
       "      <td>279.0</td>\n",
       "      <td>0.00000</td>\n",
       "      <td>17.0</td>\n",
       "      <td>17.0</td>\n",
       "      <td>17.0</td>\n",
       "      <td>0.0</td>\n",
       "      <td>322.0</td>\n",
       "      <td>764.0</td>\n",
       "    </tr>\n",
       "    <tr>\n",
       "      <th>11</th>\n",
       "      <td>4.0</td>\n",
       "      <td>4.0</td>\n",
       "      <td>4.0</td>\n",
       "      <td>0.00000</td>\n",
       "      <td>15.0</td>\n",
       "      <td>15.0</td>\n",
       "      <td>15.0</td>\n",
       "      <td>0.000000</td>\n",
       "      <td>1.0</td>\n",
       "      <td>1.0</td>\n",
       "      <td>...</td>\n",
       "      <td>108.0</td>\n",
       "      <td>108.0</td>\n",
       "      <td>108.0</td>\n",
       "      <td>0.00000</td>\n",
       "      <td>1.0</td>\n",
       "      <td>1.0</td>\n",
       "      <td>1.0</td>\n",
       "      <td>0.0</td>\n",
       "      <td>371.0</td>\n",
       "      <td>115.0</td>\n",
       "    </tr>\n",
       "    <tr>\n",
       "      <th>15</th>\n",
       "      <td>3.0</td>\n",
       "      <td>3.0</td>\n",
       "      <td>3.0</td>\n",
       "      <td>0.00000</td>\n",
       "      <td>5.0</td>\n",
       "      <td>5.0</td>\n",
       "      <td>5.0</td>\n",
       "      <td>0.000000</td>\n",
       "      <td>1.0</td>\n",
       "      <td>1.0</td>\n",
       "      <td>...</td>\n",
       "      <td>38.0</td>\n",
       "      <td>38.0</td>\n",
       "      <td>38.0</td>\n",
       "      <td>0.00000</td>\n",
       "      <td>16.0</td>\n",
       "      <td>16.0</td>\n",
       "      <td>16.0</td>\n",
       "      <td>0.0</td>\n",
       "      <td>23.0</td>\n",
       "      <td>47.0</td>\n",
       "    </tr>\n",
       "    <tr>\n",
       "      <th>0</th>\n",
       "      <td>21.5</td>\n",
       "      <td>20.0</td>\n",
       "      <td>23.0</td>\n",
       "      <td>2.12132</td>\n",
       "      <td>9.0</td>\n",
       "      <td>6.0</td>\n",
       "      <td>12.0</td>\n",
       "      <td>4.242641</td>\n",
       "      <td>3.0</td>\n",
       "      <td>3.0</td>\n",
       "      <td>...</td>\n",
       "      <td>68.0</td>\n",
       "      <td>54.0</td>\n",
       "      <td>82.0</td>\n",
       "      <td>19.79899</td>\n",
       "      <td>0.0</td>\n",
       "      <td>0.0</td>\n",
       "      <td>0.0</td>\n",
       "      <td>0.0</td>\n",
       "      <td>12.5</td>\n",
       "      <td>119.5</td>\n",
       "    </tr>\n",
       "  </tbody>\n",
       "</table>\n",
       "<p>5 rows × 162 columns</p>\n",
       "</div>"
      ],
      "text/plain": [
       "    cbo_mean  cbo_min  cbo_max  cbo_std  wmc_mean  wmc_min  wmc_max   wmc_std  \\\n",
       "2       11.0     11.0     11.0  0.00000       8.0      8.0      8.0  0.000000   \n",
       "9       38.0     38.0     38.0  0.00000      57.0     57.0     57.0  0.000000   \n",
       "11       4.0      4.0      4.0  0.00000      15.0     15.0     15.0  0.000000   \n",
       "15       3.0      3.0      3.0  0.00000       5.0      5.0      5.0  0.000000   \n",
       "0       21.5     20.0     23.0  2.12132       9.0      6.0     12.0  4.242641   \n",
       "\n",
       "    dit_mean  dit_min  ...  uniqueWordsQty_mean  uniqueWordsQty_min  \\\n",
       "2        2.0      2.0  ...                 58.0                58.0   \n",
       "9        1.0      1.0  ...                279.0               279.0   \n",
       "11       1.0      1.0  ...                108.0               108.0   \n",
       "15       1.0      1.0  ...                 38.0                38.0   \n",
       "0        3.0      3.0  ...                 68.0                54.0   \n",
       "\n",
       "    uniqueWordsQty_max  uniqueWordsQty_std  modifiers_mean  modifiers_min  \\\n",
       "2                 58.0             0.00000            17.0           17.0   \n",
       "9                279.0             0.00000            17.0           17.0   \n",
       "11               108.0             0.00000             1.0            1.0   \n",
       "15                38.0             0.00000            16.0           16.0   \n",
       "0                 82.0            19.79899             0.0            0.0   \n",
       "\n",
       "    modifiers_max  modifiers_std  num_dependency_mean  num_line_affected_mean  \n",
       "2            17.0            0.0                 85.0                    61.0  \n",
       "9            17.0            0.0                322.0                   764.0  \n",
       "11            1.0            0.0                371.0                   115.0  \n",
       "15           16.0            0.0                 23.0                    47.0  \n",
       "0             0.0            0.0                 12.5                   119.5  \n",
       "\n",
       "[5 rows x 162 columns]"
      ]
     },
     "execution_count": 465,
     "metadata": {},
     "output_type": "execute_result"
    }
   ],
   "source": [
    "X.head()"
   ]
  },
  {
   "cell_type": "code",
   "execution_count": 466,
   "metadata": {},
   "outputs": [
    {
     "data": {
      "text/html": [
       "<div>\n",
       "<style scoped>\n",
       "    .dataframe tbody tr th:only-of-type {\n",
       "        vertical-align: middle;\n",
       "    }\n",
       "\n",
       "    .dataframe tbody tr th {\n",
       "        vertical-align: top;\n",
       "    }\n",
       "\n",
       "    .dataframe thead th {\n",
       "        text-align: right;\n",
       "    }\n",
       "</style>\n",
       "<table border=\"1\" class=\"dataframe\">\n",
       "  <thead>\n",
       "    <tr style=\"text-align: right;\">\n",
       "      <th></th>\n",
       "      <th>refactoring_perc_time_taken</th>\n",
       "    </tr>\n",
       "  </thead>\n",
       "  <tbody>\n",
       "    <tr>\n",
       "      <th>2</th>\n",
       "      <td>15.000000</td>\n",
       "    </tr>\n",
       "    <tr>\n",
       "      <th>9</th>\n",
       "      <td>10.000000</td>\n",
       "    </tr>\n",
       "    <tr>\n",
       "      <th>11</th>\n",
       "      <td>9.487500</td>\n",
       "    </tr>\n",
       "    <tr>\n",
       "      <th>15</th>\n",
       "      <td>5.340909</td>\n",
       "    </tr>\n",
       "    <tr>\n",
       "      <th>0</th>\n",
       "      <td>2.051282</td>\n",
       "    </tr>\n",
       "  </tbody>\n",
       "</table>\n",
       "</div>"
      ],
      "text/plain": [
       "    refactoring_perc_time_taken\n",
       "2                     15.000000\n",
       "9                     10.000000\n",
       "11                     9.487500\n",
       "15                     5.340909\n",
       "0                      2.051282"
      ]
     },
     "execution_count": 466,
     "metadata": {},
     "output_type": "execute_result"
    }
   ],
   "source": [
    "y.head()"
   ]
  },
  {
   "cell_type": "code",
   "execution_count": 467,
   "metadata": {},
   "outputs": [],
   "source": [
    "from sklearn.model_selection import train_test_split\n",
    "X_train, X_test, y_train, y_test = train_test_split(X, y, test_size=0.33, random_state=16)"
   ]
  },
  {
   "cell_type": "code",
   "execution_count": 468,
   "metadata": {},
   "outputs": [
    {
     "name": "stdout",
     "output_type": "stream",
     "text": [
      "Checking whether there is an H2O instance running at http://localhost:54321 . connected.\n",
      "Warning: Your H2O cluster version is too old (3 months and 15 days)! Please download and install the latest version from http://h2o.ai/download/\n"
     ]
    },
    {
     "data": {
      "text/html": [
       "<div style=\"overflow:auto\"><table style=\"width:50%\"><tr><td>H2O_cluster_uptime:</td>\n",
       "<td>3 hours 27 mins</td></tr>\n",
       "<tr><td>H2O_cluster_timezone:</td>\n",
       "<td>Asia/Kuala_Lumpur</td></tr>\n",
       "<tr><td>H2O_data_parsing_timezone:</td>\n",
       "<td>UTC</td></tr>\n",
       "<tr><td>H2O_cluster_version:</td>\n",
       "<td>3.32.1.7</td></tr>\n",
       "<tr><td>H2O_cluster_version_age:</td>\n",
       "<td>3 months and 15 days !!!</td></tr>\n",
       "<tr><td>H2O_cluster_name:</td>\n",
       "<td>H2O_from_python_tanji_eafnu9</td></tr>\n",
       "<tr><td>H2O_cluster_total_nodes:</td>\n",
       "<td>1</td></tr>\n",
       "<tr><td>H2O_cluster_free_memory:</td>\n",
       "<td>7.876 Gb</td></tr>\n",
       "<tr><td>H2O_cluster_total_cores:</td>\n",
       "<td>12</td></tr>\n",
       "<tr><td>H2O_cluster_allowed_cores:</td>\n",
       "<td>4</td></tr>\n",
       "<tr><td>H2O_cluster_status:</td>\n",
       "<td>locked, healthy</td></tr>\n",
       "<tr><td>H2O_connection_url:</td>\n",
       "<td>http://localhost:54321</td></tr>\n",
       "<tr><td>H2O_connection_proxy:</td>\n",
       "<td>{\"http\": null, \"https\": null}</td></tr>\n",
       "<tr><td>H2O_internal_security:</td>\n",
       "<td>False</td></tr>\n",
       "<tr><td>H2O_API_Extensions:</td>\n",
       "<td>Amazon S3, Algos, AutoML, Core V3, TargetEncoder, Core V4</td></tr>\n",
       "<tr><td>Python_version:</td>\n",
       "<td>3.7.3 final</td></tr></table></div>"
      ],
      "text/plain": [
       "--------------------------  ---------------------------------------------------------\n",
       "H2O_cluster_uptime:         3 hours 27 mins\n",
       "H2O_cluster_timezone:       Asia/Kuala_Lumpur\n",
       "H2O_data_parsing_timezone:  UTC\n",
       "H2O_cluster_version:        3.32.1.7\n",
       "H2O_cluster_version_age:    3 months and 15 days !!!\n",
       "H2O_cluster_name:           H2O_from_python_tanji_eafnu9\n",
       "H2O_cluster_total_nodes:    1\n",
       "H2O_cluster_free_memory:    7.876 Gb\n",
       "H2O_cluster_total_cores:    12\n",
       "H2O_cluster_allowed_cores:  4\n",
       "H2O_cluster_status:         locked, healthy\n",
       "H2O_connection_url:         http://localhost:54321\n",
       "H2O_connection_proxy:       {\"http\": null, \"https\": null}\n",
       "H2O_internal_security:      False\n",
       "H2O_API_Extensions:         Amazon S3, Algos, AutoML, Core V3, TargetEncoder, Core V4\n",
       "Python_version:             3.7.3 final\n",
       "--------------------------  ---------------------------------------------------------"
      ]
     },
     "metadata": {},
     "output_type": "display_data"
    }
   ],
   "source": [
    "h2o.init(nthreads=4)"
   ]
  },
  {
   "cell_type": "code",
   "execution_count": 469,
   "metadata": {},
   "outputs": [
    {
     "name": "stdout",
     "output_type": "stream",
     "text": [
      "Parse progress: |█████████████████████████████████████████████████████████| 100%\n"
     ]
    }
   ],
   "source": [
    "from h2o.automl import H2OAutoML\n",
    "\n",
    "full = h2o.H2OFrame(final_df)\n",
    "train,test = full.split_frame(ratios=[.7])\n",
    "\n",
    "\n",
    "x = train.columns\n",
    "y = \"refactoring_perc_time_taken\"\n",
    "x.remove(y)\n",
    "\n"
   ]
  },
  {
   "cell_type": "code",
   "execution_count": 470,
   "metadata": {},
   "outputs": [
    {
     "data": {
      "text/plain": [
       "{'cbo_mean': 'real',\n",
       " 'cbo_min': 'int',\n",
       " 'cbo_max': 'int',\n",
       " 'cbo_std': 'real',\n",
       " 'wmc_mean': 'real',\n",
       " 'wmc_min': 'int',\n",
       " 'wmc_max': 'int',\n",
       " 'wmc_std': 'real',\n",
       " 'dit_mean': 'real',\n",
       " 'dit_min': 'int',\n",
       " 'dit_max': 'int',\n",
       " 'dit_std': 'real',\n",
       " 'rfc_mean': 'real',\n",
       " 'rfc_min': 'int',\n",
       " 'rfc_max': 'int',\n",
       " 'rfc_std': 'real',\n",
       " 'lcom_mean': 'real',\n",
       " 'lcom_min': 'int',\n",
       " 'lcom_max': 'int',\n",
       " 'lcom_std': 'real',\n",
       " 'totalMethods_mean': 'real',\n",
       " 'totalMethods_min': 'int',\n",
       " 'totalMethods_max': 'int',\n",
       " 'totalMethods_std': 'real',\n",
       " 'staticMethods_mean': 'real',\n",
       " 'staticMethods_min': 'int',\n",
       " 'staticMethods_max': 'int',\n",
       " 'staticMethods_std': 'real',\n",
       " 'publicMethods_mean': 'real',\n",
       " 'publicMethods_min': 'int',\n",
       " 'publicMethods_max': 'int',\n",
       " 'publicMethods_std': 'real',\n",
       " 'privateMethods_mean': 'real',\n",
       " 'privateMethods_min': 'int',\n",
       " 'privateMethods_max': 'int',\n",
       " 'privateMethods_std': 'real',\n",
       " 'protectedMethods_mean': 'real',\n",
       " 'protectedMethods_min': 'int',\n",
       " 'protectedMethods_max': 'int',\n",
       " 'protectedMethods_std': 'real',\n",
       " 'defaultMethods_mean': 'real',\n",
       " 'defaultMethods_min': 'int',\n",
       " 'defaultMethods_max': 'int',\n",
       " 'defaultMethods_std': 'real',\n",
       " 'abstractMethods_mean': 'int',\n",
       " 'abstractMethods_min': 'int',\n",
       " 'abstractMethods_max': 'int',\n",
       " 'abstractMethods_std': 'int',\n",
       " 'finalMethods_mean': 'int',\n",
       " 'finalMethods_min': 'int',\n",
       " 'finalMethods_max': 'int',\n",
       " 'finalMethods_std': 'int',\n",
       " 'synchronizedMethods_mean': 'int',\n",
       " 'synchronizedMethods_min': 'int',\n",
       " 'synchronizedMethods_max': 'int',\n",
       " 'synchronizedMethods_std': 'int',\n",
       " 'totalFields_mean': 'real',\n",
       " 'totalFields_min': 'int',\n",
       " 'totalFields_max': 'int',\n",
       " 'totalFields_std': 'real',\n",
       " 'staticFields_mean': 'real',\n",
       " 'staticFields_min': 'int',\n",
       " 'staticFields_max': 'int',\n",
       " 'staticFields_std': 'real',\n",
       " 'publicFields_mean': 'real',\n",
       " 'publicFields_min': 'int',\n",
       " 'publicFields_max': 'int',\n",
       " 'publicFields_std': 'real',\n",
       " 'privateFields_mean': 'real',\n",
       " 'privateFields_min': 'int',\n",
       " 'privateFields_max': 'int',\n",
       " 'privateFields_std': 'real',\n",
       " 'protectedFields_mean': 'real',\n",
       " 'protectedFields_min': 'int',\n",
       " 'protectedFields_max': 'int',\n",
       " 'protectedFields_std': 'real',\n",
       " 'defaultFields_mean': 'int',\n",
       " 'defaultFields_min': 'int',\n",
       " 'defaultFields_max': 'int',\n",
       " 'defaultFields_std': 'int',\n",
       " 'finalFields_mean': 'real',\n",
       " 'finalFields_min': 'int',\n",
       " 'finalFields_max': 'int',\n",
       " 'finalFields_std': 'real',\n",
       " 'synchronizedFields_mean': 'int',\n",
       " 'synchronizedFields_min': 'int',\n",
       " 'synchronizedFields_max': 'int',\n",
       " 'synchronizedFields_std': 'int',\n",
       " 'nosi_mean': 'real',\n",
       " 'nosi_min': 'int',\n",
       " 'nosi_max': 'int',\n",
       " 'nosi_std': 'real',\n",
       " 'loc_mean': 'real',\n",
       " 'loc_min': 'int',\n",
       " 'loc_max': 'int',\n",
       " 'loc_std': 'real',\n",
       " 'returnQty_mean': 'real',\n",
       " 'returnQty_min': 'int',\n",
       " 'returnQty_max': 'int',\n",
       " 'returnQty_std': 'real',\n",
       " 'loopQty_mean': 'real',\n",
       " 'loopQty_min': 'int',\n",
       " 'loopQty_max': 'int',\n",
       " 'loopQty_std': 'real',\n",
       " 'comparisonsQty_mean': 'real',\n",
       " 'comparisonsQty_min': 'int',\n",
       " 'comparisonsQty_max': 'int',\n",
       " 'comparisonsQty_std': 'real',\n",
       " 'tryCatchQty_mean': 'real',\n",
       " 'tryCatchQty_min': 'int',\n",
       " 'tryCatchQty_max': 'int',\n",
       " 'tryCatchQty_std': 'real',\n",
       " 'parenthesizedExpsQty_mean': 'real',\n",
       " 'parenthesizedExpsQty_min': 'int',\n",
       " 'parenthesizedExpsQty_max': 'int',\n",
       " 'parenthesizedExpsQty_std': 'real',\n",
       " 'stringLiteralsQty_mean': 'real',\n",
       " 'stringLiteralsQty_min': 'int',\n",
       " 'stringLiteralsQty_max': 'int',\n",
       " 'stringLiteralsQty_std': 'real',\n",
       " 'numbersQty_mean': 'real',\n",
       " 'numbersQty_min': 'int',\n",
       " 'numbersQty_max': 'int',\n",
       " 'numbersQty_std': 'real',\n",
       " 'assignmentsQty_mean': 'real',\n",
       " 'assignmentsQty_min': 'int',\n",
       " 'assignmentsQty_max': 'int',\n",
       " 'assignmentsQty_std': 'real',\n",
       " 'mathOperationsQty_mean': 'real',\n",
       " 'mathOperationsQty_min': 'int',\n",
       " 'mathOperationsQty_max': 'int',\n",
       " 'mathOperationsQty_std': 'real',\n",
       " 'variablesQty_mean': 'real',\n",
       " 'variablesQty_min': 'int',\n",
       " 'variablesQty_max': 'int',\n",
       " 'variablesQty_std': 'real',\n",
       " 'maxNestedBlocks_mean': 'real',\n",
       " 'maxNestedBlocks_min': 'int',\n",
       " 'maxNestedBlocks_max': 'int',\n",
       " 'maxNestedBlocks_std': 'real',\n",
       " 'anonymousClassesQty_mean': 'real',\n",
       " 'anonymousClassesQty_min': 'int',\n",
       " 'anonymousClassesQty_max': 'int',\n",
       " 'anonymousClassesQty_std': 'real',\n",
       " 'subClassesQty_mean': 'real',\n",
       " 'subClassesQty_min': 'int',\n",
       " 'subClassesQty_max': 'int',\n",
       " 'subClassesQty_std': 'real',\n",
       " 'lambdasQty_mean': 'real',\n",
       " 'lambdasQty_min': 'int',\n",
       " 'lambdasQty_max': 'int',\n",
       " 'lambdasQty_std': 'real',\n",
       " 'uniqueWordsQty_mean': 'real',\n",
       " 'uniqueWordsQty_min': 'int',\n",
       " 'uniqueWordsQty_max': 'int',\n",
       " 'uniqueWordsQty_std': 'real',\n",
       " 'modifiers_mean': 'real',\n",
       " 'modifiers_min': 'int',\n",
       " 'modifiers_max': 'int',\n",
       " 'modifiers_std': 'real',\n",
       " 'num_dependency_mean': 'real',\n",
       " 'num_line_affected_mean': 'real'}"
      ]
     },
     "execution_count": 470,
     "metadata": {},
     "output_type": "execute_result"
    }
   ],
   "source": [
    "train[x].types"
   ]
  },
  {
   "cell_type": "code",
   "execution_count": 471,
   "metadata": {},
   "outputs": [
    {
     "data": {
      "text/plain": [
       "{'refactoring_perc_time_taken': 'real'}"
      ]
     },
     "execution_count": 471,
     "metadata": {},
     "output_type": "execute_result"
    }
   ],
   "source": [
    "train[y].types"
   ]
  },
  {
   "cell_type": "code",
   "execution_count": 472,
   "metadata": {},
   "outputs": [
    {
     "name": "stdout",
     "output_type": "stream",
     "text": [
      "AutoML progress: |███████\n",
      "09:41:14.212: Skipping training of model GBM_5_AutoML_20211218_094109 due to exception: water.exceptions.H2OModelBuilderIllegalArgumentException: Illegal argument(s) for GBM model: GBM_5_AutoML_20211218_094109.  Details: ERRR on field: _min_rows: The dataset size is too small to split for min_rows=100.0: must have at least 200.0 (weighted) rows, but have only 65.0.\n",
      "\n",
      "\n",
      "█████████████████████████████████████████████████| 100%\n"
     ]
    }
   ],
   "source": [
    "aml = H2OAutoML(max_models=10, seed=16, exclude_algos=['XGBoost', 'GLM'], exploitation_ratio=0.1)\n",
    "#aml = H2OAutoML(max_models=10, seed=1, include_algos=['GLM'])\n",
    "aml.train(x=x, y=y, training_frame=train)"
   ]
  },
  {
   "cell_type": "code",
   "execution_count": 473,
   "metadata": {},
   "outputs": [
    {
     "data": {
      "text/html": [
       "<table>\n",
       "<thead>\n",
       "<tr><th>model_id                                           </th><th style=\"text-align: right;\">  mean_residual_deviance</th><th style=\"text-align: right;\">    rmse</th><th style=\"text-align: right;\">      mse</th><th style=\"text-align: right;\">     mae</th><th style=\"text-align: right;\">     rmsle</th></tr>\n",
       "</thead>\n",
       "<tbody>\n",
       "<tr><td>GBM_3_AutoML_20211218_094109                       </td><td style=\"text-align: right;\">                 75.0922</td><td style=\"text-align: right;\"> 8.66557</td><td style=\"text-align: right;\">  75.0922</td><td style=\"text-align: right;\"> 7.14097</td><td style=\"text-align: right;\">  0.730541</td></tr>\n",
       "<tr><td>XRT_1_AutoML_20211218_094109                       </td><td style=\"text-align: right;\">                 75.4792</td><td style=\"text-align: right;\"> 8.68788</td><td style=\"text-align: right;\">  75.4792</td><td style=\"text-align: right;\"> 7.076  </td><td style=\"text-align: right;\">  0.72166 </td></tr>\n",
       "<tr><td>GBM_grid__1_AutoML_20211218_094109_model_2         </td><td style=\"text-align: right;\">                 75.9605</td><td style=\"text-align: right;\"> 8.71553</td><td style=\"text-align: right;\">  75.9605</td><td style=\"text-align: right;\"> 7.0745 </td><td style=\"text-align: right;\">  0.724309</td></tr>\n",
       "<tr><td>StackedEnsemble_AllModels_AutoML_20211218_094109   </td><td style=\"text-align: right;\">                 77.3073</td><td style=\"text-align: right;\"> 8.79246</td><td style=\"text-align: right;\">  77.3073</td><td style=\"text-align: right;\"> 7.18857</td><td style=\"text-align: right;\">  0.738041</td></tr>\n",
       "<tr><td>GBM_grid__1_AutoML_20211218_094109_model_1         </td><td style=\"text-align: right;\">                 77.3514</td><td style=\"text-align: right;\"> 8.79496</td><td style=\"text-align: right;\">  77.3514</td><td style=\"text-align: right;\"> 6.86085</td><td style=\"text-align: right;\">  0.72135 </td></tr>\n",
       "<tr><td>StackedEnsemble_BestOfFamily_AutoML_20211218_094109</td><td style=\"text-align: right;\">                 77.3563</td><td style=\"text-align: right;\"> 8.79524</td><td style=\"text-align: right;\">  77.3563</td><td style=\"text-align: right;\"> 7.17915</td><td style=\"text-align: right;\">  0.73972 </td></tr>\n",
       "<tr><td>GBM_4_AutoML_20211218_094109                       </td><td style=\"text-align: right;\">                 77.4958</td><td style=\"text-align: right;\"> 8.80317</td><td style=\"text-align: right;\">  77.4958</td><td style=\"text-align: right;\"> 7.39343</td><td style=\"text-align: right;\">  0.740607</td></tr>\n",
       "<tr><td>GBM_2_AutoML_20211218_094109                       </td><td style=\"text-align: right;\">                 78.9432</td><td style=\"text-align: right;\"> 8.885  </td><td style=\"text-align: right;\">  78.9432</td><td style=\"text-align: right;\"> 7.30103</td><td style=\"text-align: right;\">  0.731559</td></tr>\n",
       "<tr><td>GBM_1_AutoML_20211218_094109                       </td><td style=\"text-align: right;\">                 79.2631</td><td style=\"text-align: right;\"> 8.90298</td><td style=\"text-align: right;\">  79.2631</td><td style=\"text-align: right;\"> 7.19651</td><td style=\"text-align: right;\">  0.723675</td></tr>\n",
       "<tr><td>DRF_1_AutoML_20211218_094109                       </td><td style=\"text-align: right;\">                 80.7739</td><td style=\"text-align: right;\"> 8.98743</td><td style=\"text-align: right;\">  80.7739</td><td style=\"text-align: right;\"> 7.2849 </td><td style=\"text-align: right;\">  0.718162</td></tr>\n",
       "<tr><td>DeepLearning_grid__1_AutoML_20211218_094109_model_1</td><td style=\"text-align: right;\">                263.935 </td><td style=\"text-align: right;\">16.2461 </td><td style=\"text-align: right;\"> 263.935 </td><td style=\"text-align: right;\">10.2554 </td><td style=\"text-align: right;\">nan       </td></tr>\n",
       "<tr><td>DeepLearning_1_AutoML_20211218_094109              </td><td style=\"text-align: right;\">               1470.24  </td><td style=\"text-align: right;\">38.3438 </td><td style=\"text-align: right;\">1470.24  </td><td style=\"text-align: right;\">16.5928 </td><td style=\"text-align: right;\">nan       </td></tr>\n",
       "</tbody>\n",
       "</table>"
      ]
     },
     "metadata": {},
     "output_type": "display_data"
    },
    {
     "data": {
      "text/plain": []
     },
     "execution_count": 473,
     "metadata": {},
     "output_type": "execute_result"
    }
   ],
   "source": [
    "lb = aml.leaderboard\n",
    "lb.head(rows=lb.nrows)"
   ]
  },
  {
   "cell_type": "code",
   "execution_count": 474,
   "metadata": {},
   "outputs": [],
   "source": [
    "model = h2o.get_model(lb[0,'model_id'])"
   ]
  },
  {
   "cell_type": "code",
   "execution_count": 475,
   "metadata": {
    "scrolled": true
   },
   "outputs": [
    {
     "name": "stdout",
     "output_type": "stream",
     "text": [
      "Model Details\n",
      "=============\n",
      "H2OGradientBoostingEstimator :  Gradient Boosting Machine\n",
      "Model Key:  GBM_3_AutoML_20211218_094109\n",
      "\n",
      "\n",
      "Model Summary: \n"
     ]
    },
    {
     "data": {
      "text/html": [
       "<div>\n",
       "<style scoped>\n",
       "    .dataframe tbody tr th:only-of-type {\n",
       "        vertical-align: middle;\n",
       "    }\n",
       "\n",
       "    .dataframe tbody tr th {\n",
       "        vertical-align: top;\n",
       "    }\n",
       "\n",
       "    .dataframe thead th {\n",
       "        text-align: right;\n",
       "    }\n",
       "</style>\n",
       "<table border=\"1\" class=\"dataframe\">\n",
       "  <thead>\n",
       "    <tr style=\"text-align: right;\">\n",
       "      <th></th>\n",
       "      <th></th>\n",
       "      <th>number_of_trees</th>\n",
       "      <th>number_of_internal_trees</th>\n",
       "      <th>model_size_in_bytes</th>\n",
       "      <th>min_depth</th>\n",
       "      <th>max_depth</th>\n",
       "      <th>mean_depth</th>\n",
       "      <th>min_leaves</th>\n",
       "      <th>max_leaves</th>\n",
       "      <th>mean_leaves</th>\n",
       "    </tr>\n",
       "  </thead>\n",
       "  <tbody>\n",
       "    <tr>\n",
       "      <th>0</th>\n",
       "      <td></td>\n",
       "      <td>36.0</td>\n",
       "      <td>36.0</td>\n",
       "      <td>4019.0</td>\n",
       "      <td>2.0</td>\n",
       "      <td>4.0</td>\n",
       "      <td>3.027778</td>\n",
       "      <td>3.0</td>\n",
       "      <td>5.0</td>\n",
       "      <td>4.194445</td>\n",
       "    </tr>\n",
       "  </tbody>\n",
       "</table>\n",
       "</div>"
      ],
      "text/plain": [
       "     number_of_trees  number_of_internal_trees  model_size_in_bytes  \\\n",
       "0               36.0                      36.0               4019.0   \n",
       "\n",
       "   min_depth  max_depth  mean_depth  min_leaves  max_leaves  mean_leaves  \n",
       "0        2.0        4.0    3.027778         3.0         5.0     4.194445  "
      ]
     },
     "metadata": {},
     "output_type": "display_data"
    },
    {
     "name": "stdout",
     "output_type": "stream",
     "text": [
      "\n",
      "\n",
      "ModelMetricsRegression: gbm\n",
      "** Reported on train data. **\n",
      "\n",
      "MSE: 20.44073808063904\n",
      "RMSE: 4.521143448358948\n",
      "MAE: 3.518501248726478\n",
      "RMSLE: 0.41390318036615775\n",
      "Mean Residual Deviance: 20.44073808063904\n",
      "\n",
      "ModelMetricsRegression: gbm\n",
      "** Reported on cross-validation data. **\n",
      "\n",
      "MSE: 75.09216777664216\n",
      "RMSE: 8.66557371306956\n",
      "MAE: 7.140970269687863\n",
      "RMSLE: 0.730541231308659\n",
      "Mean Residual Deviance: 75.09216777664216\n",
      "\n",
      "Cross-Validation Metrics Summary: \n"
     ]
    },
    {
     "data": {
      "text/html": [
       "<div>\n",
       "<style scoped>\n",
       "    .dataframe tbody tr th:only-of-type {\n",
       "        vertical-align: middle;\n",
       "    }\n",
       "\n",
       "    .dataframe tbody tr th {\n",
       "        vertical-align: top;\n",
       "    }\n",
       "\n",
       "    .dataframe thead th {\n",
       "        text-align: right;\n",
       "    }\n",
       "</style>\n",
       "<table border=\"1\" class=\"dataframe\">\n",
       "  <thead>\n",
       "    <tr style=\"text-align: right;\">\n",
       "      <th></th>\n",
       "      <th></th>\n",
       "      <th>mean</th>\n",
       "      <th>sd</th>\n",
       "      <th>cv_1_valid</th>\n",
       "      <th>cv_2_valid</th>\n",
       "      <th>cv_3_valid</th>\n",
       "      <th>cv_4_valid</th>\n",
       "      <th>cv_5_valid</th>\n",
       "    </tr>\n",
       "  </thead>\n",
       "  <tbody>\n",
       "    <tr>\n",
       "      <th>0</th>\n",
       "      <td>mae</td>\n",
       "      <td>7.14097</td>\n",
       "      <td>1.6656622</td>\n",
       "      <td>7.780175</td>\n",
       "      <td>8.343046</td>\n",
       "      <td>4.708797</td>\n",
       "      <td>8.6922245</td>\n",
       "      <td>6.1806083</td>\n",
       "    </tr>\n",
       "    <tr>\n",
       "      <th>1</th>\n",
       "      <td>mean_residual_deviance</td>\n",
       "      <td>75.09217</td>\n",
       "      <td>25.949245</td>\n",
       "      <td>83.34791</td>\n",
       "      <td>101.02975</td>\n",
       "      <td>41.3515</td>\n",
       "      <td>95.04012</td>\n",
       "      <td>54.691563</td>\n",
       "    </tr>\n",
       "    <tr>\n",
       "      <th>2</th>\n",
       "      <td>mse</td>\n",
       "      <td>75.09217</td>\n",
       "      <td>25.949245</td>\n",
       "      <td>83.34791</td>\n",
       "      <td>101.02975</td>\n",
       "      <td>41.3515</td>\n",
       "      <td>95.04012</td>\n",
       "      <td>54.691563</td>\n",
       "    </tr>\n",
       "    <tr>\n",
       "      <th>3</th>\n",
       "      <td>r2</td>\n",
       "      <td>-0.11853469</td>\n",
       "      <td>0.37485796</td>\n",
       "      <td>-0.11501855</td>\n",
       "      <td>0.040612254</td>\n",
       "      <td>0.42042333</td>\n",
       "      <td>-0.4771549</td>\n",
       "      <td>-0.4615356</td>\n",
       "    </tr>\n",
       "    <tr>\n",
       "      <th>4</th>\n",
       "      <td>residual_deviance</td>\n",
       "      <td>75.09217</td>\n",
       "      <td>25.949245</td>\n",
       "      <td>83.34791</td>\n",
       "      <td>101.02975</td>\n",
       "      <td>41.3515</td>\n",
       "      <td>95.04012</td>\n",
       "      <td>54.691563</td>\n",
       "    </tr>\n",
       "    <tr>\n",
       "      <th>5</th>\n",
       "      <td>rmse</td>\n",
       "      <td>8.551121</td>\n",
       "      <td>1.5694363</td>\n",
       "      <td>9.129507</td>\n",
       "      <td>10.051355</td>\n",
       "      <td>6.4305134</td>\n",
       "      <td>9.748853</td>\n",
       "      <td>7.3953743</td>\n",
       "    </tr>\n",
       "    <tr>\n",
       "      <th>6</th>\n",
       "      <td>rmsle</td>\n",
       "      <td>0.7210391</td>\n",
       "      <td>0.13130632</td>\n",
       "      <td>0.8016694</td>\n",
       "      <td>0.77035034</td>\n",
       "      <td>0.4904536</td>\n",
       "      <td>0.8013468</td>\n",
       "      <td>0.74137545</td>\n",
       "    </tr>\n",
       "  </tbody>\n",
       "</table>\n",
       "</div>"
      ],
      "text/plain": [
       "                                  mean          sd   cv_1_valid   cv_2_valid  \\\n",
       "0                     mae      7.14097   1.6656622     7.780175     8.343046   \n",
       "1  mean_residual_deviance     75.09217   25.949245     83.34791    101.02975   \n",
       "2                     mse     75.09217   25.949245     83.34791    101.02975   \n",
       "3                      r2  -0.11853469  0.37485796  -0.11501855  0.040612254   \n",
       "4       residual_deviance     75.09217   25.949245     83.34791    101.02975   \n",
       "5                    rmse     8.551121   1.5694363     9.129507    10.051355   \n",
       "6                   rmsle    0.7210391  0.13130632    0.8016694   0.77035034   \n",
       "\n",
       "   cv_3_valid  cv_4_valid  cv_5_valid  \n",
       "0    4.708797   8.6922245   6.1806083  \n",
       "1     41.3515    95.04012   54.691563  \n",
       "2     41.3515    95.04012   54.691563  \n",
       "3  0.42042333  -0.4771549  -0.4615356  \n",
       "4     41.3515    95.04012   54.691563  \n",
       "5   6.4305134    9.748853   7.3953743  \n",
       "6   0.4904536   0.8013468  0.74137545  "
      ]
     },
     "metadata": {},
     "output_type": "display_data"
    },
    {
     "name": "stdout",
     "output_type": "stream",
     "text": [
      "\n",
      "Scoring History: \n"
     ]
    },
    {
     "data": {
      "text/html": [
       "<div>\n",
       "<style scoped>\n",
       "    .dataframe tbody tr th:only-of-type {\n",
       "        vertical-align: middle;\n",
       "    }\n",
       "\n",
       "    .dataframe tbody tr th {\n",
       "        vertical-align: top;\n",
       "    }\n",
       "\n",
       "    .dataframe thead th {\n",
       "        text-align: right;\n",
       "    }\n",
       "</style>\n",
       "<table border=\"1\" class=\"dataframe\">\n",
       "  <thead>\n",
       "    <tr style=\"text-align: right;\">\n",
       "      <th></th>\n",
       "      <th></th>\n",
       "      <th>timestamp</th>\n",
       "      <th>duration</th>\n",
       "      <th>number_of_trees</th>\n",
       "      <th>training_rmse</th>\n",
       "      <th>training_mae</th>\n",
       "      <th>training_deviance</th>\n",
       "    </tr>\n",
       "  </thead>\n",
       "  <tbody>\n",
       "    <tr>\n",
       "      <th>0</th>\n",
       "      <td></td>\n",
       "      <td>2021-12-18 09:41:12</td>\n",
       "      <td>0.321 sec</td>\n",
       "      <td>0.0</td>\n",
       "      <td>8.693611</td>\n",
       "      <td>7.001351</td>\n",
       "      <td>75.578879</td>\n",
       "    </tr>\n",
       "    <tr>\n",
       "      <th>1</th>\n",
       "      <td></td>\n",
       "      <td>2021-12-18 09:41:12</td>\n",
       "      <td>0.334 sec</td>\n",
       "      <td>5.0</td>\n",
       "      <td>7.476047</td>\n",
       "      <td>6.019336</td>\n",
       "      <td>55.891284</td>\n",
       "    </tr>\n",
       "    <tr>\n",
       "      <th>2</th>\n",
       "      <td></td>\n",
       "      <td>2021-12-18 09:41:12</td>\n",
       "      <td>0.348 sec</td>\n",
       "      <td>10.0</td>\n",
       "      <td>6.744302</td>\n",
       "      <td>5.494907</td>\n",
       "      <td>45.485609</td>\n",
       "    </tr>\n",
       "    <tr>\n",
       "      <th>3</th>\n",
       "      <td></td>\n",
       "      <td>2021-12-18 09:41:12</td>\n",
       "      <td>0.360 sec</td>\n",
       "      <td>15.0</td>\n",
       "      <td>6.244915</td>\n",
       "      <td>5.007897</td>\n",
       "      <td>38.998969</td>\n",
       "    </tr>\n",
       "    <tr>\n",
       "      <th>4</th>\n",
       "      <td></td>\n",
       "      <td>2021-12-18 09:41:12</td>\n",
       "      <td>0.373 sec</td>\n",
       "      <td>20.0</td>\n",
       "      <td>5.674870</td>\n",
       "      <td>4.534159</td>\n",
       "      <td>32.204147</td>\n",
       "    </tr>\n",
       "    <tr>\n",
       "      <th>5</th>\n",
       "      <td></td>\n",
       "      <td>2021-12-18 09:41:12</td>\n",
       "      <td>0.386 sec</td>\n",
       "      <td>25.0</td>\n",
       "      <td>5.330535</td>\n",
       "      <td>4.225631</td>\n",
       "      <td>28.414602</td>\n",
       "    </tr>\n",
       "    <tr>\n",
       "      <th>6</th>\n",
       "      <td></td>\n",
       "      <td>2021-12-18 09:41:12</td>\n",
       "      <td>0.398 sec</td>\n",
       "      <td>30.0</td>\n",
       "      <td>4.894254</td>\n",
       "      <td>3.816630</td>\n",
       "      <td>23.953720</td>\n",
       "    </tr>\n",
       "    <tr>\n",
       "      <th>7</th>\n",
       "      <td></td>\n",
       "      <td>2021-12-18 09:41:12</td>\n",
       "      <td>0.410 sec</td>\n",
       "      <td>35.0</td>\n",
       "      <td>4.589062</td>\n",
       "      <td>3.549989</td>\n",
       "      <td>21.059494</td>\n",
       "    </tr>\n",
       "    <tr>\n",
       "      <th>8</th>\n",
       "      <td></td>\n",
       "      <td>2021-12-18 09:41:12</td>\n",
       "      <td>0.413 sec</td>\n",
       "      <td>36.0</td>\n",
       "      <td>4.521143</td>\n",
       "      <td>3.518501</td>\n",
       "      <td>20.440738</td>\n",
       "    </tr>\n",
       "  </tbody>\n",
       "</table>\n",
       "</div>"
      ],
      "text/plain": [
       "               timestamp    duration  number_of_trees  training_rmse  \\\n",
       "0    2021-12-18 09:41:12   0.321 sec              0.0       8.693611   \n",
       "1    2021-12-18 09:41:12   0.334 sec              5.0       7.476047   \n",
       "2    2021-12-18 09:41:12   0.348 sec             10.0       6.744302   \n",
       "3    2021-12-18 09:41:12   0.360 sec             15.0       6.244915   \n",
       "4    2021-12-18 09:41:12   0.373 sec             20.0       5.674870   \n",
       "5    2021-12-18 09:41:12   0.386 sec             25.0       5.330535   \n",
       "6    2021-12-18 09:41:12   0.398 sec             30.0       4.894254   \n",
       "7    2021-12-18 09:41:12   0.410 sec             35.0       4.589062   \n",
       "8    2021-12-18 09:41:12   0.413 sec             36.0       4.521143   \n",
       "\n",
       "   training_mae  training_deviance  \n",
       "0      7.001351          75.578879  \n",
       "1      6.019336          55.891284  \n",
       "2      5.494907          45.485609  \n",
       "3      5.007897          38.998969  \n",
       "4      4.534159          32.204147  \n",
       "5      4.225631          28.414602  \n",
       "6      3.816630          23.953720  \n",
       "7      3.549989          21.059494  \n",
       "8      3.518501          20.440738  "
      ]
     },
     "metadata": {},
     "output_type": "display_data"
    },
    {
     "name": "stdout",
     "output_type": "stream",
     "text": [
      "\n",
      "Variable Importances: \n"
     ]
    },
    {
     "data": {
      "text/html": [
       "<div>\n",
       "<style scoped>\n",
       "    .dataframe tbody tr th:only-of-type {\n",
       "        vertical-align: middle;\n",
       "    }\n",
       "\n",
       "    .dataframe tbody tr th {\n",
       "        vertical-align: top;\n",
       "    }\n",
       "\n",
       "    .dataframe thead th {\n",
       "        text-align: right;\n",
       "    }\n",
       "</style>\n",
       "<table border=\"1\" class=\"dataframe\">\n",
       "  <thead>\n",
       "    <tr style=\"text-align: right;\">\n",
       "      <th></th>\n",
       "      <th>variable</th>\n",
       "      <th>relative_importance</th>\n",
       "      <th>scaled_importance</th>\n",
       "      <th>percentage</th>\n",
       "    </tr>\n",
       "  </thead>\n",
       "  <tbody>\n",
       "    <tr>\n",
       "      <th>0</th>\n",
       "      <td>variablesQty_min</td>\n",
       "      <td>2823.740234</td>\n",
       "      <td>1.000000</td>\n",
       "      <td>0.143644</td>\n",
       "    </tr>\n",
       "    <tr>\n",
       "      <th>1</th>\n",
       "      <td>assignmentsQty_min</td>\n",
       "      <td>2393.732910</td>\n",
       "      <td>0.847717</td>\n",
       "      <td>0.121769</td>\n",
       "    </tr>\n",
       "    <tr>\n",
       "      <th>2</th>\n",
       "      <td>mathOperationsQty_min</td>\n",
       "      <td>2081.889893</td>\n",
       "      <td>0.737281</td>\n",
       "      <td>0.105906</td>\n",
       "    </tr>\n",
       "    <tr>\n",
       "      <th>3</th>\n",
       "      <td>rfc_min</td>\n",
       "      <td>911.663330</td>\n",
       "      <td>0.322857</td>\n",
       "      <td>0.046376</td>\n",
       "    </tr>\n",
       "    <tr>\n",
       "      <th>4</th>\n",
       "      <td>uniqueWordsQty_min</td>\n",
       "      <td>847.684875</td>\n",
       "      <td>0.300199</td>\n",
       "      <td>0.043122</td>\n",
       "    </tr>\n",
       "    <tr>\n",
       "      <th>5</th>\n",
       "      <td>loc_min</td>\n",
       "      <td>836.725220</td>\n",
       "      <td>0.296318</td>\n",
       "      <td>0.042564</td>\n",
       "    </tr>\n",
       "    <tr>\n",
       "      <th>6</th>\n",
       "      <td>lcom_min</td>\n",
       "      <td>827.429138</td>\n",
       "      <td>0.293026</td>\n",
       "      <td>0.042091</td>\n",
       "    </tr>\n",
       "    <tr>\n",
       "      <th>7</th>\n",
       "      <td>protectedMethods_mean</td>\n",
       "      <td>720.066223</td>\n",
       "      <td>0.255004</td>\n",
       "      <td>0.036630</td>\n",
       "    </tr>\n",
       "    <tr>\n",
       "      <th>8</th>\n",
       "      <td>variablesQty_mean</td>\n",
       "      <td>656.785156</td>\n",
       "      <td>0.232594</td>\n",
       "      <td>0.033411</td>\n",
       "    </tr>\n",
       "    <tr>\n",
       "      <th>9</th>\n",
       "      <td>cbo_mean</td>\n",
       "      <td>606.902100</td>\n",
       "      <td>0.214928</td>\n",
       "      <td>0.030873</td>\n",
       "    </tr>\n",
       "    <tr>\n",
       "      <th>10</th>\n",
       "      <td>rfc_max</td>\n",
       "      <td>541.457336</td>\n",
       "      <td>0.191752</td>\n",
       "      <td>0.027544</td>\n",
       "    </tr>\n",
       "    <tr>\n",
       "      <th>11</th>\n",
       "      <td>cbo_max</td>\n",
       "      <td>475.717194</td>\n",
       "      <td>0.168471</td>\n",
       "      <td>0.024200</td>\n",
       "    </tr>\n",
       "    <tr>\n",
       "      <th>12</th>\n",
       "      <td>num_dependency_mean</td>\n",
       "      <td>434.028564</td>\n",
       "      <td>0.153707</td>\n",
       "      <td>0.022079</td>\n",
       "    </tr>\n",
       "    <tr>\n",
       "      <th>13</th>\n",
       "      <td>returnQty_mean</td>\n",
       "      <td>433.915558</td>\n",
       "      <td>0.153667</td>\n",
       "      <td>0.022073</td>\n",
       "    </tr>\n",
       "    <tr>\n",
       "      <th>14</th>\n",
       "      <td>publicMethods_min</td>\n",
       "      <td>418.729950</td>\n",
       "      <td>0.148289</td>\n",
       "      <td>0.021301</td>\n",
       "    </tr>\n",
       "    <tr>\n",
       "      <th>15</th>\n",
       "      <td>nosi_min</td>\n",
       "      <td>416.721191</td>\n",
       "      <td>0.147578</td>\n",
       "      <td>0.021199</td>\n",
       "    </tr>\n",
       "    <tr>\n",
       "      <th>16</th>\n",
       "      <td>variablesQty_max</td>\n",
       "      <td>401.314240</td>\n",
       "      <td>0.142122</td>\n",
       "      <td>0.020415</td>\n",
       "    </tr>\n",
       "    <tr>\n",
       "      <th>17</th>\n",
       "      <td>loc_mean</td>\n",
       "      <td>374.023315</td>\n",
       "      <td>0.132457</td>\n",
       "      <td>0.019027</td>\n",
       "    </tr>\n",
       "    <tr>\n",
       "      <th>18</th>\n",
       "      <td>totalMethods_min</td>\n",
       "      <td>343.927917</td>\n",
       "      <td>0.121799</td>\n",
       "      <td>0.017496</td>\n",
       "    </tr>\n",
       "    <tr>\n",
       "      <th>19</th>\n",
       "      <td>stringLiteralsQty_mean</td>\n",
       "      <td>328.547760</td>\n",
       "      <td>0.116352</td>\n",
       "      <td>0.016713</td>\n",
       "    </tr>\n",
       "  </tbody>\n",
       "</table>\n",
       "</div>"
      ],
      "text/plain": [
       "                  variable  relative_importance  scaled_importance  percentage\n",
       "0         variablesQty_min          2823.740234           1.000000    0.143644\n",
       "1       assignmentsQty_min          2393.732910           0.847717    0.121769\n",
       "2    mathOperationsQty_min          2081.889893           0.737281    0.105906\n",
       "3                  rfc_min           911.663330           0.322857    0.046376\n",
       "4       uniqueWordsQty_min           847.684875           0.300199    0.043122\n",
       "5                  loc_min           836.725220           0.296318    0.042564\n",
       "6                 lcom_min           827.429138           0.293026    0.042091\n",
       "7    protectedMethods_mean           720.066223           0.255004    0.036630\n",
       "8        variablesQty_mean           656.785156           0.232594    0.033411\n",
       "9                 cbo_mean           606.902100           0.214928    0.030873\n",
       "10                 rfc_max           541.457336           0.191752    0.027544\n",
       "11                 cbo_max           475.717194           0.168471    0.024200\n",
       "12     num_dependency_mean           434.028564           0.153707    0.022079\n",
       "13          returnQty_mean           433.915558           0.153667    0.022073\n",
       "14       publicMethods_min           418.729950           0.148289    0.021301\n",
       "15                nosi_min           416.721191           0.147578    0.021199\n",
       "16        variablesQty_max           401.314240           0.142122    0.020415\n",
       "17                loc_mean           374.023315           0.132457    0.019027\n",
       "18        totalMethods_min           343.927917           0.121799    0.017496\n",
       "19  stringLiteralsQty_mean           328.547760           0.116352    0.016713"
      ]
     },
     "metadata": {},
     "output_type": "display_data"
    },
    {
     "name": "stdout",
     "output_type": "stream",
     "text": [
      "\n",
      "See the whole table with table.as_data_frame()\n"
     ]
    },
    {
     "data": {
      "text/plain": []
     },
     "execution_count": 475,
     "metadata": {},
     "output_type": "execute_result"
    }
   ],
   "source": [
    "model"
   ]
  },
  {
   "cell_type": "code",
   "execution_count": 476,
   "metadata": {},
   "outputs": [
    {
     "name": "stdout",
     "output_type": "stream",
     "text": [
      "gbm prediction progress: |████████████████████████████████████████████████| 100%\n"
     ]
    }
   ],
   "source": [
    "preds = model.predict(test)"
   ]
  },
  {
   "cell_type": "code",
   "execution_count": 477,
   "metadata": {},
   "outputs": [
    {
     "data": {
      "text/html": [
       "<table>\n",
       "<thead>\n",
       "<tr><th style=\"text-align: right;\">  predict</th></tr>\n",
       "</thead>\n",
       "<tbody>\n",
       "<tr><td style=\"text-align: right;\"> 14.2736 </td></tr>\n",
       "<tr><td style=\"text-align: right;\"> 19.5498 </td></tr>\n",
       "<tr><td style=\"text-align: right;\"> 14.4064 </td></tr>\n",
       "<tr><td style=\"text-align: right;\"> 17.1741 </td></tr>\n",
       "<tr><td style=\"text-align: right;\">  6.88398</td></tr>\n",
       "<tr><td style=\"text-align: right;\"> 15.3523 </td></tr>\n",
       "<tr><td style=\"text-align: right;\">  9.10856</td></tr>\n",
       "<tr><td style=\"text-align: right;\">  7.82638</td></tr>\n",
       "<tr><td style=\"text-align: right;\">  7.57224</td></tr>\n",
       "<tr><td style=\"text-align: right;\">  6.44186</td></tr>\n",
       "</tbody>\n",
       "</table>"
      ]
     },
     "metadata": {},
     "output_type": "display_data"
    },
    {
     "data": {
      "text/plain": []
     },
     "execution_count": 477,
     "metadata": {},
     "output_type": "execute_result"
    }
   ],
   "source": [
    "preds"
   ]
  },
  {
   "cell_type": "code",
   "execution_count": 478,
   "metadata": {
    "scrolled": true
   },
   "outputs": [
    {
     "data": {
      "text/plain": [
       "11.925131    1\n",
       "13.790026    1\n",
       "13.325738    1\n",
       "4.924496     1\n",
       "15.352283    1\n",
       "5.825249     1\n",
       "19.549781    1\n",
       "9.347266     1\n",
       "13.563403    1\n",
       "7.826377     1\n",
       "6.883982     1\n",
       "17.174108    1\n",
       "9.803586     1\n",
       "14.406380    1\n",
       "6.997427     1\n",
       "9.108564     1\n",
       "14.273643    1\n",
       "8.032235     1\n",
       "6.441863     1\n",
       "9.342895     1\n",
       "7.572241     1\n",
       "6.783170     1\n",
       "6.250938     1\n",
       "18.502999    1\n",
       "17.953179    1\n",
       "8.802389     1\n",
       "Name: predict, dtype: int64"
      ]
     },
     "execution_count": 478,
     "metadata": {},
     "output_type": "execute_result"
    }
   ],
   "source": [
    "pd_preds = preds.as_data_frame()\n",
    "pd_preds['predict'].value_counts()"
   ]
  },
  {
   "cell_type": "code",
   "execution_count": 479,
   "metadata": {},
   "outputs": [
    {
     "data": {
      "text/html": [
       "<table>\n",
       "<thead>\n",
       "<tr><th style=\"text-align: right;\">  cbo_mean</th><th style=\"text-align: right;\">  cbo_min</th><th style=\"text-align: right;\">  cbo_max</th><th style=\"text-align: right;\">  cbo_std</th><th style=\"text-align: right;\">  wmc_mean</th><th style=\"text-align: right;\">  wmc_min</th><th style=\"text-align: right;\">  wmc_max</th><th style=\"text-align: right;\">  wmc_std</th><th style=\"text-align: right;\">  dit_mean</th><th style=\"text-align: right;\">  dit_min</th><th style=\"text-align: right;\">  dit_max</th><th style=\"text-align: right;\">  dit_std</th><th style=\"text-align: right;\">  rfc_mean</th><th style=\"text-align: right;\">  rfc_min</th><th style=\"text-align: right;\">  rfc_max</th><th style=\"text-align: right;\">  rfc_std</th><th style=\"text-align: right;\">  lcom_mean</th><th style=\"text-align: right;\">  lcom_min</th><th style=\"text-align: right;\">  lcom_max</th><th style=\"text-align: right;\">  lcom_std</th><th style=\"text-align: right;\">  totalMethods_mean</th><th style=\"text-align: right;\">  totalMethods_min</th><th style=\"text-align: right;\">  totalMethods_max</th><th style=\"text-align: right;\">  totalMethods_std</th><th style=\"text-align: right;\">  staticMethods_mean</th><th style=\"text-align: right;\">  staticMethods_min</th><th style=\"text-align: right;\">  staticMethods_max</th><th style=\"text-align: right;\">  staticMethods_std</th><th style=\"text-align: right;\">  publicMethods_mean</th><th style=\"text-align: right;\">  publicMethods_min</th><th style=\"text-align: right;\">  publicMethods_max</th><th style=\"text-align: right;\">  publicMethods_std</th><th style=\"text-align: right;\">  privateMethods_mean</th><th style=\"text-align: right;\">  privateMethods_min</th><th style=\"text-align: right;\">  privateMethods_max</th><th style=\"text-align: right;\">  privateMethods_std</th><th style=\"text-align: right;\">  protectedMethods_mean</th><th style=\"text-align: right;\">  protectedMethods_min</th><th style=\"text-align: right;\">  protectedMethods_max</th><th style=\"text-align: right;\">  protectedMethods_std</th><th style=\"text-align: right;\">  defaultMethods_mean</th><th style=\"text-align: right;\">  defaultMethods_min</th><th style=\"text-align: right;\">  defaultMethods_max</th><th style=\"text-align: right;\">  defaultMethods_std</th><th style=\"text-align: right;\">  abstractMethods_mean</th><th style=\"text-align: right;\">  abstractMethods_min</th><th style=\"text-align: right;\">  abstractMethods_max</th><th style=\"text-align: right;\">  abstractMethods_std</th><th style=\"text-align: right;\">  finalMethods_mean</th><th style=\"text-align: right;\">  finalMethods_min</th><th style=\"text-align: right;\">  finalMethods_max</th><th style=\"text-align: right;\">  finalMethods_std</th><th style=\"text-align: right;\">  synchronizedMethods_mean</th><th style=\"text-align: right;\">  synchronizedMethods_min</th><th style=\"text-align: right;\">  synchronizedMethods_max</th><th style=\"text-align: right;\">  synchronizedMethods_std</th><th style=\"text-align: right;\">  totalFields_mean</th><th style=\"text-align: right;\">  totalFields_min</th><th style=\"text-align: right;\">  totalFields_max</th><th style=\"text-align: right;\">  totalFields_std</th><th style=\"text-align: right;\">  staticFields_mean</th><th style=\"text-align: right;\">  staticFields_min</th><th style=\"text-align: right;\">  staticFields_max</th><th style=\"text-align: right;\">  staticFields_std</th><th style=\"text-align: right;\">  publicFields_mean</th><th style=\"text-align: right;\">  publicFields_min</th><th style=\"text-align: right;\">  publicFields_max</th><th style=\"text-align: right;\">  publicFields_std</th><th style=\"text-align: right;\">  privateFields_mean</th><th style=\"text-align: right;\">  privateFields_min</th><th style=\"text-align: right;\">  privateFields_max</th><th style=\"text-align: right;\">  privateFields_std</th><th style=\"text-align: right;\">  protectedFields_mean</th><th style=\"text-align: right;\">  protectedFields_min</th><th style=\"text-align: right;\">  protectedFields_max</th><th style=\"text-align: right;\">  protectedFields_std</th><th style=\"text-align: right;\">  defaultFields_mean</th><th style=\"text-align: right;\">  defaultFields_min</th><th style=\"text-align: right;\">  defaultFields_max</th><th style=\"text-align: right;\">  defaultFields_std</th><th style=\"text-align: right;\">  finalFields_mean</th><th style=\"text-align: right;\">  finalFields_min</th><th style=\"text-align: right;\">  finalFields_max</th><th style=\"text-align: right;\">  finalFields_std</th><th style=\"text-align: right;\">  synchronizedFields_mean</th><th style=\"text-align: right;\">  synchronizedFields_min</th><th style=\"text-align: right;\">  synchronizedFields_max</th><th style=\"text-align: right;\">  synchronizedFields_std</th><th style=\"text-align: right;\">  nosi_mean</th><th style=\"text-align: right;\">  nosi_min</th><th style=\"text-align: right;\">  nosi_max</th><th style=\"text-align: right;\">  nosi_std</th><th style=\"text-align: right;\">  loc_mean</th><th style=\"text-align: right;\">  loc_min</th><th style=\"text-align: right;\">  loc_max</th><th style=\"text-align: right;\">  loc_std</th><th style=\"text-align: right;\">  returnQty_mean</th><th style=\"text-align: right;\">  returnQty_min</th><th style=\"text-align: right;\">  returnQty_max</th><th style=\"text-align: right;\">  returnQty_std</th><th style=\"text-align: right;\">  loopQty_mean</th><th style=\"text-align: right;\">  loopQty_min</th><th style=\"text-align: right;\">  loopQty_max</th><th style=\"text-align: right;\">  loopQty_std</th><th style=\"text-align: right;\">  comparisonsQty_mean</th><th style=\"text-align: right;\">  comparisonsQty_min</th><th style=\"text-align: right;\">  comparisonsQty_max</th><th style=\"text-align: right;\">  comparisonsQty_std</th><th style=\"text-align: right;\">  tryCatchQty_mean</th><th style=\"text-align: right;\">  tryCatchQty_min</th><th style=\"text-align: right;\">  tryCatchQty_max</th><th style=\"text-align: right;\">  tryCatchQty_std</th><th style=\"text-align: right;\">  parenthesizedExpsQty_mean</th><th style=\"text-align: right;\">  parenthesizedExpsQty_min</th><th style=\"text-align: right;\">  parenthesizedExpsQty_max</th><th style=\"text-align: right;\">  parenthesizedExpsQty_std</th><th style=\"text-align: right;\">  stringLiteralsQty_mean</th><th style=\"text-align: right;\">  stringLiteralsQty_min</th><th style=\"text-align: right;\">  stringLiteralsQty_max</th><th style=\"text-align: right;\">  stringLiteralsQty_std</th><th style=\"text-align: right;\">  numbersQty_mean</th><th style=\"text-align: right;\">  numbersQty_min</th><th style=\"text-align: right;\">  numbersQty_max</th><th style=\"text-align: right;\">  numbersQty_std</th><th style=\"text-align: right;\">  assignmentsQty_mean</th><th style=\"text-align: right;\">  assignmentsQty_min</th><th style=\"text-align: right;\">  assignmentsQty_max</th><th style=\"text-align: right;\">  assignmentsQty_std</th><th style=\"text-align: right;\">  mathOperationsQty_mean</th><th style=\"text-align: right;\">  mathOperationsQty_min</th><th style=\"text-align: right;\">  mathOperationsQty_max</th><th style=\"text-align: right;\">  mathOperationsQty_std</th><th style=\"text-align: right;\">  variablesQty_mean</th><th style=\"text-align: right;\">  variablesQty_min</th><th style=\"text-align: right;\">  variablesQty_max</th><th style=\"text-align: right;\">  variablesQty_std</th><th style=\"text-align: right;\">  maxNestedBlocks_mean</th><th style=\"text-align: right;\">  maxNestedBlocks_min</th><th style=\"text-align: right;\">  maxNestedBlocks_max</th><th style=\"text-align: right;\">  maxNestedBlocks_std</th><th style=\"text-align: right;\">  anonymousClassesQty_mean</th><th style=\"text-align: right;\">  anonymousClassesQty_min</th><th style=\"text-align: right;\">  anonymousClassesQty_max</th><th style=\"text-align: right;\">  anonymousClassesQty_std</th><th style=\"text-align: right;\">  subClassesQty_mean</th><th style=\"text-align: right;\">  subClassesQty_min</th><th style=\"text-align: right;\">  subClassesQty_max</th><th style=\"text-align: right;\">  subClassesQty_std</th><th style=\"text-align: right;\">  lambdasQty_mean</th><th style=\"text-align: right;\">  lambdasQty_min</th><th style=\"text-align: right;\">  lambdasQty_max</th><th style=\"text-align: right;\">  lambdasQty_std</th><th style=\"text-align: right;\">  uniqueWordsQty_mean</th><th style=\"text-align: right;\">  uniqueWordsQty_min</th><th style=\"text-align: right;\">  uniqueWordsQty_max</th><th style=\"text-align: right;\">  uniqueWordsQty_std</th><th style=\"text-align: right;\">  modifiers_mean</th><th style=\"text-align: right;\">  modifiers_min</th><th style=\"text-align: right;\">  modifiers_max</th><th style=\"text-align: right;\">  modifiers_std</th><th style=\"text-align: right;\">  num_dependency_mean</th><th style=\"text-align: right;\">  num_line_affected_mean</th><th style=\"text-align: right;\">  refactoring_perc_time_taken</th></tr>\n",
       "</thead>\n",
       "<tbody>\n",
       "<tr><td style=\"text-align: right;\">   3      </td><td style=\"text-align: right;\">        3</td><td style=\"text-align: right;\">        3</td><td style=\"text-align: right;\">  0      </td><td style=\"text-align: right;\">         5</td><td style=\"text-align: right;\">        5</td><td style=\"text-align: right;\">        5</td><td style=\"text-align: right;\">  0      </td><td style=\"text-align: right;\">         1</td><td style=\"text-align: right;\">        1</td><td style=\"text-align: right;\">        1</td><td style=\"text-align: right;\">        0</td><td style=\"text-align: right;\">         5</td><td style=\"text-align: right;\">        5</td><td style=\"text-align: right;\">        5</td><td style=\"text-align: right;\">   0     </td><td style=\"text-align: right;\">     2     </td><td style=\"text-align: right;\">         2</td><td style=\"text-align: right;\">         2</td><td style=\"text-align: right;\">    0     </td><td style=\"text-align: right;\">            5      </td><td style=\"text-align: right;\">                 5</td><td style=\"text-align: right;\">                 5</td><td style=\"text-align: right;\">           0      </td><td style=\"text-align: right;\">            0       </td><td style=\"text-align: right;\">                  0</td><td style=\"text-align: right;\">                  0</td><td style=\"text-align: right;\">            0      </td><td style=\"text-align: right;\">             5      </td><td style=\"text-align: right;\">                  5</td><td style=\"text-align: right;\">                  5</td><td style=\"text-align: right;\">             0     </td><td style=\"text-align: right;\">              0      </td><td style=\"text-align: right;\">                   0</td><td style=\"text-align: right;\">                   0</td><td style=\"text-align: right;\">             0      </td><td style=\"text-align: right;\">                    0  </td><td style=\"text-align: right;\">                     0</td><td style=\"text-align: right;\">                     0</td><td style=\"text-align: right;\">              0       </td><td style=\"text-align: right;\">                    0</td><td style=\"text-align: right;\">                   0</td><td style=\"text-align: right;\">                   0</td><td style=\"text-align: right;\">                   0</td><td style=\"text-align: right;\">                     0</td><td style=\"text-align: right;\">                    0</td><td style=\"text-align: right;\">                    0</td><td style=\"text-align: right;\">                    0</td><td style=\"text-align: right;\">                  0</td><td style=\"text-align: right;\">                 0</td><td style=\"text-align: right;\">                 0</td><td style=\"text-align: right;\">                 0</td><td style=\"text-align: right;\">                         0</td><td style=\"text-align: right;\">                        0</td><td style=\"text-align: right;\">                        0</td><td style=\"text-align: right;\">                        0</td><td style=\"text-align: right;\">               4  </td><td style=\"text-align: right;\">                4</td><td style=\"text-align: right;\">                4</td><td style=\"text-align: right;\">          0      </td><td style=\"text-align: right;\">            0      </td><td style=\"text-align: right;\">                 0</td><td style=\"text-align: right;\">                 0</td><td style=\"text-align: right;\">           0      </td><td style=\"text-align: right;\">            0      </td><td style=\"text-align: right;\">                 0</td><td style=\"text-align: right;\">                 0</td><td style=\"text-align: right;\">            0     </td><td style=\"text-align: right;\">             4      </td><td style=\"text-align: right;\">                  4</td><td style=\"text-align: right;\">                  4</td><td style=\"text-align: right;\">            0      </td><td style=\"text-align: right;\">                     0</td><td style=\"text-align: right;\">                    0</td><td style=\"text-align: right;\">                    0</td><td style=\"text-align: right;\">                    0</td><td style=\"text-align: right;\">                   0</td><td style=\"text-align: right;\">                  0</td><td style=\"text-align: right;\">                  0</td><td style=\"text-align: right;\">                  0</td><td style=\"text-align: right;\">           4      </td><td style=\"text-align: right;\">                4</td><td style=\"text-align: right;\">                4</td><td style=\"text-align: right;\">          0      </td><td style=\"text-align: right;\">                        0</td><td style=\"text-align: right;\">                       0</td><td style=\"text-align: right;\">                       0</td><td style=\"text-align: right;\">                       0</td><td style=\"text-align: right;\">    5      </td><td style=\"text-align: right;\">         5</td><td style=\"text-align: right;\">         5</td><td style=\"text-align: right;\">    0     </td><td style=\"text-align: right;\">   33     </td><td style=\"text-align: right;\">       33</td><td style=\"text-align: right;\">       33</td><td style=\"text-align: right;\">   0     </td><td style=\"text-align: right;\">          0     </td><td style=\"text-align: right;\">              0</td><td style=\"text-align: right;\">              0</td><td style=\"text-align: right;\">        0      </td><td style=\"text-align: right;\">             0</td><td style=\"text-align: right;\">            0</td><td style=\"text-align: right;\">            0</td><td style=\"text-align: right;\">            0</td><td style=\"text-align: right;\">                    0</td><td style=\"text-align: right;\">                   0</td><td style=\"text-align: right;\">                   0</td><td style=\"text-align: right;\">                   0</td><td style=\"text-align: right;\">                 0</td><td style=\"text-align: right;\">                0</td><td style=\"text-align: right;\">                0</td><td style=\"text-align: right;\">                0</td><td style=\"text-align: right;\">                          0</td><td style=\"text-align: right;\">                         0</td><td style=\"text-align: right;\">                         0</td><td style=\"text-align: right;\">                         0</td><td style=\"text-align: right;\">                 0      </td><td style=\"text-align: right;\">                      0</td><td style=\"text-align: right;\">                      0</td><td style=\"text-align: right;\">                 0     </td><td style=\"text-align: right;\">                0</td><td style=\"text-align: right;\">               0</td><td style=\"text-align: right;\">               0</td><td style=\"text-align: right;\">               0</td><td style=\"text-align: right;\">               4     </td><td style=\"text-align: right;\">                   4</td><td style=\"text-align: right;\">                   4</td><td style=\"text-align: right;\">             0      </td><td style=\"text-align: right;\">                 0      </td><td style=\"text-align: right;\">                      0</td><td style=\"text-align: right;\">                      0</td><td style=\"text-align: right;\">                0      </td><td style=\"text-align: right;\">                  4</td><td style=\"text-align: right;\">                 4</td><td style=\"text-align: right;\">                 4</td><td style=\"text-align: right;\">           0      </td><td style=\"text-align: right;\">               0      </td><td style=\"text-align: right;\">                    0</td><td style=\"text-align: right;\">                    0</td><td style=\"text-align: right;\">               0     </td><td style=\"text-align: right;\">                         0</td><td style=\"text-align: right;\">                        0</td><td style=\"text-align: right;\">                        0</td><td style=\"text-align: right;\">                        0</td><td style=\"text-align: right;\">                   0</td><td style=\"text-align: right;\">                  0</td><td style=\"text-align: right;\">                  0</td><td style=\"text-align: right;\">                  0</td><td style=\"text-align: right;\">         1       </td><td style=\"text-align: right;\">               1</td><td style=\"text-align: right;\">               1</td><td style=\"text-align: right;\">         0      </td><td style=\"text-align: right;\">              38     </td><td style=\"text-align: right;\">                  38</td><td style=\"text-align: right;\">                  38</td><td style=\"text-align: right;\">              0     </td><td style=\"text-align: right;\">              16</td><td style=\"text-align: right;\">             16</td><td style=\"text-align: right;\">             16</td><td style=\"text-align: right;\">              0</td><td style=\"text-align: right;\">                 23  </td><td style=\"text-align: right;\">                    47  </td><td style=\"text-align: right;\">                      5.34091</td></tr>\n",
       "<tr><td style=\"text-align: right;\">  21.5    </td><td style=\"text-align: right;\">       20</td><td style=\"text-align: right;\">       23</td><td style=\"text-align: right;\">  2.12132</td><td style=\"text-align: right;\">         9</td><td style=\"text-align: right;\">        6</td><td style=\"text-align: right;\">       12</td><td style=\"text-align: right;\">  4.24264</td><td style=\"text-align: right;\">         3</td><td style=\"text-align: right;\">        3</td><td style=\"text-align: right;\">        3</td><td style=\"text-align: right;\">        0</td><td style=\"text-align: right;\">        25</td><td style=\"text-align: right;\">       15</td><td style=\"text-align: right;\">       35</td><td style=\"text-align: right;\">  14.1421</td><td style=\"text-align: right;\">    37.5   </td><td style=\"text-align: right;\">        15</td><td style=\"text-align: right;\">        60</td><td style=\"text-align: right;\">   31.8198</td><td style=\"text-align: right;\">            9      </td><td style=\"text-align: right;\">                 6</td><td style=\"text-align: right;\">                12</td><td style=\"text-align: right;\">           4.24264</td><td style=\"text-align: right;\">            3.5     </td><td style=\"text-align: right;\">                  0</td><td style=\"text-align: right;\">                  7</td><td style=\"text-align: right;\">            4.94975</td><td style=\"text-align: right;\">             0      </td><td style=\"text-align: right;\">                  0</td><td style=\"text-align: right;\">                  0</td><td style=\"text-align: right;\">             0     </td><td style=\"text-align: right;\">              3.5    </td><td style=\"text-align: right;\">                   0</td><td style=\"text-align: right;\">                   7</td><td style=\"text-align: right;\">             4.94975</td><td style=\"text-align: right;\">                    0.5</td><td style=\"text-align: right;\">                     0</td><td style=\"text-align: right;\">                     1</td><td style=\"text-align: right;\">              0.707107</td><td style=\"text-align: right;\">                    0</td><td style=\"text-align: right;\">                   0</td><td style=\"text-align: right;\">                   0</td><td style=\"text-align: right;\">                   0</td><td style=\"text-align: right;\">                     0</td><td style=\"text-align: right;\">                    0</td><td style=\"text-align: right;\">                    0</td><td style=\"text-align: right;\">                    0</td><td style=\"text-align: right;\">                  0</td><td style=\"text-align: right;\">                 0</td><td style=\"text-align: right;\">                 0</td><td style=\"text-align: right;\">                 0</td><td style=\"text-align: right;\">                         0</td><td style=\"text-align: right;\">                        0</td><td style=\"text-align: right;\">                        0</td><td style=\"text-align: right;\">                        0</td><td style=\"text-align: right;\">               2.5</td><td style=\"text-align: right;\">                1</td><td style=\"text-align: right;\">                4</td><td style=\"text-align: right;\">          2.12132</td><td style=\"text-align: right;\">            2.5    </td><td style=\"text-align: right;\">                 1</td><td style=\"text-align: right;\">                 4</td><td style=\"text-align: right;\">           2.12132</td><td style=\"text-align: right;\">            0      </td><td style=\"text-align: right;\">                 0</td><td style=\"text-align: right;\">                 0</td><td style=\"text-align: right;\">            0     </td><td style=\"text-align: right;\">             2.5    </td><td style=\"text-align: right;\">                  1</td><td style=\"text-align: right;\">                  4</td><td style=\"text-align: right;\">            2.12132</td><td style=\"text-align: right;\">                     0</td><td style=\"text-align: right;\">                    0</td><td style=\"text-align: right;\">                    0</td><td style=\"text-align: right;\">                    0</td><td style=\"text-align: right;\">                   0</td><td style=\"text-align: right;\">                  0</td><td style=\"text-align: right;\">                  0</td><td style=\"text-align: right;\">                  0</td><td style=\"text-align: right;\">           2.5    </td><td style=\"text-align: right;\">                1</td><td style=\"text-align: right;\">                4</td><td style=\"text-align: right;\">          2.12132</td><td style=\"text-align: right;\">                        0</td><td style=\"text-align: right;\">                       0</td><td style=\"text-align: right;\">                       0</td><td style=\"text-align: right;\">                       0</td><td style=\"text-align: right;\">   43.5    </td><td style=\"text-align: right;\">        16</td><td style=\"text-align: right;\">        71</td><td style=\"text-align: right;\">   38.8909</td><td style=\"text-align: right;\">  121     </td><td style=\"text-align: right;\">       60</td><td style=\"text-align: right;\">      182</td><td style=\"text-align: right;\">  86.267 </td><td style=\"text-align: right;\">          3.5   </td><td style=\"text-align: right;\">              0</td><td style=\"text-align: right;\">              7</td><td style=\"text-align: right;\">        4.94975</td><td style=\"text-align: right;\">             0</td><td style=\"text-align: right;\">            0</td><td style=\"text-align: right;\">            0</td><td style=\"text-align: right;\">            0</td><td style=\"text-align: right;\">                    0</td><td style=\"text-align: right;\">                   0</td><td style=\"text-align: right;\">                   0</td><td style=\"text-align: right;\">                   0</td><td style=\"text-align: right;\">                 0</td><td style=\"text-align: right;\">                0</td><td style=\"text-align: right;\">                0</td><td style=\"text-align: right;\">                0</td><td style=\"text-align: right;\">                          0</td><td style=\"text-align: right;\">                         0</td><td style=\"text-align: right;\">                         0</td><td style=\"text-align: right;\">                         0</td><td style=\"text-align: right;\">                48      </td><td style=\"text-align: right;\">                     10</td><td style=\"text-align: right;\">                     86</td><td style=\"text-align: right;\">                53.7401</td><td style=\"text-align: right;\">                0</td><td style=\"text-align: right;\">               0</td><td style=\"text-align: right;\">               0</td><td style=\"text-align: right;\">               0</td><td style=\"text-align: right;\">              10     </td><td style=\"text-align: right;\">                   9</td><td style=\"text-align: right;\">                  11</td><td style=\"text-align: right;\">             1.41421</td><td style=\"text-align: right;\">                 0      </td><td style=\"text-align: right;\">                      0</td><td style=\"text-align: right;\">                      0</td><td style=\"text-align: right;\">                0      </td><td style=\"text-align: right;\">                 10</td><td style=\"text-align: right;\">                 9</td><td style=\"text-align: right;\">                11</td><td style=\"text-align: right;\">           1.41421</td><td style=\"text-align: right;\">               0      </td><td style=\"text-align: right;\">                    0</td><td style=\"text-align: right;\">                    0</td><td style=\"text-align: right;\">               0     </td><td style=\"text-align: right;\">                         0</td><td style=\"text-align: right;\">                        0</td><td style=\"text-align: right;\">                        0</td><td style=\"text-align: right;\">                        0</td><td style=\"text-align: right;\">                   0</td><td style=\"text-align: right;\">                  0</td><td style=\"text-align: right;\">                  0</td><td style=\"text-align: right;\">                  0</td><td style=\"text-align: right;\">         7       </td><td style=\"text-align: right;\">               4</td><td style=\"text-align: right;\">              10</td><td style=\"text-align: right;\">         4.24264</td><td style=\"text-align: right;\">              68     </td><td style=\"text-align: right;\">                  54</td><td style=\"text-align: right;\">                  82</td><td style=\"text-align: right;\">             19.799 </td><td style=\"text-align: right;\">               0</td><td style=\"text-align: right;\">              0</td><td style=\"text-align: right;\">              0</td><td style=\"text-align: right;\">              0</td><td style=\"text-align: right;\">                 12.5</td><td style=\"text-align: right;\">                   119.5</td><td style=\"text-align: right;\">                      2.05128</td></tr>\n",
       "<tr><td style=\"text-align: right;\">  11      </td><td style=\"text-align: right;\">       11</td><td style=\"text-align: right;\">       11</td><td style=\"text-align: right;\">  0      </td><td style=\"text-align: right;\">         6</td><td style=\"text-align: right;\">        6</td><td style=\"text-align: right;\">        6</td><td style=\"text-align: right;\">  0      </td><td style=\"text-align: right;\">         3</td><td style=\"text-align: right;\">        3</td><td style=\"text-align: right;\">        3</td><td style=\"text-align: right;\">        0</td><td style=\"text-align: right;\">        15</td><td style=\"text-align: right;\">       15</td><td style=\"text-align: right;\">       15</td><td style=\"text-align: right;\">   0     </td><td style=\"text-align: right;\">    15     </td><td style=\"text-align: right;\">        15</td><td style=\"text-align: right;\">        15</td><td style=\"text-align: right;\">    0     </td><td style=\"text-align: right;\">            6      </td><td style=\"text-align: right;\">                 6</td><td style=\"text-align: right;\">                 6</td><td style=\"text-align: right;\">           0      </td><td style=\"text-align: right;\">            2       </td><td style=\"text-align: right;\">                  2</td><td style=\"text-align: right;\">                  2</td><td style=\"text-align: right;\">            0      </td><td style=\"text-align: right;\">             4      </td><td style=\"text-align: right;\">                  4</td><td style=\"text-align: right;\">                  4</td><td style=\"text-align: right;\">             0     </td><td style=\"text-align: right;\">              1      </td><td style=\"text-align: right;\">                   1</td><td style=\"text-align: right;\">                   1</td><td style=\"text-align: right;\">             0      </td><td style=\"text-align: right;\">                    0  </td><td style=\"text-align: right;\">                     0</td><td style=\"text-align: right;\">                     0</td><td style=\"text-align: right;\">              0       </td><td style=\"text-align: right;\">                    0</td><td style=\"text-align: right;\">                   0</td><td style=\"text-align: right;\">                   0</td><td style=\"text-align: right;\">                   0</td><td style=\"text-align: right;\">                     0</td><td style=\"text-align: right;\">                    0</td><td style=\"text-align: right;\">                    0</td><td style=\"text-align: right;\">                    0</td><td style=\"text-align: right;\">                  0</td><td style=\"text-align: right;\">                 0</td><td style=\"text-align: right;\">                 0</td><td style=\"text-align: right;\">                 0</td><td style=\"text-align: right;\">                         0</td><td style=\"text-align: right;\">                        0</td><td style=\"text-align: right;\">                        0</td><td style=\"text-align: right;\">                        0</td><td style=\"text-align: right;\">               0  </td><td style=\"text-align: right;\">                0</td><td style=\"text-align: right;\">                0</td><td style=\"text-align: right;\">          0      </td><td style=\"text-align: right;\">            0      </td><td style=\"text-align: right;\">                 0</td><td style=\"text-align: right;\">                 0</td><td style=\"text-align: right;\">           0      </td><td style=\"text-align: right;\">            0      </td><td style=\"text-align: right;\">                 0</td><td style=\"text-align: right;\">                 0</td><td style=\"text-align: right;\">            0     </td><td style=\"text-align: right;\">             0      </td><td style=\"text-align: right;\">                  0</td><td style=\"text-align: right;\">                  0</td><td style=\"text-align: right;\">            0      </td><td style=\"text-align: right;\">                     0</td><td style=\"text-align: right;\">                    0</td><td style=\"text-align: right;\">                    0</td><td style=\"text-align: right;\">                    0</td><td style=\"text-align: right;\">                   0</td><td style=\"text-align: right;\">                  0</td><td style=\"text-align: right;\">                  0</td><td style=\"text-align: right;\">                  0</td><td style=\"text-align: right;\">           0      </td><td style=\"text-align: right;\">                0</td><td style=\"text-align: right;\">                0</td><td style=\"text-align: right;\">          0      </td><td style=\"text-align: right;\">                        0</td><td style=\"text-align: right;\">                       0</td><td style=\"text-align: right;\">                       0</td><td style=\"text-align: right;\">                       0</td><td style=\"text-align: right;\">   24      </td><td style=\"text-align: right;\">        24</td><td style=\"text-align: right;\">        24</td><td style=\"text-align: right;\">    0     </td><td style=\"text-align: right;\">  111     </td><td style=\"text-align: right;\">      111</td><td style=\"text-align: right;\">      111</td><td style=\"text-align: right;\">   0     </td><td style=\"text-align: right;\">          2     </td><td style=\"text-align: right;\">              2</td><td style=\"text-align: right;\">              2</td><td style=\"text-align: right;\">        0      </td><td style=\"text-align: right;\">             0</td><td style=\"text-align: right;\">            0</td><td style=\"text-align: right;\">            0</td><td style=\"text-align: right;\">            0</td><td style=\"text-align: right;\">                    0</td><td style=\"text-align: right;\">                   0</td><td style=\"text-align: right;\">                   0</td><td style=\"text-align: right;\">                   0</td><td style=\"text-align: right;\">                 0</td><td style=\"text-align: right;\">                0</td><td style=\"text-align: right;\">                0</td><td style=\"text-align: right;\">                0</td><td style=\"text-align: right;\">                          0</td><td style=\"text-align: right;\">                         0</td><td style=\"text-align: right;\">                         0</td><td style=\"text-align: right;\">                         0</td><td style=\"text-align: right;\">                34      </td><td style=\"text-align: right;\">                     34</td><td style=\"text-align: right;\">                     34</td><td style=\"text-align: right;\">                 0     </td><td style=\"text-align: right;\">               30</td><td style=\"text-align: right;\">              30</td><td style=\"text-align: right;\">              30</td><td style=\"text-align: right;\">               0</td><td style=\"text-align: right;\">               8     </td><td style=\"text-align: right;\">                   8</td><td style=\"text-align: right;\">                   8</td><td style=\"text-align: right;\">             0      </td><td style=\"text-align: right;\">                 0      </td><td style=\"text-align: right;\">                      0</td><td style=\"text-align: right;\">                      0</td><td style=\"text-align: right;\">                0      </td><td style=\"text-align: right;\">                  8</td><td style=\"text-align: right;\">                 8</td><td style=\"text-align: right;\">                 8</td><td style=\"text-align: right;\">           0      </td><td style=\"text-align: right;\">               0      </td><td style=\"text-align: right;\">                    0</td><td style=\"text-align: right;\">                    0</td><td style=\"text-align: right;\">               0     </td><td style=\"text-align: right;\">                         0</td><td style=\"text-align: right;\">                        0</td><td style=\"text-align: right;\">                        0</td><td style=\"text-align: right;\">                        0</td><td style=\"text-align: right;\">                   2</td><td style=\"text-align: right;\">                  2</td><td style=\"text-align: right;\">                  2</td><td style=\"text-align: right;\">                  0</td><td style=\"text-align: right;\">         0       </td><td style=\"text-align: right;\">               0</td><td style=\"text-align: right;\">               0</td><td style=\"text-align: right;\">         0      </td><td style=\"text-align: right;\">              75     </td><td style=\"text-align: right;\">                  75</td><td style=\"text-align: right;\">                  75</td><td style=\"text-align: right;\">              0     </td><td style=\"text-align: right;\">               1</td><td style=\"text-align: right;\">              1</td><td style=\"text-align: right;\">              1</td><td style=\"text-align: right;\">              0</td><td style=\"text-align: right;\">                 20  </td><td style=\"text-align: right;\">                    96  </td><td style=\"text-align: right;\">                      7.12166</td></tr>\n",
       "<tr><td style=\"text-align: right;\">   5      </td><td style=\"text-align: right;\">        5</td><td style=\"text-align: right;\">        5</td><td style=\"text-align: right;\">  0      </td><td style=\"text-align: right;\">        11</td><td style=\"text-align: right;\">       11</td><td style=\"text-align: right;\">       11</td><td style=\"text-align: right;\">  0      </td><td style=\"text-align: right;\">         1</td><td style=\"text-align: right;\">        1</td><td style=\"text-align: right;\">        1</td><td style=\"text-align: right;\">        0</td><td style=\"text-align: right;\">        14</td><td style=\"text-align: right;\">       14</td><td style=\"text-align: right;\">       14</td><td style=\"text-align: right;\">   0     </td><td style=\"text-align: right;\">     0     </td><td style=\"text-align: right;\">         0</td><td style=\"text-align: right;\">         0</td><td style=\"text-align: right;\">    0     </td><td style=\"text-align: right;\">           10      </td><td style=\"text-align: right;\">                10</td><td style=\"text-align: right;\">                10</td><td style=\"text-align: right;\">           0      </td><td style=\"text-align: right;\">            1       </td><td style=\"text-align: right;\">                  1</td><td style=\"text-align: right;\">                  1</td><td style=\"text-align: right;\">            0      </td><td style=\"text-align: right;\">             9      </td><td style=\"text-align: right;\">                  9</td><td style=\"text-align: right;\">                  9</td><td style=\"text-align: right;\">             0     </td><td style=\"text-align: right;\">              1      </td><td style=\"text-align: right;\">                   1</td><td style=\"text-align: right;\">                   1</td><td style=\"text-align: right;\">             0      </td><td style=\"text-align: right;\">                    0  </td><td style=\"text-align: right;\">                     0</td><td style=\"text-align: right;\">                     0</td><td style=\"text-align: right;\">              0       </td><td style=\"text-align: right;\">                    0</td><td style=\"text-align: right;\">                   0</td><td style=\"text-align: right;\">                   0</td><td style=\"text-align: right;\">                   0</td><td style=\"text-align: right;\">                     0</td><td style=\"text-align: right;\">                    0</td><td style=\"text-align: right;\">                    0</td><td style=\"text-align: right;\">                    0</td><td style=\"text-align: right;\">                  0</td><td style=\"text-align: right;\">                 0</td><td style=\"text-align: right;\">                 0</td><td style=\"text-align: right;\">                 0</td><td style=\"text-align: right;\">                         0</td><td style=\"text-align: right;\">                        0</td><td style=\"text-align: right;\">                        0</td><td style=\"text-align: right;\">                        0</td><td style=\"text-align: right;\">               1  </td><td style=\"text-align: right;\">                1</td><td style=\"text-align: right;\">                1</td><td style=\"text-align: right;\">          0      </td><td style=\"text-align: right;\">            0      </td><td style=\"text-align: right;\">                 0</td><td style=\"text-align: right;\">                 0</td><td style=\"text-align: right;\">           0      </td><td style=\"text-align: right;\">            0      </td><td style=\"text-align: right;\">                 0</td><td style=\"text-align: right;\">                 0</td><td style=\"text-align: right;\">            0     </td><td style=\"text-align: right;\">             0      </td><td style=\"text-align: right;\">                  0</td><td style=\"text-align: right;\">                  0</td><td style=\"text-align: right;\">            0      </td><td style=\"text-align: right;\">                     0</td><td style=\"text-align: right;\">                    0</td><td style=\"text-align: right;\">                    0</td><td style=\"text-align: right;\">                    0</td><td style=\"text-align: right;\">                   0</td><td style=\"text-align: right;\">                  0</td><td style=\"text-align: right;\">                  0</td><td style=\"text-align: right;\">                  0</td><td style=\"text-align: right;\">           0      </td><td style=\"text-align: right;\">                0</td><td style=\"text-align: right;\">                0</td><td style=\"text-align: right;\">          0      </td><td style=\"text-align: right;\">                        0</td><td style=\"text-align: right;\">                       0</td><td style=\"text-align: right;\">                       0</td><td style=\"text-align: right;\">                       0</td><td style=\"text-align: right;\">    5      </td><td style=\"text-align: right;\">         5</td><td style=\"text-align: right;\">         5</td><td style=\"text-align: right;\">    0     </td><td style=\"text-align: right;\">   53     </td><td style=\"text-align: right;\">       53</td><td style=\"text-align: right;\">       53</td><td style=\"text-align: right;\">   0     </td><td style=\"text-align: right;\">          8     </td><td style=\"text-align: right;\">              8</td><td style=\"text-align: right;\">              8</td><td style=\"text-align: right;\">        0      </td><td style=\"text-align: right;\">             1</td><td style=\"text-align: right;\">            1</td><td style=\"text-align: right;\">            1</td><td style=\"text-align: right;\">            0</td><td style=\"text-align: right;\">                    0</td><td style=\"text-align: right;\">                   0</td><td style=\"text-align: right;\">                   0</td><td style=\"text-align: right;\">                   0</td><td style=\"text-align: right;\">                 0</td><td style=\"text-align: right;\">                0</td><td style=\"text-align: right;\">                0</td><td style=\"text-align: right;\">                0</td><td style=\"text-align: right;\">                          1</td><td style=\"text-align: right;\">                         1</td><td style=\"text-align: right;\">                         1</td><td style=\"text-align: right;\">                         0</td><td style=\"text-align: right;\">                 3      </td><td style=\"text-align: right;\">                      3</td><td style=\"text-align: right;\">                      3</td><td style=\"text-align: right;\">                 0     </td><td style=\"text-align: right;\">                0</td><td style=\"text-align: right;\">               0</td><td style=\"text-align: right;\">               0</td><td style=\"text-align: right;\">               0</td><td style=\"text-align: right;\">               2     </td><td style=\"text-align: right;\">                   2</td><td style=\"text-align: right;\">                   2</td><td style=\"text-align: right;\">             0      </td><td style=\"text-align: right;\">                 0      </td><td style=\"text-align: right;\">                      0</td><td style=\"text-align: right;\">                      0</td><td style=\"text-align: right;\">                0      </td><td style=\"text-align: right;\">                  2</td><td style=\"text-align: right;\">                 2</td><td style=\"text-align: right;\">                 2</td><td style=\"text-align: right;\">           0      </td><td style=\"text-align: right;\">               1      </td><td style=\"text-align: right;\">                    1</td><td style=\"text-align: right;\">                    1</td><td style=\"text-align: right;\">               0     </td><td style=\"text-align: right;\">                         0</td><td style=\"text-align: right;\">                        0</td><td style=\"text-align: right;\">                        0</td><td style=\"text-align: right;\">                        0</td><td style=\"text-align: right;\">                   0</td><td style=\"text-align: right;\">                  0</td><td style=\"text-align: right;\">                  0</td><td style=\"text-align: right;\">                  0</td><td style=\"text-align: right;\">         0       </td><td style=\"text-align: right;\">               0</td><td style=\"text-align: right;\">               0</td><td style=\"text-align: right;\">         0      </td><td style=\"text-align: right;\">              46     </td><td style=\"text-align: right;\">                  46</td><td style=\"text-align: right;\">                  46</td><td style=\"text-align: right;\">              0     </td><td style=\"text-align: right;\">               1</td><td style=\"text-align: right;\">              1</td><td style=\"text-align: right;\">              1</td><td style=\"text-align: right;\">              0</td><td style=\"text-align: right;\">                 16  </td><td style=\"text-align: right;\">                    65  </td><td style=\"text-align: right;\">                      5.47893</td></tr>\n",
       "<tr><td style=\"text-align: right;\">  18      </td><td style=\"text-align: right;\">       18</td><td style=\"text-align: right;\">       18</td><td style=\"text-align: right;\">  0      </td><td style=\"text-align: right;\">        32</td><td style=\"text-align: right;\">       32</td><td style=\"text-align: right;\">       32</td><td style=\"text-align: right;\">  0      </td><td style=\"text-align: right;\">         1</td><td style=\"text-align: right;\">        1</td><td style=\"text-align: right;\">        1</td><td style=\"text-align: right;\">        0</td><td style=\"text-align: right;\">        42</td><td style=\"text-align: right;\">       42</td><td style=\"text-align: right;\">       42</td><td style=\"text-align: right;\">   0     </td><td style=\"text-align: right;\">     0     </td><td style=\"text-align: right;\">         0</td><td style=\"text-align: right;\">         0</td><td style=\"text-align: right;\">    0     </td><td style=\"text-align: right;\">           32      </td><td style=\"text-align: right;\">                32</td><td style=\"text-align: right;\">                32</td><td style=\"text-align: right;\">           0      </td><td style=\"text-align: right;\">            9       </td><td style=\"text-align: right;\">                  9</td><td style=\"text-align: right;\">                  9</td><td style=\"text-align: right;\">            0      </td><td style=\"text-align: right;\">            23      </td><td style=\"text-align: right;\">                 23</td><td style=\"text-align: right;\">                 23</td><td style=\"text-align: right;\">             0     </td><td style=\"text-align: right;\">              8      </td><td style=\"text-align: right;\">                   8</td><td style=\"text-align: right;\">                   8</td><td style=\"text-align: right;\">             0      </td><td style=\"text-align: right;\">                    0  </td><td style=\"text-align: right;\">                     0</td><td style=\"text-align: right;\">                     0</td><td style=\"text-align: right;\">              0       </td><td style=\"text-align: right;\">                    0</td><td style=\"text-align: right;\">                   0</td><td style=\"text-align: right;\">                   0</td><td style=\"text-align: right;\">                   0</td><td style=\"text-align: right;\">                     0</td><td style=\"text-align: right;\">                    0</td><td style=\"text-align: right;\">                    0</td><td style=\"text-align: right;\">                    0</td><td style=\"text-align: right;\">                  0</td><td style=\"text-align: right;\">                 0</td><td style=\"text-align: right;\">                 0</td><td style=\"text-align: right;\">                 0</td><td style=\"text-align: right;\">                         0</td><td style=\"text-align: right;\">                        0</td><td style=\"text-align: right;\">                        0</td><td style=\"text-align: right;\">                        0</td><td style=\"text-align: right;\">               1  </td><td style=\"text-align: right;\">                1</td><td style=\"text-align: right;\">                1</td><td style=\"text-align: right;\">          0      </td><td style=\"text-align: right;\">            0      </td><td style=\"text-align: right;\">                 0</td><td style=\"text-align: right;\">                 0</td><td style=\"text-align: right;\">           0      </td><td style=\"text-align: right;\">            0      </td><td style=\"text-align: right;\">                 0</td><td style=\"text-align: right;\">                 0</td><td style=\"text-align: right;\">            0     </td><td style=\"text-align: right;\">             1      </td><td style=\"text-align: right;\">                  1</td><td style=\"text-align: right;\">                  1</td><td style=\"text-align: right;\">            0      </td><td style=\"text-align: right;\">                     0</td><td style=\"text-align: right;\">                    0</td><td style=\"text-align: right;\">                    0</td><td style=\"text-align: right;\">                    0</td><td style=\"text-align: right;\">                   0</td><td style=\"text-align: right;\">                  0</td><td style=\"text-align: right;\">                  0</td><td style=\"text-align: right;\">                  0</td><td style=\"text-align: right;\">           0      </td><td style=\"text-align: right;\">                0</td><td style=\"text-align: right;\">                0</td><td style=\"text-align: right;\">          0      </td><td style=\"text-align: right;\">                        0</td><td style=\"text-align: right;\">                       0</td><td style=\"text-align: right;\">                       0</td><td style=\"text-align: right;\">                       0</td><td style=\"text-align: right;\">   96      </td><td style=\"text-align: right;\">        96</td><td style=\"text-align: right;\">        96</td><td style=\"text-align: right;\">    0     </td><td style=\"text-align: right;\">  248     </td><td style=\"text-align: right;\">      248</td><td style=\"text-align: right;\">      248</td><td style=\"text-align: right;\">   0     </td><td style=\"text-align: right;\">          9     </td><td style=\"text-align: right;\">              9</td><td style=\"text-align: right;\">              9</td><td style=\"text-align: right;\">        0      </td><td style=\"text-align: right;\">             0</td><td style=\"text-align: right;\">            0</td><td style=\"text-align: right;\">            0</td><td style=\"text-align: right;\">            0</td><td style=\"text-align: right;\">                    0</td><td style=\"text-align: right;\">                   0</td><td style=\"text-align: right;\">                   0</td><td style=\"text-align: right;\">                   0</td><td style=\"text-align: right;\">                 0</td><td style=\"text-align: right;\">                0</td><td style=\"text-align: right;\">                0</td><td style=\"text-align: right;\">                0</td><td style=\"text-align: right;\">                          0</td><td style=\"text-align: right;\">                         0</td><td style=\"text-align: right;\">                         0</td><td style=\"text-align: right;\">                         0</td><td style=\"text-align: right;\">                92      </td><td style=\"text-align: right;\">                     92</td><td style=\"text-align: right;\">                     92</td><td style=\"text-align: right;\">                 0     </td><td style=\"text-align: right;\">               23</td><td style=\"text-align: right;\">              23</td><td style=\"text-align: right;\">              23</td><td style=\"text-align: right;\">               0</td><td style=\"text-align: right;\">              33     </td><td style=\"text-align: right;\">                  33</td><td style=\"text-align: right;\">                  33</td><td style=\"text-align: right;\">             0      </td><td style=\"text-align: right;\">                 0      </td><td style=\"text-align: right;\">                      0</td><td style=\"text-align: right;\">                      0</td><td style=\"text-align: right;\">                0      </td><td style=\"text-align: right;\">                 33</td><td style=\"text-align: right;\">                33</td><td style=\"text-align: right;\">                33</td><td style=\"text-align: right;\">           0      </td><td style=\"text-align: right;\">               0      </td><td style=\"text-align: right;\">                    0</td><td style=\"text-align: right;\">                    0</td><td style=\"text-align: right;\">               0     </td><td style=\"text-align: right;\">                         0</td><td style=\"text-align: right;\">                        0</td><td style=\"text-align: right;\">                        0</td><td style=\"text-align: right;\">                        0</td><td style=\"text-align: right;\">                   0</td><td style=\"text-align: right;\">                  0</td><td style=\"text-align: right;\">                  0</td><td style=\"text-align: right;\">                  0</td><td style=\"text-align: right;\">         0       </td><td style=\"text-align: right;\">               0</td><td style=\"text-align: right;\">               0</td><td style=\"text-align: right;\">         0      </td><td style=\"text-align: right;\">              96     </td><td style=\"text-align: right;\">                  96</td><td style=\"text-align: right;\">                  96</td><td style=\"text-align: right;\">              0     </td><td style=\"text-align: right;\">               1</td><td style=\"text-align: right;\">              1</td><td style=\"text-align: right;\">              1</td><td style=\"text-align: right;\">              0</td><td style=\"text-align: right;\">                  9  </td><td style=\"text-align: right;\">                    97  </td><td style=\"text-align: right;\">                     20.9383 </td></tr>\n",
       "<tr><td style=\"text-align: right;\">   5      </td><td style=\"text-align: right;\">        5</td><td style=\"text-align: right;\">        5</td><td style=\"text-align: right;\">  0      </td><td style=\"text-align: right;\">        11</td><td style=\"text-align: right;\">       11</td><td style=\"text-align: right;\">       11</td><td style=\"text-align: right;\">  0      </td><td style=\"text-align: right;\">         1</td><td style=\"text-align: right;\">        1</td><td style=\"text-align: right;\">        1</td><td style=\"text-align: right;\">        0</td><td style=\"text-align: right;\">        14</td><td style=\"text-align: right;\">       14</td><td style=\"text-align: right;\">       14</td><td style=\"text-align: right;\">   0     </td><td style=\"text-align: right;\">     0     </td><td style=\"text-align: right;\">         0</td><td style=\"text-align: right;\">         0</td><td style=\"text-align: right;\">    0     </td><td style=\"text-align: right;\">           10      </td><td style=\"text-align: right;\">                10</td><td style=\"text-align: right;\">                10</td><td style=\"text-align: right;\">           0      </td><td style=\"text-align: right;\">            1       </td><td style=\"text-align: right;\">                  1</td><td style=\"text-align: right;\">                  1</td><td style=\"text-align: right;\">            0      </td><td style=\"text-align: right;\">             9      </td><td style=\"text-align: right;\">                  9</td><td style=\"text-align: right;\">                  9</td><td style=\"text-align: right;\">             0     </td><td style=\"text-align: right;\">              1      </td><td style=\"text-align: right;\">                   1</td><td style=\"text-align: right;\">                   1</td><td style=\"text-align: right;\">             0      </td><td style=\"text-align: right;\">                    0  </td><td style=\"text-align: right;\">                     0</td><td style=\"text-align: right;\">                     0</td><td style=\"text-align: right;\">              0       </td><td style=\"text-align: right;\">                    0</td><td style=\"text-align: right;\">                   0</td><td style=\"text-align: right;\">                   0</td><td style=\"text-align: right;\">                   0</td><td style=\"text-align: right;\">                     0</td><td style=\"text-align: right;\">                    0</td><td style=\"text-align: right;\">                    0</td><td style=\"text-align: right;\">                    0</td><td style=\"text-align: right;\">                  0</td><td style=\"text-align: right;\">                 0</td><td style=\"text-align: right;\">                 0</td><td style=\"text-align: right;\">                 0</td><td style=\"text-align: right;\">                         0</td><td style=\"text-align: right;\">                        0</td><td style=\"text-align: right;\">                        0</td><td style=\"text-align: right;\">                        0</td><td style=\"text-align: right;\">               1  </td><td style=\"text-align: right;\">                1</td><td style=\"text-align: right;\">                1</td><td style=\"text-align: right;\">          0      </td><td style=\"text-align: right;\">            0      </td><td style=\"text-align: right;\">                 0</td><td style=\"text-align: right;\">                 0</td><td style=\"text-align: right;\">           0      </td><td style=\"text-align: right;\">            0      </td><td style=\"text-align: right;\">                 0</td><td style=\"text-align: right;\">                 0</td><td style=\"text-align: right;\">            0     </td><td style=\"text-align: right;\">             0      </td><td style=\"text-align: right;\">                  0</td><td style=\"text-align: right;\">                  0</td><td style=\"text-align: right;\">            0      </td><td style=\"text-align: right;\">                     0</td><td style=\"text-align: right;\">                    0</td><td style=\"text-align: right;\">                    0</td><td style=\"text-align: right;\">                    0</td><td style=\"text-align: right;\">                   0</td><td style=\"text-align: right;\">                  0</td><td style=\"text-align: right;\">                  0</td><td style=\"text-align: right;\">                  0</td><td style=\"text-align: right;\">           0      </td><td style=\"text-align: right;\">                0</td><td style=\"text-align: right;\">                0</td><td style=\"text-align: right;\">          0      </td><td style=\"text-align: right;\">                        0</td><td style=\"text-align: right;\">                       0</td><td style=\"text-align: right;\">                       0</td><td style=\"text-align: right;\">                       0</td><td style=\"text-align: right;\">    5      </td><td style=\"text-align: right;\">         5</td><td style=\"text-align: right;\">         5</td><td style=\"text-align: right;\">    0     </td><td style=\"text-align: right;\">   53     </td><td style=\"text-align: right;\">       53</td><td style=\"text-align: right;\">       53</td><td style=\"text-align: right;\">   0     </td><td style=\"text-align: right;\">          8     </td><td style=\"text-align: right;\">              8</td><td style=\"text-align: right;\">              8</td><td style=\"text-align: right;\">        0      </td><td style=\"text-align: right;\">             1</td><td style=\"text-align: right;\">            1</td><td style=\"text-align: right;\">            1</td><td style=\"text-align: right;\">            0</td><td style=\"text-align: right;\">                    0</td><td style=\"text-align: right;\">                   0</td><td style=\"text-align: right;\">                   0</td><td style=\"text-align: right;\">                   0</td><td style=\"text-align: right;\">                 0</td><td style=\"text-align: right;\">                0</td><td style=\"text-align: right;\">                0</td><td style=\"text-align: right;\">                0</td><td style=\"text-align: right;\">                          1</td><td style=\"text-align: right;\">                         1</td><td style=\"text-align: right;\">                         1</td><td style=\"text-align: right;\">                         0</td><td style=\"text-align: right;\">                 3      </td><td style=\"text-align: right;\">                      3</td><td style=\"text-align: right;\">                      3</td><td style=\"text-align: right;\">                 0     </td><td style=\"text-align: right;\">                0</td><td style=\"text-align: right;\">               0</td><td style=\"text-align: right;\">               0</td><td style=\"text-align: right;\">               0</td><td style=\"text-align: right;\">               2     </td><td style=\"text-align: right;\">                   2</td><td style=\"text-align: right;\">                   2</td><td style=\"text-align: right;\">             0      </td><td style=\"text-align: right;\">                 0      </td><td style=\"text-align: right;\">                      0</td><td style=\"text-align: right;\">                      0</td><td style=\"text-align: right;\">                0      </td><td style=\"text-align: right;\">                  2</td><td style=\"text-align: right;\">                 2</td><td style=\"text-align: right;\">                 2</td><td style=\"text-align: right;\">           0      </td><td style=\"text-align: right;\">               1      </td><td style=\"text-align: right;\">                    1</td><td style=\"text-align: right;\">                    1</td><td style=\"text-align: right;\">               0     </td><td style=\"text-align: right;\">                         0</td><td style=\"text-align: right;\">                        0</td><td style=\"text-align: right;\">                        0</td><td style=\"text-align: right;\">                        0</td><td style=\"text-align: right;\">                   0</td><td style=\"text-align: right;\">                  0</td><td style=\"text-align: right;\">                  0</td><td style=\"text-align: right;\">                  0</td><td style=\"text-align: right;\">         0       </td><td style=\"text-align: right;\">               0</td><td style=\"text-align: right;\">               0</td><td style=\"text-align: right;\">         0      </td><td style=\"text-align: right;\">              46     </td><td style=\"text-align: right;\">                  46</td><td style=\"text-align: right;\">                  46</td><td style=\"text-align: right;\">              0     </td><td style=\"text-align: right;\">               1</td><td style=\"text-align: right;\">              1</td><td style=\"text-align: right;\">              1</td><td style=\"text-align: right;\">              0</td><td style=\"text-align: right;\">                 16  </td><td style=\"text-align: right;\">                    53  </td><td style=\"text-align: right;\">                     10.0157 </td></tr>\n",
       "<tr><td style=\"text-align: right;\">  15      </td><td style=\"text-align: right;\">       15</td><td style=\"text-align: right;\">       15</td><td style=\"text-align: right;\">  0      </td><td style=\"text-align: right;\">         3</td><td style=\"text-align: right;\">        3</td><td style=\"text-align: right;\">        3</td><td style=\"text-align: right;\">  0      </td><td style=\"text-align: right;\">         1</td><td style=\"text-align: right;\">        1</td><td style=\"text-align: right;\">        1</td><td style=\"text-align: right;\">        0</td><td style=\"text-align: right;\">        21</td><td style=\"text-align: right;\">       21</td><td style=\"text-align: right;\">       21</td><td style=\"text-align: right;\">   0     </td><td style=\"text-align: right;\">     3     </td><td style=\"text-align: right;\">         3</td><td style=\"text-align: right;\">         3</td><td style=\"text-align: right;\">    0     </td><td style=\"text-align: right;\">            3      </td><td style=\"text-align: right;\">                 3</td><td style=\"text-align: right;\">                 3</td><td style=\"text-align: right;\">           0      </td><td style=\"text-align: right;\">            0       </td><td style=\"text-align: right;\">                  0</td><td style=\"text-align: right;\">                  0</td><td style=\"text-align: right;\">            0      </td><td style=\"text-align: right;\">             0      </td><td style=\"text-align: right;\">                  0</td><td style=\"text-align: right;\">                  0</td><td style=\"text-align: right;\">             0     </td><td style=\"text-align: right;\">              0      </td><td style=\"text-align: right;\">                   0</td><td style=\"text-align: right;\">                   0</td><td style=\"text-align: right;\">             0      </td><td style=\"text-align: right;\">                    0  </td><td style=\"text-align: right;\">                     0</td><td style=\"text-align: right;\">                     0</td><td style=\"text-align: right;\">              0       </td><td style=\"text-align: right;\">                    0</td><td style=\"text-align: right;\">                   0</td><td style=\"text-align: right;\">                   0</td><td style=\"text-align: right;\">                   0</td><td style=\"text-align: right;\">                     0</td><td style=\"text-align: right;\">                    0</td><td style=\"text-align: right;\">                    0</td><td style=\"text-align: right;\">                    0</td><td style=\"text-align: right;\">                  0</td><td style=\"text-align: right;\">                 0</td><td style=\"text-align: right;\">                 0</td><td style=\"text-align: right;\">                 0</td><td style=\"text-align: right;\">                         0</td><td style=\"text-align: right;\">                        0</td><td style=\"text-align: right;\">                        0</td><td style=\"text-align: right;\">                        0</td><td style=\"text-align: right;\">               0  </td><td style=\"text-align: right;\">                0</td><td style=\"text-align: right;\">                0</td><td style=\"text-align: right;\">          0      </td><td style=\"text-align: right;\">            0      </td><td style=\"text-align: right;\">                 0</td><td style=\"text-align: right;\">                 0</td><td style=\"text-align: right;\">           0      </td><td style=\"text-align: right;\">            0      </td><td style=\"text-align: right;\">                 0</td><td style=\"text-align: right;\">                 0</td><td style=\"text-align: right;\">            0     </td><td style=\"text-align: right;\">             0      </td><td style=\"text-align: right;\">                  0</td><td style=\"text-align: right;\">                  0</td><td style=\"text-align: right;\">            0      </td><td style=\"text-align: right;\">                     0</td><td style=\"text-align: right;\">                    0</td><td style=\"text-align: right;\">                    0</td><td style=\"text-align: right;\">                    0</td><td style=\"text-align: right;\">                   0</td><td style=\"text-align: right;\">                  0</td><td style=\"text-align: right;\">                  0</td><td style=\"text-align: right;\">                  0</td><td style=\"text-align: right;\">           0      </td><td style=\"text-align: right;\">                0</td><td style=\"text-align: right;\">                0</td><td style=\"text-align: right;\">          0      </td><td style=\"text-align: right;\">                        0</td><td style=\"text-align: right;\">                       0</td><td style=\"text-align: right;\">                       0</td><td style=\"text-align: right;\">                       0</td><td style=\"text-align: right;\">   64      </td><td style=\"text-align: right;\">        64</td><td style=\"text-align: right;\">        64</td><td style=\"text-align: right;\">    0     </td><td style=\"text-align: right;\">  100     </td><td style=\"text-align: right;\">      100</td><td style=\"text-align: right;\">      100</td><td style=\"text-align: right;\">   0     </td><td style=\"text-align: right;\">          0     </td><td style=\"text-align: right;\">              0</td><td style=\"text-align: right;\">              0</td><td style=\"text-align: right;\">        0      </td><td style=\"text-align: right;\">             0</td><td style=\"text-align: right;\">            0</td><td style=\"text-align: right;\">            0</td><td style=\"text-align: right;\">            0</td><td style=\"text-align: right;\">                    0</td><td style=\"text-align: right;\">                   0</td><td style=\"text-align: right;\">                   0</td><td style=\"text-align: right;\">                   0</td><td style=\"text-align: right;\">                 0</td><td style=\"text-align: right;\">                0</td><td style=\"text-align: right;\">                0</td><td style=\"text-align: right;\">                0</td><td style=\"text-align: right;\">                          0</td><td style=\"text-align: right;\">                         0</td><td style=\"text-align: right;\">                         0</td><td style=\"text-align: right;\">                         0</td><td style=\"text-align: right;\">                99      </td><td style=\"text-align: right;\">                     99</td><td style=\"text-align: right;\">                     99</td><td style=\"text-align: right;\">                 0     </td><td style=\"text-align: right;\">                0</td><td style=\"text-align: right;\">               0</td><td style=\"text-align: right;\">               0</td><td style=\"text-align: right;\">               0</td><td style=\"text-align: right;\">               7     </td><td style=\"text-align: right;\">                   7</td><td style=\"text-align: right;\">                   7</td><td style=\"text-align: right;\">             0      </td><td style=\"text-align: right;\">                 4      </td><td style=\"text-align: right;\">                      4</td><td style=\"text-align: right;\">                      4</td><td style=\"text-align: right;\">                0      </td><td style=\"text-align: right;\">                  7</td><td style=\"text-align: right;\">                 7</td><td style=\"text-align: right;\">                 7</td><td style=\"text-align: right;\">           0      </td><td style=\"text-align: right;\">               0      </td><td style=\"text-align: right;\">                    0</td><td style=\"text-align: right;\">                    0</td><td style=\"text-align: right;\">               0     </td><td style=\"text-align: right;\">                         0</td><td style=\"text-align: right;\">                        0</td><td style=\"text-align: right;\">                        0</td><td style=\"text-align: right;\">                        0</td><td style=\"text-align: right;\">                   0</td><td style=\"text-align: right;\">                  0</td><td style=\"text-align: right;\">                  0</td><td style=\"text-align: right;\">                  0</td><td style=\"text-align: right;\">         2       </td><td style=\"text-align: right;\">               2</td><td style=\"text-align: right;\">               2</td><td style=\"text-align: right;\">         0      </td><td style=\"text-align: right;\">              51     </td><td style=\"text-align: right;\">                  51</td><td style=\"text-align: right;\">                  51</td><td style=\"text-align: right;\">              0     </td><td style=\"text-align: right;\">               0</td><td style=\"text-align: right;\">              0</td><td style=\"text-align: right;\">              0</td><td style=\"text-align: right;\">              0</td><td style=\"text-align: right;\">                 11  </td><td style=\"text-align: right;\">                   104  </td><td style=\"text-align: right;\">                      4.78661</td></tr>\n",
       "<tr><td style=\"text-align: right;\">   7      </td><td style=\"text-align: right;\">        7</td><td style=\"text-align: right;\">        7</td><td style=\"text-align: right;\">  0      </td><td style=\"text-align: right;\">         3</td><td style=\"text-align: right;\">        3</td><td style=\"text-align: right;\">        3</td><td style=\"text-align: right;\">  0      </td><td style=\"text-align: right;\">         3</td><td style=\"text-align: right;\">        3</td><td style=\"text-align: right;\">        3</td><td style=\"text-align: right;\">        0</td><td style=\"text-align: right;\">         8</td><td style=\"text-align: right;\">        8</td><td style=\"text-align: right;\">        8</td><td style=\"text-align: right;\">   0     </td><td style=\"text-align: right;\">     3     </td><td style=\"text-align: right;\">         3</td><td style=\"text-align: right;\">         3</td><td style=\"text-align: right;\">    0     </td><td style=\"text-align: right;\">            3      </td><td style=\"text-align: right;\">                 3</td><td style=\"text-align: right;\">                 3</td><td style=\"text-align: right;\">           0      </td><td style=\"text-align: right;\">            0       </td><td style=\"text-align: right;\">                  0</td><td style=\"text-align: right;\">                  0</td><td style=\"text-align: right;\">            0      </td><td style=\"text-align: right;\">             0      </td><td style=\"text-align: right;\">                  0</td><td style=\"text-align: right;\">                  0</td><td style=\"text-align: right;\">             0     </td><td style=\"text-align: right;\">              0      </td><td style=\"text-align: right;\">                   0</td><td style=\"text-align: right;\">                   0</td><td style=\"text-align: right;\">             0      </td><td style=\"text-align: right;\">                    2  </td><td style=\"text-align: right;\">                     2</td><td style=\"text-align: right;\">                     2</td><td style=\"text-align: right;\">              0       </td><td style=\"text-align: right;\">                    0</td><td style=\"text-align: right;\">                   0</td><td style=\"text-align: right;\">                   0</td><td style=\"text-align: right;\">                   0</td><td style=\"text-align: right;\">                     0</td><td style=\"text-align: right;\">                    0</td><td style=\"text-align: right;\">                    0</td><td style=\"text-align: right;\">                    0</td><td style=\"text-align: right;\">                  0</td><td style=\"text-align: right;\">                 0</td><td style=\"text-align: right;\">                 0</td><td style=\"text-align: right;\">                 0</td><td style=\"text-align: right;\">                         0</td><td style=\"text-align: right;\">                        0</td><td style=\"text-align: right;\">                        0</td><td style=\"text-align: right;\">                        0</td><td style=\"text-align: right;\">               0  </td><td style=\"text-align: right;\">                0</td><td style=\"text-align: right;\">                0</td><td style=\"text-align: right;\">          0      </td><td style=\"text-align: right;\">            0      </td><td style=\"text-align: right;\">                 0</td><td style=\"text-align: right;\">                 0</td><td style=\"text-align: right;\">           0      </td><td style=\"text-align: right;\">            0      </td><td style=\"text-align: right;\">                 0</td><td style=\"text-align: right;\">                 0</td><td style=\"text-align: right;\">            0     </td><td style=\"text-align: right;\">             0      </td><td style=\"text-align: right;\">                  0</td><td style=\"text-align: right;\">                  0</td><td style=\"text-align: right;\">            0      </td><td style=\"text-align: right;\">                     0</td><td style=\"text-align: right;\">                    0</td><td style=\"text-align: right;\">                    0</td><td style=\"text-align: right;\">                    0</td><td style=\"text-align: right;\">                   0</td><td style=\"text-align: right;\">                  0</td><td style=\"text-align: right;\">                  0</td><td style=\"text-align: right;\">                  0</td><td style=\"text-align: right;\">           0      </td><td style=\"text-align: right;\">                0</td><td style=\"text-align: right;\">                0</td><td style=\"text-align: right;\">          0      </td><td style=\"text-align: right;\">                        0</td><td style=\"text-align: right;\">                       0</td><td style=\"text-align: right;\">                       0</td><td style=\"text-align: right;\">                       0</td><td style=\"text-align: right;\">    5      </td><td style=\"text-align: right;\">         5</td><td style=\"text-align: right;\">         5</td><td style=\"text-align: right;\">    0     </td><td style=\"text-align: right;\">   23     </td><td style=\"text-align: right;\">       23</td><td style=\"text-align: right;\">       23</td><td style=\"text-align: right;\">   0     </td><td style=\"text-align: right;\">          1     </td><td style=\"text-align: right;\">              1</td><td style=\"text-align: right;\">              1</td><td style=\"text-align: right;\">        0      </td><td style=\"text-align: right;\">             0</td><td style=\"text-align: right;\">            0</td><td style=\"text-align: right;\">            0</td><td style=\"text-align: right;\">            0</td><td style=\"text-align: right;\">                    0</td><td style=\"text-align: right;\">                   0</td><td style=\"text-align: right;\">                   0</td><td style=\"text-align: right;\">                   0</td><td style=\"text-align: right;\">                 0</td><td style=\"text-align: right;\">                0</td><td style=\"text-align: right;\">                0</td><td style=\"text-align: right;\">                0</td><td style=\"text-align: right;\">                          0</td><td style=\"text-align: right;\">                         0</td><td style=\"text-align: right;\">                         0</td><td style=\"text-align: right;\">                         0</td><td style=\"text-align: right;\">                16      </td><td style=\"text-align: right;\">                     16</td><td style=\"text-align: right;\">                     16</td><td style=\"text-align: right;\">                 0     </td><td style=\"text-align: right;\">                0</td><td style=\"text-align: right;\">               0</td><td style=\"text-align: right;\">               0</td><td style=\"text-align: right;\">               0</td><td style=\"text-align: right;\">               1     </td><td style=\"text-align: right;\">                   1</td><td style=\"text-align: right;\">                   1</td><td style=\"text-align: right;\">             0      </td><td style=\"text-align: right;\">                 0      </td><td style=\"text-align: right;\">                      0</td><td style=\"text-align: right;\">                      0</td><td style=\"text-align: right;\">                0      </td><td style=\"text-align: right;\">                  1</td><td style=\"text-align: right;\">                 1</td><td style=\"text-align: right;\">                 1</td><td style=\"text-align: right;\">           0      </td><td style=\"text-align: right;\">               0      </td><td style=\"text-align: right;\">                    0</td><td style=\"text-align: right;\">                    0</td><td style=\"text-align: right;\">               0     </td><td style=\"text-align: right;\">                         0</td><td style=\"text-align: right;\">                        0</td><td style=\"text-align: right;\">                        0</td><td style=\"text-align: right;\">                        0</td><td style=\"text-align: right;\">                   0</td><td style=\"text-align: right;\">                  0</td><td style=\"text-align: right;\">                  0</td><td style=\"text-align: right;\">                  0</td><td style=\"text-align: right;\">         0       </td><td style=\"text-align: right;\">               0</td><td style=\"text-align: right;\">               0</td><td style=\"text-align: right;\">         0      </td><td style=\"text-align: right;\">              24     </td><td style=\"text-align: right;\">                  24</td><td style=\"text-align: right;\">                  24</td><td style=\"text-align: right;\">              0     </td><td style=\"text-align: right;\">               0</td><td style=\"text-align: right;\">              0</td><td style=\"text-align: right;\">              0</td><td style=\"text-align: right;\">              0</td><td style=\"text-align: right;\">                 11  </td><td style=\"text-align: right;\">                    20  </td><td style=\"text-align: right;\">                      3.52273</td></tr>\n",
       "<tr><td style=\"text-align: right;\">   7.33333</td><td style=\"text-align: right;\">        7</td><td style=\"text-align: right;\">        8</td><td style=\"text-align: right;\">  0.57735</td><td style=\"text-align: right;\">        17</td><td style=\"text-align: right;\">       15</td><td style=\"text-align: right;\">       21</td><td style=\"text-align: right;\">  3.4641 </td><td style=\"text-align: right;\">         1</td><td style=\"text-align: right;\">        1</td><td style=\"text-align: right;\">        1</td><td style=\"text-align: right;\">        0</td><td style=\"text-align: right;\">        23</td><td style=\"text-align: right;\">       21</td><td style=\"text-align: right;\">       27</td><td style=\"text-align: right;\">   3.4641</td><td style=\"text-align: right;\">    26.6667</td><td style=\"text-align: right;\">        10</td><td style=\"text-align: right;\">        60</td><td style=\"text-align: right;\">   28.8675</td><td style=\"text-align: right;\">            9.33333</td><td style=\"text-align: right;\">                 8</td><td style=\"text-align: right;\">                12</td><td style=\"text-align: right;\">           2.3094 </td><td style=\"text-align: right;\">            0.666667</td><td style=\"text-align: right;\">                  0</td><td style=\"text-align: right;\">                  2</td><td style=\"text-align: right;\">            1.1547 </td><td style=\"text-align: right;\">             4.33333</td><td style=\"text-align: right;\">                  3</td><td style=\"text-align: right;\">                  7</td><td style=\"text-align: right;\">             2.3094</td><td style=\"text-align: right;\">              3.33333</td><td style=\"text-align: right;\">                   3</td><td style=\"text-align: right;\">                   4</td><td style=\"text-align: right;\">             0.57735</td><td style=\"text-align: right;\">                    0  </td><td style=\"text-align: right;\">                     0</td><td style=\"text-align: right;\">                     0</td><td style=\"text-align: right;\">              0       </td><td style=\"text-align: right;\">                    0</td><td style=\"text-align: right;\">                   0</td><td style=\"text-align: right;\">                   0</td><td style=\"text-align: right;\">                   0</td><td style=\"text-align: right;\">                     0</td><td style=\"text-align: right;\">                    0</td><td style=\"text-align: right;\">                    0</td><td style=\"text-align: right;\">                    0</td><td style=\"text-align: right;\">                  0</td><td style=\"text-align: right;\">                 0</td><td style=\"text-align: right;\">                 0</td><td style=\"text-align: right;\">                 0</td><td style=\"text-align: right;\">                         0</td><td style=\"text-align: right;\">                        0</td><td style=\"text-align: right;\">                        0</td><td style=\"text-align: right;\">                        0</td><td style=\"text-align: right;\">               4  </td><td style=\"text-align: right;\">                2</td><td style=\"text-align: right;\">                5</td><td style=\"text-align: right;\">          1.73205</td><td style=\"text-align: right;\">            2.66667</td><td style=\"text-align: right;\">                 2</td><td style=\"text-align: right;\">                 3</td><td style=\"text-align: right;\">           0.57735</td><td style=\"text-align: right;\">            1.33333</td><td style=\"text-align: right;\">                 0</td><td style=\"text-align: right;\">                 2</td><td style=\"text-align: right;\">            1.1547</td><td style=\"text-align: right;\">             2.66667</td><td style=\"text-align: right;\">                  2</td><td style=\"text-align: right;\">                  3</td><td style=\"text-align: right;\">            0.57735</td><td style=\"text-align: right;\">                     0</td><td style=\"text-align: right;\">                    0</td><td style=\"text-align: right;\">                    0</td><td style=\"text-align: right;\">                    0</td><td style=\"text-align: right;\">                   0</td><td style=\"text-align: right;\">                  0</td><td style=\"text-align: right;\">                  0</td><td style=\"text-align: right;\">                  0</td><td style=\"text-align: right;\">           2.66667</td><td style=\"text-align: right;\">                2</td><td style=\"text-align: right;\">                3</td><td style=\"text-align: right;\">          0.57735</td><td style=\"text-align: right;\">                        0</td><td style=\"text-align: right;\">                       0</td><td style=\"text-align: right;\">                       0</td><td style=\"text-align: right;\">                       0</td><td style=\"text-align: right;\">    8.33333</td><td style=\"text-align: right;\">         7</td><td style=\"text-align: right;\">        11</td><td style=\"text-align: right;\">    2.3094</td><td style=\"text-align: right;\">   78.3333</td><td style=\"text-align: right;\">       72</td><td style=\"text-align: right;\">       91</td><td style=\"text-align: right;\">  10.9697</td><td style=\"text-align: right;\">         13.3333</td><td style=\"text-align: right;\">             11</td><td style=\"text-align: right;\">             18</td><td style=\"text-align: right;\">        4.04145</td><td style=\"text-align: right;\">             0</td><td style=\"text-align: right;\">            0</td><td style=\"text-align: right;\">            0</td><td style=\"text-align: right;\">            0</td><td style=\"text-align: right;\">                    1</td><td style=\"text-align: right;\">                   1</td><td style=\"text-align: right;\">                   1</td><td style=\"text-align: right;\">                   0</td><td style=\"text-align: right;\">                 2</td><td style=\"text-align: right;\">                2</td><td style=\"text-align: right;\">                2</td><td style=\"text-align: right;\">                0</td><td style=\"text-align: right;\">                          0</td><td style=\"text-align: right;\">                         0</td><td style=\"text-align: right;\">                         0</td><td style=\"text-align: right;\">                         0</td><td style=\"text-align: right;\">                 8.66667</td><td style=\"text-align: right;\">                      6</td><td style=\"text-align: right;\">                     10</td><td style=\"text-align: right;\">                 2.3094</td><td style=\"text-align: right;\">                2</td><td style=\"text-align: right;\">               2</td><td style=\"text-align: right;\">               2</td><td style=\"text-align: right;\">               0</td><td style=\"text-align: right;\">              10.3333</td><td style=\"text-align: right;\">                   9</td><td style=\"text-align: right;\">                  11</td><td style=\"text-align: right;\">             1.1547 </td><td style=\"text-align: right;\">                 1.66667</td><td style=\"text-align: right;\">                      1</td><td style=\"text-align: right;\">                      2</td><td style=\"text-align: right;\">                0.57735</td><td style=\"text-align: right;\">                  9</td><td style=\"text-align: right;\">                 9</td><td style=\"text-align: right;\">                 9</td><td style=\"text-align: right;\">           0      </td><td style=\"text-align: right;\">               2.33333</td><td style=\"text-align: right;\">                    1</td><td style=\"text-align: right;\">                    3</td><td style=\"text-align: right;\">               1.1547</td><td style=\"text-align: right;\">                         0</td><td style=\"text-align: right;\">                        0</td><td style=\"text-align: right;\">                        0</td><td style=\"text-align: right;\">                        0</td><td style=\"text-align: right;\">                   0</td><td style=\"text-align: right;\">                  0</td><td style=\"text-align: right;\">                  0</td><td style=\"text-align: right;\">                  0</td><td style=\"text-align: right;\">         0.333333</td><td style=\"text-align: right;\">               0</td><td style=\"text-align: right;\">               1</td><td style=\"text-align: right;\">         0.57735</td><td style=\"text-align: right;\">              86.3333</td><td style=\"text-align: right;\">                  67</td><td style=\"text-align: right;\">                 125</td><td style=\"text-align: right;\">             33.4863</td><td style=\"text-align: right;\">               1</td><td style=\"text-align: right;\">              1</td><td style=\"text-align: right;\">              1</td><td style=\"text-align: right;\">              0</td><td style=\"text-align: right;\">                241  </td><td style=\"text-align: right;\">                   112  </td><td style=\"text-align: right;\">                      4.28005</td></tr>\n",
       "<tr><td style=\"text-align: right;\">   2      </td><td style=\"text-align: right;\">        2</td><td style=\"text-align: right;\">        2</td><td style=\"text-align: right;\">  0      </td><td style=\"text-align: right;\">         9</td><td style=\"text-align: right;\">        9</td><td style=\"text-align: right;\">        9</td><td style=\"text-align: right;\">  0      </td><td style=\"text-align: right;\">         1</td><td style=\"text-align: right;\">        1</td><td style=\"text-align: right;\">        1</td><td style=\"text-align: right;\">        0</td><td style=\"text-align: right;\">         5</td><td style=\"text-align: right;\">        5</td><td style=\"text-align: right;\">        5</td><td style=\"text-align: right;\">   0     </td><td style=\"text-align: right;\">     0     </td><td style=\"text-align: right;\">         0</td><td style=\"text-align: right;\">         0</td><td style=\"text-align: right;\">    0     </td><td style=\"text-align: right;\">            6      </td><td style=\"text-align: right;\">                 6</td><td style=\"text-align: right;\">                 6</td><td style=\"text-align: right;\">           0      </td><td style=\"text-align: right;\">            1       </td><td style=\"text-align: right;\">                  1</td><td style=\"text-align: right;\">                  1</td><td style=\"text-align: right;\">            0      </td><td style=\"text-align: right;\">             4      </td><td style=\"text-align: right;\">                  4</td><td style=\"text-align: right;\">                  4</td><td style=\"text-align: right;\">             0     </td><td style=\"text-align: right;\">              2      </td><td style=\"text-align: right;\">                   2</td><td style=\"text-align: right;\">                   2</td><td style=\"text-align: right;\">             0      </td><td style=\"text-align: right;\">                    0  </td><td style=\"text-align: right;\">                     0</td><td style=\"text-align: right;\">                     0</td><td style=\"text-align: right;\">              0       </td><td style=\"text-align: right;\">                    0</td><td style=\"text-align: right;\">                   0</td><td style=\"text-align: right;\">                   0</td><td style=\"text-align: right;\">                   0</td><td style=\"text-align: right;\">                     0</td><td style=\"text-align: right;\">                    0</td><td style=\"text-align: right;\">                    0</td><td style=\"text-align: right;\">                    0</td><td style=\"text-align: right;\">                  0</td><td style=\"text-align: right;\">                 0</td><td style=\"text-align: right;\">                 0</td><td style=\"text-align: right;\">                 0</td><td style=\"text-align: right;\">                         0</td><td style=\"text-align: right;\">                        0</td><td style=\"text-align: right;\">                        0</td><td style=\"text-align: right;\">                        0</td><td style=\"text-align: right;\">               1  </td><td style=\"text-align: right;\">                1</td><td style=\"text-align: right;\">                1</td><td style=\"text-align: right;\">          0      </td><td style=\"text-align: right;\">            0      </td><td style=\"text-align: right;\">                 0</td><td style=\"text-align: right;\">                 0</td><td style=\"text-align: right;\">           0      </td><td style=\"text-align: right;\">            1      </td><td style=\"text-align: right;\">                 1</td><td style=\"text-align: right;\">                 1</td><td style=\"text-align: right;\">            0     </td><td style=\"text-align: right;\">             0      </td><td style=\"text-align: right;\">                  0</td><td style=\"text-align: right;\">                  0</td><td style=\"text-align: right;\">            0      </td><td style=\"text-align: right;\">                     0</td><td style=\"text-align: right;\">                    0</td><td style=\"text-align: right;\">                    0</td><td style=\"text-align: right;\">                    0</td><td style=\"text-align: right;\">                   0</td><td style=\"text-align: right;\">                  0</td><td style=\"text-align: right;\">                  0</td><td style=\"text-align: right;\">                  0</td><td style=\"text-align: right;\">           1      </td><td style=\"text-align: right;\">                1</td><td style=\"text-align: right;\">                1</td><td style=\"text-align: right;\">          0      </td><td style=\"text-align: right;\">                        0</td><td style=\"text-align: right;\">                       0</td><td style=\"text-align: right;\">                       0</td><td style=\"text-align: right;\">                       0</td><td style=\"text-align: right;\">    5      </td><td style=\"text-align: right;\">         5</td><td style=\"text-align: right;\">         5</td><td style=\"text-align: right;\">    0     </td><td style=\"text-align: right;\">   31     </td><td style=\"text-align: right;\">       31</td><td style=\"text-align: right;\">       31</td><td style=\"text-align: right;\">   0     </td><td style=\"text-align: right;\">          7     </td><td style=\"text-align: right;\">              7</td><td style=\"text-align: right;\">              7</td><td style=\"text-align: right;\">        0      </td><td style=\"text-align: right;\">             0</td><td style=\"text-align: right;\">            0</td><td style=\"text-align: right;\">            0</td><td style=\"text-align: right;\">            0</td><td style=\"text-align: right;\">                    3</td><td style=\"text-align: right;\">                   3</td><td style=\"text-align: right;\">                   3</td><td style=\"text-align: right;\">                   0</td><td style=\"text-align: right;\">                 0</td><td style=\"text-align: right;\">                0</td><td style=\"text-align: right;\">                0</td><td style=\"text-align: right;\">                0</td><td style=\"text-align: right;\">                          2</td><td style=\"text-align: right;\">                         2</td><td style=\"text-align: right;\">                         2</td><td style=\"text-align: right;\">                         0</td><td style=\"text-align: right;\">                 3      </td><td style=\"text-align: right;\">                      3</td><td style=\"text-align: right;\">                      3</td><td style=\"text-align: right;\">                 0     </td><td style=\"text-align: right;\">                4</td><td style=\"text-align: right;\">               4</td><td style=\"text-align: right;\">               4</td><td style=\"text-align: right;\">               0</td><td style=\"text-align: right;\">               2     </td><td style=\"text-align: right;\">                   2</td><td style=\"text-align: right;\">                   2</td><td style=\"text-align: right;\">             0      </td><td style=\"text-align: right;\">                 1      </td><td style=\"text-align: right;\">                      1</td><td style=\"text-align: right;\">                      1</td><td style=\"text-align: right;\">                0      </td><td style=\"text-align: right;\">                  2</td><td style=\"text-align: right;\">                 2</td><td style=\"text-align: right;\">                 2</td><td style=\"text-align: right;\">           0      </td><td style=\"text-align: right;\">               0      </td><td style=\"text-align: right;\">                    0</td><td style=\"text-align: right;\">                    0</td><td style=\"text-align: right;\">               0     </td><td style=\"text-align: right;\">                         0</td><td style=\"text-align: right;\">                        0</td><td style=\"text-align: right;\">                        0</td><td style=\"text-align: right;\">                        0</td><td style=\"text-align: right;\">                   0</td><td style=\"text-align: right;\">                  0</td><td style=\"text-align: right;\">                  0</td><td style=\"text-align: right;\">                  0</td><td style=\"text-align: right;\">         0       </td><td style=\"text-align: right;\">               0</td><td style=\"text-align: right;\">               0</td><td style=\"text-align: right;\">         0      </td><td style=\"text-align: right;\">              42     </td><td style=\"text-align: right;\">                  42</td><td style=\"text-align: right;\">                  42</td><td style=\"text-align: right;\">              0     </td><td style=\"text-align: right;\">              17</td><td style=\"text-align: right;\">             17</td><td style=\"text-align: right;\">             17</td><td style=\"text-align: right;\">              0</td><td style=\"text-align: right;\">                 72  </td><td style=\"text-align: right;\">                    48  </td><td style=\"text-align: right;\">                      8.81356</td></tr>\n",
       "</tbody>\n",
       "</table>"
      ]
     },
     "metadata": {},
     "output_type": "display_data"
    },
    {
     "data": {
      "text/plain": []
     },
     "execution_count": 479,
     "metadata": {},
     "output_type": "execute_result"
    }
   ],
   "source": [
    "train"
   ]
  },
  {
   "cell_type": "code",
   "execution_count": 480,
   "metadata": {},
   "outputs": [
    {
     "data": {
      "text/plain": [
       "{'whiskers': [<matplotlib.lines.Line2D at 0x11bd25c6e80>,\n",
       "  <matplotlib.lines.Line2D at 0x11bd25d1278>],\n",
       " 'caps': [<matplotlib.lines.Line2D at 0x11bd25d15f8>,\n",
       "  <matplotlib.lines.Line2D at 0x11bd25d1978>],\n",
       " 'boxes': [<matplotlib.lines.Line2D at 0x11bd25c6d30>],\n",
       " 'medians': [<matplotlib.lines.Line2D at 0x11bd25d1cf8>],\n",
       " 'fliers': [<matplotlib.lines.Line2D at 0x11bd25c66a0>],\n",
       " 'means': []}"
      ]
     },
     "execution_count": 480,
     "metadata": {},
     "output_type": "execute_result"
    },
    {
     "data": {
      "image/png": "[encoded data removed]",
      "text/plain": [
       "<Figure size 432x288 with 1 Axes>"
      ]
     },
     "metadata": {
      "needs_background": "light"
     },
     "output_type": "display_data"
    }
   ],
   "source": [
    "pd_train = train.as_data_frame()\n",
    "plt.boxplot(pd_train['refactoring_perc_time_taken'])"
   ]
  },
  {
   "cell_type": "code",
   "execution_count": 498,
   "metadata": {},
   "outputs": [
    {
     "data": {
      "text/plain": [
       "11.956043956043956"
      ]
     },
     "execution_count": 498,
     "metadata": {},
     "output_type": "execute_result"
    }
   ],
   "source": [
    "main_df['actual_num_of_classes_touched_max'].mean()"
   ]
  },
  {
   "cell_type": "code",
   "execution_count": 481,
   "metadata": {},
   "outputs": [
    {
     "data": {
      "text/plain": [
       "91"
      ]
     },
     "execution_count": 481,
     "metadata": {},
     "output_type": "execute_result"
    }
   ],
   "source": [
    "len(main_df['actual_num_of_classes_touched_max'])"
   ]
  },
  {
   "cell_type": "code",
   "execution_count": 482,
   "metadata": {},
   "outputs": [
    {
     "data": {
      "text/plain": [
       "91"
      ]
     },
     "execution_count": 482,
     "metadata": {},
     "output_type": "execute_result"
    }
   ],
   "source": [
    "len(main_df[main_df['actual_num_of_classes_touched_max'] < 1000])"
   ]
  },
  {
   "cell_type": "code",
   "execution_count": 483,
   "metadata": {},
   "outputs": [
    {
     "data": {
      "text/plain": [
       "91"
      ]
     },
     "execution_count": 483,
     "metadata": {},
     "output_type": "execute_result"
    }
   ],
   "source": [
    "len(main_df[main_df['actual_num_of_classes_touched_max'] < 100])"
   ]
  },
  {
   "cell_type": "code",
   "execution_count": 484,
   "metadata": {},
   "outputs": [
    {
     "data": {
      "text/plain": [
       "87"
      ]
     },
     "execution_count": 484,
     "metadata": {},
     "output_type": "execute_result"
    }
   ],
   "source": [
    "len(main_df[main_df['actual_num_of_classes_touched_max'] < 50])"
   ]
  },
  {
   "cell_type": "code",
   "execution_count": 485,
   "metadata": {},
   "outputs": [
    {
     "data": {
      "text/plain": [
       "75"
      ]
     },
     "execution_count": 485,
     "metadata": {},
     "output_type": "execute_result"
    }
   ],
   "source": [
    "len(main_df[main_df['actual_num_of_classes_touched_max'] < 20])"
   ]
  },
  {
   "cell_type": "code",
   "execution_count": 486,
   "metadata": {},
   "outputs": [
    {
     "data": {
      "text/plain": [
       "56"
      ]
     },
     "execution_count": 486,
     "metadata": {},
     "output_type": "execute_result"
    }
   ],
   "source": [
    "len(main_df[main_df['actual_num_of_classes_touched_max'] < 10])"
   ]
  },
  {
   "cell_type": "code",
   "execution_count": 487,
   "metadata": {},
   "outputs": [
    {
     "data": {
      "text/plain": [
       "{'whiskers': [<matplotlib.lines.Line2D at 0x11bd2661ba8>,\n",
       "  <matplotlib.lines.Line2D at 0x11bd2661f60>],\n",
       " 'caps': [<matplotlib.lines.Line2D at 0x11bd2672320>,\n",
       "  <matplotlib.lines.Line2D at 0x11bd26726a0>],\n",
       " 'boxes': [<matplotlib.lines.Line2D at 0x11bd2661a58>],\n",
       " 'medians': [<matplotlib.lines.Line2D at 0x11bd26729e8>],\n",
       " 'fliers': [<matplotlib.lines.Line2D at 0x11bd2672d30>],\n",
       " 'means': []}"
      ]
     },
     "execution_count": 487,
     "metadata": {},
     "output_type": "execute_result"
    },
    {
     "data": {
      "image/png": "[encoded data removed]",
      "text/plain": [
       "<Figure size 432x288 with 1 Axes>"
      ]
     },
     "metadata": {
      "needs_background": "light"
     },
     "output_type": "display_data"
    }
   ],
   "source": [
    "plt.boxplot(main_df['actual_num_of_classes_touched_max'])"
   ]
  },
  {
   "cell_type": "code",
   "execution_count": 488,
   "metadata": {},
   "outputs": [],
   "source": [
    "main_df_num_of_classes_without_outliers = main_df[main_df['actual_num_of_classes_touched_max'] < 1000]"
   ]
  },
  {
   "cell_type": "code",
   "execution_count": 489,
   "metadata": {},
   "outputs": [
    {
     "data": {
      "text/plain": [
       "{'whiskers': [<matplotlib.lines.Line2D at 0x11bd26cf588>,\n",
       "  <matplotlib.lines.Line2D at 0x11bd26cf940>],\n",
       " 'caps': [<matplotlib.lines.Line2D at 0x11bd26cfcc0>,\n",
       "  <matplotlib.lines.Line2D at 0x11bd26dd080>],\n",
       " 'boxes': [<matplotlib.lines.Line2D at 0x11bd26cf438>],\n",
       " 'medians': [<matplotlib.lines.Line2D at 0x11bd26dd400>],\n",
       " 'fliers': [<matplotlib.lines.Line2D at 0x11bd26dd780>],\n",
       " 'means': []}"
      ]
     },
     "execution_count": 489,
     "metadata": {},
     "output_type": "execute_result"
    },
    {
     "data": {
      "image/png": "[encoded data removed]",
      "text/plain": [
       "<Figure size 432x288 with 1 Axes>"
      ]
     },
     "metadata": {
      "needs_background": "light"
     },
     "output_type": "display_data"
    }
   ],
   "source": [
    "plt.boxplot(main_df_num_of_classes_without_outliers['actual_num_of_classes_touched_max'])"
   ]
  },
  {
   "cell_type": "code",
   "execution_count": 490,
   "metadata": {},
   "outputs": [
    {
     "data": {
      "text/plain": [
       "{'whiskers': [<matplotlib.lines.Line2D at 0x11bd2739048>,\n",
       "  <matplotlib.lines.Line2D at 0x11bd2739400>],\n",
       " 'caps': [<matplotlib.lines.Line2D at 0x11bd2739780>,\n",
       "  <matplotlib.lines.Line2D at 0x11bd2739b00>],\n",
       " 'boxes': [<matplotlib.lines.Line2D at 0x11bd2728eb8>],\n",
       " 'medians': [<matplotlib.lines.Line2D at 0x11bd2739e80>],\n",
       " 'fliers': [<matplotlib.lines.Line2D at 0x11bd2743240>],\n",
       " 'means': []}"
      ]
     },
     "execution_count": 490,
     "metadata": {},
     "output_type": "execute_result"
    },
    {
     "data": {
      "image/png": "[encoded data removed]",
      "text/plain": [
       "<Figure size 432x288 with 1 Axes>"
      ]
     },
     "metadata": {
      "needs_background": "light"
     },
     "output_type": "display_data"
    }
   ],
   "source": [
    "main_df_num_of_classes_without_outliers = main_df[main_df['actual_num_of_classes_touched_max'] < 100]\n",
    "plt.boxplot(main_df_num_of_classes_without_outliers['actual_num_of_classes_touched_max'])"
   ]
  },
  {
   "cell_type": "code",
   "execution_count": 491,
   "metadata": {},
   "outputs": [],
   "source": [
    "pd_test = test.as_data_frame()\n",
    "pd_preds['actual_time_taken'] = pd_test['refactoring_perc_time_taken']"
   ]
  },
  {
   "cell_type": "code",
   "execution_count": 492,
   "metadata": {
    "scrolled": true
   },
   "outputs": [
    {
     "data": {
      "text/html": [
       "<div>\n",
       "<style scoped>\n",
       "    .dataframe tbody tr th:only-of-type {\n",
       "        vertical-align: middle;\n",
       "    }\n",
       "\n",
       "    .dataframe tbody tr th {\n",
       "        vertical-align: top;\n",
       "    }\n",
       "\n",
       "    .dataframe thead th {\n",
       "        text-align: right;\n",
       "    }\n",
       "</style>\n",
       "<table border=\"1\" class=\"dataframe\">\n",
       "  <thead>\n",
       "    <tr style=\"text-align: right;\">\n",
       "      <th></th>\n",
       "      <th>predict</th>\n",
       "      <th>actual_time_taken</th>\n",
       "    </tr>\n",
       "  </thead>\n",
       "  <tbody>\n",
       "    <tr>\n",
       "      <th>0</th>\n",
       "      <td>14.273643</td>\n",
       "      <td>15.000000</td>\n",
       "    </tr>\n",
       "    <tr>\n",
       "      <th>1</th>\n",
       "      <td>19.549781</td>\n",
       "      <td>10.000000</td>\n",
       "    </tr>\n",
       "    <tr>\n",
       "      <th>2</th>\n",
       "      <td>14.406380</td>\n",
       "      <td>9.487500</td>\n",
       "    </tr>\n",
       "    <tr>\n",
       "      <th>3</th>\n",
       "      <td>17.174108</td>\n",
       "      <td>27.153976</td>\n",
       "    </tr>\n",
       "    <tr>\n",
       "      <th>4</th>\n",
       "      <td>6.883982</td>\n",
       "      <td>2.547895</td>\n",
       "    </tr>\n",
       "    <tr>\n",
       "      <th>5</th>\n",
       "      <td>15.352283</td>\n",
       "      <td>12.574074</td>\n",
       "    </tr>\n",
       "    <tr>\n",
       "      <th>6</th>\n",
       "      <td>9.108564</td>\n",
       "      <td>5.606557</td>\n",
       "    </tr>\n",
       "    <tr>\n",
       "      <th>7</th>\n",
       "      <td>7.826377</td>\n",
       "      <td>4.462687</td>\n",
       "    </tr>\n",
       "    <tr>\n",
       "      <th>8</th>\n",
       "      <td>7.572241</td>\n",
       "      <td>12.254902</td>\n",
       "    </tr>\n",
       "    <tr>\n",
       "      <th>9</th>\n",
       "      <td>6.441863</td>\n",
       "      <td>5.151862</td>\n",
       "    </tr>\n",
       "    <tr>\n",
       "      <th>10</th>\n",
       "      <td>13.563403</td>\n",
       "      <td>9.720238</td>\n",
       "    </tr>\n",
       "    <tr>\n",
       "      <th>11</th>\n",
       "      <td>8.802389</td>\n",
       "      <td>32.716578</td>\n",
       "    </tr>\n",
       "    <tr>\n",
       "      <th>12</th>\n",
       "      <td>18.502999</td>\n",
       "      <td>24.685121</td>\n",
       "    </tr>\n",
       "    <tr>\n",
       "      <th>13</th>\n",
       "      <td>9.342895</td>\n",
       "      <td>14.557292</td>\n",
       "    </tr>\n",
       "    <tr>\n",
       "      <th>14</th>\n",
       "      <td>13.790026</td>\n",
       "      <td>7.500000</td>\n",
       "    </tr>\n",
       "    <tr>\n",
       "      <th>15</th>\n",
       "      <td>11.925131</td>\n",
       "      <td>34.606965</td>\n",
       "    </tr>\n",
       "    <tr>\n",
       "      <th>16</th>\n",
       "      <td>6.783170</td>\n",
       "      <td>2.940476</td>\n",
       "    </tr>\n",
       "    <tr>\n",
       "      <th>17</th>\n",
       "      <td>4.924496</td>\n",
       "      <td>3.252595</td>\n",
       "    </tr>\n",
       "    <tr>\n",
       "      <th>18</th>\n",
       "      <td>6.997427</td>\n",
       "      <td>9.940299</td>\n",
       "    </tr>\n",
       "    <tr>\n",
       "      <th>19</th>\n",
       "      <td>6.250938</td>\n",
       "      <td>4.067797</td>\n",
       "    </tr>\n",
       "    <tr>\n",
       "      <th>20</th>\n",
       "      <td>5.825249</td>\n",
       "      <td>5.322188</td>\n",
       "    </tr>\n",
       "    <tr>\n",
       "      <th>21</th>\n",
       "      <td>8.032235</td>\n",
       "      <td>29.600000</td>\n",
       "    </tr>\n",
       "    <tr>\n",
       "      <th>22</th>\n",
       "      <td>13.325738</td>\n",
       "      <td>3.009646</td>\n",
       "    </tr>\n",
       "    <tr>\n",
       "      <th>23</th>\n",
       "      <td>9.347266</td>\n",
       "      <td>17.000000</td>\n",
       "    </tr>\n",
       "    <tr>\n",
       "      <th>24</th>\n",
       "      <td>9.803586</td>\n",
       "      <td>9.000000</td>\n",
       "    </tr>\n",
       "    <tr>\n",
       "      <th>25</th>\n",
       "      <td>17.953179</td>\n",
       "      <td>20.989399</td>\n",
       "    </tr>\n",
       "  </tbody>\n",
       "</table>\n",
       "</div>"
      ],
      "text/plain": [
       "      predict  actual_time_taken\n",
       "0   14.273643          15.000000\n",
       "1   19.549781          10.000000\n",
       "2   14.406380           9.487500\n",
       "3   17.174108          27.153976\n",
       "4    6.883982           2.547895\n",
       "5   15.352283          12.574074\n",
       "6    9.108564           5.606557\n",
       "7    7.826377           4.462687\n",
       "8    7.572241          12.254902\n",
       "9    6.441863           5.151862\n",
       "10  13.563403           9.720238\n",
       "11   8.802389          32.716578\n",
       "12  18.502999          24.685121\n",
       "13   9.342895          14.557292\n",
       "14  13.790026           7.500000\n",
       "15  11.925131          34.606965\n",
       "16   6.783170           2.940476\n",
       "17   4.924496           3.252595\n",
       "18   6.997427           9.940299\n",
       "19   6.250938           4.067797\n",
       "20   5.825249           5.322188\n",
       "21   8.032235          29.600000\n",
       "22  13.325738           3.009646\n",
       "23   9.347266          17.000000\n",
       "24   9.803586           9.000000\n",
       "25  17.953179          20.989399"
      ]
     },
     "execution_count": 492,
     "metadata": {},
     "output_type": "execute_result"
    }
   ],
   "source": [
    "pd_preds"
   ]
  },
  {
   "cell_type": "code",
   "execution_count": 493,
   "metadata": {},
   "outputs": [
    {
     "data": {
      "text/plain": [
       "{'whiskers': [<matplotlib.lines.Line2D at 0x11bd2792eb8>,\n",
       "  <matplotlib.lines.Line2D at 0x11bd279f2b0>],\n",
       " 'caps': [<matplotlib.lines.Line2D at 0x11bd279f630>,\n",
       "  <matplotlib.lines.Line2D at 0x11bd279f9b0>],\n",
       " 'boxes': [<matplotlib.lines.Line2D at 0x11bd2792d68>],\n",
       " 'medians': [<matplotlib.lines.Line2D at 0x11bd279fd30>],\n",
       " 'fliers': [<matplotlib.lines.Line2D at 0x11bd27a70f0>],\n",
       " 'means': []}"
      ]
     },
     "execution_count": 493,
     "metadata": {},
     "output_type": "execute_result"
    },
    {
     "data": {
      "image/png": "[encoded data removed]",
      "text/plain": [
       "<Figure size 432x288 with 1 Axes>"
      ]
     },
     "metadata": {
      "needs_background": "light"
     },
     "output_type": "display_data"
    }
   ],
   "source": [
    "plt.boxplot(pd_preds['predict'])"
   ]
  },
  {
   "cell_type": "code",
   "execution_count": 494,
   "metadata": {},
   "outputs": [
    {
     "data": {
      "text/plain": [
       "{'whiskers': [<matplotlib.lines.Line2D at 0x11bd2802208>,\n",
       "  <matplotlib.lines.Line2D at 0x11bd28025c0>],\n",
       " 'caps': [<matplotlib.lines.Line2D at 0x11bd2802940>,\n",
       "  <matplotlib.lines.Line2D at 0x11bd2802cc0>],\n",
       " 'boxes': [<matplotlib.lines.Line2D at 0x11bd28020b8>],\n",
       " 'medians': [<matplotlib.lines.Line2D at 0x11bd280d080>],\n",
       " 'fliers': [<matplotlib.lines.Line2D at 0x11bd280d400>],\n",
       " 'means': []}"
      ]
     },
     "execution_count": 494,
     "metadata": {},
     "output_type": "execute_result"
    },
    {
     "data": {
      "image/png": "[encoded data removed]",
      "text/plain": [
       "<Figure size 432x288 with 1 Axes>"
      ]
     },
     "metadata": {
      "needs_background": "light"
     },
     "output_type": "display_data"
    }
   ],
   "source": [
    "plt.boxplot(pd_preds['actual_time_taken'])"
   ]
  },
  {
   "cell_type": "code",
   "execution_count": 495,
   "metadata": {},
   "outputs": [
    {
     "data": {
      "image/png": "[encoded data removed]",
      "text/plain": [
       "<Figure size 432x288 with 1 Axes>"
      ]
     },
     "metadata": {
      "needs_background": "light"
     },
     "output_type": "display_data"
    }
   ],
   "source": [
    "plotGraph(pd_preds['predict'], pd_preds['actual_time_taken'],' test')"
   ]
  },
  {
   "cell_type": "code",
   "execution_count": 497,
   "metadata": {},
   "outputs": [],
   "source": [
    "# save the model\n",
    "model_path = h2o.save_model(model=model, path=\"models/EffortEstimationModelv2\", force=True)"
   ]
  },
  {
   "cell_type": "markdown",
   "metadata": {},
   "source": [
    "Documentation at the following\n",
    "\n",
    "https://docs.h2o.ai/h2o/latest-stable/h2o-py/docs/_modules/h2o/explanation/_explain.html"
   ]
  },
  {
   "cell_type": "code",
   "execution_count": 496,
   "metadata": {
    "scrolled": false
   },
   "outputs": [
    {
     "data": {
      "text/html": [
       "<h1>Variable Importance</h1>"
      ],
      "text/markdown": [
       "\n",
       "\n",
       "# Variable Importance"
      ],
      "text/plain": [
       "\n",
       "\n",
       "# Variable Importance"
      ]
     },
     "metadata": {},
     "output_type": "display_data"
    },
    {
     "data": {
      "text/html": [
       "<blockquote>The variable importance plot shows the relative importance of the most important variables in the model.</blockquote>"
      ],
      "text/markdown": [
       "\n",
       "> The variable importance plot shows the relative importance of the most important variables in the model."
      ],
      "text/plain": [
       "\n",
       "> The variable importance plot shows the relative importance of the most important variables in the model."
      ]
     },
     "metadata": {},
     "output_type": "display_data"
    },
    {
     "data": {
      "image/png": "[encoded data removed]",
      "text/plain": [
       "<Figure size 1152x648 with 1 Axes>"
      ]
     },
     "metadata": {
      "needs_background": "light"
     },
     "output_type": "display_data"
    },
    {
     "name": "stdout",
     "output_type": "stream",
     "text": [
      "\n",
      "\n"
     ]
    },
    {
     "data": {
      "text/html": [
       "<h1>SHAP Summary</h1>"
      ],
      "text/markdown": [
       "\n",
       "\n",
       "# SHAP Summary"
      ],
      "text/plain": [
       "\n",
       "\n",
       "# SHAP Summary"
      ]
     },
     "metadata": {},
     "output_type": "display_data"
    },
    {
     "data": {
      "text/html": [
       "<blockquote>SHAP summary plot shows the contribution of the features for each instance (row of data). The sum of the feature contributions and the bias term is equal to the raw prediction of the model, i.e., prediction before applying inverse link function.</blockquote>"
      ],
      "text/markdown": [
       "\n",
       "> SHAP summary plot shows the contribution of the features for each instance (row of data). The sum of the feature contributions and the bias term is equal to the raw prediction of the model, i.e., prediction before applying inverse link function."
      ],
      "text/plain": [
       "\n",
       "> SHAP summary plot shows the contribution of the features for each instance (row of data). The sum of the feature contributions and the bias term is equal to the raw prediction of the model, i.e., prediction before applying inverse link function."
      ]
     },
     "metadata": {},
     "output_type": "display_data"
    },
    {
     "data": {
      "image/png": "[encoded data removed]",
      "text/plain": [
       "<Figure size 1152x648 with 2 Axes>"
      ]
     },
     "metadata": {
      "needs_background": "light"
     },
     "output_type": "display_data"
    },
    {
     "name": "stdout",
     "output_type": "stream",
     "text": [
      "\n",
      "\n"
     ]
    },
    {
     "data": {
      "text/html": [
       "<h1>Variable Importance</h1>"
      ],
      "text/markdown": [
       "\n",
       "\n",
       "# Variable Importance"
      ],
      "text/plain": [
       "\n",
       "\n",
       "# Variable Importance"
      ]
     },
     "metadata": {},
     "output_type": "display_data"
    },
    {
     "data": {
      "text/html": [
       "<blockquote>The variable importance plot shows the relative importance of the most important variables in the model.</blockquote>"
      ],
      "text/markdown": [
       "\n",
       "> The variable importance plot shows the relative importance of the most important variables in the model."
      ],
      "text/plain": [
       "\n",
       "> The variable importance plot shows the relative importance of the most important variables in the model."
      ]
     },
     "metadata": {},
     "output_type": "display_data"
    },
    {
     "data": {
      "image/png": "[encoded data removed]",
      "text/plain": [
       "<Figure size 1152x648 with 1 Axes>"
      ]
     },
     "metadata": {},
     "output_type": "display_data"
    },
    {
     "data": {
      "text/html": [
       "<h1>SHAP Summary</h1>"
      ],
      "text/markdown": [
       "\n",
       "\n",
       "# SHAP Summary"
      ],
      "text/plain": [
       "\n",
       "\n",
       "# SHAP Summary"
      ]
     },
     "metadata": {},
     "output_type": "display_data"
    },
    {
     "data": {
      "text/html": [
       "<blockquote>SHAP summary plot shows the contribution of the features for each instance (row of data). The sum of the feature contributions and the bias term is equal to the raw prediction of the model, i.e., prediction before applying inverse link function.</blockquote>"
      ],
      "text/markdown": [
       "\n",
       "> SHAP summary plot shows the contribution of the features for each instance (row of data). The sum of the feature contributions and the bias term is equal to the raw prediction of the model, i.e., prediction before applying inverse link function."
      ],
      "text/plain": [
       "\n",
       "> SHAP summary plot shows the contribution of the features for each instance (row of data). The sum of the feature contributions and the bias term is equal to the raw prediction of the model, i.e., prediction before applying inverse link function."
      ]
     },
     "metadata": {},
     "output_type": "display_data"
    },
    {
     "data": {
      "image/png": "[encoded data removed]",
      "text/plain": [
       "<Figure size 1152x648 with 2 Axes>"
      ]
     },
     "metadata": {},
     "output_type": "display_data"
    }
   ],
   "source": [
    "aml.explain(test, include_explanations=[\"varimp\",'shap_summary'])"
   ]
  },
  {
   "cell_type": "code",
   "execution_count": null,
   "metadata": {},
   "outputs": [],
   "source": []
  },
  {
   "cell_type": "code",
   "execution_count": 65,
   "metadata": {
    "scrolled": false
   },
   "outputs": [],
   "source": [
    "#aml.explain_row(test, row_index=0)"
   ]
  },
  {
   "cell_type": "code",
   "execution_count": 66,
   "metadata": {},
   "outputs": [],
   "source": [
    "#h2o.shutdown()"
   ]
  },
  {
   "cell_type": "code",
   "execution_count": null,
   "metadata": {},
   "outputs": [],
   "source": []
  },
  {
   "cell_type": "code",
   "execution_count": null,
   "metadata": {},
   "outputs": [],
   "source": []
  }
 ],
 "metadata": {
  "kernelspec": {
   "display_name": "Python 3",
   "language": "python",
   "name": "python3"
  },
  "language_info": {
   "codemirror_mode": {
    "name": "ipython",
    "version": 3
   },
   "file_extension": ".py",
   "mimetype": "text/x-python",
   "name": "python",
   "nbconvert_exporter": "python",
   "pygments_lexer": "ipython3",
   "version": "3.7.3"
  }
 },
 "nbformat": 4,
 "nbformat_minor": 2
}
