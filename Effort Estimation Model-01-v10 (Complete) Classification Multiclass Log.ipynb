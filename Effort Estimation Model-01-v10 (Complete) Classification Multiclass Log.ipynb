{
 "cells": [
  {
   "cell_type": "code",
   "execution_count": 27,
   "metadata": {},
   "outputs": [],
   "source": [
    "import json\n",
    "import pandas as pd\n",
    "import numpy as np\n",
    "import networkx as nx\n",
    "import jellyfish\n",
    "import os\n",
    "import shutil\n",
    "import subprocess\n",
    "import requests\n",
    "from github import Github\n",
    "from git import Repo\n",
    "from scipy.cluster.hierarchy import dendrogram, linkage\n",
    "from matplotlib import pyplot as plt\n",
    "from sklearn.feature_extraction.text import TfidfVectorizer\n",
    "from sklearn.cluster import KMeans\n",
    "from sklearn.metrics import adjusted_rand_score\n",
    "from sklearn import preprocessing\n",
    "from sklearn.cluster import AgglomerativeClustering\n",
    "from zipfile import ZipFile\n",
    "from filecmp import dircmp\n",
    "import configparser\n",
    "import h2o\n",
    "import scipy as sp"
   ]
  },
  {
   "cell_type": "markdown",
   "metadata": {},
   "source": [
    "## Result Gathering"
   ]
  },
  {
   "cell_type": "code",
   "execution_count": 235,
   "metadata": {},
   "outputs": [
    {
     "name": "stdout",
     "output_type": "stream",
     "text": [
      "Alluxio.csv\n",
      "Assertj-core.csv\n",
      "Atmosphere.csv\n",
      "AxonFramework.csv\n",
      "Beam.csv\n",
      "Byte-buddy.csv\n",
      "Camel.csv\n",
      "Cas.csv\n",
      "Cassandra.csv\n",
      "Cxf.csv\n",
      "Dbeaver.csv\n",
      "Eclim.csv\n",
      "Guacamole-client.csv\n",
      "Hadoop.csv\n",
      "Hawtio.csv\n",
      "karaf.csv\n",
      "Okhttp.csv\n",
      "Openapi-generator.csv\n",
      "Orientdb.csv\n",
      "Redisson.csv\n",
      "Rest-assured.csv\n",
      "Spring-framework.csv\n",
      "Spring-security.csv\n",
      "Storm.csv\n",
      "Tika.csv\n",
      "Traccar.csv\n"
     ]
    }
   ],
   "source": [
    "main_df = None\n",
    "directory = \"Effort_Estimation_Results_3E_v2/\"\n",
    "for filename in os.listdir(directory):\n",
    "    print(filename)\n",
    "    if main_df is None:\n",
    "        main_df = pd.read_csv(os.path.join(directory, filename))\n",
    "        main_df['project_name'] = filename.replace('.csv', '')\n",
    "    else:\n",
    "        temp_df = pd.read_csv(os.path.join(directory, filename))\n",
    "        temp_df['project_name'] = filename.replace('.csv', '')\n",
    "        frames = [main_df, temp_df]\n",
    "        main_df = pd.concat(frames)"
   ]
  },
  {
   "cell_type": "code",
   "execution_count": 236,
   "metadata": {},
   "outputs": [
    {
     "data": {
      "text/html": [
       "<div>\n",
       "<style scoped>\n",
       "    .dataframe tbody tr th:only-of-type {\n",
       "        vertical-align: middle;\n",
       "    }\n",
       "\n",
       "    .dataframe tbody tr th {\n",
       "        vertical-align: top;\n",
       "    }\n",
       "\n",
       "    .dataframe thead th {\n",
       "        text-align: right;\n",
       "    }\n",
       "</style>\n",
       "<table border=\"1\" class=\"dataframe\">\n",
       "  <thead>\n",
       "    <tr style=\"text-align: right;\">\n",
       "      <th></th>\n",
       "      <th>kmean_label</th>\n",
       "      <th>time_taken_mean</th>\n",
       "      <th>time_taken_min</th>\n",
       "      <th>time_taken_max</th>\n",
       "      <th>time_taken_q10</th>\n",
       "      <th>time_taken_q20</th>\n",
       "      <th>time_taken_q25</th>\n",
       "      <th>time_taken_q30</th>\n",
       "      <th>time_taken_q40</th>\n",
       "      <th>time_taken_q50</th>\n",
       "      <th>...</th>\n",
       "      <th>actual_num_of_classes_touched_min</th>\n",
       "      <th>actual_num_of_classes_touched_max</th>\n",
       "      <th>actual_num_of_classes_touched_std</th>\n",
       "      <th>commit_line_changed</th>\n",
       "      <th>refactoring_perc</th>\n",
       "      <th>refactoring_perc_time_taken</th>\n",
       "      <th>cocomoII_time_taken</th>\n",
       "      <th>geneticP_time_taken</th>\n",
       "      <th>softwareMaintenance_time_taken</th>\n",
       "      <th>fuzzy_time_taken</th>\n",
       "    </tr>\n",
       "  </thead>\n",
       "  <tbody>\n",
       "    <tr>\n",
       "      <th>0</th>\n",
       "      <td>5</td>\n",
       "      <td>12.712987</td>\n",
       "      <td>1.0</td>\n",
       "      <td>166.0</td>\n",
       "      <td>1.0</td>\n",
       "      <td>1.0</td>\n",
       "      <td>2.0</td>\n",
       "      <td>2.0</td>\n",
       "      <td>3.0</td>\n",
       "      <td>5.0</td>\n",
       "      <td>...</td>\n",
       "      <td>2</td>\n",
       "      <td>2</td>\n",
       "      <td>NaN</td>\n",
       "      <td>8</td>\n",
       "      <td>1.000000</td>\n",
       "      <td>15.00000</td>\n",
       "      <td>4.13952</td>\n",
       "      <td>2.477916</td>\n",
       "      <td>12.48</td>\n",
       "      <td>42.435515</td>\n",
       "    </tr>\n",
       "    <tr>\n",
       "      <th>1</th>\n",
       "      <td>5</td>\n",
       "      <td>12.712987</td>\n",
       "      <td>1.0</td>\n",
       "      <td>166.0</td>\n",
       "      <td>1.0</td>\n",
       "      <td>1.0</td>\n",
       "      <td>2.0</td>\n",
       "      <td>2.0</td>\n",
       "      <td>3.0</td>\n",
       "      <td>5.0</td>\n",
       "      <td>...</td>\n",
       "      <td>1</td>\n",
       "      <td>1</td>\n",
       "      <td>NaN</td>\n",
       "      <td>346</td>\n",
       "      <td>0.225434</td>\n",
       "      <td>1.00000</td>\n",
       "      <td>179.03424</td>\n",
       "      <td>107.076009</td>\n",
       "      <td>2229.76</td>\n",
       "      <td>519.589347</td>\n",
       "    </tr>\n",
       "    <tr>\n",
       "      <th>2</th>\n",
       "      <td>5</td>\n",
       "      <td>12.712987</td>\n",
       "      <td>1.0</td>\n",
       "      <td>166.0</td>\n",
       "      <td>1.0</td>\n",
       "      <td>1.0</td>\n",
       "      <td>2.0</td>\n",
       "      <td>2.0</td>\n",
       "      <td>3.0</td>\n",
       "      <td>5.0</td>\n",
       "      <td>...</td>\n",
       "      <td>1</td>\n",
       "      <td>2</td>\n",
       "      <td>0.707107</td>\n",
       "      <td>35</td>\n",
       "      <td>1.000000</td>\n",
       "      <td>1.00000</td>\n",
       "      <td>18.11040</td>\n",
       "      <td>10.840124</td>\n",
       "      <td>189.60</td>\n",
       "      <td>113.234791</td>\n",
       "    </tr>\n",
       "    <tr>\n",
       "      <th>3</th>\n",
       "      <td>5</td>\n",
       "      <td>12.712987</td>\n",
       "      <td>1.0</td>\n",
       "      <td>166.0</td>\n",
       "      <td>1.0</td>\n",
       "      <td>1.0</td>\n",
       "      <td>2.0</td>\n",
       "      <td>2.0</td>\n",
       "      <td>3.0</td>\n",
       "      <td>5.0</td>\n",
       "      <td>...</td>\n",
       "      <td>1</td>\n",
       "      <td>13</td>\n",
       "      <td>4.018895</td>\n",
       "      <td>194</td>\n",
       "      <td>0.185567</td>\n",
       "      <td>3.71134</td>\n",
       "      <td>100.38336</td>\n",
       "      <td>60.060503</td>\n",
       "      <td>1232.64</td>\n",
       "      <td>353.641141</td>\n",
       "    </tr>\n",
       "    <tr>\n",
       "      <th>4</th>\n",
       "      <td>5</td>\n",
       "      <td>12.712987</td>\n",
       "      <td>1.0</td>\n",
       "      <td>166.0</td>\n",
       "      <td>1.0</td>\n",
       "      <td>1.0</td>\n",
       "      <td>2.0</td>\n",
       "      <td>2.0</td>\n",
       "      <td>3.0</td>\n",
       "      <td>5.0</td>\n",
       "      <td>...</td>\n",
       "      <td>1</td>\n",
       "      <td>136</td>\n",
       "      <td>50.585661</td>\n",
       "      <td>1938</td>\n",
       "      <td>0.004128</td>\n",
       "      <td>1.00000</td>\n",
       "      <td>1002.79872</td>\n",
       "      <td>597.273303</td>\n",
       "      <td>12673.28</td>\n",
       "      <td>1634.048307</td>\n",
       "    </tr>\n",
       "  </tbody>\n",
       "</table>\n",
       "<p>5 rows × 206 columns</p>\n",
       "</div>"
      ],
      "text/plain": [
       "   kmean_label  time_taken_mean  time_taken_min  time_taken_max  \\\n",
       "0            5        12.712987             1.0           166.0   \n",
       "1            5        12.712987             1.0           166.0   \n",
       "2            5        12.712987             1.0           166.0   \n",
       "3            5        12.712987             1.0           166.0   \n",
       "4            5        12.712987             1.0           166.0   \n",
       "\n",
       "   time_taken_q10  time_taken_q20  time_taken_q25  time_taken_q30  \\\n",
       "0             1.0             1.0             2.0             2.0   \n",
       "1             1.0             1.0             2.0             2.0   \n",
       "2             1.0             1.0             2.0             2.0   \n",
       "3             1.0             1.0             2.0             2.0   \n",
       "4             1.0             1.0             2.0             2.0   \n",
       "\n",
       "   time_taken_q40  time_taken_q50  ...  actual_num_of_classes_touched_min  \\\n",
       "0             3.0             5.0  ...                                  2   \n",
       "1             3.0             5.0  ...                                  1   \n",
       "2             3.0             5.0  ...                                  1   \n",
       "3             3.0             5.0  ...                                  1   \n",
       "4             3.0             5.0  ...                                  1   \n",
       "\n",
       "   actual_num_of_classes_touched_max  actual_num_of_classes_touched_std  \\\n",
       "0                                  2                                NaN   \n",
       "1                                  1                                NaN   \n",
       "2                                  2                           0.707107   \n",
       "3                                 13                           4.018895   \n",
       "4                                136                          50.585661   \n",
       "\n",
       "   commit_line_changed  refactoring_perc refactoring_perc_time_taken  \\\n",
       "0                    8          1.000000                    15.00000   \n",
       "1                  346          0.225434                     1.00000   \n",
       "2                   35          1.000000                     1.00000   \n",
       "3                  194          0.185567                     3.71134   \n",
       "4                 1938          0.004128                     1.00000   \n",
       "\n",
       "  cocomoII_time_taken geneticP_time_taken softwareMaintenance_time_taken  \\\n",
       "0             4.13952            2.477916                          12.48   \n",
       "1           179.03424          107.076009                        2229.76   \n",
       "2            18.11040           10.840124                         189.60   \n",
       "3           100.38336           60.060503                        1232.64   \n",
       "4          1002.79872          597.273303                       12673.28   \n",
       "\n",
       "  fuzzy_time_taken  \n",
       "0        42.435515  \n",
       "1       519.589347  \n",
       "2       113.234791  \n",
       "3       353.641141  \n",
       "4      1634.048307  \n",
       "\n",
       "[5 rows x 206 columns]"
      ]
     },
     "execution_count": 236,
     "metadata": {},
     "output_type": "execute_result"
    }
   ],
   "source": [
    "main_df.head()"
   ]
  },
  {
   "cell_type": "code",
   "execution_count": 237,
   "metadata": {},
   "outputs": [
    {
     "name": "stdout",
     "output_type": "stream",
     "text": [
      "kmean_label\n",
      "time_taken_mean\n",
      "time_taken_min\n",
      "time_taken_max\n",
      "time_taken_q10\n",
      "time_taken_q20\n",
      "time_taken_q25\n",
      "time_taken_q30\n",
      "time_taken_q40\n",
      "time_taken_q50\n",
      "time_taken_q60\n",
      "time_taken_q70\n",
      "time_taken_q75\n",
      "time_taken_q80\n",
      "time_taken_q90\n",
      "sha\n",
      "name\n",
      "email\n",
      "date\n",
      "login\n",
      "message\n",
      "parent_sha\n",
      "parent_date\n",
      "time_taken\n",
      "contains_refactoring\n",
      "project_name\n",
      "commit_compared_with\n",
      "cbo_mean\n",
      "cbo_min\n",
      "cbo_max\n",
      "cbo_std\n",
      "wmc_mean\n",
      "wmc_min\n",
      "wmc_max\n",
      "wmc_std\n",
      "dit_mean\n",
      "dit_min\n",
      "dit_max\n",
      "dit_std\n",
      "rfc_mean\n",
      "rfc_min\n",
      "rfc_max\n",
      "rfc_std\n",
      "lcom_mean\n",
      "lcom_min\n",
      "lcom_max\n",
      "lcom_std\n",
      "totalMethods_mean\n",
      "totalMethods_min\n",
      "totalMethods_max\n",
      "totalMethods_std\n",
      "staticMethods_mean\n",
      "staticMethods_min\n",
      "staticMethods_max\n",
      "staticMethods_std\n",
      "publicMethods_mean\n",
      "publicMethods_min\n",
      "publicMethods_max\n",
      "publicMethods_std\n",
      "privateMethods_mean\n",
      "privateMethods_min\n",
      "privateMethods_max\n",
      "privateMethods_std\n",
      "protectedMethods_mean\n",
      "protectedMethods_min\n",
      "protectedMethods_max\n",
      "protectedMethods_std\n",
      "defaultMethods_mean\n",
      "defaultMethods_min\n",
      "defaultMethods_max\n",
      "defaultMethods_std\n",
      "abstractMethods_mean\n",
      "abstractMethods_min\n",
      "abstractMethods_max\n",
      "abstractMethods_std\n",
      "finalMethods_mean\n",
      "finalMethods_min\n",
      "finalMethods_max\n",
      "finalMethods_std\n",
      "synchronizedMethods_mean\n",
      "synchronizedMethods_min\n",
      "synchronizedMethods_max\n",
      "synchronizedMethods_std\n",
      "totalFields_mean\n",
      "totalFields_min\n",
      "totalFields_max\n",
      "totalFields_std\n",
      "staticFields_mean\n",
      "staticFields_min\n",
      "staticFields_max\n",
      "staticFields_std\n",
      "publicFields_mean\n",
      "publicFields_min\n",
      "publicFields_max\n",
      "publicFields_std\n",
      "privateFields_mean\n",
      "privateFields_min\n",
      "privateFields_max\n",
      "privateFields_std\n",
      "protectedFields_mean\n",
      "protectedFields_min\n",
      "protectedFields_max\n",
      "protectedFields_std\n",
      "defaultFields_mean\n",
      "defaultFields_min\n",
      "defaultFields_max\n",
      "defaultFields_std\n",
      "finalFields_mean\n",
      "finalFields_min\n",
      "finalFields_max\n",
      "finalFields_std\n",
      "synchronizedFields_mean\n",
      "synchronizedFields_min\n",
      "synchronizedFields_max\n",
      "synchronizedFields_std\n",
      "nosi_mean\n",
      "nosi_min\n",
      "nosi_max\n",
      "nosi_std\n",
      "loc_mean\n",
      "loc_min\n",
      "loc_max\n",
      "loc_std\n",
      "returnQty_mean\n",
      "returnQty_min\n",
      "returnQty_max\n",
      "returnQty_std\n",
      "loopQty_mean\n",
      "loopQty_min\n",
      "loopQty_max\n",
      "loopQty_std\n",
      "comparisonsQty_mean\n",
      "comparisonsQty_min\n",
      "comparisonsQty_max\n",
      "comparisonsQty_std\n",
      "tryCatchQty_mean\n",
      "tryCatchQty_min\n",
      "tryCatchQty_max\n",
      "tryCatchQty_std\n",
      "parenthesizedExpsQty_mean\n",
      "parenthesizedExpsQty_min\n",
      "parenthesizedExpsQty_max\n",
      "parenthesizedExpsQty_std\n",
      "stringLiteralsQty_mean\n",
      "stringLiteralsQty_min\n",
      "stringLiteralsQty_max\n",
      "stringLiteralsQty_std\n",
      "numbersQty_mean\n",
      "numbersQty_min\n",
      "numbersQty_max\n",
      "numbersQty_std\n",
      "assignmentsQty_mean\n",
      "assignmentsQty_min\n",
      "assignmentsQty_max\n",
      "assignmentsQty_std\n",
      "mathOperationsQty_mean\n",
      "mathOperationsQty_min\n",
      "mathOperationsQty_max\n",
      "mathOperationsQty_std\n",
      "variablesQty_mean\n",
      "variablesQty_min\n",
      "variablesQty_max\n",
      "variablesQty_std\n",
      "maxNestedBlocks_mean\n",
      "maxNestedBlocks_min\n",
      "maxNestedBlocks_max\n",
      "maxNestedBlocks_std\n",
      "anonymousClassesQty_mean\n",
      "anonymousClassesQty_min\n",
      "anonymousClassesQty_max\n",
      "anonymousClassesQty_std\n",
      "subClassesQty_mean\n",
      "subClassesQty_min\n",
      "subClassesQty_max\n",
      "subClassesQty_std\n",
      "lambdasQty_mean\n",
      "lambdasQty_min\n",
      "lambdasQty_max\n",
      "lambdasQty_std\n",
      "uniqueWordsQty_mean\n",
      "uniqueWordsQty_min\n",
      "uniqueWordsQty_max\n",
      "uniqueWordsQty_std\n",
      "modifiers_mean\n",
      "modifiers_min\n",
      "modifiers_max\n",
      "modifiers_std\n",
      "num_dependency_mean\n",
      "num_dependency_min\n",
      "num_dependency_max\n",
      "num_dependency_std\n",
      "num_line_affected_mean\n",
      "num_line_affected_min\n",
      "num_line_affected_max\n",
      "num_line_affected_std\n",
      "actual_num_of_classes_touched_mean\n",
      "actual_num_of_classes_touched_min\n",
      "actual_num_of_classes_touched_max\n",
      "actual_num_of_classes_touched_std\n",
      "commit_line_changed\n",
      "refactoring_perc\n",
      "refactoring_perc_time_taken\n",
      "cocomoII_time_taken\n",
      "geneticP_time_taken\n",
      "softwareMaintenance_time_taken\n",
      "fuzzy_time_taken\n"
     ]
    }
   ],
   "source": [
    "for column in main_df:\n",
    "    print(column)"
   ]
  },
  {
   "cell_type": "code",
   "execution_count": 238,
   "metadata": {},
   "outputs": [
    {
     "data": {
      "text/plain": [
       "775"
      ]
     },
     "execution_count": 238,
     "metadata": {},
     "output_type": "execute_result"
    }
   ],
   "source": [
    "len(main_df)"
   ]
  },
  {
   "cell_type": "code",
   "execution_count": 239,
   "metadata": {},
   "outputs": [],
   "source": [
    "main_df['refactoring_perc_time_taken'] = main_df['refactoring_perc'] * main_df['time_taken']"
   ]
  },
  {
   "cell_type": "code",
   "execution_count": 240,
   "metadata": {},
   "outputs": [],
   "source": [
    "def plotGraph(y_test,y_pred,y_test_str,y_pred_str,regressorName):\n",
    "    if max(y_test) >= max(y_pred):\n",
    "        my_range = int(max(y_test))\n",
    "    else:\n",
    "        my_range = int(max(y_pred))\n",
    "        \n",
    "    plt.figure(figsize=(15,15))\n",
    "    plt.scatter(range(len(y_test)), y_test, color='blue', label=y_test_str)\n",
    "    plt.scatter(range(len(y_pred)), y_pred, color='red', label=y_pred_str)\n",
    "    plt.title(regressorName)\n",
    "    plt.legend(loc=\"upper left\")\n",
    "    plt.show()\n",
    "    return\n",
    "\n",
    "def plotGraphandSave(y_test,y_pred,y_test_str,y_pred_str,regressorName,img_name):\n",
    "    if max(y_test) >= max(y_pred):\n",
    "        my_range = int(max(y_test))\n",
    "    else:\n",
    "        my_range = int(max(y_pred))\n",
    "        \n",
    "    plt.figure(figsize=(15,15))\n",
    "    plt.scatter(range(len(y_test)), y_test, color='blue', label=y_test_str)\n",
    "    plt.scatter(range(len(y_pred)), y_pred, color='red', label=y_pred_str)\n",
    "    plt.title(regressorName)\n",
    "    plt.legend(loc=\"upper left\")\n",
    "    plt.savefig(f'model_prediction_images/{img_name}.png')\n",
    "    plt.show()\n",
    "    return\n",
    "\n",
    "\n",
    "\n"
   ]
  },
  {
   "cell_type": "code",
   "execution_count": 241,
   "metadata": {},
   "outputs": [
    {
     "data": {
      "image/png": "[encoded data removed]",
      "text/plain": [
       "<Figure size 1080x1080 with 1 Axes>"
      ]
     },
     "metadata": {
      "needs_background": "light"
     },
     "output_type": "display_data"
    }
   ],
   "source": [
    "plotGraph(main_df['time_taken'], main_df['refactoring_perc_time_taken'],'time_taken','refactoring_perc_time_taken','test')"
   ]
  },
  {
   "cell_type": "code",
   "execution_count": 242,
   "metadata": {},
   "outputs": [],
   "source": [
    "main_df = main_df[main_df['refactoring_perc_time_taken'] > 0]\n",
    "#main_df = main_df[main_df['refactoring_perc_time_taken'] <= 8]\n",
    "\n",
    "#main_df = main_df[main_df['refactoring_perc_time_taken'] <= 20]\n",
    "\n",
    "#main_df = main_df[main_df['time_taken_final'] <= 60]\n",
    "#main_df = main_df[main_df['time_taken_final'] > 2]"
   ]
  },
  {
   "cell_type": "code",
   "execution_count": 243,
   "metadata": {},
   "outputs": [
    {
     "data": {
      "text/plain": [
       "1.000000     27\n",
       "2.000000     23\n",
       "3.000000     11\n",
       "4.000000      6\n",
       "5.000000      6\n",
       "             ..\n",
       "0.008475      1\n",
       "0.093458      1\n",
       "32.716578     1\n",
       "0.434164      1\n",
       "0.213873      1\n",
       "Name: refactoring_perc_time_taken, Length: 629, dtype: int64"
      ]
     },
     "execution_count": 243,
     "metadata": {},
     "output_type": "execute_result"
    }
   ],
   "source": [
    "main_df['refactoring_perc_time_taken'].value_counts()"
   ]
  },
  {
   "cell_type": "code",
   "execution_count": 244,
   "metadata": {},
   "outputs": [],
   "source": [
    "def get_final_time_taken(row):\n",
    "    if row['time_taken'] > row['time_taken_q90']:\n",
    "        return row['time_taken'] - row['time_taken_q90']\n",
    "    elif row['time_taken'] > row['time_taken_q80']:\n",
    "        return row['time_taken'] - row['time_taken_q80']\n",
    "    elif row['time_taken'] > row['time_taken_q60']:\n",
    "        return row['time_taken'] - row['time_taken_q60']\n",
    "    elif row['time_taken'] > row['time_taken_q40']:\n",
    "        return row['time_taken'] - row['time_taken_q40']\n",
    "    elif row['time_taken'] > row['time_taken_q20']:\n",
    "        return row['time_taken'] - row['time_taken_q20']"
   ]
  },
  {
   "cell_type": "code",
   "execution_count": 245,
   "metadata": {},
   "outputs": [],
   "source": [
    "main_df['time_taken_final'] = main_df.apply(lambda row: get_final_time_taken(row), axis=1)\n",
    "\n"
   ]
  },
  {
   "cell_type": "code",
   "execution_count": 246,
   "metadata": {},
   "outputs": [],
   "source": [
    "main_df = main_df.fillna(0)"
   ]
  },
  {
   "cell_type": "code",
   "execution_count": 247,
   "metadata": {},
   "outputs": [
    {
     "data": {
      "text/plain": [
       "(array([648.,  40.,  19.,  11.,   4.,   3.,   2.,   3.,   2.,   5.]),\n",
       " array([1.20827670e-04, 1.56001087e+01, 3.12000967e+01, 4.68000846e+01,\n",
       "        6.24000725e+01, 7.80000604e+01, 9.36000483e+01, 1.09200036e+02,\n",
       "        1.24800024e+02, 1.40400012e+02, 1.56000000e+02]),\n",
       " <a list of 10 Patch objects>)"
      ]
     },
     "execution_count": 247,
     "metadata": {},
     "output_type": "execute_result"
    },
    {
     "data": {
      "image/png": "[encoded data removed]",
      "text/plain": [
       "<Figure size 432x288 with 1 Axes>"
      ]
     },
     "metadata": {
      "needs_background": "light"
     },
     "output_type": "display_data"
    }
   ],
   "source": [
    "plt.hist(main_df['refactoring_perc_time_taken'])"
   ]
  },
  {
   "cell_type": "code",
   "execution_count": 248,
   "metadata": {},
   "outputs": [
    {
     "data": {
      "text/plain": [
       "(array([  1.,   2.,  10.,  33.,  61., 149., 212., 134.,  96.,  39.]),\n",
       " array([-9.02114525, -7.61404512, -6.206945  , -4.79984487, -3.39274474,\n",
       "        -1.98564462, -0.57854449,  0.82855563,  2.23565576,  3.64275588,\n",
       "         5.04985601]),\n",
       " <a list of 10 Patch objects>)"
      ]
     },
     "execution_count": 248,
     "metadata": {},
     "output_type": "execute_result"
    },
    {
     "data": {
      "image/png": "[encoded data removed]",
      "text/plain": [
       "<Figure size 432x288 with 1 Axes>"
      ]
     },
     "metadata": {
      "needs_background": "light"
     },
     "output_type": "display_data"
    }
   ],
   "source": [
    "main_df['refactoring_perc_time_taken_log'] = np.log(main_df['refactoring_perc_time_taken'])\n",
    "plt.hist(main_df['refactoring_perc_time_taken_log'])"
   ]
  },
  {
   "cell_type": "code",
   "execution_count": 249,
   "metadata": {},
   "outputs": [],
   "source": [
    "important_var = ['cbo_std',\n",
    " 'uniqueWordsQty_min',\n",
    " 'rfc_std',\n",
    " 'totalMethods_min',\n",
    " 'uniqueWordsQty_mean',\n",
    " 'num_dependency_mean',\n",
    " 'loc_min',\n",
    " 'num_line_affected_mean',\n",
    " 'uniqueWordsQty_max',\n",
    " 'assignmentsQty_min',\n",
    " 'loc_mean',\n",
    " 'rfc_max',\n",
    " 'cbo_mean',\n",
    " 'rfc_mean',\n",
    " 'lambdasQty_mean',\n",
    " 'variablesQty_std',\n",
    " 'maxNestedBlocks_mean',\n",
    " 'numbersQty_mean',\n",
    " 'stringLiteralsQty_min',\n",
    " 'cbo_max']"
   ]
  },
  {
   "cell_type": "code",
   "execution_count": 250,
   "metadata": {},
   "outputs": [
    {
     "name": "stderr",
     "output_type": "stream",
     "text": [
      "C:\\ProgramData\\Anaconda3\\lib\\site-packages\\sklearn\\cluster\\_kmeans.py:1040: UserWarning: KMeans is known to have a memory leak on Windows with MKL, when there are less chunks than available threads. You can avoid it by setting the environment variable OMP_NUM_THREADS=3.\n",
      "  \"KMeans is known to have a memory leak on Windows \"\n",
      "C:\\ProgramData\\Anaconda3\\lib\\site-packages\\sklearn\\cluster\\_kmeans.py:1040: UserWarning: KMeans is known to have a memory leak on Windows with MKL, when there are less chunks than available threads. You can avoid it by setting the environment variable OMP_NUM_THREADS=3.\n",
      "  \"KMeans is known to have a memory leak on Windows \"\n"
     ]
    }
   ],
   "source": [
    "from sklearn.cluster import KMeans\n",
    "from sklearn import metrics\n",
    "from scipy.spatial.distance import cdist\n",
    "distortions = []\n",
    "inertias = []\n",
    "mapping1 = {}\n",
    "mapping2 = {}\n",
    "K = range(1, 10)\n",
    "X = main_df[important_var]\n",
    "for k in K:\n",
    "    # Building and fitting the model\n",
    "    kmeanModel = KMeans(n_clusters=k).fit(X)\n",
    "    kmeanModel.fit(X)\n",
    " \n",
    "    distortions.append(sum(np.min(cdist(X, kmeanModel.cluster_centers_,\n",
    "                                        'euclidean'), axis=1)) / X.shape[0])\n",
    "    inertias.append(kmeanModel.inertia_)\n",
    " \n",
    "    mapping1[k] = sum(np.min(cdist(X, kmeanModel.cluster_centers_,\n",
    "                                   'euclidean'), axis=1)) / X.shape[0]\n",
    "    mapping2[k] = kmeanModel.inertia_"
   ]
  },
  {
   "cell_type": "code",
   "execution_count": 251,
   "metadata": {},
   "outputs": [
    {
     "data": {
      "image/png": "[encoded data removed]",
      "text/plain": [
       "<Figure size 432x288 with 1 Axes>"
      ]
     },
     "metadata": {
      "needs_background": "light"
     },
     "output_type": "display_data"
    }
   ],
   "source": [
    "plt.plot(K, distortions, 'bx-')\n",
    "plt.xlabel('Values of K')\n",
    "plt.ylabel('Distortion')\n",
    "plt.title('The Elbow Method using Distortion')\n",
    "plt.show()"
   ]
  },
  {
   "cell_type": "code",
   "execution_count": 252,
   "metadata": {},
   "outputs": [
    {
     "data": {
      "text/plain": [
       "(array([  1.,   2.,  10.,  33.,  61., 149., 212., 134.,  96.,  39.]),\n",
       " array([-9.02114525, -7.61404512, -6.206945  , -4.79984487, -3.39274474,\n",
       "        -1.98564462, -0.57854449,  0.82855563,  2.23565576,  3.64275588,\n",
       "         5.04985601]),\n",
       " <a list of 10 Patch objects>)"
      ]
     },
     "execution_count": 252,
     "metadata": {},
     "output_type": "execute_result"
    },
    {
     "data": {
      "image/png": "[encoded data removed]",
      "text/plain": [
       "<Figure size 432x288 with 1 Axes>"
      ]
     },
     "metadata": {
      "needs_background": "light"
     },
     "output_type": "display_data"
    }
   ],
   "source": [
    "plt.hist(main_df['refactoring_perc_time_taken_log'])"
   ]
  },
  {
   "cell_type": "code",
   "execution_count": 253,
   "metadata": {},
   "outputs": [],
   "source": [
    "bins = [-float('inf'),-1,1,float('inf')]\n",
    "labels = [0,1,2]\n",
    "main_df['refactoring_perc_time_taken_bin'] = pd.cut(main_df['refactoring_perc_time_taken_log'], bins=bins, labels=labels)"
   ]
  },
  {
   "cell_type": "code",
   "execution_count": 254,
   "metadata": {},
   "outputs": [
    {
     "data": {
      "text/plain": [
       "(array([205.,   0.,   0.,   0.,   0., 277.,   0.,   0.,   0., 255.]),\n",
       " array([0. , 0.2, 0.4, 0.6, 0.8, 1. , 1.2, 1.4, 1.6, 1.8, 2. ]),\n",
       " <a list of 10 Patch objects>)"
      ]
     },
     "execution_count": 254,
     "metadata": {},
     "output_type": "execute_result"
    },
    {
     "data": {
      "image/png": "[encoded data removed]",
      "text/plain": [
       "<Figure size 432x288 with 1 Axes>"
      ]
     },
     "metadata": {
      "needs_background": "light"
     },
     "output_type": "display_data"
    }
   ],
   "source": [
    "plt.hist(main_df['refactoring_perc_time_taken_bin'])"
   ]
  },
  {
   "cell_type": "code",
   "execution_count": 255,
   "metadata": {},
   "outputs": [
    {
     "data": {
      "text/plain": [
       "{'whiskers': [<matplotlib.lines.Line2D at 0x18349af3198>,\n",
       "  <matplotlib.lines.Line2D at 0x18349af3550>],\n",
       " 'caps': [<matplotlib.lines.Line2D at 0x18349af38d0>,\n",
       "  <matplotlib.lines.Line2D at 0x18349af3c50>],\n",
       " 'boxes': [<matplotlib.lines.Line2D at 0x18349af3048>],\n",
       " 'medians': [<matplotlib.lines.Line2D at 0x18349af3fd0>],\n",
       " 'fliers': [<matplotlib.lines.Line2D at 0x18349b00390>],\n",
       " 'means': []}"
      ]
     },
     "execution_count": 255,
     "metadata": {},
     "output_type": "execute_result"
    },
    {
     "data": {
      "image/png": "[encoded data removed]",
      "text/plain": [
       "<Figure size 432x288 with 1 Axes>"
      ]
     },
     "metadata": {
      "needs_background": "light"
     },
     "output_type": "display_data"
    }
   ],
   "source": [
    "plt.boxplot(main_df['refactoring_perc_time_taken'])"
   ]
  },
  {
   "cell_type": "code",
   "execution_count": 256,
   "metadata": {},
   "outputs": [
    {
     "data": {
      "text/plain": [
       "{'whiskers': [<matplotlib.lines.Line2D at 0x18349b55860>,\n",
       "  <matplotlib.lines.Line2D at 0x18349b55be0>],\n",
       " 'caps': [<matplotlib.lines.Line2D at 0x18349b55f60>,\n",
       "  <matplotlib.lines.Line2D at 0x18349b63320>],\n",
       " 'boxes': [<matplotlib.lines.Line2D at 0x18349b55710>],\n",
       " 'medians': [<matplotlib.lines.Line2D at 0x18349b636a0>],\n",
       " 'fliers': [<matplotlib.lines.Line2D at 0x18349b63a20>],\n",
       " 'means': []}"
      ]
     },
     "execution_count": 256,
     "metadata": {},
     "output_type": "execute_result"
    },
    {
     "data": {
      "image/png": "[encoded data removed]",
      "text/plain": [
       "<Figure size 432x288 with 1 Axes>"
      ]
     },
     "metadata": {
      "needs_background": "light"
     },
     "output_type": "display_data"
    }
   ],
   "source": [
    "plt.boxplot(main_df['refactoring_perc_time_taken_log'])"
   ]
  },
  {
   "cell_type": "code",
   "execution_count": 257,
   "metadata": {},
   "outputs": [
    {
     "data": {
      "text/plain": [
       "1    277\n",
       "2    255\n",
       "0    205\n",
       "Name: refactoring_perc_time_taken_bin, dtype: int64"
      ]
     },
     "execution_count": 257,
     "metadata": {},
     "output_type": "execute_result"
    }
   ],
   "source": [
    "main_df['refactoring_perc_time_taken_bin'].value_counts()"
   ]
  },
  {
   "cell_type": "raw",
   "metadata": {},
   "source": [
    "import seaborn as sns\n",
    "\n",
    "corr = main_df.corr()\n",
    "ax = sns.heatmap(\n",
    "    corr, \n",
    "    vmin=-1, vmax=1, center=0,\n",
    "    cmap=sns.diverging_palette(20, 220, n=200),\n",
    "    square=True\n",
    ")\n",
    "\n",
    "ax.set_xticklabels(\n",
    "    ax.get_xticklabels(),\n",
    "    rotation=45,\n",
    "    horizontalalignment='right'\n",
    ");\n",
    "\n",
    "sns.set(rc = {'figure.figsize':(20,20)})"
   ]
  },
  {
   "cell_type": "code",
   "execution_count": 258,
   "metadata": {},
   "outputs": [
    {
     "data": {
      "text/plain": [
       "kmean_label                           int64\n",
       "time_taken_mean                     float64\n",
       "time_taken_min                      float64\n",
       "time_taken_max                      float64\n",
       "time_taken_q10                      float64\n",
       "                                     ...   \n",
       "softwareMaintenance_time_taken      float64\n",
       "fuzzy_time_taken                    float64\n",
       "time_taken_final                    float64\n",
       "refactoring_perc_time_taken_log     float64\n",
       "refactoring_perc_time_taken_bin    category\n",
       "Length: 209, dtype: object"
      ]
     },
     "execution_count": 258,
     "metadata": {},
     "output_type": "execute_result"
    }
   ],
   "source": [
    "main_df.dtypes"
   ]
  },
  {
   "cell_type": "code",
   "execution_count": 259,
   "metadata": {},
   "outputs": [],
   "source": [
    "#main_df['refactoring_perc_time_taken_bin'] = main_df['refactoring_perc_time_taken_bin'].astype('string')\n",
    "\n",
    "#main_df['refactoring_perc_time_taken_bin'] = main_df['refactoring_perc_time_taken_bin'].astype('category')"
   ]
  },
  {
   "cell_type": "code",
   "execution_count": 260,
   "metadata": {},
   "outputs": [
    {
     "data": {
      "text/html": [
       "<div>\n",
       "<style scoped>\n",
       "    .dataframe tbody tr th:only-of-type {\n",
       "        vertical-align: middle;\n",
       "    }\n",
       "\n",
       "    .dataframe tbody tr th {\n",
       "        vertical-align: top;\n",
       "    }\n",
       "\n",
       "    .dataframe thead th {\n",
       "        text-align: right;\n",
       "    }\n",
       "</style>\n",
       "<table border=\"1\" class=\"dataframe\">\n",
       "  <thead>\n",
       "    <tr style=\"text-align: right;\">\n",
       "      <th></th>\n",
       "      <th>kmean_label</th>\n",
       "      <th>time_taken_mean</th>\n",
       "      <th>time_taken_min</th>\n",
       "      <th>time_taken_max</th>\n",
       "      <th>time_taken_q10</th>\n",
       "      <th>time_taken_q20</th>\n",
       "      <th>time_taken_q25</th>\n",
       "      <th>time_taken_q30</th>\n",
       "      <th>time_taken_q40</th>\n",
       "      <th>time_taken_q50</th>\n",
       "      <th>...</th>\n",
       "      <th>commit_line_changed</th>\n",
       "      <th>refactoring_perc</th>\n",
       "      <th>refactoring_perc_time_taken</th>\n",
       "      <th>cocomoII_time_taken</th>\n",
       "      <th>geneticP_time_taken</th>\n",
       "      <th>softwareMaintenance_time_taken</th>\n",
       "      <th>fuzzy_time_taken</th>\n",
       "      <th>time_taken_final</th>\n",
       "      <th>refactoring_perc_time_taken_log</th>\n",
       "      <th>refactoring_perc_time_taken_bin</th>\n",
       "    </tr>\n",
       "  </thead>\n",
       "  <tbody>\n",
       "    <tr>\n",
       "      <th>1</th>\n",
       "      <td>6</td>\n",
       "      <td>24.474860</td>\n",
       "      <td>1.0</td>\n",
       "      <td>167.0</td>\n",
       "      <td>1.0</td>\n",
       "      <td>2.0</td>\n",
       "      <td>4.0</td>\n",
       "      <td>5.0</td>\n",
       "      <td>10.0</td>\n",
       "      <td>16.0</td>\n",
       "      <td>...</td>\n",
       "      <td>16</td>\n",
       "      <td>0.750000</td>\n",
       "      <td>18.750000</td>\n",
       "      <td>8.27904</td>\n",
       "      <td>4.955729</td>\n",
       "      <td>64.96</td>\n",
       "      <td>67.284406</td>\n",
       "      <td>5.0</td>\n",
       "      <td>2.931194</td>\n",
       "      <td>2</td>\n",
       "    </tr>\n",
       "    <tr>\n",
       "      <th>2</th>\n",
       "      <td>6</td>\n",
       "      <td>24.474860</td>\n",
       "      <td>1.0</td>\n",
       "      <td>167.0</td>\n",
       "      <td>1.0</td>\n",
       "      <td>2.0</td>\n",
       "      <td>4.0</td>\n",
       "      <td>5.0</td>\n",
       "      <td>10.0</td>\n",
       "      <td>16.0</td>\n",
       "      <td>...</td>\n",
       "      <td>1696</td>\n",
       "      <td>0.004127</td>\n",
       "      <td>0.198113</td>\n",
       "      <td>877.57824</td>\n",
       "      <td>523.020584</td>\n",
       "      <td>11085.76</td>\n",
       "      <td>1495.349884</td>\n",
       "      <td>9.0</td>\n",
       "      <td>-1.618917</td>\n",
       "      <td>0</td>\n",
       "    </tr>\n",
       "    <tr>\n",
       "      <th>3</th>\n",
       "      <td>6</td>\n",
       "      <td>24.474860</td>\n",
       "      <td>1.0</td>\n",
       "      <td>167.0</td>\n",
       "      <td>1.0</td>\n",
       "      <td>2.0</td>\n",
       "      <td>4.0</td>\n",
       "      <td>5.0</td>\n",
       "      <td>10.0</td>\n",
       "      <td>16.0</td>\n",
       "      <td>...</td>\n",
       "      <td>535</td>\n",
       "      <td>0.725234</td>\n",
       "      <td>17.405607</td>\n",
       "      <td>276.83040</td>\n",
       "      <td>165.484354</td>\n",
       "      <td>3469.60</td>\n",
       "      <td>694.272395</td>\n",
       "      <td>4.0</td>\n",
       "      <td>2.856792</td>\n",
       "      <td>2</td>\n",
       "    </tr>\n",
       "    <tr>\n",
       "      <th>4</th>\n",
       "      <td>7</td>\n",
       "      <td>27.645283</td>\n",
       "      <td>1.0</td>\n",
       "      <td>157.0</td>\n",
       "      <td>2.0</td>\n",
       "      <td>4.0</td>\n",
       "      <td>5.0</td>\n",
       "      <td>8.2</td>\n",
       "      <td>13.0</td>\n",
       "      <td>17.0</td>\n",
       "      <td>...</td>\n",
       "      <td>4</td>\n",
       "      <td>1.000000</td>\n",
       "      <td>93.000000</td>\n",
       "      <td>2.06976</td>\n",
       "      <td>1.238971</td>\n",
       "      <td>-13.76</td>\n",
       "      <td>26.763600</td>\n",
       "      <td>19.4</td>\n",
       "      <td>4.532599</td>\n",
       "      <td>2</td>\n",
       "    </tr>\n",
       "    <tr>\n",
       "      <th>5</th>\n",
       "      <td>14</td>\n",
       "      <td>22.417476</td>\n",
       "      <td>1.0</td>\n",
       "      <td>144.0</td>\n",
       "      <td>1.0</td>\n",
       "      <td>4.0</td>\n",
       "      <td>6.0</td>\n",
       "      <td>8.0</td>\n",
       "      <td>12.0</td>\n",
       "      <td>16.0</td>\n",
       "      <td>...</td>\n",
       "      <td>63</td>\n",
       "      <td>1.000000</td>\n",
       "      <td>22.000000</td>\n",
       "      <td>32.59872</td>\n",
       "      <td>19.510808</td>\n",
       "      <td>373.28</td>\n",
       "      <td>167.392539</td>\n",
       "      <td>2.0</td>\n",
       "      <td>3.091042</td>\n",
       "      <td>2</td>\n",
       "    </tr>\n",
       "  </tbody>\n",
       "</table>\n",
       "<p>5 rows × 209 columns</p>\n",
       "</div>"
      ],
      "text/plain": [
       "   kmean_label  time_taken_mean  time_taken_min  time_taken_max  \\\n",
       "1            6        24.474860             1.0           167.0   \n",
       "2            6        24.474860             1.0           167.0   \n",
       "3            6        24.474860             1.0           167.0   \n",
       "4            7        27.645283             1.0           157.0   \n",
       "5           14        22.417476             1.0           144.0   \n",
       "\n",
       "   time_taken_q10  time_taken_q20  time_taken_q25  time_taken_q30  \\\n",
       "1             1.0             2.0             4.0             5.0   \n",
       "2             1.0             2.0             4.0             5.0   \n",
       "3             1.0             2.0             4.0             5.0   \n",
       "4             2.0             4.0             5.0             8.2   \n",
       "5             1.0             4.0             6.0             8.0   \n",
       "\n",
       "   time_taken_q40  time_taken_q50  ...  commit_line_changed  refactoring_perc  \\\n",
       "1            10.0            16.0  ...                   16          0.750000   \n",
       "2            10.0            16.0  ...                 1696          0.004127   \n",
       "3            10.0            16.0  ...                  535          0.725234   \n",
       "4            13.0            17.0  ...                    4          1.000000   \n",
       "5            12.0            16.0  ...                   63          1.000000   \n",
       "\n",
       "   refactoring_perc_time_taken  cocomoII_time_taken  geneticP_time_taken  \\\n",
       "1                    18.750000              8.27904             4.955729   \n",
       "2                     0.198113            877.57824           523.020584   \n",
       "3                    17.405607            276.83040           165.484354   \n",
       "4                    93.000000              2.06976             1.238971   \n",
       "5                    22.000000             32.59872            19.510808   \n",
       "\n",
       "  softwareMaintenance_time_taken fuzzy_time_taken time_taken_final  \\\n",
       "1                          64.96        67.284406              5.0   \n",
       "2                       11085.76      1495.349884              9.0   \n",
       "3                        3469.60       694.272395              4.0   \n",
       "4                         -13.76        26.763600             19.4   \n",
       "5                         373.28       167.392539              2.0   \n",
       "\n",
       "  refactoring_perc_time_taken_log refactoring_perc_time_taken_bin  \n",
       "1                        2.931194                               2  \n",
       "2                       -1.618917                               0  \n",
       "3                        2.856792                               2  \n",
       "4                        4.532599                               2  \n",
       "5                        3.091042                               2  \n",
       "\n",
       "[5 rows x 209 columns]"
      ]
     },
     "execution_count": 260,
     "metadata": {},
     "output_type": "execute_result"
    }
   ],
   "source": [
    "main_df.tail()"
   ]
  },
  {
   "cell_type": "code",
   "execution_count": 261,
   "metadata": {},
   "outputs": [
    {
     "data": {
      "text/plain": [
       "(array([648.,  40.,  19.,  11.,   4.,   3.,   2.,   3.,   2.,   5.]),\n",
       " array([1.20827670e-04, 1.56001087e+01, 3.12000967e+01, 4.68000846e+01,\n",
       "        6.24000725e+01, 7.80000604e+01, 9.36000483e+01, 1.09200036e+02,\n",
       "        1.24800024e+02, 1.40400012e+02, 1.56000000e+02]),\n",
       " <a list of 10 Patch objects>)"
      ]
     },
     "execution_count": 261,
     "metadata": {},
     "output_type": "execute_result"
    },
    {
     "data": {
      "image/png": "[encoded data removed]",
      "text/plain": [
       "<Figure size 432x288 with 1 Axes>"
      ]
     },
     "metadata": {
      "needs_background": "light"
     },
     "output_type": "display_data"
    }
   ],
   "source": [
    "plt.hist(main_df['refactoring_perc_time_taken'])"
   ]
  },
  {
   "cell_type": "code",
   "execution_count": 262,
   "metadata": {},
   "outputs": [
    {
     "data": {
      "text/plain": [
       "(array([524.,  67.,  33.,  24.,  17.,  15.,   6.,   2.,   6.,   5.,   5.,\n",
       "          3.,   5.,   0.,   4.,   2.,   0.,   1.,   2.,   1.,   0.,   0.,\n",
       "          1.,   2.,   2.,   0.,   0.,   0.,   0.,   1.,   1.,   1.,   1.,\n",
       "          0.,   0.,   1.,   2.,   1.,   1.,   1.]),\n",
       " array([1.20827670e-04, 3.90011781e+00, 7.80011479e+00, 1.17001118e+01,\n",
       "        1.56001087e+01, 1.95001057e+01, 2.34001027e+01, 2.73000997e+01,\n",
       "        3.12000967e+01, 3.51000936e+01, 3.90000906e+01, 4.29000876e+01,\n",
       "        4.68000846e+01, 5.07000816e+01, 5.46000785e+01, 5.85000755e+01,\n",
       "        6.24000725e+01, 6.63000695e+01, 7.02000665e+01, 7.41000634e+01,\n",
       "        7.80000604e+01, 8.19000574e+01, 8.58000544e+01, 8.97000514e+01,\n",
       "        9.36000483e+01, 9.75000453e+01, 1.01400042e+02, 1.05300039e+02,\n",
       "        1.09200036e+02, 1.13100033e+02, 1.17000030e+02, 1.20900027e+02,\n",
       "        1.24800024e+02, 1.28700021e+02, 1.32600018e+02, 1.36500015e+02,\n",
       "        1.40400012e+02, 1.44300009e+02, 1.48200006e+02, 1.52100003e+02,\n",
       "        1.56000000e+02]),\n",
       " <a list of 40 Patch objects>)"
      ]
     },
     "execution_count": 262,
     "metadata": {},
     "output_type": "execute_result"
    },
    {
     "data": {
      "image/png": "[encoded data removed]",
      "text/plain": [
       "<Figure size 432x288 with 1 Axes>"
      ]
     },
     "metadata": {
      "needs_background": "light"
     },
     "output_type": "display_data"
    }
   ],
   "source": [
    "plt.hist(main_df['refactoring_perc_time_taken'],bins=40)"
   ]
  },
  {
   "cell_type": "code",
   "execution_count": 263,
   "metadata": {},
   "outputs": [
    {
     "data": {
      "text/plain": [
       "[<matplotlib.lines.Line2D at 0x18349e6a6a0>]"
      ]
     },
     "execution_count": 263,
     "metadata": {},
     "output_type": "execute_result"
    },
    {
     "data": {
      "image/png": "[encoded data removed]",
      "text/plain": [
       "<Figure size 432x288 with 1 Axes>"
      ]
     },
     "metadata": {
      "needs_background": "light"
     },
     "output_type": "display_data"
    }
   ],
   "source": [
    "s, loc, scale = sp.stats.lognorm.fit(main_df['refactoring_perc_time_taken'], floc=0)\n",
    "estimated_mu = np.log(scale)\n",
    "estimated_sigma = s\n",
    "\n",
    "\n",
    "plt.hist(main_df['refactoring_perc_time_taken'], bins=15, density=True, color='c', alpha=0.75)\n",
    "xmin = main_df['refactoring_perc_time_taken'].min()\n",
    "xmin = 0\n",
    "xmax = main_df['refactoring_perc_time_taken'].max()\n",
    "x = np.linspace(xmin, xmax, 100)\n",
    "pdf = sp.stats.lognorm.pdf(x, s, scale=scale)\n",
    "plt.plot(x, pdf, 'k')"
   ]
  },
  {
   "cell_type": "code",
   "execution_count": 264,
   "metadata": {},
   "outputs": [
    {
     "data": {
      "text/plain": [
       "[<matplotlib.lines.Line2D at 0x1834a1fd0b8>]"
      ]
     },
     "execution_count": 264,
     "metadata": {},
     "output_type": "execute_result"
    },
    {
     "data": {
      "image/png": "[encoded data removed]",
      "text/plain": [
       "<Figure size 432x288 with 1 Axes>"
      ]
     },
     "metadata": {
      "needs_background": "light"
     },
     "output_type": "display_data"
    }
   ],
   "source": [
    "s, loc, scale = sp.stats.lognorm.fit(main_df['refactoring_perc_time_taken'], floc=0)\n",
    "estimated_mu = np.log(scale)\n",
    "estimated_sigma = s\n",
    "\n",
    "\n",
    "plt.hist(main_df['refactoring_perc_time_taken'], bins=40, density=True, color='c', alpha=0.75)\n",
    "xmin = main_df['refactoring_perc_time_taken'].min()\n",
    "xmin = 0\n",
    "xmax = main_df['refactoring_perc_time_taken'].max()\n",
    "x = np.linspace(xmin, xmax, 100)\n",
    "pdf = sp.stats.lognorm.pdf(x, s, scale=scale)\n",
    "plt.plot(x, pdf, 'k')"
   ]
  },
  {
   "cell_type": "code",
   "execution_count": 265,
   "metadata": {},
   "outputs": [
    {
     "data": {
      "text/plain": [
       "[<matplotlib.lines.Line2D at 0x18345cf07f0>]"
      ]
     },
     "execution_count": 265,
     "metadata": {},
     "output_type": "execute_result"
    },
    {
     "data": {
      "image/png": "[encoded data removed]",
      "text/plain": [
       "<Figure size 432x288 with 1 Axes>"
      ]
     },
     "metadata": {
      "needs_background": "light"
     },
     "output_type": "display_data"
    }
   ],
   "source": [
    "logdata = np.log(main_df['refactoring_perc_time_taken'])\n",
    "plt.hist(logdata, bins=10, density=True, color='c', alpha=0.75)\n",
    "xmin = logdata.min()\n",
    "xmax = logdata.max()\n",
    "x = np.linspace(xmin, xmax, 100)\n",
    "pdf = sp.stats.norm.pdf(x, loc=estimated_mu, scale=estimated_sigma)\n",
    "plt.plot(x, pdf, 'k')"
   ]
  },
  {
   "cell_type": "code",
   "execution_count": 266,
   "metadata": {},
   "outputs": [
    {
     "data": {
      "text/plain": [
       "737"
      ]
     },
     "execution_count": 266,
     "metadata": {},
     "output_type": "execute_result"
    }
   ],
   "source": [
    "len(main_df)"
   ]
  },
  {
   "cell_type": "code",
   "execution_count": 267,
   "metadata": {},
   "outputs": [],
   "source": [
    "main_df.to_csv('test_effort_model.csv', index=False)"
   ]
  },
  {
   "cell_type": "markdown",
   "metadata": {},
   "source": [
    "## EDA (Run only if absolutely necessary on minimum features)"
   ]
  },
  {
   "cell_type": "code",
   "execution_count": 268,
   "metadata": {
    "scrolled": false
   },
   "outputs": [],
   "source": [
    "#from pandas_profiling import ProfileReport\n",
    "\n",
    "#profile = ProfileReport(main_df, title=\"Pandas Profiling Report\",explorative=True)\n",
    "#profile"
   ]
  },
  {
   "cell_type": "code",
   "execution_count": 269,
   "metadata": {},
   "outputs": [
    {
     "name": "stdout",
     "output_type": "stream",
     "text": [
      "kmean_label\n",
      "time_taken_mean\n",
      "time_taken_min\n",
      "time_taken_max\n",
      "time_taken_q10\n",
      "time_taken_q20\n",
      "time_taken_q25\n",
      "time_taken_q30\n",
      "time_taken_q40\n",
      "time_taken_q50\n",
      "time_taken_q60\n",
      "time_taken_q70\n",
      "time_taken_q75\n",
      "time_taken_q80\n",
      "time_taken_q90\n",
      "sha\n",
      "name\n",
      "email\n",
      "date\n",
      "login\n",
      "message\n",
      "parent_sha\n",
      "parent_date\n",
      "time_taken\n",
      "contains_refactoring\n",
      "project_name\n",
      "commit_compared_with\n",
      "cbo_mean\n",
      "cbo_min\n",
      "cbo_max\n",
      "cbo_std\n",
      "wmc_mean\n",
      "wmc_min\n",
      "wmc_max\n",
      "wmc_std\n",
      "dit_mean\n",
      "dit_min\n",
      "dit_max\n",
      "dit_std\n",
      "rfc_mean\n",
      "rfc_min\n",
      "rfc_max\n",
      "rfc_std\n",
      "lcom_mean\n",
      "lcom_min\n",
      "lcom_max\n",
      "lcom_std\n",
      "totalMethods_mean\n",
      "totalMethods_min\n",
      "totalMethods_max\n",
      "totalMethods_std\n",
      "staticMethods_mean\n",
      "staticMethods_min\n",
      "staticMethods_max\n",
      "staticMethods_std\n",
      "publicMethods_mean\n",
      "publicMethods_min\n",
      "publicMethods_max\n",
      "publicMethods_std\n",
      "privateMethods_mean\n",
      "privateMethods_min\n",
      "privateMethods_max\n",
      "privateMethods_std\n",
      "protectedMethods_mean\n",
      "protectedMethods_min\n",
      "protectedMethods_max\n",
      "protectedMethods_std\n",
      "defaultMethods_mean\n",
      "defaultMethods_min\n",
      "defaultMethods_max\n",
      "defaultMethods_std\n",
      "abstractMethods_mean\n",
      "abstractMethods_min\n",
      "abstractMethods_max\n",
      "abstractMethods_std\n",
      "finalMethods_mean\n",
      "finalMethods_min\n",
      "finalMethods_max\n",
      "finalMethods_std\n",
      "synchronizedMethods_mean\n",
      "synchronizedMethods_min\n",
      "synchronizedMethods_max\n",
      "synchronizedMethods_std\n",
      "totalFields_mean\n",
      "totalFields_min\n",
      "totalFields_max\n",
      "totalFields_std\n",
      "staticFields_mean\n",
      "staticFields_min\n",
      "staticFields_max\n",
      "staticFields_std\n",
      "publicFields_mean\n",
      "publicFields_min\n",
      "publicFields_max\n",
      "publicFields_std\n",
      "privateFields_mean\n",
      "privateFields_min\n",
      "privateFields_max\n",
      "privateFields_std\n",
      "protectedFields_mean\n",
      "protectedFields_min\n",
      "protectedFields_max\n",
      "protectedFields_std\n",
      "defaultFields_mean\n",
      "defaultFields_min\n",
      "defaultFields_max\n",
      "defaultFields_std\n",
      "finalFields_mean\n",
      "finalFields_min\n",
      "finalFields_max\n",
      "finalFields_std\n",
      "synchronizedFields_mean\n",
      "synchronizedFields_min\n",
      "synchronizedFields_max\n",
      "synchronizedFields_std\n",
      "nosi_mean\n",
      "nosi_min\n",
      "nosi_max\n",
      "nosi_std\n",
      "loc_mean\n",
      "loc_min\n",
      "loc_max\n",
      "loc_std\n",
      "returnQty_mean\n",
      "returnQty_min\n",
      "returnQty_max\n",
      "returnQty_std\n",
      "loopQty_mean\n",
      "loopQty_min\n",
      "loopQty_max\n",
      "loopQty_std\n",
      "comparisonsQty_mean\n",
      "comparisonsQty_min\n",
      "comparisonsQty_max\n",
      "comparisonsQty_std\n",
      "tryCatchQty_mean\n",
      "tryCatchQty_min\n",
      "tryCatchQty_max\n",
      "tryCatchQty_std\n",
      "parenthesizedExpsQty_mean\n",
      "parenthesizedExpsQty_min\n",
      "parenthesizedExpsQty_max\n",
      "parenthesizedExpsQty_std\n",
      "stringLiteralsQty_mean\n",
      "stringLiteralsQty_min\n",
      "stringLiteralsQty_max\n",
      "stringLiteralsQty_std\n",
      "numbersQty_mean\n",
      "numbersQty_min\n",
      "numbersQty_max\n",
      "numbersQty_std\n",
      "assignmentsQty_mean\n",
      "assignmentsQty_min\n",
      "assignmentsQty_max\n",
      "assignmentsQty_std\n",
      "mathOperationsQty_mean\n",
      "mathOperationsQty_min\n",
      "mathOperationsQty_max\n",
      "mathOperationsQty_std\n",
      "variablesQty_mean\n",
      "variablesQty_min\n",
      "variablesQty_max\n",
      "variablesQty_std\n",
      "maxNestedBlocks_mean\n",
      "maxNestedBlocks_min\n",
      "maxNestedBlocks_max\n",
      "maxNestedBlocks_std\n",
      "anonymousClassesQty_mean\n",
      "anonymousClassesQty_min\n",
      "anonymousClassesQty_max\n",
      "anonymousClassesQty_std\n",
      "subClassesQty_mean\n",
      "subClassesQty_min\n",
      "subClassesQty_max\n",
      "subClassesQty_std\n",
      "lambdasQty_mean\n",
      "lambdasQty_min\n",
      "lambdasQty_max\n",
      "lambdasQty_std\n",
      "uniqueWordsQty_mean\n",
      "uniqueWordsQty_min\n",
      "uniqueWordsQty_max\n",
      "uniqueWordsQty_std\n",
      "modifiers_mean\n",
      "modifiers_min\n",
      "modifiers_max\n",
      "modifiers_std\n",
      "num_dependency_mean\n",
      "num_dependency_min\n",
      "num_dependency_max\n",
      "num_dependency_std\n",
      "num_line_affected_mean\n",
      "num_line_affected_min\n",
      "num_line_affected_max\n",
      "num_line_affected_std\n",
      "actual_num_of_classes_touched_mean\n",
      "actual_num_of_classes_touched_min\n",
      "actual_num_of_classes_touched_max\n",
      "actual_num_of_classes_touched_std\n",
      "commit_line_changed\n",
      "refactoring_perc\n",
      "refactoring_perc_time_taken\n",
      "cocomoII_time_taken\n",
      "geneticP_time_taken\n",
      "softwareMaintenance_time_taken\n",
      "fuzzy_time_taken\n",
      "time_taken_final\n",
      "refactoring_perc_time_taken_log\n",
      "refactoring_perc_time_taken_bin\n"
     ]
    }
   ],
   "source": [
    "for columns in main_df.columns:\n",
    "    print(columns)"
   ]
  },
  {
   "cell_type": "markdown",
   "metadata": {},
   "source": [
    "### Only taking mean for num_dependency and num_line_affected since there is only one"
   ]
  },
  {
   "cell_type": "code",
   "execution_count": 270,
   "metadata": {},
   "outputs": [],
   "source": [
    "final_col = []\n",
    "column_to_skip = ['sha',\n",
    "'name','email','login',\n",
    "'date','message',\n",
    "'parent_sha','parent_date',\n",
    "'time_taken','contains_refactoring',\n",
    "'kmean_label','time_taken_mean',\n",
    "'time_taken_min',\n",
    "'time_taken_max',\n",
    "'time_taken_q10',\n",
    "'time_taken_q20',\n",
    "'time_taken_q25',\n",
    "'time_taken_q30',\n",
    "'time_taken_q40',\n",
    "'time_taken_q50',\n",
    "'time_taken_q60',\n",
    "'time_taken_q70',\n",
    "'time_taken_q75',\n",
    "'time_taken_q80',\n",
    "'time_taken_q90',\n",
    "'project_name','commit_compared_with',\n",
    "'actual_num_of_classes_touched_mean',\n",
    " 'actual_num_of_classes_touched_min',\n",
    " 'actual_num_of_classes_touched_max',\n",
    " 'actual_num_of_classes_touched_std',\n",
    "'num_dependency_min',\n",
    "'num_dependency_max',\n",
    "'num_dependency_std',\n",
    "'num_line_affected_min',\n",
    "'num_line_affected_max',\n",
    "'num_line_affected_std', 'time_taken_final',\n",
    "'commit_line_changed',\n",
    "'refactoring_perc',\n",
    " 'cocomoII_time_taken',\n",
    "'geneticP_time_taken',\n",
    "'softwareMaintenance_time_taken',\n",
    "'fuzzy_time_taken',\n",
    "'time_taken_final',\n",
    "'refactoring_perc_time_taken',\n",
    "'refactoring_perc_time_taken_log'\n",
    " ]\n",
    "for element in main_df.columns:\n",
    "    #print(\"'\" + element + \"',\")\n",
    "    if element not in column_to_skip:\n",
    "        final_col.append(element)"
   ]
  },
  {
   "cell_type": "code",
   "execution_count": 271,
   "metadata": {},
   "outputs": [
    {
     "data": {
      "text/plain": [
       "['cbo_mean',\n",
       " 'cbo_min',\n",
       " 'cbo_max',\n",
       " 'cbo_std',\n",
       " 'wmc_mean',\n",
       " 'wmc_min',\n",
       " 'wmc_max',\n",
       " 'wmc_std',\n",
       " 'dit_mean',\n",
       " 'dit_min',\n",
       " 'dit_max',\n",
       " 'dit_std',\n",
       " 'rfc_mean',\n",
       " 'rfc_min',\n",
       " 'rfc_max',\n",
       " 'rfc_std',\n",
       " 'lcom_mean',\n",
       " 'lcom_min',\n",
       " 'lcom_max',\n",
       " 'lcom_std',\n",
       " 'totalMethods_mean',\n",
       " 'totalMethods_min',\n",
       " 'totalMethods_max',\n",
       " 'totalMethods_std',\n",
       " 'staticMethods_mean',\n",
       " 'staticMethods_min',\n",
       " 'staticMethods_max',\n",
       " 'staticMethods_std',\n",
       " 'publicMethods_mean',\n",
       " 'publicMethods_min',\n",
       " 'publicMethods_max',\n",
       " 'publicMethods_std',\n",
       " 'privateMethods_mean',\n",
       " 'privateMethods_min',\n",
       " 'privateMethods_max',\n",
       " 'privateMethods_std',\n",
       " 'protectedMethods_mean',\n",
       " 'protectedMethods_min',\n",
       " 'protectedMethods_max',\n",
       " 'protectedMethods_std',\n",
       " 'defaultMethods_mean',\n",
       " 'defaultMethods_min',\n",
       " 'defaultMethods_max',\n",
       " 'defaultMethods_std',\n",
       " 'abstractMethods_mean',\n",
       " 'abstractMethods_min',\n",
       " 'abstractMethods_max',\n",
       " 'abstractMethods_std',\n",
       " 'finalMethods_mean',\n",
       " 'finalMethods_min',\n",
       " 'finalMethods_max',\n",
       " 'finalMethods_std',\n",
       " 'synchronizedMethods_mean',\n",
       " 'synchronizedMethods_min',\n",
       " 'synchronizedMethods_max',\n",
       " 'synchronizedMethods_std',\n",
       " 'totalFields_mean',\n",
       " 'totalFields_min',\n",
       " 'totalFields_max',\n",
       " 'totalFields_std',\n",
       " 'staticFields_mean',\n",
       " 'staticFields_min',\n",
       " 'staticFields_max',\n",
       " 'staticFields_std',\n",
       " 'publicFields_mean',\n",
       " 'publicFields_min',\n",
       " 'publicFields_max',\n",
       " 'publicFields_std',\n",
       " 'privateFields_mean',\n",
       " 'privateFields_min',\n",
       " 'privateFields_max',\n",
       " 'privateFields_std',\n",
       " 'protectedFields_mean',\n",
       " 'protectedFields_min',\n",
       " 'protectedFields_max',\n",
       " 'protectedFields_std',\n",
       " 'defaultFields_mean',\n",
       " 'defaultFields_min',\n",
       " 'defaultFields_max',\n",
       " 'defaultFields_std',\n",
       " 'finalFields_mean',\n",
       " 'finalFields_min',\n",
       " 'finalFields_max',\n",
       " 'finalFields_std',\n",
       " 'synchronizedFields_mean',\n",
       " 'synchronizedFields_min',\n",
       " 'synchronizedFields_max',\n",
       " 'synchronizedFields_std',\n",
       " 'nosi_mean',\n",
       " 'nosi_min',\n",
       " 'nosi_max',\n",
       " 'nosi_std',\n",
       " 'loc_mean',\n",
       " 'loc_min',\n",
       " 'loc_max',\n",
       " 'loc_std',\n",
       " 'returnQty_mean',\n",
       " 'returnQty_min',\n",
       " 'returnQty_max',\n",
       " 'returnQty_std',\n",
       " 'loopQty_mean',\n",
       " 'loopQty_min',\n",
       " 'loopQty_max',\n",
       " 'loopQty_std',\n",
       " 'comparisonsQty_mean',\n",
       " 'comparisonsQty_min',\n",
       " 'comparisonsQty_max',\n",
       " 'comparisonsQty_std',\n",
       " 'tryCatchQty_mean',\n",
       " 'tryCatchQty_min',\n",
       " 'tryCatchQty_max',\n",
       " 'tryCatchQty_std',\n",
       " 'parenthesizedExpsQty_mean',\n",
       " 'parenthesizedExpsQty_min',\n",
       " 'parenthesizedExpsQty_max',\n",
       " 'parenthesizedExpsQty_std',\n",
       " 'stringLiteralsQty_mean',\n",
       " 'stringLiteralsQty_min',\n",
       " 'stringLiteralsQty_max',\n",
       " 'stringLiteralsQty_std',\n",
       " 'numbersQty_mean',\n",
       " 'numbersQty_min',\n",
       " 'numbersQty_max',\n",
       " 'numbersQty_std',\n",
       " 'assignmentsQty_mean',\n",
       " 'assignmentsQty_min',\n",
       " 'assignmentsQty_max',\n",
       " 'assignmentsQty_std',\n",
       " 'mathOperationsQty_mean',\n",
       " 'mathOperationsQty_min',\n",
       " 'mathOperationsQty_max',\n",
       " 'mathOperationsQty_std',\n",
       " 'variablesQty_mean',\n",
       " 'variablesQty_min',\n",
       " 'variablesQty_max',\n",
       " 'variablesQty_std',\n",
       " 'maxNestedBlocks_mean',\n",
       " 'maxNestedBlocks_min',\n",
       " 'maxNestedBlocks_max',\n",
       " 'maxNestedBlocks_std',\n",
       " 'anonymousClassesQty_mean',\n",
       " 'anonymousClassesQty_min',\n",
       " 'anonymousClassesQty_max',\n",
       " 'anonymousClassesQty_std',\n",
       " 'subClassesQty_mean',\n",
       " 'subClassesQty_min',\n",
       " 'subClassesQty_max',\n",
       " 'subClassesQty_std',\n",
       " 'lambdasQty_mean',\n",
       " 'lambdasQty_min',\n",
       " 'lambdasQty_max',\n",
       " 'lambdasQty_std',\n",
       " 'uniqueWordsQty_mean',\n",
       " 'uniqueWordsQty_min',\n",
       " 'uniqueWordsQty_max',\n",
       " 'uniqueWordsQty_std',\n",
       " 'modifiers_mean',\n",
       " 'modifiers_min',\n",
       " 'modifiers_max',\n",
       " 'modifiers_std',\n",
       " 'num_dependency_mean',\n",
       " 'num_line_affected_mean',\n",
       " 'refactoring_perc_time_taken_bin']"
      ]
     },
     "execution_count": 271,
     "metadata": {},
     "output_type": "execute_result"
    }
   ],
   "source": [
    "final_col"
   ]
  },
  {
   "cell_type": "code",
   "execution_count": 272,
   "metadata": {},
   "outputs": [],
   "source": [
    "X_col = final_col.copy()\n",
    "X_col.remove('refactoring_perc_time_taken_bin')\n",
    "Y_col = ['refactoring_perc_time_taken_bin']\n",
    "\n",
    "X = main_df[X_col]\n",
    "y = main_df[Y_col]\n",
    "final_df = main_df[final_col]"
   ]
  },
  {
   "cell_type": "raw",
   "metadata": {},
   "source": [
    "import seaborn as sns\n",
    "\n",
    "corr = final_df.corr()\n",
    "ax = sns.heatmap(\n",
    "    corr, \n",
    "    vmin=-1, vmax=1, center=0,\n",
    "    cmap=sns.diverging_palette(20, 220, n=200),\n",
    "    square=True\n",
    ")\n",
    "\n",
    "ax.set_xticklabels(\n",
    "    ax.get_xticklabels(),\n",
    "    rotation=45,\n",
    "    horizontalalignment='right'\n",
    ");\n",
    "\n",
    "sns.set(rc = {'figure.figsize':(20,20)})"
   ]
  },
  {
   "cell_type": "code",
   "execution_count": 273,
   "metadata": {},
   "outputs": [
    {
     "data": {
      "text/html": [
       "<div>\n",
       "<style scoped>\n",
       "    .dataframe tbody tr th:only-of-type {\n",
       "        vertical-align: middle;\n",
       "    }\n",
       "\n",
       "    .dataframe tbody tr th {\n",
       "        vertical-align: top;\n",
       "    }\n",
       "\n",
       "    .dataframe thead th {\n",
       "        text-align: right;\n",
       "    }\n",
       "</style>\n",
       "<table border=\"1\" class=\"dataframe\">\n",
       "  <thead>\n",
       "    <tr style=\"text-align: right;\">\n",
       "      <th></th>\n",
       "      <th>cbo_mean</th>\n",
       "      <th>cbo_min</th>\n",
       "      <th>cbo_max</th>\n",
       "      <th>cbo_std</th>\n",
       "      <th>wmc_mean</th>\n",
       "      <th>wmc_min</th>\n",
       "      <th>wmc_max</th>\n",
       "      <th>wmc_std</th>\n",
       "      <th>dit_mean</th>\n",
       "      <th>dit_min</th>\n",
       "      <th>...</th>\n",
       "      <th>uniqueWordsQty_mean</th>\n",
       "      <th>uniqueWordsQty_min</th>\n",
       "      <th>uniqueWordsQty_max</th>\n",
       "      <th>uniqueWordsQty_std</th>\n",
       "      <th>modifiers_mean</th>\n",
       "      <th>modifiers_min</th>\n",
       "      <th>modifiers_max</th>\n",
       "      <th>modifiers_std</th>\n",
       "      <th>num_dependency_mean</th>\n",
       "      <th>num_line_affected_mean</th>\n",
       "    </tr>\n",
       "  </thead>\n",
       "  <tbody>\n",
       "    <tr>\n",
       "      <th>0</th>\n",
       "      <td>11.000000</td>\n",
       "      <td>11.0</td>\n",
       "      <td>11.0</td>\n",
       "      <td>0.000000</td>\n",
       "      <td>8.000000</td>\n",
       "      <td>8.0</td>\n",
       "      <td>8.0</td>\n",
       "      <td>0.000000</td>\n",
       "      <td>2.000000</td>\n",
       "      <td>2.0</td>\n",
       "      <td>...</td>\n",
       "      <td>58.000000</td>\n",
       "      <td>58.0</td>\n",
       "      <td>58.0</td>\n",
       "      <td>0.000000</td>\n",
       "      <td>17.000000</td>\n",
       "      <td>17.0</td>\n",
       "      <td>17.0</td>\n",
       "      <td>0.000000</td>\n",
       "      <td>85.000000</td>\n",
       "      <td>61.000000</td>\n",
       "    </tr>\n",
       "    <tr>\n",
       "      <th>1</th>\n",
       "      <td>12.000000</td>\n",
       "      <td>12.0</td>\n",
       "      <td>12.0</td>\n",
       "      <td>0.000000</td>\n",
       "      <td>8.000000</td>\n",
       "      <td>8.0</td>\n",
       "      <td>8.0</td>\n",
       "      <td>0.000000</td>\n",
       "      <td>1.000000</td>\n",
       "      <td>1.0</td>\n",
       "      <td>...</td>\n",
       "      <td>68.000000</td>\n",
       "      <td>68.0</td>\n",
       "      <td>68.0</td>\n",
       "      <td>0.000000</td>\n",
       "      <td>17.000000</td>\n",
       "      <td>17.0</td>\n",
       "      <td>17.0</td>\n",
       "      <td>0.000000</td>\n",
       "      <td>3.000000</td>\n",
       "      <td>78.000000</td>\n",
       "    </tr>\n",
       "    <tr>\n",
       "      <th>2</th>\n",
       "      <td>30.000000</td>\n",
       "      <td>30.0</td>\n",
       "      <td>30.0</td>\n",
       "      <td>0.000000</td>\n",
       "      <td>29.000000</td>\n",
       "      <td>29.0</td>\n",
       "      <td>29.0</td>\n",
       "      <td>0.000000</td>\n",
       "      <td>1.000000</td>\n",
       "      <td>1.0</td>\n",
       "      <td>...</td>\n",
       "      <td>103.000000</td>\n",
       "      <td>103.0</td>\n",
       "      <td>103.0</td>\n",
       "      <td>0.000000</td>\n",
       "      <td>1.000000</td>\n",
       "      <td>1.0</td>\n",
       "      <td>1.0</td>\n",
       "      <td>0.000000</td>\n",
       "      <td>78.000000</td>\n",
       "      <td>322.000000</td>\n",
       "    </tr>\n",
       "    <tr>\n",
       "      <th>3</th>\n",
       "      <td>23.250000</td>\n",
       "      <td>5.0</td>\n",
       "      <td>63.0</td>\n",
       "      <td>20.780782</td>\n",
       "      <td>20.666667</td>\n",
       "      <td>4.0</td>\n",
       "      <td>64.0</td>\n",
       "      <td>21.993112</td>\n",
       "      <td>2.000000</td>\n",
       "      <td>1.0</td>\n",
       "      <td>...</td>\n",
       "      <td>121.333333</td>\n",
       "      <td>37.0</td>\n",
       "      <td>320.0</td>\n",
       "      <td>98.919006</td>\n",
       "      <td>1.000000</td>\n",
       "      <td>1.0</td>\n",
       "      <td>1.0</td>\n",
       "      <td>0.000000</td>\n",
       "      <td>57.583333</td>\n",
       "      <td>222.666667</td>\n",
       "    </tr>\n",
       "    <tr>\n",
       "      <th>4</th>\n",
       "      <td>7.833333</td>\n",
       "      <td>0.0</td>\n",
       "      <td>31.0</td>\n",
       "      <td>11.027514</td>\n",
       "      <td>7.833333</td>\n",
       "      <td>1.0</td>\n",
       "      <td>21.0</td>\n",
       "      <td>7.444746</td>\n",
       "      <td>1.166667</td>\n",
       "      <td>1.0</td>\n",
       "      <td>...</td>\n",
       "      <td>63.500000</td>\n",
       "      <td>8.0</td>\n",
       "      <td>125.0</td>\n",
       "      <td>36.335557</td>\n",
       "      <td>10.333333</td>\n",
       "      <td>1.0</td>\n",
       "      <td>17.0</td>\n",
       "      <td>8.238858</td>\n",
       "      <td>54.333333</td>\n",
       "      <td>88.000000</td>\n",
       "    </tr>\n",
       "  </tbody>\n",
       "</table>\n",
       "<p>5 rows × 162 columns</p>\n",
       "</div>"
      ],
      "text/plain": [
       "    cbo_mean  cbo_min  cbo_max    cbo_std   wmc_mean  wmc_min  wmc_max  \\\n",
       "0  11.000000     11.0     11.0   0.000000   8.000000      8.0      8.0   \n",
       "1  12.000000     12.0     12.0   0.000000   8.000000      8.0      8.0   \n",
       "2  30.000000     30.0     30.0   0.000000  29.000000     29.0     29.0   \n",
       "3  23.250000      5.0     63.0  20.780782  20.666667      4.0     64.0   \n",
       "4   7.833333      0.0     31.0  11.027514   7.833333      1.0     21.0   \n",
       "\n",
       "     wmc_std  dit_mean  dit_min  ...  uniqueWordsQty_mean  uniqueWordsQty_min  \\\n",
       "0   0.000000  2.000000      2.0  ...            58.000000                58.0   \n",
       "1   0.000000  1.000000      1.0  ...            68.000000                68.0   \n",
       "2   0.000000  1.000000      1.0  ...           103.000000               103.0   \n",
       "3  21.993112  2.000000      1.0  ...           121.333333                37.0   \n",
       "4   7.444746  1.166667      1.0  ...            63.500000                 8.0   \n",
       "\n",
       "   uniqueWordsQty_max  uniqueWordsQty_std  modifiers_mean  modifiers_min  \\\n",
       "0                58.0            0.000000       17.000000           17.0   \n",
       "1                68.0            0.000000       17.000000           17.0   \n",
       "2               103.0            0.000000        1.000000            1.0   \n",
       "3               320.0           98.919006        1.000000            1.0   \n",
       "4               125.0           36.335557       10.333333            1.0   \n",
       "\n",
       "   modifiers_max  modifiers_std  num_dependency_mean  num_line_affected_mean  \n",
       "0           17.0       0.000000            85.000000               61.000000  \n",
       "1           17.0       0.000000             3.000000               78.000000  \n",
       "2            1.0       0.000000            78.000000              322.000000  \n",
       "3            1.0       0.000000            57.583333              222.666667  \n",
       "4           17.0       8.238858            54.333333               88.000000  \n",
       "\n",
       "[5 rows x 162 columns]"
      ]
     },
     "execution_count": 273,
     "metadata": {},
     "output_type": "execute_result"
    }
   ],
   "source": [
    "X.head()"
   ]
  },
  {
   "cell_type": "code",
   "execution_count": 274,
   "metadata": {},
   "outputs": [
    {
     "data": {
      "text/html": [
       "<div>\n",
       "<style scoped>\n",
       "    .dataframe tbody tr th:only-of-type {\n",
       "        vertical-align: middle;\n",
       "    }\n",
       "\n",
       "    .dataframe tbody tr th {\n",
       "        vertical-align: top;\n",
       "    }\n",
       "\n",
       "    .dataframe thead th {\n",
       "        text-align: right;\n",
       "    }\n",
       "</style>\n",
       "<table border=\"1\" class=\"dataframe\">\n",
       "  <thead>\n",
       "    <tr style=\"text-align: right;\">\n",
       "      <th></th>\n",
       "      <th>refactoring_perc_time_taken_bin</th>\n",
       "    </tr>\n",
       "  </thead>\n",
       "  <tbody>\n",
       "    <tr>\n",
       "      <th>0</th>\n",
       "      <td>2</td>\n",
       "    </tr>\n",
       "    <tr>\n",
       "      <th>1</th>\n",
       "      <td>0</td>\n",
       "    </tr>\n",
       "    <tr>\n",
       "      <th>2</th>\n",
       "      <td>1</td>\n",
       "    </tr>\n",
       "    <tr>\n",
       "      <th>3</th>\n",
       "      <td>2</td>\n",
       "    </tr>\n",
       "    <tr>\n",
       "      <th>4</th>\n",
       "      <td>0</td>\n",
       "    </tr>\n",
       "  </tbody>\n",
       "</table>\n",
       "</div>"
      ],
      "text/plain": [
       "  refactoring_perc_time_taken_bin\n",
       "0                               2\n",
       "1                               0\n",
       "2                               1\n",
       "3                               2\n",
       "4                               0"
      ]
     },
     "execution_count": 274,
     "metadata": {},
     "output_type": "execute_result"
    }
   ],
   "source": [
    "y.head()"
   ]
  },
  {
   "cell_type": "markdown",
   "metadata": {},
   "source": [
    "## Feature Engineering"
   ]
  },
  {
   "cell_type": "code",
   "execution_count": 83,
   "metadata": {},
   "outputs": [
    {
     "name": "stdout",
     "output_type": "stream",
     "text": [
      "Checking whether there is an H2O instance running at http://localhost:54321 . connected.\n",
      "Warning: Your H2O cluster version is too old (5 months and 25 days)! Please download and install the latest version from http://h2o.ai/download/\n"
     ]
    },
    {
     "data": {
      "text/html": [
       "<div style=\"overflow:auto\"><table style=\"width:50%\"><tr><td>H2O_cluster_uptime:</td>\n",
       "<td>1 min 10 secs</td></tr>\n",
       "<tr><td>H2O_cluster_timezone:</td>\n",
       "<td>Asia/Kuala_Lumpur</td></tr>\n",
       "<tr><td>H2O_data_parsing_timezone:</td>\n",
       "<td>UTC</td></tr>\n",
       "<tr><td>H2O_cluster_version:</td>\n",
       "<td>3.32.1.7</td></tr>\n",
       "<tr><td>H2O_cluster_version_age:</td>\n",
       "<td>5 months and 25 days !!!</td></tr>\n",
       "<tr><td>H2O_cluster_name:</td>\n",
       "<td>H2O_from_python_tanji_wjtwix</td></tr>\n",
       "<tr><td>H2O_cluster_total_nodes:</td>\n",
       "<td>1</td></tr>\n",
       "<tr><td>H2O_cluster_free_memory:</td>\n",
       "<td>7.984 Gb</td></tr>\n",
       "<tr><td>H2O_cluster_total_cores:</td>\n",
       "<td>12</td></tr>\n",
       "<tr><td>H2O_cluster_allowed_cores:</td>\n",
       "<td>4</td></tr>\n",
       "<tr><td>H2O_cluster_status:</td>\n",
       "<td>locked, healthy</td></tr>\n",
       "<tr><td>H2O_connection_url:</td>\n",
       "<td>http://localhost:54321</td></tr>\n",
       "<tr><td>H2O_connection_proxy:</td>\n",
       "<td>{\"http\": null, \"https\": null}</td></tr>\n",
       "<tr><td>H2O_internal_security:</td>\n",
       "<td>False</td></tr>\n",
       "<tr><td>H2O_API_Extensions:</td>\n",
       "<td>Amazon S3, Algos, AutoML, Core V3, TargetEncoder, Core V4</td></tr>\n",
       "<tr><td>Python_version:</td>\n",
       "<td>3.7.3 final</td></tr></table></div>"
      ],
      "text/plain": [
       "--------------------------  ---------------------------------------------------------\n",
       "H2O_cluster_uptime:         1 min 10 secs\n",
       "H2O_cluster_timezone:       Asia/Kuala_Lumpur\n",
       "H2O_data_parsing_timezone:  UTC\n",
       "H2O_cluster_version:        3.32.1.7\n",
       "H2O_cluster_version_age:    5 months and 25 days !!!\n",
       "H2O_cluster_name:           H2O_from_python_tanji_wjtwix\n",
       "H2O_cluster_total_nodes:    1\n",
       "H2O_cluster_free_memory:    7.984 Gb\n",
       "H2O_cluster_total_cores:    12\n",
       "H2O_cluster_allowed_cores:  4\n",
       "H2O_cluster_status:         locked, healthy\n",
       "H2O_connection_url:         http://localhost:54321\n",
       "H2O_connection_proxy:       {\"http\": null, \"https\": null}\n",
       "H2O_internal_security:      False\n",
       "H2O_API_Extensions:         Amazon S3, Algos, AutoML, Core V3, TargetEncoder, Core V4\n",
       "Python_version:             3.7.3 final\n",
       "--------------------------  ---------------------------------------------------------"
      ]
     },
     "metadata": {},
     "output_type": "display_data"
    }
   ],
   "source": [
    "h2o.init(nthreads=4)"
   ]
  },
  {
   "cell_type": "code",
   "execution_count": 275,
   "metadata": {},
   "outputs": [],
   "source": [
    "important_var = ['cbo_std',\n",
    " 'uniqueWordsQty_min',\n",
    " 'rfc_std',\n",
    " 'totalMethods_min',\n",
    " 'uniqueWordsQty_mean',\n",
    " 'num_dependency_mean',\n",
    " 'loc_min',\n",
    " 'num_line_affected_mean',\n",
    " 'uniqueWordsQty_max',\n",
    " 'assignmentsQty_min',\n",
    " 'loc_mean',\n",
    " 'rfc_max',\n",
    " 'cbo_mean',\n",
    " 'rfc_mean',\n",
    " 'lambdasQty_mean',\n",
    " 'variablesQty_std',\n",
    " 'maxNestedBlocks_mean',\n",
    " 'numbersQty_mean',\n",
    " 'stringLiteralsQty_min',\n",
    " 'cbo_max']"
   ]
  },
  {
   "cell_type": "code",
   "execution_count": 276,
   "metadata": {},
   "outputs": [
    {
     "name": "stdout",
     "output_type": "stream",
     "text": [
      "Parse progress: |█████████████████████████████████████████████████████████| 100%\n"
     ]
    }
   ],
   "source": [
    "from h2o.automl import H2OAutoML\n",
    "\n",
    "full = h2o.H2OFrame(final_df)\n",
    "full['refactoring_perc_time_taken_bin'] = full['refactoring_perc_time_taken_bin'].asfactor()\n",
    "train,test = full.split_frame(ratios=[0.7], seed=16)\n",
    "\n",
    "\n",
    "x = final_col\n",
    "y = \"refactoring_perc_time_taken_bin\"\n",
    "#x.remove(y)\n",
    "\n",
    "\n",
    "x = important_var\n",
    "\n",
    "\n"
   ]
  },
  {
   "cell_type": "code",
   "execution_count": 277,
   "metadata": {},
   "outputs": [
    {
     "data": {
      "text/plain": [
       "(737, 163)"
      ]
     },
     "execution_count": 277,
     "metadata": {},
     "output_type": "execute_result"
    }
   ],
   "source": [
    "full.shape"
   ]
  },
  {
   "cell_type": "code",
   "execution_count": 278,
   "metadata": {},
   "outputs": [
    {
     "data": {
      "text/plain": [
       "{'cbo_std': 'real',\n",
       " 'uniqueWordsQty_min': 'int',\n",
       " 'rfc_std': 'real',\n",
       " 'totalMethods_min': 'int',\n",
       " 'uniqueWordsQty_mean': 'real',\n",
       " 'num_dependency_mean': 'real',\n",
       " 'loc_min': 'int',\n",
       " 'num_line_affected_mean': 'real',\n",
       " 'uniqueWordsQty_max': 'int',\n",
       " 'assignmentsQty_min': 'int',\n",
       " 'loc_mean': 'real',\n",
       " 'rfc_max': 'int',\n",
       " 'cbo_mean': 'real',\n",
       " 'rfc_mean': 'real',\n",
       " 'lambdasQty_mean': 'real',\n",
       " 'variablesQty_std': 'real',\n",
       " 'maxNestedBlocks_mean': 'real',\n",
       " 'numbersQty_mean': 'real',\n",
       " 'stringLiteralsQty_min': 'int',\n",
       " 'cbo_max': 'int'}"
      ]
     },
     "execution_count": 278,
     "metadata": {},
     "output_type": "execute_result"
    }
   ],
   "source": [
    "train[x].types"
   ]
  },
  {
   "cell_type": "code",
   "execution_count": 279,
   "metadata": {},
   "outputs": [
    {
     "data": {
      "text/plain": [
       "{'refactoring_perc_time_taken_bin': 'enum'}"
      ]
     },
     "execution_count": 279,
     "metadata": {},
     "output_type": "execute_result"
    }
   ],
   "source": [
    "train[y].types"
   ]
  },
  {
   "cell_type": "code",
   "execution_count": 280,
   "metadata": {},
   "outputs": [
    {
     "name": "stdout",
     "output_type": "stream",
     "text": [
      "AutoML progress: |█\n",
      "15:18:59.985: AutoML: XGBoost is not available; skipping it.\n",
      "\n",
      "███████████████████████████████Failed polling AutoML progress log: [WinError 32] The process cannot access the file because it is being used by another process: 'C:\\\\Users\\\\tanji\\\\AppData\\\\Local\\\\Temp\\\\tmpkts5t07w.csv'\n",
      "███████Failed polling AutoML progress log: [WinError 32] The process cannot access the file because it is being used by another process: 'C:\\\\Users\\\\tanji\\\\AppData\\\\Local\\\\Temp\\\\tmprbyq6qcv.csv'\n",
      "██Failed polling AutoML progress log: [WinError 32] The process cannot access the file because it is being used by another process: 'C:\\\\Users\\\\tanji\\\\AppData\\\\Local\\\\Temp\\\\tmpyurwpmi4.csv'\n",
      "███████████████| 100%\n"
     ]
    }
   ],
   "source": [
    "aml = H2OAutoML(max_models=25, seed=16, exploitation_ratio=0.1)\n",
    "#aml = H2OAutoML(max_models=25, seed=16, balance_classes=True)\n",
    "#aml = H2OAutoML(max_models=10, seed=1, include_algos=['GLM'])\n",
    "aml.train(x=x, y=y, training_frame=train)"
   ]
  },
  {
   "cell_type": "code",
   "execution_count": 281,
   "metadata": {
    "scrolled": true
   },
   "outputs": [
    {
     "data": {
      "text/html": [
       "<table>\n",
       "<thead>\n",
       "<tr><th>model_id                                           </th><th style=\"text-align: right;\">  mean_per_class_error</th><th style=\"text-align: right;\">  logloss</th><th style=\"text-align: right;\">    rmse</th><th style=\"text-align: right;\">     mse</th></tr>\n",
       "</thead>\n",
       "<tbody>\n",
       "<tr><td>DeepLearning_grid__3_AutoML_20220228_151859_model_1</td><td style=\"text-align: right;\">              0.53033 </td><td style=\"text-align: right;\">  1.0368 </td><td style=\"text-align: right;\">0.623185</td><td style=\"text-align: right;\">0.38836 </td></tr>\n",
       "<tr><td>DeepLearning_grid__1_AutoML_20220228_151859_model_1</td><td style=\"text-align: right;\">              0.534749</td><td style=\"text-align: right;\">  1.20131</td><td style=\"text-align: right;\">0.635097</td><td style=\"text-align: right;\">0.403348</td></tr>\n",
       "<tr><td>GBM_grid__1_AutoML_20220228_151859_model_3         </td><td style=\"text-align: right;\">              0.544947</td><td style=\"text-align: right;\">  1.01567</td><td style=\"text-align: right;\">0.624839</td><td style=\"text-align: right;\">0.390424</td></tr>\n",
       "<tr><td>DeepLearning_grid__2_AutoML_20220228_151859_model_1</td><td style=\"text-align: right;\">              0.545722</td><td style=\"text-align: right;\">  1.06029</td><td style=\"text-align: right;\">0.619775</td><td style=\"text-align: right;\">0.384121</td></tr>\n",
       "<tr><td>DeepLearning_grid__2_AutoML_20220228_151859_model_2</td><td style=\"text-align: right;\">              0.547533</td><td style=\"text-align: right;\">  3.31848</td><td style=\"text-align: right;\">0.711149</td><td style=\"text-align: right;\">0.505733</td></tr>\n",
       "<tr><td>GBM_5_AutoML_20220228_151859                       </td><td style=\"text-align: right;\">              0.548272</td><td style=\"text-align: right;\">  1.01293</td><td style=\"text-align: right;\">0.62471 </td><td style=\"text-align: right;\">0.390263</td></tr>\n",
       "<tr><td>DeepLearning_grid__3_AutoML_20220228_151859_model_3</td><td style=\"text-align: right;\">              0.553747</td><td style=\"text-align: right;\">  1.3218 </td><td style=\"text-align: right;\">0.642754</td><td style=\"text-align: right;\">0.413133</td></tr>\n",
       "<tr><td>DRF_1_AutoML_20220228_151859                       </td><td style=\"text-align: right;\">              0.559504</td><td style=\"text-align: right;\">  1.1679 </td><td style=\"text-align: right;\">0.624676</td><td style=\"text-align: right;\">0.39022 </td></tr>\n",
       "<tr><td>GBM_grid__1_AutoML_20220228_151859_model_2         </td><td style=\"text-align: right;\">              0.561204</td><td style=\"text-align: right;\">  1.04857</td><td style=\"text-align: right;\">0.632194</td><td style=\"text-align: right;\">0.399669</td></tr>\n",
       "<tr><td>XRT_1_AutoML_20220228_151859                       </td><td style=\"text-align: right;\">              0.565277</td><td style=\"text-align: right;\">  1.16766</td><td style=\"text-align: right;\">0.625675</td><td style=\"text-align: right;\">0.391469</td></tr>\n",
       "<tr><td>DeepLearning_grid__1_AutoML_20220228_151859_model_3</td><td style=\"text-align: right;\">              0.566312</td><td style=\"text-align: right;\">  2.30618</td><td style=\"text-align: right;\">0.665104</td><td style=\"text-align: right;\">0.442363</td></tr>\n",
       "<tr><td>DeepLearning_grid__3_AutoML_20220228_151859_model_2</td><td style=\"text-align: right;\">              0.566321</td><td style=\"text-align: right;\">  2.79002</td><td style=\"text-align: right;\">0.710389</td><td style=\"text-align: right;\">0.504653</td></tr>\n",
       "<tr><td>GBM_1_AutoML_20220228_151859                       </td><td style=\"text-align: right;\">              0.56685 </td><td style=\"text-align: right;\">  1.09944</td><td style=\"text-align: right;\">0.63349 </td><td style=\"text-align: right;\">0.401309</td></tr>\n",
       "<tr><td>DeepLearning_1_AutoML_20220228_151859              </td><td style=\"text-align: right;\">              0.567258</td><td style=\"text-align: right;\">  1.06741</td><td style=\"text-align: right;\">0.633973</td><td style=\"text-align: right;\">0.401922</td></tr>\n",
       "<tr><td>GBM_grid__1_AutoML_20220228_151859_model_5         </td><td style=\"text-align: right;\">              0.570295</td><td style=\"text-align: right;\">  1.09967</td><td style=\"text-align: right;\">0.640474</td><td style=\"text-align: right;\">0.410207</td></tr>\n",
       "<tr><td>GBM_2_AutoML_20220228_151859                       </td><td style=\"text-align: right;\">              0.57197 </td><td style=\"text-align: right;\">  1.08694</td><td style=\"text-align: right;\">0.637135</td><td style=\"text-align: right;\">0.405941</td></tr>\n",
       "<tr><td>GBM_grid__1_AutoML_20220228_151859_model_6         </td><td style=\"text-align: right;\">              0.572613</td><td style=\"text-align: right;\">  1.05554</td><td style=\"text-align: right;\">0.631839</td><td style=\"text-align: right;\">0.399221</td></tr>\n",
       "<tr><td>GBM_grid__1_AutoML_20220228_151859_model_1         </td><td style=\"text-align: right;\">              0.573596</td><td style=\"text-align: right;\">  1.05458</td><td style=\"text-align: right;\">0.630914</td><td style=\"text-align: right;\">0.398053</td></tr>\n",
       "<tr><td>DeepLearning_grid__1_AutoML_20220228_151859_model_2</td><td style=\"text-align: right;\">              0.574102</td><td style=\"text-align: right;\">  1.93578</td><td style=\"text-align: right;\">0.679449</td><td style=\"text-align: right;\">0.46165 </td></tr>\n",
       "<tr><td>StackedEnsemble_BestOfFamily_AutoML_20220228_151859</td><td style=\"text-align: right;\">              0.577224</td><td style=\"text-align: right;\">  1.02403</td><td style=\"text-align: right;\">0.623908</td><td style=\"text-align: right;\">0.389261</td></tr>\n",
       "<tr><td>GBM_3_AutoML_20220228_151859                       </td><td style=\"text-align: right;\">              0.578033</td><td style=\"text-align: right;\">  1.0949 </td><td style=\"text-align: right;\">0.638809</td><td style=\"text-align: right;\">0.408077</td></tr>\n",
       "<tr><td>GBM_grid__1_AutoML_20220228_151859_model_4         </td><td style=\"text-align: right;\">              0.581948</td><td style=\"text-align: right;\">  1.07423</td><td style=\"text-align: right;\">0.635997</td><td style=\"text-align: right;\">0.404492</td></tr>\n",
       "<tr><td>DeepLearning_grid__2_AutoML_20220228_151859_model_3</td><td style=\"text-align: right;\">              0.582992</td><td style=\"text-align: right;\">  1.27133</td><td style=\"text-align: right;\">0.649498</td><td style=\"text-align: right;\">0.421848</td></tr>\n",
       "<tr><td>StackedEnsemble_AllModels_AutoML_20220228_151859   </td><td style=\"text-align: right;\">              0.584149</td><td style=\"text-align: right;\">  1.03681</td><td style=\"text-align: right;\">0.640444</td><td style=\"text-align: right;\">0.410168</td></tr>\n",
       "<tr><td>GBM_grid__1_AutoML_20220228_151859_model_7         </td><td style=\"text-align: right;\">              0.593184</td><td style=\"text-align: right;\">  1.07952</td><td style=\"text-align: right;\">0.634537</td><td style=\"text-align: right;\">0.402637</td></tr>\n",
       "<tr><td>GBM_4_AutoML_20220228_151859                       </td><td style=\"text-align: right;\">              0.593577</td><td style=\"text-align: right;\">  1.10004</td><td style=\"text-align: right;\">0.639288</td><td style=\"text-align: right;\">0.408689</td></tr>\n",
       "<tr><td>GLM_1_AutoML_20220228_151859                       </td><td style=\"text-align: right;\">              0.612988</td><td style=\"text-align: right;\">  1.03466</td><td style=\"text-align: right;\">0.637895</td><td style=\"text-align: right;\">0.40691 </td></tr>\n",
       "</tbody>\n",
       "</table>"
      ]
     },
     "metadata": {},
     "output_type": "display_data"
    },
    {
     "data": {
      "text/plain": []
     },
     "execution_count": 281,
     "metadata": {},
     "output_type": "execute_result"
    }
   ],
   "source": [
    "lb = aml.leaderboard\n",
    "lb.head(rows=lb.nrows)"
   ]
  },
  {
   "cell_type": "code",
   "execution_count": 285,
   "metadata": {},
   "outputs": [],
   "source": [
    "model = h2o.get_model(lb[0,'model_id'])"
   ]
  },
  {
   "cell_type": "code",
   "execution_count": 286,
   "metadata": {
    "scrolled": true
   },
   "outputs": [
    {
     "name": "stdout",
     "output_type": "stream",
     "text": [
      "Model Details\n",
      "=============\n",
      "H2ODeepLearningEstimator :  Deep Learning\n",
      "Model Key:  DeepLearning_grid__3_AutoML_20220228_151859_model_1\n",
      "\n",
      "\n",
      "Status of Neuron Layers: predicting refactoring_perc_time_taken_bin, 3-class classification, multinomial distribution, CrossEntropy loss, 1,323 weights/biases, 25.3 KB, 3,819,020 training samples, mini-batch size 1\n"
     ]
    },
    {
     "data": {
      "text/html": [
       "<div>\n",
       "<style scoped>\n",
       "    .dataframe tbody tr th:only-of-type {\n",
       "        vertical-align: middle;\n",
       "    }\n",
       "\n",
       "    .dataframe tbody tr th {\n",
       "        vertical-align: top;\n",
       "    }\n",
       "\n",
       "    .dataframe thead th {\n",
       "        text-align: right;\n",
       "    }\n",
       "</style>\n",
       "<table border=\"1\" class=\"dataframe\">\n",
       "  <thead>\n",
       "    <tr style=\"text-align: right;\">\n",
       "      <th></th>\n",
       "      <th></th>\n",
       "      <th>layer</th>\n",
       "      <th>units</th>\n",
       "      <th>type</th>\n",
       "      <th>dropout</th>\n",
       "      <th>l1</th>\n",
       "      <th>l2</th>\n",
       "      <th>mean_rate</th>\n",
       "      <th>rate_rms</th>\n",
       "      <th>momentum</th>\n",
       "      <th>mean_weight</th>\n",
       "      <th>weight_rms</th>\n",
       "      <th>mean_bias</th>\n",
       "      <th>bias_rms</th>\n",
       "    </tr>\n",
       "  </thead>\n",
       "  <tbody>\n",
       "    <tr>\n",
       "      <th>0</th>\n",
       "      <td></td>\n",
       "      <td>1</td>\n",
       "      <td>20</td>\n",
       "      <td>Input</td>\n",
       "      <td>20</td>\n",
       "      <td></td>\n",
       "      <td></td>\n",
       "      <td></td>\n",
       "      <td></td>\n",
       "      <td></td>\n",
       "      <td></td>\n",
       "      <td></td>\n",
       "      <td></td>\n",
       "      <td></td>\n",
       "    </tr>\n",
       "    <tr>\n",
       "      <th>1</th>\n",
       "      <td></td>\n",
       "      <td>2</td>\n",
       "      <td>20</td>\n",
       "      <td>RectifierDropout</td>\n",
       "      <td>30</td>\n",
       "      <td>0</td>\n",
       "      <td>0</td>\n",
       "      <td>0.00017698</td>\n",
       "      <td>0.00016046</td>\n",
       "      <td>0</td>\n",
       "      <td>0.00631754</td>\n",
       "      <td>0.252114</td>\n",
       "      <td>-0.213051</td>\n",
       "      <td>0.266884</td>\n",
       "    </tr>\n",
       "    <tr>\n",
       "      <th>2</th>\n",
       "      <td></td>\n",
       "      <td>3</td>\n",
       "      <td>20</td>\n",
       "      <td>RectifierDropout</td>\n",
       "      <td>30</td>\n",
       "      <td>0</td>\n",
       "      <td>0</td>\n",
       "      <td>0.000243699</td>\n",
       "      <td>0.000248581</td>\n",
       "      <td>0</td>\n",
       "      <td>-0.147666</td>\n",
       "      <td>0.299995</td>\n",
       "      <td>0.208449</td>\n",
       "      <td>0.248429</td>\n",
       "    </tr>\n",
       "    <tr>\n",
       "      <th>3</th>\n",
       "      <td></td>\n",
       "      <td>4</td>\n",
       "      <td>20</td>\n",
       "      <td>RectifierDropout</td>\n",
       "      <td>30</td>\n",
       "      <td>0</td>\n",
       "      <td>0</td>\n",
       "      <td>0.000706914</td>\n",
       "      <td>0.000969271</td>\n",
       "      <td>0</td>\n",
       "      <td>-0.0408166</td>\n",
       "      <td>0.328835</td>\n",
       "      <td>0.149303</td>\n",
       "      <td>0.453338</td>\n",
       "    </tr>\n",
       "    <tr>\n",
       "      <th>4</th>\n",
       "      <td></td>\n",
       "      <td>5</td>\n",
       "      <td>3</td>\n",
       "      <td>Softmax</td>\n",
       "      <td></td>\n",
       "      <td>0</td>\n",
       "      <td>0</td>\n",
       "      <td>0.00146814</td>\n",
       "      <td>0.00147997</td>\n",
       "      <td>0</td>\n",
       "      <td>-3.22341</td>\n",
       "      <td>2.54137</td>\n",
       "      <td>-18.0047</td>\n",
       "      <td>0.845981</td>\n",
       "    </tr>\n",
       "  </tbody>\n",
       "</table>\n",
       "</div>"
      ],
      "text/plain": [
       "     layer  units              type dropout l1 l2    mean_rate     rate_rms  \\\n",
       "0        1     20             Input      20                                   \n",
       "1        2     20  RectifierDropout      30  0  0   0.00017698   0.00016046   \n",
       "2        3     20  RectifierDropout      30  0  0  0.000243699  0.000248581   \n",
       "3        4     20  RectifierDropout      30  0  0  0.000706914  0.000969271   \n",
       "4        5      3           Softmax          0  0   0.00146814   0.00147997   \n",
       "\n",
       "  momentum mean_weight weight_rms mean_bias  bias_rms  \n",
       "0                                                      \n",
       "1        0  0.00631754   0.252114 -0.213051  0.266884  \n",
       "2        0   -0.147666   0.299995  0.208449  0.248429  \n",
       "3        0  -0.0408166   0.328835  0.149303  0.453338  \n",
       "4        0    -3.22341    2.54137  -18.0047  0.845981  "
      ]
     },
     "metadata": {},
     "output_type": "display_data"
    },
    {
     "name": "stdout",
     "output_type": "stream",
     "text": [
      "\n",
      "\n",
      "ModelMetricsMultinomial: deeplearning\n",
      "** Reported on train data. **\n",
      "\n",
      "MSE: 0.34358021003077294\n",
      "RMSE: 0.5861571547211318\n",
      "LogLoss: 0.9309216125276821\n",
      "Mean Per-Class Error: 0.502601023141053\n",
      "AUC: NaN\n",
      "AUCPR: NaN\n",
      "Multinomial auc values: Table is not computed because it is disabled (model parameter 'auc_type' is set to AUTO or NONE) or due to domain size (maximum is 50 domains).\n",
      "Multinomial auc_pr values: Table is not computed because it is disabled (model parameter 'auc_type' is set to AUTO or NONE) or due to domain size (maximum is 50 domains).\n",
      "\n",
      "Confusion Matrix: Row labels: Actual class; Column labels: Predicted class\n"
     ]
    },
    {
     "data": {
      "text/html": [
       "<div>\n",
       "<style scoped>\n",
       "    .dataframe tbody tr th:only-of-type {\n",
       "        vertical-align: middle;\n",
       "    }\n",
       "\n",
       "    .dataframe tbody tr th {\n",
       "        vertical-align: top;\n",
       "    }\n",
       "\n",
       "    .dataframe thead th {\n",
       "        text-align: right;\n",
       "    }\n",
       "</style>\n",
       "<table border=\"1\" class=\"dataframe\">\n",
       "  <thead>\n",
       "    <tr style=\"text-align: right;\">\n",
       "      <th></th>\n",
       "      <th>0</th>\n",
       "      <th>1</th>\n",
       "      <th>2</th>\n",
       "      <th>Error</th>\n",
       "      <th>Rate</th>\n",
       "    </tr>\n",
       "  </thead>\n",
       "  <tbody>\n",
       "    <tr>\n",
       "      <th>0</th>\n",
       "      <td>47.0</td>\n",
       "      <td>25.0</td>\n",
       "      <td>62.0</td>\n",
       "      <td>0.649254</td>\n",
       "      <td>87 / 134</td>\n",
       "    </tr>\n",
       "    <tr>\n",
       "      <th>1</th>\n",
       "      <td>15.0</td>\n",
       "      <td>49.0</td>\n",
       "      <td>138.0</td>\n",
       "      <td>0.757426</td>\n",
       "      <td>153 / 202</td>\n",
       "    </tr>\n",
       "    <tr>\n",
       "      <th>2</th>\n",
       "      <td>5.0</td>\n",
       "      <td>13.0</td>\n",
       "      <td>160.0</td>\n",
       "      <td>0.101124</td>\n",
       "      <td>18 / 178</td>\n",
       "    </tr>\n",
       "    <tr>\n",
       "      <th>3</th>\n",
       "      <td>67.0</td>\n",
       "      <td>87.0</td>\n",
       "      <td>360.0</td>\n",
       "      <td>0.501946</td>\n",
       "      <td>258 / 514</td>\n",
       "    </tr>\n",
       "  </tbody>\n",
       "</table>\n",
       "</div>"
      ],
      "text/plain": [
       "      0     1      2     Error       Rate\n",
       "0  47.0  25.0   62.0  0.649254   87 / 134\n",
       "1  15.0  49.0  138.0  0.757426  153 / 202\n",
       "2   5.0  13.0  160.0  0.101124   18 / 178\n",
       "3  67.0  87.0  360.0  0.501946  258 / 514"
      ]
     },
     "metadata": {},
     "output_type": "display_data"
    },
    {
     "name": "stdout",
     "output_type": "stream",
     "text": [
      "\n",
      "Top-3 Hit Ratios: \n"
     ]
    },
    {
     "data": {
      "text/html": [
       "<div>\n",
       "<style scoped>\n",
       "    .dataframe tbody tr th:only-of-type {\n",
       "        vertical-align: middle;\n",
       "    }\n",
       "\n",
       "    .dataframe tbody tr th {\n",
       "        vertical-align: top;\n",
       "    }\n",
       "\n",
       "    .dataframe thead th {\n",
       "        text-align: right;\n",
       "    }\n",
       "</style>\n",
       "<table border=\"1\" class=\"dataframe\">\n",
       "  <thead>\n",
       "    <tr style=\"text-align: right;\">\n",
       "      <th></th>\n",
       "      <th>k</th>\n",
       "      <th>hit_ratio</th>\n",
       "    </tr>\n",
       "  </thead>\n",
       "  <tbody>\n",
       "    <tr>\n",
       "      <th>0</th>\n",
       "      <td>1</td>\n",
       "      <td>0.498054</td>\n",
       "    </tr>\n",
       "    <tr>\n",
       "      <th>1</th>\n",
       "      <td>2</td>\n",
       "      <td>0.832685</td>\n",
       "    </tr>\n",
       "    <tr>\n",
       "      <th>2</th>\n",
       "      <td>3</td>\n",
       "      <td>1.000000</td>\n",
       "    </tr>\n",
       "  </tbody>\n",
       "</table>\n",
       "</div>"
      ],
      "text/plain": [
       "   k  hit_ratio\n",
       "0  1   0.498054\n",
       "1  2   0.832685\n",
       "2  3   1.000000"
      ]
     },
     "metadata": {},
     "output_type": "display_data"
    },
    {
     "name": "stdout",
     "output_type": "stream",
     "text": [
      "\n",
      "ModelMetricsMultinomial: deeplearning\n",
      "** Reported on cross-validation data. **\n",
      "\n",
      "MSE: 0.3883601037255155\n",
      "RMSE: 0.6231854489038681\n",
      "LogLoss: 1.036800661941016\n",
      "Mean Per-Class Error: 0.5303300496073421\n",
      "AUC: NaN\n",
      "AUCPR: NaN\n",
      "Multinomial auc values: Table is not computed because it is disabled (model parameter 'auc_type' is set to AUTO or NONE) or due to domain size (maximum is 50 domains).\n",
      "Multinomial auc_pr values: Table is not computed because it is disabled (model parameter 'auc_type' is set to AUTO or NONE) or due to domain size (maximum is 50 domains).\n",
      "\n",
      "Confusion Matrix: Row labels: Actual class; Column labels: Predicted class\n"
     ]
    },
    {
     "data": {
      "text/html": [
       "<div>\n",
       "<style scoped>\n",
       "    .dataframe tbody tr th:only-of-type {\n",
       "        vertical-align: middle;\n",
       "    }\n",
       "\n",
       "    .dataframe tbody tr th {\n",
       "        vertical-align: top;\n",
       "    }\n",
       "\n",
       "    .dataframe thead th {\n",
       "        text-align: right;\n",
       "    }\n",
       "</style>\n",
       "<table border=\"1\" class=\"dataframe\">\n",
       "  <thead>\n",
       "    <tr style=\"text-align: right;\">\n",
       "      <th></th>\n",
       "      <th>0</th>\n",
       "      <th>1</th>\n",
       "      <th>2</th>\n",
       "      <th>Error</th>\n",
       "      <th>Rate</th>\n",
       "    </tr>\n",
       "  </thead>\n",
       "  <tbody>\n",
       "    <tr>\n",
       "      <th>0</th>\n",
       "      <td>62.0</td>\n",
       "      <td>47.0</td>\n",
       "      <td>25.0</td>\n",
       "      <td>0.537313</td>\n",
       "      <td>72 / 134</td>\n",
       "    </tr>\n",
       "    <tr>\n",
       "      <th>1</th>\n",
       "      <td>47.0</td>\n",
       "      <td>72.0</td>\n",
       "      <td>83.0</td>\n",
       "      <td>0.643564</td>\n",
       "      <td>130 / 202</td>\n",
       "    </tr>\n",
       "    <tr>\n",
       "      <th>2</th>\n",
       "      <td>19.0</td>\n",
       "      <td>54.0</td>\n",
       "      <td>105.0</td>\n",
       "      <td>0.410112</td>\n",
       "      <td>73 / 178</td>\n",
       "    </tr>\n",
       "    <tr>\n",
       "      <th>3</th>\n",
       "      <td>128.0</td>\n",
       "      <td>173.0</td>\n",
       "      <td>213.0</td>\n",
       "      <td>0.535019</td>\n",
       "      <td>275 / 514</td>\n",
       "    </tr>\n",
       "  </tbody>\n",
       "</table>\n",
       "</div>"
      ],
      "text/plain": [
       "       0      1      2     Error       Rate\n",
       "0   62.0   47.0   25.0  0.537313   72 / 134\n",
       "1   47.0   72.0   83.0  0.643564  130 / 202\n",
       "2   19.0   54.0  105.0  0.410112   73 / 178\n",
       "3  128.0  173.0  213.0  0.535019  275 / 514"
      ]
     },
     "metadata": {},
     "output_type": "display_data"
    },
    {
     "name": "stdout",
     "output_type": "stream",
     "text": [
      "\n",
      "Top-3 Hit Ratios: \n"
     ]
    },
    {
     "data": {
      "text/html": [
       "<div>\n",
       "<style scoped>\n",
       "    .dataframe tbody tr th:only-of-type {\n",
       "        vertical-align: middle;\n",
       "    }\n",
       "\n",
       "    .dataframe tbody tr th {\n",
       "        vertical-align: top;\n",
       "    }\n",
       "\n",
       "    .dataframe thead th {\n",
       "        text-align: right;\n",
       "    }\n",
       "</style>\n",
       "<table border=\"1\" class=\"dataframe\">\n",
       "  <thead>\n",
       "    <tr style=\"text-align: right;\">\n",
       "      <th></th>\n",
       "      <th>k</th>\n",
       "      <th>hit_ratio</th>\n",
       "    </tr>\n",
       "  </thead>\n",
       "  <tbody>\n",
       "    <tr>\n",
       "      <th>0</th>\n",
       "      <td>1</td>\n",
       "      <td>0.464981</td>\n",
       "    </tr>\n",
       "    <tr>\n",
       "      <th>1</th>\n",
       "      <td>2</td>\n",
       "      <td>0.826848</td>\n",
       "    </tr>\n",
       "    <tr>\n",
       "      <th>2</th>\n",
       "      <td>3</td>\n",
       "      <td>1.000000</td>\n",
       "    </tr>\n",
       "  </tbody>\n",
       "</table>\n",
       "</div>"
      ],
      "text/plain": [
       "   k  hit_ratio\n",
       "0  1   0.464981\n",
       "1  2   0.826848\n",
       "2  3   1.000000"
      ]
     },
     "metadata": {},
     "output_type": "display_data"
    },
    {
     "name": "stdout",
     "output_type": "stream",
     "text": [
      "\n",
      "Cross-Validation Metrics Summary: \n"
     ]
    },
    {
     "data": {
      "text/html": [
       "<div>\n",
       "<style scoped>\n",
       "    .dataframe tbody tr th:only-of-type {\n",
       "        vertical-align: middle;\n",
       "    }\n",
       "\n",
       "    .dataframe tbody tr th {\n",
       "        vertical-align: top;\n",
       "    }\n",
       "\n",
       "    .dataframe thead th {\n",
       "        text-align: right;\n",
       "    }\n",
       "</style>\n",
       "<table border=\"1\" class=\"dataframe\">\n",
       "  <thead>\n",
       "    <tr style=\"text-align: right;\">\n",
       "      <th></th>\n",
       "      <th></th>\n",
       "      <th>mean</th>\n",
       "      <th>sd</th>\n",
       "      <th>cv_1_valid</th>\n",
       "      <th>cv_2_valid</th>\n",
       "      <th>cv_3_valid</th>\n",
       "      <th>cv_4_valid</th>\n",
       "      <th>cv_5_valid</th>\n",
       "    </tr>\n",
       "  </thead>\n",
       "  <tbody>\n",
       "    <tr>\n",
       "      <th>0</th>\n",
       "      <td>accuracy</td>\n",
       "      <td>0.46501046</td>\n",
       "      <td>0.023849512</td>\n",
       "      <td>0.4368932</td>\n",
       "      <td>0.44660193</td>\n",
       "      <td>0.46601942</td>\n",
       "      <td>0.49514562</td>\n",
       "      <td>0.48039216</td>\n",
       "    </tr>\n",
       "    <tr>\n",
       "      <th>1</th>\n",
       "      <td>auc</td>\n",
       "      <td>NaN</td>\n",
       "      <td>0.0</td>\n",
       "      <td>NaN</td>\n",
       "      <td>NaN</td>\n",
       "      <td>NaN</td>\n",
       "      <td>NaN</td>\n",
       "      <td>NaN</td>\n",
       "    </tr>\n",
       "    <tr>\n",
       "      <th>2</th>\n",
       "      <td>err</td>\n",
       "      <td>0.53498954</td>\n",
       "      <td>0.023849512</td>\n",
       "      <td>0.5631068</td>\n",
       "      <td>0.5533981</td>\n",
       "      <td>0.5339806</td>\n",
       "      <td>0.5048544</td>\n",
       "      <td>0.51960784</td>\n",
       "    </tr>\n",
       "    <tr>\n",
       "      <th>3</th>\n",
       "      <td>err_count</td>\n",
       "      <td>55.0</td>\n",
       "      <td>2.5495098</td>\n",
       "      <td>58.0</td>\n",
       "      <td>57.0</td>\n",
       "      <td>55.0</td>\n",
       "      <td>52.0</td>\n",
       "      <td>53.0</td>\n",
       "    </tr>\n",
       "    <tr>\n",
       "      <th>4</th>\n",
       "      <td>logloss</td>\n",
       "      <td>1.0366671</td>\n",
       "      <td>0.095743775</td>\n",
       "      <td>1.2045932</td>\n",
       "      <td>1.01957</td>\n",
       "      <td>0.98906624</td>\n",
       "      <td>1.0021132</td>\n",
       "      <td>0.9679926</td>\n",
       "    </tr>\n",
       "    <tr>\n",
       "      <th>5</th>\n",
       "      <td>max_per_class_error</td>\n",
       "      <td>0.7322283</td>\n",
       "      <td>0.12505229</td>\n",
       "      <td>0.72727275</td>\n",
       "      <td>0.8863636</td>\n",
       "      <td>0.8181818</td>\n",
       "      <td>0.5714286</td>\n",
       "      <td>0.65789473</td>\n",
       "    </tr>\n",
       "    <tr>\n",
       "      <th>6</th>\n",
       "      <td>mean_per_class_accuracy</td>\n",
       "      <td>0.47930923</td>\n",
       "      <td>0.024773616</td>\n",
       "      <td>0.43513566</td>\n",
       "      <td>0.49281275</td>\n",
       "      <td>0.49180263</td>\n",
       "      <td>0.4883856</td>\n",
       "      <td>0.48840946</td>\n",
       "    </tr>\n",
       "    <tr>\n",
       "      <th>7</th>\n",
       "      <td>mean_per_class_error</td>\n",
       "      <td>0.5206908</td>\n",
       "      <td>0.024773616</td>\n",
       "      <td>0.56486434</td>\n",
       "      <td>0.50718725</td>\n",
       "      <td>0.50819737</td>\n",
       "      <td>0.5116144</td>\n",
       "      <td>0.51159054</td>\n",
       "    </tr>\n",
       "    <tr>\n",
       "      <th>8</th>\n",
       "      <td>mse</td>\n",
       "      <td>0.38832304</td>\n",
       "      <td>0.03160751</td>\n",
       "      <td>0.44195223</td>\n",
       "      <td>0.39008397</td>\n",
       "      <td>0.36330643</td>\n",
       "      <td>0.3769991</td>\n",
       "      <td>0.36927348</td>\n",
       "    </tr>\n",
       "    <tr>\n",
       "      <th>9</th>\n",
       "      <td>pr_auc</td>\n",
       "      <td>NaN</td>\n",
       "      <td>0.0</td>\n",
       "      <td>NaN</td>\n",
       "      <td>NaN</td>\n",
       "      <td>NaN</td>\n",
       "      <td>NaN</td>\n",
       "      <td>NaN</td>\n",
       "    </tr>\n",
       "    <tr>\n",
       "      <th>10</th>\n",
       "      <td>r2</td>\n",
       "      <td>0.34790924</td>\n",
       "      <td>0.041081168</td>\n",
       "      <td>0.32048243</td>\n",
       "      <td>0.31347033</td>\n",
       "      <td>0.32569665</td>\n",
       "      <td>0.3701443</td>\n",
       "      <td>0.40975246</td>\n",
       "    </tr>\n",
       "    <tr>\n",
       "      <th>11</th>\n",
       "      <td>rmse</td>\n",
       "      <td>0.62275845</td>\n",
       "      <td>0.024873534</td>\n",
       "      <td>0.66479486</td>\n",
       "      <td>0.62456703</td>\n",
       "      <td>0.60274905</td>\n",
       "      <td>0.6140025</td>\n",
       "      <td>0.6076788</td>\n",
       "    </tr>\n",
       "  </tbody>\n",
       "</table>\n",
       "</div>"
      ],
      "text/plain": [
       "                                   mean           sd  cv_1_valid  cv_2_valid  \\\n",
       "0                  accuracy  0.46501046  0.023849512   0.4368932  0.44660193   \n",
       "1                       auc         NaN          0.0         NaN         NaN   \n",
       "2                       err  0.53498954  0.023849512   0.5631068   0.5533981   \n",
       "3                 err_count        55.0    2.5495098        58.0        57.0   \n",
       "4                   logloss   1.0366671  0.095743775   1.2045932     1.01957   \n",
       "5       max_per_class_error   0.7322283   0.12505229  0.72727275   0.8863636   \n",
       "6   mean_per_class_accuracy  0.47930923  0.024773616  0.43513566  0.49281275   \n",
       "7      mean_per_class_error   0.5206908  0.024773616  0.56486434  0.50718725   \n",
       "8                       mse  0.38832304   0.03160751  0.44195223  0.39008397   \n",
       "9                    pr_auc         NaN          0.0         NaN         NaN   \n",
       "10                       r2  0.34790924  0.041081168  0.32048243  0.31347033   \n",
       "11                     rmse  0.62275845  0.024873534  0.66479486  0.62456703   \n",
       "\n",
       "    cv_3_valid  cv_4_valid  cv_5_valid  \n",
       "0   0.46601942  0.49514562  0.48039216  \n",
       "1          NaN         NaN         NaN  \n",
       "2    0.5339806   0.5048544  0.51960784  \n",
       "3         55.0        52.0        53.0  \n",
       "4   0.98906624   1.0021132   0.9679926  \n",
       "5    0.8181818   0.5714286  0.65789473  \n",
       "6   0.49180263   0.4883856  0.48840946  \n",
       "7   0.50819737   0.5116144  0.51159054  \n",
       "8   0.36330643   0.3769991  0.36927348  \n",
       "9          NaN         NaN         NaN  \n",
       "10  0.32569665   0.3701443  0.40975246  \n",
       "11  0.60274905   0.6140025   0.6076788  "
      ]
     },
     "metadata": {},
     "output_type": "display_data"
    },
    {
     "name": "stdout",
     "output_type": "stream",
     "text": [
      "\n",
      "Scoring History: \n"
     ]
    },
    {
     "data": {
      "text/html": [
       "<div>\n",
       "<style scoped>\n",
       "    .dataframe tbody tr th:only-of-type {\n",
       "        vertical-align: middle;\n",
       "    }\n",
       "\n",
       "    .dataframe tbody tr th {\n",
       "        vertical-align: top;\n",
       "    }\n",
       "\n",
       "    .dataframe thead th {\n",
       "        text-align: right;\n",
       "    }\n",
       "</style>\n",
       "<table border=\"1\" class=\"dataframe\">\n",
       "  <thead>\n",
       "    <tr style=\"text-align: right;\">\n",
       "      <th></th>\n",
       "      <th></th>\n",
       "      <th>timestamp</th>\n",
       "      <th>duration</th>\n",
       "      <th>training_speed</th>\n",
       "      <th>epochs</th>\n",
       "      <th>iterations</th>\n",
       "      <th>samples</th>\n",
       "      <th>training_rmse</th>\n",
       "      <th>training_logloss</th>\n",
       "      <th>training_r2</th>\n",
       "      <th>training_classification_error</th>\n",
       "      <th>training_auc</th>\n",
       "      <th>training_pr_auc</th>\n",
       "    </tr>\n",
       "  </thead>\n",
       "  <tbody>\n",
       "    <tr>\n",
       "      <th>0</th>\n",
       "      <td></td>\n",
       "      <td>2022-02-28 15:25:14</td>\n",
       "      <td>0.000 sec</td>\n",
       "      <td>None</td>\n",
       "      <td>0.0</td>\n",
       "      <td>0</td>\n",
       "      <td>0.0</td>\n",
       "      <td>NaN</td>\n",
       "      <td>NaN</td>\n",
       "      <td>NaN</td>\n",
       "      <td>NaN</td>\n",
       "      <td>NaN</td>\n",
       "      <td>NaN</td>\n",
       "    </tr>\n",
       "    <tr>\n",
       "      <th>1</th>\n",
       "      <td></td>\n",
       "      <td>2022-02-28 15:25:14</td>\n",
       "      <td>43.735 sec</td>\n",
       "      <td>205600 obs/sec</td>\n",
       "      <td>10.0</td>\n",
       "      <td>1</td>\n",
       "      <td>5140.0</td>\n",
       "      <td>0.673537</td>\n",
       "      <td>1.274720</td>\n",
       "      <td>0.243505</td>\n",
       "      <td>0.593385</td>\n",
       "      <td>NaN</td>\n",
       "      <td>NaN</td>\n",
       "    </tr>\n",
       "    <tr>\n",
       "      <th>2</th>\n",
       "      <td></td>\n",
       "      <td>2022-02-28 15:25:19</td>\n",
       "      <td>48.752 sec</td>\n",
       "      <td>271223 obs/sec</td>\n",
       "      <td>2660.0</td>\n",
       "      <td>266</td>\n",
       "      <td>1367240.0</td>\n",
       "      <td>0.594044</td>\n",
       "      <td>0.928774</td>\n",
       "      <td>0.411534</td>\n",
       "      <td>0.478599</td>\n",
       "      <td>NaN</td>\n",
       "      <td>NaN</td>\n",
       "    </tr>\n",
       "    <tr>\n",
       "      <th>3</th>\n",
       "      <td></td>\n",
       "      <td>2022-02-28 15:25:24</td>\n",
       "      <td>53.754 sec</td>\n",
       "      <td>298408 obs/sec</td>\n",
       "      <td>5830.0</td>\n",
       "      <td>583</td>\n",
       "      <td>2996620.0</td>\n",
       "      <td>0.579627</td>\n",
       "      <td>0.905272</td>\n",
       "      <td>0.439751</td>\n",
       "      <td>0.468872</td>\n",
       "      <td>NaN</td>\n",
       "      <td>NaN</td>\n",
       "    </tr>\n",
       "    <tr>\n",
       "      <th>4</th>\n",
       "      <td></td>\n",
       "      <td>2022-02-28 15:25:26</td>\n",
       "      <td>56.011 sec</td>\n",
       "      <td>310565 obs/sec</td>\n",
       "      <td>7430.0</td>\n",
       "      <td>743</td>\n",
       "      <td>3819020.0</td>\n",
       "      <td>0.586157</td>\n",
       "      <td>0.930922</td>\n",
       "      <td>0.427057</td>\n",
       "      <td>0.501946</td>\n",
       "      <td>NaN</td>\n",
       "      <td>NaN</td>\n",
       "    </tr>\n",
       "  </tbody>\n",
       "</table>\n",
       "</div>"
      ],
      "text/plain": [
       "               timestamp    duration  training_speed  epochs  iterations  \\\n",
       "0    2022-02-28 15:25:14   0.000 sec            None     0.0           0   \n",
       "1    2022-02-28 15:25:14  43.735 sec  205600 obs/sec    10.0           1   \n",
       "2    2022-02-28 15:25:19  48.752 sec  271223 obs/sec  2660.0         266   \n",
       "3    2022-02-28 15:25:24  53.754 sec  298408 obs/sec  5830.0         583   \n",
       "4    2022-02-28 15:25:26  56.011 sec  310565 obs/sec  7430.0         743   \n",
       "\n",
       "     samples  training_rmse  training_logloss  training_r2  \\\n",
       "0        0.0            NaN               NaN          NaN   \n",
       "1     5140.0       0.673537          1.274720     0.243505   \n",
       "2  1367240.0       0.594044          0.928774     0.411534   \n",
       "3  2996620.0       0.579627          0.905272     0.439751   \n",
       "4  3819020.0       0.586157          0.930922     0.427057   \n",
       "\n",
       "   training_classification_error  training_auc  training_pr_auc  \n",
       "0                            NaN           NaN              NaN  \n",
       "1                       0.593385           NaN              NaN  \n",
       "2                       0.478599           NaN              NaN  \n",
       "3                       0.468872           NaN              NaN  \n",
       "4                       0.501946           NaN              NaN  "
      ]
     },
     "metadata": {},
     "output_type": "display_data"
    },
    {
     "name": "stdout",
     "output_type": "stream",
     "text": [
      "\n",
      "Variable Importances: \n"
     ]
    },
    {
     "data": {
      "text/html": [
       "<div>\n",
       "<style scoped>\n",
       "    .dataframe tbody tr th:only-of-type {\n",
       "        vertical-align: middle;\n",
       "    }\n",
       "\n",
       "    .dataframe tbody tr th {\n",
       "        vertical-align: top;\n",
       "    }\n",
       "\n",
       "    .dataframe thead th {\n",
       "        text-align: right;\n",
       "    }\n",
       "</style>\n",
       "<table border=\"1\" class=\"dataframe\">\n",
       "  <thead>\n",
       "    <tr style=\"text-align: right;\">\n",
       "      <th></th>\n",
       "      <th>variable</th>\n",
       "      <th>relative_importance</th>\n",
       "      <th>scaled_importance</th>\n",
       "      <th>percentage</th>\n",
       "    </tr>\n",
       "  </thead>\n",
       "  <tbody>\n",
       "    <tr>\n",
       "      <th>0</th>\n",
       "      <td>rfc_mean</td>\n",
       "      <td>1.000000</td>\n",
       "      <td>1.000000</td>\n",
       "      <td>0.065398</td>\n",
       "    </tr>\n",
       "    <tr>\n",
       "      <th>1</th>\n",
       "      <td>cbo_std</td>\n",
       "      <td>0.952310</td>\n",
       "      <td>0.952310</td>\n",
       "      <td>0.062279</td>\n",
       "    </tr>\n",
       "    <tr>\n",
       "      <th>2</th>\n",
       "      <td>uniqueWordsQty_min</td>\n",
       "      <td>0.906679</td>\n",
       "      <td>0.906679</td>\n",
       "      <td>0.059295</td>\n",
       "    </tr>\n",
       "    <tr>\n",
       "      <th>3</th>\n",
       "      <td>numbersQty_mean</td>\n",
       "      <td>0.902255</td>\n",
       "      <td>0.902255</td>\n",
       "      <td>0.059005</td>\n",
       "    </tr>\n",
       "    <tr>\n",
       "      <th>4</th>\n",
       "      <td>num_dependency_mean</td>\n",
       "      <td>0.869732</td>\n",
       "      <td>0.869732</td>\n",
       "      <td>0.056878</td>\n",
       "    </tr>\n",
       "    <tr>\n",
       "      <th>5</th>\n",
       "      <td>uniqueWordsQty_mean</td>\n",
       "      <td>0.864621</td>\n",
       "      <td>0.864621</td>\n",
       "      <td>0.056544</td>\n",
       "    </tr>\n",
       "    <tr>\n",
       "      <th>6</th>\n",
       "      <td>assignmentsQty_min</td>\n",
       "      <td>0.796609</td>\n",
       "      <td>0.796609</td>\n",
       "      <td>0.052096</td>\n",
       "    </tr>\n",
       "    <tr>\n",
       "      <th>7</th>\n",
       "      <td>cbo_mean</td>\n",
       "      <td>0.781839</td>\n",
       "      <td>0.781839</td>\n",
       "      <td>0.051130</td>\n",
       "    </tr>\n",
       "    <tr>\n",
       "      <th>8</th>\n",
       "      <td>totalMethods_min</td>\n",
       "      <td>0.772010</td>\n",
       "      <td>0.772010</td>\n",
       "      <td>0.050488</td>\n",
       "    </tr>\n",
       "    <tr>\n",
       "      <th>9</th>\n",
       "      <td>lambdasQty_mean</td>\n",
       "      <td>0.767763</td>\n",
       "      <td>0.767763</td>\n",
       "      <td>0.050210</td>\n",
       "    </tr>\n",
       "    <tr>\n",
       "      <th>10</th>\n",
       "      <td>rfc_std</td>\n",
       "      <td>0.743634</td>\n",
       "      <td>0.743634</td>\n",
       "      <td>0.048632</td>\n",
       "    </tr>\n",
       "    <tr>\n",
       "      <th>11</th>\n",
       "      <td>stringLiteralsQty_min</td>\n",
       "      <td>0.738200</td>\n",
       "      <td>0.738200</td>\n",
       "      <td>0.048277</td>\n",
       "    </tr>\n",
       "    <tr>\n",
       "      <th>12</th>\n",
       "      <td>uniqueWordsQty_max</td>\n",
       "      <td>0.733447</td>\n",
       "      <td>0.733447</td>\n",
       "      <td>0.047966</td>\n",
       "    </tr>\n",
       "    <tr>\n",
       "      <th>13</th>\n",
       "      <td>cbo_max</td>\n",
       "      <td>0.719856</td>\n",
       "      <td>0.719856</td>\n",
       "      <td>0.047077</td>\n",
       "    </tr>\n",
       "    <tr>\n",
       "      <th>14</th>\n",
       "      <td>rfc_max</td>\n",
       "      <td>0.709977</td>\n",
       "      <td>0.709977</td>\n",
       "      <td>0.046431</td>\n",
       "    </tr>\n",
       "    <tr>\n",
       "      <th>15</th>\n",
       "      <td>num_line_affected_mean</td>\n",
       "      <td>0.696891</td>\n",
       "      <td>0.696891</td>\n",
       "      <td>0.045575</td>\n",
       "    </tr>\n",
       "    <tr>\n",
       "      <th>16</th>\n",
       "      <td>maxNestedBlocks_mean</td>\n",
       "      <td>0.683883</td>\n",
       "      <td>0.683883</td>\n",
       "      <td>0.044724</td>\n",
       "    </tr>\n",
       "    <tr>\n",
       "      <th>17</th>\n",
       "      <td>loc_min</td>\n",
       "      <td>0.612287</td>\n",
       "      <td>0.612287</td>\n",
       "      <td>0.040042</td>\n",
       "    </tr>\n",
       "    <tr>\n",
       "      <th>18</th>\n",
       "      <td>loc_mean</td>\n",
       "      <td>0.545382</td>\n",
       "      <td>0.545382</td>\n",
       "      <td>0.035667</td>\n",
       "    </tr>\n",
       "    <tr>\n",
       "      <th>19</th>\n",
       "      <td>variablesQty_std</td>\n",
       "      <td>0.493686</td>\n",
       "      <td>0.493686</td>\n",
       "      <td>0.032286</td>\n",
       "    </tr>\n",
       "  </tbody>\n",
       "</table>\n",
       "</div>"
      ],
      "text/plain": [
       "                  variable  relative_importance  scaled_importance  percentage\n",
       "0                 rfc_mean             1.000000           1.000000    0.065398\n",
       "1                  cbo_std             0.952310           0.952310    0.062279\n",
       "2       uniqueWordsQty_min             0.906679           0.906679    0.059295\n",
       "3          numbersQty_mean             0.902255           0.902255    0.059005\n",
       "4      num_dependency_mean             0.869732           0.869732    0.056878\n",
       "5      uniqueWordsQty_mean             0.864621           0.864621    0.056544\n",
       "6       assignmentsQty_min             0.796609           0.796609    0.052096\n",
       "7                 cbo_mean             0.781839           0.781839    0.051130\n",
       "8         totalMethods_min             0.772010           0.772010    0.050488\n",
       "9          lambdasQty_mean             0.767763           0.767763    0.050210\n",
       "10                 rfc_std             0.743634           0.743634    0.048632\n",
       "11   stringLiteralsQty_min             0.738200           0.738200    0.048277\n",
       "12      uniqueWordsQty_max             0.733447           0.733447    0.047966\n",
       "13                 cbo_max             0.719856           0.719856    0.047077\n",
       "14                 rfc_max             0.709977           0.709977    0.046431\n",
       "15  num_line_affected_mean             0.696891           0.696891    0.045575\n",
       "16    maxNestedBlocks_mean             0.683883           0.683883    0.044724\n",
       "17                 loc_min             0.612287           0.612287    0.040042\n",
       "18                loc_mean             0.545382           0.545382    0.035667\n",
       "19        variablesQty_std             0.493686           0.493686    0.032286"
      ]
     },
     "metadata": {},
     "output_type": "display_data"
    },
    {
     "data": {
      "text/plain": []
     },
     "execution_count": 286,
     "metadata": {},
     "output_type": "execute_result"
    }
   ],
   "source": [
    "model"
   ]
  },
  {
   "cell_type": "code",
   "execution_count": 287,
   "metadata": {},
   "outputs": [
    {
     "data": {
      "text/html": [
       "<div>\n",
       "<style scoped>\n",
       "    .dataframe tbody tr th:only-of-type {\n",
       "        vertical-align: middle;\n",
       "    }\n",
       "\n",
       "    .dataframe tbody tr th {\n",
       "        vertical-align: top;\n",
       "    }\n",
       "\n",
       "    .dataframe thead th {\n",
       "        text-align: right;\n",
       "    }\n",
       "</style>\n",
       "<table border=\"1\" class=\"dataframe\">\n",
       "  <thead>\n",
       "    <tr style=\"text-align: right;\">\n",
       "      <th></th>\n",
       "      <th>variable</th>\n",
       "      <th>relative_importance</th>\n",
       "      <th>scaled_importance</th>\n",
       "      <th>percentage</th>\n",
       "    </tr>\n",
       "  </thead>\n",
       "  <tbody>\n",
       "    <tr>\n",
       "      <th>0</th>\n",
       "      <td>rfc_mean</td>\n",
       "      <td>1.000000</td>\n",
       "      <td>1.000000</td>\n",
       "      <td>0.065398</td>\n",
       "    </tr>\n",
       "    <tr>\n",
       "      <th>1</th>\n",
       "      <td>cbo_std</td>\n",
       "      <td>0.952310</td>\n",
       "      <td>0.952310</td>\n",
       "      <td>0.062279</td>\n",
       "    </tr>\n",
       "    <tr>\n",
       "      <th>2</th>\n",
       "      <td>uniqueWordsQty_min</td>\n",
       "      <td>0.906679</td>\n",
       "      <td>0.906679</td>\n",
       "      <td>0.059295</td>\n",
       "    </tr>\n",
       "    <tr>\n",
       "      <th>3</th>\n",
       "      <td>numbersQty_mean</td>\n",
       "      <td>0.902255</td>\n",
       "      <td>0.902255</td>\n",
       "      <td>0.059005</td>\n",
       "    </tr>\n",
       "    <tr>\n",
       "      <th>4</th>\n",
       "      <td>num_dependency_mean</td>\n",
       "      <td>0.869732</td>\n",
       "      <td>0.869732</td>\n",
       "      <td>0.056878</td>\n",
       "    </tr>\n",
       "    <tr>\n",
       "      <th>5</th>\n",
       "      <td>uniqueWordsQty_mean</td>\n",
       "      <td>0.864621</td>\n",
       "      <td>0.864621</td>\n",
       "      <td>0.056544</td>\n",
       "    </tr>\n",
       "    <tr>\n",
       "      <th>6</th>\n",
       "      <td>assignmentsQty_min</td>\n",
       "      <td>0.796609</td>\n",
       "      <td>0.796609</td>\n",
       "      <td>0.052096</td>\n",
       "    </tr>\n",
       "    <tr>\n",
       "      <th>7</th>\n",
       "      <td>cbo_mean</td>\n",
       "      <td>0.781839</td>\n",
       "      <td>0.781839</td>\n",
       "      <td>0.051130</td>\n",
       "    </tr>\n",
       "    <tr>\n",
       "      <th>8</th>\n",
       "      <td>totalMethods_min</td>\n",
       "      <td>0.772010</td>\n",
       "      <td>0.772010</td>\n",
       "      <td>0.050488</td>\n",
       "    </tr>\n",
       "    <tr>\n",
       "      <th>9</th>\n",
       "      <td>lambdasQty_mean</td>\n",
       "      <td>0.767763</td>\n",
       "      <td>0.767763</td>\n",
       "      <td>0.050210</td>\n",
       "    </tr>\n",
       "    <tr>\n",
       "      <th>10</th>\n",
       "      <td>rfc_std</td>\n",
       "      <td>0.743634</td>\n",
       "      <td>0.743634</td>\n",
       "      <td>0.048632</td>\n",
       "    </tr>\n",
       "    <tr>\n",
       "      <th>11</th>\n",
       "      <td>stringLiteralsQty_min</td>\n",
       "      <td>0.738200</td>\n",
       "      <td>0.738200</td>\n",
       "      <td>0.048277</td>\n",
       "    </tr>\n",
       "    <tr>\n",
       "      <th>12</th>\n",
       "      <td>uniqueWordsQty_max</td>\n",
       "      <td>0.733447</td>\n",
       "      <td>0.733447</td>\n",
       "      <td>0.047966</td>\n",
       "    </tr>\n",
       "    <tr>\n",
       "      <th>13</th>\n",
       "      <td>cbo_max</td>\n",
       "      <td>0.719856</td>\n",
       "      <td>0.719856</td>\n",
       "      <td>0.047077</td>\n",
       "    </tr>\n",
       "    <tr>\n",
       "      <th>14</th>\n",
       "      <td>rfc_max</td>\n",
       "      <td>0.709977</td>\n",
       "      <td>0.709977</td>\n",
       "      <td>0.046431</td>\n",
       "    </tr>\n",
       "    <tr>\n",
       "      <th>15</th>\n",
       "      <td>num_line_affected_mean</td>\n",
       "      <td>0.696891</td>\n",
       "      <td>0.696891</td>\n",
       "      <td>0.045575</td>\n",
       "    </tr>\n",
       "    <tr>\n",
       "      <th>16</th>\n",
       "      <td>maxNestedBlocks_mean</td>\n",
       "      <td>0.683883</td>\n",
       "      <td>0.683883</td>\n",
       "      <td>0.044724</td>\n",
       "    </tr>\n",
       "    <tr>\n",
       "      <th>17</th>\n",
       "      <td>loc_min</td>\n",
       "      <td>0.612287</td>\n",
       "      <td>0.612287</td>\n",
       "      <td>0.040042</td>\n",
       "    </tr>\n",
       "    <tr>\n",
       "      <th>18</th>\n",
       "      <td>loc_mean</td>\n",
       "      <td>0.545382</td>\n",
       "      <td>0.545382</td>\n",
       "      <td>0.035667</td>\n",
       "    </tr>\n",
       "    <tr>\n",
       "      <th>19</th>\n",
       "      <td>variablesQty_std</td>\n",
       "      <td>0.493686</td>\n",
       "      <td>0.493686</td>\n",
       "      <td>0.032286</td>\n",
       "    </tr>\n",
       "  </tbody>\n",
       "</table>\n",
       "</div>"
      ],
      "text/plain": [
       "                  variable  relative_importance  scaled_importance  percentage\n",
       "0                 rfc_mean             1.000000           1.000000    0.065398\n",
       "1                  cbo_std             0.952310           0.952310    0.062279\n",
       "2       uniqueWordsQty_min             0.906679           0.906679    0.059295\n",
       "3          numbersQty_mean             0.902255           0.902255    0.059005\n",
       "4      num_dependency_mean             0.869732           0.869732    0.056878\n",
       "5      uniqueWordsQty_mean             0.864621           0.864621    0.056544\n",
       "6       assignmentsQty_min             0.796609           0.796609    0.052096\n",
       "7                 cbo_mean             0.781839           0.781839    0.051130\n",
       "8         totalMethods_min             0.772010           0.772010    0.050488\n",
       "9          lambdasQty_mean             0.767763           0.767763    0.050210\n",
       "10                 rfc_std             0.743634           0.743634    0.048632\n",
       "11   stringLiteralsQty_min             0.738200           0.738200    0.048277\n",
       "12      uniqueWordsQty_max             0.733447           0.733447    0.047966\n",
       "13                 cbo_max             0.719856           0.719856    0.047077\n",
       "14                 rfc_max             0.709977           0.709977    0.046431\n",
       "15  num_line_affected_mean             0.696891           0.696891    0.045575\n",
       "16    maxNestedBlocks_mean             0.683883           0.683883    0.044724\n",
       "17                 loc_min             0.612287           0.612287    0.040042\n",
       "18                loc_mean             0.545382           0.545382    0.035667\n",
       "19        variablesQty_std             0.493686           0.493686    0.032286"
      ]
     },
     "execution_count": 287,
     "metadata": {},
     "output_type": "execute_result"
    }
   ],
   "source": [
    "variable_importance=  model.varimp(use_pandas=True)\n",
    "variable_importance"
   ]
  },
  {
   "cell_type": "code",
   "execution_count": 288,
   "metadata": {},
   "outputs": [],
   "source": [
    "important_var = []\n",
    "for element in variable_importance['variable'].head(20):\n",
    "    important_var.append(element)"
   ]
  },
  {
   "cell_type": "code",
   "execution_count": 289,
   "metadata": {},
   "outputs": [
    {
     "data": {
      "text/plain": [
       "['rfc_mean',\n",
       " 'cbo_std',\n",
       " 'uniqueWordsQty_min',\n",
       " 'numbersQty_mean',\n",
       " 'num_dependency_mean',\n",
       " 'uniqueWordsQty_mean',\n",
       " 'assignmentsQty_min',\n",
       " 'cbo_mean',\n",
       " 'totalMethods_min',\n",
       " 'lambdasQty_mean',\n",
       " 'rfc_std',\n",
       " 'stringLiteralsQty_min',\n",
       " 'uniqueWordsQty_max',\n",
       " 'cbo_max',\n",
       " 'rfc_max',\n",
       " 'num_line_affected_mean',\n",
       " 'maxNestedBlocks_mean',\n",
       " 'loc_min',\n",
       " 'loc_mean',\n",
       " 'variablesQty_std']"
      ]
     },
     "execution_count": 289,
     "metadata": {},
     "output_type": "execute_result"
    }
   ],
   "source": [
    "important_var"
   ]
  },
  {
   "cell_type": "code",
   "execution_count": 290,
   "metadata": {
    "scrolled": true
   },
   "outputs": [
    {
     "data": {
      "text/plain": [
       "['cbo_std',\n",
       " 'uniqueWordsQty_min',\n",
       " 'rfc_std',\n",
       " 'totalMethods_min',\n",
       " 'uniqueWordsQty_mean',\n",
       " 'num_dependency_mean',\n",
       " 'loc_min',\n",
       " 'num_line_affected_mean',\n",
       " 'uniqueWordsQty_max',\n",
       " 'assignmentsQty_min',\n",
       " 'loc_mean',\n",
       " 'rfc_max',\n",
       " 'cbo_mean',\n",
       " 'rfc_mean',\n",
       " 'lambdasQty_mean',\n",
       " 'variablesQty_std',\n",
       " 'maxNestedBlocks_mean',\n",
       " 'numbersQty_mean',\n",
       " 'stringLiteralsQty_min',\n",
       " 'cbo_max']"
      ]
     },
     "execution_count": 290,
     "metadata": {},
     "output_type": "execute_result"
    }
   ],
   "source": [
    "x"
   ]
  },
  {
   "cell_type": "code",
   "execution_count": 291,
   "metadata": {},
   "outputs": [
    {
     "name": "stdout",
     "output_type": "stream",
     "text": [
      "deeplearning prediction progress: |███████████████████████████████████████| 100%\n"
     ]
    }
   ],
   "source": [
    "preds = model.predict(test[x])"
   ]
  },
  {
   "cell_type": "code",
   "execution_count": 292,
   "metadata": {},
   "outputs": [
    {
     "data": {
      "text/html": [
       "<table>\n",
       "<thead>\n",
       "<tr><th style=\"text-align: right;\">  predict</th><th style=\"text-align: right;\">         p0</th><th style=\"text-align: right;\">       p1</th><th style=\"text-align: right;\">      p2</th></tr>\n",
       "</thead>\n",
       "<tbody>\n",
       "<tr><td style=\"text-align: right;\">        1</td><td style=\"text-align: right;\">0.0395817  </td><td style=\"text-align: right;\">0.518344 </td><td style=\"text-align: right;\">0.442075</td></tr>\n",
       "<tr><td style=\"text-align: right;\">        2</td><td style=\"text-align: right;\">0.00504976 </td><td style=\"text-align: right;\">0.145239 </td><td style=\"text-align: right;\">0.849711</td></tr>\n",
       "<tr><td style=\"text-align: right;\">        2</td><td style=\"text-align: right;\">0.203366   </td><td style=\"text-align: right;\">0.324939 </td><td style=\"text-align: right;\">0.471695</td></tr>\n",
       "<tr><td style=\"text-align: right;\">        2</td><td style=\"text-align: right;\">0.00663877 </td><td style=\"text-align: right;\">0.14627  </td><td style=\"text-align: right;\">0.847091</td></tr>\n",
       "<tr><td style=\"text-align: right;\">        2</td><td style=\"text-align: right;\">0.051847   </td><td style=\"text-align: right;\">0.260415 </td><td style=\"text-align: right;\">0.687738</td></tr>\n",
       "<tr><td style=\"text-align: right;\">        1</td><td style=\"text-align: right;\">0.300332   </td><td style=\"text-align: right;\">0.360748 </td><td style=\"text-align: right;\">0.33892 </td></tr>\n",
       "<tr><td style=\"text-align: right;\">        2</td><td style=\"text-align: right;\">0.0612177  </td><td style=\"text-align: right;\">0.309432 </td><td style=\"text-align: right;\">0.62935 </td></tr>\n",
       "<tr><td style=\"text-align: right;\">        2</td><td style=\"text-align: right;\">0.0519293  </td><td style=\"text-align: right;\">0.307912 </td><td style=\"text-align: right;\">0.640159</td></tr>\n",
       "<tr><td style=\"text-align: right;\">        2</td><td style=\"text-align: right;\">0.000792469</td><td style=\"text-align: right;\">0.0665941</td><td style=\"text-align: right;\">0.932613</td></tr>\n",
       "<tr><td style=\"text-align: right;\">        2</td><td style=\"text-align: right;\">0.0180937  </td><td style=\"text-align: right;\">0.241543 </td><td style=\"text-align: right;\">0.740363</td></tr>\n",
       "</tbody>\n",
       "</table>"
      ]
     },
     "metadata": {},
     "output_type": "display_data"
    },
    {
     "data": {
      "text/plain": []
     },
     "execution_count": 292,
     "metadata": {},
     "output_type": "execute_result"
    }
   ],
   "source": [
    "preds"
   ]
  },
  {
   "cell_type": "code",
   "execution_count": 293,
   "metadata": {
    "scrolled": true
   },
   "outputs": [
    {
     "data": {
      "text/plain": [
       "2    150\n",
       "1     40\n",
       "0     33\n",
       "Name: predict, dtype: int64"
      ]
     },
     "execution_count": 293,
     "metadata": {},
     "output_type": "execute_result"
    }
   ],
   "source": [
    "pd_preds = preds.as_data_frame()\n",
    "pd_preds['predict'].value_counts()"
   ]
  },
  {
   "cell_type": "code",
   "execution_count": 294,
   "metadata": {
    "scrolled": true
   },
   "outputs": [
    {
     "data": {
      "text/html": [
       "<table>\n",
       "<thead>\n",
       "<tr><th style=\"text-align: right;\">  cbo_mean</th><th style=\"text-align: right;\">  cbo_min</th><th style=\"text-align: right;\">  cbo_max</th><th style=\"text-align: right;\">  cbo_std</th><th style=\"text-align: right;\">  wmc_mean</th><th style=\"text-align: right;\">  wmc_min</th><th style=\"text-align: right;\">  wmc_max</th><th style=\"text-align: right;\">  wmc_std</th><th style=\"text-align: right;\">  dit_mean</th><th style=\"text-align: right;\">  dit_min</th><th style=\"text-align: right;\">  dit_max</th><th style=\"text-align: right;\">  dit_std</th><th style=\"text-align: right;\">  rfc_mean</th><th style=\"text-align: right;\">  rfc_min</th><th style=\"text-align: right;\">  rfc_max</th><th style=\"text-align: right;\">  rfc_std</th><th style=\"text-align: right;\">  lcom_mean</th><th style=\"text-align: right;\">  lcom_min</th><th style=\"text-align: right;\">  lcom_max</th><th style=\"text-align: right;\">  lcom_std</th><th style=\"text-align: right;\">  totalMethods_mean</th><th style=\"text-align: right;\">  totalMethods_min</th><th style=\"text-align: right;\">  totalMethods_max</th><th style=\"text-align: right;\">  totalMethods_std</th><th style=\"text-align: right;\">  staticMethods_mean</th><th style=\"text-align: right;\">  staticMethods_min</th><th style=\"text-align: right;\">  staticMethods_max</th><th style=\"text-align: right;\">  staticMethods_std</th><th style=\"text-align: right;\">  publicMethods_mean</th><th style=\"text-align: right;\">  publicMethods_min</th><th style=\"text-align: right;\">  publicMethods_max</th><th style=\"text-align: right;\">  publicMethods_std</th><th style=\"text-align: right;\">  privateMethods_mean</th><th style=\"text-align: right;\">  privateMethods_min</th><th style=\"text-align: right;\">  privateMethods_max</th><th style=\"text-align: right;\">  privateMethods_std</th><th style=\"text-align: right;\">  protectedMethods_mean</th><th style=\"text-align: right;\">  protectedMethods_min</th><th style=\"text-align: right;\">  protectedMethods_max</th><th style=\"text-align: right;\">  protectedMethods_std</th><th style=\"text-align: right;\">  defaultMethods_mean</th><th style=\"text-align: right;\">  defaultMethods_min</th><th style=\"text-align: right;\">  defaultMethods_max</th><th style=\"text-align: right;\">  defaultMethods_std</th><th style=\"text-align: right;\">  abstractMethods_mean</th><th style=\"text-align: right;\">  abstractMethods_min</th><th style=\"text-align: right;\">  abstractMethods_max</th><th style=\"text-align: right;\">  abstractMethods_std</th><th style=\"text-align: right;\">  finalMethods_mean</th><th style=\"text-align: right;\">  finalMethods_min</th><th style=\"text-align: right;\">  finalMethods_max</th><th style=\"text-align: right;\">  finalMethods_std</th><th style=\"text-align: right;\">  synchronizedMethods_mean</th><th style=\"text-align: right;\">  synchronizedMethods_min</th><th style=\"text-align: right;\">  synchronizedMethods_max</th><th style=\"text-align: right;\">  synchronizedMethods_std</th><th style=\"text-align: right;\">  totalFields_mean</th><th style=\"text-align: right;\">  totalFields_min</th><th style=\"text-align: right;\">  totalFields_max</th><th style=\"text-align: right;\">  totalFields_std</th><th style=\"text-align: right;\">  staticFields_mean</th><th style=\"text-align: right;\">  staticFields_min</th><th style=\"text-align: right;\">  staticFields_max</th><th style=\"text-align: right;\">  staticFields_std</th><th style=\"text-align: right;\">  publicFields_mean</th><th style=\"text-align: right;\">  publicFields_min</th><th style=\"text-align: right;\">  publicFields_max</th><th style=\"text-align: right;\">  publicFields_std</th><th style=\"text-align: right;\">  privateFields_mean</th><th style=\"text-align: right;\">  privateFields_min</th><th style=\"text-align: right;\">  privateFields_max</th><th style=\"text-align: right;\">  privateFields_std</th><th style=\"text-align: right;\">  protectedFields_mean</th><th style=\"text-align: right;\">  protectedFields_min</th><th style=\"text-align: right;\">  protectedFields_max</th><th style=\"text-align: right;\">  protectedFields_std</th><th style=\"text-align: right;\">  defaultFields_mean</th><th style=\"text-align: right;\">  defaultFields_min</th><th style=\"text-align: right;\">  defaultFields_max</th><th style=\"text-align: right;\">  defaultFields_std</th><th style=\"text-align: right;\">  finalFields_mean</th><th style=\"text-align: right;\">  finalFields_min</th><th style=\"text-align: right;\">  finalFields_max</th><th style=\"text-align: right;\">  finalFields_std</th><th style=\"text-align: right;\">  synchronizedFields_mean</th><th style=\"text-align: right;\">  synchronizedFields_min</th><th style=\"text-align: right;\">  synchronizedFields_max</th><th style=\"text-align: right;\">  synchronizedFields_std</th><th style=\"text-align: right;\">  nosi_mean</th><th style=\"text-align: right;\">  nosi_min</th><th style=\"text-align: right;\">  nosi_max</th><th style=\"text-align: right;\">  nosi_std</th><th style=\"text-align: right;\">  loc_mean</th><th style=\"text-align: right;\">  loc_min</th><th style=\"text-align: right;\">  loc_max</th><th style=\"text-align: right;\">  loc_std</th><th style=\"text-align: right;\">  returnQty_mean</th><th style=\"text-align: right;\">  returnQty_min</th><th style=\"text-align: right;\">  returnQty_max</th><th style=\"text-align: right;\">  returnQty_std</th><th style=\"text-align: right;\">  loopQty_mean</th><th style=\"text-align: right;\">  loopQty_min</th><th style=\"text-align: right;\">  loopQty_max</th><th style=\"text-align: right;\">  loopQty_std</th><th style=\"text-align: right;\">  comparisonsQty_mean</th><th style=\"text-align: right;\">  comparisonsQty_min</th><th style=\"text-align: right;\">  comparisonsQty_max</th><th style=\"text-align: right;\">  comparisonsQty_std</th><th style=\"text-align: right;\">  tryCatchQty_mean</th><th style=\"text-align: right;\">  tryCatchQty_min</th><th style=\"text-align: right;\">  tryCatchQty_max</th><th style=\"text-align: right;\">  tryCatchQty_std</th><th style=\"text-align: right;\">  parenthesizedExpsQty_mean</th><th style=\"text-align: right;\">  parenthesizedExpsQty_min</th><th style=\"text-align: right;\">  parenthesizedExpsQty_max</th><th style=\"text-align: right;\">  parenthesizedExpsQty_std</th><th style=\"text-align: right;\">  stringLiteralsQty_mean</th><th style=\"text-align: right;\">  stringLiteralsQty_min</th><th style=\"text-align: right;\">  stringLiteralsQty_max</th><th style=\"text-align: right;\">  stringLiteralsQty_std</th><th style=\"text-align: right;\">  numbersQty_mean</th><th style=\"text-align: right;\">  numbersQty_min</th><th style=\"text-align: right;\">  numbersQty_max</th><th style=\"text-align: right;\">  numbersQty_std</th><th style=\"text-align: right;\">  assignmentsQty_mean</th><th style=\"text-align: right;\">  assignmentsQty_min</th><th style=\"text-align: right;\">  assignmentsQty_max</th><th style=\"text-align: right;\">  assignmentsQty_std</th><th style=\"text-align: right;\">  mathOperationsQty_mean</th><th style=\"text-align: right;\">  mathOperationsQty_min</th><th style=\"text-align: right;\">  mathOperationsQty_max</th><th style=\"text-align: right;\">  mathOperationsQty_std</th><th style=\"text-align: right;\">  variablesQty_mean</th><th style=\"text-align: right;\">  variablesQty_min</th><th style=\"text-align: right;\">  variablesQty_max</th><th style=\"text-align: right;\">  variablesQty_std</th><th style=\"text-align: right;\">  maxNestedBlocks_mean</th><th style=\"text-align: right;\">  maxNestedBlocks_min</th><th style=\"text-align: right;\">  maxNestedBlocks_max</th><th style=\"text-align: right;\">  maxNestedBlocks_std</th><th style=\"text-align: right;\">  anonymousClassesQty_mean</th><th style=\"text-align: right;\">  anonymousClassesQty_min</th><th style=\"text-align: right;\">  anonymousClassesQty_max</th><th style=\"text-align: right;\">  anonymousClassesQty_std</th><th style=\"text-align: right;\">  subClassesQty_mean</th><th style=\"text-align: right;\">  subClassesQty_min</th><th style=\"text-align: right;\">  subClassesQty_max</th><th style=\"text-align: right;\">  subClassesQty_std</th><th style=\"text-align: right;\">  lambdasQty_mean</th><th style=\"text-align: right;\">  lambdasQty_min</th><th style=\"text-align: right;\">  lambdasQty_max</th><th style=\"text-align: right;\">  lambdasQty_std</th><th style=\"text-align: right;\">  uniqueWordsQty_mean</th><th style=\"text-align: right;\">  uniqueWordsQty_min</th><th style=\"text-align: right;\">  uniqueWordsQty_max</th><th style=\"text-align: right;\">  uniqueWordsQty_std</th><th style=\"text-align: right;\">  modifiers_mean</th><th style=\"text-align: right;\">  modifiers_min</th><th style=\"text-align: right;\">  modifiers_max</th><th style=\"text-align: right;\">  modifiers_std</th><th style=\"text-align: right;\">  num_dependency_mean</th><th style=\"text-align: right;\">  num_line_affected_mean</th><th style=\"text-align: right;\">  refactoring_perc_time_taken_bin</th></tr>\n",
       "</thead>\n",
       "<tbody>\n",
       "<tr><td style=\"text-align: right;\">      25  </td><td style=\"text-align: right;\">       25</td><td style=\"text-align: right;\">       25</td><td style=\"text-align: right;\">   0     </td><td style=\"text-align: right;\">   32     </td><td style=\"text-align: right;\">       32</td><td style=\"text-align: right;\">       32</td><td style=\"text-align: right;\">  0      </td><td style=\"text-align: right;\">       1  </td><td style=\"text-align: right;\">        1</td><td style=\"text-align: right;\">        1</td><td style=\"text-align: right;\">  0      </td><td style=\"text-align: right;\">   65     </td><td style=\"text-align: right;\">       65</td><td style=\"text-align: right;\">       65</td><td style=\"text-align: right;\">  0      </td><td style=\"text-align: right;\">     9     </td><td style=\"text-align: right;\">         9</td><td style=\"text-align: right;\">         9</td><td style=\"text-align: right;\">   0      </td><td style=\"text-align: right;\">            23     </td><td style=\"text-align: right;\">                23</td><td style=\"text-align: right;\">                23</td><td style=\"text-align: right;\">           0      </td><td style=\"text-align: right;\">                   1</td><td style=\"text-align: right;\">                  1</td><td style=\"text-align: right;\">                  1</td><td style=\"text-align: right;\">                  0</td><td style=\"text-align: right;\">             18     </td><td style=\"text-align: right;\">                 18</td><td style=\"text-align: right;\">                 18</td><td style=\"text-align: right;\">            0      </td><td style=\"text-align: right;\">                    4</td><td style=\"text-align: right;\">                   4</td><td style=\"text-align: right;\">                   4</td><td style=\"text-align: right;\">                   0</td><td style=\"text-align: right;\">                    0  </td><td style=\"text-align: right;\">                     0</td><td style=\"text-align: right;\">                     0</td><td style=\"text-align: right;\">               0      </td><td style=\"text-align: right;\">                    0</td><td style=\"text-align: right;\">                   0</td><td style=\"text-align: right;\">                   0</td><td style=\"text-align: right;\">                   0</td><td style=\"text-align: right;\">                     3</td><td style=\"text-align: right;\">                    3</td><td style=\"text-align: right;\">                    3</td><td style=\"text-align: right;\">                    0</td><td style=\"text-align: right;\">                  0</td><td style=\"text-align: right;\">                 0</td><td style=\"text-align: right;\">                 0</td><td style=\"text-align: right;\">                 0</td><td style=\"text-align: right;\">                         0</td><td style=\"text-align: right;\">                        0</td><td style=\"text-align: right;\">                        0</td><td style=\"text-align: right;\">                        0</td><td style=\"text-align: right;\">                 7</td><td style=\"text-align: right;\">                7</td><td style=\"text-align: right;\">                7</td><td style=\"text-align: right;\">                0</td><td style=\"text-align: right;\">                  3</td><td style=\"text-align: right;\">                 3</td><td style=\"text-align: right;\">                 3</td><td style=\"text-align: right;\">                 0</td><td style=\"text-align: right;\">                  1</td><td style=\"text-align: right;\">                 1</td><td style=\"text-align: right;\">                 1</td><td style=\"text-align: right;\">                 0</td><td style=\"text-align: right;\">                   4</td><td style=\"text-align: right;\">                  4</td><td style=\"text-align: right;\">                  4</td><td style=\"text-align: right;\">                  0</td><td style=\"text-align: right;\">                     2</td><td style=\"text-align: right;\">                    2</td><td style=\"text-align: right;\">                    2</td><td style=\"text-align: right;\">                    0</td><td style=\"text-align: right;\">                   0</td><td style=\"text-align: right;\">                  0</td><td style=\"text-align: right;\">                  0</td><td style=\"text-align: right;\">                  0</td><td style=\"text-align: right;\">                 4</td><td style=\"text-align: right;\">                4</td><td style=\"text-align: right;\">                4</td><td style=\"text-align: right;\">                0</td><td style=\"text-align: right;\">                        0</td><td style=\"text-align: right;\">                       0</td><td style=\"text-align: right;\">                       0</td><td style=\"text-align: right;\">                       0</td><td style=\"text-align: right;\">       46  </td><td style=\"text-align: right;\">        46</td><td style=\"text-align: right;\">        46</td><td style=\"text-align: right;\">   0      </td><td style=\"text-align: right;\">     265  </td><td style=\"text-align: right;\">      265</td><td style=\"text-align: right;\">      265</td><td style=\"text-align: right;\">  0      </td><td style=\"text-align: right;\">               6</td><td style=\"text-align: right;\">              6</td><td style=\"text-align: right;\">              6</td><td style=\"text-align: right;\">         0     </td><td style=\"text-align: right;\">             0</td><td style=\"text-align: right;\">            0</td><td style=\"text-align: right;\">            0</td><td style=\"text-align: right;\">            0</td><td style=\"text-align: right;\">                    0</td><td style=\"text-align: right;\">                   0</td><td style=\"text-align: right;\">                   0</td><td style=\"text-align: right;\">                   0</td><td style=\"text-align: right;\">                10</td><td style=\"text-align: right;\">               10</td><td style=\"text-align: right;\">               10</td><td style=\"text-align: right;\">                0</td><td style=\"text-align: right;\">                          0</td><td style=\"text-align: right;\">                         0</td><td style=\"text-align: right;\">                         0</td><td style=\"text-align: right;\">                         0</td><td style=\"text-align: right;\">                 80     </td><td style=\"text-align: right;\">                     80</td><td style=\"text-align: right;\">                     80</td><td style=\"text-align: right;\">                0      </td><td style=\"text-align: right;\">               14</td><td style=\"text-align: right;\">              14</td><td style=\"text-align: right;\">              14</td><td style=\"text-align: right;\">         0      </td><td style=\"text-align: right;\">                 49  </td><td style=\"text-align: right;\">                  49</td><td style=\"text-align: right;\">                  49</td><td style=\"text-align: right;\">             0      </td><td style=\"text-align: right;\">                      32</td><td style=\"text-align: right;\">                     32</td><td style=\"text-align: right;\">                     32</td><td style=\"text-align: right;\">                      0</td><td style=\"text-align: right;\">               48  </td><td style=\"text-align: right;\">                48</td><td style=\"text-align: right;\">                48</td><td style=\"text-align: right;\">           0      </td><td style=\"text-align: right;\">                     2</td><td style=\"text-align: right;\">                    2</td><td style=\"text-align: right;\">                    2</td><td style=\"text-align: right;\">                    0</td><td style=\"text-align: right;\">                         0</td><td style=\"text-align: right;\">                        0</td><td style=\"text-align: right;\">                        0</td><td style=\"text-align: right;\">                        0</td><td style=\"text-align: right;\">                   0</td><td style=\"text-align: right;\">                  0</td><td style=\"text-align: right;\">                  0</td><td style=\"text-align: right;\">                  0</td><td style=\"text-align: right;\">          1      </td><td style=\"text-align: right;\">               1</td><td style=\"text-align: right;\">               1</td><td style=\"text-align: right;\">          0     </td><td style=\"text-align: right;\">             166     </td><td style=\"text-align: right;\">                 166</td><td style=\"text-align: right;\">                 166</td><td style=\"text-align: right;\">              0     </td><td style=\"text-align: right;\">            1025</td><td style=\"text-align: right;\">           1025</td><td style=\"text-align: right;\">           1025</td><td style=\"text-align: right;\">              0</td><td style=\"text-align: right;\">              51     </td><td style=\"text-align: right;\">                321     </td><td style=\"text-align: right;\">                                1</td></tr>\n",
       "<tr><td style=\"text-align: right;\">      15  </td><td style=\"text-align: right;\">       15</td><td style=\"text-align: right;\">       15</td><td style=\"text-align: right;\">   0     </td><td style=\"text-align: right;\">    3     </td><td style=\"text-align: right;\">        3</td><td style=\"text-align: right;\">        3</td><td style=\"text-align: right;\">  0      </td><td style=\"text-align: right;\">       1  </td><td style=\"text-align: right;\">        1</td><td style=\"text-align: right;\">        1</td><td style=\"text-align: right;\">  0      </td><td style=\"text-align: right;\">   21     </td><td style=\"text-align: right;\">       21</td><td style=\"text-align: right;\">       21</td><td style=\"text-align: right;\">  0      </td><td style=\"text-align: right;\">     3     </td><td style=\"text-align: right;\">         3</td><td style=\"text-align: right;\">         3</td><td style=\"text-align: right;\">   0      </td><td style=\"text-align: right;\">             3     </td><td style=\"text-align: right;\">                 3</td><td style=\"text-align: right;\">                 3</td><td style=\"text-align: right;\">           0      </td><td style=\"text-align: right;\">                   0</td><td style=\"text-align: right;\">                  0</td><td style=\"text-align: right;\">                  0</td><td style=\"text-align: right;\">                  0</td><td style=\"text-align: right;\">              0     </td><td style=\"text-align: right;\">                  0</td><td style=\"text-align: right;\">                  0</td><td style=\"text-align: right;\">            0      </td><td style=\"text-align: right;\">                    0</td><td style=\"text-align: right;\">                   0</td><td style=\"text-align: right;\">                   0</td><td style=\"text-align: right;\">                   0</td><td style=\"text-align: right;\">                    0  </td><td style=\"text-align: right;\">                     0</td><td style=\"text-align: right;\">                     0</td><td style=\"text-align: right;\">               0      </td><td style=\"text-align: right;\">                    0</td><td style=\"text-align: right;\">                   0</td><td style=\"text-align: right;\">                   0</td><td style=\"text-align: right;\">                   0</td><td style=\"text-align: right;\">                     0</td><td style=\"text-align: right;\">                    0</td><td style=\"text-align: right;\">                    0</td><td style=\"text-align: right;\">                    0</td><td style=\"text-align: right;\">                  0</td><td style=\"text-align: right;\">                 0</td><td style=\"text-align: right;\">                 0</td><td style=\"text-align: right;\">                 0</td><td style=\"text-align: right;\">                         0</td><td style=\"text-align: right;\">                        0</td><td style=\"text-align: right;\">                        0</td><td style=\"text-align: right;\">                        0</td><td style=\"text-align: right;\">                 0</td><td style=\"text-align: right;\">                0</td><td style=\"text-align: right;\">                0</td><td style=\"text-align: right;\">                0</td><td style=\"text-align: right;\">                  0</td><td style=\"text-align: right;\">                 0</td><td style=\"text-align: right;\">                 0</td><td style=\"text-align: right;\">                 0</td><td style=\"text-align: right;\">                  0</td><td style=\"text-align: right;\">                 0</td><td style=\"text-align: right;\">                 0</td><td style=\"text-align: right;\">                 0</td><td style=\"text-align: right;\">                   0</td><td style=\"text-align: right;\">                  0</td><td style=\"text-align: right;\">                  0</td><td style=\"text-align: right;\">                  0</td><td style=\"text-align: right;\">                     0</td><td style=\"text-align: right;\">                    0</td><td style=\"text-align: right;\">                    0</td><td style=\"text-align: right;\">                    0</td><td style=\"text-align: right;\">                   0</td><td style=\"text-align: right;\">                  0</td><td style=\"text-align: right;\">                  0</td><td style=\"text-align: right;\">                  0</td><td style=\"text-align: right;\">                 0</td><td style=\"text-align: right;\">                0</td><td style=\"text-align: right;\">                0</td><td style=\"text-align: right;\">                0</td><td style=\"text-align: right;\">                        0</td><td style=\"text-align: right;\">                       0</td><td style=\"text-align: right;\">                       0</td><td style=\"text-align: right;\">                       0</td><td style=\"text-align: right;\">       64  </td><td style=\"text-align: right;\">        64</td><td style=\"text-align: right;\">        64</td><td style=\"text-align: right;\">   0      </td><td style=\"text-align: right;\">     100  </td><td style=\"text-align: right;\">      100</td><td style=\"text-align: right;\">      100</td><td style=\"text-align: right;\">  0      </td><td style=\"text-align: right;\">               0</td><td style=\"text-align: right;\">              0</td><td style=\"text-align: right;\">              0</td><td style=\"text-align: right;\">         0     </td><td style=\"text-align: right;\">             0</td><td style=\"text-align: right;\">            0</td><td style=\"text-align: right;\">            0</td><td style=\"text-align: right;\">            0</td><td style=\"text-align: right;\">                    0</td><td style=\"text-align: right;\">                   0</td><td style=\"text-align: right;\">                   0</td><td style=\"text-align: right;\">                   0</td><td style=\"text-align: right;\">                 0</td><td style=\"text-align: right;\">                0</td><td style=\"text-align: right;\">                0</td><td style=\"text-align: right;\">                0</td><td style=\"text-align: right;\">                          0</td><td style=\"text-align: right;\">                         0</td><td style=\"text-align: right;\">                         0</td><td style=\"text-align: right;\">                         0</td><td style=\"text-align: right;\">                 99     </td><td style=\"text-align: right;\">                     99</td><td style=\"text-align: right;\">                     99</td><td style=\"text-align: right;\">                0      </td><td style=\"text-align: right;\">                0</td><td style=\"text-align: right;\">               0</td><td style=\"text-align: right;\">               0</td><td style=\"text-align: right;\">         0      </td><td style=\"text-align: right;\">                  7  </td><td style=\"text-align: right;\">                   7</td><td style=\"text-align: right;\">                   7</td><td style=\"text-align: right;\">             0      </td><td style=\"text-align: right;\">                       4</td><td style=\"text-align: right;\">                      4</td><td style=\"text-align: right;\">                      4</td><td style=\"text-align: right;\">                      0</td><td style=\"text-align: right;\">                7  </td><td style=\"text-align: right;\">                 7</td><td style=\"text-align: right;\">                 7</td><td style=\"text-align: right;\">           0      </td><td style=\"text-align: right;\">                     0</td><td style=\"text-align: right;\">                    0</td><td style=\"text-align: right;\">                    0</td><td style=\"text-align: right;\">                    0</td><td style=\"text-align: right;\">                         0</td><td style=\"text-align: right;\">                        0</td><td style=\"text-align: right;\">                        0</td><td style=\"text-align: right;\">                        0</td><td style=\"text-align: right;\">                   0</td><td style=\"text-align: right;\">                  0</td><td style=\"text-align: right;\">                  0</td><td style=\"text-align: right;\">                  0</td><td style=\"text-align: right;\">          2      </td><td style=\"text-align: right;\">               2</td><td style=\"text-align: right;\">               2</td><td style=\"text-align: right;\">          0     </td><td style=\"text-align: right;\">              51     </td><td style=\"text-align: right;\">                  51</td><td style=\"text-align: right;\">                  51</td><td style=\"text-align: right;\">              0     </td><td style=\"text-align: right;\">               0</td><td style=\"text-align: right;\">              0</td><td style=\"text-align: right;\">              0</td><td style=\"text-align: right;\">              0</td><td style=\"text-align: right;\">              11     </td><td style=\"text-align: right;\">                104     </td><td style=\"text-align: right;\">                                2</td></tr>\n",
       "<tr><td style=\"text-align: right;\">       0  </td><td style=\"text-align: right;\">        0</td><td style=\"text-align: right;\">        0</td><td style=\"text-align: right;\">   0     </td><td style=\"text-align: right;\">    1     </td><td style=\"text-align: right;\">        1</td><td style=\"text-align: right;\">        1</td><td style=\"text-align: right;\">  0      </td><td style=\"text-align: right;\">       4  </td><td style=\"text-align: right;\">        4</td><td style=\"text-align: right;\">        4</td><td style=\"text-align: right;\">  0      </td><td style=\"text-align: right;\">    0     </td><td style=\"text-align: right;\">        0</td><td style=\"text-align: right;\">        0</td><td style=\"text-align: right;\">  0      </td><td style=\"text-align: right;\">     0     </td><td style=\"text-align: right;\">         0</td><td style=\"text-align: right;\">         0</td><td style=\"text-align: right;\">   0      </td><td style=\"text-align: right;\">             1     </td><td style=\"text-align: right;\">                 1</td><td style=\"text-align: right;\">                 1</td><td style=\"text-align: right;\">           0      </td><td style=\"text-align: right;\">                   0</td><td style=\"text-align: right;\">                  0</td><td style=\"text-align: right;\">                  0</td><td style=\"text-align: right;\">                  0</td><td style=\"text-align: right;\">              1     </td><td style=\"text-align: right;\">                  1</td><td style=\"text-align: right;\">                  1</td><td style=\"text-align: right;\">            0      </td><td style=\"text-align: right;\">                    0</td><td style=\"text-align: right;\">                   0</td><td style=\"text-align: right;\">                   0</td><td style=\"text-align: right;\">                   0</td><td style=\"text-align: right;\">                    0  </td><td style=\"text-align: right;\">                     0</td><td style=\"text-align: right;\">                     0</td><td style=\"text-align: right;\">               0      </td><td style=\"text-align: right;\">                    0</td><td style=\"text-align: right;\">                   0</td><td style=\"text-align: right;\">                   0</td><td style=\"text-align: right;\">                   0</td><td style=\"text-align: right;\">                     0</td><td style=\"text-align: right;\">                    0</td><td style=\"text-align: right;\">                    0</td><td style=\"text-align: right;\">                    0</td><td style=\"text-align: right;\">                  0</td><td style=\"text-align: right;\">                 0</td><td style=\"text-align: right;\">                 0</td><td style=\"text-align: right;\">                 0</td><td style=\"text-align: right;\">                         0</td><td style=\"text-align: right;\">                        0</td><td style=\"text-align: right;\">                        0</td><td style=\"text-align: right;\">                        0</td><td style=\"text-align: right;\">                 1</td><td style=\"text-align: right;\">                1</td><td style=\"text-align: right;\">                1</td><td style=\"text-align: right;\">                0</td><td style=\"text-align: right;\">                  1</td><td style=\"text-align: right;\">                 1</td><td style=\"text-align: right;\">                 1</td><td style=\"text-align: right;\">                 0</td><td style=\"text-align: right;\">                  0</td><td style=\"text-align: right;\">                 0</td><td style=\"text-align: right;\">                 0</td><td style=\"text-align: right;\">                 0</td><td style=\"text-align: right;\">                   1</td><td style=\"text-align: right;\">                  1</td><td style=\"text-align: right;\">                  1</td><td style=\"text-align: right;\">                  0</td><td style=\"text-align: right;\">                     0</td><td style=\"text-align: right;\">                    0</td><td style=\"text-align: right;\">                    0</td><td style=\"text-align: right;\">                    0</td><td style=\"text-align: right;\">                   0</td><td style=\"text-align: right;\">                  0</td><td style=\"text-align: right;\">                  0</td><td style=\"text-align: right;\">                  0</td><td style=\"text-align: right;\">                 1</td><td style=\"text-align: right;\">                1</td><td style=\"text-align: right;\">                1</td><td style=\"text-align: right;\">                0</td><td style=\"text-align: right;\">                        0</td><td style=\"text-align: right;\">                       0</td><td style=\"text-align: right;\">                       0</td><td style=\"text-align: right;\">                       0</td><td style=\"text-align: right;\">        0  </td><td style=\"text-align: right;\">         0</td><td style=\"text-align: right;\">         0</td><td style=\"text-align: right;\">   0      </td><td style=\"text-align: right;\">       7  </td><td style=\"text-align: right;\">        7</td><td style=\"text-align: right;\">        7</td><td style=\"text-align: right;\">  0      </td><td style=\"text-align: right;\">               0</td><td style=\"text-align: right;\">              0</td><td style=\"text-align: right;\">              0</td><td style=\"text-align: right;\">         0     </td><td style=\"text-align: right;\">             0</td><td style=\"text-align: right;\">            0</td><td style=\"text-align: right;\">            0</td><td style=\"text-align: right;\">            0</td><td style=\"text-align: right;\">                    0</td><td style=\"text-align: right;\">                   0</td><td style=\"text-align: right;\">                   0</td><td style=\"text-align: right;\">                   0</td><td style=\"text-align: right;\">                 0</td><td style=\"text-align: right;\">                0</td><td style=\"text-align: right;\">                0</td><td style=\"text-align: right;\">                0</td><td style=\"text-align: right;\">                          0</td><td style=\"text-align: right;\">                         0</td><td style=\"text-align: right;\">                         0</td><td style=\"text-align: right;\">                         0</td><td style=\"text-align: right;\">                  0     </td><td style=\"text-align: right;\">                      0</td><td style=\"text-align: right;\">                      0</td><td style=\"text-align: right;\">                0      </td><td style=\"text-align: right;\">                1</td><td style=\"text-align: right;\">               1</td><td style=\"text-align: right;\">               1</td><td style=\"text-align: right;\">         0      </td><td style=\"text-align: right;\">                  1  </td><td style=\"text-align: right;\">                   1</td><td style=\"text-align: right;\">                   1</td><td style=\"text-align: right;\">             0      </td><td style=\"text-align: right;\">                       0</td><td style=\"text-align: right;\">                      0</td><td style=\"text-align: right;\">                      0</td><td style=\"text-align: right;\">                      0</td><td style=\"text-align: right;\">                1  </td><td style=\"text-align: right;\">                 1</td><td style=\"text-align: right;\">                 1</td><td style=\"text-align: right;\">           0      </td><td style=\"text-align: right;\">                     0</td><td style=\"text-align: right;\">                    0</td><td style=\"text-align: right;\">                    0</td><td style=\"text-align: right;\">                    0</td><td style=\"text-align: right;\">                         0</td><td style=\"text-align: right;\">                        0</td><td style=\"text-align: right;\">                        0</td><td style=\"text-align: right;\">                        0</td><td style=\"text-align: right;\">                   0</td><td style=\"text-align: right;\">                  0</td><td style=\"text-align: right;\">                  0</td><td style=\"text-align: right;\">                  0</td><td style=\"text-align: right;\">          0      </td><td style=\"text-align: right;\">               0</td><td style=\"text-align: right;\">               0</td><td style=\"text-align: right;\">          0     </td><td style=\"text-align: right;\">              12     </td><td style=\"text-align: right;\">                  12</td><td style=\"text-align: right;\">                  12</td><td style=\"text-align: right;\">              0     </td><td style=\"text-align: right;\">              17</td><td style=\"text-align: right;\">             17</td><td style=\"text-align: right;\">             17</td><td style=\"text-align: right;\">              0</td><td style=\"text-align: right;\">             121     </td><td style=\"text-align: right;\">                  6     </td><td style=\"text-align: right;\">                                2</td></tr>\n",
       "<tr><td style=\"text-align: right;\">      11  </td><td style=\"text-align: right;\">       11</td><td style=\"text-align: right;\">       11</td><td style=\"text-align: right;\">   0     </td><td style=\"text-align: right;\">    6     </td><td style=\"text-align: right;\">        6</td><td style=\"text-align: right;\">        6</td><td style=\"text-align: right;\">  0      </td><td style=\"text-align: right;\">       2  </td><td style=\"text-align: right;\">        2</td><td style=\"text-align: right;\">        2</td><td style=\"text-align: right;\">  0      </td><td style=\"text-align: right;\">   10     </td><td style=\"text-align: right;\">       10</td><td style=\"text-align: right;\">       10</td><td style=\"text-align: right;\">  0      </td><td style=\"text-align: right;\">    15     </td><td style=\"text-align: right;\">        15</td><td style=\"text-align: right;\">        15</td><td style=\"text-align: right;\">   0      </td><td style=\"text-align: right;\">             6     </td><td style=\"text-align: right;\">                 6</td><td style=\"text-align: right;\">                 6</td><td style=\"text-align: right;\">           0      </td><td style=\"text-align: right;\">                   0</td><td style=\"text-align: right;\">                  0</td><td style=\"text-align: right;\">                  0</td><td style=\"text-align: right;\">                  0</td><td style=\"text-align: right;\">              0     </td><td style=\"text-align: right;\">                  0</td><td style=\"text-align: right;\">                  0</td><td style=\"text-align: right;\">            0      </td><td style=\"text-align: right;\">                    0</td><td style=\"text-align: right;\">                   0</td><td style=\"text-align: right;\">                   0</td><td style=\"text-align: right;\">                   0</td><td style=\"text-align: right;\">                    0  </td><td style=\"text-align: right;\">                     0</td><td style=\"text-align: right;\">                     0</td><td style=\"text-align: right;\">               0      </td><td style=\"text-align: right;\">                    0</td><td style=\"text-align: right;\">                   0</td><td style=\"text-align: right;\">                   0</td><td style=\"text-align: right;\">                   0</td><td style=\"text-align: right;\">                     0</td><td style=\"text-align: right;\">                    0</td><td style=\"text-align: right;\">                    0</td><td style=\"text-align: right;\">                    0</td><td style=\"text-align: right;\">                  0</td><td style=\"text-align: right;\">                 0</td><td style=\"text-align: right;\">                 0</td><td style=\"text-align: right;\">                 0</td><td style=\"text-align: right;\">                         0</td><td style=\"text-align: right;\">                        0</td><td style=\"text-align: right;\">                        0</td><td style=\"text-align: right;\">                        0</td><td style=\"text-align: right;\">                 0</td><td style=\"text-align: right;\">                0</td><td style=\"text-align: right;\">                0</td><td style=\"text-align: right;\">                0</td><td style=\"text-align: right;\">                  0</td><td style=\"text-align: right;\">                 0</td><td style=\"text-align: right;\">                 0</td><td style=\"text-align: right;\">                 0</td><td style=\"text-align: right;\">                  0</td><td style=\"text-align: right;\">                 0</td><td style=\"text-align: right;\">                 0</td><td style=\"text-align: right;\">                 0</td><td style=\"text-align: right;\">                   0</td><td style=\"text-align: right;\">                  0</td><td style=\"text-align: right;\">                  0</td><td style=\"text-align: right;\">                  0</td><td style=\"text-align: right;\">                     0</td><td style=\"text-align: right;\">                    0</td><td style=\"text-align: right;\">                    0</td><td style=\"text-align: right;\">                    0</td><td style=\"text-align: right;\">                   0</td><td style=\"text-align: right;\">                  0</td><td style=\"text-align: right;\">                  0</td><td style=\"text-align: right;\">                  0</td><td style=\"text-align: right;\">                 0</td><td style=\"text-align: right;\">                0</td><td style=\"text-align: right;\">                0</td><td style=\"text-align: right;\">                0</td><td style=\"text-align: right;\">                        0</td><td style=\"text-align: right;\">                       0</td><td style=\"text-align: right;\">                       0</td><td style=\"text-align: right;\">                       0</td><td style=\"text-align: right;\">       14  </td><td style=\"text-align: right;\">        14</td><td style=\"text-align: right;\">        14</td><td style=\"text-align: right;\">   0      </td><td style=\"text-align: right;\">      76  </td><td style=\"text-align: right;\">       76</td><td style=\"text-align: right;\">       76</td><td style=\"text-align: right;\">  0      </td><td style=\"text-align: right;\">               0</td><td style=\"text-align: right;\">              0</td><td style=\"text-align: right;\">              0</td><td style=\"text-align: right;\">         0     </td><td style=\"text-align: right;\">             0</td><td style=\"text-align: right;\">            0</td><td style=\"text-align: right;\">            0</td><td style=\"text-align: right;\">            0</td><td style=\"text-align: right;\">                    0</td><td style=\"text-align: right;\">                   0</td><td style=\"text-align: right;\">                   0</td><td style=\"text-align: right;\">                   0</td><td style=\"text-align: right;\">                 0</td><td style=\"text-align: right;\">                0</td><td style=\"text-align: right;\">                0</td><td style=\"text-align: right;\">                0</td><td style=\"text-align: right;\">                          0</td><td style=\"text-align: right;\">                         0</td><td style=\"text-align: right;\">                         0</td><td style=\"text-align: right;\">                         0</td><td style=\"text-align: right;\">                 26     </td><td style=\"text-align: right;\">                     26</td><td style=\"text-align: right;\">                     26</td><td style=\"text-align: right;\">                0      </td><td style=\"text-align: right;\">                0</td><td style=\"text-align: right;\">               0</td><td style=\"text-align: right;\">               0</td><td style=\"text-align: right;\">         0      </td><td style=\"text-align: right;\">                  8  </td><td style=\"text-align: right;\">                   8</td><td style=\"text-align: right;\">                   8</td><td style=\"text-align: right;\">             0      </td><td style=\"text-align: right;\">                       0</td><td style=\"text-align: right;\">                      0</td><td style=\"text-align: right;\">                      0</td><td style=\"text-align: right;\">                      0</td><td style=\"text-align: right;\">                8  </td><td style=\"text-align: right;\">                 8</td><td style=\"text-align: right;\">                 8</td><td style=\"text-align: right;\">           0      </td><td style=\"text-align: right;\">                     0</td><td style=\"text-align: right;\">                    0</td><td style=\"text-align: right;\">                    0</td><td style=\"text-align: right;\">                    0</td><td style=\"text-align: right;\">                         0</td><td style=\"text-align: right;\">                        0</td><td style=\"text-align: right;\">                        0</td><td style=\"text-align: right;\">                        0</td><td style=\"text-align: right;\">                   0</td><td style=\"text-align: right;\">                  0</td><td style=\"text-align: right;\">                  0</td><td style=\"text-align: right;\">                  0</td><td style=\"text-align: right;\">          4      </td><td style=\"text-align: right;\">               4</td><td style=\"text-align: right;\">               4</td><td style=\"text-align: right;\">          0     </td><td style=\"text-align: right;\">              39     </td><td style=\"text-align: right;\">                  39</td><td style=\"text-align: right;\">                  39</td><td style=\"text-align: right;\">              0     </td><td style=\"text-align: right;\">               0</td><td style=\"text-align: right;\">              0</td><td style=\"text-align: right;\">              0</td><td style=\"text-align: right;\">              0</td><td style=\"text-align: right;\">               9     </td><td style=\"text-align: right;\">                 86     </td><td style=\"text-align: right;\">                                2</td></tr>\n",
       "<tr><td style=\"text-align: right;\">      10.2</td><td style=\"text-align: right;\">        9</td><td style=\"text-align: right;\">       13</td><td style=\"text-align: right;\">   1.0328</td><td style=\"text-align: right;\">    4.1   </td><td style=\"text-align: right;\">        3</td><td style=\"text-align: right;\">        6</td><td style=\"text-align: right;\">  1.19722</td><td style=\"text-align: right;\">       1  </td><td style=\"text-align: right;\">        1</td><td style=\"text-align: right;\">        1</td><td style=\"text-align: right;\">  0      </td><td style=\"text-align: right;\">    9.9   </td><td style=\"text-align: right;\">        8</td><td style=\"text-align: right;\">       13</td><td style=\"text-align: right;\">  2.28279</td><td style=\"text-align: right;\">     7     </td><td style=\"text-align: right;\">         3</td><td style=\"text-align: right;\">        15</td><td style=\"text-align: right;\">   4.47214</td><td style=\"text-align: right;\">             4.1   </td><td style=\"text-align: right;\">                 3</td><td style=\"text-align: right;\">                 6</td><td style=\"text-align: right;\">           1.19722</td><td style=\"text-align: right;\">                   0</td><td style=\"text-align: right;\">                  0</td><td style=\"text-align: right;\">                  0</td><td style=\"text-align: right;\">                  0</td><td style=\"text-align: right;\">              4.1   </td><td style=\"text-align: right;\">                  3</td><td style=\"text-align: right;\">                  6</td><td style=\"text-align: right;\">            1.19722</td><td style=\"text-align: right;\">                    0</td><td style=\"text-align: right;\">                   0</td><td style=\"text-align: right;\">                   0</td><td style=\"text-align: right;\">                   0</td><td style=\"text-align: right;\">                    0  </td><td style=\"text-align: right;\">                     0</td><td style=\"text-align: right;\">                     0</td><td style=\"text-align: right;\">               0      </td><td style=\"text-align: right;\">                    0</td><td style=\"text-align: right;\">                   0</td><td style=\"text-align: right;\">                   0</td><td style=\"text-align: right;\">                   0</td><td style=\"text-align: right;\">                     0</td><td style=\"text-align: right;\">                    0</td><td style=\"text-align: right;\">                    0</td><td style=\"text-align: right;\">                    0</td><td style=\"text-align: right;\">                  0</td><td style=\"text-align: right;\">                 0</td><td style=\"text-align: right;\">                 0</td><td style=\"text-align: right;\">                 0</td><td style=\"text-align: right;\">                         0</td><td style=\"text-align: right;\">                        0</td><td style=\"text-align: right;\">                        0</td><td style=\"text-align: right;\">                        0</td><td style=\"text-align: right;\">                 0</td><td style=\"text-align: right;\">                0</td><td style=\"text-align: right;\">                0</td><td style=\"text-align: right;\">                0</td><td style=\"text-align: right;\">                  0</td><td style=\"text-align: right;\">                 0</td><td style=\"text-align: right;\">                 0</td><td style=\"text-align: right;\">                 0</td><td style=\"text-align: right;\">                  0</td><td style=\"text-align: right;\">                 0</td><td style=\"text-align: right;\">                 0</td><td style=\"text-align: right;\">                 0</td><td style=\"text-align: right;\">                   0</td><td style=\"text-align: right;\">                  0</td><td style=\"text-align: right;\">                  0</td><td style=\"text-align: right;\">                  0</td><td style=\"text-align: right;\">                     0</td><td style=\"text-align: right;\">                    0</td><td style=\"text-align: right;\">                    0</td><td style=\"text-align: right;\">                    0</td><td style=\"text-align: right;\">                   0</td><td style=\"text-align: right;\">                  0</td><td style=\"text-align: right;\">                  0</td><td style=\"text-align: right;\">                  0</td><td style=\"text-align: right;\">                 0</td><td style=\"text-align: right;\">                0</td><td style=\"text-align: right;\">                0</td><td style=\"text-align: right;\">                0</td><td style=\"text-align: right;\">                        0</td><td style=\"text-align: right;\">                       0</td><td style=\"text-align: right;\">                       0</td><td style=\"text-align: right;\">                       0</td><td style=\"text-align: right;\">        7.5</td><td style=\"text-align: right;\">         5</td><td style=\"text-align: right;\">        12</td><td style=\"text-align: right;\">   2.50555</td><td style=\"text-align: right;\">      37.5</td><td style=\"text-align: right;\">       29</td><td style=\"text-align: right;\">       54</td><td style=\"text-align: right;\">  9.00925</td><td style=\"text-align: right;\">               0</td><td style=\"text-align: right;\">              0</td><td style=\"text-align: right;\">              0</td><td style=\"text-align: right;\">         0     </td><td style=\"text-align: right;\">             0</td><td style=\"text-align: right;\">            0</td><td style=\"text-align: right;\">            0</td><td style=\"text-align: right;\">            0</td><td style=\"text-align: right;\">                    0</td><td style=\"text-align: right;\">                   0</td><td style=\"text-align: right;\">                   0</td><td style=\"text-align: right;\">                   0</td><td style=\"text-align: right;\">                 0</td><td style=\"text-align: right;\">                0</td><td style=\"text-align: right;\">                0</td><td style=\"text-align: right;\">                0</td><td style=\"text-align: right;\">                          0</td><td style=\"text-align: right;\">                         0</td><td style=\"text-align: right;\">                         0</td><td style=\"text-align: right;\">                         0</td><td style=\"text-align: right;\">                  2.5   </td><td style=\"text-align: right;\">                      1</td><td style=\"text-align: right;\">                      5</td><td style=\"text-align: right;\">                1.58114</td><td style=\"text-align: right;\">                0</td><td style=\"text-align: right;\">               0</td><td style=\"text-align: right;\">               0</td><td style=\"text-align: right;\">         0      </td><td style=\"text-align: right;\">                  6.9</td><td style=\"text-align: right;\">                   5</td><td style=\"text-align: right;\">                  12</td><td style=\"text-align: right;\">             2.42441</td><td style=\"text-align: right;\">                       0</td><td style=\"text-align: right;\">                      0</td><td style=\"text-align: right;\">                      0</td><td style=\"text-align: right;\">                      0</td><td style=\"text-align: right;\">                6.9</td><td style=\"text-align: right;\">                 5</td><td style=\"text-align: right;\">                12</td><td style=\"text-align: right;\">           2.42441</td><td style=\"text-align: right;\">                     0</td><td style=\"text-align: right;\">                    0</td><td style=\"text-align: right;\">                    0</td><td style=\"text-align: right;\">                    0</td><td style=\"text-align: right;\">                         0</td><td style=\"text-align: right;\">                        0</td><td style=\"text-align: right;\">                        0</td><td style=\"text-align: right;\">                        0</td><td style=\"text-align: right;\">                   0</td><td style=\"text-align: right;\">                  0</td><td style=\"text-align: right;\">                  0</td><td style=\"text-align: right;\">                  0</td><td style=\"text-align: right;\">          2.7    </td><td style=\"text-align: right;\">               2</td><td style=\"text-align: right;\">               5</td><td style=\"text-align: right;\">          1.1595</td><td style=\"text-align: right;\">              36.7   </td><td style=\"text-align: right;\">                  30</td><td style=\"text-align: right;\">                  46</td><td style=\"text-align: right;\">              6.0928</td><td style=\"text-align: right;\">               1</td><td style=\"text-align: right;\">              1</td><td style=\"text-align: right;\">              1</td><td style=\"text-align: right;\">              0</td><td style=\"text-align: right;\">              19     </td><td style=\"text-align: right;\">                 43.1   </td><td style=\"text-align: right;\">                                0</td></tr>\n",
       "<tr><td style=\"text-align: right;\">       9  </td><td style=\"text-align: right;\">        4</td><td style=\"text-align: right;\">       14</td><td style=\"text-align: right;\">   5.7735</td><td style=\"text-align: right;\">    6.5   </td><td style=\"text-align: right;\">        3</td><td style=\"text-align: right;\">       10</td><td style=\"text-align: right;\">  4.04145</td><td style=\"text-align: right;\">       2.5</td><td style=\"text-align: right;\">        2</td><td style=\"text-align: right;\">        3</td><td style=\"text-align: right;\">  0.57735</td><td style=\"text-align: right;\">   12     </td><td style=\"text-align: right;\">        6</td><td style=\"text-align: right;\">       18</td><td style=\"text-align: right;\">  6.9282 </td><td style=\"text-align: right;\">    24     </td><td style=\"text-align: right;\">         3</td><td style=\"text-align: right;\">        45</td><td style=\"text-align: right;\">  24.2487 </td><td style=\"text-align: right;\">             6.5   </td><td style=\"text-align: right;\">                 3</td><td style=\"text-align: right;\">                10</td><td style=\"text-align: right;\">           4.04145</td><td style=\"text-align: right;\">                   0</td><td style=\"text-align: right;\">                  0</td><td style=\"text-align: right;\">                  0</td><td style=\"text-align: right;\">                  0</td><td style=\"text-align: right;\">              5     </td><td style=\"text-align: right;\">                  0</td><td style=\"text-align: right;\">                 10</td><td style=\"text-align: right;\">            5.7735 </td><td style=\"text-align: right;\">                    0</td><td style=\"text-align: right;\">                   0</td><td style=\"text-align: right;\">                   0</td><td style=\"text-align: right;\">                   0</td><td style=\"text-align: right;\">                    1.5</td><td style=\"text-align: right;\">                     0</td><td style=\"text-align: right;\">                     3</td><td style=\"text-align: right;\">               1.73205</td><td style=\"text-align: right;\">                    0</td><td style=\"text-align: right;\">                   0</td><td style=\"text-align: right;\">                   0</td><td style=\"text-align: right;\">                   0</td><td style=\"text-align: right;\">                     0</td><td style=\"text-align: right;\">                    0</td><td style=\"text-align: right;\">                    0</td><td style=\"text-align: right;\">                    0</td><td style=\"text-align: right;\">                  0</td><td style=\"text-align: right;\">                 0</td><td style=\"text-align: right;\">                 0</td><td style=\"text-align: right;\">                 0</td><td style=\"text-align: right;\">                         0</td><td style=\"text-align: right;\">                        0</td><td style=\"text-align: right;\">                        0</td><td style=\"text-align: right;\">                        0</td><td style=\"text-align: right;\">                 0</td><td style=\"text-align: right;\">                0</td><td style=\"text-align: right;\">                0</td><td style=\"text-align: right;\">                0</td><td style=\"text-align: right;\">                  0</td><td style=\"text-align: right;\">                 0</td><td style=\"text-align: right;\">                 0</td><td style=\"text-align: right;\">                 0</td><td style=\"text-align: right;\">                  0</td><td style=\"text-align: right;\">                 0</td><td style=\"text-align: right;\">                 0</td><td style=\"text-align: right;\">                 0</td><td style=\"text-align: right;\">                   0</td><td style=\"text-align: right;\">                  0</td><td style=\"text-align: right;\">                  0</td><td style=\"text-align: right;\">                  0</td><td style=\"text-align: right;\">                     0</td><td style=\"text-align: right;\">                    0</td><td style=\"text-align: right;\">                    0</td><td style=\"text-align: right;\">                    0</td><td style=\"text-align: right;\">                   0</td><td style=\"text-align: right;\">                  0</td><td style=\"text-align: right;\">                  0</td><td style=\"text-align: right;\">                  0</td><td style=\"text-align: right;\">                 0</td><td style=\"text-align: right;\">                0</td><td style=\"text-align: right;\">                0</td><td style=\"text-align: right;\">                0</td><td style=\"text-align: right;\">                        0</td><td style=\"text-align: right;\">                       0</td><td style=\"text-align: right;\">                       0</td><td style=\"text-align: right;\">                       0</td><td style=\"text-align: right;\">       13  </td><td style=\"text-align: right;\">         0</td><td style=\"text-align: right;\">        26</td><td style=\"text-align: right;\">  15.0111 </td><td style=\"text-align: right;\">      45  </td><td style=\"text-align: right;\">       18</td><td style=\"text-align: right;\">       72</td><td style=\"text-align: right;\"> 31.1769 </td><td style=\"text-align: right;\">               1</td><td style=\"text-align: right;\">              0</td><td style=\"text-align: right;\">              2</td><td style=\"text-align: right;\">         1.1547</td><td style=\"text-align: right;\">             0</td><td style=\"text-align: right;\">            0</td><td style=\"text-align: right;\">            0</td><td style=\"text-align: right;\">            0</td><td style=\"text-align: right;\">                    0</td><td style=\"text-align: right;\">                   0</td><td style=\"text-align: right;\">                   0</td><td style=\"text-align: right;\">                   0</td><td style=\"text-align: right;\">                 0</td><td style=\"text-align: right;\">                0</td><td style=\"text-align: right;\">                0</td><td style=\"text-align: right;\">                0</td><td style=\"text-align: right;\">                          0</td><td style=\"text-align: right;\">                         0</td><td style=\"text-align: right;\">                         0</td><td style=\"text-align: right;\">                         0</td><td style=\"text-align: right;\">                  3     </td><td style=\"text-align: right;\">                      0</td><td style=\"text-align: right;\">                      6</td><td style=\"text-align: right;\">                3.4641 </td><td style=\"text-align: right;\">                0</td><td style=\"text-align: right;\">               0</td><td style=\"text-align: right;\">               0</td><td style=\"text-align: right;\">         0      </td><td style=\"text-align: right;\">                  3  </td><td style=\"text-align: right;\">                   0</td><td style=\"text-align: right;\">                   6</td><td style=\"text-align: right;\">             3.4641 </td><td style=\"text-align: right;\">                       0</td><td style=\"text-align: right;\">                      0</td><td style=\"text-align: right;\">                      0</td><td style=\"text-align: right;\">                      0</td><td style=\"text-align: right;\">                3  </td><td style=\"text-align: right;\">                 0</td><td style=\"text-align: right;\">                 6</td><td style=\"text-align: right;\">           3.4641 </td><td style=\"text-align: right;\">                     0</td><td style=\"text-align: right;\">                    0</td><td style=\"text-align: right;\">                    0</td><td style=\"text-align: right;\">                    0</td><td style=\"text-align: right;\">                         0</td><td style=\"text-align: right;\">                        0</td><td style=\"text-align: right;\">                        0</td><td style=\"text-align: right;\">                        0</td><td style=\"text-align: right;\">                   0</td><td style=\"text-align: right;\">                  0</td><td style=\"text-align: right;\">                  0</td><td style=\"text-align: right;\">                  0</td><td style=\"text-align: right;\">          3      </td><td style=\"text-align: right;\">               0</td><td style=\"text-align: right;\">               6</td><td style=\"text-align: right;\">          3.4641</td><td style=\"text-align: right;\">              41     </td><td style=\"text-align: right;\">                  27</td><td style=\"text-align: right;\">                  55</td><td style=\"text-align: right;\">             16.1658</td><td style=\"text-align: right;\">               1</td><td style=\"text-align: right;\">              1</td><td style=\"text-align: right;\">              1</td><td style=\"text-align: right;\">              0</td><td style=\"text-align: right;\">              66.25  </td><td style=\"text-align: right;\">                 50.5   </td><td style=\"text-align: right;\">                                1</td></tr>\n",
       "<tr><td style=\"text-align: right;\">       8  </td><td style=\"text-align: right;\">        8</td><td style=\"text-align: right;\">        8</td><td style=\"text-align: right;\">   0     </td><td style=\"text-align: right;\">    6     </td><td style=\"text-align: right;\">        6</td><td style=\"text-align: right;\">        6</td><td style=\"text-align: right;\">  0      </td><td style=\"text-align: right;\">       1  </td><td style=\"text-align: right;\">        1</td><td style=\"text-align: right;\">        1</td><td style=\"text-align: right;\">  0      </td><td style=\"text-align: right;\">   10     </td><td style=\"text-align: right;\">       10</td><td style=\"text-align: right;\">       10</td><td style=\"text-align: right;\">  0      </td><td style=\"text-align: right;\">    15     </td><td style=\"text-align: right;\">        15</td><td style=\"text-align: right;\">        15</td><td style=\"text-align: right;\">   0      </td><td style=\"text-align: right;\">             6     </td><td style=\"text-align: right;\">                 6</td><td style=\"text-align: right;\">                 6</td><td style=\"text-align: right;\">           0      </td><td style=\"text-align: right;\">                   0</td><td style=\"text-align: right;\">                  0</td><td style=\"text-align: right;\">                  0</td><td style=\"text-align: right;\">                  0</td><td style=\"text-align: right;\">              6     </td><td style=\"text-align: right;\">                  6</td><td style=\"text-align: right;\">                  6</td><td style=\"text-align: right;\">            0      </td><td style=\"text-align: right;\">                    0</td><td style=\"text-align: right;\">                   0</td><td style=\"text-align: right;\">                   0</td><td style=\"text-align: right;\">                   0</td><td style=\"text-align: right;\">                    0  </td><td style=\"text-align: right;\">                     0</td><td style=\"text-align: right;\">                     0</td><td style=\"text-align: right;\">               0      </td><td style=\"text-align: right;\">                    0</td><td style=\"text-align: right;\">                   0</td><td style=\"text-align: right;\">                   0</td><td style=\"text-align: right;\">                   0</td><td style=\"text-align: right;\">                     0</td><td style=\"text-align: right;\">                    0</td><td style=\"text-align: right;\">                    0</td><td style=\"text-align: right;\">                    0</td><td style=\"text-align: right;\">                  0</td><td style=\"text-align: right;\">                 0</td><td style=\"text-align: right;\">                 0</td><td style=\"text-align: right;\">                 0</td><td style=\"text-align: right;\">                         0</td><td style=\"text-align: right;\">                        0</td><td style=\"text-align: right;\">                        0</td><td style=\"text-align: right;\">                        0</td><td style=\"text-align: right;\">                 0</td><td style=\"text-align: right;\">                0</td><td style=\"text-align: right;\">                0</td><td style=\"text-align: right;\">                0</td><td style=\"text-align: right;\">                  0</td><td style=\"text-align: right;\">                 0</td><td style=\"text-align: right;\">                 0</td><td style=\"text-align: right;\">                 0</td><td style=\"text-align: right;\">                  0</td><td style=\"text-align: right;\">                 0</td><td style=\"text-align: right;\">                 0</td><td style=\"text-align: right;\">                 0</td><td style=\"text-align: right;\">                   0</td><td style=\"text-align: right;\">                  0</td><td style=\"text-align: right;\">                  0</td><td style=\"text-align: right;\">                  0</td><td style=\"text-align: right;\">                     0</td><td style=\"text-align: right;\">                    0</td><td style=\"text-align: right;\">                    0</td><td style=\"text-align: right;\">                    0</td><td style=\"text-align: right;\">                   0</td><td style=\"text-align: right;\">                  0</td><td style=\"text-align: right;\">                  0</td><td style=\"text-align: right;\">                  0</td><td style=\"text-align: right;\">                 0</td><td style=\"text-align: right;\">                0</td><td style=\"text-align: right;\">                0</td><td style=\"text-align: right;\">                0</td><td style=\"text-align: right;\">                        0</td><td style=\"text-align: right;\">                       0</td><td style=\"text-align: right;\">                       0</td><td style=\"text-align: right;\">                       0</td><td style=\"text-align: right;\">       21  </td><td style=\"text-align: right;\">        21</td><td style=\"text-align: right;\">        21</td><td style=\"text-align: right;\">   0      </td><td style=\"text-align: right;\">      66  </td><td style=\"text-align: right;\">       66</td><td style=\"text-align: right;\">       66</td><td style=\"text-align: right;\">  0      </td><td style=\"text-align: right;\">               0</td><td style=\"text-align: right;\">              0</td><td style=\"text-align: right;\">              0</td><td style=\"text-align: right;\">         0     </td><td style=\"text-align: right;\">             0</td><td style=\"text-align: right;\">            0</td><td style=\"text-align: right;\">            0</td><td style=\"text-align: right;\">            0</td><td style=\"text-align: right;\">                    0</td><td style=\"text-align: right;\">                   0</td><td style=\"text-align: right;\">                   0</td><td style=\"text-align: right;\">                   0</td><td style=\"text-align: right;\">                 0</td><td style=\"text-align: right;\">                0</td><td style=\"text-align: right;\">                0</td><td style=\"text-align: right;\">                0</td><td style=\"text-align: right;\">                          0</td><td style=\"text-align: right;\">                         0</td><td style=\"text-align: right;\">                         0</td><td style=\"text-align: right;\">                         0</td><td style=\"text-align: right;\">                 44     </td><td style=\"text-align: right;\">                     44</td><td style=\"text-align: right;\">                     44</td><td style=\"text-align: right;\">                0      </td><td style=\"text-align: right;\">                2</td><td style=\"text-align: right;\">               2</td><td style=\"text-align: right;\">               2</td><td style=\"text-align: right;\">         0      </td><td style=\"text-align: right;\">                 14  </td><td style=\"text-align: right;\">                  14</td><td style=\"text-align: right;\">                  14</td><td style=\"text-align: right;\">             0      </td><td style=\"text-align: right;\">                       4</td><td style=\"text-align: right;\">                      4</td><td style=\"text-align: right;\">                      4</td><td style=\"text-align: right;\">                      0</td><td style=\"text-align: right;\">               14  </td><td style=\"text-align: right;\">                14</td><td style=\"text-align: right;\">                14</td><td style=\"text-align: right;\">           0      </td><td style=\"text-align: right;\">                     0</td><td style=\"text-align: right;\">                    0</td><td style=\"text-align: right;\">                    0</td><td style=\"text-align: right;\">                    0</td><td style=\"text-align: right;\">                         0</td><td style=\"text-align: right;\">                        0</td><td style=\"text-align: right;\">                        0</td><td style=\"text-align: right;\">                        0</td><td style=\"text-align: right;\">                   0</td><td style=\"text-align: right;\">                  0</td><td style=\"text-align: right;\">                  0</td><td style=\"text-align: right;\">                  0</td><td style=\"text-align: right;\">          0      </td><td style=\"text-align: right;\">               0</td><td style=\"text-align: right;\">               0</td><td style=\"text-align: right;\">          0     </td><td style=\"text-align: right;\">              53     </td><td style=\"text-align: right;\">                  53</td><td style=\"text-align: right;\">                  53</td><td style=\"text-align: right;\">              0     </td><td style=\"text-align: right;\">               1</td><td style=\"text-align: right;\">              1</td><td style=\"text-align: right;\">              1</td><td style=\"text-align: right;\">              0</td><td style=\"text-align: right;\">              24     </td><td style=\"text-align: right;\">                 37     </td><td style=\"text-align: right;\">                                2</td></tr>\n",
       "<tr><td style=\"text-align: right;\">       9  </td><td style=\"text-align: right;\">        9</td><td style=\"text-align: right;\">        9</td><td style=\"text-align: right;\">   0     </td><td style=\"text-align: right;\">    5     </td><td style=\"text-align: right;\">        5</td><td style=\"text-align: right;\">        5</td><td style=\"text-align: right;\">  0      </td><td style=\"text-align: right;\">       1  </td><td style=\"text-align: right;\">        1</td><td style=\"text-align: right;\">        1</td><td style=\"text-align: right;\">  0      </td><td style=\"text-align: right;\">    9     </td><td style=\"text-align: right;\">        9</td><td style=\"text-align: right;\">        9</td><td style=\"text-align: right;\">  0      </td><td style=\"text-align: right;\">     4     </td><td style=\"text-align: right;\">         4</td><td style=\"text-align: right;\">         4</td><td style=\"text-align: right;\">   0      </td><td style=\"text-align: right;\">             5     </td><td style=\"text-align: right;\">                 5</td><td style=\"text-align: right;\">                 5</td><td style=\"text-align: right;\">           0      </td><td style=\"text-align: right;\">                   0</td><td style=\"text-align: right;\">                  0</td><td style=\"text-align: right;\">                  0</td><td style=\"text-align: right;\">                  0</td><td style=\"text-align: right;\">              5     </td><td style=\"text-align: right;\">                  5</td><td style=\"text-align: right;\">                  5</td><td style=\"text-align: right;\">            0      </td><td style=\"text-align: right;\">                    0</td><td style=\"text-align: right;\">                   0</td><td style=\"text-align: right;\">                   0</td><td style=\"text-align: right;\">                   0</td><td style=\"text-align: right;\">                    0  </td><td style=\"text-align: right;\">                     0</td><td style=\"text-align: right;\">                     0</td><td style=\"text-align: right;\">               0      </td><td style=\"text-align: right;\">                    0</td><td style=\"text-align: right;\">                   0</td><td style=\"text-align: right;\">                   0</td><td style=\"text-align: right;\">                   0</td><td style=\"text-align: right;\">                     0</td><td style=\"text-align: right;\">                    0</td><td style=\"text-align: right;\">                    0</td><td style=\"text-align: right;\">                    0</td><td style=\"text-align: right;\">                  0</td><td style=\"text-align: right;\">                 0</td><td style=\"text-align: right;\">                 0</td><td style=\"text-align: right;\">                 0</td><td style=\"text-align: right;\">                         0</td><td style=\"text-align: right;\">                        0</td><td style=\"text-align: right;\">                        0</td><td style=\"text-align: right;\">                        0</td><td style=\"text-align: right;\">                 3</td><td style=\"text-align: right;\">                3</td><td style=\"text-align: right;\">                3</td><td style=\"text-align: right;\">                0</td><td style=\"text-align: right;\">                  0</td><td style=\"text-align: right;\">                 0</td><td style=\"text-align: right;\">                 0</td><td style=\"text-align: right;\">                 0</td><td style=\"text-align: right;\">                  0</td><td style=\"text-align: right;\">                 0</td><td style=\"text-align: right;\">                 0</td><td style=\"text-align: right;\">                 0</td><td style=\"text-align: right;\">                   3</td><td style=\"text-align: right;\">                  3</td><td style=\"text-align: right;\">                  3</td><td style=\"text-align: right;\">                  0</td><td style=\"text-align: right;\">                     0</td><td style=\"text-align: right;\">                    0</td><td style=\"text-align: right;\">                    0</td><td style=\"text-align: right;\">                    0</td><td style=\"text-align: right;\">                   0</td><td style=\"text-align: right;\">                  0</td><td style=\"text-align: right;\">                  0</td><td style=\"text-align: right;\">                  0</td><td style=\"text-align: right;\">                 0</td><td style=\"text-align: right;\">                0</td><td style=\"text-align: right;\">                0</td><td style=\"text-align: right;\">                0</td><td style=\"text-align: right;\">                        0</td><td style=\"text-align: right;\">                       0</td><td style=\"text-align: right;\">                       0</td><td style=\"text-align: right;\">                       0</td><td style=\"text-align: right;\">        6  </td><td style=\"text-align: right;\">         6</td><td style=\"text-align: right;\">         6</td><td style=\"text-align: right;\">   0      </td><td style=\"text-align: right;\">      44  </td><td style=\"text-align: right;\">       44</td><td style=\"text-align: right;\">       44</td><td style=\"text-align: right;\">  0      </td><td style=\"text-align: right;\">               0</td><td style=\"text-align: right;\">              0</td><td style=\"text-align: right;\">              0</td><td style=\"text-align: right;\">         0     </td><td style=\"text-align: right;\">             0</td><td style=\"text-align: right;\">            0</td><td style=\"text-align: right;\">            0</td><td style=\"text-align: right;\">            0</td><td style=\"text-align: right;\">                    0</td><td style=\"text-align: right;\">                   0</td><td style=\"text-align: right;\">                   0</td><td style=\"text-align: right;\">                   0</td><td style=\"text-align: right;\">                 0</td><td style=\"text-align: right;\">                0</td><td style=\"text-align: right;\">                0</td><td style=\"text-align: right;\">                0</td><td style=\"text-align: right;\">                          0</td><td style=\"text-align: right;\">                         0</td><td style=\"text-align: right;\">                         0</td><td style=\"text-align: right;\">                         0</td><td style=\"text-align: right;\">                  8     </td><td style=\"text-align: right;\">                      8</td><td style=\"text-align: right;\">                      8</td><td style=\"text-align: right;\">                0      </td><td style=\"text-align: right;\">                0</td><td style=\"text-align: right;\">               0</td><td style=\"text-align: right;\">               0</td><td style=\"text-align: right;\">         0      </td><td style=\"text-align: right;\">                  5  </td><td style=\"text-align: right;\">                   5</td><td style=\"text-align: right;\">                   5</td><td style=\"text-align: right;\">             0      </td><td style=\"text-align: right;\">                       0</td><td style=\"text-align: right;\">                      0</td><td style=\"text-align: right;\">                      0</td><td style=\"text-align: right;\">                      0</td><td style=\"text-align: right;\">                5  </td><td style=\"text-align: right;\">                 5</td><td style=\"text-align: right;\">                 5</td><td style=\"text-align: right;\">           0      </td><td style=\"text-align: right;\">                     0</td><td style=\"text-align: right;\">                    0</td><td style=\"text-align: right;\">                    0</td><td style=\"text-align: right;\">                    0</td><td style=\"text-align: right;\">                         0</td><td style=\"text-align: right;\">                        0</td><td style=\"text-align: right;\">                        0</td><td style=\"text-align: right;\">                        0</td><td style=\"text-align: right;\">                   0</td><td style=\"text-align: right;\">                  0</td><td style=\"text-align: right;\">                  0</td><td style=\"text-align: right;\">                  0</td><td style=\"text-align: right;\">          4      </td><td style=\"text-align: right;\">               4</td><td style=\"text-align: right;\">               4</td><td style=\"text-align: right;\">          0     </td><td style=\"text-align: right;\">              44     </td><td style=\"text-align: right;\">                  44</td><td style=\"text-align: right;\">                  44</td><td style=\"text-align: right;\">              0     </td><td style=\"text-align: right;\">               1</td><td style=\"text-align: right;\">              1</td><td style=\"text-align: right;\">              1</td><td style=\"text-align: right;\">              0</td><td style=\"text-align: right;\">             222     </td><td style=\"text-align: right;\">                 40     </td><td style=\"text-align: right;\">                                2</td></tr>\n",
       "<tr><td style=\"text-align: right;\">       7  </td><td style=\"text-align: right;\">        7</td><td style=\"text-align: right;\">        7</td><td style=\"text-align: right;\">   0     </td><td style=\"text-align: right;\">   12     </td><td style=\"text-align: right;\">       12</td><td style=\"text-align: right;\">       12</td><td style=\"text-align: right;\">  0      </td><td style=\"text-align: right;\">       1  </td><td style=\"text-align: right;\">        1</td><td style=\"text-align: right;\">        1</td><td style=\"text-align: right;\">  0      </td><td style=\"text-align: right;\">    4     </td><td style=\"text-align: right;\">        4</td><td style=\"text-align: right;\">        4</td><td style=\"text-align: right;\">  0      </td><td style=\"text-align: right;\">    66     </td><td style=\"text-align: right;\">        66</td><td style=\"text-align: right;\">        66</td><td style=\"text-align: right;\">   0      </td><td style=\"text-align: right;\">            12     </td><td style=\"text-align: right;\">                12</td><td style=\"text-align: right;\">                12</td><td style=\"text-align: right;\">           0      </td><td style=\"text-align: right;\">                   0</td><td style=\"text-align: right;\">                  0</td><td style=\"text-align: right;\">                  0</td><td style=\"text-align: right;\">                  0</td><td style=\"text-align: right;\">              0     </td><td style=\"text-align: right;\">                  0</td><td style=\"text-align: right;\">                  0</td><td style=\"text-align: right;\">            0      </td><td style=\"text-align: right;\">                    0</td><td style=\"text-align: right;\">                   0</td><td style=\"text-align: right;\">                   0</td><td style=\"text-align: right;\">                   0</td><td style=\"text-align: right;\">                    0  </td><td style=\"text-align: right;\">                     0</td><td style=\"text-align: right;\">                     0</td><td style=\"text-align: right;\">               0      </td><td style=\"text-align: right;\">                    0</td><td style=\"text-align: right;\">                   0</td><td style=\"text-align: right;\">                   0</td><td style=\"text-align: right;\">                   0</td><td style=\"text-align: right;\">                     0</td><td style=\"text-align: right;\">                    0</td><td style=\"text-align: right;\">                    0</td><td style=\"text-align: right;\">                    0</td><td style=\"text-align: right;\">                  0</td><td style=\"text-align: right;\">                 0</td><td style=\"text-align: right;\">                 0</td><td style=\"text-align: right;\">                 0</td><td style=\"text-align: right;\">                         0</td><td style=\"text-align: right;\">                        0</td><td style=\"text-align: right;\">                        0</td><td style=\"text-align: right;\">                        0</td><td style=\"text-align: right;\">                 3</td><td style=\"text-align: right;\">                3</td><td style=\"text-align: right;\">                3</td><td style=\"text-align: right;\">                0</td><td style=\"text-align: right;\">                  0</td><td style=\"text-align: right;\">                 0</td><td style=\"text-align: right;\">                 0</td><td style=\"text-align: right;\">                 0</td><td style=\"text-align: right;\">                  0</td><td style=\"text-align: right;\">                 0</td><td style=\"text-align: right;\">                 0</td><td style=\"text-align: right;\">                 0</td><td style=\"text-align: right;\">                   3</td><td style=\"text-align: right;\">                  3</td><td style=\"text-align: right;\">                  3</td><td style=\"text-align: right;\">                  0</td><td style=\"text-align: right;\">                     0</td><td style=\"text-align: right;\">                    0</td><td style=\"text-align: right;\">                    0</td><td style=\"text-align: right;\">                    0</td><td style=\"text-align: right;\">                   0</td><td style=\"text-align: right;\">                  0</td><td style=\"text-align: right;\">                  0</td><td style=\"text-align: right;\">                  0</td><td style=\"text-align: right;\">                 0</td><td style=\"text-align: right;\">                0</td><td style=\"text-align: right;\">                0</td><td style=\"text-align: right;\">                0</td><td style=\"text-align: right;\">                        0</td><td style=\"text-align: right;\">                       0</td><td style=\"text-align: right;\">                       0</td><td style=\"text-align: right;\">                       0</td><td style=\"text-align: right;\">       12  </td><td style=\"text-align: right;\">        12</td><td style=\"text-align: right;\">        12</td><td style=\"text-align: right;\">   0      </td><td style=\"text-align: right;\">      94  </td><td style=\"text-align: right;\">       94</td><td style=\"text-align: right;\">       94</td><td style=\"text-align: right;\">  0      </td><td style=\"text-align: right;\">               0</td><td style=\"text-align: right;\">              0</td><td style=\"text-align: right;\">              0</td><td style=\"text-align: right;\">         0     </td><td style=\"text-align: right;\">             0</td><td style=\"text-align: right;\">            0</td><td style=\"text-align: right;\">            0</td><td style=\"text-align: right;\">            0</td><td style=\"text-align: right;\">                    0</td><td style=\"text-align: right;\">                   0</td><td style=\"text-align: right;\">                   0</td><td style=\"text-align: right;\">                   0</td><td style=\"text-align: right;\">                 0</td><td style=\"text-align: right;\">                0</td><td style=\"text-align: right;\">                0</td><td style=\"text-align: right;\">                0</td><td style=\"text-align: right;\">                          0</td><td style=\"text-align: right;\">                         0</td><td style=\"text-align: right;\">                         0</td><td style=\"text-align: right;\">                         0</td><td style=\"text-align: right;\">                  4     </td><td style=\"text-align: right;\">                      4</td><td style=\"text-align: right;\">                      4</td><td style=\"text-align: right;\">                0      </td><td style=\"text-align: right;\">                0</td><td style=\"text-align: right;\">               0</td><td style=\"text-align: right;\">               0</td><td style=\"text-align: right;\">         0      </td><td style=\"text-align: right;\">                  3  </td><td style=\"text-align: right;\">                   3</td><td style=\"text-align: right;\">                   3</td><td style=\"text-align: right;\">             0      </td><td style=\"text-align: right;\">                       0</td><td style=\"text-align: right;\">                      0</td><td style=\"text-align: right;\">                      0</td><td style=\"text-align: right;\">                      0</td><td style=\"text-align: right;\">                3  </td><td style=\"text-align: right;\">                 3</td><td style=\"text-align: right;\">                 3</td><td style=\"text-align: right;\">           0      </td><td style=\"text-align: right;\">                     0</td><td style=\"text-align: right;\">                    0</td><td style=\"text-align: right;\">                    0</td><td style=\"text-align: right;\">                    0</td><td style=\"text-align: right;\">                         0</td><td style=\"text-align: right;\">                        0</td><td style=\"text-align: right;\">                        0</td><td style=\"text-align: right;\">                        0</td><td style=\"text-align: right;\">                   0</td><td style=\"text-align: right;\">                  0</td><td style=\"text-align: right;\">                  0</td><td style=\"text-align: right;\">                  0</td><td style=\"text-align: right;\">         11      </td><td style=\"text-align: right;\">              11</td><td style=\"text-align: right;\">              11</td><td style=\"text-align: right;\">          0     </td><td style=\"text-align: right;\">              53     </td><td style=\"text-align: right;\">                  53</td><td style=\"text-align: right;\">                  53</td><td style=\"text-align: right;\">              0     </td><td style=\"text-align: right;\">               0</td><td style=\"text-align: right;\">              0</td><td style=\"text-align: right;\">              0</td><td style=\"text-align: right;\">              0</td><td style=\"text-align: right;\">               9     </td><td style=\"text-align: right;\">                 71     </td><td style=\"text-align: right;\">                                2</td></tr>\n",
       "<tr><td style=\"text-align: right;\">      16  </td><td style=\"text-align: right;\">       16</td><td style=\"text-align: right;\">       16</td><td style=\"text-align: right;\">   0     </td><td style=\"text-align: right;\">   13.6667</td><td style=\"text-align: right;\">       13</td><td style=\"text-align: right;\">       14</td><td style=\"text-align: right;\">  0.57735</td><td style=\"text-align: right;\">       2  </td><td style=\"text-align: right;\">        2</td><td style=\"text-align: right;\">        2</td><td style=\"text-align: right;\">  0      </td><td style=\"text-align: right;\">   21.6667</td><td style=\"text-align: right;\">       21</td><td style=\"text-align: right;\">       22</td><td style=\"text-align: right;\">  0.57735</td><td style=\"text-align: right;\">    86.6667</td><td style=\"text-align: right;\">        78</td><td style=\"text-align: right;\">        91</td><td style=\"text-align: right;\">   7.50555</td><td style=\"text-align: right;\">            13.6667</td><td style=\"text-align: right;\">                13</td><td style=\"text-align: right;\">                14</td><td style=\"text-align: right;\">           0.57735</td><td style=\"text-align: right;\">                   0</td><td style=\"text-align: right;\">                  0</td><td style=\"text-align: right;\">                  0</td><td style=\"text-align: right;\">                  0</td><td style=\"text-align: right;\">             13.6667</td><td style=\"text-align: right;\">                 13</td><td style=\"text-align: right;\">                 14</td><td style=\"text-align: right;\">            0.57735</td><td style=\"text-align: right;\">                    0</td><td style=\"text-align: right;\">                   0</td><td style=\"text-align: right;\">                   0</td><td style=\"text-align: right;\">                   0</td><td style=\"text-align: right;\">                    0  </td><td style=\"text-align: right;\">                     0</td><td style=\"text-align: right;\">                     0</td><td style=\"text-align: right;\">               0      </td><td style=\"text-align: right;\">                    0</td><td style=\"text-align: right;\">                   0</td><td style=\"text-align: right;\">                   0</td><td style=\"text-align: right;\">                   0</td><td style=\"text-align: right;\">                     0</td><td style=\"text-align: right;\">                    0</td><td style=\"text-align: right;\">                    0</td><td style=\"text-align: right;\">                    0</td><td style=\"text-align: right;\">                  0</td><td style=\"text-align: right;\">                 0</td><td style=\"text-align: right;\">                 0</td><td style=\"text-align: right;\">                 0</td><td style=\"text-align: right;\">                         0</td><td style=\"text-align: right;\">                        0</td><td style=\"text-align: right;\">                        0</td><td style=\"text-align: right;\">                        0</td><td style=\"text-align: right;\">                 0</td><td style=\"text-align: right;\">                0</td><td style=\"text-align: right;\">                0</td><td style=\"text-align: right;\">                0</td><td style=\"text-align: right;\">                  0</td><td style=\"text-align: right;\">                 0</td><td style=\"text-align: right;\">                 0</td><td style=\"text-align: right;\">                 0</td><td style=\"text-align: right;\">                  0</td><td style=\"text-align: right;\">                 0</td><td style=\"text-align: right;\">                 0</td><td style=\"text-align: right;\">                 0</td><td style=\"text-align: right;\">                   0</td><td style=\"text-align: right;\">                  0</td><td style=\"text-align: right;\">                  0</td><td style=\"text-align: right;\">                  0</td><td style=\"text-align: right;\">                     0</td><td style=\"text-align: right;\">                    0</td><td style=\"text-align: right;\">                    0</td><td style=\"text-align: right;\">                    0</td><td style=\"text-align: right;\">                   0</td><td style=\"text-align: right;\">                  0</td><td style=\"text-align: right;\">                  0</td><td style=\"text-align: right;\">                  0</td><td style=\"text-align: right;\">                 0</td><td style=\"text-align: right;\">                0</td><td style=\"text-align: right;\">                0</td><td style=\"text-align: right;\">                0</td><td style=\"text-align: right;\">                        0</td><td style=\"text-align: right;\">                       0</td><td style=\"text-align: right;\">                       0</td><td style=\"text-align: right;\">                       0</td><td style=\"text-align: right;\">       26  </td><td style=\"text-align: right;\">        24</td><td style=\"text-align: right;\">        27</td><td style=\"text-align: right;\">   1.73205</td><td style=\"text-align: right;\">      94  </td><td style=\"text-align: right;\">       88</td><td style=\"text-align: right;\">       97</td><td style=\"text-align: right;\">  5.19615</td><td style=\"text-align: right;\">               0</td><td style=\"text-align: right;\">              0</td><td style=\"text-align: right;\">              0</td><td style=\"text-align: right;\">         0     </td><td style=\"text-align: right;\">             0</td><td style=\"text-align: right;\">            0</td><td style=\"text-align: right;\">            0</td><td style=\"text-align: right;\">            0</td><td style=\"text-align: right;\">                    0</td><td style=\"text-align: right;\">                   0</td><td style=\"text-align: right;\">                   0</td><td style=\"text-align: right;\">                   0</td><td style=\"text-align: right;\">                 0</td><td style=\"text-align: right;\">                0</td><td style=\"text-align: right;\">                0</td><td style=\"text-align: right;\">                0</td><td style=\"text-align: right;\">                          0</td><td style=\"text-align: right;\">                         0</td><td style=\"text-align: right;\">                         0</td><td style=\"text-align: right;\">                         0</td><td style=\"text-align: right;\">                 10.6667</td><td style=\"text-align: right;\">                      8</td><td style=\"text-align: right;\">                     12</td><td style=\"text-align: right;\">                2.3094 </td><td style=\"text-align: right;\">               15</td><td style=\"text-align: right;\">               9</td><td style=\"text-align: right;\">              18</td><td style=\"text-align: right;\">         5.19615</td><td style=\"text-align: right;\">                  4  </td><td style=\"text-align: right;\">                   4</td><td style=\"text-align: right;\">                   4</td><td style=\"text-align: right;\">             0      </td><td style=\"text-align: right;\">                       0</td><td style=\"text-align: right;\">                      0</td><td style=\"text-align: right;\">                      0</td><td style=\"text-align: right;\">                      0</td><td style=\"text-align: right;\">                4  </td><td style=\"text-align: right;\">                 4</td><td style=\"text-align: right;\">                 4</td><td style=\"text-align: right;\">           0      </td><td style=\"text-align: right;\">                     0</td><td style=\"text-align: right;\">                    0</td><td style=\"text-align: right;\">                    0</td><td style=\"text-align: right;\">                    0</td><td style=\"text-align: right;\">                         0</td><td style=\"text-align: right;\">                        0</td><td style=\"text-align: right;\">                        0</td><td style=\"text-align: right;\">                        0</td><td style=\"text-align: right;\">                   0</td><td style=\"text-align: right;\">                  0</td><td style=\"text-align: right;\">                  0</td><td style=\"text-align: right;\">                  0</td><td style=\"text-align: right;\">          9.66667</td><td style=\"text-align: right;\">               9</td><td style=\"text-align: right;\">              11</td><td style=\"text-align: right;\">          1.1547</td><td style=\"text-align: right;\">              58.6667</td><td style=\"text-align: right;\">                  56</td><td style=\"text-align: right;\">                  60</td><td style=\"text-align: right;\">              2.3094</td><td style=\"text-align: right;\">               1</td><td style=\"text-align: right;\">              1</td><td style=\"text-align: right;\">              1</td><td style=\"text-align: right;\">              0</td><td style=\"text-align: right;\">              93.3333</td><td style=\"text-align: right;\">                 80.6667</td><td style=\"text-align: right;\">                                2</td></tr>\n",
       "</tbody>\n",
       "</table>"
      ]
     },
     "metadata": {},
     "output_type": "display_data"
    },
    {
     "data": {
      "text/plain": []
     },
     "execution_count": 294,
     "metadata": {},
     "output_type": "execute_result"
    }
   ],
   "source": [
    "test.head()"
   ]
  },
  {
   "cell_type": "code",
   "execution_count": 295,
   "metadata": {},
   "outputs": [
    {
     "name": "stdout",
     "output_type": "stream",
     "text": [
      "223\n",
      "223\n"
     ]
    }
   ],
   "source": [
    "print(len(test))\n",
    "print(len(pd_preds))"
   ]
  },
  {
   "cell_type": "code",
   "execution_count": 296,
   "metadata": {},
   "outputs": [],
   "source": [
    "pd_test = test.as_data_frame()\n",
    "pd_preds['actual_time_taken'] = pd_test['refactoring_perc_time_taken_bin']"
   ]
  },
  {
   "cell_type": "code",
   "execution_count": 297,
   "metadata": {
    "scrolled": true
   },
   "outputs": [
    {
     "data": {
      "text/html": [
       "<div>\n",
       "<style scoped>\n",
       "    .dataframe tbody tr th:only-of-type {\n",
       "        vertical-align: middle;\n",
       "    }\n",
       "\n",
       "    .dataframe tbody tr th {\n",
       "        vertical-align: top;\n",
       "    }\n",
       "\n",
       "    .dataframe thead th {\n",
       "        text-align: right;\n",
       "    }\n",
       "</style>\n",
       "<table border=\"1\" class=\"dataframe\">\n",
       "  <thead>\n",
       "    <tr style=\"text-align: right;\">\n",
       "      <th></th>\n",
       "      <th>predict</th>\n",
       "      <th>p0</th>\n",
       "      <th>p1</th>\n",
       "      <th>p2</th>\n",
       "      <th>actual_time_taken</th>\n",
       "    </tr>\n",
       "  </thead>\n",
       "  <tbody>\n",
       "    <tr>\n",
       "      <th>0</th>\n",
       "      <td>1</td>\n",
       "      <td>0.039582</td>\n",
       "      <td>0.518344</td>\n",
       "      <td>0.442075</td>\n",
       "      <td>1</td>\n",
       "    </tr>\n",
       "    <tr>\n",
       "      <th>1</th>\n",
       "      <td>2</td>\n",
       "      <td>0.005050</td>\n",
       "      <td>0.145239</td>\n",
       "      <td>0.849711</td>\n",
       "      <td>2</td>\n",
       "    </tr>\n",
       "    <tr>\n",
       "      <th>2</th>\n",
       "      <td>2</td>\n",
       "      <td>0.203366</td>\n",
       "      <td>0.324939</td>\n",
       "      <td>0.471695</td>\n",
       "      <td>2</td>\n",
       "    </tr>\n",
       "    <tr>\n",
       "      <th>3</th>\n",
       "      <td>2</td>\n",
       "      <td>0.006639</td>\n",
       "      <td>0.146270</td>\n",
       "      <td>0.847091</td>\n",
       "      <td>2</td>\n",
       "    </tr>\n",
       "    <tr>\n",
       "      <th>4</th>\n",
       "      <td>2</td>\n",
       "      <td>0.051847</td>\n",
       "      <td>0.260415</td>\n",
       "      <td>0.687738</td>\n",
       "      <td>0</td>\n",
       "    </tr>\n",
       "  </tbody>\n",
       "</table>\n",
       "</div>"
      ],
      "text/plain": [
       "   predict        p0        p1        p2  actual_time_taken\n",
       "0        1  0.039582  0.518344  0.442075                  1\n",
       "1        2  0.005050  0.145239  0.849711                  2\n",
       "2        2  0.203366  0.324939  0.471695                  2\n",
       "3        2  0.006639  0.146270  0.847091                  2\n",
       "4        2  0.051847  0.260415  0.687738                  0"
      ]
     },
     "execution_count": 297,
     "metadata": {},
     "output_type": "execute_result"
    }
   ],
   "source": [
    "pd_preds.head()"
   ]
  },
  {
   "cell_type": "code",
   "execution_count": 298,
   "metadata": {},
   "outputs": [],
   "source": [
    "#pd_preds.loc[(pd_preds.predict < 0),'predict']=1"
   ]
  },
  {
   "cell_type": "code",
   "execution_count": 299,
   "metadata": {},
   "outputs": [
    {
     "data": {
      "text/html": [
       "<div>\n",
       "<style scoped>\n",
       "    .dataframe tbody tr th:only-of-type {\n",
       "        vertical-align: middle;\n",
       "    }\n",
       "\n",
       "    .dataframe tbody tr th {\n",
       "        vertical-align: top;\n",
       "    }\n",
       "\n",
       "    .dataframe thead th {\n",
       "        text-align: right;\n",
       "    }\n",
       "</style>\n",
       "<table border=\"1\" class=\"dataframe\">\n",
       "  <thead>\n",
       "    <tr style=\"text-align: right;\">\n",
       "      <th></th>\n",
       "      <th>predict</th>\n",
       "      <th>p0</th>\n",
       "      <th>p1</th>\n",
       "      <th>p2</th>\n",
       "      <th>actual_time_taken</th>\n",
       "    </tr>\n",
       "  </thead>\n",
       "  <tbody>\n",
       "    <tr>\n",
       "      <th>0</th>\n",
       "      <td>1</td>\n",
       "      <td>0.039582</td>\n",
       "      <td>0.518344</td>\n",
       "      <td>0.442075</td>\n",
       "      <td>1</td>\n",
       "    </tr>\n",
       "    <tr>\n",
       "      <th>1</th>\n",
       "      <td>2</td>\n",
       "      <td>0.005050</td>\n",
       "      <td>0.145239</td>\n",
       "      <td>0.849711</td>\n",
       "      <td>2</td>\n",
       "    </tr>\n",
       "    <tr>\n",
       "      <th>2</th>\n",
       "      <td>2</td>\n",
       "      <td>0.203366</td>\n",
       "      <td>0.324939</td>\n",
       "      <td>0.471695</td>\n",
       "      <td>2</td>\n",
       "    </tr>\n",
       "    <tr>\n",
       "      <th>3</th>\n",
       "      <td>2</td>\n",
       "      <td>0.006639</td>\n",
       "      <td>0.146270</td>\n",
       "      <td>0.847091</td>\n",
       "      <td>2</td>\n",
       "    </tr>\n",
       "    <tr>\n",
       "      <th>4</th>\n",
       "      <td>2</td>\n",
       "      <td>0.051847</td>\n",
       "      <td>0.260415</td>\n",
       "      <td>0.687738</td>\n",
       "      <td>0</td>\n",
       "    </tr>\n",
       "    <tr>\n",
       "      <th>...</th>\n",
       "      <td>...</td>\n",
       "      <td>...</td>\n",
       "      <td>...</td>\n",
       "      <td>...</td>\n",
       "      <td>...</td>\n",
       "    </tr>\n",
       "    <tr>\n",
       "      <th>218</th>\n",
       "      <td>0</td>\n",
       "      <td>0.391002</td>\n",
       "      <td>0.337837</td>\n",
       "      <td>0.271161</td>\n",
       "      <td>0</td>\n",
       "    </tr>\n",
       "    <tr>\n",
       "      <th>219</th>\n",
       "      <td>2</td>\n",
       "      <td>0.042319</td>\n",
       "      <td>0.351851</td>\n",
       "      <td>0.605830</td>\n",
       "      <td>1</td>\n",
       "    </tr>\n",
       "    <tr>\n",
       "      <th>220</th>\n",
       "      <td>1</td>\n",
       "      <td>0.044394</td>\n",
       "      <td>0.492411</td>\n",
       "      <td>0.463195</td>\n",
       "      <td>2</td>\n",
       "    </tr>\n",
       "    <tr>\n",
       "      <th>221</th>\n",
       "      <td>2</td>\n",
       "      <td>0.076706</td>\n",
       "      <td>0.394208</td>\n",
       "      <td>0.529085</td>\n",
       "      <td>2</td>\n",
       "    </tr>\n",
       "    <tr>\n",
       "      <th>222</th>\n",
       "      <td>2</td>\n",
       "      <td>0.096298</td>\n",
       "      <td>0.419915</td>\n",
       "      <td>0.483787</td>\n",
       "      <td>2</td>\n",
       "    </tr>\n",
       "  </tbody>\n",
       "</table>\n",
       "<p>223 rows × 5 columns</p>\n",
       "</div>"
      ],
      "text/plain": [
       "     predict        p0        p1        p2  actual_time_taken\n",
       "0          1  0.039582  0.518344  0.442075                  1\n",
       "1          2  0.005050  0.145239  0.849711                  2\n",
       "2          2  0.203366  0.324939  0.471695                  2\n",
       "3          2  0.006639  0.146270  0.847091                  2\n",
       "4          2  0.051847  0.260415  0.687738                  0\n",
       "..       ...       ...       ...       ...                ...\n",
       "218        0  0.391002  0.337837  0.271161                  0\n",
       "219        2  0.042319  0.351851  0.605830                  1\n",
       "220        1  0.044394  0.492411  0.463195                  2\n",
       "221        2  0.076706  0.394208  0.529085                  2\n",
       "222        2  0.096298  0.419915  0.483787                  2\n",
       "\n",
       "[223 rows x 5 columns]"
      ]
     },
     "execution_count": 299,
     "metadata": {},
     "output_type": "execute_result"
    }
   ],
   "source": [
    "pd_preds"
   ]
  },
  {
   "cell_type": "code",
   "execution_count": 305,
   "metadata": {},
   "outputs": [
    {
     "name": "stdout",
     "output_type": "stream",
     "text": [
      "\n",
      "Testing Results of the trained model: \n",
      "\n",
      "Accuracy :  0.43946188340807174\n",
      "\n",
      "Confusion Matrix :\n",
      " [[23 13 35]\n",
      " [ 5 15 55]\n",
      " [ 5 12 60]]\n",
      "\n",
      "Classification Report :\n",
      "               precision    recall  f1-score   support\n",
      "\n",
      "           0       0.70      0.32      0.44        71\n",
      "           1       0.38      0.20      0.26        75\n",
      "           2       0.40      0.78      0.53        77\n",
      "\n",
      "    accuracy                           0.44       223\n",
      "   macro avg       0.49      0.43      0.41       223\n",
      "weighted avg       0.49      0.44      0.41       223\n",
      "\n"
     ]
    },
    {
     "data": {
      "text/plain": [
       "<matplotlib.axes._subplots.AxesSubplot at 0x1834ab20a90>"
      ]
     },
     "execution_count": 305,
     "metadata": {},
     "output_type": "execute_result"
    },
    {
     "data": {
      "image/png": "[encoded data removed]",
      "text/plain": [
       "<Figure size 432x288 with 2 Axes>"
      ]
     },
     "metadata": {
      "needs_background": "light"
     },
     "output_type": "display_data"
    }
   ],
   "source": [
    "# For Classification\n",
    "import scikitplot as skplt\n",
    "from sklearn.metrics import accuracy_score, classification_report\n",
    "from sklearn.metrics import cohen_kappa_score, confusion_matrix, f1_score\n",
    "\n",
    "# Predict with the best model.\n",
    "#predicted_y = model.predict(valid[featureColumns])\n",
    "\n",
    "#predicted_data = predicted_y.as_data_frame()\n",
    "#valid_dataset = valid.as_data_frame()\n",
    "\n",
    "# Evaluate the skill of the Trained model\n",
    "acc = accuracy_score(pd_preds['actual_time_taken'], pd_preds['predict'])\n",
    "classReport = classification_report(pd_preds['actual_time_taken'], pd_preds['predict'])\n",
    "confMatrix  = confusion_matrix(pd_preds['actual_time_taken'], pd_preds['predict'])\n",
    "        \n",
    "print(); print('Testing Results of the trained model: ')\n",
    "print(); print('Accuracy : ', acc)\n",
    "print(); print('Confusion Matrix :\\n', confMatrix)\n",
    "print(); print('Classification Report :\\n',classReport)\n",
    "\n",
    "# Confusion matrix\n",
    "skplt.metrics.plot_confusion_matrix(pd_preds['actual_time_taken'], pd_preds['predict'])"
   ]
  },
  {
   "cell_type": "code",
   "execution_count": 301,
   "metadata": {},
   "outputs": [],
   "source": [
    "visualization = pd_preds[pd_preds['predict'] <= 20]\n",
    "visualization = pd_preds[pd_preds['actual_time_taken'] <= 20]\n"
   ]
  },
  {
   "cell_type": "code",
   "execution_count": 302,
   "metadata": {},
   "outputs": [
    {
     "data": {
      "image/png": "[encoded data removed]",
      "text/plain": [
       "<Figure size 1080x1080 with 1 Axes>"
      ]
     },
     "metadata": {
      "needs_background": "light"
     },
     "output_type": "display_data"
    }
   ],
   "source": [
    "plotGraph(visualization['predict'], visualization['actual_time_taken'],'predict','actual_time_taken',' test')"
   ]
  },
  {
   "cell_type": "code",
   "execution_count": 306,
   "metadata": {},
   "outputs": [],
   "source": [
    "# save the model\n",
    "model_path = h2o.save_model(model=model, path=\"models/EffortEstimationModelv3Classification\", force=True)"
   ]
  },
  {
   "cell_type": "markdown",
   "metadata": {},
   "source": [
    "Documentation at the following\n",
    "\n",
    "https://docs.h2o.ai/h2o/latest-stable/h2o-py/docs/_modules/h2o/explanation/_explain.html"
   ]
  },
  {
   "cell_type": "code",
   "execution_count": 161,
   "metadata": {
    "scrolled": true
   },
   "outputs": [
    {
     "data": {
      "text/html": [
       "<h1>Variable Importance</h1>"
      ],
      "text/markdown": [
       "\n",
       "\n",
       "# Variable Importance"
      ],
      "text/plain": [
       "\n",
       "\n",
       "# Variable Importance"
      ]
     },
     "metadata": {},
     "output_type": "display_data"
    },
    {
     "data": {
      "text/html": [
       "<blockquote>The variable importance plot shows the relative importance of the most important variables in the model.</blockquote>"
      ],
      "text/markdown": [
       "\n",
       "> The variable importance plot shows the relative importance of the most important variables in the model."
      ],
      "text/plain": [
       "\n",
       "> The variable importance plot shows the relative importance of the most important variables in the model."
      ]
     },
     "metadata": {},
     "output_type": "display_data"
    },
    {
     "data": {
      "image/png": "[encoded data removed]",
      "text/plain": [
       "<Figure size 1152x648 with 1 Axes>"
      ]
     },
     "metadata": {
      "needs_background": "light"
     },
     "output_type": "display_data"
    },
    {
     "name": "stdout",
     "output_type": "stream",
     "text": [
      "\n",
      "\n"
     ]
    },
    {
     "data": {
      "text/html": [
       "<h1>Variable Importance</h1>"
      ],
      "text/markdown": [
       "\n",
       "\n",
       "# Variable Importance"
      ],
      "text/plain": [
       "\n",
       "\n",
       "# Variable Importance"
      ]
     },
     "metadata": {},
     "output_type": "display_data"
    },
    {
     "data": {
      "text/html": [
       "<blockquote>The variable importance plot shows the relative importance of the most important variables in the model.</blockquote>"
      ],
      "text/markdown": [
       "\n",
       "> The variable importance plot shows the relative importance of the most important variables in the model."
      ],
      "text/plain": [
       "\n",
       "> The variable importance plot shows the relative importance of the most important variables in the model."
      ]
     },
     "metadata": {},
     "output_type": "display_data"
    },
    {
     "data": {
      "image/png": "[encoded data removed]",
      "text/plain": [
       "<Figure size 1152x648 with 1 Axes>"
      ]
     },
     "metadata": {},
     "output_type": "display_data"
    }
   ],
   "source": [
    "aml.explain(test, include_explanations=[\"varimp\",'shap_summary'])"
   ]
  },
  {
   "cell_type": "code",
   "execution_count": 40,
   "metadata": {},
   "outputs": [],
   "source": [
    "## Test calling of model\n",
    "\n",
    "model_path = \"models/EffortEstimationModelv2/SmallWithinADay_23_DeepLearning_grid__3_AutoML_20220213_032636_model_2\"\n",
    "saved_model = h2o.load_model(model_path)"
   ]
  },
  {
   "cell_type": "code",
   "execution_count": 41,
   "metadata": {},
   "outputs": [
    {
     "name": "stdout",
     "output_type": "stream",
     "text": [
      "deeplearning prediction progress: |███████████████████████████████████████| 100%\n"
     ]
    }
   ],
   "source": [
    "preds_read_model = saved_model.predict(test)\n",
    "pd_preds_read_model = preds_read_model.as_data_frame()\n",
    "pd_test = test.as_data_frame()\n",
    "#pd_preds = preds.as_data_frame()\n",
    "pd_preds_read_model['actual_time_taken'] = pd_test['refactoring_perc_time_taken']"
   ]
  },
  {
   "cell_type": "code",
   "execution_count": 42,
   "metadata": {},
   "outputs": [
    {
     "data": {
      "text/html": [
       "<div>\n",
       "<style scoped>\n",
       "    .dataframe tbody tr th:only-of-type {\n",
       "        vertical-align: middle;\n",
       "    }\n",
       "\n",
       "    .dataframe tbody tr th {\n",
       "        vertical-align: top;\n",
       "    }\n",
       "\n",
       "    .dataframe thead th {\n",
       "        text-align: right;\n",
       "    }\n",
       "</style>\n",
       "<table border=\"1\" class=\"dataframe\">\n",
       "  <thead>\n",
       "    <tr style=\"text-align: right;\">\n",
       "      <th></th>\n",
       "      <th>predict</th>\n",
       "      <th>actual_time_taken</th>\n",
       "    </tr>\n",
       "  </thead>\n",
       "  <tbody>\n",
       "    <tr>\n",
       "      <th>0</th>\n",
       "      <td>0.395690</td>\n",
       "      <td>1.097143</td>\n",
       "    </tr>\n",
       "    <tr>\n",
       "      <th>1</th>\n",
       "      <td>0.156619</td>\n",
       "      <td>1.628571</td>\n",
       "    </tr>\n",
       "    <tr>\n",
       "      <th>2</th>\n",
       "      <td>2.908174</td>\n",
       "      <td>7.411236</td>\n",
       "    </tr>\n",
       "    <tr>\n",
       "      <th>3</th>\n",
       "      <td>3.828710</td>\n",
       "      <td>0.268657</td>\n",
       "    </tr>\n",
       "    <tr>\n",
       "      <th>4</th>\n",
       "      <td>1.830154</td>\n",
       "      <td>3.480952</td>\n",
       "    </tr>\n",
       "  </tbody>\n",
       "</table>\n",
       "</div>"
      ],
      "text/plain": [
       "    predict  actual_time_taken\n",
       "0  0.395690           1.097143\n",
       "1  0.156619           1.628571\n",
       "2  2.908174           7.411236\n",
       "3  3.828710           0.268657\n",
       "4  1.830154           3.480952"
      ]
     },
     "execution_count": 42,
     "metadata": {},
     "output_type": "execute_result"
    }
   ],
   "source": [
    "pd_preds_read_model.head()"
   ]
  },
  {
   "cell_type": "code",
   "execution_count": 43,
   "metadata": {},
   "outputs": [
    {
     "data": {
      "text/plain": [
       "<matplotlib.collections.PathCollection at 0x1b25c2755f8>"
      ]
     },
     "execution_count": 43,
     "metadata": {},
     "output_type": "execute_result"
    },
    {
     "data": {
      "image/png": "[encoded data removed]",
      "text/plain": [
       "<Figure size 432x288 with 1 Axes>"
      ]
     },
     "metadata": {
      "needs_background": "light"
     },
     "output_type": "display_data"
    }
   ],
   "source": [
    "import matplotlib.pyplot as plt\n",
    "plt.scatter(pd_preds_read_model['actual_time_taken'], pd_preds_read_model['predict'])"
   ]
  },
  {
   "cell_type": "code",
   "execution_count": null,
   "metadata": {},
   "outputs": [],
   "source": [
    "plotGraph(pd_preds_read_model['predict'], pd_preds_read_model['actual_time_taken'],'predict','actual_time_taken',' test')"
   ]
  },
  {
   "cell_type": "code",
   "execution_count": null,
   "metadata": {
    "scrolled": false
   },
   "outputs": [],
   "source": [
    "#aml.explain_row(test, row_index=0)"
   ]
  },
  {
   "cell_type": "code",
   "execution_count": null,
   "metadata": {},
   "outputs": [],
   "source": [
    "#h2o.shutdown()"
   ]
  },
  {
   "cell_type": "code",
   "execution_count": null,
   "metadata": {},
   "outputs": [],
   "source": []
  },
  {
   "cell_type": "code",
   "execution_count": null,
   "metadata": {},
   "outputs": [],
   "source": []
  }
 ],
 "metadata": {
  "kernelspec": {
   "display_name": "Python 3",
   "language": "python",
   "name": "python3"
  },
  "language_info": {
   "codemirror_mode": {
    "name": "ipython",
    "version": 3
   },
   "file_extension": ".py",
   "mimetype": "text/x-python",
   "name": "python",
   "nbconvert_exporter": "python",
   "pygments_lexer": "ipython3",
   "version": "3.7.3"
  }
 },
 "nbformat": 4,
 "nbformat_minor": 2
}
