{
 "cells": [
  {
   "cell_type": "code",
   "execution_count": 1,
   "metadata": {
    "scrolled": true
   },
   "outputs": [],
   "source": [
    "import json\n",
    "import pandas as pd\n",
    "import numpy as np\n",
    "import networkx as nx\n",
    "#import jellyfish\n",
    "import os\n",
    "import shutil\n",
    "import subprocess\n",
    "import requests\n",
    "from github import Github\n",
    "#from git import Repo\n",
    "from scipy.cluster.hierarchy import dendrogram, linkage\n",
    "from matplotlib import pyplot as plt\n",
    "from sklearn.feature_extraction.text import TfidfVectorizer\n",
    "from sklearn.cluster import KMeans\n",
    "from sklearn.metrics import adjusted_rand_score\n",
    "from sklearn import preprocessing\n",
    "from sklearn.cluster import AgglomerativeClustering\n",
    "from zipfile import ZipFile\n",
    "from filecmp import dircmp\n",
    "import configparser"
   ]
  },
  {
   "cell_type": "code",
   "execution_count": 2,
   "metadata": {
    "scrolled": true
   },
   "outputs": [
    {
     "name": "stdout",
     "output_type": "stream",
     "text": [
      "['github']\n"
     ]
    }
   ],
   "source": [
    "config = configparser.ConfigParser()\n",
    "config.read('authentication.ini')\n",
    "print(config.sections())\n",
    "github_oauth = config['github']['api_key']"
   ]
  },
  {
   "cell_type": "code",
   "execution_count": 10,
   "metadata": {
    "scrolled": true
   },
   "outputs": [],
   "source": [
    "project_releases = pd.read_csv('volatile_projects_complete_links_limit10.csv')"
   ]
  },
  {
   "cell_type": "code",
   "execution_count": 11,
   "metadata": {
    "scrolled": true
   },
   "outputs": [
    {
     "data": {
      "text/html": [
       "<div>\n",
       "<style scoped>\n",
       "    .dataframe tbody tr th:only-of-type {\n",
       "        vertical-align: middle;\n",
       "    }\n",
       "\n",
       "    .dataframe tbody tr th {\n",
       "        vertical-align: top;\n",
       "    }\n",
       "\n",
       "    .dataframe thead th {\n",
       "        text-align: right;\n",
       "    }\n",
       "</style>\n",
       "<table border=\"1\" class=\"dataframe\">\n",
       "  <thead>\n",
       "    <tr style=\"text-align: right;\">\n",
       "      <th></th>\n",
       "      <th>project_name</th>\n",
       "      <th>project_link</th>\n",
       "      <th>version_name</th>\n",
       "      <th>commit</th>\n",
       "      <th>timestamp</th>\n",
       "    </tr>\n",
       "  </thead>\n",
       "  <tbody>\n",
       "    <tr>\n",
       "      <th>0</th>\n",
       "      <td>Hive</td>\n",
       "      <td>https://github.com/apache/hive</td>\n",
       "      <td>release-2.0.1</td>\n",
       "      <td>Commit(sha=\"e3cfeebcefe9a19c5055afdcbb00646908...</td>\n",
       "      <td>4/5/2016 4:02</td>\n",
       "    </tr>\n",
       "    <tr>\n",
       "      <th>1</th>\n",
       "      <td>Hive</td>\n",
       "      <td>https://github.com/apache/hive</td>\n",
       "      <td>release-2.0.0</td>\n",
       "      <td>Commit(sha=\"7f9f1fcb8697fb33f0edc2c391930a3728...</td>\n",
       "      <td>10/2/2016 1:53</td>\n",
       "    </tr>\n",
       "    <tr>\n",
       "      <th>2</th>\n",
       "      <td>Hive</td>\n",
       "      <td>https://github.com/apache/hive</td>\n",
       "      <td>release-1.2.1</td>\n",
       "      <td>Commit(sha=\"243e7c1ac39cb7ac8b65c5bc6988f5cc31...</td>\n",
       "      <td>19/6/2015 8:49</td>\n",
       "    </tr>\n",
       "    <tr>\n",
       "      <th>3</th>\n",
       "      <td>Hive</td>\n",
       "      <td>https://github.com/apache/hive</td>\n",
       "      <td>release-1.2.0</td>\n",
       "      <td>Commit(sha=\"7f237de447bcd726bb3d0ba332cbb733f3...</td>\n",
       "      <td>15/5/2015 0:59</td>\n",
       "    </tr>\n",
       "    <tr>\n",
       "      <th>4</th>\n",
       "      <td>Hive</td>\n",
       "      <td>https://github.com/apache/hive</td>\n",
       "      <td>release-1.1.1</td>\n",
       "      <td>Commit(sha=\"3e8d832a1a8e2b12029adcb55862cf0400...</td>\n",
       "      <td>14/5/2015 22:09</td>\n",
       "    </tr>\n",
       "  </tbody>\n",
       "</table>\n",
       "</div>"
      ],
      "text/plain": [
       "  project_name                    project_link   version_name  \\\n",
       "0         Hive  https://github.com/apache/hive  release-2.0.1   \n",
       "1         Hive  https://github.com/apache/hive  release-2.0.0   \n",
       "2         Hive  https://github.com/apache/hive  release-1.2.1   \n",
       "3         Hive  https://github.com/apache/hive  release-1.2.0   \n",
       "4         Hive  https://github.com/apache/hive  release-1.1.1   \n",
       "\n",
       "                                              commit        timestamp  \n",
       "0  Commit(sha=\"e3cfeebcefe9a19c5055afdcbb00646908...    4/5/2016 4:02  \n",
       "1  Commit(sha=\"7f9f1fcb8697fb33f0edc2c391930a3728...   10/2/2016 1:53  \n",
       "2  Commit(sha=\"243e7c1ac39cb7ac8b65c5bc6988f5cc31...   19/6/2015 8:49  \n",
       "3  Commit(sha=\"7f237de447bcd726bb3d0ba332cbb733f3...   15/5/2015 0:59  \n",
       "4  Commit(sha=\"3e8d832a1a8e2b12029adcb55862cf0400...  14/5/2015 22:09  "
      ]
     },
     "execution_count": 11,
     "metadata": {},
     "output_type": "execute_result"
    }
   ],
   "source": [
    "project_releases.head()"
   ]
  },
  {
   "cell_type": "code",
   "execution_count": 12,
   "metadata": {
    "scrolled": true
   },
   "outputs": [],
   "source": [
    "#project_releases = project_releases[project_releases['project_name'] == 'Okhttp'].head()"
   ]
  },
  {
   "cell_type": "code",
   "execution_count": 13,
   "metadata": {
    "scrolled": true
   },
   "outputs": [
    {
     "data": {
      "text/html": [
       "<div>\n",
       "<style scoped>\n",
       "    .dataframe tbody tr th:only-of-type {\n",
       "        vertical-align: middle;\n",
       "    }\n",
       "\n",
       "    .dataframe tbody tr th {\n",
       "        vertical-align: top;\n",
       "    }\n",
       "\n",
       "    .dataframe thead th {\n",
       "        text-align: right;\n",
       "    }\n",
       "</style>\n",
       "<table border=\"1\" class=\"dataframe\">\n",
       "  <thead>\n",
       "    <tr style=\"text-align: right;\">\n",
       "      <th></th>\n",
       "      <th>project_name</th>\n",
       "      <th>project_link</th>\n",
       "      <th>version_name</th>\n",
       "      <th>commit</th>\n",
       "      <th>timestamp</th>\n",
       "    </tr>\n",
       "  </thead>\n",
       "  <tbody>\n",
       "    <tr>\n",
       "      <th>0</th>\n",
       "      <td>Hive</td>\n",
       "      <td>https://github.com/apache/hive</td>\n",
       "      <td>release-2.0.1</td>\n",
       "      <td>Commit(sha=\"e3cfeebcefe9a19c5055afdcbb00646908...</td>\n",
       "      <td>4/5/2016 4:02</td>\n",
       "    </tr>\n",
       "    <tr>\n",
       "      <th>1</th>\n",
       "      <td>Hive</td>\n",
       "      <td>https://github.com/apache/hive</td>\n",
       "      <td>release-2.0.0</td>\n",
       "      <td>Commit(sha=\"7f9f1fcb8697fb33f0edc2c391930a3728...</td>\n",
       "      <td>10/2/2016 1:53</td>\n",
       "    </tr>\n",
       "    <tr>\n",
       "      <th>2</th>\n",
       "      <td>Hive</td>\n",
       "      <td>https://github.com/apache/hive</td>\n",
       "      <td>release-1.2.1</td>\n",
       "      <td>Commit(sha=\"243e7c1ac39cb7ac8b65c5bc6988f5cc31...</td>\n",
       "      <td>19/6/2015 8:49</td>\n",
       "    </tr>\n",
       "    <tr>\n",
       "      <th>3</th>\n",
       "      <td>Hive</td>\n",
       "      <td>https://github.com/apache/hive</td>\n",
       "      <td>release-1.2.0</td>\n",
       "      <td>Commit(sha=\"7f237de447bcd726bb3d0ba332cbb733f3...</td>\n",
       "      <td>15/5/2015 0:59</td>\n",
       "    </tr>\n",
       "    <tr>\n",
       "      <th>4</th>\n",
       "      <td>Hive</td>\n",
       "      <td>https://github.com/apache/hive</td>\n",
       "      <td>release-1.1.1</td>\n",
       "      <td>Commit(sha=\"3e8d832a1a8e2b12029adcb55862cf0400...</td>\n",
       "      <td>14/5/2015 22:09</td>\n",
       "    </tr>\n",
       "    <tr>\n",
       "      <th>5</th>\n",
       "      <td>Hive</td>\n",
       "      <td>https://github.com/apache/hive</td>\n",
       "      <td>release-1.1.0</td>\n",
       "      <td>Commit(sha=\"e60744d017ef79f1b17f474c0b969d4ca5...</td>\n",
       "      <td>9/3/2015 2:37</td>\n",
       "    </tr>\n",
       "    <tr>\n",
       "      <th>6</th>\n",
       "      <td>Hive</td>\n",
       "      <td>https://github.com/apache/hive</td>\n",
       "      <td>release-1.0.1</td>\n",
       "      <td>Commit(sha=\"73b600dc79ba8a9a32078a2ea0eb8ae3df...</td>\n",
       "      <td>14/5/2015 21:54</td>\n",
       "    </tr>\n",
       "    <tr>\n",
       "      <th>7</th>\n",
       "      <td>Hive</td>\n",
       "      <td>https://github.com/apache/hive</td>\n",
       "      <td>release-1.0.0</td>\n",
       "      <td>Commit(sha=\"697aecadc3ba62bc11f3ba0a6c8522daee...</td>\n",
       "      <td>3/2/2015 20:35</td>\n",
       "    </tr>\n",
       "    <tr>\n",
       "      <th>8</th>\n",
       "      <td>Hive</td>\n",
       "      <td>https://github.com/apache/hive</td>\n",
       "      <td>release-0.14.0</td>\n",
       "      <td>Commit(sha=\"70eea944afaf5f64b8939b2b3a0d8fdd33...</td>\n",
       "      <td>12/11/2014 20:35</td>\n",
       "    </tr>\n",
       "    <tr>\n",
       "      <th>9</th>\n",
       "      <td>Hive</td>\n",
       "      <td>https://github.com/apache/hive</td>\n",
       "      <td>release-0.13.1</td>\n",
       "      <td>Commit(sha=\"89bb2e8c34386b43efa37ecc6918a50c4b...</td>\n",
       "      <td>5/6/2014 21:03</td>\n",
       "    </tr>\n",
       "    <tr>\n",
       "      <th>10</th>\n",
       "      <td>Hive</td>\n",
       "      <td>https://github.com/apache/hive</td>\n",
       "      <td>release-0.13.0</td>\n",
       "      <td>Commit(sha=\"d0fe5f1b3ac361f747b12f9137322367da...</td>\n",
       "      <td>19/4/2014 0:44</td>\n",
       "    </tr>\n",
       "    <tr>\n",
       "      <th>11</th>\n",
       "      <td>Hive</td>\n",
       "      <td>https://github.com/apache/hive</td>\n",
       "      <td>release-0.12.0</td>\n",
       "      <td>Commit(sha=\"b77a6caafbba087bea617e87b566b5b55f...</td>\n",
       "      <td>14/10/2013 20:40</td>\n",
       "    </tr>\n",
       "    <tr>\n",
       "      <th>12</th>\n",
       "      <td>Dbeaver</td>\n",
       "      <td>https://github.com/dbeaver/dbeaver</td>\n",
       "      <td>21.1.4</td>\n",
       "      <td>Commit(sha=\"113a0a672f277a6e8181757a0c54f92d42...</td>\n",
       "      <td>29/7/2021 11:08</td>\n",
       "    </tr>\n",
       "    <tr>\n",
       "      <th>13</th>\n",
       "      <td>Dbeaver</td>\n",
       "      <td>https://github.com/dbeaver/dbeaver</td>\n",
       "      <td>21.1.3</td>\n",
       "      <td>Commit(sha=\"4430459a3fe06c6140aa40b71ddc41ddf8...</td>\n",
       "      <td>15/7/2021 8:06</td>\n",
       "    </tr>\n",
       "    <tr>\n",
       "      <th>14</th>\n",
       "      <td>Dbeaver</td>\n",
       "      <td>https://github.com/dbeaver/dbeaver</td>\n",
       "      <td>21.1.2</td>\n",
       "      <td>Commit(sha=\"b0693d44048a9c50e750b6df69cfe83fcb...</td>\n",
       "      <td>2/7/2021 13:34</td>\n",
       "    </tr>\n",
       "  </tbody>\n",
       "</table>\n",
       "</div>"
      ],
      "text/plain": [
       "   project_name                        project_link    version_name  \\\n",
       "0          Hive      https://github.com/apache/hive   release-2.0.1   \n",
       "1          Hive      https://github.com/apache/hive   release-2.0.0   \n",
       "2          Hive      https://github.com/apache/hive   release-1.2.1   \n",
       "3          Hive      https://github.com/apache/hive   release-1.2.0   \n",
       "4          Hive      https://github.com/apache/hive   release-1.1.1   \n",
       "5          Hive      https://github.com/apache/hive   release-1.1.0   \n",
       "6          Hive      https://github.com/apache/hive   release-1.0.1   \n",
       "7          Hive      https://github.com/apache/hive   release-1.0.0   \n",
       "8          Hive      https://github.com/apache/hive  release-0.14.0   \n",
       "9          Hive      https://github.com/apache/hive  release-0.13.1   \n",
       "10         Hive      https://github.com/apache/hive  release-0.13.0   \n",
       "11         Hive      https://github.com/apache/hive  release-0.12.0   \n",
       "12      Dbeaver  https://github.com/dbeaver/dbeaver          21.1.4   \n",
       "13      Dbeaver  https://github.com/dbeaver/dbeaver          21.1.3   \n",
       "14      Dbeaver  https://github.com/dbeaver/dbeaver          21.1.2   \n",
       "\n",
       "                                               commit         timestamp  \n",
       "0   Commit(sha=\"e3cfeebcefe9a19c5055afdcbb00646908...     4/5/2016 4:02  \n",
       "1   Commit(sha=\"7f9f1fcb8697fb33f0edc2c391930a3728...    10/2/2016 1:53  \n",
       "2   Commit(sha=\"243e7c1ac39cb7ac8b65c5bc6988f5cc31...    19/6/2015 8:49  \n",
       "3   Commit(sha=\"7f237de447bcd726bb3d0ba332cbb733f3...    15/5/2015 0:59  \n",
       "4   Commit(sha=\"3e8d832a1a8e2b12029adcb55862cf0400...   14/5/2015 22:09  \n",
       "5   Commit(sha=\"e60744d017ef79f1b17f474c0b969d4ca5...     9/3/2015 2:37  \n",
       "6   Commit(sha=\"73b600dc79ba8a9a32078a2ea0eb8ae3df...   14/5/2015 21:54  \n",
       "7   Commit(sha=\"697aecadc3ba62bc11f3ba0a6c8522daee...    3/2/2015 20:35  \n",
       "8   Commit(sha=\"70eea944afaf5f64b8939b2b3a0d8fdd33...  12/11/2014 20:35  \n",
       "9   Commit(sha=\"89bb2e8c34386b43efa37ecc6918a50c4b...    5/6/2014 21:03  \n",
       "10  Commit(sha=\"d0fe5f1b3ac361f747b12f9137322367da...    19/4/2014 0:44  \n",
       "11  Commit(sha=\"b77a6caafbba087bea617e87b566b5b55f...  14/10/2013 20:40  \n",
       "12  Commit(sha=\"113a0a672f277a6e8181757a0c54f92d42...   29/7/2021 11:08  \n",
       "13  Commit(sha=\"4430459a3fe06c6140aa40b71ddc41ddf8...    15/7/2021 8:06  \n",
       "14  Commit(sha=\"b0693d44048a9c50e750b6df69cfe83fcb...    2/7/2021 13:34  "
      ]
     },
     "execution_count": 13,
     "metadata": {},
     "output_type": "execute_result"
    }
   ],
   "source": [
    "project_releases.head(15)"
   ]
  },
  {
   "cell_type": "code",
   "execution_count": null,
   "metadata": {
    "scrolled": true
   },
   "outputs": [],
   "source": [
    "finished_project_arr = []\n",
    "with open('finished_projects.txt','r') as finished_project:\n",
    "    for line in finished_project:\n",
    "        finished_project_arr.append(line.split('\\n')[0])\n",
    "    finished_project.close()\n",
    "    \n",
    "for project_name in project_releases['project_name'].unique():\n",
    "    if project_name not in finished_project_arr:\n",
    "        current_project = pd.DataFrame(project_releases[project_releases['project_name'] == project_name])\n",
    "        current_project['rank'] = current_project['timestamp'].rank()\n",
    "        current_project = current_project.sort_values(by=['rank'], ascending=False)\n",
    "        current_project['previous_version'] = current_project['version_name'].shift(-1)\n",
    "        current_project['previous_version_timestamp'] = current_project['timestamp'].shift(-1)\n",
    "        current_project['previous_version_timestamp'].fillna(current_project['timestamp'], inplace=True)\n",
    "        current_project['timestamp']= pd.to_datetime(current_project['timestamp'])\n",
    "        current_project['previous_version_timestamp']= pd.to_datetime(current_project['previous_version_timestamp'])\n",
    "        current_project['timestamp_diff'] = current_project['timestamp'] - current_project['previous_version_timestamp']\n",
    "        current_project['timestamp_diff_hours'] = current_project['timestamp_diff'].astype('timedelta64[h]')\n",
    "        current_project.tail()\n",
    "        \n",
    "        \n",
    "        ### Download dataset\n",
    "        try:\n",
    "            os.mkdir('raw_sourcecode/' + project_name)\n",
    "        except:\n",
    "            pass\n",
    "        for row in current_project.iterrows():\n",
    "            command = 'cd E:/SoftwareRemodularization/raw_sourcecode/' + project_name +' & mkdir ' + project_name + '_' +row[1]['version_name']\n",
    "\n",
    "            #print(command)\n",
    "            os.system(command)\n",
    "\n",
    "            command = 'git clone ' + row[1]['project_link'] +  ' E:/SoftwareRemodularization/raw_sourcecode/' + project_name + '/' + project_name + '_' + row[1]['version_name']\n",
    "\n",
    "            #print(command)\n",
    "            os.system(command)\n",
    "            commit = row[1]['commit'].replace('Commit(sha=\"','')\n",
    "            commit = commit.replace('\")','')\n",
    "            command = 'cd E:/SoftwareRemodularization/raw_sourcecode/' + project_name + '/' + project_name +'_' + row[1]['version_name'] + ' & git checkout ' + commit\n",
    "            #print(command)\n",
    "            os.system(command)\n",
    "        \n",
    "        try:\n",
    "            os.mkdir('raw_depends/' + project_name)\n",
    "        except:\n",
    "            pass\n",
    "        for row in current_project.iterrows():\n",
    "            #command = 'cd E:/SoftwareRemodularization/raw_depends/' + project_name +' & mkdir ' + project_name + '_' +row[1]['version_name']\n",
    "            #os.system(command)\n",
    "            #print(command)\n",
    "            command = 'cd E:/SoftwareRemodularization/depends-0.9.2 & ' + 'java -jar depends.jar java E:/SoftwareRemodularization/raw_sourcecode/'  + project_name + '/' + project_name + '_' + row[1]['version_name']+  ' ../raw_depends/' + project_name + \"/\" + project_name + '_' + row[1]['version_name'] \n",
    "            #print(command)\n",
    "            os.system(command)\n",
    "\n",
    "        first_tag = current_project.head(1)['version_name'].values[0]\n",
    "        last_tag= current_project.tail(1)['version_name'].values[0]\n",
    "\n",
    "        #print(first_tag)\n",
    "        #print(last_tag)\n",
    "\n",
    "        try:\n",
    "            os.mkdir('raw_refactoringMiner/' + project_name)\n",
    "        except:\n",
    "            pass\n",
    "        \n",
    "        try:\n",
    "            for row in current_project.iterrows():\n",
    "                #command = 'cd E:/SoftwareRemodularization/raw_depends/' + project_name +' & mkdir ' + project_name + '_' +row[1]['version_name']\n",
    "                #os.system(command)\n",
    "                #print(command)\n",
    "                command = 'cd E:/SoftwareRemodularization/RefactoringMiner-2.1.0/bin & ' + 'RefactoringMiner -bt E:/SoftwareRemodularization/raw_sourcecode/'  + project_name + '/' + project_name + '_' + row[1]['version_name'] + ' ' + row[1]['previous_version'] + ' ' + row[1]['version_name'] + ' -json ' + 'E:/SoftwareRemodularization/raw_refactoringMiner/' +project_name + '/'+ project_name + '_' + row[1]['version_name'] + '.json'\n",
    "                print(command)\n",
    "                os.system(command)\n",
    "        except:\n",
    "            pass\n",
    "       \n",
    "        \n",
    "        main_data_arr = []\n",
    "        \n",
    "        for row in current_project.iterrows():\n",
    "            try:\n",
    "                refactoring_miner_filename = f'raw_refactoringMiner/{project_name}/' + project_name + '_' + row[1]['version_name'] + '.json'\n",
    "                depends_filename = f'raw_depends/{project_name}/' + project_name + '_' + row[1]['version_name'] + '.json'\n",
    "                latest_commit = row[1]['commit'].replace('Commit(sha=\"','')\n",
    "                latest_commit = latest_commit.replace('\")','')\n",
    "                print(latest_commit)\n",
    "                print(refactoring_miner_filename)\n",
    "\n",
    "                print(depends_filename)\n",
    "                with open(depends_filename) as f:\n",
    "                    depends_results = json.load(f)\n",
    "                    index  = 0\n",
    "                    file_dict = {}\n",
    "                    for value in depends_results['variables']:\n",
    "                        file_path = value.replace('\\\\','/')\n",
    "                        string = f\"E:/SoftwareRemodularization/raw_sourcecode/{project_name}/{project_name}_{row[1]['version_name']}/\"\n",
    "                        #print(string)\n",
    "                        file_path = file_path.replace(string, '')\n",
    "                        #var_array.append([index, value.replace('\\\\','/')])\n",
    "                        #var_array.append([index,file_path])\n",
    "                        file_dict[file_path] = index\n",
    "                        #var_array.append(file_path)\n",
    "                        #var_array.append([index, value.split('\\\\')[-1]])\n",
    "                        #print(index, value)\n",
    "                        index += 1\n",
    "\n",
    "                    #var_df = pd.DataFrame(var_array)\n",
    "                    #var_df.columns = ['index_val', 'name']\n",
    "                    #var_df = var_df.set_index('name')\n",
    "\n",
    "                    feature_list = {}\n",
    "                    feature_index = 2\n",
    "                    for element in depends_results['cells']:\n",
    "                        #print(element)\n",
    "                        try:\n",
    "                            for a in element['values']:\n",
    "                                if a not in feature_list:\n",
    "                                    feature_list[a] = feature_index\n",
    "                                    feature_index += 1\n",
    "                                #print(a['Call'])\n",
    "\n",
    "\n",
    "                        except:\n",
    "                            pass\n",
    "\n",
    "                    feature_arr = []\n",
    "                    for element in depends_results['cells']:\n",
    "                        #print(array)\n",
    "                        array = [0] * (len(feature_list) + 2)\n",
    "                        values = dict(element['values'])\n",
    "                        #print(element)\n",
    "                        array[0] = element['src']\n",
    "                        array[1] = element['dest']\n",
    "                        for feature in feature_list:\n",
    "                            try:\n",
    "                                value = values[feature]\n",
    "                                array[feature_list[feature]] = value\n",
    "                            except:\n",
    "                                pass\n",
    "                        #print(array)\n",
    "                        feature_arr.append(array)\n",
    "\n",
    "                    feature_df = pd.DataFrame(feature_arr)\n",
    "                    col_names = ['src', 'dest']\n",
    "                    for element in feature_list:\n",
    "                        col_names.append(element)\n",
    "                    feature_df.columns = col_names\n",
    "\n",
    "                    feature_df['sum'] = feature_df.sum(axis=1) - feature_df['src'] - feature_df['dest']\n",
    "\n",
    "                G = nx.Graph()\n",
    "                for index, row in feature_df.iterrows():\n",
    "                    G.add_edge(row['src'], row['dest'], weight=row['sum'])\n",
    "\n",
    "                sum_dependency_df = nx.to_pandas_adjacency(G)\n",
    "                sum_dependency_df['sum'] = sum_dependency_df.sum(axis=1)\n",
    "                #sum_dependency_df\n",
    "                final_dependency_df = sum_dependency_df['sum']\n",
    "\n",
    "                try:\n",
    "                    with open(refactoring_miner_filename) as f:\n",
    "                        print(refactoring_miner_filename, 'stuck here')\n",
    "                        refactoring_miner = json.load(f)\n",
    "\n",
    "                        for i in refactoring_miner['commits']:\n",
    "\n",
    "                            if len(i['refactorings']) != 0:\n",
    "                                commit_compared_with = i['sha1']\n",
    "                                file_arr = []\n",
    "                                num_line_affected = 0\n",
    "                                num_dependency = 0\n",
    "                                actual_num_of_classes_touched = 0\n",
    "                                for refactor in i['refactorings']:\n",
    "                                    #print(refactor)\n",
    "                                    for file in refactor['rightSideLocations']:\n",
    "\n",
    "                                        #file_arr.append(file['filePath'])\n",
    "                                        #print(file['filePath'], 'here')\n",
    "                                        #print(file_dict[file['filePath']])\n",
    "                                        actual_num_of_classes_touched += 1\n",
    "                                        try:\n",
    "                                            num_dependency += final_dependency_df.iloc[file_dict[file['filePath']]]\n",
    "                                            num_line_affected += file['endLine'] - file['startLine']\n",
    "                                        except:\n",
    "                                            pass\n",
    "\n",
    "                                    for file in refactor['leftSideLocations']:\n",
    "\n",
    "                                        #file_arr.append(file['filePath'])\n",
    "                                        #print(file['filePath'], 'here')\n",
    "                                        #print(file_dict[file['filePath']])\n",
    "                                        #actual_num_of_classes_touched += 1\n",
    "                                        try:\n",
    "                                            num_dependency += final_dependency_df.iloc[file_dict[file['filePath']]]\n",
    "                                            num_line_affected += file['endLine'] - file['startLine']\n",
    "                                        except:\n",
    "                                            pass\n",
    "\n",
    "                                if num_dependency != 0 and num_line_affected != 0:\n",
    "                                    print('added to main_data_arr')\n",
    "                                    main_data_arr.append([latest_commit, commit_compared_with, num_dependency, num_line_affected, actual_num_of_classes_touched])\n",
    "                \n",
    "                except Exception as e:\n",
    "                    print(e)\n",
    "\n",
    "            except Exception as e:\n",
    "                print(e)\n",
    "\n",
    "        effort_data_df = pd.DataFrame(main_data_arr)\n",
    "        effort_data_df.columns = ['latest_commit', 'commit_compared_with', 'num_dependency', 'num_line_affected', 'actual_num_of_classes_touched']\n",
    "\n",
    "        latest_commit_arr = []\n",
    "        commit_compared_with_arr = []\n",
    "        \n",
    "        g = Github(github_oauth, timeout=3000)\n",
    "        repo = g.get_repo(current_project.iloc[0]['project_link'].replace('https://github.com/',''))\n",
    "        \n",
    "        for row in effort_data_df.iterrows():\n",
    "            sha = row[1]['latest_commit']\n",
    "            commit = repo.get_commit(sha=sha)\n",
    "            print(commit)\n",
    "            date = commit.commit.author.date\n",
    "            print(date)\n",
    "            latest_commit_arr.append(date)\n",
    "\n",
    "            sha = row[1]['commit_compared_with']\n",
    "            commit = repo.get_commit(sha=sha)\n",
    "            date = commit.commit.author.date\n",
    "            commit_compared_with_arr.append(date)\n",
    "\n",
    "        effort_data_df['latest_commit_date'] = latest_commit_arr\n",
    "        effort_data_df['commit_compared_with_date'] = commit_compared_with_arr\n",
    "\n",
    "        effort_data_df.to_csv('Effort_Estimation_Results/'+ project_name + '.csv', index=False)\n",
    "        \n",
    "        \n",
    "        with open('finished_projects.txt','a+') as finished_project:\n",
    "            finished_project.write(project_name + '\\n')\n",
    "            finished_project.close()"
   ]
  },
  {
   "cell_type": "code",
   "execution_count": 32,
   "metadata": {
    "scrolled": true
   },
   "outputs": [
    {
     "data": {
      "text/html": [
       "<div>\n",
       "<style scoped>\n",
       "    .dataframe tbody tr th:only-of-type {\n",
       "        vertical-align: middle;\n",
       "    }\n",
       "\n",
       "    .dataframe tbody tr th {\n",
       "        vertical-align: top;\n",
       "    }\n",
       "\n",
       "    .dataframe thead th {\n",
       "        text-align: right;\n",
       "    }\n",
       "</style>\n",
       "<table border=\"1\" class=\"dataframe\">\n",
       "  <thead>\n",
       "    <tr style=\"text-align: right;\">\n",
       "      <th></th>\n",
       "    </tr>\n",
       "  </thead>\n",
       "  <tbody>\n",
       "  </tbody>\n",
       "</table>\n",
       "</div>"
      ],
      "text/plain": [
       "Empty DataFrame\n",
       "Columns: []\n",
       "Index: []"
      ]
     },
     "execution_count": 32,
     "metadata": {},
     "output_type": "execute_result"
    }
   ],
   "source": [
    "num_dependency += final_dependency_df[file_dict[file['filePath']]]"
   ]
  },
  {
   "cell_type": "code",
   "execution_count": 50,
   "metadata": {
    "scrolled": true
   },
   "outputs": [
    {
     "data": {
      "text/plain": [
       "[]"
      ]
     },
     "execution_count": 50,
     "metadata": {},
     "output_type": "execute_result"
    }
   ],
   "source": [
    "main_data_arr"
   ]
  },
  {
   "cell_type": "code",
   "execution_count": 38,
   "metadata": {
    "scrolled": true
   },
   "outputs": [
    {
     "data": {
      "text/plain": [
       "1"
      ]
     },
     "execution_count": 38,
     "metadata": {},
     "output_type": "execute_result"
    }
   ],
   "source": [
    "file_dict[file['filePath']]"
   ]
  },
  {
   "cell_type": "code",
   "execution_count": 45,
   "metadata": {
    "scrolled": true
   },
   "outputs": [
    {
     "data": {
      "text/plain": [
       "157.0      4.0\n",
       "155.0      4.0\n",
       "30.0     321.0\n",
       "41.0       9.0\n",
       "51.0      86.0\n",
       "         ...  \n",
       "99.0       4.0\n",
       "83.0      16.0\n",
       "71.0      18.0\n",
       "72.0      18.0\n",
       "75.0      29.0\n",
       "Name: sum, Length: 68, dtype: float64"
      ]
     },
     "execution_count": 45,
     "metadata": {},
     "output_type": "execute_result"
    }
   ],
   "source": [
    "final_dependency_df"
   ]
  },
  {
   "cell_type": "code",
   "execution_count": 44,
   "metadata": {
    "scrolled": true
   },
   "outputs": [
    {
     "data": {
      "text/plain": [
       "4.0"
      ]
     },
     "execution_count": 44,
     "metadata": {},
     "output_type": "execute_result"
    }
   ],
   "source": [
    "final_dependency_df.iloc[1]"
   ]
  },
  {
   "cell_type": "code",
   "execution_count": 46,
   "metadata": {
    "scrolled": true
   },
   "outputs": [
    {
     "data": {
      "text/plain": [
       "4.0"
      ]
     },
     "execution_count": 46,
     "metadata": {},
     "output_type": "execute_result"
    }
   ],
   "source": [
    "final_dependency_df.iloc[file_dict[file['filePath']]]"
   ]
  },
  {
   "cell_type": "code",
   "execution_count": 16,
   "metadata": {
    "scrolled": true
   },
   "outputs": [
    {
     "data": {
      "text/html": [
       "<div>\n",
       "<style scoped>\n",
       "    .dataframe tbody tr th:only-of-type {\n",
       "        vertical-align: middle;\n",
       "    }\n",
       "\n",
       "    .dataframe tbody tr th {\n",
       "        vertical-align: top;\n",
       "    }\n",
       "\n",
       "    .dataframe thead th {\n",
       "        text-align: right;\n",
       "    }\n",
       "</style>\n",
       "<table border=\"1\" class=\"dataframe\">\n",
       "  <thead>\n",
       "    <tr style=\"text-align: right;\">\n",
       "      <th></th>\n",
       "      <th>project_name</th>\n",
       "      <th>project_link</th>\n",
       "      <th>version_name</th>\n",
       "      <th>commit</th>\n",
       "      <th>timestamp</th>\n",
       "      <th>rank</th>\n",
       "      <th>previous_version</th>\n",
       "      <th>previous_version_timestamp</th>\n",
       "      <th>timestamp_diff</th>\n",
       "      <th>timestamp_diff_hours</th>\n",
       "    </tr>\n",
       "  </thead>\n",
       "  <tbody>\n",
       "    <tr>\n",
       "      <th>897</th>\n",
       "      <td>Okhttp</td>\n",
       "      <td>https://github.com/square/okhttp</td>\n",
       "      <td>parent-5.0.0-alpha.2</td>\n",
       "      <td>Commit(sha=\"b84627ef4bc43f2096c1b764720f9ff238...</td>\n",
       "      <td>2021-01-30 19:44:19</td>\n",
       "      <td>5.0</td>\n",
       "      <td>parent-5.0.0-alpha.1</td>\n",
       "      <td>2021-01-30 18:36:37</td>\n",
       "      <td>0 days 01:07:42</td>\n",
       "      <td>1.0</td>\n",
       "    </tr>\n",
       "    <tr>\n",
       "      <th>898</th>\n",
       "      <td>Okhttp</td>\n",
       "      <td>https://github.com/square/okhttp</td>\n",
       "      <td>parent-5.0.0-alpha.1</td>\n",
       "      <td>Commit(sha=\"79d2a8d192d007b8acb2423d3ab6bba3a4...</td>\n",
       "      <td>2021-01-30 18:36:37</td>\n",
       "      <td>4.0</td>\n",
       "      <td>parent-4.9.1</td>\n",
       "      <td>2021-01-30 18:09:57</td>\n",
       "      <td>0 days 00:26:40</td>\n",
       "      <td>0.0</td>\n",
       "    </tr>\n",
       "    <tr>\n",
       "      <th>900</th>\n",
       "      <td>Okhttp</td>\n",
       "      <td>https://github.com/square/okhttp</td>\n",
       "      <td>parent-4.9.1</td>\n",
       "      <td>Commit(sha=\"63dcd95bfa2345bb3f3d4abc6b6dbf36cf...</td>\n",
       "      <td>2021-01-30 18:09:57</td>\n",
       "      <td>3.0</td>\n",
       "      <td>parent-4.10.0-RC1</td>\n",
       "      <td>2020-10-07 03:28:26</td>\n",
       "      <td>115 days 14:41:31</td>\n",
       "      <td>2774.0</td>\n",
       "    </tr>\n",
       "    <tr>\n",
       "      <th>899</th>\n",
       "      <td>Okhttp</td>\n",
       "      <td>https://github.com/square/okhttp</td>\n",
       "      <td>parent-4.10.0-RC1</td>\n",
       "      <td>Commit(sha=\"4fd1e8f99833eebdd2e99f3456322aa197...</td>\n",
       "      <td>2020-10-07 03:28:26</td>\n",
       "      <td>2.0</td>\n",
       "      <td>parent-4.9.0</td>\n",
       "      <td>2020-09-11 21:08:20</td>\n",
       "      <td>25 days 06:20:06</td>\n",
       "      <td>606.0</td>\n",
       "    </tr>\n",
       "    <tr>\n",
       "      <th>901</th>\n",
       "      <td>Okhttp</td>\n",
       "      <td>https://github.com/square/okhttp</td>\n",
       "      <td>parent-4.9.0</td>\n",
       "      <td>Commit(sha=\"cbeaf8f955fff9caa5652ccc6c1393ec8b...</td>\n",
       "      <td>2020-09-11 21:08:20</td>\n",
       "      <td>1.0</td>\n",
       "      <td>NaN</td>\n",
       "      <td>2020-09-11 21:08:20</td>\n",
       "      <td>0 days 00:00:00</td>\n",
       "      <td>0.0</td>\n",
       "    </tr>\n",
       "  </tbody>\n",
       "</table>\n",
       "</div>"
      ],
      "text/plain": [
       "    project_name                      project_link          version_name  \\\n",
       "897       Okhttp  https://github.com/square/okhttp  parent-5.0.0-alpha.2   \n",
       "898       Okhttp  https://github.com/square/okhttp  parent-5.0.0-alpha.1   \n",
       "900       Okhttp  https://github.com/square/okhttp          parent-4.9.1   \n",
       "899       Okhttp  https://github.com/square/okhttp     parent-4.10.0-RC1   \n",
       "901       Okhttp  https://github.com/square/okhttp          parent-4.9.0   \n",
       "\n",
       "                                                commit           timestamp  \\\n",
       "897  Commit(sha=\"b84627ef4bc43f2096c1b764720f9ff238... 2021-01-30 19:44:19   \n",
       "898  Commit(sha=\"79d2a8d192d007b8acb2423d3ab6bba3a4... 2021-01-30 18:36:37   \n",
       "900  Commit(sha=\"63dcd95bfa2345bb3f3d4abc6b6dbf36cf... 2021-01-30 18:09:57   \n",
       "899  Commit(sha=\"4fd1e8f99833eebdd2e99f3456322aa197... 2020-10-07 03:28:26   \n",
       "901  Commit(sha=\"cbeaf8f955fff9caa5652ccc6c1393ec8b... 2020-09-11 21:08:20   \n",
       "\n",
       "     rank      previous_version previous_version_timestamp    timestamp_diff  \\\n",
       "897   5.0  parent-5.0.0-alpha.1        2021-01-30 18:36:37   0 days 01:07:42   \n",
       "898   4.0          parent-4.9.1        2021-01-30 18:09:57   0 days 00:26:40   \n",
       "900   3.0     parent-4.10.0-RC1        2020-10-07 03:28:26 115 days 14:41:31   \n",
       "899   2.0          parent-4.9.0        2020-09-11 21:08:20  25 days 06:20:06   \n",
       "901   1.0                   NaN        2020-09-11 21:08:20   0 days 00:00:00   \n",
       "\n",
       "     timestamp_diff_hours  \n",
       "897                   1.0  \n",
       "898                   0.0  \n",
       "900                2774.0  \n",
       "899                 606.0  \n",
       "901                   0.0  "
      ]
     },
     "execution_count": 16,
     "metadata": {},
     "output_type": "execute_result"
    }
   ],
   "source": [
    "current_project"
   ]
  },
  {
   "cell_type": "code",
   "execution_count": 10,
   "metadata": {
    "scrolled": true
   },
   "outputs": [
    {
     "ename": "NameError",
     "evalue": "name 'refactoring_miner_filename' is not defined",
     "output_type": "error",
     "traceback": [
      "\u001b[1;31m---------------------------------------------------------------------------\u001b[0m",
      "\u001b[1;31mNameError\u001b[0m                                 Traceback (most recent call last)",
      "\u001b[1;32m<ipython-input-10-0580a5bfffab>\u001b[0m in \u001b[0;36m<module>\u001b[1;34m\u001b[0m\n\u001b[1;32m----> 1\u001b[1;33m \u001b[0mrefactoring_miner_filename\u001b[0m\u001b[1;33m\u001b[0m\u001b[1;33m\u001b[0m\u001b[0m\n\u001b[0m",
      "\u001b[1;31mNameError\u001b[0m: name 'refactoring_miner_filename' is not defined"
     ]
    }
   ],
   "source": [
    "refactoring_miner_filename"
   ]
  },
  {
   "cell_type": "code",
   "execution_count": null,
   "metadata": {
    "scrolled": true
   },
   "outputs": [],
   "source": [
    "f.close()"
   ]
  },
  {
   "cell_type": "code",
   "execution_count": null,
   "metadata": {
    "scrolled": true
   },
   "outputs": [],
   "source": [
    "g = Github(github_oauth, timeout=3000)\n",
    "print(current_project.iloc[0]['project_link'].replace('https://github.com/',''))\n",
    "repo = g.get_repo(current_project.iloc[0]['project_link'].replace('https://github.com/',''))\n",
    "print(repo)"
   ]
  },
  {
   "cell_type": "code",
   "execution_count": null,
   "metadata": {
    "scrolled": true
   },
   "outputs": [],
   "source": [
    "with open('raw_refactoringMiner/Okhttp/Okhttp_parent-5.0.0-alpha.1.json') as f:\n",
    "    refactoring_miner = json.load(f)\n",
    "    \n",
    "for i in refactoring_miner['commits']:\n",
    "\n",
    "    if len(i['refactorings']) != 0:\n",
    "        commit_compared_with = i['sha1']\n",
    "        file_arr = []\n",
    "        num_line_affected = 0\n",
    "        num_dependency = 0\n",
    "        actual_num_of_classes_touched = 0\n",
    "        for refactor in i['refactorings']:\n",
    "            #print(refactor)\n",
    "            for file in refactor['rightSideLocations']:\n",
    "\n",
    "                #file_arr.append(file['filePath'])\n",
    "                #print(file['filePath'], 'here')\n",
    "                #print(file_dict[file['filePath']])\n",
    "                actual_num_of_classes_touched += 1\n",
    "                num_dependency += final_dependency_df[file_dict[file['filePath']]]\n",
    "                num_line_affected += file['endLine'] - file['startLine']\n",
    "               \n",
    "        if num_dependency != 0 and num_line_affected != 0:\n",
    "            main_data_arr.append([latest_commit, commit_compared_with, num_dependency, num_line_affected, actual_num_of_classes_touched])\n",
    "\n"
   ]
  },
  {
   "cell_type": "code",
   "execution_count": null,
   "metadata": {
    "scrolled": true
   },
   "outputs": [],
   "source": [
    "main_data_arr"
   ]
  },
  {
   "cell_type": "code",
   "execution_count": null,
   "metadata": {
    "scrolled": true
   },
   "outputs": [],
   "source": [
    "refactoring_miner_filename"
   ]
  },
  {
   "cell_type": "code",
   "execution_count": null,
   "metadata": {
    "scrolled": true
   },
   "outputs": [],
   "source": [
    "file_dict"
   ]
  },
  {
   "cell_type": "code",
   "execution_count": null,
   "metadata": {
    "scrolled": true
   },
   "outputs": [],
   "source": [
    "counter"
   ]
  },
  {
   "cell_type": "code",
   "execution_count": null,
   "metadata": {
    "scrolled": true
   },
   "outputs": [],
   "source": []
  }
 ],
 "metadata": {
  "kernelspec": {
   "display_name": "Python 3",
   "language": "python",
   "name": "python3"
  },
  "language_info": {
   "codemirror_mode": {
    "name": "ipython",
    "version": 3
   },
   "file_extension": ".py",
   "mimetype": "text/x-python",
   "name": "python",
   "nbconvert_exporter": "python",
   "pygments_lexer": "ipython3",
   "version": "3.8.8"
  }
 },
 "nbformat": 4,
 "nbformat_minor": 2
}
