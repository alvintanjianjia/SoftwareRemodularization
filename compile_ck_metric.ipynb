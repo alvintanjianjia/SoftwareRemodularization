{
 "cells": [
  {
   "cell_type": "code",
   "execution_count": 2,
   "metadata": {},
   "outputs": [],
   "source": [
    "import pandas as pd \n",
    "import os"
   ]
  },
  {
   "cell_type": "code",
   "execution_count": 3,
   "metadata": {},
   "outputs": [
    {
     "data": {
      "text/html": [
       "<div>\n",
       "<style scoped>\n",
       "    .dataframe tbody tr th:only-of-type {\n",
       "        vertical-align: middle;\n",
       "    }\n",
       "\n",
       "    .dataframe tbody tr th {\n",
       "        vertical-align: top;\n",
       "    }\n",
       "\n",
       "    .dataframe thead th {\n",
       "        text-align: right;\n",
       "    }\n",
       "</style>\n",
       "<table border=\"1\" class=\"dataframe\">\n",
       "  <thead>\n",
       "    <tr style=\"text-align: right;\">\n",
       "      <th></th>\n",
       "      <th>project_name</th>\n",
       "      <th>project_link</th>\n",
       "    </tr>\n",
       "  </thead>\n",
       "  <tbody>\n",
       "    <tr>\n",
       "      <th>0</th>\n",
       "      <td>ZieIony-Carbon</td>\n",
       "      <td>https://github.com/ZieIony/Carbon</td>\n",
       "    </tr>\n",
       "    <tr>\n",
       "      <th>22</th>\n",
       "      <td>activiti-activiti</td>\n",
       "      <td>https://github.com/Activiti/Activiti</td>\n",
       "    </tr>\n",
       "    <tr>\n",
       "      <th>44</th>\n",
       "      <td>airbnb-lottie-android</td>\n",
       "      <td>https://github.com/airbnb/lottie-android</td>\n",
       "    </tr>\n",
       "    <tr>\n",
       "      <th>66</th>\n",
       "      <td>alibaba-fastjson</td>\n",
       "      <td>https://github.com/alibaba/fastjson</td>\n",
       "    </tr>\n",
       "    <tr>\n",
       "      <th>88</th>\n",
       "      <td>alibaba-jetcache</td>\n",
       "      <td>https://github.com/alibaba/jetcache</td>\n",
       "    </tr>\n",
       "  </tbody>\n",
       "</table>\n",
       "</div>"
      ],
      "text/plain": [
       "             project_name                              project_link\n",
       "0          ZieIony-Carbon         https://github.com/ZieIony/Carbon\n",
       "22      activiti-activiti      https://github.com/Activiti/Activiti\n",
       "44  airbnb-lottie-android  https://github.com/airbnb/lottie-android\n",
       "66       alibaba-fastjson       https://github.com/alibaba/fastjson\n",
       "88       alibaba-jetcache       https://github.com/alibaba/jetcache"
      ]
     },
     "execution_count": 3,
     "metadata": {},
     "output_type": "execute_result"
    }
   ],
   "source": [
    "project_link = pd.read_csv('project_links_194_new.csv')\n",
    "project_link = project_link[['project_name', 'project_link']]\n",
    "project_link = project_link.drop_duplicates()\n",
    "project_link.head()"
   ]
  },
  {
   "cell_type": "code",
   "execution_count": 6,
   "metadata": {},
   "outputs": [],
   "source": [
    "dir_arr = []\n",
    "rootdir = '/home/jupyter/ck_results'\n",
    "for root, dirs, files in os.walk(rootdir):\n",
    "    for file in files:\n",
    "        dir_arr.append(rootdir + '/' + str(file))"
   ]
  },
  {
   "cell_type": "code",
   "execution_count": 8,
   "metadata": {},
   "outputs": [
    {
     "name": "stdout",
     "output_type": "stream",
     "text": [
      "582\n"
     ]
    }
   ],
   "source": [
    "print(len(dir_arr))"
   ]
  },
  {
   "cell_type": "code",
   "execution_count": 9,
   "metadata": {},
   "outputs": [],
   "source": [
    "# Only considering the below ck_metrics\n",
    "ck_metrics = ['cbo', 'wmc', 'dit', 'rfc', 'lcom',\n",
    "       'totalMethods', 'staticMethods', 'publicMethods', 'privateMethods',\n",
    "       'protectedMethods', 'defaultMethods', 'abstractMethods', 'finalMethods',\n",
    "       'synchronizedMethods', 'totalFields', 'staticFields', 'publicFields',\n",
    "       'privateFields', 'protectedFields', 'defaultFields', 'finalFields',\n",
    "       'synchronizedFields', 'nosi', 'loc', 'returnQty', 'loopQty',\n",
    "       'comparisonsQty', 'tryCatchQty', 'parenthesizedExpsQty',\n",
    "       'stringLiteralsQty', 'numbersQty', 'assignmentsQty',\n",
    "       'mathOperationsQty', 'variablesQty', 'maxNestedBlocks',\n",
    "       'anonymousClassesQty', 'subClassesQty', 'lambdasQty', 'uniqueWordsQty',\n",
    "       'modifiers']"
   ]
  },
  {
   "cell_type": "code",
   "execution_count": 11,
   "metadata": {},
   "outputs": [],
   "source": [
    "ck_sum_arr = []\n",
    "ck_max_arr = []\n",
    "ck_std_arr = []\n",
    "ck_mean_arr = []\n",
    "\n",
    "for element in dir_arr:\n",
    "    if '_class.csv' in element:\n",
    "        df_sum = pd.read_csv(element)\n",
    "        df_max = pd.read_csv(element)\n",
    "        df_std = pd.read_csv(element)\n",
    "        df_mean = pd.read_csv(element)\n",
    "        \n",
    "        current_element_sum = df_sum.sum()\n",
    "        current_element_max = df_max.max()\n",
    "        current_element_std = df_std.std()\n",
    "        current_element_mean = df_mean.mean()\n",
    "        \n",
    "        tmp_sum = []\n",
    "        tmp_max = []\n",
    "        tmp_std = []\n",
    "        tmp_mean = []\n",
    "        \n",
    "        project_name = element.split('/')[-1]\n",
    "        project_name = project_name.split('_')[0]\n",
    "        \n",
    "        tmp_sum.append(project_name)\n",
    "        tmp_max.append(project_name)\n",
    "        tmp_std.append(project_name)\n",
    "        tmp_mean.append(project_name)\n",
    "        \n",
    "        for element in ck_metrics:\n",
    "            tmp_sum.append(current_element_sum[element])\n",
    "            tmp_max.append(current_element_max[element])\n",
    "            tmp_std.append(current_element_std[element])\n",
    "            tmp_mean.append(current_element_mean[element])\n",
    "            \n",
    "            \n",
    "        ck_sum_arr.append(tmp_sum)\n",
    "        ck_max_arr.append(tmp_max)\n",
    "        ck_std_arr.append(tmp_std)\n",
    "        ck_mean_arr.append(tmp_mean)\n",
    "        \n",
    "        \n",
    "ck_sum_df = pd.DataFrame(ck_sum_arr)\n",
    "final_ck_columns = ['project_name']\n",
    "for element in ck_metrics:\n",
    "    final_ck_columns.append(element)\n",
    "ck_sum_df.columns = final_ck_columns\n",
    "ck_sum_df.to_csv('ck_sum_194.csv')\n",
    "\n",
    "ck_max_df = pd.DataFrame(ck_max_arr)\n",
    "final_ck_columns = ['project_name']\n",
    "for element in ck_metrics:\n",
    "    final_ck_columns.append(element)\n",
    "ck_max_df.columns = final_ck_columns\n",
    "ck_max_df.to_csv('ck_max_194.csv')\n",
    "\n",
    "ck_std_df = pd.DataFrame(ck_std_arr)\n",
    "final_ck_columns = ['project_name']\n",
    "for element in ck_metrics:\n",
    "    final_ck_columns.append(element)\n",
    "ck_std_df.columns = final_ck_columns\n",
    "ck_std_df.to_csv('ck_std_194.csv')\n",
    "\n",
    "ck_mean_df = pd.DataFrame(ck_mean_arr)\n",
    "final_ck_columns = ['project_name']\n",
    "for element in ck_metrics:\n",
    "    final_ck_columns.append(element)\n",
    "ck_mean_df.columns = final_ck_columns\n",
    "ck_mean_df.to_csv('ck_mean_194.csv')\n",
    "        "
   ]
  },
  {
   "cell_type": "code",
   "execution_count": 12,
   "metadata": {},
   "outputs": [],
   "source": [
    "ck_sum_df.to_csv('ck_sum_194.csv', index=False)\n",
    "ck_max_df.to_csv('ck_max_194.csv', index=False)\n",
    "ck_std_df.to_csv('ck_std_194.csv', index=False)\n",
    "ck_mean_df.to_csv('ck_mean_194.csv', index=False)"
   ]
  },
  {
   "cell_type": "code",
   "execution_count": 10,
   "metadata": {},
   "outputs": [
    {
     "data": {
      "text/plain": [
       "'/home/jupyter/ck_results/apache-metamodel_class.csv'"
      ]
     },
     "execution_count": 10,
     "metadata": {},
     "output_type": "execute_result"
    }
   ],
   "source": [
    "dir_arr[0]"
   ]
  },
  {
   "cell_type": "code",
   "execution_count": null,
   "metadata": {},
   "outputs": [],
   "source": []
  }
 ],
 "metadata": {
  "environment": {
   "name": "common-cpu.m51",
   "type": "gcloud",
   "uri": "gcr.io/deeplearning-platform-release/base-cpu:m51"
  },
  "kernelspec": {
   "display_name": "Python 3",
   "language": "python",
   "name": "python3"
  },
  "language_info": {
   "codemirror_mode": {
    "name": "ipython",
    "version": 3
   },
   "file_extension": ".py",
   "mimetype": "text/x-python",
   "name": "python",
   "nbconvert_exporter": "python",
   "pygments_lexer": "ipython3",
   "version": "3.7.6"
  }
 },
 "nbformat": 4,
 "nbformat_minor": 4
}
