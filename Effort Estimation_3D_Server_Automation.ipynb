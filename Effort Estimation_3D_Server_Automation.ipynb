{
 "cells": [
  {
   "cell_type": "code",
   "execution_count": 13,
   "metadata": {},
   "outputs": [
    {
     "data": {
      "text/plain": [
       "['alluxio',\n",
       " 'assertj-core',\n",
       " 'atmosphere',\n",
       " 'AxonFramework',\n",
       " 'beam',\n",
       " 'byte-buddy',\n",
       " 'Camel',\n",
       " 'cas',\n",
       " 'cassandra',\n",
       " 'cxf',\n",
       " 'dbeaver',\n",
       " 'eclim',\n",
       " 'guacamole-client',\n",
       " 'hadoop',\n",
       " 'hawtio',\n",
       " 'karaf',\n",
       " 'Okhttp',\n",
       " 'openapi-generator',\n",
       " 'orientdb',\n",
       " 'redisson',\n",
       " 'rest-assured',\n",
       " 'spring-framework',\n",
       " 'spring-security',\n",
       " 'storm',\n",
       " 'testcontainers-java',\n",
       " 'tika',\n",
       " 'traccar']"
      ]
     },
     "execution_count": 13,
     "metadata": {},
     "output_type": "execute_result"
    }
   ],
   "source": [
    "from os import walk\n",
    "\n",
    "mypath='C:/Users/tanji/Desktop/SoftwareRemodularization/raw_commits_github_json'\n",
    "\n",
    "f = []\n",
    "for (dirpath, dirnames, filenames) in walk(mypath):\n",
    "    f.extend(dirnames)\n",
    "    break\n",
    "\n",
    "f"
   ]
  },
  {
   "cell_type": "code",
   "execution_count": 15,
   "metadata": {},
   "outputs": [
    {
     "data": {
      "text/plain": [
       "['alluxio',\n",
       " 'assertj-core',\n",
       " 'atmosphere',\n",
       " 'AxonFramework',\n",
       " 'beam',\n",
       " 'byte-buddy',\n",
       " 'Camel',\n",
       " 'cas',\n",
       " 'cassandra',\n",
       " 'cxf',\n",
       " 'dbeaver',\n",
       " 'eclim',\n",
       " 'guacamole-client',\n",
       " 'hadoop',\n",
       " 'hawtio',\n",
       " 'karaf',\n",
       " 'Okhttp',\n",
       " 'openapi-generator']"
      ]
     },
     "execution_count": 15,
     "metadata": {},
     "output_type": "execute_result"
    }
   ],
   "source": [
    "from os import walk\n",
    "\n",
    "mypath='C:/Users/tanji/Desktop/SoftwareRemodularization/Effort_Estimation_Results_v6'\n",
    "\n",
    "finished = []\n",
    "finished_arr = []\n",
    "for (dirpath, dirnames, filenames) in walk(mypath):\n",
    "    finished.extend(filenames)\n",
    "    break\n",
    "\n",
    "for element in finished:\n",
    "    element = element.replace('.csv','')\n",
    "    finished_arr.append(element)\n",
    "finished_arr"
   ]
  },
  {
   "cell_type": "code",
   "execution_count": 16,
   "metadata": {},
   "outputs": [
    {
     "data": {
      "text/plain": [
       "['orientdb',\n",
       " 'spring-framework',\n",
       " 'tika',\n",
       " 'storm',\n",
       " 'rest-assured',\n",
       " 'redisson',\n",
       " 'traccar',\n",
       " 'testcontainers-java',\n",
       " 'spring-security']"
      ]
     },
     "execution_count": 16,
     "metadata": {},
     "output_type": "execute_result"
    }
   ],
   "source": [
    "leftover_arr = list(set(f) - set(finished_arr))\n",
    "leftover_arr"
   ]
  },
  {
   "cell_type": "code",
   "execution_count": 17,
   "metadata": {},
   "outputs": [
    {
     "name": "stdout",
     "output_type": "stream",
     "text": [
      "Currently running: orientdb\n"
     ]
    },
    {
     "data": {
      "application/vnd.jupyter.widget-view+json": {
       "model_id": "97dfc9c5e10f47bcada2e3c847346551",
       "version_major": 2,
       "version_minor": 0
      },
      "text/plain": [
       "Executing:   0%|          | 0/59 [00:00<?, ?cell/s]"
      ]
     },
     "metadata": {},
     "output_type": "display_data"
    },
    {
     "name": "stdout",
     "output_type": "stream",
     "text": [
      "Currently running: spring-framework\n"
     ]
    },
    {
     "data": {
      "application/vnd.jupyter.widget-view+json": {
       "model_id": "8eeed48b2f3a49e5b9878b96f4917b6c",
       "version_major": 2,
       "version_minor": 0
      },
      "text/plain": [
       "Executing:   0%|          | 0/59 [00:00<?, ?cell/s]"
      ]
     },
     "metadata": {},
     "output_type": "display_data"
    },
    {
     "name": "stdout",
     "output_type": "stream",
     "text": [
      "Currently running: tika\n"
     ]
    },
    {
     "data": {
      "application/vnd.jupyter.widget-view+json": {
       "model_id": "64754f9c48bc4044b2db20738047e743",
       "version_major": 2,
       "version_minor": 0
      },
      "text/plain": [
       "Executing:   0%|          | 0/59 [00:00<?, ?cell/s]"
      ]
     },
     "metadata": {},
     "output_type": "display_data"
    },
    {
     "name": "stdout",
     "output_type": "stream",
     "text": [
      "Currently running: storm\n"
     ]
    },
    {
     "data": {
      "application/vnd.jupyter.widget-view+json": {
       "model_id": "457e8a95fbdb4b41b5ffe74a43890c8f",
       "version_major": 2,
       "version_minor": 0
      },
      "text/plain": [
       "Executing:   0%|          | 0/59 [00:00<?, ?cell/s]"
      ]
     },
     "metadata": {},
     "output_type": "display_data"
    },
    {
     "name": "stdout",
     "output_type": "stream",
     "text": [
      "Currently running: rest-assured\n"
     ]
    },
    {
     "data": {
      "application/vnd.jupyter.widget-view+json": {
       "model_id": "095177495c54472c9de0ecec34d097fa",
       "version_major": 2,
       "version_minor": 0
      },
      "text/plain": [
       "Executing:   0%|          | 0/59 [00:00<?, ?cell/s]"
      ]
     },
     "metadata": {},
     "output_type": "display_data"
    },
    {
     "name": "stdout",
     "output_type": "stream",
     "text": [
      "Currently running: redisson\n"
     ]
    },
    {
     "data": {
      "application/vnd.jupyter.widget-view+json": {
       "model_id": "1a1f9e9d863a4c0d88e89202fa64b75e",
       "version_major": 2,
       "version_minor": 0
      },
      "text/plain": [
       "Executing:   0%|          | 0/59 [00:00<?, ?cell/s]"
      ]
     },
     "metadata": {},
     "output_type": "display_data"
    },
    {
     "name": "stdout",
     "output_type": "stream",
     "text": [
      "Currently running: traccar\n"
     ]
    },
    {
     "data": {
      "application/vnd.jupyter.widget-view+json": {
       "model_id": "24bf490d864d4737b48b68914e8447a5",
       "version_major": 2,
       "version_minor": 0
      },
      "text/plain": [
       "Executing:   0%|          | 0/59 [00:00<?, ?cell/s]"
      ]
     },
     "metadata": {},
     "output_type": "display_data"
    },
    {
     "name": "stdout",
     "output_type": "stream",
     "text": [
      "Currently running: testcontainers-java\n"
     ]
    },
    {
     "data": {
      "application/vnd.jupyter.widget-view+json": {
       "model_id": "c978e7eba59d482b9ae163e47c0b613a",
       "version_major": 2,
       "version_minor": 0
      },
      "text/plain": [
       "Executing:   0%|          | 0/59 [00:00<?, ?cell/s]"
      ]
     },
     "metadata": {},
     "output_type": "display_data"
    },
    {
     "name": "stdout",
     "output_type": "stream",
     "text": [
      "Currently running: spring-security\n"
     ]
    },
    {
     "data": {
      "application/vnd.jupyter.widget-view+json": {
       "model_id": "67819568c9674f87804c1eac051d4473",
       "version_major": 2,
       "version_minor": 0
      },
      "text/plain": [
       "Executing:   0%|          | 0/59 [00:00<?, ?cell/s]"
      ]
     },
     "metadata": {},
     "output_type": "display_data"
    }
   ],
   "source": [
    "import papermill as pm\n",
    "\n",
    "\n",
    "for element in leftover_arr:\n",
    "    print('Currently running: ' + element)\n",
    "    pm.execute_notebook(\n",
    "       'Effort Estimation_3D_Server.ipynb',\n",
    "       'Automation_Output.ipynb',\n",
    "       parameters = dict(project_name=element, commit_project_name=element)\n",
    "    )\n",
    "    "
   ]
  },
  {
   "cell_type": "code",
   "execution_count": null,
   "metadata": {},
   "outputs": [],
   "source": []
  }
 ],
 "metadata": {
  "kernelspec": {
   "display_name": "Python 3",
   "language": "python",
   "name": "python3"
  },
  "language_info": {
   "codemirror_mode": {
    "name": "ipython",
    "version": 3
   },
   "file_extension": ".py",
   "mimetype": "text/x-python",
   "name": "python",
   "nbconvert_exporter": "python",
   "pygments_lexer": "ipython3",
   "version": "3.7.3"
  }
 },
 "nbformat": 4,
 "nbformat_minor": 2
}
