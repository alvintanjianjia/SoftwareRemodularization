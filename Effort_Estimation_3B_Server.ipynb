{
 "cells": [
  {
   "cell_type": "code",
   "execution_count": 1,
   "metadata": {
    "scrolled": false
   },
   "outputs": [
    {
     "name": "stderr",
     "output_type": "stream",
     "text": [
      "C:\\ProgramData\\Anaconda3\\lib\\site-packages\\scipy\\__init__.py:149: UserWarning: A NumPy version >=1.16.5 and <1.23.0 is required for this version of SciPy (detected version 1.16.2\n",
      "  UserWarning)\n"
     ]
    }
   ],
   "source": [
    "import json\n",
    "import pandas as pd\n",
    "import numpy as np\n",
    "import networkx as nx\n",
    "import jellyfish\n",
    "import os\n",
    "import shutil\n",
    "import subprocess\n",
    "import requests\n",
    "from github import Github\n",
    "from git import Repo\n",
    "from scipy.cluster.hierarchy import dendrogram, linkage\n",
    "from matplotlib import pyplot as plt\n",
    "from sklearn.feature_extraction.text import TfidfVectorizer\n",
    "from sklearn.cluster import KMeans\n",
    "from sklearn.metrics import adjusted_rand_score\n",
    "from sklearn import preprocessing\n",
    "from sklearn.cluster import AgglomerativeClustering\n",
    "from zipfile import ZipFile\n",
    "from filecmp import dircmp\n",
    "import configparser\n",
    "from pprint import pprint"
   ]
  },
  {
   "cell_type": "code",
   "execution_count": 2,
   "metadata": {
    "scrolled": false
   },
   "outputs": [
    {
     "name": "stdout",
     "output_type": "stream",
     "text": [
      "['github']\n"
     ]
    }
   ],
   "source": [
    "config = configparser.ConfigParser()\n",
    "config.read('authentication.ini')\n",
    "print(config.sections())\n",
    "github_oauth = config['github']['api_key']"
   ]
  },
  {
   "cell_type": "code",
   "execution_count": 3,
   "metadata": {
    "scrolled": false
   },
   "outputs": [],
   "source": [
    "project_releases = pd.read_csv('volatile_projects_complete_links_limit50.csv')"
   ]
  },
  {
   "cell_type": "code",
   "execution_count": 4,
   "metadata": {
    "scrolled": false
   },
   "outputs": [],
   "source": [
    "project_releases = project_releases[project_releases['project_name'] == 'Okhttp'].head(4)"
   ]
  },
  {
   "cell_type": "code",
   "execution_count": 5,
   "metadata": {
    "scrolled": false
   },
   "outputs": [
    {
     "data": {
      "text/html": [
       "<div>\n",
       "<style scoped>\n",
       "    .dataframe tbody tr th:only-of-type {\n",
       "        vertical-align: middle;\n",
       "    }\n",
       "\n",
       "    .dataframe tbody tr th {\n",
       "        vertical-align: top;\n",
       "    }\n",
       "\n",
       "    .dataframe thead th {\n",
       "        text-align: right;\n",
       "    }\n",
       "</style>\n",
       "<table border=\"1\" class=\"dataframe\">\n",
       "  <thead>\n",
       "    <tr style=\"text-align: right;\">\n",
       "      <th></th>\n",
       "      <th>project_name</th>\n",
       "      <th>project_link</th>\n",
       "      <th>version_name</th>\n",
       "      <th>commit</th>\n",
       "      <th>timestamp</th>\n",
       "    </tr>\n",
       "  </thead>\n",
       "  <tbody>\n",
       "    <tr>\n",
       "      <th>897</th>\n",
       "      <td>Okhttp</td>\n",
       "      <td>https://github.com/square/okhttp</td>\n",
       "      <td>parent-5.0.0-alpha.2</td>\n",
       "      <td>Commit(sha=\"b84627ef4bc43f2096c1b764720f9ff238...</td>\n",
       "      <td>2021-01-30 19:44:19</td>\n",
       "    </tr>\n",
       "    <tr>\n",
       "      <th>898</th>\n",
       "      <td>Okhttp</td>\n",
       "      <td>https://github.com/square/okhttp</td>\n",
       "      <td>parent-5.0.0-alpha.1</td>\n",
       "      <td>Commit(sha=\"79d2a8d192d007b8acb2423d3ab6bba3a4...</td>\n",
       "      <td>2021-01-30 18:36:37</td>\n",
       "    </tr>\n",
       "    <tr>\n",
       "      <th>899</th>\n",
       "      <td>Okhttp</td>\n",
       "      <td>https://github.com/square/okhttp</td>\n",
       "      <td>parent-4.10.0-RC1</td>\n",
       "      <td>Commit(sha=\"4fd1e8f99833eebdd2e99f3456322aa197...</td>\n",
       "      <td>2020-10-07 03:28:26</td>\n",
       "    </tr>\n",
       "    <tr>\n",
       "      <th>900</th>\n",
       "      <td>Okhttp</td>\n",
       "      <td>https://github.com/square/okhttp</td>\n",
       "      <td>parent-4.9.1</td>\n",
       "      <td>Commit(sha=\"63dcd95bfa2345bb3f3d4abc6b6dbf36cf...</td>\n",
       "      <td>2021-01-30 18:09:57</td>\n",
       "    </tr>\n",
       "  </tbody>\n",
       "</table>\n",
       "</div>"
      ],
      "text/plain": [
       "    project_name                      project_link          version_name  \\\n",
       "897       Okhttp  https://github.com/square/okhttp  parent-5.0.0-alpha.2   \n",
       "898       Okhttp  https://github.com/square/okhttp  parent-5.0.0-alpha.1   \n",
       "899       Okhttp  https://github.com/square/okhttp     parent-4.10.0-RC1   \n",
       "900       Okhttp  https://github.com/square/okhttp          parent-4.9.1   \n",
       "\n",
       "                                                commit            timestamp  \n",
       "897  Commit(sha=\"b84627ef4bc43f2096c1b764720f9ff238...  2021-01-30 19:44:19  \n",
       "898  Commit(sha=\"79d2a8d192d007b8acb2423d3ab6bba3a4...  2021-01-30 18:36:37  \n",
       "899  Commit(sha=\"4fd1e8f99833eebdd2e99f3456322aa197...  2020-10-07 03:28:26  \n",
       "900  Commit(sha=\"63dcd95bfa2345bb3f3d4abc6b6dbf36cf...  2021-01-30 18:09:57  "
      ]
     },
     "execution_count": 5,
     "metadata": {},
     "output_type": "execute_result"
    }
   ],
   "source": [
    "project_releases.head()"
   ]
  },
  {
   "cell_type": "code",
   "execution_count": 87,
   "metadata": {
    "scrolled": false
   },
   "outputs": [
    {
     "data": {
      "text/html": [
       "<div>\n",
       "<style scoped>\n",
       "    .dataframe tbody tr th:only-of-type {\n",
       "        vertical-align: middle;\n",
       "    }\n",
       "\n",
       "    .dataframe tbody tr th {\n",
       "        vertical-align: top;\n",
       "    }\n",
       "\n",
       "    .dataframe thead th {\n",
       "        text-align: right;\n",
       "    }\n",
       "</style>\n",
       "<table border=\"1\" class=\"dataframe\">\n",
       "  <thead>\n",
       "    <tr style=\"text-align: right;\">\n",
       "      <th></th>\n",
       "      <th>file</th>\n",
       "      <th>class</th>\n",
       "      <th>type</th>\n",
       "      <th>cbo</th>\n",
       "      <th>wmc</th>\n",
       "      <th>dit</th>\n",
       "      <th>rfc</th>\n",
       "      <th>lcom</th>\n",
       "      <th>totalMethods</th>\n",
       "      <th>staticMethods</th>\n",
       "      <th>...</th>\n",
       "      <th>modifiers</th>\n",
       "      <th>latest_commit</th>\n",
       "      <th>commit_compared_with</th>\n",
       "      <th>num_dependency</th>\n",
       "      <th>num_line_affected</th>\n",
       "      <th>actual_num_of_classes_touched</th>\n",
       "      <th>latest_commit_date</th>\n",
       "      <th>commit_compared_with_date</th>\n",
       "      <th>author</th>\n",
       "      <th>author_email</th>\n",
       "    </tr>\n",
       "  </thead>\n",
       "  <tbody>\n",
       "    <tr>\n",
       "      <th>0</th>\n",
       "      <td>C:\\Users\\tanji\\Desktop\\SoftwareRemodularizatio...</td>\n",
       "      <td>mockwebserver3.CustomDispatcherTest</td>\n",
       "      <td>class</td>\n",
       "      <td>7</td>\n",
       "      <td>4</td>\n",
       "      <td>1</td>\n",
       "      <td>13</td>\n",
       "      <td>0</td>\n",
       "      <td>4</td>\n",
       "      <td>0</td>\n",
       "      <td>...</td>\n",
       "      <td>1</td>\n",
       "      <td>b84627ef4bc43f2096c1b764720f9ff2387dca32</td>\n",
       "      <td>3e331c108905a97fa9718b40844ddc1356fc86b5</td>\n",
       "      <td>4.0</td>\n",
       "      <td>67</td>\n",
       "      <td>1</td>\n",
       "      <td>2021-01-30 19:44:19</td>\n",
       "      <td>2020-10-18 12:13:09</td>\n",
       "      <td>Jesse Wilson</td>\n",
       "      <td>jesse@swank.ca</td>\n",
       "    </tr>\n",
       "    <tr>\n",
       "      <th>1</th>\n",
       "      <td>C:\\Users\\tanji\\Desktop\\SoftwareRemodularizatio...</td>\n",
       "      <td>mockwebserver3.RecordedRequestTest</td>\n",
       "      <td>class</td>\n",
       "      <td>7</td>\n",
       "      <td>5</td>\n",
       "      <td>2</td>\n",
       "      <td>6</td>\n",
       "      <td>0</td>\n",
       "      <td>5</td>\n",
       "      <td>0</td>\n",
       "      <td>...</td>\n",
       "      <td>1</td>\n",
       "      <td>b84627ef4bc43f2096c1b764720f9ff2387dca32</td>\n",
       "      <td>3e331c108905a97fa9718b40844ddc1356fc86b5</td>\n",
       "      <td>9.0</td>\n",
       "      <td>90</td>\n",
       "      <td>2</td>\n",
       "      <td>2021-01-30 19:44:19</td>\n",
       "      <td>2020-10-18 12:13:09</td>\n",
       "      <td>Jesse Wilson</td>\n",
       "      <td>jesse@swank.ca</td>\n",
       "    </tr>\n",
       "    <tr>\n",
       "      <th>2</th>\n",
       "      <td>C:\\Users\\tanji\\Desktop\\SoftwareRemodularizatio...</td>\n",
       "      <td>mockwebserver3.internal.http2.Http2Server</td>\n",
       "      <td>class</td>\n",
       "      <td>9</td>\n",
       "      <td>33</td>\n",
       "      <td>2</td>\n",
       "      <td>53</td>\n",
       "      <td>32</td>\n",
       "      <td>9</td>\n",
       "      <td>1</td>\n",
       "      <td>...</td>\n",
       "      <td>17</td>\n",
       "      <td>b84627ef4bc43f2096c1b764720f9ff2387dca32</td>\n",
       "      <td>3e331c108905a97fa9718b40844ddc1356fc86b5</td>\n",
       "      <td>86.0</td>\n",
       "      <td>147</td>\n",
       "      <td>3</td>\n",
       "      <td>2021-01-30 19:44:19</td>\n",
       "      <td>2020-10-18 12:13:09</td>\n",
       "      <td>Jesse Wilson</td>\n",
       "      <td>jesse@swank.ca</td>\n",
       "    </tr>\n",
       "    <tr>\n",
       "      <th>3</th>\n",
       "      <td>C:\\Users\\tanji\\Desktop\\SoftwareRemodularizatio...</td>\n",
       "      <td>mockwebserver3.MockWebServerTest</td>\n",
       "      <td>class</td>\n",
       "      <td>22</td>\n",
       "      <td>54</td>\n",
       "      <td>1</td>\n",
       "      <td>111</td>\n",
       "      <td>0</td>\n",
       "      <td>40</td>\n",
       "      <td>1</td>\n",
       "      <td>...</td>\n",
       "      <td>17</td>\n",
       "      <td>b84627ef4bc43f2096c1b764720f9ff2387dca32</td>\n",
       "      <td>3e331c108905a97fa9718b40844ddc1356fc86b5</td>\n",
       "      <td>321.0</td>\n",
       "      <td>566</td>\n",
       "      <td>4</td>\n",
       "      <td>2021-01-30 19:44:19</td>\n",
       "      <td>2020-10-18 12:13:09</td>\n",
       "      <td>Jesse Wilson</td>\n",
       "      <td>jesse@swank.ca</td>\n",
       "    </tr>\n",
       "    <tr>\n",
       "      <th>4</th>\n",
       "      <td>C:\\Users\\tanji\\Desktop\\SoftwareRemodularizatio...</td>\n",
       "      <td>mockwebserver3.CustomDispatcherTest</td>\n",
       "      <td>class</td>\n",
       "      <td>7</td>\n",
       "      <td>4</td>\n",
       "      <td>1</td>\n",
       "      <td>13</td>\n",
       "      <td>0</td>\n",
       "      <td>4</td>\n",
       "      <td>0</td>\n",
       "      <td>...</td>\n",
       "      <td>1</td>\n",
       "      <td>b84627ef4bc43f2096c1b764720f9ff2387dca32</td>\n",
       "      <td>3e331c108905a97fa9718b40844ddc1356fc86b5</td>\n",
       "      <td>4.0</td>\n",
       "      <td>67</td>\n",
       "      <td>5</td>\n",
       "      <td>2021-01-30 19:44:19</td>\n",
       "      <td>2020-10-18 12:13:09</td>\n",
       "      <td>Jesse Wilson</td>\n",
       "      <td>jesse@swank.ca</td>\n",
       "    </tr>\n",
       "  </tbody>\n",
       "</table>\n",
       "<p>5 rows × 52 columns</p>\n",
       "</div>"
      ],
      "text/plain": [
       "                                                file  \\\n",
       "0  C:\\Users\\tanji\\Desktop\\SoftwareRemodularizatio...   \n",
       "1  C:\\Users\\tanji\\Desktop\\SoftwareRemodularizatio...   \n",
       "2  C:\\Users\\tanji\\Desktop\\SoftwareRemodularizatio...   \n",
       "3  C:\\Users\\tanji\\Desktop\\SoftwareRemodularizatio...   \n",
       "4  C:\\Users\\tanji\\Desktop\\SoftwareRemodularizatio...   \n",
       "\n",
       "                                       class   type  cbo  wmc  dit  rfc  lcom  \\\n",
       "0        mockwebserver3.CustomDispatcherTest  class    7    4    1   13     0   \n",
       "1         mockwebserver3.RecordedRequestTest  class    7    5    2    6     0   \n",
       "2  mockwebserver3.internal.http2.Http2Server  class    9   33    2   53    32   \n",
       "3           mockwebserver3.MockWebServerTest  class   22   54    1  111     0   \n",
       "4        mockwebserver3.CustomDispatcherTest  class    7    4    1   13     0   \n",
       "\n",
       "   totalMethods  staticMethods  ...  modifiers  \\\n",
       "0             4              0  ...          1   \n",
       "1             5              0  ...          1   \n",
       "2             9              1  ...         17   \n",
       "3            40              1  ...         17   \n",
       "4             4              0  ...          1   \n",
       "\n",
       "                              latest_commit  \\\n",
       "0  b84627ef4bc43f2096c1b764720f9ff2387dca32   \n",
       "1  b84627ef4bc43f2096c1b764720f9ff2387dca32   \n",
       "2  b84627ef4bc43f2096c1b764720f9ff2387dca32   \n",
       "3  b84627ef4bc43f2096c1b764720f9ff2387dca32   \n",
       "4  b84627ef4bc43f2096c1b764720f9ff2387dca32   \n",
       "\n",
       "                       commit_compared_with  num_dependency  \\\n",
       "0  3e331c108905a97fa9718b40844ddc1356fc86b5             4.0   \n",
       "1  3e331c108905a97fa9718b40844ddc1356fc86b5             9.0   \n",
       "2  3e331c108905a97fa9718b40844ddc1356fc86b5            86.0   \n",
       "3  3e331c108905a97fa9718b40844ddc1356fc86b5           321.0   \n",
       "4  3e331c108905a97fa9718b40844ddc1356fc86b5             4.0   \n",
       "\n",
       "   num_line_affected  actual_num_of_classes_touched   latest_commit_date  \\\n",
       "0                 67                              1  2021-01-30 19:44:19   \n",
       "1                 90                              2  2021-01-30 19:44:19   \n",
       "2                147                              3  2021-01-30 19:44:19   \n",
       "3                566                              4  2021-01-30 19:44:19   \n",
       "4                 67                              5  2021-01-30 19:44:19   \n",
       "\n",
       "   commit_compared_with_date        author    author_email  \n",
       "0        2020-10-18 12:13:09  Jesse Wilson  jesse@swank.ca  \n",
       "1        2020-10-18 12:13:09  Jesse Wilson  jesse@swank.ca  \n",
       "2        2020-10-18 12:13:09  Jesse Wilson  jesse@swank.ca  \n",
       "3        2020-10-18 12:13:09  Jesse Wilson  jesse@swank.ca  \n",
       "4        2020-10-18 12:13:09  Jesse Wilson  jesse@swank.ca  \n",
       "\n",
       "[5 rows x 52 columns]"
      ]
     },
     "execution_count": 87,
     "metadata": {},
     "output_type": "execute_result"
    }
   ],
   "source": [
    "project_refactoring_data = pd.read_csv('Effort_Estimation_Results/Okhttp.csv')\n",
    "project_refactoring_data.head()"
   ]
  },
  {
   "cell_type": "code",
   "execution_count": 88,
   "metadata": {
    "scrolled": false
   },
   "outputs": [],
   "source": [
    "unique_releases_commit = pd.unique(project_refactoring_data['latest_commit'])\n",
    "unique_commit = pd.unique(project_refactoring_data['commit_compared_with'])"
   ]
  },
  {
   "cell_type": "code",
   "execution_count": 89,
   "metadata": {
    "scrolled": false
   },
   "outputs": [
    {
     "name": "stdout",
     "output_type": "stream",
     "text": [
      "['3e331c108905a97fa9718b40844ddc1356fc86b5'\n",
      " 'f8065acac28a0b86f3bdbd854ac87af0789416d0'\n",
      " '963c76864344d0d55ba7421f474c130a958a9649'\n",
      " '59ae0c138d6468aac5d92781b19cddc26e04e862'\n",
      " '4677beea96f0afb1e061f119e52e0203d4cd3738'\n",
      " '4036fa55b72faaad3a14f806094184ade157917d'\n",
      " 'ff959f8fd550b8f55a47038ea4235b1b2ed2eaa8'\n",
      " '083315a473d8b2fc972a70449272b296683ac38c'\n",
      " '5f2732de5a5bc389be2e5bd72441f2a7198b4ca1'\n",
      " '334eb0072512155e57a809b2fa18861c0d68ec9f']\n",
      "['b84627ef4bc43f2096c1b764720f9ff2387dca32'\n",
      " '79d2a8d192d007b8acb2423d3ab6bba3a4f999e1'\n",
      " '4fd1e8f99833eebdd2e99f3456322aa197f5e652']\n"
     ]
    }
   ],
   "source": [
    "print(unique_commit)\n",
    "print(unique_releases_commit)"
   ]
  },
  {
   "cell_type": "code",
   "execution_count": 90,
   "metadata": {
    "scrolled": false
   },
   "outputs": [],
   "source": [
    "unique_commits = list(set(unique_commit).symmetric_difference(set(unique_releases_commit)))"
   ]
  },
  {
   "cell_type": "code",
   "execution_count": 91,
   "metadata": {},
   "outputs": [
    {
     "data": {
      "text/plain": [
       "['f8065acac28a0b86f3bdbd854ac87af0789416d0',\n",
       " '4677beea96f0afb1e061f119e52e0203d4cd3738',\n",
       " '963c76864344d0d55ba7421f474c130a958a9649',\n",
       " '79d2a8d192d007b8acb2423d3ab6bba3a4f999e1',\n",
       " '4036fa55b72faaad3a14f806094184ade157917d',\n",
       " '334eb0072512155e57a809b2fa18861c0d68ec9f',\n",
       " '083315a473d8b2fc972a70449272b296683ac38c',\n",
       " 'ff959f8fd550b8f55a47038ea4235b1b2ed2eaa8',\n",
       " 'b84627ef4bc43f2096c1b764720f9ff2387dca32',\n",
       " '3e331c108905a97fa9718b40844ddc1356fc86b5',\n",
       " '59ae0c138d6468aac5d92781b19cddc26e04e862',\n",
       " '4fd1e8f99833eebdd2e99f3456322aa197f5e652',\n",
       " '5f2732de5a5bc389be2e5bd72441f2a7198b4ca1']"
      ]
     },
     "execution_count": 91,
     "metadata": {},
     "output_type": "execute_result"
    }
   ],
   "source": [
    "unique_commits"
   ]
  },
  {
   "cell_type": "code",
   "execution_count": 10,
   "metadata": {
    "scrolled": false
   },
   "outputs": [],
   "source": [
    "project_link = \"https://github.com/square/okhttp\""
   ]
  },
  {
   "cell_type": "markdown",
   "metadata": {},
   "source": [
    "## To obtain total number of pages of issues"
   ]
  },
  {
   "cell_type": "code",
   "execution_count": 35,
   "metadata": {
    "scrolled": false
   },
   "outputs": [
    {
     "name": "stdout",
     "output_type": "stream",
     "text": [
      "100\n"
     ]
    }
   ],
   "source": [
    "owner = 'square'\n",
    "repo = \"okhttp\"\n",
    "query_url = f\"https://api.github.com/repos/square/okhttp/issues?per_page=100\"\n",
    "params = {\n",
    "    \"state\": \"closed\",\n",
    "}\n",
    "headers = {'Authorization': f'token {github_oauth}'}\n",
    "r = requests.get(query_url, headers=headers, params=params)\n",
    "print(len(r.json()))\n",
    "\n",
    "counter = 0\n",
    "project_name = 'Okhttp'\n",
    "\n",
    "with open(f'raw_issues_github_json/{project_name}/{project_name}_{counter}.json', 'w', encoding='utf-8') as f:\n",
    "    json.dump(r.json(), f, ensure_ascii=False, indent=4)\n",
    "    \n",
    "while 'next' in r.links:\n",
    "    query_url = r.links['next']['url']\n",
    "    r = requests.get(query_url, headers=headers)\n",
    "    counter += 1\n",
    "    with open(f'raw_issues_github_json/{project_name}/{project_name}_{counter}.json', 'a', encoding='utf-8') as f:\n",
    "        json.dump(r.json(), f, ensure_ascii=False, indent=4)\n",
    "    \n",
    "    \n",
    "f.close()"
   ]
  },
  {
   "cell_type": "code",
   "execution_count": 70,
   "metadata": {
    "scrolled": true
   },
   "outputs": [
    {
     "name": "stdout",
     "output_type": "stream",
     "text": [
      "Okhttp_0.json\n",
      "Okhttp_1.json\n",
      "Okhttp_10.json\n",
      "Okhttp_11.json\n",
      "Okhttp_12.json\n",
      "Okhttp_13.json\n",
      "Okhttp_14.json\n",
      "Okhttp_15.json\n",
      "Okhttp_16.json\n",
      "Okhttp_17.json\n",
      "Okhttp_18.json\n",
      "Okhttp_19.json\n",
      "Okhttp_2.json\n",
      "Okhttp_20.json\n",
      "Okhttp_21.json\n",
      "Okhttp_22.json\n",
      "Okhttp_23.json\n",
      "Okhttp_24.json\n",
      "Okhttp_25.json\n",
      "Okhttp_26.json\n",
      "Okhttp_27.json\n",
      "Okhttp_28.json\n",
      "Okhttp_29.json\n",
      "Okhttp_3.json\n",
      "Okhttp_30.json\n",
      "Okhttp_31.json\n",
      "Okhttp_32.json\n",
      "Okhttp_33.json\n",
      "Okhttp_34.json\n",
      "Okhttp_35.json\n",
      "Okhttp_36.json\n",
      "Okhttp_37.json\n",
      "Okhttp_38.json\n",
      "Okhttp_39.json\n",
      "Okhttp_4.json\n",
      "Okhttp_40.json\n",
      "Okhttp_41.json\n",
      "Okhttp_42.json\n",
      "Okhttp_43.json\n",
      "Okhttp_44.json\n",
      "Okhttp_45.json\n",
      "Okhttp_46.json\n",
      "Okhttp_47.json\n",
      "Okhttp_48.json\n",
      "Okhttp_49.json\n",
      "Okhttp_5.json\n",
      "Okhttp_50.json\n",
      "Okhttp_51.json\n",
      "Okhttp_52.json\n",
      "Okhttp_53.json\n",
      "Okhttp_54.json\n",
      "Okhttp_55.json\n",
      "Okhttp_56.json\n",
      "Okhttp_57.json\n",
      "Okhttp_58.json\n",
      "Okhttp_59.json\n",
      "Okhttp_6.json\n",
      "Okhttp_60.json\n",
      "Okhttp_61.json\n",
      "Okhttp_62.json\n",
      "Okhttp_63.json\n",
      "Okhttp_64.json\n",
      "Okhttp_65.json\n",
      "Okhttp_66.json\n",
      "Okhttp_7.json\n",
      "Okhttp_8.json\n",
      "Okhttp_9.json\n"
     ]
    }
   ],
   "source": [
    "main_arr = []\n",
    "\n",
    "root_dir = 'raw_issues_github_json/Okhttp'\n",
    "data_counter = 0\n",
    "for filename in os.listdir(root_dir):\n",
    "    print(filename)\n",
    "\n",
    "    with open(f'{root_dir}/{filename}', encoding='utf-8') as f:\n",
    "        data = json.load(f)\n",
    "        #print(len(data))\n",
    "        data_counter += len(data)\n",
    "        \n",
    "        \n",
    "        for issues in data:\n",
    "            \n",
    "            if 'pull_request' in issues:\n",
    "                \n",
    "                query_url = issues['pull_request']['url'] + \"/commits\"\n",
    "                #print(query_url)\n",
    "                headers = {'Authorization': f'token {github_oauth}'}\n",
    "                r = requests.get(query_url, headers=headers)\n",
    "                for element in r.json():\n",
    "                    temp_arr = []\n",
    "                    #print(element['sha'])\n",
    "                    temp_arr.append(issues['id'])\n",
    "                    temp_arr.append(issues['title'])\n",
    "                    temp_arr.append(issues['body'])\n",
    "                    temp_arr.append(issues['created_at'])\n",
    "                    temp_arr.append(issues['updated_at'])\n",
    "                    temp_arr.append(issues['closed_at'])\n",
    "                    temp_arr.append(element['sha'])\n",
    "                    main_arr.append(temp_arr)\n",
    "                \n",
    "            "
   ]
  },
  {
   "cell_type": "code",
   "execution_count": 71,
   "metadata": {},
   "outputs": [],
   "source": [
    "okhttp_issues_df = pd.DataFrame(main_arr)"
   ]
  },
  {
   "cell_type": "code",
   "execution_count": 76,
   "metadata": {},
   "outputs": [],
   "source": [
    "okhttp_issues_df.to_csv('raw_issues_github_json/Okhttp/Okhttp_issues_commits.csv',index=False)"
   ]
  },
  {
   "cell_type": "code",
   "execution_count": 73,
   "metadata": {},
   "outputs": [],
   "source": [
    "okhttp_issues_df.columns = ['id','title','body','created_at','updated_at','closed_at','sha']"
   ]
  },
  {
   "cell_type": "code",
   "execution_count": 74,
   "metadata": {},
   "outputs": [
    {
     "data": {
      "text/html": [
       "<div>\n",
       "<style scoped>\n",
       "    .dataframe tbody tr th:only-of-type {\n",
       "        vertical-align: middle;\n",
       "    }\n",
       "\n",
       "    .dataframe tbody tr th {\n",
       "        vertical-align: top;\n",
       "    }\n",
       "\n",
       "    .dataframe thead th {\n",
       "        text-align: right;\n",
       "    }\n",
       "</style>\n",
       "<table border=\"1\" class=\"dataframe\">\n",
       "  <thead>\n",
       "    <tr style=\"text-align: right;\">\n",
       "      <th></th>\n",
       "      <th>id</th>\n",
       "      <th>title</th>\n",
       "      <th>body</th>\n",
       "      <th>created_at</th>\n",
       "      <th>updated_at</th>\n",
       "      <th>closed_at</th>\n",
       "      <th>sha</th>\n",
       "    </tr>\n",
       "  </thead>\n",
       "  <tbody>\n",
       "    <tr>\n",
       "      <th>0</th>\n",
       "      <td>1039069805</td>\n",
       "      <td>Upgrade to Okio 3.0.0</td>\n",
       "      <td>None</td>\n",
       "      <td>2021-10-29T01:02:51Z</td>\n",
       "      <td>2021-10-29T07:39:57Z</td>\n",
       "      <td>2021-10-29T07:39:57Z</td>\n",
       "      <td>366e8dbae51b197c94fa975a468beb808ece1314</td>\n",
       "    </tr>\n",
       "    <tr>\n",
       "      <th>1</th>\n",
       "      <td>1038961862</td>\n",
       "      <td>Don't document mockwebserver3.internal</td>\n",
       "      <td>None</td>\n",
       "      <td>2021-10-28T21:19:22Z</td>\n",
       "      <td>2021-11-01T13:29:32Z</td>\n",
       "      <td>2021-11-01T13:29:32Z</td>\n",
       "      <td>8bf8213bd18cac58ae644ba71b2e26837c544cc1</td>\n",
       "    </tr>\n",
       "    <tr>\n",
       "      <th>2</th>\n",
       "      <td>1030395997</td>\n",
       "      <td>Fix EventSources.processResponse to not throw ...</td>\n",
       "      <td>EventSources.processResponse is intended to pr...</td>\n",
       "      <td>2021-10-19T14:40:26Z</td>\n",
       "      <td>2021-10-29T09:27:22Z</td>\n",
       "      <td>2021-10-22T16:51:49Z</td>\n",
       "      <td>90370cfbfff713cf1ceb732298ba030d10cb53fc</td>\n",
       "    </tr>\n",
       "    <tr>\n",
       "      <th>3</th>\n",
       "      <td>1030395997</td>\n",
       "      <td>Fix EventSources.processResponse to not throw ...</td>\n",
       "      <td>EventSources.processResponse is intended to pr...</td>\n",
       "      <td>2021-10-19T14:40:26Z</td>\n",
       "      <td>2021-10-29T09:27:22Z</td>\n",
       "      <td>2021-10-22T16:51:49Z</td>\n",
       "      <td>4cc25f7052410cb29a0d75830f57a20d7a9a9cba</td>\n",
       "    </tr>\n",
       "    <tr>\n",
       "      <th>4</th>\n",
       "      <td>1030395997</td>\n",
       "      <td>Fix EventSources.processResponse to not throw ...</td>\n",
       "      <td>EventSources.processResponse is intended to pr...</td>\n",
       "      <td>2021-10-19T14:40:26Z</td>\n",
       "      <td>2021-10-29T09:27:22Z</td>\n",
       "      <td>2021-10-22T16:51:49Z</td>\n",
       "      <td>fb8470ea189e9231f616fd7acc89e5e7950854d8</td>\n",
       "    </tr>\n",
       "  </tbody>\n",
       "</table>\n",
       "</div>"
      ],
      "text/plain": [
       "           id                                              title  \\\n",
       "0  1039069805                              Upgrade to Okio 3.0.0   \n",
       "1  1038961862             Don't document mockwebserver3.internal   \n",
       "2  1030395997  Fix EventSources.processResponse to not throw ...   \n",
       "3  1030395997  Fix EventSources.processResponse to not throw ...   \n",
       "4  1030395997  Fix EventSources.processResponse to not throw ...   \n",
       "\n",
       "                                                body            created_at  \\\n",
       "0                                               None  2021-10-29T01:02:51Z   \n",
       "1                                               None  2021-10-28T21:19:22Z   \n",
       "2  EventSources.processResponse is intended to pr...  2021-10-19T14:40:26Z   \n",
       "3  EventSources.processResponse is intended to pr...  2021-10-19T14:40:26Z   \n",
       "4  EventSources.processResponse is intended to pr...  2021-10-19T14:40:26Z   \n",
       "\n",
       "             updated_at             closed_at  \\\n",
       "0  2021-10-29T07:39:57Z  2021-10-29T07:39:57Z   \n",
       "1  2021-11-01T13:29:32Z  2021-11-01T13:29:32Z   \n",
       "2  2021-10-29T09:27:22Z  2021-10-22T16:51:49Z   \n",
       "3  2021-10-29T09:27:22Z  2021-10-22T16:51:49Z   \n",
       "4  2021-10-29T09:27:22Z  2021-10-22T16:51:49Z   \n",
       "\n",
       "                                        sha  \n",
       "0  366e8dbae51b197c94fa975a468beb808ece1314  \n",
       "1  8bf8213bd18cac58ae644ba71b2e26837c544cc1  \n",
       "2  90370cfbfff713cf1ceb732298ba030d10cb53fc  \n",
       "3  4cc25f7052410cb29a0d75830f57a20d7a9a9cba  \n",
       "4  fb8470ea189e9231f616fd7acc89e5e7950854d8  "
      ]
     },
     "execution_count": 74,
     "metadata": {},
     "output_type": "execute_result"
    }
   ],
   "source": [
    "okhttp_issues_df.head()"
   ]
  },
  {
   "cell_type": "code",
   "execution_count": 93,
   "metadata": {},
   "outputs": [
    {
     "name": "stdout",
     "output_type": "stream",
     "text": [
      "366e8dbae51b197c94fa975a468beb808ece1314\n",
      "8bf8213bd18cac58ae644ba71b2e26837c544cc1\n"
     ]
    }
   ],
   "source": [
    "test = ['366e8dbae51b197c94fa975a468beb808ece1314', '8bf8213bd18cac58ae644ba71b2e26837c544cc1']\n",
    "#test = ['334eb0072512155e57a809b2fa18861c0d68ec9f']\n",
    "\n",
    "for element in test:\n",
    "    if okhttp_issues_df['sha'].str.contains(element).any():\n",
    "        print(element)"
   ]
  },
  {
   "cell_type": "code",
   "execution_count": null,
   "metadata": {},
   "outputs": [],
   "source": []
  },
  {
   "cell_type": "code",
   "execution_count": null,
   "metadata": {},
   "outputs": [],
   "source": []
  },
  {
   "cell_type": "code",
   "execution_count": null,
   "metadata": {},
   "outputs": [],
   "source": []
  },
  {
   "cell_type": "code",
   "execution_count": 54,
   "metadata": {
    "scrolled": false
   },
   "outputs": [
    {
     "name": "stdout",
     "output_type": "stream",
     "text": [
      "2\n"
     ]
    }
   ],
   "source": [
    "owner = 'square'\n",
    "repo = \"okhttp\"\n",
    "query_url = \"https://api.github.com/repos/square/okhttp/pulls/5733/commits\"\n",
    "\n",
    "headers = {'Authorization': f'token {github_oauth}'}\n",
    "r = requests.get(query_url, headers=headers)\n",
    "print(len(r.json()))\n"
   ]
  },
  {
   "cell_type": "code",
   "execution_count": 56,
   "metadata": {},
   "outputs": [
    {
     "name": "stdout",
     "output_type": "stream",
     "text": [
      "87495b7b62888720d5681b0d13e60569f3a869c8\n",
      "bf5222117611b6a59236a695a6239891bde9fa3c\n"
     ]
    }
   ],
   "source": [
    "for element in r.json():\n",
    "    print(element['sha'])"
   ]
  },
  {
   "cell_type": "code",
   "execution_count": 58,
   "metadata": {
    "scrolled": true
   },
   "outputs": [
    {
     "data": {
      "text/plain": [
       "{'url': 'https://api.github.com/repos/square/okhttp/issues/5909',\n",
       " 'repository_url': 'https://api.github.com/repos/square/okhttp',\n",
       " 'labels_url': 'https://api.github.com/repos/square/okhttp/issues/5909/labels{/name}',\n",
       " 'comments_url': 'https://api.github.com/repos/square/okhttp/issues/5909/comments',\n",
       " 'events_url': 'https://api.github.com/repos/square/okhttp/issues/5909/events',\n",
       " 'html_url': 'https://github.com/square/okhttp/pull/5909',\n",
       " 'id': 589630310,\n",
       " 'node_id': 'MDExOlB1bGxSZXF1ZXN0Mzk1MTMzNTIy',\n",
       " 'number': 5909,\n",
       " 'title': 'Defer class initialization to avoid spamming on Conscrypt errors (not for landing)',\n",
       " 'user': {'login': 'yschimke',\n",
       "  'id': 231923,\n",
       "  'node_id': 'MDQ6VXNlcjIzMTkyMw==',\n",
       "  'avatar_url': 'https://avatars.githubusercontent.com/u/231923?v=4',\n",
       "  'gravatar_id': '',\n",
       "  'url': 'https://api.github.com/users/yschimke',\n",
       "  'html_url': 'https://github.com/yschimke',\n",
       "  'followers_url': 'https://api.github.com/users/yschimke/followers',\n",
       "  'following_url': 'https://api.github.com/users/yschimke/following{/other_user}',\n",
       "  'gists_url': 'https://api.github.com/users/yschimke/gists{/gist_id}',\n",
       "  'starred_url': 'https://api.github.com/users/yschimke/starred{/owner}{/repo}',\n",
       "  'subscriptions_url': 'https://api.github.com/users/yschimke/subscriptions',\n",
       "  'organizations_url': 'https://api.github.com/users/yschimke/orgs',\n",
       "  'repos_url': 'https://api.github.com/users/yschimke/repos',\n",
       "  'events_url': 'https://api.github.com/users/yschimke/events{/privacy}',\n",
       "  'received_events_url': 'https://api.github.com/users/yschimke/received_events',\n",
       "  'type': 'User',\n",
       "  'site_admin': False},\n",
       " 'labels': [],\n",
       " 'state': 'closed',\n",
       " 'locked': False,\n",
       " 'assignee': None,\n",
       " 'assignees': [],\n",
       " 'milestone': None,\n",
       " 'comments': 1,\n",
       " 'created_at': '2020-03-28T18:16:27Z',\n",
       " 'updated_at': '2020-04-04T20:39:43Z',\n",
       " 'closed_at': '2020-03-30T06:56:23Z',\n",
       " 'author_association': 'COLLABORATOR',\n",
       " 'active_lock_reason': None,\n",
       " 'pull_request': {'url': 'https://api.github.com/repos/square/okhttp/pulls/5909',\n",
       "  'html_url': 'https://github.com/square/okhttp/pull/5909',\n",
       "  'diff_url': 'https://github.com/square/okhttp/pull/5909.diff',\n",
       "  'patch_url': 'https://github.com/square/okhttp/pull/5909.patch'},\n",
       " 'body': 'Considering as a potential fix for https://github.com/square/okhttp/issues/5760\\r\\n\\r\\nAndroidPlatform uses ConscryptSocketAdaptor which has\\r\\n\\r\\n```\\r\\n    fun buildIfSupported(): SocketAdapter? =\\r\\n        if (ConscryptPlatform.isSupported) ConscryptSocketAdapter() else null\\r\\n```',\n",
       " 'reactions': {'url': 'https://api.github.com/repos/square/okhttp/issues/5909/reactions',\n",
       "  'total_count': 0,\n",
       "  '+1': 0,\n",
       "  '-1': 0,\n",
       "  'laugh': 0,\n",
       "  'hooray': 0,\n",
       "  'confused': 0,\n",
       "  'heart': 0,\n",
       "  'rocket': 0,\n",
       "  'eyes': 0},\n",
       " 'timeline_url': 'https://api.github.com/repos/square/okhttp/issues/5909/timeline',\n",
       " 'performed_via_github_app': None}"
      ]
     },
     "execution_count": 58,
     "metadata": {},
     "output_type": "execute_result"
    }
   ],
   "source": [
    "data[2]"
   ]
  },
  {
   "cell_type": "code",
   "execution_count": 48,
   "metadata": {
    "scrolled": false
   },
   "outputs": [
    {
     "name": "stdout",
     "output_type": "stream",
     "text": [
      "url\n",
      "repository_url\n",
      "labels_url\n",
      "comments_url\n",
      "events_url\n",
      "html_url\n",
      "id\n",
      "node_id\n",
      "number\n",
      "title\n",
      "user\n",
      "labels\n",
      "state\n",
      "locked\n",
      "assignee\n",
      "assignees\n",
      "milestone\n",
      "comments\n",
      "created_at\n",
      "updated_at\n",
      "closed_at\n",
      "author_association\n",
      "active_lock_reason\n",
      "pull_request\n",
      "body\n",
      "reactions\n",
      "timeline_url\n",
      "performed_via_github_app\n"
     ]
    }
   ],
   "source": [
    "for element in data[3]:\n",
    "    print(element)"
   ]
  },
  {
   "cell_type": "code",
   "execution_count": 25,
   "metadata": {
    "scrolled": false
   },
   "outputs": [
    {
     "name": "stdout",
     "output_type": "stream",
     "text": [
      "lol2\n"
     ]
    }
   ],
   "source": [
    "if 'next' in r.links:\n",
    "    print('lol')\n",
    "    \n",
    "if 'prev' in r.links:\n",
    "    print('lol2')"
   ]
  },
  {
   "cell_type": "code",
   "execution_count": 23,
   "metadata": {
    "scrolled": false
   },
   "outputs": [
    {
     "data": {
      "text/plain": [
       "{'prev': {'url': 'https://api.github.com/repositories/5152285/issues?per_page=100&state=closed&page=66',\n",
       "  'rel': 'prev'},\n",
       " 'first': {'url': 'https://api.github.com/repositories/5152285/issues?per_page=100&state=closed&page=1',\n",
       "  'rel': 'first'}}"
      ]
     },
     "execution_count": 23,
     "metadata": {},
     "output_type": "execute_result"
    }
   ],
   "source": [
    "r.links"
   ]
  },
  {
   "cell_type": "code",
   "execution_count": 20,
   "metadata": {
    "scrolled": false
   },
   "outputs": [
    {
     "data": {
      "text/plain": [
       "{'url': 'https://api.github.com/repositories/5152285/issues?per_page=100&state=closed&page=2',\n",
       " 'rel': 'next'}"
      ]
     },
     "execution_count": 20,
     "metadata": {},
     "output_type": "execute_result"
    }
   ],
   "source": [
    "r.links['next']"
   ]
  },
  {
   "cell_type": "code",
   "execution_count": 21,
   "metadata": {
    "scrolled": false
   },
   "outputs": [
    {
     "data": {
      "text/plain": [
       "'https://api.github.com/repositories/5152285/issues?per_page=100&state=closed&page=2'"
      ]
     },
     "execution_count": 21,
     "metadata": {},
     "output_type": "execute_result"
    }
   ],
   "source": [
    "r.links['next']['url']"
   ]
  },
  {
   "cell_type": "code",
   "execution_count": 69,
   "metadata": {
    "scrolled": false
   },
   "outputs": [
    {
     "name": "stdout",
     "output_type": "stream",
     "text": [
      "https://api.github.com/rate_limit\n",
      "{'rate': {'limit': 5000, 'remaining': 4931, 'reset': 1636319461, 'used': 69},\n",
      " 'resources': {'actions_runner_registration': {'limit': 10000,\n",
      "                                               'remaining': 10000,\n",
      "                                               'reset': 1636320299,\n",
      "                                               'used': 0},\n",
      "               'code_scanning_upload': {'limit': 500,\n",
      "                                        'remaining': 500,\n",
      "                                        'reset': 1636320299,\n",
      "                                        'used': 0},\n",
      "               'core': {'limit': 5000,\n",
      "                        'remaining': 4931,\n",
      "                        'reset': 1636319461,\n",
      "                        'used': 69},\n",
      "               'graphql': {'limit': 5000,\n",
      "                           'remaining': 5000,\n",
      "                           'reset': 1636320299,\n",
      "                           'used': 0},\n",
      "               'integration_manifest': {'limit': 5000,\n",
      "                                        'remaining': 5000,\n",
      "                                        'reset': 1636320299,\n",
      "                                        'used': 0},\n",
      "               'search': {'limit': 30,\n",
      "                          'remaining': 30,\n",
      "                          'reset': 1636316759,\n",
      "                          'used': 0},\n",
      "               'source_import': {'limit': 100,\n",
      "                                 'remaining': 100,\n",
      "                                 'reset': 1636316759,\n",
      "                                 'used': 0}}}\n",
      "2\n"
     ]
    }
   ],
   "source": [
    "query_url = f\"https://api.github.com/rate_limit\"\n",
    "print(query_url)\n",
    "#query_url = f\"https://api.github.com/repos/{repo}\"\n",
    "headers = {'Authorization': f'token {github_oauth}'}\n",
    "r = requests.get(query_url, headers=headers)\n",
    "pprint(r.json())\n",
    "print(len(r.json()))"
   ]
  },
  {
   "cell_type": "code",
   "execution_count": null,
   "metadata": {},
   "outputs": [],
   "source": []
  }
 ],
 "metadata": {
  "kernelspec": {
   "display_name": "Python 3",
   "language": "python",
   "name": "python3"
  },
  "language_info": {
   "codemirror_mode": {
    "name": "ipython",
    "version": 3
   },
   "file_extension": ".py",
   "mimetype": "text/x-python",
   "name": "python",
   "nbconvert_exporter": "python",
   "pygments_lexer": "ipython3",
   "version": "3.7.3"
  }
 },
 "nbformat": 4,
 "nbformat_minor": 2
}
