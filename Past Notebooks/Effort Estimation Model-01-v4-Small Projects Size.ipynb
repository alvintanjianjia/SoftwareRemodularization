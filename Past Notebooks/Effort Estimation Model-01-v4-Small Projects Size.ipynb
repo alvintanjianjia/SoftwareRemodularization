{
 "cells": [
  {
   "cell_type": "code",
   "execution_count": 2,
   "metadata": {},
   "outputs": [],
   "source": [
    "import json\n",
    "import pandas as pd\n",
    "import numpy as np\n",
    "import networkx as nx\n",
    "import jellyfish\n",
    "import os\n",
    "import shutil\n",
    "import subprocess\n",
    "import requests\n",
    "from github import Github\n",
    "from git import Repo\n",
    "from scipy.cluster.hierarchy import dendrogram, linkage\n",
    "from matplotlib import pyplot as plt\n",
    "from sklearn.feature_extraction.text import TfidfVectorizer\n",
    "from sklearn.cluster import KMeans\n",
    "from sklearn.metrics import adjusted_rand_score\n",
    "from sklearn import preprocessing\n",
    "from sklearn.cluster import AgglomerativeClustering\n",
    "from zipfile import ZipFile\n",
    "from filecmp import dircmp\n",
    "import configparser\n",
    "import h2o"
   ]
  },
  {
   "cell_type": "markdown",
   "metadata": {},
   "source": [
    "## Result Gathering"
   ]
  },
  {
   "cell_type": "code",
   "execution_count": 3,
   "metadata": {},
   "outputs": [
    {
     "name": "stdout",
     "output_type": "stream",
     "text": [
      "Alluxio.csv\n",
      "Assertj-core.csv\n",
      "Atmosphere.csv\n",
      "AxonFramework.csv\n",
      "Cxf.csv\n",
      "Dbeaver.csv\n",
      "Okhttp.csv\n",
      "Redisson.csv\n"
     ]
    }
   ],
   "source": [
    "main_df = None\n",
    "directory = \"Effort_Estimation_Results_v5_SmallProjectsSize/\"\n",
    "for filename in os.listdir(directory):\n",
    "    print(filename)\n",
    "    if main_df is None:\n",
    "        main_df = pd.read_csv(os.path.join(directory, filename))\n",
    "        main_df['project_name'] = filename.replace('.csv', '')\n",
    "    else:\n",
    "        temp_df = pd.read_csv(os.path.join(directory, filename))\n",
    "        temp_df['project_name'] = filename.replace('.csv', '')\n",
    "        frames = [main_df, temp_df]\n",
    "        main_df = pd.concat(frames)"
   ]
  },
  {
   "cell_type": "code",
   "execution_count": 4,
   "metadata": {},
   "outputs": [
    {
     "data": {
      "text/html": [
       "<div>\n",
       "<style scoped>\n",
       "    .dataframe tbody tr th:only-of-type {\n",
       "        vertical-align: middle;\n",
       "    }\n",
       "\n",
       "    .dataframe tbody tr th {\n",
       "        vertical-align: top;\n",
       "    }\n",
       "\n",
       "    .dataframe thead th {\n",
       "        text-align: right;\n",
       "    }\n",
       "</style>\n",
       "<table border=\"1\" class=\"dataframe\">\n",
       "  <thead>\n",
       "    <tr style=\"text-align: right;\">\n",
       "      <th></th>\n",
       "      <th>kmean_label</th>\n",
       "      <th>time_taken_mean</th>\n",
       "      <th>time_taken_min</th>\n",
       "      <th>time_taken_max</th>\n",
       "      <th>time_taken_q10</th>\n",
       "      <th>time_taken_q20</th>\n",
       "      <th>time_taken_q25</th>\n",
       "      <th>time_taken_q30</th>\n",
       "      <th>time_taken_q40</th>\n",
       "      <th>time_taken_q50</th>\n",
       "      <th>...</th>\n",
       "      <th>num_line_affected_min</th>\n",
       "      <th>num_line_affected_max</th>\n",
       "      <th>num_line_affected_std</th>\n",
       "      <th>actual_num_of_classes_touched_mean</th>\n",
       "      <th>actual_num_of_classes_touched_min</th>\n",
       "      <th>actual_num_of_classes_touched_max</th>\n",
       "      <th>actual_num_of_classes_touched_std</th>\n",
       "      <th>commit_line_changed</th>\n",
       "      <th>refactoring_perc</th>\n",
       "      <th>refactoring_perc_time_taken</th>\n",
       "    </tr>\n",
       "  </thead>\n",
       "  <tbody>\n",
       "    <tr>\n",
       "      <th>0</th>\n",
       "      <td>3</td>\n",
       "      <td>19.225678</td>\n",
       "      <td>1.0</td>\n",
       "      <td>167.0</td>\n",
       "      <td>1.0</td>\n",
       "      <td>2.0</td>\n",
       "      <td>2.0</td>\n",
       "      <td>3.0</td>\n",
       "      <td>4.0</td>\n",
       "      <td>7.0</td>\n",
       "      <td>...</td>\n",
       "      <td>24</td>\n",
       "      <td>1245</td>\n",
       "      <td>682.248</td>\n",
       "      <td>35.0</td>\n",
       "      <td>1</td>\n",
       "      <td>54</td>\n",
       "      <td>29.512709</td>\n",
       "      <td>2162</td>\n",
       "      <td>0.011101</td>\n",
       "      <td>1.0</td>\n",
       "    </tr>\n",
       "    <tr>\n",
       "      <th>1</th>\n",
       "      <td>3</td>\n",
       "      <td>19.225678</td>\n",
       "      <td>1.0</td>\n",
       "      <td>167.0</td>\n",
       "      <td>1.0</td>\n",
       "      <td>2.0</td>\n",
       "      <td>2.0</td>\n",
       "      <td>3.0</td>\n",
       "      <td>4.0</td>\n",
       "      <td>7.0</td>\n",
       "      <td>...</td>\n",
       "      <td>242</td>\n",
       "      <td>242</td>\n",
       "      <td>0.000</td>\n",
       "      <td>4.0</td>\n",
       "      <td>4</td>\n",
       "      <td>4</td>\n",
       "      <td>0.000000</td>\n",
       "      <td>142</td>\n",
       "      <td>1.000000</td>\n",
       "      <td>1.0</td>\n",
       "    </tr>\n",
       "    <tr>\n",
       "      <th>2</th>\n",
       "      <td>6</td>\n",
       "      <td>12.820546</td>\n",
       "      <td>1.0</td>\n",
       "      <td>166.0</td>\n",
       "      <td>1.0</td>\n",
       "      <td>1.0</td>\n",
       "      <td>2.0</td>\n",
       "      <td>2.0</td>\n",
       "      <td>3.0</td>\n",
       "      <td>5.0</td>\n",
       "      <td>...</td>\n",
       "      <td>61</td>\n",
       "      <td>61</td>\n",
       "      <td>NaN</td>\n",
       "      <td>2.0</td>\n",
       "      <td>2</td>\n",
       "      <td>2</td>\n",
       "      <td>NaN</td>\n",
       "      <td>8</td>\n",
       "      <td>1.000000</td>\n",
       "      <td>15.0</td>\n",
       "    </tr>\n",
       "    <tr>\n",
       "      <th>3</th>\n",
       "      <td>6</td>\n",
       "      <td>12.820546</td>\n",
       "      <td>1.0</td>\n",
       "      <td>166.0</td>\n",
       "      <td>1.0</td>\n",
       "      <td>1.0</td>\n",
       "      <td>2.0</td>\n",
       "      <td>2.0</td>\n",
       "      <td>3.0</td>\n",
       "      <td>5.0</td>\n",
       "      <td>...</td>\n",
       "      <td>78</td>\n",
       "      <td>78</td>\n",
       "      <td>NaN</td>\n",
       "      <td>1.0</td>\n",
       "      <td>1</td>\n",
       "      <td>1</td>\n",
       "      <td>NaN</td>\n",
       "      <td>346</td>\n",
       "      <td>0.225434</td>\n",
       "      <td>1.0</td>\n",
       "    </tr>\n",
       "    <tr>\n",
       "      <th>4</th>\n",
       "      <td>6</td>\n",
       "      <td>12.820546</td>\n",
       "      <td>1.0</td>\n",
       "      <td>166.0</td>\n",
       "      <td>1.0</td>\n",
       "      <td>1.0</td>\n",
       "      <td>2.0</td>\n",
       "      <td>2.0</td>\n",
       "      <td>3.0</td>\n",
       "      <td>5.0</td>\n",
       "      <td>...</td>\n",
       "      <td>322</td>\n",
       "      <td>322</td>\n",
       "      <td>0.000</td>\n",
       "      <td>1.5</td>\n",
       "      <td>1</td>\n",
       "      <td>2</td>\n",
       "      <td>0.707107</td>\n",
       "      <td>35</td>\n",
       "      <td>1.000000</td>\n",
       "      <td>1.0</td>\n",
       "    </tr>\n",
       "  </tbody>\n",
       "</table>\n",
       "<p>5 rows × 202 columns</p>\n",
       "</div>"
      ],
      "text/plain": [
       "   kmean_label  time_taken_mean  time_taken_min  time_taken_max  \\\n",
       "0            3        19.225678             1.0           167.0   \n",
       "1            3        19.225678             1.0           167.0   \n",
       "2            6        12.820546             1.0           166.0   \n",
       "3            6        12.820546             1.0           166.0   \n",
       "4            6        12.820546             1.0           166.0   \n",
       "\n",
       "   time_taken_q10  time_taken_q20  time_taken_q25  time_taken_q30  \\\n",
       "0             1.0             2.0             2.0             3.0   \n",
       "1             1.0             2.0             2.0             3.0   \n",
       "2             1.0             1.0             2.0             2.0   \n",
       "3             1.0             1.0             2.0             2.0   \n",
       "4             1.0             1.0             2.0             2.0   \n",
       "\n",
       "   time_taken_q40  time_taken_q50  ...  num_line_affected_min  \\\n",
       "0             4.0             7.0  ...                     24   \n",
       "1             4.0             7.0  ...                    242   \n",
       "2             3.0             5.0  ...                     61   \n",
       "3             3.0             5.0  ...                     78   \n",
       "4             3.0             5.0  ...                    322   \n",
       "\n",
       "   num_line_affected_max  num_line_affected_std  \\\n",
       "0                   1245                682.248   \n",
       "1                    242                  0.000   \n",
       "2                     61                    NaN   \n",
       "3                     78                    NaN   \n",
       "4                    322                  0.000   \n",
       "\n",
       "   actual_num_of_classes_touched_mean  actual_num_of_classes_touched_min  \\\n",
       "0                                35.0                                  1   \n",
       "1                                 4.0                                  4   \n",
       "2                                 2.0                                  2   \n",
       "3                                 1.0                                  1   \n",
       "4                                 1.5                                  1   \n",
       "\n",
       "  actual_num_of_classes_touched_max actual_num_of_classes_touched_std  \\\n",
       "0                                54                         29.512709   \n",
       "1                                 4                          0.000000   \n",
       "2                                 2                               NaN   \n",
       "3                                 1                               NaN   \n",
       "4                                 2                          0.707107   \n",
       "\n",
       "  commit_line_changed refactoring_perc refactoring_perc_time_taken  \n",
       "0                2162         0.011101                         1.0  \n",
       "1                 142         1.000000                         1.0  \n",
       "2                   8         1.000000                        15.0  \n",
       "3                 346         0.225434                         1.0  \n",
       "4                  35         1.000000                         1.0  \n",
       "\n",
       "[5 rows x 202 columns]"
      ]
     },
     "execution_count": 4,
     "metadata": {},
     "output_type": "execute_result"
    }
   ],
   "source": [
    "main_df.head()"
   ]
  },
  {
   "cell_type": "code",
   "execution_count": 5,
   "metadata": {},
   "outputs": [
    {
     "name": "stdout",
     "output_type": "stream",
     "text": [
      "kmean_label\n",
      "time_taken_mean\n",
      "time_taken_min\n",
      "time_taken_max\n",
      "time_taken_q10\n",
      "time_taken_q20\n",
      "time_taken_q25\n",
      "time_taken_q30\n",
      "time_taken_q40\n",
      "time_taken_q50\n",
      "time_taken_q60\n",
      "time_taken_q70\n",
      "time_taken_q75\n",
      "time_taken_q80\n",
      "time_taken_q90\n",
      "sha\n",
      "name\n",
      "email\n",
      "date\n",
      "login\n",
      "message\n",
      "parent_sha\n",
      "parent_date\n",
      "time_taken\n",
      "contains_refactoring\n",
      "project_name\n",
      "commit_compared_with\n",
      "cbo_mean\n",
      "cbo_min\n",
      "cbo_max\n",
      "cbo_std\n",
      "wmc_mean\n",
      "wmc_min\n",
      "wmc_max\n",
      "wmc_std\n",
      "dit_mean\n",
      "dit_min\n",
      "dit_max\n",
      "dit_std\n",
      "rfc_mean\n",
      "rfc_min\n",
      "rfc_max\n",
      "rfc_std\n",
      "lcom_mean\n",
      "lcom_min\n",
      "lcom_max\n",
      "lcom_std\n",
      "totalMethods_mean\n",
      "totalMethods_min\n",
      "totalMethods_max\n",
      "totalMethods_std\n",
      "staticMethods_mean\n",
      "staticMethods_min\n",
      "staticMethods_max\n",
      "staticMethods_std\n",
      "publicMethods_mean\n",
      "publicMethods_min\n",
      "publicMethods_max\n",
      "publicMethods_std\n",
      "privateMethods_mean\n",
      "privateMethods_min\n",
      "privateMethods_max\n",
      "privateMethods_std\n",
      "protectedMethods_mean\n",
      "protectedMethods_min\n",
      "protectedMethods_max\n",
      "protectedMethods_std\n",
      "defaultMethods_mean\n",
      "defaultMethods_min\n",
      "defaultMethods_max\n",
      "defaultMethods_std\n",
      "abstractMethods_mean\n",
      "abstractMethods_min\n",
      "abstractMethods_max\n",
      "abstractMethods_std\n",
      "finalMethods_mean\n",
      "finalMethods_min\n",
      "finalMethods_max\n",
      "finalMethods_std\n",
      "synchronizedMethods_mean\n",
      "synchronizedMethods_min\n",
      "synchronizedMethods_max\n",
      "synchronizedMethods_std\n",
      "totalFields_mean\n",
      "totalFields_min\n",
      "totalFields_max\n",
      "totalFields_std\n",
      "staticFields_mean\n",
      "staticFields_min\n",
      "staticFields_max\n",
      "staticFields_std\n",
      "publicFields_mean\n",
      "publicFields_min\n",
      "publicFields_max\n",
      "publicFields_std\n",
      "privateFields_mean\n",
      "privateFields_min\n",
      "privateFields_max\n",
      "privateFields_std\n",
      "protectedFields_mean\n",
      "protectedFields_min\n",
      "protectedFields_max\n",
      "protectedFields_std\n",
      "defaultFields_mean\n",
      "defaultFields_min\n",
      "defaultFields_max\n",
      "defaultFields_std\n",
      "finalFields_mean\n",
      "finalFields_min\n",
      "finalFields_max\n",
      "finalFields_std\n",
      "synchronizedFields_mean\n",
      "synchronizedFields_min\n",
      "synchronizedFields_max\n",
      "synchronizedFields_std\n",
      "nosi_mean\n",
      "nosi_min\n",
      "nosi_max\n",
      "nosi_std\n",
      "loc_mean\n",
      "loc_min\n",
      "loc_max\n",
      "loc_std\n",
      "returnQty_mean\n",
      "returnQty_min\n",
      "returnQty_max\n",
      "returnQty_std\n",
      "loopQty_mean\n",
      "loopQty_min\n",
      "loopQty_max\n",
      "loopQty_std\n",
      "comparisonsQty_mean\n",
      "comparisonsQty_min\n",
      "comparisonsQty_max\n",
      "comparisonsQty_std\n",
      "tryCatchQty_mean\n",
      "tryCatchQty_min\n",
      "tryCatchQty_max\n",
      "tryCatchQty_std\n",
      "parenthesizedExpsQty_mean\n",
      "parenthesizedExpsQty_min\n",
      "parenthesizedExpsQty_max\n",
      "parenthesizedExpsQty_std\n",
      "stringLiteralsQty_mean\n",
      "stringLiteralsQty_min\n",
      "stringLiteralsQty_max\n",
      "stringLiteralsQty_std\n",
      "numbersQty_mean\n",
      "numbersQty_min\n",
      "numbersQty_max\n",
      "numbersQty_std\n",
      "assignmentsQty_mean\n",
      "assignmentsQty_min\n",
      "assignmentsQty_max\n",
      "assignmentsQty_std\n",
      "mathOperationsQty_mean\n",
      "mathOperationsQty_min\n",
      "mathOperationsQty_max\n",
      "mathOperationsQty_std\n",
      "variablesQty_mean\n",
      "variablesQty_min\n",
      "variablesQty_max\n",
      "variablesQty_std\n",
      "maxNestedBlocks_mean\n",
      "maxNestedBlocks_min\n",
      "maxNestedBlocks_max\n",
      "maxNestedBlocks_std\n",
      "anonymousClassesQty_mean\n",
      "anonymousClassesQty_min\n",
      "anonymousClassesQty_max\n",
      "anonymousClassesQty_std\n",
      "subClassesQty_mean\n",
      "subClassesQty_min\n",
      "subClassesQty_max\n",
      "subClassesQty_std\n",
      "lambdasQty_mean\n",
      "lambdasQty_min\n",
      "lambdasQty_max\n",
      "lambdasQty_std\n",
      "uniqueWordsQty_mean\n",
      "uniqueWordsQty_min\n",
      "uniqueWordsQty_max\n",
      "uniqueWordsQty_std\n",
      "modifiers_mean\n",
      "modifiers_min\n",
      "modifiers_max\n",
      "modifiers_std\n",
      "num_dependency_mean\n",
      "num_dependency_min\n",
      "num_dependency_max\n",
      "num_dependency_std\n",
      "num_line_affected_mean\n",
      "num_line_affected_min\n",
      "num_line_affected_max\n",
      "num_line_affected_std\n",
      "actual_num_of_classes_touched_mean\n",
      "actual_num_of_classes_touched_min\n",
      "actual_num_of_classes_touched_max\n",
      "actual_num_of_classes_touched_std\n",
      "commit_line_changed\n",
      "refactoring_perc\n",
      "refactoring_perc_time_taken\n"
     ]
    }
   ],
   "source": [
    "for column in main_df:\n",
    "    print(column)"
   ]
  },
  {
   "cell_type": "code",
   "execution_count": 6,
   "metadata": {},
   "outputs": [
    {
     "data": {
      "text/plain": [
       "200"
      ]
     },
     "execution_count": 6,
     "metadata": {},
     "output_type": "execute_result"
    }
   ],
   "source": [
    "len(main_df)"
   ]
  },
  {
   "cell_type": "code",
   "execution_count": 7,
   "metadata": {},
   "outputs": [],
   "source": [
    "def plotGraph(y_test,y_pred,regressorName):\n",
    "    if max(y_test) >= max(y_pred):\n",
    "        my_range = int(max(y_test))\n",
    "    else:\n",
    "        my_range = int(max(y_pred))\n",
    "    plt.scatter(range(len(y_test)), y_test, color='blue', label='y_test')\n",
    "    plt.scatter(range(len(y_pred)), y_pred, color='red', label='y_pred')\n",
    "    plt.title(regressorName)\n",
    "    plt.legend(loc=\"upper left\")\n",
    "    plt.show()\n",
    "    return"
   ]
  },
  {
   "cell_type": "code",
   "execution_count": 8,
   "metadata": {},
   "outputs": [
    {
     "data": {
      "image/png": "[encoded data removed]",
      "text/plain": [
       "<Figure size 432x288 with 1 Axes>"
      ]
     },
     "metadata": {
      "needs_background": "light"
     },
     "output_type": "display_data"
    }
   ],
   "source": [
    "plotGraph(main_df['time_taken'], main_df['refactoring_perc_time_taken'],' test')"
   ]
  },
  {
   "cell_type": "code",
   "execution_count": 9,
   "metadata": {},
   "outputs": [],
   "source": [
    "def get_final_time_taken(row):\n",
    "    if row['time_taken'] > row['time_taken_q90']:\n",
    "        return row['time_taken'] - row['time_taken_q90']\n",
    "    elif row['time_taken'] > row['time_taken_q80']:\n",
    "        return row['time_taken'] - row['time_taken_q80']\n",
    "    elif row['time_taken'] > row['time_taken_q60']:\n",
    "        return row['time_taken'] - row['time_taken_q60']\n",
    "    elif row['time_taken'] > row['time_taken_q40']:\n",
    "        return row['time_taken'] - row['time_taken_q40']\n",
    "    elif row['time_taken'] > row['time_taken_q20']:\n",
    "        return row['time_taken'] - row['time_taken_q20']"
   ]
  },
  {
   "cell_type": "code",
   "execution_count": 10,
   "metadata": {},
   "outputs": [],
   "source": [
    "main_df['time_taken_final'] = main_df.apply(lambda row: get_final_time_taken(row), axis=1)\n",
    "\n"
   ]
  },
  {
   "cell_type": "code",
   "execution_count": 11,
   "metadata": {},
   "outputs": [
    {
     "data": {
      "image/png": "[encoded data removed]",
      "text/plain": [
       "<Figure size 432x288 with 1 Axes>"
      ]
     },
     "metadata": {
      "needs_background": "light"
     },
     "output_type": "display_data"
    }
   ],
   "source": [
    "plotGraph(main_df['time_taken_final'], main_df['time_taken_mean'],' test')"
   ]
  },
  {
   "cell_type": "code",
   "execution_count": 12,
   "metadata": {},
   "outputs": [
    {
     "data": {
      "text/plain": [
       "{'whiskers': [<matplotlib.lines.Line2D at 0x209c22c5cc0>,\n",
       "  <matplotlib.lines.Line2D at 0x209c22c5fd0>],\n",
       " 'caps': [<matplotlib.lines.Line2D at 0x209c22d4390>,\n",
       "  <matplotlib.lines.Line2D at 0x209c22d4710>],\n",
       " 'boxes': [<matplotlib.lines.Line2D at 0x209c22c5b70>],\n",
       " 'medians': [<matplotlib.lines.Line2D at 0x209c22d4a90>],\n",
       " 'fliers': [<matplotlib.lines.Line2D at 0x209c22d4e10>],\n",
       " 'means': []}"
      ]
     },
     "execution_count": 12,
     "metadata": {},
     "output_type": "execute_result"
    },
    {
     "data": {
      "image/png": "[encoded data removed]",
      "text/plain": [
       "<Figure size 432x288 with 1 Axes>"
      ]
     },
     "metadata": {
      "needs_background": "light"
     },
     "output_type": "display_data"
    }
   ],
   "source": [
    "plt.boxplot(main_df['refactoring_perc_time_taken'])"
   ]
  },
  {
   "cell_type": "code",
   "execution_count": 13,
   "metadata": {},
   "outputs": [],
   "source": [
    "main_df = main_df[main_df['refactoring_perc_time_taken'] >= 2]\n",
    "main_df = main_df[main_df['refactoring_perc_time_taken'] <= 40]"
   ]
  },
  {
   "cell_type": "code",
   "execution_count": 14,
   "metadata": {},
   "outputs": [
    {
     "data": {
      "text/plain": [
       "{'whiskers': [<matplotlib.lines.Line2D at 0x209c2337c88>,\n",
       "  <matplotlib.lines.Line2D at 0x209c2337f98>],\n",
       " 'caps': [<matplotlib.lines.Line2D at 0x209c2346358>,\n",
       "  <matplotlib.lines.Line2D at 0x209c23466d8>],\n",
       " 'boxes': [<matplotlib.lines.Line2D at 0x209c2337b38>],\n",
       " 'medians': [<matplotlib.lines.Line2D at 0x209c2346a58>],\n",
       " 'fliers': [<matplotlib.lines.Line2D at 0x209c2346dd8>],\n",
       " 'means': []}"
      ]
     },
     "execution_count": 14,
     "metadata": {},
     "output_type": "execute_result"
    },
    {
     "data": {
      "image/png": "[encoded data removed]",
      "text/plain": [
       "<Figure size 432x288 with 1 Axes>"
      ]
     },
     "metadata": {
      "needs_background": "light"
     },
     "output_type": "display_data"
    }
   ],
   "source": [
    "plt.boxplot(main_df['refactoring_perc_time_taken'])"
   ]
  },
  {
   "cell_type": "code",
   "execution_count": 15,
   "metadata": {},
   "outputs": [],
   "source": [
    "main_df = main_df[main_df['time_taken_final'] <= 60]\n",
    "main_df = main_df[main_df['time_taken_final'] > 2]"
   ]
  },
  {
   "cell_type": "code",
   "execution_count": 16,
   "metadata": {},
   "outputs": [
    {
     "data": {
      "text/plain": [
       "7.0     5\n",
       "3.0     5\n",
       "9.0     3\n",
       "2.8     2\n",
       "6.0     2\n",
       "8.0     2\n",
       "31.0    2\n",
       "8.2     2\n",
       "39.6    2\n",
       "15.4    2\n",
       "2.4     1\n",
       "16.6    1\n",
       "8.4     1\n",
       "43.0    1\n",
       "31.4    1\n",
       "10.4    1\n",
       "13.0    1\n",
       "16.0    1\n",
       "10.0    1\n",
       "18.0    1\n",
       "4.0     1\n",
       "24.0    1\n",
       "5.0     1\n",
       "8.6     1\n",
       "12.0    1\n",
       "35.6    1\n",
       "24.6    1\n",
       "37.1    1\n",
       "25.6    1\n",
       "26.6    1\n",
       "6.2     1\n",
       "12.4    1\n",
       "2.6     1\n",
       "10.2    1\n",
       "6.2     1\n",
       "14.4    1\n",
       "25.6    1\n",
       "37.6    1\n",
       "50.0    1\n",
       "8.8     1\n",
       "3.6     1\n",
       "17.6    1\n",
       "29.4    1\n",
       "15.0    1\n",
       "27.6    1\n",
       "Name: time_taken_final, dtype: int64"
      ]
     },
     "execution_count": 16,
     "metadata": {},
     "output_type": "execute_result"
    }
   ],
   "source": [
    "main_df['time_taken_final'].value_counts()"
   ]
  },
  {
   "cell_type": "code",
   "execution_count": 17,
   "metadata": {},
   "outputs": [
    {
     "data": {
      "text/plain": [
       "{'whiskers': [<matplotlib.lines.Line2D at 0x209c23ac0f0>,\n",
       "  <matplotlib.lines.Line2D at 0x209c23ac438>],\n",
       " 'caps': [<matplotlib.lines.Line2D at 0x209c23ac7b8>,\n",
       "  <matplotlib.lines.Line2D at 0x209c23acb38>],\n",
       " 'boxes': [<matplotlib.lines.Line2D at 0x209c239ef60>],\n",
       " 'medians': [<matplotlib.lines.Line2D at 0x209c23aceb8>],\n",
       " 'fliers': [<matplotlib.lines.Line2D at 0x209c23b4278>],\n",
       " 'means': []}"
      ]
     },
     "execution_count": 17,
     "metadata": {},
     "output_type": "execute_result"
    },
    {
     "data": {
      "image/png": "[encoded data removed]",
      "text/plain": [
       "<Figure size 432x288 with 1 Axes>"
      ]
     },
     "metadata": {
      "needs_background": "light"
     },
     "output_type": "display_data"
    }
   ],
   "source": [
    "plt.boxplot(main_df['time_taken_final'])"
   ]
  },
  {
   "cell_type": "code",
   "execution_count": 18,
   "metadata": {},
   "outputs": [],
   "source": [
    "main_df = main_df.fillna(0)"
   ]
  },
  {
   "cell_type": "code",
   "execution_count": 19,
   "metadata": {},
   "outputs": [
    {
     "data": {
      "text/html": [
       "<div>\n",
       "<style scoped>\n",
       "    .dataframe tbody tr th:only-of-type {\n",
       "        vertical-align: middle;\n",
       "    }\n",
       "\n",
       "    .dataframe tbody tr th {\n",
       "        vertical-align: top;\n",
       "    }\n",
       "\n",
       "    .dataframe thead th {\n",
       "        text-align: right;\n",
       "    }\n",
       "</style>\n",
       "<table border=\"1\" class=\"dataframe\">\n",
       "  <thead>\n",
       "    <tr style=\"text-align: right;\">\n",
       "      <th></th>\n",
       "      <th>kmean_label</th>\n",
       "      <th>time_taken_mean</th>\n",
       "      <th>time_taken_min</th>\n",
       "      <th>time_taken_max</th>\n",
       "      <th>time_taken_q10</th>\n",
       "      <th>time_taken_q20</th>\n",
       "      <th>time_taken_q25</th>\n",
       "      <th>time_taken_q30</th>\n",
       "      <th>time_taken_q40</th>\n",
       "      <th>time_taken_q50</th>\n",
       "      <th>...</th>\n",
       "      <th>num_line_affected_max</th>\n",
       "      <th>num_line_affected_std</th>\n",
       "      <th>actual_num_of_classes_touched_mean</th>\n",
       "      <th>actual_num_of_classes_touched_min</th>\n",
       "      <th>actual_num_of_classes_touched_max</th>\n",
       "      <th>actual_num_of_classes_touched_std</th>\n",
       "      <th>commit_line_changed</th>\n",
       "      <th>refactoring_perc</th>\n",
       "      <th>refactoring_perc_time_taken</th>\n",
       "      <th>time_taken_final</th>\n",
       "    </tr>\n",
       "  </thead>\n",
       "  <tbody>\n",
       "    <tr>\n",
       "      <th>2</th>\n",
       "      <td>6</td>\n",
       "      <td>12.820546</td>\n",
       "      <td>1.0</td>\n",
       "      <td>166.0</td>\n",
       "      <td>1.0</td>\n",
       "      <td>1.0</td>\n",
       "      <td>2.0</td>\n",
       "      <td>2.0</td>\n",
       "      <td>3.0</td>\n",
       "      <td>5.0</td>\n",
       "      <td>...</td>\n",
       "      <td>61</td>\n",
       "      <td>0.000000</td>\n",
       "      <td>2.000000</td>\n",
       "      <td>2</td>\n",
       "      <td>2</td>\n",
       "      <td>0.000000</td>\n",
       "      <td>8</td>\n",
       "      <td>1.000000</td>\n",
       "      <td>15.000000</td>\n",
       "      <td>7.0</td>\n",
       "    </tr>\n",
       "    <tr>\n",
       "      <th>9</th>\n",
       "      <td>10</td>\n",
       "      <td>14.581832</td>\n",
       "      <td>1.0</td>\n",
       "      <td>152.0</td>\n",
       "      <td>1.0</td>\n",
       "      <td>1.2</td>\n",
       "      <td>2.0</td>\n",
       "      <td>2.0</td>\n",
       "      <td>4.0</td>\n",
       "      <td>6.0</td>\n",
       "      <td>...</td>\n",
       "      <td>764</td>\n",
       "      <td>0.000000</td>\n",
       "      <td>9.000000</td>\n",
       "      <td>9</td>\n",
       "      <td>9</td>\n",
       "      <td>0.000000</td>\n",
       "      <td>202</td>\n",
       "      <td>1.000000</td>\n",
       "      <td>10.000000</td>\n",
       "      <td>6.0</td>\n",
       "    </tr>\n",
       "    <tr>\n",
       "      <th>11</th>\n",
       "      <td>10</td>\n",
       "      <td>14.581832</td>\n",
       "      <td>1.0</td>\n",
       "      <td>152.0</td>\n",
       "      <td>1.0</td>\n",
       "      <td>1.2</td>\n",
       "      <td>2.0</td>\n",
       "      <td>2.0</td>\n",
       "      <td>4.0</td>\n",
       "      <td>6.0</td>\n",
       "      <td>...</td>\n",
       "      <td>115</td>\n",
       "      <td>0.000000</td>\n",
       "      <td>4.500000</td>\n",
       "      <td>3</td>\n",
       "      <td>6</td>\n",
       "      <td>2.121320</td>\n",
       "      <td>400</td>\n",
       "      <td>0.287500</td>\n",
       "      <td>9.487500</td>\n",
       "      <td>12.0</td>\n",
       "    </tr>\n",
       "    <tr>\n",
       "      <th>15</th>\n",
       "      <td>10</td>\n",
       "      <td>14.581832</td>\n",
       "      <td>1.0</td>\n",
       "      <td>152.0</td>\n",
       "      <td>1.0</td>\n",
       "      <td>1.2</td>\n",
       "      <td>2.0</td>\n",
       "      <td>2.0</td>\n",
       "      <td>4.0</td>\n",
       "      <td>6.0</td>\n",
       "      <td>...</td>\n",
       "      <td>47</td>\n",
       "      <td>0.000000</td>\n",
       "      <td>9.333333</td>\n",
       "      <td>1</td>\n",
       "      <td>14</td>\n",
       "      <td>7.234178</td>\n",
       "      <td>176</td>\n",
       "      <td>0.267045</td>\n",
       "      <td>5.340909</td>\n",
       "      <td>8.0</td>\n",
       "    </tr>\n",
       "    <tr>\n",
       "      <th>0</th>\n",
       "      <td>1</td>\n",
       "      <td>46.327198</td>\n",
       "      <td>1.0</td>\n",
       "      <td>167.0</td>\n",
       "      <td>2.0</td>\n",
       "      <td>6.6</td>\n",
       "      <td>11.0</td>\n",
       "      <td>16.0</td>\n",
       "      <td>22.2</td>\n",
       "      <td>28.0</td>\n",
       "      <td>...</td>\n",
       "      <td>175</td>\n",
       "      <td>78.488853</td>\n",
       "      <td>68.500000</td>\n",
       "      <td>59</td>\n",
       "      <td>78</td>\n",
       "      <td>13.435029</td>\n",
       "      <td>780</td>\n",
       "      <td>0.082051</td>\n",
       "      <td>2.051282</td>\n",
       "      <td>2.8</td>\n",
       "    </tr>\n",
       "    <tr>\n",
       "      <th>...</th>\n",
       "      <td>...</td>\n",
       "      <td>...</td>\n",
       "      <td>...</td>\n",
       "      <td>...</td>\n",
       "      <td>...</td>\n",
       "      <td>...</td>\n",
       "      <td>...</td>\n",
       "      <td>...</td>\n",
       "      <td>...</td>\n",
       "      <td>...</td>\n",
       "      <td>...</td>\n",
       "      <td>...</td>\n",
       "      <td>...</td>\n",
       "      <td>...</td>\n",
       "      <td>...</td>\n",
       "      <td>...</td>\n",
       "      <td>...</td>\n",
       "      <td>...</td>\n",
       "      <td>...</td>\n",
       "      <td>...</td>\n",
       "      <td>...</td>\n",
       "    </tr>\n",
       "    <tr>\n",
       "      <th>4</th>\n",
       "      <td>1</td>\n",
       "      <td>15.567240</td>\n",
       "      <td>1.0</td>\n",
       "      <td>163.0</td>\n",
       "      <td>1.0</td>\n",
       "      <td>2.0</td>\n",
       "      <td>2.0</td>\n",
       "      <td>3.0</td>\n",
       "      <td>4.0</td>\n",
       "      <td>8.0</td>\n",
       "      <td>...</td>\n",
       "      <td>15</td>\n",
       "      <td>0.000000</td>\n",
       "      <td>1.000000</td>\n",
       "      <td>1</td>\n",
       "      <td>1</td>\n",
       "      <td>0.000000</td>\n",
       "      <td>114</td>\n",
       "      <td>0.131579</td>\n",
       "      <td>2.500000</td>\n",
       "      <td>7.0</td>\n",
       "    </tr>\n",
       "    <tr>\n",
       "      <th>8</th>\n",
       "      <td>5</td>\n",
       "      <td>11.102628</td>\n",
       "      <td>1.0</td>\n",
       "      <td>167.0</td>\n",
       "      <td>1.0</td>\n",
       "      <td>1.0</td>\n",
       "      <td>2.0</td>\n",
       "      <td>2.0</td>\n",
       "      <td>3.0</td>\n",
       "      <td>4.0</td>\n",
       "      <td>...</td>\n",
       "      <td>67</td>\n",
       "      <td>9.192388</td>\n",
       "      <td>1.500000</td>\n",
       "      <td>1</td>\n",
       "      <td>2</td>\n",
       "      <td>0.707107</td>\n",
       "      <td>12</td>\n",
       "      <td>1.000000</td>\n",
       "      <td>17.000000</td>\n",
       "      <td>9.0</td>\n",
       "    </tr>\n",
       "    <tr>\n",
       "      <th>9</th>\n",
       "      <td>5</td>\n",
       "      <td>11.102628</td>\n",
       "      <td>1.0</td>\n",
       "      <td>167.0</td>\n",
       "      <td>1.0</td>\n",
       "      <td>1.0</td>\n",
       "      <td>2.0</td>\n",
       "      <td>2.0</td>\n",
       "      <td>3.0</td>\n",
       "      <td>4.0</td>\n",
       "      <td>...</td>\n",
       "      <td>20</td>\n",
       "      <td>0.000000</td>\n",
       "      <td>24.000000</td>\n",
       "      <td>24</td>\n",
       "      <td>24</td>\n",
       "      <td>0.000000</td>\n",
       "      <td>185</td>\n",
       "      <td>0.108108</td>\n",
       "      <td>8.108108</td>\n",
       "      <td>50.0</td>\n",
       "    </tr>\n",
       "    <tr>\n",
       "      <th>1</th>\n",
       "      <td>6</td>\n",
       "      <td>24.722772</td>\n",
       "      <td>1.0</td>\n",
       "      <td>148.0</td>\n",
       "      <td>2.0</td>\n",
       "      <td>3.0</td>\n",
       "      <td>4.0</td>\n",
       "      <td>6.0</td>\n",
       "      <td>10.4</td>\n",
       "      <td>14.0</td>\n",
       "      <td>...</td>\n",
       "      <td>907</td>\n",
       "      <td>362.783108</td>\n",
       "      <td>5.000000</td>\n",
       "      <td>2</td>\n",
       "      <td>8</td>\n",
       "      <td>2.581989</td>\n",
       "      <td>55</td>\n",
       "      <td>1.000000</td>\n",
       "      <td>13.000000</td>\n",
       "      <td>2.6</td>\n",
       "    </tr>\n",
       "    <tr>\n",
       "      <th>0</th>\n",
       "      <td>2</td>\n",
       "      <td>47.750000</td>\n",
       "      <td>3.0</td>\n",
       "      <td>165.0</td>\n",
       "      <td>8.2</td>\n",
       "      <td>19.4</td>\n",
       "      <td>20.5</td>\n",
       "      <td>21.9</td>\n",
       "      <td>24.4</td>\n",
       "      <td>34.0</td>\n",
       "      <td>...</td>\n",
       "      <td>30</td>\n",
       "      <td>0.000000</td>\n",
       "      <td>7.000000</td>\n",
       "      <td>7</td>\n",
       "      <td>7</td>\n",
       "      <td>0.000000</td>\n",
       "      <td>378</td>\n",
       "      <td>0.079365</td>\n",
       "      <td>4.126984</td>\n",
       "      <td>6.0</td>\n",
       "    </tr>\n",
       "  </tbody>\n",
       "</table>\n",
       "<p>62 rows × 203 columns</p>\n",
       "</div>"
      ],
      "text/plain": [
       "    kmean_label  time_taken_mean  time_taken_min  time_taken_max  \\\n",
       "2             6        12.820546             1.0           166.0   \n",
       "9            10        14.581832             1.0           152.0   \n",
       "11           10        14.581832             1.0           152.0   \n",
       "15           10        14.581832             1.0           152.0   \n",
       "0             1        46.327198             1.0           167.0   \n",
       "..          ...              ...             ...             ...   \n",
       "4             1        15.567240             1.0           163.0   \n",
       "8             5        11.102628             1.0           167.0   \n",
       "9             5        11.102628             1.0           167.0   \n",
       "1             6        24.722772             1.0           148.0   \n",
       "0             2        47.750000             3.0           165.0   \n",
       "\n",
       "    time_taken_q10  time_taken_q20  time_taken_q25  time_taken_q30  \\\n",
       "2              1.0             1.0             2.0             2.0   \n",
       "9              1.0             1.2             2.0             2.0   \n",
       "11             1.0             1.2             2.0             2.0   \n",
       "15             1.0             1.2             2.0             2.0   \n",
       "0              2.0             6.6            11.0            16.0   \n",
       "..             ...             ...             ...             ...   \n",
       "4              1.0             2.0             2.0             3.0   \n",
       "8              1.0             1.0             2.0             2.0   \n",
       "9              1.0             1.0             2.0             2.0   \n",
       "1              2.0             3.0             4.0             6.0   \n",
       "0              8.2            19.4            20.5            21.9   \n",
       "\n",
       "    time_taken_q40  time_taken_q50  ...  num_line_affected_max  \\\n",
       "2              3.0             5.0  ...                     61   \n",
       "9              4.0             6.0  ...                    764   \n",
       "11             4.0             6.0  ...                    115   \n",
       "15             4.0             6.0  ...                     47   \n",
       "0             22.2            28.0  ...                    175   \n",
       "..             ...             ...  ...                    ...   \n",
       "4              4.0             8.0  ...                     15   \n",
       "8              3.0             4.0  ...                     67   \n",
       "9              3.0             4.0  ...                     20   \n",
       "1             10.4            14.0  ...                    907   \n",
       "0             24.4            34.0  ...                     30   \n",
       "\n",
       "    num_line_affected_std  actual_num_of_classes_touched_mean  \\\n",
       "2                0.000000                            2.000000   \n",
       "9                0.000000                            9.000000   \n",
       "11               0.000000                            4.500000   \n",
       "15               0.000000                            9.333333   \n",
       "0               78.488853                           68.500000   \n",
       "..                    ...                                 ...   \n",
       "4                0.000000                            1.000000   \n",
       "8                9.192388                            1.500000   \n",
       "9                0.000000                           24.000000   \n",
       "1              362.783108                            5.000000   \n",
       "0                0.000000                            7.000000   \n",
       "\n",
       "    actual_num_of_classes_touched_min  actual_num_of_classes_touched_max  \\\n",
       "2                                   2                                  2   \n",
       "9                                   9                                  9   \n",
       "11                                  3                                  6   \n",
       "15                                  1                                 14   \n",
       "0                                  59                                 78   \n",
       "..                                ...                                ...   \n",
       "4                                   1                                  1   \n",
       "8                                   1                                  2   \n",
       "9                                  24                                 24   \n",
       "1                                   2                                  8   \n",
       "0                                   7                                  7   \n",
       "\n",
       "   actual_num_of_classes_touched_std commit_line_changed refactoring_perc  \\\n",
       "2                           0.000000                   8         1.000000   \n",
       "9                           0.000000                 202         1.000000   \n",
       "11                          2.121320                 400         0.287500   \n",
       "15                          7.234178                 176         0.267045   \n",
       "0                          13.435029                 780         0.082051   \n",
       "..                               ...                 ...              ...   \n",
       "4                           0.000000                 114         0.131579   \n",
       "8                           0.707107                  12         1.000000   \n",
       "9                           0.000000                 185         0.108108   \n",
       "1                           2.581989                  55         1.000000   \n",
       "0                           0.000000                 378         0.079365   \n",
       "\n",
       "   refactoring_perc_time_taken time_taken_final  \n",
       "2                    15.000000              7.0  \n",
       "9                    10.000000              6.0  \n",
       "11                    9.487500             12.0  \n",
       "15                    5.340909              8.0  \n",
       "0                     2.051282              2.8  \n",
       "..                         ...              ...  \n",
       "4                     2.500000              7.0  \n",
       "8                    17.000000              9.0  \n",
       "9                     8.108108             50.0  \n",
       "1                    13.000000              2.6  \n",
       "0                     4.126984              6.0  \n",
       "\n",
       "[62 rows x 203 columns]"
      ]
     },
     "execution_count": 19,
     "metadata": {},
     "output_type": "execute_result"
    }
   ],
   "source": [
    "main_df"
   ]
  },
  {
   "cell_type": "code",
   "execution_count": 20,
   "metadata": {},
   "outputs": [],
   "source": [
    "main_df.to_csv('test_effort_model.csv', index=False)"
   ]
  },
  {
   "cell_type": "markdown",
   "metadata": {},
   "source": [
    "## EDA (Run only if absolutely necessary on minimum features)"
   ]
  },
  {
   "cell_type": "code",
   "execution_count": 21,
   "metadata": {
    "scrolled": false
   },
   "outputs": [],
   "source": [
    "#from pandas_profiling import ProfileReport\n",
    "\n",
    "#profile = ProfileReport(main_df, title=\"Pandas Profiling Report\",explorative=True)\n",
    "#profile"
   ]
  },
  {
   "cell_type": "code",
   "execution_count": 22,
   "metadata": {},
   "outputs": [
    {
     "name": "stdout",
     "output_type": "stream",
     "text": [
      "kmean_label\n",
      "time_taken_mean\n",
      "time_taken_min\n",
      "time_taken_max\n",
      "time_taken_q10\n",
      "time_taken_q20\n",
      "time_taken_q25\n",
      "time_taken_q30\n",
      "time_taken_q40\n",
      "time_taken_q50\n",
      "time_taken_q60\n",
      "time_taken_q70\n",
      "time_taken_q75\n",
      "time_taken_q80\n",
      "time_taken_q90\n",
      "sha\n",
      "name\n",
      "email\n",
      "date\n",
      "login\n",
      "message\n",
      "parent_sha\n",
      "parent_date\n",
      "time_taken\n",
      "contains_refactoring\n",
      "project_name\n",
      "commit_compared_with\n",
      "cbo_mean\n",
      "cbo_min\n",
      "cbo_max\n",
      "cbo_std\n",
      "wmc_mean\n",
      "wmc_min\n",
      "wmc_max\n",
      "wmc_std\n",
      "dit_mean\n",
      "dit_min\n",
      "dit_max\n",
      "dit_std\n",
      "rfc_mean\n",
      "rfc_min\n",
      "rfc_max\n",
      "rfc_std\n",
      "lcom_mean\n",
      "lcom_min\n",
      "lcom_max\n",
      "lcom_std\n",
      "totalMethods_mean\n",
      "totalMethods_min\n",
      "totalMethods_max\n",
      "totalMethods_std\n",
      "staticMethods_mean\n",
      "staticMethods_min\n",
      "staticMethods_max\n",
      "staticMethods_std\n",
      "publicMethods_mean\n",
      "publicMethods_min\n",
      "publicMethods_max\n",
      "publicMethods_std\n",
      "privateMethods_mean\n",
      "privateMethods_min\n",
      "privateMethods_max\n",
      "privateMethods_std\n",
      "protectedMethods_mean\n",
      "protectedMethods_min\n",
      "protectedMethods_max\n",
      "protectedMethods_std\n",
      "defaultMethods_mean\n",
      "defaultMethods_min\n",
      "defaultMethods_max\n",
      "defaultMethods_std\n",
      "abstractMethods_mean\n",
      "abstractMethods_min\n",
      "abstractMethods_max\n",
      "abstractMethods_std\n",
      "finalMethods_mean\n",
      "finalMethods_min\n",
      "finalMethods_max\n",
      "finalMethods_std\n",
      "synchronizedMethods_mean\n",
      "synchronizedMethods_min\n",
      "synchronizedMethods_max\n",
      "synchronizedMethods_std\n",
      "totalFields_mean\n",
      "totalFields_min\n",
      "totalFields_max\n",
      "totalFields_std\n",
      "staticFields_mean\n",
      "staticFields_min\n",
      "staticFields_max\n",
      "staticFields_std\n",
      "publicFields_mean\n",
      "publicFields_min\n",
      "publicFields_max\n",
      "publicFields_std\n",
      "privateFields_mean\n",
      "privateFields_min\n",
      "privateFields_max\n",
      "privateFields_std\n",
      "protectedFields_mean\n",
      "protectedFields_min\n",
      "protectedFields_max\n",
      "protectedFields_std\n",
      "defaultFields_mean\n",
      "defaultFields_min\n",
      "defaultFields_max\n",
      "defaultFields_std\n",
      "finalFields_mean\n",
      "finalFields_min\n",
      "finalFields_max\n",
      "finalFields_std\n",
      "synchronizedFields_mean\n",
      "synchronizedFields_min\n",
      "synchronizedFields_max\n",
      "synchronizedFields_std\n",
      "nosi_mean\n",
      "nosi_min\n",
      "nosi_max\n",
      "nosi_std\n",
      "loc_mean\n",
      "loc_min\n",
      "loc_max\n",
      "loc_std\n",
      "returnQty_mean\n",
      "returnQty_min\n",
      "returnQty_max\n",
      "returnQty_std\n",
      "loopQty_mean\n",
      "loopQty_min\n",
      "loopQty_max\n",
      "loopQty_std\n",
      "comparisonsQty_mean\n",
      "comparisonsQty_min\n",
      "comparisonsQty_max\n",
      "comparisonsQty_std\n",
      "tryCatchQty_mean\n",
      "tryCatchQty_min\n",
      "tryCatchQty_max\n",
      "tryCatchQty_std\n",
      "parenthesizedExpsQty_mean\n",
      "parenthesizedExpsQty_min\n",
      "parenthesizedExpsQty_max\n",
      "parenthesizedExpsQty_std\n",
      "stringLiteralsQty_mean\n",
      "stringLiteralsQty_min\n",
      "stringLiteralsQty_max\n",
      "stringLiteralsQty_std\n",
      "numbersQty_mean\n",
      "numbersQty_min\n",
      "numbersQty_max\n",
      "numbersQty_std\n",
      "assignmentsQty_mean\n",
      "assignmentsQty_min\n",
      "assignmentsQty_max\n",
      "assignmentsQty_std\n",
      "mathOperationsQty_mean\n",
      "mathOperationsQty_min\n",
      "mathOperationsQty_max\n",
      "mathOperationsQty_std\n",
      "variablesQty_mean\n",
      "variablesQty_min\n",
      "variablesQty_max\n",
      "variablesQty_std\n",
      "maxNestedBlocks_mean\n",
      "maxNestedBlocks_min\n",
      "maxNestedBlocks_max\n",
      "maxNestedBlocks_std\n",
      "anonymousClassesQty_mean\n",
      "anonymousClassesQty_min\n",
      "anonymousClassesQty_max\n",
      "anonymousClassesQty_std\n",
      "subClassesQty_mean\n",
      "subClassesQty_min\n",
      "subClassesQty_max\n",
      "subClassesQty_std\n",
      "lambdasQty_mean\n",
      "lambdasQty_min\n",
      "lambdasQty_max\n",
      "lambdasQty_std\n",
      "uniqueWordsQty_mean\n",
      "uniqueWordsQty_min\n",
      "uniqueWordsQty_max\n",
      "uniqueWordsQty_std\n",
      "modifiers_mean\n",
      "modifiers_min\n",
      "modifiers_max\n",
      "modifiers_std\n",
      "num_dependency_mean\n",
      "num_dependency_min\n",
      "num_dependency_max\n",
      "num_dependency_std\n",
      "num_line_affected_mean\n",
      "num_line_affected_min\n",
      "num_line_affected_max\n",
      "num_line_affected_std\n",
      "actual_num_of_classes_touched_mean\n",
      "actual_num_of_classes_touched_min\n",
      "actual_num_of_classes_touched_max\n",
      "actual_num_of_classes_touched_std\n",
      "commit_line_changed\n",
      "refactoring_perc\n",
      "refactoring_perc_time_taken\n",
      "time_taken_final\n"
     ]
    }
   ],
   "source": [
    "for columns in main_df.columns:\n",
    "    print(columns)"
   ]
  },
  {
   "cell_type": "markdown",
   "metadata": {},
   "source": [
    "### Only taking mean for num_dependency and num_line_affected since there is only one"
   ]
  },
  {
   "cell_type": "code",
   "execution_count": 23,
   "metadata": {},
   "outputs": [],
   "source": [
    "final_col = []\n",
    "column_to_skip = ['sha',\n",
    "'name','email','login',\n",
    "'date','message',\n",
    "'parent_sha','parent_date',\n",
    "'time_taken','contains_refactoring',\n",
    "'kmean_label','time_taken_mean',\n",
    "'time_taken_min',\n",
    "'time_taken_max',\n",
    "'time_taken_q10',\n",
    "'time_taken_q20',\n",
    "'time_taken_q25',\n",
    "'time_taken_q30',\n",
    "'time_taken_q40',\n",
    "'time_taken_q50',\n",
    "'time_taken_q60',\n",
    "'time_taken_q70',\n",
    "'time_taken_q75',\n",
    "'time_taken_q80',\n",
    "'time_taken_q90',\n",
    "'project_name','commit_compared_with',\n",
    "'actual_num_of_classes_touched_mean',\n",
    " 'actual_num_of_classes_touched_min',\n",
    " 'actual_num_of_classes_touched_max',\n",
    " 'actual_num_of_classes_touched_std',\n",
    "'num_dependency_min',\n",
    "'num_dependency_max',\n",
    "'num_dependency_std',\n",
    "'num_line_affected_min',\n",
    "'num_line_affected_max',\n",
    "'num_line_affected_std', 'time_taken_final',\n",
    "'commit_line_changed',\n",
    "'refactoring_perc'\n",
    " ]\n",
    "for element in main_df.columns:\n",
    "    #print(\"'\" + element + \"',\")\n",
    "    if element not in column_to_skip:\n",
    "        final_col.append(element)"
   ]
  },
  {
   "cell_type": "code",
   "execution_count": 24,
   "metadata": {},
   "outputs": [
    {
     "data": {
      "text/plain": [
       "['cbo_mean',\n",
       " 'cbo_min',\n",
       " 'cbo_max',\n",
       " 'cbo_std',\n",
       " 'wmc_mean',\n",
       " 'wmc_min',\n",
       " 'wmc_max',\n",
       " 'wmc_std',\n",
       " 'dit_mean',\n",
       " 'dit_min',\n",
       " 'dit_max',\n",
       " 'dit_std',\n",
       " 'rfc_mean',\n",
       " 'rfc_min',\n",
       " 'rfc_max',\n",
       " 'rfc_std',\n",
       " 'lcom_mean',\n",
       " 'lcom_min',\n",
       " 'lcom_max',\n",
       " 'lcom_std',\n",
       " 'totalMethods_mean',\n",
       " 'totalMethods_min',\n",
       " 'totalMethods_max',\n",
       " 'totalMethods_std',\n",
       " 'staticMethods_mean',\n",
       " 'staticMethods_min',\n",
       " 'staticMethods_max',\n",
       " 'staticMethods_std',\n",
       " 'publicMethods_mean',\n",
       " 'publicMethods_min',\n",
       " 'publicMethods_max',\n",
       " 'publicMethods_std',\n",
       " 'privateMethods_mean',\n",
       " 'privateMethods_min',\n",
       " 'privateMethods_max',\n",
       " 'privateMethods_std',\n",
       " 'protectedMethods_mean',\n",
       " 'protectedMethods_min',\n",
       " 'protectedMethods_max',\n",
       " 'protectedMethods_std',\n",
       " 'defaultMethods_mean',\n",
       " 'defaultMethods_min',\n",
       " 'defaultMethods_max',\n",
       " 'defaultMethods_std',\n",
       " 'abstractMethods_mean',\n",
       " 'abstractMethods_min',\n",
       " 'abstractMethods_max',\n",
       " 'abstractMethods_std',\n",
       " 'finalMethods_mean',\n",
       " 'finalMethods_min',\n",
       " 'finalMethods_max',\n",
       " 'finalMethods_std',\n",
       " 'synchronizedMethods_mean',\n",
       " 'synchronizedMethods_min',\n",
       " 'synchronizedMethods_max',\n",
       " 'synchronizedMethods_std',\n",
       " 'totalFields_mean',\n",
       " 'totalFields_min',\n",
       " 'totalFields_max',\n",
       " 'totalFields_std',\n",
       " 'staticFields_mean',\n",
       " 'staticFields_min',\n",
       " 'staticFields_max',\n",
       " 'staticFields_std',\n",
       " 'publicFields_mean',\n",
       " 'publicFields_min',\n",
       " 'publicFields_max',\n",
       " 'publicFields_std',\n",
       " 'privateFields_mean',\n",
       " 'privateFields_min',\n",
       " 'privateFields_max',\n",
       " 'privateFields_std',\n",
       " 'protectedFields_mean',\n",
       " 'protectedFields_min',\n",
       " 'protectedFields_max',\n",
       " 'protectedFields_std',\n",
       " 'defaultFields_mean',\n",
       " 'defaultFields_min',\n",
       " 'defaultFields_max',\n",
       " 'defaultFields_std',\n",
       " 'finalFields_mean',\n",
       " 'finalFields_min',\n",
       " 'finalFields_max',\n",
       " 'finalFields_std',\n",
       " 'synchronizedFields_mean',\n",
       " 'synchronizedFields_min',\n",
       " 'synchronizedFields_max',\n",
       " 'synchronizedFields_std',\n",
       " 'nosi_mean',\n",
       " 'nosi_min',\n",
       " 'nosi_max',\n",
       " 'nosi_std',\n",
       " 'loc_mean',\n",
       " 'loc_min',\n",
       " 'loc_max',\n",
       " 'loc_std',\n",
       " 'returnQty_mean',\n",
       " 'returnQty_min',\n",
       " 'returnQty_max',\n",
       " 'returnQty_std',\n",
       " 'loopQty_mean',\n",
       " 'loopQty_min',\n",
       " 'loopQty_max',\n",
       " 'loopQty_std',\n",
       " 'comparisonsQty_mean',\n",
       " 'comparisonsQty_min',\n",
       " 'comparisonsQty_max',\n",
       " 'comparisonsQty_std',\n",
       " 'tryCatchQty_mean',\n",
       " 'tryCatchQty_min',\n",
       " 'tryCatchQty_max',\n",
       " 'tryCatchQty_std',\n",
       " 'parenthesizedExpsQty_mean',\n",
       " 'parenthesizedExpsQty_min',\n",
       " 'parenthesizedExpsQty_max',\n",
       " 'parenthesizedExpsQty_std',\n",
       " 'stringLiteralsQty_mean',\n",
       " 'stringLiteralsQty_min',\n",
       " 'stringLiteralsQty_max',\n",
       " 'stringLiteralsQty_std',\n",
       " 'numbersQty_mean',\n",
       " 'numbersQty_min',\n",
       " 'numbersQty_max',\n",
       " 'numbersQty_std',\n",
       " 'assignmentsQty_mean',\n",
       " 'assignmentsQty_min',\n",
       " 'assignmentsQty_max',\n",
       " 'assignmentsQty_std',\n",
       " 'mathOperationsQty_mean',\n",
       " 'mathOperationsQty_min',\n",
       " 'mathOperationsQty_max',\n",
       " 'mathOperationsQty_std',\n",
       " 'variablesQty_mean',\n",
       " 'variablesQty_min',\n",
       " 'variablesQty_max',\n",
       " 'variablesQty_std',\n",
       " 'maxNestedBlocks_mean',\n",
       " 'maxNestedBlocks_min',\n",
       " 'maxNestedBlocks_max',\n",
       " 'maxNestedBlocks_std',\n",
       " 'anonymousClassesQty_mean',\n",
       " 'anonymousClassesQty_min',\n",
       " 'anonymousClassesQty_max',\n",
       " 'anonymousClassesQty_std',\n",
       " 'subClassesQty_mean',\n",
       " 'subClassesQty_min',\n",
       " 'subClassesQty_max',\n",
       " 'subClassesQty_std',\n",
       " 'lambdasQty_mean',\n",
       " 'lambdasQty_min',\n",
       " 'lambdasQty_max',\n",
       " 'lambdasQty_std',\n",
       " 'uniqueWordsQty_mean',\n",
       " 'uniqueWordsQty_min',\n",
       " 'uniqueWordsQty_max',\n",
       " 'uniqueWordsQty_std',\n",
       " 'modifiers_mean',\n",
       " 'modifiers_min',\n",
       " 'modifiers_max',\n",
       " 'modifiers_std',\n",
       " 'num_dependency_mean',\n",
       " 'num_line_affected_mean',\n",
       " 'refactoring_perc_time_taken']"
      ]
     },
     "execution_count": 24,
     "metadata": {},
     "output_type": "execute_result"
    }
   ],
   "source": [
    "final_col"
   ]
  },
  {
   "cell_type": "code",
   "execution_count": 25,
   "metadata": {},
   "outputs": [],
   "source": [
    "X_col = final_col.copy()\n",
    "X_col.remove('refactoring_perc_time_taken')\n",
    "Y_col = ['refactoring_perc_time_taken']\n",
    "\n",
    "X = main_df[X_col]\n",
    "y = main_df[Y_col]\n",
    "final_df = main_df[final_col]"
   ]
  },
  {
   "cell_type": "code",
   "execution_count": 26,
   "metadata": {},
   "outputs": [
    {
     "data": {
      "text/html": [
       "<div>\n",
       "<style scoped>\n",
       "    .dataframe tbody tr th:only-of-type {\n",
       "        vertical-align: middle;\n",
       "    }\n",
       "\n",
       "    .dataframe tbody tr th {\n",
       "        vertical-align: top;\n",
       "    }\n",
       "\n",
       "    .dataframe thead th {\n",
       "        text-align: right;\n",
       "    }\n",
       "</style>\n",
       "<table border=\"1\" class=\"dataframe\">\n",
       "  <thead>\n",
       "    <tr style=\"text-align: right;\">\n",
       "      <th></th>\n",
       "      <th>cbo_mean</th>\n",
       "      <th>cbo_min</th>\n",
       "      <th>cbo_max</th>\n",
       "      <th>cbo_std</th>\n",
       "      <th>wmc_mean</th>\n",
       "      <th>wmc_min</th>\n",
       "      <th>wmc_max</th>\n",
       "      <th>wmc_std</th>\n",
       "      <th>dit_mean</th>\n",
       "      <th>dit_min</th>\n",
       "      <th>...</th>\n",
       "      <th>uniqueWordsQty_mean</th>\n",
       "      <th>uniqueWordsQty_min</th>\n",
       "      <th>uniqueWordsQty_max</th>\n",
       "      <th>uniqueWordsQty_std</th>\n",
       "      <th>modifiers_mean</th>\n",
       "      <th>modifiers_min</th>\n",
       "      <th>modifiers_max</th>\n",
       "      <th>modifiers_std</th>\n",
       "      <th>num_dependency_mean</th>\n",
       "      <th>num_line_affected_mean</th>\n",
       "    </tr>\n",
       "  </thead>\n",
       "  <tbody>\n",
       "    <tr>\n",
       "      <th>2</th>\n",
       "      <td>11.0</td>\n",
       "      <td>11</td>\n",
       "      <td>11</td>\n",
       "      <td>0.00000</td>\n",
       "      <td>8.0</td>\n",
       "      <td>8</td>\n",
       "      <td>8</td>\n",
       "      <td>0.000000</td>\n",
       "      <td>2.0</td>\n",
       "      <td>2</td>\n",
       "      <td>...</td>\n",
       "      <td>58.0</td>\n",
       "      <td>58</td>\n",
       "      <td>58</td>\n",
       "      <td>0.00000</td>\n",
       "      <td>17.0</td>\n",
       "      <td>17</td>\n",
       "      <td>17</td>\n",
       "      <td>0.0</td>\n",
       "      <td>85.0</td>\n",
       "      <td>61.0</td>\n",
       "    </tr>\n",
       "    <tr>\n",
       "      <th>9</th>\n",
       "      <td>38.0</td>\n",
       "      <td>38</td>\n",
       "      <td>38</td>\n",
       "      <td>0.00000</td>\n",
       "      <td>57.0</td>\n",
       "      <td>57</td>\n",
       "      <td>57</td>\n",
       "      <td>0.000000</td>\n",
       "      <td>1.0</td>\n",
       "      <td>1</td>\n",
       "      <td>...</td>\n",
       "      <td>279.0</td>\n",
       "      <td>279</td>\n",
       "      <td>279</td>\n",
       "      <td>0.00000</td>\n",
       "      <td>17.0</td>\n",
       "      <td>17</td>\n",
       "      <td>17</td>\n",
       "      <td>0.0</td>\n",
       "      <td>322.0</td>\n",
       "      <td>764.0</td>\n",
       "    </tr>\n",
       "    <tr>\n",
       "      <th>11</th>\n",
       "      <td>4.0</td>\n",
       "      <td>4</td>\n",
       "      <td>4</td>\n",
       "      <td>0.00000</td>\n",
       "      <td>15.0</td>\n",
       "      <td>15</td>\n",
       "      <td>15</td>\n",
       "      <td>0.000000</td>\n",
       "      <td>1.0</td>\n",
       "      <td>1</td>\n",
       "      <td>...</td>\n",
       "      <td>108.0</td>\n",
       "      <td>108</td>\n",
       "      <td>108</td>\n",
       "      <td>0.00000</td>\n",
       "      <td>1.0</td>\n",
       "      <td>1</td>\n",
       "      <td>1</td>\n",
       "      <td>0.0</td>\n",
       "      <td>371.0</td>\n",
       "      <td>115.0</td>\n",
       "    </tr>\n",
       "    <tr>\n",
       "      <th>15</th>\n",
       "      <td>3.0</td>\n",
       "      <td>3</td>\n",
       "      <td>3</td>\n",
       "      <td>0.00000</td>\n",
       "      <td>5.0</td>\n",
       "      <td>5</td>\n",
       "      <td>5</td>\n",
       "      <td>0.000000</td>\n",
       "      <td>1.0</td>\n",
       "      <td>1</td>\n",
       "      <td>...</td>\n",
       "      <td>38.0</td>\n",
       "      <td>38</td>\n",
       "      <td>38</td>\n",
       "      <td>0.00000</td>\n",
       "      <td>16.0</td>\n",
       "      <td>16</td>\n",
       "      <td>16</td>\n",
       "      <td>0.0</td>\n",
       "      <td>23.0</td>\n",
       "      <td>47.0</td>\n",
       "    </tr>\n",
       "    <tr>\n",
       "      <th>0</th>\n",
       "      <td>21.5</td>\n",
       "      <td>20</td>\n",
       "      <td>23</td>\n",
       "      <td>2.12132</td>\n",
       "      <td>9.0</td>\n",
       "      <td>6</td>\n",
       "      <td>12</td>\n",
       "      <td>4.242641</td>\n",
       "      <td>3.0</td>\n",
       "      <td>3</td>\n",
       "      <td>...</td>\n",
       "      <td>68.0</td>\n",
       "      <td>54</td>\n",
       "      <td>82</td>\n",
       "      <td>19.79899</td>\n",
       "      <td>0.0</td>\n",
       "      <td>0</td>\n",
       "      <td>0</td>\n",
       "      <td>0.0</td>\n",
       "      <td>12.5</td>\n",
       "      <td>119.5</td>\n",
       "    </tr>\n",
       "  </tbody>\n",
       "</table>\n",
       "<p>5 rows × 162 columns</p>\n",
       "</div>"
      ],
      "text/plain": [
       "    cbo_mean  cbo_min  cbo_max  cbo_std  wmc_mean  wmc_min  wmc_max   wmc_std  \\\n",
       "2       11.0       11       11  0.00000       8.0        8        8  0.000000   \n",
       "9       38.0       38       38  0.00000      57.0       57       57  0.000000   \n",
       "11       4.0        4        4  0.00000      15.0       15       15  0.000000   \n",
       "15       3.0        3        3  0.00000       5.0        5        5  0.000000   \n",
       "0       21.5       20       23  2.12132       9.0        6       12  4.242641   \n",
       "\n",
       "    dit_mean  dit_min  ...  uniqueWordsQty_mean  uniqueWordsQty_min  \\\n",
       "2        2.0        2  ...                 58.0                  58   \n",
       "9        1.0        1  ...                279.0                 279   \n",
       "11       1.0        1  ...                108.0                 108   \n",
       "15       1.0        1  ...                 38.0                  38   \n",
       "0        3.0        3  ...                 68.0                  54   \n",
       "\n",
       "    uniqueWordsQty_max  uniqueWordsQty_std  modifiers_mean  modifiers_min  \\\n",
       "2                   58             0.00000            17.0             17   \n",
       "9                  279             0.00000            17.0             17   \n",
       "11                 108             0.00000             1.0              1   \n",
       "15                  38             0.00000            16.0             16   \n",
       "0                   82            19.79899             0.0              0   \n",
       "\n",
       "    modifiers_max  modifiers_std  num_dependency_mean  num_line_affected_mean  \n",
       "2              17            0.0                 85.0                    61.0  \n",
       "9              17            0.0                322.0                   764.0  \n",
       "11              1            0.0                371.0                   115.0  \n",
       "15             16            0.0                 23.0                    47.0  \n",
       "0               0            0.0                 12.5                   119.5  \n",
       "\n",
       "[5 rows x 162 columns]"
      ]
     },
     "execution_count": 26,
     "metadata": {},
     "output_type": "execute_result"
    }
   ],
   "source": [
    "X.head()"
   ]
  },
  {
   "cell_type": "code",
   "execution_count": 27,
   "metadata": {},
   "outputs": [
    {
     "data": {
      "text/html": [
       "<div>\n",
       "<style scoped>\n",
       "    .dataframe tbody tr th:only-of-type {\n",
       "        vertical-align: middle;\n",
       "    }\n",
       "\n",
       "    .dataframe tbody tr th {\n",
       "        vertical-align: top;\n",
       "    }\n",
       "\n",
       "    .dataframe thead th {\n",
       "        text-align: right;\n",
       "    }\n",
       "</style>\n",
       "<table border=\"1\" class=\"dataframe\">\n",
       "  <thead>\n",
       "    <tr style=\"text-align: right;\">\n",
       "      <th></th>\n",
       "      <th>refactoring_perc_time_taken</th>\n",
       "    </tr>\n",
       "  </thead>\n",
       "  <tbody>\n",
       "    <tr>\n",
       "      <th>2</th>\n",
       "      <td>15.000000</td>\n",
       "    </tr>\n",
       "    <tr>\n",
       "      <th>9</th>\n",
       "      <td>10.000000</td>\n",
       "    </tr>\n",
       "    <tr>\n",
       "      <th>11</th>\n",
       "      <td>9.487500</td>\n",
       "    </tr>\n",
       "    <tr>\n",
       "      <th>15</th>\n",
       "      <td>5.340909</td>\n",
       "    </tr>\n",
       "    <tr>\n",
       "      <th>0</th>\n",
       "      <td>2.051282</td>\n",
       "    </tr>\n",
       "  </tbody>\n",
       "</table>\n",
       "</div>"
      ],
      "text/plain": [
       "    refactoring_perc_time_taken\n",
       "2                     15.000000\n",
       "9                     10.000000\n",
       "11                     9.487500\n",
       "15                     5.340909\n",
       "0                      2.051282"
      ]
     },
     "execution_count": 27,
     "metadata": {},
     "output_type": "execute_result"
    }
   ],
   "source": [
    "y.head()"
   ]
  },
  {
   "cell_type": "code",
   "execution_count": 28,
   "metadata": {},
   "outputs": [],
   "source": [
    "from sklearn.model_selection import train_test_split\n",
    "X_train, X_test, y_train, y_test = train_test_split(X, y, test_size=0.33, random_state=16)"
   ]
  },
  {
   "cell_type": "code",
   "execution_count": 29,
   "metadata": {},
   "outputs": [
    {
     "name": "stdout",
     "output_type": "stream",
     "text": [
      "Checking whether there is an H2O instance running at http://localhost:54321 ..... not found.\n",
      "Attempting to start a local H2O server...\n",
      "; Java HotSpot(TM) 64-Bit Server VM (build 12.0.1+12, mixed mode, sharing)\n",
      "  Starting server from C:\\ProgramData\\Anaconda3\\lib\\site-packages\\h2o\\backend\\bin\\h2o.jar\n",
      "  Ice root: C:\\Users\\tanji\\AppData\\Local\\Temp\\tmppaj_rcmw\n",
      "  JVM stdout: C:\\Users\\tanji\\AppData\\Local\\Temp\\tmppaj_rcmw\\h2o_tanji_started_from_python.out\n",
      "  JVM stderr: C:\\Users\\tanji\\AppData\\Local\\Temp\\tmppaj_rcmw\\h2o_tanji_started_from_python.err\n",
      "  Server is running at http://127.0.0.1:54321\n",
      "Connecting to H2O server at http://127.0.0.1:54321 ... successful.\n",
      "Warning: Your H2O cluster version is too old (3 months and 17 days)! Please download and install the latest version from http://h2o.ai/download/\n"
     ]
    },
    {
     "data": {
      "text/html": [
       "<div style=\"overflow:auto\"><table style=\"width:50%\"><tr><td>H2O_cluster_uptime:</td>\n",
       "<td>02 secs</td></tr>\n",
       "<tr><td>H2O_cluster_timezone:</td>\n",
       "<td>Asia/Kuala_Lumpur</td></tr>\n",
       "<tr><td>H2O_data_parsing_timezone:</td>\n",
       "<td>UTC</td></tr>\n",
       "<tr><td>H2O_cluster_version:</td>\n",
       "<td>3.32.1.7</td></tr>\n",
       "<tr><td>H2O_cluster_version_age:</td>\n",
       "<td>3 months and 17 days !!!</td></tr>\n",
       "<tr><td>H2O_cluster_name:</td>\n",
       "<td>H2O_from_python_tanji_1m25f6</td></tr>\n",
       "<tr><td>H2O_cluster_total_nodes:</td>\n",
       "<td>1</td></tr>\n",
       "<tr><td>H2O_cluster_free_memory:</td>\n",
       "<td>7.984 Gb</td></tr>\n",
       "<tr><td>H2O_cluster_total_cores:</td>\n",
       "<td>12</td></tr>\n",
       "<tr><td>H2O_cluster_allowed_cores:</td>\n",
       "<td>4</td></tr>\n",
       "<tr><td>H2O_cluster_status:</td>\n",
       "<td>accepting new members, healthy</td></tr>\n",
       "<tr><td>H2O_connection_url:</td>\n",
       "<td>http://127.0.0.1:54321</td></tr>\n",
       "<tr><td>H2O_connection_proxy:</td>\n",
       "<td>{\"http\": null, \"https\": null}</td></tr>\n",
       "<tr><td>H2O_internal_security:</td>\n",
       "<td>False</td></tr>\n",
       "<tr><td>H2O_API_Extensions:</td>\n",
       "<td>Amazon S3, Algos, AutoML, Core V3, TargetEncoder, Core V4</td></tr>\n",
       "<tr><td>Python_version:</td>\n",
       "<td>3.7.3 final</td></tr></table></div>"
      ],
      "text/plain": [
       "--------------------------  ---------------------------------------------------------\n",
       "H2O_cluster_uptime:         02 secs\n",
       "H2O_cluster_timezone:       Asia/Kuala_Lumpur\n",
       "H2O_data_parsing_timezone:  UTC\n",
       "H2O_cluster_version:        3.32.1.7\n",
       "H2O_cluster_version_age:    3 months and 17 days !!!\n",
       "H2O_cluster_name:           H2O_from_python_tanji_1m25f6\n",
       "H2O_cluster_total_nodes:    1\n",
       "H2O_cluster_free_memory:    7.984 Gb\n",
       "H2O_cluster_total_cores:    12\n",
       "H2O_cluster_allowed_cores:  4\n",
       "H2O_cluster_status:         accepting new members, healthy\n",
       "H2O_connection_url:         http://127.0.0.1:54321\n",
       "H2O_connection_proxy:       {\"http\": null, \"https\": null}\n",
       "H2O_internal_security:      False\n",
       "H2O_API_Extensions:         Amazon S3, Algos, AutoML, Core V3, TargetEncoder, Core V4\n",
       "Python_version:             3.7.3 final\n",
       "--------------------------  ---------------------------------------------------------"
      ]
     },
     "metadata": {},
     "output_type": "display_data"
    }
   ],
   "source": [
    "h2o.init(nthreads=4)"
   ]
  },
  {
   "cell_type": "code",
   "execution_count": 30,
   "metadata": {},
   "outputs": [
    {
     "name": "stdout",
     "output_type": "stream",
     "text": [
      "Parse progress: |█████████████████████████████████████████████████████████| 100%\n"
     ]
    }
   ],
   "source": [
    "from h2o.automl import H2OAutoML\n",
    "\n",
    "full = h2o.H2OFrame(final_df)\n",
    "train,test = full.split_frame(ratios=[.7])\n",
    "\n",
    "\n",
    "x = train.columns\n",
    "y = \"refactoring_perc_time_taken\"\n",
    "x.remove(y)\n",
    "\n"
   ]
  },
  {
   "cell_type": "code",
   "execution_count": 31,
   "metadata": {},
   "outputs": [
    {
     "data": {
      "text/plain": [
       "{'cbo_mean': 'real',\n",
       " 'cbo_min': 'int',\n",
       " 'cbo_max': 'int',\n",
       " 'cbo_std': 'real',\n",
       " 'wmc_mean': 'real',\n",
       " 'wmc_min': 'int',\n",
       " 'wmc_max': 'int',\n",
       " 'wmc_std': 'real',\n",
       " 'dit_mean': 'real',\n",
       " 'dit_min': 'int',\n",
       " 'dit_max': 'int',\n",
       " 'dit_std': 'real',\n",
       " 'rfc_mean': 'real',\n",
       " 'rfc_min': 'int',\n",
       " 'rfc_max': 'int',\n",
       " 'rfc_std': 'real',\n",
       " 'lcom_mean': 'real',\n",
       " 'lcom_min': 'int',\n",
       " 'lcom_max': 'int',\n",
       " 'lcom_std': 'real',\n",
       " 'totalMethods_mean': 'real',\n",
       " 'totalMethods_min': 'int',\n",
       " 'totalMethods_max': 'int',\n",
       " 'totalMethods_std': 'real',\n",
       " 'staticMethods_mean': 'real',\n",
       " 'staticMethods_min': 'int',\n",
       " 'staticMethods_max': 'int',\n",
       " 'staticMethods_std': 'real',\n",
       " 'publicMethods_mean': 'real',\n",
       " 'publicMethods_min': 'int',\n",
       " 'publicMethods_max': 'int',\n",
       " 'publicMethods_std': 'real',\n",
       " 'privateMethods_mean': 'real',\n",
       " 'privateMethods_min': 'int',\n",
       " 'privateMethods_max': 'int',\n",
       " 'privateMethods_std': 'real',\n",
       " 'protectedMethods_mean': 'real',\n",
       " 'protectedMethods_min': 'int',\n",
       " 'protectedMethods_max': 'int',\n",
       " 'protectedMethods_std': 'real',\n",
       " 'defaultMethods_mean': 'real',\n",
       " 'defaultMethods_min': 'int',\n",
       " 'defaultMethods_max': 'int',\n",
       " 'defaultMethods_std': 'real',\n",
       " 'abstractMethods_mean': 'int',\n",
       " 'abstractMethods_min': 'int',\n",
       " 'abstractMethods_max': 'int',\n",
       " 'abstractMethods_std': 'int',\n",
       " 'finalMethods_mean': 'real',\n",
       " 'finalMethods_min': 'int',\n",
       " 'finalMethods_max': 'int',\n",
       " 'finalMethods_std': 'real',\n",
       " 'synchronizedMethods_mean': 'int',\n",
       " 'synchronizedMethods_min': 'int',\n",
       " 'synchronizedMethods_max': 'int',\n",
       " 'synchronizedMethods_std': 'int',\n",
       " 'totalFields_mean': 'real',\n",
       " 'totalFields_min': 'int',\n",
       " 'totalFields_max': 'int',\n",
       " 'totalFields_std': 'real',\n",
       " 'staticFields_mean': 'real',\n",
       " 'staticFields_min': 'int',\n",
       " 'staticFields_max': 'int',\n",
       " 'staticFields_std': 'real',\n",
       " 'publicFields_mean': 'real',\n",
       " 'publicFields_min': 'int',\n",
       " 'publicFields_max': 'int',\n",
       " 'publicFields_std': 'real',\n",
       " 'privateFields_mean': 'real',\n",
       " 'privateFields_min': 'int',\n",
       " 'privateFields_max': 'int',\n",
       " 'privateFields_std': 'real',\n",
       " 'protectedFields_mean': 'real',\n",
       " 'protectedFields_min': 'int',\n",
       " 'protectedFields_max': 'int',\n",
       " 'protectedFields_std': 'real',\n",
       " 'defaultFields_mean': 'int',\n",
       " 'defaultFields_min': 'int',\n",
       " 'defaultFields_max': 'int',\n",
       " 'defaultFields_std': 'int',\n",
       " 'finalFields_mean': 'real',\n",
       " 'finalFields_min': 'int',\n",
       " 'finalFields_max': 'int',\n",
       " 'finalFields_std': 'real',\n",
       " 'synchronizedFields_mean': 'int',\n",
       " 'synchronizedFields_min': 'int',\n",
       " 'synchronizedFields_max': 'int',\n",
       " 'synchronizedFields_std': 'int',\n",
       " 'nosi_mean': 'real',\n",
       " 'nosi_min': 'int',\n",
       " 'nosi_max': 'int',\n",
       " 'nosi_std': 'real',\n",
       " 'loc_mean': 'real',\n",
       " 'loc_min': 'int',\n",
       " 'loc_max': 'int',\n",
       " 'loc_std': 'real',\n",
       " 'returnQty_mean': 'real',\n",
       " 'returnQty_min': 'int',\n",
       " 'returnQty_max': 'int',\n",
       " 'returnQty_std': 'real',\n",
       " 'loopQty_mean': 'real',\n",
       " 'loopQty_min': 'int',\n",
       " 'loopQty_max': 'int',\n",
       " 'loopQty_std': 'real',\n",
       " 'comparisonsQty_mean': 'int',\n",
       " 'comparisonsQty_min': 'int',\n",
       " 'comparisonsQty_max': 'int',\n",
       " 'comparisonsQty_std': 'real',\n",
       " 'tryCatchQty_mean': 'real',\n",
       " 'tryCatchQty_min': 'int',\n",
       " 'tryCatchQty_max': 'int',\n",
       " 'tryCatchQty_std': 'real',\n",
       " 'parenthesizedExpsQty_mean': 'int',\n",
       " 'parenthesizedExpsQty_min': 'int',\n",
       " 'parenthesizedExpsQty_max': 'int',\n",
       " 'parenthesizedExpsQty_std': 'real',\n",
       " 'stringLiteralsQty_mean': 'real',\n",
       " 'stringLiteralsQty_min': 'int',\n",
       " 'stringLiteralsQty_max': 'int',\n",
       " 'stringLiteralsQty_std': 'real',\n",
       " 'numbersQty_mean': 'real',\n",
       " 'numbersQty_min': 'int',\n",
       " 'numbersQty_max': 'int',\n",
       " 'numbersQty_std': 'real',\n",
       " 'assignmentsQty_mean': 'real',\n",
       " 'assignmentsQty_min': 'int',\n",
       " 'assignmentsQty_max': 'int',\n",
       " 'assignmentsQty_std': 'real',\n",
       " 'mathOperationsQty_mean': 'real',\n",
       " 'mathOperationsQty_min': 'int',\n",
       " 'mathOperationsQty_max': 'int',\n",
       " 'mathOperationsQty_std': 'real',\n",
       " 'variablesQty_mean': 'real',\n",
       " 'variablesQty_min': 'int',\n",
       " 'variablesQty_max': 'int',\n",
       " 'variablesQty_std': 'real',\n",
       " 'maxNestedBlocks_mean': 'real',\n",
       " 'maxNestedBlocks_min': 'int',\n",
       " 'maxNestedBlocks_max': 'int',\n",
       " 'maxNestedBlocks_std': 'real',\n",
       " 'anonymousClassesQty_mean': 'real',\n",
       " 'anonymousClassesQty_min': 'int',\n",
       " 'anonymousClassesQty_max': 'int',\n",
       " 'anonymousClassesQty_std': 'real',\n",
       " 'subClassesQty_mean': 'real',\n",
       " 'subClassesQty_min': 'int',\n",
       " 'subClassesQty_max': 'int',\n",
       " 'subClassesQty_std': 'real',\n",
       " 'lambdasQty_mean': 'real',\n",
       " 'lambdasQty_min': 'int',\n",
       " 'lambdasQty_max': 'int',\n",
       " 'lambdasQty_std': 'real',\n",
       " 'uniqueWordsQty_mean': 'real',\n",
       " 'uniqueWordsQty_min': 'int',\n",
       " 'uniqueWordsQty_max': 'int',\n",
       " 'uniqueWordsQty_std': 'real',\n",
       " 'modifiers_mean': 'int',\n",
       " 'modifiers_min': 'int',\n",
       " 'modifiers_max': 'int',\n",
       " 'modifiers_std': 'int',\n",
       " 'num_dependency_mean': 'real',\n",
       " 'num_line_affected_mean': 'real'}"
      ]
     },
     "execution_count": 31,
     "metadata": {},
     "output_type": "execute_result"
    }
   ],
   "source": [
    "train[x].types"
   ]
  },
  {
   "cell_type": "code",
   "execution_count": 32,
   "metadata": {},
   "outputs": [
    {
     "data": {
      "text/plain": [
       "{'refactoring_perc_time_taken': 'real'}"
      ]
     },
     "execution_count": 32,
     "metadata": {},
     "output_type": "execute_result"
    }
   ],
   "source": [
    "train[y].types"
   ]
  },
  {
   "cell_type": "code",
   "execution_count": 33,
   "metadata": {},
   "outputs": [
    {
     "name": "stdout",
     "output_type": "stream",
     "text": [
      "AutoML progress: |██████\n",
      "11:18:44.96: Skipping training of model GBM_5_AutoML_20211220_111837 due to exception: water.exceptions.H2OModelBuilderIllegalArgumentException: Illegal argument(s) for GBM model: GBM_5_AutoML_20211220_111837.  Details: ERRR on field: _min_rows: The dataset size is too small to split for min_rows=100.0: must have at least 200.0 (weighted) rows, but have only 44.0.\n",
      "\n",
      "\n",
      "██████████████████████████████████████████████████| 100%\n"
     ]
    }
   ],
   "source": [
    "aml = H2OAutoML(max_models=10, seed=16, exclude_algos=['XGBoost', 'GLM'], exploitation_ratio=0.1)\n",
    "#aml = H2OAutoML(max_models=10, seed=1, include_algos=['GLM'])\n",
    "aml.train(x=x, y=y, training_frame=train)"
   ]
  },
  {
   "cell_type": "code",
   "execution_count": 34,
   "metadata": {},
   "outputs": [
    {
     "data": {
      "text/html": [
       "<table>\n",
       "<thead>\n",
       "<tr><th>model_id                                                       </th><th style=\"text-align: right;\">  mean_residual_deviance</th><th style=\"text-align: right;\">    rmse</th><th style=\"text-align: right;\">     mse</th><th style=\"text-align: right;\">     mae</th><th style=\"text-align: right;\">     rmsle</th></tr>\n",
       "</thead>\n",
       "<tbody>\n",
       "<tr><td>GBM_lr_annealing_selection__AutoML_20211220_111837_select_model</td><td style=\"text-align: right;\">                 90.0712</td><td style=\"text-align: right;\"> 9.49058</td><td style=\"text-align: right;\"> 90.0712</td><td style=\"text-align: right;\"> 7.54749</td><td style=\"text-align: right;\">  0.749397</td></tr>\n",
       "<tr><td>XRT_1_AutoML_20211220_111837                                   </td><td style=\"text-align: right;\">                 95.7773</td><td style=\"text-align: right;\"> 9.78659</td><td style=\"text-align: right;\"> 95.7773</td><td style=\"text-align: right;\"> 7.63526</td><td style=\"text-align: right;\">  0.770758</td></tr>\n",
       "<tr><td>GBM_3_AutoML_20211220_111837                                   </td><td style=\"text-align: right;\">                 96.3257</td><td style=\"text-align: right;\"> 9.81456</td><td style=\"text-align: right;\"> 96.3257</td><td style=\"text-align: right;\"> 7.58449</td><td style=\"text-align: right;\">  0.789363</td></tr>\n",
       "<tr><td>GBM_4_AutoML_20211220_111837                                   </td><td style=\"text-align: right;\">                 98.0516</td><td style=\"text-align: right;\"> 9.9021 </td><td style=\"text-align: right;\"> 98.0516</td><td style=\"text-align: right;\"> 7.73243</td><td style=\"text-align: right;\">  0.794646</td></tr>\n",
       "<tr><td>DRF_1_AutoML_20211220_111837                                   </td><td style=\"text-align: right;\">                 99.6517</td><td style=\"text-align: right;\"> 9.98257</td><td style=\"text-align: right;\"> 99.6517</td><td style=\"text-align: right;\"> 7.63898</td><td style=\"text-align: right;\">  0.78874 </td></tr>\n",
       "<tr><td>StackedEnsemble_BestOfFamily_AutoML_20211220_111837            </td><td style=\"text-align: right;\">                100.054 </td><td style=\"text-align: right;\">10.0027 </td><td style=\"text-align: right;\">100.054 </td><td style=\"text-align: right;\"> 7.80237</td><td style=\"text-align: right;\">  0.779398</td></tr>\n",
       "<tr><td>GBM_2_AutoML_20211220_111837                                   </td><td style=\"text-align: right;\">                100.186 </td><td style=\"text-align: right;\">10.0093 </td><td style=\"text-align: right;\">100.186 </td><td style=\"text-align: right;\"> 7.79201</td><td style=\"text-align: right;\">  0.803436</td></tr>\n",
       "<tr><td>GBM_grid__1_AutoML_20211220_111837_model_2                     </td><td style=\"text-align: right;\">                107.761 </td><td style=\"text-align: right;\">10.3808 </td><td style=\"text-align: right;\">107.761 </td><td style=\"text-align: right;\"> 8.09027</td><td style=\"text-align: right;\">  0.820101</td></tr>\n",
       "<tr><td>GBM_1_AutoML_20211220_111837                                   </td><td style=\"text-align: right;\">                110.991 </td><td style=\"text-align: right;\">10.5352 </td><td style=\"text-align: right;\">110.991 </td><td style=\"text-align: right;\"> 8.39108</td><td style=\"text-align: right;\">  0.839463</td></tr>\n",
       "<tr><td>StackedEnsemble_AllModels_AutoML_20211220_111837               </td><td style=\"text-align: right;\">                147.47  </td><td style=\"text-align: right;\">12.1437 </td><td style=\"text-align: right;\">147.47  </td><td style=\"text-align: right;\"> 8.58246</td><td style=\"text-align: right;\">  0.786185</td></tr>\n",
       "<tr><td>DeepLearning_grid__1_AutoML_20211220_111837_model_1            </td><td style=\"text-align: right;\">                565.508 </td><td style=\"text-align: right;\">23.7804 </td><td style=\"text-align: right;\">565.508 </td><td style=\"text-align: right;\">10.5463 </td><td style=\"text-align: right;\">  0.78886 </td></tr>\n",
       "<tr><td>DeepLearning_1_AutoML_20211220_111837                          </td><td style=\"text-align: right;\">                896.246 </td><td style=\"text-align: right;\">29.9374 </td><td style=\"text-align: right;\">896.246 </td><td style=\"text-align: right;\">16.7454 </td><td style=\"text-align: right;\">nan       </td></tr>\n",
       "</tbody>\n",
       "</table>"
      ]
     },
     "metadata": {},
     "output_type": "display_data"
    },
    {
     "data": {
      "text/plain": []
     },
     "execution_count": 34,
     "metadata": {},
     "output_type": "execute_result"
    }
   ],
   "source": [
    "lb = aml.leaderboard\n",
    "lb.head(rows=lb.nrows)"
   ]
  },
  {
   "cell_type": "code",
   "execution_count": 35,
   "metadata": {},
   "outputs": [],
   "source": [
    "model = h2o.get_model(lb[0,'model_id'])"
   ]
  },
  {
   "cell_type": "code",
   "execution_count": 36,
   "metadata": {
    "scrolled": true
   },
   "outputs": [
    {
     "name": "stdout",
     "output_type": "stream",
     "text": [
      "Model Details\n",
      "=============\n",
      "H2OGradientBoostingEstimator :  Gradient Boosting Machine\n",
      "Model Key:  GBM_lr_annealing_selection__AutoML_20211220_111837_select_model\n",
      "\n",
      "\n",
      "Model Summary: \n"
     ]
    },
    {
     "data": {
      "text/html": [
       "<div>\n",
       "<style scoped>\n",
       "    .dataframe tbody tr th:only-of-type {\n",
       "        vertical-align: middle;\n",
       "    }\n",
       "\n",
       "    .dataframe tbody tr th {\n",
       "        vertical-align: top;\n",
       "    }\n",
       "\n",
       "    .dataframe thead th {\n",
       "        text-align: right;\n",
       "    }\n",
       "</style>\n",
       "<table border=\"1\" class=\"dataframe\">\n",
       "  <thead>\n",
       "    <tr style=\"text-align: right;\">\n",
       "      <th></th>\n",
       "      <th></th>\n",
       "      <th>number_of_trees</th>\n",
       "      <th>number_of_internal_trees</th>\n",
       "      <th>model_size_in_bytes</th>\n",
       "      <th>min_depth</th>\n",
       "      <th>max_depth</th>\n",
       "      <th>mean_depth</th>\n",
       "      <th>min_leaves</th>\n",
       "      <th>max_leaves</th>\n",
       "      <th>mean_leaves</th>\n",
       "    </tr>\n",
       "  </thead>\n",
       "  <tbody>\n",
       "    <tr>\n",
       "      <th>0</th>\n",
       "      <td></td>\n",
       "      <td>30.0</td>\n",
       "      <td>30.0</td>\n",
       "      <td>2510.0</td>\n",
       "      <td>1.0</td>\n",
       "      <td>1.0</td>\n",
       "      <td>1.0</td>\n",
       "      <td>2.0</td>\n",
       "      <td>2.0</td>\n",
       "      <td>2.0</td>\n",
       "    </tr>\n",
       "  </tbody>\n",
       "</table>\n",
       "</div>"
      ],
      "text/plain": [
       "     number_of_trees  number_of_internal_trees  model_size_in_bytes  \\\n",
       "0               30.0                      30.0               2510.0   \n",
       "\n",
       "   min_depth  max_depth  mean_depth  min_leaves  max_leaves  mean_leaves  \n",
       "0        1.0        1.0         1.0         2.0         2.0          2.0  "
      ]
     },
     "metadata": {},
     "output_type": "display_data"
    },
    {
     "name": "stdout",
     "output_type": "stream",
     "text": [
      "\n",
      "\n",
      "ModelMetricsRegression: gbm\n",
      "** Reported on train data. **\n",
      "\n",
      "MSE: 45.28386400726676\n",
      "RMSE: 6.729328644617289\n",
      "MAE: 5.448880894617601\n",
      "RMSLE: 0.5885420681688873\n",
      "Mean Residual Deviance: 45.28386400726676\n",
      "\n",
      "ModelMetricsRegression: gbm\n",
      "** Reported on cross-validation data. **\n",
      "\n",
      "MSE: 90.07117786979711\n",
      "RMSE: 9.490583642210689\n",
      "MAE: 7.547491119524178\n",
      "RMSLE: 0.7493966108920483\n",
      "Mean Residual Deviance: 90.07117786979711\n",
      "\n",
      "Cross-Validation Metrics Summary: \n"
     ]
    },
    {
     "data": {
      "text/html": [
       "<div>\n",
       "<style scoped>\n",
       "    .dataframe tbody tr th:only-of-type {\n",
       "        vertical-align: middle;\n",
       "    }\n",
       "\n",
       "    .dataframe tbody tr th {\n",
       "        vertical-align: top;\n",
       "    }\n",
       "\n",
       "    .dataframe thead th {\n",
       "        text-align: right;\n",
       "    }\n",
       "</style>\n",
       "<table border=\"1\" class=\"dataframe\">\n",
       "  <thead>\n",
       "    <tr style=\"text-align: right;\">\n",
       "      <th></th>\n",
       "      <th></th>\n",
       "      <th>mean</th>\n",
       "      <th>sd</th>\n",
       "      <th>cv_1_valid</th>\n",
       "      <th>cv_2_valid</th>\n",
       "      <th>cv_3_valid</th>\n",
       "      <th>cv_4_valid</th>\n",
       "      <th>cv_5_valid</th>\n",
       "    </tr>\n",
       "  </thead>\n",
       "  <tbody>\n",
       "    <tr>\n",
       "      <th>0</th>\n",
       "      <td>mae</td>\n",
       "      <td>7.564895</td>\n",
       "      <td>2.4184859</td>\n",
       "      <td>10.867628</td>\n",
       "      <td>7.8209376</td>\n",
       "      <td>6.5173817</td>\n",
       "      <td>4.2878547</td>\n",
       "      <td>8.330674</td>\n",
       "    </tr>\n",
       "    <tr>\n",
       "      <th>1</th>\n",
       "      <td>mean_residual_deviance</td>\n",
       "      <td>90.064575</td>\n",
       "      <td>54.633476</td>\n",
       "      <td>176.74368</td>\n",
       "      <td>96.2594</td>\n",
       "      <td>50.904064</td>\n",
       "      <td>36.641804</td>\n",
       "      <td>89.77391</td>\n",
       "    </tr>\n",
       "    <tr>\n",
       "      <th>2</th>\n",
       "      <td>mse</td>\n",
       "      <td>90.064575</td>\n",
       "      <td>54.633476</td>\n",
       "      <td>176.74368</td>\n",
       "      <td>96.2594</td>\n",
       "      <td>50.904064</td>\n",
       "      <td>36.641804</td>\n",
       "      <td>89.77391</td>\n",
       "    </tr>\n",
       "    <tr>\n",
       "      <th>3</th>\n",
       "      <td>r2</td>\n",
       "      <td>-0.9621036</td>\n",
       "      <td>1.3836206</td>\n",
       "      <td>-0.63424635</td>\n",
       "      <td>-0.5291592</td>\n",
       "      <td>-3.3900273</td>\n",
       "      <td>-0.32631916</td>\n",
       "      <td>0.06923398</td>\n",
       "    </tr>\n",
       "    <tr>\n",
       "      <th>4</th>\n",
       "      <td>residual_deviance</td>\n",
       "      <td>90.064575</td>\n",
       "      <td>54.633476</td>\n",
       "      <td>176.74368</td>\n",
       "      <td>96.2594</td>\n",
       "      <td>50.904064</td>\n",
       "      <td>36.641804</td>\n",
       "      <td>89.77391</td>\n",
       "    </tr>\n",
       "    <tr>\n",
       "      <th>5</th>\n",
       "      <td>rmse</td>\n",
       "      <td>9.15371</td>\n",
       "      <td>2.8004825</td>\n",
       "      <td>13.294498</td>\n",
       "      <td>9.811188</td>\n",
       "      <td>7.1347084</td>\n",
       "      <td>6.0532475</td>\n",
       "      <td>9.47491</td>\n",
       "    </tr>\n",
       "    <tr>\n",
       "      <th>6</th>\n",
       "      <td>rmsle</td>\n",
       "      <td>0.7463721</td>\n",
       "      <td>0.09034305</td>\n",
       "      <td>0.75845295</td>\n",
       "      <td>0.64205587</td>\n",
       "      <td>0.85529536</td>\n",
       "      <td>0.66868794</td>\n",
       "      <td>0.80736834</td>\n",
       "    </tr>\n",
       "  </tbody>\n",
       "</table>\n",
       "</div>"
      ],
      "text/plain": [
       "                                 mean          sd   cv_1_valid  cv_2_valid  \\\n",
       "0                     mae    7.564895   2.4184859    10.867628   7.8209376   \n",
       "1  mean_residual_deviance   90.064575   54.633476    176.74368     96.2594   \n",
       "2                     mse   90.064575   54.633476    176.74368     96.2594   \n",
       "3                      r2  -0.9621036   1.3836206  -0.63424635  -0.5291592   \n",
       "4       residual_deviance   90.064575   54.633476    176.74368     96.2594   \n",
       "5                    rmse     9.15371   2.8004825    13.294498    9.811188   \n",
       "6                   rmsle   0.7463721  0.09034305   0.75845295  0.64205587   \n",
       "\n",
       "   cv_3_valid   cv_4_valid  cv_5_valid  \n",
       "0   6.5173817    4.2878547    8.330674  \n",
       "1   50.904064    36.641804    89.77391  \n",
       "2   50.904064    36.641804    89.77391  \n",
       "3  -3.3900273  -0.32631916  0.06923398  \n",
       "4   50.904064    36.641804    89.77391  \n",
       "5   7.1347084    6.0532475     9.47491  \n",
       "6  0.85529536   0.66868794  0.80736834  "
      ]
     },
     "metadata": {},
     "output_type": "display_data"
    },
    {
     "name": "stdout",
     "output_type": "stream",
     "text": [
      "\n",
      "Scoring History: \n"
     ]
    },
    {
     "data": {
      "text/html": [
       "<div>\n",
       "<style scoped>\n",
       "    .dataframe tbody tr th:only-of-type {\n",
       "        vertical-align: middle;\n",
       "    }\n",
       "\n",
       "    .dataframe tbody tr th {\n",
       "        vertical-align: top;\n",
       "    }\n",
       "\n",
       "    .dataframe thead th {\n",
       "        text-align: right;\n",
       "    }\n",
       "</style>\n",
       "<table border=\"1\" class=\"dataframe\">\n",
       "  <thead>\n",
       "    <tr style=\"text-align: right;\">\n",
       "      <th></th>\n",
       "      <th></th>\n",
       "      <th>timestamp</th>\n",
       "      <th>duration</th>\n",
       "      <th>number_of_trees</th>\n",
       "      <th>training_rmse</th>\n",
       "      <th>training_mae</th>\n",
       "      <th>training_deviance</th>\n",
       "    </tr>\n",
       "  </thead>\n",
       "  <tbody>\n",
       "    <tr>\n",
       "      <th>0</th>\n",
       "      <td></td>\n",
       "      <td>2021-12-20 11:20:02</td>\n",
       "      <td>0.161 sec</td>\n",
       "      <td>0.0</td>\n",
       "      <td>9.082922</td>\n",
       "      <td>7.329089</td>\n",
       "      <td>82.499464</td>\n",
       "    </tr>\n",
       "    <tr>\n",
       "      <th>1</th>\n",
       "      <td></td>\n",
       "      <td>2021-12-20 11:20:02</td>\n",
       "      <td>0.169 sec</td>\n",
       "      <td>5.0</td>\n",
       "      <td>8.174594</td>\n",
       "      <td>6.461760</td>\n",
       "      <td>66.823988</td>\n",
       "    </tr>\n",
       "    <tr>\n",
       "      <th>2</th>\n",
       "      <td></td>\n",
       "      <td>2021-12-20 11:20:02</td>\n",
       "      <td>0.175 sec</td>\n",
       "      <td>10.0</td>\n",
       "      <td>7.673375</td>\n",
       "      <td>6.097476</td>\n",
       "      <td>58.880688</td>\n",
       "    </tr>\n",
       "    <tr>\n",
       "      <th>3</th>\n",
       "      <td></td>\n",
       "      <td>2021-12-20 11:20:02</td>\n",
       "      <td>0.183 sec</td>\n",
       "      <td>15.0</td>\n",
       "      <td>7.346969</td>\n",
       "      <td>5.849302</td>\n",
       "      <td>53.977954</td>\n",
       "    </tr>\n",
       "    <tr>\n",
       "      <th>4</th>\n",
       "      <td></td>\n",
       "      <td>2021-12-20 11:20:02</td>\n",
       "      <td>0.189 sec</td>\n",
       "      <td>20.0</td>\n",
       "      <td>7.118640</td>\n",
       "      <td>5.711871</td>\n",
       "      <td>50.675029</td>\n",
       "    </tr>\n",
       "    <tr>\n",
       "      <th>5</th>\n",
       "      <td></td>\n",
       "      <td>2021-12-20 11:20:02</td>\n",
       "      <td>0.195 sec</td>\n",
       "      <td>25.0</td>\n",
       "      <td>6.920556</td>\n",
       "      <td>5.588125</td>\n",
       "      <td>47.894096</td>\n",
       "    </tr>\n",
       "    <tr>\n",
       "      <th>6</th>\n",
       "      <td></td>\n",
       "      <td>2021-12-20 11:20:02</td>\n",
       "      <td>0.202 sec</td>\n",
       "      <td>30.0</td>\n",
       "      <td>6.729329</td>\n",
       "      <td>5.448881</td>\n",
       "      <td>45.283864</td>\n",
       "    </tr>\n",
       "  </tbody>\n",
       "</table>\n",
       "</div>"
      ],
      "text/plain": [
       "               timestamp    duration  number_of_trees  training_rmse  \\\n",
       "0    2021-12-20 11:20:02   0.161 sec              0.0       9.082922   \n",
       "1    2021-12-20 11:20:02   0.169 sec              5.0       8.174594   \n",
       "2    2021-12-20 11:20:02   0.175 sec             10.0       7.673375   \n",
       "3    2021-12-20 11:20:02   0.183 sec             15.0       7.346969   \n",
       "4    2021-12-20 11:20:02   0.189 sec             20.0       7.118640   \n",
       "5    2021-12-20 11:20:02   0.195 sec             25.0       6.920556   \n",
       "6    2021-12-20 11:20:02   0.202 sec             30.0       6.729329   \n",
       "\n",
       "   training_mae  training_deviance  \n",
       "0      7.329089          82.499464  \n",
       "1      6.461760          66.823988  \n",
       "2      6.097476          58.880688  \n",
       "3      5.849302          53.977954  \n",
       "4      5.711871          50.675029  \n",
       "5      5.588125          47.894096  \n",
       "6      5.448881          45.283864  "
      ]
     },
     "metadata": {},
     "output_type": "display_data"
    },
    {
     "name": "stdout",
     "output_type": "stream",
     "text": [
      "\n",
      "Variable Importances: \n"
     ]
    },
    {
     "data": {
      "text/html": [
       "<div>\n",
       "<style scoped>\n",
       "    .dataframe tbody tr th:only-of-type {\n",
       "        vertical-align: middle;\n",
       "    }\n",
       "\n",
       "    .dataframe tbody tr th {\n",
       "        vertical-align: top;\n",
       "    }\n",
       "\n",
       "    .dataframe thead th {\n",
       "        text-align: right;\n",
       "    }\n",
       "</style>\n",
       "<table border=\"1\" class=\"dataframe\">\n",
       "  <thead>\n",
       "    <tr style=\"text-align: right;\">\n",
       "      <th></th>\n",
       "      <th>variable</th>\n",
       "      <th>relative_importance</th>\n",
       "      <th>scaled_importance</th>\n",
       "      <th>percentage</th>\n",
       "    </tr>\n",
       "  </thead>\n",
       "  <tbody>\n",
       "    <tr>\n",
       "      <th>0</th>\n",
       "      <td>assignmentsQty_max</td>\n",
       "      <td>2475.586670</td>\n",
       "      <td>1.000000</td>\n",
       "      <td>0.265881</td>\n",
       "    </tr>\n",
       "    <tr>\n",
       "      <th>1</th>\n",
       "      <td>lcom_max</td>\n",
       "      <td>1656.153564</td>\n",
       "      <td>0.668994</td>\n",
       "      <td>0.177873</td>\n",
       "    </tr>\n",
       "    <tr>\n",
       "      <th>2</th>\n",
       "      <td>loc_min</td>\n",
       "      <td>1108.922729</td>\n",
       "      <td>0.447943</td>\n",
       "      <td>0.119100</td>\n",
       "    </tr>\n",
       "    <tr>\n",
       "      <th>3</th>\n",
       "      <td>uniqueWordsQty_min</td>\n",
       "      <td>990.387268</td>\n",
       "      <td>0.400062</td>\n",
       "      <td>0.106369</td>\n",
       "    </tr>\n",
       "    <tr>\n",
       "      <th>4</th>\n",
       "      <td>variablesQty_max</td>\n",
       "      <td>893.709045</td>\n",
       "      <td>0.361009</td>\n",
       "      <td>0.095985</td>\n",
       "    </tr>\n",
       "    <tr>\n",
       "      <th>5</th>\n",
       "      <td>lambdasQty_max</td>\n",
       "      <td>887.149780</td>\n",
       "      <td>0.358359</td>\n",
       "      <td>0.095281</td>\n",
       "    </tr>\n",
       "    <tr>\n",
       "      <th>6</th>\n",
       "      <td>uniqueWordsQty_max</td>\n",
       "      <td>537.881836</td>\n",
       "      <td>0.217274</td>\n",
       "      <td>0.057769</td>\n",
       "    </tr>\n",
       "    <tr>\n",
       "      <th>7</th>\n",
       "      <td>lcom_mean</td>\n",
       "      <td>456.179840</td>\n",
       "      <td>0.184271</td>\n",
       "      <td>0.048994</td>\n",
       "    </tr>\n",
       "    <tr>\n",
       "      <th>8</th>\n",
       "      <td>lambdasQty_mean</td>\n",
       "      <td>174.460464</td>\n",
       "      <td>0.070472</td>\n",
       "      <td>0.018737</td>\n",
       "    </tr>\n",
       "    <tr>\n",
       "      <th>9</th>\n",
       "      <td>dit_min</td>\n",
       "      <td>130.459808</td>\n",
       "      <td>0.052699</td>\n",
       "      <td>0.014012</td>\n",
       "    </tr>\n",
       "    <tr>\n",
       "      <th>10</th>\n",
       "      <td>cbo_mean</td>\n",
       "      <td>0.000000</td>\n",
       "      <td>0.000000</td>\n",
       "      <td>0.000000</td>\n",
       "    </tr>\n",
       "    <tr>\n",
       "      <th>11</th>\n",
       "      <td>cbo_min</td>\n",
       "      <td>0.000000</td>\n",
       "      <td>0.000000</td>\n",
       "      <td>0.000000</td>\n",
       "    </tr>\n",
       "    <tr>\n",
       "      <th>12</th>\n",
       "      <td>cbo_max</td>\n",
       "      <td>0.000000</td>\n",
       "      <td>0.000000</td>\n",
       "      <td>0.000000</td>\n",
       "    </tr>\n",
       "    <tr>\n",
       "      <th>13</th>\n",
       "      <td>cbo_std</td>\n",
       "      <td>0.000000</td>\n",
       "      <td>0.000000</td>\n",
       "      <td>0.000000</td>\n",
       "    </tr>\n",
       "    <tr>\n",
       "      <th>14</th>\n",
       "      <td>wmc_mean</td>\n",
       "      <td>0.000000</td>\n",
       "      <td>0.000000</td>\n",
       "      <td>0.000000</td>\n",
       "    </tr>\n",
       "    <tr>\n",
       "      <th>15</th>\n",
       "      <td>wmc_min</td>\n",
       "      <td>0.000000</td>\n",
       "      <td>0.000000</td>\n",
       "      <td>0.000000</td>\n",
       "    </tr>\n",
       "    <tr>\n",
       "      <th>16</th>\n",
       "      <td>wmc_max</td>\n",
       "      <td>0.000000</td>\n",
       "      <td>0.000000</td>\n",
       "      <td>0.000000</td>\n",
       "    </tr>\n",
       "    <tr>\n",
       "      <th>17</th>\n",
       "      <td>wmc_std</td>\n",
       "      <td>0.000000</td>\n",
       "      <td>0.000000</td>\n",
       "      <td>0.000000</td>\n",
       "    </tr>\n",
       "    <tr>\n",
       "      <th>18</th>\n",
       "      <td>dit_mean</td>\n",
       "      <td>0.000000</td>\n",
       "      <td>0.000000</td>\n",
       "      <td>0.000000</td>\n",
       "    </tr>\n",
       "    <tr>\n",
       "      <th>19</th>\n",
       "      <td>dit_max</td>\n",
       "      <td>0.000000</td>\n",
       "      <td>0.000000</td>\n",
       "      <td>0.000000</td>\n",
       "    </tr>\n",
       "  </tbody>\n",
       "</table>\n",
       "</div>"
      ],
      "text/plain": [
       "              variable  relative_importance  scaled_importance  percentage\n",
       "0   assignmentsQty_max          2475.586670           1.000000    0.265881\n",
       "1             lcom_max          1656.153564           0.668994    0.177873\n",
       "2              loc_min          1108.922729           0.447943    0.119100\n",
       "3   uniqueWordsQty_min           990.387268           0.400062    0.106369\n",
       "4     variablesQty_max           893.709045           0.361009    0.095985\n",
       "5       lambdasQty_max           887.149780           0.358359    0.095281\n",
       "6   uniqueWordsQty_max           537.881836           0.217274    0.057769\n",
       "7            lcom_mean           456.179840           0.184271    0.048994\n",
       "8      lambdasQty_mean           174.460464           0.070472    0.018737\n",
       "9              dit_min           130.459808           0.052699    0.014012\n",
       "10            cbo_mean             0.000000           0.000000    0.000000\n",
       "11             cbo_min             0.000000           0.000000    0.000000\n",
       "12             cbo_max             0.000000           0.000000    0.000000\n",
       "13             cbo_std             0.000000           0.000000    0.000000\n",
       "14            wmc_mean             0.000000           0.000000    0.000000\n",
       "15             wmc_min             0.000000           0.000000    0.000000\n",
       "16             wmc_max             0.000000           0.000000    0.000000\n",
       "17             wmc_std             0.000000           0.000000    0.000000\n",
       "18            dit_mean             0.000000           0.000000    0.000000\n",
       "19             dit_max             0.000000           0.000000    0.000000"
      ]
     },
     "metadata": {},
     "output_type": "display_data"
    },
    {
     "name": "stdout",
     "output_type": "stream",
     "text": [
      "\n",
      "See the whole table with table.as_data_frame()\n"
     ]
    },
    {
     "data": {
      "text/plain": []
     },
     "execution_count": 36,
     "metadata": {},
     "output_type": "execute_result"
    }
   ],
   "source": [
    "model"
   ]
  },
  {
   "cell_type": "code",
   "execution_count": 37,
   "metadata": {},
   "outputs": [
    {
     "name": "stdout",
     "output_type": "stream",
     "text": [
      "gbm prediction progress: |████████████████████████████████████████████████| 100%\n"
     ]
    }
   ],
   "source": [
    "preds = model.predict(test)"
   ]
  },
  {
   "cell_type": "code",
   "execution_count": 38,
   "metadata": {},
   "outputs": [
    {
     "data": {
      "text/html": [
       "<table>\n",
       "<thead>\n",
       "<tr><th style=\"text-align: right;\">  predict</th></tr>\n",
       "</thead>\n",
       "<tbody>\n",
       "<tr><td style=\"text-align: right;\"> 14.7077 </td></tr>\n",
       "<tr><td style=\"text-align: right;\">  7.78857</td></tr>\n",
       "<tr><td style=\"text-align: right;\"> 16.5807 </td></tr>\n",
       "<tr><td style=\"text-align: right;\"> 19.3169 </td></tr>\n",
       "<tr><td style=\"text-align: right;\"> 10.825  </td></tr>\n",
       "<tr><td style=\"text-align: right;\"> 10.3581 </td></tr>\n",
       "<tr><td style=\"text-align: right;\"> 17.4439 </td></tr>\n",
       "<tr><td style=\"text-align: right;\"> 19.0299 </td></tr>\n",
       "<tr><td style=\"text-align: right;\">  7.12334</td></tr>\n",
       "<tr><td style=\"text-align: right;\">  8.27347</td></tr>\n",
       "</tbody>\n",
       "</table>"
      ]
     },
     "metadata": {},
     "output_type": "display_data"
    },
    {
     "data": {
      "text/plain": []
     },
     "execution_count": 38,
     "metadata": {},
     "output_type": "execute_result"
    }
   ],
   "source": [
    "preds"
   ]
  },
  {
   "cell_type": "code",
   "execution_count": 39,
   "metadata": {
    "scrolled": true
   },
   "outputs": [
    {
     "data": {
      "text/plain": [
       "8.273472     2\n",
       "7.788570     1\n",
       "16.580681    1\n",
       "10.824983    1\n",
       "7.123340     1\n",
       "19.316874    1\n",
       "14.198867    1\n",
       "8.616269     1\n",
       "12.241347    1\n",
       "19.029928    1\n",
       "14.707675    1\n",
       "16.293735    1\n",
       "7.410286     1\n",
       "5.537280     1\n",
       "10.358073    1\n",
       "17.443868    1\n",
       "9.494887     1\n",
       "Name: predict, dtype: int64"
      ]
     },
     "execution_count": 39,
     "metadata": {},
     "output_type": "execute_result"
    }
   ],
   "source": [
    "pd_preds = preds.as_data_frame()\n",
    "pd_preds['predict'].value_counts()"
   ]
  },
  {
   "cell_type": "code",
   "execution_count": 40,
   "metadata": {},
   "outputs": [
    {
     "data": {
      "text/html": [
       "<table>\n",
       "<thead>\n",
       "<tr><th style=\"text-align: right;\">  cbo_mean</th><th style=\"text-align: right;\">  cbo_min</th><th style=\"text-align: right;\">  cbo_max</th><th style=\"text-align: right;\">  cbo_std</th><th style=\"text-align: right;\">  wmc_mean</th><th style=\"text-align: right;\">  wmc_min</th><th style=\"text-align: right;\">  wmc_max</th><th style=\"text-align: right;\">  wmc_std</th><th style=\"text-align: right;\">  dit_mean</th><th style=\"text-align: right;\">  dit_min</th><th style=\"text-align: right;\">  dit_max</th><th style=\"text-align: right;\">  dit_std</th><th style=\"text-align: right;\">  rfc_mean</th><th style=\"text-align: right;\">  rfc_min</th><th style=\"text-align: right;\">  rfc_max</th><th style=\"text-align: right;\">  rfc_std</th><th style=\"text-align: right;\">  lcom_mean</th><th style=\"text-align: right;\">  lcom_min</th><th style=\"text-align: right;\">  lcom_max</th><th style=\"text-align: right;\">  lcom_std</th><th style=\"text-align: right;\">  totalMethods_mean</th><th style=\"text-align: right;\">  totalMethods_min</th><th style=\"text-align: right;\">  totalMethods_max</th><th style=\"text-align: right;\">  totalMethods_std</th><th style=\"text-align: right;\">  staticMethods_mean</th><th style=\"text-align: right;\">  staticMethods_min</th><th style=\"text-align: right;\">  staticMethods_max</th><th style=\"text-align: right;\">  staticMethods_std</th><th style=\"text-align: right;\">  publicMethods_mean</th><th style=\"text-align: right;\">  publicMethods_min</th><th style=\"text-align: right;\">  publicMethods_max</th><th style=\"text-align: right;\">  publicMethods_std</th><th style=\"text-align: right;\">  privateMethods_mean</th><th style=\"text-align: right;\">  privateMethods_min</th><th style=\"text-align: right;\">  privateMethods_max</th><th style=\"text-align: right;\">  privateMethods_std</th><th style=\"text-align: right;\">  protectedMethods_mean</th><th style=\"text-align: right;\">  protectedMethods_min</th><th style=\"text-align: right;\">  protectedMethods_max</th><th style=\"text-align: right;\">  protectedMethods_std</th><th style=\"text-align: right;\">  defaultMethods_mean</th><th style=\"text-align: right;\">  defaultMethods_min</th><th style=\"text-align: right;\">  defaultMethods_max</th><th style=\"text-align: right;\">  defaultMethods_std</th><th style=\"text-align: right;\">  abstractMethods_mean</th><th style=\"text-align: right;\">  abstractMethods_min</th><th style=\"text-align: right;\">  abstractMethods_max</th><th style=\"text-align: right;\">  abstractMethods_std</th><th style=\"text-align: right;\">  finalMethods_mean</th><th style=\"text-align: right;\">  finalMethods_min</th><th style=\"text-align: right;\">  finalMethods_max</th><th style=\"text-align: right;\">  finalMethods_std</th><th style=\"text-align: right;\">  synchronizedMethods_mean</th><th style=\"text-align: right;\">  synchronizedMethods_min</th><th style=\"text-align: right;\">  synchronizedMethods_max</th><th style=\"text-align: right;\">  synchronizedMethods_std</th><th style=\"text-align: right;\">  totalFields_mean</th><th style=\"text-align: right;\">  totalFields_min</th><th style=\"text-align: right;\">  totalFields_max</th><th style=\"text-align: right;\">  totalFields_std</th><th style=\"text-align: right;\">  staticFields_mean</th><th style=\"text-align: right;\">  staticFields_min</th><th style=\"text-align: right;\">  staticFields_max</th><th style=\"text-align: right;\">  staticFields_std</th><th style=\"text-align: right;\">  publicFields_mean</th><th style=\"text-align: right;\">  publicFields_min</th><th style=\"text-align: right;\">  publicFields_max</th><th style=\"text-align: right;\">  publicFields_std</th><th style=\"text-align: right;\">  privateFields_mean</th><th style=\"text-align: right;\">  privateFields_min</th><th style=\"text-align: right;\">  privateFields_max</th><th style=\"text-align: right;\">  privateFields_std</th><th style=\"text-align: right;\">  protectedFields_mean</th><th style=\"text-align: right;\">  protectedFields_min</th><th style=\"text-align: right;\">  protectedFields_max</th><th style=\"text-align: right;\">  protectedFields_std</th><th style=\"text-align: right;\">  defaultFields_mean</th><th style=\"text-align: right;\">  defaultFields_min</th><th style=\"text-align: right;\">  defaultFields_max</th><th style=\"text-align: right;\">  defaultFields_std</th><th style=\"text-align: right;\">  finalFields_mean</th><th style=\"text-align: right;\">  finalFields_min</th><th style=\"text-align: right;\">  finalFields_max</th><th style=\"text-align: right;\">  finalFields_std</th><th style=\"text-align: right;\">  synchronizedFields_mean</th><th style=\"text-align: right;\">  synchronizedFields_min</th><th style=\"text-align: right;\">  synchronizedFields_max</th><th style=\"text-align: right;\">  synchronizedFields_std</th><th style=\"text-align: right;\">  nosi_mean</th><th style=\"text-align: right;\">  nosi_min</th><th style=\"text-align: right;\">  nosi_max</th><th style=\"text-align: right;\">  nosi_std</th><th style=\"text-align: right;\">  loc_mean</th><th style=\"text-align: right;\">  loc_min</th><th style=\"text-align: right;\">  loc_max</th><th style=\"text-align: right;\">  loc_std</th><th style=\"text-align: right;\">  returnQty_mean</th><th style=\"text-align: right;\">  returnQty_min</th><th style=\"text-align: right;\">  returnQty_max</th><th style=\"text-align: right;\">  returnQty_std</th><th style=\"text-align: right;\">  loopQty_mean</th><th style=\"text-align: right;\">  loopQty_min</th><th style=\"text-align: right;\">  loopQty_max</th><th style=\"text-align: right;\">  loopQty_std</th><th style=\"text-align: right;\">  comparisonsQty_mean</th><th style=\"text-align: right;\">  comparisonsQty_min</th><th style=\"text-align: right;\">  comparisonsQty_max</th><th style=\"text-align: right;\">  comparisonsQty_std</th><th style=\"text-align: right;\">  tryCatchQty_mean</th><th style=\"text-align: right;\">  tryCatchQty_min</th><th style=\"text-align: right;\">  tryCatchQty_max</th><th style=\"text-align: right;\">  tryCatchQty_std</th><th style=\"text-align: right;\">  parenthesizedExpsQty_mean</th><th style=\"text-align: right;\">  parenthesizedExpsQty_min</th><th style=\"text-align: right;\">  parenthesizedExpsQty_max</th><th style=\"text-align: right;\">  parenthesizedExpsQty_std</th><th style=\"text-align: right;\">  stringLiteralsQty_mean</th><th style=\"text-align: right;\">  stringLiteralsQty_min</th><th style=\"text-align: right;\">  stringLiteralsQty_max</th><th style=\"text-align: right;\">  stringLiteralsQty_std</th><th style=\"text-align: right;\">  numbersQty_mean</th><th style=\"text-align: right;\">  numbersQty_min</th><th style=\"text-align: right;\">  numbersQty_max</th><th style=\"text-align: right;\">  numbersQty_std</th><th style=\"text-align: right;\">  assignmentsQty_mean</th><th style=\"text-align: right;\">  assignmentsQty_min</th><th style=\"text-align: right;\">  assignmentsQty_max</th><th style=\"text-align: right;\">  assignmentsQty_std</th><th style=\"text-align: right;\">  mathOperationsQty_mean</th><th style=\"text-align: right;\">  mathOperationsQty_min</th><th style=\"text-align: right;\">  mathOperationsQty_max</th><th style=\"text-align: right;\">  mathOperationsQty_std</th><th style=\"text-align: right;\">  variablesQty_mean</th><th style=\"text-align: right;\">  variablesQty_min</th><th style=\"text-align: right;\">  variablesQty_max</th><th style=\"text-align: right;\">  variablesQty_std</th><th style=\"text-align: right;\">  maxNestedBlocks_mean</th><th style=\"text-align: right;\">  maxNestedBlocks_min</th><th style=\"text-align: right;\">  maxNestedBlocks_max</th><th style=\"text-align: right;\">  maxNestedBlocks_std</th><th style=\"text-align: right;\">  anonymousClassesQty_mean</th><th style=\"text-align: right;\">  anonymousClassesQty_min</th><th style=\"text-align: right;\">  anonymousClassesQty_max</th><th style=\"text-align: right;\">  anonymousClassesQty_std</th><th style=\"text-align: right;\">  subClassesQty_mean</th><th style=\"text-align: right;\">  subClassesQty_min</th><th style=\"text-align: right;\">  subClassesQty_max</th><th style=\"text-align: right;\">  subClassesQty_std</th><th style=\"text-align: right;\">  lambdasQty_mean</th><th style=\"text-align: right;\">  lambdasQty_min</th><th style=\"text-align: right;\">  lambdasQty_max</th><th style=\"text-align: right;\">  lambdasQty_std</th><th style=\"text-align: right;\">  uniqueWordsQty_mean</th><th style=\"text-align: right;\">  uniqueWordsQty_min</th><th style=\"text-align: right;\">  uniqueWordsQty_max</th><th style=\"text-align: right;\">  uniqueWordsQty_std</th><th style=\"text-align: right;\">  modifiers_mean</th><th style=\"text-align: right;\">  modifiers_min</th><th style=\"text-align: right;\">  modifiers_max</th><th style=\"text-align: right;\">  modifiers_std</th><th style=\"text-align: right;\">  num_dependency_mean</th><th style=\"text-align: right;\">  num_line_affected_mean</th><th style=\"text-align: right;\">  refactoring_perc_time_taken</th></tr>\n",
       "</thead>\n",
       "<tbody>\n",
       "<tr><td style=\"text-align: right;\">      11  </td><td style=\"text-align: right;\">       11</td><td style=\"text-align: right;\">       11</td><td style=\"text-align: right;\">  0      </td><td style=\"text-align: right;\">         8</td><td style=\"text-align: right;\">        8</td><td style=\"text-align: right;\">        8</td><td style=\"text-align: right;\">  0      </td><td style=\"text-align: right;\">   2      </td><td style=\"text-align: right;\">        2</td><td style=\"text-align: right;\">        2</td><td style=\"text-align: right;\"> 0       </td><td style=\"text-align: right;\">    9     </td><td style=\"text-align: right;\">        9</td><td style=\"text-align: right;\">        9</td><td style=\"text-align: right;\">   0     </td><td style=\"text-align: right;\">    15     </td><td style=\"text-align: right;\">        15</td><td style=\"text-align: right;\">        15</td><td style=\"text-align: right;\">    0     </td><td style=\"text-align: right;\">                  6</td><td style=\"text-align: right;\">                 6</td><td style=\"text-align: right;\">                 6</td><td style=\"text-align: right;\">           0      </td><td style=\"text-align: right;\">            0       </td><td style=\"text-align: right;\">                  0</td><td style=\"text-align: right;\">                  0</td><td style=\"text-align: right;\">            0      </td><td style=\"text-align: right;\">              6     </td><td style=\"text-align: right;\">                  6</td><td style=\"text-align: right;\">                  6</td><td style=\"text-align: right;\">            0      </td><td style=\"text-align: right;\">             0       </td><td style=\"text-align: right;\">                   0</td><td style=\"text-align: right;\">                   0</td><td style=\"text-align: right;\">             0      </td><td style=\"text-align: right;\">                    0  </td><td style=\"text-align: right;\">                     0</td><td style=\"text-align: right;\">                     0</td><td style=\"text-align: right;\">              0       </td><td style=\"text-align: right;\">                    0</td><td style=\"text-align: right;\">                   0</td><td style=\"text-align: right;\">                   0</td><td style=\"text-align: right;\">                   0</td><td style=\"text-align: right;\">                     0</td><td style=\"text-align: right;\">                    0</td><td style=\"text-align: right;\">                    0</td><td style=\"text-align: right;\">                    0</td><td style=\"text-align: right;\">                  0</td><td style=\"text-align: right;\">                 0</td><td style=\"text-align: right;\">                 0</td><td style=\"text-align: right;\">                 0</td><td style=\"text-align: right;\">                         0</td><td style=\"text-align: right;\">                        0</td><td style=\"text-align: right;\">                        0</td><td style=\"text-align: right;\">                        0</td><td style=\"text-align: right;\">               0  </td><td style=\"text-align: right;\">                0</td><td style=\"text-align: right;\">                0</td><td style=\"text-align: right;\">          0      </td><td style=\"text-align: right;\">                0  </td><td style=\"text-align: right;\">                 0</td><td style=\"text-align: right;\">                 0</td><td style=\"text-align: right;\">          0       </td><td style=\"text-align: right;\">                  0</td><td style=\"text-align: right;\">                 0</td><td style=\"text-align: right;\">                 0</td><td style=\"text-align: right;\">                 0</td><td style=\"text-align: right;\">                 0  </td><td style=\"text-align: right;\">                  0</td><td style=\"text-align: right;\">                  0</td><td style=\"text-align: right;\">            0      </td><td style=\"text-align: right;\">                     0</td><td style=\"text-align: right;\">                    0</td><td style=\"text-align: right;\">                    0</td><td style=\"text-align: right;\">                    0</td><td style=\"text-align: right;\">                   0</td><td style=\"text-align: right;\">                  0</td><td style=\"text-align: right;\">                  0</td><td style=\"text-align: right;\">                  0</td><td style=\"text-align: right;\">               0  </td><td style=\"text-align: right;\">                0</td><td style=\"text-align: right;\">                0</td><td style=\"text-align: right;\">          0      </td><td style=\"text-align: right;\">                        0</td><td style=\"text-align: right;\">                       0</td><td style=\"text-align: right;\">                       0</td><td style=\"text-align: right;\">                       0</td><td style=\"text-align: right;\">     2     </td><td style=\"text-align: right;\">         2</td><td style=\"text-align: right;\">         2</td><td style=\"text-align: right;\">   0      </td><td style=\"text-align: right;\">    63    </td><td style=\"text-align: right;\">       63</td><td style=\"text-align: right;\">       63</td><td style=\"text-align: right;\">   0     </td><td style=\"text-align: right;\">        4       </td><td style=\"text-align: right;\">              4</td><td style=\"text-align: right;\">              4</td><td style=\"text-align: right;\">       0       </td><td style=\"text-align: right;\">             0</td><td style=\"text-align: right;\">            0</td><td style=\"text-align: right;\">            0</td><td style=\"text-align: right;\">            0</td><td style=\"text-align: right;\">                    0</td><td style=\"text-align: right;\">                   0</td><td style=\"text-align: right;\">                   0</td><td style=\"text-align: right;\">                   0</td><td style=\"text-align: right;\">                 3</td><td style=\"text-align: right;\">                3</td><td style=\"text-align: right;\">                3</td><td style=\"text-align: right;\">                0</td><td style=\"text-align: right;\">                          0</td><td style=\"text-align: right;\">                         0</td><td style=\"text-align: right;\">                         0</td><td style=\"text-align: right;\">                         0</td><td style=\"text-align: right;\">                       6</td><td style=\"text-align: right;\">                      6</td><td style=\"text-align: right;\">                      6</td><td style=\"text-align: right;\">                 0     </td><td style=\"text-align: right;\">           2     </td><td style=\"text-align: right;\">               2</td><td style=\"text-align: right;\">               2</td><td style=\"text-align: right;\">         0      </td><td style=\"text-align: right;\">                  4  </td><td style=\"text-align: right;\">                   4</td><td style=\"text-align: right;\">                   4</td><td style=\"text-align: right;\">             0      </td><td style=\"text-align: right;\">                       0</td><td style=\"text-align: right;\">                      0</td><td style=\"text-align: right;\">                      0</td><td style=\"text-align: right;\">                0      </td><td style=\"text-align: right;\">             4     </td><td style=\"text-align: right;\">                 4</td><td style=\"text-align: right;\">                 4</td><td style=\"text-align: right;\">           0      </td><td style=\"text-align: right;\">                     3</td><td style=\"text-align: right;\">                    3</td><td style=\"text-align: right;\">                    3</td><td style=\"text-align: right;\">                    0</td><td style=\"text-align: right;\">                         0</td><td style=\"text-align: right;\">                        0</td><td style=\"text-align: right;\">                        0</td><td style=\"text-align: right;\">                  0      </td><td style=\"text-align: right;\">                   0</td><td style=\"text-align: right;\">                  0</td><td style=\"text-align: right;\">                  0</td><td style=\"text-align: right;\">                  0</td><td style=\"text-align: right;\">         1       </td><td style=\"text-align: right;\">               1</td><td style=\"text-align: right;\">               1</td><td style=\"text-align: right;\">         0      </td><td style=\"text-align: right;\">               58    </td><td style=\"text-align: right;\">                  58</td><td style=\"text-align: right;\">                  58</td><td style=\"text-align: right;\">              0     </td><td style=\"text-align: right;\">              17</td><td style=\"text-align: right;\">             17</td><td style=\"text-align: right;\">             17</td><td style=\"text-align: right;\">              0</td><td style=\"text-align: right;\">                 85  </td><td style=\"text-align: right;\">                    61  </td><td style=\"text-align: right;\">                     15      </td></tr>\n",
       "<tr><td style=\"text-align: right;\">       4  </td><td style=\"text-align: right;\">        4</td><td style=\"text-align: right;\">        4</td><td style=\"text-align: right;\">  0      </td><td style=\"text-align: right;\">        15</td><td style=\"text-align: right;\">       15</td><td style=\"text-align: right;\">       15</td><td style=\"text-align: right;\">  0      </td><td style=\"text-align: right;\">   1      </td><td style=\"text-align: right;\">        1</td><td style=\"text-align: right;\">        1</td><td style=\"text-align: right;\"> 0       </td><td style=\"text-align: right;\">    6     </td><td style=\"text-align: right;\">        6</td><td style=\"text-align: right;\">        6</td><td style=\"text-align: right;\">   0     </td><td style=\"text-align: right;\">    18     </td><td style=\"text-align: right;\">        18</td><td style=\"text-align: right;\">        18</td><td style=\"text-align: right;\">    0     </td><td style=\"text-align: right;\">                 12</td><td style=\"text-align: right;\">                12</td><td style=\"text-align: right;\">                12</td><td style=\"text-align: right;\">           0      </td><td style=\"text-align: right;\">            1       </td><td style=\"text-align: right;\">                  1</td><td style=\"text-align: right;\">                  1</td><td style=\"text-align: right;\">            0      </td><td style=\"text-align: right;\">             11     </td><td style=\"text-align: right;\">                 11</td><td style=\"text-align: right;\">                 11</td><td style=\"text-align: right;\">            0      </td><td style=\"text-align: right;\">             0       </td><td style=\"text-align: right;\">                   0</td><td style=\"text-align: right;\">                   0</td><td style=\"text-align: right;\">             0      </td><td style=\"text-align: right;\">                    1  </td><td style=\"text-align: right;\">                     1</td><td style=\"text-align: right;\">                     1</td><td style=\"text-align: right;\">              0       </td><td style=\"text-align: right;\">                    0</td><td style=\"text-align: right;\">                   0</td><td style=\"text-align: right;\">                   0</td><td style=\"text-align: right;\">                   0</td><td style=\"text-align: right;\">                     0</td><td style=\"text-align: right;\">                    0</td><td style=\"text-align: right;\">                    0</td><td style=\"text-align: right;\">                    0</td><td style=\"text-align: right;\">                  0</td><td style=\"text-align: right;\">                 0</td><td style=\"text-align: right;\">                 0</td><td style=\"text-align: right;\">                 0</td><td style=\"text-align: right;\">                         0</td><td style=\"text-align: right;\">                        0</td><td style=\"text-align: right;\">                        0</td><td style=\"text-align: right;\">                        0</td><td style=\"text-align: right;\">               3  </td><td style=\"text-align: right;\">                3</td><td style=\"text-align: right;\">                3</td><td style=\"text-align: right;\">          0      </td><td style=\"text-align: right;\">                0  </td><td style=\"text-align: right;\">                 0</td><td style=\"text-align: right;\">                 0</td><td style=\"text-align: right;\">          0       </td><td style=\"text-align: right;\">                  0</td><td style=\"text-align: right;\">                 0</td><td style=\"text-align: right;\">                 0</td><td style=\"text-align: right;\">                 0</td><td style=\"text-align: right;\">                 3  </td><td style=\"text-align: right;\">                  3</td><td style=\"text-align: right;\">                  3</td><td style=\"text-align: right;\">            0      </td><td style=\"text-align: right;\">                     0</td><td style=\"text-align: right;\">                    0</td><td style=\"text-align: right;\">                    0</td><td style=\"text-align: right;\">                    0</td><td style=\"text-align: right;\">                   0</td><td style=\"text-align: right;\">                  0</td><td style=\"text-align: right;\">                  0</td><td style=\"text-align: right;\">                  0</td><td style=\"text-align: right;\">               0  </td><td style=\"text-align: right;\">                0</td><td style=\"text-align: right;\">                0</td><td style=\"text-align: right;\">          0      </td><td style=\"text-align: right;\">                        0</td><td style=\"text-align: right;\">                       0</td><td style=\"text-align: right;\">                       0</td><td style=\"text-align: right;\">                       0</td><td style=\"text-align: right;\">     4     </td><td style=\"text-align: right;\">         4</td><td style=\"text-align: right;\">         4</td><td style=\"text-align: right;\">   0      </td><td style=\"text-align: right;\">    64    </td><td style=\"text-align: right;\">       64</td><td style=\"text-align: right;\">       64</td><td style=\"text-align: right;\">   0     </td><td style=\"text-align: right;\">       12       </td><td style=\"text-align: right;\">             12</td><td style=\"text-align: right;\">             12</td><td style=\"text-align: right;\">       0       </td><td style=\"text-align: right;\">             0</td><td style=\"text-align: right;\">            0</td><td style=\"text-align: right;\">            0</td><td style=\"text-align: right;\">            0</td><td style=\"text-align: right;\">                    2</td><td style=\"text-align: right;\">                   2</td><td style=\"text-align: right;\">                   2</td><td style=\"text-align: right;\">                   0</td><td style=\"text-align: right;\">                 0</td><td style=\"text-align: right;\">                0</td><td style=\"text-align: right;\">                0</td><td style=\"text-align: right;\">                0</td><td style=\"text-align: right;\">                          0</td><td style=\"text-align: right;\">                         0</td><td style=\"text-align: right;\">                         0</td><td style=\"text-align: right;\">                         0</td><td style=\"text-align: right;\">                       3</td><td style=\"text-align: right;\">                      3</td><td style=\"text-align: right;\">                      3</td><td style=\"text-align: right;\">                 0     </td><td style=\"text-align: right;\">           0     </td><td style=\"text-align: right;\">               0</td><td style=\"text-align: right;\">               0</td><td style=\"text-align: right;\">         0      </td><td style=\"text-align: right;\">                  7  </td><td style=\"text-align: right;\">                   7</td><td style=\"text-align: right;\">                   7</td><td style=\"text-align: right;\">             0      </td><td style=\"text-align: right;\">                       0</td><td style=\"text-align: right;\">                      0</td><td style=\"text-align: right;\">                      0</td><td style=\"text-align: right;\">                0      </td><td style=\"text-align: right;\">             4     </td><td style=\"text-align: right;\">                 4</td><td style=\"text-align: right;\">                 4</td><td style=\"text-align: right;\">           0      </td><td style=\"text-align: right;\">                     1</td><td style=\"text-align: right;\">                    1</td><td style=\"text-align: right;\">                    1</td><td style=\"text-align: right;\">                    0</td><td style=\"text-align: right;\">                         0</td><td style=\"text-align: right;\">                        0</td><td style=\"text-align: right;\">                        0</td><td style=\"text-align: right;\">                  0      </td><td style=\"text-align: right;\">                   0</td><td style=\"text-align: right;\">                  0</td><td style=\"text-align: right;\">                  0</td><td style=\"text-align: right;\">                  0</td><td style=\"text-align: right;\">         0       </td><td style=\"text-align: right;\">               0</td><td style=\"text-align: right;\">               0</td><td style=\"text-align: right;\">         0      </td><td style=\"text-align: right;\">              108    </td><td style=\"text-align: right;\">                 108</td><td style=\"text-align: right;\">                 108</td><td style=\"text-align: right;\">              0     </td><td style=\"text-align: right;\">               1</td><td style=\"text-align: right;\">              1</td><td style=\"text-align: right;\">              1</td><td style=\"text-align: right;\">              0</td><td style=\"text-align: right;\">                371  </td><td style=\"text-align: right;\">                   115  </td><td style=\"text-align: right;\">                      9.4875 </td></tr>\n",
       "<tr><td style=\"text-align: right;\">       3  </td><td style=\"text-align: right;\">        3</td><td style=\"text-align: right;\">        3</td><td style=\"text-align: right;\">  0      </td><td style=\"text-align: right;\">         5</td><td style=\"text-align: right;\">        5</td><td style=\"text-align: right;\">        5</td><td style=\"text-align: right;\">  0      </td><td style=\"text-align: right;\">   1      </td><td style=\"text-align: right;\">        1</td><td style=\"text-align: right;\">        1</td><td style=\"text-align: right;\"> 0       </td><td style=\"text-align: right;\">    5     </td><td style=\"text-align: right;\">        5</td><td style=\"text-align: right;\">        5</td><td style=\"text-align: right;\">   0     </td><td style=\"text-align: right;\">     2     </td><td style=\"text-align: right;\">         2</td><td style=\"text-align: right;\">         2</td><td style=\"text-align: right;\">    0     </td><td style=\"text-align: right;\">                  5</td><td style=\"text-align: right;\">                 5</td><td style=\"text-align: right;\">                 5</td><td style=\"text-align: right;\">           0      </td><td style=\"text-align: right;\">            0       </td><td style=\"text-align: right;\">                  0</td><td style=\"text-align: right;\">                  0</td><td style=\"text-align: right;\">            0      </td><td style=\"text-align: right;\">              5     </td><td style=\"text-align: right;\">                  5</td><td style=\"text-align: right;\">                  5</td><td style=\"text-align: right;\">            0      </td><td style=\"text-align: right;\">             0       </td><td style=\"text-align: right;\">                   0</td><td style=\"text-align: right;\">                   0</td><td style=\"text-align: right;\">             0      </td><td style=\"text-align: right;\">                    0  </td><td style=\"text-align: right;\">                     0</td><td style=\"text-align: right;\">                     0</td><td style=\"text-align: right;\">              0       </td><td style=\"text-align: right;\">                    0</td><td style=\"text-align: right;\">                   0</td><td style=\"text-align: right;\">                   0</td><td style=\"text-align: right;\">                   0</td><td style=\"text-align: right;\">                     0</td><td style=\"text-align: right;\">                    0</td><td style=\"text-align: right;\">                    0</td><td style=\"text-align: right;\">                    0</td><td style=\"text-align: right;\">                  0</td><td style=\"text-align: right;\">                 0</td><td style=\"text-align: right;\">                 0</td><td style=\"text-align: right;\">                 0</td><td style=\"text-align: right;\">                         0</td><td style=\"text-align: right;\">                        0</td><td style=\"text-align: right;\">                        0</td><td style=\"text-align: right;\">                        0</td><td style=\"text-align: right;\">               4  </td><td style=\"text-align: right;\">                4</td><td style=\"text-align: right;\">                4</td><td style=\"text-align: right;\">          0      </td><td style=\"text-align: right;\">                0  </td><td style=\"text-align: right;\">                 0</td><td style=\"text-align: right;\">                 0</td><td style=\"text-align: right;\">          0       </td><td style=\"text-align: right;\">                  0</td><td style=\"text-align: right;\">                 0</td><td style=\"text-align: right;\">                 0</td><td style=\"text-align: right;\">                 0</td><td style=\"text-align: right;\">                 4  </td><td style=\"text-align: right;\">                  4</td><td style=\"text-align: right;\">                  4</td><td style=\"text-align: right;\">            0      </td><td style=\"text-align: right;\">                     0</td><td style=\"text-align: right;\">                    0</td><td style=\"text-align: right;\">                    0</td><td style=\"text-align: right;\">                    0</td><td style=\"text-align: right;\">                   0</td><td style=\"text-align: right;\">                  0</td><td style=\"text-align: right;\">                  0</td><td style=\"text-align: right;\">                  0</td><td style=\"text-align: right;\">               4  </td><td style=\"text-align: right;\">                4</td><td style=\"text-align: right;\">                4</td><td style=\"text-align: right;\">          0      </td><td style=\"text-align: right;\">                        0</td><td style=\"text-align: right;\">                       0</td><td style=\"text-align: right;\">                       0</td><td style=\"text-align: right;\">                       0</td><td style=\"text-align: right;\">     5     </td><td style=\"text-align: right;\">         5</td><td style=\"text-align: right;\">         5</td><td style=\"text-align: right;\">   0      </td><td style=\"text-align: right;\">    33    </td><td style=\"text-align: right;\">       33</td><td style=\"text-align: right;\">       33</td><td style=\"text-align: right;\">   0     </td><td style=\"text-align: right;\">        0       </td><td style=\"text-align: right;\">              0</td><td style=\"text-align: right;\">              0</td><td style=\"text-align: right;\">       0       </td><td style=\"text-align: right;\">             0</td><td style=\"text-align: right;\">            0</td><td style=\"text-align: right;\">            0</td><td style=\"text-align: right;\">            0</td><td style=\"text-align: right;\">                    0</td><td style=\"text-align: right;\">                   0</td><td style=\"text-align: right;\">                   0</td><td style=\"text-align: right;\">                   0</td><td style=\"text-align: right;\">                 0</td><td style=\"text-align: right;\">                0</td><td style=\"text-align: right;\">                0</td><td style=\"text-align: right;\">                0</td><td style=\"text-align: right;\">                          0</td><td style=\"text-align: right;\">                         0</td><td style=\"text-align: right;\">                         0</td><td style=\"text-align: right;\">                         0</td><td style=\"text-align: right;\">                       0</td><td style=\"text-align: right;\">                      0</td><td style=\"text-align: right;\">                      0</td><td style=\"text-align: right;\">                 0     </td><td style=\"text-align: right;\">           0     </td><td style=\"text-align: right;\">               0</td><td style=\"text-align: right;\">               0</td><td style=\"text-align: right;\">         0      </td><td style=\"text-align: right;\">                  4  </td><td style=\"text-align: right;\">                   4</td><td style=\"text-align: right;\">                   4</td><td style=\"text-align: right;\">             0      </td><td style=\"text-align: right;\">                       0</td><td style=\"text-align: right;\">                      0</td><td style=\"text-align: right;\">                      0</td><td style=\"text-align: right;\">                0      </td><td style=\"text-align: right;\">             4     </td><td style=\"text-align: right;\">                 4</td><td style=\"text-align: right;\">                 4</td><td style=\"text-align: right;\">           0      </td><td style=\"text-align: right;\">                     0</td><td style=\"text-align: right;\">                    0</td><td style=\"text-align: right;\">                    0</td><td style=\"text-align: right;\">                    0</td><td style=\"text-align: right;\">                         0</td><td style=\"text-align: right;\">                        0</td><td style=\"text-align: right;\">                        0</td><td style=\"text-align: right;\">                  0      </td><td style=\"text-align: right;\">                   0</td><td style=\"text-align: right;\">                  0</td><td style=\"text-align: right;\">                  0</td><td style=\"text-align: right;\">                  0</td><td style=\"text-align: right;\">         1       </td><td style=\"text-align: right;\">               1</td><td style=\"text-align: right;\">               1</td><td style=\"text-align: right;\">         0      </td><td style=\"text-align: right;\">               38    </td><td style=\"text-align: right;\">                  38</td><td style=\"text-align: right;\">                  38</td><td style=\"text-align: right;\">              0     </td><td style=\"text-align: right;\">              16</td><td style=\"text-align: right;\">             16</td><td style=\"text-align: right;\">             16</td><td style=\"text-align: right;\">              0</td><td style=\"text-align: right;\">                 23  </td><td style=\"text-align: right;\">                    47  </td><td style=\"text-align: right;\">                      5.34091</td></tr>\n",
       "<tr><td style=\"text-align: right;\">      21.5</td><td style=\"text-align: right;\">       20</td><td style=\"text-align: right;\">       23</td><td style=\"text-align: right;\">  2.12132</td><td style=\"text-align: right;\">         9</td><td style=\"text-align: right;\">        6</td><td style=\"text-align: right;\">       12</td><td style=\"text-align: right;\">  4.24264</td><td style=\"text-align: right;\">   3      </td><td style=\"text-align: right;\">        3</td><td style=\"text-align: right;\">        3</td><td style=\"text-align: right;\"> 0       </td><td style=\"text-align: right;\">   25     </td><td style=\"text-align: right;\">       15</td><td style=\"text-align: right;\">       35</td><td style=\"text-align: right;\">  14.1421</td><td style=\"text-align: right;\">    37.5   </td><td style=\"text-align: right;\">        15</td><td style=\"text-align: right;\">        60</td><td style=\"text-align: right;\">   31.8198</td><td style=\"text-align: right;\">                  9</td><td style=\"text-align: right;\">                 6</td><td style=\"text-align: right;\">                12</td><td style=\"text-align: right;\">           4.24264</td><td style=\"text-align: right;\">            3.5     </td><td style=\"text-align: right;\">                  0</td><td style=\"text-align: right;\">                  7</td><td style=\"text-align: right;\">            4.94975</td><td style=\"text-align: right;\">              0     </td><td style=\"text-align: right;\">                  0</td><td style=\"text-align: right;\">                  0</td><td style=\"text-align: right;\">            0      </td><td style=\"text-align: right;\">             3.5     </td><td style=\"text-align: right;\">                   0</td><td style=\"text-align: right;\">                   7</td><td style=\"text-align: right;\">             4.94975</td><td style=\"text-align: right;\">                    0.5</td><td style=\"text-align: right;\">                     0</td><td style=\"text-align: right;\">                     1</td><td style=\"text-align: right;\">              0.707107</td><td style=\"text-align: right;\">                    0</td><td style=\"text-align: right;\">                   0</td><td style=\"text-align: right;\">                   0</td><td style=\"text-align: right;\">                   0</td><td style=\"text-align: right;\">                     0</td><td style=\"text-align: right;\">                    0</td><td style=\"text-align: right;\">                    0</td><td style=\"text-align: right;\">                    0</td><td style=\"text-align: right;\">                  0</td><td style=\"text-align: right;\">                 0</td><td style=\"text-align: right;\">                 0</td><td style=\"text-align: right;\">                 0</td><td style=\"text-align: right;\">                         0</td><td style=\"text-align: right;\">                        0</td><td style=\"text-align: right;\">                        0</td><td style=\"text-align: right;\">                        0</td><td style=\"text-align: right;\">               2.5</td><td style=\"text-align: right;\">                1</td><td style=\"text-align: right;\">                4</td><td style=\"text-align: right;\">          2.12132</td><td style=\"text-align: right;\">                2.5</td><td style=\"text-align: right;\">                 1</td><td style=\"text-align: right;\">                 4</td><td style=\"text-align: right;\">          2.12132 </td><td style=\"text-align: right;\">                  0</td><td style=\"text-align: right;\">                 0</td><td style=\"text-align: right;\">                 0</td><td style=\"text-align: right;\">                 0</td><td style=\"text-align: right;\">                 2.5</td><td style=\"text-align: right;\">                  1</td><td style=\"text-align: right;\">                  4</td><td style=\"text-align: right;\">            2.12132</td><td style=\"text-align: right;\">                     0</td><td style=\"text-align: right;\">                    0</td><td style=\"text-align: right;\">                    0</td><td style=\"text-align: right;\">                    0</td><td style=\"text-align: right;\">                   0</td><td style=\"text-align: right;\">                  0</td><td style=\"text-align: right;\">                  0</td><td style=\"text-align: right;\">                  0</td><td style=\"text-align: right;\">               2.5</td><td style=\"text-align: right;\">                1</td><td style=\"text-align: right;\">                4</td><td style=\"text-align: right;\">          2.12132</td><td style=\"text-align: right;\">                        0</td><td style=\"text-align: right;\">                       0</td><td style=\"text-align: right;\">                       0</td><td style=\"text-align: right;\">                       0</td><td style=\"text-align: right;\">    43.5   </td><td style=\"text-align: right;\">        16</td><td style=\"text-align: right;\">        71</td><td style=\"text-align: right;\">  38.8909 </td><td style=\"text-align: right;\">   121    </td><td style=\"text-align: right;\">       60</td><td style=\"text-align: right;\">      182</td><td style=\"text-align: right;\">  86.267 </td><td style=\"text-align: right;\">        3.5     </td><td style=\"text-align: right;\">              0</td><td style=\"text-align: right;\">              7</td><td style=\"text-align: right;\">       4.94975 </td><td style=\"text-align: right;\">             0</td><td style=\"text-align: right;\">            0</td><td style=\"text-align: right;\">            0</td><td style=\"text-align: right;\">            0</td><td style=\"text-align: right;\">                    0</td><td style=\"text-align: right;\">                   0</td><td style=\"text-align: right;\">                   0</td><td style=\"text-align: right;\">                   0</td><td style=\"text-align: right;\">                 0</td><td style=\"text-align: right;\">                0</td><td style=\"text-align: right;\">                0</td><td style=\"text-align: right;\">                0</td><td style=\"text-align: right;\">                          0</td><td style=\"text-align: right;\">                         0</td><td style=\"text-align: right;\">                         0</td><td style=\"text-align: right;\">                         0</td><td style=\"text-align: right;\">                      48</td><td style=\"text-align: right;\">                     10</td><td style=\"text-align: right;\">                     86</td><td style=\"text-align: right;\">                53.7401</td><td style=\"text-align: right;\">           0     </td><td style=\"text-align: right;\">               0</td><td style=\"text-align: right;\">               0</td><td style=\"text-align: right;\">         0      </td><td style=\"text-align: right;\">                 10  </td><td style=\"text-align: right;\">                   9</td><td style=\"text-align: right;\">                  11</td><td style=\"text-align: right;\">             1.41421</td><td style=\"text-align: right;\">                       0</td><td style=\"text-align: right;\">                      0</td><td style=\"text-align: right;\">                      0</td><td style=\"text-align: right;\">                0      </td><td style=\"text-align: right;\">            10     </td><td style=\"text-align: right;\">                 9</td><td style=\"text-align: right;\">                11</td><td style=\"text-align: right;\">           1.41421</td><td style=\"text-align: right;\">                     0</td><td style=\"text-align: right;\">                    0</td><td style=\"text-align: right;\">                    0</td><td style=\"text-align: right;\">                    0</td><td style=\"text-align: right;\">                         0</td><td style=\"text-align: right;\">                        0</td><td style=\"text-align: right;\">                        0</td><td style=\"text-align: right;\">                  0      </td><td style=\"text-align: right;\">                   0</td><td style=\"text-align: right;\">                  0</td><td style=\"text-align: right;\">                  0</td><td style=\"text-align: right;\">                  0</td><td style=\"text-align: right;\">         7       </td><td style=\"text-align: right;\">               4</td><td style=\"text-align: right;\">              10</td><td style=\"text-align: right;\">         4.24264</td><td style=\"text-align: right;\">               68    </td><td style=\"text-align: right;\">                  54</td><td style=\"text-align: right;\">                  82</td><td style=\"text-align: right;\">             19.799 </td><td style=\"text-align: right;\">               0</td><td style=\"text-align: right;\">              0</td><td style=\"text-align: right;\">              0</td><td style=\"text-align: right;\">              0</td><td style=\"text-align: right;\">                 12.5</td><td style=\"text-align: right;\">                   119.5</td><td style=\"text-align: right;\">                      2.05128</td></tr>\n",
       "<tr><td style=\"text-align: right;\">      11  </td><td style=\"text-align: right;\">       11</td><td style=\"text-align: right;\">       11</td><td style=\"text-align: right;\">  0      </td><td style=\"text-align: right;\">         6</td><td style=\"text-align: right;\">        6</td><td style=\"text-align: right;\">        6</td><td style=\"text-align: right;\">  0      </td><td style=\"text-align: right;\">   3      </td><td style=\"text-align: right;\">        3</td><td style=\"text-align: right;\">        3</td><td style=\"text-align: right;\"> 0       </td><td style=\"text-align: right;\">   15     </td><td style=\"text-align: right;\">       15</td><td style=\"text-align: right;\">       15</td><td style=\"text-align: right;\">   0     </td><td style=\"text-align: right;\">    15     </td><td style=\"text-align: right;\">        15</td><td style=\"text-align: right;\">        15</td><td style=\"text-align: right;\">    0     </td><td style=\"text-align: right;\">                  6</td><td style=\"text-align: right;\">                 6</td><td style=\"text-align: right;\">                 6</td><td style=\"text-align: right;\">           0      </td><td style=\"text-align: right;\">            2       </td><td style=\"text-align: right;\">                  2</td><td style=\"text-align: right;\">                  2</td><td style=\"text-align: right;\">            0      </td><td style=\"text-align: right;\">              4     </td><td style=\"text-align: right;\">                  4</td><td style=\"text-align: right;\">                  4</td><td style=\"text-align: right;\">            0      </td><td style=\"text-align: right;\">             1       </td><td style=\"text-align: right;\">                   1</td><td style=\"text-align: right;\">                   1</td><td style=\"text-align: right;\">             0      </td><td style=\"text-align: right;\">                    0  </td><td style=\"text-align: right;\">                     0</td><td style=\"text-align: right;\">                     0</td><td style=\"text-align: right;\">              0       </td><td style=\"text-align: right;\">                    0</td><td style=\"text-align: right;\">                   0</td><td style=\"text-align: right;\">                   0</td><td style=\"text-align: right;\">                   0</td><td style=\"text-align: right;\">                     0</td><td style=\"text-align: right;\">                    0</td><td style=\"text-align: right;\">                    0</td><td style=\"text-align: right;\">                    0</td><td style=\"text-align: right;\">                  0</td><td style=\"text-align: right;\">                 0</td><td style=\"text-align: right;\">                 0</td><td style=\"text-align: right;\">                 0</td><td style=\"text-align: right;\">                         0</td><td style=\"text-align: right;\">                        0</td><td style=\"text-align: right;\">                        0</td><td style=\"text-align: right;\">                        0</td><td style=\"text-align: right;\">               0  </td><td style=\"text-align: right;\">                0</td><td style=\"text-align: right;\">                0</td><td style=\"text-align: right;\">          0      </td><td style=\"text-align: right;\">                0  </td><td style=\"text-align: right;\">                 0</td><td style=\"text-align: right;\">                 0</td><td style=\"text-align: right;\">          0       </td><td style=\"text-align: right;\">                  0</td><td style=\"text-align: right;\">                 0</td><td style=\"text-align: right;\">                 0</td><td style=\"text-align: right;\">                 0</td><td style=\"text-align: right;\">                 0  </td><td style=\"text-align: right;\">                  0</td><td style=\"text-align: right;\">                  0</td><td style=\"text-align: right;\">            0      </td><td style=\"text-align: right;\">                     0</td><td style=\"text-align: right;\">                    0</td><td style=\"text-align: right;\">                    0</td><td style=\"text-align: right;\">                    0</td><td style=\"text-align: right;\">                   0</td><td style=\"text-align: right;\">                  0</td><td style=\"text-align: right;\">                  0</td><td style=\"text-align: right;\">                  0</td><td style=\"text-align: right;\">               0  </td><td style=\"text-align: right;\">                0</td><td style=\"text-align: right;\">                0</td><td style=\"text-align: right;\">          0      </td><td style=\"text-align: right;\">                        0</td><td style=\"text-align: right;\">                       0</td><td style=\"text-align: right;\">                       0</td><td style=\"text-align: right;\">                       0</td><td style=\"text-align: right;\">    24     </td><td style=\"text-align: right;\">        24</td><td style=\"text-align: right;\">        24</td><td style=\"text-align: right;\">   0      </td><td style=\"text-align: right;\">   111    </td><td style=\"text-align: right;\">      111</td><td style=\"text-align: right;\">      111</td><td style=\"text-align: right;\">   0     </td><td style=\"text-align: right;\">        2       </td><td style=\"text-align: right;\">              2</td><td style=\"text-align: right;\">              2</td><td style=\"text-align: right;\">       0       </td><td style=\"text-align: right;\">             0</td><td style=\"text-align: right;\">            0</td><td style=\"text-align: right;\">            0</td><td style=\"text-align: right;\">            0</td><td style=\"text-align: right;\">                    0</td><td style=\"text-align: right;\">                   0</td><td style=\"text-align: right;\">                   0</td><td style=\"text-align: right;\">                   0</td><td style=\"text-align: right;\">                 0</td><td style=\"text-align: right;\">                0</td><td style=\"text-align: right;\">                0</td><td style=\"text-align: right;\">                0</td><td style=\"text-align: right;\">                          0</td><td style=\"text-align: right;\">                         0</td><td style=\"text-align: right;\">                         0</td><td style=\"text-align: right;\">                         0</td><td style=\"text-align: right;\">                      34</td><td style=\"text-align: right;\">                     34</td><td style=\"text-align: right;\">                     34</td><td style=\"text-align: right;\">                 0     </td><td style=\"text-align: right;\">          30     </td><td style=\"text-align: right;\">              30</td><td style=\"text-align: right;\">              30</td><td style=\"text-align: right;\">         0      </td><td style=\"text-align: right;\">                  8  </td><td style=\"text-align: right;\">                   8</td><td style=\"text-align: right;\">                   8</td><td style=\"text-align: right;\">             0      </td><td style=\"text-align: right;\">                       0</td><td style=\"text-align: right;\">                      0</td><td style=\"text-align: right;\">                      0</td><td style=\"text-align: right;\">                0      </td><td style=\"text-align: right;\">             8     </td><td style=\"text-align: right;\">                 8</td><td style=\"text-align: right;\">                 8</td><td style=\"text-align: right;\">           0      </td><td style=\"text-align: right;\">                     0</td><td style=\"text-align: right;\">                    0</td><td style=\"text-align: right;\">                    0</td><td style=\"text-align: right;\">                    0</td><td style=\"text-align: right;\">                         0</td><td style=\"text-align: right;\">                        0</td><td style=\"text-align: right;\">                        0</td><td style=\"text-align: right;\">                  0      </td><td style=\"text-align: right;\">                   2</td><td style=\"text-align: right;\">                  2</td><td style=\"text-align: right;\">                  2</td><td style=\"text-align: right;\">                  0</td><td style=\"text-align: right;\">         0       </td><td style=\"text-align: right;\">               0</td><td style=\"text-align: right;\">               0</td><td style=\"text-align: right;\">         0      </td><td style=\"text-align: right;\">               75    </td><td style=\"text-align: right;\">                  75</td><td style=\"text-align: right;\">                  75</td><td style=\"text-align: right;\">              0     </td><td style=\"text-align: right;\">               1</td><td style=\"text-align: right;\">              1</td><td style=\"text-align: right;\">              1</td><td style=\"text-align: right;\">              0</td><td style=\"text-align: right;\">                 20  </td><td style=\"text-align: right;\">                    96  </td><td style=\"text-align: right;\">                      7.12166</td></tr>\n",
       "<tr><td style=\"text-align: right;\">      26  </td><td style=\"text-align: right;\">       20</td><td style=\"text-align: right;\">       32</td><td style=\"text-align: right;\">  6      </td><td style=\"text-align: right;\">        11</td><td style=\"text-align: right;\">        6</td><td style=\"text-align: right;\">       19</td><td style=\"text-align: right;\">  7      </td><td style=\"text-align: right;\">   3.66667</td><td style=\"text-align: right;\">        3</td><td style=\"text-align: right;\">        5</td><td style=\"text-align: right;\"> 1.1547  </td><td style=\"text-align: right;\">   23.3333</td><td style=\"text-align: right;\">       11</td><td style=\"text-align: right;\">       33</td><td style=\"text-align: right;\">  11.2398</td><td style=\"text-align: right;\">    71.3333</td><td style=\"text-align: right;\">        15</td><td style=\"text-align: right;\">       171</td><td style=\"text-align: right;\">   86.5583</td><td style=\"text-align: right;\">                 11</td><td style=\"text-align: right;\">                 6</td><td style=\"text-align: right;\">                19</td><td style=\"text-align: right;\">           7      </td><td style=\"text-align: right;\">            0.666667</td><td style=\"text-align: right;\">                  0</td><td style=\"text-align: right;\">                  1</td><td style=\"text-align: right;\">            0.57735</td><td style=\"text-align: right;\">             10.3333</td><td style=\"text-align: right;\">                  6</td><td style=\"text-align: right;\">                 18</td><td style=\"text-align: right;\">            6.65833</td><td style=\"text-align: right;\">             0.666667</td><td style=\"text-align: right;\">                   0</td><td style=\"text-align: right;\">                   1</td><td style=\"text-align: right;\">             0.57735</td><td style=\"text-align: right;\">                    0  </td><td style=\"text-align: right;\">                     0</td><td style=\"text-align: right;\">                     0</td><td style=\"text-align: right;\">              0       </td><td style=\"text-align: right;\">                    0</td><td style=\"text-align: right;\">                   0</td><td style=\"text-align: right;\">                   0</td><td style=\"text-align: right;\">                   0</td><td style=\"text-align: right;\">                     0</td><td style=\"text-align: right;\">                    0</td><td style=\"text-align: right;\">                    0</td><td style=\"text-align: right;\">                    0</td><td style=\"text-align: right;\">                  0</td><td style=\"text-align: right;\">                 0</td><td style=\"text-align: right;\">                 0</td><td style=\"text-align: right;\">                 0</td><td style=\"text-align: right;\">                         0</td><td style=\"text-align: right;\">                        0</td><td style=\"text-align: right;\">                        0</td><td style=\"text-align: right;\">                        0</td><td style=\"text-align: right;\">               0  </td><td style=\"text-align: right;\">                0</td><td style=\"text-align: right;\">                0</td><td style=\"text-align: right;\">          0      </td><td style=\"text-align: right;\">                0  </td><td style=\"text-align: right;\">                 0</td><td style=\"text-align: right;\">                 0</td><td style=\"text-align: right;\">          0       </td><td style=\"text-align: right;\">                  0</td><td style=\"text-align: right;\">                 0</td><td style=\"text-align: right;\">                 0</td><td style=\"text-align: right;\">                 0</td><td style=\"text-align: right;\">                 0  </td><td style=\"text-align: right;\">                  0</td><td style=\"text-align: right;\">                  0</td><td style=\"text-align: right;\">            0      </td><td style=\"text-align: right;\">                     0</td><td style=\"text-align: right;\">                    0</td><td style=\"text-align: right;\">                    0</td><td style=\"text-align: right;\">                    0</td><td style=\"text-align: right;\">                   0</td><td style=\"text-align: right;\">                  0</td><td style=\"text-align: right;\">                  0</td><td style=\"text-align: right;\">                  0</td><td style=\"text-align: right;\">               0  </td><td style=\"text-align: right;\">                0</td><td style=\"text-align: right;\">                0</td><td style=\"text-align: right;\">          0      </td><td style=\"text-align: right;\">                        0</td><td style=\"text-align: right;\">                       0</td><td style=\"text-align: right;\">                       0</td><td style=\"text-align: right;\">                       0</td><td style=\"text-align: right;\">    15.6667</td><td style=\"text-align: right;\">         6</td><td style=\"text-align: right;\">        24</td><td style=\"text-align: right;\">   9.07377</td><td style=\"text-align: right;\">   179.333</td><td style=\"text-align: right;\">      130</td><td style=\"text-align: right;\">      258</td><td style=\"text-align: right;\">  68.8573</td><td style=\"text-align: right;\">        0.666667</td><td style=\"text-align: right;\">              0</td><td style=\"text-align: right;\">              1</td><td style=\"text-align: right;\">       0.57735 </td><td style=\"text-align: right;\">             0</td><td style=\"text-align: right;\">            0</td><td style=\"text-align: right;\">            0</td><td style=\"text-align: right;\">            0</td><td style=\"text-align: right;\">                    0</td><td style=\"text-align: right;\">                   0</td><td style=\"text-align: right;\">                   0</td><td style=\"text-align: right;\">                   0</td><td style=\"text-align: right;\">                 0</td><td style=\"text-align: right;\">                0</td><td style=\"text-align: right;\">                0</td><td style=\"text-align: right;\">                0</td><td style=\"text-align: right;\">                          0</td><td style=\"text-align: right;\">                         0</td><td style=\"text-align: right;\">                         0</td><td style=\"text-align: right;\">                         0</td><td style=\"text-align: right;\">                      33</td><td style=\"text-align: right;\">                     25</td><td style=\"text-align: right;\">                     45</td><td style=\"text-align: right;\">                10.583 </td><td style=\"text-align: right;\">          24.6667</td><td style=\"text-align: right;\">              23</td><td style=\"text-align: right;\">              28</td><td style=\"text-align: right;\">         2.88675</td><td style=\"text-align: right;\">                 67  </td><td style=\"text-align: right;\">                  55</td><td style=\"text-align: right;\">                  90</td><td style=\"text-align: right;\">            19.9249 </td><td style=\"text-align: right;\">                       0</td><td style=\"text-align: right;\">                      0</td><td style=\"text-align: right;\">                      0</td><td style=\"text-align: right;\">                0      </td><td style=\"text-align: right;\">            30.3333</td><td style=\"text-align: right;\">                16</td><td style=\"text-align: right;\">                50</td><td style=\"text-align: right;\">          17.6163 </td><td style=\"text-align: right;\">                     0</td><td style=\"text-align: right;\">                    0</td><td style=\"text-align: right;\">                    0</td><td style=\"text-align: right;\">                    0</td><td style=\"text-align: right;\">                         0</td><td style=\"text-align: right;\">                        0</td><td style=\"text-align: right;\">                        0</td><td style=\"text-align: right;\">                  0      </td><td style=\"text-align: right;\">                   2</td><td style=\"text-align: right;\">                  0</td><td style=\"text-align: right;\">                  4</td><td style=\"text-align: right;\">                  2</td><td style=\"text-align: right;\">         0.333333</td><td style=\"text-align: right;\">               0</td><td style=\"text-align: right;\">               1</td><td style=\"text-align: right;\">         0.57735</td><td style=\"text-align: right;\">              118.333</td><td style=\"text-align: right;\">                  89</td><td style=\"text-align: right;\">                 151</td><td style=\"text-align: right;\">             31.1341</td><td style=\"text-align: right;\">               1</td><td style=\"text-align: right;\">              1</td><td style=\"text-align: right;\">              1</td><td style=\"text-align: right;\">              0</td><td style=\"text-align: right;\">                  9  </td><td style=\"text-align: right;\">                   321  </td><td style=\"text-align: right;\">                     27.154  </td></tr>\n",
       "<tr><td style=\"text-align: right;\">       5  </td><td style=\"text-align: right;\">        5</td><td style=\"text-align: right;\">        5</td><td style=\"text-align: right;\">  0      </td><td style=\"text-align: right;\">        11</td><td style=\"text-align: right;\">       11</td><td style=\"text-align: right;\">       11</td><td style=\"text-align: right;\">  0      </td><td style=\"text-align: right;\">   1      </td><td style=\"text-align: right;\">        1</td><td style=\"text-align: right;\">        1</td><td style=\"text-align: right;\"> 0       </td><td style=\"text-align: right;\">   14     </td><td style=\"text-align: right;\">       14</td><td style=\"text-align: right;\">       14</td><td style=\"text-align: right;\">   0     </td><td style=\"text-align: right;\">     0     </td><td style=\"text-align: right;\">         0</td><td style=\"text-align: right;\">         0</td><td style=\"text-align: right;\">    0     </td><td style=\"text-align: right;\">                 10</td><td style=\"text-align: right;\">                10</td><td style=\"text-align: right;\">                10</td><td style=\"text-align: right;\">           0      </td><td style=\"text-align: right;\">            1       </td><td style=\"text-align: right;\">                  1</td><td style=\"text-align: right;\">                  1</td><td style=\"text-align: right;\">            0      </td><td style=\"text-align: right;\">              9     </td><td style=\"text-align: right;\">                  9</td><td style=\"text-align: right;\">                  9</td><td style=\"text-align: right;\">            0      </td><td style=\"text-align: right;\">             1       </td><td style=\"text-align: right;\">                   1</td><td style=\"text-align: right;\">                   1</td><td style=\"text-align: right;\">             0      </td><td style=\"text-align: right;\">                    0  </td><td style=\"text-align: right;\">                     0</td><td style=\"text-align: right;\">                     0</td><td style=\"text-align: right;\">              0       </td><td style=\"text-align: right;\">                    0</td><td style=\"text-align: right;\">                   0</td><td style=\"text-align: right;\">                   0</td><td style=\"text-align: right;\">                   0</td><td style=\"text-align: right;\">                     0</td><td style=\"text-align: right;\">                    0</td><td style=\"text-align: right;\">                    0</td><td style=\"text-align: right;\">                    0</td><td style=\"text-align: right;\">                  0</td><td style=\"text-align: right;\">                 0</td><td style=\"text-align: right;\">                 0</td><td style=\"text-align: right;\">                 0</td><td style=\"text-align: right;\">                         0</td><td style=\"text-align: right;\">                        0</td><td style=\"text-align: right;\">                        0</td><td style=\"text-align: right;\">                        0</td><td style=\"text-align: right;\">               1  </td><td style=\"text-align: right;\">                1</td><td style=\"text-align: right;\">                1</td><td style=\"text-align: right;\">          0      </td><td style=\"text-align: right;\">                0  </td><td style=\"text-align: right;\">                 0</td><td style=\"text-align: right;\">                 0</td><td style=\"text-align: right;\">          0       </td><td style=\"text-align: right;\">                  0</td><td style=\"text-align: right;\">                 0</td><td style=\"text-align: right;\">                 0</td><td style=\"text-align: right;\">                 0</td><td style=\"text-align: right;\">                 0  </td><td style=\"text-align: right;\">                  0</td><td style=\"text-align: right;\">                  0</td><td style=\"text-align: right;\">            0      </td><td style=\"text-align: right;\">                     0</td><td style=\"text-align: right;\">                    0</td><td style=\"text-align: right;\">                    0</td><td style=\"text-align: right;\">                    0</td><td style=\"text-align: right;\">                   0</td><td style=\"text-align: right;\">                  0</td><td style=\"text-align: right;\">                  0</td><td style=\"text-align: right;\">                  0</td><td style=\"text-align: right;\">               0  </td><td style=\"text-align: right;\">                0</td><td style=\"text-align: right;\">                0</td><td style=\"text-align: right;\">          0      </td><td style=\"text-align: right;\">                        0</td><td style=\"text-align: right;\">                       0</td><td style=\"text-align: right;\">                       0</td><td style=\"text-align: right;\">                       0</td><td style=\"text-align: right;\">     5     </td><td style=\"text-align: right;\">         5</td><td style=\"text-align: right;\">         5</td><td style=\"text-align: right;\">   0      </td><td style=\"text-align: right;\">    53    </td><td style=\"text-align: right;\">       53</td><td style=\"text-align: right;\">       53</td><td style=\"text-align: right;\">   0     </td><td style=\"text-align: right;\">        8       </td><td style=\"text-align: right;\">              8</td><td style=\"text-align: right;\">              8</td><td style=\"text-align: right;\">       0       </td><td style=\"text-align: right;\">             1</td><td style=\"text-align: right;\">            1</td><td style=\"text-align: right;\">            1</td><td style=\"text-align: right;\">            0</td><td style=\"text-align: right;\">                    0</td><td style=\"text-align: right;\">                   0</td><td style=\"text-align: right;\">                   0</td><td style=\"text-align: right;\">                   0</td><td style=\"text-align: right;\">                 0</td><td style=\"text-align: right;\">                0</td><td style=\"text-align: right;\">                0</td><td style=\"text-align: right;\">                0</td><td style=\"text-align: right;\">                          1</td><td style=\"text-align: right;\">                         1</td><td style=\"text-align: right;\">                         1</td><td style=\"text-align: right;\">                         0</td><td style=\"text-align: right;\">                       3</td><td style=\"text-align: right;\">                      3</td><td style=\"text-align: right;\">                      3</td><td style=\"text-align: right;\">                 0     </td><td style=\"text-align: right;\">           0     </td><td style=\"text-align: right;\">               0</td><td style=\"text-align: right;\">               0</td><td style=\"text-align: right;\">         0      </td><td style=\"text-align: right;\">                  2  </td><td style=\"text-align: right;\">                   2</td><td style=\"text-align: right;\">                   2</td><td style=\"text-align: right;\">             0      </td><td style=\"text-align: right;\">                       0</td><td style=\"text-align: right;\">                      0</td><td style=\"text-align: right;\">                      0</td><td style=\"text-align: right;\">                0      </td><td style=\"text-align: right;\">             2     </td><td style=\"text-align: right;\">                 2</td><td style=\"text-align: right;\">                 2</td><td style=\"text-align: right;\">           0      </td><td style=\"text-align: right;\">                     1</td><td style=\"text-align: right;\">                    1</td><td style=\"text-align: right;\">                    1</td><td style=\"text-align: right;\">                    0</td><td style=\"text-align: right;\">                         0</td><td style=\"text-align: right;\">                        0</td><td style=\"text-align: right;\">                        0</td><td style=\"text-align: right;\">                  0      </td><td style=\"text-align: right;\">                   0</td><td style=\"text-align: right;\">                  0</td><td style=\"text-align: right;\">                  0</td><td style=\"text-align: right;\">                  0</td><td style=\"text-align: right;\">         0       </td><td style=\"text-align: right;\">               0</td><td style=\"text-align: right;\">               0</td><td style=\"text-align: right;\">         0      </td><td style=\"text-align: right;\">               46    </td><td style=\"text-align: right;\">                  46</td><td style=\"text-align: right;\">                  46</td><td style=\"text-align: right;\">              0     </td><td style=\"text-align: right;\">               1</td><td style=\"text-align: right;\">              1</td><td style=\"text-align: right;\">              1</td><td style=\"text-align: right;\">              0</td><td style=\"text-align: right;\">                 16  </td><td style=\"text-align: right;\">                    53  </td><td style=\"text-align: right;\">                     10.0157 </td></tr>\n",
       "<tr><td style=\"text-align: right;\">      38.5</td><td style=\"text-align: right;\">        1</td><td style=\"text-align: right;\">       76</td><td style=\"text-align: right;\"> 53.033  </td><td style=\"text-align: right;\">         7</td><td style=\"text-align: right;\">        1</td><td style=\"text-align: right;\">       13</td><td style=\"text-align: right;\">  8.48528</td><td style=\"text-align: right;\">   1.5    </td><td style=\"text-align: right;\">        1</td><td style=\"text-align: right;\">        2</td><td style=\"text-align: right;\"> 0.707107</td><td style=\"text-align: right;\">   71     </td><td style=\"text-align: right;\">        3</td><td style=\"text-align: right;\">      139</td><td style=\"text-align: right;\">  96.1665</td><td style=\"text-align: right;\">     0     </td><td style=\"text-align: right;\">         0</td><td style=\"text-align: right;\">         0</td><td style=\"text-align: right;\">    0     </td><td style=\"text-align: right;\">                  7</td><td style=\"text-align: right;\">                 1</td><td style=\"text-align: right;\">                13</td><td style=\"text-align: right;\">           8.48528</td><td style=\"text-align: right;\">            1       </td><td style=\"text-align: right;\">                  0</td><td style=\"text-align: right;\">                  2</td><td style=\"text-align: right;\">            1.41421</td><td style=\"text-align: right;\">              7     </td><td style=\"text-align: right;\">                  1</td><td style=\"text-align: right;\">                 13</td><td style=\"text-align: right;\">            8.48528</td><td style=\"text-align: right;\">             0       </td><td style=\"text-align: right;\">                   0</td><td style=\"text-align: right;\">                   0</td><td style=\"text-align: right;\">             0      </td><td style=\"text-align: right;\">                    0  </td><td style=\"text-align: right;\">                     0</td><td style=\"text-align: right;\">                     0</td><td style=\"text-align: right;\">              0       </td><td style=\"text-align: right;\">                    0</td><td style=\"text-align: right;\">                   0</td><td style=\"text-align: right;\">                   0</td><td style=\"text-align: right;\">                   0</td><td style=\"text-align: right;\">                     0</td><td style=\"text-align: right;\">                    0</td><td style=\"text-align: right;\">                    0</td><td style=\"text-align: right;\">                    0</td><td style=\"text-align: right;\">                  0</td><td style=\"text-align: right;\">                 0</td><td style=\"text-align: right;\">                 0</td><td style=\"text-align: right;\">                 0</td><td style=\"text-align: right;\">                         0</td><td style=\"text-align: right;\">                        0</td><td style=\"text-align: right;\">                        0</td><td style=\"text-align: right;\">                        0</td><td style=\"text-align: right;\">               4  </td><td style=\"text-align: right;\">                0</td><td style=\"text-align: right;\">                8</td><td style=\"text-align: right;\">          5.65685</td><td style=\"text-align: right;\">                0.5</td><td style=\"text-align: right;\">                 0</td><td style=\"text-align: right;\">                 1</td><td style=\"text-align: right;\">          0.707107</td><td style=\"text-align: right;\">                  0</td><td style=\"text-align: right;\">                 0</td><td style=\"text-align: right;\">                 0</td><td style=\"text-align: right;\">                 0</td><td style=\"text-align: right;\">                 4  </td><td style=\"text-align: right;\">                  0</td><td style=\"text-align: right;\">                  8</td><td style=\"text-align: right;\">            5.65685</td><td style=\"text-align: right;\">                     0</td><td style=\"text-align: right;\">                    0</td><td style=\"text-align: right;\">                    0</td><td style=\"text-align: right;\">                    0</td><td style=\"text-align: right;\">                   0</td><td style=\"text-align: right;\">                  0</td><td style=\"text-align: right;\">                  0</td><td style=\"text-align: right;\">                  0</td><td style=\"text-align: right;\">               0  </td><td style=\"text-align: right;\">                0</td><td style=\"text-align: right;\">                0</td><td style=\"text-align: right;\">          0      </td><td style=\"text-align: right;\">                        0</td><td style=\"text-align: right;\">                       0</td><td style=\"text-align: right;\">                       0</td><td style=\"text-align: right;\">                       0</td><td style=\"text-align: right;\">    22     </td><td style=\"text-align: right;\">         1</td><td style=\"text-align: right;\">        43</td><td style=\"text-align: right;\">  29.6985 </td><td style=\"text-align: right;\">   115    </td><td style=\"text-align: right;\">        9</td><td style=\"text-align: right;\">      221</td><td style=\"text-align: right;\"> 149.907 </td><td style=\"text-align: right;\">        0.5     </td><td style=\"text-align: right;\">              0</td><td style=\"text-align: right;\">              1</td><td style=\"text-align: right;\">       0.707107</td><td style=\"text-align: right;\">             0</td><td style=\"text-align: right;\">            0</td><td style=\"text-align: right;\">            0</td><td style=\"text-align: right;\">            0</td><td style=\"text-align: right;\">                    0</td><td style=\"text-align: right;\">                   0</td><td style=\"text-align: right;\">                   0</td><td style=\"text-align: right;\">                   0</td><td style=\"text-align: right;\">                 0</td><td style=\"text-align: right;\">                0</td><td style=\"text-align: right;\">                0</td><td style=\"text-align: right;\">                0</td><td style=\"text-align: right;\">                          0</td><td style=\"text-align: right;\">                         0</td><td style=\"text-align: right;\">                         0</td><td style=\"text-align: right;\">                         0</td><td style=\"text-align: right;\">                      27</td><td style=\"text-align: right;\">                      0</td><td style=\"text-align: right;\">                     54</td><td style=\"text-align: right;\">                38.1838</td><td style=\"text-align: right;\">          47     </td><td style=\"text-align: right;\">               0</td><td style=\"text-align: right;\">              94</td><td style=\"text-align: right;\">        66.468  </td><td style=\"text-align: right;\">                  9.5</td><td style=\"text-align: right;\">                   2</td><td style=\"text-align: right;\">                  17</td><td style=\"text-align: right;\">            10.6066 </td><td style=\"text-align: right;\">                       1</td><td style=\"text-align: right;\">                      0</td><td style=\"text-align: right;\">                      2</td><td style=\"text-align: right;\">                1.41421</td><td style=\"text-align: right;\">             9.5   </td><td style=\"text-align: right;\">                 2</td><td style=\"text-align: right;\">                17</td><td style=\"text-align: right;\">          10.6066 </td><td style=\"text-align: right;\">                     0</td><td style=\"text-align: right;\">                    0</td><td style=\"text-align: right;\">                    0</td><td style=\"text-align: right;\">                    0</td><td style=\"text-align: right;\">                         2</td><td style=\"text-align: right;\">                        0</td><td style=\"text-align: right;\">                        4</td><td style=\"text-align: right;\">                  2.82843</td><td style=\"text-align: right;\">                   0</td><td style=\"text-align: right;\">                  0</td><td style=\"text-align: right;\">                  0</td><td style=\"text-align: right;\">                  0</td><td style=\"text-align: right;\">         3       </td><td style=\"text-align: right;\">               0</td><td style=\"text-align: right;\">               6</td><td style=\"text-align: right;\">         4.24264</td><td style=\"text-align: right;\">               68.5  </td><td style=\"text-align: right;\">                  23</td><td style=\"text-align: right;\">                 114</td><td style=\"text-align: right;\">             64.3467</td><td style=\"text-align: right;\">               1</td><td style=\"text-align: right;\">              1</td><td style=\"text-align: right;\">              1</td><td style=\"text-align: right;\">              0</td><td style=\"text-align: right;\">                 97.5</td><td style=\"text-align: right;\">                   127.5</td><td style=\"text-align: right;\">                      2.5479 </td></tr>\n",
       "<tr><td style=\"text-align: right;\">      12  </td><td style=\"text-align: right;\">       12</td><td style=\"text-align: right;\">       12</td><td style=\"text-align: right;\">  0      </td><td style=\"text-align: right;\">         7</td><td style=\"text-align: right;\">        7</td><td style=\"text-align: right;\">        7</td><td style=\"text-align: right;\">  0      </td><td style=\"text-align: right;\">   8      </td><td style=\"text-align: right;\">        8</td><td style=\"text-align: right;\">        8</td><td style=\"text-align: right;\"> 0       </td><td style=\"text-align: right;\">   10     </td><td style=\"text-align: right;\">       10</td><td style=\"text-align: right;\">       10</td><td style=\"text-align: right;\">   0     </td><td style=\"text-align: right;\">    21     </td><td style=\"text-align: right;\">        21</td><td style=\"text-align: right;\">        21</td><td style=\"text-align: right;\">    0     </td><td style=\"text-align: right;\">                  7</td><td style=\"text-align: right;\">                 7</td><td style=\"text-align: right;\">                 7</td><td style=\"text-align: right;\">           0      </td><td style=\"text-align: right;\">            0       </td><td style=\"text-align: right;\">                  0</td><td style=\"text-align: right;\">                  0</td><td style=\"text-align: right;\">            0      </td><td style=\"text-align: right;\">              7     </td><td style=\"text-align: right;\">                  7</td><td style=\"text-align: right;\">                  7</td><td style=\"text-align: right;\">            0      </td><td style=\"text-align: right;\">             0       </td><td style=\"text-align: right;\">                   0</td><td style=\"text-align: right;\">                   0</td><td style=\"text-align: right;\">             0      </td><td style=\"text-align: right;\">                    0  </td><td style=\"text-align: right;\">                     0</td><td style=\"text-align: right;\">                     0</td><td style=\"text-align: right;\">              0       </td><td style=\"text-align: right;\">                    0</td><td style=\"text-align: right;\">                   0</td><td style=\"text-align: right;\">                   0</td><td style=\"text-align: right;\">                   0</td><td style=\"text-align: right;\">                     0</td><td style=\"text-align: right;\">                    0</td><td style=\"text-align: right;\">                    0</td><td style=\"text-align: right;\">                    0</td><td style=\"text-align: right;\">                  0</td><td style=\"text-align: right;\">                 0</td><td style=\"text-align: right;\">                 0</td><td style=\"text-align: right;\">                 0</td><td style=\"text-align: right;\">                         0</td><td style=\"text-align: right;\">                        0</td><td style=\"text-align: right;\">                        0</td><td style=\"text-align: right;\">                        0</td><td style=\"text-align: right;\">               1  </td><td style=\"text-align: right;\">                1</td><td style=\"text-align: right;\">                1</td><td style=\"text-align: right;\">          0      </td><td style=\"text-align: right;\">                1  </td><td style=\"text-align: right;\">                 1</td><td style=\"text-align: right;\">                 1</td><td style=\"text-align: right;\">          0       </td><td style=\"text-align: right;\">                  0</td><td style=\"text-align: right;\">                 0</td><td style=\"text-align: right;\">                 0</td><td style=\"text-align: right;\">                 0</td><td style=\"text-align: right;\">                 1  </td><td style=\"text-align: right;\">                  1</td><td style=\"text-align: right;\">                  1</td><td style=\"text-align: right;\">            0      </td><td style=\"text-align: right;\">                     0</td><td style=\"text-align: right;\">                    0</td><td style=\"text-align: right;\">                    0</td><td style=\"text-align: right;\">                    0</td><td style=\"text-align: right;\">                   0</td><td style=\"text-align: right;\">                  0</td><td style=\"text-align: right;\">                  0</td><td style=\"text-align: right;\">                  0</td><td style=\"text-align: right;\">               1  </td><td style=\"text-align: right;\">                1</td><td style=\"text-align: right;\">                1</td><td style=\"text-align: right;\">          0      </td><td style=\"text-align: right;\">                        0</td><td style=\"text-align: right;\">                       0</td><td style=\"text-align: right;\">                       0</td><td style=\"text-align: right;\">                       0</td><td style=\"text-align: right;\">    15     </td><td style=\"text-align: right;\">        15</td><td style=\"text-align: right;\">        15</td><td style=\"text-align: right;\">   0      </td><td style=\"text-align: right;\">    77    </td><td style=\"text-align: right;\">       77</td><td style=\"text-align: right;\">       77</td><td style=\"text-align: right;\">   0     </td><td style=\"text-align: right;\">        0       </td><td style=\"text-align: right;\">              0</td><td style=\"text-align: right;\">              0</td><td style=\"text-align: right;\">       0       </td><td style=\"text-align: right;\">             0</td><td style=\"text-align: right;\">            0</td><td style=\"text-align: right;\">            0</td><td style=\"text-align: right;\">            0</td><td style=\"text-align: right;\">                    0</td><td style=\"text-align: right;\">                   0</td><td style=\"text-align: right;\">                   0</td><td style=\"text-align: right;\">                   0</td><td style=\"text-align: right;\">                 0</td><td style=\"text-align: right;\">                0</td><td style=\"text-align: right;\">                0</td><td style=\"text-align: right;\">                0</td><td style=\"text-align: right;\">                          0</td><td style=\"text-align: right;\">                         0</td><td style=\"text-align: right;\">                         0</td><td style=\"text-align: right;\">                         0</td><td style=\"text-align: right;\">                      12</td><td style=\"text-align: right;\">                     12</td><td style=\"text-align: right;\">                     12</td><td style=\"text-align: right;\">                 0     </td><td style=\"text-align: right;\">           0     </td><td style=\"text-align: right;\">               0</td><td style=\"text-align: right;\">               0</td><td style=\"text-align: right;\">         0      </td><td style=\"text-align: right;\">                  7  </td><td style=\"text-align: right;\">                   7</td><td style=\"text-align: right;\">                   7</td><td style=\"text-align: right;\">             0      </td><td style=\"text-align: right;\">                       0</td><td style=\"text-align: right;\">                      0</td><td style=\"text-align: right;\">                      0</td><td style=\"text-align: right;\">                0      </td><td style=\"text-align: right;\">             7     </td><td style=\"text-align: right;\">                 7</td><td style=\"text-align: right;\">                 7</td><td style=\"text-align: right;\">           0      </td><td style=\"text-align: right;\">                     0</td><td style=\"text-align: right;\">                    0</td><td style=\"text-align: right;\">                    0</td><td style=\"text-align: right;\">                    0</td><td style=\"text-align: right;\">                         0</td><td style=\"text-align: right;\">                        0</td><td style=\"text-align: right;\">                        0</td><td style=\"text-align: right;\">                  0      </td><td style=\"text-align: right;\">                   3</td><td style=\"text-align: right;\">                  3</td><td style=\"text-align: right;\">                  3</td><td style=\"text-align: right;\">                  0</td><td style=\"text-align: right;\">         4       </td><td style=\"text-align: right;\">               4</td><td style=\"text-align: right;\">               4</td><td style=\"text-align: right;\">         0      </td><td style=\"text-align: right;\">               92    </td><td style=\"text-align: right;\">                  92</td><td style=\"text-align: right;\">                  92</td><td style=\"text-align: right;\">              0     </td><td style=\"text-align: right;\">               1</td><td style=\"text-align: right;\">              1</td><td style=\"text-align: right;\">              1</td><td style=\"text-align: right;\">              0</td><td style=\"text-align: right;\">                  9  </td><td style=\"text-align: right;\">                    97  </td><td style=\"text-align: right;\">                     12.5741 </td></tr>\n",
       "<tr><td style=\"text-align: right;\">      15  </td><td style=\"text-align: right;\">       15</td><td style=\"text-align: right;\">       15</td><td style=\"text-align: right;\">  0      </td><td style=\"text-align: right;\">         3</td><td style=\"text-align: right;\">        3</td><td style=\"text-align: right;\">        3</td><td style=\"text-align: right;\">  0      </td><td style=\"text-align: right;\">   1      </td><td style=\"text-align: right;\">        1</td><td style=\"text-align: right;\">        1</td><td style=\"text-align: right;\"> 0       </td><td style=\"text-align: right;\">   21     </td><td style=\"text-align: right;\">       21</td><td style=\"text-align: right;\">       21</td><td style=\"text-align: right;\">   0     </td><td style=\"text-align: right;\">     3     </td><td style=\"text-align: right;\">         3</td><td style=\"text-align: right;\">         3</td><td style=\"text-align: right;\">    0     </td><td style=\"text-align: right;\">                  3</td><td style=\"text-align: right;\">                 3</td><td style=\"text-align: right;\">                 3</td><td style=\"text-align: right;\">           0      </td><td style=\"text-align: right;\">            0       </td><td style=\"text-align: right;\">                  0</td><td style=\"text-align: right;\">                  0</td><td style=\"text-align: right;\">            0      </td><td style=\"text-align: right;\">              0     </td><td style=\"text-align: right;\">                  0</td><td style=\"text-align: right;\">                  0</td><td style=\"text-align: right;\">            0      </td><td style=\"text-align: right;\">             0       </td><td style=\"text-align: right;\">                   0</td><td style=\"text-align: right;\">                   0</td><td style=\"text-align: right;\">             0      </td><td style=\"text-align: right;\">                    0  </td><td style=\"text-align: right;\">                     0</td><td style=\"text-align: right;\">                     0</td><td style=\"text-align: right;\">              0       </td><td style=\"text-align: right;\">                    0</td><td style=\"text-align: right;\">                   0</td><td style=\"text-align: right;\">                   0</td><td style=\"text-align: right;\">                   0</td><td style=\"text-align: right;\">                     0</td><td style=\"text-align: right;\">                    0</td><td style=\"text-align: right;\">                    0</td><td style=\"text-align: right;\">                    0</td><td style=\"text-align: right;\">                  0</td><td style=\"text-align: right;\">                 0</td><td style=\"text-align: right;\">                 0</td><td style=\"text-align: right;\">                 0</td><td style=\"text-align: right;\">                         0</td><td style=\"text-align: right;\">                        0</td><td style=\"text-align: right;\">                        0</td><td style=\"text-align: right;\">                        0</td><td style=\"text-align: right;\">               0  </td><td style=\"text-align: right;\">                0</td><td style=\"text-align: right;\">                0</td><td style=\"text-align: right;\">          0      </td><td style=\"text-align: right;\">                0  </td><td style=\"text-align: right;\">                 0</td><td style=\"text-align: right;\">                 0</td><td style=\"text-align: right;\">          0       </td><td style=\"text-align: right;\">                  0</td><td style=\"text-align: right;\">                 0</td><td style=\"text-align: right;\">                 0</td><td style=\"text-align: right;\">                 0</td><td style=\"text-align: right;\">                 0  </td><td style=\"text-align: right;\">                  0</td><td style=\"text-align: right;\">                  0</td><td style=\"text-align: right;\">            0      </td><td style=\"text-align: right;\">                     0</td><td style=\"text-align: right;\">                    0</td><td style=\"text-align: right;\">                    0</td><td style=\"text-align: right;\">                    0</td><td style=\"text-align: right;\">                   0</td><td style=\"text-align: right;\">                  0</td><td style=\"text-align: right;\">                  0</td><td style=\"text-align: right;\">                  0</td><td style=\"text-align: right;\">               0  </td><td style=\"text-align: right;\">                0</td><td style=\"text-align: right;\">                0</td><td style=\"text-align: right;\">          0      </td><td style=\"text-align: right;\">                        0</td><td style=\"text-align: right;\">                       0</td><td style=\"text-align: right;\">                       0</td><td style=\"text-align: right;\">                       0</td><td style=\"text-align: right;\">    64     </td><td style=\"text-align: right;\">        64</td><td style=\"text-align: right;\">        64</td><td style=\"text-align: right;\">   0      </td><td style=\"text-align: right;\">   100    </td><td style=\"text-align: right;\">      100</td><td style=\"text-align: right;\">      100</td><td style=\"text-align: right;\">   0     </td><td style=\"text-align: right;\">        0       </td><td style=\"text-align: right;\">              0</td><td style=\"text-align: right;\">              0</td><td style=\"text-align: right;\">       0       </td><td style=\"text-align: right;\">             0</td><td style=\"text-align: right;\">            0</td><td style=\"text-align: right;\">            0</td><td style=\"text-align: right;\">            0</td><td style=\"text-align: right;\">                    0</td><td style=\"text-align: right;\">                   0</td><td style=\"text-align: right;\">                   0</td><td style=\"text-align: right;\">                   0</td><td style=\"text-align: right;\">                 0</td><td style=\"text-align: right;\">                0</td><td style=\"text-align: right;\">                0</td><td style=\"text-align: right;\">                0</td><td style=\"text-align: right;\">                          0</td><td style=\"text-align: right;\">                         0</td><td style=\"text-align: right;\">                         0</td><td style=\"text-align: right;\">                         0</td><td style=\"text-align: right;\">                      99</td><td style=\"text-align: right;\">                     99</td><td style=\"text-align: right;\">                     99</td><td style=\"text-align: right;\">                 0     </td><td style=\"text-align: right;\">           0     </td><td style=\"text-align: right;\">               0</td><td style=\"text-align: right;\">               0</td><td style=\"text-align: right;\">         0      </td><td style=\"text-align: right;\">                  7  </td><td style=\"text-align: right;\">                   7</td><td style=\"text-align: right;\">                   7</td><td style=\"text-align: right;\">             0      </td><td style=\"text-align: right;\">                       4</td><td style=\"text-align: right;\">                      4</td><td style=\"text-align: right;\">                      4</td><td style=\"text-align: right;\">                0      </td><td style=\"text-align: right;\">             7     </td><td style=\"text-align: right;\">                 7</td><td style=\"text-align: right;\">                 7</td><td style=\"text-align: right;\">           0      </td><td style=\"text-align: right;\">                     0</td><td style=\"text-align: right;\">                    0</td><td style=\"text-align: right;\">                    0</td><td style=\"text-align: right;\">                    0</td><td style=\"text-align: right;\">                         0</td><td style=\"text-align: right;\">                        0</td><td style=\"text-align: right;\">                        0</td><td style=\"text-align: right;\">                  0      </td><td style=\"text-align: right;\">                   0</td><td style=\"text-align: right;\">                  0</td><td style=\"text-align: right;\">                  0</td><td style=\"text-align: right;\">                  0</td><td style=\"text-align: right;\">         2       </td><td style=\"text-align: right;\">               2</td><td style=\"text-align: right;\">               2</td><td style=\"text-align: right;\">         0      </td><td style=\"text-align: right;\">               51    </td><td style=\"text-align: right;\">                  51</td><td style=\"text-align: right;\">                  51</td><td style=\"text-align: right;\">              0     </td><td style=\"text-align: right;\">               0</td><td style=\"text-align: right;\">              0</td><td style=\"text-align: right;\">              0</td><td style=\"text-align: right;\">              0</td><td style=\"text-align: right;\">                 11  </td><td style=\"text-align: right;\">                   104  </td><td style=\"text-align: right;\">                      4.78661</td></tr>\n",
       "</tbody>\n",
       "</table>"
      ]
     },
     "metadata": {},
     "output_type": "display_data"
    },
    {
     "data": {
      "text/plain": []
     },
     "execution_count": 40,
     "metadata": {},
     "output_type": "execute_result"
    }
   ],
   "source": [
    "train"
   ]
  },
  {
   "cell_type": "code",
   "execution_count": 41,
   "metadata": {},
   "outputs": [
    {
     "data": {
      "text/plain": [
       "{'whiskers': [<matplotlib.lines.Line2D at 0x209c577b400>,\n",
       "  <matplotlib.lines.Line2D at 0x209c577b748>],\n",
       " 'caps': [<matplotlib.lines.Line2D at 0x209c577bac8>,\n",
       "  <matplotlib.lines.Line2D at 0x209c577be48>],\n",
       " 'boxes': [<matplotlib.lines.Line2D at 0x209c577b2b0>],\n",
       " 'medians': [<matplotlib.lines.Line2D at 0x209c5781208>],\n",
       " 'fliers': [<matplotlib.lines.Line2D at 0x209c5781588>],\n",
       " 'means': []}"
      ]
     },
     "execution_count": 41,
     "metadata": {},
     "output_type": "execute_result"
    },
    {
     "data": {
      "image/png": "[encoded data removed]",
      "text/plain": [
       "<Figure size 432x288 with 1 Axes>"
      ]
     },
     "metadata": {
      "needs_background": "light"
     },
     "output_type": "display_data"
    }
   ],
   "source": [
    "pd_train = train.as_data_frame()\n",
    "plt.boxplot(pd_train['refactoring_perc_time_taken'])"
   ]
  },
  {
   "cell_type": "code",
   "execution_count": 42,
   "metadata": {},
   "outputs": [
    {
     "data": {
      "text/plain": [
       "10.193548387096774"
      ]
     },
     "execution_count": 42,
     "metadata": {},
     "output_type": "execute_result"
    }
   ],
   "source": [
    "main_df['actual_num_of_classes_touched_max'].mean()"
   ]
  },
  {
   "cell_type": "code",
   "execution_count": 43,
   "metadata": {},
   "outputs": [
    {
     "data": {
      "text/plain": [
       "62"
      ]
     },
     "execution_count": 43,
     "metadata": {},
     "output_type": "execute_result"
    }
   ],
   "source": [
    "len(main_df['actual_num_of_classes_touched_max'])"
   ]
  },
  {
   "cell_type": "code",
   "execution_count": 44,
   "metadata": {},
   "outputs": [
    {
     "data": {
      "text/plain": [
       "62"
      ]
     },
     "execution_count": 44,
     "metadata": {},
     "output_type": "execute_result"
    }
   ],
   "source": [
    "len(main_df[main_df['actual_num_of_classes_touched_max'] < 1000])"
   ]
  },
  {
   "cell_type": "code",
   "execution_count": 45,
   "metadata": {},
   "outputs": [
    {
     "data": {
      "text/plain": [
       "62"
      ]
     },
     "execution_count": 45,
     "metadata": {},
     "output_type": "execute_result"
    }
   ],
   "source": [
    "len(main_df[main_df['actual_num_of_classes_touched_max'] < 100])"
   ]
  },
  {
   "cell_type": "code",
   "execution_count": 46,
   "metadata": {},
   "outputs": [
    {
     "data": {
      "text/plain": [
       "60"
      ]
     },
     "execution_count": 46,
     "metadata": {},
     "output_type": "execute_result"
    }
   ],
   "source": [
    "len(main_df[main_df['actual_num_of_classes_touched_max'] < 50])"
   ]
  },
  {
   "cell_type": "code",
   "execution_count": 47,
   "metadata": {},
   "outputs": [
    {
     "data": {
      "text/plain": [
       "54"
      ]
     },
     "execution_count": 47,
     "metadata": {},
     "output_type": "execute_result"
    }
   ],
   "source": [
    "len(main_df[main_df['actual_num_of_classes_touched_max'] < 20])"
   ]
  },
  {
   "cell_type": "code",
   "execution_count": 48,
   "metadata": {},
   "outputs": [
    {
     "data": {
      "text/plain": [
       "43"
      ]
     },
     "execution_count": 48,
     "metadata": {},
     "output_type": "execute_result"
    }
   ],
   "source": [
    "len(main_df[main_df['actual_num_of_classes_touched_max'] < 10])"
   ]
  },
  {
   "cell_type": "code",
   "execution_count": 49,
   "metadata": {},
   "outputs": [
    {
     "data": {
      "text/plain": [
       "{'whiskers': [<matplotlib.lines.Line2D at 0x209c57d8e80>,\n",
       "  <matplotlib.lines.Line2D at 0x209c57e2208>],\n",
       " 'caps': [<matplotlib.lines.Line2D at 0x209c57e2588>,\n",
       "  <matplotlib.lines.Line2D at 0x209c57e2908>],\n",
       " 'boxes': [<matplotlib.lines.Line2D at 0x209c57d8d30>],\n",
       " 'medians': [<matplotlib.lines.Line2D at 0x209c57e2c88>],\n",
       " 'fliers': [<matplotlib.lines.Line2D at 0x209c57e9048>],\n",
       " 'means': []}"
      ]
     },
     "execution_count": 49,
     "metadata": {},
     "output_type": "execute_result"
    },
    {
     "data": {
      "image/png": "[encoded data removed]",
      "text/plain": [
       "<Figure size 432x288 with 1 Axes>"
      ]
     },
     "metadata": {
      "needs_background": "light"
     },
     "output_type": "display_data"
    }
   ],
   "source": [
    "plt.boxplot(main_df['actual_num_of_classes_touched_max'])"
   ]
  },
  {
   "cell_type": "code",
   "execution_count": 50,
   "metadata": {},
   "outputs": [],
   "source": [
    "main_df_num_of_classes_without_outliers = main_df[main_df['actual_num_of_classes_touched_max'] < 1000]"
   ]
  },
  {
   "cell_type": "code",
   "execution_count": 51,
   "metadata": {},
   "outputs": [
    {
     "data": {
      "text/plain": [
       "{'whiskers': [<matplotlib.lines.Line2D at 0x209c583d748>,\n",
       "  <matplotlib.lines.Line2D at 0x209c583da90>],\n",
       " 'caps': [<matplotlib.lines.Line2D at 0x209c583de10>,\n",
       "  <matplotlib.lines.Line2D at 0x209c5848160>],\n",
       " 'boxes': [<matplotlib.lines.Line2D at 0x209c583d5f8>],\n",
       " 'medians': [<matplotlib.lines.Line2D at 0x209c58484e0>],\n",
       " 'fliers': [<matplotlib.lines.Line2D at 0x209c5848860>],\n",
       " 'means': []}"
      ]
     },
     "execution_count": 51,
     "metadata": {},
     "output_type": "execute_result"
    },
    {
     "data": {
      "image/png": "[encoded data removed]",
      "text/plain": [
       "<Figure size 432x288 with 1 Axes>"
      ]
     },
     "metadata": {
      "needs_background": "light"
     },
     "output_type": "display_data"
    }
   ],
   "source": [
    "plt.boxplot(main_df_num_of_classes_without_outliers['actual_num_of_classes_touched_max'])"
   ]
  },
  {
   "cell_type": "code",
   "execution_count": 52,
   "metadata": {},
   "outputs": [
    {
     "data": {
      "text/plain": [
       "{'whiskers': [<matplotlib.lines.Line2D at 0x209c58a6908>,\n",
       "  <matplotlib.lines.Line2D at 0x209c58a6be0>],\n",
       " 'caps': [<matplotlib.lines.Line2D at 0x209c58a6f60>,\n",
       "  <matplotlib.lines.Line2D at 0x209c58b3320>],\n",
       " 'boxes': [<matplotlib.lines.Line2D at 0x209c58a67b8>],\n",
       " 'medians': [<matplotlib.lines.Line2D at 0x209c58b36a0>],\n",
       " 'fliers': [<matplotlib.lines.Line2D at 0x209c58b3a20>],\n",
       " 'means': []}"
      ]
     },
     "execution_count": 52,
     "metadata": {},
     "output_type": "execute_result"
    },
    {
     "data": {
      "image/png": "[encoded data removed]",
      "text/plain": [
       "<Figure size 432x288 with 1 Axes>"
      ]
     },
     "metadata": {
      "needs_background": "light"
     },
     "output_type": "display_data"
    }
   ],
   "source": [
    "main_df_num_of_classes_without_outliers = main_df[main_df['actual_num_of_classes_touched_max'] < 100]\n",
    "plt.boxplot(main_df_num_of_classes_without_outliers['actual_num_of_classes_touched_max'])"
   ]
  },
  {
   "cell_type": "code",
   "execution_count": 53,
   "metadata": {},
   "outputs": [],
   "source": [
    "pd_test = test.as_data_frame()\n",
    "pd_preds['actual_time_taken'] = pd_test['refactoring_perc_time_taken']"
   ]
  },
  {
   "cell_type": "code",
   "execution_count": 54,
   "metadata": {
    "scrolled": true
   },
   "outputs": [
    {
     "data": {
      "text/html": [
       "<div>\n",
       "<style scoped>\n",
       "    .dataframe tbody tr th:only-of-type {\n",
       "        vertical-align: middle;\n",
       "    }\n",
       "\n",
       "    .dataframe tbody tr th {\n",
       "        vertical-align: top;\n",
       "    }\n",
       "\n",
       "    .dataframe thead th {\n",
       "        text-align: right;\n",
       "    }\n",
       "</style>\n",
       "<table border=\"1\" class=\"dataframe\">\n",
       "  <thead>\n",
       "    <tr style=\"text-align: right;\">\n",
       "      <th></th>\n",
       "      <th>predict</th>\n",
       "      <th>actual_time_taken</th>\n",
       "    </tr>\n",
       "  </thead>\n",
       "  <tbody>\n",
       "    <tr>\n",
       "      <th>0</th>\n",
       "      <td>14.707675</td>\n",
       "      <td>10.000000</td>\n",
       "    </tr>\n",
       "    <tr>\n",
       "      <th>1</th>\n",
       "      <td>7.788570</td>\n",
       "      <td>5.478927</td>\n",
       "    </tr>\n",
       "    <tr>\n",
       "      <th>2</th>\n",
       "      <td>16.580681</td>\n",
       "      <td>20.938326</td>\n",
       "    </tr>\n",
       "    <tr>\n",
       "      <th>3</th>\n",
       "      <td>19.316874</td>\n",
       "      <td>4.280046</td>\n",
       "    </tr>\n",
       "    <tr>\n",
       "      <th>4</th>\n",
       "      <td>10.824983</td>\n",
       "      <td>6.045198</td>\n",
       "    </tr>\n",
       "    <tr>\n",
       "      <th>5</th>\n",
       "      <td>10.358073</td>\n",
       "      <td>7.411236</td>\n",
       "    </tr>\n",
       "    <tr>\n",
       "      <th>6</th>\n",
       "      <td>17.443868</td>\n",
       "      <td>2.884615</td>\n",
       "    </tr>\n",
       "    <tr>\n",
       "      <th>7</th>\n",
       "      <td>19.029928</td>\n",
       "      <td>11.273423</td>\n",
       "    </tr>\n",
       "    <tr>\n",
       "      <th>8</th>\n",
       "      <td>7.123340</td>\n",
       "      <td>3.880597</td>\n",
       "    </tr>\n",
       "    <tr>\n",
       "      <th>9</th>\n",
       "      <td>8.273472</td>\n",
       "      <td>12.173913</td>\n",
       "    </tr>\n",
       "    <tr>\n",
       "      <th>10</th>\n",
       "      <td>14.198867</td>\n",
       "      <td>15.519865</td>\n",
       "    </tr>\n",
       "    <tr>\n",
       "      <th>11</th>\n",
       "      <td>7.410286</td>\n",
       "      <td>5.151862</td>\n",
       "    </tr>\n",
       "    <tr>\n",
       "      <th>12</th>\n",
       "      <td>8.273472</td>\n",
       "      <td>32.716578</td>\n",
       "    </tr>\n",
       "    <tr>\n",
       "      <th>13</th>\n",
       "      <td>5.537280</td>\n",
       "      <td>14.557292</td>\n",
       "    </tr>\n",
       "    <tr>\n",
       "      <th>14</th>\n",
       "      <td>8.616269</td>\n",
       "      <td>11.963636</td>\n",
       "    </tr>\n",
       "    <tr>\n",
       "      <th>15</th>\n",
       "      <td>9.494887</td>\n",
       "      <td>8.863636</td>\n",
       "    </tr>\n",
       "    <tr>\n",
       "      <th>16</th>\n",
       "      <td>16.293735</td>\n",
       "      <td>20.464844</td>\n",
       "    </tr>\n",
       "    <tr>\n",
       "      <th>17</th>\n",
       "      <td>12.241347</td>\n",
       "      <td>17.000000</td>\n",
       "    </tr>\n",
       "  </tbody>\n",
       "</table>\n",
       "</div>"
      ],
      "text/plain": [
       "      predict  actual_time_taken\n",
       "0   14.707675          10.000000\n",
       "1    7.788570           5.478927\n",
       "2   16.580681          20.938326\n",
       "3   19.316874           4.280046\n",
       "4   10.824983           6.045198\n",
       "5   10.358073           7.411236\n",
       "6   17.443868           2.884615\n",
       "7   19.029928          11.273423\n",
       "8    7.123340           3.880597\n",
       "9    8.273472          12.173913\n",
       "10  14.198867          15.519865\n",
       "11   7.410286           5.151862\n",
       "12   8.273472          32.716578\n",
       "13   5.537280          14.557292\n",
       "14   8.616269          11.963636\n",
       "15   9.494887           8.863636\n",
       "16  16.293735          20.464844\n",
       "17  12.241347          17.000000"
      ]
     },
     "execution_count": 54,
     "metadata": {},
     "output_type": "execute_result"
    }
   ],
   "source": [
    "pd_preds"
   ]
  },
  {
   "cell_type": "code",
   "execution_count": 55,
   "metadata": {},
   "outputs": [
    {
     "data": {
      "text/plain": [
       "{'whiskers': [<matplotlib.lines.Line2D at 0x209c5911e48>,\n",
       "  <matplotlib.lines.Line2D at 0x209c59201d0>],\n",
       " 'caps': [<matplotlib.lines.Line2D at 0x209c5920550>,\n",
       "  <matplotlib.lines.Line2D at 0x209c59208d0>],\n",
       " 'boxes': [<matplotlib.lines.Line2D at 0x209c5911cf8>],\n",
       " 'medians': [<matplotlib.lines.Line2D at 0x209c5920c50>],\n",
       " 'fliers': [<matplotlib.lines.Line2D at 0x209c5920fd0>],\n",
       " 'means': []}"
      ]
     },
     "execution_count": 55,
     "metadata": {},
     "output_type": "execute_result"
    },
    {
     "data": {
      "image/png": "[encoded data removed]",
      "text/plain": [
       "<Figure size 432x288 with 1 Axes>"
      ]
     },
     "metadata": {
      "needs_background": "light"
     },
     "output_type": "display_data"
    }
   ],
   "source": [
    "plt.boxplot(pd_preds['predict'])"
   ]
  },
  {
   "cell_type": "code",
   "execution_count": 56,
   "metadata": {},
   "outputs": [
    {
     "data": {
      "text/plain": [
       "{'whiskers': [<matplotlib.lines.Line2D at 0x209c57618d0>,\n",
       "  <matplotlib.lines.Line2D at 0x209c2452940>],\n",
       " 'caps': [<matplotlib.lines.Line2D at 0x209c57bf240>,\n",
       "  <matplotlib.lines.Line2D at 0x209c57d8128>],\n",
       " 'boxes': [<matplotlib.lines.Line2D at 0x209c5761668>],\n",
       " 'medians': [<matplotlib.lines.Line2D at 0x209c57af048>],\n",
       " 'fliers': [<matplotlib.lines.Line2D at 0x209c57af400>],\n",
       " 'means': []}"
      ]
     },
     "execution_count": 56,
     "metadata": {},
     "output_type": "execute_result"
    },
    {
     "data": {
      "image/png": "[encoded data removed]",
      "text/plain": [
       "<Figure size 432x288 with 1 Axes>"
      ]
     },
     "metadata": {
      "needs_background": "light"
     },
     "output_type": "display_data"
    }
   ],
   "source": [
    "plt.boxplot(pd_preds['actual_time_taken'])"
   ]
  },
  {
   "cell_type": "code",
   "execution_count": 57,
   "metadata": {},
   "outputs": [
    {
     "data": {
      "image/png": "[encoded data removed]",
      "text/plain": [
       "<Figure size 432x288 with 1 Axes>"
      ]
     },
     "metadata": {
      "needs_background": "light"
     },
     "output_type": "display_data"
    }
   ],
   "source": [
    "plotGraph(pd_preds['predict'], pd_preds['actual_time_taken'],' test')"
   ]
  },
  {
   "cell_type": "code",
   "execution_count": 58,
   "metadata": {
    "scrolled": false
   },
   "outputs": [
    {
     "data": {
      "text/html": [
       "<h1>Variable Importance</h1>"
      ],
      "text/markdown": [
       "\n",
       "\n",
       "# Variable Importance"
      ],
      "text/plain": [
       "\n",
       "\n",
       "# Variable Importance"
      ]
     },
     "metadata": {},
     "output_type": "display_data"
    },
    {
     "data": {
      "text/html": [
       "<blockquote>The variable importance plot shows the relative importance of the most important variables in the model.</blockquote>"
      ],
      "text/markdown": [
       "\n",
       "> The variable importance plot shows the relative importance of the most important variables in the model."
      ],
      "text/plain": [
       "\n",
       "> The variable importance plot shows the relative importance of the most important variables in the model."
      ]
     },
     "metadata": {},
     "output_type": "display_data"
    },
    {
     "data": {
      "image/png": "[encoded data removed]",
      "text/plain": [
       "<Figure size 1152x648 with 1 Axes>"
      ]
     },
     "metadata": {
      "needs_background": "light"
     },
     "output_type": "display_data"
    },
    {
     "name": "stdout",
     "output_type": "stream",
     "text": [
      "\n",
      "\n"
     ]
    },
    {
     "data": {
      "text/html": [
       "<h1>SHAP Summary</h1>"
      ],
      "text/markdown": [
       "\n",
       "\n",
       "# SHAP Summary"
      ],
      "text/plain": [
       "\n",
       "\n",
       "# SHAP Summary"
      ]
     },
     "metadata": {},
     "output_type": "display_data"
    },
    {
     "data": {
      "text/html": [
       "<blockquote>SHAP summary plot shows the contribution of the features for each instance (row of data). The sum of the feature contributions and the bias term is equal to the raw prediction of the model, i.e., prediction before applying inverse link function.</blockquote>"
      ],
      "text/markdown": [
       "\n",
       "> SHAP summary plot shows the contribution of the features for each instance (row of data). The sum of the feature contributions and the bias term is equal to the raw prediction of the model, i.e., prediction before applying inverse link function."
      ],
      "text/plain": [
       "\n",
       "> SHAP summary plot shows the contribution of the features for each instance (row of data). The sum of the feature contributions and the bias term is equal to the raw prediction of the model, i.e., prediction before applying inverse link function."
      ]
     },
     "metadata": {},
     "output_type": "display_data"
    },
    {
     "data": {
      "image/png": "[encoded data removed]",
      "text/plain": [
       "<Figure size 1152x648 with 2 Axes>"
      ]
     },
     "metadata": {
      "needs_background": "light"
     },
     "output_type": "display_data"
    },
    {
     "name": "stdout",
     "output_type": "stream",
     "text": [
      "\n",
      "\n"
     ]
    },
    {
     "data": {
      "text/html": [
       "<h1>Variable Importance</h1>"
      ],
      "text/markdown": [
       "\n",
       "\n",
       "# Variable Importance"
      ],
      "text/plain": [
       "\n",
       "\n",
       "# Variable Importance"
      ]
     },
     "metadata": {},
     "output_type": "display_data"
    },
    {
     "data": {
      "text/html": [
       "<blockquote>The variable importance plot shows the relative importance of the most important variables in the model.</blockquote>"
      ],
      "text/markdown": [
       "\n",
       "> The variable importance plot shows the relative importance of the most important variables in the model."
      ],
      "text/plain": [
       "\n",
       "> The variable importance plot shows the relative importance of the most important variables in the model."
      ]
     },
     "metadata": {},
     "output_type": "display_data"
    },
    {
     "data": {
      "image/png": "[encoded data removed]",
      "text/plain": [
       "<Figure size 1152x648 with 1 Axes>"
      ]
     },
     "metadata": {},
     "output_type": "display_data"
    },
    {
     "data": {
      "text/html": [
       "<h1>SHAP Summary</h1>"
      ],
      "text/markdown": [
       "\n",
       "\n",
       "# SHAP Summary"
      ],
      "text/plain": [
       "\n",
       "\n",
       "# SHAP Summary"
      ]
     },
     "metadata": {},
     "output_type": "display_data"
    },
    {
     "data": {
      "text/html": [
       "<blockquote>SHAP summary plot shows the contribution of the features for each instance (row of data). The sum of the feature contributions and the bias term is equal to the raw prediction of the model, i.e., prediction before applying inverse link function.</blockquote>"
      ],
      "text/markdown": [
       "\n",
       "> SHAP summary plot shows the contribution of the features for each instance (row of data). The sum of the feature contributions and the bias term is equal to the raw prediction of the model, i.e., prediction before applying inverse link function."
      ],
      "text/plain": [
       "\n",
       "> SHAP summary plot shows the contribution of the features for each instance (row of data). The sum of the feature contributions and the bias term is equal to the raw prediction of the model, i.e., prediction before applying inverse link function."
      ]
     },
     "metadata": {},
     "output_type": "display_data"
    },
    {
     "data": {
      "image/png": "[encoded data removed]",
      "text/plain": [
       "<Figure size 1152x648 with 2 Axes>"
      ]
     },
     "metadata": {},
     "output_type": "display_data"
    }
   ],
   "source": [
    "aml.explain(test, include_explanations=[\"varimp\",'shap_summary'])"
   ]
  },
  {
   "cell_type": "code",
   "execution_count": 497,
   "metadata": {},
   "outputs": [],
   "source": [
    "# save the model\n",
    "model_path = h2o.save_model(model=model, path=\"models/EffortEstimationModelv2\", force=True)"
   ]
  },
  {
   "cell_type": "markdown",
   "metadata": {},
   "source": [
    "Documentation at the following\n",
    "\n",
    "https://docs.h2o.ai/h2o/latest-stable/h2o-py/docs/_modules/h2o/explanation/_explain.html"
   ]
  },
  {
   "cell_type": "code",
   "execution_count": 65,
   "metadata": {
    "scrolled": false
   },
   "outputs": [],
   "source": [
    "#aml.explain_row(test, row_index=0)"
   ]
  },
  {
   "cell_type": "code",
   "execution_count": 66,
   "metadata": {},
   "outputs": [],
   "source": [
    "#h2o.shutdown()"
   ]
  },
  {
   "cell_type": "code",
   "execution_count": null,
   "metadata": {},
   "outputs": [],
   "source": []
  },
  {
   "cell_type": "code",
   "execution_count": null,
   "metadata": {},
   "outputs": [],
   "source": []
  }
 ],
 "metadata": {
  "kernelspec": {
   "display_name": "Python 3",
   "language": "python",
   "name": "python3"
  },
  "language_info": {
   "codemirror_mode": {
    "name": "ipython",
    "version": 3
   },
   "file_extension": ".py",
   "mimetype": "text/x-python",
   "name": "python",
   "nbconvert_exporter": "python",
   "pygments_lexer": "ipython3",
   "version": "3.7.3"
  }
 },
 "nbformat": 4,
 "nbformat_minor": 2
}
