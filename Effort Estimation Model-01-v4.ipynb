{
 "cells": [
  {
   "cell_type": "code",
   "execution_count": 1,
   "metadata": {},
   "outputs": [],
   "source": [
    "import json\n",
    "import pandas as pd\n",
    "import numpy as np\n",
    "import networkx as nx\n",
    "import jellyfish\n",
    "import os\n",
    "import shutil\n",
    "import subprocess\n",
    "import requests\n",
    "from github import Github\n",
    "from git import Repo\n",
    "from scipy.cluster.hierarchy import dendrogram, linkage\n",
    "from matplotlib import pyplot as plt\n",
    "from sklearn.feature_extraction.text import TfidfVectorizer\n",
    "from sklearn.cluster import KMeans\n",
    "from sklearn.metrics import adjusted_rand_score\n",
    "from sklearn import preprocessing\n",
    "from sklearn.cluster import AgglomerativeClustering\n",
    "from zipfile import ZipFile\n",
    "from filecmp import dircmp\n",
    "import configparser\n",
    "import h2o"
   ]
  },
  {
   "cell_type": "markdown",
   "metadata": {},
   "source": [
    "## Result Gathering"
   ]
  },
  {
   "cell_type": "code",
   "execution_count": 94,
   "metadata": {},
   "outputs": [
    {
     "name": "stdout",
     "output_type": "stream",
     "text": [
      "Alluxio.csv\n",
      "Assertj-core.csv\n",
      "Atmosphere.csv\n",
      "AxonFramework.csv\n",
      "Beam.csv\n",
      "Byte-buddy.csv\n",
      "Camel.csv\n",
      "Cas.csv\n",
      "Cassandra.csv\n",
      "Cxf.csv\n",
      "Dbeaver.csv\n",
      "Eclim.csv\n",
      "Guacamole-client.csv\n",
      "Hadoop.csv\n",
      "Hawtio.csv\n",
      "karaf.csv\n",
      "Okhttp.csv\n",
      "Openapi-generator.csv\n",
      "Orientdb.csv\n",
      "Redisson.csv\n",
      "Rest-assured.csv\n",
      "Spring-framework.csv\n",
      "Spring-security.csv\n",
      "Storm.csv\n",
      "Tika.csv\n",
      "Traccar.csv\n"
     ]
    }
   ],
   "source": [
    "main_df = None\n",
    "directory = \"Effort_Estimation_Results_3E/\"\n",
    "for filename in os.listdir(directory):\n",
    "    print(filename)\n",
    "    if main_df is None:\n",
    "        main_df = pd.read_csv(os.path.join(directory, filename))\n",
    "        main_df['project_name'] = filename.replace('.csv', '')\n",
    "    else:\n",
    "        temp_df = pd.read_csv(os.path.join(directory, filename))\n",
    "        temp_df['project_name'] = filename.replace('.csv', '')\n",
    "        frames = [main_df, temp_df]\n",
    "        main_df = pd.concat(frames)"
   ]
  },
  {
   "cell_type": "code",
   "execution_count": 95,
   "metadata": {},
   "outputs": [
    {
     "data": {
      "text/html": [
       "<div>\n",
       "<style scoped>\n",
       "    .dataframe tbody tr th:only-of-type {\n",
       "        vertical-align: middle;\n",
       "    }\n",
       "\n",
       "    .dataframe tbody tr th {\n",
       "        vertical-align: top;\n",
       "    }\n",
       "\n",
       "    .dataframe thead th {\n",
       "        text-align: right;\n",
       "    }\n",
       "</style>\n",
       "<table border=\"1\" class=\"dataframe\">\n",
       "  <thead>\n",
       "    <tr style=\"text-align: right;\">\n",
       "      <th></th>\n",
       "      <th>kmean_label</th>\n",
       "      <th>time_taken_mean</th>\n",
       "      <th>time_taken_min</th>\n",
       "      <th>time_taken_max</th>\n",
       "      <th>time_taken_q10</th>\n",
       "      <th>time_taken_q20</th>\n",
       "      <th>time_taken_q25</th>\n",
       "      <th>time_taken_q30</th>\n",
       "      <th>time_taken_q40</th>\n",
       "      <th>time_taken_q50</th>\n",
       "      <th>...</th>\n",
       "      <th>num_line_affected_min</th>\n",
       "      <th>num_line_affected_max</th>\n",
       "      <th>num_line_affected_std</th>\n",
       "      <th>actual_num_of_classes_touched_mean</th>\n",
       "      <th>actual_num_of_classes_touched_min</th>\n",
       "      <th>actual_num_of_classes_touched_max</th>\n",
       "      <th>actual_num_of_classes_touched_std</th>\n",
       "      <th>commit_line_changed</th>\n",
       "      <th>refactoring_perc</th>\n",
       "      <th>refactoring_perc_time_taken</th>\n",
       "    </tr>\n",
       "  </thead>\n",
       "  <tbody>\n",
       "    <tr>\n",
       "      <th>0</th>\n",
       "      <td>5</td>\n",
       "      <td>12.712987</td>\n",
       "      <td>1.0</td>\n",
       "      <td>166.0</td>\n",
       "      <td>1.0</td>\n",
       "      <td>1.0</td>\n",
       "      <td>2.0</td>\n",
       "      <td>2.0</td>\n",
       "      <td>3.0</td>\n",
       "      <td>5.0</td>\n",
       "      <td>...</td>\n",
       "      <td>61</td>\n",
       "      <td>61</td>\n",
       "      <td>NaN</td>\n",
       "      <td>2.000000</td>\n",
       "      <td>2</td>\n",
       "      <td>2</td>\n",
       "      <td>NaN</td>\n",
       "      <td>8</td>\n",
       "      <td>1.000000</td>\n",
       "      <td>15.00000</td>\n",
       "    </tr>\n",
       "    <tr>\n",
       "      <th>1</th>\n",
       "      <td>5</td>\n",
       "      <td>12.712987</td>\n",
       "      <td>1.0</td>\n",
       "      <td>166.0</td>\n",
       "      <td>1.0</td>\n",
       "      <td>1.0</td>\n",
       "      <td>2.0</td>\n",
       "      <td>2.0</td>\n",
       "      <td>3.0</td>\n",
       "      <td>5.0</td>\n",
       "      <td>...</td>\n",
       "      <td>78</td>\n",
       "      <td>78</td>\n",
       "      <td>NaN</td>\n",
       "      <td>1.000000</td>\n",
       "      <td>1</td>\n",
       "      <td>1</td>\n",
       "      <td>NaN</td>\n",
       "      <td>346</td>\n",
       "      <td>0.225434</td>\n",
       "      <td>1.00000</td>\n",
       "    </tr>\n",
       "    <tr>\n",
       "      <th>2</th>\n",
       "      <td>5</td>\n",
       "      <td>12.712987</td>\n",
       "      <td>1.0</td>\n",
       "      <td>166.0</td>\n",
       "      <td>1.0</td>\n",
       "      <td>1.0</td>\n",
       "      <td>2.0</td>\n",
       "      <td>2.0</td>\n",
       "      <td>3.0</td>\n",
       "      <td>5.0</td>\n",
       "      <td>...</td>\n",
       "      <td>322</td>\n",
       "      <td>322</td>\n",
       "      <td>0.000000</td>\n",
       "      <td>1.500000</td>\n",
       "      <td>1</td>\n",
       "      <td>2</td>\n",
       "      <td>0.707107</td>\n",
       "      <td>35</td>\n",
       "      <td>1.000000</td>\n",
       "      <td>1.00000</td>\n",
       "    </tr>\n",
       "    <tr>\n",
       "      <th>3</th>\n",
       "      <td>5</td>\n",
       "      <td>12.712987</td>\n",
       "      <td>1.0</td>\n",
       "      <td>166.0</td>\n",
       "      <td>1.0</td>\n",
       "      <td>1.0</td>\n",
       "      <td>2.0</td>\n",
       "      <td>2.0</td>\n",
       "      <td>3.0</td>\n",
       "      <td>5.0</td>\n",
       "      <td>...</td>\n",
       "      <td>36</td>\n",
       "      <td>661</td>\n",
       "      <td>228.672586</td>\n",
       "      <td>7.833333</td>\n",
       "      <td>1</td>\n",
       "      <td>13</td>\n",
       "      <td>4.018895</td>\n",
       "      <td>194</td>\n",
       "      <td>0.185567</td>\n",
       "      <td>3.71134</td>\n",
       "    </tr>\n",
       "    <tr>\n",
       "      <th>4</th>\n",
       "      <td>5</td>\n",
       "      <td>12.712987</td>\n",
       "      <td>1.0</td>\n",
       "      <td>166.0</td>\n",
       "      <td>1.0</td>\n",
       "      <td>1.0</td>\n",
       "      <td>2.0</td>\n",
       "      <td>2.0</td>\n",
       "      <td>3.0</td>\n",
       "      <td>5.0</td>\n",
       "      <td>...</td>\n",
       "      <td>8</td>\n",
       "      <td>203</td>\n",
       "      <td>63.592452</td>\n",
       "      <td>37.000000</td>\n",
       "      <td>1</td>\n",
       "      <td>136</td>\n",
       "      <td>50.585661</td>\n",
       "      <td>1938</td>\n",
       "      <td>0.004128</td>\n",
       "      <td>1.00000</td>\n",
       "    </tr>\n",
       "  </tbody>\n",
       "</table>\n",
       "<p>5 rows × 202 columns</p>\n",
       "</div>"
      ],
      "text/plain": [
       "   kmean_label  time_taken_mean  time_taken_min  time_taken_max  \\\n",
       "0            5        12.712987             1.0           166.0   \n",
       "1            5        12.712987             1.0           166.0   \n",
       "2            5        12.712987             1.0           166.0   \n",
       "3            5        12.712987             1.0           166.0   \n",
       "4            5        12.712987             1.0           166.0   \n",
       "\n",
       "   time_taken_q10  time_taken_q20  time_taken_q25  time_taken_q30  \\\n",
       "0             1.0             1.0             2.0             2.0   \n",
       "1             1.0             1.0             2.0             2.0   \n",
       "2             1.0             1.0             2.0             2.0   \n",
       "3             1.0             1.0             2.0             2.0   \n",
       "4             1.0             1.0             2.0             2.0   \n",
       "\n",
       "   time_taken_q40  time_taken_q50  ...  num_line_affected_min  \\\n",
       "0             3.0             5.0  ...                     61   \n",
       "1             3.0             5.0  ...                     78   \n",
       "2             3.0             5.0  ...                    322   \n",
       "3             3.0             5.0  ...                     36   \n",
       "4             3.0             5.0  ...                      8   \n",
       "\n",
       "   num_line_affected_max  num_line_affected_std  \\\n",
       "0                     61                    NaN   \n",
       "1                     78                    NaN   \n",
       "2                    322               0.000000   \n",
       "3                    661             228.672586   \n",
       "4                    203              63.592452   \n",
       "\n",
       "   actual_num_of_classes_touched_mean  actual_num_of_classes_touched_min  \\\n",
       "0                            2.000000                                  2   \n",
       "1                            1.000000                                  1   \n",
       "2                            1.500000                                  1   \n",
       "3                            7.833333                                  1   \n",
       "4                           37.000000                                  1   \n",
       "\n",
       "  actual_num_of_classes_touched_max actual_num_of_classes_touched_std  \\\n",
       "0                                 2                               NaN   \n",
       "1                                 1                               NaN   \n",
       "2                                 2                          0.707107   \n",
       "3                                13                          4.018895   \n",
       "4                               136                         50.585661   \n",
       "\n",
       "  commit_line_changed refactoring_perc refactoring_perc_time_taken  \n",
       "0                   8         1.000000                    15.00000  \n",
       "1                 346         0.225434                     1.00000  \n",
       "2                  35         1.000000                     1.00000  \n",
       "3                 194         0.185567                     3.71134  \n",
       "4                1938         0.004128                     1.00000  \n",
       "\n",
       "[5 rows x 202 columns]"
      ]
     },
     "execution_count": 95,
     "metadata": {},
     "output_type": "execute_result"
    }
   ],
   "source": [
    "main_df.head()"
   ]
  },
  {
   "cell_type": "code",
   "execution_count": 96,
   "metadata": {},
   "outputs": [
    {
     "name": "stdout",
     "output_type": "stream",
     "text": [
      "kmean_label\n",
      "time_taken_mean\n",
      "time_taken_min\n",
      "time_taken_max\n",
      "time_taken_q10\n",
      "time_taken_q20\n",
      "time_taken_q25\n",
      "time_taken_q30\n",
      "time_taken_q40\n",
      "time_taken_q50\n",
      "time_taken_q60\n",
      "time_taken_q70\n",
      "time_taken_q75\n",
      "time_taken_q80\n",
      "time_taken_q90\n",
      "sha\n",
      "name\n",
      "email\n",
      "date\n",
      "login\n",
      "message\n",
      "parent_sha\n",
      "parent_date\n",
      "time_taken\n",
      "contains_refactoring\n",
      "project_name\n",
      "commit_compared_with\n",
      "cbo_mean\n",
      "cbo_min\n",
      "cbo_max\n",
      "cbo_std\n",
      "wmc_mean\n",
      "wmc_min\n",
      "wmc_max\n",
      "wmc_std\n",
      "dit_mean\n",
      "dit_min\n",
      "dit_max\n",
      "dit_std\n",
      "rfc_mean\n",
      "rfc_min\n",
      "rfc_max\n",
      "rfc_std\n",
      "lcom_mean\n",
      "lcom_min\n",
      "lcom_max\n",
      "lcom_std\n",
      "totalMethods_mean\n",
      "totalMethods_min\n",
      "totalMethods_max\n",
      "totalMethods_std\n",
      "staticMethods_mean\n",
      "staticMethods_min\n",
      "staticMethods_max\n",
      "staticMethods_std\n",
      "publicMethods_mean\n",
      "publicMethods_min\n",
      "publicMethods_max\n",
      "publicMethods_std\n",
      "privateMethods_mean\n",
      "privateMethods_min\n",
      "privateMethods_max\n",
      "privateMethods_std\n",
      "protectedMethods_mean\n",
      "protectedMethods_min\n",
      "protectedMethods_max\n",
      "protectedMethods_std\n",
      "defaultMethods_mean\n",
      "defaultMethods_min\n",
      "defaultMethods_max\n",
      "defaultMethods_std\n",
      "abstractMethods_mean\n",
      "abstractMethods_min\n",
      "abstractMethods_max\n",
      "abstractMethods_std\n",
      "finalMethods_mean\n",
      "finalMethods_min\n",
      "finalMethods_max\n",
      "finalMethods_std\n",
      "synchronizedMethods_mean\n",
      "synchronizedMethods_min\n",
      "synchronizedMethods_max\n",
      "synchronizedMethods_std\n",
      "totalFields_mean\n",
      "totalFields_min\n",
      "totalFields_max\n",
      "totalFields_std\n",
      "staticFields_mean\n",
      "staticFields_min\n",
      "staticFields_max\n",
      "staticFields_std\n",
      "publicFields_mean\n",
      "publicFields_min\n",
      "publicFields_max\n",
      "publicFields_std\n",
      "privateFields_mean\n",
      "privateFields_min\n",
      "privateFields_max\n",
      "privateFields_std\n",
      "protectedFields_mean\n",
      "protectedFields_min\n",
      "protectedFields_max\n",
      "protectedFields_std\n",
      "defaultFields_mean\n",
      "defaultFields_min\n",
      "defaultFields_max\n",
      "defaultFields_std\n",
      "finalFields_mean\n",
      "finalFields_min\n",
      "finalFields_max\n",
      "finalFields_std\n",
      "synchronizedFields_mean\n",
      "synchronizedFields_min\n",
      "synchronizedFields_max\n",
      "synchronizedFields_std\n",
      "nosi_mean\n",
      "nosi_min\n",
      "nosi_max\n",
      "nosi_std\n",
      "loc_mean\n",
      "loc_min\n",
      "loc_max\n",
      "loc_std\n",
      "returnQty_mean\n",
      "returnQty_min\n",
      "returnQty_max\n",
      "returnQty_std\n",
      "loopQty_mean\n",
      "loopQty_min\n",
      "loopQty_max\n",
      "loopQty_std\n",
      "comparisonsQty_mean\n",
      "comparisonsQty_min\n",
      "comparisonsQty_max\n",
      "comparisonsQty_std\n",
      "tryCatchQty_mean\n",
      "tryCatchQty_min\n",
      "tryCatchQty_max\n",
      "tryCatchQty_std\n",
      "parenthesizedExpsQty_mean\n",
      "parenthesizedExpsQty_min\n",
      "parenthesizedExpsQty_max\n",
      "parenthesizedExpsQty_std\n",
      "stringLiteralsQty_mean\n",
      "stringLiteralsQty_min\n",
      "stringLiteralsQty_max\n",
      "stringLiteralsQty_std\n",
      "numbersQty_mean\n",
      "numbersQty_min\n",
      "numbersQty_max\n",
      "numbersQty_std\n",
      "assignmentsQty_mean\n",
      "assignmentsQty_min\n",
      "assignmentsQty_max\n",
      "assignmentsQty_std\n",
      "mathOperationsQty_mean\n",
      "mathOperationsQty_min\n",
      "mathOperationsQty_max\n",
      "mathOperationsQty_std\n",
      "variablesQty_mean\n",
      "variablesQty_min\n",
      "variablesQty_max\n",
      "variablesQty_std\n",
      "maxNestedBlocks_mean\n",
      "maxNestedBlocks_min\n",
      "maxNestedBlocks_max\n",
      "maxNestedBlocks_std\n",
      "anonymousClassesQty_mean\n",
      "anonymousClassesQty_min\n",
      "anonymousClassesQty_max\n",
      "anonymousClassesQty_std\n",
      "subClassesQty_mean\n",
      "subClassesQty_min\n",
      "subClassesQty_max\n",
      "subClassesQty_std\n",
      "lambdasQty_mean\n",
      "lambdasQty_min\n",
      "lambdasQty_max\n",
      "lambdasQty_std\n",
      "uniqueWordsQty_mean\n",
      "uniqueWordsQty_min\n",
      "uniqueWordsQty_max\n",
      "uniqueWordsQty_std\n",
      "modifiers_mean\n",
      "modifiers_min\n",
      "modifiers_max\n",
      "modifiers_std\n",
      "num_dependency_mean\n",
      "num_dependency_min\n",
      "num_dependency_max\n",
      "num_dependency_std\n",
      "num_line_affected_mean\n",
      "num_line_affected_min\n",
      "num_line_affected_max\n",
      "num_line_affected_std\n",
      "actual_num_of_classes_touched_mean\n",
      "actual_num_of_classes_touched_min\n",
      "actual_num_of_classes_touched_max\n",
      "actual_num_of_classes_touched_std\n",
      "commit_line_changed\n",
      "refactoring_perc\n",
      "refactoring_perc_time_taken\n"
     ]
    }
   ],
   "source": [
    "for column in main_df:\n",
    "    print(column)"
   ]
  },
  {
   "cell_type": "code",
   "execution_count": 97,
   "metadata": {},
   "outputs": [
    {
     "data": {
      "text/plain": [
       "775"
      ]
     },
     "execution_count": 97,
     "metadata": {},
     "output_type": "execute_result"
    }
   ],
   "source": [
    "len(main_df)"
   ]
  },
  {
   "cell_type": "code",
   "execution_count": 98,
   "metadata": {},
   "outputs": [],
   "source": [
    "def plotGraph(y_test,y_pred,regressorName):\n",
    "    if max(y_test) >= max(y_pred):\n",
    "        my_range = int(max(y_test))\n",
    "    else:\n",
    "        my_range = int(max(y_pred))\n",
    "    plt.scatter(range(len(y_test)), y_test, color='blue', label='y_test')\n",
    "    plt.scatter(range(len(y_pred)), y_pred, color='red', label='y_pred')\n",
    "    plt.title(regressorName)\n",
    "    plt.legend(loc=\"upper left\")\n",
    "    plt.show()\n",
    "    return"
   ]
  },
  {
   "cell_type": "code",
   "execution_count": 99,
   "metadata": {},
   "outputs": [
    {
     "data": {
      "image/png": "[encoded data removed]",
      "text/plain": [
       "<Figure size 432x288 with 1 Axes>"
      ]
     },
     "metadata": {
      "needs_background": "light"
     },
     "output_type": "display_data"
    }
   ],
   "source": [
    "plotGraph(main_df['time_taken'], main_df['refactoring_perc_time_taken'],' test')"
   ]
  },
  {
   "cell_type": "code",
   "execution_count": 100,
   "metadata": {},
   "outputs": [],
   "source": [
    "def get_final_time_taken(row):\n",
    "    if row['time_taken'] > row['time_taken_q90']:\n",
    "        return row['time_taken'] - row['time_taken_q90']\n",
    "    elif row['time_taken'] > row['time_taken_q80']:\n",
    "        return row['time_taken'] - row['time_taken_q80']\n",
    "    elif row['time_taken'] > row['time_taken_q60']:\n",
    "        return row['time_taken'] - row['time_taken_q60']\n",
    "    elif row['time_taken'] > row['time_taken_q40']:\n",
    "        return row['time_taken'] - row['time_taken_q40']\n",
    "    elif row['time_taken'] > row['time_taken_q20']:\n",
    "        return row['time_taken'] - row['time_taken_q20']"
   ]
  },
  {
   "cell_type": "code",
   "execution_count": 101,
   "metadata": {},
   "outputs": [],
   "source": [
    "main_df['time_taken_final'] = main_df.apply(lambda row: get_final_time_taken(row), axis=1)\n",
    "\n"
   ]
  },
  {
   "cell_type": "code",
   "execution_count": 102,
   "metadata": {},
   "outputs": [
    {
     "data": {
      "image/png": "[encoded data removed]",
      "text/plain": [
       "<Figure size 432x288 with 1 Axes>"
      ]
     },
     "metadata": {
      "needs_background": "light"
     },
     "output_type": "display_data"
    }
   ],
   "source": [
    "plotGraph(main_df['time_taken_final'], main_df['time_taken_mean'],' test')"
   ]
  },
  {
   "cell_type": "code",
   "execution_count": 103,
   "metadata": {},
   "outputs": [
    {
     "data": {
      "text/plain": [
       "{'whiskers': [<matplotlib.lines.Line2D at 0x21e16c48d30>,\n",
       "  <matplotlib.lines.Line2D at 0x21e16c54080>],\n",
       " 'caps': [<matplotlib.lines.Line2D at 0x21e16c54400>,\n",
       "  <matplotlib.lines.Line2D at 0x21e16c54780>],\n",
       " 'boxes': [<matplotlib.lines.Line2D at 0x21e16c48be0>],\n",
       " 'medians': [<matplotlib.lines.Line2D at 0x21e16c54b00>],\n",
       " 'fliers': [<matplotlib.lines.Line2D at 0x21e16c54e80>],\n",
       " 'means': []}"
      ]
     },
     "execution_count": 103,
     "metadata": {},
     "output_type": "execute_result"
    },
    {
     "data": {
      "image/png": "[encoded data removed]",
      "text/plain": [
       "<Figure size 432x288 with 1 Axes>"
      ]
     },
     "metadata": {
      "needs_background": "light"
     },
     "output_type": "display_data"
    }
   ],
   "source": [
    "plt.boxplot(main_df['refactoring_perc_time_taken'])"
   ]
  },
  {
   "cell_type": "code",
   "execution_count": 104,
   "metadata": {},
   "outputs": [],
   "source": [
    "main_df = main_df[main_df['refactoring_perc_time_taken'] >= 2]\n",
    "main_df = main_df[main_df['refactoring_perc_time_taken'] <= 40]\n",
    "\n",
    "#main_df = main_df[main_df['time_taken_final'] <= 60]\n",
    "#main_df = main_df[main_df['time_taken_final'] > 2]"
   ]
  },
  {
   "cell_type": "code",
   "execution_count": 105,
   "metadata": {},
   "outputs": [
    {
     "data": {
      "text/plain": [
       "{'whiskers': [<matplotlib.lines.Line2D at 0x21e16cb1e10>,\n",
       "  <matplotlib.lines.Line2D at 0x21e16cc0160>],\n",
       " 'caps': [<matplotlib.lines.Line2D at 0x21e16cc04e0>,\n",
       "  <matplotlib.lines.Line2D at 0x21e16cc0860>],\n",
       " 'boxes': [<matplotlib.lines.Line2D at 0x21e16cb1cc0>],\n",
       " 'medians': [<matplotlib.lines.Line2D at 0x21e16cc0b38>],\n",
       " 'fliers': [<matplotlib.lines.Line2D at 0x21e16cc0eb8>],\n",
       " 'means': []}"
      ]
     },
     "execution_count": 105,
     "metadata": {},
     "output_type": "execute_result"
    },
    {
     "data": {
      "image/png": "[encoded data removed]",
      "text/plain": [
       "<Figure size 432x288 with 1 Axes>"
      ]
     },
     "metadata": {
      "needs_background": "light"
     },
     "output_type": "display_data"
    }
   ],
   "source": [
    "plt.boxplot(main_df['refactoring_perc_time_taken'])"
   ]
  },
  {
   "cell_type": "code",
   "execution_count": 106,
   "metadata": {},
   "outputs": [
    {
     "data": {
      "text/plain": [
       "1.0     43\n",
       "2.0     26\n",
       "6.0     17\n",
       "4.0     17\n",
       "7.0     15\n",
       "        ..\n",
       "50.6     1\n",
       "21.4     1\n",
       "43.4     1\n",
       "8.4      1\n",
       "19.0     1\n",
       "Name: time_taken_final, Length: 70, dtype: int64"
      ]
     },
     "execution_count": 106,
     "metadata": {},
     "output_type": "execute_result"
    }
   ],
   "source": [
    "main_df['time_taken_final'].value_counts()"
   ]
  },
  {
   "cell_type": "code",
   "execution_count": 107,
   "metadata": {},
   "outputs": [
    {
     "data": {
      "text/plain": [
       "{'whiskers': [<matplotlib.lines.Line2D at 0x21e187437f0>,\n",
       "  <matplotlib.lines.Line2D at 0x21e18743b00>],\n",
       " 'caps': [<matplotlib.lines.Line2D at 0x21e18743e80>,\n",
       "  <matplotlib.lines.Line2D at 0x21e1874d240>],\n",
       " 'boxes': [<matplotlib.lines.Line2D at 0x21e187436a0>],\n",
       " 'medians': [<matplotlib.lines.Line2D at 0x21e1874d5c0>],\n",
       " 'fliers': [<matplotlib.lines.Line2D at 0x21e1874d940>],\n",
       " 'means': []}"
      ]
     },
     "execution_count": 107,
     "metadata": {},
     "output_type": "execute_result"
    },
    {
     "data": {
      "image/png": "[encoded data removed]",
      "text/plain": [
       "<Figure size 432x288 with 1 Axes>"
      ]
     },
     "metadata": {
      "needs_background": "light"
     },
     "output_type": "display_data"
    }
   ],
   "source": [
    "plt.boxplot(main_df['time_taken_final'])"
   ]
  },
  {
   "cell_type": "code",
   "execution_count": 108,
   "metadata": {},
   "outputs": [],
   "source": [
    "main_df = main_df.fillna(0)"
   ]
  },
  {
   "cell_type": "code",
   "execution_count": 109,
   "metadata": {},
   "outputs": [
    {
     "data": {
      "text/html": [
       "<div>\n",
       "<style scoped>\n",
       "    .dataframe tbody tr th:only-of-type {\n",
       "        vertical-align: middle;\n",
       "    }\n",
       "\n",
       "    .dataframe tbody tr th {\n",
       "        vertical-align: top;\n",
       "    }\n",
       "\n",
       "    .dataframe thead th {\n",
       "        text-align: right;\n",
       "    }\n",
       "</style>\n",
       "<table border=\"1\" class=\"dataframe\">\n",
       "  <thead>\n",
       "    <tr style=\"text-align: right;\">\n",
       "      <th></th>\n",
       "      <th>kmean_label</th>\n",
       "      <th>time_taken_mean</th>\n",
       "      <th>time_taken_min</th>\n",
       "      <th>time_taken_max</th>\n",
       "      <th>time_taken_q10</th>\n",
       "      <th>time_taken_q20</th>\n",
       "      <th>time_taken_q25</th>\n",
       "      <th>time_taken_q30</th>\n",
       "      <th>time_taken_q40</th>\n",
       "      <th>time_taken_q50</th>\n",
       "      <th>...</th>\n",
       "      <th>num_line_affected_max</th>\n",
       "      <th>num_line_affected_std</th>\n",
       "      <th>actual_num_of_classes_touched_mean</th>\n",
       "      <th>actual_num_of_classes_touched_min</th>\n",
       "      <th>actual_num_of_classes_touched_max</th>\n",
       "      <th>actual_num_of_classes_touched_std</th>\n",
       "      <th>commit_line_changed</th>\n",
       "      <th>refactoring_perc</th>\n",
       "      <th>refactoring_perc_time_taken</th>\n",
       "      <th>time_taken_final</th>\n",
       "    </tr>\n",
       "  </thead>\n",
       "  <tbody>\n",
       "    <tr>\n",
       "      <th>0</th>\n",
       "      <td>5</td>\n",
       "      <td>12.712987</td>\n",
       "      <td>1.0</td>\n",
       "      <td>166.0</td>\n",
       "      <td>1.0</td>\n",
       "      <td>1.0</td>\n",
       "      <td>2.0</td>\n",
       "      <td>2.0</td>\n",
       "      <td>3.0</td>\n",
       "      <td>5.0</td>\n",
       "      <td>...</td>\n",
       "      <td>61</td>\n",
       "      <td>0.000000</td>\n",
       "      <td>2.000000</td>\n",
       "      <td>2</td>\n",
       "      <td>2</td>\n",
       "      <td>0.000000</td>\n",
       "      <td>8</td>\n",
       "      <td>1.000000</td>\n",
       "      <td>15.000000</td>\n",
       "      <td>7.0</td>\n",
       "    </tr>\n",
       "    <tr>\n",
       "      <th>3</th>\n",
       "      <td>5</td>\n",
       "      <td>12.712987</td>\n",
       "      <td>1.0</td>\n",
       "      <td>166.0</td>\n",
       "      <td>1.0</td>\n",
       "      <td>1.0</td>\n",
       "      <td>2.0</td>\n",
       "      <td>2.0</td>\n",
       "      <td>3.0</td>\n",
       "      <td>5.0</td>\n",
       "      <td>...</td>\n",
       "      <td>661</td>\n",
       "      <td>228.672586</td>\n",
       "      <td>7.833333</td>\n",
       "      <td>1</td>\n",
       "      <td>13</td>\n",
       "      <td>4.018895</td>\n",
       "      <td>194</td>\n",
       "      <td>0.185567</td>\n",
       "      <td>3.711340</td>\n",
       "      <td>1.0</td>\n",
       "    </tr>\n",
       "    <tr>\n",
       "      <th>9</th>\n",
       "      <td>10</td>\n",
       "      <td>14.676329</td>\n",
       "      <td>1.0</td>\n",
       "      <td>166.0</td>\n",
       "      <td>1.0</td>\n",
       "      <td>2.0</td>\n",
       "      <td>2.0</td>\n",
       "      <td>2.0</td>\n",
       "      <td>4.0</td>\n",
       "      <td>7.0</td>\n",
       "      <td>...</td>\n",
       "      <td>764</td>\n",
       "      <td>0.000000</td>\n",
       "      <td>9.000000</td>\n",
       "      <td>9</td>\n",
       "      <td>9</td>\n",
       "      <td>0.000000</td>\n",
       "      <td>202</td>\n",
       "      <td>1.000000</td>\n",
       "      <td>10.000000</td>\n",
       "      <td>6.0</td>\n",
       "    </tr>\n",
       "    <tr>\n",
       "      <th>11</th>\n",
       "      <td>10</td>\n",
       "      <td>14.676329</td>\n",
       "      <td>1.0</td>\n",
       "      <td>166.0</td>\n",
       "      <td>1.0</td>\n",
       "      <td>2.0</td>\n",
       "      <td>2.0</td>\n",
       "      <td>2.0</td>\n",
       "      <td>4.0</td>\n",
       "      <td>7.0</td>\n",
       "      <td>...</td>\n",
       "      <td>115</td>\n",
       "      <td>0.000000</td>\n",
       "      <td>4.500000</td>\n",
       "      <td>3</td>\n",
       "      <td>6</td>\n",
       "      <td>2.121320</td>\n",
       "      <td>400</td>\n",
       "      <td>0.287500</td>\n",
       "      <td>9.487500</td>\n",
       "      <td>12.0</td>\n",
       "    </tr>\n",
       "    <tr>\n",
       "      <th>12</th>\n",
       "      <td>10</td>\n",
       "      <td>14.676329</td>\n",
       "      <td>1.0</td>\n",
       "      <td>166.0</td>\n",
       "      <td>1.0</td>\n",
       "      <td>2.0</td>\n",
       "      <td>2.0</td>\n",
       "      <td>2.0</td>\n",
       "      <td>4.0</td>\n",
       "      <td>7.0</td>\n",
       "      <td>...</td>\n",
       "      <td>320</td>\n",
       "      <td>100.862943</td>\n",
       "      <td>4.000000</td>\n",
       "      <td>1</td>\n",
       "      <td>7</td>\n",
       "      <td>2.160247</td>\n",
       "      <td>14</td>\n",
       "      <td>1.000000</td>\n",
       "      <td>2.000000</td>\n",
       "      <td>0.0</td>\n",
       "    </tr>\n",
       "    <tr>\n",
       "      <th>...</th>\n",
       "      <td>...</td>\n",
       "      <td>...</td>\n",
       "      <td>...</td>\n",
       "      <td>...</td>\n",
       "      <td>...</td>\n",
       "      <td>...</td>\n",
       "      <td>...</td>\n",
       "      <td>...</td>\n",
       "      <td>...</td>\n",
       "      <td>...</td>\n",
       "      <td>...</td>\n",
       "      <td>...</td>\n",
       "      <td>...</td>\n",
       "      <td>...</td>\n",
       "      <td>...</td>\n",
       "      <td>...</td>\n",
       "      <td>...</td>\n",
       "      <td>...</td>\n",
       "      <td>...</td>\n",
       "      <td>...</td>\n",
       "      <td>...</td>\n",
       "    </tr>\n",
       "    <tr>\n",
       "      <th>40</th>\n",
       "      <td>12</td>\n",
       "      <td>27.087805</td>\n",
       "      <td>1.0</td>\n",
       "      <td>165.0</td>\n",
       "      <td>1.0</td>\n",
       "      <td>2.0</td>\n",
       "      <td>2.0</td>\n",
       "      <td>3.0</td>\n",
       "      <td>5.6</td>\n",
       "      <td>15.0</td>\n",
       "      <td>...</td>\n",
       "      <td>206</td>\n",
       "      <td>0.000000</td>\n",
       "      <td>17.000000</td>\n",
       "      <td>17</td>\n",
       "      <td>17</td>\n",
       "      <td>0.000000</td>\n",
       "      <td>714</td>\n",
       "      <td>0.288515</td>\n",
       "      <td>6.347339</td>\n",
       "      <td>1.0</td>\n",
       "    </tr>\n",
       "    <tr>\n",
       "      <th>42</th>\n",
       "      <td>12</td>\n",
       "      <td>27.087805</td>\n",
       "      <td>1.0</td>\n",
       "      <td>165.0</td>\n",
       "      <td>1.0</td>\n",
       "      <td>2.0</td>\n",
       "      <td>2.0</td>\n",
       "      <td>3.0</td>\n",
       "      <td>5.6</td>\n",
       "      <td>15.0</td>\n",
       "      <td>...</td>\n",
       "      <td>411</td>\n",
       "      <td>132.213212</td>\n",
       "      <td>17.500000</td>\n",
       "      <td>3</td>\n",
       "      <td>32</td>\n",
       "      <td>16.743158</td>\n",
       "      <td>635</td>\n",
       "      <td>0.286614</td>\n",
       "      <td>7.738583</td>\n",
       "      <td>6.0</td>\n",
       "    </tr>\n",
       "    <tr>\n",
       "      <th>1</th>\n",
       "      <td>6</td>\n",
       "      <td>24.474860</td>\n",
       "      <td>1.0</td>\n",
       "      <td>167.0</td>\n",
       "      <td>1.0</td>\n",
       "      <td>2.0</td>\n",
       "      <td>4.0</td>\n",
       "      <td>5.0</td>\n",
       "      <td>10.0</td>\n",
       "      <td>16.0</td>\n",
       "      <td>...</td>\n",
       "      <td>119</td>\n",
       "      <td>52.064863</td>\n",
       "      <td>2.000000</td>\n",
       "      <td>1</td>\n",
       "      <td>3</td>\n",
       "      <td>0.866025</td>\n",
       "      <td>16</td>\n",
       "      <td>0.750000</td>\n",
       "      <td>18.750000</td>\n",
       "      <td>5.0</td>\n",
       "    </tr>\n",
       "    <tr>\n",
       "      <th>3</th>\n",
       "      <td>6</td>\n",
       "      <td>24.474860</td>\n",
       "      <td>1.0</td>\n",
       "      <td>167.0</td>\n",
       "      <td>1.0</td>\n",
       "      <td>2.0</td>\n",
       "      <td>4.0</td>\n",
       "      <td>5.0</td>\n",
       "      <td>10.0</td>\n",
       "      <td>16.0</td>\n",
       "      <td>...</td>\n",
       "      <td>388</td>\n",
       "      <td>0.000000</td>\n",
       "      <td>1.000000</td>\n",
       "      <td>1</td>\n",
       "      <td>1</td>\n",
       "      <td>0.000000</td>\n",
       "      <td>535</td>\n",
       "      <td>0.725234</td>\n",
       "      <td>17.405607</td>\n",
       "      <td>4.0</td>\n",
       "    </tr>\n",
       "    <tr>\n",
       "      <th>5</th>\n",
       "      <td>14</td>\n",
       "      <td>22.417476</td>\n",
       "      <td>1.0</td>\n",
       "      <td>144.0</td>\n",
       "      <td>1.0</td>\n",
       "      <td>4.0</td>\n",
       "      <td>6.0</td>\n",
       "      <td>8.0</td>\n",
       "      <td>12.0</td>\n",
       "      <td>16.0</td>\n",
       "      <td>...</td>\n",
       "      <td>71</td>\n",
       "      <td>0.000000</td>\n",
       "      <td>3.000000</td>\n",
       "      <td>3</td>\n",
       "      <td>3</td>\n",
       "      <td>0.000000</td>\n",
       "      <td>63</td>\n",
       "      <td>1.000000</td>\n",
       "      <td>22.000000</td>\n",
       "      <td>2.0</td>\n",
       "    </tr>\n",
       "  </tbody>\n",
       "</table>\n",
       "<p>263 rows × 203 columns</p>\n",
       "</div>"
      ],
      "text/plain": [
       "    kmean_label  time_taken_mean  time_taken_min  time_taken_max  \\\n",
       "0             5        12.712987             1.0           166.0   \n",
       "3             5        12.712987             1.0           166.0   \n",
       "9            10        14.676329             1.0           166.0   \n",
       "11           10        14.676329             1.0           166.0   \n",
       "12           10        14.676329             1.0           166.0   \n",
       "..          ...              ...             ...             ...   \n",
       "40           12        27.087805             1.0           165.0   \n",
       "42           12        27.087805             1.0           165.0   \n",
       "1             6        24.474860             1.0           167.0   \n",
       "3             6        24.474860             1.0           167.0   \n",
       "5            14        22.417476             1.0           144.0   \n",
       "\n",
       "    time_taken_q10  time_taken_q20  time_taken_q25  time_taken_q30  \\\n",
       "0              1.0             1.0             2.0             2.0   \n",
       "3              1.0             1.0             2.0             2.0   \n",
       "9              1.0             2.0             2.0             2.0   \n",
       "11             1.0             2.0             2.0             2.0   \n",
       "12             1.0             2.0             2.0             2.0   \n",
       "..             ...             ...             ...             ...   \n",
       "40             1.0             2.0             2.0             3.0   \n",
       "42             1.0             2.0             2.0             3.0   \n",
       "1              1.0             2.0             4.0             5.0   \n",
       "3              1.0             2.0             4.0             5.0   \n",
       "5              1.0             4.0             6.0             8.0   \n",
       "\n",
       "    time_taken_q40  time_taken_q50  ...  num_line_affected_max  \\\n",
       "0              3.0             5.0  ...                     61   \n",
       "3              3.0             5.0  ...                    661   \n",
       "9              4.0             7.0  ...                    764   \n",
       "11             4.0             7.0  ...                    115   \n",
       "12             4.0             7.0  ...                    320   \n",
       "..             ...             ...  ...                    ...   \n",
       "40             5.6            15.0  ...                    206   \n",
       "42             5.6            15.0  ...                    411   \n",
       "1             10.0            16.0  ...                    119   \n",
       "3             10.0            16.0  ...                    388   \n",
       "5             12.0            16.0  ...                     71   \n",
       "\n",
       "    num_line_affected_std  actual_num_of_classes_touched_mean  \\\n",
       "0                0.000000                            2.000000   \n",
       "3              228.672586                            7.833333   \n",
       "9                0.000000                            9.000000   \n",
       "11               0.000000                            4.500000   \n",
       "12             100.862943                            4.000000   \n",
       "..                    ...                                 ...   \n",
       "40               0.000000                           17.000000   \n",
       "42             132.213212                           17.500000   \n",
       "1               52.064863                            2.000000   \n",
       "3                0.000000                            1.000000   \n",
       "5                0.000000                            3.000000   \n",
       "\n",
       "    actual_num_of_classes_touched_min  actual_num_of_classes_touched_max  \\\n",
       "0                                   2                                  2   \n",
       "3                                   1                                 13   \n",
       "9                                   9                                  9   \n",
       "11                                  3                                  6   \n",
       "12                                  1                                  7   \n",
       "..                                ...                                ...   \n",
       "40                                 17                                 17   \n",
       "42                                  3                                 32   \n",
       "1                                   1                                  3   \n",
       "3                                   1                                  1   \n",
       "5                                   3                                  3   \n",
       "\n",
       "   actual_num_of_classes_touched_std commit_line_changed refactoring_perc  \\\n",
       "0                           0.000000                   8         1.000000   \n",
       "3                           4.018895                 194         0.185567   \n",
       "9                           0.000000                 202         1.000000   \n",
       "11                          2.121320                 400         0.287500   \n",
       "12                          2.160247                  14         1.000000   \n",
       "..                               ...                 ...              ...   \n",
       "40                          0.000000                 714         0.288515   \n",
       "42                         16.743158                 635         0.286614   \n",
       "1                           0.866025                  16         0.750000   \n",
       "3                           0.000000                 535         0.725234   \n",
       "5                           0.000000                  63         1.000000   \n",
       "\n",
       "   refactoring_perc_time_taken time_taken_final  \n",
       "0                    15.000000              7.0  \n",
       "3                     3.711340              1.0  \n",
       "9                    10.000000              6.0  \n",
       "11                    9.487500             12.0  \n",
       "12                    2.000000              0.0  \n",
       "..                         ...              ...  \n",
       "40                    6.347339              1.0  \n",
       "42                    7.738583              6.0  \n",
       "1                    18.750000              5.0  \n",
       "3                    17.405607              4.0  \n",
       "5                    22.000000              2.0  \n",
       "\n",
       "[263 rows x 203 columns]"
      ]
     },
     "execution_count": 109,
     "metadata": {},
     "output_type": "execute_result"
    }
   ],
   "source": [
    "main_df"
   ]
  },
  {
   "cell_type": "code",
   "execution_count": 110,
   "metadata": {},
   "outputs": [],
   "source": [
    "main_df.to_csv('test_effort_model.csv', index=False)"
   ]
  },
  {
   "cell_type": "markdown",
   "metadata": {},
   "source": [
    "## EDA (Run only if absolutely necessary on minimum features)"
   ]
  },
  {
   "cell_type": "code",
   "execution_count": 111,
   "metadata": {
    "scrolled": false
   },
   "outputs": [],
   "source": [
    "#from pandas_profiling import ProfileReport\n",
    "\n",
    "#profile = ProfileReport(main_df, title=\"Pandas Profiling Report\",explorative=True)\n",
    "#profile"
   ]
  },
  {
   "cell_type": "code",
   "execution_count": 112,
   "metadata": {},
   "outputs": [
    {
     "name": "stdout",
     "output_type": "stream",
     "text": [
      "kmean_label\n",
      "time_taken_mean\n",
      "time_taken_min\n",
      "time_taken_max\n",
      "time_taken_q10\n",
      "time_taken_q20\n",
      "time_taken_q25\n",
      "time_taken_q30\n",
      "time_taken_q40\n",
      "time_taken_q50\n",
      "time_taken_q60\n",
      "time_taken_q70\n",
      "time_taken_q75\n",
      "time_taken_q80\n",
      "time_taken_q90\n",
      "sha\n",
      "name\n",
      "email\n",
      "date\n",
      "login\n",
      "message\n",
      "parent_sha\n",
      "parent_date\n",
      "time_taken\n",
      "contains_refactoring\n",
      "project_name\n",
      "commit_compared_with\n",
      "cbo_mean\n",
      "cbo_min\n",
      "cbo_max\n",
      "cbo_std\n",
      "wmc_mean\n",
      "wmc_min\n",
      "wmc_max\n",
      "wmc_std\n",
      "dit_mean\n",
      "dit_min\n",
      "dit_max\n",
      "dit_std\n",
      "rfc_mean\n",
      "rfc_min\n",
      "rfc_max\n",
      "rfc_std\n",
      "lcom_mean\n",
      "lcom_min\n",
      "lcom_max\n",
      "lcom_std\n",
      "totalMethods_mean\n",
      "totalMethods_min\n",
      "totalMethods_max\n",
      "totalMethods_std\n",
      "staticMethods_mean\n",
      "staticMethods_min\n",
      "staticMethods_max\n",
      "staticMethods_std\n",
      "publicMethods_mean\n",
      "publicMethods_min\n",
      "publicMethods_max\n",
      "publicMethods_std\n",
      "privateMethods_mean\n",
      "privateMethods_min\n",
      "privateMethods_max\n",
      "privateMethods_std\n",
      "protectedMethods_mean\n",
      "protectedMethods_min\n",
      "protectedMethods_max\n",
      "protectedMethods_std\n",
      "defaultMethods_mean\n",
      "defaultMethods_min\n",
      "defaultMethods_max\n",
      "defaultMethods_std\n",
      "abstractMethods_mean\n",
      "abstractMethods_min\n",
      "abstractMethods_max\n",
      "abstractMethods_std\n",
      "finalMethods_mean\n",
      "finalMethods_min\n",
      "finalMethods_max\n",
      "finalMethods_std\n",
      "synchronizedMethods_mean\n",
      "synchronizedMethods_min\n",
      "synchronizedMethods_max\n",
      "synchronizedMethods_std\n",
      "totalFields_mean\n",
      "totalFields_min\n",
      "totalFields_max\n",
      "totalFields_std\n",
      "staticFields_mean\n",
      "staticFields_min\n",
      "staticFields_max\n",
      "staticFields_std\n",
      "publicFields_mean\n",
      "publicFields_min\n",
      "publicFields_max\n",
      "publicFields_std\n",
      "privateFields_mean\n",
      "privateFields_min\n",
      "privateFields_max\n",
      "privateFields_std\n",
      "protectedFields_mean\n",
      "protectedFields_min\n",
      "protectedFields_max\n",
      "protectedFields_std\n",
      "defaultFields_mean\n",
      "defaultFields_min\n",
      "defaultFields_max\n",
      "defaultFields_std\n",
      "finalFields_mean\n",
      "finalFields_min\n",
      "finalFields_max\n",
      "finalFields_std\n",
      "synchronizedFields_mean\n",
      "synchronizedFields_min\n",
      "synchronizedFields_max\n",
      "synchronizedFields_std\n",
      "nosi_mean\n",
      "nosi_min\n",
      "nosi_max\n",
      "nosi_std\n",
      "loc_mean\n",
      "loc_min\n",
      "loc_max\n",
      "loc_std\n",
      "returnQty_mean\n",
      "returnQty_min\n",
      "returnQty_max\n",
      "returnQty_std\n",
      "loopQty_mean\n",
      "loopQty_min\n",
      "loopQty_max\n",
      "loopQty_std\n",
      "comparisonsQty_mean\n",
      "comparisonsQty_min\n",
      "comparisonsQty_max\n",
      "comparisonsQty_std\n",
      "tryCatchQty_mean\n",
      "tryCatchQty_min\n",
      "tryCatchQty_max\n",
      "tryCatchQty_std\n",
      "parenthesizedExpsQty_mean\n",
      "parenthesizedExpsQty_min\n",
      "parenthesizedExpsQty_max\n",
      "parenthesizedExpsQty_std\n",
      "stringLiteralsQty_mean\n",
      "stringLiteralsQty_min\n",
      "stringLiteralsQty_max\n",
      "stringLiteralsQty_std\n",
      "numbersQty_mean\n",
      "numbersQty_min\n",
      "numbersQty_max\n",
      "numbersQty_std\n",
      "assignmentsQty_mean\n",
      "assignmentsQty_min\n",
      "assignmentsQty_max\n",
      "assignmentsQty_std\n",
      "mathOperationsQty_mean\n",
      "mathOperationsQty_min\n",
      "mathOperationsQty_max\n",
      "mathOperationsQty_std\n",
      "variablesQty_mean\n",
      "variablesQty_min\n",
      "variablesQty_max\n",
      "variablesQty_std\n",
      "maxNestedBlocks_mean\n",
      "maxNestedBlocks_min\n",
      "maxNestedBlocks_max\n",
      "maxNestedBlocks_std\n",
      "anonymousClassesQty_mean\n",
      "anonymousClassesQty_min\n",
      "anonymousClassesQty_max\n",
      "anonymousClassesQty_std\n",
      "subClassesQty_mean\n",
      "subClassesQty_min\n",
      "subClassesQty_max\n",
      "subClassesQty_std\n",
      "lambdasQty_mean\n",
      "lambdasQty_min\n",
      "lambdasQty_max\n",
      "lambdasQty_std\n",
      "uniqueWordsQty_mean\n",
      "uniqueWordsQty_min\n",
      "uniqueWordsQty_max\n",
      "uniqueWordsQty_std\n",
      "modifiers_mean\n",
      "modifiers_min\n",
      "modifiers_max\n",
      "modifiers_std\n",
      "num_dependency_mean\n",
      "num_dependency_min\n",
      "num_dependency_max\n",
      "num_dependency_std\n",
      "num_line_affected_mean\n",
      "num_line_affected_min\n",
      "num_line_affected_max\n",
      "num_line_affected_std\n",
      "actual_num_of_classes_touched_mean\n",
      "actual_num_of_classes_touched_min\n",
      "actual_num_of_classes_touched_max\n",
      "actual_num_of_classes_touched_std\n",
      "commit_line_changed\n",
      "refactoring_perc\n",
      "refactoring_perc_time_taken\n",
      "time_taken_final\n"
     ]
    }
   ],
   "source": [
    "for columns in main_df.columns:\n",
    "    print(columns)"
   ]
  },
  {
   "cell_type": "markdown",
   "metadata": {},
   "source": [
    "### Only taking mean for num_dependency and num_line_affected since there is only one"
   ]
  },
  {
   "cell_type": "code",
   "execution_count": 113,
   "metadata": {},
   "outputs": [],
   "source": [
    "final_col = []\n",
    "column_to_skip = ['sha',\n",
    "'name','email','login',\n",
    "'date','message',\n",
    "'parent_sha','parent_date',\n",
    "'time_taken','contains_refactoring',\n",
    "'kmean_label','time_taken_mean',\n",
    "'time_taken_min',\n",
    "'time_taken_max',\n",
    "'time_taken_q10',\n",
    "'time_taken_q20',\n",
    "'time_taken_q25',\n",
    "'time_taken_q30',\n",
    "'time_taken_q40',\n",
    "'time_taken_q50',\n",
    "'time_taken_q60',\n",
    "'time_taken_q70',\n",
    "'time_taken_q75',\n",
    "'time_taken_q80',\n",
    "'time_taken_q90',\n",
    "'project_name','commit_compared_with',\n",
    "'actual_num_of_classes_touched_mean',\n",
    " 'actual_num_of_classes_touched_min',\n",
    " 'actual_num_of_classes_touched_max',\n",
    " 'actual_num_of_classes_touched_std',\n",
    "'num_dependency_min',\n",
    "'num_dependency_max',\n",
    "'num_dependency_std',\n",
    "'num_line_affected_min',\n",
    "'num_line_affected_max',\n",
    "'num_line_affected_std', 'time_taken_final',\n",
    "'commit_line_changed',\n",
    "'refactoring_perc'\n",
    " ]\n",
    "for element in main_df.columns:\n",
    "    #print(\"'\" + element + \"',\")\n",
    "    if element not in column_to_skip:\n",
    "        final_col.append(element)"
   ]
  },
  {
   "cell_type": "code",
   "execution_count": 114,
   "metadata": {},
   "outputs": [
    {
     "data": {
      "text/plain": [
       "['cbo_mean',\n",
       " 'cbo_min',\n",
       " 'cbo_max',\n",
       " 'cbo_std',\n",
       " 'wmc_mean',\n",
       " 'wmc_min',\n",
       " 'wmc_max',\n",
       " 'wmc_std',\n",
       " 'dit_mean',\n",
       " 'dit_min',\n",
       " 'dit_max',\n",
       " 'dit_std',\n",
       " 'rfc_mean',\n",
       " 'rfc_min',\n",
       " 'rfc_max',\n",
       " 'rfc_std',\n",
       " 'lcom_mean',\n",
       " 'lcom_min',\n",
       " 'lcom_max',\n",
       " 'lcom_std',\n",
       " 'totalMethods_mean',\n",
       " 'totalMethods_min',\n",
       " 'totalMethods_max',\n",
       " 'totalMethods_std',\n",
       " 'staticMethods_mean',\n",
       " 'staticMethods_min',\n",
       " 'staticMethods_max',\n",
       " 'staticMethods_std',\n",
       " 'publicMethods_mean',\n",
       " 'publicMethods_min',\n",
       " 'publicMethods_max',\n",
       " 'publicMethods_std',\n",
       " 'privateMethods_mean',\n",
       " 'privateMethods_min',\n",
       " 'privateMethods_max',\n",
       " 'privateMethods_std',\n",
       " 'protectedMethods_mean',\n",
       " 'protectedMethods_min',\n",
       " 'protectedMethods_max',\n",
       " 'protectedMethods_std',\n",
       " 'defaultMethods_mean',\n",
       " 'defaultMethods_min',\n",
       " 'defaultMethods_max',\n",
       " 'defaultMethods_std',\n",
       " 'abstractMethods_mean',\n",
       " 'abstractMethods_min',\n",
       " 'abstractMethods_max',\n",
       " 'abstractMethods_std',\n",
       " 'finalMethods_mean',\n",
       " 'finalMethods_min',\n",
       " 'finalMethods_max',\n",
       " 'finalMethods_std',\n",
       " 'synchronizedMethods_mean',\n",
       " 'synchronizedMethods_min',\n",
       " 'synchronizedMethods_max',\n",
       " 'synchronizedMethods_std',\n",
       " 'totalFields_mean',\n",
       " 'totalFields_min',\n",
       " 'totalFields_max',\n",
       " 'totalFields_std',\n",
       " 'staticFields_mean',\n",
       " 'staticFields_min',\n",
       " 'staticFields_max',\n",
       " 'staticFields_std',\n",
       " 'publicFields_mean',\n",
       " 'publicFields_min',\n",
       " 'publicFields_max',\n",
       " 'publicFields_std',\n",
       " 'privateFields_mean',\n",
       " 'privateFields_min',\n",
       " 'privateFields_max',\n",
       " 'privateFields_std',\n",
       " 'protectedFields_mean',\n",
       " 'protectedFields_min',\n",
       " 'protectedFields_max',\n",
       " 'protectedFields_std',\n",
       " 'defaultFields_mean',\n",
       " 'defaultFields_min',\n",
       " 'defaultFields_max',\n",
       " 'defaultFields_std',\n",
       " 'finalFields_mean',\n",
       " 'finalFields_min',\n",
       " 'finalFields_max',\n",
       " 'finalFields_std',\n",
       " 'synchronizedFields_mean',\n",
       " 'synchronizedFields_min',\n",
       " 'synchronizedFields_max',\n",
       " 'synchronizedFields_std',\n",
       " 'nosi_mean',\n",
       " 'nosi_min',\n",
       " 'nosi_max',\n",
       " 'nosi_std',\n",
       " 'loc_mean',\n",
       " 'loc_min',\n",
       " 'loc_max',\n",
       " 'loc_std',\n",
       " 'returnQty_mean',\n",
       " 'returnQty_min',\n",
       " 'returnQty_max',\n",
       " 'returnQty_std',\n",
       " 'loopQty_mean',\n",
       " 'loopQty_min',\n",
       " 'loopQty_max',\n",
       " 'loopQty_std',\n",
       " 'comparisonsQty_mean',\n",
       " 'comparisonsQty_min',\n",
       " 'comparisonsQty_max',\n",
       " 'comparisonsQty_std',\n",
       " 'tryCatchQty_mean',\n",
       " 'tryCatchQty_min',\n",
       " 'tryCatchQty_max',\n",
       " 'tryCatchQty_std',\n",
       " 'parenthesizedExpsQty_mean',\n",
       " 'parenthesizedExpsQty_min',\n",
       " 'parenthesizedExpsQty_max',\n",
       " 'parenthesizedExpsQty_std',\n",
       " 'stringLiteralsQty_mean',\n",
       " 'stringLiteralsQty_min',\n",
       " 'stringLiteralsQty_max',\n",
       " 'stringLiteralsQty_std',\n",
       " 'numbersQty_mean',\n",
       " 'numbersQty_min',\n",
       " 'numbersQty_max',\n",
       " 'numbersQty_std',\n",
       " 'assignmentsQty_mean',\n",
       " 'assignmentsQty_min',\n",
       " 'assignmentsQty_max',\n",
       " 'assignmentsQty_std',\n",
       " 'mathOperationsQty_mean',\n",
       " 'mathOperationsQty_min',\n",
       " 'mathOperationsQty_max',\n",
       " 'mathOperationsQty_std',\n",
       " 'variablesQty_mean',\n",
       " 'variablesQty_min',\n",
       " 'variablesQty_max',\n",
       " 'variablesQty_std',\n",
       " 'maxNestedBlocks_mean',\n",
       " 'maxNestedBlocks_min',\n",
       " 'maxNestedBlocks_max',\n",
       " 'maxNestedBlocks_std',\n",
       " 'anonymousClassesQty_mean',\n",
       " 'anonymousClassesQty_min',\n",
       " 'anonymousClassesQty_max',\n",
       " 'anonymousClassesQty_std',\n",
       " 'subClassesQty_mean',\n",
       " 'subClassesQty_min',\n",
       " 'subClassesQty_max',\n",
       " 'subClassesQty_std',\n",
       " 'lambdasQty_mean',\n",
       " 'lambdasQty_min',\n",
       " 'lambdasQty_max',\n",
       " 'lambdasQty_std',\n",
       " 'uniqueWordsQty_mean',\n",
       " 'uniqueWordsQty_min',\n",
       " 'uniqueWordsQty_max',\n",
       " 'uniqueWordsQty_std',\n",
       " 'modifiers_mean',\n",
       " 'modifiers_min',\n",
       " 'modifiers_max',\n",
       " 'modifiers_std',\n",
       " 'num_dependency_mean',\n",
       " 'num_line_affected_mean',\n",
       " 'refactoring_perc_time_taken']"
      ]
     },
     "execution_count": 114,
     "metadata": {},
     "output_type": "execute_result"
    }
   ],
   "source": [
    "final_col"
   ]
  },
  {
   "cell_type": "code",
   "execution_count": 115,
   "metadata": {},
   "outputs": [],
   "source": [
    "X_col = final_col.copy()\n",
    "X_col.remove('refactoring_perc_time_taken')\n",
    "Y_col = ['refactoring_perc_time_taken']\n",
    "\n",
    "X = main_df[X_col]\n",
    "y = main_df[Y_col]\n",
    "final_df = main_df[final_col]"
   ]
  },
  {
   "cell_type": "code",
   "execution_count": 116,
   "metadata": {},
   "outputs": [
    {
     "data": {
      "text/html": [
       "<div>\n",
       "<style scoped>\n",
       "    .dataframe tbody tr th:only-of-type {\n",
       "        vertical-align: middle;\n",
       "    }\n",
       "\n",
       "    .dataframe tbody tr th {\n",
       "        vertical-align: top;\n",
       "    }\n",
       "\n",
       "    .dataframe thead th {\n",
       "        text-align: right;\n",
       "    }\n",
       "</style>\n",
       "<table border=\"1\" class=\"dataframe\">\n",
       "  <thead>\n",
       "    <tr style=\"text-align: right;\">\n",
       "      <th></th>\n",
       "      <th>cbo_mean</th>\n",
       "      <th>cbo_min</th>\n",
       "      <th>cbo_max</th>\n",
       "      <th>cbo_std</th>\n",
       "      <th>wmc_mean</th>\n",
       "      <th>wmc_min</th>\n",
       "      <th>wmc_max</th>\n",
       "      <th>wmc_std</th>\n",
       "      <th>dit_mean</th>\n",
       "      <th>dit_min</th>\n",
       "      <th>...</th>\n",
       "      <th>uniqueWordsQty_mean</th>\n",
       "      <th>uniqueWordsQty_min</th>\n",
       "      <th>uniqueWordsQty_max</th>\n",
       "      <th>uniqueWordsQty_std</th>\n",
       "      <th>modifiers_mean</th>\n",
       "      <th>modifiers_min</th>\n",
       "      <th>modifiers_max</th>\n",
       "      <th>modifiers_std</th>\n",
       "      <th>num_dependency_mean</th>\n",
       "      <th>num_line_affected_mean</th>\n",
       "    </tr>\n",
       "  </thead>\n",
       "  <tbody>\n",
       "    <tr>\n",
       "      <th>0</th>\n",
       "      <td>11.000000</td>\n",
       "      <td>11.0</td>\n",
       "      <td>11.0</td>\n",
       "      <td>0.000000</td>\n",
       "      <td>8.000000</td>\n",
       "      <td>8.0</td>\n",
       "      <td>8.0</td>\n",
       "      <td>0.000000</td>\n",
       "      <td>2.000000</td>\n",
       "      <td>2.0</td>\n",
       "      <td>...</td>\n",
       "      <td>58.000000</td>\n",
       "      <td>58.0</td>\n",
       "      <td>58.0</td>\n",
       "      <td>0.000000</td>\n",
       "      <td>17.000000</td>\n",
       "      <td>17.0</td>\n",
       "      <td>17.0</td>\n",
       "      <td>0.00000</td>\n",
       "      <td>85.000000</td>\n",
       "      <td>61.000000</td>\n",
       "    </tr>\n",
       "    <tr>\n",
       "      <th>3</th>\n",
       "      <td>23.250000</td>\n",
       "      <td>5.0</td>\n",
       "      <td>63.0</td>\n",
       "      <td>20.780782</td>\n",
       "      <td>20.666667</td>\n",
       "      <td>4.0</td>\n",
       "      <td>64.0</td>\n",
       "      <td>21.993112</td>\n",
       "      <td>2.000000</td>\n",
       "      <td>1.0</td>\n",
       "      <td>...</td>\n",
       "      <td>121.333333</td>\n",
       "      <td>37.0</td>\n",
       "      <td>320.0</td>\n",
       "      <td>98.919006</td>\n",
       "      <td>1.000000</td>\n",
       "      <td>1.0</td>\n",
       "      <td>1.0</td>\n",
       "      <td>0.00000</td>\n",
       "      <td>57.583333</td>\n",
       "      <td>222.666667</td>\n",
       "    </tr>\n",
       "    <tr>\n",
       "      <th>9</th>\n",
       "      <td>38.000000</td>\n",
       "      <td>38.0</td>\n",
       "      <td>38.0</td>\n",
       "      <td>0.000000</td>\n",
       "      <td>57.000000</td>\n",
       "      <td>57.0</td>\n",
       "      <td>57.0</td>\n",
       "      <td>0.000000</td>\n",
       "      <td>1.000000</td>\n",
       "      <td>1.0</td>\n",
       "      <td>...</td>\n",
       "      <td>279.000000</td>\n",
       "      <td>279.0</td>\n",
       "      <td>279.0</td>\n",
       "      <td>0.000000</td>\n",
       "      <td>17.000000</td>\n",
       "      <td>17.0</td>\n",
       "      <td>17.0</td>\n",
       "      <td>0.00000</td>\n",
       "      <td>322.000000</td>\n",
       "      <td>764.000000</td>\n",
       "    </tr>\n",
       "    <tr>\n",
       "      <th>11</th>\n",
       "      <td>4.000000</td>\n",
       "      <td>4.0</td>\n",
       "      <td>4.0</td>\n",
       "      <td>0.000000</td>\n",
       "      <td>15.000000</td>\n",
       "      <td>15.0</td>\n",
       "      <td>15.0</td>\n",
       "      <td>0.000000</td>\n",
       "      <td>1.000000</td>\n",
       "      <td>1.0</td>\n",
       "      <td>...</td>\n",
       "      <td>108.000000</td>\n",
       "      <td>108.0</td>\n",
       "      <td>108.0</td>\n",
       "      <td>0.000000</td>\n",
       "      <td>1.000000</td>\n",
       "      <td>1.0</td>\n",
       "      <td>1.0</td>\n",
       "      <td>0.00000</td>\n",
       "      <td>371.000000</td>\n",
       "      <td>115.000000</td>\n",
       "    </tr>\n",
       "    <tr>\n",
       "      <th>12</th>\n",
       "      <td>15.142857</td>\n",
       "      <td>9.0</td>\n",
       "      <td>23.0</td>\n",
       "      <td>4.740906</td>\n",
       "      <td>9.714286</td>\n",
       "      <td>3.0</td>\n",
       "      <td>41.0</td>\n",
       "      <td>13.960830</td>\n",
       "      <td>1.714286</td>\n",
       "      <td>1.0</td>\n",
       "      <td>...</td>\n",
       "      <td>78.428571</td>\n",
       "      <td>39.0</td>\n",
       "      <td>162.0</td>\n",
       "      <td>51.980308</td>\n",
       "      <td>7.857143</td>\n",
       "      <td>1.0</td>\n",
       "      <td>17.0</td>\n",
       "      <td>8.55236</td>\n",
       "      <td>46.857143</td>\n",
       "      <td>103.000000</td>\n",
       "    </tr>\n",
       "  </tbody>\n",
       "</table>\n",
       "<p>5 rows × 162 columns</p>\n",
       "</div>"
      ],
      "text/plain": [
       "     cbo_mean  cbo_min  cbo_max    cbo_std   wmc_mean  wmc_min  wmc_max  \\\n",
       "0   11.000000     11.0     11.0   0.000000   8.000000      8.0      8.0   \n",
       "3   23.250000      5.0     63.0  20.780782  20.666667      4.0     64.0   \n",
       "9   38.000000     38.0     38.0   0.000000  57.000000     57.0     57.0   \n",
       "11   4.000000      4.0      4.0   0.000000  15.000000     15.0     15.0   \n",
       "12  15.142857      9.0     23.0   4.740906   9.714286      3.0     41.0   \n",
       "\n",
       "      wmc_std  dit_mean  dit_min  ...  uniqueWordsQty_mean  \\\n",
       "0    0.000000  2.000000      2.0  ...            58.000000   \n",
       "3   21.993112  2.000000      1.0  ...           121.333333   \n",
       "9    0.000000  1.000000      1.0  ...           279.000000   \n",
       "11   0.000000  1.000000      1.0  ...           108.000000   \n",
       "12  13.960830  1.714286      1.0  ...            78.428571   \n",
       "\n",
       "    uniqueWordsQty_min  uniqueWordsQty_max  uniqueWordsQty_std  \\\n",
       "0                 58.0                58.0            0.000000   \n",
       "3                 37.0               320.0           98.919006   \n",
       "9                279.0               279.0            0.000000   \n",
       "11               108.0               108.0            0.000000   \n",
       "12                39.0               162.0           51.980308   \n",
       "\n",
       "    modifiers_mean  modifiers_min  modifiers_max  modifiers_std  \\\n",
       "0        17.000000           17.0           17.0        0.00000   \n",
       "3         1.000000            1.0            1.0        0.00000   \n",
       "9        17.000000           17.0           17.0        0.00000   \n",
       "11        1.000000            1.0            1.0        0.00000   \n",
       "12        7.857143            1.0           17.0        8.55236   \n",
       "\n",
       "    num_dependency_mean  num_line_affected_mean  \n",
       "0             85.000000               61.000000  \n",
       "3             57.583333              222.666667  \n",
       "9            322.000000              764.000000  \n",
       "11           371.000000              115.000000  \n",
       "12            46.857143              103.000000  \n",
       "\n",
       "[5 rows x 162 columns]"
      ]
     },
     "execution_count": 116,
     "metadata": {},
     "output_type": "execute_result"
    }
   ],
   "source": [
    "X.head()"
   ]
  },
  {
   "cell_type": "code",
   "execution_count": 117,
   "metadata": {},
   "outputs": [
    {
     "data": {
      "text/html": [
       "<div>\n",
       "<style scoped>\n",
       "    .dataframe tbody tr th:only-of-type {\n",
       "        vertical-align: middle;\n",
       "    }\n",
       "\n",
       "    .dataframe tbody tr th {\n",
       "        vertical-align: top;\n",
       "    }\n",
       "\n",
       "    .dataframe thead th {\n",
       "        text-align: right;\n",
       "    }\n",
       "</style>\n",
       "<table border=\"1\" class=\"dataframe\">\n",
       "  <thead>\n",
       "    <tr style=\"text-align: right;\">\n",
       "      <th></th>\n",
       "      <th>refactoring_perc_time_taken</th>\n",
       "    </tr>\n",
       "  </thead>\n",
       "  <tbody>\n",
       "    <tr>\n",
       "      <th>0</th>\n",
       "      <td>15.00000</td>\n",
       "    </tr>\n",
       "    <tr>\n",
       "      <th>3</th>\n",
       "      <td>3.71134</td>\n",
       "    </tr>\n",
       "    <tr>\n",
       "      <th>9</th>\n",
       "      <td>10.00000</td>\n",
       "    </tr>\n",
       "    <tr>\n",
       "      <th>11</th>\n",
       "      <td>9.48750</td>\n",
       "    </tr>\n",
       "    <tr>\n",
       "      <th>12</th>\n",
       "      <td>2.00000</td>\n",
       "    </tr>\n",
       "  </tbody>\n",
       "</table>\n",
       "</div>"
      ],
      "text/plain": [
       "    refactoring_perc_time_taken\n",
       "0                      15.00000\n",
       "3                       3.71134\n",
       "9                      10.00000\n",
       "11                      9.48750\n",
       "12                      2.00000"
      ]
     },
     "execution_count": 117,
     "metadata": {},
     "output_type": "execute_result"
    }
   ],
   "source": [
    "y.head()"
   ]
  },
  {
   "cell_type": "code",
   "execution_count": 118,
   "metadata": {},
   "outputs": [],
   "source": [
    "from sklearn.model_selection import train_test_split\n",
    "X_train, X_test, y_train, y_test = train_test_split(X, y, test_size=0.33, random_state=16)"
   ]
  },
  {
   "cell_type": "code",
   "execution_count": 119,
   "metadata": {},
   "outputs": [
    {
     "name": "stdout",
     "output_type": "stream",
     "text": [
      "Checking whether there is an H2O instance running at http://localhost:54321 . connected.\n",
      "Warning: Your H2O cluster version is too old (4 months and 2 days)! Please download and install the latest version from http://h2o.ai/download/\n"
     ]
    },
    {
     "data": {
      "text/html": [
       "<div style=\"overflow:auto\"><table style=\"width:50%\"><tr><td>H2O_cluster_uptime:</td>\n",
       "<td>2 mins 42 secs</td></tr>\n",
       "<tr><td>H2O_cluster_timezone:</td>\n",
       "<td>Asia/Kuala_Lumpur</td></tr>\n",
       "<tr><td>H2O_data_parsing_timezone:</td>\n",
       "<td>UTC</td></tr>\n",
       "<tr><td>H2O_cluster_version:</td>\n",
       "<td>3.32.1.7</td></tr>\n",
       "<tr><td>H2O_cluster_version_age:</td>\n",
       "<td>4 months and 2 days !!!</td></tr>\n",
       "<tr><td>H2O_cluster_name:</td>\n",
       "<td>H2O_from_python_tanji_54frkf</td></tr>\n",
       "<tr><td>H2O_cluster_total_nodes:</td>\n",
       "<td>1</td></tr>\n",
       "<tr><td>H2O_cluster_free_memory:</td>\n",
       "<td>7.931 Gb</td></tr>\n",
       "<tr><td>H2O_cluster_total_cores:</td>\n",
       "<td>12</td></tr>\n",
       "<tr><td>H2O_cluster_allowed_cores:</td>\n",
       "<td>4</td></tr>\n",
       "<tr><td>H2O_cluster_status:</td>\n",
       "<td>locked, healthy</td></tr>\n",
       "<tr><td>H2O_connection_url:</td>\n",
       "<td>http://localhost:54321</td></tr>\n",
       "<tr><td>H2O_connection_proxy:</td>\n",
       "<td>{\"http\": null, \"https\": null}</td></tr>\n",
       "<tr><td>H2O_internal_security:</td>\n",
       "<td>False</td></tr>\n",
       "<tr><td>H2O_API_Extensions:</td>\n",
       "<td>Amazon S3, Algos, AutoML, Core V3, TargetEncoder, Core V4</td></tr>\n",
       "<tr><td>Python_version:</td>\n",
       "<td>3.7.3 final</td></tr></table></div>"
      ],
      "text/plain": [
       "--------------------------  ---------------------------------------------------------\n",
       "H2O_cluster_uptime:         2 mins 42 secs\n",
       "H2O_cluster_timezone:       Asia/Kuala_Lumpur\n",
       "H2O_data_parsing_timezone:  UTC\n",
       "H2O_cluster_version:        3.32.1.7\n",
       "H2O_cluster_version_age:    4 months and 2 days !!!\n",
       "H2O_cluster_name:           H2O_from_python_tanji_54frkf\n",
       "H2O_cluster_total_nodes:    1\n",
       "H2O_cluster_free_memory:    7.931 Gb\n",
       "H2O_cluster_total_cores:    12\n",
       "H2O_cluster_allowed_cores:  4\n",
       "H2O_cluster_status:         locked, healthy\n",
       "H2O_connection_url:         http://localhost:54321\n",
       "H2O_connection_proxy:       {\"http\": null, \"https\": null}\n",
       "H2O_internal_security:      False\n",
       "H2O_API_Extensions:         Amazon S3, Algos, AutoML, Core V3, TargetEncoder, Core V4\n",
       "Python_version:             3.7.3 final\n",
       "--------------------------  ---------------------------------------------------------"
      ]
     },
     "metadata": {},
     "output_type": "display_data"
    }
   ],
   "source": [
    "h2o.init(nthreads=4)"
   ]
  },
  {
   "cell_type": "code",
   "execution_count": 120,
   "metadata": {},
   "outputs": [
    {
     "name": "stdout",
     "output_type": "stream",
     "text": [
      "Parse progress: |█████████████████████████████████████████████████████████| 100%\n"
     ]
    }
   ],
   "source": [
    "from h2o.automl import H2OAutoML\n",
    "\n",
    "full = h2o.H2OFrame(final_df)\n",
    "train,test = full.split_frame(ratios=[.7])\n",
    "\n",
    "\n",
    "x = train.columns\n",
    "y = \"refactoring_perc_time_taken\"\n",
    "x.remove(y)\n",
    "\n"
   ]
  },
  {
   "cell_type": "code",
   "execution_count": 121,
   "metadata": {},
   "outputs": [
    {
     "data": {
      "text/plain": [
       "{'cbo_mean': 'real',\n",
       " 'cbo_min': 'int',\n",
       " 'cbo_max': 'int',\n",
       " 'cbo_std': 'real',\n",
       " 'wmc_mean': 'real',\n",
       " 'wmc_min': 'int',\n",
       " 'wmc_max': 'int',\n",
       " 'wmc_std': 'real',\n",
       " 'dit_mean': 'real',\n",
       " 'dit_min': 'int',\n",
       " 'dit_max': 'int',\n",
       " 'dit_std': 'real',\n",
       " 'rfc_mean': 'real',\n",
       " 'rfc_min': 'int',\n",
       " 'rfc_max': 'int',\n",
       " 'rfc_std': 'real',\n",
       " 'lcom_mean': 'real',\n",
       " 'lcom_min': 'int',\n",
       " 'lcom_max': 'int',\n",
       " 'lcom_std': 'real',\n",
       " 'totalMethods_mean': 'real',\n",
       " 'totalMethods_min': 'int',\n",
       " 'totalMethods_max': 'int',\n",
       " 'totalMethods_std': 'real',\n",
       " 'staticMethods_mean': 'real',\n",
       " 'staticMethods_min': 'int',\n",
       " 'staticMethods_max': 'int',\n",
       " 'staticMethods_std': 'real',\n",
       " 'publicMethods_mean': 'real',\n",
       " 'publicMethods_min': 'int',\n",
       " 'publicMethods_max': 'int',\n",
       " 'publicMethods_std': 'real',\n",
       " 'privateMethods_mean': 'real',\n",
       " 'privateMethods_min': 'int',\n",
       " 'privateMethods_max': 'int',\n",
       " 'privateMethods_std': 'real',\n",
       " 'protectedMethods_mean': 'real',\n",
       " 'protectedMethods_min': 'int',\n",
       " 'protectedMethods_max': 'int',\n",
       " 'protectedMethods_std': 'real',\n",
       " 'defaultMethods_mean': 'real',\n",
       " 'defaultMethods_min': 'int',\n",
       " 'defaultMethods_max': 'int',\n",
       " 'defaultMethods_std': 'real',\n",
       " 'abstractMethods_mean': 'real',\n",
       " 'abstractMethods_min': 'int',\n",
       " 'abstractMethods_max': 'int',\n",
       " 'abstractMethods_std': 'real',\n",
       " 'finalMethods_mean': 'real',\n",
       " 'finalMethods_min': 'int',\n",
       " 'finalMethods_max': 'int',\n",
       " 'finalMethods_std': 'real',\n",
       " 'synchronizedMethods_mean': 'real',\n",
       " 'synchronizedMethods_min': 'int',\n",
       " 'synchronizedMethods_max': 'int',\n",
       " 'synchronizedMethods_std': 'real',\n",
       " 'totalFields_mean': 'real',\n",
       " 'totalFields_min': 'int',\n",
       " 'totalFields_max': 'int',\n",
       " 'totalFields_std': 'real',\n",
       " 'staticFields_mean': 'real',\n",
       " 'staticFields_min': 'int',\n",
       " 'staticFields_max': 'int',\n",
       " 'staticFields_std': 'real',\n",
       " 'publicFields_mean': 'real',\n",
       " 'publicFields_min': 'int',\n",
       " 'publicFields_max': 'int',\n",
       " 'publicFields_std': 'real',\n",
       " 'privateFields_mean': 'real',\n",
       " 'privateFields_min': 'int',\n",
       " 'privateFields_max': 'int',\n",
       " 'privateFields_std': 'real',\n",
       " 'protectedFields_mean': 'real',\n",
       " 'protectedFields_min': 'int',\n",
       " 'protectedFields_max': 'int',\n",
       " 'protectedFields_std': 'real',\n",
       " 'defaultFields_mean': 'int',\n",
       " 'defaultFields_min': 'int',\n",
       " 'defaultFields_max': 'int',\n",
       " 'defaultFields_std': 'int',\n",
       " 'finalFields_mean': 'real',\n",
       " 'finalFields_min': 'int',\n",
       " 'finalFields_max': 'int',\n",
       " 'finalFields_std': 'real',\n",
       " 'synchronizedFields_mean': 'int',\n",
       " 'synchronizedFields_min': 'int',\n",
       " 'synchronizedFields_max': 'int',\n",
       " 'synchronizedFields_std': 'int',\n",
       " 'nosi_mean': 'real',\n",
       " 'nosi_min': 'int',\n",
       " 'nosi_max': 'int',\n",
       " 'nosi_std': 'real',\n",
       " 'loc_mean': 'real',\n",
       " 'loc_min': 'int',\n",
       " 'loc_max': 'int',\n",
       " 'loc_std': 'real',\n",
       " 'returnQty_mean': 'real',\n",
       " 'returnQty_min': 'int',\n",
       " 'returnQty_max': 'int',\n",
       " 'returnQty_std': 'real',\n",
       " 'loopQty_mean': 'real',\n",
       " 'loopQty_min': 'int',\n",
       " 'loopQty_max': 'int',\n",
       " 'loopQty_std': 'real',\n",
       " 'comparisonsQty_mean': 'real',\n",
       " 'comparisonsQty_min': 'int',\n",
       " 'comparisonsQty_max': 'int',\n",
       " 'comparisonsQty_std': 'real',\n",
       " 'tryCatchQty_mean': 'real',\n",
       " 'tryCatchQty_min': 'int',\n",
       " 'tryCatchQty_max': 'int',\n",
       " 'tryCatchQty_std': 'real',\n",
       " 'parenthesizedExpsQty_mean': 'real',\n",
       " 'parenthesizedExpsQty_min': 'int',\n",
       " 'parenthesizedExpsQty_max': 'int',\n",
       " 'parenthesizedExpsQty_std': 'real',\n",
       " 'stringLiteralsQty_mean': 'real',\n",
       " 'stringLiteralsQty_min': 'int',\n",
       " 'stringLiteralsQty_max': 'int',\n",
       " 'stringLiteralsQty_std': 'real',\n",
       " 'numbersQty_mean': 'real',\n",
       " 'numbersQty_min': 'int',\n",
       " 'numbersQty_max': 'int',\n",
       " 'numbersQty_std': 'real',\n",
       " 'assignmentsQty_mean': 'real',\n",
       " 'assignmentsQty_min': 'int',\n",
       " 'assignmentsQty_max': 'int',\n",
       " 'assignmentsQty_std': 'real',\n",
       " 'mathOperationsQty_mean': 'real',\n",
       " 'mathOperationsQty_min': 'int',\n",
       " 'mathOperationsQty_max': 'int',\n",
       " 'mathOperationsQty_std': 'real',\n",
       " 'variablesQty_mean': 'real',\n",
       " 'variablesQty_min': 'int',\n",
       " 'variablesQty_max': 'int',\n",
       " 'variablesQty_std': 'real',\n",
       " 'maxNestedBlocks_mean': 'real',\n",
       " 'maxNestedBlocks_min': 'int',\n",
       " 'maxNestedBlocks_max': 'int',\n",
       " 'maxNestedBlocks_std': 'real',\n",
       " 'anonymousClassesQty_mean': 'real',\n",
       " 'anonymousClassesQty_min': 'int',\n",
       " 'anonymousClassesQty_max': 'int',\n",
       " 'anonymousClassesQty_std': 'real',\n",
       " 'subClassesQty_mean': 'real',\n",
       " 'subClassesQty_min': 'int',\n",
       " 'subClassesQty_max': 'int',\n",
       " 'subClassesQty_std': 'real',\n",
       " 'lambdasQty_mean': 'real',\n",
       " 'lambdasQty_min': 'int',\n",
       " 'lambdasQty_max': 'int',\n",
       " 'lambdasQty_std': 'real',\n",
       " 'uniqueWordsQty_mean': 'real',\n",
       " 'uniqueWordsQty_min': 'int',\n",
       " 'uniqueWordsQty_max': 'int',\n",
       " 'uniqueWordsQty_std': 'real',\n",
       " 'modifiers_mean': 'real',\n",
       " 'modifiers_min': 'int',\n",
       " 'modifiers_max': 'int',\n",
       " 'modifiers_std': 'real',\n",
       " 'num_dependency_mean': 'real',\n",
       " 'num_line_affected_mean': 'real'}"
      ]
     },
     "execution_count": 121,
     "metadata": {},
     "output_type": "execute_result"
    }
   ],
   "source": [
    "train[x].types"
   ]
  },
  {
   "cell_type": "code",
   "execution_count": 122,
   "metadata": {},
   "outputs": [
    {
     "data": {
      "text/plain": [
       "{'refactoring_perc_time_taken': 'real'}"
      ]
     },
     "execution_count": 122,
     "metadata": {},
     "output_type": "execute_result"
    }
   ],
   "source": [
    "train[y].types"
   ]
  },
  {
   "cell_type": "code",
   "execution_count": 123,
   "metadata": {},
   "outputs": [
    {
     "name": "stdout",
     "output_type": "stream",
     "text": [
      "AutoML progress: |███████\n",
      "00:08:34.147: Skipping training of model GBM_5_AutoML_20220105_000828 due to exception: water.exceptions.H2OModelBuilderIllegalArgumentException: Illegal argument(s) for GBM model: GBM_5_AutoML_20220105_000828.  Details: ERRR on field: _min_rows: The dataset size is too small to split for min_rows=100.0: must have at least 200.0 (weighted) rows, but have only 184.0.\n",
      "\n",
      "\n",
      "█████████████████████████████████████████████████| 100%\n",
      "Failed polling AutoML progress log: [WinError 32] The process cannot access the file because it is being used by another process: 'C:\\\\Users\\\\tanji\\\\AppData\\\\Local\\\\Temp\\\\tmpgjpv2zl1.csv'\n"
     ]
    }
   ],
   "source": [
    "aml = H2OAutoML(max_models=10, seed=16, exclude_algos=['XGBoost', 'GLM'], exploitation_ratio=0.1)\n",
    "#aml = H2OAutoML(max_models=10, seed=1, include_algos=['GLM'])\n",
    "aml.train(x=x, y=y, training_frame=train)"
   ]
  },
  {
   "cell_type": "code",
   "execution_count": 124,
   "metadata": {},
   "outputs": [
    {
     "data": {
      "text/html": [
       "<table>\n",
       "<thead>\n",
       "<tr><th>model_id                                           </th><th style=\"text-align: right;\">  mean_residual_deviance</th><th style=\"text-align: right;\">    rmse</th><th style=\"text-align: right;\">     mse</th><th style=\"text-align: right;\">    mae</th><th style=\"text-align: right;\">     rmsle</th></tr>\n",
       "</thead>\n",
       "<tbody>\n",
       "<tr><td>StackedEnsemble_AllModels_AutoML_20220105_000828   </td><td style=\"text-align: right;\">                 71.2827</td><td style=\"text-align: right;\"> 8.44291</td><td style=\"text-align: right;\"> 71.2827</td><td style=\"text-align: right;\">6.67639</td><td style=\"text-align: right;\">  0.789051</td></tr>\n",
       "<tr><td>StackedEnsemble_BestOfFamily_AutoML_20220105_000828</td><td style=\"text-align: right;\">                 72.0051</td><td style=\"text-align: right;\"> 8.48558</td><td style=\"text-align: right;\"> 72.0051</td><td style=\"text-align: right;\">6.65256</td><td style=\"text-align: right;\">  0.785196</td></tr>\n",
       "<tr><td>GBM_grid__1_AutoML_20220105_000828_model_1         </td><td style=\"text-align: right;\">                 80.0747</td><td style=\"text-align: right;\"> 8.94844</td><td style=\"text-align: right;\"> 80.0747</td><td style=\"text-align: right;\">6.94295</td><td style=\"text-align: right;\">  0.823919</td></tr>\n",
       "<tr><td>GBM_2_AutoML_20220105_000828                       </td><td style=\"text-align: right;\">                 81.4221</td><td style=\"text-align: right;\"> 9.02342</td><td style=\"text-align: right;\"> 81.4221</td><td style=\"text-align: right;\">6.97794</td><td style=\"text-align: right;\">  0.824469</td></tr>\n",
       "<tr><td>XRT_1_AutoML_20220105_000828                       </td><td style=\"text-align: right;\">                 84.4942</td><td style=\"text-align: right;\"> 9.19207</td><td style=\"text-align: right;\"> 84.4942</td><td style=\"text-align: right;\">7.21101</td><td style=\"text-align: right;\">  0.851498</td></tr>\n",
       "<tr><td>GBM_3_AutoML_20220105_000828                       </td><td style=\"text-align: right;\">                 84.8603</td><td style=\"text-align: right;\"> 9.21197</td><td style=\"text-align: right;\"> 84.8603</td><td style=\"text-align: right;\">7.11007</td><td style=\"text-align: right;\">  0.845913</td></tr>\n",
       "<tr><td>GBM_4_AutoML_20220105_000828                       </td><td style=\"text-align: right;\">                 86.9294</td><td style=\"text-align: right;\"> 9.3236 </td><td style=\"text-align: right;\"> 86.9294</td><td style=\"text-align: right;\">7.22943</td><td style=\"text-align: right;\">  0.862268</td></tr>\n",
       "<tr><td>DRF_1_AutoML_20220105_000828                       </td><td style=\"text-align: right;\">                 87.4001</td><td style=\"text-align: right;\"> 9.3488 </td><td style=\"text-align: right;\"> 87.4001</td><td style=\"text-align: right;\">7.51057</td><td style=\"text-align: right;\">  0.866305</td></tr>\n",
       "<tr><td>GBM_1_AutoML_20220105_000828                       </td><td style=\"text-align: right;\">                 94.6975</td><td style=\"text-align: right;\"> 9.73126</td><td style=\"text-align: right;\"> 94.6975</td><td style=\"text-align: right;\">7.45856</td><td style=\"text-align: right;\">  0.883705</td></tr>\n",
       "<tr><td>GBM_grid__1_AutoML_20220105_000828_model_2         </td><td style=\"text-align: right;\">                 95.3455</td><td style=\"text-align: right;\"> 9.7645 </td><td style=\"text-align: right;\"> 95.3455</td><td style=\"text-align: right;\">7.52184</td><td style=\"text-align: right;\">  0.872568</td></tr>\n",
       "<tr><td>DeepLearning_grid__1_AutoML_20220105_000828_model_1</td><td style=\"text-align: right;\">                125.497 </td><td style=\"text-align: right;\">11.2025 </td><td style=\"text-align: right;\">125.497 </td><td style=\"text-align: right;\">8.06868</td><td style=\"text-align: right;\">nan       </td></tr>\n",
       "<tr><td>DeepLearning_1_AutoML_20220105_000828              </td><td style=\"text-align: right;\">                140.487 </td><td style=\"text-align: right;\">11.8527 </td><td style=\"text-align: right;\">140.487 </td><td style=\"text-align: right;\">8.57557</td><td style=\"text-align: right;\">nan       </td></tr>\n",
       "</tbody>\n",
       "</table>"
      ]
     },
     "metadata": {},
     "output_type": "display_data"
    },
    {
     "data": {
      "text/plain": []
     },
     "execution_count": 124,
     "metadata": {},
     "output_type": "execute_result"
    }
   ],
   "source": [
    "lb = aml.leaderboard\n",
    "lb.head(rows=lb.nrows)"
   ]
  },
  {
   "cell_type": "code",
   "execution_count": 125,
   "metadata": {},
   "outputs": [],
   "source": [
    "model = h2o.get_model(lb[0,'model_id'])"
   ]
  },
  {
   "cell_type": "code",
   "execution_count": 126,
   "metadata": {
    "scrolled": true
   },
   "outputs": [
    {
     "name": "stdout",
     "output_type": "stream",
     "text": [
      "Model Details\n",
      "=============\n",
      "H2OStackedEnsembleEstimator :  Stacked Ensemble\n",
      "Model Key:  StackedEnsemble_AllModels_AutoML_20220105_000828\n",
      "\n",
      "No model summary for this model\n",
      "\n",
      "ModelMetricsRegressionGLM: stackedensemble\n",
      "** Reported on train data. **\n",
      "\n",
      "MSE: 58.47588956451796\n",
      "RMSE: 7.646952959481179\n",
      "MAE: 5.928092826418534\n",
      "RMSLE: 0.7088820639964137\n",
      "R^2: 0.16582070810095395\n",
      "Mean Residual Deviance: 58.47588956451796\n",
      "Null degrees of freedom: 183\n",
      "Residual degrees of freedom: 181\n",
      "Null deviance: 12898.382619132974\n",
      "Residual deviance: 10759.563679871306\n",
      "AIC: 1278.794452835286\n",
      "\n",
      "ModelMetricsRegressionGLM: stackedensemble\n",
      "** Reported on cross-validation data. **\n",
      "\n",
      "MSE: 71.28271662340953\n",
      "RMSE: 8.442909251165117\n",
      "MAE: 6.676387036135898\n",
      "RMSLE: 0.7890514982264365\n",
      "R^2: -0.01687321937957953\n",
      "Mean Residual Deviance: 71.28271662340953\n",
      "Null degrees of freedom: 183\n",
      "Residual degrees of freedom: 182\n",
      "Null deviance: 12941.923287730318\n",
      "Residual deviance: 13116.019858707354\n",
      "AIC: 1313.2336967957285\n"
     ]
    },
    {
     "data": {
      "text/plain": []
     },
     "execution_count": 126,
     "metadata": {},
     "output_type": "execute_result"
    }
   ],
   "source": [
    "model"
   ]
  },
  {
   "cell_type": "code",
   "execution_count": 127,
   "metadata": {},
   "outputs": [
    {
     "name": "stdout",
     "output_type": "stream",
     "text": [
      "stackedensemble prediction progress: |████████████████████████████████████| 100%\n"
     ]
    }
   ],
   "source": [
    "preds = model.predict(test)"
   ]
  },
  {
   "cell_type": "code",
   "execution_count": 128,
   "metadata": {},
   "outputs": [
    {
     "data": {
      "text/html": [
       "<table>\n",
       "<thead>\n",
       "<tr><th style=\"text-align: right;\">  predict</th></tr>\n",
       "</thead>\n",
       "<tbody>\n",
       "<tr><td style=\"text-align: right;\">  8.54169</td></tr>\n",
       "<tr><td style=\"text-align: right;\">  8.92152</td></tr>\n",
       "<tr><td style=\"text-align: right;\">  8.58393</td></tr>\n",
       "<tr><td style=\"text-align: right;\">  9.38689</td></tr>\n",
       "<tr><td style=\"text-align: right;\">  9.50305</td></tr>\n",
       "<tr><td style=\"text-align: right;\">  9.39518</td></tr>\n",
       "<tr><td style=\"text-align: right;\"> 10.0904 </td></tr>\n",
       "<tr><td style=\"text-align: right;\">  7.97508</td></tr>\n",
       "<tr><td style=\"text-align: right;\">  8.5969 </td></tr>\n",
       "<tr><td style=\"text-align: right;\">  7.98573</td></tr>\n",
       "</tbody>\n",
       "</table>"
      ]
     },
     "metadata": {},
     "output_type": "display_data"
    },
    {
     "data": {
      "text/plain": []
     },
     "execution_count": 128,
     "metadata": {},
     "output_type": "execute_result"
    }
   ],
   "source": [
    "preds"
   ]
  },
  {
   "cell_type": "code",
   "execution_count": 129,
   "metadata": {
    "scrolled": true
   },
   "outputs": [
    {
     "data": {
      "text/plain": [
       "9.261780    1\n",
       "7.975080    1\n",
       "9.289172    1\n",
       "8.596900    1\n",
       "9.351723    1\n",
       "           ..\n",
       "8.543211    1\n",
       "3.701302    1\n",
       "8.438204    1\n",
       "9.513583    1\n",
       "7.558836    1\n",
       "Name: predict, Length: 79, dtype: int64"
      ]
     },
     "execution_count": 129,
     "metadata": {},
     "output_type": "execute_result"
    }
   ],
   "source": [
    "pd_preds = preds.as_data_frame()\n",
    "pd_preds['predict'].value_counts()"
   ]
  },
  {
   "cell_type": "code",
   "execution_count": 130,
   "metadata": {},
   "outputs": [
    {
     "data": {
      "text/html": [
       "<table>\n",
       "<thead>\n",
       "<tr><th style=\"text-align: right;\">  cbo_mean</th><th style=\"text-align: right;\">  cbo_min</th><th style=\"text-align: right;\">  cbo_max</th><th style=\"text-align: right;\">  cbo_std</th><th style=\"text-align: right;\">  wmc_mean</th><th style=\"text-align: right;\">  wmc_min</th><th style=\"text-align: right;\">  wmc_max</th><th style=\"text-align: right;\">  wmc_std</th><th style=\"text-align: right;\">  dit_mean</th><th style=\"text-align: right;\">  dit_min</th><th style=\"text-align: right;\">  dit_max</th><th style=\"text-align: right;\">  dit_std</th><th style=\"text-align: right;\">  rfc_mean</th><th style=\"text-align: right;\">  rfc_min</th><th style=\"text-align: right;\">  rfc_max</th><th style=\"text-align: right;\">  rfc_std</th><th style=\"text-align: right;\">  lcom_mean</th><th style=\"text-align: right;\">  lcom_min</th><th style=\"text-align: right;\">  lcom_max</th><th style=\"text-align: right;\">  lcom_std</th><th style=\"text-align: right;\">  totalMethods_mean</th><th style=\"text-align: right;\">  totalMethods_min</th><th style=\"text-align: right;\">  totalMethods_max</th><th style=\"text-align: right;\">  totalMethods_std</th><th style=\"text-align: right;\">  staticMethods_mean</th><th style=\"text-align: right;\">  staticMethods_min</th><th style=\"text-align: right;\">  staticMethods_max</th><th style=\"text-align: right;\">  staticMethods_std</th><th style=\"text-align: right;\">  publicMethods_mean</th><th style=\"text-align: right;\">  publicMethods_min</th><th style=\"text-align: right;\">  publicMethods_max</th><th style=\"text-align: right;\">  publicMethods_std</th><th style=\"text-align: right;\">  privateMethods_mean</th><th style=\"text-align: right;\">  privateMethods_min</th><th style=\"text-align: right;\">  privateMethods_max</th><th style=\"text-align: right;\">  privateMethods_std</th><th style=\"text-align: right;\">  protectedMethods_mean</th><th style=\"text-align: right;\">  protectedMethods_min</th><th style=\"text-align: right;\">  protectedMethods_max</th><th style=\"text-align: right;\">  protectedMethods_std</th><th style=\"text-align: right;\">  defaultMethods_mean</th><th style=\"text-align: right;\">  defaultMethods_min</th><th style=\"text-align: right;\">  defaultMethods_max</th><th style=\"text-align: right;\">  defaultMethods_std</th><th style=\"text-align: right;\">  abstractMethods_mean</th><th style=\"text-align: right;\">  abstractMethods_min</th><th style=\"text-align: right;\">  abstractMethods_max</th><th style=\"text-align: right;\">  abstractMethods_std</th><th style=\"text-align: right;\">  finalMethods_mean</th><th style=\"text-align: right;\">  finalMethods_min</th><th style=\"text-align: right;\">  finalMethods_max</th><th style=\"text-align: right;\">  finalMethods_std</th><th style=\"text-align: right;\">  synchronizedMethods_mean</th><th style=\"text-align: right;\">  synchronizedMethods_min</th><th style=\"text-align: right;\">  synchronizedMethods_max</th><th style=\"text-align: right;\">  synchronizedMethods_std</th><th style=\"text-align: right;\">  totalFields_mean</th><th style=\"text-align: right;\">  totalFields_min</th><th style=\"text-align: right;\">  totalFields_max</th><th style=\"text-align: right;\">  totalFields_std</th><th style=\"text-align: right;\">  staticFields_mean</th><th style=\"text-align: right;\">  staticFields_min</th><th style=\"text-align: right;\">  staticFields_max</th><th style=\"text-align: right;\">  staticFields_std</th><th style=\"text-align: right;\">  publicFields_mean</th><th style=\"text-align: right;\">  publicFields_min</th><th style=\"text-align: right;\">  publicFields_max</th><th style=\"text-align: right;\">  publicFields_std</th><th style=\"text-align: right;\">  privateFields_mean</th><th style=\"text-align: right;\">  privateFields_min</th><th style=\"text-align: right;\">  privateFields_max</th><th style=\"text-align: right;\">  privateFields_std</th><th style=\"text-align: right;\">  protectedFields_mean</th><th style=\"text-align: right;\">  protectedFields_min</th><th style=\"text-align: right;\">  protectedFields_max</th><th style=\"text-align: right;\">  protectedFields_std</th><th style=\"text-align: right;\">  defaultFields_mean</th><th style=\"text-align: right;\">  defaultFields_min</th><th style=\"text-align: right;\">  defaultFields_max</th><th style=\"text-align: right;\">  defaultFields_std</th><th style=\"text-align: right;\">  finalFields_mean</th><th style=\"text-align: right;\">  finalFields_min</th><th style=\"text-align: right;\">  finalFields_max</th><th style=\"text-align: right;\">  finalFields_std</th><th style=\"text-align: right;\">  synchronizedFields_mean</th><th style=\"text-align: right;\">  synchronizedFields_min</th><th style=\"text-align: right;\">  synchronizedFields_max</th><th style=\"text-align: right;\">  synchronizedFields_std</th><th style=\"text-align: right;\">  nosi_mean</th><th style=\"text-align: right;\">  nosi_min</th><th style=\"text-align: right;\">  nosi_max</th><th style=\"text-align: right;\">  nosi_std</th><th style=\"text-align: right;\">  loc_mean</th><th style=\"text-align: right;\">  loc_min</th><th style=\"text-align: right;\">  loc_max</th><th style=\"text-align: right;\">  loc_std</th><th style=\"text-align: right;\">  returnQty_mean</th><th style=\"text-align: right;\">  returnQty_min</th><th style=\"text-align: right;\">  returnQty_max</th><th style=\"text-align: right;\">  returnQty_std</th><th style=\"text-align: right;\">  loopQty_mean</th><th style=\"text-align: right;\">  loopQty_min</th><th style=\"text-align: right;\">  loopQty_max</th><th style=\"text-align: right;\">  loopQty_std</th><th style=\"text-align: right;\">  comparisonsQty_mean</th><th style=\"text-align: right;\">  comparisonsQty_min</th><th style=\"text-align: right;\">  comparisonsQty_max</th><th style=\"text-align: right;\">  comparisonsQty_std</th><th style=\"text-align: right;\">  tryCatchQty_mean</th><th style=\"text-align: right;\">  tryCatchQty_min</th><th style=\"text-align: right;\">  tryCatchQty_max</th><th style=\"text-align: right;\">  tryCatchQty_std</th><th style=\"text-align: right;\">  parenthesizedExpsQty_mean</th><th style=\"text-align: right;\">  parenthesizedExpsQty_min</th><th style=\"text-align: right;\">  parenthesizedExpsQty_max</th><th style=\"text-align: right;\">  parenthesizedExpsQty_std</th><th style=\"text-align: right;\">  stringLiteralsQty_mean</th><th style=\"text-align: right;\">  stringLiteralsQty_min</th><th style=\"text-align: right;\">  stringLiteralsQty_max</th><th style=\"text-align: right;\">  stringLiteralsQty_std</th><th style=\"text-align: right;\">  numbersQty_mean</th><th style=\"text-align: right;\">  numbersQty_min</th><th style=\"text-align: right;\">  numbersQty_max</th><th style=\"text-align: right;\">  numbersQty_std</th><th style=\"text-align: right;\">  assignmentsQty_mean</th><th style=\"text-align: right;\">  assignmentsQty_min</th><th style=\"text-align: right;\">  assignmentsQty_max</th><th style=\"text-align: right;\">  assignmentsQty_std</th><th style=\"text-align: right;\">  mathOperationsQty_mean</th><th style=\"text-align: right;\">  mathOperationsQty_min</th><th style=\"text-align: right;\">  mathOperationsQty_max</th><th style=\"text-align: right;\">  mathOperationsQty_std</th><th style=\"text-align: right;\">  variablesQty_mean</th><th style=\"text-align: right;\">  variablesQty_min</th><th style=\"text-align: right;\">  variablesQty_max</th><th style=\"text-align: right;\">  variablesQty_std</th><th style=\"text-align: right;\">  maxNestedBlocks_mean</th><th style=\"text-align: right;\">  maxNestedBlocks_min</th><th style=\"text-align: right;\">  maxNestedBlocks_max</th><th style=\"text-align: right;\">  maxNestedBlocks_std</th><th style=\"text-align: right;\">  anonymousClassesQty_mean</th><th style=\"text-align: right;\">  anonymousClassesQty_min</th><th style=\"text-align: right;\">  anonymousClassesQty_max</th><th style=\"text-align: right;\">  anonymousClassesQty_std</th><th style=\"text-align: right;\">  subClassesQty_mean</th><th style=\"text-align: right;\">  subClassesQty_min</th><th style=\"text-align: right;\">  subClassesQty_max</th><th style=\"text-align: right;\">  subClassesQty_std</th><th style=\"text-align: right;\">  lambdasQty_mean</th><th style=\"text-align: right;\">  lambdasQty_min</th><th style=\"text-align: right;\">  lambdasQty_max</th><th style=\"text-align: right;\">  lambdasQty_std</th><th style=\"text-align: right;\">  uniqueWordsQty_mean</th><th style=\"text-align: right;\">  uniqueWordsQty_min</th><th style=\"text-align: right;\">  uniqueWordsQty_max</th><th style=\"text-align: right;\">  uniqueWordsQty_std</th><th style=\"text-align: right;\">  modifiers_mean</th><th style=\"text-align: right;\">  modifiers_min</th><th style=\"text-align: right;\">  modifiers_max</th><th style=\"text-align: right;\">  modifiers_std</th><th style=\"text-align: right;\">  num_dependency_mean</th><th style=\"text-align: right;\">  num_line_affected_mean</th><th style=\"text-align: right;\">  refactoring_perc_time_taken</th></tr>\n",
       "</thead>\n",
       "<tbody>\n",
       "<tr><td style=\"text-align: right;\">   11     </td><td style=\"text-align: right;\">       11</td><td style=\"text-align: right;\">       11</td><td style=\"text-align: right;\">  0      </td><td style=\"text-align: right;\">   8      </td><td style=\"text-align: right;\">        8</td><td style=\"text-align: right;\">        8</td><td style=\"text-align: right;\">  0      </td><td style=\"text-align: right;\">   2      </td><td style=\"text-align: right;\">        2</td><td style=\"text-align: right;\">        2</td><td style=\"text-align: right;\"> 0       </td><td style=\"text-align: right;\">    9     </td><td style=\"text-align: right;\">        9</td><td style=\"text-align: right;\">        9</td><td style=\"text-align: right;\">  0      </td><td style=\"text-align: right;\">    15     </td><td style=\"text-align: right;\">        15</td><td style=\"text-align: right;\">        15</td><td style=\"text-align: right;\">    0     </td><td style=\"text-align: right;\">            6      </td><td style=\"text-align: right;\">                 6</td><td style=\"text-align: right;\">                 6</td><td style=\"text-align: right;\">           0      </td><td style=\"text-align: right;\">            0       </td><td style=\"text-align: right;\">                  0</td><td style=\"text-align: right;\">                  0</td><td style=\"text-align: right;\">           0       </td><td style=\"text-align: right;\">             6      </td><td style=\"text-align: right;\">                  6</td><td style=\"text-align: right;\">                  6</td><td style=\"text-align: right;\">           0       </td><td style=\"text-align: right;\">             0       </td><td style=\"text-align: right;\">                   0</td><td style=\"text-align: right;\">                   0</td><td style=\"text-align: right;\">            0       </td><td style=\"text-align: right;\">                0      </td><td style=\"text-align: right;\">                     0</td><td style=\"text-align: right;\">                     0</td><td style=\"text-align: right;\">               0      </td><td style=\"text-align: right;\">                    0</td><td style=\"text-align: right;\">                   0</td><td style=\"text-align: right;\">                   0</td><td style=\"text-align: right;\">                   0</td><td style=\"text-align: right;\">                     0</td><td style=\"text-align: right;\">                    0</td><td style=\"text-align: right;\">                    0</td><td style=\"text-align: right;\">                    0</td><td style=\"text-align: right;\">           0       </td><td style=\"text-align: right;\">                 0</td><td style=\"text-align: right;\">                 0</td><td style=\"text-align: right;\">          0       </td><td style=\"text-align: right;\">                  0       </td><td style=\"text-align: right;\">                        0</td><td style=\"text-align: right;\">                        0</td><td style=\"text-align: right;\">                 0       </td><td style=\"text-align: right;\">           0      </td><td style=\"text-align: right;\">                0</td><td style=\"text-align: right;\">                0</td><td style=\"text-align: right;\">          0      </td><td style=\"text-align: right;\">            0      </td><td style=\"text-align: right;\">                 0</td><td style=\"text-align: right;\">                 0</td><td style=\"text-align: right;\">           0      </td><td style=\"text-align: right;\">            0      </td><td style=\"text-align: right;\">                 0</td><td style=\"text-align: right;\">                 0</td><td style=\"text-align: right;\">           0      </td><td style=\"text-align: right;\">             0      </td><td style=\"text-align: right;\">                  0</td><td style=\"text-align: right;\">                  0</td><td style=\"text-align: right;\">            0      </td><td style=\"text-align: right;\">                     0</td><td style=\"text-align: right;\">                    0</td><td style=\"text-align: right;\">                    0</td><td style=\"text-align: right;\">                    0</td><td style=\"text-align: right;\">                   0</td><td style=\"text-align: right;\">                  0</td><td style=\"text-align: right;\">                  0</td><td style=\"text-align: right;\">                  0</td><td style=\"text-align: right;\">           0      </td><td style=\"text-align: right;\">                0</td><td style=\"text-align: right;\">                0</td><td style=\"text-align: right;\">          0      </td><td style=\"text-align: right;\">                        0</td><td style=\"text-align: right;\">                       0</td><td style=\"text-align: right;\">                       0</td><td style=\"text-align: right;\">                       0</td><td style=\"text-align: right;\">    2      </td><td style=\"text-align: right;\">         2</td><td style=\"text-align: right;\">         2</td><td style=\"text-align: right;\">   0      </td><td style=\"text-align: right;\">   63     </td><td style=\"text-align: right;\">       63</td><td style=\"text-align: right;\">       63</td><td style=\"text-align: right;\">   0     </td><td style=\"text-align: right;\">        4       </td><td style=\"text-align: right;\">              4</td><td style=\"text-align: right;\">              4</td><td style=\"text-align: right;\">       0       </td><td style=\"text-align: right;\">       0      </td><td style=\"text-align: right;\">            0</td><td style=\"text-align: right;\">            0</td><td style=\"text-align: right;\">     0       </td><td style=\"text-align: right;\">             0       </td><td style=\"text-align: right;\">                   0</td><td style=\"text-align: right;\">                   0</td><td style=\"text-align: right;\">            0       </td><td style=\"text-align: right;\">           3      </td><td style=\"text-align: right;\">                3</td><td style=\"text-align: right;\">                3</td><td style=\"text-align: right;\">          0      </td><td style=\"text-align: right;\">                   0       </td><td style=\"text-align: right;\">                         0</td><td style=\"text-align: right;\">                         0</td><td style=\"text-align: right;\">                  0       </td><td style=\"text-align: right;\">                 6      </td><td style=\"text-align: right;\">                      6</td><td style=\"text-align: right;\">                      6</td><td style=\"text-align: right;\">                 0     </td><td style=\"text-align: right;\">          2      </td><td style=\"text-align: right;\">               2</td><td style=\"text-align: right;\">               2</td><td style=\"text-align: right;\">         0      </td><td style=\"text-align: right;\">               4     </td><td style=\"text-align: right;\">                   4</td><td style=\"text-align: right;\">                   4</td><td style=\"text-align: right;\">              0     </td><td style=\"text-align: right;\">                 0      </td><td style=\"text-align: right;\">                      0</td><td style=\"text-align: right;\">                      0</td><td style=\"text-align: right;\">                0      </td><td style=\"text-align: right;\">             4     </td><td style=\"text-align: right;\">                 4</td><td style=\"text-align: right;\">                 4</td><td style=\"text-align: right;\">            0     </td><td style=\"text-align: right;\">               3      </td><td style=\"text-align: right;\">                    3</td><td style=\"text-align: right;\">                    3</td><td style=\"text-align: right;\">              0      </td><td style=\"text-align: right;\">                  0       </td><td style=\"text-align: right;\">                        0</td><td style=\"text-align: right;\">                        0</td><td style=\"text-align: right;\">                 0       </td><td style=\"text-align: right;\">            0       </td><td style=\"text-align: right;\">                  0</td><td style=\"text-align: right;\">                  0</td><td style=\"text-align: right;\">           0       </td><td style=\"text-align: right;\">         1       </td><td style=\"text-align: right;\">               1</td><td style=\"text-align: right;\">               1</td><td style=\"text-align: right;\">        0       </td><td style=\"text-align: right;\">              58     </td><td style=\"text-align: right;\">                  58</td><td style=\"text-align: right;\">                  58</td><td style=\"text-align: right;\">              0     </td><td style=\"text-align: right;\">        17      </td><td style=\"text-align: right;\">             17</td><td style=\"text-align: right;\">             17</td><td style=\"text-align: right;\">        0      </td><td style=\"text-align: right;\">              85     </td><td style=\"text-align: right;\">                  61    </td><td style=\"text-align: right;\">                     15      </td></tr>\n",
       "<tr><td style=\"text-align: right;\">   23.25  </td><td style=\"text-align: right;\">        5</td><td style=\"text-align: right;\">       63</td><td style=\"text-align: right;\"> 20.7808 </td><td style=\"text-align: right;\">  20.6667 </td><td style=\"text-align: right;\">        4</td><td style=\"text-align: right;\">       64</td><td style=\"text-align: right;\"> 21.9931 </td><td style=\"text-align: right;\">   2      </td><td style=\"text-align: right;\">        1</td><td style=\"text-align: right;\">        3</td><td style=\"text-align: right;\"> 0.852803</td><td style=\"text-align: right;\">   40.4167</td><td style=\"text-align: right;\">        3</td><td style=\"text-align: right;\">      111</td><td style=\"text-align: right;\"> 41.3597 </td><td style=\"text-align: right;\">    27.1667</td><td style=\"text-align: right;\">         0</td><td style=\"text-align: right;\">       106</td><td style=\"text-align: right;\">   39.3512</td><td style=\"text-align: right;\">           15      </td><td style=\"text-align: right;\">                 3</td><td style=\"text-align: right;\">                37</td><td style=\"text-align: right;\">          13.1978 </td><td style=\"text-align: right;\">            0.166667</td><td style=\"text-align: right;\">                  0</td><td style=\"text-align: right;\">                  1</td><td style=\"text-align: right;\">           0.389249</td><td style=\"text-align: right;\">            13.1667 </td><td style=\"text-align: right;\">                  3</td><td style=\"text-align: right;\">                 35</td><td style=\"text-align: right;\">          13.4221  </td><td style=\"text-align: right;\">             0.25    </td><td style=\"text-align: right;\">                   0</td><td style=\"text-align: right;\">                   1</td><td style=\"text-align: right;\">            0.452267</td><td style=\"text-align: right;\">                1.33333</td><td style=\"text-align: right;\">                     0</td><td style=\"text-align: right;\">                     4</td><td style=\"text-align: right;\">               1.96946</td><td style=\"text-align: right;\">                    0</td><td style=\"text-align: right;\">                   0</td><td style=\"text-align: right;\">                   0</td><td style=\"text-align: right;\">                   0</td><td style=\"text-align: right;\">                     0</td><td style=\"text-align: right;\">                    0</td><td style=\"text-align: right;\">                    0</td><td style=\"text-align: right;\">                    0</td><td style=\"text-align: right;\">           0       </td><td style=\"text-align: right;\">                 0</td><td style=\"text-align: right;\">                 0</td><td style=\"text-align: right;\">          0       </td><td style=\"text-align: right;\">                  0.166667</td><td style=\"text-align: right;\">                        0</td><td style=\"text-align: right;\">                        1</td><td style=\"text-align: right;\">                 0.389249</td><td style=\"text-align: right;\">           7.66667</td><td style=\"text-align: right;\">                2</td><td style=\"text-align: right;\">               21</td><td style=\"text-align: right;\">          7.30297</td><td style=\"text-align: right;\">            1.66667</td><td style=\"text-align: right;\">                 0</td><td style=\"text-align: right;\">                 6</td><td style=\"text-align: right;\">           2.14617</td><td style=\"text-align: right;\">            1.16667</td><td style=\"text-align: right;\">                 0</td><td style=\"text-align: right;\">                 5</td><td style=\"text-align: right;\">           1.94625</td><td style=\"text-align: right;\">             6.5    </td><td style=\"text-align: right;\">                  2</td><td style=\"text-align: right;\">                 21</td><td style=\"text-align: right;\">            7.42845</td><td style=\"text-align: right;\">                     0</td><td style=\"text-align: right;\">                    0</td><td style=\"text-align: right;\">                    0</td><td style=\"text-align: right;\">                    0</td><td style=\"text-align: right;\">                   0</td><td style=\"text-align: right;\">                  0</td><td style=\"text-align: right;\">                  0</td><td style=\"text-align: right;\">                  0</td><td style=\"text-align: right;\">           4      </td><td style=\"text-align: right;\">                0</td><td style=\"text-align: right;\">               13</td><td style=\"text-align: right;\">          4.82418</td><td style=\"text-align: right;\">                        0</td><td style=\"text-align: right;\">                       0</td><td style=\"text-align: right;\">                       0</td><td style=\"text-align: right;\">                       0</td><td style=\"text-align: right;\">    7.91667</td><td style=\"text-align: right;\">         0</td><td style=\"text-align: right;\">        36</td><td style=\"text-align: right;\">  13.2216 </td><td style=\"text-align: right;\">  193.583 </td><td style=\"text-align: right;\">       37</td><td style=\"text-align: right;\">      531</td><td style=\"text-align: right;\"> 191.017 </td><td style=\"text-align: right;\">        6.5     </td><td style=\"text-align: right;\">              0</td><td style=\"text-align: right;\">             24</td><td style=\"text-align: right;\">       8.5227  </td><td style=\"text-align: right;\">       1.08333</td><td style=\"text-align: right;\">            0</td><td style=\"text-align: right;\">            2</td><td style=\"text-align: right;\">     0.668558</td><td style=\"text-align: right;\">             0.333333</td><td style=\"text-align: right;\">                   0</td><td style=\"text-align: right;\">                   2</td><td style=\"text-align: right;\">            0.778499</td><td style=\"text-align: right;\">           2.58333</td><td style=\"text-align: right;\">                0</td><td style=\"text-align: right;\">               15</td><td style=\"text-align: right;\">          5.80687</td><td style=\"text-align: right;\">                   0.666667</td><td style=\"text-align: right;\">                         0</td><td style=\"text-align: right;\">                         2</td><td style=\"text-align: right;\">                  0.778499</td><td style=\"text-align: right;\">                10.5833 </td><td style=\"text-align: right;\">                      0</td><td style=\"text-align: right;\">                     31</td><td style=\"text-align: right;\">                10.3963</td><td style=\"text-align: right;\">         11.5    </td><td style=\"text-align: right;\">               0</td><td style=\"text-align: right;\">              72</td><td style=\"text-align: right;\">        24.0435 </td><td style=\"text-align: right;\">              27.3333</td><td style=\"text-align: right;\">                   3</td><td style=\"text-align: right;\">                  82</td><td style=\"text-align: right;\">             29.4104</td><td style=\"text-align: right;\">                 2      </td><td style=\"text-align: right;\">                      0</td><td style=\"text-align: right;\">                      5</td><td style=\"text-align: right;\">                2.21565</td><td style=\"text-align: right;\">            26.25  </td><td style=\"text-align: right;\">                 2</td><td style=\"text-align: right;\">                81</td><td style=\"text-align: right;\">           28.848 </td><td style=\"text-align: right;\">               1.58333</td><td style=\"text-align: right;\">                    0</td><td style=\"text-align: right;\">                    3</td><td style=\"text-align: right;\">              1.1645 </td><td style=\"text-align: right;\">                  0       </td><td style=\"text-align: right;\">                        0</td><td style=\"text-align: right;\">                        0</td><td style=\"text-align: right;\">                 0       </td><td style=\"text-align: right;\">            0.333333</td><td style=\"text-align: right;\">                  0</td><td style=\"text-align: right;\">                  2</td><td style=\"text-align: right;\">           0.778499</td><td style=\"text-align: right;\">         4.33333 </td><td style=\"text-align: right;\">               0</td><td style=\"text-align: right;\">              10</td><td style=\"text-align: right;\">        3.8455  </td><td style=\"text-align: right;\">             121.333 </td><td style=\"text-align: right;\">                  37</td><td style=\"text-align: right;\">                 320</td><td style=\"text-align: right;\">             98.919 </td><td style=\"text-align: right;\">         1      </td><td style=\"text-align: right;\">              1</td><td style=\"text-align: right;\">              1</td><td style=\"text-align: right;\">        0      </td><td style=\"text-align: right;\">              57.5833</td><td style=\"text-align: right;\">                 222.667</td><td style=\"text-align: right;\">                      3.71134</td></tr>\n",
       "<tr><td style=\"text-align: right;\">   38     </td><td style=\"text-align: right;\">       38</td><td style=\"text-align: right;\">       38</td><td style=\"text-align: right;\">  0      </td><td style=\"text-align: right;\">  57      </td><td style=\"text-align: right;\">       57</td><td style=\"text-align: right;\">       57</td><td style=\"text-align: right;\">  0      </td><td style=\"text-align: right;\">   1      </td><td style=\"text-align: right;\">        1</td><td style=\"text-align: right;\">        1</td><td style=\"text-align: right;\"> 0       </td><td style=\"text-align: right;\">   81     </td><td style=\"text-align: right;\">       81</td><td style=\"text-align: right;\">       81</td><td style=\"text-align: right;\">  0      </td><td style=\"text-align: right;\">     0     </td><td style=\"text-align: right;\">         0</td><td style=\"text-align: right;\">         0</td><td style=\"text-align: right;\">    0     </td><td style=\"text-align: right;\">           45      </td><td style=\"text-align: right;\">                45</td><td style=\"text-align: right;\">                45</td><td style=\"text-align: right;\">           0      </td><td style=\"text-align: right;\">            1       </td><td style=\"text-align: right;\">                  1</td><td style=\"text-align: right;\">                  1</td><td style=\"text-align: right;\">           0       </td><td style=\"text-align: right;\">            42      </td><td style=\"text-align: right;\">                 42</td><td style=\"text-align: right;\">                 42</td><td style=\"text-align: right;\">           0       </td><td style=\"text-align: right;\">             3       </td><td style=\"text-align: right;\">                   3</td><td style=\"text-align: right;\">                   3</td><td style=\"text-align: right;\">            0       </td><td style=\"text-align: right;\">                0      </td><td style=\"text-align: right;\">                     0</td><td style=\"text-align: right;\">                     0</td><td style=\"text-align: right;\">               0      </td><td style=\"text-align: right;\">                    0</td><td style=\"text-align: right;\">                   0</td><td style=\"text-align: right;\">                   0</td><td style=\"text-align: right;\">                   0</td><td style=\"text-align: right;\">                     0</td><td style=\"text-align: right;\">                    0</td><td style=\"text-align: right;\">                    0</td><td style=\"text-align: right;\">                    0</td><td style=\"text-align: right;\">           0       </td><td style=\"text-align: right;\">                 0</td><td style=\"text-align: right;\">                 0</td><td style=\"text-align: right;\">          0       </td><td style=\"text-align: right;\">                  0       </td><td style=\"text-align: right;\">                        0</td><td style=\"text-align: right;\">                        0</td><td style=\"text-align: right;\">                 0       </td><td style=\"text-align: right;\">          12      </td><td style=\"text-align: right;\">               12</td><td style=\"text-align: right;\">               12</td><td style=\"text-align: right;\">          0      </td><td style=\"text-align: right;\">            1      </td><td style=\"text-align: right;\">                 1</td><td style=\"text-align: right;\">                 1</td><td style=\"text-align: right;\">           0      </td><td style=\"text-align: right;\">            0      </td><td style=\"text-align: right;\">                 0</td><td style=\"text-align: right;\">                 0</td><td style=\"text-align: right;\">           0      </td><td style=\"text-align: right;\">            12      </td><td style=\"text-align: right;\">                 12</td><td style=\"text-align: right;\">                 12</td><td style=\"text-align: right;\">            0      </td><td style=\"text-align: right;\">                     0</td><td style=\"text-align: right;\">                    0</td><td style=\"text-align: right;\">                    0</td><td style=\"text-align: right;\">                    0</td><td style=\"text-align: right;\">                   0</td><td style=\"text-align: right;\">                  0</td><td style=\"text-align: right;\">                  0</td><td style=\"text-align: right;\">                  0</td><td style=\"text-align: right;\">           5      </td><td style=\"text-align: right;\">                5</td><td style=\"text-align: right;\">                5</td><td style=\"text-align: right;\">          0      </td><td style=\"text-align: right;\">                        0</td><td style=\"text-align: right;\">                       0</td><td style=\"text-align: right;\">                       0</td><td style=\"text-align: right;\">                       0</td><td style=\"text-align: right;\">   32      </td><td style=\"text-align: right;\">        32</td><td style=\"text-align: right;\">        32</td><td style=\"text-align: right;\">   0      </td><td style=\"text-align: right;\">  576     </td><td style=\"text-align: right;\">      576</td><td style=\"text-align: right;\">      576</td><td style=\"text-align: right;\">   0     </td><td style=\"text-align: right;\">        2       </td><td style=\"text-align: right;\">              2</td><td style=\"text-align: right;\">              2</td><td style=\"text-align: right;\">       0       </td><td style=\"text-align: right;\">       6      </td><td style=\"text-align: right;\">            6</td><td style=\"text-align: right;\">            6</td><td style=\"text-align: right;\">     0       </td><td style=\"text-align: right;\">             1       </td><td style=\"text-align: right;\">                   1</td><td style=\"text-align: right;\">                   1</td><td style=\"text-align: right;\">            0       </td><td style=\"text-align: right;\">           5      </td><td style=\"text-align: right;\">                5</td><td style=\"text-align: right;\">                5</td><td style=\"text-align: right;\">          0      </td><td style=\"text-align: right;\">                  26       </td><td style=\"text-align: right;\">                        26</td><td style=\"text-align: right;\">                        26</td><td style=\"text-align: right;\">                  0       </td><td style=\"text-align: right;\">                13      </td><td style=\"text-align: right;\">                     13</td><td style=\"text-align: right;\">                     13</td><td style=\"text-align: right;\">                 0     </td><td style=\"text-align: right;\">        159      </td><td style=\"text-align: right;\">             159</td><td style=\"text-align: right;\">             159</td><td style=\"text-align: right;\">         0      </td><td style=\"text-align: right;\">             100     </td><td style=\"text-align: right;\">                 100</td><td style=\"text-align: right;\">                 100</td><td style=\"text-align: right;\">              0     </td><td style=\"text-align: right;\">                85      </td><td style=\"text-align: right;\">                     85</td><td style=\"text-align: right;\">                     85</td><td style=\"text-align: right;\">                0      </td><td style=\"text-align: right;\">            90     </td><td style=\"text-align: right;\">                90</td><td style=\"text-align: right;\">                90</td><td style=\"text-align: right;\">            0     </td><td style=\"text-align: right;\">               1      </td><td style=\"text-align: right;\">                    1</td><td style=\"text-align: right;\">                    1</td><td style=\"text-align: right;\">              0      </td><td style=\"text-align: right;\">                  2       </td><td style=\"text-align: right;\">                        2</td><td style=\"text-align: right;\">                        2</td><td style=\"text-align: right;\">                 0       </td><td style=\"text-align: right;\">            0       </td><td style=\"text-align: right;\">                  0</td><td style=\"text-align: right;\">                  0</td><td style=\"text-align: right;\">           0       </td><td style=\"text-align: right;\">         2       </td><td style=\"text-align: right;\">               2</td><td style=\"text-align: right;\">               2</td><td style=\"text-align: right;\">        0       </td><td style=\"text-align: right;\">             279     </td><td style=\"text-align: right;\">                 279</td><td style=\"text-align: right;\">                 279</td><td style=\"text-align: right;\">              0     </td><td style=\"text-align: right;\">        17      </td><td style=\"text-align: right;\">             17</td><td style=\"text-align: right;\">             17</td><td style=\"text-align: right;\">        0      </td><td style=\"text-align: right;\">             322     </td><td style=\"text-align: right;\">                 764    </td><td style=\"text-align: right;\">                     10      </td></tr>\n",
       "<tr><td style=\"text-align: right;\">    4     </td><td style=\"text-align: right;\">        4</td><td style=\"text-align: right;\">        4</td><td style=\"text-align: right;\">  0      </td><td style=\"text-align: right;\">  15      </td><td style=\"text-align: right;\">       15</td><td style=\"text-align: right;\">       15</td><td style=\"text-align: right;\">  0      </td><td style=\"text-align: right;\">   1      </td><td style=\"text-align: right;\">        1</td><td style=\"text-align: right;\">        1</td><td style=\"text-align: right;\"> 0       </td><td style=\"text-align: right;\">    6     </td><td style=\"text-align: right;\">        6</td><td style=\"text-align: right;\">        6</td><td style=\"text-align: right;\">  0      </td><td style=\"text-align: right;\">    18     </td><td style=\"text-align: right;\">        18</td><td style=\"text-align: right;\">        18</td><td style=\"text-align: right;\">    0     </td><td style=\"text-align: right;\">           12      </td><td style=\"text-align: right;\">                12</td><td style=\"text-align: right;\">                12</td><td style=\"text-align: right;\">           0      </td><td style=\"text-align: right;\">            1       </td><td style=\"text-align: right;\">                  1</td><td style=\"text-align: right;\">                  1</td><td style=\"text-align: right;\">           0       </td><td style=\"text-align: right;\">            11      </td><td style=\"text-align: right;\">                 11</td><td style=\"text-align: right;\">                 11</td><td style=\"text-align: right;\">           0       </td><td style=\"text-align: right;\">             0       </td><td style=\"text-align: right;\">                   0</td><td style=\"text-align: right;\">                   0</td><td style=\"text-align: right;\">            0       </td><td style=\"text-align: right;\">                1      </td><td style=\"text-align: right;\">                     1</td><td style=\"text-align: right;\">                     1</td><td style=\"text-align: right;\">               0      </td><td style=\"text-align: right;\">                    0</td><td style=\"text-align: right;\">                   0</td><td style=\"text-align: right;\">                   0</td><td style=\"text-align: right;\">                   0</td><td style=\"text-align: right;\">                     0</td><td style=\"text-align: right;\">                    0</td><td style=\"text-align: right;\">                    0</td><td style=\"text-align: right;\">                    0</td><td style=\"text-align: right;\">           0       </td><td style=\"text-align: right;\">                 0</td><td style=\"text-align: right;\">                 0</td><td style=\"text-align: right;\">          0       </td><td style=\"text-align: right;\">                  0       </td><td style=\"text-align: right;\">                        0</td><td style=\"text-align: right;\">                        0</td><td style=\"text-align: right;\">                 0       </td><td style=\"text-align: right;\">           3      </td><td style=\"text-align: right;\">                3</td><td style=\"text-align: right;\">                3</td><td style=\"text-align: right;\">          0      </td><td style=\"text-align: right;\">            0      </td><td style=\"text-align: right;\">                 0</td><td style=\"text-align: right;\">                 0</td><td style=\"text-align: right;\">           0      </td><td style=\"text-align: right;\">            0      </td><td style=\"text-align: right;\">                 0</td><td style=\"text-align: right;\">                 0</td><td style=\"text-align: right;\">           0      </td><td style=\"text-align: right;\">             3      </td><td style=\"text-align: right;\">                  3</td><td style=\"text-align: right;\">                  3</td><td style=\"text-align: right;\">            0      </td><td style=\"text-align: right;\">                     0</td><td style=\"text-align: right;\">                    0</td><td style=\"text-align: right;\">                    0</td><td style=\"text-align: right;\">                    0</td><td style=\"text-align: right;\">                   0</td><td style=\"text-align: right;\">                  0</td><td style=\"text-align: right;\">                  0</td><td style=\"text-align: right;\">                  0</td><td style=\"text-align: right;\">           0      </td><td style=\"text-align: right;\">                0</td><td style=\"text-align: right;\">                0</td><td style=\"text-align: right;\">          0      </td><td style=\"text-align: right;\">                        0</td><td style=\"text-align: right;\">                       0</td><td style=\"text-align: right;\">                       0</td><td style=\"text-align: right;\">                       0</td><td style=\"text-align: right;\">    4      </td><td style=\"text-align: right;\">         4</td><td style=\"text-align: right;\">         4</td><td style=\"text-align: right;\">   0      </td><td style=\"text-align: right;\">   64     </td><td style=\"text-align: right;\">       64</td><td style=\"text-align: right;\">       64</td><td style=\"text-align: right;\">   0     </td><td style=\"text-align: right;\">       12       </td><td style=\"text-align: right;\">             12</td><td style=\"text-align: right;\">             12</td><td style=\"text-align: right;\">       0       </td><td style=\"text-align: right;\">       0      </td><td style=\"text-align: right;\">            0</td><td style=\"text-align: right;\">            0</td><td style=\"text-align: right;\">     0       </td><td style=\"text-align: right;\">             2       </td><td style=\"text-align: right;\">                   2</td><td style=\"text-align: right;\">                   2</td><td style=\"text-align: right;\">            0       </td><td style=\"text-align: right;\">           0      </td><td style=\"text-align: right;\">                0</td><td style=\"text-align: right;\">                0</td><td style=\"text-align: right;\">          0      </td><td style=\"text-align: right;\">                   0       </td><td style=\"text-align: right;\">                         0</td><td style=\"text-align: right;\">                         0</td><td style=\"text-align: right;\">                  0       </td><td style=\"text-align: right;\">                 3      </td><td style=\"text-align: right;\">                      3</td><td style=\"text-align: right;\">                      3</td><td style=\"text-align: right;\">                 0     </td><td style=\"text-align: right;\">          0      </td><td style=\"text-align: right;\">               0</td><td style=\"text-align: right;\">               0</td><td style=\"text-align: right;\">         0      </td><td style=\"text-align: right;\">               7     </td><td style=\"text-align: right;\">                   7</td><td style=\"text-align: right;\">                   7</td><td style=\"text-align: right;\">              0     </td><td style=\"text-align: right;\">                 0      </td><td style=\"text-align: right;\">                      0</td><td style=\"text-align: right;\">                      0</td><td style=\"text-align: right;\">                0      </td><td style=\"text-align: right;\">             4     </td><td style=\"text-align: right;\">                 4</td><td style=\"text-align: right;\">                 4</td><td style=\"text-align: right;\">            0     </td><td style=\"text-align: right;\">               1      </td><td style=\"text-align: right;\">                    1</td><td style=\"text-align: right;\">                    1</td><td style=\"text-align: right;\">              0      </td><td style=\"text-align: right;\">                  0       </td><td style=\"text-align: right;\">                        0</td><td style=\"text-align: right;\">                        0</td><td style=\"text-align: right;\">                 0       </td><td style=\"text-align: right;\">            0       </td><td style=\"text-align: right;\">                  0</td><td style=\"text-align: right;\">                  0</td><td style=\"text-align: right;\">           0       </td><td style=\"text-align: right;\">         0       </td><td style=\"text-align: right;\">               0</td><td style=\"text-align: right;\">               0</td><td style=\"text-align: right;\">        0       </td><td style=\"text-align: right;\">             108     </td><td style=\"text-align: right;\">                 108</td><td style=\"text-align: right;\">                 108</td><td style=\"text-align: right;\">              0     </td><td style=\"text-align: right;\">         1      </td><td style=\"text-align: right;\">              1</td><td style=\"text-align: right;\">              1</td><td style=\"text-align: right;\">        0      </td><td style=\"text-align: right;\">             371     </td><td style=\"text-align: right;\">                 115    </td><td style=\"text-align: right;\">                      9.4875 </td></tr>\n",
       "<tr><td style=\"text-align: right;\">   15.1429</td><td style=\"text-align: right;\">        9</td><td style=\"text-align: right;\">       23</td><td style=\"text-align: right;\">  4.74091</td><td style=\"text-align: right;\">   9.71429</td><td style=\"text-align: right;\">        3</td><td style=\"text-align: right;\">       41</td><td style=\"text-align: right;\"> 13.9608 </td><td style=\"text-align: right;\">   1.71429</td><td style=\"text-align: right;\">        1</td><td style=\"text-align: right;\">        2</td><td style=\"text-align: right;\"> 0.48795 </td><td style=\"text-align: right;\">   19.4286</td><td style=\"text-align: right;\">       11</td><td style=\"text-align: right;\">       36</td><td style=\"text-align: right;\">  9.65845</td><td style=\"text-align: right;\">    37.1429</td><td style=\"text-align: right;\">         0</td><td style=\"text-align: right;\">       256</td><td style=\"text-align: right;\">   96.5184</td><td style=\"text-align: right;\">            5.57143</td><td style=\"text-align: right;\">                 1</td><td style=\"text-align: right;\">                24</td><td style=\"text-align: right;\">           8.18244</td><td style=\"text-align: right;\">            0.142857</td><td style=\"text-align: right;\">                  0</td><td style=\"text-align: right;\">                  1</td><td style=\"text-align: right;\">           0.377964</td><td style=\"text-align: right;\">             5.14286</td><td style=\"text-align: right;\">                  1</td><td style=\"text-align: right;\">                 23</td><td style=\"text-align: right;\">           7.90419 </td><td style=\"text-align: right;\">             0.428571</td><td style=\"text-align: right;\">                   0</td><td style=\"text-align: right;\">                   2</td><td style=\"text-align: right;\">            0.786796</td><td style=\"text-align: right;\">                0      </td><td style=\"text-align: right;\">                     0</td><td style=\"text-align: right;\">                     0</td><td style=\"text-align: right;\">               0      </td><td style=\"text-align: right;\">                    0</td><td style=\"text-align: right;\">                   0</td><td style=\"text-align: right;\">                   0</td><td style=\"text-align: right;\">                   0</td><td style=\"text-align: right;\">                     0</td><td style=\"text-align: right;\">                    0</td><td style=\"text-align: right;\">                    0</td><td style=\"text-align: right;\">                    0</td><td style=\"text-align: right;\">           0.142857</td><td style=\"text-align: right;\">                 0</td><td style=\"text-align: right;\">                 1</td><td style=\"text-align: right;\">          0.377964</td><td style=\"text-align: right;\">                  0       </td><td style=\"text-align: right;\">                        0</td><td style=\"text-align: right;\">                        0</td><td style=\"text-align: right;\">                 0       </td><td style=\"text-align: right;\">           4.57143</td><td style=\"text-align: right;\">                2</td><td style=\"text-align: right;\">                9</td><td style=\"text-align: right;\">          2.87849</td><td style=\"text-align: right;\">            2.57143</td><td style=\"text-align: right;\">                 0</td><td style=\"text-align: right;\">                 6</td><td style=\"text-align: right;\">           2.37045</td><td style=\"text-align: right;\">            1.71429</td><td style=\"text-align: right;\">                 1</td><td style=\"text-align: right;\">                 3</td><td style=\"text-align: right;\">           0.95119</td><td style=\"text-align: right;\">             2.85714</td><td style=\"text-align: right;\">                  1</td><td style=\"text-align: right;\">                  6</td><td style=\"text-align: right;\">            2.1157 </td><td style=\"text-align: right;\">                     0</td><td style=\"text-align: right;\">                    0</td><td style=\"text-align: right;\">                    0</td><td style=\"text-align: right;\">                    0</td><td style=\"text-align: right;\">                   0</td><td style=\"text-align: right;\">                  0</td><td style=\"text-align: right;\">                  0</td><td style=\"text-align: right;\">                  0</td><td style=\"text-align: right;\">           1.57143</td><td style=\"text-align: right;\">                0</td><td style=\"text-align: right;\">                5</td><td style=\"text-align: right;\">          1.81265</td><td style=\"text-align: right;\">                        0</td><td style=\"text-align: right;\">                       0</td><td style=\"text-align: right;\">                       0</td><td style=\"text-align: right;\">                       0</td><td style=\"text-align: right;\">    6.85714</td><td style=\"text-align: right;\">         0</td><td style=\"text-align: right;\">        14</td><td style=\"text-align: right;\">   5.17779</td><td style=\"text-align: right;\">   98.7143</td><td style=\"text-align: right;\">       44</td><td style=\"text-align: right;\">      258</td><td style=\"text-align: right;\">  77.0167</td><td style=\"text-align: right;\">        0.142857</td><td style=\"text-align: right;\">              0</td><td style=\"text-align: right;\">              1</td><td style=\"text-align: right;\">       0.377964</td><td style=\"text-align: right;\">       2.42857</td><td style=\"text-align: right;\">            0</td><td style=\"text-align: right;\">            6</td><td style=\"text-align: right;\">     1.98806 </td><td style=\"text-align: right;\">             0       </td><td style=\"text-align: right;\">                   0</td><td style=\"text-align: right;\">                   0</td><td style=\"text-align: right;\">            0       </td><td style=\"text-align: right;\">           0      </td><td style=\"text-align: right;\">                0</td><td style=\"text-align: right;\">                0</td><td style=\"text-align: right;\">          0      </td><td style=\"text-align: right;\">                   0.285714</td><td style=\"text-align: right;\">                         0</td><td style=\"text-align: right;\">                         2</td><td style=\"text-align: right;\">                  0.755929</td><td style=\"text-align: right;\">                 7.71429</td><td style=\"text-align: right;\">                      0</td><td style=\"text-align: right;\">                     33</td><td style=\"text-align: right;\">                11.4414</td><td style=\"text-align: right;\">          8.85714</td><td style=\"text-align: right;\">               0</td><td style=\"text-align: right;\">              32</td><td style=\"text-align: right;\">        10.6682 </td><td style=\"text-align: right;\">              17     </td><td style=\"text-align: right;\">                   6</td><td style=\"text-align: right;\">                  47</td><td style=\"text-align: right;\">             14.7309</td><td style=\"text-align: right;\">                 6.28571</td><td style=\"text-align: right;\">                      0</td><td style=\"text-align: right;\">                     26</td><td style=\"text-align: right;\">                9.06852</td><td style=\"text-align: right;\">            14.7143</td><td style=\"text-align: right;\">                 6</td><td style=\"text-align: right;\">                36</td><td style=\"text-align: right;\">           11.1163</td><td style=\"text-align: right;\">               1      </td><td style=\"text-align: right;\">                    0</td><td style=\"text-align: right;\">                    2</td><td style=\"text-align: right;\">              0.57735</td><td style=\"text-align: right;\">                  0.285714</td><td style=\"text-align: right;\">                        0</td><td style=\"text-align: right;\">                        2</td><td style=\"text-align: right;\">                 0.755929</td><td style=\"text-align: right;\">            0.428571</td><td style=\"text-align: right;\">                  0</td><td style=\"text-align: right;\">                  2</td><td style=\"text-align: right;\">           0.786796</td><td style=\"text-align: right;\">         0.142857</td><td style=\"text-align: right;\">               0</td><td style=\"text-align: right;\">               1</td><td style=\"text-align: right;\">        0.377964</td><td style=\"text-align: right;\">              78.4286</td><td style=\"text-align: right;\">                  39</td><td style=\"text-align: right;\">                 162</td><td style=\"text-align: right;\">             51.9803</td><td style=\"text-align: right;\">         7.85714</td><td style=\"text-align: right;\">              1</td><td style=\"text-align: right;\">             17</td><td style=\"text-align: right;\">        8.55236</td><td style=\"text-align: right;\">              46.8571</td><td style=\"text-align: right;\">                 103    </td><td style=\"text-align: right;\">                      2      </td></tr>\n",
       "<tr><td style=\"text-align: right;\">    3     </td><td style=\"text-align: right;\">        3</td><td style=\"text-align: right;\">        3</td><td style=\"text-align: right;\">  0      </td><td style=\"text-align: right;\">   5      </td><td style=\"text-align: right;\">        5</td><td style=\"text-align: right;\">        5</td><td style=\"text-align: right;\">  0      </td><td style=\"text-align: right;\">   1      </td><td style=\"text-align: right;\">        1</td><td style=\"text-align: right;\">        1</td><td style=\"text-align: right;\"> 0       </td><td style=\"text-align: right;\">    5     </td><td style=\"text-align: right;\">        5</td><td style=\"text-align: right;\">        5</td><td style=\"text-align: right;\">  0      </td><td style=\"text-align: right;\">     2     </td><td style=\"text-align: right;\">         2</td><td style=\"text-align: right;\">         2</td><td style=\"text-align: right;\">    0     </td><td style=\"text-align: right;\">            5      </td><td style=\"text-align: right;\">                 5</td><td style=\"text-align: right;\">                 5</td><td style=\"text-align: right;\">           0      </td><td style=\"text-align: right;\">            0       </td><td style=\"text-align: right;\">                  0</td><td style=\"text-align: right;\">                  0</td><td style=\"text-align: right;\">           0       </td><td style=\"text-align: right;\">             5      </td><td style=\"text-align: right;\">                  5</td><td style=\"text-align: right;\">                  5</td><td style=\"text-align: right;\">           0       </td><td style=\"text-align: right;\">             0       </td><td style=\"text-align: right;\">                   0</td><td style=\"text-align: right;\">                   0</td><td style=\"text-align: right;\">            0       </td><td style=\"text-align: right;\">                0      </td><td style=\"text-align: right;\">                     0</td><td style=\"text-align: right;\">                     0</td><td style=\"text-align: right;\">               0      </td><td style=\"text-align: right;\">                    0</td><td style=\"text-align: right;\">                   0</td><td style=\"text-align: right;\">                   0</td><td style=\"text-align: right;\">                   0</td><td style=\"text-align: right;\">                     0</td><td style=\"text-align: right;\">                    0</td><td style=\"text-align: right;\">                    0</td><td style=\"text-align: right;\">                    0</td><td style=\"text-align: right;\">           0       </td><td style=\"text-align: right;\">                 0</td><td style=\"text-align: right;\">                 0</td><td style=\"text-align: right;\">          0       </td><td style=\"text-align: right;\">                  0       </td><td style=\"text-align: right;\">                        0</td><td style=\"text-align: right;\">                        0</td><td style=\"text-align: right;\">                 0       </td><td style=\"text-align: right;\">           4      </td><td style=\"text-align: right;\">                4</td><td style=\"text-align: right;\">                4</td><td style=\"text-align: right;\">          0      </td><td style=\"text-align: right;\">            0      </td><td style=\"text-align: right;\">                 0</td><td style=\"text-align: right;\">                 0</td><td style=\"text-align: right;\">           0      </td><td style=\"text-align: right;\">            0      </td><td style=\"text-align: right;\">                 0</td><td style=\"text-align: right;\">                 0</td><td style=\"text-align: right;\">           0      </td><td style=\"text-align: right;\">             4      </td><td style=\"text-align: right;\">                  4</td><td style=\"text-align: right;\">                  4</td><td style=\"text-align: right;\">            0      </td><td style=\"text-align: right;\">                     0</td><td style=\"text-align: right;\">                    0</td><td style=\"text-align: right;\">                    0</td><td style=\"text-align: right;\">                    0</td><td style=\"text-align: right;\">                   0</td><td style=\"text-align: right;\">                  0</td><td style=\"text-align: right;\">                  0</td><td style=\"text-align: right;\">                  0</td><td style=\"text-align: right;\">           4      </td><td style=\"text-align: right;\">                4</td><td style=\"text-align: right;\">                4</td><td style=\"text-align: right;\">          0      </td><td style=\"text-align: right;\">                        0</td><td style=\"text-align: right;\">                       0</td><td style=\"text-align: right;\">                       0</td><td style=\"text-align: right;\">                       0</td><td style=\"text-align: right;\">    5      </td><td style=\"text-align: right;\">         5</td><td style=\"text-align: right;\">         5</td><td style=\"text-align: right;\">   0      </td><td style=\"text-align: right;\">   33     </td><td style=\"text-align: right;\">       33</td><td style=\"text-align: right;\">       33</td><td style=\"text-align: right;\">   0     </td><td style=\"text-align: right;\">        0       </td><td style=\"text-align: right;\">              0</td><td style=\"text-align: right;\">              0</td><td style=\"text-align: right;\">       0       </td><td style=\"text-align: right;\">       0      </td><td style=\"text-align: right;\">            0</td><td style=\"text-align: right;\">            0</td><td style=\"text-align: right;\">     0       </td><td style=\"text-align: right;\">             0       </td><td style=\"text-align: right;\">                   0</td><td style=\"text-align: right;\">                   0</td><td style=\"text-align: right;\">            0       </td><td style=\"text-align: right;\">           0      </td><td style=\"text-align: right;\">                0</td><td style=\"text-align: right;\">                0</td><td style=\"text-align: right;\">          0      </td><td style=\"text-align: right;\">                   0       </td><td style=\"text-align: right;\">                         0</td><td style=\"text-align: right;\">                         0</td><td style=\"text-align: right;\">                  0       </td><td style=\"text-align: right;\">                 0      </td><td style=\"text-align: right;\">                      0</td><td style=\"text-align: right;\">                      0</td><td style=\"text-align: right;\">                 0     </td><td style=\"text-align: right;\">          0      </td><td style=\"text-align: right;\">               0</td><td style=\"text-align: right;\">               0</td><td style=\"text-align: right;\">         0      </td><td style=\"text-align: right;\">               4     </td><td style=\"text-align: right;\">                   4</td><td style=\"text-align: right;\">                   4</td><td style=\"text-align: right;\">              0     </td><td style=\"text-align: right;\">                 0      </td><td style=\"text-align: right;\">                      0</td><td style=\"text-align: right;\">                      0</td><td style=\"text-align: right;\">                0      </td><td style=\"text-align: right;\">             4     </td><td style=\"text-align: right;\">                 4</td><td style=\"text-align: right;\">                 4</td><td style=\"text-align: right;\">            0     </td><td style=\"text-align: right;\">               0      </td><td style=\"text-align: right;\">                    0</td><td style=\"text-align: right;\">                    0</td><td style=\"text-align: right;\">              0      </td><td style=\"text-align: right;\">                  0       </td><td style=\"text-align: right;\">                        0</td><td style=\"text-align: right;\">                        0</td><td style=\"text-align: right;\">                 0       </td><td style=\"text-align: right;\">            0       </td><td style=\"text-align: right;\">                  0</td><td style=\"text-align: right;\">                  0</td><td style=\"text-align: right;\">           0       </td><td style=\"text-align: right;\">         1       </td><td style=\"text-align: right;\">               1</td><td style=\"text-align: right;\">               1</td><td style=\"text-align: right;\">        0       </td><td style=\"text-align: right;\">              38     </td><td style=\"text-align: right;\">                  38</td><td style=\"text-align: right;\">                  38</td><td style=\"text-align: right;\">              0     </td><td style=\"text-align: right;\">        16      </td><td style=\"text-align: right;\">             16</td><td style=\"text-align: right;\">             16</td><td style=\"text-align: right;\">        0      </td><td style=\"text-align: right;\">              23     </td><td style=\"text-align: right;\">                  47    </td><td style=\"text-align: right;\">                      5.34091</td></tr>\n",
       "<tr><td style=\"text-align: right;\">    5     </td><td style=\"text-align: right;\">        5</td><td style=\"text-align: right;\">        5</td><td style=\"text-align: right;\">  0      </td><td style=\"text-align: right;\">  11      </td><td style=\"text-align: right;\">       11</td><td style=\"text-align: right;\">       11</td><td style=\"text-align: right;\">  0      </td><td style=\"text-align: right;\">   1      </td><td style=\"text-align: right;\">        1</td><td style=\"text-align: right;\">        1</td><td style=\"text-align: right;\"> 0       </td><td style=\"text-align: right;\">   14     </td><td style=\"text-align: right;\">       14</td><td style=\"text-align: right;\">       14</td><td style=\"text-align: right;\">  0      </td><td style=\"text-align: right;\">     0     </td><td style=\"text-align: right;\">         0</td><td style=\"text-align: right;\">         0</td><td style=\"text-align: right;\">    0     </td><td style=\"text-align: right;\">           10      </td><td style=\"text-align: right;\">                10</td><td style=\"text-align: right;\">                10</td><td style=\"text-align: right;\">           0      </td><td style=\"text-align: right;\">            1       </td><td style=\"text-align: right;\">                  1</td><td style=\"text-align: right;\">                  1</td><td style=\"text-align: right;\">           0       </td><td style=\"text-align: right;\">             9      </td><td style=\"text-align: right;\">                  9</td><td style=\"text-align: right;\">                  9</td><td style=\"text-align: right;\">           0       </td><td style=\"text-align: right;\">             1       </td><td style=\"text-align: right;\">                   1</td><td style=\"text-align: right;\">                   1</td><td style=\"text-align: right;\">            0       </td><td style=\"text-align: right;\">                0      </td><td style=\"text-align: right;\">                     0</td><td style=\"text-align: right;\">                     0</td><td style=\"text-align: right;\">               0      </td><td style=\"text-align: right;\">                    0</td><td style=\"text-align: right;\">                   0</td><td style=\"text-align: right;\">                   0</td><td style=\"text-align: right;\">                   0</td><td style=\"text-align: right;\">                     0</td><td style=\"text-align: right;\">                    0</td><td style=\"text-align: right;\">                    0</td><td style=\"text-align: right;\">                    0</td><td style=\"text-align: right;\">           0       </td><td style=\"text-align: right;\">                 0</td><td style=\"text-align: right;\">                 0</td><td style=\"text-align: right;\">          0       </td><td style=\"text-align: right;\">                  0       </td><td style=\"text-align: right;\">                        0</td><td style=\"text-align: right;\">                        0</td><td style=\"text-align: right;\">                 0       </td><td style=\"text-align: right;\">           1      </td><td style=\"text-align: right;\">                1</td><td style=\"text-align: right;\">                1</td><td style=\"text-align: right;\">          0      </td><td style=\"text-align: right;\">            0      </td><td style=\"text-align: right;\">                 0</td><td style=\"text-align: right;\">                 0</td><td style=\"text-align: right;\">           0      </td><td style=\"text-align: right;\">            0      </td><td style=\"text-align: right;\">                 0</td><td style=\"text-align: right;\">                 0</td><td style=\"text-align: right;\">           0      </td><td style=\"text-align: right;\">             0      </td><td style=\"text-align: right;\">                  0</td><td style=\"text-align: right;\">                  0</td><td style=\"text-align: right;\">            0      </td><td style=\"text-align: right;\">                     0</td><td style=\"text-align: right;\">                    0</td><td style=\"text-align: right;\">                    0</td><td style=\"text-align: right;\">                    0</td><td style=\"text-align: right;\">                   0</td><td style=\"text-align: right;\">                  0</td><td style=\"text-align: right;\">                  0</td><td style=\"text-align: right;\">                  0</td><td style=\"text-align: right;\">           0      </td><td style=\"text-align: right;\">                0</td><td style=\"text-align: right;\">                0</td><td style=\"text-align: right;\">          0      </td><td style=\"text-align: right;\">                        0</td><td style=\"text-align: right;\">                       0</td><td style=\"text-align: right;\">                       0</td><td style=\"text-align: right;\">                       0</td><td style=\"text-align: right;\">    5      </td><td style=\"text-align: right;\">         5</td><td style=\"text-align: right;\">         5</td><td style=\"text-align: right;\">   0      </td><td style=\"text-align: right;\">   53     </td><td style=\"text-align: right;\">       53</td><td style=\"text-align: right;\">       53</td><td style=\"text-align: right;\">   0     </td><td style=\"text-align: right;\">        8       </td><td style=\"text-align: right;\">              8</td><td style=\"text-align: right;\">              8</td><td style=\"text-align: right;\">       0       </td><td style=\"text-align: right;\">       1      </td><td style=\"text-align: right;\">            1</td><td style=\"text-align: right;\">            1</td><td style=\"text-align: right;\">     0       </td><td style=\"text-align: right;\">             0       </td><td style=\"text-align: right;\">                   0</td><td style=\"text-align: right;\">                   0</td><td style=\"text-align: right;\">            0       </td><td style=\"text-align: right;\">           0      </td><td style=\"text-align: right;\">                0</td><td style=\"text-align: right;\">                0</td><td style=\"text-align: right;\">          0      </td><td style=\"text-align: right;\">                   1       </td><td style=\"text-align: right;\">                         1</td><td style=\"text-align: right;\">                         1</td><td style=\"text-align: right;\">                  0       </td><td style=\"text-align: right;\">                 3      </td><td style=\"text-align: right;\">                      3</td><td style=\"text-align: right;\">                      3</td><td style=\"text-align: right;\">                 0     </td><td style=\"text-align: right;\">          0      </td><td style=\"text-align: right;\">               0</td><td style=\"text-align: right;\">               0</td><td style=\"text-align: right;\">         0      </td><td style=\"text-align: right;\">               2     </td><td style=\"text-align: right;\">                   2</td><td style=\"text-align: right;\">                   2</td><td style=\"text-align: right;\">              0     </td><td style=\"text-align: right;\">                 0      </td><td style=\"text-align: right;\">                      0</td><td style=\"text-align: right;\">                      0</td><td style=\"text-align: right;\">                0      </td><td style=\"text-align: right;\">             2     </td><td style=\"text-align: right;\">                 2</td><td style=\"text-align: right;\">                 2</td><td style=\"text-align: right;\">            0     </td><td style=\"text-align: right;\">               1      </td><td style=\"text-align: right;\">                    1</td><td style=\"text-align: right;\">                    1</td><td style=\"text-align: right;\">              0      </td><td style=\"text-align: right;\">                  0       </td><td style=\"text-align: right;\">                        0</td><td style=\"text-align: right;\">                        0</td><td style=\"text-align: right;\">                 0       </td><td style=\"text-align: right;\">            0       </td><td style=\"text-align: right;\">                  0</td><td style=\"text-align: right;\">                  0</td><td style=\"text-align: right;\">           0       </td><td style=\"text-align: right;\">         0       </td><td style=\"text-align: right;\">               0</td><td style=\"text-align: right;\">               0</td><td style=\"text-align: right;\">        0       </td><td style=\"text-align: right;\">              46     </td><td style=\"text-align: right;\">                  46</td><td style=\"text-align: right;\">                  46</td><td style=\"text-align: right;\">              0     </td><td style=\"text-align: right;\">         1      </td><td style=\"text-align: right;\">              1</td><td style=\"text-align: right;\">              1</td><td style=\"text-align: right;\">        0      </td><td style=\"text-align: right;\">              16     </td><td style=\"text-align: right;\">                  65    </td><td style=\"text-align: right;\">                      5.47893</td></tr>\n",
       "<tr><td style=\"text-align: right;\">   20     </td><td style=\"text-align: right;\">       16</td><td style=\"text-align: right;\">       24</td><td style=\"text-align: right;\">  5.65685</td><td style=\"text-align: right;\">  18      </td><td style=\"text-align: right;\">       17</td><td style=\"text-align: right;\">       19</td><td style=\"text-align: right;\">  1.41421</td><td style=\"text-align: right;\">   3      </td><td style=\"text-align: right;\">        3</td><td style=\"text-align: right;\">        3</td><td style=\"text-align: right;\"> 0       </td><td style=\"text-align: right;\">   38     </td><td style=\"text-align: right;\">       36</td><td style=\"text-align: right;\">       40</td><td style=\"text-align: right;\">  2.82843</td><td style=\"text-align: right;\">   153.5   </td><td style=\"text-align: right;\">       136</td><td style=\"text-align: right;\">       171</td><td style=\"text-align: right;\">   24.7487</td><td style=\"text-align: right;\">           18      </td><td style=\"text-align: right;\">                17</td><td style=\"text-align: right;\">                19</td><td style=\"text-align: right;\">           1.41421</td><td style=\"text-align: right;\">            6       </td><td style=\"text-align: right;\">                  5</td><td style=\"text-align: right;\">                  7</td><td style=\"text-align: right;\">           1.41421 </td><td style=\"text-align: right;\">            11.5    </td><td style=\"text-align: right;\">                 11</td><td style=\"text-align: right;\">                 12</td><td style=\"text-align: right;\">           0.707107</td><td style=\"text-align: right;\">             5.5     </td><td style=\"text-align: right;\">                   4</td><td style=\"text-align: right;\">                   7</td><td style=\"text-align: right;\">            2.12132 </td><td style=\"text-align: right;\">                0      </td><td style=\"text-align: right;\">                     0</td><td style=\"text-align: right;\">                     0</td><td style=\"text-align: right;\">               0      </td><td style=\"text-align: right;\">                    0</td><td style=\"text-align: right;\">                   0</td><td style=\"text-align: right;\">                   0</td><td style=\"text-align: right;\">                   0</td><td style=\"text-align: right;\">                     0</td><td style=\"text-align: right;\">                    0</td><td style=\"text-align: right;\">                    0</td><td style=\"text-align: right;\">                    0</td><td style=\"text-align: right;\">           0       </td><td style=\"text-align: right;\">                 0</td><td style=\"text-align: right;\">                 0</td><td style=\"text-align: right;\">          0       </td><td style=\"text-align: right;\">                  0       </td><td style=\"text-align: right;\">                        0</td><td style=\"text-align: right;\">                        0</td><td style=\"text-align: right;\">                 0       </td><td style=\"text-align: right;\">           0      </td><td style=\"text-align: right;\">                0</td><td style=\"text-align: right;\">                0</td><td style=\"text-align: right;\">          0      </td><td style=\"text-align: right;\">            0      </td><td style=\"text-align: right;\">                 0</td><td style=\"text-align: right;\">                 0</td><td style=\"text-align: right;\">           0      </td><td style=\"text-align: right;\">            0      </td><td style=\"text-align: right;\">                 0</td><td style=\"text-align: right;\">                 0</td><td style=\"text-align: right;\">           0      </td><td style=\"text-align: right;\">             0      </td><td style=\"text-align: right;\">                  0</td><td style=\"text-align: right;\">                  0</td><td style=\"text-align: right;\">            0      </td><td style=\"text-align: right;\">                     0</td><td style=\"text-align: right;\">                    0</td><td style=\"text-align: right;\">                    0</td><td style=\"text-align: right;\">                    0</td><td style=\"text-align: right;\">                   0</td><td style=\"text-align: right;\">                  0</td><td style=\"text-align: right;\">                  0</td><td style=\"text-align: right;\">                  0</td><td style=\"text-align: right;\">           0      </td><td style=\"text-align: right;\">                0</td><td style=\"text-align: right;\">                0</td><td style=\"text-align: right;\">          0      </td><td style=\"text-align: right;\">                        0</td><td style=\"text-align: right;\">                       0</td><td style=\"text-align: right;\">                       0</td><td style=\"text-align: right;\">                       0</td><td style=\"text-align: right;\">   47      </td><td style=\"text-align: right;\">        35</td><td style=\"text-align: right;\">        59</td><td style=\"text-align: right;\">  16.9706 </td><td style=\"text-align: right;\">  315     </td><td style=\"text-align: right;\">      240</td><td style=\"text-align: right;\">      390</td><td style=\"text-align: right;\"> 106.066 </td><td style=\"text-align: right;\">        6       </td><td style=\"text-align: right;\">              5</td><td style=\"text-align: right;\">              7</td><td style=\"text-align: right;\">       1.41421 </td><td style=\"text-align: right;\">       0      </td><td style=\"text-align: right;\">            0</td><td style=\"text-align: right;\">            0</td><td style=\"text-align: right;\">     0       </td><td style=\"text-align: right;\">             0       </td><td style=\"text-align: right;\">                   0</td><td style=\"text-align: right;\">                   0</td><td style=\"text-align: right;\">            0       </td><td style=\"text-align: right;\">           0      </td><td style=\"text-align: right;\">                0</td><td style=\"text-align: right;\">                0</td><td style=\"text-align: right;\">          0      </td><td style=\"text-align: right;\">                   1       </td><td style=\"text-align: right;\">                         0</td><td style=\"text-align: right;\">                         2</td><td style=\"text-align: right;\">                  1.41421 </td><td style=\"text-align: right;\">               105.5    </td><td style=\"text-align: right;\">                     62</td><td style=\"text-align: right;\">                    149</td><td style=\"text-align: right;\">                61.5183</td><td style=\"text-align: right;\">         47.5    </td><td style=\"text-align: right;\">               9</td><td style=\"text-align: right;\">              86</td><td style=\"text-align: right;\">        54.4472 </td><td style=\"text-align: right;\">             146.5   </td><td style=\"text-align: right;\">                  82</td><td style=\"text-align: right;\">                 211</td><td style=\"text-align: right;\">             91.2168</td><td style=\"text-align: right;\">                 0      </td><td style=\"text-align: right;\">                      0</td><td style=\"text-align: right;\">                      0</td><td style=\"text-align: right;\">                0      </td><td style=\"text-align: right;\">            48     </td><td style=\"text-align: right;\">                32</td><td style=\"text-align: right;\">                64</td><td style=\"text-align: right;\">           22.6274</td><td style=\"text-align: right;\">               0      </td><td style=\"text-align: right;\">                    0</td><td style=\"text-align: right;\">                    0</td><td style=\"text-align: right;\">              0      </td><td style=\"text-align: right;\">                  0       </td><td style=\"text-align: right;\">                        0</td><td style=\"text-align: right;\">                        0</td><td style=\"text-align: right;\">                 0       </td><td style=\"text-align: right;\">            0       </td><td style=\"text-align: right;\">                  0</td><td style=\"text-align: right;\">                  0</td><td style=\"text-align: right;\">           0       </td><td style=\"text-align: right;\">         0       </td><td style=\"text-align: right;\">               0</td><td style=\"text-align: right;\">               0</td><td style=\"text-align: right;\">        0       </td><td style=\"text-align: right;\">             114.5   </td><td style=\"text-align: right;\">                  97</td><td style=\"text-align: right;\">                 132</td><td style=\"text-align: right;\">             24.7487</td><td style=\"text-align: right;\">         1      </td><td style=\"text-align: right;\">              1</td><td style=\"text-align: right;\">              1</td><td style=\"text-align: right;\">        0      </td><td style=\"text-align: right;\">               9.5   </td><td style=\"text-align: right;\">                 272.5  </td><td style=\"text-align: right;\">                     11.2734 </td></tr>\n",
       "<tr><td style=\"text-align: right;\">   26     </td><td style=\"text-align: right;\">       20</td><td style=\"text-align: right;\">       32</td><td style=\"text-align: right;\">  6      </td><td style=\"text-align: right;\">  11      </td><td style=\"text-align: right;\">        6</td><td style=\"text-align: right;\">       19</td><td style=\"text-align: right;\">  7      </td><td style=\"text-align: right;\">   3.66667</td><td style=\"text-align: right;\">        3</td><td style=\"text-align: right;\">        5</td><td style=\"text-align: right;\"> 1.1547  </td><td style=\"text-align: right;\">   23.3333</td><td style=\"text-align: right;\">       11</td><td style=\"text-align: right;\">       33</td><td style=\"text-align: right;\"> 11.2398 </td><td style=\"text-align: right;\">    71.3333</td><td style=\"text-align: right;\">        15</td><td style=\"text-align: right;\">       171</td><td style=\"text-align: right;\">   86.5583</td><td style=\"text-align: right;\">           11      </td><td style=\"text-align: right;\">                 6</td><td style=\"text-align: right;\">                19</td><td style=\"text-align: right;\">           7      </td><td style=\"text-align: right;\">            0.666667</td><td style=\"text-align: right;\">                  0</td><td style=\"text-align: right;\">                  1</td><td style=\"text-align: right;\">           0.57735 </td><td style=\"text-align: right;\">            10.3333 </td><td style=\"text-align: right;\">                  6</td><td style=\"text-align: right;\">                 18</td><td style=\"text-align: right;\">           6.65833 </td><td style=\"text-align: right;\">             0.666667</td><td style=\"text-align: right;\">                   0</td><td style=\"text-align: right;\">                   1</td><td style=\"text-align: right;\">            0.57735 </td><td style=\"text-align: right;\">                0      </td><td style=\"text-align: right;\">                     0</td><td style=\"text-align: right;\">                     0</td><td style=\"text-align: right;\">               0      </td><td style=\"text-align: right;\">                    0</td><td style=\"text-align: right;\">                   0</td><td style=\"text-align: right;\">                   0</td><td style=\"text-align: right;\">                   0</td><td style=\"text-align: right;\">                     0</td><td style=\"text-align: right;\">                    0</td><td style=\"text-align: right;\">                    0</td><td style=\"text-align: right;\">                    0</td><td style=\"text-align: right;\">           0       </td><td style=\"text-align: right;\">                 0</td><td style=\"text-align: right;\">                 0</td><td style=\"text-align: right;\">          0       </td><td style=\"text-align: right;\">                  0       </td><td style=\"text-align: right;\">                        0</td><td style=\"text-align: right;\">                        0</td><td style=\"text-align: right;\">                 0       </td><td style=\"text-align: right;\">           0      </td><td style=\"text-align: right;\">                0</td><td style=\"text-align: right;\">                0</td><td style=\"text-align: right;\">          0      </td><td style=\"text-align: right;\">            0      </td><td style=\"text-align: right;\">                 0</td><td style=\"text-align: right;\">                 0</td><td style=\"text-align: right;\">           0      </td><td style=\"text-align: right;\">            0      </td><td style=\"text-align: right;\">                 0</td><td style=\"text-align: right;\">                 0</td><td style=\"text-align: right;\">           0      </td><td style=\"text-align: right;\">             0      </td><td style=\"text-align: right;\">                  0</td><td style=\"text-align: right;\">                  0</td><td style=\"text-align: right;\">            0      </td><td style=\"text-align: right;\">                     0</td><td style=\"text-align: right;\">                    0</td><td style=\"text-align: right;\">                    0</td><td style=\"text-align: right;\">                    0</td><td style=\"text-align: right;\">                   0</td><td style=\"text-align: right;\">                  0</td><td style=\"text-align: right;\">                  0</td><td style=\"text-align: right;\">                  0</td><td style=\"text-align: right;\">           0      </td><td style=\"text-align: right;\">                0</td><td style=\"text-align: right;\">                0</td><td style=\"text-align: right;\">          0      </td><td style=\"text-align: right;\">                        0</td><td style=\"text-align: right;\">                       0</td><td style=\"text-align: right;\">                       0</td><td style=\"text-align: right;\">                       0</td><td style=\"text-align: right;\">   15.6667 </td><td style=\"text-align: right;\">         6</td><td style=\"text-align: right;\">        24</td><td style=\"text-align: right;\">   9.07377</td><td style=\"text-align: right;\">  179.333 </td><td style=\"text-align: right;\">      130</td><td style=\"text-align: right;\">      258</td><td style=\"text-align: right;\">  68.8573</td><td style=\"text-align: right;\">        0.666667</td><td style=\"text-align: right;\">              0</td><td style=\"text-align: right;\">              1</td><td style=\"text-align: right;\">       0.57735 </td><td style=\"text-align: right;\">       0      </td><td style=\"text-align: right;\">            0</td><td style=\"text-align: right;\">            0</td><td style=\"text-align: right;\">     0       </td><td style=\"text-align: right;\">             0       </td><td style=\"text-align: right;\">                   0</td><td style=\"text-align: right;\">                   0</td><td style=\"text-align: right;\">            0       </td><td style=\"text-align: right;\">           0      </td><td style=\"text-align: right;\">                0</td><td style=\"text-align: right;\">                0</td><td style=\"text-align: right;\">          0      </td><td style=\"text-align: right;\">                   0       </td><td style=\"text-align: right;\">                         0</td><td style=\"text-align: right;\">                         0</td><td style=\"text-align: right;\">                  0       </td><td style=\"text-align: right;\">                33      </td><td style=\"text-align: right;\">                     25</td><td style=\"text-align: right;\">                     45</td><td style=\"text-align: right;\">                10.583 </td><td style=\"text-align: right;\">         24.6667 </td><td style=\"text-align: right;\">              23</td><td style=\"text-align: right;\">              28</td><td style=\"text-align: right;\">         2.88675</td><td style=\"text-align: right;\">              67     </td><td style=\"text-align: right;\">                  55</td><td style=\"text-align: right;\">                  90</td><td style=\"text-align: right;\">             19.9249</td><td style=\"text-align: right;\">                 0      </td><td style=\"text-align: right;\">                      0</td><td style=\"text-align: right;\">                      0</td><td style=\"text-align: right;\">                0      </td><td style=\"text-align: right;\">            30.3333</td><td style=\"text-align: right;\">                16</td><td style=\"text-align: right;\">                50</td><td style=\"text-align: right;\">           17.6163</td><td style=\"text-align: right;\">               0      </td><td style=\"text-align: right;\">                    0</td><td style=\"text-align: right;\">                    0</td><td style=\"text-align: right;\">              0      </td><td style=\"text-align: right;\">                  0       </td><td style=\"text-align: right;\">                        0</td><td style=\"text-align: right;\">                        0</td><td style=\"text-align: right;\">                 0       </td><td style=\"text-align: right;\">            2       </td><td style=\"text-align: right;\">                  0</td><td style=\"text-align: right;\">                  4</td><td style=\"text-align: right;\">           2       </td><td style=\"text-align: right;\">         0.333333</td><td style=\"text-align: right;\">               0</td><td style=\"text-align: right;\">               1</td><td style=\"text-align: right;\">        0.57735 </td><td style=\"text-align: right;\">             118.333 </td><td style=\"text-align: right;\">                  89</td><td style=\"text-align: right;\">                 151</td><td style=\"text-align: right;\">             31.1341</td><td style=\"text-align: right;\">         1      </td><td style=\"text-align: right;\">              1</td><td style=\"text-align: right;\">              1</td><td style=\"text-align: right;\">        0      </td><td style=\"text-align: right;\">               9     </td><td style=\"text-align: right;\">                 321    </td><td style=\"text-align: right;\">                     27.154  </td></tr>\n",
       "<tr><td style=\"text-align: right;\">   15     </td><td style=\"text-align: right;\">       15</td><td style=\"text-align: right;\">       15</td><td style=\"text-align: right;\">  0      </td><td style=\"text-align: right;\">   3      </td><td style=\"text-align: right;\">        3</td><td style=\"text-align: right;\">        3</td><td style=\"text-align: right;\">  0      </td><td style=\"text-align: right;\">   1      </td><td style=\"text-align: right;\">        1</td><td style=\"text-align: right;\">        1</td><td style=\"text-align: right;\"> 0       </td><td style=\"text-align: right;\">   21     </td><td style=\"text-align: right;\">       21</td><td style=\"text-align: right;\">       21</td><td style=\"text-align: right;\">  0      </td><td style=\"text-align: right;\">     3     </td><td style=\"text-align: right;\">         3</td><td style=\"text-align: right;\">         3</td><td style=\"text-align: right;\">    0     </td><td style=\"text-align: right;\">            3      </td><td style=\"text-align: right;\">                 3</td><td style=\"text-align: right;\">                 3</td><td style=\"text-align: right;\">           0      </td><td style=\"text-align: right;\">            0       </td><td style=\"text-align: right;\">                  0</td><td style=\"text-align: right;\">                  0</td><td style=\"text-align: right;\">           0       </td><td style=\"text-align: right;\">             0      </td><td style=\"text-align: right;\">                  0</td><td style=\"text-align: right;\">                  0</td><td style=\"text-align: right;\">           0       </td><td style=\"text-align: right;\">             0       </td><td style=\"text-align: right;\">                   0</td><td style=\"text-align: right;\">                   0</td><td style=\"text-align: right;\">            0       </td><td style=\"text-align: right;\">                0      </td><td style=\"text-align: right;\">                     0</td><td style=\"text-align: right;\">                     0</td><td style=\"text-align: right;\">               0      </td><td style=\"text-align: right;\">                    0</td><td style=\"text-align: right;\">                   0</td><td style=\"text-align: right;\">                   0</td><td style=\"text-align: right;\">                   0</td><td style=\"text-align: right;\">                     0</td><td style=\"text-align: right;\">                    0</td><td style=\"text-align: right;\">                    0</td><td style=\"text-align: right;\">                    0</td><td style=\"text-align: right;\">           0       </td><td style=\"text-align: right;\">                 0</td><td style=\"text-align: right;\">                 0</td><td style=\"text-align: right;\">          0       </td><td style=\"text-align: right;\">                  0       </td><td style=\"text-align: right;\">                        0</td><td style=\"text-align: right;\">                        0</td><td style=\"text-align: right;\">                 0       </td><td style=\"text-align: right;\">           0      </td><td style=\"text-align: right;\">                0</td><td style=\"text-align: right;\">                0</td><td style=\"text-align: right;\">          0      </td><td style=\"text-align: right;\">            0      </td><td style=\"text-align: right;\">                 0</td><td style=\"text-align: right;\">                 0</td><td style=\"text-align: right;\">           0      </td><td style=\"text-align: right;\">            0      </td><td style=\"text-align: right;\">                 0</td><td style=\"text-align: right;\">                 0</td><td style=\"text-align: right;\">           0      </td><td style=\"text-align: right;\">             0      </td><td style=\"text-align: right;\">                  0</td><td style=\"text-align: right;\">                  0</td><td style=\"text-align: right;\">            0      </td><td style=\"text-align: right;\">                     0</td><td style=\"text-align: right;\">                    0</td><td style=\"text-align: right;\">                    0</td><td style=\"text-align: right;\">                    0</td><td style=\"text-align: right;\">                   0</td><td style=\"text-align: right;\">                  0</td><td style=\"text-align: right;\">                  0</td><td style=\"text-align: right;\">                  0</td><td style=\"text-align: right;\">           0      </td><td style=\"text-align: right;\">                0</td><td style=\"text-align: right;\">                0</td><td style=\"text-align: right;\">          0      </td><td style=\"text-align: right;\">                        0</td><td style=\"text-align: right;\">                       0</td><td style=\"text-align: right;\">                       0</td><td style=\"text-align: right;\">                       0</td><td style=\"text-align: right;\">   64      </td><td style=\"text-align: right;\">        64</td><td style=\"text-align: right;\">        64</td><td style=\"text-align: right;\">   0      </td><td style=\"text-align: right;\">  100     </td><td style=\"text-align: right;\">      100</td><td style=\"text-align: right;\">      100</td><td style=\"text-align: right;\">   0     </td><td style=\"text-align: right;\">        0       </td><td style=\"text-align: right;\">              0</td><td style=\"text-align: right;\">              0</td><td style=\"text-align: right;\">       0       </td><td style=\"text-align: right;\">       0      </td><td style=\"text-align: right;\">            0</td><td style=\"text-align: right;\">            0</td><td style=\"text-align: right;\">     0       </td><td style=\"text-align: right;\">             0       </td><td style=\"text-align: right;\">                   0</td><td style=\"text-align: right;\">                   0</td><td style=\"text-align: right;\">            0       </td><td style=\"text-align: right;\">           0      </td><td style=\"text-align: right;\">                0</td><td style=\"text-align: right;\">                0</td><td style=\"text-align: right;\">          0      </td><td style=\"text-align: right;\">                   0       </td><td style=\"text-align: right;\">                         0</td><td style=\"text-align: right;\">                         0</td><td style=\"text-align: right;\">                  0       </td><td style=\"text-align: right;\">                99      </td><td style=\"text-align: right;\">                     99</td><td style=\"text-align: right;\">                     99</td><td style=\"text-align: right;\">                 0     </td><td style=\"text-align: right;\">          0      </td><td style=\"text-align: right;\">               0</td><td style=\"text-align: right;\">               0</td><td style=\"text-align: right;\">         0      </td><td style=\"text-align: right;\">               7     </td><td style=\"text-align: right;\">                   7</td><td style=\"text-align: right;\">                   7</td><td style=\"text-align: right;\">              0     </td><td style=\"text-align: right;\">                 4      </td><td style=\"text-align: right;\">                      4</td><td style=\"text-align: right;\">                      4</td><td style=\"text-align: right;\">                0      </td><td style=\"text-align: right;\">             7     </td><td style=\"text-align: right;\">                 7</td><td style=\"text-align: right;\">                 7</td><td style=\"text-align: right;\">            0     </td><td style=\"text-align: right;\">               0      </td><td style=\"text-align: right;\">                    0</td><td style=\"text-align: right;\">                    0</td><td style=\"text-align: right;\">              0      </td><td style=\"text-align: right;\">                  0       </td><td style=\"text-align: right;\">                        0</td><td style=\"text-align: right;\">                        0</td><td style=\"text-align: right;\">                 0       </td><td style=\"text-align: right;\">            0       </td><td style=\"text-align: right;\">                  0</td><td style=\"text-align: right;\">                  0</td><td style=\"text-align: right;\">           0       </td><td style=\"text-align: right;\">         2       </td><td style=\"text-align: right;\">               2</td><td style=\"text-align: right;\">               2</td><td style=\"text-align: right;\">        0       </td><td style=\"text-align: right;\">              51     </td><td style=\"text-align: right;\">                  51</td><td style=\"text-align: right;\">                  51</td><td style=\"text-align: right;\">              0     </td><td style=\"text-align: right;\">         0      </td><td style=\"text-align: right;\">              0</td><td style=\"text-align: right;\">              0</td><td style=\"text-align: right;\">        0      </td><td style=\"text-align: right;\">              11     </td><td style=\"text-align: right;\">                 104    </td><td style=\"text-align: right;\">                      4.78661</td></tr>\n",
       "</tbody>\n",
       "</table>"
      ]
     },
     "metadata": {},
     "output_type": "display_data"
    },
    {
     "data": {
      "text/plain": []
     },
     "execution_count": 130,
     "metadata": {},
     "output_type": "execute_result"
    }
   ],
   "source": [
    "train"
   ]
  },
  {
   "cell_type": "code",
   "execution_count": 131,
   "metadata": {},
   "outputs": [
    {
     "data": {
      "text/plain": [
       "{'whiskers': [<matplotlib.lines.Line2D at 0x21e18d626d8>,\n",
       "  <matplotlib.lines.Line2D at 0x21e18d62128>],\n",
       " 'caps': [<matplotlib.lines.Line2D at 0x21e18d58eb8>,\n",
       "  <matplotlib.lines.Line2D at 0x21e18d58438>],\n",
       " 'boxes': [<matplotlib.lines.Line2D at 0x21e18d62860>],\n",
       " 'medians': [<matplotlib.lines.Line2D at 0x21e18d586a0>],\n",
       " 'fliers': [<matplotlib.lines.Line2D at 0x21e18d50f60>],\n",
       " 'means': []}"
      ]
     },
     "execution_count": 131,
     "metadata": {},
     "output_type": "execute_result"
    },
    {
     "data": {
      "image/png": "[encoded data removed]",
      "text/plain": [
       "<Figure size 432x288 with 1 Axes>"
      ]
     },
     "metadata": {
      "needs_background": "light"
     },
     "output_type": "display_data"
    }
   ],
   "source": [
    "pd_train = train.as_data_frame()\n",
    "plt.boxplot(pd_train['refactoring_perc_time_taken'])"
   ]
  },
  {
   "cell_type": "code",
   "execution_count": 132,
   "metadata": {},
   "outputs": [
    {
     "data": {
      "text/plain": [
       "10.083650190114069"
      ]
     },
     "execution_count": 132,
     "metadata": {},
     "output_type": "execute_result"
    }
   ],
   "source": [
    "main_df['actual_num_of_classes_touched_max'].mean()"
   ]
  },
  {
   "cell_type": "code",
   "execution_count": 133,
   "metadata": {},
   "outputs": [
    {
     "data": {
      "text/plain": [
       "263"
      ]
     },
     "execution_count": 133,
     "metadata": {},
     "output_type": "execute_result"
    }
   ],
   "source": [
    "len(main_df['actual_num_of_classes_touched_max'])"
   ]
  },
  {
   "cell_type": "code",
   "execution_count": 134,
   "metadata": {},
   "outputs": [
    {
     "data": {
      "text/plain": [
       "263"
      ]
     },
     "execution_count": 134,
     "metadata": {},
     "output_type": "execute_result"
    }
   ],
   "source": [
    "len(main_df[main_df['actual_num_of_classes_touched_max'] < 1000])"
   ]
  },
  {
   "cell_type": "code",
   "execution_count": 135,
   "metadata": {},
   "outputs": [
    {
     "data": {
      "text/plain": [
       "261"
      ]
     },
     "execution_count": 135,
     "metadata": {},
     "output_type": "execute_result"
    }
   ],
   "source": [
    "len(main_df[main_df['actual_num_of_classes_touched_max'] < 100])"
   ]
  },
  {
   "cell_type": "code",
   "execution_count": 136,
   "metadata": {},
   "outputs": [
    {
     "data": {
      "text/plain": [
       "254"
      ]
     },
     "execution_count": 136,
     "metadata": {},
     "output_type": "execute_result"
    }
   ],
   "source": [
    "len(main_df[main_df['actual_num_of_classes_touched_max'] < 50])"
   ]
  },
  {
   "cell_type": "code",
   "execution_count": 137,
   "metadata": {},
   "outputs": [
    {
     "data": {
      "text/plain": [
       "226"
      ]
     },
     "execution_count": 137,
     "metadata": {},
     "output_type": "execute_result"
    }
   ],
   "source": [
    "len(main_df[main_df['actual_num_of_classes_touched_max'] < 20])"
   ]
  },
  {
   "cell_type": "code",
   "execution_count": 138,
   "metadata": {},
   "outputs": [
    {
     "data": {
      "text/plain": [
       "184"
      ]
     },
     "execution_count": 138,
     "metadata": {},
     "output_type": "execute_result"
    }
   ],
   "source": [
    "len(main_df[main_df['actual_num_of_classes_touched_max'] < 10])"
   ]
  },
  {
   "cell_type": "code",
   "execution_count": 139,
   "metadata": {},
   "outputs": [
    {
     "data": {
      "text/plain": [
       "{'whiskers': [<matplotlib.lines.Line2D at 0x21e18dca0b8>,\n",
       "  <matplotlib.lines.Line2D at 0x21e18dca400>],\n",
       " 'caps': [<matplotlib.lines.Line2D at 0x21e18dca780>,\n",
       "  <matplotlib.lines.Line2D at 0x21e18dcab00>],\n",
       " 'boxes': [<matplotlib.lines.Line2D at 0x21e18dbcf28>],\n",
       " 'medians': [<matplotlib.lines.Line2D at 0x21e18dcae80>],\n",
       " 'fliers': [<matplotlib.lines.Line2D at 0x21e18dd4240>],\n",
       " 'means': []}"
      ]
     },
     "execution_count": 139,
     "metadata": {},
     "output_type": "execute_result"
    },
    {
     "data": {
      "image/png": "[encoded data removed]",
      "text/plain": [
       "<Figure size 432x288 with 1 Axes>"
      ]
     },
     "metadata": {
      "needs_background": "light"
     },
     "output_type": "display_data"
    }
   ],
   "source": [
    "plt.boxplot(main_df['actual_num_of_classes_touched_max'])"
   ]
  },
  {
   "cell_type": "code",
   "execution_count": 140,
   "metadata": {},
   "outputs": [],
   "source": [
    "main_df_num_of_classes_without_outliers = main_df[main_df['actual_num_of_classes_touched_max'] < 1000]"
   ]
  },
  {
   "cell_type": "code",
   "execution_count": 141,
   "metadata": {},
   "outputs": [
    {
     "data": {
      "text/plain": [
       "{'whiskers': [<matplotlib.lines.Line2D at 0x21e1739b240>,\n",
       "  <matplotlib.lines.Line2D at 0x21e1739b588>],\n",
       " 'caps': [<matplotlib.lines.Line2D at 0x21e1739b908>,\n",
       "  <matplotlib.lines.Line2D at 0x21e1739bc88>],\n",
       " 'boxes': [<matplotlib.lines.Line2D at 0x21e1739b0f0>],\n",
       " 'medians': [<matplotlib.lines.Line2D at 0x21e173a5048>],\n",
       " 'fliers': [<matplotlib.lines.Line2D at 0x21e173a53c8>],\n",
       " 'means': []}"
      ]
     },
     "execution_count": 141,
     "metadata": {},
     "output_type": "execute_result"
    },
    {
     "data": {
      "image/png": "[encoded data removed]",
      "text/plain": [
       "<Figure size 432x288 with 1 Axes>"
      ]
     },
     "metadata": {
      "needs_background": "light"
     },
     "output_type": "display_data"
    }
   ],
   "source": [
    "plt.boxplot(main_df_num_of_classes_without_outliers['actual_num_of_classes_touched_max'])"
   ]
  },
  {
   "cell_type": "code",
   "execution_count": 142,
   "metadata": {},
   "outputs": [
    {
     "data": {
      "text/plain": [
       "{'whiskers': [<matplotlib.lines.Line2D at 0x21e173e9d30>,\n",
       "  <matplotlib.lines.Line2D at 0x21e173fa0b8>],\n",
       " 'caps': [<matplotlib.lines.Line2D at 0x21e173fa438>,\n",
       "  <matplotlib.lines.Line2D at 0x21e173fa7b8>],\n",
       " 'boxes': [<matplotlib.lines.Line2D at 0x21e173e9be0>],\n",
       " 'medians': [<matplotlib.lines.Line2D at 0x21e173fab38>],\n",
       " 'fliers': [<matplotlib.lines.Line2D at 0x21e173faeb8>],\n",
       " 'means': []}"
      ]
     },
     "execution_count": 142,
     "metadata": {},
     "output_type": "execute_result"
    },
    {
     "data": {
      "image/png": "[encoded data removed]",
      "text/plain": [
       "<Figure size 432x288 with 1 Axes>"
      ]
     },
     "metadata": {
      "needs_background": "light"
     },
     "output_type": "display_data"
    }
   ],
   "source": [
    "main_df_num_of_classes_without_outliers = main_df[main_df['actual_num_of_classes_touched_max'] < 100]\n",
    "plt.boxplot(main_df_num_of_classes_without_outliers['actual_num_of_classes_touched_max'])"
   ]
  },
  {
   "cell_type": "code",
   "execution_count": 143,
   "metadata": {},
   "outputs": [],
   "source": [
    "pd_test = test.as_data_frame()\n",
    "pd_preds['actual_time_taken'] = pd_test['refactoring_perc_time_taken']"
   ]
  },
  {
   "cell_type": "code",
   "execution_count": 144,
   "metadata": {
    "scrolled": true
   },
   "outputs": [
    {
     "data": {
      "text/html": [
       "<div>\n",
       "<style scoped>\n",
       "    .dataframe tbody tr th:only-of-type {\n",
       "        vertical-align: middle;\n",
       "    }\n",
       "\n",
       "    .dataframe tbody tr th {\n",
       "        vertical-align: top;\n",
       "    }\n",
       "\n",
       "    .dataframe thead th {\n",
       "        text-align: right;\n",
       "    }\n",
       "</style>\n",
       "<table border=\"1\" class=\"dataframe\">\n",
       "  <thead>\n",
       "    <tr style=\"text-align: right;\">\n",
       "      <th></th>\n",
       "      <th>predict</th>\n",
       "      <th>actual_time_taken</th>\n",
       "    </tr>\n",
       "  </thead>\n",
       "  <tbody>\n",
       "    <tr>\n",
       "      <th>0</th>\n",
       "      <td>8.541695</td>\n",
       "      <td>7.411236</td>\n",
       "    </tr>\n",
       "    <tr>\n",
       "      <th>1</th>\n",
       "      <td>8.921524</td>\n",
       "      <td>11.963636</td>\n",
       "    </tr>\n",
       "    <tr>\n",
       "      <th>2</th>\n",
       "      <td>8.583927</td>\n",
       "      <td>33.817204</td>\n",
       "    </tr>\n",
       "    <tr>\n",
       "      <th>3</th>\n",
       "      <td>9.386891</td>\n",
       "      <td>3.000000</td>\n",
       "    </tr>\n",
       "    <tr>\n",
       "      <th>4</th>\n",
       "      <td>9.503050</td>\n",
       "      <td>15.519865</td>\n",
       "    </tr>\n",
       "    <tr>\n",
       "      <th>...</th>\n",
       "      <td>...</td>\n",
       "      <td>...</td>\n",
       "    </tr>\n",
       "    <tr>\n",
       "      <th>74</th>\n",
       "      <td>8.133967</td>\n",
       "      <td>37.152318</td>\n",
       "    </tr>\n",
       "    <tr>\n",
       "      <th>75</th>\n",
       "      <td>9.438173</td>\n",
       "      <td>4.263158</td>\n",
       "    </tr>\n",
       "    <tr>\n",
       "      <th>76</th>\n",
       "      <td>6.755371</td>\n",
       "      <td>3.582857</td>\n",
       "    </tr>\n",
       "    <tr>\n",
       "      <th>77</th>\n",
       "      <td>8.769024</td>\n",
       "      <td>17.405607</td>\n",
       "    </tr>\n",
       "    <tr>\n",
       "      <th>78</th>\n",
       "      <td>10.826445</td>\n",
       "      <td>22.000000</td>\n",
       "    </tr>\n",
       "  </tbody>\n",
       "</table>\n",
       "<p>79 rows × 2 columns</p>\n",
       "</div>"
      ],
      "text/plain": [
       "      predict  actual_time_taken\n",
       "0    8.541695           7.411236\n",
       "1    8.921524          11.963636\n",
       "2    8.583927          33.817204\n",
       "3    9.386891           3.000000\n",
       "4    9.503050          15.519865\n",
       "..        ...                ...\n",
       "74   8.133967          37.152318\n",
       "75   9.438173           4.263158\n",
       "76   6.755371           3.582857\n",
       "77   8.769024          17.405607\n",
       "78  10.826445          22.000000\n",
       "\n",
       "[79 rows x 2 columns]"
      ]
     },
     "execution_count": 144,
     "metadata": {},
     "output_type": "execute_result"
    }
   ],
   "source": [
    "pd_preds"
   ]
  },
  {
   "cell_type": "code",
   "execution_count": 145,
   "metadata": {},
   "outputs": [
    {
     "data": {
      "text/plain": [
       "{'whiskers': [<matplotlib.lines.Line2D at 0x21e1744ba20>,\n",
       "  <matplotlib.lines.Line2D at 0x21e1744bd68>],\n",
       " 'caps': [<matplotlib.lines.Line2D at 0x21e17457128>,\n",
       "  <matplotlib.lines.Line2D at 0x21e174574a8>],\n",
       " 'boxes': [<matplotlib.lines.Line2D at 0x21e1744b8d0>],\n",
       " 'medians': [<matplotlib.lines.Line2D at 0x21e17457828>],\n",
       " 'fliers': [<matplotlib.lines.Line2D at 0x21e17457ba8>],\n",
       " 'means': []}"
      ]
     },
     "execution_count": 145,
     "metadata": {},
     "output_type": "execute_result"
    },
    {
     "data": {
      "image/png": "[encoded data removed]",
      "text/plain": [
       "<Figure size 432x288 with 1 Axes>"
      ]
     },
     "metadata": {
      "needs_background": "light"
     },
     "output_type": "display_data"
    }
   ],
   "source": [
    "plt.boxplot(pd_preds['predict'])"
   ]
  },
  {
   "cell_type": "code",
   "execution_count": 146,
   "metadata": {},
   "outputs": [
    {
     "data": {
      "text/plain": [
       "{'whiskers': [<matplotlib.lines.Line2D at 0x21e174aecc0>,\n",
       "  <matplotlib.lines.Line2D at 0x21e174aefd0>],\n",
       " 'caps': [<matplotlib.lines.Line2D at 0x21e18e0e390>,\n",
       "  <matplotlib.lines.Line2D at 0x21e18e0e710>],\n",
       " 'boxes': [<matplotlib.lines.Line2D at 0x21e174aeb70>],\n",
       " 'medians': [<matplotlib.lines.Line2D at 0x21e18e0ea90>],\n",
       " 'fliers': [<matplotlib.lines.Line2D at 0x21e18e0ee10>],\n",
       " 'means': []}"
      ]
     },
     "execution_count": 146,
     "metadata": {},
     "output_type": "execute_result"
    },
    {
     "data": {
      "image/png": "[encoded data removed]",
      "text/plain": [
       "<Figure size 432x288 with 1 Axes>"
      ]
     },
     "metadata": {
      "needs_background": "light"
     },
     "output_type": "display_data"
    }
   ],
   "source": [
    "plt.boxplot(pd_preds['actual_time_taken'])"
   ]
  },
  {
   "cell_type": "code",
   "execution_count": 147,
   "metadata": {},
   "outputs": [
    {
     "data": {
      "image/png": "[encoded data removed]",
      "text/plain": [
       "<Figure size 432x288 with 1 Axes>"
      ]
     },
     "metadata": {
      "needs_background": "light"
     },
     "output_type": "display_data"
    }
   ],
   "source": [
    "plotGraph(pd_preds['predict'], pd_preds['actual_time_taken'],' test')"
   ]
  },
  {
   "cell_type": "code",
   "execution_count": 497,
   "metadata": {},
   "outputs": [],
   "source": [
    "# save the model\n",
    "model_path = h2o.save_model(model=model, path=\"models/EffortEstimationModelv2\", force=True)"
   ]
  },
  {
   "cell_type": "markdown",
   "metadata": {},
   "source": [
    "Documentation at the following\n",
    "\n",
    "https://docs.h2o.ai/h2o/latest-stable/h2o-py/docs/_modules/h2o/explanation/_explain.html"
   ]
  },
  {
   "cell_type": "code",
   "execution_count": 148,
   "metadata": {
    "scrolled": false
   },
   "outputs": [
    {
     "data": {
      "text/html": [
       "<h1>Variable Importance</h1>"
      ],
      "text/markdown": [
       "\n",
       "\n",
       "# Variable Importance"
      ],
      "text/plain": [
       "\n",
       "\n",
       "# Variable Importance"
      ]
     },
     "metadata": {},
     "output_type": "display_data"
    },
    {
     "data": {
      "text/html": [
       "<blockquote>The variable importance plot shows the relative importance of the most important variables in the model.</blockquote>"
      ],
      "text/markdown": [
       "\n",
       "> The variable importance plot shows the relative importance of the most important variables in the model."
      ],
      "text/plain": [
       "\n",
       "> The variable importance plot shows the relative importance of the most important variables in the model."
      ]
     },
     "metadata": {},
     "output_type": "display_data"
    },
    {
     "data": {
      "image/png": "[encoded data removed]",
      "text/plain": [
       "<Figure size 1152x648 with 1 Axes>"
      ]
     },
     "metadata": {
      "needs_background": "light"
     },
     "output_type": "display_data"
    },
    {
     "name": "stdout",
     "output_type": "stream",
     "text": [
      "\n",
      "\n"
     ]
    },
    {
     "data": {
      "text/html": [
       "<h1>SHAP Summary</h1>"
      ],
      "text/markdown": [
       "\n",
       "\n",
       "# SHAP Summary"
      ],
      "text/plain": [
       "\n",
       "\n",
       "# SHAP Summary"
      ]
     },
     "metadata": {},
     "output_type": "display_data"
    },
    {
     "data": {
      "text/html": [
       "<blockquote>SHAP summary plot shows the contribution of the features for each instance (row of data). The sum of the feature contributions and the bias term is equal to the raw prediction of the model, i.e., prediction before applying inverse link function.</blockquote>"
      ],
      "text/markdown": [
       "\n",
       "> SHAP summary plot shows the contribution of the features for each instance (row of data). The sum of the feature contributions and the bias term is equal to the raw prediction of the model, i.e., prediction before applying inverse link function."
      ],
      "text/plain": [
       "\n",
       "> SHAP summary plot shows the contribution of the features for each instance (row of data). The sum of the feature contributions and the bias term is equal to the raw prediction of the model, i.e., prediction before applying inverse link function."
      ]
     },
     "metadata": {},
     "output_type": "display_data"
    },
    {
     "data": {
      "image/png": "[encoded data removed]",
      "text/plain": [
       "<Figure size 1152x648 with 2 Axes>"
      ]
     },
     "metadata": {
      "needs_background": "light"
     },
     "output_type": "display_data"
    },
    {
     "name": "stdout",
     "output_type": "stream",
     "text": [
      "\n",
      "\n"
     ]
    },
    {
     "data": {
      "text/html": [
       "<h1>Variable Importance</h1>"
      ],
      "text/markdown": [
       "\n",
       "\n",
       "# Variable Importance"
      ],
      "text/plain": [
       "\n",
       "\n",
       "# Variable Importance"
      ]
     },
     "metadata": {},
     "output_type": "display_data"
    },
    {
     "data": {
      "text/html": [
       "<blockquote>The variable importance plot shows the relative importance of the most important variables in the model.</blockquote>"
      ],
      "text/markdown": [
       "\n",
       "> The variable importance plot shows the relative importance of the most important variables in the model."
      ],
      "text/plain": [
       "\n",
       "> The variable importance plot shows the relative importance of the most important variables in the model."
      ]
     },
     "metadata": {},
     "output_type": "display_data"
    },
    {
     "data": {
      "image/png": "[encoded data removed]",
      "text/plain": [
       "<Figure size 1152x648 with 1 Axes>"
      ]
     },
     "metadata": {},
     "output_type": "display_data"
    },
    {
     "data": {
      "text/html": [
       "<h1>SHAP Summary</h1>"
      ],
      "text/markdown": [
       "\n",
       "\n",
       "# SHAP Summary"
      ],
      "text/plain": [
       "\n",
       "\n",
       "# SHAP Summary"
      ]
     },
     "metadata": {},
     "output_type": "display_data"
    },
    {
     "data": {
      "text/html": [
       "<blockquote>SHAP summary plot shows the contribution of the features for each instance (row of data). The sum of the feature contributions and the bias term is equal to the raw prediction of the model, i.e., prediction before applying inverse link function.</blockquote>"
      ],
      "text/markdown": [
       "\n",
       "> SHAP summary plot shows the contribution of the features for each instance (row of data). The sum of the feature contributions and the bias term is equal to the raw prediction of the model, i.e., prediction before applying inverse link function."
      ],
      "text/plain": [
       "\n",
       "> SHAP summary plot shows the contribution of the features for each instance (row of data). The sum of the feature contributions and the bias term is equal to the raw prediction of the model, i.e., prediction before applying inverse link function."
      ]
     },
     "metadata": {},
     "output_type": "display_data"
    },
    {
     "data": {
      "image/png": "[encoded data removed]",
      "text/plain": [
       "<Figure size 1152x648 with 2 Axes>"
      ]
     },
     "metadata": {},
     "output_type": "display_data"
    }
   ],
   "source": [
    "aml.explain(test, include_explanations=[\"varimp\",'shap_summary'])"
   ]
  },
  {
   "cell_type": "code",
   "execution_count": null,
   "metadata": {},
   "outputs": [],
   "source": []
  },
  {
   "cell_type": "code",
   "execution_count": 65,
   "metadata": {
    "scrolled": false
   },
   "outputs": [],
   "source": [
    "#aml.explain_row(test, row_index=0)"
   ]
  },
  {
   "cell_type": "code",
   "execution_count": 66,
   "metadata": {},
   "outputs": [],
   "source": [
    "#h2o.shutdown()"
   ]
  },
  {
   "cell_type": "code",
   "execution_count": null,
   "metadata": {},
   "outputs": [],
   "source": []
  },
  {
   "cell_type": "code",
   "execution_count": null,
   "metadata": {},
   "outputs": [],
   "source": []
  }
 ],
 "metadata": {
  "kernelspec": {
   "display_name": "Python 3",
   "language": "python",
   "name": "python3"
  },
  "language_info": {
   "codemirror_mode": {
    "name": "ipython",
    "version": 3
   },
   "file_extension": ".py",
   "mimetype": "text/x-python",
   "name": "python",
   "nbconvert_exporter": "python",
   "pygments_lexer": "ipython3",
   "version": "3.7.3"
  }
 },
 "nbformat": 4,
 "nbformat_minor": 2
}
