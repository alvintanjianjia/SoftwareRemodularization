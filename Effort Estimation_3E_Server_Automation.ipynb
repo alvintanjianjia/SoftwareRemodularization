{
 "cells": [
  {
   "cell_type": "code",
   "execution_count": 2,
   "metadata": {},
   "outputs": [],
   "source": [
    "import pandas as pd"
   ]
  },
  {
   "cell_type": "code",
   "execution_count": 13,
   "metadata": {},
   "outputs": [
    {
     "data": {
      "text/html": [
       "<div>\n",
       "<style scoped>\n",
       "    .dataframe tbody tr th:only-of-type {\n",
       "        vertical-align: middle;\n",
       "    }\n",
       "\n",
       "    .dataframe tbody tr th {\n",
       "        vertical-align: top;\n",
       "    }\n",
       "\n",
       "    .dataframe thead th {\n",
       "        text-align: right;\n",
       "    }\n",
       "</style>\n",
       "<table border=\"1\" class=\"dataframe\">\n",
       "  <thead>\n",
       "    <tr style=\"text-align: right;\">\n",
       "      <th></th>\n",
       "      <th>project_name</th>\n",
       "      <th>project_link</th>\n",
       "      <th>0</th>\n",
       "    </tr>\n",
       "  </thead>\n",
       "  <tbody>\n",
       "    <tr>\n",
       "      <th>0</th>\n",
       "      <td>Alluxio</td>\n",
       "      <td>https://github.com/Alluxio/alluxio</td>\n",
       "      <td>12</td>\n",
       "    </tr>\n",
       "    <tr>\n",
       "      <th>1</th>\n",
       "      <td>Assertj-core</td>\n",
       "      <td>https://github.com/assertj/assertj-core</td>\n",
       "      <td>12</td>\n",
       "    </tr>\n",
       "    <tr>\n",
       "      <th>2</th>\n",
       "      <td>Atmosphere</td>\n",
       "      <td>https://github.com/Atmosphere/atmosphere</td>\n",
       "      <td>12</td>\n",
       "    </tr>\n",
       "    <tr>\n",
       "      <th>3</th>\n",
       "      <td>AxonFramework</td>\n",
       "      <td>https://github.com/AxonFramework/AxonFramework</td>\n",
       "      <td>12</td>\n",
       "    </tr>\n",
       "    <tr>\n",
       "      <th>4</th>\n",
       "      <td>Beam</td>\n",
       "      <td>https://github.com/apache/beam</td>\n",
       "      <td>12</td>\n",
       "    </tr>\n",
       "    <tr>\n",
       "      <th>5</th>\n",
       "      <td>Byte-buddy</td>\n",
       "      <td>https://github.com/raphw/byte-buddy</td>\n",
       "      <td>12</td>\n",
       "    </tr>\n",
       "    <tr>\n",
       "      <th>6</th>\n",
       "      <td>Camel</td>\n",
       "      <td>https://github.com/apache/camel</td>\n",
       "      <td>12</td>\n",
       "    </tr>\n",
       "    <tr>\n",
       "      <th>7</th>\n",
       "      <td>Cas</td>\n",
       "      <td>https://github.com/apereo/cas</td>\n",
       "      <td>12</td>\n",
       "    </tr>\n",
       "    <tr>\n",
       "      <th>8</th>\n",
       "      <td>Cassandra</td>\n",
       "      <td>https://github.com/apache/cassandra</td>\n",
       "      <td>12</td>\n",
       "    </tr>\n",
       "    <tr>\n",
       "      <th>9</th>\n",
       "      <td>Cxf</td>\n",
       "      <td>https://github.com/apache/cxf</td>\n",
       "      <td>12</td>\n",
       "    </tr>\n",
       "    <tr>\n",
       "      <th>10</th>\n",
       "      <td>Dbeaver</td>\n",
       "      <td>https://github.com/dbeaver/dbeaver</td>\n",
       "      <td>12</td>\n",
       "    </tr>\n",
       "    <tr>\n",
       "      <th>11</th>\n",
       "      <td>Eclim</td>\n",
       "      <td>https://github.com/ervandew/eclim</td>\n",
       "      <td>12</td>\n",
       "    </tr>\n",
       "    <tr>\n",
       "      <th>12</th>\n",
       "      <td>Guacamole-client</td>\n",
       "      <td>https://github.com/apache/guacamole-client</td>\n",
       "      <td>12</td>\n",
       "    </tr>\n",
       "    <tr>\n",
       "      <th>13</th>\n",
       "      <td>Hadoop</td>\n",
       "      <td>https://github.com/apache/hadoop</td>\n",
       "      <td>12</td>\n",
       "    </tr>\n",
       "    <tr>\n",
       "      <th>14</th>\n",
       "      <td>Hawtio</td>\n",
       "      <td>https://github.com/hawtio/hawtio</td>\n",
       "      <td>12</td>\n",
       "    </tr>\n",
       "    <tr>\n",
       "      <th>15</th>\n",
       "      <td>Okhttp</td>\n",
       "      <td>https://github.com/square/okhttp</td>\n",
       "      <td>12</td>\n",
       "    </tr>\n",
       "    <tr>\n",
       "      <th>16</th>\n",
       "      <td>Openapi-generator</td>\n",
       "      <td>https://github.com/OpenAPITools/openapi-generator</td>\n",
       "      <td>12</td>\n",
       "    </tr>\n",
       "    <tr>\n",
       "      <th>17</th>\n",
       "      <td>Orientdb</td>\n",
       "      <td>https://github.com/orientechnologies/orientdb</td>\n",
       "      <td>12</td>\n",
       "    </tr>\n",
       "    <tr>\n",
       "      <th>18</th>\n",
       "      <td>Redisson</td>\n",
       "      <td>https://github.com/redisson/redisson</td>\n",
       "      <td>12</td>\n",
       "    </tr>\n",
       "    <tr>\n",
       "      <th>19</th>\n",
       "      <td>Rest-assured</td>\n",
       "      <td>https://github.com/rest-assured/rest-assured</td>\n",
       "      <td>12</td>\n",
       "    </tr>\n",
       "    <tr>\n",
       "      <th>20</th>\n",
       "      <td>Spotbugs</td>\n",
       "      <td>https://github.com/spotbugs/spotbugs</td>\n",
       "      <td>12</td>\n",
       "    </tr>\n",
       "    <tr>\n",
       "      <th>21</th>\n",
       "      <td>Spring-framework</td>\n",
       "      <td>https://github.com/spring-projects/spring-fram...</td>\n",
       "      <td>12</td>\n",
       "    </tr>\n",
       "    <tr>\n",
       "      <th>22</th>\n",
       "      <td>Spring-security</td>\n",
       "      <td>https://github.com/spring-projects/spring-secu...</td>\n",
       "      <td>12</td>\n",
       "    </tr>\n",
       "    <tr>\n",
       "      <th>23</th>\n",
       "      <td>Storm</td>\n",
       "      <td>https://github.com/apache/storm</td>\n",
       "      <td>12</td>\n",
       "    </tr>\n",
       "    <tr>\n",
       "      <th>24</th>\n",
       "      <td>Testcontainers-java</td>\n",
       "      <td>https://github.com/testcontainers/testcontaine...</td>\n",
       "      <td>12</td>\n",
       "    </tr>\n",
       "    <tr>\n",
       "      <th>25</th>\n",
       "      <td>Tika</td>\n",
       "      <td>https://github.com/apache/tika</td>\n",
       "      <td>12</td>\n",
       "    </tr>\n",
       "    <tr>\n",
       "      <th>26</th>\n",
       "      <td>Traccar</td>\n",
       "      <td>https://github.com/traccar/traccar</td>\n",
       "      <td>12</td>\n",
       "    </tr>\n",
       "    <tr>\n",
       "      <th>27</th>\n",
       "      <td>karaf</td>\n",
       "      <td>https://github.com/apache/karaf</td>\n",
       "      <td>12</td>\n",
       "    </tr>\n",
       "  </tbody>\n",
       "</table>\n",
       "</div>"
      ],
      "text/plain": [
       "           project_name                                       project_link   0\n",
       "0               Alluxio                 https://github.com/Alluxio/alluxio  12\n",
       "1          Assertj-core            https://github.com/assertj/assertj-core  12\n",
       "2            Atmosphere           https://github.com/Atmosphere/atmosphere  12\n",
       "3         AxonFramework     https://github.com/AxonFramework/AxonFramework  12\n",
       "4                  Beam                     https://github.com/apache/beam  12\n",
       "5            Byte-buddy                https://github.com/raphw/byte-buddy  12\n",
       "6                 Camel                    https://github.com/apache/camel  12\n",
       "7                   Cas                      https://github.com/apereo/cas  12\n",
       "8             Cassandra                https://github.com/apache/cassandra  12\n",
       "9                   Cxf                      https://github.com/apache/cxf  12\n",
       "10              Dbeaver                 https://github.com/dbeaver/dbeaver  12\n",
       "11                Eclim                  https://github.com/ervandew/eclim  12\n",
       "12     Guacamole-client         https://github.com/apache/guacamole-client  12\n",
       "13               Hadoop                   https://github.com/apache/hadoop  12\n",
       "14               Hawtio                   https://github.com/hawtio/hawtio  12\n",
       "15               Okhttp                   https://github.com/square/okhttp  12\n",
       "16    Openapi-generator  https://github.com/OpenAPITools/openapi-generator  12\n",
       "17             Orientdb      https://github.com/orientechnologies/orientdb  12\n",
       "18             Redisson               https://github.com/redisson/redisson  12\n",
       "19         Rest-assured       https://github.com/rest-assured/rest-assured  12\n",
       "20             Spotbugs               https://github.com/spotbugs/spotbugs  12\n",
       "21     Spring-framework  https://github.com/spring-projects/spring-fram...  12\n",
       "22      Spring-security  https://github.com/spring-projects/spring-secu...  12\n",
       "23                Storm                    https://github.com/apache/storm  12\n",
       "24  Testcontainers-java  https://github.com/testcontainers/testcontaine...  12\n",
       "25                 Tika                     https://github.com/apache/tika  12\n",
       "26              Traccar                 https://github.com/traccar/traccar  12\n",
       "27                karaf                    https://github.com/apache/karaf  12"
      ]
     },
     "execution_count": 13,
     "metadata": {},
     "output_type": "execute_result"
    }
   ],
   "source": [
    "github_links = pd.read_csv('C:/Users/tanji/Desktop/SoftwareRemodularization/volatile_projects_complete_links_limit10_filtered.csv')\n",
    "github_links = github_links.groupby(['project_name', 'project_link']).size().reset_index()\n",
    "github_links"
   ]
  },
  {
   "cell_type": "code",
   "execution_count": 27,
   "metadata": {},
   "outputs": [],
   "source": [
    "github_links = github_links.tail(4)"
   ]
  },
  {
   "cell_type": "code",
   "execution_count": 28,
   "metadata": {},
   "outputs": [
    {
     "data": {
      "text/html": [
       "<div>\n",
       "<style scoped>\n",
       "    .dataframe tbody tr th:only-of-type {\n",
       "        vertical-align: middle;\n",
       "    }\n",
       "\n",
       "    .dataframe tbody tr th {\n",
       "        vertical-align: top;\n",
       "    }\n",
       "\n",
       "    .dataframe thead th {\n",
       "        text-align: right;\n",
       "    }\n",
       "</style>\n",
       "<table border=\"1\" class=\"dataframe\">\n",
       "  <thead>\n",
       "    <tr style=\"text-align: right;\">\n",
       "      <th></th>\n",
       "      <th>project_name</th>\n",
       "      <th>project_link</th>\n",
       "      <th>0</th>\n",
       "    </tr>\n",
       "  </thead>\n",
       "  <tbody>\n",
       "    <tr>\n",
       "      <th>24</th>\n",
       "      <td>Testcontainers-java</td>\n",
       "      <td>https://github.com/testcontainers/testcontaine...</td>\n",
       "      <td>12</td>\n",
       "    </tr>\n",
       "    <tr>\n",
       "      <th>25</th>\n",
       "      <td>Tika</td>\n",
       "      <td>https://github.com/apache/tika</td>\n",
       "      <td>12</td>\n",
       "    </tr>\n",
       "    <tr>\n",
       "      <th>26</th>\n",
       "      <td>Traccar</td>\n",
       "      <td>https://github.com/traccar/traccar</td>\n",
       "      <td>12</td>\n",
       "    </tr>\n",
       "    <tr>\n",
       "      <th>27</th>\n",
       "      <td>karaf</td>\n",
       "      <td>https://github.com/apache/karaf</td>\n",
       "      <td>12</td>\n",
       "    </tr>\n",
       "  </tbody>\n",
       "</table>\n",
       "</div>"
      ],
      "text/plain": [
       "           project_name                                       project_link   0\n",
       "24  Testcontainers-java  https://github.com/testcontainers/testcontaine...  12\n",
       "25                 Tika                     https://github.com/apache/tika  12\n",
       "26              Traccar                 https://github.com/traccar/traccar  12\n",
       "27                karaf                    https://github.com/apache/karaf  12"
      ]
     },
     "execution_count": 28,
     "metadata": {},
     "output_type": "execute_result"
    }
   ],
   "source": [
    "github_links"
   ]
  },
  {
   "cell_type": "code",
   "execution_count": 31,
   "metadata": {
    "scrolled": true
   },
   "outputs": [
    {
     "name": "stdout",
     "output_type": "stream",
     "text": [
      "Testcontainers-java\n",
      "https://github.com/testcontainers/testcontainers-java\n",
      "testcontainers-java\n",
      "testcontainers\n",
      "Tika\n",
      "https://github.com/apache/tika\n",
      "tika\n",
      "apache\n"
     ]
    },
    {
     "data": {
      "application/vnd.jupyter.widget-view+json": {
       "model_id": "9f4b01c5826e431c832a864f3b74df08",
       "version_major": 2,
       "version_minor": 0
      },
      "text/plain": [
       "Executing:   0%|          | 0/27 [00:00<?, ?cell/s]"
      ]
     },
     "metadata": {},
     "output_type": "display_data"
    },
    {
     "name": "stdout",
     "output_type": "stream",
     "text": [
      "Traccar\n",
      "https://github.com/traccar/traccar\n",
      "traccar\n",
      "traccar\n"
     ]
    },
    {
     "data": {
      "application/vnd.jupyter.widget-view+json": {
       "model_id": "7a147be7ddb043078eff01472bb0947b",
       "version_major": 2,
       "version_minor": 0
      },
      "text/plain": [
       "Executing:   0%|          | 0/27 [00:00<?, ?cell/s]"
      ]
     },
     "metadata": {},
     "output_type": "display_data"
    },
    {
     "name": "stdout",
     "output_type": "stream",
     "text": [
      "karaf\n",
      "https://github.com/apache/karaf\n",
      "karaf\n",
      "apache\n"
     ]
    },
    {
     "data": {
      "application/vnd.jupyter.widget-view+json": {
       "model_id": "9f9879eefb714c26a08b46d89f18feac",
       "version_major": 2,
       "version_minor": 0
      },
      "text/plain": [
       "Executing:   0%|          | 0/27 [00:00<?, ?cell/s]"
      ]
     },
     "metadata": {},
     "output_type": "display_data"
    }
   ],
   "source": [
    "import papermill as pm\n",
    "\n",
    "excluded_projects = ['Spotbugs','Testcontainers-java']\n",
    "\n",
    "for row in github_links.iterrows():\n",
    "    \n",
    "    print(row[1]['project_name'])\n",
    "    print(row[1]['project_link'])\n",
    "    print(row[1]['project_link'].split('/')[-1])\n",
    "    print(row[1]['project_link'].split('/')[-2])\n",
    "    project_name = row[1]['project_name']\n",
    "    project_owner = row[1]['project_link'].split('/')[-2]\n",
    "    project_name_short = row[1]['project_link'].split('/')[-1]\n",
    "    if project_name not in excluded_projects:\n",
    "        pm.execute_notebook(\n",
    "           'Effort Estimation_3E_Server.ipynb',\n",
    "           'Automation_Output.ipynb',\n",
    "           parameters = dict(project_name=project_name, project_owner=project_owner, project_name_short=project_name_short)\n",
    "        )\n",
    "    "
   ]
  },
  {
   "cell_type": "raw",
   "metadata": {},
   "source": [
    "import papermill as pm\n",
    "\n",
    "\n",
    "for element in leftover_arr:\n",
    "    print('Currently running: ' + element)\n",
    "    pm.execute_notebook(\n",
    "       'Effort Estimation_3D_Server.ipynb',\n",
    "       'Automation_Output.ipynb',\n",
    "       parameters = dict(project_name=element, commit_project_name=element)\n",
    "    )\n",
    "    "
   ]
  },
  {
   "cell_type": "code",
   "execution_count": null,
   "metadata": {},
   "outputs": [],
   "source": []
  }
 ],
 "metadata": {
  "kernelspec": {
   "display_name": "Python 3",
   "language": "python",
   "name": "python3"
  },
  "language_info": {
   "codemirror_mode": {
    "name": "ipython",
    "version": 3
   },
   "file_extension": ".py",
   "mimetype": "text/x-python",
   "name": "python",
   "nbconvert_exporter": "python",
   "pygments_lexer": "ipython3",
   "version": "3.7.3"
  }
 },
 "nbformat": 4,
 "nbformat_minor": 2
}
