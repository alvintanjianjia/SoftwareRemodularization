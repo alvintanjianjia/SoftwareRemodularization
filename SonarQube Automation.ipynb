{
 "cells": [
  {
   "cell_type": "code",
   "execution_count": null,
   "metadata": {},
   "outputs": [],
   "source": [
    "import os\n",
    "import pandas as pd"
   ]
  },
  {
   "cell_type": "code",
   "execution_count": null,
   "metadata": {},
   "outputs": [],
   "source": [
    "project_releases = pd.read_csv('E:/SoftwareRemodularization/30_projects_2020.csv')\n",
    "project_releases.head()"
   ]
  },
  {
   "cell_type": "code",
   "execution_count": null,
   "metadata": {},
   "outputs": [],
   "source": [
    "project_releases.columns"
   ]
  },
  {
   "cell_type": "code",
   "execution_count": null,
   "metadata": {},
   "outputs": [],
   "source": [
    "for row in project_releases.iterrows():\n",
    "    print(row[1]['project_name'])\n",
    "    print(row[1]['project_link'])\n",
    "    \n",
    "    project_name = row[1]['project_name']\n",
    "    project_link = row[1]['project_link']\n",
    "    try:\n",
    "        os.mkdir('E:/raw_sourcecode/' + project_name)\n",
    "    except:\n",
    "        pass\n",
    "    command = 'git clone ' + project_link +  ' E:/raw_sourcecode/' + project_name + '/' \n",
    "\n",
    "    #print(command)\n",
    "    os.system(command)"
   ]
  },
  {
   "cell_type": "code",
   "execution_count": null,
   "metadata": {},
   "outputs": [],
   "source": [
    "for row in project_releases.iterrows():\n",
    "    project_name = row[1]['project_name']\n",
    "    print(project_name)\n",
    "    command = \"E: & cd E:raw_sourcecode/{} \".format(project_name) + '& ' + \"sonar-scanner.bat -Dsonar.projectKey={} -Dsonar.sources=. -Dsonar.host.url=http://localhost:9000 -Dsonar.login=admin -Dsonar.password=password123 -Dsonar.java.binaries=**/*\".format(project_name)\n",
    "    print(command)\n",
    "    os.system(command)"
   ]
  }
 ],
 "metadata": {
  "kernelspec": {
   "display_name": "Python 3",
   "language": "python",
   "name": "python3"
  },
  "language_info": {
   "codemirror_mode": {
    "name": "ipython",
    "version": 3
   },
   "file_extension": ".py",
   "mimetype": "text/x-python",
   "name": "python",
   "nbconvert_exporter": "python",
   "pygments_lexer": "ipython3",
   "version": "3.7.3"
  }
 },
 "nbformat": 4,
 "nbformat_minor": 2
}
