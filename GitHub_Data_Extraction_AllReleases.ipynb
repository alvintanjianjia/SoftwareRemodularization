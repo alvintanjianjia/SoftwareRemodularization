{
 "cells": [
  {
   "cell_type": "code",
   "execution_count": 1,
   "metadata": {},
   "outputs": [],
   "source": [
    "from github import Github\n",
    "import pandas as pd\n",
    "import os\n",
    "from distutils.version import LooseVersion\n",
    "import numpy\n",
    "from datetime import datetime\n",
    "import time\n",
    "import psycopg2"
   ]
  },
  {
   "cell_type": "code",
   "execution_count": 22,
   "metadata": {},
   "outputs": [
    {
     "data": {
      "text/html": [
       "<div>\n",
       "<style scoped>\n",
       "    .dataframe tbody tr th:only-of-type {\n",
       "        vertical-align: middle;\n",
       "    }\n",
       "\n",
       "    .dataframe tbody tr th {\n",
       "        vertical-align: top;\n",
       "    }\n",
       "\n",
       "    .dataframe thead th {\n",
       "        text-align: right;\n",
       "    }\n",
       "</style>\n",
       "<table border=\"1\" class=\"dataframe\">\n",
       "  <thead>\n",
       "    <tr style=\"text-align: right;\">\n",
       "      <th></th>\n",
       "      <th>project_name</th>\n",
       "      <th>project_link</th>\n",
       "      <th>version_name</th>\n",
       "      <th>commit</th>\n",
       "    </tr>\n",
       "  </thead>\n",
       "  <tbody>\n",
       "    <tr>\n",
       "      <th>0</th>\n",
       "      <td>ZieIony-Carbon</td>\n",
       "      <td>https://github.com/ZieIony/Carbon</td>\n",
       "      <td>0.11.0</td>\n",
       "      <td>Commit(sha=\"7cabd4681b18d88ffa27a848ed76655063...</td>\n",
       "    </tr>\n",
       "    <tr>\n",
       "      <th>1</th>\n",
       "      <td>ZieIony-Carbon</td>\n",
       "      <td>https://github.com/ZieIony/Carbon</td>\n",
       "      <td>0.10.1</td>\n",
       "      <td>Commit(sha=\"68b770b148fe364b701e3d2d4bbfec6e83...</td>\n",
       "    </tr>\n",
       "    <tr>\n",
       "      <th>2</th>\n",
       "      <td>ZieIony-Carbon</td>\n",
       "      <td>https://github.com/ZieIony/Carbon</td>\n",
       "      <td>0.10.0.1</td>\n",
       "      <td>Commit(sha=\"d6a17ed24c096919cf9f55eecd93a04923...</td>\n",
       "    </tr>\n",
       "    <tr>\n",
       "      <th>3</th>\n",
       "      <td>ZieIony-Carbon</td>\n",
       "      <td>https://github.com/ZieIony/Carbon</td>\n",
       "      <td>0.10.0</td>\n",
       "      <td>Commit(sha=\"81b12fa328b86feb517a97bf575528c2f3...</td>\n",
       "    </tr>\n",
       "    <tr>\n",
       "      <th>4</th>\n",
       "      <td>ZieIony-Carbon</td>\n",
       "      <td>https://github.com/ZieIony/Carbon</td>\n",
       "      <td>0.9.0</td>\n",
       "      <td>Commit(sha=\"16ff8ae087e804cd3d5904d55891ace032...</td>\n",
       "    </tr>\n",
       "  </tbody>\n",
       "</table>\n",
       "</div>"
      ],
      "text/plain": [
       "     project_name                       project_link version_name  \\\n",
       "0  ZieIony-Carbon  https://github.com/ZieIony/Carbon       0.11.0   \n",
       "1  ZieIony-Carbon  https://github.com/ZieIony/Carbon       0.10.1   \n",
       "2  ZieIony-Carbon  https://github.com/ZieIony/Carbon     0.10.0.1   \n",
       "3  ZieIony-Carbon  https://github.com/ZieIony/Carbon       0.10.0   \n",
       "4  ZieIony-Carbon  https://github.com/ZieIony/Carbon        0.9.0   \n",
       "\n",
       "                                              commit  \n",
       "0  Commit(sha=\"7cabd4681b18d88ffa27a848ed76655063...  \n",
       "1  Commit(sha=\"68b770b148fe364b701e3d2d4bbfec6e83...  \n",
       "2  Commit(sha=\"d6a17ed24c096919cf9f55eecd93a04923...  \n",
       "3  Commit(sha=\"81b12fa328b86feb517a97bf575528c2f3...  \n",
       "4  Commit(sha=\"16ff8ae087e804cd3d5904d55891ace032...  "
      ]
     },
     "execution_count": 22,
     "metadata": {},
     "output_type": "execute_result"
    }
   ],
   "source": [
    "old_links = pd.read_csv('project_links_194_new.csv')\n",
    "old_links.head()"
   ]
  },
  {
   "cell_type": "code",
   "execution_count": 23,
   "metadata": {},
   "outputs": [
    {
     "name": "stdout",
     "output_type": "stream",
     "text": [
      "190\n"
     ]
    },
    {
     "data": {
      "text/html": [
       "<div>\n",
       "<style scoped>\n",
       "    .dataframe tbody tr th:only-of-type {\n",
       "        vertical-align: middle;\n",
       "    }\n",
       "\n",
       "    .dataframe tbody tr th {\n",
       "        vertical-align: top;\n",
       "    }\n",
       "\n",
       "    .dataframe thead th {\n",
       "        text-align: right;\n",
       "    }\n",
       "</style>\n",
       "<table border=\"1\" class=\"dataframe\">\n",
       "  <thead>\n",
       "    <tr style=\"text-align: right;\">\n",
       "      <th></th>\n",
       "      <th>project_name</th>\n",
       "      <th>project_link</th>\n",
       "    </tr>\n",
       "  </thead>\n",
       "  <tbody>\n",
       "    <tr>\n",
       "      <th>0</th>\n",
       "      <td>ZieIony-Carbon</td>\n",
       "      <td>https://github.com/ZieIony/Carbon</td>\n",
       "    </tr>\n",
       "    <tr>\n",
       "      <th>22</th>\n",
       "      <td>activiti-activiti</td>\n",
       "      <td>https://github.com/Activiti/Activiti</td>\n",
       "    </tr>\n",
       "    <tr>\n",
       "      <th>44</th>\n",
       "      <td>airbnb-lottie-android</td>\n",
       "      <td>https://github.com/airbnb/lottie-android</td>\n",
       "    </tr>\n",
       "    <tr>\n",
       "      <th>66</th>\n",
       "      <td>alibaba-fastjson</td>\n",
       "      <td>https://github.com/alibaba/fastjson</td>\n",
       "    </tr>\n",
       "    <tr>\n",
       "      <th>88</th>\n",
       "      <td>alibaba-jetcache</td>\n",
       "      <td>https://github.com/alibaba/jetcache</td>\n",
       "    </tr>\n",
       "  </tbody>\n",
       "</table>\n",
       "</div>"
      ],
      "text/plain": [
       "             project_name                              project_link\n",
       "0          ZieIony-Carbon         https://github.com/ZieIony/Carbon\n",
       "22      activiti-activiti      https://github.com/Activiti/Activiti\n",
       "44  airbnb-lottie-android  https://github.com/airbnb/lottie-android\n",
       "66       alibaba-fastjson       https://github.com/alibaba/fastjson\n",
       "88       alibaba-jetcache       https://github.com/alibaba/jetcache"
      ]
     },
     "execution_count": 23,
     "metadata": {},
     "output_type": "execute_result"
    }
   ],
   "source": [
    "unique_project_links = old_links[['project_name', 'project_link']]\n",
    "unique_project_links = unique_project_links.drop_duplicates()\n",
    "print(len(unique_project_links))\n",
    "unique_project_links.head()"
   ]
  },
  {
   "cell_type": "code",
   "execution_count": 9,
   "metadata": {},
   "outputs": [],
   "source": [
    "g = Github('tanjianjia@gmail.com', 'ad90bf7cd50c8d4ddf727f43ddaee4a4c6d9887f', timeout=3000)"
   ]
  },
  {
   "cell_type": "code",
   "execution_count": 24,
   "metadata": {},
   "outputs": [
    {
     "name": "stdout",
     "output_type": "stream",
     "text": [
      "permissions-dispatcher-PermissionsDispatcher Success\n",
      "pmd-pmd Success\n",
      "prolificinteractive-material-calendarview Success\n",
      "pxb1988-dex2jar Success\n",
      "quarkusio-quarkus Success\n",
      "querydsl-querydsl Success\n",
      "raphw-byte-buddy Success\n",
      "ReactiveX-RxJava Success\n",
      "real-logic-aeron Success\n",
      "realm-realm-java Success\n",
      "redisson-redisson Success\n",
      "rest-assured-rest-assured Success\n",
      "robolectric-robolectric Success\n",
      "rzwitserloot-lombok Success\n",
      "scribejava-scribejava Success\n",
      "seleniumHQ-selenium Success\n",
      "simplegeo-java-simplegeo Success\n",
      "socketio-socket.io-client-java Success\n",
      "sofastack-sofa-rpc Success\n",
      "spring-projects-spring-boot Success\n",
      "spring-projects-spring-security Success\n",
      "springfox-springfox Success\n",
      "square-android-times-square Success\n",
      "square-okhttp Success\n",
      "square-retrofit Success\n",
      "square-wire Success\n",
      "swagger-api-swagger-core Success\n",
      "testcontainers-testcontainers-java Success\n",
      "Twitter4J-Twitter4J Success\n",
      "uber-NullAway Success\n",
      "voxeolabs-moho Success\n",
      "web3j-web3j Success\n"
     ]
    }
   ],
   "source": [
    "main_arr = []\n",
    "\n",
    "for row in unique_project_links.iterrows():\n",
    "    if row[1]['project_name'] not in current_links:\n",
    "        repo = g.get_repo(row[1]['project_link'].replace('https://github.com/',''))\n",
    "        for release in repo.get_tags():\n",
    "            temp_arr = []\n",
    "            temp_arr.append(row[1]['project_name'])\n",
    "            temp_arr.append(row[1]['project_link'])\n",
    "            temp_arr.append(release.name)\n",
    "            temp_arr.append(release.commit)\n",
    "            main_arr.append(temp_arr)\n",
    "        print(row[1]['project_name'], 'Success')\n",
    "\n",
    "    \n"
   ]
  },
  {
   "cell_type": "code",
   "execution_count": 25,
   "metadata": {},
   "outputs": [],
   "source": [
    "new_links = pd.DataFrame(main_arr)\n",
    "new_links.columns = ['project_name', 'project_link', 'version_name', 'commit']"
   ]
  },
  {
   "cell_type": "code",
   "execution_count": 26,
   "metadata": {},
   "outputs": [
    {
     "data": {
      "text/html": [
       "<div>\n",
       "<style scoped>\n",
       "    .dataframe tbody tr th:only-of-type {\n",
       "        vertical-align: middle;\n",
       "    }\n",
       "\n",
       "    .dataframe tbody tr th {\n",
       "        vertical-align: top;\n",
       "    }\n",
       "\n",
       "    .dataframe thead th {\n",
       "        text-align: right;\n",
       "    }\n",
       "</style>\n",
       "<table border=\"1\" class=\"dataframe\">\n",
       "  <thead>\n",
       "    <tr style=\"text-align: right;\">\n",
       "      <th></th>\n",
       "      <th>project_name</th>\n",
       "      <th>project_link</th>\n",
       "      <th>version_name</th>\n",
       "      <th>commit</th>\n",
       "    </tr>\n",
       "  </thead>\n",
       "  <tbody>\n",
       "    <tr>\n",
       "      <th>0</th>\n",
       "      <td>permissions-dispatcher-PermissionsDispatcher</td>\n",
       "      <td>https://github.com/permissions-dispatcher/Perm...</td>\n",
       "      <td>ktx-1.0.0-beta1</td>\n",
       "      <td>Commit(sha=\"6405040c811ba3899f0df2c137ff37047c...</td>\n",
       "    </tr>\n",
       "    <tr>\n",
       "      <th>1</th>\n",
       "      <td>permissions-dispatcher-PermissionsDispatcher</td>\n",
       "      <td>https://github.com/permissions-dispatcher/Perm...</td>\n",
       "      <td>4.7.0</td>\n",
       "      <td>Commit(sha=\"24327b773bc6327a5a9e0758b6c9277ee8...</td>\n",
       "    </tr>\n",
       "    <tr>\n",
       "      <th>2</th>\n",
       "      <td>permissions-dispatcher-PermissionsDispatcher</td>\n",
       "      <td>https://github.com/permissions-dispatcher/Perm...</td>\n",
       "      <td>4.6.0</td>\n",
       "      <td>Commit(sha=\"2b3772c07625b05a954d3b6b0c9510f315...</td>\n",
       "    </tr>\n",
       "    <tr>\n",
       "      <th>3</th>\n",
       "      <td>permissions-dispatcher-PermissionsDispatcher</td>\n",
       "      <td>https://github.com/permissions-dispatcher/Perm...</td>\n",
       "      <td>4.5.0</td>\n",
       "      <td>Commit(sha=\"37b32571c55d8eedbb7a2b1fb6b6ce2e3d...</td>\n",
       "    </tr>\n",
       "    <tr>\n",
       "      <th>4</th>\n",
       "      <td>permissions-dispatcher-PermissionsDispatcher</td>\n",
       "      <td>https://github.com/permissions-dispatcher/Perm...</td>\n",
       "      <td>4.3.1</td>\n",
       "      <td>Commit(sha=\"600fea8618289b629054016af5bd89ccb5...</td>\n",
       "    </tr>\n",
       "  </tbody>\n",
       "</table>\n",
       "</div>"
      ],
      "text/plain": [
       "                                   project_name  \\\n",
       "0  permissions-dispatcher-PermissionsDispatcher   \n",
       "1  permissions-dispatcher-PermissionsDispatcher   \n",
       "2  permissions-dispatcher-PermissionsDispatcher   \n",
       "3  permissions-dispatcher-PermissionsDispatcher   \n",
       "4  permissions-dispatcher-PermissionsDispatcher   \n",
       "\n",
       "                                        project_link     version_name  \\\n",
       "0  https://github.com/permissions-dispatcher/Perm...  ktx-1.0.0-beta1   \n",
       "1  https://github.com/permissions-dispatcher/Perm...            4.7.0   \n",
       "2  https://github.com/permissions-dispatcher/Perm...            4.6.0   \n",
       "3  https://github.com/permissions-dispatcher/Perm...            4.5.0   \n",
       "4  https://github.com/permissions-dispatcher/Perm...            4.3.1   \n",
       "\n",
       "                                              commit  \n",
       "0  Commit(sha=\"6405040c811ba3899f0df2c137ff37047c...  \n",
       "1  Commit(sha=\"24327b773bc6327a5a9e0758b6c9277ee8...  \n",
       "2  Commit(sha=\"2b3772c07625b05a954d3b6b0c9510f315...  \n",
       "3  Commit(sha=\"37b32571c55d8eedbb7a2b1fb6b6ce2e3d...  \n",
       "4  Commit(sha=\"600fea8618289b629054016af5bd89ccb5...  "
      ]
     },
     "execution_count": 26,
     "metadata": {},
     "output_type": "execute_result"
    }
   ],
   "source": [
    "new_links.head()"
   ]
  },
  {
   "cell_type": "code",
   "execution_count": 27,
   "metadata": {},
   "outputs": [
    {
     "data": {
      "text/html": [
       "<div>\n",
       "<style scoped>\n",
       "    .dataframe tbody tr th:only-of-type {\n",
       "        vertical-align: middle;\n",
       "    }\n",
       "\n",
       "    .dataframe tbody tr th {\n",
       "        vertical-align: top;\n",
       "    }\n",
       "\n",
       "    .dataframe thead th {\n",
       "        text-align: right;\n",
       "    }\n",
       "</style>\n",
       "<table border=\"1\" class=\"dataframe\">\n",
       "  <thead>\n",
       "    <tr style=\"text-align: right;\">\n",
       "      <th></th>\n",
       "      <th>project_name</th>\n",
       "      <th>project_link</th>\n",
       "      <th>version_name</th>\n",
       "      <th>commit</th>\n",
       "    </tr>\n",
       "  </thead>\n",
       "  <tbody>\n",
       "    <tr>\n",
       "      <th>0</th>\n",
       "      <td>ZieIony-Carbon</td>\n",
       "      <td>https://github.com/ZieIony/Carbon</td>\n",
       "      <td>0.11.0</td>\n",
       "      <td>Commit(sha=\"7cabd4681b18d88ffa27a848ed76655063...</td>\n",
       "    </tr>\n",
       "    <tr>\n",
       "      <th>1</th>\n",
       "      <td>ZieIony-Carbon</td>\n",
       "      <td>https://github.com/ZieIony/Carbon</td>\n",
       "      <td>0.10.1</td>\n",
       "      <td>Commit(sha=\"68b770b148fe364b701e3d2d4bbfec6e83...</td>\n",
       "    </tr>\n",
       "    <tr>\n",
       "      <th>2</th>\n",
       "      <td>ZieIony-Carbon</td>\n",
       "      <td>https://github.com/ZieIony/Carbon</td>\n",
       "      <td>0.10.0.1</td>\n",
       "      <td>Commit(sha=\"d6a17ed24c096919cf9f55eecd93a04923...</td>\n",
       "    </tr>\n",
       "    <tr>\n",
       "      <th>3</th>\n",
       "      <td>ZieIony-Carbon</td>\n",
       "      <td>https://github.com/ZieIony/Carbon</td>\n",
       "      <td>0.10.0</td>\n",
       "      <td>Commit(sha=\"81b12fa328b86feb517a97bf575528c2f3...</td>\n",
       "    </tr>\n",
       "    <tr>\n",
       "      <th>4</th>\n",
       "      <td>ZieIony-Carbon</td>\n",
       "      <td>https://github.com/ZieIony/Carbon</td>\n",
       "      <td>0.9.0</td>\n",
       "      <td>Commit(sha=\"16ff8ae087e804cd3d5904d55891ace032...</td>\n",
       "    </tr>\n",
       "  </tbody>\n",
       "</table>\n",
       "</div>"
      ],
      "text/plain": [
       "     project_name                       project_link version_name  \\\n",
       "0  ZieIony-Carbon  https://github.com/ZieIony/Carbon       0.11.0   \n",
       "1  ZieIony-Carbon  https://github.com/ZieIony/Carbon       0.10.1   \n",
       "2  ZieIony-Carbon  https://github.com/ZieIony/Carbon     0.10.0.1   \n",
       "3  ZieIony-Carbon  https://github.com/ZieIony/Carbon       0.10.0   \n",
       "4  ZieIony-Carbon  https://github.com/ZieIony/Carbon        0.9.0   \n",
       "\n",
       "                                              commit  \n",
       "0  Commit(sha=\"7cabd4681b18d88ffa27a848ed76655063...  \n",
       "1  Commit(sha=\"68b770b148fe364b701e3d2d4bbfec6e83...  \n",
       "2  Commit(sha=\"d6a17ed24c096919cf9f55eecd93a04923...  \n",
       "3  Commit(sha=\"81b12fa328b86feb517a97bf575528c2f3...  \n",
       "4  Commit(sha=\"16ff8ae087e804cd3d5904d55891ace032...  "
      ]
     },
     "execution_count": 27,
     "metadata": {},
     "output_type": "execute_result"
    }
   ],
   "source": [
    "test.head()"
   ]
  },
  {
   "cell_type": "code",
   "execution_count": 28,
   "metadata": {},
   "outputs": [],
   "source": [
    "complete_links = pd.concat([new_links, test])"
   ]
  },
  {
   "cell_type": "code",
   "execution_count": 31,
   "metadata": {},
   "outputs": [],
   "source": [
    "final_complete_links = complete_links[complete_links.project_name != 'oracle-spacewalk-backend']"
   ]
  },
  {
   "cell_type": "code",
   "execution_count": 32,
   "metadata": {},
   "outputs": [
    {
     "name": "stdout",
     "output_type": "stream",
     "text": [
      "190\n",
      "26290\n"
     ]
    },
    {
     "data": {
      "text/html": [
       "<div>\n",
       "<style scoped>\n",
       "    .dataframe tbody tr th:only-of-type {\n",
       "        vertical-align: middle;\n",
       "    }\n",
       "\n",
       "    .dataframe tbody tr th {\n",
       "        vertical-align: top;\n",
       "    }\n",
       "\n",
       "    .dataframe thead th {\n",
       "        text-align: right;\n",
       "    }\n",
       "</style>\n",
       "<table border=\"1\" class=\"dataframe\">\n",
       "  <thead>\n",
       "    <tr style=\"text-align: right;\">\n",
       "      <th></th>\n",
       "      <th>project_name</th>\n",
       "      <th>project_link</th>\n",
       "      <th>version_name</th>\n",
       "      <th>commit</th>\n",
       "    </tr>\n",
       "  </thead>\n",
       "  <tbody>\n",
       "    <tr>\n",
       "      <th>0</th>\n",
       "      <td>permissions-dispatcher-PermissionsDispatcher</td>\n",
       "      <td>https://github.com/permissions-dispatcher/Perm...</td>\n",
       "      <td>ktx-1.0.0-beta1</td>\n",
       "      <td>Commit(sha=\"6405040c811ba3899f0df2c137ff37047c...</td>\n",
       "    </tr>\n",
       "    <tr>\n",
       "      <th>1</th>\n",
       "      <td>permissions-dispatcher-PermissionsDispatcher</td>\n",
       "      <td>https://github.com/permissions-dispatcher/Perm...</td>\n",
       "      <td>4.7.0</td>\n",
       "      <td>Commit(sha=\"24327b773bc6327a5a9e0758b6c9277ee8...</td>\n",
       "    </tr>\n",
       "    <tr>\n",
       "      <th>2</th>\n",
       "      <td>permissions-dispatcher-PermissionsDispatcher</td>\n",
       "      <td>https://github.com/permissions-dispatcher/Perm...</td>\n",
       "      <td>4.6.0</td>\n",
       "      <td>Commit(sha=\"2b3772c07625b05a954d3b6b0c9510f315...</td>\n",
       "    </tr>\n",
       "    <tr>\n",
       "      <th>3</th>\n",
       "      <td>permissions-dispatcher-PermissionsDispatcher</td>\n",
       "      <td>https://github.com/permissions-dispatcher/Perm...</td>\n",
       "      <td>4.5.0</td>\n",
       "      <td>Commit(sha=\"37b32571c55d8eedbb7a2b1fb6b6ce2e3d...</td>\n",
       "    </tr>\n",
       "    <tr>\n",
       "      <th>4</th>\n",
       "      <td>permissions-dispatcher-PermissionsDispatcher</td>\n",
       "      <td>https://github.com/permissions-dispatcher/Perm...</td>\n",
       "      <td>4.3.1</td>\n",
       "      <td>Commit(sha=\"600fea8618289b629054016af5bd89ccb5...</td>\n",
       "    </tr>\n",
       "  </tbody>\n",
       "</table>\n",
       "</div>"
      ],
      "text/plain": [
       "                                   project_name  \\\n",
       "0  permissions-dispatcher-PermissionsDispatcher   \n",
       "1  permissions-dispatcher-PermissionsDispatcher   \n",
       "2  permissions-dispatcher-PermissionsDispatcher   \n",
       "3  permissions-dispatcher-PermissionsDispatcher   \n",
       "4  permissions-dispatcher-PermissionsDispatcher   \n",
       "\n",
       "                                        project_link     version_name  \\\n",
       "0  https://github.com/permissions-dispatcher/Perm...  ktx-1.0.0-beta1   \n",
       "1  https://github.com/permissions-dispatcher/Perm...            4.7.0   \n",
       "2  https://github.com/permissions-dispatcher/Perm...            4.6.0   \n",
       "3  https://github.com/permissions-dispatcher/Perm...            4.5.0   \n",
       "4  https://github.com/permissions-dispatcher/Perm...            4.3.1   \n",
       "\n",
       "                                              commit  \n",
       "0  Commit(sha=\"6405040c811ba3899f0df2c137ff37047c...  \n",
       "1  Commit(sha=\"24327b773bc6327a5a9e0758b6c9277ee8...  \n",
       "2  Commit(sha=\"2b3772c07625b05a954d3b6b0c9510f315...  \n",
       "3  Commit(sha=\"37b32571c55d8eedbb7a2b1fb6b6ce2e3d...  \n",
       "4  Commit(sha=\"600fea8618289b629054016af5bd89ccb5...  "
      ]
     },
     "execution_count": 32,
     "metadata": {},
     "output_type": "execute_result"
    }
   ],
   "source": [
    "print(len(final_complete_links['project_name'].unique()))\n",
    "print(len(final_complete_links))\n",
    "final_complete_links.head()"
   ]
  },
  {
   "cell_type": "code",
   "execution_count": 33,
   "metadata": {},
   "outputs": [],
   "source": [
    "final_complete_links.to_csv('complete_links_allVersions.csv', index=False)"
   ]
  },
  {
   "cell_type": "code",
   "execution_count": 12,
   "metadata": {},
   "outputs": [
    {
     "name": "stdout",
     "output_type": "stream",
     "text": [
      "159\n"
     ]
    }
   ],
   "source": [
    "print(len(new_links['project_name'].unique()))"
   ]
  },
  {
   "cell_type": "code",
   "execution_count": 13,
   "metadata": {},
   "outputs": [],
   "source": [
    "current_links = new_links['project_name'].unique()"
   ]
  },
  {
   "cell_type": "code",
   "execution_count": null,
   "metadata": {},
   "outputs": [],
   "source": [
    "new_links.head()"
   ]
  },
  {
   "cell_type": "code",
   "execution_count": null,
   "metadata": {},
   "outputs": [],
   "source": [
    "for row in new_links.iterrows():\n",
    "    print(row[1]['commit'])\n",
    "    print(row[1]['commit'].sha)"
   ]
  },
  {
   "cell_type": "code",
   "execution_count": null,
   "metadata": {},
   "outputs": [],
   "source": [
    "new_links.to_csv('project_links_194_new.csv',index=False)"
   ]
  },
  {
   "cell_type": "code",
   "execution_count": null,
   "metadata": {},
   "outputs": [],
   "source": [
    "repo = g.get_repo(unique_project_links[0].replace('https://github.com/',''))\n",
    "arr = \n",
    "for release in repo.get_tags():\n",
    "    print(release)\n",
    "    print(release.name)\n",
    "    arr.append()"
   ]
  },
  {
   "cell_type": "code",
   "execution_count": 20,
   "metadata": {},
   "outputs": [
    {
     "data": {
      "text/html": [
       "<div>\n",
       "<style scoped>\n",
       "    .dataframe tbody tr th:only-of-type {\n",
       "        vertical-align: middle;\n",
       "    }\n",
       "\n",
       "    .dataframe tbody tr th {\n",
       "        vertical-align: top;\n",
       "    }\n",
       "\n",
       "    .dataframe thead th {\n",
       "        text-align: right;\n",
       "    }\n",
       "</style>\n",
       "<table border=\"1\" class=\"dataframe\">\n",
       "  <thead>\n",
       "    <tr style=\"text-align: right;\">\n",
       "      <th></th>\n",
       "      <th>project_name</th>\n",
       "      <th>project_link</th>\n",
       "      <th>version_name</th>\n",
       "      <th>commit</th>\n",
       "    </tr>\n",
       "  </thead>\n",
       "  <tbody>\n",
       "    <tr>\n",
       "      <th>0</th>\n",
       "      <td>ZieIony-Carbon</td>\n",
       "      <td>https://github.com/ZieIony/Carbon</td>\n",
       "      <td>0.11.0</td>\n",
       "      <td>Commit(sha=\"7cabd4681b18d88ffa27a848ed76655063...</td>\n",
       "    </tr>\n",
       "    <tr>\n",
       "      <th>1</th>\n",
       "      <td>ZieIony-Carbon</td>\n",
       "      <td>https://github.com/ZieIony/Carbon</td>\n",
       "      <td>0.10.1</td>\n",
       "      <td>Commit(sha=\"68b770b148fe364b701e3d2d4bbfec6e83...</td>\n",
       "    </tr>\n",
       "    <tr>\n",
       "      <th>2</th>\n",
       "      <td>ZieIony-Carbon</td>\n",
       "      <td>https://github.com/ZieIony/Carbon</td>\n",
       "      <td>0.10.0.1</td>\n",
       "      <td>Commit(sha=\"d6a17ed24c096919cf9f55eecd93a04923...</td>\n",
       "    </tr>\n",
       "    <tr>\n",
       "      <th>3</th>\n",
       "      <td>ZieIony-Carbon</td>\n",
       "      <td>https://github.com/ZieIony/Carbon</td>\n",
       "      <td>0.10.0</td>\n",
       "      <td>Commit(sha=\"81b12fa328b86feb517a97bf575528c2f3...</td>\n",
       "    </tr>\n",
       "    <tr>\n",
       "      <th>4</th>\n",
       "      <td>ZieIony-Carbon</td>\n",
       "      <td>https://github.com/ZieIony/Carbon</td>\n",
       "      <td>0.9.0</td>\n",
       "      <td>Commit(sha=\"16ff8ae087e804cd3d5904d55891ace032...</td>\n",
       "    </tr>\n",
       "  </tbody>\n",
       "</table>\n",
       "</div>"
      ],
      "text/plain": [
       "     project_name                       project_link version_name  \\\n",
       "0  ZieIony-Carbon  https://github.com/ZieIony/Carbon       0.11.0   \n",
       "1  ZieIony-Carbon  https://github.com/ZieIony/Carbon       0.10.1   \n",
       "2  ZieIony-Carbon  https://github.com/ZieIony/Carbon     0.10.0.1   \n",
       "3  ZieIony-Carbon  https://github.com/ZieIony/Carbon       0.10.0   \n",
       "4  ZieIony-Carbon  https://github.com/ZieIony/Carbon        0.9.0   \n",
       "\n",
       "                                              commit  \n",
       "0  Commit(sha=\"7cabd4681b18d88ffa27a848ed76655063...  \n",
       "1  Commit(sha=\"68b770b148fe364b701e3d2d4bbfec6e83...  \n",
       "2  Commit(sha=\"d6a17ed24c096919cf9f55eecd93a04923...  \n",
       "3  Commit(sha=\"81b12fa328b86feb517a97bf575528c2f3...  \n",
       "4  Commit(sha=\"16ff8ae087e804cd3d5904d55891ace032...  "
      ]
     },
     "execution_count": 20,
     "metadata": {},
     "output_type": "execute_result"
    }
   ],
   "source": [
    "test = pd.DataFrame(main_arr)\n",
    "test.columns = ['project_name', 'project_link', 'version_name', 'commit']\n",
    "test.head()"
   ]
  },
  {
   "cell_type": "code",
   "execution_count": null,
   "metadata": {},
   "outputs": [],
   "source": [
    "### remove oracle-spacewalk-backend"
   ]
  }
 ],
 "metadata": {
  "kernelspec": {
   "display_name": "Python 3 (ipykernel)",
   "language": "python",
   "name": "python3"
  },
  "language_info": {
   "codemirror_mode": {
    "name": "ipython",
    "version": 3
   },
   "file_extension": ".py",
   "mimetype": "text/x-python",
   "name": "python",
   "nbconvert_exporter": "python",
   "pygments_lexer": "ipython3",
   "version": "3.7.3"
  }
 },
 "nbformat": 4,
 "nbformat_minor": 2
}
