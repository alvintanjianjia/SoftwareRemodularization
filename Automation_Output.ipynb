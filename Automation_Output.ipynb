{
 "cells": [
  {
   "cell_type": "code",
   "execution_count": 1,
   "id": "1212958f",
   "metadata": {
    "execution": {
     "iopub.execute_input": "2022-01-22T06:34:27.067215Z",
     "iopub.status.busy": "2022-01-22T06:34:27.067215Z",
     "iopub.status.idle": "2022-01-22T06:34:29.161635Z",
     "shell.execute_reply": "2022-01-22T06:34:29.161635Z"
    },
    "papermill": {
     "duration": 2.116418,
     "end_time": "2022-01-22T06:34:29.161635",
     "exception": false,
     "start_time": "2022-01-22T06:34:27.045217",
     "status": "completed"
    },
    "tags": []
   },
   "outputs": [],
   "source": [
    "import h2o\n",
    "from h2o.estimators.word2vec import H2OWord2vecEstimator\n",
    "import json\n",
    "import pandas as pd\n",
    "import numpy as np\n",
    "import networkx as nx\n",
    "import jellyfish\n",
    "import os\n",
    "import shutil\n",
    "import subprocess\n",
    "import requests\n",
    "from github import Github\n",
    "from git import Repo\n",
    "from matplotlib import pyplot as plt\n",
    "from sklearn.feature_extraction.text import TfidfVectorizer\n",
    "from sklearn.cluster import KMeans\n",
    "from sklearn.metrics import adjusted_rand_score\n",
    "from sklearn import preprocessing\n",
    "from sklearn.cluster import AgglomerativeClustering\n",
    "from zipfile import ZipFile\n",
    "from filecmp import dircmp\n",
    "import configparser\n",
    "from pprint import pprint\n",
    "from datetime import datetime\n",
    "import random\n",
    "from feature_engine.imputation import MeanMedianImputer\n",
    "from sklearn.cluster import KMeans"
   ]
  },
  {
   "cell_type": "code",
   "execution_count": 2,
   "id": "7b848f34",
   "metadata": {
    "execution": {
     "iopub.execute_input": "2022-01-22T06:34:29.201927Z",
     "iopub.status.busy": "2022-01-22T06:34:29.200927Z",
     "iopub.status.idle": "2022-01-22T06:34:29.207926Z",
     "shell.execute_reply": "2022-01-22T06:34:29.206926Z"
    },
    "papermill": {
     "duration": 0.030289,
     "end_time": "2022-01-22T06:34:29.207926",
     "exception": false,
     "start_time": "2022-01-22T06:34:29.177637",
     "status": "completed"
    },
    "tags": []
   },
   "outputs": [
    {
     "name": "stdout",
     "output_type": "stream",
     "text": [
      "['github']"
     ]
    },
    {
     "name": "stdout",
     "output_type": "stream",
     "text": [
      "\n"
     ]
    }
   ],
   "source": [
    "config = configparser.ConfigParser()\n",
    "config.read('authentication.ini')\n",
    "print(config.sections())\n",
    "github_oauth = config['github']['api_key']"
   ]
  },
  {
   "cell_type": "code",
   "execution_count": 3,
   "id": "0a1382d8",
   "metadata": {
    "execution": {
     "iopub.execute_input": "2022-01-22T06:34:29.251927Z",
     "iopub.status.busy": "2022-01-22T06:34:29.251927Z",
     "iopub.status.idle": "2022-01-22T06:34:29.269930Z",
     "shell.execute_reply": "2022-01-22T06:34:29.270930Z"
    },
    "papermill": {
     "duration": 0.038005,
     "end_time": "2022-01-22T06:34:29.270930",
     "exception": false,
     "start_time": "2022-01-22T06:34:29.232925",
     "status": "completed"
    },
    "tags": [
     "parameters"
    ]
   },
   "outputs": [],
   "source": [
    "project_name = 'Redisson'\n",
    "project_owner = 'redisson'\n",
    "project_name_short = 'redisson'"
   ]
  },
  {
   "cell_type": "code",
   "execution_count": 4,
   "id": "16700824",
   "metadata": {
    "execution": {
     "iopub.execute_input": "2022-01-22T06:34:29.310924Z",
     "iopub.status.busy": "2022-01-22T06:34:29.309925Z",
     "iopub.status.idle": "2022-01-22T06:34:29.316926Z",
     "shell.execute_reply": "2022-01-22T06:34:29.316926Z"
    },
    "papermill": {
     "duration": 0.024,
     "end_time": "2022-01-22T06:34:29.316926",
     "exception": false,
     "start_time": "2022-01-22T06:34:29.292926",
     "status": "completed"
    },
    "tags": [
     "injected-parameters"
    ]
   },
   "outputs": [],
   "source": [
    "# Parameters\n",
    "project_name = \"karaf\"\n",
    "project_owner = \"apache\"\n",
    "project_name_short = \"karaf\"\n"
   ]
  },
  {
   "cell_type": "code",
   "execution_count": 5,
   "id": "0d18c5a4",
   "metadata": {
    "execution": {
     "iopub.execute_input": "2022-01-22T06:34:29.358393Z",
     "iopub.status.busy": "2022-01-22T06:34:29.357395Z",
     "iopub.status.idle": "2022-01-22T06:34:29.379392Z",
     "shell.execute_reply": "2022-01-22T06:34:29.378392Z"
    },
    "papermill": {
     "duration": 0.048465,
     "end_time": "2022-01-22T06:34:29.379392",
     "exception": false,
     "start_time": "2022-01-22T06:34:29.330927",
     "status": "completed"
    },
    "tags": []
   },
   "outputs": [],
   "source": [
    "okhttp_commits_df = pd.read_csv(f'Effort_Estimation_Results_v6/{project_name}.csv')"
   ]
  },
  {
   "cell_type": "code",
   "execution_count": 6,
   "id": "5bbab53f",
   "metadata": {
    "execution": {
     "iopub.execute_input": "2022-01-22T06:34:29.421984Z",
     "iopub.status.busy": "2022-01-22T06:34:29.421984Z",
     "iopub.status.idle": "2022-01-22T06:34:29.441980Z",
     "shell.execute_reply": "2022-01-22T06:34:29.441980Z"
    },
    "papermill": {
     "duration": 0.048071,
     "end_time": "2022-01-22T06:34:29.441980",
     "exception": false,
     "start_time": "2022-01-22T06:34:29.393909",
     "status": "completed"
    },
    "tags": []
   },
   "outputs": [
    {
     "data": {
      "text/html": [
       "<div>\n",
       "<style scoped>\n",
       "    .dataframe tbody tr th:only-of-type {\n",
       "        vertical-align: middle;\n",
       "    }\n",
       "\n",
       "    .dataframe tbody tr th {\n",
       "        vertical-align: top;\n",
       "    }\n",
       "\n",
       "    .dataframe thead th {\n",
       "        text-align: right;\n",
       "    }\n",
       "</style>\n",
       "<table border=\"1\" class=\"dataframe\">\n",
       "  <thead>\n",
       "    <tr style=\"text-align: right;\">\n",
       "      <th></th>\n",
       "      <th>kmean_label</th>\n",
       "      <th>time_taken_mean</th>\n",
       "      <th>time_taken_min</th>\n",
       "      <th>time_taken_max</th>\n",
       "      <th>time_taken_q10</th>\n",
       "      <th>time_taken_q20</th>\n",
       "      <th>time_taken_q25</th>\n",
       "      <th>time_taken_q30</th>\n",
       "      <th>time_taken_q40</th>\n",
       "      <th>time_taken_q50</th>\n",
       "      <th>...</th>\n",
       "      <th>num_dependency_max</th>\n",
       "      <th>num_dependency_std</th>\n",
       "      <th>num_line_affected_mean</th>\n",
       "      <th>num_line_affected_min</th>\n",
       "      <th>num_line_affected_max</th>\n",
       "      <th>num_line_affected_std</th>\n",
       "      <th>actual_num_of_classes_touched_mean</th>\n",
       "      <th>actual_num_of_classes_touched_min</th>\n",
       "      <th>actual_num_of_classes_touched_max</th>\n",
       "      <th>actual_num_of_classes_touched_std</th>\n",
       "    </tr>\n",
       "  </thead>\n",
       "  <tbody>\n",
       "    <tr>\n",
       "      <th>0</th>\n",
       "      <td>0</td>\n",
       "      <td>24.250000</td>\n",
       "      <td>1.0</td>\n",
       "      <td>164.0</td>\n",
       "      <td>1.0</td>\n",
       "      <td>2.0</td>\n",
       "      <td>3.0</td>\n",
       "      <td>4.0</td>\n",
       "      <td>7.0</td>\n",
       "      <td>13.0</td>\n",
       "      <td>...</td>\n",
       "      <td>64.0</td>\n",
       "      <td>6.363961</td>\n",
       "      <td>4.0</td>\n",
       "      <td>4</td>\n",
       "      <td>4</td>\n",
       "      <td>0.0</td>\n",
       "      <td>4.0</td>\n",
       "      <td>4</td>\n",
       "      <td>4</td>\n",
       "      <td>0.0</td>\n",
       "    </tr>\n",
       "    <tr>\n",
       "      <th>1</th>\n",
       "      <td>0</td>\n",
       "      <td>24.250000</td>\n",
       "      <td>1.0</td>\n",
       "      <td>164.0</td>\n",
       "      <td>1.0</td>\n",
       "      <td>2.0</td>\n",
       "      <td>3.0</td>\n",
       "      <td>4.0</td>\n",
       "      <td>7.0</td>\n",
       "      <td>13.0</td>\n",
       "      <td>...</td>\n",
       "      <td>17.0</td>\n",
       "      <td>7.571878</td>\n",
       "      <td>35.0</td>\n",
       "      <td>35</td>\n",
       "      <td>35</td>\n",
       "      <td>0.0</td>\n",
       "      <td>2.0</td>\n",
       "      <td>2</td>\n",
       "      <td>2</td>\n",
       "      <td>0.0</td>\n",
       "    </tr>\n",
       "    <tr>\n",
       "      <th>2</th>\n",
       "      <td>13</td>\n",
       "      <td>25.155606</td>\n",
       "      <td>1.0</td>\n",
       "      <td>163.0</td>\n",
       "      <td>1.0</td>\n",
       "      <td>2.0</td>\n",
       "      <td>3.0</td>\n",
       "      <td>4.0</td>\n",
       "      <td>8.0</td>\n",
       "      <td>13.0</td>\n",
       "      <td>...</td>\n",
       "      <td>12.0</td>\n",
       "      <td>0.707107</td>\n",
       "      <td>48.0</td>\n",
       "      <td>48</td>\n",
       "      <td>48</td>\n",
       "      <td>0.0</td>\n",
       "      <td>2.0</td>\n",
       "      <td>2</td>\n",
       "      <td>2</td>\n",
       "      <td>0.0</td>\n",
       "    </tr>\n",
       "    <tr>\n",
       "      <th>3</th>\n",
       "      <td>14</td>\n",
       "      <td>23.773360</td>\n",
       "      <td>1.0</td>\n",
       "      <td>160.0</td>\n",
       "      <td>1.0</td>\n",
       "      <td>2.0</td>\n",
       "      <td>3.0</td>\n",
       "      <td>4.0</td>\n",
       "      <td>6.0</td>\n",
       "      <td>11.0</td>\n",
       "      <td>...</td>\n",
       "      <td>12.0</td>\n",
       "      <td>0.707107</td>\n",
       "      <td>50.0</td>\n",
       "      <td>50</td>\n",
       "      <td>50</td>\n",
       "      <td>0.0</td>\n",
       "      <td>2.0</td>\n",
       "      <td>2</td>\n",
       "      <td>2</td>\n",
       "      <td>0.0</td>\n",
       "    </tr>\n",
       "    <tr>\n",
       "      <th>4</th>\n",
       "      <td>14</td>\n",
       "      <td>23.773360</td>\n",
       "      <td>1.0</td>\n",
       "      <td>160.0</td>\n",
       "      <td>1.0</td>\n",
       "      <td>2.0</td>\n",
       "      <td>3.0</td>\n",
       "      <td>4.0</td>\n",
       "      <td>6.0</td>\n",
       "      <td>11.0</td>\n",
       "      <td>...</td>\n",
       "      <td>18.0</td>\n",
       "      <td>NaN</td>\n",
       "      <td>169.0</td>\n",
       "      <td>169</td>\n",
       "      <td>169</td>\n",
       "      <td>NaN</td>\n",
       "      <td>2.0</td>\n",
       "      <td>2</td>\n",
       "      <td>2</td>\n",
       "      <td>NaN</td>\n",
       "    </tr>\n",
       "  </tbody>\n",
       "</table>\n",
       "<p>5 rows × 199 columns</p>\n",
       "</div>"
      ],
      "text/plain": [
       "   kmean_label  time_taken_mean  time_taken_min  time_taken_max  \\\n",
       "0            0        24.250000             1.0           164.0   \n",
       "1            0        24.250000             1.0           164.0   \n",
       "2           13        25.155606             1.0           163.0   \n",
       "3           14        23.773360             1.0           160.0   \n",
       "4           14        23.773360             1.0           160.0   \n",
       "\n",
       "   time_taken_q10  time_taken_q20  time_taken_q25  time_taken_q30  \\\n",
       "0             1.0             2.0             3.0             4.0   \n",
       "1             1.0             2.0             3.0             4.0   \n",
       "2             1.0             2.0             3.0             4.0   \n",
       "3             1.0             2.0             3.0             4.0   \n",
       "4             1.0             2.0             3.0             4.0   \n",
       "\n",
       "   time_taken_q40  time_taken_q50  ...  num_dependency_max  \\\n",
       "0             7.0            13.0  ...                64.0   \n",
       "1             7.0            13.0  ...                17.0   \n",
       "2             8.0            13.0  ...                12.0   \n",
       "3             6.0            11.0  ...                12.0   \n",
       "4             6.0            11.0  ...                18.0   \n",
       "\n",
       "   num_dependency_std  num_line_affected_mean  num_line_affected_min  \\\n",
       "0            6.363961                     4.0                      4   \n",
       "1            7.571878                    35.0                     35   \n",
       "2            0.707107                    48.0                     48   \n",
       "3            0.707107                    50.0                     50   \n",
       "4                 NaN                   169.0                    169   \n",
       "\n",
       "   num_line_affected_max num_line_affected_std  \\\n",
       "0                      4                   0.0   \n",
       "1                     35                   0.0   \n",
       "2                     48                   0.0   \n",
       "3                     50                   0.0   \n",
       "4                    169                   NaN   \n",
       "\n",
       "  actual_num_of_classes_touched_mean actual_num_of_classes_touched_min  \\\n",
       "0                                4.0                                 4   \n",
       "1                                2.0                                 2   \n",
       "2                                2.0                                 2   \n",
       "3                                2.0                                 2   \n",
       "4                                2.0                                 2   \n",
       "\n",
       "  actual_num_of_classes_touched_max actual_num_of_classes_touched_std  \n",
       "0                                 4                               0.0  \n",
       "1                                 2                               0.0  \n",
       "2                                 2                               0.0  \n",
       "3                                 2                               0.0  \n",
       "4                                 2                               NaN  \n",
       "\n",
       "[5 rows x 199 columns]"
      ]
     },
     "execution_count": 6,
     "metadata": {},
     "output_type": "execute_result"
    }
   ],
   "source": [
    "okhttp_commits_df.head()"
   ]
  },
  {
   "cell_type": "code",
   "execution_count": 7,
   "id": "7db5f3f5",
   "metadata": {
    "execution": {
     "iopub.execute_input": "2022-01-22T06:34:29.480981Z",
     "iopub.status.busy": "2022-01-22T06:34:29.479978Z",
     "iopub.status.idle": "2022-01-22T06:34:29.490981Z",
     "shell.execute_reply": "2022-01-22T06:34:29.489980Z"
    },
    "papermill": {
     "duration": 0.034002,
     "end_time": "2022-01-22T06:34:29.490981",
     "exception": false,
     "start_time": "2022-01-22T06:34:29.456979",
     "status": "completed"
    },
    "tags": []
   },
   "outputs": [
    {
     "data": {
      "text/plain": [
       "5"
      ]
     },
     "execution_count": 7,
     "metadata": {},
     "output_type": "execute_result"
    }
   ],
   "source": [
    "len(okhttp_commits_df)"
   ]
  },
  {
   "cell_type": "code",
   "execution_count": 8,
   "id": "43fe5d13",
   "metadata": {
    "execution": {
     "iopub.execute_input": "2022-01-22T06:34:29.535676Z",
     "iopub.status.busy": "2022-01-22T06:34:29.535676Z",
     "iopub.status.idle": "2022-01-22T06:34:29.553673Z",
     "shell.execute_reply": "2022-01-22T06:34:29.553673Z"
    },
    "papermill": {
     "duration": 0.039002,
     "end_time": "2022-01-22T06:34:29.553673",
     "exception": false,
     "start_time": "2022-01-22T06:34:29.514671",
     "status": "completed"
    },
    "tags": []
   },
   "outputs": [
    {
     "data": {
      "text/plain": [
       "0    c373315a5b53fa15ccb5322f7d40eda235d2a4c8\n",
       "1    0f20737512ac120452e2749b7e41f6857488e9d2\n",
       "2    e7201d42fc4e9a13b32c9f42dda5ae40a9648be5\n",
       "3    91f2082b66ad2d6ce5f3731912c5117ef10f248c\n",
       "4    8c2d5f928b3ddd3b9786e9a6b0b37a38dddaf974\n",
       "Name: commit_compared_with, dtype: object"
      ]
     },
     "execution_count": 8,
     "metadata": {},
     "output_type": "execute_result"
    }
   ],
   "source": [
    "okhttp_commits_df['commit_compared_with']"
   ]
  },
  {
   "cell_type": "code",
   "execution_count": 9,
   "id": "fc017b67",
   "metadata": {
    "execution": {
     "iopub.execute_input": "2022-01-22T06:34:29.593673Z",
     "iopub.status.busy": "2022-01-22T06:34:29.592678Z",
     "iopub.status.idle": "2022-01-22T06:34:29.601674Z",
     "shell.execute_reply": "2022-01-22T06:34:29.601674Z"
    },
    "papermill": {
     "duration": 0.033984,
     "end_time": "2022-01-22T06:34:29.602677",
     "exception": false,
     "start_time": "2022-01-22T06:34:29.568693",
     "status": "completed"
    },
    "tags": []
   },
   "outputs": [
    {
     "data": {
      "text/plain": [
       "0      4\n",
       "1     35\n",
       "2     48\n",
       "3     50\n",
       "4    169\n",
       "Name: num_line_affected_max, dtype: int64"
      ]
     },
     "execution_count": 9,
     "metadata": {},
     "output_type": "execute_result"
    }
   ],
   "source": [
    "okhttp_commits_df['num_line_affected_max']"
   ]
  },
  {
   "cell_type": "code",
   "execution_count": 10,
   "id": "1066bdab",
   "metadata": {
    "execution": {
     "iopub.execute_input": "2022-01-22T06:34:29.646675Z",
     "iopub.status.busy": "2022-01-22T06:34:29.646675Z",
     "iopub.status.idle": "2022-01-22T06:34:29.664674Z",
     "shell.execute_reply": "2022-01-22T06:34:29.665672Z"
    },
    "papermill": {
     "duration": 0.039998,
     "end_time": "2022-01-22T06:34:29.665672",
     "exception": false,
     "start_time": "2022-01-22T06:34:29.625674",
     "status": "completed"
    },
    "tags": []
   },
   "outputs": [],
   "source": [
    "def get_commit_line_changed(sha, project_owner, project_name_short):\n",
    "    query_url = f\"https://api.github.com/repos/{project_owner}/{project_name_short}/commits/{sha}\"\n",
    "\n",
    "    headers = {'Authorization': f'token {github_oauth}'}\n",
    "    r = requests.get(query_url, headers=headers)\n",
    "    #print((r.json()))\n",
    "    return r.json()['stats']['total']"
   ]
  },
  {
   "cell_type": "code",
   "execution_count": 11,
   "id": "5ee38cbb",
   "metadata": {
    "execution": {
     "iopub.execute_input": "2022-01-22T06:34:29.700217Z",
     "iopub.status.busy": "2022-01-22T06:34:29.699247Z",
     "iopub.status.idle": "2022-01-22T06:34:29.711217Z",
     "shell.execute_reply": "2022-01-22T06:34:29.710242Z"
    },
    "papermill": {
     "duration": 0.031543,
     "end_time": "2022-01-22T06:34:29.711217",
     "exception": false,
     "start_time": "2022-01-22T06:34:29.679674",
     "status": "completed"
    },
    "tags": []
   },
   "outputs": [],
   "source": [
    "def limit_perc_change(perc):\n",
    "    if perc > 1:\n",
    "        return 1\n",
    "    else:\n",
    "        return perc"
   ]
  },
  {
   "cell_type": "code",
   "execution_count": 12,
   "id": "1627d952",
   "metadata": {
    "execution": {
     "iopub.execute_input": "2022-01-22T06:34:29.750217Z",
     "iopub.status.busy": "2022-01-22T06:34:29.750217Z",
     "iopub.status.idle": "2022-01-22T06:34:29.759471Z",
     "shell.execute_reply": "2022-01-22T06:34:29.759222Z"
    },
    "papermill": {
     "duration": 0.029253,
     "end_time": "2022-01-22T06:34:29.759471",
     "exception": false,
     "start_time": "2022-01-22T06:34:29.730218",
     "status": "completed"
    },
    "tags": []
   },
   "outputs": [],
   "source": [
    "def limit_base_time(time):\n",
    "    if time < 1:\n",
    "        return 1\n",
    "    else:\n",
    "        return time"
   ]
  },
  {
   "cell_type": "code",
   "execution_count": 13,
   "id": "39ffa953",
   "metadata": {
    "execution": {
     "iopub.execute_input": "2022-01-22T06:34:29.804792Z",
     "iopub.status.busy": "2022-01-22T06:34:29.804792Z",
     "iopub.status.idle": "2022-01-22T06:34:30.187746Z",
     "shell.execute_reply": "2022-01-22T06:34:30.187746Z"
    },
    "papermill": {
     "duration": 0.409956,
     "end_time": "2022-01-22T06:34:30.187746",
     "exception": false,
     "start_time": "2022-01-22T06:34:29.777790",
     "status": "completed"
    },
    "tags": []
   },
   "outputs": [
    {
     "data": {
      "text/plain": [
       "358"
      ]
     },
     "execution_count": 13,
     "metadata": {},
     "output_type": "execute_result"
    }
   ],
   "source": [
    "get_commit_line_changed('083315a473d8b2fc972a70449272b296683ac38c', 'square', 'okhttp')"
   ]
  },
  {
   "cell_type": "code",
   "execution_count": 14,
   "id": "5c2bf3ac",
   "metadata": {
    "execution": {
     "iopub.execute_input": "2022-01-22T06:34:30.229743Z",
     "iopub.status.busy": "2022-01-22T06:34:30.229743Z",
     "iopub.status.idle": "2022-01-22T06:34:32.315575Z",
     "shell.execute_reply": "2022-01-22T06:34:32.316576Z"
    },
    "papermill": {
     "duration": 2.10983,
     "end_time": "2022-01-22T06:34:32.316576",
     "exception": false,
     "start_time": "2022-01-22T06:34:30.206746",
     "status": "completed"
    },
    "tags": []
   },
   "outputs": [],
   "source": [
    "okhttp_commits_df['commit_line_changed'] = okhttp_commits_df.apply(lambda row: get_commit_line_changed(row['commit_compared_with'], project_owner, project_name_short), axis=1)"
   ]
  },
  {
   "cell_type": "code",
   "execution_count": 15,
   "id": "167958d1",
   "metadata": {
    "execution": {
     "iopub.execute_input": "2022-01-22T06:34:32.358577Z",
     "iopub.status.busy": "2022-01-22T06:34:32.357577Z",
     "iopub.status.idle": "2022-01-22T06:34:32.363577Z",
     "shell.execute_reply": "2022-01-22T06:34:32.363577Z"
    },
    "papermill": {
     "duration": 0.028999,
     "end_time": "2022-01-22T06:34:32.363577",
     "exception": false,
     "start_time": "2022-01-22T06:34:32.334578",
     "status": "completed"
    },
    "scrolled": true,
    "tags": []
   },
   "outputs": [
    {
     "data": {
      "text/plain": [
       "0      4\n",
       "1     35\n",
       "2     48\n",
       "3     50\n",
       "4    169\n",
       "Name: num_line_affected_min, dtype: int64"
      ]
     },
     "execution_count": 15,
     "metadata": {},
     "output_type": "execute_result"
    }
   ],
   "source": [
    "okhttp_commits_df['num_line_affected_min']"
   ]
  },
  {
   "cell_type": "code",
   "execution_count": 16,
   "id": "07fdec2c",
   "metadata": {
    "execution": {
     "iopub.execute_input": "2022-01-22T06:34:32.403576Z",
     "iopub.status.busy": "2022-01-22T06:34:32.402577Z",
     "iopub.status.idle": "2022-01-22T06:34:32.412579Z",
     "shell.execute_reply": "2022-01-22T06:34:32.411580Z"
    },
    "papermill": {
     "duration": 0.030974,
     "end_time": "2022-01-22T06:34:32.412579",
     "exception": false,
     "start_time": "2022-01-22T06:34:32.381605",
     "status": "completed"
    },
    "scrolled": true,
    "tags": []
   },
   "outputs": [
    {
     "data": {
      "text/plain": [
       "0     85\n",
       "1     12\n",
       "2    142\n",
       "3      8\n",
       "4      3\n",
       "Name: commit_line_changed, dtype: int64"
      ]
     },
     "execution_count": 16,
     "metadata": {},
     "output_type": "execute_result"
    }
   ],
   "source": [
    "okhttp_commits_df['commit_line_changed']"
   ]
  },
  {
   "cell_type": "code",
   "execution_count": 17,
   "id": "a2188bf6",
   "metadata": {
    "execution": {
     "iopub.execute_input": "2022-01-22T06:34:32.453579Z",
     "iopub.status.busy": "2022-01-22T06:34:32.452578Z",
     "iopub.status.idle": "2022-01-22T06:34:32.491119Z",
     "shell.execute_reply": "2022-01-22T06:34:32.492112Z"
    },
    "papermill": {
     "duration": 0.060533,
     "end_time": "2022-01-22T06:34:32.492112",
     "exception": false,
     "start_time": "2022-01-22T06:34:32.431579",
     "status": "completed"
    },
    "tags": []
   },
   "outputs": [],
   "source": [
    "okhttp_commits_df['refactoring_perc'] = okhttp_commits_df['num_line_affected_min'] / okhttp_commits_df['commit_line_changed']"
   ]
  },
  {
   "cell_type": "code",
   "execution_count": 18,
   "id": "642b1593",
   "metadata": {
    "execution": {
     "iopub.execute_input": "2022-01-22T06:34:32.548145Z",
     "iopub.status.busy": "2022-01-22T06:34:32.548145Z",
     "iopub.status.idle": "2022-01-22T06:34:32.553143Z",
     "shell.execute_reply": "2022-01-22T06:34:32.553143Z"
    },
    "papermill": {
     "duration": 0.031997,
     "end_time": "2022-01-22T06:34:32.554144",
     "exception": false,
     "start_time": "2022-01-22T06:34:32.522147",
     "status": "completed"
    },
    "tags": []
   },
   "outputs": [],
   "source": [
    "okhttp_commits_df['refactoring_perc'] = okhttp_commits_df.apply(lambda row: limit_perc_change(row['refactoring_perc']), axis=1)"
   ]
  },
  {
   "cell_type": "code",
   "execution_count": 19,
   "id": "7b0749c7",
   "metadata": {
    "execution": {
     "iopub.execute_input": "2022-01-22T06:34:32.592657Z",
     "iopub.status.busy": "2022-01-22T06:34:32.590656Z",
     "iopub.status.idle": "2022-01-22T06:34:32.600661Z",
     "shell.execute_reply": "2022-01-22T06:34:32.601656Z"
    },
    "papermill": {
     "duration": 0.031,
     "end_time": "2022-01-22T06:34:32.601656",
     "exception": false,
     "start_time": "2022-01-22T06:34:32.570656",
     "status": "completed"
    },
    "scrolled": true,
    "tags": []
   },
   "outputs": [
    {
     "data": {
      "text/plain": [
       "0    0.047059\n",
       "1    1.000000\n",
       "2    0.338028\n",
       "3    1.000000\n",
       "4    1.000000\n",
       "Name: refactoring_perc, dtype: float64"
      ]
     },
     "execution_count": 19,
     "metadata": {},
     "output_type": "execute_result"
    }
   ],
   "source": [
    "okhttp_commits_df['refactoring_perc']"
   ]
  },
  {
   "cell_type": "code",
   "execution_count": 20,
   "id": "aefbff01",
   "metadata": {
    "execution": {
     "iopub.execute_input": "2022-01-22T06:34:32.642657Z",
     "iopub.status.busy": "2022-01-22T06:34:32.640656Z",
     "iopub.status.idle": "2022-01-22T06:34:32.649657Z",
     "shell.execute_reply": "2022-01-22T06:34:32.649657Z"
    },
    "papermill": {
     "duration": 0.030001,
     "end_time": "2022-01-22T06:34:32.649657",
     "exception": false,
     "start_time": "2022-01-22T06:34:32.619656",
     "status": "completed"
    },
    "tags": []
   },
   "outputs": [],
   "source": [
    "okhttp_commits_df['refactoring_perc_time_taken'] = okhttp_commits_df['refactoring_perc'] * okhttp_commits_df['time_taken']"
   ]
  },
  {
   "cell_type": "code",
   "execution_count": 21,
   "id": "6fdd90e3",
   "metadata": {
    "execution": {
     "iopub.execute_input": "2022-01-22T06:34:32.694658Z",
     "iopub.status.busy": "2022-01-22T06:34:32.694658Z",
     "iopub.status.idle": "2022-01-22T06:34:32.711656Z",
     "shell.execute_reply": "2022-01-22T06:34:32.712656Z"
    },
    "papermill": {
     "duration": 0.042,
     "end_time": "2022-01-22T06:34:32.712656",
     "exception": false,
     "start_time": "2022-01-22T06:34:32.670656",
     "status": "completed"
    },
    "tags": []
   },
   "outputs": [],
   "source": [
    "okhttp_commits_df['refactoring_perc_time_taken'] = okhttp_commits_df.apply(lambda row: limit_base_time(row['refactoring_perc_time_taken']), axis=1)\n"
   ]
  },
  {
   "cell_type": "code",
   "execution_count": 22,
   "id": "1b8a926c",
   "metadata": {
    "execution": {
     "iopub.execute_input": "2022-01-22T06:34:32.761661Z",
     "iopub.status.busy": "2022-01-22T06:34:32.759666Z",
     "iopub.status.idle": "2022-01-22T06:34:32.776663Z",
     "shell.execute_reply": "2022-01-22T06:34:32.776663Z"
    },
    "papermill": {
     "duration": 0.040004,
     "end_time": "2022-01-22T06:34:32.777661",
     "exception": false,
     "start_time": "2022-01-22T06:34:32.737657",
     "status": "completed"
    },
    "scrolled": true,
    "tags": []
   },
   "outputs": [
    {
     "data": {
      "text/plain": [
       "0      1.000000\n",
       "1     15.000000\n",
       "2     24.676056\n",
       "3     11.000000\n",
       "4    140.000000\n",
       "Name: refactoring_perc_time_taken, dtype: float64"
      ]
     },
     "execution_count": 22,
     "metadata": {},
     "output_type": "execute_result"
    }
   ],
   "source": [
    "okhttp_commits_df['refactoring_perc_time_taken']"
   ]
  },
  {
   "cell_type": "code",
   "execution_count": 23,
   "id": "5ad83bce",
   "metadata": {
    "execution": {
     "iopub.execute_input": "2022-01-22T06:34:32.820659Z",
     "iopub.status.busy": "2022-01-22T06:34:32.820659Z",
     "iopub.status.idle": "2022-01-22T06:34:32.824657Z",
     "shell.execute_reply": "2022-01-22T06:34:32.823655Z"
    },
    "papermill": {
     "duration": 0.027998,
     "end_time": "2022-01-22T06:34:32.824657",
     "exception": false,
     "start_time": "2022-01-22T06:34:32.796659",
     "status": "completed"
    },
    "tags": []
   },
   "outputs": [],
   "source": [
    "okhttp_commits_df['cocomoII_time_taken'] = 2.94 * okhttp_commits_df['commit_line_changed'] / 1000 * 176"
   ]
  },
  {
   "cell_type": "code",
   "execution_count": 24,
   "id": "d961333d",
   "metadata": {
    "execution": {
     "iopub.execute_input": "2022-01-22T06:34:32.876171Z",
     "iopub.status.busy": "2022-01-22T06:34:32.876171Z",
     "iopub.status.idle": "2022-01-22T06:34:32.888172Z",
     "shell.execute_reply": "2022-01-22T06:34:32.888172Z"
    },
    "papermill": {
     "duration": 0.045004,
     "end_time": "2022-01-22T06:34:32.889173",
     "exception": false,
     "start_time": "2022-01-22T06:34:32.844169",
     "status": "completed"
    },
    "tags": []
   },
   "outputs": [],
   "source": [
    "okhttp_commits_df['geneticP_time_taken'] = ((1.75992 * okhttp_commits_df['commit_line_changed']/1000) - (4.56 * 0.001 * ((okhttp_commits_df['commit_line_changed']/1000)**2))) * 176"
   ]
  },
  {
   "cell_type": "code",
   "execution_count": 25,
   "id": "89a137bf",
   "metadata": {
    "execution": {
     "iopub.execute_input": "2022-01-22T06:34:32.933192Z",
     "iopub.status.busy": "2022-01-22T06:34:32.929193Z",
     "iopub.status.idle": "2022-01-22T06:34:32.951192Z",
     "shell.execute_reply": "2022-01-22T06:34:32.951192Z"
    },
    "papermill": {
     "duration": 0.040018,
     "end_time": "2022-01-22T06:34:32.951192",
     "exception": false,
     "start_time": "2022-01-22T06:34:32.911174",
     "status": "completed"
    },
    "tags": []
   },
   "outputs": [],
   "source": [
    "okhttp_commits_df['softwareMaintenance_time_taken'] = -40 + 6.56*okhttp_commits_df['commit_line_changed']"
   ]
  },
  {
   "cell_type": "code",
   "execution_count": 26,
   "id": "2a510286",
   "metadata": {
    "execution": {
     "iopub.execute_input": "2022-01-22T06:34:33.000710Z",
     "iopub.status.busy": "2022-01-22T06:34:32.999711Z",
     "iopub.status.idle": "2022-01-22T06:34:33.014710Z",
     "shell.execute_reply": "2022-01-22T06:34:33.014710Z"
    },
    "papermill": {
     "duration": 0.041996,
     "end_time": "2022-01-22T06:34:33.014710",
     "exception": false,
     "start_time": "2022-01-22T06:34:32.972714",
     "status": "completed"
    },
    "tags": []
   },
   "outputs": [],
   "source": [
    "okhttp_commits_df['fuzzy_time_taken'] = ( (6*(0.7*okhttp_commits_df['commit_line_changed']/1000)**0.665) + (4*6*(okhttp_commits_df['commit_line_changed']/1000)**0.665) + (6*(1.3*okhttp_commits_df['commit_line_changed']/1000)**0.665) )/(1+4+1)*176"
   ]
  },
  {
   "cell_type": "code",
   "execution_count": 27,
   "id": "f34d06c2",
   "metadata": {
    "execution": {
     "iopub.execute_input": "2022-01-22T06:34:33.058713Z",
     "iopub.status.busy": "2022-01-22T06:34:33.057714Z",
     "iopub.status.idle": "2022-01-22T06:34:33.061714Z",
     "shell.execute_reply": "2022-01-22T06:34:33.060715Z"
    },
    "papermill": {
     "duration": 0.027005,
     "end_time": "2022-01-22T06:34:33.061714",
     "exception": false,
     "start_time": "2022-01-22T06:34:33.034709",
     "status": "completed"
    },
    "scrolled": true,
    "tags": []
   },
   "outputs": [
    {
     "data": {
      "text/plain": [
       "0     18.0\n",
       "1     15.0\n",
       "2     73.0\n",
       "3     11.0\n",
       "4    140.0\n",
       "Name: time_taken, dtype: float64"
      ]
     },
     "execution_count": 27,
     "metadata": {},
     "output_type": "execute_result"
    }
   ],
   "source": [
    "okhttp_commits_df['time_taken']"
   ]
  },
  {
   "cell_type": "code",
   "execution_count": 28,
   "id": "05b2eb2f",
   "metadata": {
    "execution": {
     "iopub.execute_input": "2022-01-22T06:34:33.110710Z",
     "iopub.status.busy": "2022-01-22T06:34:33.110710Z",
     "iopub.status.idle": "2022-01-22T06:34:33.372270Z",
     "shell.execute_reply": "2022-01-22T06:34:33.348747Z"
    },
    "papermill": {
     "duration": 0.285561,
     "end_time": "2022-01-22T06:34:33.372270",
     "exception": false,
     "start_time": "2022-01-22T06:34:33.086709",
     "status": "completed"
    },
    "tags": []
   },
   "outputs": [
    {
     "name": "stdout",
     "output_type": "stream",
     "text": [
      "kmean_label"
     ]
    },
    {
     "name": "stdout",
     "output_type": "stream",
     "text": [
      "\n"
     ]
    },
    {
     "name": "stdout",
     "output_type": "stream",
     "text": [
      "time_taken_mean"
     ]
    },
    {
     "name": "stdout",
     "output_type": "stream",
     "text": [
      "\n"
     ]
    },
    {
     "name": "stdout",
     "output_type": "stream",
     "text": [
      "time_taken_min"
     ]
    },
    {
     "name": "stdout",
     "output_type": "stream",
     "text": [
      "\n"
     ]
    },
    {
     "name": "stdout",
     "output_type": "stream",
     "text": [
      "time_taken_max"
     ]
    },
    {
     "name": "stdout",
     "output_type": "stream",
     "text": [
      "\n"
     ]
    },
    {
     "name": "stdout",
     "output_type": "stream",
     "text": [
      "time_taken_q10"
     ]
    },
    {
     "name": "stdout",
     "output_type": "stream",
     "text": [
      "\n"
     ]
    },
    {
     "name": "stdout",
     "output_type": "stream",
     "text": [
      "time_taken_q20"
     ]
    },
    {
     "name": "stdout",
     "output_type": "stream",
     "text": [
      "\n"
     ]
    },
    {
     "name": "stdout",
     "output_type": "stream",
     "text": [
      "time_taken_q25"
     ]
    },
    {
     "name": "stdout",
     "output_type": "stream",
     "text": [
      "\n"
     ]
    },
    {
     "name": "stdout",
     "output_type": "stream",
     "text": [
      "time_taken_q30"
     ]
    },
    {
     "name": "stdout",
     "output_type": "stream",
     "text": [
      "\n"
     ]
    },
    {
     "name": "stdout",
     "output_type": "stream",
     "text": [
      "time_taken_q40"
     ]
    },
    {
     "name": "stdout",
     "output_type": "stream",
     "text": [
      "\n"
     ]
    },
    {
     "name": "stdout",
     "output_type": "stream",
     "text": [
      "time_taken_q50"
     ]
    },
    {
     "name": "stdout",
     "output_type": "stream",
     "text": [
      "\n"
     ]
    },
    {
     "name": "stdout",
     "output_type": "stream",
     "text": [
      "time_taken_q60"
     ]
    },
    {
     "name": "stdout",
     "output_type": "stream",
     "text": [
      "\n"
     ]
    },
    {
     "name": "stdout",
     "output_type": "stream",
     "text": [
      "time_taken_q70"
     ]
    },
    {
     "name": "stdout",
     "output_type": "stream",
     "text": [
      "\n"
     ]
    },
    {
     "name": "stdout",
     "output_type": "stream",
     "text": [
      "time_taken_q75"
     ]
    },
    {
     "name": "stdout",
     "output_type": "stream",
     "text": [
      "\n"
     ]
    },
    {
     "name": "stdout",
     "output_type": "stream",
     "text": [
      "time_taken_q80"
     ]
    },
    {
     "name": "stdout",
     "output_type": "stream",
     "text": [
      "\n"
     ]
    },
    {
     "name": "stdout",
     "output_type": "stream",
     "text": [
      "time_taken_q90"
     ]
    },
    {
     "name": "stdout",
     "output_type": "stream",
     "text": [
      "\n"
     ]
    },
    {
     "name": "stdout",
     "output_type": "stream",
     "text": [
      "sha"
     ]
    },
    {
     "name": "stdout",
     "output_type": "stream",
     "text": [
      "\n"
     ]
    },
    {
     "name": "stdout",
     "output_type": "stream",
     "text": [
      "name"
     ]
    },
    {
     "name": "stdout",
     "output_type": "stream",
     "text": [
      "\n"
     ]
    },
    {
     "name": "stdout",
     "output_type": "stream",
     "text": [
      "email"
     ]
    },
    {
     "name": "stdout",
     "output_type": "stream",
     "text": [
      "\n"
     ]
    },
    {
     "name": "stdout",
     "output_type": "stream",
     "text": [
      "date"
     ]
    },
    {
     "name": "stdout",
     "output_type": "stream",
     "text": [
      "\n"
     ]
    },
    {
     "name": "stdout",
     "output_type": "stream",
     "text": [
      "login"
     ]
    },
    {
     "name": "stdout",
     "output_type": "stream",
     "text": [
      "\n"
     ]
    },
    {
     "name": "stdout",
     "output_type": "stream",
     "text": [
      "message"
     ]
    },
    {
     "name": "stdout",
     "output_type": "stream",
     "text": [
      "\n"
     ]
    },
    {
     "name": "stdout",
     "output_type": "stream",
     "text": [
      "parent_sha"
     ]
    },
    {
     "name": "stdout",
     "output_type": "stream",
     "text": [
      "\n"
     ]
    },
    {
     "name": "stdout",
     "output_type": "stream",
     "text": [
      "parent_date"
     ]
    },
    {
     "name": "stdout",
     "output_type": "stream",
     "text": [
      "\n"
     ]
    },
    {
     "name": "stdout",
     "output_type": "stream",
     "text": [
      "time_taken"
     ]
    },
    {
     "name": "stdout",
     "output_type": "stream",
     "text": [
      "\n"
     ]
    },
    {
     "name": "stdout",
     "output_type": "stream",
     "text": [
      "contains_refactoring"
     ]
    },
    {
     "name": "stdout",
     "output_type": "stream",
     "text": [
      "\n"
     ]
    },
    {
     "name": "stdout",
     "output_type": "stream",
     "text": [
      "project_name"
     ]
    },
    {
     "name": "stdout",
     "output_type": "stream",
     "text": [
      "\n"
     ]
    },
    {
     "name": "stdout",
     "output_type": "stream",
     "text": [
      "commit_compared_with"
     ]
    },
    {
     "name": "stdout",
     "output_type": "stream",
     "text": [
      "\n"
     ]
    },
    {
     "name": "stdout",
     "output_type": "stream",
     "text": [
      "cbo_mean"
     ]
    },
    {
     "name": "stdout",
     "output_type": "stream",
     "text": [
      "\n"
     ]
    },
    {
     "name": "stdout",
     "output_type": "stream",
     "text": [
      "cbo_min"
     ]
    },
    {
     "name": "stdout",
     "output_type": "stream",
     "text": [
      "\n"
     ]
    },
    {
     "name": "stdout",
     "output_type": "stream",
     "text": [
      "cbo_max"
     ]
    },
    {
     "name": "stdout",
     "output_type": "stream",
     "text": [
      "\n"
     ]
    },
    {
     "name": "stdout",
     "output_type": "stream",
     "text": [
      "cbo_std"
     ]
    },
    {
     "name": "stdout",
     "output_type": "stream",
     "text": [
      "\n"
     ]
    },
    {
     "name": "stdout",
     "output_type": "stream",
     "text": [
      "wmc_mean"
     ]
    },
    {
     "name": "stdout",
     "output_type": "stream",
     "text": [
      "\n"
     ]
    },
    {
     "name": "stdout",
     "output_type": "stream",
     "text": [
      "wmc_min"
     ]
    },
    {
     "name": "stdout",
     "output_type": "stream",
     "text": [
      "\n"
     ]
    },
    {
     "name": "stdout",
     "output_type": "stream",
     "text": [
      "wmc_max"
     ]
    },
    {
     "name": "stdout",
     "output_type": "stream",
     "text": [
      "\n"
     ]
    },
    {
     "name": "stdout",
     "output_type": "stream",
     "text": [
      "wmc_std"
     ]
    },
    {
     "name": "stdout",
     "output_type": "stream",
     "text": [
      "\n"
     ]
    },
    {
     "name": "stdout",
     "output_type": "stream",
     "text": [
      "dit_mean"
     ]
    },
    {
     "name": "stdout",
     "output_type": "stream",
     "text": [
      "\n"
     ]
    },
    {
     "name": "stdout",
     "output_type": "stream",
     "text": [
      "dit_min"
     ]
    },
    {
     "name": "stdout",
     "output_type": "stream",
     "text": [
      "\n"
     ]
    },
    {
     "name": "stdout",
     "output_type": "stream",
     "text": [
      "dit_max"
     ]
    },
    {
     "name": "stdout",
     "output_type": "stream",
     "text": [
      "\n"
     ]
    },
    {
     "name": "stdout",
     "output_type": "stream",
     "text": [
      "dit_std"
     ]
    },
    {
     "name": "stdout",
     "output_type": "stream",
     "text": [
      "\n"
     ]
    },
    {
     "name": "stdout",
     "output_type": "stream",
     "text": [
      "rfc_mean"
     ]
    },
    {
     "name": "stdout",
     "output_type": "stream",
     "text": [
      "\n"
     ]
    },
    {
     "name": "stdout",
     "output_type": "stream",
     "text": [
      "rfc_min"
     ]
    },
    {
     "name": "stdout",
     "output_type": "stream",
     "text": [
      "\n"
     ]
    },
    {
     "name": "stdout",
     "output_type": "stream",
     "text": [
      "rfc_max"
     ]
    },
    {
     "name": "stdout",
     "output_type": "stream",
     "text": [
      "\n"
     ]
    },
    {
     "name": "stdout",
     "output_type": "stream",
     "text": [
      "rfc_std"
     ]
    },
    {
     "name": "stdout",
     "output_type": "stream",
     "text": [
      "\n"
     ]
    },
    {
     "name": "stdout",
     "output_type": "stream",
     "text": [
      "lcom_mean"
     ]
    },
    {
     "name": "stdout",
     "output_type": "stream",
     "text": [
      "\n"
     ]
    },
    {
     "name": "stdout",
     "output_type": "stream",
     "text": [
      "lcom_min"
     ]
    },
    {
     "name": "stdout",
     "output_type": "stream",
     "text": [
      "\n"
     ]
    },
    {
     "name": "stdout",
     "output_type": "stream",
     "text": [
      "lcom_max"
     ]
    },
    {
     "name": "stdout",
     "output_type": "stream",
     "text": [
      "\n"
     ]
    },
    {
     "name": "stdout",
     "output_type": "stream",
     "text": [
      "lcom_std"
     ]
    },
    {
     "name": "stdout",
     "output_type": "stream",
     "text": [
      "\n"
     ]
    },
    {
     "name": "stdout",
     "output_type": "stream",
     "text": [
      "totalMethods_mean"
     ]
    },
    {
     "name": "stdout",
     "output_type": "stream",
     "text": [
      "\n"
     ]
    },
    {
     "name": "stdout",
     "output_type": "stream",
     "text": [
      "totalMethods_min"
     ]
    },
    {
     "name": "stdout",
     "output_type": "stream",
     "text": [
      "\n"
     ]
    },
    {
     "name": "stdout",
     "output_type": "stream",
     "text": [
      "totalMethods_max"
     ]
    },
    {
     "name": "stdout",
     "output_type": "stream",
     "text": [
      "\n"
     ]
    },
    {
     "name": "stdout",
     "output_type": "stream",
     "text": [
      "totalMethods_std"
     ]
    },
    {
     "name": "stdout",
     "output_type": "stream",
     "text": [
      "\n"
     ]
    },
    {
     "name": "stdout",
     "output_type": "stream",
     "text": [
      "staticMethods_mean"
     ]
    },
    {
     "name": "stdout",
     "output_type": "stream",
     "text": [
      "\n"
     ]
    },
    {
     "name": "stdout",
     "output_type": "stream",
     "text": [
      "staticMethods_min"
     ]
    },
    {
     "name": "stdout",
     "output_type": "stream",
     "text": [
      "\n"
     ]
    },
    {
     "name": "stdout",
     "output_type": "stream",
     "text": [
      "staticMethods_max"
     ]
    },
    {
     "name": "stdout",
     "output_type": "stream",
     "text": [
      "\n"
     ]
    },
    {
     "name": "stdout",
     "output_type": "stream",
     "text": [
      "staticMethods_std"
     ]
    },
    {
     "name": "stdout",
     "output_type": "stream",
     "text": [
      "\n"
     ]
    },
    {
     "name": "stdout",
     "output_type": "stream",
     "text": [
      "publicMethods_mean"
     ]
    },
    {
     "name": "stdout",
     "output_type": "stream",
     "text": [
      "\n"
     ]
    },
    {
     "name": "stdout",
     "output_type": "stream",
     "text": [
      "publicMethods_min"
     ]
    },
    {
     "name": "stdout",
     "output_type": "stream",
     "text": [
      "\n"
     ]
    },
    {
     "name": "stdout",
     "output_type": "stream",
     "text": [
      "publicMethods_max"
     ]
    },
    {
     "name": "stdout",
     "output_type": "stream",
     "text": [
      "\n"
     ]
    },
    {
     "name": "stdout",
     "output_type": "stream",
     "text": [
      "publicMethods_std"
     ]
    },
    {
     "name": "stdout",
     "output_type": "stream",
     "text": [
      "\n"
     ]
    },
    {
     "name": "stdout",
     "output_type": "stream",
     "text": [
      "privateMethods_mean"
     ]
    },
    {
     "name": "stdout",
     "output_type": "stream",
     "text": [
      "\n"
     ]
    },
    {
     "name": "stdout",
     "output_type": "stream",
     "text": [
      "privateMethods_min"
     ]
    },
    {
     "name": "stdout",
     "output_type": "stream",
     "text": [
      "\n"
     ]
    },
    {
     "name": "stdout",
     "output_type": "stream",
     "text": [
      "privateMethods_max"
     ]
    },
    {
     "name": "stdout",
     "output_type": "stream",
     "text": [
      "\n"
     ]
    },
    {
     "name": "stdout",
     "output_type": "stream",
     "text": [
      "privateMethods_std"
     ]
    },
    {
     "name": "stdout",
     "output_type": "stream",
     "text": [
      "\n"
     ]
    },
    {
     "name": "stdout",
     "output_type": "stream",
     "text": [
      "protectedMethods_mean"
     ]
    },
    {
     "name": "stdout",
     "output_type": "stream",
     "text": [
      "\n"
     ]
    },
    {
     "name": "stdout",
     "output_type": "stream",
     "text": [
      "protectedMethods_min"
     ]
    },
    {
     "name": "stdout",
     "output_type": "stream",
     "text": [
      "\n"
     ]
    },
    {
     "name": "stdout",
     "output_type": "stream",
     "text": [
      "protectedMethods_max"
     ]
    },
    {
     "name": "stdout",
     "output_type": "stream",
     "text": [
      "\n"
     ]
    },
    {
     "name": "stdout",
     "output_type": "stream",
     "text": [
      "protectedMethods_std"
     ]
    },
    {
     "name": "stdout",
     "output_type": "stream",
     "text": [
      "\n"
     ]
    },
    {
     "name": "stdout",
     "output_type": "stream",
     "text": [
      "defaultMethods_mean"
     ]
    },
    {
     "name": "stdout",
     "output_type": "stream",
     "text": [
      "\n"
     ]
    },
    {
     "name": "stdout",
     "output_type": "stream",
     "text": [
      "defaultMethods_min"
     ]
    },
    {
     "name": "stdout",
     "output_type": "stream",
     "text": [
      "\n"
     ]
    },
    {
     "name": "stdout",
     "output_type": "stream",
     "text": [
      "defaultMethods_max"
     ]
    },
    {
     "name": "stdout",
     "output_type": "stream",
     "text": [
      "\n"
     ]
    },
    {
     "name": "stdout",
     "output_type": "stream",
     "text": [
      "defaultMethods_std"
     ]
    },
    {
     "name": "stdout",
     "output_type": "stream",
     "text": [
      "\n"
     ]
    },
    {
     "name": "stdout",
     "output_type": "stream",
     "text": [
      "abstractMethods_mean"
     ]
    },
    {
     "name": "stdout",
     "output_type": "stream",
     "text": [
      "\n"
     ]
    },
    {
     "name": "stdout",
     "output_type": "stream",
     "text": [
      "abstractMethods_min"
     ]
    },
    {
     "name": "stdout",
     "output_type": "stream",
     "text": [
      "\n"
     ]
    },
    {
     "name": "stdout",
     "output_type": "stream",
     "text": [
      "abstractMethods_max"
     ]
    },
    {
     "name": "stdout",
     "output_type": "stream",
     "text": [
      "\n"
     ]
    },
    {
     "name": "stdout",
     "output_type": "stream",
     "text": [
      "abstractMethods_std"
     ]
    },
    {
     "name": "stdout",
     "output_type": "stream",
     "text": [
      "\n"
     ]
    },
    {
     "name": "stdout",
     "output_type": "stream",
     "text": [
      "finalMethods_mean"
     ]
    },
    {
     "name": "stdout",
     "output_type": "stream",
     "text": [
      "\n"
     ]
    },
    {
     "name": "stdout",
     "output_type": "stream",
     "text": [
      "finalMethods_min"
     ]
    },
    {
     "name": "stdout",
     "output_type": "stream",
     "text": [
      "\n"
     ]
    },
    {
     "name": "stdout",
     "output_type": "stream",
     "text": [
      "finalMethods_max"
     ]
    },
    {
     "name": "stdout",
     "output_type": "stream",
     "text": [
      "\n"
     ]
    },
    {
     "name": "stdout",
     "output_type": "stream",
     "text": [
      "finalMethods_std"
     ]
    },
    {
     "name": "stdout",
     "output_type": "stream",
     "text": [
      "\n"
     ]
    },
    {
     "name": "stdout",
     "output_type": "stream",
     "text": [
      "synchronizedMethods_mean"
     ]
    },
    {
     "name": "stdout",
     "output_type": "stream",
     "text": [
      "\n"
     ]
    },
    {
     "name": "stdout",
     "output_type": "stream",
     "text": [
      "synchronizedMethods_min"
     ]
    },
    {
     "name": "stdout",
     "output_type": "stream",
     "text": [
      "\n"
     ]
    },
    {
     "name": "stdout",
     "output_type": "stream",
     "text": [
      "synchronizedMethods_max"
     ]
    },
    {
     "name": "stdout",
     "output_type": "stream",
     "text": [
      "\n"
     ]
    },
    {
     "name": "stdout",
     "output_type": "stream",
     "text": [
      "synchronizedMethods_std"
     ]
    },
    {
     "name": "stdout",
     "output_type": "stream",
     "text": [
      "\n"
     ]
    },
    {
     "name": "stdout",
     "output_type": "stream",
     "text": [
      "totalFields_mean"
     ]
    },
    {
     "name": "stdout",
     "output_type": "stream",
     "text": [
      "\n"
     ]
    },
    {
     "name": "stdout",
     "output_type": "stream",
     "text": [
      "totalFields_min"
     ]
    },
    {
     "name": "stdout",
     "output_type": "stream",
     "text": [
      "\n"
     ]
    },
    {
     "name": "stdout",
     "output_type": "stream",
     "text": [
      "totalFields_max"
     ]
    },
    {
     "name": "stdout",
     "output_type": "stream",
     "text": [
      "\n"
     ]
    },
    {
     "name": "stdout",
     "output_type": "stream",
     "text": [
      "totalFields_std"
     ]
    },
    {
     "name": "stdout",
     "output_type": "stream",
     "text": [
      "\n"
     ]
    },
    {
     "name": "stdout",
     "output_type": "stream",
     "text": [
      "staticFields_mean"
     ]
    },
    {
     "name": "stdout",
     "output_type": "stream",
     "text": [
      "\n"
     ]
    },
    {
     "name": "stdout",
     "output_type": "stream",
     "text": [
      "staticFields_min"
     ]
    },
    {
     "name": "stdout",
     "output_type": "stream",
     "text": [
      "\n"
     ]
    },
    {
     "name": "stdout",
     "output_type": "stream",
     "text": [
      "staticFields_max"
     ]
    },
    {
     "name": "stdout",
     "output_type": "stream",
     "text": [
      "\n"
     ]
    },
    {
     "name": "stdout",
     "output_type": "stream",
     "text": [
      "staticFields_std"
     ]
    },
    {
     "name": "stdout",
     "output_type": "stream",
     "text": [
      "\n"
     ]
    },
    {
     "name": "stdout",
     "output_type": "stream",
     "text": [
      "publicFields_mean"
     ]
    },
    {
     "name": "stdout",
     "output_type": "stream",
     "text": [
      "\n"
     ]
    },
    {
     "name": "stdout",
     "output_type": "stream",
     "text": [
      "publicFields_min"
     ]
    },
    {
     "name": "stdout",
     "output_type": "stream",
     "text": [
      "\n"
     ]
    },
    {
     "name": "stdout",
     "output_type": "stream",
     "text": [
      "publicFields_max"
     ]
    },
    {
     "name": "stdout",
     "output_type": "stream",
     "text": [
      "\n"
     ]
    },
    {
     "name": "stdout",
     "output_type": "stream",
     "text": [
      "publicFields_std"
     ]
    },
    {
     "name": "stdout",
     "output_type": "stream",
     "text": [
      "\n"
     ]
    },
    {
     "name": "stdout",
     "output_type": "stream",
     "text": [
      "privateFields_mean"
     ]
    },
    {
     "name": "stdout",
     "output_type": "stream",
     "text": [
      "\n"
     ]
    },
    {
     "name": "stdout",
     "output_type": "stream",
     "text": [
      "privateFields_min"
     ]
    },
    {
     "name": "stdout",
     "output_type": "stream",
     "text": [
      "\n"
     ]
    },
    {
     "name": "stdout",
     "output_type": "stream",
     "text": [
      "privateFields_max"
     ]
    },
    {
     "name": "stdout",
     "output_type": "stream",
     "text": [
      "\n"
     ]
    },
    {
     "name": "stdout",
     "output_type": "stream",
     "text": [
      "privateFields_std"
     ]
    },
    {
     "name": "stdout",
     "output_type": "stream",
     "text": [
      "\n"
     ]
    },
    {
     "name": "stdout",
     "output_type": "stream",
     "text": [
      "protectedFields_mean"
     ]
    },
    {
     "name": "stdout",
     "output_type": "stream",
     "text": [
      "\n"
     ]
    },
    {
     "name": "stdout",
     "output_type": "stream",
     "text": [
      "protectedFields_min"
     ]
    },
    {
     "name": "stdout",
     "output_type": "stream",
     "text": [
      "\n"
     ]
    },
    {
     "name": "stdout",
     "output_type": "stream",
     "text": [
      "protectedFields_max"
     ]
    },
    {
     "name": "stdout",
     "output_type": "stream",
     "text": [
      "\n"
     ]
    },
    {
     "name": "stdout",
     "output_type": "stream",
     "text": [
      "protectedFields_std"
     ]
    },
    {
     "name": "stdout",
     "output_type": "stream",
     "text": [
      "\n"
     ]
    },
    {
     "name": "stdout",
     "output_type": "stream",
     "text": [
      "defaultFields_mean"
     ]
    },
    {
     "name": "stdout",
     "output_type": "stream",
     "text": [
      "\n"
     ]
    },
    {
     "name": "stdout",
     "output_type": "stream",
     "text": [
      "defaultFields_min"
     ]
    },
    {
     "name": "stdout",
     "output_type": "stream",
     "text": [
      "\n"
     ]
    },
    {
     "name": "stdout",
     "output_type": "stream",
     "text": [
      "defaultFields_max"
     ]
    },
    {
     "name": "stdout",
     "output_type": "stream",
     "text": [
      "\n"
     ]
    },
    {
     "name": "stdout",
     "output_type": "stream",
     "text": [
      "defaultFields_std"
     ]
    },
    {
     "name": "stdout",
     "output_type": "stream",
     "text": [
      "\n"
     ]
    },
    {
     "name": "stdout",
     "output_type": "stream",
     "text": [
      "finalFields_mean"
     ]
    },
    {
     "name": "stdout",
     "output_type": "stream",
     "text": [
      "\n"
     ]
    },
    {
     "name": "stdout",
     "output_type": "stream",
     "text": [
      "finalFields_min"
     ]
    },
    {
     "name": "stdout",
     "output_type": "stream",
     "text": [
      "\n"
     ]
    },
    {
     "name": "stdout",
     "output_type": "stream",
     "text": [
      "finalFields_max"
     ]
    },
    {
     "name": "stdout",
     "output_type": "stream",
     "text": [
      "\n"
     ]
    },
    {
     "name": "stdout",
     "output_type": "stream",
     "text": [
      "finalFields_std"
     ]
    },
    {
     "name": "stdout",
     "output_type": "stream",
     "text": [
      "\n"
     ]
    },
    {
     "name": "stdout",
     "output_type": "stream",
     "text": [
      "synchronizedFields_mean"
     ]
    },
    {
     "name": "stdout",
     "output_type": "stream",
     "text": [
      "\n"
     ]
    },
    {
     "name": "stdout",
     "output_type": "stream",
     "text": [
      "synchronizedFields_min"
     ]
    },
    {
     "name": "stdout",
     "output_type": "stream",
     "text": [
      "\n"
     ]
    },
    {
     "name": "stdout",
     "output_type": "stream",
     "text": [
      "synchronizedFields_max"
     ]
    },
    {
     "name": "stdout",
     "output_type": "stream",
     "text": [
      "\n"
     ]
    },
    {
     "name": "stdout",
     "output_type": "stream",
     "text": [
      "synchronizedFields_std"
     ]
    },
    {
     "name": "stdout",
     "output_type": "stream",
     "text": [
      "\n"
     ]
    },
    {
     "name": "stdout",
     "output_type": "stream",
     "text": [
      "nosi_mean"
     ]
    },
    {
     "name": "stdout",
     "output_type": "stream",
     "text": [
      "\n"
     ]
    },
    {
     "name": "stdout",
     "output_type": "stream",
     "text": [
      "nosi_min"
     ]
    },
    {
     "name": "stdout",
     "output_type": "stream",
     "text": [
      "\n"
     ]
    },
    {
     "name": "stdout",
     "output_type": "stream",
     "text": [
      "nosi_max"
     ]
    },
    {
     "name": "stdout",
     "output_type": "stream",
     "text": [
      "\n"
     ]
    },
    {
     "name": "stdout",
     "output_type": "stream",
     "text": [
      "nosi_std"
     ]
    },
    {
     "name": "stdout",
     "output_type": "stream",
     "text": [
      "\n"
     ]
    },
    {
     "name": "stdout",
     "output_type": "stream",
     "text": [
      "loc_mean"
     ]
    },
    {
     "name": "stdout",
     "output_type": "stream",
     "text": [
      "\n"
     ]
    },
    {
     "name": "stdout",
     "output_type": "stream",
     "text": [
      "loc_min"
     ]
    },
    {
     "name": "stdout",
     "output_type": "stream",
     "text": [
      "\n"
     ]
    },
    {
     "name": "stdout",
     "output_type": "stream",
     "text": [
      "loc_max"
     ]
    },
    {
     "name": "stdout",
     "output_type": "stream",
     "text": [
      "\n"
     ]
    },
    {
     "name": "stdout",
     "output_type": "stream",
     "text": [
      "loc_std"
     ]
    },
    {
     "name": "stdout",
     "output_type": "stream",
     "text": [
      "\n"
     ]
    },
    {
     "name": "stdout",
     "output_type": "stream",
     "text": [
      "returnQty_mean"
     ]
    },
    {
     "name": "stdout",
     "output_type": "stream",
     "text": [
      "\n"
     ]
    },
    {
     "name": "stdout",
     "output_type": "stream",
     "text": [
      "returnQty_min"
     ]
    },
    {
     "name": "stdout",
     "output_type": "stream",
     "text": [
      "\n"
     ]
    },
    {
     "name": "stdout",
     "output_type": "stream",
     "text": [
      "returnQty_max"
     ]
    },
    {
     "name": "stdout",
     "output_type": "stream",
     "text": [
      "\n"
     ]
    },
    {
     "name": "stdout",
     "output_type": "stream",
     "text": [
      "returnQty_std"
     ]
    },
    {
     "name": "stdout",
     "output_type": "stream",
     "text": [
      "\n"
     ]
    },
    {
     "name": "stdout",
     "output_type": "stream",
     "text": [
      "loopQty_mean"
     ]
    },
    {
     "name": "stdout",
     "output_type": "stream",
     "text": [
      "\n"
     ]
    },
    {
     "name": "stdout",
     "output_type": "stream",
     "text": [
      "loopQty_min"
     ]
    },
    {
     "name": "stdout",
     "output_type": "stream",
     "text": [
      "\n"
     ]
    },
    {
     "name": "stdout",
     "output_type": "stream",
     "text": [
      "loopQty_max"
     ]
    },
    {
     "name": "stdout",
     "output_type": "stream",
     "text": [
      "\n"
     ]
    },
    {
     "name": "stdout",
     "output_type": "stream",
     "text": [
      "loopQty_std"
     ]
    },
    {
     "name": "stdout",
     "output_type": "stream",
     "text": [
      "\n"
     ]
    },
    {
     "name": "stdout",
     "output_type": "stream",
     "text": [
      "comparisonsQty_mean"
     ]
    },
    {
     "name": "stdout",
     "output_type": "stream",
     "text": [
      "\n"
     ]
    },
    {
     "name": "stdout",
     "output_type": "stream",
     "text": [
      "comparisonsQty_min"
     ]
    },
    {
     "name": "stdout",
     "output_type": "stream",
     "text": [
      "\n"
     ]
    },
    {
     "name": "stdout",
     "output_type": "stream",
     "text": [
      "comparisonsQty_max"
     ]
    },
    {
     "name": "stdout",
     "output_type": "stream",
     "text": [
      "\n"
     ]
    },
    {
     "name": "stdout",
     "output_type": "stream",
     "text": [
      "comparisonsQty_std"
     ]
    },
    {
     "name": "stdout",
     "output_type": "stream",
     "text": [
      "\n"
     ]
    },
    {
     "name": "stdout",
     "output_type": "stream",
     "text": [
      "tryCatchQty_mean"
     ]
    },
    {
     "name": "stdout",
     "output_type": "stream",
     "text": [
      "\n"
     ]
    },
    {
     "name": "stdout",
     "output_type": "stream",
     "text": [
      "tryCatchQty_min"
     ]
    },
    {
     "name": "stdout",
     "output_type": "stream",
     "text": [
      "\n"
     ]
    },
    {
     "name": "stdout",
     "output_type": "stream",
     "text": [
      "tryCatchQty_max"
     ]
    },
    {
     "name": "stdout",
     "output_type": "stream",
     "text": [
      "\n"
     ]
    },
    {
     "name": "stdout",
     "output_type": "stream",
     "text": [
      "tryCatchQty_std"
     ]
    },
    {
     "name": "stdout",
     "output_type": "stream",
     "text": [
      "\n"
     ]
    },
    {
     "name": "stdout",
     "output_type": "stream",
     "text": [
      "parenthesizedExpsQty_mean"
     ]
    },
    {
     "name": "stdout",
     "output_type": "stream",
     "text": [
      "\n"
     ]
    },
    {
     "name": "stdout",
     "output_type": "stream",
     "text": [
      "parenthesizedExpsQty_min"
     ]
    },
    {
     "name": "stdout",
     "output_type": "stream",
     "text": [
      "\n"
     ]
    },
    {
     "name": "stdout",
     "output_type": "stream",
     "text": [
      "parenthesizedExpsQty_max"
     ]
    },
    {
     "name": "stdout",
     "output_type": "stream",
     "text": [
      "\n"
     ]
    },
    {
     "name": "stdout",
     "output_type": "stream",
     "text": [
      "parenthesizedExpsQty_std"
     ]
    },
    {
     "name": "stdout",
     "output_type": "stream",
     "text": [
      "\n"
     ]
    },
    {
     "name": "stdout",
     "output_type": "stream",
     "text": [
      "stringLiteralsQty_mean"
     ]
    },
    {
     "name": "stdout",
     "output_type": "stream",
     "text": [
      "\n"
     ]
    },
    {
     "name": "stdout",
     "output_type": "stream",
     "text": [
      "stringLiteralsQty_min"
     ]
    },
    {
     "name": "stdout",
     "output_type": "stream",
     "text": [
      "\n"
     ]
    },
    {
     "name": "stdout",
     "output_type": "stream",
     "text": [
      "stringLiteralsQty_max"
     ]
    },
    {
     "name": "stdout",
     "output_type": "stream",
     "text": [
      "\n"
     ]
    },
    {
     "name": "stdout",
     "output_type": "stream",
     "text": [
      "stringLiteralsQty_std"
     ]
    },
    {
     "name": "stdout",
     "output_type": "stream",
     "text": [
      "\n"
     ]
    },
    {
     "name": "stdout",
     "output_type": "stream",
     "text": [
      "numbersQty_mean"
     ]
    },
    {
     "name": "stdout",
     "output_type": "stream",
     "text": [
      "\n"
     ]
    },
    {
     "name": "stdout",
     "output_type": "stream",
     "text": [
      "numbersQty_min"
     ]
    },
    {
     "name": "stdout",
     "output_type": "stream",
     "text": [
      "\n"
     ]
    },
    {
     "name": "stdout",
     "output_type": "stream",
     "text": [
      "numbersQty_max"
     ]
    },
    {
     "name": "stdout",
     "output_type": "stream",
     "text": [
      "\n"
     ]
    },
    {
     "name": "stdout",
     "output_type": "stream",
     "text": [
      "numbersQty_std"
     ]
    },
    {
     "name": "stdout",
     "output_type": "stream",
     "text": [
      "\n"
     ]
    },
    {
     "name": "stdout",
     "output_type": "stream",
     "text": [
      "assignmentsQty_mean"
     ]
    },
    {
     "name": "stdout",
     "output_type": "stream",
     "text": [
      "\n"
     ]
    },
    {
     "name": "stdout",
     "output_type": "stream",
     "text": [
      "assignmentsQty_min"
     ]
    },
    {
     "name": "stdout",
     "output_type": "stream",
     "text": [
      "\n"
     ]
    },
    {
     "name": "stdout",
     "output_type": "stream",
     "text": [
      "assignmentsQty_max"
     ]
    },
    {
     "name": "stdout",
     "output_type": "stream",
     "text": [
      "\n"
     ]
    },
    {
     "name": "stdout",
     "output_type": "stream",
     "text": [
      "assignmentsQty_std"
     ]
    },
    {
     "name": "stdout",
     "output_type": "stream",
     "text": [
      "\n"
     ]
    },
    {
     "name": "stdout",
     "output_type": "stream",
     "text": [
      "mathOperationsQty_mean"
     ]
    },
    {
     "name": "stdout",
     "output_type": "stream",
     "text": [
      "\n"
     ]
    },
    {
     "name": "stdout",
     "output_type": "stream",
     "text": [
      "mathOperationsQty_min"
     ]
    },
    {
     "name": "stdout",
     "output_type": "stream",
     "text": [
      "\n"
     ]
    },
    {
     "name": "stdout",
     "output_type": "stream",
     "text": [
      "mathOperationsQty_max"
     ]
    },
    {
     "name": "stdout",
     "output_type": "stream",
     "text": [
      "\n"
     ]
    },
    {
     "name": "stdout",
     "output_type": "stream",
     "text": [
      "mathOperationsQty_std"
     ]
    },
    {
     "name": "stdout",
     "output_type": "stream",
     "text": [
      "\n"
     ]
    },
    {
     "name": "stdout",
     "output_type": "stream",
     "text": [
      "variablesQty_mean"
     ]
    },
    {
     "name": "stdout",
     "output_type": "stream",
     "text": [
      "\n"
     ]
    },
    {
     "name": "stdout",
     "output_type": "stream",
     "text": [
      "variablesQty_min"
     ]
    },
    {
     "name": "stdout",
     "output_type": "stream",
     "text": [
      "\n"
     ]
    },
    {
     "name": "stdout",
     "output_type": "stream",
     "text": [
      "variablesQty_max"
     ]
    },
    {
     "name": "stdout",
     "output_type": "stream",
     "text": [
      "\n"
     ]
    },
    {
     "name": "stdout",
     "output_type": "stream",
     "text": [
      "variablesQty_std"
     ]
    },
    {
     "name": "stdout",
     "output_type": "stream",
     "text": [
      "\n"
     ]
    },
    {
     "name": "stdout",
     "output_type": "stream",
     "text": [
      "maxNestedBlocks_mean"
     ]
    },
    {
     "name": "stdout",
     "output_type": "stream",
     "text": [
      "\n"
     ]
    },
    {
     "name": "stdout",
     "output_type": "stream",
     "text": [
      "maxNestedBlocks_min"
     ]
    },
    {
     "name": "stdout",
     "output_type": "stream",
     "text": [
      "\n"
     ]
    },
    {
     "name": "stdout",
     "output_type": "stream",
     "text": [
      "maxNestedBlocks_max"
     ]
    },
    {
     "name": "stdout",
     "output_type": "stream",
     "text": [
      "\n"
     ]
    },
    {
     "name": "stdout",
     "output_type": "stream",
     "text": [
      "maxNestedBlocks_std"
     ]
    },
    {
     "name": "stdout",
     "output_type": "stream",
     "text": [
      "\n"
     ]
    },
    {
     "name": "stdout",
     "output_type": "stream",
     "text": [
      "anonymousClassesQty_mean"
     ]
    },
    {
     "name": "stdout",
     "output_type": "stream",
     "text": [
      "\n"
     ]
    },
    {
     "name": "stdout",
     "output_type": "stream",
     "text": [
      "anonymousClassesQty_min"
     ]
    },
    {
     "name": "stdout",
     "output_type": "stream",
     "text": [
      "\n"
     ]
    },
    {
     "name": "stdout",
     "output_type": "stream",
     "text": [
      "anonymousClassesQty_max"
     ]
    },
    {
     "name": "stdout",
     "output_type": "stream",
     "text": [
      "\n"
     ]
    },
    {
     "name": "stdout",
     "output_type": "stream",
     "text": [
      "anonymousClassesQty_std"
     ]
    },
    {
     "name": "stdout",
     "output_type": "stream",
     "text": [
      "\n"
     ]
    },
    {
     "name": "stdout",
     "output_type": "stream",
     "text": [
      "subClassesQty_mean"
     ]
    },
    {
     "name": "stdout",
     "output_type": "stream",
     "text": [
      "\n"
     ]
    },
    {
     "name": "stdout",
     "output_type": "stream",
     "text": [
      "subClassesQty_min"
     ]
    },
    {
     "name": "stdout",
     "output_type": "stream",
     "text": [
      "\n"
     ]
    },
    {
     "name": "stdout",
     "output_type": "stream",
     "text": [
      "subClassesQty_max"
     ]
    },
    {
     "name": "stdout",
     "output_type": "stream",
     "text": [
      "\n"
     ]
    },
    {
     "name": "stdout",
     "output_type": "stream",
     "text": [
      "subClassesQty_std"
     ]
    },
    {
     "name": "stdout",
     "output_type": "stream",
     "text": [
      "\n"
     ]
    },
    {
     "name": "stdout",
     "output_type": "stream",
     "text": [
      "lambdasQty_mean"
     ]
    },
    {
     "name": "stdout",
     "output_type": "stream",
     "text": [
      "\n"
     ]
    },
    {
     "name": "stdout",
     "output_type": "stream",
     "text": [
      "lambdasQty_min"
     ]
    },
    {
     "name": "stdout",
     "output_type": "stream",
     "text": [
      "\n"
     ]
    },
    {
     "name": "stdout",
     "output_type": "stream",
     "text": [
      "lambdasQty_max"
     ]
    },
    {
     "name": "stdout",
     "output_type": "stream",
     "text": [
      "\n"
     ]
    },
    {
     "name": "stdout",
     "output_type": "stream",
     "text": [
      "lambdasQty_std"
     ]
    },
    {
     "name": "stdout",
     "output_type": "stream",
     "text": [
      "\n"
     ]
    },
    {
     "name": "stdout",
     "output_type": "stream",
     "text": [
      "uniqueWordsQty_mean"
     ]
    },
    {
     "name": "stdout",
     "output_type": "stream",
     "text": [
      "\n"
     ]
    },
    {
     "name": "stdout",
     "output_type": "stream",
     "text": [
      "uniqueWordsQty_min"
     ]
    },
    {
     "name": "stdout",
     "output_type": "stream",
     "text": [
      "\n"
     ]
    },
    {
     "name": "stdout",
     "output_type": "stream",
     "text": [
      "uniqueWordsQty_max"
     ]
    },
    {
     "name": "stdout",
     "output_type": "stream",
     "text": [
      "\n"
     ]
    },
    {
     "name": "stdout",
     "output_type": "stream",
     "text": [
      "uniqueWordsQty_std"
     ]
    },
    {
     "name": "stdout",
     "output_type": "stream",
     "text": [
      "\n"
     ]
    },
    {
     "name": "stdout",
     "output_type": "stream",
     "text": [
      "modifiers_mean"
     ]
    },
    {
     "name": "stdout",
     "output_type": "stream",
     "text": [
      "\n"
     ]
    },
    {
     "name": "stdout",
     "output_type": "stream",
     "text": [
      "modifiers_min"
     ]
    },
    {
     "name": "stdout",
     "output_type": "stream",
     "text": [
      "\n"
     ]
    },
    {
     "name": "stdout",
     "output_type": "stream",
     "text": [
      "modifiers_max"
     ]
    },
    {
     "name": "stdout",
     "output_type": "stream",
     "text": [
      "\n"
     ]
    },
    {
     "name": "stdout",
     "output_type": "stream",
     "text": [
      "modifiers_std"
     ]
    },
    {
     "name": "stdout",
     "output_type": "stream",
     "text": [
      "\n"
     ]
    },
    {
     "name": "stdout",
     "output_type": "stream",
     "text": [
      "num_dependency_mean"
     ]
    },
    {
     "name": "stdout",
     "output_type": "stream",
     "text": [
      "\n"
     ]
    },
    {
     "name": "stdout",
     "output_type": "stream",
     "text": [
      "num_dependency_min"
     ]
    },
    {
     "name": "stdout",
     "output_type": "stream",
     "text": [
      "\n"
     ]
    },
    {
     "name": "stdout",
     "output_type": "stream",
     "text": [
      "num_dependency_max"
     ]
    },
    {
     "name": "stdout",
     "output_type": "stream",
     "text": [
      "\n"
     ]
    },
    {
     "name": "stdout",
     "output_type": "stream",
     "text": [
      "num_dependency_std"
     ]
    },
    {
     "name": "stdout",
     "output_type": "stream",
     "text": [
      "\n"
     ]
    },
    {
     "name": "stdout",
     "output_type": "stream",
     "text": [
      "num_line_affected_mean"
     ]
    },
    {
     "name": "stdout",
     "output_type": "stream",
     "text": [
      "\n"
     ]
    },
    {
     "name": "stdout",
     "output_type": "stream",
     "text": [
      "num_line_affected_min"
     ]
    },
    {
     "name": "stdout",
     "output_type": "stream",
     "text": [
      "\n"
     ]
    },
    {
     "name": "stdout",
     "output_type": "stream",
     "text": [
      "num_line_affected_max"
     ]
    },
    {
     "name": "stdout",
     "output_type": "stream",
     "text": [
      "\n"
     ]
    },
    {
     "name": "stdout",
     "output_type": "stream",
     "text": [
      "num_line_affected_std"
     ]
    },
    {
     "name": "stdout",
     "output_type": "stream",
     "text": [
      "\n"
     ]
    },
    {
     "name": "stdout",
     "output_type": "stream",
     "text": [
      "actual_num_of_classes_touched_mean"
     ]
    },
    {
     "name": "stdout",
     "output_type": "stream",
     "text": [
      "\n"
     ]
    },
    {
     "name": "stdout",
     "output_type": "stream",
     "text": [
      "actual_num_of_classes_touched_min"
     ]
    },
    {
     "name": "stdout",
     "output_type": "stream",
     "text": [
      "\n"
     ]
    },
    {
     "name": "stdout",
     "output_type": "stream",
     "text": [
      "actual_num_of_classes_touched_max"
     ]
    },
    {
     "name": "stdout",
     "output_type": "stream",
     "text": [
      "\n"
     ]
    },
    {
     "name": "stdout",
     "output_type": "stream",
     "text": [
      "actual_num_of_classes_touched_std"
     ]
    },
    {
     "name": "stdout",
     "output_type": "stream",
     "text": [
      "\n"
     ]
    },
    {
     "name": "stdout",
     "output_type": "stream",
     "text": [
      "commit_line_changed"
     ]
    },
    {
     "name": "stdout",
     "output_type": "stream",
     "text": [
      "\n"
     ]
    },
    {
     "name": "stdout",
     "output_type": "stream",
     "text": [
      "refactoring_perc"
     ]
    },
    {
     "name": "stdout",
     "output_type": "stream",
     "text": [
      "\n"
     ]
    },
    {
     "name": "stdout",
     "output_type": "stream",
     "text": [
      "refactoring_perc_time_taken"
     ]
    },
    {
     "name": "stdout",
     "output_type": "stream",
     "text": [
      "\n"
     ]
    },
    {
     "name": "stdout",
     "output_type": "stream",
     "text": [
      "cocomoII_time_taken"
     ]
    },
    {
     "name": "stdout",
     "output_type": "stream",
     "text": [
      "\n"
     ]
    },
    {
     "name": "stdout",
     "output_type": "stream",
     "text": [
      "geneticP_time_taken"
     ]
    },
    {
     "name": "stdout",
     "output_type": "stream",
     "text": [
      "\n"
     ]
    },
    {
     "name": "stdout",
     "output_type": "stream",
     "text": [
      "softwareMaintenance_time_taken"
     ]
    },
    {
     "name": "stdout",
     "output_type": "stream",
     "text": [
      "\n"
     ]
    },
    {
     "name": "stdout",
     "output_type": "stream",
     "text": [
      "fuzzy_time_taken"
     ]
    },
    {
     "name": "stdout",
     "output_type": "stream",
     "text": [
      "\n"
     ]
    }
   ],
   "source": [
    "for column in okhttp_commits_df.columns:\n",
    "    print(column)"
   ]
  },
  {
   "cell_type": "code",
   "execution_count": 29,
   "id": "97b9e3af",
   "metadata": {
    "execution": {
     "iopub.execute_input": "2022-01-22T06:34:33.631932Z",
     "iopub.status.busy": "2022-01-22T06:34:33.630930Z",
     "iopub.status.idle": "2022-01-22T06:34:33.645574Z",
     "shell.execute_reply": "2022-01-22T06:34:33.645574Z"
    },
    "papermill": {
     "duration": 0.146791,
     "end_time": "2022-01-22T06:34:33.645574",
     "exception": false,
     "start_time": "2022-01-22T06:34:33.498783",
     "status": "completed"
    },
    "tags": []
   },
   "outputs": [],
   "source": [
    "okhttp_commits_df.to_csv(f'Effort_Estimation_Results_3E_v2/{project_name}.csv', index=False)"
   ]
  },
  {
   "cell_type": "code",
   "execution_count": 30,
   "id": "b7f0ee57",
   "metadata": {
    "execution": {
     "iopub.execute_input": "2022-01-22T06:34:33.867923Z",
     "iopub.status.busy": "2022-01-22T06:34:33.867923Z",
     "iopub.status.idle": "2022-01-22T06:34:33.878923Z",
     "shell.execute_reply": "2022-01-22T06:34:33.879922Z"
    },
    "papermill": {
     "duration": 0.126171,
     "end_time": "2022-01-22T06:34:33.879922",
     "exception": false,
     "start_time": "2022-01-22T06:34:33.753751",
     "status": "completed"
    },
    "tags": []
   },
   "outputs": [
    {
     "name": "stdout",
     "output_type": "stream",
     "text": [
      "Cocomo: 15.5232"
     ]
    },
    {
     "name": "stdout",
     "output_type": "stream",
     "text": [
      "\n"
     ]
    },
    {
     "name": "stdout",
     "output_type": "stream",
     "text": [
      "GeneticP: 9.291655295999998"
     ]
    },
    {
     "name": "stdout",
     "output_type": "stream",
     "text": [
      "\n"
     ]
    },
    {
     "name": "stdout",
     "output_type": "stream",
     "text": [
      "softwareMaintenance: 156.79999999999998"
     ]
    },
    {
     "name": "stdout",
     "output_type": "stream",
     "text": [
      "\n"
     ]
    },
    {
     "name": "stdout",
     "output_type": "stream",
     "text": [
      "fuzzy: 102.20220527519842"
     ]
    },
    {
     "name": "stdout",
     "output_type": "stream",
     "text": [
      "\n"
     ]
    },
    {
     "name": "stdout",
     "output_type": "stream",
     "text": [
      "test GeneticP: 9.291655295999998"
     ]
    },
    {
     "name": "stdout",
     "output_type": "stream",
     "text": [
      "\n"
     ]
    },
    {
     "name": "stdout",
     "output_type": "stream",
     "text": [
      "test testfuzzy: 102.20220527519842"
     ]
    },
    {
     "name": "stdout",
     "output_type": "stream",
     "text": [
      "\n"
     ]
    }
   ],
   "source": [
    "## Test formula\n",
    "loc = 30\n",
    "kloc = loc/1000\n",
    "cocomo = 2.94 * kloc * 176\n",
    "geneticP = ((1.75992 * kloc) - (4.56 * 0.001 * (kloc**2))) * 176\n",
    "testgeneticP = ((1.75992 * loc/1000) - (4.56 * 0.001 * ((loc/1000)**2))) * 176\n",
    "softwareMaintenance = -40 + 6.56*loc\n",
    "fuzzy = ( (6*(0.7*kloc)**0.665) + (4*6*kloc**0.665) + (6*(1.3*kloc)**0.665) )/(1+4+1)*176\n",
    "testfuzzy = ( (6*(0.7*loc/1000)**0.665) + (4*6*(loc/1000)**0.665) + (6*(1.3*loc/1000)**0.665) )/(1+4+1)*176\n",
    "\n",
    "\n",
    "\n",
    "print(\"Cocomo: \" + str(cocomo))\n",
    "print(\"GeneticP: \" + str(geneticP))\n",
    "print(\"softwareMaintenance: \" + str(softwareMaintenance))\n",
    "print(\"fuzzy: \" + str(fuzzy))\n",
    "\n",
    "print(\"test GeneticP: \" + str(testgeneticP))\n",
    "print(\"test testfuzzy: \" + str(testfuzzy))\n",
    "\n"
   ]
  },
  {
   "cell_type": "code",
   "execution_count": 31,
   "id": "4698b8ed",
   "metadata": {
    "execution": {
     "iopub.execute_input": "2022-01-22T06:34:34.111444Z",
     "iopub.status.busy": "2022-01-22T06:34:34.110448Z",
     "iopub.status.idle": "2022-01-22T06:34:34.117446Z",
     "shell.execute_reply": "2022-01-22T06:34:34.117446Z"
    },
    "papermill": {
     "duration": 0.125005,
     "end_time": "2022-01-22T06:34:34.117446",
     "exception": false,
     "start_time": "2022-01-22T06:34:33.992441",
     "status": "completed"
    },
    "tags": []
   },
   "outputs": [],
   "source": [
    "# Cocomo formula = 2.94 * kloc * 176"
   ]
  },
  {
   "cell_type": "code",
   "execution_count": 32,
   "id": "d5eaba52",
   "metadata": {
    "execution": {
     "iopub.execute_input": "2022-01-22T06:34:34.373440Z",
     "iopub.status.busy": "2022-01-22T06:34:34.373440Z",
     "iopub.status.idle": "2022-01-22T06:34:34.387442Z",
     "shell.execute_reply": "2022-01-22T06:34:34.386441Z"
    },
    "papermill": {
     "duration": 0.136999,
     "end_time": "2022-01-22T06:34:34.387442",
     "exception": false,
     "start_time": "2022-01-22T06:34:34.250443",
     "status": "completed"
    },
    "tags": []
   },
   "outputs": [],
   "source": [
    "# GeneticP formula = 1.75992 * kloc - 4.56 * 0.001 * kloc^2\n",
    "\n"
   ]
  }
 ],
 "metadata": {
  "celltoolbar": "Tags",
  "kernelspec": {
   "display_name": "Python 3",
   "language": "python",
   "name": "python3"
  },
  "language_info": {
   "codemirror_mode": {
    "name": "ipython",
    "version": 3
   },
   "file_extension": ".py",
   "mimetype": "text/x-python",
   "name": "python",
   "nbconvert_exporter": "python",
   "pygments_lexer": "ipython3",
   "version": "3.7.3"
  },
  "papermill": {
   "default_parameters": {},
   "duration": 9.676266,
   "end_time": "2022-01-22T06:34:34.959549",
   "environment_variables": {},
   "exception": null,
   "input_path": "Effort Estimation_3E_Server.ipynb",
   "output_path": "Automation_Output.ipynb",
   "parameters": {
    "project_name": "karaf",
    "project_name_short": "karaf",
    "project_owner": "apache"
   },
   "start_time": "2022-01-22T06:34:25.283283",
   "version": "2.3.3"
  }
 },
 "nbformat": 4,
 "nbformat_minor": 5
}