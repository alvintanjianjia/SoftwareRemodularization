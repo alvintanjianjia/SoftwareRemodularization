{
 "cells": [
  {
   "cell_type": "code",
   "execution_count": 1,
   "metadata": {},
   "outputs": [],
   "source": [
    "import h2o\n",
    "from h2o.estimators.word2vec import H2OWord2vecEstimator\n",
    "import json\n",
    "import pandas as pd\n",
    "import numpy as np\n",
    "import networkx as nx\n",
    "import jellyfish\n",
    "import os\n",
    "import shutil\n",
    "import subprocess\n",
    "import requests\n",
    "from github import Github\n",
    "from git import Repo\n",
    "from matplotlib import pyplot as plt\n",
    "from sklearn.feature_extraction.text import TfidfVectorizer\n",
    "from sklearn.cluster import KMeans\n",
    "from sklearn.metrics import adjusted_rand_score\n",
    "from sklearn import preprocessing\n",
    "from sklearn.cluster import AgglomerativeClustering\n",
    "from zipfile import ZipFile\n",
    "from filecmp import dircmp\n",
    "import configparser\n",
    "from pprint import pprint\n",
    "from datetime import datetime\n",
    "import random\n",
    "from feature_engine.imputation import MeanMedianImputer\n",
    "from sklearn.cluster import KMeans"
   ]
  },
  {
   "cell_type": "code",
   "execution_count": 12,
   "metadata": {},
   "outputs": [
    {
     "name": "stdout",
     "output_type": "stream",
     "text": [
      "['github']\n"
     ]
    }
   ],
   "source": [
    "config = configparser.ConfigParser()\n",
    "config.read('authentication.ini')\n",
    "print(config.sections())\n",
    "github_oauth = config['github']['api_key']"
   ]
  },
  {
   "cell_type": "code",
   "execution_count": 291,
   "metadata": {},
   "outputs": [],
   "source": [
    "project_name = 'Redisson'\n",
    "project_owner = 'redisson'\n",
    "project_name_short = 'redisson'"
   ]
  },
  {
   "cell_type": "code",
   "execution_count": 292,
   "metadata": {},
   "outputs": [],
   "source": [
    "okhttp_commits_df = pd.read_csv(f'Effort_Estimation_Results_v4/{project_name}.csv')"
   ]
  },
  {
   "cell_type": "code",
   "execution_count": 293,
   "metadata": {},
   "outputs": [
    {
     "data": {
      "text/html": [
       "<div>\n",
       "<style scoped>\n",
       "    .dataframe tbody tr th:only-of-type {\n",
       "        vertical-align: middle;\n",
       "    }\n",
       "\n",
       "    .dataframe tbody tr th {\n",
       "        vertical-align: top;\n",
       "    }\n",
       "\n",
       "    .dataframe thead th {\n",
       "        text-align: right;\n",
       "    }\n",
       "</style>\n",
       "<table border=\"1\" class=\"dataframe\">\n",
       "  <thead>\n",
       "    <tr style=\"text-align: right;\">\n",
       "      <th></th>\n",
       "      <th>kmean_label</th>\n",
       "      <th>time_taken_mean</th>\n",
       "      <th>time_taken_min</th>\n",
       "      <th>time_taken_max</th>\n",
       "      <th>time_taken_q10</th>\n",
       "      <th>time_taken_q20</th>\n",
       "      <th>time_taken_q25</th>\n",
       "      <th>time_taken_q30</th>\n",
       "      <th>time_taken_q40</th>\n",
       "      <th>time_taken_q50</th>\n",
       "      <th>...</th>\n",
       "      <th>num_dependency_max</th>\n",
       "      <th>num_dependency_std</th>\n",
       "      <th>num_line_affected_mean</th>\n",
       "      <th>num_line_affected_min</th>\n",
       "      <th>num_line_affected_max</th>\n",
       "      <th>num_line_affected_std</th>\n",
       "      <th>actual_num_of_classes_touched_mean</th>\n",
       "      <th>actual_num_of_classes_touched_min</th>\n",
       "      <th>actual_num_of_classes_touched_max</th>\n",
       "      <th>actual_num_of_classes_touched_std</th>\n",
       "    </tr>\n",
       "  </thead>\n",
       "  <tbody>\n",
       "    <tr>\n",
       "      <th>0</th>\n",
       "      <td>2</td>\n",
       "      <td>47.750000</td>\n",
       "      <td>3.0</td>\n",
       "      <td>165.0</td>\n",
       "      <td>8.2</td>\n",
       "      <td>19.4</td>\n",
       "      <td>20.5</td>\n",
       "      <td>21.9</td>\n",
       "      <td>24.4</td>\n",
       "      <td>34.0</td>\n",
       "      <td>...</td>\n",
       "      <td>104.0</td>\n",
       "      <td>NaN</td>\n",
       "      <td>30.0</td>\n",
       "      <td>30</td>\n",
       "      <td>30</td>\n",
       "      <td>NaN</td>\n",
       "      <td>7.0</td>\n",
       "      <td>7</td>\n",
       "      <td>7</td>\n",
       "      <td>NaN</td>\n",
       "    </tr>\n",
       "    <tr>\n",
       "      <th>1</th>\n",
       "      <td>9</td>\n",
       "      <td>20.461538</td>\n",
       "      <td>1.0</td>\n",
       "      <td>127.0</td>\n",
       "      <td>1.0</td>\n",
       "      <td>1.0</td>\n",
       "      <td>1.0</td>\n",
       "      <td>1.6</td>\n",
       "      <td>2.8</td>\n",
       "      <td>4.0</td>\n",
       "      <td>...</td>\n",
       "      <td>42.0</td>\n",
       "      <td>NaN</td>\n",
       "      <td>18.0</td>\n",
       "      <td>18</td>\n",
       "      <td>18</td>\n",
       "      <td>NaN</td>\n",
       "      <td>1.0</td>\n",
       "      <td>1</td>\n",
       "      <td>1</td>\n",
       "      <td>NaN</td>\n",
       "    </tr>\n",
       "  </tbody>\n",
       "</table>\n",
       "<p>2 rows × 199 columns</p>\n",
       "</div>"
      ],
      "text/plain": [
       "   kmean_label  time_taken_mean  time_taken_min  time_taken_max  \\\n",
       "0            2        47.750000             3.0           165.0   \n",
       "1            9        20.461538             1.0           127.0   \n",
       "\n",
       "   time_taken_q10  time_taken_q20  time_taken_q25  time_taken_q30  \\\n",
       "0             8.2            19.4            20.5            21.9   \n",
       "1             1.0             1.0             1.0             1.6   \n",
       "\n",
       "   time_taken_q40  time_taken_q50  ...  num_dependency_max  \\\n",
       "0            24.4            34.0  ...               104.0   \n",
       "1             2.8             4.0  ...                42.0   \n",
       "\n",
       "   num_dependency_std  num_line_affected_mean  num_line_affected_min  \\\n",
       "0                 NaN                    30.0                     30   \n",
       "1                 NaN                    18.0                     18   \n",
       "\n",
       "   num_line_affected_max num_line_affected_std  \\\n",
       "0                     30                   NaN   \n",
       "1                     18                   NaN   \n",
       "\n",
       "  actual_num_of_classes_touched_mean actual_num_of_classes_touched_min  \\\n",
       "0                                7.0                                 7   \n",
       "1                                1.0                                 1   \n",
       "\n",
       "  actual_num_of_classes_touched_max actual_num_of_classes_touched_std  \n",
       "0                                 7                               NaN  \n",
       "1                                 1                               NaN  \n",
       "\n",
       "[2 rows x 199 columns]"
      ]
     },
     "execution_count": 293,
     "metadata": {},
     "output_type": "execute_result"
    }
   ],
   "source": [
    "okhttp_commits_df.head()"
   ]
  },
  {
   "cell_type": "code",
   "execution_count": 294,
   "metadata": {},
   "outputs": [
    {
     "data": {
      "text/plain": [
       "2"
      ]
     },
     "execution_count": 294,
     "metadata": {},
     "output_type": "execute_result"
    }
   ],
   "source": [
    "len(okhttp_commits_df)"
   ]
  },
  {
   "cell_type": "code",
   "execution_count": 295,
   "metadata": {},
   "outputs": [
    {
     "data": {
      "text/plain": [
       "0    2c24a344a3f8d7e8e9ebd5649237d68844e34a2f\n",
       "1    d1eb2ece8f9ddb4cc797fd236cc4462682372ef8\n",
       "Name: commit_compared_with, dtype: object"
      ]
     },
     "execution_count": 295,
     "metadata": {},
     "output_type": "execute_result"
    }
   ],
   "source": [
    "okhttp_commits_df['commit_compared_with']"
   ]
  },
  {
   "cell_type": "code",
   "execution_count": 296,
   "metadata": {},
   "outputs": [
    {
     "data": {
      "text/plain": [
       "0    30\n",
       "1    18\n",
       "Name: num_line_affected_max, dtype: int64"
      ]
     },
     "execution_count": 296,
     "metadata": {},
     "output_type": "execute_result"
    }
   ],
   "source": [
    "okhttp_commits_df['num_line_affected_max']"
   ]
  },
  {
   "cell_type": "code",
   "execution_count": 297,
   "metadata": {},
   "outputs": [],
   "source": [
    "def get_commit_line_changed(sha, project_owner, project_name_short):\n",
    "    query_url = f\"https://api.github.com/repos/{project_owner}/{project_name_short}/commits/{sha}\"\n",
    "\n",
    "    headers = {'Authorization': f'token {github_oauth}'}\n",
    "    r = requests.get(query_url, headers=headers)\n",
    "    #print((r.json()))\n",
    "    return r.json()['stats']['total']"
   ]
  },
  {
   "cell_type": "code",
   "execution_count": 298,
   "metadata": {},
   "outputs": [],
   "source": [
    "def limit_perc_change(perc):\n",
    "    if perc > 1:\n",
    "        return 1\n",
    "    else:\n",
    "        return perc"
   ]
  },
  {
   "cell_type": "code",
   "execution_count": 299,
   "metadata": {},
   "outputs": [],
   "source": [
    "def limit_base_time(time):\n",
    "    if time < 1:\n",
    "        return 1\n",
    "    else:\n",
    "        return time"
   ]
  },
  {
   "cell_type": "code",
   "execution_count": 300,
   "metadata": {},
   "outputs": [
    {
     "data": {
      "text/plain": [
       "358"
      ]
     },
     "execution_count": 300,
     "metadata": {},
     "output_type": "execute_result"
    }
   ],
   "source": [
    "get_commit_line_changed('083315a473d8b2fc972a70449272b296683ac38c', 'square', 'okhttp')"
   ]
  },
  {
   "cell_type": "code",
   "execution_count": 301,
   "metadata": {},
   "outputs": [],
   "source": [
    "okhttp_commits_df['commit_line_changed'] = okhttp_commits_df.apply(lambda row: get_commit_line_changed(row['commit_compared_with'], project_owner, project_name_short), axis=1)"
   ]
  },
  {
   "cell_type": "code",
   "execution_count": 302,
   "metadata": {
    "scrolled": true
   },
   "outputs": [
    {
     "data": {
      "text/plain": [
       "0    30\n",
       "1    18\n",
       "Name: num_line_affected_min, dtype: int64"
      ]
     },
     "execution_count": 302,
     "metadata": {},
     "output_type": "execute_result"
    }
   ],
   "source": [
    "okhttp_commits_df['num_line_affected_min']"
   ]
  },
  {
   "cell_type": "code",
   "execution_count": 303,
   "metadata": {
    "scrolled": true
   },
   "outputs": [
    {
     "data": {
      "text/plain": [
       "0    378\n",
       "1    232\n",
       "Name: commit_line_changed, dtype: int64"
      ]
     },
     "execution_count": 303,
     "metadata": {},
     "output_type": "execute_result"
    }
   ],
   "source": [
    "okhttp_commits_df['commit_line_changed']"
   ]
  },
  {
   "cell_type": "code",
   "execution_count": 304,
   "metadata": {},
   "outputs": [],
   "source": [
    "okhttp_commits_df['refactoring_perc'] = okhttp_commits_df['num_line_affected_min'] / okhttp_commits_df['commit_line_changed']"
   ]
  },
  {
   "cell_type": "code",
   "execution_count": 305,
   "metadata": {},
   "outputs": [],
   "source": [
    "okhttp_commits_df['refactoring_perc'] = okhttp_commits_df.apply(lambda row: limit_perc_change(row['refactoring_perc']), axis=1)"
   ]
  },
  {
   "cell_type": "code",
   "execution_count": 306,
   "metadata": {
    "scrolled": true
   },
   "outputs": [
    {
     "data": {
      "text/plain": [
       "0    0.079365\n",
       "1    0.077586\n",
       "Name: refactoring_perc, dtype: float64"
      ]
     },
     "execution_count": 306,
     "metadata": {},
     "output_type": "execute_result"
    }
   ],
   "source": [
    "okhttp_commits_df['refactoring_perc']"
   ]
  },
  {
   "cell_type": "code",
   "execution_count": 307,
   "metadata": {},
   "outputs": [],
   "source": [
    "okhttp_commits_df['refactoring_perc_time_taken'] = okhttp_commits_df['refactoring_perc'] * okhttp_commits_df['time_taken']"
   ]
  },
  {
   "cell_type": "code",
   "execution_count": 308,
   "metadata": {},
   "outputs": [],
   "source": [
    "okhttp_commits_df['refactoring_perc_time_taken'] = okhttp_commits_df.apply(lambda row: limit_base_time(row['refactoring_perc_time_taken']), axis=1)\n"
   ]
  },
  {
   "cell_type": "code",
   "execution_count": 309,
   "metadata": {
    "scrolled": true
   },
   "outputs": [
    {
     "data": {
      "text/plain": [
       "0    4.126984\n",
       "1    1.000000\n",
       "Name: refactoring_perc_time_taken, dtype: float64"
      ]
     },
     "execution_count": 309,
     "metadata": {},
     "output_type": "execute_result"
    }
   ],
   "source": [
    "okhttp_commits_df['refactoring_perc_time_taken']"
   ]
  },
  {
   "cell_type": "code",
   "execution_count": 310,
   "metadata": {
    "scrolled": true
   },
   "outputs": [
    {
     "data": {
      "text/plain": [
       "0    52.0\n",
       "1     1.0\n",
       "Name: time_taken, dtype: float64"
      ]
     },
     "execution_count": 310,
     "metadata": {},
     "output_type": "execute_result"
    }
   ],
   "source": [
    "okhttp_commits_df['time_taken']"
   ]
  },
  {
   "cell_type": "code",
   "execution_count": 311,
   "metadata": {},
   "outputs": [
    {
     "name": "stdout",
     "output_type": "stream",
     "text": [
      "kmean_label\n",
      "time_taken_mean\n",
      "time_taken_min\n",
      "time_taken_max\n",
      "time_taken_q10\n",
      "time_taken_q20\n",
      "time_taken_q25\n",
      "time_taken_q30\n",
      "time_taken_q40\n",
      "time_taken_q50\n",
      "time_taken_q60\n",
      "time_taken_q70\n",
      "time_taken_q75\n",
      "time_taken_q80\n",
      "time_taken_q90\n",
      "sha\n",
      "name\n",
      "email\n",
      "date\n",
      "login\n",
      "message\n",
      "parent_sha\n",
      "parent_date\n",
      "time_taken\n",
      "contains_refactoring\n",
      "project_name\n",
      "commit_compared_with\n",
      "cbo_mean\n",
      "cbo_min\n",
      "cbo_max\n",
      "cbo_std\n",
      "wmc_mean\n",
      "wmc_min\n",
      "wmc_max\n",
      "wmc_std\n",
      "dit_mean\n",
      "dit_min\n",
      "dit_max\n",
      "dit_std\n",
      "rfc_mean\n",
      "rfc_min\n",
      "rfc_max\n",
      "rfc_std\n",
      "lcom_mean\n",
      "lcom_min\n",
      "lcom_max\n",
      "lcom_std\n",
      "totalMethods_mean\n",
      "totalMethods_min\n",
      "totalMethods_max\n",
      "totalMethods_std\n",
      "staticMethods_mean\n",
      "staticMethods_min\n",
      "staticMethods_max\n",
      "staticMethods_std\n",
      "publicMethods_mean\n",
      "publicMethods_min\n",
      "publicMethods_max\n",
      "publicMethods_std\n",
      "privateMethods_mean\n",
      "privateMethods_min\n",
      "privateMethods_max\n",
      "privateMethods_std\n",
      "protectedMethods_mean\n",
      "protectedMethods_min\n",
      "protectedMethods_max\n",
      "protectedMethods_std\n",
      "defaultMethods_mean\n",
      "defaultMethods_min\n",
      "defaultMethods_max\n",
      "defaultMethods_std\n",
      "abstractMethods_mean\n",
      "abstractMethods_min\n",
      "abstractMethods_max\n",
      "abstractMethods_std\n",
      "finalMethods_mean\n",
      "finalMethods_min\n",
      "finalMethods_max\n",
      "finalMethods_std\n",
      "synchronizedMethods_mean\n",
      "synchronizedMethods_min\n",
      "synchronizedMethods_max\n",
      "synchronizedMethods_std\n",
      "totalFields_mean\n",
      "totalFields_min\n",
      "totalFields_max\n",
      "totalFields_std\n",
      "staticFields_mean\n",
      "staticFields_min\n",
      "staticFields_max\n",
      "staticFields_std\n",
      "publicFields_mean\n",
      "publicFields_min\n",
      "publicFields_max\n",
      "publicFields_std\n",
      "privateFields_mean\n",
      "privateFields_min\n",
      "privateFields_max\n",
      "privateFields_std\n",
      "protectedFields_mean\n",
      "protectedFields_min\n",
      "protectedFields_max\n",
      "protectedFields_std\n",
      "defaultFields_mean\n",
      "defaultFields_min\n",
      "defaultFields_max\n",
      "defaultFields_std\n",
      "finalFields_mean\n",
      "finalFields_min\n",
      "finalFields_max\n",
      "finalFields_std\n",
      "synchronizedFields_mean\n",
      "synchronizedFields_min\n",
      "synchronizedFields_max\n",
      "synchronizedFields_std\n",
      "nosi_mean\n",
      "nosi_min\n",
      "nosi_max\n",
      "nosi_std\n",
      "loc_mean\n",
      "loc_min\n",
      "loc_max\n",
      "loc_std\n",
      "returnQty_mean\n",
      "returnQty_min\n",
      "returnQty_max\n",
      "returnQty_std\n",
      "loopQty_mean\n",
      "loopQty_min\n",
      "loopQty_max\n",
      "loopQty_std\n",
      "comparisonsQty_mean\n",
      "comparisonsQty_min\n",
      "comparisonsQty_max\n",
      "comparisonsQty_std\n",
      "tryCatchQty_mean\n",
      "tryCatchQty_min\n",
      "tryCatchQty_max\n",
      "tryCatchQty_std\n",
      "parenthesizedExpsQty_mean\n",
      "parenthesizedExpsQty_min\n",
      "parenthesizedExpsQty_max\n",
      "parenthesizedExpsQty_std\n",
      "stringLiteralsQty_mean\n",
      "stringLiteralsQty_min\n",
      "stringLiteralsQty_max\n",
      "stringLiteralsQty_std\n",
      "numbersQty_mean\n",
      "numbersQty_min\n",
      "numbersQty_max\n",
      "numbersQty_std\n",
      "assignmentsQty_mean\n",
      "assignmentsQty_min\n",
      "assignmentsQty_max\n",
      "assignmentsQty_std\n",
      "mathOperationsQty_mean\n",
      "mathOperationsQty_min\n",
      "mathOperationsQty_max\n",
      "mathOperationsQty_std\n",
      "variablesQty_mean\n",
      "variablesQty_min\n",
      "variablesQty_max\n",
      "variablesQty_std\n",
      "maxNestedBlocks_mean\n",
      "maxNestedBlocks_min\n",
      "maxNestedBlocks_max\n",
      "maxNestedBlocks_std\n",
      "anonymousClassesQty_mean\n",
      "anonymousClassesQty_min\n",
      "anonymousClassesQty_max\n",
      "anonymousClassesQty_std\n",
      "subClassesQty_mean\n",
      "subClassesQty_min\n",
      "subClassesQty_max\n",
      "subClassesQty_std\n",
      "lambdasQty_mean\n",
      "lambdasQty_min\n",
      "lambdasQty_max\n",
      "lambdasQty_std\n",
      "uniqueWordsQty_mean\n",
      "uniqueWordsQty_min\n",
      "uniqueWordsQty_max\n",
      "uniqueWordsQty_std\n",
      "modifiers_mean\n",
      "modifiers_min\n",
      "modifiers_max\n",
      "modifiers_std\n",
      "num_dependency_mean\n",
      "num_dependency_min\n",
      "num_dependency_max\n",
      "num_dependency_std\n",
      "num_line_affected_mean\n",
      "num_line_affected_min\n",
      "num_line_affected_max\n",
      "num_line_affected_std\n",
      "actual_num_of_classes_touched_mean\n",
      "actual_num_of_classes_touched_min\n",
      "actual_num_of_classes_touched_max\n",
      "actual_num_of_classes_touched_std\n",
      "commit_line_changed\n",
      "refactoring_perc\n",
      "refactoring_perc_time_taken\n"
     ]
    }
   ],
   "source": [
    "for column in okhttp_commits_df.columns:\n",
    "    print(column)"
   ]
  },
  {
   "cell_type": "code",
   "execution_count": 312,
   "metadata": {},
   "outputs": [],
   "source": [
    "okhttp_commits_df.to_csv(f'Effort_Estimation_Results_v5/{project_name}.csv', index=False)"
   ]
  },
  {
   "cell_type": "code",
   "execution_count": null,
   "metadata": {},
   "outputs": [],
   "source": []
  },
  {
   "cell_type": "code",
   "execution_count": null,
   "metadata": {},
   "outputs": [],
   "source": []
  }
 ],
 "metadata": {
  "kernelspec": {
   "display_name": "Python 3",
   "language": "python",
   "name": "python3"
  },
  "language_info": {
   "codemirror_mode": {
    "name": "ipython",
    "version": 3
   },
   "file_extension": ".py",
   "mimetype": "text/x-python",
   "name": "python",
   "nbconvert_exporter": "python",
   "pygments_lexer": "ipython3",
   "version": "3.7.3"
  }
 },
 "nbformat": 4,
 "nbformat_minor": 2
}
