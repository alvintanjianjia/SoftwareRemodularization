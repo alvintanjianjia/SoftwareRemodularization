{
 "cells": [
  {
   "cell_type": "code",
   "execution_count": 2,
   "metadata": {},
   "outputs": [],
   "source": [
    "import h2o\n",
    "from h2o.estimators.word2vec import H2OWord2vecEstimator\n",
    "import json\n",
    "import pandas as pd\n",
    "import numpy as np\n",
    "import networkx as nx\n",
    "import jellyfish\n",
    "import os\n",
    "import shutil\n",
    "import subprocess\n",
    "import requests\n",
    "from github import Github\n",
    "from git import Repo\n",
    "from matplotlib import pyplot as plt\n",
    "from sklearn.feature_extraction.text import TfidfVectorizer\n",
    "from sklearn.cluster import KMeans\n",
    "from sklearn.metrics import adjusted_rand_score\n",
    "from sklearn import preprocessing\n",
    "from sklearn.cluster import AgglomerativeClustering\n",
    "from zipfile import ZipFile\n",
    "from filecmp import dircmp\n",
    "import configparser\n",
    "from pprint import pprint\n",
    "from datetime import datetime\n",
    "import random\n",
    "from feature_engine.imputation import MeanMedianImputer\n",
    "from sklearn.cluster import KMeans"
   ]
  },
  {
   "cell_type": "code",
   "execution_count": 3,
   "metadata": {},
   "outputs": [
    {
     "name": "stdout",
     "output_type": "stream",
     "text": [
      "['github']\n"
     ]
    }
   ],
   "source": [
    "config = configparser.ConfigParser()\n",
    "config.read('authentication.ini')\n",
    "print(config.sections())\n",
    "github_oauth = config['github']['api_key']"
   ]
  },
  {
   "cell_type": "code",
   "execution_count": 4,
   "metadata": {
    "tags": [
     "parameters"
    ]
   },
   "outputs": [],
   "source": [
    "project_name = 'Redisson'\n",
    "project_owner = 'redisson'\n",
    "project_name_short = 'redisson'"
   ]
  },
  {
   "cell_type": "code",
   "execution_count": 5,
   "metadata": {},
   "outputs": [],
   "source": [
    "okhttp_commits_df = pd.read_csv(f'Effort_Estimation_Results_v6/{project_name}.csv')"
   ]
  },
  {
   "cell_type": "code",
   "execution_count": 6,
   "metadata": {},
   "outputs": [
    {
     "data": {
      "text/html": [
       "<div>\n",
       "<style scoped>\n",
       "    .dataframe tbody tr th:only-of-type {\n",
       "        vertical-align: middle;\n",
       "    }\n",
       "\n",
       "    .dataframe tbody tr th {\n",
       "        vertical-align: top;\n",
       "    }\n",
       "\n",
       "    .dataframe thead th {\n",
       "        text-align: right;\n",
       "    }\n",
       "</style>\n",
       "<table border=\"1\" class=\"dataframe\">\n",
       "  <thead>\n",
       "    <tr style=\"text-align: right;\">\n",
       "      <th></th>\n",
       "      <th>kmean_label</th>\n",
       "      <th>time_taken_mean</th>\n",
       "      <th>time_taken_min</th>\n",
       "      <th>time_taken_max</th>\n",
       "      <th>time_taken_q10</th>\n",
       "      <th>time_taken_q20</th>\n",
       "      <th>time_taken_q25</th>\n",
       "      <th>time_taken_q30</th>\n",
       "      <th>time_taken_q40</th>\n",
       "      <th>time_taken_q50</th>\n",
       "      <th>...</th>\n",
       "      <th>num_dependency_max</th>\n",
       "      <th>num_dependency_std</th>\n",
       "      <th>num_line_affected_mean</th>\n",
       "      <th>num_line_affected_min</th>\n",
       "      <th>num_line_affected_max</th>\n",
       "      <th>num_line_affected_std</th>\n",
       "      <th>actual_num_of_classes_touched_mean</th>\n",
       "      <th>actual_num_of_classes_touched_min</th>\n",
       "      <th>actual_num_of_classes_touched_max</th>\n",
       "      <th>actual_num_of_classes_touched_std</th>\n",
       "    </tr>\n",
       "  </thead>\n",
       "  <tbody>\n",
       "  </tbody>\n",
       "</table>\n",
       "<p>0 rows × 199 columns</p>\n",
       "</div>"
      ],
      "text/plain": [
       "Empty DataFrame\n",
       "Columns: [kmean_label, time_taken_mean, time_taken_min, time_taken_max, time_taken_q10, time_taken_q20, time_taken_q25, time_taken_q30, time_taken_q40, time_taken_q50, time_taken_q60, time_taken_q70, time_taken_q75, time_taken_q80, time_taken_q90, sha, name, email, date, login, message, parent_sha, parent_date, time_taken, contains_refactoring, project_name, commit_compared_with, cbo_mean, cbo_min, cbo_max, cbo_std, wmc_mean, wmc_min, wmc_max, wmc_std, dit_mean, dit_min, dit_max, dit_std, rfc_mean, rfc_min, rfc_max, rfc_std, lcom_mean, lcom_min, lcom_max, lcom_std, totalMethods_mean, totalMethods_min, totalMethods_max, totalMethods_std, staticMethods_mean, staticMethods_min, staticMethods_max, staticMethods_std, publicMethods_mean, publicMethods_min, publicMethods_max, publicMethods_std, privateMethods_mean, privateMethods_min, privateMethods_max, privateMethods_std, protectedMethods_mean, protectedMethods_min, protectedMethods_max, protectedMethods_std, defaultMethods_mean, defaultMethods_min, defaultMethods_max, defaultMethods_std, abstractMethods_mean, abstractMethods_min, abstractMethods_max, abstractMethods_std, finalMethods_mean, finalMethods_min, finalMethods_max, finalMethods_std, synchronizedMethods_mean, synchronizedMethods_min, synchronizedMethods_max, synchronizedMethods_std, totalFields_mean, totalFields_min, totalFields_max, totalFields_std, staticFields_mean, staticFields_min, staticFields_max, staticFields_std, publicFields_mean, publicFields_min, publicFields_max, publicFields_std, privateFields_mean, privateFields_min, privateFields_max, privateFields_std, protectedFields_mean, ...]\n",
       "Index: []\n",
       "\n",
       "[0 rows x 199 columns]"
      ]
     },
     "execution_count": 6,
     "metadata": {},
     "output_type": "execute_result"
    }
   ],
   "source": [
    "okhttp_commits_df.head()"
   ]
  },
  {
   "cell_type": "code",
   "execution_count": 294,
   "metadata": {},
   "outputs": [
    {
     "data": {
      "text/plain": [
       "2"
      ]
     },
     "execution_count": 294,
     "metadata": {},
     "output_type": "execute_result"
    }
   ],
   "source": [
    "len(okhttp_commits_df)"
   ]
  },
  {
   "cell_type": "code",
   "execution_count": 295,
   "metadata": {},
   "outputs": [
    {
     "data": {
      "text/plain": [
       "0    2c24a344a3f8d7e8e9ebd5649237d68844e34a2f\n",
       "1    d1eb2ece8f9ddb4cc797fd236cc4462682372ef8\n",
       "Name: commit_compared_with, dtype: object"
      ]
     },
     "execution_count": 295,
     "metadata": {},
     "output_type": "execute_result"
    }
   ],
   "source": [
    "okhttp_commits_df['commit_compared_with']"
   ]
  },
  {
   "cell_type": "code",
   "execution_count": 296,
   "metadata": {},
   "outputs": [
    {
     "data": {
      "text/plain": [
       "0    30\n",
       "1    18\n",
       "Name: num_line_affected_max, dtype: int64"
      ]
     },
     "execution_count": 296,
     "metadata": {},
     "output_type": "execute_result"
    }
   ],
   "source": [
    "okhttp_commits_df['num_line_affected_max']"
   ]
  },
  {
   "cell_type": "code",
   "execution_count": 297,
   "metadata": {},
   "outputs": [],
   "source": [
    "def get_commit_line_changed(sha, project_owner, project_name_short):\n",
    "    query_url = f\"https://api.github.com/repos/{project_owner}/{project_name_short}/commits/{sha}\"\n",
    "\n",
    "    headers = {'Authorization': f'token {github_oauth}'}\n",
    "    r = requests.get(query_url, headers=headers)\n",
    "    #print((r.json()))\n",
    "    return r.json()['stats']['total']"
   ]
  },
  {
   "cell_type": "code",
   "execution_count": 298,
   "metadata": {},
   "outputs": [],
   "source": [
    "def limit_perc_change(perc):\n",
    "    if perc > 1:\n",
    "        return 1\n",
    "    else:\n",
    "        return perc"
   ]
  },
  {
   "cell_type": "code",
   "execution_count": 299,
   "metadata": {},
   "outputs": [],
   "source": [
    "def limit_base_time(time):\n",
    "    if time < 1:\n",
    "        return 1\n",
    "    else:\n",
    "        return time"
   ]
  },
  {
   "cell_type": "code",
   "execution_count": 300,
   "metadata": {},
   "outputs": [
    {
     "data": {
      "text/plain": [
       "358"
      ]
     },
     "execution_count": 300,
     "metadata": {},
     "output_type": "execute_result"
    }
   ],
   "source": [
    "get_commit_line_changed('083315a473d8b2fc972a70449272b296683ac38c', 'square', 'okhttp')"
   ]
  },
  {
   "cell_type": "code",
   "execution_count": 301,
   "metadata": {},
   "outputs": [],
   "source": [
    "okhttp_commits_df['commit_line_changed'] = okhttp_commits_df.apply(lambda row: get_commit_line_changed(row['commit_compared_with'], project_owner, project_name_short), axis=1)"
   ]
  },
  {
   "cell_type": "code",
   "execution_count": 302,
   "metadata": {
    "scrolled": true
   },
   "outputs": [
    {
     "data": {
      "text/plain": [
       "0    30\n",
       "1    18\n",
       "Name: num_line_affected_min, dtype: int64"
      ]
     },
     "execution_count": 302,
     "metadata": {},
     "output_type": "execute_result"
    }
   ],
   "source": [
    "okhttp_commits_df['num_line_affected_min']"
   ]
  },
  {
   "cell_type": "code",
   "execution_count": 303,
   "metadata": {
    "scrolled": true
   },
   "outputs": [
    {
     "data": {
      "text/plain": [
       "0    378\n",
       "1    232\n",
       "Name: commit_line_changed, dtype: int64"
      ]
     },
     "execution_count": 303,
     "metadata": {},
     "output_type": "execute_result"
    }
   ],
   "source": [
    "okhttp_commits_df['commit_line_changed']"
   ]
  },
  {
   "cell_type": "code",
   "execution_count": 304,
   "metadata": {},
   "outputs": [],
   "source": [
    "okhttp_commits_df['refactoring_perc'] = okhttp_commits_df['num_line_affected_min'] / okhttp_commits_df['commit_line_changed']"
   ]
  },
  {
   "cell_type": "code",
   "execution_count": 305,
   "metadata": {},
   "outputs": [],
   "source": [
    "okhttp_commits_df['refactoring_perc'] = okhttp_commits_df.apply(lambda row: limit_perc_change(row['refactoring_perc']), axis=1)"
   ]
  },
  {
   "cell_type": "code",
   "execution_count": 306,
   "metadata": {
    "scrolled": true
   },
   "outputs": [
    {
     "data": {
      "text/plain": [
       "0    0.079365\n",
       "1    0.077586\n",
       "Name: refactoring_perc, dtype: float64"
      ]
     },
     "execution_count": 306,
     "metadata": {},
     "output_type": "execute_result"
    }
   ],
   "source": [
    "okhttp_commits_df['refactoring_perc']"
   ]
  },
  {
   "cell_type": "code",
   "execution_count": 307,
   "metadata": {},
   "outputs": [],
   "source": [
    "okhttp_commits_df['refactoring_perc_time_taken'] = okhttp_commits_df['refactoring_perc'] * okhttp_commits_df['time_taken']"
   ]
  },
  {
   "cell_type": "code",
   "execution_count": 308,
   "metadata": {},
   "outputs": [],
   "source": [
    "okhttp_commits_df['refactoring_perc_time_taken'] = okhttp_commits_df.apply(lambda row: limit_base_time(row['refactoring_perc_time_taken']), axis=1)\n"
   ]
  },
  {
   "cell_type": "code",
   "execution_count": 309,
   "metadata": {
    "scrolled": true
   },
   "outputs": [
    {
     "data": {
      "text/plain": [
       "0    4.126984\n",
       "1    1.000000\n",
       "Name: refactoring_perc_time_taken, dtype: float64"
      ]
     },
     "execution_count": 309,
     "metadata": {},
     "output_type": "execute_result"
    }
   ],
   "source": [
    "okhttp_commits_df['refactoring_perc_time_taken']"
   ]
  },
  {
   "cell_type": "code",
   "execution_count": null,
   "metadata": {},
   "outputs": [],
   "source": [
    "okhttp_commits_df['cocomoII_time_taken'] = 2.94 * okhttp_commits_df['commit_line_changed'] / 1000 * 176"
   ]
  },
  {
   "cell_type": "code",
   "execution_count": null,
   "metadata": {},
   "outputs": [],
   "source": [
    "okhttp_commits_df['geneticP_time_taken'] = ((1.75992 * okhttp_commits_df['commit_line_changed']/1000) - (4.56 * 0.001 * ((okhttp_commits_df['commit_line_changed']/1000)**2))) * 176"
   ]
  },
  {
   "cell_type": "code",
   "execution_count": null,
   "metadata": {},
   "outputs": [],
   "source": [
    "okhttp_commits_df['softwareMaintenance_time_taken'] = -40 + 6.56*okhttp_commits_df['commit_line_changed']"
   ]
  },
  {
   "cell_type": "code",
   "execution_count": null,
   "metadata": {},
   "outputs": [],
   "source": [
    "okhttp_commits_df['fuzzy_time_taken'] = ( (6*(0.7*okhttp_commits_df['commit_line_changed']/1000)**0.665) + (4*6*(okhttp_commits_df['commit_line_changed']/1000)**0.665) + (6*(1.3*okhttp_commits_df['commit_line_changed']/1000)**0.665) )/(1+4+1)*176"
   ]
  },
  {
   "cell_type": "code",
   "execution_count": 310,
   "metadata": {
    "scrolled": true
   },
   "outputs": [
    {
     "data": {
      "text/plain": [
       "0    52.0\n",
       "1     1.0\n",
       "Name: time_taken, dtype: float64"
      ]
     },
     "execution_count": 310,
     "metadata": {},
     "output_type": "execute_result"
    }
   ],
   "source": [
    "okhttp_commits_df['time_taken']"
   ]
  },
  {
   "cell_type": "code",
   "execution_count": 311,
   "metadata": {},
   "outputs": [
    {
     "name": "stdout",
     "output_type": "stream",
     "text": [
      "kmean_label\n",
      "time_taken_mean\n",
      "time_taken_min\n",
      "time_taken_max\n",
      "time_taken_q10\n",
      "time_taken_q20\n",
      "time_taken_q25\n",
      "time_taken_q30\n",
      "time_taken_q40\n",
      "time_taken_q50\n",
      "time_taken_q60\n",
      "time_taken_q70\n",
      "time_taken_q75\n",
      "time_taken_q80\n",
      "time_taken_q90\n",
      "sha\n",
      "name\n",
      "email\n",
      "date\n",
      "login\n",
      "message\n",
      "parent_sha\n",
      "parent_date\n",
      "time_taken\n",
      "contains_refactoring\n",
      "project_name\n",
      "commit_compared_with\n",
      "cbo_mean\n",
      "cbo_min\n",
      "cbo_max\n",
      "cbo_std\n",
      "wmc_mean\n",
      "wmc_min\n",
      "wmc_max\n",
      "wmc_std\n",
      "dit_mean\n",
      "dit_min\n",
      "dit_max\n",
      "dit_std\n",
      "rfc_mean\n",
      "rfc_min\n",
      "rfc_max\n",
      "rfc_std\n",
      "lcom_mean\n",
      "lcom_min\n",
      "lcom_max\n",
      "lcom_std\n",
      "totalMethods_mean\n",
      "totalMethods_min\n",
      "totalMethods_max\n",
      "totalMethods_std\n",
      "staticMethods_mean\n",
      "staticMethods_min\n",
      "staticMethods_max\n",
      "staticMethods_std\n",
      "publicMethods_mean\n",
      "publicMethods_min\n",
      "publicMethods_max\n",
      "publicMethods_std\n",
      "privateMethods_mean\n",
      "privateMethods_min\n",
      "privateMethods_max\n",
      "privateMethods_std\n",
      "protectedMethods_mean\n",
      "protectedMethods_min\n",
      "protectedMethods_max\n",
      "protectedMethods_std\n",
      "defaultMethods_mean\n",
      "defaultMethods_min\n",
      "defaultMethods_max\n",
      "defaultMethods_std\n",
      "abstractMethods_mean\n",
      "abstractMethods_min\n",
      "abstractMethods_max\n",
      "abstractMethods_std\n",
      "finalMethods_mean\n",
      "finalMethods_min\n",
      "finalMethods_max\n",
      "finalMethods_std\n",
      "synchronizedMethods_mean\n",
      "synchronizedMethods_min\n",
      "synchronizedMethods_max\n",
      "synchronizedMethods_std\n",
      "totalFields_mean\n",
      "totalFields_min\n",
      "totalFields_max\n",
      "totalFields_std\n",
      "staticFields_mean\n",
      "staticFields_min\n",
      "staticFields_max\n",
      "staticFields_std\n",
      "publicFields_mean\n",
      "publicFields_min\n",
      "publicFields_max\n",
      "publicFields_std\n",
      "privateFields_mean\n",
      "privateFields_min\n",
      "privateFields_max\n",
      "privateFields_std\n",
      "protectedFields_mean\n",
      "protectedFields_min\n",
      "protectedFields_max\n",
      "protectedFields_std\n",
      "defaultFields_mean\n",
      "defaultFields_min\n",
      "defaultFields_max\n",
      "defaultFields_std\n",
      "finalFields_mean\n",
      "finalFields_min\n",
      "finalFields_max\n",
      "finalFields_std\n",
      "synchronizedFields_mean\n",
      "synchronizedFields_min\n",
      "synchronizedFields_max\n",
      "synchronizedFields_std\n",
      "nosi_mean\n",
      "nosi_min\n",
      "nosi_max\n",
      "nosi_std\n",
      "loc_mean\n",
      "loc_min\n",
      "loc_max\n",
      "loc_std\n",
      "returnQty_mean\n",
      "returnQty_min\n",
      "returnQty_max\n",
      "returnQty_std\n",
      "loopQty_mean\n",
      "loopQty_min\n",
      "loopQty_max\n",
      "loopQty_std\n",
      "comparisonsQty_mean\n",
      "comparisonsQty_min\n",
      "comparisonsQty_max\n",
      "comparisonsQty_std\n",
      "tryCatchQty_mean\n",
      "tryCatchQty_min\n",
      "tryCatchQty_max\n",
      "tryCatchQty_std\n",
      "parenthesizedExpsQty_mean\n",
      "parenthesizedExpsQty_min\n",
      "parenthesizedExpsQty_max\n",
      "parenthesizedExpsQty_std\n",
      "stringLiteralsQty_mean\n",
      "stringLiteralsQty_min\n",
      "stringLiteralsQty_max\n",
      "stringLiteralsQty_std\n",
      "numbersQty_mean\n",
      "numbersQty_min\n",
      "numbersQty_max\n",
      "numbersQty_std\n",
      "assignmentsQty_mean\n",
      "assignmentsQty_min\n",
      "assignmentsQty_max\n",
      "assignmentsQty_std\n",
      "mathOperationsQty_mean\n",
      "mathOperationsQty_min\n",
      "mathOperationsQty_max\n",
      "mathOperationsQty_std\n",
      "variablesQty_mean\n",
      "variablesQty_min\n",
      "variablesQty_max\n",
      "variablesQty_std\n",
      "maxNestedBlocks_mean\n",
      "maxNestedBlocks_min\n",
      "maxNestedBlocks_max\n",
      "maxNestedBlocks_std\n",
      "anonymousClassesQty_mean\n",
      "anonymousClassesQty_min\n",
      "anonymousClassesQty_max\n",
      "anonymousClassesQty_std\n",
      "subClassesQty_mean\n",
      "subClassesQty_min\n",
      "subClassesQty_max\n",
      "subClassesQty_std\n",
      "lambdasQty_mean\n",
      "lambdasQty_min\n",
      "lambdasQty_max\n",
      "lambdasQty_std\n",
      "uniqueWordsQty_mean\n",
      "uniqueWordsQty_min\n",
      "uniqueWordsQty_max\n",
      "uniqueWordsQty_std\n",
      "modifiers_mean\n",
      "modifiers_min\n",
      "modifiers_max\n",
      "modifiers_std\n",
      "num_dependency_mean\n",
      "num_dependency_min\n",
      "num_dependency_max\n",
      "num_dependency_std\n",
      "num_line_affected_mean\n",
      "num_line_affected_min\n",
      "num_line_affected_max\n",
      "num_line_affected_std\n",
      "actual_num_of_classes_touched_mean\n",
      "actual_num_of_classes_touched_min\n",
      "actual_num_of_classes_touched_max\n",
      "actual_num_of_classes_touched_std\n",
      "commit_line_changed\n",
      "refactoring_perc\n",
      "refactoring_perc_time_taken\n"
     ]
    }
   ],
   "source": [
    "for column in okhttp_commits_df.columns:\n",
    "    print(column)"
   ]
  },
  {
   "cell_type": "code",
   "execution_count": 312,
   "metadata": {},
   "outputs": [],
   "source": [
    "okhttp_commits_df.to_csv(f'Effort_Estimation_Results_3E_v2/{project_name}.csv', index=False)"
   ]
  },
  {
   "cell_type": "code",
   "execution_count": 14,
   "metadata": {},
   "outputs": [
    {
     "name": "stdout",
     "output_type": "stream",
     "text": [
      "Cocomo: 15.5232\n",
      "GeneticP: 9.291655295999998\n",
      "softwareMaintenance: 156.79999999999998\n",
      "fuzzy: 102.20220527519842\n",
      "test GeneticP: 9.291655295999998\n",
      "test testfuzzy: 102.20220527519842\n"
     ]
    }
   ],
   "source": [
    "## Test formula\n",
    "loc = 30\n",
    "kloc = loc/1000\n",
    "cocomo = 2.94 * kloc * 176\n",
    "geneticP = ((1.75992 * kloc) - (4.56 * 0.001 * (kloc**2))) * 176\n",
    "testgeneticP = ((1.75992 * loc/1000) - (4.56 * 0.001 * ((loc/1000)**2))) * 176\n",
    "softwareMaintenance = -40 + 6.56*loc\n",
    "fuzzy = ( (6*(0.7*kloc)**0.665) + (4*6*kloc**0.665) + (6*(1.3*kloc)**0.665) )/(1+4+1)*176\n",
    "testfuzzy = ( (6*(0.7*loc/1000)**0.665) + (4*6*(loc/1000)**0.665) + (6*(1.3*loc/1000)**0.665) )/(1+4+1)*176\n",
    "\n",
    "\n",
    "\n",
    "print(\"Cocomo: \" + str(cocomo))\n",
    "print(\"GeneticP: \" + str(geneticP))\n",
    "print(\"softwareMaintenance: \" + str(softwareMaintenance))\n",
    "print(\"fuzzy: \" + str(fuzzy))\n",
    "\n",
    "print(\"test GeneticP: \" + str(testgeneticP))\n",
    "print(\"test testfuzzy: \" + str(testfuzzy))\n",
    "\n"
   ]
  },
  {
   "cell_type": "code",
   "execution_count": 15,
   "metadata": {},
   "outputs": [],
   "source": [
    "# Cocomo formula = 2.94 * kloc * 176"
   ]
  },
  {
   "cell_type": "code",
   "execution_count": null,
   "metadata": {},
   "outputs": [],
   "source": [
    "# GeneticP formula = 1.75992 * kloc - 4.56 * 0.001 * kloc^2\n",
    "\n"
   ]
  }
 ],
 "metadata": {
  "celltoolbar": "Tags",
  "kernelspec": {
   "display_name": "Python 3 (ipykernel)",
   "language": "python",
   "name": "python3"
  },
  "language_info": {
   "codemirror_mode": {
    "name": "ipython",
    "version": 3
   },
   "file_extension": ".py",
   "mimetype": "text/x-python",
   "name": "python",
   "nbconvert_exporter": "python",
   "pygments_lexer": "ipython3",
   "version": "3.7.3"
  }
 },
 "nbformat": 4,
 "nbformat_minor": 2
}
