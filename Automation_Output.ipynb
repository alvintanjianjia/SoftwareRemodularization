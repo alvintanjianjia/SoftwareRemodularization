{
 "cells": [
  {
   "cell_type": "code",
   "execution_count": 1,
   "id": "0570b02f",
   "metadata": {
    "execution": {
     "iopub.execute_input": "2022-01-14T02:44:09.676295Z",
     "iopub.status.busy": "2022-01-14T02:44:09.673268Z",
     "iopub.status.idle": "2022-01-14T02:44:11.427904Z",
     "shell.execute_reply": "2022-01-14T02:44:11.426879Z"
    },
    "papermill": {
     "duration": 1.770638,
     "end_time": "2022-01-14T02:44:11.427904",
     "exception": false,
     "start_time": "2022-01-14T02:44:09.657266",
     "status": "completed"
    },
    "tags": []
   },
   "outputs": [],
   "source": [
    "import h2o\n",
    "from h2o.estimators.word2vec import H2OWord2vecEstimator\n",
    "import json\n",
    "import pandas as pd\n",
    "import numpy as np\n",
    "import networkx as nx\n",
    "import jellyfish\n",
    "import os\n",
    "import shutil\n",
    "import subprocess\n",
    "import requests\n",
    "from github import Github\n",
    "from git import Repo\n",
    "from matplotlib import pyplot as plt\n",
    "from sklearn.feature_extraction.text import TfidfVectorizer\n",
    "from sklearn.cluster import KMeans\n",
    "from sklearn.metrics import adjusted_rand_score\n",
    "from sklearn import preprocessing\n",
    "from sklearn.cluster import AgglomerativeClustering\n",
    "from zipfile import ZipFile\n",
    "from filecmp import dircmp\n",
    "import configparser\n",
    "from pprint import pprint\n",
    "from datetime import datetime\n",
    "import random\n",
    "from feature_engine.imputation import MeanMedianImputer\n",
    "from sklearn.cluster import KMeans"
   ]
  },
  {
   "cell_type": "code",
   "execution_count": 2,
   "id": "4056ec41",
   "metadata": {
    "execution": {
     "iopub.execute_input": "2022-01-14T02:44:11.454878Z",
     "iopub.status.busy": "2022-01-14T02:44:11.452880Z",
     "iopub.status.idle": "2022-01-14T02:44:11.458876Z",
     "shell.execute_reply": "2022-01-14T02:44:11.458876Z"
    },
    "papermill": {
     "duration": 0.019969,
     "end_time": "2022-01-14T02:44:11.459876",
     "exception": false,
     "start_time": "2022-01-14T02:44:11.439907",
     "status": "completed"
    },
    "tags": []
   },
   "outputs": [
    {
     "name": "stdout",
     "output_type": "stream",
     "text": [
      "['github']"
     ]
    },
    {
     "name": "stdout",
     "output_type": "stream",
     "text": [
      "\n"
     ]
    }
   ],
   "source": [
    "config = configparser.ConfigParser()\n",
    "config.read('authentication.ini')\n",
    "print(config.sections())\n",
    "github_oauth = config['github']['api_key']"
   ]
  },
  {
   "cell_type": "code",
   "execution_count": 3,
   "id": "0187e98b",
   "metadata": {
    "execution": {
     "iopub.execute_input": "2022-01-14T02:44:11.489909Z",
     "iopub.status.busy": "2022-01-14T02:44:11.488878Z",
     "iopub.status.idle": "2022-01-14T02:44:11.506878Z",
     "shell.execute_reply": "2022-01-14T02:44:11.505877Z"
    },
    "papermill": {
     "duration": 0.035972,
     "end_time": "2022-01-14T02:44:11.506878",
     "exception": false,
     "start_time": "2022-01-14T02:44:11.470906",
     "status": "completed"
    },
    "tags": [
     "parameters"
    ]
   },
   "outputs": [],
   "source": [
    "project_name = 'Redisson'\n",
    "project_owner = 'redisson'\n",
    "project_name_short = 'redisson'"
   ]
  },
  {
   "cell_type": "code",
   "execution_count": 4,
   "id": "95bcdbdd",
   "metadata": {
    "execution": {
     "iopub.execute_input": "2022-01-14T02:44:11.532880Z",
     "iopub.status.busy": "2022-01-14T02:44:11.531915Z",
     "iopub.status.idle": "2022-01-14T02:44:11.537909Z",
     "shell.execute_reply": "2022-01-14T02:44:11.538906Z"
    },
    "papermill": {
     "duration": 0.021015,
     "end_time": "2022-01-14T02:44:11.538906",
     "exception": false,
     "start_time": "2022-01-14T02:44:11.517891",
     "status": "completed"
    },
    "tags": [
     "injected-parameters"
    ]
   },
   "outputs": [],
   "source": [
    "# Parameters\n",
    "project_name = \"karaf\"\n",
    "project_owner = \"apache\"\n",
    "project_name_short = \"karaf\"\n"
   ]
  },
  {
   "cell_type": "code",
   "execution_count": 5,
   "id": "0908a6c3",
   "metadata": {
    "execution": {
     "iopub.execute_input": "2022-01-14T02:44:11.566882Z",
     "iopub.status.busy": "2022-01-14T02:44:11.566882Z",
     "iopub.status.idle": "2022-01-14T02:44:11.586910Z",
     "shell.execute_reply": "2022-01-14T02:44:11.586910Z"
    },
    "papermill": {
     "duration": 0.03403,
     "end_time": "2022-01-14T02:44:11.586910",
     "exception": false,
     "start_time": "2022-01-14T02:44:11.552880",
     "status": "completed"
    },
    "tags": []
   },
   "outputs": [],
   "source": [
    "okhttp_commits_df = pd.read_csv(f'Effort_Estimation_Results_v6/{project_name}.csv')"
   ]
  },
  {
   "cell_type": "code",
   "execution_count": 6,
   "id": "117bfee3",
   "metadata": {
    "execution": {
     "iopub.execute_input": "2022-01-14T02:44:11.622878Z",
     "iopub.status.busy": "2022-01-14T02:44:11.615879Z",
     "iopub.status.idle": "2022-01-14T02:44:11.633879Z",
     "shell.execute_reply": "2022-01-14T02:44:11.634903Z"
    },
    "papermill": {
     "duration": 0.037026,
     "end_time": "2022-01-14T02:44:11.634903",
     "exception": false,
     "start_time": "2022-01-14T02:44:11.597877",
     "status": "completed"
    },
    "tags": []
   },
   "outputs": [
    {
     "data": {
      "text/html": [
       "<div>\n",
       "<style scoped>\n",
       "    .dataframe tbody tr th:only-of-type {\n",
       "        vertical-align: middle;\n",
       "    }\n",
       "\n",
       "    .dataframe tbody tr th {\n",
       "        vertical-align: top;\n",
       "    }\n",
       "\n",
       "    .dataframe thead th {\n",
       "        text-align: right;\n",
       "    }\n",
       "</style>\n",
       "<table border=\"1\" class=\"dataframe\">\n",
       "  <thead>\n",
       "    <tr style=\"text-align: right;\">\n",
       "      <th></th>\n",
       "      <th>kmean_label</th>\n",
       "      <th>time_taken_mean</th>\n",
       "      <th>time_taken_min</th>\n",
       "      <th>time_taken_max</th>\n",
       "      <th>time_taken_q10</th>\n",
       "      <th>time_taken_q20</th>\n",
       "      <th>time_taken_q25</th>\n",
       "      <th>time_taken_q30</th>\n",
       "      <th>time_taken_q40</th>\n",
       "      <th>time_taken_q50</th>\n",
       "      <th>...</th>\n",
       "      <th>num_dependency_max</th>\n",
       "      <th>num_dependency_std</th>\n",
       "      <th>num_line_affected_mean</th>\n",
       "      <th>num_line_affected_min</th>\n",
       "      <th>num_line_affected_max</th>\n",
       "      <th>num_line_affected_std</th>\n",
       "      <th>actual_num_of_classes_touched_mean</th>\n",
       "      <th>actual_num_of_classes_touched_min</th>\n",
       "      <th>actual_num_of_classes_touched_max</th>\n",
       "      <th>actual_num_of_classes_touched_std</th>\n",
       "    </tr>\n",
       "  </thead>\n",
       "  <tbody>\n",
       "    <tr>\n",
       "      <th>0</th>\n",
       "      <td>0</td>\n",
       "      <td>24.250000</td>\n",
       "      <td>1.0</td>\n",
       "      <td>164.0</td>\n",
       "      <td>1.0</td>\n",
       "      <td>2.0</td>\n",
       "      <td>3.0</td>\n",
       "      <td>4.0</td>\n",
       "      <td>7.0</td>\n",
       "      <td>13.0</td>\n",
       "      <td>...</td>\n",
       "      <td>64.0</td>\n",
       "      <td>6.363961</td>\n",
       "      <td>4.0</td>\n",
       "      <td>4</td>\n",
       "      <td>4</td>\n",
       "      <td>0.0</td>\n",
       "      <td>4.0</td>\n",
       "      <td>4</td>\n",
       "      <td>4</td>\n",
       "      <td>0.0</td>\n",
       "    </tr>\n",
       "    <tr>\n",
       "      <th>1</th>\n",
       "      <td>0</td>\n",
       "      <td>24.250000</td>\n",
       "      <td>1.0</td>\n",
       "      <td>164.0</td>\n",
       "      <td>1.0</td>\n",
       "      <td>2.0</td>\n",
       "      <td>3.0</td>\n",
       "      <td>4.0</td>\n",
       "      <td>7.0</td>\n",
       "      <td>13.0</td>\n",
       "      <td>...</td>\n",
       "      <td>17.0</td>\n",
       "      <td>7.571878</td>\n",
       "      <td>35.0</td>\n",
       "      <td>35</td>\n",
       "      <td>35</td>\n",
       "      <td>0.0</td>\n",
       "      <td>2.0</td>\n",
       "      <td>2</td>\n",
       "      <td>2</td>\n",
       "      <td>0.0</td>\n",
       "    </tr>\n",
       "    <tr>\n",
       "      <th>2</th>\n",
       "      <td>13</td>\n",
       "      <td>25.155606</td>\n",
       "      <td>1.0</td>\n",
       "      <td>163.0</td>\n",
       "      <td>1.0</td>\n",
       "      <td>2.0</td>\n",
       "      <td>3.0</td>\n",
       "      <td>4.0</td>\n",
       "      <td>8.0</td>\n",
       "      <td>13.0</td>\n",
       "      <td>...</td>\n",
       "      <td>12.0</td>\n",
       "      <td>0.707107</td>\n",
       "      <td>48.0</td>\n",
       "      <td>48</td>\n",
       "      <td>48</td>\n",
       "      <td>0.0</td>\n",
       "      <td>2.0</td>\n",
       "      <td>2</td>\n",
       "      <td>2</td>\n",
       "      <td>0.0</td>\n",
       "    </tr>\n",
       "    <tr>\n",
       "      <th>3</th>\n",
       "      <td>14</td>\n",
       "      <td>23.773360</td>\n",
       "      <td>1.0</td>\n",
       "      <td>160.0</td>\n",
       "      <td>1.0</td>\n",
       "      <td>2.0</td>\n",
       "      <td>3.0</td>\n",
       "      <td>4.0</td>\n",
       "      <td>6.0</td>\n",
       "      <td>11.0</td>\n",
       "      <td>...</td>\n",
       "      <td>12.0</td>\n",
       "      <td>0.707107</td>\n",
       "      <td>50.0</td>\n",
       "      <td>50</td>\n",
       "      <td>50</td>\n",
       "      <td>0.0</td>\n",
       "      <td>2.0</td>\n",
       "      <td>2</td>\n",
       "      <td>2</td>\n",
       "      <td>0.0</td>\n",
       "    </tr>\n",
       "    <tr>\n",
       "      <th>4</th>\n",
       "      <td>14</td>\n",
       "      <td>23.773360</td>\n",
       "      <td>1.0</td>\n",
       "      <td>160.0</td>\n",
       "      <td>1.0</td>\n",
       "      <td>2.0</td>\n",
       "      <td>3.0</td>\n",
       "      <td>4.0</td>\n",
       "      <td>6.0</td>\n",
       "      <td>11.0</td>\n",
       "      <td>...</td>\n",
       "      <td>18.0</td>\n",
       "      <td>NaN</td>\n",
       "      <td>169.0</td>\n",
       "      <td>169</td>\n",
       "      <td>169</td>\n",
       "      <td>NaN</td>\n",
       "      <td>2.0</td>\n",
       "      <td>2</td>\n",
       "      <td>2</td>\n",
       "      <td>NaN</td>\n",
       "    </tr>\n",
       "  </tbody>\n",
       "</table>\n",
       "<p>5 rows × 199 columns</p>\n",
       "</div>"
      ],
      "text/plain": [
       "   kmean_label  time_taken_mean  time_taken_min  time_taken_max  \\\n",
       "0            0        24.250000             1.0           164.0   \n",
       "1            0        24.250000             1.0           164.0   \n",
       "2           13        25.155606             1.0           163.0   \n",
       "3           14        23.773360             1.0           160.0   \n",
       "4           14        23.773360             1.0           160.0   \n",
       "\n",
       "   time_taken_q10  time_taken_q20  time_taken_q25  time_taken_q30  \\\n",
       "0             1.0             2.0             3.0             4.0   \n",
       "1             1.0             2.0             3.0             4.0   \n",
       "2             1.0             2.0             3.0             4.0   \n",
       "3             1.0             2.0             3.0             4.0   \n",
       "4             1.0             2.0             3.0             4.0   \n",
       "\n",
       "   time_taken_q40  time_taken_q50  ...  num_dependency_max  \\\n",
       "0             7.0            13.0  ...                64.0   \n",
       "1             7.0            13.0  ...                17.0   \n",
       "2             8.0            13.0  ...                12.0   \n",
       "3             6.0            11.0  ...                12.0   \n",
       "4             6.0            11.0  ...                18.0   \n",
       "\n",
       "   num_dependency_std  num_line_affected_mean  num_line_affected_min  \\\n",
       "0            6.363961                     4.0                      4   \n",
       "1            7.571878                    35.0                     35   \n",
       "2            0.707107                    48.0                     48   \n",
       "3            0.707107                    50.0                     50   \n",
       "4                 NaN                   169.0                    169   \n",
       "\n",
       "   num_line_affected_max num_line_affected_std  \\\n",
       "0                      4                   0.0   \n",
       "1                     35                   0.0   \n",
       "2                     48                   0.0   \n",
       "3                     50                   0.0   \n",
       "4                    169                   NaN   \n",
       "\n",
       "  actual_num_of_classes_touched_mean actual_num_of_classes_touched_min  \\\n",
       "0                                4.0                                 4   \n",
       "1                                2.0                                 2   \n",
       "2                                2.0                                 2   \n",
       "3                                2.0                                 2   \n",
       "4                                2.0                                 2   \n",
       "\n",
       "  actual_num_of_classes_touched_max actual_num_of_classes_touched_std  \n",
       "0                                 4                               0.0  \n",
       "1                                 2                               0.0  \n",
       "2                                 2                               0.0  \n",
       "3                                 2                               0.0  \n",
       "4                                 2                               NaN  \n",
       "\n",
       "[5 rows x 199 columns]"
      ]
     },
     "execution_count": 6,
     "metadata": {},
     "output_type": "execute_result"
    }
   ],
   "source": [
    "okhttp_commits_df.head()"
   ]
  },
  {
   "cell_type": "code",
   "execution_count": 7,
   "id": "e01db5aa",
   "metadata": {
    "execution": {
     "iopub.execute_input": "2022-01-14T02:44:11.661907Z",
     "iopub.status.busy": "2022-01-14T02:44:11.661907Z",
     "iopub.status.idle": "2022-01-14T02:44:11.665878Z",
     "shell.execute_reply": "2022-01-14T02:44:11.665878Z"
    },
    "papermill": {
     "duration": 0.020024,
     "end_time": "2022-01-14T02:44:11.666901",
     "exception": false,
     "start_time": "2022-01-14T02:44:11.646877",
     "status": "completed"
    },
    "tags": []
   },
   "outputs": [
    {
     "data": {
      "text/plain": [
       "5"
      ]
     },
     "execution_count": 7,
     "metadata": {},
     "output_type": "execute_result"
    }
   ],
   "source": [
    "len(okhttp_commits_df)"
   ]
  },
  {
   "cell_type": "code",
   "execution_count": 8,
   "id": "fe9a7447",
   "metadata": {
    "execution": {
     "iopub.execute_input": "2022-01-14T02:44:11.696881Z",
     "iopub.status.busy": "2022-01-14T02:44:11.695878Z",
     "iopub.status.idle": "2022-01-14T02:44:11.713572Z",
     "shell.execute_reply": "2022-01-14T02:44:11.712573Z"
    },
    "papermill": {
     "duration": 0.033695,
     "end_time": "2022-01-14T02:44:11.713572",
     "exception": false,
     "start_time": "2022-01-14T02:44:11.679877",
     "status": "completed"
    },
    "tags": []
   },
   "outputs": [
    {
     "data": {
      "text/plain": [
       "0    c373315a5b53fa15ccb5322f7d40eda235d2a4c8\n",
       "1    0f20737512ac120452e2749b7e41f6857488e9d2\n",
       "2    e7201d42fc4e9a13b32c9f42dda5ae40a9648be5\n",
       "3    91f2082b66ad2d6ce5f3731912c5117ef10f248c\n",
       "4    8c2d5f928b3ddd3b9786e9a6b0b37a38dddaf974\n",
       "Name: commit_compared_with, dtype: object"
      ]
     },
     "execution_count": 8,
     "metadata": {},
     "output_type": "execute_result"
    }
   ],
   "source": [
    "okhttp_commits_df['commit_compared_with']"
   ]
  },
  {
   "cell_type": "code",
   "execution_count": 9,
   "id": "d5172f32",
   "metadata": {
    "execution": {
     "iopub.execute_input": "2022-01-14T02:44:11.742604Z",
     "iopub.status.busy": "2022-01-14T02:44:11.742604Z",
     "iopub.status.idle": "2022-01-14T02:44:11.760767Z",
     "shell.execute_reply": "2022-01-14T02:44:11.759766Z"
    },
    "papermill": {
     "duration": 0.034176,
     "end_time": "2022-01-14T02:44:11.760767",
     "exception": false,
     "start_time": "2022-01-14T02:44:11.726591",
     "status": "completed"
    },
    "tags": []
   },
   "outputs": [
    {
     "data": {
      "text/plain": [
       "0      4\n",
       "1     35\n",
       "2     48\n",
       "3     50\n",
       "4    169\n",
       "Name: num_line_affected_max, dtype: int64"
      ]
     },
     "execution_count": 9,
     "metadata": {},
     "output_type": "execute_result"
    }
   ],
   "source": [
    "okhttp_commits_df['num_line_affected_max']"
   ]
  },
  {
   "cell_type": "code",
   "execution_count": 10,
   "id": "da9568b9",
   "metadata": {
    "execution": {
     "iopub.execute_input": "2022-01-14T02:44:11.790767Z",
     "iopub.status.busy": "2022-01-14T02:44:11.788766Z",
     "iopub.status.idle": "2022-01-14T02:44:11.807558Z",
     "shell.execute_reply": "2022-01-14T02:44:11.806557Z"
    },
    "papermill": {
     "duration": 0.033792,
     "end_time": "2022-01-14T02:44:11.807558",
     "exception": false,
     "start_time": "2022-01-14T02:44:11.773766",
     "status": "completed"
    },
    "tags": []
   },
   "outputs": [],
   "source": [
    "def get_commit_line_changed(sha, project_owner, project_name_short):\n",
    "    query_url = f\"https://api.github.com/repos/{project_owner}/{project_name_short}/commits/{sha}\"\n",
    "\n",
    "    headers = {'Authorization': f'token {github_oauth}'}\n",
    "    r = requests.get(query_url, headers=headers)\n",
    "    #print((r.json()))\n",
    "    return r.json()['stats']['total']"
   ]
  },
  {
   "cell_type": "code",
   "execution_count": 11,
   "id": "2040cddb",
   "metadata": {
    "execution": {
     "iopub.execute_input": "2022-01-14T02:44:11.840558Z",
     "iopub.status.busy": "2022-01-14T02:44:11.839557Z",
     "iopub.status.idle": "2022-01-14T02:44:11.855558Z",
     "shell.execute_reply": "2022-01-14T02:44:11.854556Z"
    },
    "papermill": {
     "duration": 0.033,
     "end_time": "2022-01-14T02:44:11.855558",
     "exception": false,
     "start_time": "2022-01-14T02:44:11.822558",
     "status": "completed"
    },
    "tags": []
   },
   "outputs": [],
   "source": [
    "def limit_perc_change(perc):\n",
    "    if perc > 1:\n",
    "        return 1\n",
    "    else:\n",
    "        return perc"
   ]
  },
  {
   "cell_type": "code",
   "execution_count": 12,
   "id": "d3d857c7",
   "metadata": {
    "execution": {
     "iopub.execute_input": "2022-01-14T02:44:11.885557Z",
     "iopub.status.busy": "2022-01-14T02:44:11.884578Z",
     "iopub.status.idle": "2022-01-14T02:44:11.902561Z",
     "shell.execute_reply": "2022-01-14T02:44:11.901558Z"
    },
    "papermill": {
     "duration": 0.033998,
     "end_time": "2022-01-14T02:44:11.902561",
     "exception": false,
     "start_time": "2022-01-14T02:44:11.868563",
     "status": "completed"
    },
    "tags": []
   },
   "outputs": [],
   "source": [
    "def limit_base_time(time):\n",
    "    if time < 1:\n",
    "        return 1\n",
    "    else:\n",
    "        return time"
   ]
  },
  {
   "cell_type": "code",
   "execution_count": 13,
   "id": "b7b03457",
   "metadata": {
    "execution": {
     "iopub.execute_input": "2022-01-14T02:44:11.931557Z",
     "iopub.status.busy": "2022-01-14T02:44:11.931557Z",
     "iopub.status.idle": "2022-01-14T02:44:12.326527Z",
     "shell.execute_reply": "2022-01-14T02:44:12.325528Z"
    },
    "papermill": {
     "duration": 0.41097,
     "end_time": "2022-01-14T02:44:12.326527",
     "exception": false,
     "start_time": "2022-01-14T02:44:11.915557",
     "status": "completed"
    },
    "tags": []
   },
   "outputs": [
    {
     "data": {
      "text/plain": [
       "358"
      ]
     },
     "execution_count": 13,
     "metadata": {},
     "output_type": "execute_result"
    }
   ],
   "source": [
    "get_commit_line_changed('083315a473d8b2fc972a70449272b296683ac38c', 'square', 'okhttp')"
   ]
  },
  {
   "cell_type": "code",
   "execution_count": 14,
   "id": "d8d9ecb1",
   "metadata": {
    "execution": {
     "iopub.execute_input": "2022-01-14T02:44:12.363531Z",
     "iopub.status.busy": "2022-01-14T02:44:12.362529Z",
     "iopub.status.idle": "2022-01-14T02:44:14.148308Z",
     "shell.execute_reply": "2022-01-14T02:44:14.147309Z"
    },
    "papermill": {
     "duration": 1.806778,
     "end_time": "2022-01-14T02:44:14.148308",
     "exception": false,
     "start_time": "2022-01-14T02:44:12.341530",
     "status": "completed"
    },
    "tags": []
   },
   "outputs": [],
   "source": [
    "okhttp_commits_df['commit_line_changed'] = okhttp_commits_df.apply(lambda row: get_commit_line_changed(row['commit_compared_with'], project_owner, project_name_short), axis=1)"
   ]
  },
  {
   "cell_type": "code",
   "execution_count": 15,
   "id": "704e1edf",
   "metadata": {
    "execution": {
     "iopub.execute_input": "2022-01-14T02:44:14.178310Z",
     "iopub.status.busy": "2022-01-14T02:44:14.178310Z",
     "iopub.status.idle": "2022-01-14T02:44:14.195276Z",
     "shell.execute_reply": "2022-01-14T02:44:14.196305Z"
    },
    "papermill": {
     "duration": 0.034966,
     "end_time": "2022-01-14T02:44:14.196305",
     "exception": false,
     "start_time": "2022-01-14T02:44:14.161339",
     "status": "completed"
    },
    "scrolled": true,
    "tags": []
   },
   "outputs": [
    {
     "data": {
      "text/plain": [
       "0      4\n",
       "1     35\n",
       "2     48\n",
       "3     50\n",
       "4    169\n",
       "Name: num_line_affected_min, dtype: int64"
      ]
     },
     "execution_count": 15,
     "metadata": {},
     "output_type": "execute_result"
    }
   ],
   "source": [
    "okhttp_commits_df['num_line_affected_min']"
   ]
  },
  {
   "cell_type": "code",
   "execution_count": 16,
   "id": "5aabd28c",
   "metadata": {
    "execution": {
     "iopub.execute_input": "2022-01-14T02:44:14.229276Z",
     "iopub.status.busy": "2022-01-14T02:44:14.229276Z",
     "iopub.status.idle": "2022-01-14T02:44:14.244277Z",
     "shell.execute_reply": "2022-01-14T02:44:14.244277Z"
    },
    "papermill": {
     "duration": 0.032,
     "end_time": "2022-01-14T02:44:14.244277",
     "exception": false,
     "start_time": "2022-01-14T02:44:14.212277",
     "status": "completed"
    },
    "scrolled": true,
    "tags": []
   },
   "outputs": [
    {
     "data": {
      "text/plain": [
       "0     85\n",
       "1     12\n",
       "2    142\n",
       "3      8\n",
       "4      3\n",
       "Name: commit_line_changed, dtype: int64"
      ]
     },
     "execution_count": 16,
     "metadata": {},
     "output_type": "execute_result"
    }
   ],
   "source": [
    "okhttp_commits_df['commit_line_changed']"
   ]
  },
  {
   "cell_type": "code",
   "execution_count": 17,
   "id": "ac90ff29",
   "metadata": {
    "execution": {
     "iopub.execute_input": "2022-01-14T02:44:14.275278Z",
     "iopub.status.busy": "2022-01-14T02:44:14.275278Z",
     "iopub.status.idle": "2022-01-14T02:44:14.306262Z",
     "shell.execute_reply": "2022-01-14T02:44:14.307263Z"
    },
    "papermill": {
     "duration": 0.048986,
     "end_time": "2022-01-14T02:44:14.307263",
     "exception": false,
     "start_time": "2022-01-14T02:44:14.258277",
     "status": "completed"
    },
    "tags": []
   },
   "outputs": [],
   "source": [
    "okhttp_commits_df['refactoring_perc'] = okhttp_commits_df['num_line_affected_min'] / okhttp_commits_df['commit_line_changed']"
   ]
  },
  {
   "cell_type": "code",
   "execution_count": 18,
   "id": "4991cdd4",
   "metadata": {
    "execution": {
     "iopub.execute_input": "2022-01-14T02:44:14.340262Z",
     "iopub.status.busy": "2022-01-14T02:44:14.340262Z",
     "iopub.status.idle": "2022-01-14T02:44:14.355262Z",
     "shell.execute_reply": "2022-01-14T02:44:14.354262Z"
    },
    "papermill": {
     "duration": 0.033,
     "end_time": "2022-01-14T02:44:14.355262",
     "exception": false,
     "start_time": "2022-01-14T02:44:14.322262",
     "status": "completed"
    },
    "tags": []
   },
   "outputs": [],
   "source": [
    "okhttp_commits_df['refactoring_perc'] = okhttp_commits_df.apply(lambda row: limit_perc_change(row['refactoring_perc']), axis=1)"
   ]
  },
  {
   "cell_type": "code",
   "execution_count": 19,
   "id": "d717d91e",
   "metadata": {
    "execution": {
     "iopub.execute_input": "2022-01-14T02:44:14.388261Z",
     "iopub.status.busy": "2022-01-14T02:44:14.387263Z",
     "iopub.status.idle": "2022-01-14T02:44:14.403263Z",
     "shell.execute_reply": "2022-01-14T02:44:14.402262Z"
    },
    "papermill": {
     "duration": 0.033001,
     "end_time": "2022-01-14T02:44:14.403263",
     "exception": false,
     "start_time": "2022-01-14T02:44:14.370262",
     "status": "completed"
    },
    "scrolled": true,
    "tags": []
   },
   "outputs": [
    {
     "data": {
      "text/plain": [
       "0    0.047059\n",
       "1    1.000000\n",
       "2    0.338028\n",
       "3    1.000000\n",
       "4    1.000000\n",
       "Name: refactoring_perc, dtype: float64"
      ]
     },
     "execution_count": 19,
     "metadata": {},
     "output_type": "execute_result"
    }
   ],
   "source": [
    "okhttp_commits_df['refactoring_perc']"
   ]
  },
  {
   "cell_type": "code",
   "execution_count": 20,
   "id": "15bb83eb",
   "metadata": {
    "execution": {
     "iopub.execute_input": "2022-01-14T02:44:14.435262Z",
     "iopub.status.busy": "2022-01-14T02:44:14.435262Z",
     "iopub.status.idle": "2022-01-14T02:44:14.451262Z",
     "shell.execute_reply": "2022-01-14T02:44:14.450262Z"
    },
    "papermill": {
     "duration": 0.033999,
     "end_time": "2022-01-14T02:44:14.451262",
     "exception": false,
     "start_time": "2022-01-14T02:44:14.417263",
     "status": "completed"
    },
    "tags": []
   },
   "outputs": [],
   "source": [
    "okhttp_commits_df['refactoring_perc_time_taken'] = okhttp_commits_df['refactoring_perc'] * okhttp_commits_df['time_taken']"
   ]
  },
  {
   "cell_type": "code",
   "execution_count": 21,
   "id": "2f55b3a8",
   "metadata": {
    "execution": {
     "iopub.execute_input": "2022-01-14T02:44:14.486265Z",
     "iopub.status.busy": "2022-01-14T02:44:14.485264Z",
     "iopub.status.idle": "2022-01-14T02:44:14.499067Z",
     "shell.execute_reply": "2022-01-14T02:44:14.498067Z"
    },
    "papermill": {
     "duration": 0.032805,
     "end_time": "2022-01-14T02:44:14.499067",
     "exception": false,
     "start_time": "2022-01-14T02:44:14.466262",
     "status": "completed"
    },
    "tags": []
   },
   "outputs": [],
   "source": [
    "okhttp_commits_df['refactoring_perc_time_taken'] = okhttp_commits_df.apply(lambda row: limit_base_time(row['refactoring_perc_time_taken']), axis=1)\n"
   ]
  },
  {
   "cell_type": "code",
   "execution_count": 22,
   "id": "cef13b31",
   "metadata": {
    "execution": {
     "iopub.execute_input": "2022-01-14T02:44:14.539066Z",
     "iopub.status.busy": "2022-01-14T02:44:14.539066Z",
     "iopub.status.idle": "2022-01-14T02:44:14.545068Z",
     "shell.execute_reply": "2022-01-14T02:44:14.546069Z"
    },
    "papermill": {
     "duration": 0.029002,
     "end_time": "2022-01-14T02:44:14.546069",
     "exception": false,
     "start_time": "2022-01-14T02:44:14.517067",
     "status": "completed"
    },
    "scrolled": true,
    "tags": []
   },
   "outputs": [
    {
     "data": {
      "text/plain": [
       "0      1.000000\n",
       "1     15.000000\n",
       "2     24.676056\n",
       "3     11.000000\n",
       "4    140.000000\n",
       "Name: refactoring_perc_time_taken, dtype: float64"
      ]
     },
     "execution_count": 22,
     "metadata": {},
     "output_type": "execute_result"
    }
   ],
   "source": [
    "okhttp_commits_df['refactoring_perc_time_taken']"
   ]
  },
  {
   "cell_type": "code",
   "execution_count": 23,
   "id": "cbf4fb6e",
   "metadata": {
    "execution": {
     "iopub.execute_input": "2022-01-14T02:44:14.586583Z",
     "iopub.status.busy": "2022-01-14T02:44:14.586583Z",
     "iopub.status.idle": "2022-01-14T02:44:14.592584Z",
     "shell.execute_reply": "2022-01-14T02:44:14.591584Z"
    },
    "papermill": {
     "duration": 0.027516,
     "end_time": "2022-01-14T02:44:14.592584",
     "exception": false,
     "start_time": "2022-01-14T02:44:14.565068",
     "status": "completed"
    },
    "tags": []
   },
   "outputs": [],
   "source": [
    "okhttp_commits_df['cocomoII_time_taken'] = 2.94 * okhttp_commits_df['commit_line_changed'] / 1000 * 176"
   ]
  },
  {
   "cell_type": "code",
   "execution_count": 24,
   "id": "4c66794b",
   "metadata": {
    "execution": {
     "iopub.execute_input": "2022-01-14T02:44:14.633583Z",
     "iopub.status.busy": "2022-01-14T02:44:14.633583Z",
     "iopub.status.idle": "2022-01-14T02:44:14.639582Z",
     "shell.execute_reply": "2022-01-14T02:44:14.639582Z"
    },
    "papermill": {
     "duration": 0.027999,
     "end_time": "2022-01-14T02:44:14.640583",
     "exception": false,
     "start_time": "2022-01-14T02:44:14.612584",
     "status": "completed"
    },
    "scrolled": true,
    "tags": []
   },
   "outputs": [
    {
     "data": {
      "text/plain": [
       "0     18.0\n",
       "1     15.0\n",
       "2     73.0\n",
       "3     11.0\n",
       "4    140.0\n",
       "Name: time_taken, dtype: float64"
      ]
     },
     "execution_count": 24,
     "metadata": {},
     "output_type": "execute_result"
    }
   ],
   "source": [
    "okhttp_commits_df['time_taken']"
   ]
  },
  {
   "cell_type": "code",
   "execution_count": 25,
   "id": "147b7ec2",
   "metadata": {
    "execution": {
     "iopub.execute_input": "2022-01-14T02:44:14.684585Z",
     "iopub.status.busy": "2022-01-14T02:44:14.683581Z",
     "iopub.status.idle": "2022-01-14T02:44:14.882766Z",
     "shell.execute_reply": "2022-01-14T02:44:14.876799Z"
    },
    "papermill": {
     "duration": 0.221183,
     "end_time": "2022-01-14T02:44:14.882766",
     "exception": false,
     "start_time": "2022-01-14T02:44:14.661583",
     "status": "completed"
    },
    "tags": []
   },
   "outputs": [
    {
     "name": "stdout",
     "output_type": "stream",
     "text": [
      "kmean_label"
     ]
    },
    {
     "name": "stdout",
     "output_type": "stream",
     "text": [
      "\n"
     ]
    },
    {
     "name": "stdout",
     "output_type": "stream",
     "text": [
      "time_taken_mean"
     ]
    },
    {
     "name": "stdout",
     "output_type": "stream",
     "text": [
      "\n"
     ]
    },
    {
     "name": "stdout",
     "output_type": "stream",
     "text": [
      "time_taken_min"
     ]
    },
    {
     "name": "stdout",
     "output_type": "stream",
     "text": [
      "\n"
     ]
    },
    {
     "name": "stdout",
     "output_type": "stream",
     "text": [
      "time_taken_max"
     ]
    },
    {
     "name": "stdout",
     "output_type": "stream",
     "text": [
      "\n"
     ]
    },
    {
     "name": "stdout",
     "output_type": "stream",
     "text": [
      "time_taken_q10"
     ]
    },
    {
     "name": "stdout",
     "output_type": "stream",
     "text": [
      "\n"
     ]
    },
    {
     "name": "stdout",
     "output_type": "stream",
     "text": [
      "time_taken_q20"
     ]
    },
    {
     "name": "stdout",
     "output_type": "stream",
     "text": [
      "\n"
     ]
    },
    {
     "name": "stdout",
     "output_type": "stream",
     "text": [
      "time_taken_q25"
     ]
    },
    {
     "name": "stdout",
     "output_type": "stream",
     "text": [
      "\n"
     ]
    },
    {
     "name": "stdout",
     "output_type": "stream",
     "text": [
      "time_taken_q30"
     ]
    },
    {
     "name": "stdout",
     "output_type": "stream",
     "text": [
      "\n"
     ]
    },
    {
     "name": "stdout",
     "output_type": "stream",
     "text": [
      "time_taken_q40"
     ]
    },
    {
     "name": "stdout",
     "output_type": "stream",
     "text": [
      "\n"
     ]
    },
    {
     "name": "stdout",
     "output_type": "stream",
     "text": [
      "time_taken_q50"
     ]
    },
    {
     "name": "stdout",
     "output_type": "stream",
     "text": [
      "\n"
     ]
    },
    {
     "name": "stdout",
     "output_type": "stream",
     "text": [
      "time_taken_q60"
     ]
    },
    {
     "name": "stdout",
     "output_type": "stream",
     "text": [
      "\n"
     ]
    },
    {
     "name": "stdout",
     "output_type": "stream",
     "text": [
      "time_taken_q70"
     ]
    },
    {
     "name": "stdout",
     "output_type": "stream",
     "text": [
      "\n"
     ]
    },
    {
     "name": "stdout",
     "output_type": "stream",
     "text": [
      "time_taken_q75"
     ]
    },
    {
     "name": "stdout",
     "output_type": "stream",
     "text": [
      "\n"
     ]
    },
    {
     "name": "stdout",
     "output_type": "stream",
     "text": [
      "time_taken_q80"
     ]
    },
    {
     "name": "stdout",
     "output_type": "stream",
     "text": [
      "\n"
     ]
    },
    {
     "name": "stdout",
     "output_type": "stream",
     "text": [
      "time_taken_q90"
     ]
    },
    {
     "name": "stdout",
     "output_type": "stream",
     "text": [
      "\n"
     ]
    },
    {
     "name": "stdout",
     "output_type": "stream",
     "text": [
      "sha"
     ]
    },
    {
     "name": "stdout",
     "output_type": "stream",
     "text": [
      "\n"
     ]
    },
    {
     "name": "stdout",
     "output_type": "stream",
     "text": [
      "name"
     ]
    },
    {
     "name": "stdout",
     "output_type": "stream",
     "text": [
      "\n"
     ]
    },
    {
     "name": "stdout",
     "output_type": "stream",
     "text": [
      "email"
     ]
    },
    {
     "name": "stdout",
     "output_type": "stream",
     "text": [
      "\n"
     ]
    },
    {
     "name": "stdout",
     "output_type": "stream",
     "text": [
      "date"
     ]
    },
    {
     "name": "stdout",
     "output_type": "stream",
     "text": [
      "\n"
     ]
    },
    {
     "name": "stdout",
     "output_type": "stream",
     "text": [
      "login"
     ]
    },
    {
     "name": "stdout",
     "output_type": "stream",
     "text": [
      "\n"
     ]
    },
    {
     "name": "stdout",
     "output_type": "stream",
     "text": [
      "message"
     ]
    },
    {
     "name": "stdout",
     "output_type": "stream",
     "text": [
      "\n"
     ]
    },
    {
     "name": "stdout",
     "output_type": "stream",
     "text": [
      "parent_sha"
     ]
    },
    {
     "name": "stdout",
     "output_type": "stream",
     "text": [
      "\n"
     ]
    },
    {
     "name": "stdout",
     "output_type": "stream",
     "text": [
      "parent_date"
     ]
    },
    {
     "name": "stdout",
     "output_type": "stream",
     "text": [
      "\n"
     ]
    },
    {
     "name": "stdout",
     "output_type": "stream",
     "text": [
      "time_taken"
     ]
    },
    {
     "name": "stdout",
     "output_type": "stream",
     "text": [
      "\n"
     ]
    },
    {
     "name": "stdout",
     "output_type": "stream",
     "text": [
      "contains_refactoring"
     ]
    },
    {
     "name": "stdout",
     "output_type": "stream",
     "text": [
      "\n"
     ]
    },
    {
     "name": "stdout",
     "output_type": "stream",
     "text": [
      "project_name"
     ]
    },
    {
     "name": "stdout",
     "output_type": "stream",
     "text": [
      "\n"
     ]
    },
    {
     "name": "stdout",
     "output_type": "stream",
     "text": [
      "commit_compared_with"
     ]
    },
    {
     "name": "stdout",
     "output_type": "stream",
     "text": [
      "\n"
     ]
    },
    {
     "name": "stdout",
     "output_type": "stream",
     "text": [
      "cbo_mean"
     ]
    },
    {
     "name": "stdout",
     "output_type": "stream",
     "text": [
      "\n"
     ]
    },
    {
     "name": "stdout",
     "output_type": "stream",
     "text": [
      "cbo_min"
     ]
    },
    {
     "name": "stdout",
     "output_type": "stream",
     "text": [
      "\n"
     ]
    },
    {
     "name": "stdout",
     "output_type": "stream",
     "text": [
      "cbo_max"
     ]
    },
    {
     "name": "stdout",
     "output_type": "stream",
     "text": [
      "\n"
     ]
    },
    {
     "name": "stdout",
     "output_type": "stream",
     "text": [
      "cbo_std"
     ]
    },
    {
     "name": "stdout",
     "output_type": "stream",
     "text": [
      "\n"
     ]
    },
    {
     "name": "stdout",
     "output_type": "stream",
     "text": [
      "wmc_mean"
     ]
    },
    {
     "name": "stdout",
     "output_type": "stream",
     "text": [
      "\n"
     ]
    },
    {
     "name": "stdout",
     "output_type": "stream",
     "text": [
      "wmc_min"
     ]
    },
    {
     "name": "stdout",
     "output_type": "stream",
     "text": [
      "\n"
     ]
    },
    {
     "name": "stdout",
     "output_type": "stream",
     "text": [
      "wmc_max"
     ]
    },
    {
     "name": "stdout",
     "output_type": "stream",
     "text": [
      "\n"
     ]
    },
    {
     "name": "stdout",
     "output_type": "stream",
     "text": [
      "wmc_std"
     ]
    },
    {
     "name": "stdout",
     "output_type": "stream",
     "text": [
      "\n"
     ]
    },
    {
     "name": "stdout",
     "output_type": "stream",
     "text": [
      "dit_mean"
     ]
    },
    {
     "name": "stdout",
     "output_type": "stream",
     "text": [
      "\n"
     ]
    },
    {
     "name": "stdout",
     "output_type": "stream",
     "text": [
      "dit_min"
     ]
    },
    {
     "name": "stdout",
     "output_type": "stream",
     "text": [
      "\n"
     ]
    },
    {
     "name": "stdout",
     "output_type": "stream",
     "text": [
      "dit_max"
     ]
    },
    {
     "name": "stdout",
     "output_type": "stream",
     "text": [
      "\n"
     ]
    },
    {
     "name": "stdout",
     "output_type": "stream",
     "text": [
      "dit_std"
     ]
    },
    {
     "name": "stdout",
     "output_type": "stream",
     "text": [
      "\n"
     ]
    },
    {
     "name": "stdout",
     "output_type": "stream",
     "text": [
      "rfc_mean"
     ]
    },
    {
     "name": "stdout",
     "output_type": "stream",
     "text": [
      "\n"
     ]
    },
    {
     "name": "stdout",
     "output_type": "stream",
     "text": [
      "rfc_min"
     ]
    },
    {
     "name": "stdout",
     "output_type": "stream",
     "text": [
      "\n"
     ]
    },
    {
     "name": "stdout",
     "output_type": "stream",
     "text": [
      "rfc_max"
     ]
    },
    {
     "name": "stdout",
     "output_type": "stream",
     "text": [
      "\n"
     ]
    },
    {
     "name": "stdout",
     "output_type": "stream",
     "text": [
      "rfc_std"
     ]
    },
    {
     "name": "stdout",
     "output_type": "stream",
     "text": [
      "\n"
     ]
    },
    {
     "name": "stdout",
     "output_type": "stream",
     "text": [
      "lcom_mean"
     ]
    },
    {
     "name": "stdout",
     "output_type": "stream",
     "text": [
      "\n"
     ]
    },
    {
     "name": "stdout",
     "output_type": "stream",
     "text": [
      "lcom_min"
     ]
    },
    {
     "name": "stdout",
     "output_type": "stream",
     "text": [
      "\n"
     ]
    },
    {
     "name": "stdout",
     "output_type": "stream",
     "text": [
      "lcom_max"
     ]
    },
    {
     "name": "stdout",
     "output_type": "stream",
     "text": [
      "\n"
     ]
    },
    {
     "name": "stdout",
     "output_type": "stream",
     "text": [
      "lcom_std"
     ]
    },
    {
     "name": "stdout",
     "output_type": "stream",
     "text": [
      "\n"
     ]
    },
    {
     "name": "stdout",
     "output_type": "stream",
     "text": [
      "totalMethods_mean"
     ]
    },
    {
     "name": "stdout",
     "output_type": "stream",
     "text": [
      "\n"
     ]
    },
    {
     "name": "stdout",
     "output_type": "stream",
     "text": [
      "totalMethods_min"
     ]
    },
    {
     "name": "stdout",
     "output_type": "stream",
     "text": [
      "\n"
     ]
    },
    {
     "name": "stdout",
     "output_type": "stream",
     "text": [
      "totalMethods_max"
     ]
    },
    {
     "name": "stdout",
     "output_type": "stream",
     "text": [
      "\n"
     ]
    },
    {
     "name": "stdout",
     "output_type": "stream",
     "text": [
      "totalMethods_std"
     ]
    },
    {
     "name": "stdout",
     "output_type": "stream",
     "text": [
      "\n"
     ]
    },
    {
     "name": "stdout",
     "output_type": "stream",
     "text": [
      "staticMethods_mean"
     ]
    },
    {
     "name": "stdout",
     "output_type": "stream",
     "text": [
      "\n"
     ]
    },
    {
     "name": "stdout",
     "output_type": "stream",
     "text": [
      "staticMethods_min"
     ]
    },
    {
     "name": "stdout",
     "output_type": "stream",
     "text": [
      "\n"
     ]
    },
    {
     "name": "stdout",
     "output_type": "stream",
     "text": [
      "staticMethods_max"
     ]
    },
    {
     "name": "stdout",
     "output_type": "stream",
     "text": [
      "\n"
     ]
    },
    {
     "name": "stdout",
     "output_type": "stream",
     "text": [
      "staticMethods_std"
     ]
    },
    {
     "name": "stdout",
     "output_type": "stream",
     "text": [
      "\n"
     ]
    },
    {
     "name": "stdout",
     "output_type": "stream",
     "text": [
      "publicMethods_mean"
     ]
    },
    {
     "name": "stdout",
     "output_type": "stream",
     "text": [
      "\n"
     ]
    },
    {
     "name": "stdout",
     "output_type": "stream",
     "text": [
      "publicMethods_min"
     ]
    },
    {
     "name": "stdout",
     "output_type": "stream",
     "text": [
      "\n"
     ]
    },
    {
     "name": "stdout",
     "output_type": "stream",
     "text": [
      "publicMethods_max"
     ]
    },
    {
     "name": "stdout",
     "output_type": "stream",
     "text": [
      "\n"
     ]
    },
    {
     "name": "stdout",
     "output_type": "stream",
     "text": [
      "publicMethods_std"
     ]
    },
    {
     "name": "stdout",
     "output_type": "stream",
     "text": [
      "\n"
     ]
    },
    {
     "name": "stdout",
     "output_type": "stream",
     "text": [
      "privateMethods_mean"
     ]
    },
    {
     "name": "stdout",
     "output_type": "stream",
     "text": [
      "\n"
     ]
    },
    {
     "name": "stdout",
     "output_type": "stream",
     "text": [
      "privateMethods_min"
     ]
    },
    {
     "name": "stdout",
     "output_type": "stream",
     "text": [
      "\n"
     ]
    },
    {
     "name": "stdout",
     "output_type": "stream",
     "text": [
      "privateMethods_max"
     ]
    },
    {
     "name": "stdout",
     "output_type": "stream",
     "text": [
      "\n"
     ]
    },
    {
     "name": "stdout",
     "output_type": "stream",
     "text": [
      "privateMethods_std"
     ]
    },
    {
     "name": "stdout",
     "output_type": "stream",
     "text": [
      "\n"
     ]
    },
    {
     "name": "stdout",
     "output_type": "stream",
     "text": [
      "protectedMethods_mean"
     ]
    },
    {
     "name": "stdout",
     "output_type": "stream",
     "text": [
      "\n"
     ]
    },
    {
     "name": "stdout",
     "output_type": "stream",
     "text": [
      "protectedMethods_min"
     ]
    },
    {
     "name": "stdout",
     "output_type": "stream",
     "text": [
      "\n"
     ]
    },
    {
     "name": "stdout",
     "output_type": "stream",
     "text": [
      "protectedMethods_max"
     ]
    },
    {
     "name": "stdout",
     "output_type": "stream",
     "text": [
      "\n"
     ]
    },
    {
     "name": "stdout",
     "output_type": "stream",
     "text": [
      "protectedMethods_std"
     ]
    },
    {
     "name": "stdout",
     "output_type": "stream",
     "text": [
      "\n"
     ]
    },
    {
     "name": "stdout",
     "output_type": "stream",
     "text": [
      "defaultMethods_mean"
     ]
    },
    {
     "name": "stdout",
     "output_type": "stream",
     "text": [
      "\n"
     ]
    },
    {
     "name": "stdout",
     "output_type": "stream",
     "text": [
      "defaultMethods_min"
     ]
    },
    {
     "name": "stdout",
     "output_type": "stream",
     "text": [
      "\n"
     ]
    },
    {
     "name": "stdout",
     "output_type": "stream",
     "text": [
      "defaultMethods_max"
     ]
    },
    {
     "name": "stdout",
     "output_type": "stream",
     "text": [
      "\n"
     ]
    },
    {
     "name": "stdout",
     "output_type": "stream",
     "text": [
      "defaultMethods_std"
     ]
    },
    {
     "name": "stdout",
     "output_type": "stream",
     "text": [
      "\n"
     ]
    },
    {
     "name": "stdout",
     "output_type": "stream",
     "text": [
      "abstractMethods_mean"
     ]
    },
    {
     "name": "stdout",
     "output_type": "stream",
     "text": [
      "\n"
     ]
    },
    {
     "name": "stdout",
     "output_type": "stream",
     "text": [
      "abstractMethods_min"
     ]
    },
    {
     "name": "stdout",
     "output_type": "stream",
     "text": [
      "\n"
     ]
    },
    {
     "name": "stdout",
     "output_type": "stream",
     "text": [
      "abstractMethods_max"
     ]
    },
    {
     "name": "stdout",
     "output_type": "stream",
     "text": [
      "\n"
     ]
    },
    {
     "name": "stdout",
     "output_type": "stream",
     "text": [
      "abstractMethods_std"
     ]
    },
    {
     "name": "stdout",
     "output_type": "stream",
     "text": [
      "\n"
     ]
    },
    {
     "name": "stdout",
     "output_type": "stream",
     "text": [
      "finalMethods_mean"
     ]
    },
    {
     "name": "stdout",
     "output_type": "stream",
     "text": [
      "\n"
     ]
    },
    {
     "name": "stdout",
     "output_type": "stream",
     "text": [
      "finalMethods_min"
     ]
    },
    {
     "name": "stdout",
     "output_type": "stream",
     "text": [
      "\n"
     ]
    },
    {
     "name": "stdout",
     "output_type": "stream",
     "text": [
      "finalMethods_max"
     ]
    },
    {
     "name": "stdout",
     "output_type": "stream",
     "text": [
      "\n"
     ]
    },
    {
     "name": "stdout",
     "output_type": "stream",
     "text": [
      "finalMethods_std"
     ]
    },
    {
     "name": "stdout",
     "output_type": "stream",
     "text": [
      "\n"
     ]
    },
    {
     "name": "stdout",
     "output_type": "stream",
     "text": [
      "synchronizedMethods_mean"
     ]
    },
    {
     "name": "stdout",
     "output_type": "stream",
     "text": [
      "\n"
     ]
    },
    {
     "name": "stdout",
     "output_type": "stream",
     "text": [
      "synchronizedMethods_min"
     ]
    },
    {
     "name": "stdout",
     "output_type": "stream",
     "text": [
      "\n"
     ]
    },
    {
     "name": "stdout",
     "output_type": "stream",
     "text": [
      "synchronizedMethods_max"
     ]
    },
    {
     "name": "stdout",
     "output_type": "stream",
     "text": [
      "\n"
     ]
    },
    {
     "name": "stdout",
     "output_type": "stream",
     "text": [
      "synchronizedMethods_std"
     ]
    },
    {
     "name": "stdout",
     "output_type": "stream",
     "text": [
      "\n"
     ]
    },
    {
     "name": "stdout",
     "output_type": "stream",
     "text": [
      "totalFields_mean"
     ]
    },
    {
     "name": "stdout",
     "output_type": "stream",
     "text": [
      "\n"
     ]
    },
    {
     "name": "stdout",
     "output_type": "stream",
     "text": [
      "totalFields_min"
     ]
    },
    {
     "name": "stdout",
     "output_type": "stream",
     "text": [
      "\n"
     ]
    },
    {
     "name": "stdout",
     "output_type": "stream",
     "text": [
      "totalFields_max"
     ]
    },
    {
     "name": "stdout",
     "output_type": "stream",
     "text": [
      "\n"
     ]
    },
    {
     "name": "stdout",
     "output_type": "stream",
     "text": [
      "totalFields_std"
     ]
    },
    {
     "name": "stdout",
     "output_type": "stream",
     "text": [
      "\n"
     ]
    },
    {
     "name": "stdout",
     "output_type": "stream",
     "text": [
      "staticFields_mean"
     ]
    },
    {
     "name": "stdout",
     "output_type": "stream",
     "text": [
      "\n"
     ]
    },
    {
     "name": "stdout",
     "output_type": "stream",
     "text": [
      "staticFields_min"
     ]
    },
    {
     "name": "stdout",
     "output_type": "stream",
     "text": [
      "\n"
     ]
    },
    {
     "name": "stdout",
     "output_type": "stream",
     "text": [
      "staticFields_max"
     ]
    },
    {
     "name": "stdout",
     "output_type": "stream",
     "text": [
      "\n"
     ]
    },
    {
     "name": "stdout",
     "output_type": "stream",
     "text": [
      "staticFields_std"
     ]
    },
    {
     "name": "stdout",
     "output_type": "stream",
     "text": [
      "\n"
     ]
    },
    {
     "name": "stdout",
     "output_type": "stream",
     "text": [
      "publicFields_mean"
     ]
    },
    {
     "name": "stdout",
     "output_type": "stream",
     "text": [
      "\n"
     ]
    },
    {
     "name": "stdout",
     "output_type": "stream",
     "text": [
      "publicFields_min"
     ]
    },
    {
     "name": "stdout",
     "output_type": "stream",
     "text": [
      "\n"
     ]
    },
    {
     "name": "stdout",
     "output_type": "stream",
     "text": [
      "publicFields_max"
     ]
    },
    {
     "name": "stdout",
     "output_type": "stream",
     "text": [
      "\n"
     ]
    },
    {
     "name": "stdout",
     "output_type": "stream",
     "text": [
      "publicFields_std"
     ]
    },
    {
     "name": "stdout",
     "output_type": "stream",
     "text": [
      "\n"
     ]
    },
    {
     "name": "stdout",
     "output_type": "stream",
     "text": [
      "privateFields_mean"
     ]
    },
    {
     "name": "stdout",
     "output_type": "stream",
     "text": [
      "\n"
     ]
    },
    {
     "name": "stdout",
     "output_type": "stream",
     "text": [
      "privateFields_min"
     ]
    },
    {
     "name": "stdout",
     "output_type": "stream",
     "text": [
      "\n"
     ]
    },
    {
     "name": "stdout",
     "output_type": "stream",
     "text": [
      "privateFields_max"
     ]
    },
    {
     "name": "stdout",
     "output_type": "stream",
     "text": [
      "\n"
     ]
    },
    {
     "name": "stdout",
     "output_type": "stream",
     "text": [
      "privateFields_std"
     ]
    },
    {
     "name": "stdout",
     "output_type": "stream",
     "text": [
      "\n"
     ]
    },
    {
     "name": "stdout",
     "output_type": "stream",
     "text": [
      "protectedFields_mean"
     ]
    },
    {
     "name": "stdout",
     "output_type": "stream",
     "text": [
      "\n"
     ]
    },
    {
     "name": "stdout",
     "output_type": "stream",
     "text": [
      "protectedFields_min"
     ]
    },
    {
     "name": "stdout",
     "output_type": "stream",
     "text": [
      "\n"
     ]
    },
    {
     "name": "stdout",
     "output_type": "stream",
     "text": [
      "protectedFields_max"
     ]
    },
    {
     "name": "stdout",
     "output_type": "stream",
     "text": [
      "\n"
     ]
    },
    {
     "name": "stdout",
     "output_type": "stream",
     "text": [
      "protectedFields_std"
     ]
    },
    {
     "name": "stdout",
     "output_type": "stream",
     "text": [
      "\n"
     ]
    },
    {
     "name": "stdout",
     "output_type": "stream",
     "text": [
      "defaultFields_mean"
     ]
    },
    {
     "name": "stdout",
     "output_type": "stream",
     "text": [
      "\n"
     ]
    },
    {
     "name": "stdout",
     "output_type": "stream",
     "text": [
      "defaultFields_min"
     ]
    },
    {
     "name": "stdout",
     "output_type": "stream",
     "text": [
      "\n"
     ]
    },
    {
     "name": "stdout",
     "output_type": "stream",
     "text": [
      "defaultFields_max"
     ]
    },
    {
     "name": "stdout",
     "output_type": "stream",
     "text": [
      "\n"
     ]
    },
    {
     "name": "stdout",
     "output_type": "stream",
     "text": [
      "defaultFields_std"
     ]
    },
    {
     "name": "stdout",
     "output_type": "stream",
     "text": [
      "\n"
     ]
    },
    {
     "name": "stdout",
     "output_type": "stream",
     "text": [
      "finalFields_mean"
     ]
    },
    {
     "name": "stdout",
     "output_type": "stream",
     "text": [
      "\n"
     ]
    },
    {
     "name": "stdout",
     "output_type": "stream",
     "text": [
      "finalFields_min"
     ]
    },
    {
     "name": "stdout",
     "output_type": "stream",
     "text": [
      "\n"
     ]
    },
    {
     "name": "stdout",
     "output_type": "stream",
     "text": [
      "finalFields_max"
     ]
    },
    {
     "name": "stdout",
     "output_type": "stream",
     "text": [
      "\n"
     ]
    },
    {
     "name": "stdout",
     "output_type": "stream",
     "text": [
      "finalFields_std"
     ]
    },
    {
     "name": "stdout",
     "output_type": "stream",
     "text": [
      "\n"
     ]
    },
    {
     "name": "stdout",
     "output_type": "stream",
     "text": [
      "synchronizedFields_mean"
     ]
    },
    {
     "name": "stdout",
     "output_type": "stream",
     "text": [
      "\n"
     ]
    },
    {
     "name": "stdout",
     "output_type": "stream",
     "text": [
      "synchronizedFields_min"
     ]
    },
    {
     "name": "stdout",
     "output_type": "stream",
     "text": [
      "\n"
     ]
    },
    {
     "name": "stdout",
     "output_type": "stream",
     "text": [
      "synchronizedFields_max"
     ]
    },
    {
     "name": "stdout",
     "output_type": "stream",
     "text": [
      "\n"
     ]
    },
    {
     "name": "stdout",
     "output_type": "stream",
     "text": [
      "synchronizedFields_std"
     ]
    },
    {
     "name": "stdout",
     "output_type": "stream",
     "text": [
      "\n"
     ]
    },
    {
     "name": "stdout",
     "output_type": "stream",
     "text": [
      "nosi_mean"
     ]
    },
    {
     "name": "stdout",
     "output_type": "stream",
     "text": [
      "\n"
     ]
    },
    {
     "name": "stdout",
     "output_type": "stream",
     "text": [
      "nosi_min"
     ]
    },
    {
     "name": "stdout",
     "output_type": "stream",
     "text": [
      "\n"
     ]
    },
    {
     "name": "stdout",
     "output_type": "stream",
     "text": [
      "nosi_max"
     ]
    },
    {
     "name": "stdout",
     "output_type": "stream",
     "text": [
      "\n"
     ]
    },
    {
     "name": "stdout",
     "output_type": "stream",
     "text": [
      "nosi_std"
     ]
    },
    {
     "name": "stdout",
     "output_type": "stream",
     "text": [
      "\n"
     ]
    },
    {
     "name": "stdout",
     "output_type": "stream",
     "text": [
      "loc_mean"
     ]
    },
    {
     "name": "stdout",
     "output_type": "stream",
     "text": [
      "\n"
     ]
    },
    {
     "name": "stdout",
     "output_type": "stream",
     "text": [
      "loc_min"
     ]
    },
    {
     "name": "stdout",
     "output_type": "stream",
     "text": [
      "\n"
     ]
    },
    {
     "name": "stdout",
     "output_type": "stream",
     "text": [
      "loc_max"
     ]
    },
    {
     "name": "stdout",
     "output_type": "stream",
     "text": [
      "\n"
     ]
    },
    {
     "name": "stdout",
     "output_type": "stream",
     "text": [
      "loc_std"
     ]
    },
    {
     "name": "stdout",
     "output_type": "stream",
     "text": [
      "\n"
     ]
    },
    {
     "name": "stdout",
     "output_type": "stream",
     "text": [
      "returnQty_mean"
     ]
    },
    {
     "name": "stdout",
     "output_type": "stream",
     "text": [
      "\n"
     ]
    },
    {
     "name": "stdout",
     "output_type": "stream",
     "text": [
      "returnQty_min"
     ]
    },
    {
     "name": "stdout",
     "output_type": "stream",
     "text": [
      "\n"
     ]
    },
    {
     "name": "stdout",
     "output_type": "stream",
     "text": [
      "returnQty_max"
     ]
    },
    {
     "name": "stdout",
     "output_type": "stream",
     "text": [
      "\n"
     ]
    },
    {
     "name": "stdout",
     "output_type": "stream",
     "text": [
      "returnQty_std"
     ]
    },
    {
     "name": "stdout",
     "output_type": "stream",
     "text": [
      "\n"
     ]
    },
    {
     "name": "stdout",
     "output_type": "stream",
     "text": [
      "loopQty_mean"
     ]
    },
    {
     "name": "stdout",
     "output_type": "stream",
     "text": [
      "\n"
     ]
    },
    {
     "name": "stdout",
     "output_type": "stream",
     "text": [
      "loopQty_min"
     ]
    },
    {
     "name": "stdout",
     "output_type": "stream",
     "text": [
      "\n"
     ]
    },
    {
     "name": "stdout",
     "output_type": "stream",
     "text": [
      "loopQty_max"
     ]
    },
    {
     "name": "stdout",
     "output_type": "stream",
     "text": [
      "\n"
     ]
    },
    {
     "name": "stdout",
     "output_type": "stream",
     "text": [
      "loopQty_std"
     ]
    },
    {
     "name": "stdout",
     "output_type": "stream",
     "text": [
      "\n"
     ]
    },
    {
     "name": "stdout",
     "output_type": "stream",
     "text": [
      "comparisonsQty_mean"
     ]
    },
    {
     "name": "stdout",
     "output_type": "stream",
     "text": [
      "\n"
     ]
    },
    {
     "name": "stdout",
     "output_type": "stream",
     "text": [
      "comparisonsQty_min"
     ]
    },
    {
     "name": "stdout",
     "output_type": "stream",
     "text": [
      "\n"
     ]
    },
    {
     "name": "stdout",
     "output_type": "stream",
     "text": [
      "comparisonsQty_max"
     ]
    },
    {
     "name": "stdout",
     "output_type": "stream",
     "text": [
      "\n"
     ]
    },
    {
     "name": "stdout",
     "output_type": "stream",
     "text": [
      "comparisonsQty_std"
     ]
    },
    {
     "name": "stdout",
     "output_type": "stream",
     "text": [
      "\n"
     ]
    },
    {
     "name": "stdout",
     "output_type": "stream",
     "text": [
      "tryCatchQty_mean"
     ]
    },
    {
     "name": "stdout",
     "output_type": "stream",
     "text": [
      "\n"
     ]
    },
    {
     "name": "stdout",
     "output_type": "stream",
     "text": [
      "tryCatchQty_min"
     ]
    },
    {
     "name": "stdout",
     "output_type": "stream",
     "text": [
      "\n"
     ]
    },
    {
     "name": "stdout",
     "output_type": "stream",
     "text": [
      "tryCatchQty_max"
     ]
    },
    {
     "name": "stdout",
     "output_type": "stream",
     "text": [
      "\n"
     ]
    },
    {
     "name": "stdout",
     "output_type": "stream",
     "text": [
      "tryCatchQty_std"
     ]
    },
    {
     "name": "stdout",
     "output_type": "stream",
     "text": [
      "\n"
     ]
    },
    {
     "name": "stdout",
     "output_type": "stream",
     "text": [
      "parenthesizedExpsQty_mean"
     ]
    },
    {
     "name": "stdout",
     "output_type": "stream",
     "text": [
      "\n"
     ]
    },
    {
     "name": "stdout",
     "output_type": "stream",
     "text": [
      "parenthesizedExpsQty_min"
     ]
    },
    {
     "name": "stdout",
     "output_type": "stream",
     "text": [
      "\n"
     ]
    },
    {
     "name": "stdout",
     "output_type": "stream",
     "text": [
      "parenthesizedExpsQty_max"
     ]
    },
    {
     "name": "stdout",
     "output_type": "stream",
     "text": [
      "\n"
     ]
    },
    {
     "name": "stdout",
     "output_type": "stream",
     "text": [
      "parenthesizedExpsQty_std"
     ]
    },
    {
     "name": "stdout",
     "output_type": "stream",
     "text": [
      "\n"
     ]
    },
    {
     "name": "stdout",
     "output_type": "stream",
     "text": [
      "stringLiteralsQty_mean"
     ]
    },
    {
     "name": "stdout",
     "output_type": "stream",
     "text": [
      "\n"
     ]
    },
    {
     "name": "stdout",
     "output_type": "stream",
     "text": [
      "stringLiteralsQty_min"
     ]
    },
    {
     "name": "stdout",
     "output_type": "stream",
     "text": [
      "\n"
     ]
    },
    {
     "name": "stdout",
     "output_type": "stream",
     "text": [
      "stringLiteralsQty_max"
     ]
    },
    {
     "name": "stdout",
     "output_type": "stream",
     "text": [
      "\n"
     ]
    },
    {
     "name": "stdout",
     "output_type": "stream",
     "text": [
      "stringLiteralsQty_std"
     ]
    },
    {
     "name": "stdout",
     "output_type": "stream",
     "text": [
      "\n"
     ]
    },
    {
     "name": "stdout",
     "output_type": "stream",
     "text": [
      "numbersQty_mean"
     ]
    },
    {
     "name": "stdout",
     "output_type": "stream",
     "text": [
      "\n"
     ]
    },
    {
     "name": "stdout",
     "output_type": "stream",
     "text": [
      "numbersQty_min"
     ]
    },
    {
     "name": "stdout",
     "output_type": "stream",
     "text": [
      "\n"
     ]
    },
    {
     "name": "stdout",
     "output_type": "stream",
     "text": [
      "numbersQty_max"
     ]
    },
    {
     "name": "stdout",
     "output_type": "stream",
     "text": [
      "\n"
     ]
    },
    {
     "name": "stdout",
     "output_type": "stream",
     "text": [
      "numbersQty_std"
     ]
    },
    {
     "name": "stdout",
     "output_type": "stream",
     "text": [
      "\n"
     ]
    },
    {
     "name": "stdout",
     "output_type": "stream",
     "text": [
      "assignmentsQty_mean"
     ]
    },
    {
     "name": "stdout",
     "output_type": "stream",
     "text": [
      "\n"
     ]
    },
    {
     "name": "stdout",
     "output_type": "stream",
     "text": [
      "assignmentsQty_min"
     ]
    },
    {
     "name": "stdout",
     "output_type": "stream",
     "text": [
      "\n"
     ]
    },
    {
     "name": "stdout",
     "output_type": "stream",
     "text": [
      "assignmentsQty_max"
     ]
    },
    {
     "name": "stdout",
     "output_type": "stream",
     "text": [
      "\n"
     ]
    },
    {
     "name": "stdout",
     "output_type": "stream",
     "text": [
      "assignmentsQty_std"
     ]
    },
    {
     "name": "stdout",
     "output_type": "stream",
     "text": [
      "\n"
     ]
    },
    {
     "name": "stdout",
     "output_type": "stream",
     "text": [
      "mathOperationsQty_mean"
     ]
    },
    {
     "name": "stdout",
     "output_type": "stream",
     "text": [
      "\n"
     ]
    },
    {
     "name": "stdout",
     "output_type": "stream",
     "text": [
      "mathOperationsQty_min"
     ]
    },
    {
     "name": "stdout",
     "output_type": "stream",
     "text": [
      "\n"
     ]
    },
    {
     "name": "stdout",
     "output_type": "stream",
     "text": [
      "mathOperationsQty_max"
     ]
    },
    {
     "name": "stdout",
     "output_type": "stream",
     "text": [
      "\n"
     ]
    },
    {
     "name": "stdout",
     "output_type": "stream",
     "text": [
      "mathOperationsQty_std"
     ]
    },
    {
     "name": "stdout",
     "output_type": "stream",
     "text": [
      "\n"
     ]
    },
    {
     "name": "stdout",
     "output_type": "stream",
     "text": [
      "variablesQty_mean"
     ]
    },
    {
     "name": "stdout",
     "output_type": "stream",
     "text": [
      "\n"
     ]
    },
    {
     "name": "stdout",
     "output_type": "stream",
     "text": [
      "variablesQty_min"
     ]
    },
    {
     "name": "stdout",
     "output_type": "stream",
     "text": [
      "\n"
     ]
    },
    {
     "name": "stdout",
     "output_type": "stream",
     "text": [
      "variablesQty_max"
     ]
    },
    {
     "name": "stdout",
     "output_type": "stream",
     "text": [
      "\n"
     ]
    },
    {
     "name": "stdout",
     "output_type": "stream",
     "text": [
      "variablesQty_std"
     ]
    },
    {
     "name": "stdout",
     "output_type": "stream",
     "text": [
      "\n"
     ]
    },
    {
     "name": "stdout",
     "output_type": "stream",
     "text": [
      "maxNestedBlocks_mean"
     ]
    },
    {
     "name": "stdout",
     "output_type": "stream",
     "text": [
      "\n"
     ]
    },
    {
     "name": "stdout",
     "output_type": "stream",
     "text": [
      "maxNestedBlocks_min"
     ]
    },
    {
     "name": "stdout",
     "output_type": "stream",
     "text": [
      "\n"
     ]
    },
    {
     "name": "stdout",
     "output_type": "stream",
     "text": [
      "maxNestedBlocks_max"
     ]
    },
    {
     "name": "stdout",
     "output_type": "stream",
     "text": [
      "\n"
     ]
    },
    {
     "name": "stdout",
     "output_type": "stream",
     "text": [
      "maxNestedBlocks_std"
     ]
    },
    {
     "name": "stdout",
     "output_type": "stream",
     "text": [
      "\n"
     ]
    },
    {
     "name": "stdout",
     "output_type": "stream",
     "text": [
      "anonymousClassesQty_mean"
     ]
    },
    {
     "name": "stdout",
     "output_type": "stream",
     "text": [
      "\n"
     ]
    },
    {
     "name": "stdout",
     "output_type": "stream",
     "text": [
      "anonymousClassesQty_min"
     ]
    },
    {
     "name": "stdout",
     "output_type": "stream",
     "text": [
      "\n"
     ]
    },
    {
     "name": "stdout",
     "output_type": "stream",
     "text": [
      "anonymousClassesQty_max"
     ]
    },
    {
     "name": "stdout",
     "output_type": "stream",
     "text": [
      "\n"
     ]
    },
    {
     "name": "stdout",
     "output_type": "stream",
     "text": [
      "anonymousClassesQty_std"
     ]
    },
    {
     "name": "stdout",
     "output_type": "stream",
     "text": [
      "\n"
     ]
    },
    {
     "name": "stdout",
     "output_type": "stream",
     "text": [
      "subClassesQty_mean"
     ]
    },
    {
     "name": "stdout",
     "output_type": "stream",
     "text": [
      "\n"
     ]
    },
    {
     "name": "stdout",
     "output_type": "stream",
     "text": [
      "subClassesQty_min"
     ]
    },
    {
     "name": "stdout",
     "output_type": "stream",
     "text": [
      "\n"
     ]
    },
    {
     "name": "stdout",
     "output_type": "stream",
     "text": [
      "subClassesQty_max"
     ]
    },
    {
     "name": "stdout",
     "output_type": "stream",
     "text": [
      "\n"
     ]
    },
    {
     "name": "stdout",
     "output_type": "stream",
     "text": [
      "subClassesQty_std"
     ]
    },
    {
     "name": "stdout",
     "output_type": "stream",
     "text": [
      "\n"
     ]
    },
    {
     "name": "stdout",
     "output_type": "stream",
     "text": [
      "lambdasQty_mean"
     ]
    },
    {
     "name": "stdout",
     "output_type": "stream",
     "text": [
      "\n"
     ]
    },
    {
     "name": "stdout",
     "output_type": "stream",
     "text": [
      "lambdasQty_min"
     ]
    },
    {
     "name": "stdout",
     "output_type": "stream",
     "text": [
      "\n"
     ]
    },
    {
     "name": "stdout",
     "output_type": "stream",
     "text": [
      "lambdasQty_max"
     ]
    },
    {
     "name": "stdout",
     "output_type": "stream",
     "text": [
      "\n"
     ]
    },
    {
     "name": "stdout",
     "output_type": "stream",
     "text": [
      "lambdasQty_std"
     ]
    },
    {
     "name": "stdout",
     "output_type": "stream",
     "text": [
      "\n"
     ]
    },
    {
     "name": "stdout",
     "output_type": "stream",
     "text": [
      "uniqueWordsQty_mean"
     ]
    },
    {
     "name": "stdout",
     "output_type": "stream",
     "text": [
      "\n"
     ]
    },
    {
     "name": "stdout",
     "output_type": "stream",
     "text": [
      "uniqueWordsQty_min"
     ]
    },
    {
     "name": "stdout",
     "output_type": "stream",
     "text": [
      "\n"
     ]
    },
    {
     "name": "stdout",
     "output_type": "stream",
     "text": [
      "uniqueWordsQty_max"
     ]
    },
    {
     "name": "stdout",
     "output_type": "stream",
     "text": [
      "\n"
     ]
    },
    {
     "name": "stdout",
     "output_type": "stream",
     "text": [
      "uniqueWordsQty_std"
     ]
    },
    {
     "name": "stdout",
     "output_type": "stream",
     "text": [
      "\n"
     ]
    },
    {
     "name": "stdout",
     "output_type": "stream",
     "text": [
      "modifiers_mean"
     ]
    },
    {
     "name": "stdout",
     "output_type": "stream",
     "text": [
      "\n"
     ]
    },
    {
     "name": "stdout",
     "output_type": "stream",
     "text": [
      "modifiers_min"
     ]
    },
    {
     "name": "stdout",
     "output_type": "stream",
     "text": [
      "\n"
     ]
    },
    {
     "name": "stdout",
     "output_type": "stream",
     "text": [
      "modifiers_max"
     ]
    },
    {
     "name": "stdout",
     "output_type": "stream",
     "text": [
      "\n"
     ]
    },
    {
     "name": "stdout",
     "output_type": "stream",
     "text": [
      "modifiers_std"
     ]
    },
    {
     "name": "stdout",
     "output_type": "stream",
     "text": [
      "\n"
     ]
    },
    {
     "name": "stdout",
     "output_type": "stream",
     "text": [
      "num_dependency_mean"
     ]
    },
    {
     "name": "stdout",
     "output_type": "stream",
     "text": [
      "\n"
     ]
    },
    {
     "name": "stdout",
     "output_type": "stream",
     "text": [
      "num_dependency_min"
     ]
    },
    {
     "name": "stdout",
     "output_type": "stream",
     "text": [
      "\n"
     ]
    },
    {
     "name": "stdout",
     "output_type": "stream",
     "text": [
      "num_dependency_max"
     ]
    },
    {
     "name": "stdout",
     "output_type": "stream",
     "text": [
      "\n"
     ]
    },
    {
     "name": "stdout",
     "output_type": "stream",
     "text": [
      "num_dependency_std"
     ]
    },
    {
     "name": "stdout",
     "output_type": "stream",
     "text": [
      "\n"
     ]
    },
    {
     "name": "stdout",
     "output_type": "stream",
     "text": [
      "num_line_affected_mean"
     ]
    },
    {
     "name": "stdout",
     "output_type": "stream",
     "text": [
      "\n"
     ]
    },
    {
     "name": "stdout",
     "output_type": "stream",
     "text": [
      "num_line_affected_min"
     ]
    },
    {
     "name": "stdout",
     "output_type": "stream",
     "text": [
      "\n"
     ]
    },
    {
     "name": "stdout",
     "output_type": "stream",
     "text": [
      "num_line_affected_max"
     ]
    },
    {
     "name": "stdout",
     "output_type": "stream",
     "text": [
      "\n"
     ]
    },
    {
     "name": "stdout",
     "output_type": "stream",
     "text": [
      "num_line_affected_std"
     ]
    },
    {
     "name": "stdout",
     "output_type": "stream",
     "text": [
      "\n"
     ]
    },
    {
     "name": "stdout",
     "output_type": "stream",
     "text": [
      "actual_num_of_classes_touched_mean"
     ]
    },
    {
     "name": "stdout",
     "output_type": "stream",
     "text": [
      "\n"
     ]
    },
    {
     "name": "stdout",
     "output_type": "stream",
     "text": [
      "actual_num_of_classes_touched_min"
     ]
    },
    {
     "name": "stdout",
     "output_type": "stream",
     "text": [
      "\n"
     ]
    },
    {
     "name": "stdout",
     "output_type": "stream",
     "text": [
      "actual_num_of_classes_touched_max"
     ]
    },
    {
     "name": "stdout",
     "output_type": "stream",
     "text": [
      "\n"
     ]
    },
    {
     "name": "stdout",
     "output_type": "stream",
     "text": [
      "actual_num_of_classes_touched_std"
     ]
    },
    {
     "name": "stdout",
     "output_type": "stream",
     "text": [
      "\n"
     ]
    },
    {
     "name": "stdout",
     "output_type": "stream",
     "text": [
      "commit_line_changed"
     ]
    },
    {
     "name": "stdout",
     "output_type": "stream",
     "text": [
      "\n"
     ]
    },
    {
     "name": "stdout",
     "output_type": "stream",
     "text": [
      "refactoring_perc"
     ]
    },
    {
     "name": "stdout",
     "output_type": "stream",
     "text": [
      "\n"
     ]
    },
    {
     "name": "stdout",
     "output_type": "stream",
     "text": [
      "refactoring_perc_time_taken"
     ]
    },
    {
     "name": "stdout",
     "output_type": "stream",
     "text": [
      "\n"
     ]
    },
    {
     "name": "stdout",
     "output_type": "stream",
     "text": [
      "cocomoII_time_taken"
     ]
    },
    {
     "name": "stdout",
     "output_type": "stream",
     "text": [
      "\n"
     ]
    }
   ],
   "source": [
    "for column in okhttp_commits_df.columns:\n",
    "    print(column)"
   ]
  },
  {
   "cell_type": "code",
   "execution_count": 26,
   "id": "b4e12004",
   "metadata": {
    "execution": {
     "iopub.execute_input": "2022-01-14T02:44:15.070781Z",
     "iopub.status.busy": "2022-01-14T02:44:15.069780Z",
     "iopub.status.idle": "2022-01-14T02:44:15.082618Z",
     "shell.execute_reply": "2022-01-14T02:44:15.081617Z"
    },
    "papermill": {
     "duration": 0.11085,
     "end_time": "2022-01-14T02:44:15.082618",
     "exception": false,
     "start_time": "2022-01-14T02:44:14.971768",
     "status": "completed"
    },
    "tags": []
   },
   "outputs": [],
   "source": [
    "okhttp_commits_df.to_csv(f'Effort_Estimation_Results_3E/{project_name}.csv', index=False)"
   ]
  },
  {
   "cell_type": "code",
   "execution_count": null,
   "id": "16d2c5d9",
   "metadata": {
    "papermill": {
     "duration": 0.086918,
     "end_time": "2022-01-14T02:44:15.254535",
     "exception": false,
     "start_time": "2022-01-14T02:44:15.167617",
     "status": "completed"
    },
    "tags": []
   },
   "outputs": [],
   "source": []
  },
  {
   "cell_type": "code",
   "execution_count": null,
   "id": "37364667",
   "metadata": {
    "papermill": {
     "duration": 0.087998,
     "end_time": "2022-01-14T02:44:15.429488",
     "exception": false,
     "start_time": "2022-01-14T02:44:15.341490",
     "status": "completed"
    },
    "tags": []
   },
   "outputs": [],
   "source": []
  }
 ],
 "metadata": {
  "celltoolbar": "Tags",
  "kernelspec": {
   "display_name": "Python 3",
   "language": "python",
   "name": "python3"
  },
  "language_info": {
   "codemirror_mode": {
    "name": "ipython",
    "version": 3
   },
   "file_extension": ".py",
   "mimetype": "text/x-python",
   "name": "python",
   "nbconvert_exporter": "python",
   "pygments_lexer": "ipython3",
   "version": "3.7.3"
  },
  "papermill": {
   "default_parameters": {},
   "duration": 7.963762,
   "end_time": "2022-01-14T02:44:15.843149",
   "environment_variables": {},
   "exception": null,
   "input_path": "Effort Estimation_3E_Server.ipynb",
   "output_path": "Automation_Output.ipynb",
   "parameters": {
    "project_name": "karaf",
    "project_name_short": "karaf",
    "project_owner": "apache"
   },
   "start_time": "2022-01-14T02:44:07.879387",
   "version": "2.3.3"
  }
 },
 "nbformat": 4,
 "nbformat_minor": 5
}